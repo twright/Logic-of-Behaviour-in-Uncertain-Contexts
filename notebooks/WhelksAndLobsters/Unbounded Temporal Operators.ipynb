{
 "cells": [
  {
   "cell_type": "code",
   "execution_count": 11,
   "metadata": {
    "ExecuteTime": {
     "end_time": "2020-11-12T14:53:40.971704Z",
     "start_time": "2020-11-12T14:53:40.966479Z"
    }
   },
   "outputs": [],
   "source": [
    "%display latex"
   ]
  },
  {
   "cell_type": "code",
   "execution_count": 12,
   "metadata": {
    "ExecuteTime": {
     "end_time": "2020-11-12T14:53:41.376100Z",
     "start_time": "2020-11-12T14:53:41.369809Z"
    }
   },
   "outputs": [],
   "source": [
    "from lbuc import *"
   ]
  },
  {
   "cell_type": "code",
   "execution_count": 13,
   "metadata": {
    "ExecuteTime": {
     "end_time": "2020-11-12T14:53:41.816622Z",
     "start_time": "2020-11-12T14:53:41.809919Z"
    }
   },
   "outputs": [],
   "source": [
    "s = Signal(\n",
    "    RIF(0, infinity),\n",
    "    [(RIF(2, 3), True),\n",
    "     (RIF(4, 5), False)])"
   ]
  },
  {
   "cell_type": "code",
   "execution_count": 14,
   "metadata": {
    "ExecuteTime": {
     "end_time": "2020-11-12T14:53:43.250965Z",
     "start_time": "2020-11-12T14:53:43.243848Z"
    }
   },
   "outputs": [
    {
     "data": {
      "text/html": [
       "<html><script type=\"math/tex; mode=display\">\\newcommand{\\Bold}[1]{\\mathbf{#1}}\\verb|Signal([0.0000000000000000|\\phantom{\\verb!x!}\\verb|..|\\phantom{\\verb!x!}\\verb|+infinity],|\\phantom{\\verb!x!}\\verb|[([0.0000000000000000|\\phantom{\\verb!x!}\\verb|..|\\phantom{\\verb!x!}\\verb|2.0000000000000000],|\\phantom{\\verb!x!}\\verb|True)],|\\phantom{\\verb!x!}\\verb|mask=None)|</script></html>"
      ],
      "text/plain": [
       "Signal([0.0000000000000000 .. +infinity], [([0.0000000000000000 .. 2.0000000000000000], True)], mask=None)"
      ]
     },
     "execution_count": 14,
     "metadata": {},
     "output_type": "execute_result"
    }
   ],
   "source": [
    "s.F(RIF(1, infinity))"
   ]
  },
  {
   "cell_type": "code",
   "execution_count": 15,
   "metadata": {
    "ExecuteTime": {
     "end_time": "2020-11-12T14:54:17.245531Z",
     "start_time": "2020-11-12T14:54:17.237561Z"
    }
   },
   "outputs": [
    {
     "data": {
      "text/html": [
       "<html><script type=\"math/tex; mode=display\">\\newcommand{\\Bold}[1]{\\mathbf{#1}}\\verb|Signal([0.0000000000000000|\\phantom{\\verb!x!}\\verb|..|\\phantom{\\verb!x!}\\verb|+infinity],|\\phantom{\\verb!x!}\\verb|[([0.0000000000000000|\\phantom{\\verb!x!}\\verb|..|\\phantom{\\verb!x!}\\verb|4.0000000000000000],|\\phantom{\\verb!x!}\\verb|False)],|\\phantom{\\verb!x!}\\verb|mask=None)|</script></html>"
      ],
      "text/plain": [
       "Signal([0.0000000000000000 .. +infinity], [([0.0000000000000000 .. 4.0000000000000000], False)], mask=None)"
      ]
     },
     "execution_count": 15,
     "metadata": {},
     "output_type": "execute_result"
    }
   ],
   "source": [
    "~(~s).F(RIF(1, infinity))"
   ]
  },
  {
   "cell_type": "code",
   "execution_count": 16,
   "metadata": {
    "ExecuteTime": {
     "end_time": "2020-11-12T14:54:30.500182Z",
     "start_time": "2020-11-12T14:54:30.492582Z"
    }
   },
   "outputs": [],
   "source": [
    "w = Signal(\n",
    "    RIF(0, infinity),\n",
    "    [(RIF(2, 3), True),\n",
    "     (RIF(4, 5), False),\n",
    "     (RIF(6, infinity), True)])"
   ]
  },
  {
   "cell_type": "code",
   "execution_count": 17,
   "metadata": {
    "ExecuteTime": {
     "end_time": "2020-11-12T14:54:32.448705Z",
     "start_time": "2020-11-12T14:54:32.437782Z"
    }
   },
   "outputs": [
    {
     "data": {
      "text/html": [
       "<html><script type=\"math/tex; mode=display\">\\newcommand{\\Bold}[1]{\\mathbf{#1}}\\verb|Signal([0.0000000000000000|\\phantom{\\verb!x!}\\verb|..|\\phantom{\\verb!x!}\\verb|+infinity],|\\phantom{\\verb!x!}\\verb|[([0.0000000000000000|\\phantom{\\verb!x!}\\verb|..|\\phantom{\\verb!x!}\\verb|+infinity],|\\phantom{\\verb!x!}\\verb|True)],|\\phantom{\\verb!x!}\\verb|mask=None)|</script></html>"
      ],
      "text/plain": [
       "Signal([0.0000000000000000 .. +infinity], [([0.0000000000000000 .. +infinity], True)], mask=None)"
      ]
     },
     "execution_count": 17,
     "metadata": {},
     "output_type": "execute_result"
    }
   ],
   "source": [
    "w.F(RIF(1, infinity))"
   ]
  },
  {
   "cell_type": "code",
   "execution_count": 18,
   "metadata": {
    "ExecuteTime": {
     "end_time": "2020-11-12T14:54:50.341887Z",
     "start_time": "2020-11-12T14:54:50.333153Z"
    }
   },
   "outputs": [
    {
     "data": {
      "text/html": [
       "<html><script type=\"math/tex; mode=display\">\\newcommand{\\Bold}[1]{\\mathbf{#1}}\\verb|Signal([0.0000000000000000|\\phantom{\\verb!x!}\\verb|..|\\phantom{\\verb!x!}\\verb|+infinity],|\\phantom{\\verb!x!}\\verb|[([0.0000000000000000|\\phantom{\\verb!x!}\\verb|..|\\phantom{\\verb!x!}\\verb|4.0000000000000000],|\\phantom{\\verb!x!}\\verb|False),|\\phantom{\\verb!x!}\\verb|([5.0000000000000000|\\phantom{\\verb!x!}\\verb|..|\\phantom{\\verb!x!}\\verb|+infinity],|\\phantom{\\verb!x!}\\verb|True)],|\\phantom{\\verb!x!}\\verb|mask=None)|</script></html>"
      ],
      "text/plain": [
       "Signal([0.0000000000000000 .. +infinity], [([0.0000000000000000 .. 4.0000000000000000], False), ([5.0000000000000000 .. +infinity], True)], mask=None)"
      ]
     },
     "execution_count": 18,
     "metadata": {},
     "output_type": "execute_result"
    }
   ],
   "source": [
    "w.G(RIF(1, infinity))"
   ]
  },
  {
   "cell_type": "code",
   "execution_count": 19,
   "metadata": {
    "ExecuteTime": {
     "end_time": "2020-11-12T14:55:04.781658Z",
     "start_time": "2020-11-12T14:55:04.772246Z"
    }
   },
   "outputs": [
    {
     "data": {
      "text/html": [
       "<html><script type=\"math/tex; mode=display\">\\newcommand{\\Bold}[1]{\\mathbf{#1}}\\verb|Signal([0.0000000000000000|\\phantom{\\verb!x!}\\verb|..|\\phantom{\\verb!x!}\\verb|+infinity],|\\phantom{\\verb!x!}\\verb|[([3.0000000000000000|\\phantom{\\verb!x!}\\verb|..|\\phantom{\\verb!x!}\\verb|+infinity],|\\phantom{\\verb!x!}\\verb|False)],|\\phantom{\\verb!x!}\\verb|mask=None)|</script></html>"
      ],
      "text/plain": [
       "Signal([0.0000000000000000 .. +infinity], [([3.0000000000000000 .. +infinity], False)], mask=None)"
      ]
     },
     "execution_count": 19,
     "metadata": {},
     "output_type": "execute_result"
    }
   ],
   "source": [
    "Signal(\n",
    "    RIF(0, infinity),\n",
    "    [(RIF(4, infinity), False)]\n",
    ").F(RIF(1, infinity))"
   ]
  },
  {
   "cell_type": "code",
   "execution_count": 10,
   "metadata": {
    "ExecuteTime": {
     "end_time": "2020-11-11T21:47:21.098794Z",
     "start_time": "2020-11-11T21:47:21.092738Z"
    }
   },
   "outputs": [
    {
     "data": {
      "text/html": [
       "<html><script type=\"math/tex; mode=display\">\\newcommand{\\Bold}[1]{\\mathbf{#1}}\\mathrm{False}</script></html>"
      ],
      "text/plain": [
       "False"
      ]
     },
     "execution_count": 10,
     "metadata": {},
     "output_type": "execute_result"
    }
   ],
   "source": [
    "infinity in RIF(0, 10)"
   ]
  },
  {
   "cell_type": "code",
   "execution_count": null,
   "metadata": {},
   "outputs": [],
   "source": []
  }
 ],
 "metadata": {
  "kernelspec": {
   "display_name": "SageMath 9.0",
   "language": "sage",
   "name": "sagemath"
  },
  "language_info": {
   "codemirror_mode": {
    "name": "ipython",
    "version": 3
   },
   "file_extension": ".py",
   "mimetype": "text/x-python",
   "name": "python",
   "nbconvert_exporter": "python",
   "pygments_lexer": "ipython3",
   "version": "3.8.6"
  },
  "toc": {
   "base_numbering": 1,
   "nav_menu": {},
   "number_sections": true,
   "sideBar": true,
   "skip_h1_title": false,
   "title_cell": "Table of Contents",
   "title_sidebar": "Contents",
   "toc_cell": false,
   "toc_position": {},
   "toc_section_display": true,
   "toc_window_display": false
  }
 },
 "nbformat": 4,
 "nbformat_minor": 4
}
