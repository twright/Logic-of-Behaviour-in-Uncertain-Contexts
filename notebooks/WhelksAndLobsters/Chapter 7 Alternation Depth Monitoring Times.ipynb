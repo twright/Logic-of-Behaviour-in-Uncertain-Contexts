{
 "cells": [
  {
   "cell_type": "markdown",
   "metadata": {},
   "source": [
    "## Init"
   ]
  },
  {
   "cell_type": "code",
   "execution_count": 1,
   "metadata": {
    "ExecuteTime": {
     "end_time": "2020-11-17T22:01:06.283061Z",
     "start_time": "2020-11-17T22:01:05.973558Z"
    }
   },
   "outputs": [],
   "source": [
    "# %display latex\n",
    "%matplotlib inline"
   ]
  },
  {
   "cell_type": "code",
   "execution_count": 2,
   "metadata": {
    "ExecuteTime": {
     "end_time": "2020-11-17T22:01:06.935771Z",
     "start_time": "2020-11-17T22:01:06.923914Z"
    }
   },
   "outputs": [],
   "source": [
    "import sys, os, warnings\n",
    "from contextlib import contextmanager\n",
    "\n",
    "@contextmanager\n",
    "def suppress_stdout():\n",
    "    with open(os.devnull, \"w\") as devnull:\n",
    "        old_stdout = sys.stdout\n",
    "        sys.stdout = devnull\n",
    "        try:  \n",
    "            yield\n",
    "        finally:\n",
    "            sys.stdout = old_stdout\n",
    "\n",
    "\n",
    "@contextmanager\n",
    "def suppress_warnings():\n",
    "    with warnings.catch_warnings():\n",
    "        warnings.simplefilter(\"ignore\")\n",
    "        yield"
   ]
  },
  {
   "cell_type": "code",
   "execution_count": 3,
   "metadata": {
    "ExecuteTime": {
     "end_time": "2020-11-17T22:01:08.218486Z",
     "start_time": "2020-11-17T22:01:07.755167Z"
    }
   },
   "outputs": [],
   "source": [
    "from lbuc import *\n",
    "from lbuc.bondcalculus import *"
   ]
  },
  {
   "cell_type": "code",
   "execution_count": 4,
   "metadata": {
    "ExecuteTime": {
     "end_time": "2020-11-17T22:01:08.789496Z",
     "start_time": "2020-11-17T22:01:08.785510Z"
    }
   },
   "outputs": [],
   "source": [
    "import matplotlib"
   ]
  },
  {
   "cell_type": "code",
   "execution_count": 5,
   "metadata": {
    "ExecuteTime": {
     "end_time": "2020-11-17T22:01:11.102424Z",
     "start_time": "2020-11-17T22:01:11.091027Z"
    }
   },
   "outputs": [],
   "source": [
    "matplotlib.use(\"pgf\")\n",
    "matplotlib.rcParams.update({\n",
    "    \"pgf.texsystem\": \"pdflatex\",\n",
    "    'font.family': 'sans',\n",
    "    'text.usetex': True,\n",
    "    'pgf.rcfonts': False,\n",
    "    \"axes.labelsize\": 8,\n",
    "    \"font.size\": 8,\n",
    "})\n",
    "textwidth = 6.26894"
   ]
  },
  {
   "cell_type": "markdown",
   "metadata": {},
   "source": [
    "## Model"
   ]
  },
  {
   "cell_type": "code",
   "execution_count": 6,
   "metadata": {
    "ExecuteTime": {
     "end_time": "2020-11-17T22:01:17.742535Z",
     "start_time": "2020-11-17T22:01:17.585074Z"
    }
   },
   "outputs": [
    {
     "name": "stdout",
     "output_type": "stream",
     "text": [
      "Running cmd: 'load \"WhelksAndLobsters.bond\"' ...\n"
     ]
    }
   ],
   "source": [
    "m = BondModel(\"WhelksAndLobsters.bond\")"
   ]
  },
  {
   "cell_type": "code",
   "execution_count": 7,
   "metadata": {
    "ExecuteTime": {
     "end_time": "2020-11-17T22:01:18.235778Z",
     "start_time": "2020-11-17T22:01:18.231634Z"
    }
   },
   "outputs": [],
   "source": [
    "p = m.process(\"[1, 1.2] Whelk || [4, 6] Lobster with network N(0.8, 0.6, 0.3, 0.05, 2)\")"
   ]
  },
  {
   "cell_type": "code",
   "execution_count": 8,
   "metadata": {
    "ExecuteTime": {
     "end_time": "2020-11-17T22:01:20.223308Z",
     "start_time": "2020-11-17T22:01:18.768857Z"
    }
   },
   "outputs": [
    {
     "name": "stdout",
     "output_type": "stream",
     "text": [
      "Running cmd: 'savesage \"[1, 1.2] Whelk || [4, 6] Lobster with network N(0.8, 0.6, 0.3, 0.05, 2)\" \"/tmp/bond-sage-script-3p8ii69p.py\"' ...\n"
     ]
    }
   ],
   "source": [
    "s = p.as_system"
   ]
  },
  {
   "cell_type": "code",
   "execution_count": 9,
   "metadata": {
    "ExecuteTime": {
     "end_time": "2020-11-17T22:01:20.227651Z",
     "start_time": "2020-11-17T22:01:20.224939Z"
    }
   },
   "outputs": [],
   "source": [
    "u = (x, y) = reversed(s.x)"
   ]
  },
  {
   "cell_type": "code",
   "execution_count": 10,
   "metadata": {
    "ExecuteTime": {
     "end_time": "2020-11-17T22:01:20.283891Z",
     "start_time": "2020-11-17T22:01:20.230390Z"
    }
   },
   "outputs": [
    {
     "data": {
      "text/plain": [
       "(0.3000000000000000?*x0*x1^2 - 0.2400000000000000?*x0*x1 - 0.600000000000000?*x1^2 + 0.600000000000000?*x1, -2*x0*x1^2 - 0.05000000000000000?*x0^2 + 1.600000000000000?*x0*x1 - 0.05000000000000000?*x0)"
      ]
     },
     "execution_count": 10,
     "metadata": {},
     "output_type": "execute_result"
    }
   ],
   "source": [
    "vf = vector(reversed(s.y)); vf"
   ]
  },
  {
   "cell_type": "code",
   "execution_count": 12,
   "metadata": {
    "ExecuteTime": {
     "end_time": "2020-11-17T22:01:21.201565Z",
     "start_time": "2020-11-17T22:01:21.193283Z"
    }
   },
   "outputs": [],
   "source": [
    "v2 = [RIF(1,1.2), RIF(4,6)]\n",
    "v3 = v2 # [RIF(1,1.1), RIF(4,5)]\n",
    "v4 = [RIF(0.2, 0.4), RIF(7, 8)]\n",
    "v5 = [RIF(0.4, 1.0), RIF(6, 7)]\n",
    "v6 = [RIF(0.2, 0.6), RIF(2, 3)]"
   ]
  },
  {
   "cell_type": "markdown",
   "metadata": {},
   "source": [
    "## Double start jump"
   ]
  },
  {
   "cell_type": "code",
   "execution_count": 14,
   "metadata": {
    "ExecuteTime": {
     "end_time": "2020-11-17T22:01:26.342048Z",
     "start_time": "2020-11-17T22:01:26.254670Z"
    }
   },
   "outputs": [],
   "source": [
    "P = Atomic((var(\"Whelk\") - 1)^2 + var(\"Lobster\")^2 < 0.2)"
   ]
  },
  {
   "cell_type": "code",
   "execution_count": 15,
   "metadata": {
    "ExecuteTime": {
     "end_time": "2020-11-17T22:01:26.684042Z",
     "start_time": "2020-11-17T22:01:26.679558Z"
    }
   },
   "outputs": [],
   "source": [
    "Qbox = [RIF(0, 0.3), RIF(1.75, 3.5)]"
   ]
  },
  {
   "cell_type": "code",
   "execution_count": 16,
   "metadata": {
    "ExecuteTime": {
     "end_time": "2020-11-17T22:01:27.100635Z",
     "start_time": "2020-11-17T22:01:27.093350Z"
    }
   },
   "outputs": [],
   "source": [
    "Q = (  Atomic(var(\"Whelk\") < Qbox[0].upper())\n",
    "     & Atomic(var(\"Whelk\") > Qbox[0].lower())\n",
    "     & Atomic(var(\"Lobster\") < Qbox[1].upper())\n",
    "     & Atomic(var(\"Lobster\") > Qbox[1].lower()) )"
   ]
  },
  {
   "cell_type": "markdown",
   "metadata": {},
   "source": [
    "## First prop"
   ]
  },
  {
   "cell_type": "code",
   "execution_count": 19,
   "metadata": {
    "ExecuteTime": {
     "end_time": "2020-11-17T22:01:42.256874Z",
     "start_time": "2020-11-17T22:01:42.074412Z"
    }
   },
   "outputs": [
    {
     "name": "stdout",
     "output_type": "stream",
     "text": [
      "Running cmd: 'savesage \"[0.2, 0.4] Whelk || [7, 8] Lobster with network N(0.8, 0.6, 0.3, 0.05, 2)\" \"/tmp/bond-sage-script-b7fu0gqf.py\"' ...\n"
     ]
    }
   ],
   "source": [
    "s1 = m.process(\"[0.2, 0.4] Whelk || [7, 8] Lobster with network N(0.8, 0.6, 0.3, 0.05, 2)\").as_system"
   ]
  },
  {
   "cell_type": "code",
   "execution_count": 20,
   "metadata": {
    "ExecuteTime": {
     "end_time": "2020-11-17T22:01:43.043059Z",
     "start_time": "2020-11-17T22:01:42.856678Z"
    }
   },
   "outputs": [
    {
     "name": "stdout",
     "output_type": "stream",
     "text": [
      "Running cmd: 'savesage \"[1, 1.2] Whelk || [4, 6] Lobster with network N(0.8, 0.6, 0.3, 0.05, 2)\" \"/tmp/bond-sage-script-iooddp02.py\"' ...\n"
     ]
    }
   ],
   "source": [
    "s2 = m.process(\"[1, 1.2] Whelk || [4, 6] Lobster with network N(0.8, 0.6, 0.3, 0.05, 2)\").as_system"
   ]
  },
  {
   "cell_type": "code",
   "execution_count": 22,
   "metadata": {
    "ExecuteTime": {
     "end_time": "2020-11-17T22:01:59.014303Z",
     "start_time": "2020-11-17T22:01:59.008844Z"
    }
   },
   "outputs": [],
   "source": [
    "kwargs = dict(step=(0.01, 0.1), order=6, estimation=1e-4, cutoff_threshold=1e-15, integration_method=2, symbolic_composition=True)"
   ]
  },
  {
   "cell_type": "code",
   "execution_count": 25,
   "metadata": {
    "ExecuteTime": {
     "end_time": "2020-11-17T22:02:32.895863Z",
     "start_time": "2020-11-17T22:02:32.891526Z"
    }
   },
   "outputs": [],
   "source": [
    "def S(k):\n",
    "    return Atomic(var(\"Whelk\") >= (1/8)*var(\"Lobster\") + k)"
   ]
  },
  {
   "cell_type": "code",
   "execution_count": 26,
   "metadata": {
    "ExecuteTime": {
     "end_time": "2020-11-17T22:02:36.069931Z",
     "start_time": "2020-11-17T22:02:32.898691Z"
    }
   },
   "outputs": [
    {
     "name": "stdout",
     "output_type": "stream",
     "text": [
      "Computed 113 flowpipes in 1.4069570360152284 sec\n"
     ]
    },
    {
     "data": {
      "image/png": "[encoded data removed]",
      "text/plain": [
       "Graphics object consisting of 2 graphics primitives"
      ]
     },
     "execution_count": 26,
     "metadata": {},
     "output_type": "execute_result"
    }
   ],
   "source": [
    "S(1).signal_for_system(s2, 5, **kwargs).plot()"
   ]
  },
  {
   "cell_type": "code",
   "execution_count": 27,
   "metadata": {
    "ExecuteTime": {
     "end_time": "2020-11-17T22:02:38.391643Z",
     "start_time": "2020-11-17T22:02:36.072363Z"
    }
   },
   "outputs": [
    {
     "name": "stdout",
     "output_type": "stream",
     "text": [
      "Computed 113 flowpipes in 1.384203982015606 sec\n"
     ]
    },
    {
     "name": "stderr",
     "output_type": "stream",
     "text": [
      "/usr/lib64/python3.8/site-packages/sage/plot/contour_plot.py:203: UserWarning: No contour levels were found within the data range.\n",
      "  CS = subplot.contour(self.xy_data_array, contours, cmap=cmap,\n"
     ]
    },
    {
     "data": {
      "image/png": "[encoded data removed]",
      "text/plain": [
       "Graphics object consisting of 2 graphics primitives"
      ]
     },
     "execution_count": 27,
     "metadata": {},
     "output_type": "execute_result"
    }
   ],
   "source": [
    "S(0.6).signal_for_system(s2, 5, **kwargs).plot()"
   ]
  },
  {
   "cell_type": "code",
   "execution_count": 28,
   "metadata": {
    "ExecuteTime": {
     "end_time": "2020-11-17T22:02:40.057048Z",
     "start_time": "2020-11-17T22:02:38.395107Z"
    }
   },
   "outputs": [
    {
     "name": "stdout",
     "output_type": "stream",
     "text": [
      "Computed 113 flowpipes in 1.3065577640227275 sec\n"
     ]
    },
    {
     "name": "stderr",
     "output_type": "stream",
     "text": [
      "/usr/lib64/python3.8/site-packages/sage/plot/contour_plot.py:203: UserWarning: No contour levels were found within the data range.\n",
      "  CS = subplot.contour(self.xy_data_array, contours, cmap=cmap,\n"
     ]
    },
    {
     "data": {
      "image/png": "[encoded data removed]",
      "text/plain": [
       "Graphics object consisting of 2 graphics primitives"
      ]
     },
     "execution_count": 28,
     "metadata": {},
     "output_type": "execute_result"
    }
   ],
   "source": [
    "S(1.6).signal_for_system(s2, 5, **kwargs).plot()"
   ]
  },
  {
   "cell_type": "code",
   "execution_count": null,
   "metadata": {
    "ExecuteTime": {
     "end_time": "2020-11-17T22:03:04.137773Z",
     "start_time": "2020-11-17T22:02:40.061043Z"
    }
   },
   "outputs": [],
   "source": [
    "sigs = []\n",
    "for k in srange(0.9, 1.6, 0.1, include_endpoint=True):\n",
    "    with suppress_stdout():\n",
    "        sigs.append(G(1, S(k)).signal_for_system(s2, 5, **kwargs))\n",
    "graphics_array([[sig.plot()] for sig in sigs])"
   ]
  },
  {
   "cell_type": "code",
   "execution_count": null,
   "metadata": {
    "ExecuteTime": {
     "end_time": "2020-11-17T22:03:27.599334Z",
     "start_time": "2020-11-17T22:03:04.142255Z"
    }
   },
   "outputs": [],
   "source": [
    "sigs = []\n",
    "for k in srange(0.9, 1.6, 0.1, include_endpoint=True):\n",
    "    with suppress_stdout():\n",
    "        sigs.append(G(1, S(k)).signal_for_system(s2, 5, **kwargs).to_mask_and())\n",
    "graphics_array([[sig.plot()] for sig in sigs])"
   ]
  },
  {
   "cell_type": "code",
   "execution_count": null,
   "metadata": {
    "ExecuteTime": {
     "end_time": "2020-11-17T22:03:29.193842Z",
     "start_time": "2020-11-17T22:03:27.603314Z"
    }
   },
   "outputs": [],
   "source": [
    "S(0.4).signal_for_system(s2, 5, **kwargs)"
   ]
  },
  {
   "cell_type": "code",
   "execution_count": null,
   "metadata": {
    "ExecuteTime": {
     "end_time": "2020-11-17T22:03:30.909357Z",
     "start_time": "2020-11-17T22:03:29.196708Z"
    }
   },
   "outputs": [],
   "source": [
    "S(3).signal_for_system(s2, 5, **kwargs).plot()"
   ]
  },
  {
   "cell_type": "markdown",
   "metadata": {},
   "source": [
    "## Performance experiments"
   ]
  },
  {
   "cell_type": "code",
   "execution_count": null,
   "metadata": {
    "ExecuteTime": {
     "end_time": "2020-11-17T22:03:30.915114Z",
     "start_time": "2020-11-17T22:03:30.910939Z"
    }
   },
   "outputs": [],
   "source": [
    "from time import perf_counter"
   ]
  },
  {
   "cell_type": "code",
   "execution_count": null,
   "metadata": {
    "ExecuteTime": {
     "end_time": "2020-11-17T22:03:30.959298Z",
     "start_time": "2020-11-17T22:03:30.918314Z"
    }
   },
   "outputs": [],
   "source": [
    "def monitoring_result(system, prop, duration=0, **kwargs):\n",
    "    print(f\"monitoring {prop} with use_masks = {kwargs.get('use_masks', False)} ...\")\n",
    "    t0 = perf_counter()\n",
    "    sig = prop.signal_for_system(system, duration, **kwargs)\n",
    "    t1 = perf_counter()\n",
    "    print(f\"done in {t1 - t0} sec\")\n",
    "    return sig, t1 - t0"
   ]
  },
  {
   "cell_type": "code",
   "execution_count": null,
   "metadata": {
    "ExecuteTime": {
     "end_time": "2020-11-17T22:03:31.434769Z",
     "start_time": "2020-11-17T22:03:30.962657Z"
    }
   },
   "outputs": [],
   "source": [
    "import pandas as pd"
   ]
  },
  {
   "cell_type": "code",
   "execution_count": null,
   "metadata": {
    "ExecuteTime": {
     "end_time": "2020-11-17T22:03:31.440708Z",
     "start_time": "2020-11-17T22:03:31.436451Z"
    }
   },
   "outputs": [],
   "source": [
    "import matplotlib.pyplot as plt"
   ]
  },
  {
   "cell_type": "code",
   "execution_count": null,
   "metadata": {
    "ExecuteTime": {
     "end_time": "2020-11-18T10:41:35.109079Z",
     "start_time": "2020-11-18T10:41:35.091855Z"
    }
   },
   "outputs": [],
   "source": [
    "import tikzplotlib"
   ]
  },
  {
   "cell_type": "markdown",
   "metadata": {},
   "source": [
    "### Iterated Masking"
   ]
  },
  {
   "cell_type": "code",
   "execution_count": null,
   "metadata": {
    "ExecuteTime": {
     "end_time": "2020-11-17T17:57:49.565830Z",
     "start_time": "2020-11-17T17:57:49.551777Z"
    }
   },
   "outputs": [],
   "source": [
    "props = [\n",
    "    \"[0.05, 0.1] Whelk\" >> G(RIF(0,0.2), ~P),\n",
    "    G(RIF(10.2, 10.3), (\"[0.05,0.1] Whelk\" >> F(RIF(0,0.2), ~P))),\n",
    "    F(RIF(5, 5.1),\n",
    "         \"[1, 1.5] Lobster\" >>\n",
    "         G(RIF(10.2, 10.3),\n",
    "           \"[0.05, 0.1] Whelk\" >>\n",
    "            F(RIF(0,0.2), ~P))),\n",
    "    G(RIF(2, 2.5),\n",
    "         \"[0.1, 0.2] Whelk\" >>\n",
    "         F(RIF(5, 5.1),\n",
    "           \"[1, 1.5] Lobster\" >>\n",
    "           G(RIF(10.2, 10.3),\n",
    "             \"[0.05, 0.1] Whelk\" >>\n",
    "             F(RIF(0,0.2), ~P))))\n",
    "]"
   ]
  },
  {
   "cell_type": "code",
   "execution_count": null,
   "metadata": {
    "ExecuteTime": {
     "end_time": "2020-11-17T22:03:31.502197Z",
     "start_time": "2020-11-17T22:03:31.443534Z"
    }
   },
   "outputs": [],
   "source": [
    "props = [\n",
    "    F(RIF(0, 5), P),\n",
    "    G(RIF('[5,5.1]'), \"[1, 1.5] Lobster\" >> F(RIF(0, 5), P)),\n",
    "    G(RIF('[5, 5.1]'), \"[0.5, 0.6] Whelk\" >> G(RIF('[5,5.1]'), \"[1, 1.5] Lobster\" >> F(RIF(0, 5), P))),\n",
    "    G(RIF('[5, 5.1]'), \"[1, 1.5] Lobster\" >> G(RIF('[5, 5.1]'), \"[0.5, 0.6] Whelk\" >> G(RIF('[5,5.1]'), \"[1, 1.5] Lobster\" >> F(RIF(0, 5), P)))),\n",
    "    G(RIF('[5,5.1]'), \"[0.5, 0.6] Whelk\" >> G(RIF('[5, 5.1]'), \"[1, 1.5] Lobster\" >> G(RIF('[5, 5.1]'), \"[0.5, 0.6] Whelk\" >> G(RIF('[5,5.1]'), \"[1, 1.5] Lobster\" >> F(RIF(0, 5), P))))),\n",
    "    G(RIF('[5, 5.1]'), \"[1, 1.5] Lobster\" >> G(RIF('[5,5.1]'), \"[0.5, 0.6] Whelk\" >> G(RIF('[5, 5.1]'), \"[1, 1.5] Lobster\" >> G(RIF('[5, 5.1]'), \"[0.5, 0.6] Whelk\" >> G(RIF('[5,5.1]'), \"[1, 1.5] Lobster\" >> F(RIF(0, 5), P)))))),\n",
    "#    G(RIF('[5,5.1]'), \"[0.5, 0.6] Whelk\" >> G(RIF('[5, 5.1]'), \"[1, 1.5] Lobster\" >> G(RIF('[5,5.1]'), \"[0.5, 0.6] Whelk\" >> G(RIF('[5, 5.1]'), \"[1, 1.5] Lobster\" >> G(RIF('[5, 5.1]'), \"[0.5, 0.6] Whelk\" >> G(RIF('[5,5.1]'), P)))))),\n",
    "]"
   ]
  },
  {
   "cell_type": "code",
   "execution_count": null,
   "metadata": {
    "ExecuteTime": {
     "end_time": "2020-11-17T22:03:31.536456Z",
     "start_time": "2020-11-17T22:03:31.505823Z"
    }
   },
   "outputs": [],
   "source": [
    "props"
   ]
  },
  {
   "cell_type": "code",
   "execution_count": null,
   "metadata": {
    "ExecuteTime": {
     "end_time": "2020-11-17T22:03:35.671453Z",
     "start_time": "2020-11-17T22:03:31.538851Z"
    }
   },
   "outputs": [],
   "source": [
    "res = monitoring_result(s2, props[2], 2, use_masks=True, **kwargs)"
   ]
  },
  {
   "cell_type": "code",
   "execution_count": null,
   "metadata": {
    "ExecuteTime": {
     "end_time": "2020-11-17T22:03:35.682432Z",
     "start_time": "2020-11-17T22:03:35.677745Z"
    }
   },
   "outputs": [],
   "source": [
    "res"
   ]
  },
  {
   "cell_type": "code",
   "execution_count": null,
   "metadata": {
    "ExecuteTime": {
     "end_time": "2020-11-17T22:04:24.739238Z",
     "start_time": "2020-11-17T22:03:35.685092Z"
    }
   },
   "outputs": [],
   "source": [
    "monitoring_result(s2, props[2], use_masks=False, **kwargs)"
   ]
  },
  {
   "cell_type": "code",
   "execution_count": null,
   "metadata": {
    "ExecuteTime": {
     "end_time": "2020-11-17T22:21:20.162921Z",
     "start_time": "2020-11-17T22:04:49.953661Z"
    }
   },
   "outputs": [],
   "source": [
    "ress_unmasked = [\n",
    "    monitoring_result(s2, prop, 1, use_masks=False, **kwargs)\n",
    "    for prop in props\n",
    "]\n",
    "ress_masked = [\n",
    "    monitoring_result(s2, prop, 1, use_masks=True, **kwargs)\n",
    "    for prop in props\n",
    "]"
   ]
  },
  {
   "cell_type": "code",
   "execution_count": null,
   "metadata": {
    "ExecuteTime": {
     "end_time": "2020-11-17T22:21:20.183424Z",
     "start_time": "2020-11-17T22:21:20.176265Z"
    }
   },
   "outputs": [],
   "source": [
    "table([[t, s(0)] for s, t in ress_unmasked])"
   ]
  },
  {
   "cell_type": "code",
   "execution_count": null,
   "metadata": {
    "ExecuteTime": {
     "end_time": "2020-11-17T22:21:20.244048Z",
     "start_time": "2020-11-17T22:21:20.187447Z"
    }
   },
   "outputs": [],
   "source": [
    "table([[t, s(0)] for s, t in ress_masked])"
   ]
  },
  {
   "cell_type": "code",
   "execution_count": null,
   "metadata": {
    "ExecuteTime": {
     "end_time": "2020-11-18T11:36:27.539174Z",
     "start_time": "2020-11-18T11:36:27.532388Z"
    }
   },
   "outputs": [],
   "source": [
    "ress = pd.DataFrame(\n",
    "    [[i, t1, t2] for i, ((_, t1), (_, t2)) in enumerate(zip(ress_unmasked, ress_masked), 0)],\n",
    "    columns = ['Depth', 'Unmasked Time (sec)', 'Masked Time (sec)']\n",
    ")"
   ]
  },
  {
   "cell_type": "code",
   "execution_count": null,
   "metadata": {
    "ExecuteTime": {
     "end_time": "2020-11-17T22:21:20.319292Z",
     "start_time": "2020-11-17T22:21:20.279656Z"
    }
   },
   "outputs": [],
   "source": [
    "ress"
   ]
  },
  {
   "cell_type": "code",
   "execution_count": null,
   "metadata": {
    "ExecuteTime": {
     "end_time": "2020-11-18T11:36:31.697339Z",
     "start_time": "2020-11-18T11:36:31.690346Z"
    }
   },
   "outputs": [],
   "source": [
    "ress.to_csv('alternation-depth-monitoring-times.csv', sep=\"\\t\", index=False)"
   ]
  },
  {
   "cell_type": "code",
   "execution_count": null,
   "metadata": {
    "ExecuteTime": {
     "end_time": "2020-11-18T11:32:44.050408Z",
     "start_time": "2020-11-18T11:32:43.140968Z"
    }
   },
   "outputs": [],
   "source": [
    "fig, ax = plt.subplots()\n",
    "fig.set_size_inches(0.7*textwidth, 0.45*textwidth)\n",
    "ress.plot.line('Depth', ['Unmasked Time', 'Masked Time'], logy=True, ax=ax)\n",
    "plt.ylabel(\"Monitoring Time (sec)\")\n",
    "plt.grid(True, which=\"both\", ls=\"-\")\n",
    "plt.savefig(\"alternation-depth-monitoring-times.pdf\", bbox_inches='tight')\n",
    "plt.savefig(\"alternation-depth-monitoring-times.pgf\", bbox_inches='tight')\n",
    "tikzplotlib.save('alternation-depth-monitoring-times.tex')"
   ]
  },
  {
   "cell_type": "code",
   "execution_count": 51,
   "metadata": {
    "ExecuteTime": {
     "end_time": "2020-11-17T22:21:20.853734Z",
     "start_time": "2020-11-17T22:21:20.807179Z"
    }
   },
   "outputs": [
    {
     "data": {
      "text/plain": [
       "<matplotlib.axes._subplots.AxesSubplot object at 0x7efd7a92eb20>"
      ]
     },
     "execution_count": 51,
     "metadata": {},
     "output_type": "execute_result"
    }
   ],
   "source": [
    "ress.plot('Depth', ['Unmasked Time', 'Masked Time'], 'line', logy=True)"
   ]
  },
  {
   "cell_type": "markdown",
   "metadata": {},
   "source": [
    "### Eventually window monitoring time impact"
   ]
  },
  {
   "cell_type": "code",
   "execution_count": 52,
   "metadata": {
    "ExecuteTime": {
     "end_time": "2020-11-17T22:21:20.894618Z",
     "start_time": "2020-11-17T22:21:20.857014Z"
    }
   },
   "outputs": [],
   "source": [
    "def alter_prop(k):\n",
    "    return F(RIF(10 - k, 10), \"[0.05, 0.1] Whelk\" >> G(RIF(0,1), ~P))"
   ]
  },
  {
   "cell_type": "code",
   "execution_count": 53,
   "metadata": {
    "ExecuteTime": {
     "end_time": "2020-11-17T22:21:20.935912Z",
     "start_time": "2020-11-17T22:21:20.897483Z"
    }
   },
   "outputs": [
    {
     "data": {
      "text/plain": [
       "[0, 1, 2, 3, 4, 5, 6, 7, 8, 9, 10]"
      ]
     },
     "execution_count": 53,
     "metadata": {},
     "output_type": "execute_result"
    }
   ],
   "source": [
    "srange(0, 10, 1, include_endpoint=True)"
   ]
  },
  {
   "cell_type": "code",
   "execution_count": 54,
   "metadata": {
    "ExecuteTime": {
     "end_time": "2020-11-17T23:34:23.647612Z",
     "start_time": "2020-11-17T22:21:20.938515Z"
    }
   },
   "outputs": [
    {
     "name": "stdout",
     "output_type": "stream",
     "text": [
      "monitoring F(10, [0.05, 0.1] Whelk >> G([0 .. 1], ~(Lobster^2 + (Whelk - 1)^2 < 0.200000000000000))) with use_masks = False ...\n",
      "Running cmd: 'savesage \"([-1 .. 1] Lobster || [-1 .. 1] Whelk || { growWhelk at rate NLGrowth([0.6 .. 0.6000000000000001]); dieWhelk || beLobster at rate RRPredation([0.3 .. 0.30000000000000004], [0.7999999999999999 .. 0.8]); dieLobster at rate NLDecay([4.9999999999999996e-2 .. 5.0e-2]); beWhelk || growLobster at rate RRPredation(2.0, [0.7999999999999999 .. 0.8]); }) || ([0.05, 0.1] Whelk)\" \"/tmp/bond-sage-script-9zl3nn0d.py\"' ...\n",
      "Running cmd: 'savesage \"[0.05, 0.1] Whelk || { growWhelk at rate NLGrowth([0.6 .. 0.6000000000000002]); dieWhelk || beLobster at rate RRPredation([0.3 .. 0.30000000000000004], [0.7999999999999998 .. 0.8]); dieLobster at rate NLDecay([4.9999999999999996e-2 .. 5.0e-2]); beWhelk || growLobster at rate RRPredation(2.0, [0.7999999999999998 .. 0.8]); }\" \"/tmp/bond-sage-script-701dykdk.py\"' ...\n",
      "moving [0.0000000000000000 .. -0.0000000000000000] from ctx to static for x0\n",
      "phi variables sfs = {x1, x0}\n",
      "system sfs = System(R, (x0, x1), [[4 .. 6], [0.99999999999999988 .. 1.2000000000000004]], (-2*x0*x1^2 - 0.05000000000000000?*x0^2 + 1.600000000000000?*x0*x1 - 0.05000000000000000?*x0, 0.3000000000000000?*x0*x1^2 - 0.2400000000000000?*x0*x1 - 0.600000000000000?*x1^2 + 0.600000000000000?*x1), varmap=bidict({'Lobster': x0, 'Whelk': x1})))\n",
      "initials = (5.?, 1.?)\n",
      "Computed 168 flowpipes in 1.888598791018012 sec\n",
      "mask for F = None\n",
      "mask for ctx = None\n",
      "mask = None\n",
      "y0=[[-0.081526428912026828 .. 6.0000087251013677], [0.99999851849677834 .. 1.5863635741211151]]\n",
      "y0_ctx=[None, [0.049999999999999995 .. 0.10000000000000001]]\n",
      "phi variables sfs = {x1, x0}\n",
      "system sfs = System(R, (x0, x1), [[-0.081526428912026828 .. 6.0000087251013677], [0.99999851849677834 .. 1.5863635741211151]], (-2*x0*x1^2 - 0.05000000000000000?*x0^2 + 1.600000000000000?*x0*x1 - 0.05000000000000000?*x0, 0.3000000000000000?*x0*x1^2 - 0.240000000000000?*x0*x1 - 0.600000000000000?*x1^2 + 0.600000000000000?*x1), varmap=bidict({'Lobster': x0, 'Whelk': x1})), y0_ctx=[None, [0.049999999999999995 .. 0.10000000000000001]]))\n",
      "initials = [(None, 0.?e1), (0.1?, 1.?)]\n",
      "y0=[[-0.081526428912026828 .. 6.0000087251013677], [0.99999851849677834 .. 1.5863635741211151]]\n",
      "y0_ctx=[None, [0.049999999999999995 .. 0.10000000000000001]]\n",
      "phi variables sfs = {x1, x0}\n",
      "system sfs = System(R, (x0, x1), [[-0.081526428912026828 .. 6.0000087251013677], [0.99999851849677834 .. 1.5863635741211151]], (-2*x0*x1^2 - 0.05000000000000000?*x0^2 + 1.600000000000000?*x0*x1 - 0.05000000000000000?*x0, 0.3000000000000000?*x0*x1^2 - 0.240000000000000?*x0*x1 - 0.600000000000000?*x1^2 + 0.600000000000000?*x1), varmap=bidict({'Lobster': x0, 'Whelk': x1})), y0_ctx=[None, [0.049999999999999995 .. 0.10000000000000001]]))\n",
      "initials = [(None, 0.?e1), (0.1?, 1.?)]\n",
      "y0=[[-0.081526428912026828 .. 6.0000087251013677], [0.99999851849677834 .. 1.5863635741211151]]\n",
      "y0_ctx=[None, [0.049999999999999995 .. 0.10000000000000001]]\n",
      "phi variables sfs = {x1, x0}\n",
      "system sfs = System(R, (x0, x1), [[-0.081526428912026828 .. 6.0000087251013677], [0.99999851849677834 .. 1.5863635741211151]], (-2*x0*x1^2 - 0.05000000000000000?*x0^2 + 1.600000000000000?*x0*x1 - 0.05000000000000000?*x0, 0.3000000000000000?*x0*x1^2 - 0.240000000000000?*x0*x1 - 0.600000000000000?*x1^2 + 0.600000000000000?*x1), varmap=bidict({'Lobster': x0, 'Whelk': x1})), y0_ctx=[None, [0.049999999999999995 .. 0.10000000000000001]]))\n",
      "initials = [(None, 0.?e1), (0.1?, 1.?)]\n",
      "y0=[[0.12866458622457602 .. 6.0000087251013677], [0.99999851849677834 .. 1.5863635741211151]]\n",
      "y0_ctx=[None, [0.049999999999999995 .. 0.10000000000000001]]\n",
      "phi variables sfs = {x1, x0}\n",
      "system sfs = System(R, (x0, x1), [[0.12866458622457602 .. 6.0000087251013677], [0.99999851849677834 .. 1.5863635741211151]], (-2*x0*x1^2 - 0.05000000000000000?*x0^2 + 1.600000000000000?*x0*x1 - 0.05000000000000000?*x0, 0.3000000000000000?*x0*x1^2 - 0.240000000000000?*x0*x1 - 0.600000000000000?*x1^2 + 0.600000000000000?*x1), varmap=bidict({'Lobster': x0, 'Whelk': x1})), y0_ctx=[None, [0.049999999999999995 .. 0.10000000000000001]]))\n",
      "initials = [(None, 1.?e1), (0.1?, 1.?)]\n",
      "y0=[[1.1581130400335135 .. 6.0000087251013677], [0.99999851849677834 .. 1.5659979983872725]]\n",
      "y0_ctx=[None, [0.049999999999999995 .. 0.10000000000000001]]\n",
      "phi variables sfs = {x1, x0}\n",
      "system sfs = System(R, (x0, x1), [[1.1581130400335135 .. 6.0000087251013677], [0.99999851849677834 .. 1.5659979983872725]], (-2*x0*x1^2 - 0.05000000000000000?*x0^2 + 1.600000000000000?*x0*x1 - 0.05000000000000000?*x0, 0.3000000000000000?*x0*x1^2 - 0.240000000000000?*x0*x1 - 0.600000000000000?*x1^2 + 0.600000000000000?*x1), varmap=bidict({'Lobster': x0, 'Whelk': x1})), y0_ctx=[None, [0.049999999999999995 .. 0.10000000000000001]]))\n",
      "initials = [(None, 1.?e1), (0.1?, 1.?)]\n",
      "y0=[[2.3550940748557134 .. 6.0000087251013677], [0.99999851849677834 .. 1.4218297752861151]]\n",
      "y0_ctx=[None, [0.049999999999999995 .. 0.10000000000000001]]\n",
      "phi variables sfs = {x1, x0}\n",
      "system sfs = System(R, (x0, x1), [[2.3550940748557134 .. 6.0000087251013677], [0.99999851849677834 .. 1.4218297752861151]], (-2*x0*x1^2 - 0.05000000000000000?*x0^2 + 1.600000000000000?*x0*x1 - 0.05000000000000000?*x0, 0.3000000000000000?*x0*x1^2 - 0.240000000000000?*x0*x1 - 0.600000000000000?*x1^2 + 0.600000000000000?*x1), varmap=bidict({'Lobster': x0, 'Whelk': x1})), y0_ctx=[None, [0.049999999999999995 .. 0.10000000000000001]]))\n",
      "initials = [(None, 1.?e1), (0.1?, 1.?)]\n",
      "y0=[[1.1581130400335135 .. 4.6861632486882732], [1.0426173758297796 .. 1.5659979983872725]]\n",
      "y0_ctx=[None, [0.049999999999999995 .. 0.10000000000000001]]\n",
      "phi variables sfs = {x1, x0}\n",
      "system sfs = System(R, (x0, x1), [[1.1581130400335135 .. 4.6861632486882732], [1.0426173758297796 .. 1.5659979983872725]], (-2*x0*x1^2 - 0.05000000000000000?*x0^2 + 1.600000000000000?*x0*x1 - 0.05000000000000000?*x0, 0.3000000000000000?*x0*x1^2 - 0.240000000000000?*x0*x1 - 0.600000000000000?*x1^2 + 0.600000000000000?*x1), varmap=bidict({'Lobster': x0, 'Whelk': x1})), y0_ctx=[None, [0.049999999999999995 .. 0.10000000000000001]]))\n",
      "initials = [(None, 1.?e1), (0.1?, 2.?)]\n",
      "y0=[[0.12866458622457602 .. 3.3017135812774239], [1.0938854618815334 .. 1.5863635741211151]]\n",
      "y0_ctx=[None, [0.049999999999999995 .. 0.10000000000000001]]\n",
      "phi variables sfs = {x1, x0}\n",
      "system sfs = System(R, (x0, x1), [[0.12866458622457602 .. 3.3017135812774239], [1.0938854618815334 .. 1.5863635741211151]], (-2*x0*x1^2 - 0.05000000000000000?*x0^2 + 1.600000000000000?*x0*x1 - 0.05000000000000000?*x0, 0.3000000000000000?*x0*x1^2 - 0.240000000000000?*x0*x1 - 0.600000000000000?*x1^2 + 0.600000000000000?*x1), varmap=bidict({'Lobster': x0, 'Whelk': x1})), y0_ctx=[None, [0.049999999999999995 .. 0.10000000000000001]]))\n",
      "initials = [(None, 1.?e1), (0.1?, 2.?)]\n",
      "y0=[[0.51538884258482442 .. 3.3017135812774239], [1.0938854618815334 .. 1.5863635741211151]]\n",
      "y0_ctx=[None, [0.049999999999999995 .. 0.10000000000000001]]\n",
      "phi variables sfs = {x1, x0}\n",
      "system sfs = System(R, (x0, x1), [[0.51538884258482442 .. 3.3017135812774239], [1.0938854618815334 .. 1.5863635741211151]], (-2*x0*x1^2 - 0.05000000000000000?*x0^2 + 1.600000000000000?*x0*x1 - 0.05000000000000000?*x0, 0.3000000000000000?*x0*x1^2 - 0.240000000000000?*x0*x1 - 0.600000000000000?*x1^2 + 0.600000000000000?*x1), varmap=bidict({'Lobster': x0, 'Whelk': x1})), y0_ctx=[None, [0.049999999999999995 .. 0.10000000000000001]]))\n",
      "initials = [(None, 1.?e1), (0.1?, 2.?)]\n",
      "y0=[[0.12866458622457602 .. 2.1764378597166996], [1.1544160615262577 .. 1.5707231508525297]]\n",
      "y0_ctx=[None, [0.049999999999999995 .. 0.10000000000000001]]\n",
      "phi variables sfs = {x1, x0}\n",
      "system sfs = System(R, (x0, x1), [[0.12866458622457602 .. 2.1764378597166996], [1.1544160615262577 .. 1.5707231508525297]], (-2*x0*x1^2 - 0.05000000000000000?*x0^2 + 1.600000000000000?*x0*x1 - 0.05000000000000000?*x0, 0.3000000000000000?*x0*x1^2 - 0.240000000000000?*x0*x1 - 0.600000000000000?*x1^2 + 0.600000000000000?*x1), varmap=bidict({'Lobster': x0, 'Whelk': x1})), y0_ctx=[None, [0.049999999999999995 .. 0.10000000000000001]]))\n",
      "initials = [(None, 1.?e1), (0.1?, 2.?)]\n",
      "y0=[[-0.081526428912026828 .. 1.4746898389721977], [1.1422054157657284 .. 1.5062116783842164]]\n",
      "y0_ctx=[None, [0.049999999999999995 .. 0.10000000000000001]]\n",
      "phi variables sfs = {x1, x0}\n",
      "system sfs = System(R, (x0, x1), [[-0.081526428912026828 .. 1.4746898389721977], [1.1422054157657284 .. 1.5062116783842164]], (-2*x0*x1^2 - 0.05000000000000000?*x0^2 + 1.600000000000000?*x0*x1 - 0.05000000000000000?*x0, 0.3000000000000000?*x0*x1^2 - 0.240000000000000?*x0*x1 - 0.600000000000000?*x1^2 + 0.600000000000000?*x1), varmap=bidict({'Lobster': x0, 'Whelk': x1})), y0_ctx=[None, [0.049999999999999995 .. 0.10000000000000001]]))\n",
      "initials = [(None, 0.?e1), (0.1?, 2.?)]\n"
     ]
    },
    {
     "name": "stdout",
     "output_type": "stream",
     "text": [
      "Computed 41 flowpipes in 0.4548984080029186 sec\n",
      "In G.signal\n",
      "mask for G = None\n",
      "PolyObserver(-x0^2 - x1^2 + 2*x1 - 0.8000000000000000?, <flowstar.reachability.Reach object at 0x7efd79ca7b80>, 0, symbolic_composition=True, symbolic_composition_order=6, tentative_unpreconditioning=True, mask=None)\n",
      "fprime = 0\n",
      "roots(space_domain=None, epsilon=1e-05, verbosity=0)\n",
      "top-level root detection: 1 items in 1.43 seconds\n",
      "roots = [[0.0000000000000000 .. 1.0059999999990000]]\n",
      "domain = [0.0000000000000000 .. 1.0060000000000001]\n",
      "roots = [[0.0000000000000000 .. 1.0059999999990000]]\n",
      "seg_domain = [0.0000000000000000 .. 1.0060000000000001]\n",
      "roots = [[0.0000000000000000 .. 1.0059999999990000]]\n",
      "signal given bool roots: 1 items in 0.00 seconds\n",
      "y0=[[-0.066974794929165027 .. 1.4746898389721977], [1.1810735045161602 .. 1.5062116783842164]]\n",
      "y0_ctx=[None, [0.049999999999999995 .. 0.10000000000000001]]\n",
      "phi variables sfs = {x1, x0}\n",
      "system sfs = System(R, (x0, x1), [[-0.066974794929165027 .. 1.4746898389721977], [1.1810735045161602 .. 1.5062116783842164]], (-2*x0*x1^2 - 0.05000000000000000?*x0^2 + 1.600000000000000?*x0*x1 - 0.05000000000000000?*x0, 0.3000000000000000?*x0*x1^2 - 0.240000000000000?*x0*x1 - 0.600000000000000?*x1^2 + 0.600000000000000?*x"
     ]
    },
    {
     "data": {
      "text/html": [
       "<b>limit_output extension: Maximum message size of 10000 exceeded with 10153 characters</b>"
      ]
     },
     "metadata": {},
     "output_type": "display_data"
    }
   ],
   "source": [
    "res_alter = [\n",
    "    (i, k, monitoring_result(s2, alter_prop(k),\n",
    "                      use_masks=masking, **kwargs), masking)\n",
    "    for i in range(0, 10)\n",
    "    for masking in [False, True]\n",
    "    for k in srange(0, 10, 0.5, include_endpoint=True)\n",
    "]"
   ]
  },
  {
   "cell_type": "code",
   "execution_count": 55,
   "metadata": {
    "ExecuteTime": {
     "end_time": "2020-11-17T23:34:23.681006Z",
     "start_time": "2020-11-17T23:34:23.676016Z"
    }
   },
   "outputs": [
    {
     "data": {
      "text/plain": [
       "'(0, 0.000000000000000, (Signal([0.0000000000000000 .. -0.0000000000000000], [([0.0000000000000000 .. -0.0000000000000000], False)], mask=None), 14.656591858001775), False)'"
      ]
     },
     "execution_count": 55,
     "metadata": {},
     "output_type": "execute_result"
    }
   ],
   "source": [
    "repr(res_alter[0])"
   ]
  },
  {
   "cell_type": "code",
   "execution_count": 56,
   "metadata": {
    "ExecuteTime": {
     "end_time": "2020-11-17T23:34:23.739739Z",
     "start_time": "2020-11-17T23:34:23.684299Z"
    }
   },
   "outputs": [],
   "source": [
    "res_alter1 = {(i, k, m): t for (i, k, (_, t), m) in res_alter}"
   ]
  },
  {
   "cell_type": "code",
   "execution_count": 57,
   "metadata": {
    "ExecuteTime": {
     "end_time": "2020-11-17T23:34:23.791032Z",
     "start_time": "2020-11-17T23:34:23.742396Z"
    }
   },
   "outputs": [
    {
     "data": {
      "text/html": [
       "<div>\n",
       "<style scoped>\n",
       "    .dataframe tbody tr th:only-of-type {\n",
       "        vertical-align: middle;\n",
       "    }\n",
       "\n",
       "    .dataframe tbody tr th {\n",
       "        vertical-align: top;\n",
       "    }\n",
       "\n",
       "    .dataframe thead th {\n",
       "        text-align: right;\n",
       "    }\n",
       "</style>\n",
       "<table border=\"1\" class=\"dataframe\">\n",
       "  <thead>\n",
       "    <tr style=\"text-align: right;\">\n",
       "      <th></th>\n",
       "      <th>k</th>\n",
       "      <th>i</th>\n",
       "      <th>Unmasked Time</th>\n",
       "      <th>Masked Time</th>\n",
       "    </tr>\n",
       "  </thead>\n",
       "  <tbody>\n",
       "    <tr>\n",
       "      <th>0</th>\n",
       "      <td>0.000000000000000</td>\n",
       "      <td>0</td>\n",
       "      <td>14.656592</td>\n",
       "      <td>2.215572</td>\n",
       "    </tr>\n",
       "    <tr>\n",
       "      <th>1</th>\n",
       "      <td>0.500000000000000</td>\n",
       "      <td>0</td>\n",
       "      <td>14.585495</td>\n",
       "      <td>2.343494</td>\n",
       "    </tr>\n",
       "    <tr>\n",
       "      <th>2</th>\n",
       "      <td>1.00000000000000</td>\n",
       "      <td>0</td>\n",
       "      <td>14.516241</td>\n",
       "      <td>2.501639</td>\n",
       "    </tr>\n",
       "    <tr>\n",
       "      <th>3</th>\n",
       "      <td>1.50000000000000</td>\n",
       "      <td>0</td>\n",
       "      <td>14.510579</td>\n",
       "      <td>2.616813</td>\n",
       "    </tr>\n",
       "    <tr>\n",
       "      <th>4</th>\n",
       "      <td>2.00000000000000</td>\n",
       "      <td>0</td>\n",
       "      <td>14.557606</td>\n",
       "      <td>2.713406</td>\n",
       "    </tr>\n",
       "    <tr>\n",
       "      <th>...</th>\n",
       "      <td>...</td>\n",
       "      <td>...</td>\n",
       "      <td>...</td>\n",
       "      <td>...</td>\n",
       "    </tr>\n",
       "    <tr>\n",
       "      <th>205</th>\n",
       "      <td>8.00000000000000</td>\n",
       "      <td>9</td>\n",
       "      <td>15.582330</td>\n",
       "      <td>5.310618</td>\n",
       "    </tr>\n",
       "    <tr>\n",
       "      <th>206</th>\n",
       "      <td>8.50000000000000</td>\n",
       "      <td>9</td>\n",
       "      <td>15.586728</td>\n",
       "      <td>15.754556</td>\n",
       "    </tr>\n",
       "    <tr>\n",
       "      <th>207</th>\n",
       "      <td>9.00000000000000</td>\n",
       "      <td>9</td>\n",
       "      <td>15.129555</td>\n",
       "      <td>18.775114</td>\n",
       "    </tr>\n",
       "    <tr>\n",
       "      <th>208</th>\n",
       "      <td>9.50000000000000</td>\n",
       "      <td>9</td>\n",
       "      <td>15.272939</td>\n",
       "      <td>15.185740</td>\n",
       "    </tr>\n",
       "    <tr>\n",
       "      <th>209</th>\n",
       "      <td>10.0000000000000</td>\n",
       "      <td>9</td>\n",
       "      <td>15.211906</td>\n",
       "      <td>15.326483</td>\n",
       "    </tr>\n",
       "  </tbody>\n",
       "</table>\n",
       "<p>210 rows × 4 columns</p>\n",
       "</div>"
      ],
      "text/plain": [
       "                     k  i  Unmasked Time  Masked Time\n",
       "0    0.000000000000000  0      14.656592     2.215572\n",
       "1    0.500000000000000  0      14.585495     2.343494\n",
       "2     1.00000000000000  0      14.516241     2.501639\n",
       "3     1.50000000000000  0      14.510579     2.616813\n",
       "4     2.00000000000000  0      14.557606     2.713406\n",
       "..                 ... ..            ...          ...\n",
       "205   8.00000000000000  9      15.582330     5.310618\n",
       "206   8.50000000000000  9      15.586728    15.754556\n",
       "207   9.00000000000000  9      15.129555    18.775114\n",
       "208   9.50000000000000  9      15.272939    15.185740\n",
       "209   10.0000000000000  9      15.211906    15.326483\n",
       "\n",
       "[210 rows x 4 columns]"
      ]
     },
     "execution_count": 57,
     "metadata": {},
     "output_type": "execute_result"
    }
   ],
   "source": [
    "alter_df = pd.DataFrame(\n",
    "    [[k, i, res_alter1[(i, k, False)], res_alter1[(i, k, True)]]\n",
    "     for i in srange(0, 10)\n",
    "     for k in srange(0, 10, 0.5, include_endpoint=True)],\n",
    "    columns = ['k', 'i', 'Unmasked Time', 'Masked Time']\n",
    "); alter_df"
   ]
  },
  {
   "cell_type": "code",
   "execution_count": 58,
   "metadata": {
    "ExecuteTime": {
     "end_time": "2020-11-17T23:34:23.852840Z",
     "start_time": "2020-11-17T23:34:23.793991Z"
    }
   },
   "outputs": [
    {
     "data": {
      "text/html": [
       "<div>\n",
       "<style scoped>\n",
       "    .dataframe tbody tr th:only-of-type {\n",
       "        vertical-align: middle;\n",
       "    }\n",
       "\n",
       "    .dataframe tbody tr th {\n",
       "        vertical-align: top;\n",
       "    }\n",
       "\n",
       "    .dataframe thead th {\n",
       "        text-align: right;\n",
       "    }\n",
       "</style>\n",
       "<table border=\"1\" class=\"dataframe\">\n",
       "  <thead>\n",
       "    <tr style=\"text-align: right;\">\n",
       "      <th></th>\n",
       "      <th>Unmasked Time</th>\n",
       "      <th>Masked Time</th>\n",
       "    </tr>\n",
       "    <tr>\n",
       "      <th>k</th>\n",
       "      <th></th>\n",
       "      <th></th>\n",
       "    </tr>\n",
       "  </thead>\n",
       "  <tbody>\n",
       "    <tr>\n",
       "      <th>0.000000000000000</th>\n",
       "      <td>0.278624</td>\n",
       "      <td>0.021637</td>\n",
       "    </tr>\n",
       "    <tr>\n",
       "      <th>0.500000000000000</th>\n",
       "      <td>0.232335</td>\n",
       "      <td>0.024742</td>\n",
       "    </tr>\n",
       "    <tr>\n",
       "      <th>1.00000000000000</th>\n",
       "      <td>0.288769</td>\n",
       "      <td>0.025662</td>\n",
       "    </tr>\n",
       "    <tr>\n",
       "      <th>1.50000000000000</th>\n",
       "      <td>0.229079</td>\n",
       "      <td>0.059827</td>\n",
       "    </tr>\n",
       "    <tr>\n",
       "      <th>2.00000000000000</th>\n",
       "      <td>0.210276</td>\n",
       "      <td>0.078462</td>\n",
       "    </tr>\n",
       "    <tr>\n",
       "      <th>2.50000000000000</th>\n",
       "      <td>0.243953</td>\n",
       "      <td>0.059752</td>\n",
       "    </tr>\n",
       "    <tr>\n",
       "      <th>3.00000000000000</th>\n",
       "      <td>0.175472</td>\n",
       "      <td>0.041447</td>\n",
       "    </tr>\n",
       "    <tr>\n",
       "      <th>3.50000000000000</th>\n",
       "      <td>0.234512</td>\n",
       "      <td>0.046171</td>\n",
       "    </tr>\n",
       "    <tr>\n",
       "      <th>4.00000000000000</th>\n",
       "      <td>0.222880</td>\n",
       "      <td>0.033325</td>\n",
       "    </tr>\n",
       "    <tr>\n",
       "      <th>4.50000000000000</th>\n",
       "      <td>0.261724</td>\n",
       "      <td>0.025249</td>\n",
       "    </tr>\n",
       "    <tr>\n",
       "      <th>5.00000000000000</th>\n",
       "      <td>0.213957</td>\n",
       "      <td>0.033775</td>\n",
       "    </tr>\n",
       "    <tr>\n",
       "      <th>5.50000000000000</th>\n",
       "      <td>0.491910</td>\n",
       "      <td>0.051213</td>\n",
       "    </tr>\n",
       "    <tr>\n",
       "      <th>6.00000000000000</th>\n",
       "      <td>0.263855</td>\n",
       "      <td>0.036865</td>\n",
       "    </tr>\n",
       "    <tr>\n",
       "      <th>6.50000000000000</th>\n",
       "      <td>0.311088</td>\n",
       "      <td>0.073255</td>\n",
       "    </tr>\n",
       "    <tr>\n",
       "      <th>7.00000000000000</th>\n",
       "      <td>0.256771</td>\n",
       "      <td>0.056600</td>\n",
       "    </tr>\n",
       "    <tr>\n",
       "      <th>7.50000000000000</th>\n",
       "      <td>0.190060</td>\n",
       "      <td>0.072263</td>\n",
       "    </tr>\n",
       "    <tr>\n",
       "      <th>8.00000000000000</th>\n",
       "      <td>0.236783</td>\n",
       "      <td>0.058810</td>\n",
       "    </tr>\n",
       "    <tr>\n",
       "      <th>8.50000000000000</th>\n",
       "      <td>0.244495</td>\n",
       "      <td>0.155645</td>\n",
       "    </tr>\n",
       "    <tr>\n",
       "      <th>9.00000000000000</th>\n",
       "      <td>0.167155</td>\n",
       "      <td>0.236807</td>\n",
       "    </tr>\n",
       "    <tr>\n",
       "      <th>9.50000000000000</th>\n",
       "      <td>0.210856</td>\n",
       "      <td>0.187864</td>\n",
       "    </tr>\n",
       "    <tr>\n",
       "      <th>10.0000000000000</th>\n",
       "      <td>0.164777</td>\n",
       "      <td>0.191529</td>\n",
       "    </tr>\n",
       "  </tbody>\n",
       "</table>\n",
       "</div>"
      ],
      "text/plain": [
       "                   Unmasked Time  Masked Time\n",
       "k                                            \n",
       "0.000000000000000       0.278624     0.021637\n",
       "0.500000000000000       0.232335     0.024742\n",
       "1.00000000000000        0.288769     0.025662\n",
       "1.50000000000000        0.229079     0.059827\n",
       "2.00000000000000        0.210276     0.078462\n",
       "2.50000000000000        0.243953     0.059752\n",
       "3.00000000000000        0.175472     0.041447\n",
       "3.50000000000000        0.234512     0.046171\n",
       "4.00000000000000        0.222880     0.033325\n",
       "4.50000000000000        0.261724     0.025249\n",
       "5.00000000000000        0.213957     0.033775\n",
       "5.50000000000000        0.491910     0.051213\n",
       "6.00000000000000        0.263855     0.036865\n",
       "6.50000000000000        0.311088     0.073255\n",
       "7.00000000000000        0.256771     0.056600\n",
       "7.50000000000000        0.190060     0.072263\n",
       "8.00000000000000        0.236783     0.058810\n",
       "8.50000000000000        0.244495     0.155645\n",
       "9.00000000000000        0.167155     0.236807\n",
       "9.50000000000000        0.210856     0.187864\n",
       "10.0000000000000        0.164777     0.191529"
      ]
     },
     "execution_count": 58,
     "metadata": {},
     "output_type": "execute_result"
    }
   ],
   "source": [
    "alter_df.groupby(\"k\").std()"
   ]
  },
  {
   "cell_type": "code",
   "execution_count": 59,
   "metadata": {
    "ExecuteTime": {
     "end_time": "2020-11-17T23:34:23.891510Z",
     "start_time": "2020-11-17T23:34:23.856424Z"
    }
   },
   "outputs": [
    {
     "data": {
      "text/html": [
       "<div>\n",
       "<style scoped>\n",
       "    .dataframe tbody tr th:only-of-type {\n",
       "        vertical-align: middle;\n",
       "    }\n",
       "\n",
       "    .dataframe tbody tr th {\n",
       "        vertical-align: top;\n",
       "    }\n",
       "\n",
       "    .dataframe thead th {\n",
       "        text-align: right;\n",
       "    }\n",
       "</style>\n",
       "<table border=\"1\" class=\"dataframe\">\n",
       "  <thead>\n",
       "    <tr style=\"text-align: right;\">\n",
       "      <th></th>\n",
       "      <th>Unmasked Time</th>\n",
       "      <th>Masked Time</th>\n",
       "    </tr>\n",
       "    <tr>\n",
       "      <th>k</th>\n",
       "      <th></th>\n",
       "      <th></th>\n",
       "    </tr>\n",
       "  </thead>\n",
       "  <tbody>\n",
       "    <tr>\n",
       "      <th>0.000000000000000</th>\n",
       "      <td>15.049564</td>\n",
       "      <td>2.237590</td>\n",
       "    </tr>\n",
       "    <tr>\n",
       "      <th>0.500000000000000</th>\n",
       "      <td>15.030416</td>\n",
       "      <td>2.374673</td>\n",
       "    </tr>\n",
       "    <tr>\n",
       "      <th>1.00000000000000</th>\n",
       "      <td>15.061430</td>\n",
       "      <td>2.509291</td>\n",
       "    </tr>\n",
       "    <tr>\n",
       "      <th>1.50000000000000</th>\n",
       "      <td>15.022623</td>\n",
       "      <td>2.681504</td>\n",
       "    </tr>\n",
       "    <tr>\n",
       "      <th>2.00000000000000</th>\n",
       "      <td>14.966686</td>\n",
       "      <td>2.792237</td>\n",
       "    </tr>\n",
       "    <tr>\n",
       "      <th>2.50000000000000</th>\n",
       "      <td>14.979133</td>\n",
       "      <td>2.931800</td>\n",
       "    </tr>\n",
       "    <tr>\n",
       "      <th>3.00000000000000</th>\n",
       "      <td>14.985180</td>\n",
       "      <td>3.042932</td>\n",
       "    </tr>\n",
       "    <tr>\n",
       "      <th>3.50000000000000</th>\n",
       "      <td>14.923129</td>\n",
       "      <td>3.193625</td>\n",
       "    </tr>\n",
       "    <tr>\n",
       "      <th>4.00000000000000</th>\n",
       "      <td>15.028561</td>\n",
       "      <td>3.307151</td>\n",
       "    </tr>\n",
       "    <tr>\n",
       "      <th>4.50000000000000</th>\n",
       "      <td>15.028143</td>\n",
       "      <td>3.452224</td>\n",
       "    </tr>\n",
       "    <tr>\n",
       "      <th>5.00000000000000</th>\n",
       "      <td>15.020789</td>\n",
       "      <td>3.576633</td>\n",
       "    </tr>\n",
       "    <tr>\n",
       "      <th>5.50000000000000</th>\n",
       "      <td>15.154135</td>\n",
       "      <td>3.752090</td>\n",
       "    </tr>\n",
       "    <tr>\n",
       "      <th>6.00000000000000</th>\n",
       "      <td>15.003147</td>\n",
       "      <td>3.850828</td>\n",
       "    </tr>\n",
       "    <tr>\n",
       "      <th>6.50000000000000</th>\n",
       "      <td>15.103771</td>\n",
       "      <td>4.087819</td>\n",
       "    </tr>\n",
       "    <tr>\n",
       "      <th>7.00000000000000</th>\n",
       "      <td>15.085325</td>\n",
       "      <td>4.356894</td>\n",
       "    </tr>\n",
       "    <tr>\n",
       "      <th>7.50000000000000</th>\n",
       "      <td>15.061859</td>\n",
       "      <td>4.776491</td>\n",
       "    </tr>\n",
       "    <tr>\n",
       "      <th>8.00000000000000</th>\n",
       "      <td>15.055141</td>\n",
       "      <td>5.284285</td>\n",
       "    </tr>\n",
       "    <tr>\n",
       "      <th>8.50000000000000</th>\n",
       "      <td>15.043569</td>\n",
       "      <td>15.477367</td>\n",
       "    </tr>\n",
       "    <tr>\n",
       "      <th>9.00000000000000</th>\n",
       "      <td>15.046678</td>\n",
       "      <td>18.640551</td>\n",
       "    </tr>\n",
       "    <tr>\n",
       "      <th>9.50000000000000</th>\n",
       "      <td>15.034066</td>\n",
       "      <td>15.047854</td>\n",
       "    </tr>\n",
       "    <tr>\n",
       "      <th>10.0000000000000</th>\n",
       "      <td>15.038469</td>\n",
       "      <td>15.149272</td>\n",
       "    </tr>\n",
       "  </tbody>\n",
       "</table>\n",
       "</div>"
      ],
      "text/plain": [
       "                   Unmasked Time  Masked Time\n",
       "k                                            \n",
       "0.000000000000000      15.049564     2.237590\n",
       "0.500000000000000      15.030416     2.374673\n",
       "1.00000000000000       15.061430     2.509291\n",
       "1.50000000000000       15.022623     2.681504\n",
       "2.00000000000000       14.966686     2.792237\n",
       "2.50000000000000       14.979133     2.931800\n",
       "3.00000000000000       14.985180     3.042932\n",
       "3.50000000000000       14.923129     3.193625\n",
       "4.00000000000000       15.028561     3.307151\n",
       "4.50000000000000       15.028143     3.452224\n",
       "5.00000000000000       15.020789     3.576633\n",
       "5.50000000000000       15.154135     3.752090\n",
       "6.00000000000000       15.003147     3.850828\n",
       "6.50000000000000       15.103771     4.087819\n",
       "7.00000000000000       15.085325     4.356894\n",
       "7.50000000000000       15.061859     4.776491\n",
       "8.00000000000000       15.055141     5.284285\n",
       "8.50000000000000       15.043569    15.477367\n",
       "9.00000000000000       15.046678    18.640551\n",
       "9.50000000000000       15.034066    15.047854\n",
       "10.0000000000000       15.038469    15.149272"
      ]
     },
     "execution_count": 59,
     "metadata": {},
     "output_type": "execute_result"
    }
   ],
   "source": [
    "alter_df_grouped = alter_df.groupby(\"k\").mean(); alter_df_grouped"
   ]
  },
  {
   "cell_type": "code",
   "execution_count": 77,
   "metadata": {
    "ExecuteTime": {
     "end_time": "2020-11-18T10:43:39.329306Z",
     "start_time": "2020-11-18T10:43:38.758642Z"
    }
   },
   "outputs": [
    {
     "data": {
      "text/html": [
       "<html><script type=\"math/tex; mode=display\">\\newcommand{\\Bold}[1]{\\mathbf{#1}}\\verb|Figure(203.114x203.114)|</script></html>"
      ],
      "text/plain": [
       "<Figure size 203.114x203.114 with 1 Axes>"
      ]
     },
     "metadata": {},
     "output_type": "display_data"
    }
   ],
   "source": [
    "fig, ax = plt.subplots()\n",
    "fig.set_size_inches(0.45*textwidth, 0.45*textwidth)\n",
    "alter_df_grouped.plot(ylim=(0,18), ax=ax, legend=False)\n",
    "#alter_df_grouped.plot(y='Unmasked Time', ylim=(0,18),ax=ax)\n",
    "from matplotlib.ticker import FuncFormatter\n",
    "ax.xaxis.set_major_formatter(\n",
    "       FuncFormatter(lambda num, pos: \"%.1f\" % (num // 2))\n",
    ")\n",
    "plt.ylabel(\"$k$\")\n",
    "plt.ylabel(\"Monitoring Time (sec)\")\n",
    "plt.savefig('masked-unmasked-monitoring.pdf', bbox_inches='tight')\n",
    "plt.savefig('masked-unmasked-monitoring.pgf', bbox_inches='tight')\n",
    "tikzplotlib.save('masked-unmasked-monitoring.tex')\n",
    "show(fig)"
   ]
  },
  {
   "cell_type": "markdown",
   "metadata": {
    "ExecuteTime": {
     "end_time": "2020-11-17T18:14:27.613626Z",
     "start_time": "2020-11-17T18:14:27.610360Z"
    }
   },
   "source": [
    "### or-masking window impact"
   ]
  },
  {
   "cell_type": "code",
   "execution_count": 61,
   "metadata": {
    "ExecuteTime": {
     "end_time": "2020-11-17T23:34:24.519472Z",
     "start_time": "2020-11-17T23:34:24.514824Z"
    }
   },
   "outputs": [],
   "source": [
    "prop = F(RIF(0, 1), \"[0.05, 0.1] Whelk\" >> G(RIF(0,10), ~P))"
   ]
  },
  {
   "cell_type": "code",
   "execution_count": 62,
   "metadata": {
    "ExecuteTime": {
     "end_time": "2020-11-18T00:03:38.370261Z",
     "start_time": "2020-11-17T23:34:24.523139Z"
    }
   },
   "outputs": [
    {
     "name": "stdout",
     "output_type": "stream",
     "text": [
      "monitoring G(1, Whelk >= 1/8*Lobster + 0.900000000000000) & F([0 .. 1], [0.05, 0.1] Whelk >> G([0 .. 10], ~(Lobster^2 + (Whelk - 1)^2 < 0.200000000000000))) with use_masks = False ...\n",
      "Running cmd: 'savesage \"([-1 .. 1] Lobster || [-1 .. 1] Whelk || { growWhelk at rate NLGrowth([0.6 .. 0.6000000000000001]); dieWhelk || beLobster at rate RRPredation([0.3 .. 0.30000000000000004], [0.7999999999999999 .. 0.8]); dieLobster at rate NLDecay([4.9999999999999996e-2 .. 5.0e-2]); beWhelk || growLobster at rate RRPredation(2.0, [0.7999999999999999 .. 0.8]); }) || ([0.05, 0.1] Whelk)\" \"/tmp/bond-sage-script-if1ljkc_.py\"' ...\n",
      "Running cmd: 'savesage \"[0.05, 0.1] Whelk || { growWhelk at rate NLGrowth([0.6 .. 0.6000000000000002]); dieWhelk || beLobster at rate RRPredation([0.3 .. 0.30000000000000004], [0.7999999999999998 .. 0.8]); dieLobster at rate NLDecay([4.9999999999999996e-2 .. 5.0e-2]); beWhelk || growLobster at rate RRPredation(2.0, [0.7999999999999998 .. 0.8]); }\" \"/tmp/bond-sage-script-rnnc52ok.py\"' ...\n",
      "moving [0.0000000000000000 .. -0.0000000000000000] from ctx to static for x0\n",
      "phi variables sfs = {x1, x0}\n",
      "system sfs = System(R, (x0, x1), [[4 .. 6], [0.99999999999999988 .. 1.2000000000000004]], (-2*x0*x1^2 - 0.05000000000000000?*x0^2 + 1.600000000000000?*x0*x1 - 0.05000000000000000?*x0, 0.3000000000000000?*x0*x1^2 - 0.2400000000000000?*x0*x1 - 0.600000000000000?*x1^2 + 0.600000000000000?*x1), varmap=bidict({'Lobster': x0, 'Whelk': x1})))\n",
      "initials = (5.?, 1.?)\n",
      "Computed 124 flowpipes in 1.5207451060123276 sec\n",
      "and mask = None\n",
      "In G.signal\n",
      "mask for G = None\n",
      "PolyObserver(-0.12500000000000000?*x0 + x1 - 0.90000000000000003?, <flowstar.reachability.Reach object at 0x7efd79ca7b80>, 0, symbolic_composition=True, symbolic_composition_order=6, tentative_unpreconditioning=True, mask=None)\n",
      "fprime = 0\n",
      "roots(space_domain=None, epsilon=1e-05, verbosity=0)\n",
      "top-level root detection: 1 items in 1.32 seconds\n",
      "roots = [[0.15929385810073826 .. 0.92496024634783381], [0.93987005379850152 .. 0.95018093739620613]]\n",
      "domain = [0.0000000000000000 .. 6.0020000000000007]\n",
      "roots = [[0.15929385810073826 .. 0.92496024634783381], \n",
      " [0.93987005379850152 .. 0.95018093739620613]]\n",
      "seg_domain = [0.0000000000000000 .. 6.0020000000000007]\n",
      "roots = [[0.15929385810073826 .. 0.92496024634783381], \n",
      " [0.93987005379850152 .. 0.95018093739620613]]\n",
      "signal given bool roots: 1 items in 0.01 seconds\n",
      "and sig = None\n",
      "and mask = None\n",
      "mask for F = None\n",
      "mask for ctx = None\n",
      "mask = None\n",
      "y0=[[-0.081526428912026828 .. 6.0000087251013677], [0.99999851849677834 .. 1.5863635741211151]]\n",
      "y0_ctx=[None, [0.049999999999999995 .. 0.10000000000000001]]\n",
      "phi variables sfs = {x1, x0}\n",
      "system sfs = System(R, (x0, x1), [[-0.081526428912026828 .. 6.0000087251013677], [0.99999851849677834 .. 1.5863635741211151]], (-2*x0*x1^2 - 0.05000000000000000?*x0^2 + 1.600000000000000?*x0*x1 - 0.05000000000000000?*x0, 0.3000000000000000?*x0*x1^2 - 0.240000000000000?*x0*x1 - 0.600000000000000?*x1^2 + 0.600000000000000?*x1), varmap=bidict({'Lobster': x0, 'Whelk': x1})), y0_ctx=[None, [0.049999999999999995 .. 0.10000000000000001]]))\n",
      "initials = [(None, 0.?e1), (0.1?, 1.?)]\n",
      "y0=[[-0.081526428912026828 .. 6.0000087251013677], [0.99999851849677834 .. 1.5863635741211151]]\n",
      "y0_ctx=[None, [0.049999999999999995 .. 0.10000000000000001]]\n",
      "phi variables sfs = {x1, x0}\n",
      "system sfs = System(R, (x0, x1), [[-0.081526428912026828 .. 6.0000087251013677], [0.99999851849677834 .. 1.5863635741211151]], (-2*x0*x1^2 - 0.05000000000000000?*x0^2 + 1.600000000000000?*x0*x1 - 0.05000000000000000?*x0, 0.3000000000000000?*x0*x1^2 - 0.240000000000000?*x0*x1 - 0.600000000000000?*x1^2 + 0.600000000000000?*x1), varmap=bidict({'Lobster': x0, 'Whelk': x1})), y0_ctx=[None, [0.049999999999999995 .. 0.10000000000000001]]))\n",
      "initials = [(None, 0.?e1), (0.1?, 1.?)]\n",
      "y0=[[0.016333878671395331 .. 6.0000087251013677], [0.99999851849677834 .. 1.5863635741211151]]\n",
      "y0_ctx=[None, [0.049999999999999995 .. 0.10000000000000001]]\n",
      "phi variables sfs = {x1, x0}\n",
      "system sfs = System(R, (x0, x1), [[0.016333878671395331 .. 6.0000087251013677], [0.99999851849677834 .. 1.5863635741211151]], (-2*x0*x1^2 - 0.05000000000000000?*x0^2 + 1.600000000000000?*x0*x1 - 0.05000000000000000?*x0, 0.3000000000000000?*x0*x1^2 - 0.240000000000000?*x0*x1 - 0.600000000000000?*x1^2 + 0.600000000000000?*x1), varmap=bidict({'Lobster': x0, 'Whelk': x1})), y0_ctx=[None, [0.049999999999999995 .. 0.10000000000000001]]))\n",
      "initials = [(None, 1.?e1), (0.1?, 1.?)]\n",
      "y0=[[0.84732997996609071 .. 6.0000087251013677], [0.99999851849677834 .. 1.5828207163386077]]\n",
      "y0_ctx=[None, [0.049999999999999995 .. 0.10000000000000001]]\n",
      "phi variables sfs = {x1, x0}\n",
      "system sfs = System(R, (x0, x1), [[0.84732997996609071 .. 6.0000087251013677], [0.99999851849677834 .. 1.5828207163386077]], (-2*x0*x1^2 - 0.05000000000000000?*x0^2 + 1.600000000000000?*x0*x1 - 0.05000000000000000?*x0, 0.3000000000000000?*x0*x1^2 - 0.240000000000000?*x0*x1 - 0.600000000000000?*x1^2 + 0.600000000000000?*x1), varmap=bidict({'Lobster': x0, 'Whelk': x1})), y0_ctx=[None, [0.049999999999999995 .. 0.10000000000000001]]))\n",
      "initials = [(None, 1.?e1), (0.1?, 1.?)]\n",
      "y0=[[2.0949050212905140 .. 6.0000087251013677], [0.99999851849677834 .. 1.4605542138208341]]\n",
      "y0_ctx=[None, [0.049999999999999995 .. 0.10000000000000001]]\n",
      "phi variables sfs = {x1, x0}\n",
      "system sfs = System(R, (x0, x1), [[2.0949050212905140 .. 6.0000087251013677], [0.99999851849677834 .. 1.4605542138208341]], (-2*x0*x1^2 - 0.05000000000000000?*x0^2 + 1.600000000000000?*x0*x1 - 0.05000000000000000?*x0, 0.3000000000000000?*x0*x1^2 - 0.240000000000000?*x0*x1 - 0.600000000000000?*x1^2 + 0.600000000000000?*x1), varmap=bidict({'Lobster': x0, 'Whelk': x1})), y0_ctx=[None, [0.049999999999999995 .. 0.10000000000000001]]))\n",
      "initials = [(None, 1.?e1), (0.1?, 1.?)]\n",
      "y0=[[0.84732997996609071 .. 4.3862646137439976], [1.0511991556399609 .. 1.5828207163386077]]\n",
      "y0_ctx=[None, [0.049999999999999995 .. 0.10000000000000001]]\n",
      "phi variables sfs = {x1, x0}\n",
      "system sfs = System(R, (x0, x1), [[0.84732997996609071 .. 4.3862646137439976], [1.0511991556399609 .. 1.5828207163386077]], (-2*x0*x1^2 - 0.05000000000000000?*x0^2 + 1.600000000000000?*x0*x1 - 0.05000000000000000?*x0, 0.3000000000000000?*x0*x1^2 - 0.240000000000000?*x0*x1 - 0.600000000000000?*x1^2 + 0.600000000000000?*x1), varmap=bidict({'Lobster': x0, 'Whelk': x1})), y0_ctx=[None, [0.049999999999999995 .. 0.10000000000000001]]))\n",
      "initials = [(None, 1.?e1), (0.1?, 2.?)]\n",
      "y0=[[0.016333878671395331 .. 2.8257889540033885], [1.1168506980662586 .. 1.5863635741211151]]\n",
      "y0_ctx=[None, [0.049999999999999995 .. 0.10000000000000001]]\n",
      "phi variables sfs = {x1, x0}\n",
      "system sfs = System(R, (x0, x1), [[0.016333878671395331 .. 2.8257889540033885], [1.1168506980662586 .. 1.5863635741211151]], (-2*x0*x1^2 - 0.05000000000000000?*x0^2 + 1.600000000000000?*x0*x1 - 0.05000000000000000?*x0, 0.3000000000000000?*x0*x1^2 - 0.240000000000000?*x0*x1 - 0.600000000000000?*x1^2 + 0.600000000000000?*x1), varmap=bidict({'Lobster': x0, 'Whelk': x1})), y0_ctx=[None, [0.049999999999999995 .. 0.10000000000000001]]))\n",
      "initials = [(None, 1.?e1), (0.1?, 2.?)]\n",
      "y0=[[0.26270963142421110 .. 2.8257889540033885], [1.1168506980662586 .. 1.5863635741211151]]\n",
      "y0_ctx=[None, [0.049999999999999995 .. 0.10000000000000001]]\n",
      "phi variables sfs = {x1, x0}\n",
      "system sfs = System(R, (x0, x1), [[0.26270963142421110 .. 2.8257889540033885], [1.1168506980662586 .. 1.5863635741211151]], (-2*x0*x1^2 - 0.05000000000000000?*x0^2 + 1.600000000000000?*x0*x1 - 0.05000000000000000?*x0, 0.3000000000000000?*x0*x1^2 - 0.240000000000000?*x0*x1 - 0.600000000000000?*x1^2 + 0.600000000000000?*x1), varmap=bidict({'Lobster': x0, 'Whelk': x1})), y0_ctx=[None, [0.049999999999999995 .. 0.10000000000000001]]))\n",
      "initials = [(None, 1.?e1), (0.1?, 2.?)]\n",
      "y0=[[0.016333878671395331 .. 1.7230741328560882], [1.1774654209155337 .. 1.5349236640194142]]\n",
      "y0_ctx=[None, [0.049999999999999995 .. 0.10000000000000001]]\n",
      "phi variables sfs = {x1, x0}\n",
      "system sfs = System(R, (x0, x1), [[0.016333878671395331 .. 1.7230741328560882], [1.1774654209155337 .. 1.5349236640194142]], (-2*x0*x1^2 - 0.05000000000000000?*x0^2 + 1.600000000000000?*x0*x1 - 0.05000000000000000?*x0, 0.3000000000000000?*x0*x1^2 - 0.240000000000000?*x0*x1 - 0.600000000000000?*x1^2 + 0.600000000000000?*x1), varmap=bidict({'Lobster': x0, 'Whelk': x1})), y0_ctx=[None, [0.049999999999999995 .. 0.10000000000000001]]))\n",
      "initials = [(None, 1.?), (0.1?, 2.?)]\n"
     ]
    },
    {
     "name": "stdout",
     "output_type": "stream",
     "text": [
      "Computed 141 flowpipes in 1.5343375340016792 sec\n",
      "In G.signal\n",
      "mask for G = None\n",
      "PolyObserver(-x0^2 - x1^2 + 2*x1 - 0.8000000000000000?, <flowstar.reachability.Reach object at 0x7efd79d7d5e0>, 0, symbolic_composition=True, symbolic_composition_order=6, tentative_unpreconditioning=True, mask=None)\n",
      "fprime = 0\n",
      "roots(space_domain=None, epsilon=1e-05, verbosity=0)\n",
      "top-level root detection: 1 items in 2.41 seconds\n",
      "roots = [[0.0000000000000000 .. 1.3914413632230840]]\n",
      "domain = [0.0000000000000000 .. 10.006000000000003]\n",
      "roots = [[0.0000000000000000 .. 1.3914413632230840]]\n",
      "seg_domain = [0.0000000000000000 .. 10.006000000000003]\n",
      "roots = [[0.0000000000000000 .. 1.3914413632230840]]\n",
      "signal given bool roots: 1 items in 0.01 seconds\n",
      "y0=[[-0.081526428912026828 .. 1.0853562506643189], [1.1077231457603111 .. 1.4352108440562963]]\n",
      "y0_ctx=[None, [0.049999999999999995 .. 0.10000000000000001]]\n",
      "phi variables sfs = {x1, x0}\n",
      "system sfs = System(R, (x0, x1), [[-0.081526428912026828 .. 1.0853562506643189], [1.1077231457603111 .. 1.4352108440562963]], (-2*x0*x1^2 - 0.05000000000000000?*x0^2 + 1.600000000000000?*x0*x1 - 0.05000000000000000?*x0, 0.3000000000000000?*x0*x1^2 - 0.240000000000000?*x0*x1 - 0.600000000000000?*x1^2 + 0.600000000000000?*x1), varmap=bidict({'Lobster': x0, 'Whelk': x1})), y0_ctx=[None, [0.049999999999999995 .. 0.10000000000000001]]))\n",
      "initials = [(None, 0.?e1), (0.1?, 2.?)]\n",
      "Computed 125 flowpipes in 1.366444387997035 sec\n",
      "In G.signal\n",
      "mask for G = None\n",
      "PolyObserver(-x0^2 - x1^2 + 2*x1 - 0.8000000000000000?, <flowstar.reachability.Reach object at 0x7efd79d7d040>, 0, symbolic_composition=True, sy"
     ]
    },
    {
     "data": {
      "text/html": [
       "<b>limit_output extension: Maximum message size of 10000 exceeded with 10137 characters</b>"
      ]
     },
     "metadata": {},
     "output_type": "display_data"
    }
   ],
   "source": [
    "ress2_raw = [\n",
    "    (i, k, monitoring_result(s2, G(1, S(k)) & prop, 5, use_masks=masking, **kwargs), masking)\n",
    "    for i in range(0, 10)\n",
    "    for masking in [False, True]\n",
    "    for k in srange(0.9, 1.6, 0.1, include_endpoint=True)\n",
    "]"
   ]
  },
  {
   "cell_type": "code",
   "execution_count": 63,
   "metadata": {
    "ExecuteTime": {
     "end_time": "2020-11-18T00:03:38.377503Z",
     "start_time": "2020-11-18T00:03:38.373928Z"
    }
   },
   "outputs": [],
   "source": [
    "ress2_dict = {(i, k, m): t for (i, k, (_, t), m) in ress2_raw}"
   ]
  },
  {
   "cell_type": "code",
   "execution_count": 64,
   "metadata": {
    "ExecuteTime": {
     "end_time": "2020-11-18T00:03:38.441868Z",
     "start_time": "2020-11-18T00:03:38.380000Z"
    }
   },
   "outputs": [
    {
     "data": {
      "text/html": [
       "<div>\n",
       "<style scoped>\n",
       "    .dataframe tbody tr th:only-of-type {\n",
       "        vertical-align: middle;\n",
       "    }\n",
       "\n",
       "    .dataframe tbody tr th {\n",
       "        vertical-align: top;\n",
       "    }\n",
       "\n",
       "    .dataframe thead th {\n",
       "        text-align: right;\n",
       "    }\n",
       "</style>\n",
       "<table border=\"1\" class=\"dataframe\">\n",
       "  <thead>\n",
       "    <tr style=\"text-align: right;\">\n",
       "      <th></th>\n",
       "      <th>k</th>\n",
       "      <th>i</th>\n",
       "      <th>Unmasked Time (sec)</th>\n",
       "      <th>Masked Time (sec)</th>\n",
       "    </tr>\n",
       "  </thead>\n",
       "  <tbody>\n",
       "    <tr>\n",
       "      <th>0</th>\n",
       "      <td>0.900000000000000</td>\n",
       "      <td>0</td>\n",
       "      <td>13.716763</td>\n",
       "      <td>13.291059</td>\n",
       "    </tr>\n",
       "    <tr>\n",
       "      <th>1</th>\n",
       "      <td>1.00000000000000</td>\n",
       "      <td>0</td>\n",
       "      <td>13.421950</td>\n",
       "      <td>13.263275</td>\n",
       "    </tr>\n",
       "    <tr>\n",
       "      <th>2</th>\n",
       "      <td>1.10000000000000</td>\n",
       "      <td>0</td>\n",
       "      <td>13.566277</td>\n",
       "      <td>10.163172</td>\n",
       "    </tr>\n",
       "    <tr>\n",
       "      <th>3</th>\n",
       "      <td>1.20000000000000</td>\n",
       "      <td>0</td>\n",
       "      <td>13.449452</td>\n",
       "      <td>12.792007</td>\n",
       "    </tr>\n",
       "    <tr>\n",
       "      <th>4</th>\n",
       "      <td>1.30000000000000</td>\n",
       "      <td>0</td>\n",
       "      <td>13.384174</td>\n",
       "      <td>8.858117</td>\n",
       "    </tr>\n",
       "    <tr>\n",
       "      <th>...</th>\n",
       "      <td>...</td>\n",
       "      <td>...</td>\n",
       "      <td>...</td>\n",
       "      <td>...</td>\n",
       "    </tr>\n",
       "    <tr>\n",
       "      <th>75</th>\n",
       "      <td>1.20000000000000</td>\n",
       "      <td>9</td>\n",
       "      <td>12.947254</td>\n",
       "      <td>12.283637</td>\n",
       "    </tr>\n",
       "    <tr>\n",
       "      <th>76</th>\n",
       "      <td>1.30000000000000</td>\n",
       "      <td>9</td>\n",
       "      <td>13.029197</td>\n",
       "      <td>8.544361</td>\n",
       "    </tr>\n",
       "    <tr>\n",
       "      <th>77</th>\n",
       "      <td>1.40000000000000</td>\n",
       "      <td>9</td>\n",
       "      <td>13.354040</td>\n",
       "      <td>7.879996</td>\n",
       "    </tr>\n",
       "    <tr>\n",
       "      <th>78</th>\n",
       "      <td>1.50000000000000</td>\n",
       "      <td>9</td>\n",
       "      <td>13.145697</td>\n",
       "      <td>1.970241</td>\n",
       "    </tr>\n",
       "    <tr>\n",
       "      <th>79</th>\n",
       "      <td>1.60000000000000</td>\n",
       "      <td>9</td>\n",
       "      <td>13.222421</td>\n",
       "      <td>1.776818</td>\n",
       "    </tr>\n",
       "  </tbody>\n",
       "</table>\n",
       "<p>80 rows × 4 columns</p>\n",
       "</div>"
      ],
      "text/plain": [
       "                    k  i  Unmasked Time (sec)  Masked Time (sec)\n",
       "0   0.900000000000000  0            13.716763          13.291059\n",
       "1    1.00000000000000  0            13.421950          13.263275\n",
       "2    1.10000000000000  0            13.566277          10.163172\n",
       "3    1.20000000000000  0            13.449452          12.792007\n",
       "4    1.30000000000000  0            13.384174           8.858117\n",
       "..                ... ..                  ...                ...\n",
       "75   1.20000000000000  9            12.947254          12.283637\n",
       "76   1.30000000000000  9            13.029197           8.544361\n",
       "77   1.40000000000000  9            13.354040           7.879996\n",
       "78   1.50000000000000  9            13.145697           1.970241\n",
       "79   1.60000000000000  9            13.222421           1.776818\n",
       "\n",
       "[80 rows x 4 columns]"
      ]
     },
     "execution_count": 64,
     "metadata": {},
     "output_type": "execute_result"
    }
   ],
   "source": [
    "ress2_df = pd.DataFrame(\n",
    "    [[k, i, ress2_dict[(i, k, False)], ress2_dict[(i, k, True)]]\n",
    "     for i in srange(0, 10)\n",
    "     for k in srange(0.9, 1.6, 0.1, include_endpoint=True)],\n",
    "    columns = ['k', 'i', 'Unmasked Time (sec)', 'Masked Time (sec)']\n",
    "); ress2_df"
   ]
  },
  {
   "cell_type": "code",
   "execution_count": 65,
   "metadata": {
    "ExecuteTime": {
     "end_time": "2020-11-18T00:03:38.486332Z",
     "start_time": "2020-11-18T00:03:38.445792Z"
    }
   },
   "outputs": [
    {
     "data": {
      "text/html": [
       "<div>\n",
       "<style scoped>\n",
       "    .dataframe tbody tr th:only-of-type {\n",
       "        vertical-align: middle;\n",
       "    }\n",
       "\n",
       "    .dataframe tbody tr th {\n",
       "        vertical-align: top;\n",
       "    }\n",
       "\n",
       "    .dataframe thead th {\n",
       "        text-align: right;\n",
       "    }\n",
       "</style>\n",
       "<table border=\"1\" class=\"dataframe\">\n",
       "  <thead>\n",
       "    <tr style=\"text-align: right;\">\n",
       "      <th></th>\n",
       "      <th>Unmasked Time (sec)</th>\n",
       "      <th>Masked Time (sec)</th>\n",
       "    </tr>\n",
       "    <tr>\n",
       "      <th>k</th>\n",
       "      <th></th>\n",
       "      <th></th>\n",
       "    </tr>\n",
       "  </thead>\n",
       "  <tbody>\n",
       "    <tr>\n",
       "      <th>0.900000000000000</th>\n",
       "      <td>0.207804</td>\n",
       "      <td>0.185411</td>\n",
       "    </tr>\n",
       "    <tr>\n",
       "      <th>1.00000000000000</th>\n",
       "      <td>0.162295</td>\n",
       "      <td>0.188148</td>\n",
       "    </tr>\n",
       "    <tr>\n",
       "      <th>1.10000000000000</th>\n",
       "      <td>0.100037</td>\n",
       "      <td>0.166225</td>\n",
       "    </tr>\n",
       "    <tr>\n",
       "      <th>1.20000000000000</th>\n",
       "      <td>0.196254</td>\n",
       "      <td>0.206910</td>\n",
       "    </tr>\n",
       "    <tr>\n",
       "      <th>1.30000000000000</th>\n",
       "      <td>0.189679</td>\n",
       "      <td>0.184346</td>\n",
       "    </tr>\n",
       "    <tr>\n",
       "      <th>1.40000000000000</th>\n",
       "      <td>0.193700</td>\n",
       "      <td>0.112343</td>\n",
       "    </tr>\n",
       "    <tr>\n",
       "      <th>1.50000000000000</th>\n",
       "      <td>0.214382</td>\n",
       "      <td>0.027168</td>\n",
       "    </tr>\n",
       "    <tr>\n",
       "      <th>1.60000000000000</th>\n",
       "      <td>0.158071</td>\n",
       "      <td>0.037394</td>\n",
       "    </tr>\n",
       "  </tbody>\n",
       "</table>\n",
       "</div>"
      ],
      "text/plain": [
       "                   Unmasked Time (sec)  Masked Time (sec)\n",
       "k                                                        \n",
       "0.900000000000000             0.207804           0.185411\n",
       "1.00000000000000              0.162295           0.188148\n",
       "1.10000000000000              0.100037           0.166225\n",
       "1.20000000000000              0.196254           0.206910\n",
       "1.30000000000000              0.189679           0.184346\n",
       "1.40000000000000              0.193700           0.112343\n",
       "1.50000000000000              0.214382           0.027168\n",
       "1.60000000000000              0.158071           0.037394"
      ]
     },
     "execution_count": 65,
     "metadata": {},
     "output_type": "execute_result"
    }
   ],
   "source": [
    "ress2_df.groupby(\"k\").std()"
   ]
  },
  {
   "cell_type": "code",
   "execution_count": 66,
   "metadata": {
    "ExecuteTime": {
     "end_time": "2020-11-18T00:03:38.535047Z",
     "start_time": "2020-11-18T00:03:38.491902Z"
    }
   },
   "outputs": [
    {
     "data": {
      "text/html": [
       "<div>\n",
       "<style scoped>\n",
       "    .dataframe tbody tr th:only-of-type {\n",
       "        vertical-align: middle;\n",
       "    }\n",
       "\n",
       "    .dataframe tbody tr th {\n",
       "        vertical-align: top;\n",
       "    }\n",
       "\n",
       "    .dataframe thead th {\n",
       "        text-align: right;\n",
       "    }\n",
       "</style>\n",
       "<table border=\"1\" class=\"dataframe\">\n",
       "  <thead>\n",
       "    <tr style=\"text-align: right;\">\n",
       "      <th></th>\n",
       "      <th>Unmasked Time (sec)</th>\n",
       "      <th>Masked Time (sec)</th>\n",
       "    </tr>\n",
       "    <tr>\n",
       "      <th>k</th>\n",
       "      <th></th>\n",
       "      <th></th>\n",
       "    </tr>\n",
       "  </thead>\n",
       "  <tbody>\n",
       "    <tr>\n",
       "      <th>0.900000000000000</th>\n",
       "      <td>13.296967</td>\n",
       "      <td>13.103087</td>\n",
       "    </tr>\n",
       "    <tr>\n",
       "      <th>1.00000000000000</th>\n",
       "      <td>13.324469</td>\n",
       "      <td>13.118151</td>\n",
       "    </tr>\n",
       "    <tr>\n",
       "      <th>1.10000000000000</th>\n",
       "      <td>13.389003</td>\n",
       "      <td>10.036142</td>\n",
       "    </tr>\n",
       "    <tr>\n",
       "      <th>1.20000000000000</th>\n",
       "      <td>13.340059</td>\n",
       "      <td>12.529569</td>\n",
       "    </tr>\n",
       "    <tr>\n",
       "      <th>1.30000000000000</th>\n",
       "      <td>13.276967</td>\n",
       "      <td>8.711169</td>\n",
       "    </tr>\n",
       "    <tr>\n",
       "      <th>1.40000000000000</th>\n",
       "      <td>13.242474</td>\n",
       "      <td>7.828625</td>\n",
       "    </tr>\n",
       "    <tr>\n",
       "      <th>1.50000000000000</th>\n",
       "      <td>13.240375</td>\n",
       "      <td>2.010100</td>\n",
       "    </tr>\n",
       "    <tr>\n",
       "      <th>1.60000000000000</th>\n",
       "      <td>13.196788</td>\n",
       "      <td>1.726491</td>\n",
       "    </tr>\n",
       "  </tbody>\n",
       "</table>\n",
       "</div>"
      ],
      "text/plain": [
       "                   Unmasked Time (sec)  Masked Time (sec)\n",
       "k                                                        \n",
       "0.900000000000000            13.296967          13.103087\n",
       "1.00000000000000             13.324469          13.118151\n",
       "1.10000000000000             13.389003          10.036142\n",
       "1.20000000000000             13.340059          12.529569\n",
       "1.30000000000000             13.276967           8.711169\n",
       "1.40000000000000             13.242474           7.828625\n",
       "1.50000000000000             13.240375           2.010100\n",
       "1.60000000000000             13.196788           1.726491"
      ]
     },
     "execution_count": 66,
     "metadata": {},
     "output_type": "execute_result"
    }
   ],
   "source": [
    "ress2_grouped = ress2_df.groupby(\"k\").mean(); ress2_grouped"
   ]
  },
  {
   "cell_type": "code",
   "execution_count": 67,
   "metadata": {
    "ExecuteTime": {
     "end_time": "2020-11-18T00:03:38.615730Z",
     "start_time": "2020-11-18T00:03:38.537809Z"
    }
   },
   "outputs": [
    {
     "data": {
      "text/plain": [
       "<matplotlib.axes._subplots.AxesSubplot object at 0x7efd7466e820>"
      ]
     },
     "execution_count": 67,
     "metadata": {},
     "output_type": "execute_result"
    }
   ],
   "source": [
    "ress2_grouped.plot()"
   ]
  },
  {
   "cell_type": "code",
   "execution_count": 78,
   "metadata": {
    "ExecuteTime": {
     "end_time": "2020-11-18T10:50:33.919084Z",
     "start_time": "2020-11-18T10:50:33.357731Z"
    }
   },
   "outputs": [
    {
     "data": {
      "text/html": [
       "<html><script type=\"math/tex; mode=display\">\\newcommand{\\Bold}[1]{\\mathbf{#1}}\\verb|Figure(203.114x203.114)|</script></html>"
      ],
      "text/plain": [
       "<Figure size 203.114x203.114 with 1 Axes>"
      ]
     },
     "metadata": {},
     "output_type": "display_data"
    }
   ],
   "source": [
    "fig, ax = plt.subplots()\n",
    "fig.set_size_inches(0.45*textwidth, 0.45*textwidth)\n",
    "ress2_grouped.plot(ylim=(0, 14), ax=ax, legend=False)\n",
    "#alter_df_grouped.plot(y='Unmasked Time', ylim=(0,18),ax=ax)\n",
    "from matplotlib.ticker import FuncFormatter\n",
    "ax.xaxis.set_major_formatter(\n",
    "       FuncFormatter(lambda num, pos: \"%.1f\" % (0.9 + 0.1*num))\n",
    ")\n",
    "plt.xlabel(\"$m$\")\n",
    "plt.ylabel(\"Monitoring Time (sec)\")\n",
    "plt.savefig('masked-unmasked-monitoring-and.pdf', bbox_inches='tight')\n",
    "plt.savefig('masked-unmasked-monitoring-and.pgf', bbox_inches='tight')\n",
    "tikzplotlib.save('masked-unmasked-monitoring-and.tex')\n",
    "show(fig)"
   ]
  },
  {
   "cell_type": "code",
   "execution_count": null,
   "metadata": {},
   "outputs": [],
   "source": []
  },
  {
   "cell_type": "code",
   "execution_count": null,
   "metadata": {},
   "outputs": [],
   "source": []
  }
 ],
 "metadata": {
  "kernelspec": {
   "display_name": "SageMath 9.0",
   "language": "sage",
   "name": "sagemath"
  },
  "language_info": {
   "codemirror_mode": {
    "name": "ipython",
    "version": 3
   },
   "file_extension": ".py",
   "mimetype": "text/x-python",
   "name": "python",
   "nbconvert_exporter": "python",
   "pygments_lexer": "ipython3",
   "version": "3.8.7"
  },
  "toc": {
   "base_numbering": 1,
   "nav_menu": {},
   "number_sections": true,
   "sideBar": true,
   "skip_h1_title": false,
   "title_cell": "Table of Contents",
   "title_sidebar": "Contents",
   "toc_cell": false,
   "toc_position": {},
   "toc_section_display": true,
   "toc_window_display": false
  }
 },
 "nbformat": 4,
 "nbformat_minor": 4
}
