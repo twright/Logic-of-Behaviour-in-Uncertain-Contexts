{
 "cells": [
  {
   "cell_type": "markdown",
   "metadata": {},
   "source": [
    "# Whelks and lobsters -- Analysis"
   ]
  },
  {
   "cell_type": "markdown",
   "metadata": {},
   "source": [
    "## The system"
   ]
  },
  {
   "cell_type": "code",
   "execution_count": 1,
   "metadata": {
    "ExecuteTime": {
     "end_time": "2021-01-10T05:22:58.270760Z",
     "start_time": "2021-01-10T05:22:58.266564Z"
    }
   },
   "outputs": [],
   "source": [
    "import pandas as pd\n",
    "import altair as alt"
   ]
  },
  {
   "cell_type": "code",
   "execution_count": 2,
   "metadata": {
    "ExecuteTime": {
     "end_time": "2021-01-10T06:41:42.127784Z",
     "start_time": "2021-01-10T06:41:42.123102Z"
    }
   },
   "outputs": [],
   "source": [
    "# figure sizing considerations\n",
    "textwidth = 6.26894 # inches\n",
    "textwidthpx = 72 * textwidth # width of text in pixels at 72 dpi"
   ]
  },
  {
   "cell_type": "code",
   "execution_count": 3,
   "metadata": {
    "ExecuteTime": {
     "end_time": "2021-01-10T05:21:59.377636Z",
     "start_time": "2021-01-10T05:21:59.316528Z"
    }
   },
   "outputs": [
    {
     "data": {
      "text/html": [
       "<div>\n",
       "<style scoped>\n",
       "    .dataframe tbody tr th:only-of-type {\n",
       "        vertical-align: middle;\n",
       "    }\n",
       "\n",
       "    .dataframe tbody tr th {\n",
       "        vertical-align: top;\n",
       "    }\n",
       "\n",
       "    .dataframe thead th {\n",
       "        text-align: right;\n",
       "    }\n",
       "</style>\n",
       "<table border=\"1\" class=\"dataframe\">\n",
       "  <thead>\n",
       "    <tr style=\"text-align: right;\">\n",
       "      <th></th>\n",
       "      <th>depth</th>\n",
       "      <th>time</th>\n",
       "      <th>unknown_width</th>\n",
       "    </tr>\n",
       "  </thead>\n",
       "  <tbody>\n",
       "    <tr>\n",
       "      <th>0</th>\n",
       "      <td>0.0</td>\n",
       "      <td>1.364460</td>\n",
       "      <td>1.693359</td>\n",
       "    </tr>\n",
       "    <tr>\n",
       "      <th>1</th>\n",
       "      <td>1.0</td>\n",
       "      <td>2.537713</td>\n",
       "      <td>1.102606</td>\n",
       "    </tr>\n",
       "    <tr>\n",
       "      <th>2</th>\n",
       "      <td>2.0</td>\n",
       "      <td>5.709451</td>\n",
       "      <td>0.736501</td>\n",
       "    </tr>\n",
       "    <tr>\n",
       "      <th>3</th>\n",
       "      <td>3.0</td>\n",
       "      <td>15.867197</td>\n",
       "      <td>0.588455</td>\n",
       "    </tr>\n",
       "    <tr>\n",
       "      <th>4</th>\n",
       "      <td>4.0</td>\n",
       "      <td>49.222948</td>\n",
       "      <td>0.339876</td>\n",
       "    </tr>\n",
       "    <tr>\n",
       "      <th>5</th>\n",
       "      <td>5.0</td>\n",
       "      <td>166.723845</td>\n",
       "      <td>0.180085</td>\n",
       "    </tr>\n",
       "    <tr>\n",
       "      <th>6</th>\n",
       "      <td>6.0</td>\n",
       "      <td>576.609451</td>\n",
       "      <td>0.101881</td>\n",
       "    </tr>\n",
       "  </tbody>\n",
       "</table>\n",
       "</div>"
      ],
      "text/plain": [
       "   depth        time  unknown_width\n",
       "0    0.0    1.364460       1.693359\n",
       "1    1.0    2.537713       1.102606\n",
       "2    2.0    5.709451       0.736501\n",
       "3    3.0   15.867197       0.588455\n",
       "4    4.0   49.222948       0.339876\n",
       "5    5.0  166.723845       0.180085\n",
       "6    6.0  576.609451       0.101881"
      ]
     },
     "execution_count": 3,
     "metadata": {},
     "output_type": "execute_result"
    }
   ],
   "source": [
    "df = pd.read_hdf(\"depth-time-width.hdf\")\n",
    "df"
   ]
  },
  {
   "cell_type": "code",
   "execution_count": 4,
   "metadata": {
    "ExecuteTime": {
     "end_time": "2021-01-10T05:39:54.713610Z",
     "start_time": "2021-01-10T05:39:54.672926Z"
    }
   },
   "outputs": [
    {
     "data": {
      "text/html": [
       "\n",
       "<div id=\"altair-viz-4ab9b3debec84b5f8b19dbe49fb7b95b\"></div>\n",
       "<script type=\"text/javascript\">\n",
       "  (function(spec, embedOpt){\n",
       "    let outputDiv = document.currentScript.previousElementSibling;\n",
       "    if (outputDiv.id !== \"altair-viz-4ab9b3debec84b5f8b19dbe49fb7b95b\") {\n",
       "      outputDiv = document.getElementById(\"altair-viz-4ab9b3debec84b5f8b19dbe49fb7b95b\");\n",
       "    }\n",
       "    const paths = {\n",
       "      \"vega\": \"https://cdn.jsdelivr.net/npm//vega@5?noext\",\n",
       "      \"vega-lib\": \"https://cdn.jsdelivr.net/npm//vega-lib?noext\",\n",
       "      \"vega-lite\": \"https://cdn.jsdelivr.net/npm//vega-lite@4.8.1?noext\",\n",
       "      \"vega-embed\": \"https://cdn.jsdelivr.net/npm//vega-embed@6?noext\",\n",
       "    };\n",
       "\n",
       "    function loadScript(lib) {\n",
       "      return new Promise(function(resolve, reject) {\n",
       "        var s = document.createElement('script');\n",
       "        s.src = paths[lib];\n",
       "        s.async = true;\n",
       "        s.onload = () => resolve(paths[lib]);\n",
       "        s.onerror = () => reject(`Error loading script: ${paths[lib]}`);\n",
       "        document.getElementsByTagName(\"head\")[0].appendChild(s);\n",
       "      });\n",
       "    }\n",
       "\n",
       "    function showError(err) {\n",
       "      outputDiv.innerHTML = `<div class=\"error\" style=\"color:red;\">${err}</div>`;\n",
       "      throw err;\n",
       "    }\n",
       "\n",
       "    function displayChart(vegaEmbed) {\n",
       "      vegaEmbed(outputDiv, spec, embedOpt)\n",
       "        .catch(err => showError(`Javascript Error: ${err.message}<br>This usually means there's a typo in your chart specification. See the javascript console for the full traceback.`));\n",
       "    }\n",
       "\n",
       "    if(typeof define === \"function\" && define.amd) {\n",
       "      requirejs.config({paths});\n",
       "      require([\"vega-embed\"], displayChart, err => showError(`Error loading script: ${err.message}`));\n",
       "    } else if (typeof vegaEmbed === \"function\") {\n",
       "      displayChart(vegaEmbed);\n",
       "    } else {\n",
       "      loadScript(\"vega\")\n",
       "        .then(() => loadScript(\"vega-lite\"))\n",
       "        .then(() => loadScript(\"vega-embed\"))\n",
       "        .catch(showError)\n",
       "        .then(() => displayChart(vegaEmbed));\n",
       "    }\n",
       "  })({\"config\": {\"view\": {\"continuousWidth\": 400, \"continuousHeight\": 300}}, \"layer\": [{\"mark\": {\"type\": \"line\", \"color\": \"darkblue\", \"point\": true}, \"encoding\": {\"x\": {\"type\": \"quantitative\", \"field\": \"depth\", \"title\": \"Depth\"}, \"y\": {\"type\": \"quantitative\", \"field\": \"unknown_width\", \"title\": \"Unknown Region\"}}}, {\"mark\": {\"type\": \"line\", \"color\": \"darkred\"}, \"encoding\": {\"x\": {\"type\": \"quantitative\", \"field\": \"depth\", \"title\": \"Depth\"}, \"y\": {\"type\": \"quantitative\", \"field\": \"time\", \"title\": \"Time\"}}}, {\"mark\": {\"type\": \"point\", \"color\": \"darkred\"}, \"encoding\": {\"x\": {\"type\": \"quantitative\", \"field\": \"depth\", \"title\": \"Depth\"}, \"y\": {\"type\": \"quantitative\", \"field\": \"time\", \"title\": \"Time\"}}}], \"data\": {\"name\": \"data-c55d79d46fd2bf85437b655583ae1701\"}, \"resolve\": {\"scale\": {\"y\": \"independent\"}}, \"$schema\": \"https://vega.github.io/schema/vega-lite/v4.8.1.json\", \"datasets\": {\"data-c55d79d46fd2bf85437b655583ae1701\": [{\"depth\": 0.0, \"time\": 1.3644602589920396, \"unknown_width\": 1.6933592528999664}, {\"depth\": 1.0, \"time\": 2.5377128359978087, \"unknown_width\": 1.1026057056882272}, {\"depth\": 2.0, \"time\": 5.7094505119894166, \"unknown_width\": 0.7365009408794791}, {\"depth\": 3.0, \"time\": 15.867196549996152, \"unknown_width\": 0.5884554743680599}, {\"depth\": 4.0, \"time\": 49.222948142996756, \"unknown_width\": 0.3398756619839358}, {\"depth\": 5.0, \"time\": 166.72384473099373, \"unknown_width\": 0.18008482450376584}, {\"depth\": 6.0, \"time\": 576.6094513120042, \"unknown_width\": 0.10188063862114016}]}}, {\"mode\": \"vega-lite\"});\n",
       "</script>"
      ],
      "text/plain": [
       "alt.LayerChart(...)"
      ]
     },
     "execution_count": 4,
     "metadata": {},
     "output_type": "execute_result"
    }
   ],
   "source": [
    "base_chart = alt.Chart(df).encode(\n",
    "    alt.X('depth', title='Depth'),\n",
    ")\n",
    "c1 = base_chart.encode(\n",
    "    alt.Y('unknown_width', title='Unknown Region'),\n",
    ").mark_line(point=True, color='darkblue')\n",
    "c2 = base_chart.mark_line(color='darkred').encode(\n",
    "    alt.Y('time', title='Time'),\n",
    ")\n",
    "(c1 + c2 + c2.mark_point(color='darkred')).resolve_scale(\n",
    "    y='independent',\n",
    ")"
   ]
  },
  {
   "cell_type": "code",
   "execution_count": 5,
   "metadata": {
    "ExecuteTime": {
     "end_time": "2021-01-10T06:45:37.852092Z",
     "start_time": "2021-01-10T06:45:37.794948Z"
    }
   },
   "outputs": [
    {
     "data": {
      "text/html": [
       "\n",
       "<div id=\"altair-viz-13f280059ac64bc096b43a8a3fda2922\"></div>\n",
       "<script type=\"text/javascript\">\n",
       "  (function(spec, embedOpt){\n",
       "    let outputDiv = document.currentScript.previousElementSibling;\n",
       "    if (outputDiv.id !== \"altair-viz-13f280059ac64bc096b43a8a3fda2922\") {\n",
       "      outputDiv = document.getElementById(\"altair-viz-13f280059ac64bc096b43a8a3fda2922\");\n",
       "    }\n",
       "    const paths = {\n",
       "      \"vega\": \"https://cdn.jsdelivr.net/npm//vega@5?noext\",\n",
       "      \"vega-lib\": \"https://cdn.jsdelivr.net/npm//vega-lib?noext\",\n",
       "      \"vega-lite\": \"https://cdn.jsdelivr.net/npm//vega-lite@4.8.1?noext\",\n",
       "      \"vega-embed\": \"https://cdn.jsdelivr.net/npm//vega-embed@6?noext\",\n",
       "    };\n",
       "\n",
       "    function loadScript(lib) {\n",
       "      return new Promise(function(resolve, reject) {\n",
       "        var s = document.createElement('script');\n",
       "        s.src = paths[lib];\n",
       "        s.async = true;\n",
       "        s.onload = () => resolve(paths[lib]);\n",
       "        s.onerror = () => reject(`Error loading script: ${paths[lib]}`);\n",
       "        document.getElementsByTagName(\"head\")[0].appendChild(s);\n",
       "      });\n",
       "    }\n",
       "\n",
       "    function showError(err) {\n",
       "      outputDiv.innerHTML = `<div class=\"error\" style=\"color:red;\">${err}</div>`;\n",
       "      throw err;\n",
       "    }\n",
       "\n",
       "    function displayChart(vegaEmbed) {\n",
       "      vegaEmbed(outputDiv, spec, embedOpt)\n",
       "        .catch(err => showError(`Javascript Error: ${err.message}<br>This usually means there's a typo in your chart specification. See the javascript console for the full traceback.`));\n",
       "    }\n",
       "\n",
       "    if(typeof define === \"function\" && define.amd) {\n",
       "      requirejs.config({paths});\n",
       "      require([\"vega-embed\"], displayChart, err => showError(`Error loading script: ${err.message}`));\n",
       "    } else if (typeof vegaEmbed === \"function\") {\n",
       "      displayChart(vegaEmbed);\n",
       "    } else {\n",
       "      loadScript(\"vega\")\n",
       "        .then(() => loadScript(\"vega-lite\"))\n",
       "        .then(() => loadScript(\"vega-embed\"))\n",
       "        .catch(showError)\n",
       "        .then(() => displayChart(vegaEmbed));\n",
       "    }\n",
       "  })({\"config\": {\"view\": {\"continuousWidth\": 400, \"continuousHeight\": 300}, \"font\": \"Sans\"}, \"layer\": [{\"mark\": {\"type\": \"line\", \"color\": \"#777\"}, \"encoding\": {\"x\": {\"type\": \"quantitative\", \"field\": \"time\", \"title\": \"Time\"}, \"y\": {\"type\": \"quantitative\", \"field\": \"unknown_width\", \"title\": \"Unknown Region Width\"}}, \"transform\": [{\"on\": \"unknown_width\", \"regression\": \"time\", \"method\": \"exp\"}]}, {\"mark\": {\"type\": \"circle\", \"size\": 80}, \"encoding\": {\"x\": {\"type\": \"quantitative\", \"field\": \"time\", \"title\": \"Time\"}, \"y\": {\"type\": \"quantitative\", \"field\": \"unknown_width\", \"title\": \"Unknown Region Width\"}}}, {\"mark\": {\"type\": \"text\", \"fontSize\": 20, \"xOffset\": 11, \"yOffset\": -11}, \"encoding\": {\"text\": {\"type\": \"quantitative\", \"field\": \"depth\", \"title\": \"Depth\"}, \"x\": {\"type\": \"quantitative\", \"field\": \"time\", \"title\": \"Time\"}, \"y\": {\"type\": \"quantitative\", \"field\": \"unknown_width\", \"title\": \"Unknown Region Width\"}}}], \"data\": {\"name\": \"data-c55d79d46fd2bf85437b655583ae1701\"}, \"height\": 225.68184, \"width\": 225.68184, \"$schema\": \"https://vega.github.io/schema/vega-lite/v4.8.1.json\", \"datasets\": {\"data-c55d79d46fd2bf85437b655583ae1701\": [{\"depth\": 0.0, \"time\": 1.3644602589920396, \"unknown_width\": 1.6933592528999664}, {\"depth\": 1.0, \"time\": 2.5377128359978087, \"unknown_width\": 1.1026057056882272}, {\"depth\": 2.0, \"time\": 5.7094505119894166, \"unknown_width\": 0.7365009408794791}, {\"depth\": 3.0, \"time\": 15.867196549996152, \"unknown_width\": 0.5884554743680599}, {\"depth\": 4.0, \"time\": 49.222948142996756, \"unknown_width\": 0.3398756619839358}, {\"depth\": 5.0, \"time\": 166.72384473099373, \"unknown_width\": 0.18008482450376584}, {\"depth\": 6.0, \"time\": 576.6094513120042, \"unknown_width\": 0.10188063862114016}]}}, {\"mode\": \"vega-lite\"});\n",
       "</script>"
      ],
      "text/plain": [
       "alt.LayerChart(...)"
      ]
     },
     "execution_count": 5,
     "metadata": {},
     "output_type": "execute_result"
    }
   ],
   "source": [
    "base_chart = alt.Chart(df).encode(\n",
    "    alt.X('time', title='Time'),\n",
    "    alt.Y('unknown_width', title='Unknown Region Width'),\n",
    ")\n",
    "l1 = base_chart.mark_circle(size=80)\n",
    "l2 = base_chart.encode(\n",
    "    alt.Text('depth', title='Depth'),\n",
    ").mark_text(fontSize=20, xOffset=11, yOffset=-11)\n",
    "#l3 = l1.mark_line(interpolate='basis', color='#777')\n",
    "l3 = base_chart.transform_regression('unknown_width', 'time', method='exp').mark_line(color='#777')\n",
    "(l3 + l1 + l2).configure(\n",
    "    font='Sans',\n",
    ").properties(\n",
    "    width=textwidthpx/2,\n",
    "    height=textwidthpx/2,\n",
    ")"
   ]
  },
  {
   "cell_type": "code",
   "execution_count": 85,
   "metadata": {
    "ExecuteTime": {
     "end_time": "2021-01-10T05:56:38.640876Z",
     "start_time": "2021-01-10T05:56:38.614844Z"
    }
   },
   "outputs": [
    {
     "data": {
      "text/html": [
       "\n",
       "<div id=\"altair-viz-9ef179c8d1084263ba0999c7d9429c77\"></div>\n",
       "<script type=\"text/javascript\">\n",
       "  (function(spec, embedOpt){\n",
       "    let outputDiv = document.currentScript.previousElementSibling;\n",
       "    if (outputDiv.id !== \"altair-viz-9ef179c8d1084263ba0999c7d9429c77\") {\n",
       "      outputDiv = document.getElementById(\"altair-viz-9ef179c8d1084263ba0999c7d9429c77\");\n",
       "    }\n",
       "    const paths = {\n",
       "      \"vega\": \"https://cdn.jsdelivr.net/npm//vega@5?noext\",\n",
       "      \"vega-lib\": \"https://cdn.jsdelivr.net/npm//vega-lib?noext\",\n",
       "      \"vega-lite\": \"https://cdn.jsdelivr.net/npm//vega-lite@4.8.1?noext\",\n",
       "      \"vega-embed\": \"https://cdn.jsdelivr.net/npm//vega-embed@6?noext\",\n",
       "    };\n",
       "\n",
       "    function loadScript(lib) {\n",
       "      return new Promise(function(resolve, reject) {\n",
       "        var s = document.createElement('script');\n",
       "        s.src = paths[lib];\n",
       "        s.async = true;\n",
       "        s.onload = () => resolve(paths[lib]);\n",
       "        s.onerror = () => reject(`Error loading script: ${paths[lib]}`);\n",
       "        document.getElementsByTagName(\"head\")[0].appendChild(s);\n",
       "      });\n",
       "    }\n",
       "\n",
       "    function showError(err) {\n",
       "      outputDiv.innerHTML = `<div class=\"error\" style=\"color:red;\">${err}</div>`;\n",
       "      throw err;\n",
       "    }\n",
       "\n",
       "    function displayChart(vegaEmbed) {\n",
       "      vegaEmbed(outputDiv, spec, embedOpt)\n",
       "        .catch(err => showError(`Javascript Error: ${err.message}<br>This usually means there's a typo in your chart specification. See the javascript console for the full traceback.`));\n",
       "    }\n",
       "\n",
       "    if(typeof define === \"function\" && define.amd) {\n",
       "      requirejs.config({paths});\n",
       "      require([\"vega-embed\"], displayChart, err => showError(`Error loading script: ${err.message}`));\n",
       "    } else if (typeof vegaEmbed === \"function\") {\n",
       "      displayChart(vegaEmbed);\n",
       "    } else {\n",
       "      loadScript(\"vega\")\n",
       "        .then(() => loadScript(\"vega-lite\"))\n",
       "        .then(() => loadScript(\"vega-embed\"))\n",
       "        .catch(showError)\n",
       "        .then(() => displayChart(vegaEmbed));\n",
       "    }\n",
       "  })({\"config\": {\"view\": {\"continuousWidth\": 400, \"continuousHeight\": 300}}, \"data\": {\"name\": \"data-c55d79d46fd2bf85437b655583ae1701\"}, \"mark\": \"point\", \"encoding\": {\"x\": {\"type\": \"quantitative\", \"field\": \"time\", \"title\": \"Time\"}, \"y\": {\"type\": \"quantitative\", \"field\": \"unknown_width\", \"title\": \"Unknown Region\"}}, \"transform\": [{\"on\": \"unknown_width\", \"regression\": \"time\", \"method\": \"exp\", \"params\": true}], \"$schema\": \"https://vega.github.io/schema/vega-lite/v4.8.1.json\", \"datasets\": {\"data-c55d79d46fd2bf85437b655583ae1701\": [{\"depth\": 0.0, \"time\": 1.3644602589920396, \"unknown_width\": 1.6933592528999664}, {\"depth\": 1.0, \"time\": 2.5377128359978087, \"unknown_width\": 1.1026057056882272}, {\"depth\": 2.0, \"time\": 5.7094505119894166, \"unknown_width\": 0.7365009408794791}, {\"depth\": 3.0, \"time\": 15.867196549996152, \"unknown_width\": 0.5884554743680599}, {\"depth\": 4.0, \"time\": 49.222948142996756, \"unknown_width\": 0.3398756619839358}, {\"depth\": 5.0, \"time\": 166.72384473099373, \"unknown_width\": 0.18008482450376584}, {\"depth\": 6.0, \"time\": 576.6094513120042, \"unknown_width\": 0.10188063862114016}]}}, {\"mode\": \"vega-lite\"});\n",
       "</script>"
      ],
      "text/plain": [
       "alt.Chart(...)"
      ]
     },
     "execution_count": 85,
     "metadata": {},
     "output_type": "execute_result"
    }
   ],
   "source": []
  },
  {
   "cell_type": "code",
   "execution_count": null,
   "metadata": {},
   "outputs": [],
   "source": []
  }
 ],
 "metadata": {
  "celltoolbar": "Initialization Cell",
  "kernelspec": {
   "display_name": "Python 3",
   "language": "python",
   "name": "python3"
  },
  "language_info": {
   "codemirror_mode": {
    "name": "ipython",
    "version": 3
   },
   "file_extension": ".py",
   "mimetype": "text/x-python",
   "name": "python",
   "nbconvert_exporter": "python",
   "pygments_lexer": "ipython3",
   "version": "3.8.7"
  },
  "notify_time": "10",
  "toc": {
   "base_numbering": 1,
   "nav_menu": {},
   "number_sections": true,
   "sideBar": true,
   "skip_h1_title": false,
   "title_cell": "Table of Contents",
   "title_sidebar": "Contents",
   "toc_cell": false,
   "toc_position": {},
   "toc_section_display": true,
   "toc_window_display": false
  }
 },
 "nbformat": 4,
 "nbformat_minor": 4
}
