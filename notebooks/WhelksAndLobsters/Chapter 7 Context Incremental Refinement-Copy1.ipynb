{
 "cells": [
  {
   "cell_type": "markdown",
   "metadata": {},
   "source": [
    "# Whelks and lobsters -- context operator"
   ]
  },
  {
   "cell_type": "markdown",
   "metadata": {},
   "source": [
    "## The system"
   ]
  },
  {
   "cell_type": "code",
   "execution_count": 1,
   "metadata": {
    "ExecuteTime": {
     "end_time": "2021-01-10T04:19:19.660419Z",
     "start_time": "2021-01-10T04:19:19.651106Z"
    },
    "init_cell": true
   },
   "outputs": [],
   "source": [
    "%display latex"
   ]
  },
  {
   "cell_type": "code",
   "execution_count": 2,
   "metadata": {
    "ExecuteTime": {
     "end_time": "2021-01-10T04:19:22.721848Z",
     "start_time": "2021-01-10T04:19:19.664371Z"
    },
    "init_cell": true
   },
   "outputs": [
    {
     "name": "stderr",
     "output_type": "stream",
     "text": [
      "/home/twright/Documents/PhD/Notebooks/notebooks/WhelksAndLobsters/whelks_and_lobsters_benchmarking.py:10: PyGIWarning: Notify was imported without specifying a version first. Use gi.require_version('Notify', '0.7') before import to ensure that the right version gets loaded.\n",
      "  from gi.repository import Notify\n"
     ]
    },
    {
     "name": "stdout",
     "output_type": "stream",
     "text": [
      "Running cmd: 'load \"WhelksAndLobsters.bond\"' ...\n",
      "Running cmd: 'savesage \"[0, 1.4] Whelk || [0, 8] Lobster with network N(0.8, 0.6, 0.3, 0.05, 2)\" \"/tmp/bond-sage-script-oqxit6u0.py\"' ...\n",
      "Running cmd: 'savesage \"[1, 1.2] Whelk || [4, 6] Lobster with network N(0.8, 0.6, 0.3, 0.05, 2)\" \"/tmp/bond-sage-script-pjcp5ujy.py\"' ...\n"
     ]
    }
   ],
   "source": [
    "from whelks_and_lobsters_benchmarking import *\n",
    "from lbuc import RestrictionMethod\n",
    "from lbuc import *"
   ]
  },
  {
   "cell_type": "code",
   "execution_count": 3,
   "metadata": {
    "ExecuteTime": {
     "end_time": "2021-01-10T04:19:22.730310Z",
     "start_time": "2021-01-10T04:19:22.725947Z"
    },
    "init_cell": true
   },
   "outputs": [],
   "source": [
    "from lbuc.bondcalculus import *"
   ]
  },
  {
   "cell_type": "code",
   "execution_count": 4,
   "metadata": {
    "ExecuteTime": {
     "end_time": "2021-01-10T04:19:22.835089Z",
     "start_time": "2021-01-10T04:19:22.733848Z"
    },
    "init_cell": true
   },
   "outputs": [],
   "source": [
    "p = m.process(\"[1, 1.2] Whelk || [4, 6] Lobster with network N(0.8, 0.6, 0.3, 0.05, 2)\")"
   ]
  },
  {
   "cell_type": "code",
   "execution_count": 5,
   "metadata": {
    "ExecuteTime": {
     "end_time": "2021-01-10T04:19:23.151246Z",
     "start_time": "2021-01-10T04:19:22.838137Z"
    },
    "init_cell": true
   },
   "outputs": [
    {
     "name": "stdout",
     "output_type": "stream",
     "text": [
      "Running cmd: 'savesage \"[1, 1.2] Whelk || [4, 6] Lobster with network N(0.8, 0.6, 0.3, 0.05, 2)\" \"/tmp/bond-sage-script-hjvjw2pd.py\"' ...\n"
     ]
    }
   ],
   "source": [
    "s = p.as_system"
   ]
  },
  {
   "cell_type": "markdown",
   "metadata": {},
   "source": [
    "## Property"
   ]
  },
  {
   "cell_type": "code",
   "execution_count": 16,
   "metadata": {
    "ExecuteTime": {
     "end_time": "2021-01-10T02:57:14.701819Z",
     "start_time": "2021-01-10T02:57:14.627921Z"
    }
   },
   "outputs": [],
   "source": [
    "P = Atomic((var(\"Whelk\") - 1)^2 + var(\"Lobster\")^2 > 0.2)\n",
    "prop = F(RIF(0.1, 0.2), P)"
   ]
  },
  {
   "cell_type": "code",
   "execution_count": 17,
   "metadata": {
    "ExecuteTime": {
     "end_time": "2021-01-10T02:57:14.723959Z",
     "start_time": "2021-01-10T02:57:14.704488Z"
    }
   },
   "outputs": [],
   "source": [
    "kwargs = dict(\n",
    "    precondition=1,\n",
    "    estimation=1e-3,\n",
    "    integrationScheme=2,\n",
    "    cutoff_threshold=1e-5,\n",
    "    symbolic_composition=True,\n",
    "    use_masks=True)"
   ]
  },
  {
   "cell_type": "code",
   "execution_count": 116,
   "metadata": {
    "ExecuteTime": {
     "end_time": "2021-01-10T03:55:50.326994Z",
     "start_time": "2021-01-10T03:55:50.300092Z"
    }
   },
   "outputs": [
    {
     "data": {
      "text/html": [
       "<html><script type=\"math/tex; mode=display\">\\newcommand{\\Bold}[1]{\\mathbf{#1}}\\left[\\left(0, 0.0200000000000000, 5\\right), \\left(1, 0.0200000000000000, 5\\right), \\left(2, 0.0200000000000000, 5\\right), \\left(3, 0.0200000000000000, 5\\right), \\left(0, 0.100000000000000, 5\\right), \\left(0, 0.0990000000000001, 5\\right), \\left(0, 0.0980000000000001, 5\\right), \\left(0, 0.0970000000000001, 5\\right), \\left(0, 0.0960000000000001, 5\\right), \\left(0, 0.0950000000000001, 5\\right), \\left(0, 0.0940000000000001, 5\\right), \\left(0, 0.0930000000000001, 5\\right), \\left(0, 0.0920000000000001, 5\\right), \\left(0, 0.0910000000000001, 5\\right), \\left(0, 0.0900000000000001, 5\\right), \\left(0, 0.0890000000000001, 5\\right), \\left(0, 0.0880000000000001, 5\\right), \\left(0, 0.0870000000000001, 5\\right), \\left(0, 0.0860000000000001, 5\\right), \\left(0, 0.0850000000000001, 5\\right), \\left(0, 0.0840000000000001, 5\\right), \\left(0, 0.0830000000000001, 5\\right), \\left(0, 0.0820000000000001, 5\\right), \\left(0, 0.0810000000000001, 5\\right), \\left(0, 0.0800000000000001, 5\\right), \\left(0, 0.0790000000000001, 5\\right), \\left(0, 0.0780000000000001, 5\\right), \\left(0, 0.0770000000000001, 5\\right), \\left(0, 0.0760000000000001, 5\\right), \\left(0, 0.0750000000000001, 5\\right), \\left(0, 0.0740000000000001, 5\\right), \\left(0, 0.0730000000000001, 5\\right), \\left(0, 0.0720000000000001, 5\\right), \\left(0, 0.0710000000000000, 5\\right), \\left(0, 0.0700000000000000, 5\\right), \\left(0, 0.0690000000000000, 5\\right), \\left(0, 0.0680000000000000, 5\\right), \\left(0, 0.0670000000000000, 5\\right), \\left(0, 0.0660000000000000, 5\\right), \\left(0, 0.0650000000000000, 5\\right), \\left(0, 0.0640000000000000, 5\\right), \\left(0, 0.0630000000000000, 5\\right), \\left(0, 0.0620000000000000, 5\\right), \\left(0, 0.0610000000000000, 5\\right), \\left(0, 0.0600000000000000, 5\\right), \\left(0, 0.0590000000000000, 5\\right), \\left(0, 0.0580000000000000, 5\\right), \\left(0, 0.0570000000000000, 5\\right), \\left(0, 0.0560000000000000, 5\\right), \\left(0, 0.0550000000000000, 5\\right), \\left(0, 0.0540000000000000, 5\\right), \\left(0, 0.0530000000000000, 5\\right), \\left(0, 0.0520000000000000, 5\\right), \\left(0, 0.0510000000000000, 5\\right), \\left(0, 0.0500000000000000, 5\\right), \\left(0, 0.0490000000000000, 5\\right), \\left(0, 0.0480000000000000, 5\\right), \\left(0, 0.0470000000000000, 5\\right), \\left(0, 0.0460000000000000, 5\\right), \\left(0, 0.0450000000000000, 5\\right), \\left(0, 0.0440000000000000, 5\\right), \\left(0, 0.0430000000000000, 5\\right), \\left(0, 0.0420000000000000, 5\\right), \\left(0, 0.0410000000000000, 5\\right), \\left(0, 0.0400000000000000, 5\\right), \\left(0, 0.0390000000000000, 5\\right), \\left(0, 0.0380000000000000, 5\\right), \\left(0, 0.0370000000000000, 5\\right), \\left(0, 0.0360000000000000, 5\\right), \\left(0, 0.0350000000000000, 5\\right), \\left(0, 0.0340000000000000, 5\\right), \\left(0, 0.0330000000000000, 5\\right), \\left(0, 0.0320000000000000, 5\\right), \\left(0, 0.0310000000000000, 5\\right), \\left(0, 0.0300000000000000, 5\\right), \\left(0, 0.0290000000000000, 5\\right), \\left(0, 0.0280000000000000, 5\\right), \\left(0, 0.0270000000000000, 5\\right), \\left(0, 0.0260000000000000, 5\\right), \\left(0, 0.0250000000000000, 5\\right), \\left(0, 0.0240000000000000, 5\\right), \\left(0, 0.0230000000000000, 5\\right), \\left(0, 0.0220000000000000, 5\\right), \\left(0, 0.0210000000000000, 5\\right), \\left(0, 0.0200000000000000, 5\\right), \\left(0, 0.0190000000000000, 5\\right), \\left(0, 0.0180000000000000, 5\\right), \\left(0, 0.0170000000000000, 5\\right), \\left(0, 0.0160000000000000, 5\\right), \\left(0, 0.0150000000000000, 5\\right), \\left(0, 0.0140000000000000, 5\\right), \\left(0, 0.0130000000000000, 5\\right), \\left(0, 0.0120000000000000, 5\\right), \\left(0, 0.0110000000000000, 5\\right), \\left(0, 0.0100000000000000, 5\\right), \\left(0, 0.00900000000000000, 5\\right), \\left(0, 0.00800000000000000, 5\\right), \\left(0, 0.00700000000000000, 5\\right), \\left(0, 0.00600000000000000, 5\\right), \\left(0, 0.00500000000000000, 5\\right), \\left(0, 0.00400000000000000, 5\\right), \\left(0, 0.00300000000000000, 5\\right), \\left(0, 0.00200000000000000, 5\\right), \\left(0, 0.00100000000000000, 5\\right)\\right]</script></html>"
      ],
      "text/plain": [
       "[(0, 0.0200000000000000, 5),\n",
       " (1, 0.0200000000000000, 5),\n",
       " (2, 0.0200000000000000, 5),\n",
       " (3, 0.0200000000000000, 5),\n",
       " (0, 0.100000000000000, 5),\n",
       " (0, 0.0990000000000001, 5),\n",
       " (0, 0.0980000000000001, 5),\n",
       " (0, 0.0970000000000001, 5),\n",
       " (0, 0.0960000000000001, 5),\n",
       " (0, 0.0950000000000001, 5),\n",
       " (0, 0.0940000000000001, 5),\n",
       " (0, 0.0930000000000001, 5),\n",
       " (0, 0.0920000000000001, 5),\n",
       " (0, 0.0910000000000001, 5),\n",
       " (0, 0.0900000000000001, 5),\n",
       " (0, 0.0890000000000001, 5),\n",
       " (0, 0.0880000000000001, 5),\n",
       " (0, 0.0870000000000001, 5),\n",
       " (0, 0.0860000000000001, 5),\n",
       " (0, 0.0850000000000001, 5),\n",
       " (0, 0.0840000000000001, 5),\n",
       " (0, 0.0830000000000001, 5),\n",
       " (0, 0.0820000000000001, 5),\n",
       " (0, 0.0810000000000001, 5),\n",
       " (0, 0.0800000000000001, 5),\n",
       " (0, 0.0790000000000001, 5),\n",
       " (0, 0.0780000000000001, 5),\n",
       " (0, 0.0770000000000001, 5),\n",
       " (0, 0.0760000000000001, 5),\n",
       " (0, 0.0750000000000001, 5),\n",
       " (0, 0.0740000000000001, 5),\n",
       " (0, 0.0730000000000001, 5),\n",
       " (0, 0.0720000000000001, 5),\n",
       " (0, 0.0710000000000000, 5),\n",
       " (0, 0.0700000000000000, 5),\n",
       " (0, 0.0690000000000000, 5),\n",
       " (0, 0.0680000000000000, 5),\n",
       " (0, 0.0670000000000000, 5),\n",
       " (0, 0.0660000000000000, 5),\n",
       " (0, 0.0650000000000000, 5),\n",
       " (0, 0.0640000000000000, 5),\n",
       " (0, 0.0630000000000000, 5),\n",
       " (0, 0.0620000000000000, 5),\n",
       " (0, 0.0610000000000000, 5),\n",
       " (0, 0.0600000000000000, 5),\n",
       " (0, 0.0590000000000000, 5),\n",
       " (0, 0.0580000000000000, 5),\n",
       " (0, 0.0570000000000000, 5),\n",
       " (0, 0.0560000000000000, 5),\n",
       " (0, 0.0550000000000000, 5),\n",
       " (0, 0.0540000000000000, 5),\n",
       " (0, 0.0530000000000000, 5),\n",
       " (0, 0.0520000000000000, 5),\n",
       " (0, 0.0510000000000000, 5),\n",
       " (0, 0.0500000000000000, 5),\n",
       " (0, 0.0490000000000000, 5),\n",
       " (0, 0.0480000000000000, 5),\n",
       " (0, 0.0470000000000000, 5),\n",
       " (0, 0.0460000000000000, 5),\n",
       " (0, 0.0450000000000000, 5),\n",
       " (0, 0.0440000000000000, 5),\n",
       " (0, 0.0430000000000000, 5),\n",
       " (0, 0.0420000000000000, 5),\n",
       " (0, 0.0410000000000000, 5),\n",
       " (0, 0.0400000000000000, 5),\n",
       " (0, 0.0390000000000000, 5),\n",
       " (0, 0.0380000000000000, 5),\n",
       " (0, 0.0370000000000000, 5),\n",
       " (0, 0.0360000000000000, 5),\n",
       " (0, 0.0350000000000000, 5),\n",
       " (0, 0.0340000000000000, 5),\n",
       " (0, 0.0330000000000000, 5),\n",
       " (0, 0.0320000000000000, 5),\n",
       " (0, 0.0310000000000000, 5),\n",
       " (0, 0.0300000000000000, 5),\n",
       " (0, 0.0290000000000000, 5),\n",
       " (0, 0.0280000000000000, 5),\n",
       " (0, 0.0270000000000000, 5),\n",
       " (0, 0.0260000000000000, 5),\n",
       " (0, 0.0250000000000000, 5),\n",
       " (0, 0.0240000000000000, 5),\n",
       " (0, 0.0230000000000000, 5),\n",
       " (0, 0.0220000000000000, 5),\n",
       " (0, 0.0210000000000000, 5),\n",
       " (0, 0.0200000000000000, 5),\n",
       " (0, 0.0190000000000000, 5),\n",
       " (0, 0.0180000000000000, 5),\n",
       " (0, 0.0170000000000000, 5),\n",
       " (0, 0.0160000000000000, 5),\n",
       " (0, 0.0150000000000000, 5),\n",
       " (0, 0.0140000000000000, 5),\n",
       " (0, 0.0130000000000000, 5),\n",
       " (0, 0.0120000000000000, 5),\n",
       " (0, 0.0110000000000000, 5),\n",
       " (0, 0.0100000000000000, 5),\n",
       " (0, 0.00900000000000000, 5),\n",
       " (0, 0.00800000000000000, 5),\n",
       " (0, 0.00700000000000000, 5),\n",
       " (0, 0.00600000000000000, 5),\n",
       " (0, 0.00500000000000000, 5),\n",
       " (0, 0.00400000000000000, 5),\n",
       " (0, 0.00300000000000000, 5),\n",
       " (0, 0.00200000000000000, 5),\n",
       " (0, 0.00100000000000000, 5)]"
      ]
     },
     "execution_count": 116,
     "metadata": {},
     "output_type": "execute_result"
    }
   ],
   "source": [
    "psets = (\n",
    "    [(d, 0.02, 5) for d in range(4)]\n",
    "  + [(0, k, 5) for k in reversed(srange(0.001, 0.1, 0.001, include_endpoint=True))]\n",
    "  #+ [(0, 0.02, o) for o in range(5, 10)]\n",
    "  #+ [(0, k, o) for k, o in zip(reversed(srange(0.005, 0.02, 0.005, include_endpoint=True)), range(5, 10))]\n",
    "); psets"
   ]
  },
  {
   "cell_type": "code",
   "execution_count": 117,
   "metadata": {
    "ExecuteTime": {
     "end_time": "2021-01-10T03:55:57.208733Z",
     "start_time": "2021-01-10T03:55:57.200195Z"
    }
   },
   "outputs": [],
   "source": [
    "def res(vs):\n",
    "    depth, step, order = vs\n",
    "    return test_signal_refinement(\n",
    "        f'depth-{depth}-{step}-{order}',\n",
    "        prop,\n",
    "        5,\n",
    "        depth,\n",
    "        order=order,\n",
    "        step=step,\n",
    "        **kwargs,\n",
    "    )"
   ]
  },
  {
   "cell_type": "code",
   "execution_count": 118,
   "metadata": {
    "ExecuteTime": {
     "end_time": "2021-01-10T03:57:02.768361Z",
     "start_time": "2021-01-10T03:55:58.185720Z"
    }
   },
   "outputs": [],
   "source": [
    "ress = list(pool.map(res, psets))"
   ]
  },
  {
   "cell_type": "code",
   "execution_count": 114,
   "metadata": {
    "ExecuteTime": {
     "end_time": "2021-01-10T03:54:24.260596Z",
     "start_time": "2021-01-10T03:54:24.247502Z"
    }
   },
   "outputs": [
    {
     "data": {
      "text/html": [
       "<html><script type=\"math/tex; mode=display\">\\newcommand{\\Bold}[1]{\\mathbf{#1}}\\left[\\left(3.4494375939975725, \\verb|Signal([0.0000000000000000|\\phantom{\\verb!x!}\\verb|..|\\phantom{\\verb!x!}\\verb|5.0000000000000000],|\\phantom{\\verb!x!}\\verb|[([0.0000000000000000|\\phantom{\\verb!x!}\\verb|..|\\phantom{\\verb!x!}\\verb|0.63999999999999602],|\\phantom{\\verb!x!}\\verb|True),|\\phantom{\\verb!x!}\\verb|([2.2400000000000024|\\phantom{\\verb!x!}\\verb|..|\\phantom{\\verb!x!}\\verb|5.0000000000000000],|\\phantom{\\verb!x!}\\verb|False)],|\\phantom{\\verb!x!}\\verb|mask=Mask([0.0000000000000000|\\phantom{\\verb!x!}\\verb|..|\\phantom{\\verb!x!}\\verb|5.0000000000000000],|\\phantom{\\verb!x!}\\verb|[[0.0000000000000000|\\phantom{\\verb!x!}\\verb|..|\\phantom{\\verb!x!}\\verb|5.0000000000000000]]))|, \\verb|<flowstar.instrumentation.AggregateMetric|\\phantom{\\verb!x!}\\verb|object|\\phantom{\\verb!x!}\\verb|at|\\phantom{\\verb!x!}\\verb|0x7f1667c85d40>|\\right), \\left(6.239714249008102, \\verb|Signal([0.0000000000000000|\\phantom{\\verb!x!}\\verb|..|\\phantom{\\verb!x!}\\verb|5.0000000000000000],|\\phantom{\\verb!x!}\\verb|[([0.0000000000000000|\\phantom{\\verb!x!}\\verb|..|\\phantom{\\verb!x!}\\verb|0.93999999999999262],|\\phantom{\\verb!x!}\\verb|True),|\\phantom{\\verb!x!}\\verb|([1.9800000000000019|\\phantom{\\verb!x!}\\verb|..|\\phantom{\\verb!x!}\\verb|5.0000000000000000],|\\phantom{\\verb!x!}\\verb|False)],|\\phantom{\\verb!x!}\\verb|mask=Mask([0.0000000000000000|\\phantom{\\verb!x!}\\verb|..|\\phantom{\\verb!x!}\\verb|5.0000000000000000],|\\phantom{\\verb!x!}\\verb|[[0.0000000000000000|\\phantom{\\verb!x!}\\verb|..|\\phantom{\\verb!x!}\\verb|5.0000000000000000]]))|, \\verb|<flowstar.instrumentation.AggregateMetric|\\phantom{\\verb!x!}\\verb|object|\\phantom{\\verb!x!}\\verb|at|\\phantom{\\verb!x!}\\verb|0x7f16677af740>|\\right), \\left(13.994370072003221, \\verb|Signal([0.0000000000000000|\\phantom{\\verb!x!}\\verb|..|\\phantom{\\verb!x!}\\verb|5.0000000000000000],|\\phantom{\\verb!x!}\\verb|[([0.0000000000000000|\\phantom{\\verb!x!}\\verb|..|\\phantom{\\verb!x!}\\verb|1.0799999999999897],|\\phantom{\\verb!x!}\\verb|True),|\\phantom{\\verb!x!}\\verb|([1.8000000000000018|\\phantom{\\verb!x!}\\verb|..|\\phantom{\\verb!x!}\\verb|5.0000000000000000],|\\phantom{\\verb!x!}\\verb|False)],|\\phantom{\\verb!x!}\\verb|mask=Mask([0.0000000000000000|\\phantom{\\verb!x!}\\verb|..|\\phantom{\\verb!x!}\\verb|5.0000000000000000],|\\phantom{\\verb!x!}\\verb|[[0.0000000000000000|\\phantom{\\verb!x!}\\verb|..|\\phantom{\\verb!x!}\\verb|5.0000000000000000]]))|, \\verb|<flowstar.instrumentation.AggregateMetric|\\phantom{\\verb!x!}\\verb|object|\\phantom{\\verb!x!}\\verb|at|\\phantom{\\verb!x!}\\verb|0x7f16677b1240>|\\right), \\left(40.81256376800593, \\verb|Signal([0.0000000000000000|\\phantom{\\verb!x!}\\verb|..|\\phantom{\\verb!x!}\\verb|5.0000000000000000],|\\phantom{\\verb!x!}\\verb|[([0.0000000000000000|\\phantom{\\verb!x!}\\verb|..|\\phantom{\\verb!x!}\\verb|1.1399999999999884],|\\phantom{\\verb!x!}\\verb|True),|\\phantom{\\verb!x!}\\verb|([1.6930245218332304|\\phantom{\\verb!x!}\\verb|..|\\phantom{\\verb!x!}\\verb|5.0000000000000000],|\\phantom{\\verb!x!}\\verb|False)],|\\phantom{\\verb!x!}\\verb|mask=Mask([0.0000000000000000|\\phantom{\\verb!x!}\\verb|..|\\phantom{\\verb!x!}\\verb|5.0000000000000000],|\\phantom{\\verb!x!}\\verb|[[0.0000000000000000|\\phantom{\\verb!x!}\\verb|..|\\phantom{\\verb!x!}\\verb|5.0000000000000000]]))|, \\verb|<flowstar.instrumentation.AggregateMetric|\\phantom{\\verb!x!}\\verb|object|\\phantom{\\verb!x!}\\verb|at|\\phantom{\\verb!x!}\\verb|0x7f16677b1fc0>|\\right), \\left(0.020907706013531424, \\verb|Signal([0.0000000000000000|\\phantom{\\verb!x!}\\verb|..|\\phantom{\\verb!x!}\\verb|5.0000000000000000],|\\phantom{\\verb!x!}\\verb|[],|\\phantom{\\verb!x!}\\verb|mask=Mask([0.0000000000000000|\\phantom{\\verb!x!}\\verb|..|\\phantom{\\verb!x!}\\verb|5.0000000000000000],|\\phantom{\\verb!x!}\\verb|[[0.0000000000000000|\\phantom{\\verb!x!}\\verb|..|\\phantom{\\verb!x!}\\verb|5.0000000000000000]]))|, \\verb|<flowstar.instrumentation.AggregateMetric|\\phantom{\\verb!x!}\\verb|object|\\phantom{\\verb!x!}\\verb|at|\\phantom{\\verb!x!}\\verb|0x7f1667c85bc0>|\\right), \\left(0.02156324000679888, \\verb|Signal([0.0000000000000000|\\phantom{\\verb!x!}\\verb|..|\\phantom{\\verb!x!}\\verb|5.0000000000000000],|\\phantom{\\verb!x!}\\verb|[],|\\phantom{\\verb!x!}\\verb|mask=Mask([0.0000000000000000|\\phantom{\\verb!x!}\\verb|..|\\phantom{\\verb!x!}\\verb|5.0000000000000000],|\\phantom{\\verb!x!}\\verb|[[0.0000000000000000|\\phantom{\\verb!x!}\\verb|..|\\phantom{\\verb!x!}\\verb|5.0000000000000000]]))|, \\verb|<flowstar.instrumentation.AggregateMetric|\\phantom{\\verb!x!}\\verb|object|\\phantom{\\verb!x!}\\verb|at|\\phantom{\\verb!x!}\\verb|0x7f1668a15b00>|\\right), \\left(0.023788321996107697, \\verb|Signal([0.0000000000000000|\\phantom{\\verb!x!}\\verb|..|\\phantom{\\verb!x!}\\verb|5.0000000000000000],|\\phantom{\\verb!x!}\\verb|[],|\\phantom{\\verb!x!}\\verb|mask=Mask([0.0000000000000000|\\phantom{\\verb!x!}\\verb|..|\\phantom{\\verb!x!}\\verb|5.0000000000000000],|\\phantom{\\verb!x!}\\verb|[[0.0000000000000000|\\phantom{\\verb!x!}\\verb|..|\\phantom{\\verb!x!}\\verb|5.0000000000000000]]))|, \\verb|<flowstar.instrumentation.AggregateMetric|\\phantom{\\verb!x!}\\verb|object|\\phantom{\\verb!x!}\\verb|at|\\phantom{\\verb!x!}\\verb|0x7f16677a5f40>|\\right), \\left(0.02477204099704977, \\verb|Signal([0.0000000000000000|\\phantom{\\verb!x!}\\verb|..|\\phantom{\\verb!x!}\\verb|5.0000000000000000],|\\phantom{\\verb!x!}\\verb|[],|\\phantom{\\verb!x!}\\verb|mask=Mask([0.0000000000000000|\\phantom{\\verb!x!}\\verb|..|\\phantom{\\verb!x!}\\verb|5.0000000000000000],|\\phantom{\\verb!x!}\\verb|[[0.0000000000000000|\\phantom{\\verb!x!}\\verb|..|\\phantom{\\verb!x!}\\verb|5.0000000000000000]]))|, \\verb|<flowstar.instrumentation.AggregateMetric|\\phantom{\\verb!x!}\\verb|object|\\phantom{\\verb!x!}\\verb|at|\\phantom{\\verb!x!}\\verb|0x7f16677a5140>|\\right), \\left(0.02406691999931354, \\verb|Signal([0.0000000000000000|\\phantom{\\verb!x!}\\verb|..|\\phantom{\\verb!x!}\\verb|5.0000000000000000],|\\phantom{\\verb!x!}\\verb|[],|\\phantom{\\verb!x!}\\verb|mask=Mask([0.0000000000000000|\\phantom{\\verb!x!}\\verb|..|\\phantom{\\verb!x!}\\verb|5.0000000000000000],|\\phantom{\\verb!x!}\\verb|[[0.0000000000000000|\\phantom{\\verb!x!}\\verb|..|\\phantom{\\verb!x!}\\verb|5.0000000000000000]]))|, \\verb|<flowstar.instrumentation.AggregateMetric|\\phantom{\\verb!x!}\\verb|object|\\phantom{\\verb!x!}\\verb|at|\\phantom{\\verb!x!}\\verb|0x7f16677a5480>|\\right), \\left(0.027461780002340674, \\verb|Signal([0.0000000000000000|\\phantom{\\verb!x!}\\verb|..|\\phantom{\\verb!x!}\\verb|5.0000000000000000],|\\phantom{\\verb!x!}\\verb|[],|\\phantom{\\verb!x!}\\verb|mask=Mask([0.0000000000000000|\\phantom{\\verb!x!}\\verb|..|\\phantom{\\verb!x!}\\verb|5.0000000000000000],|\\phantom{\\verb!x!}\\verb|[[0.0000000000000000|\\phantom{\\verb!x!}\\verb|..|\\phantom{\\verb!x!}\\verb|5.0000000000000000]]))|, \\verb|<flowstar.instrumentation.AggregateMetric|\\phantom{\\verb!x!}\\verb|object|\\phantom{\\verb!x!}\\verb|at|\\phantom{\\verb!x!}\\verb|0x7f16677a5880>|\\right), \\left(0.025863664006465115, \\verb|Signal([0.0000000000000000|\\phantom{\\verb!x!}\\verb|..|\\phantom{\\verb!x!}\\verb|5.0000000000000000],|\\phantom{\\verb!x!}\\verb|[],|\\phantom{\\verb!x!}\\verb|mask=Mask([0.0000000000000000|\\phantom{\\verb!x!}\\verb|..|\\phantom{\\verb!x!}\\verb|5.0000000000000000],|\\phantom{\\verb!x!}\\verb|[[0.0000000000000000|\\phantom{\\verb!x!}\\verb|..|\\phantom{\\verb!x!}\\verb|5.0000000000000000]]))|, \\verb|<flowstar.instrumentation.AggregateMetric|\\phantom{\\verb!x!}\\verb|object|\\phantom{\\verb!x!}\\verb|at|\\phantom{\\verb!x!}\\verb|0x7f16677a8880>|\\right), \\left(0.025842711998848245, \\verb|Signal([0.0000000000000000|\\phantom{\\verb!x!}\\verb|..|\\phantom{\\verb!x!}\\verb|5.0000000000000000],|\\phantom{\\verb!x!}\\verb|[],|\\phantom{\\verb!x!}\\verb|mask=Mask([0.0000000000000000|\\phantom{\\verb!x!}\\verb|..|\\phantom{\\verb!x!}\\verb|5.0000000000000000],|\\phantom{\\verb!x!}\\verb|[[0.0000000000000000|\\phantom{\\verb!x!}\\verb|..|\\phantom{\\verb!x!}\\verb|5.0000000000000000]]))|, \\verb|<flowstar.instrumentation.AggregateMetric|\\phantom{\\verb!x!}\\verb|object|\\phantom{\\verb!x!}\\verb|at|\\phantom{\\verb!x!}\\verb|0x7f16677a8580>|\\right), \\left(0.019851282006129622, \\verb|Signal([0.0000000000000000|\\phantom{\\verb!x!}\\verb|..|\\phantom{\\verb!x!}\\verb|5.0000000000000000],|\\phantom{\\verb!x!}\\verb|[],|\\phantom{\\verb!x!}\\verb|mask=Mask([0.0000000000000000|\\phantom{\\verb!x!}\\verb|..|\\phantom{\\verb!x!}\\verb|5.0000000000000000],|\\phantom{\\verb!x!}\\verb|[[0.0000000000000000|\\phantom{\\verb!x!}\\verb|..|\\phantom{\\verb!x!}\\verb|5.0000000000000000]]))|, \\verb|<flowstar.instrumentation.AggregateMetric|\\phantom{\\verb!x!}\\verb|object|\\phantom{\\verb!x!}\\verb|at|\\phantom{\\verb!x!}\\verb|0x7f16677a8d40>|\\right), \\left(0.024541982013033703, \\verb|Signal([0.0000000000000000|\\phantom{\\verb!x!}\\verb|..|\\phantom{\\verb!x!}\\verb|5.0000000000000000],|\\phantom{\\verb!x!}\\verb|[],|\\phantom{\\verb!x!}\\verb|mask=Mask([0.0000000000000000|\\phantom{\\verb!x!}\\verb|..|\\phantom{\\verb!x!}\\verb|5.0000000000000000],|\\phantom{\\verb!x!}\\verb|[[0.0000000000000000|\\phantom{\\verb!x!}\\verb|..|\\phantom{\\verb!x!}\\verb|5.0000000000000000]]))|, \\verb|<flowstar.instrumentation.AggregateMetric|\\phantom{\\verb!x!}\\verb|object|\\phantom{\\verb!x!}\\verb|at|\\phantom{\\verb!x!}\\verb|0x7f16677a8140>|\\right), \\left(0.02379041699168738, \\verb|Signal([0.0000000000000000|\\phantom{\\verb!x!}\\verb|..|\\phantom{\\verb!x!}\\verb|5.0000000000000000],|\\phantom{\\verb!x!}\\verb|[],|\\phantom{\\verb!x!}\\verb|mask=Mask([0.0000000000000000|\\phantom{\\verb!x!}\\verb|..|\\phantom{\\verb!x!}\\verb|5.0000000000000000],|\\phantom{\\verb!x!}\\verb|[[0.0000000000000000|\\phantom{\\verb!x!}\\verb|..|\\phantom{\\verb!x!}\\verb|5.0000000000000000]]))|, \\verb|<flowstar.instrumentation.AggregateMetric|\\phantom{\\verb!x!}\\verb|object|\\phantom{\\verb!x!}\\verb|at|\\phantom{\\verb!x!}\\verb|0x7f16677a8b80>|\\right), \\left(0.01884779801184777, \\verb|Signal([0.0000000000000000|\\phantom{\\verb!x!}\\verb|..|\\phantom{\\verb!x!}\\verb|5.0000000000000000],|\\phantom{\\verb!x!}\\verb|[],|\\phantom{\\verb!x!}\\verb|mask=Mask([0.0000000000000000|\\phantom{\\verb!x!}\\verb|..|\\phantom{\\verb!x!}\\verb|5.0000000000000000],|\\phantom{\\verb!x!}\\verb|[[0.0000000000000000|\\phantom{\\verb!x!}\\verb|..|\\phantom{\\verb!x!}\\verb|5.0000000000000000]]))|, \\verb|<flowstar.instrumentation.AggregateMetric|\\phantom{\\verb!x!}\\verb|object|\\phantom{\\verb!x!}\\verb|at|\\phantom{\\verb!x!}\\verb|0x7f166779a0c0>|\\right), \\left(0.027699519996531308, \\verb|Signal([0.0000000000000000|\\phantom{\\verb!x!}\\verb|..|\\phantom{\\verb!x!}\\verb|5.0000000000000000],|\\phantom{\\verb!x!}\\verb|[],|\\phantom{\\verb!x!}\\verb|mask=Mask([0.0000000000000000|\\phantom{\\verb!x!}\\verb|..|\\phantom{\\verb!x!}\\verb|5.0000000000000000],|\\phantom{\\verb!x!}\\verb|[[0.0000000000000000|\\phantom{\\verb!x!}\\verb|..|\\phantom{\\verb!x!}\\verb|5.0000000000000000]]))|, \\verb|<flowstar.instrumentation.AggregateMetric|\\phantom{\\verb!x!}\\verb|object|\\phantom{\\verb!x!}\\verb|at|\\phantom{\\verb!x!}\\verb|0x7f166779a300>|\\right), \\left(0.02049166000506375, \\verb|Signal([0.0000000000000000|\\phantom{\\verb!x!}\\verb|..|\\phantom{\\verb!x!}\\verb|5.0000000000000000],|\\phantom{\\verb!x!}\\verb|[],|\\phantom{\\verb!x!}\\verb|mask=Mask([0.0000000000000000|\\phantom{\\verb!x!}\\verb|..|\\phantom{\\verb!x!}\\verb|5.0000000000000000],|\\phantom{\\verb!x!}\\verb|[[0.0000000000000000|\\phantom{\\verb!x!}\\verb|..|\\phantom{\\verb!x!}\\verb|5.0000000000000000]]))|, \\verb|<flowstar.instrumentation.AggregateMetric|\\phantom{\\verb!x!}\\verb|object|\\phantom{\\verb!x!}\\verb|at|\\phantom{\\verb!x!}\\verb|0x7f166779a540>|\\right), \\left(0.02478887299366761, \\verb|Signal([0.0000000000000000|\\phantom{\\verb!x!}\\verb|..|\\phantom{\\verb!x!}\\verb|5.0000000000000000],|\\phantom{\\verb!x!}\\verb|[],|\\phantom{\\verb!x!}\\verb|mask=Mask([0.0000000000000000|\\phantom{\\verb!x!}\\verb|..|\\phantom{\\verb!x!}\\verb|5.0000000000000000],|\\phantom{\\verb!x!}\\verb|[[0.0000000000000000|\\phantom{\\verb!x!}\\verb|..|\\phantom{\\verb!x!}\\verb|5.0000000000000000]]))|, \\verb|<flowstar.instrumentation.AggregateMetric|\\phantom{\\verb!x!}\\verb|object|\\phantom{\\verb!x!}\\verb|at|\\phantom{\\verb!x!}\\verb|0x7f166779a780>|\\right), \\left(0.02451858601125423, \\verb|Signal([0.0000000000000000|\\phantom{\\verb!x!}\\verb|..|\\phantom{\\verb!x!}\\verb|5.0000000000000000],|\\phantom{\\verb!x!}\\verb|[],|\\phantom{\\verb!x!}\\verb|mask=Mask([0.0000000000000000|\\phantom{\\verb!x!}\\verb|..|\\phantom{\\verb!x!}\\verb|5.0000000000000000],|\\phantom{\\verb!x!}\\verb|[[0.0000000000000000|\\phantom{\\verb!x!}\\verb|..|\\phantom{\\verb!x!}\\verb|5.0000000000000000]]))|, \\verb|<flowstar.instrumentation.AggregateMetric|\\phantom{\\verb!x!}\\verb|object|\\phantom{\\verb!x!}\\verb|at|\\phantom{\\verb!x!}\\verb|0x7f166779a9c0>|\\right), \\left(0.048250057006953284, \\verb|Signal([0.0000000000000000|\\phantom{\\verb!x!}\\verb|..|\\phantom{\\verb!x!}\\verb|5.0000000000000000],|\\phantom{\\verb!x!}\\verb|[],|\\phantom{\\verb!x!}\\verb|mask=Mask([0.0000000000000000|\\phantom{\\verb!x!}\\verb|..|\\phantom{\\verb!x!}\\verb|5.0000000000000000],|\\phantom{\\verb!x!}\\verb|[[0.0000000000000000|\\phantom{\\verb!x!}\\verb|..|\\phantom{\\verb!x!}\\verb|5.0000000000000000]]))|, \\verb|<flowstar.instrumentation.AggregateMetric|\\phantom{\\verb!x!}\\verb|object|\\phantom{\\verb!x!}\\verb|at|\\phantom{\\verb!x!}\\verb|0x7f166779ac00>|\\right), \\left(0.07279902399750426, \\verb|Signal([0.0000000000000000|\\phantom{\\verb!x!}\\verb|..|\\phantom{\\verb!x!}\\verb|5.0000000000000000],|\\phantom{\\verb!x!}\\verb|[],|\\phantom{\\verb!x!}\\verb|mask=Mask([0.0000000000000000|\\phantom{\\verb!x!}\\verb|..|\\phantom{\\verb!x!}\\verb|5.0000000000000000],|\\phantom{\\verb!x!}\\verb|[[0.0000000000000000|\\phantom{\\verb!x!}\\verb|..|\\phantom{\\verb!x!}\\verb|5.0000000000000000]]))|, \\verb|<flowstar.instrumentation.AggregateMetric|\\phantom{\\verb!x!}\\verb|object|\\phantom{\\verb!x!}\\verb|at|\\phantom{\\verb!x!}\\verb|0x7f166779ae40>|\\right), \\left(0.1268837849929696, \\verb|Signal([0.0000000000000000|\\phantom{\\verb!x!}\\verb|..|\\phantom{\\verb!x!}\\verb|5.0000000000000000],|\\phantom{\\verb!x!}\\verb|[],|\\phantom{\\verb!x!}\\verb|mask=Mask([0.0000000000000000|\\phantom{\\verb!x!}\\verb|..|\\phantom{\\verb!x!}\\verb|5.0000000000000000],|\\phantom{\\verb!x!}\\verb|[[0.0000000000000000|\\phantom{\\verb!x!}\\verb|..|\\phantom{\\verb!x!}\\verb|5.0000000000000000]]))|, \\verb|<flowstar.instrumentation.AggregateMetric|\\phantom{\\verb!x!}\\verb|object|\\phantom{\\verb!x!}\\verb|at|\\phantom{\\verb!x!}\\verb|0x7f16677af0c0>|\\right), \\left(2.875005947993486, \\verb|Signal([0.0000000000000000|\\phantom{\\verb!x!}\\verb|..|\\phantom{\\verb!x!}\\verb|5.0000000000000000],|\\phantom{\\verb!x!}\\verb|[([0.0000000000000000|\\phantom{\\verb!x!}\\verb|..|\\phantom{\\verb!x!}\\verb|0.63499999999999613],|\\phantom{\\verb!x!}\\verb|True),|\\phantom{\\verb!x!}\\verb|([2.2310000000000127|\\phantom{\\verb!x!}\\verb|..|\\phantom{\\verb!x!}\\verb|5.0000000000000000],|\\phantom{\\verb!x!}\\verb|False)],|\\phantom{\\verb!x!}\\verb|mask=Mask([0.0000000000000000|\\phantom{\\verb!x!}\\verb|..|\\phantom{\\verb!x!}\\verb|5.0000000000000000],|\\phantom{\\verb!x!}\\verb|[[0.0000000000000000|\\phantom{\\verb!x!}\\verb|..|\\phantom{\\verb!x!}\\verb|5.0000000000000000]]))|, \\verb|<flowstar.instrumentation.AggregateMetric|\\phantom{\\verb!x!}\\verb|object|\\phantom{\\verb!x!}\\verb|at|\\phantom{\\verb!x!}\\verb|0x7f16677af700>|\\right), \\left(3.6147599520045333, \\verb|Signal([0.0000000000000000|\\phantom{\\verb!x!}\\verb|..|\\phantom{\\verb!x!}\\verb|5.0000000000000000],|\\phantom{\\verb!x!}\\verb|[([0.0000000000000000|\\phantom{\\verb!x!}\\verb|..|\\phantom{\\verb!x!}\\verb|0.64799999999999503],|\\phantom{\\verb!x!}\\verb|True),|\\phantom{\\verb!x!}\\verb|([2.2460000000000155|\\phantom{\\verb!x!}\\verb|..|\\phantom{\\verb!x!}\\verb|5.0000000000000000],|\\phantom{\\verb!x!}\\verb|False)],|\\phantom{\\verb!x!}\\verb|mask=Mask([0.0000000000000000|\\phantom{\\verb!x!}\\verb|..|\\phantom{\\verb!x!}\\verb|5.0000000000000000],|\\phantom{\\verb!x!}\\verb|[[0.0000000000000000|\\phantom{\\verb!x!}\\verb|..|\\phantom{\\verb!x!}\\verb|5.0000000000000000]]))|, \\verb|<flowstar.instrumentation.AggregateMetric|\\phantom{\\verb!x!}\\verb|object|\\phantom{\\verb!x!}\\verb|at|\\phantom{\\verb!x!}\\verb|0x7f16677afb00>|\\right), \\left(4.592100417998154, \\verb|Signal([0.0000000000000000|\\phantom{\\verb!x!}\\verb|..|\\phantom{\\verb!x!}\\verb|5.0000000000000000],|\\phantom{\\verb!x!}\\verb|[([0.0000000000000000|\\phantom{\\verb!x!}\\verb|..|\\phantom{\\verb!x!}\\verb|0.65399999999999337],|\\phantom{\\verb!x!}\\verb|True),|\\phantom{\\verb!x!}\\verb|([2.2400000000000197|\\phantom{\\verb!x!}\\verb|..|\\phantom{\\verb!x!}\\verb|5.0000000000000000],|\\phantom{\\verb!x!}\\verb|False)],|\\phantom{\\verb!x!}\\verb|mask=Mask([0.0000000000000000|\\phantom{\\verb!x!}\\verb|..|\\phantom{\\verb!x!}\\verb|5.0000000000000000],|\\phantom{\\verb!x!}\\verb|[[0.0000000000000000|\\phantom{\\verb!x!}\\verb|..|\\phantom{\\verb!x!}\\verb|5.0000000000000000]]))|, \\verb|<flowstar.instrumentation.AggregateMetric|\\phantom{\\verb!x!}\\verb|object|\\phantom{\\verb!x!}\\verb|at|\\phantom{\\verb!x!}\\verb|0x7f16677afe40>|\\right), \\left(7.303714501002105, \\verb|Signal([0.0000000000000000|\\phantom{\\verb!x!}\\verb|..|\\phantom{\\verb!x!}\\verb|5.0000000000000000],|\\phantom{\\verb!x!}\\verb|[([0.0000000000000000|\\phantom{\\verb!x!}\\verb|..|\\phantom{\\verb!x!}\\verb|0.65599999999999004],|\\phantom{\\verb!x!}\\verb|True),|\\phantom{\\verb!x!}\\verb|([2.2310000000000269|\\phantom{\\verb!x!}\\verb|..|\\phantom{\\verb!x!}\\verb|5.0000000000000000],|\\phantom{\\verb!x!}\\verb|False)],|\\phantom{\\verb!x!}\\verb|mask=Mask([0.0000000000000000|\\phantom{\\verb!x!}\\verb|..|\\phantom{\\verb!x!}\\verb|5.0000000000000000],|\\phantom{\\verb!x!}\\verb|[[0.0000000000000000|\\phantom{\\verb!x!}\\verb|..|\\phantom{\\verb!x!}\\verb|5.0000000000000000]]))|, \\verb|<flowstar.instrumentation.AggregateMetric|\\phantom{\\verb!x!}\\verb|object|\\phantom{\\verb!x!}\\verb|at|\\phantom{\\verb!x!}\\verb|0x7f16677b1640>|\\right), \\left(14.555901628002175, \\verb|Signal([0.0000000000000000|\\phantom{\\verb!x!}\\verb|..|\\phantom{\\verb!x!}\\verb|5.0000000000000000],|\\phantom{\\verb!x!}\\verb|[([0.0000000000000000|\\phantom{\\verb!x!}\\verb|..|\\phantom{\\verb!x!}\\verb|0.65499999999998194],|\\phantom{\\verb!x!}\\verb|True),|\\phantom{\\verb!x!}\\verb|([2.2300000000000466|\\phantom{\\verb!x!}\\verb|..|\\phantom{\\verb!x!}\\verb|5.0000000000000000],|\\phantom{\\verb!x!}\\verb|False)],|\\phantom{\\verb!x!}\\verb|mask=Mask([0.0000000000000000|\\phantom{\\verb!x!}\\verb|..|\\phantom{\\verb!x!}\\verb|5.0000000000000000],|\\phantom{\\verb!x!}\\verb|[[0.0000000000000000|\\phantom{\\verb!x!}\\verb|..|\\phantom{\\verb!x!}\\verb|5.0000000000000000]]))|, \\verb|<flowstar.instrumentation.AggregateMetric|\\phantom{\\verb!x!}\\verb|object|\\phantom{\\verb!x!}\\verb|at|\\phantom{\\verb!x!}\\verb|0x7f16677b16c0>|\\right), \\left(9.749583249998977, \\verb|Signal([0.0000000000000000|\\phantom{\\verb!x!}\\verb|..|\\phantom{\\verb!x!}\\verb|5.0000000000000000],|\\phantom{\\verb!x!}\\verb|[],|\\phantom{\\verb!x!}\\verb|mask=Mask([0.0000000000000000|\\phantom{\\verb!x!}\\verb|..|\\phantom{\\verb!x!}\\verb|5.0000000000000000],|\\phantom{\\verb!x!}\\verb|[[0.0000000000000000|\\phantom{\\verb!x!}\\verb|..|\\phantom{\\verb!x!}\\verb|5.0000000000000000]]))|, \\verb|<flowstar.instrumentation.AggregateMetric|\\phantom{\\verb!x!}\\verb|object|\\phantom{\\verb!x!}\\verb|at|\\phantom{\\verb!x!}\\verb|0x7f16677b1a00>|\\right)\\right]</script></html>"
      ],
      "text/plain": [
       "[(3.4494375939975725,\n",
       "  Signal([0.0000000000000000 .. 5.0000000000000000], [([0.0000000000000000 .. 0.63999999999999602], True), ([2.2400000000000024 .. 5.0000000000000000], False)], mask=Mask([0.0000000000000000 .. 5.0000000000000000], [[0.0000000000000000 .. 5.0000000000000000]])),\n",
       "  <flowstar.instrumentation.AggregateMetric object at 0x7f1667c85d40>),\n",
       " (6.239714249008102,\n",
       "  Signal([0.0000000000000000 .. 5.0000000000000000], [([0.0000000000000000 .. 0.93999999999999262], True), ([1.9800000000000019 .. 5.0000000000000000], False)], mask=Mask([0.0000000000000000 .. 5.0000000000000000], [[0.0000000000000000 .. 5.0000000000000000]])),\n",
       "  <flowstar.instrumentation.AggregateMetric object at 0x7f16677af740>),\n",
       " (13.994370072003221,\n",
       "  Signal([0.0000000000000000 .. 5.0000000000000000], [([0.0000000000000000 .. 1.0799999999999897], True), ([1.8000000000000018 .. 5.0000000000000000], False)], mask=Mask([0.0000000000000000 .. 5.0000000000000000], [[0.0000000000000000 .. 5.0000000000000000]])),\n",
       "  <flowstar.instrumentation.AggregateMetric object at 0x7f16677b1240>),\n",
       " (40.81256376800593,\n",
       "  Signal([0.0000000000000000 .. 5.0000000000000000], [([0.0000000000000000 .. 1.1399999999999884], True), ([1.6930245218332304 .. 5.0000000000000000], False)], mask=Mask([0.0000000000000000 .. 5.0000000000000000], [[0.0000000000000000 .. 5.0000000000000000]])),\n",
       "  <flowstar.instrumentation.AggregateMetric object at 0x7f16677b1fc0>),\n",
       " (0.020907706013531424,\n",
       "  Signal([0.0000000000000000 .. 5.0000000000000000], [], mask=Mask([0.0000000000000000 .. 5.0000000000000000], [[0.0000000000000000 .. 5.0000000000000000]])),\n",
       "  <flowstar.instrumentation.AggregateMetric object at 0x7f1667c85bc0>),\n",
       " (0.02156324000679888,\n",
       "  Signal([0.0000000000000000 .. 5.0000000000000000], [], mask=Mask([0.0000000000000000 .. 5.0000000000000000], [[0.0000000000000000 .. 5.0000000000000000]])),\n",
       "  <flowstar.instrumentation.AggregateMetric object at 0x7f1668a15b00>),\n",
       " (0.023788321996107697,\n",
       "  Signal([0.0000000000000000 .. 5.0000000000000000], [], mask=Mask([0.0000000000000000 .. 5.0000000000000000], [[0.0000000000000000 .. 5.0000000000000000]])),\n",
       "  <flowstar.instrumentation.AggregateMetric object at 0x7f16677a5f40>),\n",
       " (0.02477204099704977,\n",
       "  Signal([0.0000000000000000 .. 5.0000000000000000], [], mask=Mask([0.0000000000000000 .. 5.0000000000000000], [[0.0000000000000000 .. 5.0000000000000000]])),\n",
       "  <flowstar.instrumentation.AggregateMetric object at 0x7f16677a5140>),\n",
       " (0.02406691999931354,\n",
       "  Signal([0.0000000000000000 .. 5.0000000000000000], [], mask=Mask([0.0000000000000000 .. 5.0000000000000000], [[0.0000000000000000 .. 5.0000000000000000]])),\n",
       "  <flowstar.instrumentation.AggregateMetric object at 0x7f16677a5480>),\n",
       " (0.027461780002340674,\n",
       "  Signal([0.0000000000000000 .. 5.0000000000000000], [], mask=Mask([0.0000000000000000 .. 5.0000000000000000], [[0.0000000000000000 .. 5.0000000000000000]])),\n",
       "  <flowstar.instrumentation.AggregateMetric object at 0x7f16677a5880>),\n",
       " (0.025863664006465115,\n",
       "  Signal([0.0000000000000000 .. 5.0000000000000000], [], mask=Mask([0.0000000000000000 .. 5.0000000000000000], [[0.0000000000000000 .. 5.0000000000000000]])),\n",
       "  <flowstar.instrumentation.AggregateMetric object at 0x7f16677a8880>),\n",
       " (0.025842711998848245,\n",
       "  Signal([0.0000000000000000 .. 5.0000000000000000], [], mask=Mask([0.0000000000000000 .. 5.0000000000000000], [[0.0000000000000000 .. 5.0000000000000000]])),\n",
       "  <flowstar.instrumentation.AggregateMetric object at 0x7f16677a8580>),\n",
       " (0.019851282006129622,\n",
       "  Signal([0.0000000000000000 .. 5.0000000000000000], [], mask=Mask([0.0000000000000000 .. 5.0000000000000000], [[0.0000000000000000 .. 5.0000000000000000]])),\n",
       "  <flowstar.instrumentation.AggregateMetric object at 0x7f16677a8d40>),\n",
       " (0.024541982013033703,\n",
       "  Signal([0.0000000000000000 .. 5.0000000000000000], [], mask=Mask([0.0000000000000000 .. 5.0000000000000000], [[0.0000000000000000 .. 5.0000000000000000]])),\n",
       "  <flowstar.instrumentation.AggregateMetric object at 0x7f16677a8140>),\n",
       " (0.02379041699168738,\n",
       "  Signal([0.0000000000000000 .. 5.0000000000000000], [], mask=Mask([0.0000000000000000 .. 5.0000000000000000], [[0.0000000000000000 .. 5.0000000000000000]])),\n",
       "  <flowstar.instrumentation.AggregateMetric object at 0x7f16677a8b80>),\n",
       " (0.01884779801184777,\n",
       "  Signal([0.0000000000000000 .. 5.0000000000000000], [], mask=Mask([0.0000000000000000 .. 5.0000000000000000], [[0.0000000000000000 .. 5.0000000000000000]])),\n",
       "  <flowstar.instrumentation.AggregateMetric object at 0x7f166779a0c0>),\n",
       " (0.027699519996531308,\n",
       "  Signal([0.0000000000000000 .. 5.0000000000000000], [], mask=Mask([0.0000000000000000 .. 5.0000000000000000], [[0.0000000000000000 .. 5.0000000000000000]])),\n",
       "  <flowstar.instrumentation.AggregateMetric object at 0x7f166779a300>),\n",
       " (0.02049166000506375,\n",
       "  Signal([0.0000000000000000 .. 5.0000000000000000], [], mask=Mask([0.0000000000000000 .. 5.0000000000000000], [[0.0000000000000000 .. 5.0000000000000000]])),\n",
       "  <flowstar.instrumentation.AggregateMetric object at 0x7f166779a540>),\n",
       " (0.02478887299366761,\n",
       "  Signal([0.0000000000000000 .. 5.0000000000000000], [], mask=Mask([0.0000000000000000 .. 5.0000000000000000], [[0.0000000000000000 .. 5.0000000000000000]])),\n",
       "  <flowstar.instrumentation.AggregateMetric object at 0x7f166779a780>),\n",
       " (0.02451858601125423,\n",
       "  Signal([0.0000000000000000 .. 5.0000000000000000], [], mask=Mask([0.0000000000000000 .. 5.0000000000000000], [[0.0000000000000000 .. 5.0000000000000000]])),\n",
       "  <flowstar.instrumentation.AggregateMetric object at 0x7f166779a9c0>),\n",
       " (0.048250057006953284,\n",
       "  Signal([0.0000000000000000 .. 5.0000000000000000], [], mask=Mask([0.0000000000000000 .. 5.0000000000000000], [[0.0000000000000000 .. 5.0000000000000000]])),\n",
       "  <flowstar.instrumentation.AggregateMetric object at 0x7f166779ac00>),\n",
       " (0.07279902399750426,\n",
       "  Signal([0.0000000000000000 .. 5.0000000000000000], [], mask=Mask([0.0000000000000000 .. 5.0000000000000000], [[0.0000000000000000 .. 5.0000000000000000]])),\n",
       "  <flowstar.instrumentation.AggregateMetric object at 0x7f166779ae40>),\n",
       " (0.1268837849929696,\n",
       "  Signal([0.0000000000000000 .. 5.0000000000000000], [], mask=Mask([0.0000000000000000 .. 5.0000000000000000], [[0.0000000000000000 .. 5.0000000000000000]])),\n",
       "  <flowstar.instrumentation.AggregateMetric object at 0x7f16677af0c0>),\n",
       " (2.875005947993486,\n",
       "  Signal([0.0000000000000000 .. 5.0000000000000000], [([0.0000000000000000 .. 0.63499999999999613], True), ([2.2310000000000127 .. 5.0000000000000000], False)], mask=Mask([0.0000000000000000 .. 5.0000000000000000], [[0.0000000000000000 .. 5.0000000000000000]])),\n",
       "  <flowstar.instrumentation.AggregateMetric object at 0x7f16677af700>),\n",
       " (3.6147599520045333,\n",
       "  Signal([0.0000000000000000 .. 5.0000000000000000], [([0.0000000000000000 .. 0.64799999999999503], True), ([2.2460000000000155 .. 5.0000000000000000], False)], mask=Mask([0.0000000000000000 .. 5.0000000000000000], [[0.0000000000000000 .. 5.0000000000000000]])),\n",
       "  <flowstar.instrumentation.AggregateMetric object at 0x7f16677afb00>),\n",
       " (4.592100417998154,\n",
       "  Signal([0.0000000000000000 .. 5.0000000000000000], [([0.0000000000000000 .. 0.65399999999999337], True), ([2.2400000000000197 .. 5.0000000000000000], False)], mask=Mask([0.0000000000000000 .. 5.0000000000000000], [[0.0000000000000000 .. 5.0000000000000000]])),\n",
       "  <flowstar.instrumentation.AggregateMetric object at 0x7f16677afe40>),\n",
       " (7.303714501002105,\n",
       "  Signal([0.0000000000000000 .. 5.0000000000000000], [([0.0000000000000000 .. 0.65599999999999004], True), ([2.2310000000000269 .. 5.0000000000000000], False)], mask=Mask([0.0000000000000000 .. 5.0000000000000000], [[0.0000000000000000 .. 5.0000000000000000]])),\n",
       "  <flowstar.instrumentation.AggregateMetric object at 0x7f16677b1640>),\n",
       " (14.555901628002175,\n",
       "  Signal([0.0000000000000000 .. 5.0000000000000000], [([0.0000000000000000 .. 0.65499999999998194], True), ([2.2300000000000466 .. 5.0000000000000000], False)], mask=Mask([0.0000000000000000 .. 5.0000000000000000], [[0.0000000000000000 .. 5.0000000000000000]])),\n",
       "  <flowstar.instrumentation.AggregateMetric object at 0x7f16677b16c0>),\n",
       " (9.749583249998977,\n",
       "  Signal([0.0000000000000000 .. 5.0000000000000000], [], mask=Mask([0.0000000000000000 .. 5.0000000000000000], [[0.0000000000000000 .. 5.0000000000000000]])),\n",
       "  <flowstar.instrumentation.AggregateMetric object at 0x7f16677b1a00>)]"
      ]
     },
     "execution_count": 114,
     "metadata": {},
     "output_type": "execute_result"
    }
   ],
   "source": [
    "ress"
   ]
  },
  {
   "cell_type": "code",
   "execution_count": 80,
   "metadata": {
    "ExecuteTime": {
     "end_time": "2021-01-10T03:33:22.974405Z",
     "start_time": "2021-01-10T03:33:22.969217Z"
    }
   },
   "outputs": [],
   "source": [
    "res_tups = list(zip(psets, ress))#; res_tups"
   ]
  },
  {
   "cell_type": "code",
   "execution_count": 95,
   "metadata": {
    "ExecuteTime": {
     "end_time": "2021-01-10T03:47:45.464220Z",
     "start_time": "2021-01-10T03:47:45.457464Z"
    }
   },
   "outputs": [],
   "source": [
    "def plt(sig, ar):\n",
    "    p = sig.plot(ticks=[None, []])\n",
    "    p.set_aspect_ratio(ar)\n",
    "    return p"
   ]
  },
  {
   "cell_type": "code",
   "execution_count": 96,
   "metadata": {
    "ExecuteTime": {
     "end_time": "2021-01-10T03:47:49.007225Z",
     "start_time": "2021-01-10T03:47:46.424077Z"
    }
   },
   "outputs": [
    {
     "data": {
      "image/png": "[encoded data removed]",
      "text/plain": [
       "Graphics Array of size 4 x 1"
      ]
     },
     "execution_count": 96,
     "metadata": {},
     "output_type": "execute_result"
    }
   ],
   "source": [
    "sigsbydepth = [\n",
    "    sig for t, sig, m in ress[0:4]\n",
    "]\n",
    "\n",
    "g = graphics_array(\n",
    "    [[text(f\"$d={i}$\", (1.42,0.8), fontsize=20) + plt(sig, 1/8)] for i, sig in enumerate(sigsbydepth)]\n",
    ")\n",
    "g.save(\"output/refined-signal.pgf\")\n",
    "g.save(\"output/refined-signal.pdf\")\n",
    "g"
   ]
  },
  {
   "cell_type": "code",
   "execution_count": 126,
   "metadata": {
    "ExecuteTime": {
     "end_time": "2021-01-10T04:06:04.213401Z",
     "start_time": "2021-01-10T04:05:59.947943Z"
    }
   },
   "outputs": [
    {
     "name": "stderr",
     "output_type": "stream",
     "text": [
      "/usr/lib64/python3.8/site-packages/sage/plot/contour_plot.py:203: UserWarning: No contour levels were found within the data range.\n",
      "  CS = subplot.contour(self.xy_data_array, contours, cmap=cmap,\n",
      "/usr/lib64/python3.8/site-packages/sage/plot/multigraphics.py:489: UserWarning: Tight layout not applied. tight_layout cannot make axes height small enough to accommodate all axes decorations\n",
      "  figure.tight_layout()\n"
     ]
    },
    {
     "data": {
      "image/png": "[encoded data removed]",
      "text/plain": [
       "Graphics Array of size 25 x 1"
      ]
     },
     "execution_count": 126,
     "metadata": {},
     "output_type": "execute_result"
    }
   ],
   "source": [
    "sigsbystep = [\n",
    "    sig for t, sig, m in ress[79:]\n",
    "]; sigsbystep\n",
    "\n",
    "g = graphics_array(\n",
    "    [[#text(f\"$step={i}$\", (1.7,0.8), fontsize=20) + \n",
    "      plt(sig, 1/8)] for i, sig in enumerate(sigsbystep)]\n",
    ")\n",
    "#g.save(\"output/refined-signal.pgf\")\n",
    "#g.save(\"output/refined-signal.pdf\")\n",
    "g"
   ]
  },
  {
   "cell_type": "code",
   "execution_count": 84,
   "metadata": {
    "ExecuteTime": {
     "end_time": "2021-01-10T03:33:34.151020Z",
     "start_time": "2021-01-10T03:33:33.084512Z"
    }
   },
   "outputs": [
    {
     "data": {
      "image/png": "[encoded data removed]",
      "text/plain": [
       "Graphics Array of size 5 x 1"
      ]
     },
     "execution_count": 84,
     "metadata": {},
     "output_type": "execute_result"
    }
   ],
   "source": [
    "sigsbyorder = [\n",
    "    sig for t, sig, m in ress[8:13]\n",
    "]; sigsbyorder\n",
    "\n",
    "g = graphics_array(\n",
    "    [[text(f\"$order={i}$\", (1.7,0.8), fontsize=20) + plt(sig, 1/8)] for i, sig in enumerate(sigsbyorder)]\n",
    ")\n",
    "#g.save(\"output/refined-signal.pgf\")\n",
    "#g.save(\"output/refined-signal.pdf\")\n",
    "g"
   ]
  },
  {
   "cell_type": "code",
   "execution_count": 90,
   "metadata": {
    "ExecuteTime": {
     "end_time": "2021-01-10T03:42:29.325371Z",
     "start_time": "2021-01-10T03:42:28.452506Z"
    }
   },
   "outputs": [
    {
     "data": {
      "image/png": "[encoded data removed]",
      "text/plain": [
       "Graphics Array of size 4 x 1"
      ]
     },
     "execution_count": 90,
     "metadata": {},
     "output_type": "execute_result"
    }
   ],
   "source": [
    "sigsbyboth = [\n",
    "    sig for t, sig, m in ress[13:]\n",
    "]\n",
    "\n",
    "g = graphics_array(\n",
    "    [[text(f\"$both={i}$\", (1.7,0.8), fontsize=20) + plt(sig, 1/8)] for i, sig in enumerate(sigsbyboth)]\n",
    ")\n",
    "#g.save(\"output/refined-signal.pgf\")\n",
    "#g.save(\"output/refined-signal.pdf\")\n",
    "g"
   ]
  },
  {
   "cell_type": "code",
   "execution_count": 66,
   "metadata": {
    "ExecuteTime": {
     "end_time": "2021-01-10T03:15:42.378198Z",
     "start_time": "2021-01-10T03:15:42.369671Z"
    }
   },
   "outputs": [],
   "source": [
    "def as_animation(csig, depth, a, b, step):\n",
    "    with suppress_stdout():\n",
    "        return animate(\n",
    "        [csig.G(t0).plot_histogram2d(depth)\n",
    "             + text(\"t = {:.2f}\".format(float(t0)), (5, 0.4))\n",
    "         for t0 in srange(a, b, step, include_endpoint=True)], axes=False)\n",
    "    \n",
    "def as_video(filename, animation, delay=10):\n",
    "    animation.ffmpeg(savefile=f'{filename}.webm', ffmpeg_options=\"-threads 8 -lossless 1\", delay=delay)\n",
    "    return html(f\"<video src='{filename}.webm' autoplay loop playsinline />\")"
   ]
  },
  {
   "cell_type": "code",
   "execution_count": 67,
   "metadata": {
    "ExecuteTime": {
     "end_time": "2021-01-10T03:15:42.426667Z",
     "start_time": "2021-01-10T03:15:42.382098Z"
    }
   },
   "outputs": [],
   "source": [
    "def as_keyframes(csig, depth, a, b, n):\n",
    "    with suppress_stdout():\n",
    "        return [csig.G(t0).plot_histogram2d(depth)\n",
    "         for t0 in srange(a, b, (b - a)/n, include_endpoint=True)]"
   ]
  },
  {
   "cell_type": "code",
   "execution_count": 68,
   "metadata": {
    "ExecuteTime": {
     "end_time": "2021-01-10T03:15:42.935801Z",
     "start_time": "2021-01-10T03:15:42.429452Z"
    }
   },
   "outputs": [
    {
     "name": "stdout",
     "output_type": "stream",
     "text": [
      "Help on method_descriptor:\n",
      "\n",
      "__format__(self, format_spec, /)\n",
      "    Default object formatter.\n",
      "\n"
     ]
    }
   ],
   "source": [
    "help(sage.rings.real_mpfr.RealNumber.__format__)"
   ]
  },
  {
   "cell_type": "code",
   "execution_count": 69,
   "metadata": {
    "ExecuteTime": {
     "end_time": "2021-01-10T03:15:43.242986Z",
     "start_time": "2021-01-10T03:15:42.939522Z"
    }
   },
   "outputs": [
    {
     "ename": "NameError",
     "evalue": "name 'csig' is not defined",
     "output_type": "error",
     "traceback": [
      "\u001b[0;31m\u001b[0m",
      "\u001b[0;31mNameError\u001b[0mTraceback (most recent call last)",
      "\u001b[0;32m<ipython-input-69-3c586fed5138>\u001b[0m in \u001b[0;36m<module>\u001b[0;34m()\u001b[0m\n\u001b[0;32m----> 1\u001b[0;31m \u001b[0mas_video\u001b[0m\u001b[0;34m(\u001b[0m\u001b[0;34m\"animation2\"\u001b[0m\u001b[0;34m,\u001b[0m \u001b[0mas_animation\u001b[0m\u001b[0;34m(\u001b[0m\u001b[0mcsig\u001b[0m\u001b[0;34m,\u001b[0m \u001b[0mInteger\u001b[0m\u001b[0;34m(\u001b[0m\u001b[0;36m4\u001b[0m\u001b[0;34m)\u001b[0m\u001b[0;34m,\u001b[0m \u001b[0mInteger\u001b[0m\u001b[0;34m(\u001b[0m\u001b[0;36m0\u001b[0m\u001b[0;34m)\u001b[0m\u001b[0;34m,\u001b[0m \u001b[0mInteger\u001b[0m\u001b[0;34m(\u001b[0m\u001b[0;36m3\u001b[0m\u001b[0;34m)\u001b[0m\u001b[0;34m,\u001b[0m \u001b[0mRealNumber\u001b[0m\u001b[0;34m(\u001b[0m\u001b[0;34m'0.05'\u001b[0m\u001b[0;34m)\u001b[0m\u001b[0;34m)\u001b[0m\u001b[0;34m,\u001b[0m \u001b[0mInteger\u001b[0m\u001b[0;34m(\u001b[0m\u001b[0;36m30\u001b[0m\u001b[0;34m)\u001b[0m\u001b[0;34m)\u001b[0m\u001b[0;34m\u001b[0m\u001b[0;34m\u001b[0m\u001b[0m\n\u001b[0m",
      "\u001b[0;31mNameError\u001b[0m: name 'csig' is not defined"
     ]
    }
   ],
   "source": [
    "as_video(\"animation2\", as_animation(csig, 4, 0, 3, 0.05), 30)"
   ]
  },
  {
   "cell_type": "code",
   "execution_count": null,
   "metadata": {},
   "outputs": [],
   "source": []
  },
  {
   "cell_type": "code",
   "execution_count": null,
   "metadata": {
    "ExecuteTime": {
     "end_time": "2021-01-10T03:15:43.250861Z",
     "start_time": "2021-01-10T03:15:40.852Z"
    }
   },
   "outputs": [],
   "source": [
    "a = as_animation(csig, 4, 1.1, 2.4, (2.4 - 1.1)/(3*4 - 1))"
   ]
  },
  {
   "cell_type": "code",
   "execution_count": null,
   "metadata": {
    "ExecuteTime": {
     "end_time": "2021-01-10T03:15:43.252880Z",
     "start_time": "2021-01-10T03:15:40.856Z"
    }
   },
   "outputs": [],
   "source": [
    "import matplotlib.pyplot as plt"
   ]
  },
  {
   "cell_type": "code",
   "execution_count": null,
   "metadata": {
    "ExecuteTime": {
     "end_time": "2021-01-10T03:15:43.254905Z",
     "start_time": "2021-01-10T03:15:40.861Z"
    }
   },
   "outputs": [],
   "source": [
    "plt.figure(figsize=(5,5))\n",
    "a.graphics_array(3)"
   ]
  },
  {
   "cell_type": "code",
   "execution_count": null,
   "metadata": {
    "ExecuteTime": {
     "end_time": "2021-01-10T03:15:43.256558Z",
     "start_time": "2021-01-10T03:15:40.865Z"
    }
   },
   "outputs": [],
   "source": [
    "a = as_keyframes(csig, 4, 1, 2.5, 3*4)"
   ]
  },
  {
   "cell_type": "code",
   "execution_count": null,
   "metadata": {
    "ExecuteTime": {
     "end_time": "2021-01-10T03:15:43.258559Z",
     "start_time": "2021-01-10T03:15:40.870Z"
    }
   },
   "outputs": [],
   "source": [
    "for i, f in enumerate(a,1):\n",
    "    f.save(f\"histogram-frame-{i}.pdf\")"
   ]
  },
  {
   "cell_type": "code",
   "execution_count": null,
   "metadata": {
    "ExecuteTime": {
     "end_time": "2021-01-10T03:15:43.260465Z",
     "start_time": "2021-01-10T03:15:40.875Z"
    }
   },
   "outputs": [],
   "source": [
    "!ls"
   ]
  },
  {
   "cell_type": "code",
   "execution_count": null,
   "metadata": {
    "ExecuteTime": {
     "end_time": "2021-01-10T03:15:43.261797Z",
     "start_time": "2021-01-10T03:15:40.881Z"
    }
   },
   "outputs": [],
   "source": [
    "with suppress_stdout():\n",
    "    p = csig.G(1).plot_histogram2d(4)\n",
    "    \n",
    "p"
   ]
  },
  {
   "cell_type": "code",
   "execution_count": null,
   "metadata": {
    "ExecuteTime": {
     "end_time": "2021-01-10T03:15:43.263159Z",
     "start_time": "2021-01-10T03:15:40.886Z"
    }
   },
   "outputs": [],
   "source": [
    "sig = F(RIF(0.1, 0.2), P).signal_for_system(\n",
    "    s, 5, order=5, step=(0.01, 0.2),\n",
    "    precondition=1,\n",
    "    estimation=1e-3,\n",
    "    integrationScheme=2,\n",
    "    cutoff_threshold=1e-5,\n",
    "    symbolic_composition=True,\n",
    "    use_masks=True,\n",
    "    mask=Mask(RIF(0, 5), [RIF(0.5, 1), RIF(3, 4)]),\n",
    ")\n",
    "sig.plot()"
   ]
  },
  {
   "cell_type": "code",
   "execution_count": null,
   "metadata": {
    "ExecuteTime": {
     "end_time": "2021-01-10T03:15:43.264614Z",
     "start_time": "2021-01-10T03:15:40.891Z"
    }
   },
   "outputs": [],
   "source": [
    "sig = P.signal_for_system(\n",
    "    s, 5, order=5, step=(0.01, 0.2),\n",
    "    precondition=1,\n",
    "    estimation=1e-3,\n",
    "    integrationScheme=2,\n",
    "    cutoff_threshold=1e-5,\n",
    "    symbolic_composition=True,\n",
    "    use_masks=True,\n",
    ")\n",
    "sig.plot()"
   ]
  },
  {
   "cell_type": "code",
   "execution_count": null,
   "metadata": {
    "ExecuteTime": {
     "end_time": "2021-01-10T03:15:43.265930Z",
     "start_time": "2021-01-10T03:15:40.896Z"
    }
   },
   "outputs": [],
   "source": [
    "P"
   ]
  },
  {
   "cell_type": "code",
   "execution_count": null,
   "metadata": {
    "ExecuteTime": {
     "end_time": "2021-01-10T03:15:43.267964Z",
     "start_time": "2021-01-10T03:15:40.901Z"
    }
   },
   "outputs": [],
   "source": [
    "ctx_sig = P.context_signal_for_system(\n",
    "    s, 5, order=5, step=(0.01, 0.2),\n",
    "    precondition=1,\n",
    "    estimation=1e-3,\n",
    "    integrationScheme=2,\n",
    "    cutoff_threshold=1e-5,\n",
    "    symbolic_composition=True,\n",
    "    use_masks=True,\n",
    ")\n",
    "ctx_sig.signal.plot()"
   ]
  },
  {
   "cell_type": "code",
   "execution_count": null,
   "metadata": {
    "ExecuteTime": {
     "end_time": "2021-01-10T03:15:43.269834Z",
     "start_time": "2021-01-10T03:15:40.906Z"
    }
   },
   "outputs": [],
   "source": [
    "ctx_sig.refined_signal(2).plot()"
   ]
  },
  {
   "cell_type": "code",
   "execution_count": null,
   "metadata": {
    "ExecuteTime": {
     "end_time": "2021-01-10T03:15:43.270944Z",
     "start_time": "2021-01-10T03:15:40.913Z"
    }
   },
   "outputs": [],
   "source": [
    "ctx_sig = F(RIF(0.1, 0.2), P).context_signal_for_system(\n",
    "    s, 5, order=5, step=(0.01, 0.2),\n",
    "    precondition=1,\n",
    "    estimation=1e-3,\n",
    "    integrationScheme=2,\n",
    "    cutoff_threshold=1e-5,\n",
    "    symbolic_composition=True,\n",
    "    use_masks=True,\n",
    ")\n",
    "ctx_sig.signal.plot()"
   ]
  },
  {
   "cell_type": "code",
   "execution_count": null,
   "metadata": {
    "ExecuteTime": {
     "end_time": "2021-01-10T03:15:43.271990Z",
     "start_time": "2021-01-10T03:15:40.918Z"
    }
   },
   "outputs": [],
   "source": [
    "ctx_sig.refined_signal(1).plot()"
   ]
  },
  {
   "cell_type": "code",
   "execution_count": null,
   "metadata": {
    "ExecuteTime": {
     "end_time": "2021-01-10T03:15:43.273072Z",
     "start_time": "2021-01-10T03:15:40.924Z"
    }
   },
   "outputs": [],
   "source": [
    "ctx_sig.refined_signal(2).plot()"
   ]
  },
  {
   "cell_type": "code",
   "execution_count": null,
   "metadata": {
    "ExecuteTime": {
     "end_time": "2021-01-10T03:15:43.274236Z",
     "start_time": "2021-01-10T03:15:40.931Z"
    },
    "limit_output": 100000
   },
   "outputs": [],
   "source": [
    "ctx_sig.refined_signal(3).plot()"
   ]
  },
  {
   "cell_type": "code",
   "execution_count": null,
   "metadata": {
    "ExecuteTime": {
     "end_time": "2021-01-10T03:15:43.275341Z",
     "start_time": "2021-01-10T03:15:40.935Z"
    },
    "limit_output": 100000
   },
   "outputs": [],
   "source": [
    "ctx_sig = Atomic(var(\"Whelk\") > 1.15).context_signal_for_system(\n",
    "    s, 5, order=5, step=(0.01, 0.5),\n",
    "    precondition=1,\n",
    "    estimation=1e-3,\n",
    "    integrationScheme=2,\n",
    "    cutoff_threshold=1e-5,\n",
    "    symbolic_composition=True,\n",
    "    use_masks=True,\n",
    ")\n",
    "ctx_sig.signal.plot()"
   ]
  },
  {
   "cell_type": "code",
   "execution_count": null,
   "metadata": {
    "ExecuteTime": {
     "end_time": "2021-01-10T03:15:43.276528Z",
     "start_time": "2021-01-10T03:15:40.940Z"
    }
   },
   "outputs": [],
   "source": [
    "prop = (F(RIF(0.1, 0.2), P) & Atomic(var(\"Whelk\") > 1.15))\n",
    "prop"
   ]
  },
  {
   "cell_type": "code",
   "execution_count": null,
   "metadata": {
    "ExecuteTime": {
     "end_time": "2021-01-10T03:15:43.277574Z",
     "start_time": "2021-01-10T03:15:40.944Z"
    }
   },
   "outputs": [],
   "source": [
    "ctx_sig = prop.context_signal_for_system(\n",
    "    s, 5, order=5, step=(0.01, 0.5),\n",
    "    precondition=1,\n",
    "    estimation=1e-3,\n",
    "    integrationScheme=2,\n",
    "    cutoff_threshold=1e-5,\n",
    "    symbolic_composition=True,\n",
    "    use_masks=True,\n",
    ")\n",
    "ctx_sig.signal.plot()"
   ]
  },
  {
   "cell_type": "code",
   "execution_count": null,
   "metadata": {
    "ExecuteTime": {
     "end_time": "2021-01-10T03:15:43.278889Z",
     "start_time": "2021-01-10T03:15:40.956Z"
    }
   },
   "outputs": [],
   "source": [
    "ctx_sig.plot_histogram2d(4)"
   ]
  },
  {
   "cell_type": "code",
   "execution_count": null,
   "metadata": {
    "ExecuteTime": {
     "end_time": "2021-01-10T03:15:43.280328Z",
     "start_time": "2021-01-10T03:15:40.961Z"
    }
   },
   "outputs": [],
   "source": [
    "with suppress_stdout():\n",
    "    p3 = ctx_sig.plot_histogram2d(5)\n",
    "    \n",
    "p3"
   ]
  },
  {
   "cell_type": "code",
   "execution_count": null,
   "metadata": {
    "ExecuteTime": {
     "end_time": "2021-01-10T03:15:43.281489Z",
     "start_time": "2021-01-10T03:15:40.965Z"
    }
   },
   "outputs": [],
   "source": [
    "ctx_sig.refined_signal(1).plot()"
   ]
  },
  {
   "cell_type": "code",
   "execution_count": null,
   "metadata": {
    "ExecuteTime": {
     "end_time": "2021-01-10T03:15:43.282803Z",
     "start_time": "2021-01-10T03:15:40.971Z"
    }
   },
   "outputs": [],
   "source": [
    "sig = ctx_sig.refined_signal(2)"
   ]
  },
  {
   "cell_type": "code",
   "execution_count": null,
   "metadata": {
    "ExecuteTime": {
     "end_time": "2021-01-10T03:15:43.284092Z",
     "start_time": "2021-01-10T03:15:40.978Z"
    }
   },
   "outputs": [],
   "source": [
    "sig.plot()"
   ]
  },
  {
   "cell_type": "code",
   "execution_count": null,
   "metadata": {
    "ExecuteTime": {
     "end_time": "2021-01-10T03:15:43.285068Z",
     "start_time": "2021-01-10T03:15:40.984Z"
    },
    "limit_output": 100000
   },
   "outputs": [],
   "source": [
    "sig = ctx_sig.refined_signal(3)"
   ]
  },
  {
   "cell_type": "code",
   "execution_count": null,
   "metadata": {
    "ExecuteTime": {
     "end_time": "2021-01-10T03:15:43.286498Z",
     "start_time": "2021-01-10T03:15:40.989Z"
    }
   },
   "outputs": [],
   "source": [
    "sig.plot()"
   ]
  },
  {
   "cell_type": "code",
   "execution_count": null,
   "metadata": {
    "ExecuteTime": {
     "end_time": "2021-01-10T03:15:43.287740Z",
     "start_time": "2021-01-10T03:15:40.994Z"
    },
    "limit_output": 100000,
    "scrolled": true
   },
   "outputs": [],
   "source": [
    "sig = ctx_sig.refined_signal(4)"
   ]
  },
  {
   "cell_type": "code",
   "execution_count": null,
   "metadata": {
    "ExecuteTime": {
     "end_time": "2021-01-10T03:15:43.289247Z",
     "start_time": "2021-01-10T03:15:41.000Z"
    }
   },
   "outputs": [],
   "source": [
    "sig.plot()"
   ]
  },
  {
   "cell_type": "code",
   "execution_count": null,
   "metadata": {
    "ExecuteTime": {
     "end_time": "2021-01-10T03:15:43.290591Z",
     "start_time": "2021-01-10T03:15:41.006Z"
    }
   },
   "outputs": [],
   "source": [
    "sig = ctx_sig.refined_signal(5)"
   ]
  },
  {
   "cell_type": "code",
   "execution_count": null,
   "metadata": {
    "ExecuteTime": {
     "end_time": "2021-01-10T03:15:43.291692Z",
     "start_time": "2021-01-10T03:15:41.012Z"
    }
   },
   "outputs": [],
   "source": [
    "sig.plot()"
   ]
  },
  {
   "cell_type": "code",
   "execution_count": null,
   "metadata": {
    "ExecuteTime": {
     "end_time": "2021-01-10T03:15:43.293134Z",
     "start_time": "2021-01-10T03:15:41.018Z"
    }
   },
   "outputs": [],
   "source": [
    "su = m.process(\"[1, 1.2] Whelk || [5, 6] Lobster with network N([0.7, 0.75], 0.6, 0.3, 0.05, 2)\").as_system"
   ]
  },
  {
   "cell_type": "code",
   "execution_count": null,
   "metadata": {
    "ExecuteTime": {
     "end_time": "2021-01-10T03:15:43.294477Z",
     "start_time": "2021-01-10T03:15:41.022Z"
    }
   },
   "outputs": [],
   "source": [
    "from flowstar.reachability import IntegrationMethod"
   ]
  },
  {
   "cell_type": "code",
   "execution_count": null,
   "metadata": {
    "ExecuteTime": {
     "end_time": "2021-01-10T03:15:43.295742Z",
     "start_time": "2021-01-10T03:15:41.026Z"
    }
   },
   "outputs": [],
   "source": [
    "help(IntegrationMethod)"
   ]
  },
  {
   "cell_type": "code",
   "execution_count": null,
   "metadata": {
    "ExecuteTime": {
     "end_time": "2021-01-10T03:15:43.297049Z",
     "start_time": "2021-01-10T03:15:41.030Z"
    },
    "scrolled": true
   },
   "outputs": [],
   "source": [
    "ctx_sig = prop.context_signal_for_system(\n",
    "    su, 5, order=6, step=(0.001, 0.1),\n",
    "    precondition=1,\n",
    "    estimation=1e-3,\n",
    "    integration_method=IntegrationMethod.ONLY_PICARD_SYMB,\n",
    "    cutoff_threshold=1e-5,\n",
    "    max_remainder_queue=500,\n",
    "    symbolic_composition=True,\n",
    "    use_masks=True,\n",
    ")\n",
    "ctx_sig.signal.plot()"
   ]
  },
  {
   "cell_type": "code",
   "execution_count": null,
   "metadata": {
    "ExecuteTime": {
     "end_time": "2021-01-10T03:15:43.298622Z",
     "start_time": "2021-01-10T03:15:41.042Z"
    }
   },
   "outputs": [],
   "source": [
    "ctx_sig.refined_signal(4).plot()"
   ]
  },
  {
   "cell_type": "code",
   "execution_count": null,
   "metadata": {
    "ExecuteTime": {
     "end_time": "2021-01-10T03:15:43.299739Z",
     "start_time": "2021-01-10T03:15:41.047Z"
    }
   },
   "outputs": [],
   "source": [
    "ctx_sig.plot_histogram2d(4)"
   ]
  },
  {
   "cell_type": "markdown",
   "metadata": {},
   "source": [
    "### Polynomial plot"
   ]
  },
  {
   "cell_type": "code",
   "execution_count": null,
   "metadata": {
    "ExecuteTime": {
     "end_time": "2021-01-10T03:15:43.301091Z",
     "start_time": "2021-01-10T03:15:41.053Z"
    }
   },
   "outputs": [],
   "source": [
    "#p + reach.sage_interval_plot('x', 'y',\n",
    "#                             poly=(x - 1)^2 + y^2 - 0.2,\n",
    "#                             aspect_ratio='automatic')"
   ]
  },
  {
   "cell_type": "markdown",
   "metadata": {},
   "source": [
    "## Context"
   ]
  },
  {
   "cell_type": "code",
   "execution_count": null,
   "metadata": {
    "ExecuteTime": {
     "end_time": "2021-01-10T03:15:43.302587Z",
     "start_time": "2021-01-10T03:15:41.058Z"
    }
   },
   "outputs": [],
   "source": [
    "kwargs = dict(\n",
    "    order=5, step=(0.01, 0.5),\n",
    "    precondition=1,\n",
    "    estimation=1e-3,\n",
    "    integrationScheme=2,\n",
    "    cutoff_threshold=1e-5,\n",
    "    verbosity=0,\n",
    "    epsilon_ctx=0.1,\n",
    "#    symbolic_composition=True,\n",
    ")\n",
    "args = (s, 7)"
   ]
  },
  {
   "cell_type": "code",
   "execution_count": null,
   "metadata": {
    "ExecuteTime": {
     "end_time": "2021-01-10T03:15:43.303930Z",
     "start_time": "2021-01-10T03:15:41.062Z"
    }
   },
   "outputs": [],
   "source": [
    "\"[0.05, 0.1] Whelk\" >> G(RIF(0,0.2), P)"
   ]
  },
  {
   "cell_type": "code",
   "execution_count": null,
   "metadata": {
    "ExecuteTime": {
     "end_time": "2021-01-10T03:15:43.305042Z",
     "start_time": "2021-01-10T03:15:41.068Z"
    },
    "scrolled": true
   },
   "outputs": [],
   "source": [
    "sig = (\"[0.05, 0.1] Whelk\" >> F(RIF(0,0.2), ~ P)\n",
    "       ).signal_for_system(s, 10, **kwargs)"
   ]
  },
  {
   "cell_type": "code",
   "execution_count": null,
   "metadata": {
    "ExecuteTime": {
     "end_time": "2021-01-10T03:15:43.306169Z",
     "start_time": "2021-01-10T03:15:41.072Z"
    }
   },
   "outputs": [],
   "source": [
    "sig.plot()"
   ]
  },
  {
   "cell_type": "code",
   "execution_count": null,
   "metadata": {
    "ExecuteTime": {
     "end_time": "2021-01-10T03:15:43.307278Z",
     "start_time": "2021-01-10T03:15:41.078Z"
    }
   },
   "outputs": [],
   "source": [
    "sigM = (\"[0.05, 0.1] Whelk\" >> F(RIF(0,0.2), ~P)\n",
    "       ).signal_for_system(s, 10, use_masks=True, **kwargs)\n",
    "sigM"
   ]
  },
  {
   "cell_type": "code",
   "execution_count": null,
   "metadata": {
    "ExecuteTime": {
     "end_time": "2021-01-10T03:15:43.308469Z",
     "start_time": "2021-01-10T03:15:41.083Z"
    }
   },
   "outputs": [],
   "source": [
    "sigM.plot()"
   ]
  },
  {
   "cell_type": "code",
   "execution_count": null,
   "metadata": {
    "ExecuteTime": {
     "end_time": "2021-01-10T03:15:43.309732Z",
     "start_time": "2021-01-10T03:15:41.087Z"
    }
   },
   "outputs": [],
   "source": [
    "sigM.mask"
   ]
  },
  {
   "cell_type": "code",
   "execution_count": null,
   "metadata": {
    "ExecuteTime": {
     "end_time": "2021-01-10T03:15:43.310856Z",
     "start_time": "2021-01-10T03:15:41.091Z"
    },
    "limit_output": 100000
   },
   "outputs": [],
   "source": [
    "%%time\n",
    "sigG = G(RIF(10.2, 10.3), (\"[0.05, 0.1] Whelk\" >> F(RIF(0,0.2), ~P)),\n",
    "         ).signal_for_system(s, 0, **kwargs)"
   ]
  },
  {
   "cell_type": "code",
   "execution_count": null,
   "metadata": {
    "ExecuteTime": {
     "end_time": "2021-01-10T03:15:43.312159Z",
     "start_time": "2021-01-10T03:15:41.095Z"
    }
   },
   "outputs": [],
   "source": [
    "sigG(0)"
   ]
  },
  {
   "cell_type": "code",
   "execution_count": null,
   "metadata": {
    "ExecuteTime": {
     "end_time": "2021-01-10T03:15:43.314137Z",
     "start_time": "2021-01-10T03:15:41.099Z"
    },
    "limit_output": 100000,
    "scrolled": true
   },
   "outputs": [],
   "source": [
    "%%time\n",
    "sigG = G(RIF(10.2, 10.3), (\"[0.05,0.1] Whelk\" >> F(RIF(0,0.2), ~P)),\n",
    "         ).signal_for_system(s, 0, use_masks=True, **kwargs)"
   ]
  },
  {
   "cell_type": "code",
   "execution_count": null,
   "metadata": {
    "ExecuteTime": {
     "end_time": "2021-01-10T03:15:43.315456Z",
     "start_time": "2021-01-10T03:15:41.105Z"
    },
    "limit_output": 1000000
   },
   "outputs": [],
   "source": [
    "%%time\n",
    "sigG = F(RIF(5, 5.1),\n",
    "         \"[1, 1.5] Lobster\" >>\n",
    "         G(RIF(10.2, 10.3),\n",
    "           \"[0.05, 0.1] Whelk\" >>\n",
    "            F(RIF(0,0.2), ~ P)),\n",
    "         ).signal_for_system(s, 0, **kwargs)"
   ]
  },
  {
   "cell_type": "code",
   "execution_count": null,
   "metadata": {
    "ExecuteTime": {
     "end_time": "2021-01-10T03:15:43.319524Z",
     "start_time": "2021-01-10T03:15:41.109Z"
    }
   },
   "outputs": [],
   "source": [
    "%%time\n",
    "sigG = F(RIF(5, 5.1),\n",
    "         \"[1, 1.5] Whelk\" >>\n",
    "         G(RIF(10.2, 10.3),\n",
    "           \"[0.05, 0.1] Whelk\" >>\n",
    "            F(RIF(0,0.2), ~ P)),\n",
    "         ).signal_for_system(s, 0, use_masks=True, **kwargs)"
   ]
  },
  {
   "cell_type": "code",
   "execution_count": null,
   "metadata": {
    "ExecuteTime": {
     "end_time": "2021-01-10T03:15:43.321032Z",
     "start_time": "2021-01-10T03:15:41.121Z"
    },
    "limit_output": 10000000000
   },
   "outputs": [],
   "source": [
    "%%time\n",
    "sigG = G(RIF(2, 2.5),\n",
    "         \"[0.1, 0.2] Whelk\" >>\n",
    "         F(RIF(5, 5.1),\n",
    "           \"[1, 1.5] Lobster\" >>\n",
    "           G(RIF(10.2, 10.3),\n",
    "             \"[0.05, 0.1] Whelk\" >>\n",
    "             F(RIF(0,0.2), ~ P))),\n",
    "         ).signal_for_system(s, 0, **kwargs)"
   ]
  },
  {
   "cell_type": "code",
   "execution_count": null,
   "metadata": {
    "ExecuteTime": {
     "end_time": "2021-01-10T03:15:43.323053Z",
     "start_time": "2021-01-10T03:15:41.125Z"
    }
   },
   "outputs": [],
   "source": [
    "%%time\n",
    "sigG = G(RIF(2, 2.5),\n",
    "         \"[0.1, 0.2] Whelk\" >>\n",
    "         F(RIF(5, 5.1),\n",
    "           \"[1, 1.5] Lobster\" >>\n",
    "           G(RIF(10.2, 10.3),\n",
    "             \"[0.05, 0.1] Whelk\" >>\n",
    "             F(RIF(0,0.2), ~P))),\n",
    "         ).signal_for_system(s, 0, use_masks=True, **kwargs)"
   ]
  },
  {
   "cell_type": "code",
   "execution_count": null,
   "metadata": {
    "ExecuteTime": {
     "end_time": "2021-01-10T03:15:43.324322Z",
     "start_time": "2021-01-10T03:15:41.129Z"
    }
   },
   "outputs": [],
   "source": [
    "sigG(0)"
   ]
  },
  {
   "cell_type": "code",
   "execution_count": null,
   "metadata": {
    "ExecuteTime": {
     "end_time": "2021-01-10T03:15:43.325663Z",
     "start_time": "2021-01-10T03:15:41.133Z"
    }
   },
   "outputs": [],
   "source": [
    "sigG"
   ]
  },
  {
   "cell_type": "code",
   "execution_count": null,
   "metadata": {},
   "outputs": [],
   "source": []
  },
  {
   "cell_type": "code",
   "execution_count": null,
   "metadata": {
    "ExecuteTime": {
     "end_time": "2021-01-10T03:15:43.327105Z",
     "start_time": "2021-01-10T03:15:41.150Z"
    }
   },
   "outputs": [],
   "source": [
    "%%time\n",
    "sigG = G(RIF(2, 2.5),\n",
    "         \"[0.1, 0.2] Whelk\" >>\n",
    "         F(RIF(5, 5.1),\n",
    "           \"[1, 1.5] Lobster\" >>\n",
    "           G(RIF(10.2, 10.3),\n",
    "             \"[0.05, 0.1] Whelk\" >>\n",
    "             F(RIF(0,0.2), ~P))),\n",
    "         ).signal_for_system(s, 10, use_masks=False, **kwargs)"
   ]
  },
  {
   "cell_type": "code",
   "execution_count": null,
   "metadata": {
    "ExecuteTime": {
     "end_time": "2021-01-10T03:15:43.328778Z",
     "start_time": "2021-01-10T03:15:41.155Z"
    }
   },
   "outputs": [],
   "source": [
    "%%time\n",
    "sigG = G(RIF(2, 2.5),\n",
    "         \"[0.1, 0.2] Whelk\" >>\n",
    "         F(RIF(5, 5.1),\n",
    "           \"[1, 1.5] Lobster\" >>\n",
    "           G(RIF(10.2, 10.3),\n",
    "             \"[0.05, 0.1] Whelk\" >>\n",
    "             F(RIF(0,0.2), ~P))),\n",
    "         ).signal_for_system(s, 10, use_masks=True, **kwargs)"
   ]
  },
  {
   "cell_type": "code",
   "execution_count": null,
   "metadata": {
    "ExecuteTime": {
     "end_time": "2021-01-10T03:15:43.330421Z",
     "start_time": "2021-01-10T03:15:41.158Z"
    }
   },
   "outputs": [],
   "source": [
    "sigG.plot()"
   ]
  },
  {
   "cell_type": "markdown",
   "metadata": {},
   "source": [
    "## Context signal (masked)"
   ]
  },
  {
   "cell_type": "code",
   "execution_count": null,
   "metadata": {
    "ExecuteTime": {
     "end_time": "2021-01-10T03:15:43.331819Z",
     "start_time": "2021-01-10T03:15:41.164Z"
    }
   },
   "outputs": [],
   "source": [
    "sigG = G(RIF(1, 1.1), (\"[0.05, 0.1] Whelk\" >> F(RIF(0,0.2), ~P)),\n",
    "         ).signal_for_system(s, 10, use_masks=True, **kwargs)"
   ]
  },
  {
   "cell_type": "code",
   "execution_count": null,
   "metadata": {
    "ExecuteTime": {
     "end_time": "2021-01-10T03:15:43.333378Z",
     "start_time": "2021-01-10T03:15:41.168Z"
    }
   },
   "outputs": [],
   "source": [
    "sigG.plot()"
   ]
  },
  {
   "cell_type": "code",
   "execution_count": null,
   "metadata": {
    "ExecuteTime": {
     "end_time": "2021-01-10T03:15:43.334630Z",
     "start_time": "2021-01-10T03:15:41.174Z"
    }
   },
   "outputs": [],
   "source": [
    "csigG = G(RIF(1, 1.1), (\"[0.05, 0.1] Whelk\" >> F(RIF(0,0.2), ~P)),\n",
    "          ).context_signal_for_system(s, 10, use_masks=True, **kwargs)"
   ]
  },
  {
   "cell_type": "code",
   "execution_count": null,
   "metadata": {
    "ExecuteTime": {
     "end_time": "2021-01-10T03:15:43.335924Z",
     "start_time": "2021-01-10T03:15:41.178Z"
    }
   },
   "outputs": [],
   "source": [
    "csigG.signal.plot()"
   ]
  },
  {
   "cell_type": "code",
   "execution_count": null,
   "metadata": {
    "ExecuteTime": {
     "end_time": "2021-01-10T03:15:43.337078Z",
     "start_time": "2021-01-10T03:15:41.187Z"
    }
   },
   "outputs": [],
   "source": [
    "csigG.refined_signal(1).plot()"
   ]
  },
  {
   "cell_type": "code",
   "execution_count": null,
   "metadata": {
    "ExecuteTime": {
     "end_time": "2021-01-10T03:15:43.338376Z",
     "start_time": "2021-01-10T03:15:41.194Z"
    }
   },
   "outputs": [],
   "source": [
    "csigG = G(RIF(1, 1.1), (\"[0.05, 0.1] Whelk\" >> F(RIF(0,0.2), ~P)),\n",
    "          ).context_signal_for_system(s, 10, use_masks=True, refine=1, **kwargs)"
   ]
  },
  {
   "cell_type": "code",
   "execution_count": null,
   "metadata": {
    "ExecuteTime": {
     "end_time": "2021-01-10T03:15:43.339750Z",
     "start_time": "2021-01-10T03:15:41.199Z"
    }
   },
   "outputs": [],
   "source": [
    "csigG.refined_signal(0).plot()"
   ]
  },
  {
   "cell_type": "code",
   "execution_count": null,
   "metadata": {
    "ExecuteTime": {
     "end_time": "2021-01-10T03:15:43.340994Z",
     "start_time": "2021-01-10T03:15:41.215Z"
    }
   },
   "outputs": [],
   "source": [
    "csigG.refined_signal(1).plot()"
   ]
  },
  {
   "cell_type": "code",
   "execution_count": null,
   "metadata": {
    "ExecuteTime": {
     "end_time": "2021-01-10T03:15:43.341959Z",
     "start_time": "2021-01-10T03:15:41.224Z"
    }
   },
   "outputs": [],
   "source": [
    "csigG = G(RIF(1, 1.1), (\"[0.05, 0.1] Whelk\" >> F(RIF(0,0.2), ~P)),\n",
    "          ).context_signal_for_system(s, 10, use_masks=True, refine=2, **kwargs)"
   ]
  },
  {
   "cell_type": "code",
   "execution_count": null,
   "metadata": {
    "ExecuteTime": {
     "end_time": "2021-01-10T03:15:43.343331Z",
     "start_time": "2021-01-10T03:15:41.227Z"
    }
   },
   "outputs": [],
   "source": [
    "csigG.refined_signal(0).plot()"
   ]
  },
  {
   "cell_type": "code",
   "execution_count": null,
   "metadata": {
    "ExecuteTime": {
     "end_time": "2021-01-10T03:15:43.344563Z",
     "start_time": "2021-01-10T03:15:41.233Z"
    }
   },
   "outputs": [],
   "source": [
    "csigG.refined_signal(1).plot()"
   ]
  },
  {
   "cell_type": "code",
   "execution_count": null,
   "metadata": {
    "ExecuteTime": {
     "end_time": "2021-01-10T03:15:43.345642Z",
     "start_time": "2021-01-10T03:15:41.236Z"
    }
   },
   "outputs": [],
   "source": [
    "sf = m.process(\"[0, 1.5] Whelk || [0, 8] Lobster with network N(0.8, 0.6, 0.3, 0.05, 2)\").as_system"
   ]
  },
  {
   "cell_type": "code",
   "execution_count": null,
   "metadata": {
    "ExecuteTime": {
     "end_time": "2021-01-10T03:15:43.347045Z",
     "start_time": "2021-01-10T03:15:41.239Z"
    }
   },
   "outputs": [],
   "source": [
    "csigGsf = G(RIF(1, 1.1), (\"[0.05, 0.1] Whelk\" >> F(RIF(0,0.2), ~P)),\n",
    "          ).context_signal_for_system(sf, 10, use_masks=True, refine=2, **kwargs)"
   ]
  },
  {
   "cell_type": "code",
   "execution_count": null,
   "metadata": {
    "ExecuteTime": {
     "end_time": "2021-01-10T03:15:43.348479Z",
     "start_time": "2021-01-10T03:15:41.267Z"
    }
   },
   "outputs": [],
   "source": [
    "csigG.plot_histogram2d(3)"
   ]
  },
  {
   "cell_type": "markdown",
   "metadata": {},
   "source": [
    "## Differential Context"
   ]
  },
  {
   "cell_type": "code",
   "execution_count": null,
   "metadata": {
    "ExecuteTime": {
     "end_time": "2021-01-10T03:15:43.349836Z",
     "start_time": "2021-01-10T03:15:41.271Z"
    }
   },
   "outputs": [],
   "source": [
    "{x: RIF(6,7)} % G(RIF(0,0.2), P)"
   ]
  },
  {
   "cell_type": "code",
   "execution_count": null,
   "metadata": {
    "ExecuteTime": {
     "end_time": "2021-01-10T03:15:43.351549Z",
     "start_time": "2021-01-10T03:15:41.274Z"
    }
   },
   "outputs": [],
   "source": [
    "# Use symbolic remainders for context jump \n",
    "kwargs['integrationScheme'] = 7"
   ]
  },
  {
   "cell_type": "code",
   "execution_count": null,
   "metadata": {
    "ExecuteTime": {
     "end_time": "2021-01-10T03:15:43.352708Z",
     "start_time": "2021-01-10T03:15:41.278Z"
    }
   },
   "outputs": [],
   "source": [
    "kwargs['verbosity'] = 10"
   ]
  },
  {
   "cell_type": "code",
   "execution_count": null,
   "metadata": {
    "ExecuteTime": {
     "end_time": "2021-01-10T03:15:43.354183Z",
     "start_time": "2021-01-10T03:15:41.282Z"
    }
   },
   "outputs": [],
   "source": [
    "kwargs['symbolic_composition'] = True"
   ]
  },
  {
   "cell_type": "code",
   "execution_count": null,
   "metadata": {
    "ExecuteTime": {
     "end_time": "2021-01-10T03:15:43.355632Z",
     "start_time": "2021-01-10T03:15:41.285Z"
    }
   },
   "outputs": [],
   "source": [
    "sig = ({x: RIF(6)} % G(RIF(0,0.2), P)\n",
    "       ).signal_for_system(vf, v3, 2*pi, **kwargs)"
   ]
  },
  {
   "cell_type": "code",
   "execution_count": null,
   "metadata": {
    "ExecuteTime": {
     "end_time": "2021-01-10T03:15:43.356805Z",
     "start_time": "2021-01-10T03:15:41.288Z"
    }
   },
   "outputs": [],
   "source": [
    "sig.plot()"
   ]
  },
  {
   "cell_type": "code",
   "execution_count": null,
   "metadata": {
    "ExecuteTime": {
     "end_time": "2021-01-10T03:15:43.358666Z",
     "start_time": "2021-01-10T03:15:41.292Z"
    }
   },
   "outputs": [],
   "source": [
    "sig = ({x: RIF(6, 6.1)} % G(RIF(0,0.2), P)\n",
    "       ).signal_for_system(vf, v3, 2*pi, **kwargs)"
   ]
  },
  {
   "cell_type": "code",
   "execution_count": null,
   "metadata": {
    "ExecuteTime": {
     "end_time": "2021-01-10T03:15:43.361966Z",
     "start_time": "2021-01-10T03:15:41.295Z"
    }
   },
   "outputs": [],
   "source": [
    "sig.plot()"
   ]
  },
  {
   "cell_type": "code",
   "execution_count": null,
   "metadata": {
    "ExecuteTime": {
     "end_time": "2021-01-10T03:15:43.363486Z",
     "start_time": "2021-01-10T03:15:41.300Z"
    }
   },
   "outputs": [],
   "source": [
    "sig = ({x: RIF(10, 10.05)} % G(RIF(0,0.2), P)\n",
    "       ).signal_for_system(vf, v3, 2*pi, **kwargs)"
   ]
  },
  {
   "cell_type": "code",
   "execution_count": null,
   "metadata": {
    "ExecuteTime": {
     "end_time": "2021-01-10T03:15:43.365039Z",
     "start_time": "2021-01-10T03:15:41.303Z"
    }
   },
   "outputs": [],
   "source": [
    "sig.plot()"
   ]
  },
  {
   "cell_type": "code",
   "execution_count": null,
   "metadata": {
    "ExecuteTime": {
     "end_time": "2021-01-10T03:15:43.366314Z",
     "start_time": "2021-01-10T03:15:41.306Z"
    }
   },
   "outputs": [],
   "source": [
    "{x: 1, y: 2}"
   ]
  },
  {
   "cell_type": "code",
   "execution_count": null,
   "metadata": {
    "ExecuteTime": {
     "end_time": "2021-01-10T03:15:43.367697Z",
     "start_time": "2021-01-10T03:15:41.310Z"
    }
   },
   "outputs": [],
   "source": [
    "kxs = [[('x', RIF(1,2)), ('y', RIF(5,6))], [('x', RIF(2,3)), ('y', RIF(6,7))], [('x', RIF(1,2)), ('y', RIF(5,6))], [('x', RIF(2,3)), ('y', RIF(6,7))]]"
   ]
  },
  {
   "cell_type": "code",
   "execution_count": null,
   "metadata": {
    "ExecuteTime": {
     "end_time": "2021-01-10T03:15:43.368901Z",
     "start_time": "2021-01-10T03:15:41.314Z"
    }
   },
   "outputs": [],
   "source": [
    "sorted(kxs)"
   ]
  },
  {
   "cell_type": "code",
   "execution_count": null,
   "metadata": {
    "ExecuteTime": {
     "end_time": "2021-01-10T03:15:43.370273Z",
     "start_time": "2021-01-10T03:15:41.318Z"
    }
   },
   "outputs": [],
   "source": [
    "sorted(kxs,\n",
    "       key=lambda xs: [(k, x.endpoints()) for k, x in xs])"
   ]
  },
  {
   "cell_type": "code",
   "execution_count": null,
   "metadata": {},
   "outputs": [],
   "source": []
  }
 ],
 "metadata": {
  "celltoolbar": "Initialization Cell",
  "kernelspec": {
   "display_name": "SageMath 9.0",
   "language": "sage",
   "name": "sagemath"
  },
  "language_info": {
   "codemirror_mode": {
    "name": "ipython",
    "version": 3
   },
   "file_extension": ".py",
   "mimetype": "text/x-python",
   "name": "python",
   "nbconvert_exporter": "python",
   "pygments_lexer": "ipython3",
   "version": "3.8.6"
  },
  "notify_time": "10",
  "toc": {
   "base_numbering": 1,
   "nav_menu": {},
   "number_sections": true,
   "sideBar": true,
   "skip_h1_title": false,
   "title_cell": "Table of Contents",
   "title_sidebar": "Contents",
   "toc_cell": false,
   "toc_position": {},
   "toc_section_display": true,
   "toc_window_display": false
  }
 },
 "nbformat": 4,
 "nbformat_minor": 4
}
