{
 "cells": [
  {
   "cell_type": "markdown",
   "metadata": {},
   "source": [
    "# Whelks and lobsters -- context operator"
   ]
  },
  {
   "cell_type": "markdown",
   "metadata": {},
   "source": [
    "## The system"
   ]
  },
  {
   "cell_type": "code",
   "execution_count": 40,
   "metadata": {
    "ExecuteTime": {
     "end_time": "2021-01-10T06:20:54.572630Z",
     "start_time": "2021-01-10T06:20:54.566417Z"
    }
   },
   "outputs": [],
   "source": [
    "# figure sizing considerations\n",
    "textwidth = 6.26894 # inches\n",
    "textwidthpx = 72 * textwidth # width of text in pixels at 72 dpi"
   ]
  },
  {
   "cell_type": "code",
   "execution_count": 11,
   "metadata": {
    "ExecuteTime": {
     "end_time": "2021-01-10T04:37:31.783063Z",
     "start_time": "2021-01-10T04:37:31.778286Z"
    },
    "init_cell": true
   },
   "outputs": [],
   "source": [
    "%display latex"
   ]
  },
  {
   "cell_type": "code",
   "execution_count": 12,
   "metadata": {
    "ExecuteTime": {
     "end_time": "2021-01-10T04:37:31.845212Z",
     "start_time": "2021-01-10T04:37:31.786817Z"
    },
    "init_cell": true
   },
   "outputs": [],
   "source": [
    "from whelks_and_lobsters_benchmarking import *\n",
    "from lbuc import RestrictionMethod\n",
    "from lbuc import *"
   ]
  },
  {
   "cell_type": "code",
   "execution_count": 13,
   "metadata": {
    "ExecuteTime": {
     "end_time": "2021-01-10T04:37:31.872599Z",
     "start_time": "2021-01-10T04:37:31.848452Z"
    },
    "init_cell": true
   },
   "outputs": [],
   "source": [
    "from lbuc.bondcalculus import *"
   ]
  },
  {
   "cell_type": "code",
   "execution_count": 14,
   "metadata": {
    "ExecuteTime": {
     "end_time": "2021-01-10T04:37:31.900411Z",
     "start_time": "2021-01-10T04:37:31.875164Z"
    },
    "init_cell": true
   },
   "outputs": [],
   "source": [
    "p = m.process(\"[1, 1.2] Whelk || [4, 6] Lobster with network N(0.8, 0.6, 0.3, 0.05, 2)\")"
   ]
  },
  {
   "cell_type": "code",
   "execution_count": 15,
   "metadata": {
    "ExecuteTime": {
     "end_time": "2021-01-10T04:37:32.135515Z",
     "start_time": "2021-01-10T04:37:31.904086Z"
    },
    "init_cell": true
   },
   "outputs": [
    {
     "name": "stdout",
     "output_type": "stream",
     "text": [
      "Running cmd: 'savesage \"[1, 1.2] Whelk || [4, 6] Lobster with network N(0.8, 0.6, 0.3, 0.05, 2)\" \"/tmp/bond-sage-script-bldh8gbk.py\"' ...\n"
     ]
    }
   ],
   "source": [
    "s = p.as_system"
   ]
  },
  {
   "cell_type": "markdown",
   "metadata": {},
   "source": [
    "## Property"
   ]
  },
  {
   "cell_type": "code",
   "execution_count": 16,
   "metadata": {
    "ExecuteTime": {
     "end_time": "2021-01-10T04:37:32.236363Z",
     "start_time": "2021-01-10T04:37:32.139561Z"
    }
   },
   "outputs": [],
   "source": [
    "P = Atomic((var(\"Whelk\") - 1)^2 + var(\"Lobster\")^2 > 0.2)\n",
    "prop = F(RIF(0.1, 0.2), P)"
   ]
  },
  {
   "cell_type": "code",
   "execution_count": 17,
   "metadata": {
    "ExecuteTime": {
     "end_time": "2021-01-10T04:37:32.245546Z",
     "start_time": "2021-01-10T04:37:32.239772Z"
    }
   },
   "outputs": [],
   "source": [
    "kwargs = dict(\n",
    "    precondition=1,\n",
    "    estimation=1e-3,\n",
    "    integrationScheme=2,\n",
    "    cutoff_threshold=1e-5,\n",
    "    symbolic_composition=True,\n",
    "    use_masks=True)"
   ]
  },
  {
   "cell_type": "code",
   "execution_count": 18,
   "metadata": {
    "ExecuteTime": {
     "end_time": "2021-01-10T04:37:32.289073Z",
     "start_time": "2021-01-10T04:37:32.248813Z"
    }
   },
   "outputs": [
    {
     "data": {
      "text/html": [
       "<html><script type=\"math/tex; mode=display\">\\newcommand{\\Bold}[1]{\\mathbf{#1}}\\left[\\left(0, \\left(0.0100000000000000, 0.200000000000000\\right), 5\\right), \\left(1, \\left(0.0100000000000000, 0.200000000000000\\right), 5\\right), \\left(2, \\left(0.0100000000000000, 0.200000000000000\\right), 5\\right), \\left(3, \\left(0.0100000000000000, 0.200000000000000\\right), 5\\right), \\left(4, \\left(0.0100000000000000, 0.200000000000000\\right), 5\\right), \\left(5, \\left(0.0100000000000000, 0.200000000000000\\right), 5\\right), \\left(6, \\left(0.0100000000000000, 0.200000000000000\\right), 5\\right)\\right]</script></html>"
      ],
      "text/plain": [
       "[(0, (0.0100000000000000, 0.200000000000000), 5),\n",
       " (1, (0.0100000000000000, 0.200000000000000), 5),\n",
       " (2, (0.0100000000000000, 0.200000000000000), 5),\n",
       " (3, (0.0100000000000000, 0.200000000000000), 5),\n",
       " (4, (0.0100000000000000, 0.200000000000000), 5),\n",
       " (5, (0.0100000000000000, 0.200000000000000), 5),\n",
       " (6, (0.0100000000000000, 0.200000000000000), 5)]"
      ]
     },
     "execution_count": 18,
     "metadata": {},
     "output_type": "execute_result"
    }
   ],
   "source": [
    "psets = (\n",
    "    [(d, (0.01, 0.2), 5) for d in range(7)]\n",
    "); psets"
   ]
  },
  {
   "cell_type": "code",
   "execution_count": 19,
   "metadata": {
    "ExecuteTime": {
     "end_time": "2021-01-10T04:37:32.322718Z",
     "start_time": "2021-01-10T04:37:32.291421Z"
    }
   },
   "outputs": [],
   "source": [
    "def res(vs):\n",
    "    depth, step, order = vs\n",
    "    return test_signal_refinement(\n",
    "        f'depth-{depth}-{step}-{order}',\n",
    "        prop,\n",
    "        5,\n",
    "        depth,\n",
    "        order=order,\n",
    "        step=step,\n",
    "        **kwargs,\n",
    "    )"
   ]
  },
  {
   "cell_type": "code",
   "execution_count": 20,
   "metadata": {
    "ExecuteTime": {
     "end_time": "2021-01-10T04:47:17.837612Z",
     "start_time": "2021-01-10T04:37:34.785715Z"
    }
   },
   "outputs": [
    {
     "name": "stdout",
     "output_type": "stream",
     "text": [
      "Generating Reach Tree: 1 items in 0.00 seconds\n",
      "Generating Reach Tree: 1 items in 0.00 seconds\n",
      "Generating Reach Tree: 1 items in 0.00 seconds\n",
      "Generating Reach Tree: 1 items in 0.00 seconds\n",
      "Monitoring initial signal: 1 items in 1.30 seconds\n",
      "Monitoring initial signal: 1 items in 1.32 seconds\n",
      "Monitoring initial signal: 1 items in 1.32 seconds\n",
      "Monitoring initial signal: 1 items in 1.35 seconds\n",
      "Run depth-0-(0.0100000000000000, 0.200000000000000)-5 done in 1.3644602589920396 sec\n",
      "Generating Reach Tree: 1 items in 0.00 seconds\n",
      "Run depth-1-(0.0100000000000000, 0.200000000000000)-5 done in 2.5377128359978087 sec\n",
      "Generating Reach Tree: 1 items in 0.00 seconds\n",
      "Monitoring initial signal: 1 items in 1.65 seconds\n",
      "Monitoring initial signal: 1 items in 1.71 seconds\n",
      "Run depth-2-(0.0100000000000000, 0.200000000000000)-5 done in 5.7094505119894166 sec\n",
      "Generating Reach Tree: 1 items in 0.00 seconds\n",
      "Monitoring initial signal: 1 items in 1.33 seconds\n",
      "Run depth-3-(0.0100000000000000, 0.200000000000000)-5 done in 15.867196549996152 sec\n",
      "Run depth-4-(0.0100000000000000, 0.200000000000000)-5 done in 49.222948142996756 sec\n",
      "Run depth-5-(0.0100000000000000, 0.200000000000000)-5 done in 166.72384473099373 sec\n",
      "Run depth-6-(0.0100000000000000, 0.200000000000000)-5 done in 576.6094513120042 sec\n"
     ]
    }
   ],
   "source": [
    "ress = list(pool.map(res, psets))"
   ]
  },
  {
   "cell_type": "code",
   "execution_count": 21,
   "metadata": {
    "ExecuteTime": {
     "end_time": "2021-01-10T04:47:24.938544Z",
     "start_time": "2021-01-10T04:47:24.922018Z"
    }
   },
   "outputs": [
    {
     "data": {
      "text/html": [
       "<html><script type=\"math/tex; mode=display\">\\newcommand{\\Bold}[1]{\\mathbf{#1}}\\left[\\left(1.3644602589920396, \\verb|Signal([0.0000000000000000|\\phantom{\\verb!x!}\\verb|..|\\phantom{\\verb!x!}\\verb|5.0000000000000000],|\\phantom{\\verb!x!}\\verb|[([0.0000000000000000|\\phantom{\\verb!x!}\\verb|..|\\phantom{\\verb!x!}\\verb|0.62899770431682578],|\\phantom{\\verb!x!}\\verb|True),|\\phantom{\\verb!x!}\\verb|([2.3223569572167921|\\phantom{\\verb!x!}\\verb|..|\\phantom{\\verb!x!}\\verb|5.0000000000000000],|\\phantom{\\verb!x!}\\verb|False)],|\\phantom{\\verb!x!}\\verb|mask=Mask([0.0000000000000000|\\phantom{\\verb!x!}\\verb|..|\\phantom{\\verb!x!}\\verb|5.0000000000000000],|\\phantom{\\verb!x!}\\verb|[[0.0000000000000000|\\phantom{\\verb!x!}\\verb|..|\\phantom{\\verb!x!}\\verb|5.0000000000000000]]))|, \\verb|<flowstar.instrumentation.AggregateMetric|\\phantom{\\verb!x!}\\verb|object|\\phantom{\\verb!x!}\\verb|at|\\phantom{\\verb!x!}\\verb|0x7f3a14f6bc80>|\\right), \\left(2.5377128359978087, \\verb|Signal([0.0000000000000000|\\phantom{\\verb!x!}\\verb|..|\\phantom{\\verb!x!}\\verb|5.0000000000000000],|\\phantom{\\verb!x!}\\verb|[([0.0000000000000000|\\phantom{\\verb!x!}\\verb|..|\\phantom{\\verb!x!}\\verb|0.93152535218068456],|\\phantom{\\verb!x!}\\verb|True),|\\phantom{\\verb!x!}\\verb|([2.0341310578689117|\\phantom{\\verb!x!}\\verb|..|\\phantom{\\verb!x!}\\verb|5.0000000000000000],|\\phantom{\\verb!x!}\\verb|False)],|\\phantom{\\verb!x!}\\verb|mask=Mask([0.0000000000000000|\\phantom{\\verb!x!}\\verb|..|\\phantom{\\verb!x!}\\verb|5.0000000000000000],|\\phantom{\\verb!x!}\\verb|[[0.0000000000000000|\\phantom{\\verb!x!}\\verb|..|\\phantom{\\verb!x!}\\verb|5.0000000000000000]]))|, \\verb|<flowstar.instrumentation.AggregateMetric|\\phantom{\\verb!x!}\\verb|object|\\phantom{\\verb!x!}\\verb|at|\\phantom{\\verb!x!}\\verb|0x7f3a14f6b5c0>|\\right), \\left(5.7094505119894166, \\verb|Signal([0.0000000000000000|\\phantom{\\verb!x!}\\verb|..|\\phantom{\\verb!x!}\\verb|5.0000000000000000],|\\phantom{\\verb!x!}\\verb|[([0.0000000000000000|\\phantom{\\verb!x!}\\verb|..|\\phantom{\\verb!x!}\\verb|1.0587772868248296],|\\phantom{\\verb!x!}\\verb|True),|\\phantom{\\verb!x!}\\verb|([1.7952782277043086|\\phantom{\\verb!x!}\\verb|..|\\phantom{\\verb!x!}\\verb|5.0000000000000000],|\\phantom{\\verb!x!}\\verb|False)],|\\phantom{\\verb!x!}\\verb|mask=Mask([0.0000000000000000|\\phantom{\\verb!x!}\\verb|..|\\phantom{\\verb!x!}\\verb|5.0000000000000000],|\\phantom{\\verb!x!}\\verb|[[0.0000000000000000|\\phantom{\\verb!x!}\\verb|..|\\phantom{\\verb!x!}\\verb|5.0000000000000000]]))|, \\verb|<flowstar.instrumentation.AggregateMetric|\\phantom{\\verb!x!}\\verb|object|\\phantom{\\verb!x!}\\verb|at|\\phantom{\\verb!x!}\\verb|0x7f3a14f6bd80>|\\right), \\left(15.867196549996152, \\verb|Signal([0.0000000000000000|\\phantom{\\verb!x!}\\verb|..|\\phantom{\\verb!x!}\\verb|5.0000000000000000],|\\phantom{\\verb!x!}\\verb|[([0.0000000000000000|\\phantom{\\verb!x!}\\verb|..|\\phantom{\\verb!x!}\\verb|1.1292716403741344],|\\phantom{\\verb!x!}\\verb|True),|\\phantom{\\verb!x!}\\verb|([1.7177271147421941|\\phantom{\\verb!x!}\\verb|..|\\phantom{\\verb!x!}\\verb|5.0000000000000000],|\\phantom{\\verb!x!}\\verb|False)],|\\phantom{\\verb!x!}\\verb|mask=Mask([0.0000000000000000|\\phantom{\\verb!x!}\\verb|..|\\phantom{\\verb!x!}\\verb|5.0000000000000000],|\\phantom{\\verb!x!}\\verb|[[0.0000000000000000|\\phantom{\\verb!x!}\\verb|..|\\phantom{\\verb!x!}\\verb|5.0000000000000000]]))|, \\verb|<flowstar.instrumentation.AggregateMetric|\\phantom{\\verb!x!}\\verb|object|\\phantom{\\verb!x!}\\verb|at|\\phantom{\\verb!x!}\\verb|0x7f3a08065340>|\\right), \\left(49.222948142996756, \\verb|Signal([0.0000000000000000|\\phantom{\\verb!x!}\\verb|..|\\phantom{\\verb!x!}\\verb|5.0000000000000000],|\\phantom{\\verb!x!}\\verb|[([0.0000000000000000|\\phantom{\\verb!x!}\\verb|..|\\phantom{\\verb!x!}\\verb|1.2667728385202149],|\\phantom{\\verb!x!}\\verb|True),|\\phantom{\\verb!x!}\\verb|([1.6066485005041506|\\phantom{\\verb!x!}\\verb|..|\\phantom{\\verb!x!}\\verb|5.0000000000000000],|\\phantom{\\verb!x!}\\verb|False)],|\\phantom{\\verb!x!}\\verb|mask=Mask([0.0000000000000000|\\phantom{\\verb!x!}\\verb|..|\\phantom{\\verb!x!}\\verb|5.0000000000000000],|\\phantom{\\verb!x!}\\verb|[[0.0000000000000000|\\phantom{\\verb!x!}\\verb|..|\\phantom{\\verb!x!}\\verb|5.0000000000000000]]))|, \\verb|<flowstar.instrumentation.AggregateMetric|\\phantom{\\verb!x!}\\verb|object|\\phantom{\\verb!x!}\\verb|at|\\phantom{\\verb!x!}\\verb|0x7f3a08080d40>|\\right), \\left(166.72384473099373, \\verb|Signal([0.0000000000000000|\\phantom{\\verb!x!}\\verb|..|\\phantom{\\verb!x!}\\verb|5.0000000000000000],|\\phantom{\\verb!x!}\\verb|[([0.0000000000000000|\\phantom{\\verb!x!}\\verb|..|\\phantom{\\verb!x!}\\verb|1.3671954112635510],|\\phantom{\\verb!x!}\\verb|True),|\\phantom{\\verb!x!}\\verb|([1.5472802357673167|\\phantom{\\verb!x!}\\verb|..|\\phantom{\\verb!x!}\\verb|5.0000000000000000],|\\phantom{\\verb!x!}\\verb|False)],|\\phantom{\\verb!x!}\\verb|mask=Mask([0.0000000000000000|\\phantom{\\verb!x!}\\verb|..|\\phantom{\\verb!x!}\\verb|5.0000000000000000],|\\phantom{\\verb!x!}\\verb|[[0.0000000000000000|\\phantom{\\verb!x!}\\verb|..|\\phantom{\\verb!x!}\\verb|5.0000000000000000]]))|, \\verb|<flowstar.instrumentation.AggregateMetric|\\phantom{\\verb!x!}\\verb|object|\\phantom{\\verb!x!}\\verb|at|\\phantom{\\verb!x!}\\verb|0x7f3a0ba8c200>|\\right), \\left(576.6094513120042, \\verb|Signal([0.0000000000000000|\\phantom{\\verb!x!}\\verb|..|\\phantom{\\verb!x!}\\verb|5.0000000000000000],|\\phantom{\\verb!x!}\\verb|[([0.0000000000000000|\\phantom{\\verb!x!}\\verb|..|\\phantom{\\verb!x!}\\verb|1.4144985264832391],|\\phantom{\\verb!x!}\\verb|True),|\\phantom{\\verb!x!}\\verb|([1.5163791651043792|\\phantom{\\verb!x!}\\verb|..|\\phantom{\\verb!x!}\\verb|5.0000000000000000],|\\phantom{\\verb!x!}\\verb|False)],|\\phantom{\\verb!x!}\\verb|mask=Mask([0.0000000000000000|\\phantom{\\verb!x!}\\verb|..|\\phantom{\\verb!x!}\\verb|5.0000000000000000],|\\phantom{\\verb!x!}\\verb|[[0.0000000000000000|\\phantom{\\verb!x!}\\verb|..|\\phantom{\\verb!x!}\\verb|5.0000000000000000]]))|, \\verb|<flowstar.instrumentation.AggregateMetric|\\phantom{\\verb!x!}\\verb|object|\\phantom{\\verb!x!}\\verb|at|\\phantom{\\verb!x!}\\verb|0x7f3a0806b4c0>|\\right)\\right]</script></html>"
      ],
      "text/plain": [
       "[(1.3644602589920396,\n",
       "  Signal([0.0000000000000000 .. 5.0000000000000000], [([0.0000000000000000 .. 0.62899770431682578], True), ([2.3223569572167921 .. 5.0000000000000000], False)], mask=Mask([0.0000000000000000 .. 5.0000000000000000], [[0.0000000000000000 .. 5.0000000000000000]])),\n",
       "  <flowstar.instrumentation.AggregateMetric object at 0x7f3a14f6bc80>),\n",
       " (2.5377128359978087,\n",
       "  Signal([0.0000000000000000 .. 5.0000000000000000], [([0.0000000000000000 .. 0.93152535218068456], True), ([2.0341310578689117 .. 5.0000000000000000], False)], mask=Mask([0.0000000000000000 .. 5.0000000000000000], [[0.0000000000000000 .. 5.0000000000000000]])),\n",
       "  <flowstar.instrumentation.AggregateMetric object at 0x7f3a14f6b5c0>),\n",
       " (5.7094505119894166,\n",
       "  Signal([0.0000000000000000 .. 5.0000000000000000], [([0.0000000000000000 .. 1.0587772868248296], True), ([1.7952782277043086 .. 5.0000000000000000], False)], mask=Mask([0.0000000000000000 .. 5.0000000000000000], [[0.0000000000000000 .. 5.0000000000000000]])),\n",
       "  <flowstar.instrumentation.AggregateMetric object at 0x7f3a14f6bd80>),\n",
       " (15.867196549996152,\n",
       "  Signal([0.0000000000000000 .. 5.0000000000000000], [([0.0000000000000000 .. 1.1292716403741344], True), ([1.7177271147421941 .. 5.0000000000000000], False)], mask=Mask([0.0000000000000000 .. 5.0000000000000000], [[0.0000000000000000 .. 5.0000000000000000]])),\n",
       "  <flowstar.instrumentation.AggregateMetric object at 0x7f3a08065340>),\n",
       " (49.222948142996756,\n",
       "  Signal([0.0000000000000000 .. 5.0000000000000000], [([0.0000000000000000 .. 1.2667728385202149], True), ([1.6066485005041506 .. 5.0000000000000000], False)], mask=Mask([0.0000000000000000 .. 5.0000000000000000], [[0.0000000000000000 .. 5.0000000000000000]])),\n",
       "  <flowstar.instrumentation.AggregateMetric object at 0x7f3a08080d40>),\n",
       " (166.72384473099373,\n",
       "  Signal([0.0000000000000000 .. 5.0000000000000000], [([0.0000000000000000 .. 1.3671954112635510], True), ([1.5472802357673167 .. 5.0000000000000000], False)], mask=Mask([0.0000000000000000 .. 5.0000000000000000], [[0.0000000000000000 .. 5.0000000000000000]])),\n",
       "  <flowstar.instrumentation.AggregateMetric object at 0x7f3a0ba8c200>),\n",
       " (576.6094513120042,\n",
       "  Signal([0.0000000000000000 .. 5.0000000000000000], [([0.0000000000000000 .. 1.4144985264832391], True), ([1.5163791651043792 .. 5.0000000000000000], False)], mask=Mask([0.0000000000000000 .. 5.0000000000000000], [[0.0000000000000000 .. 5.0000000000000000]])),\n",
       "  <flowstar.instrumentation.AggregateMetric object at 0x7f3a0806b4c0>)]"
      ]
     },
     "execution_count": 21,
     "metadata": {},
     "output_type": "execute_result"
    }
   ],
   "source": [
    "ress"
   ]
  },
  {
   "cell_type": "code",
   "execution_count": 22,
   "metadata": {
    "ExecuteTime": {
     "end_time": "2021-01-10T04:47:26.236156Z",
     "start_time": "2021-01-10T04:47:26.231546Z"
    }
   },
   "outputs": [],
   "source": [
    "res_tups = list(zip(psets, ress))#; res_tups"
   ]
  },
  {
   "cell_type": "code",
   "execution_count": 46,
   "metadata": {
    "ExecuteTime": {
     "end_time": "2021-01-10T06:32:12.115572Z",
     "start_time": "2021-01-10T06:32:12.107512Z"
    }
   },
   "outputs": [],
   "source": [
    "def plt1(sig, ar):\n",
    "    p = sig.plot(ticks=[None, []])\n",
    "    p.set_aspect_ratio(ar)\n",
    "    return p"
   ]
  },
  {
   "cell_type": "code",
   "execution_count": 47,
   "metadata": {
    "ExecuteTime": {
     "end_time": "2021-01-10T06:32:20.697896Z",
     "start_time": "2021-01-10T06:32:20.694225Z"
    }
   },
   "outputs": [],
   "source": [
    "import matplotlib.pyplot as plt"
   ]
  },
  {
   "cell_type": "code",
   "execution_count": 109,
   "metadata": {
    "ExecuteTime": {
     "end_time": "2021-01-11T14:36:20.451780Z",
     "start_time": "2021-01-11T14:36:18.658198Z"
    }
   },
   "outputs": [
    {
     "data": {
      "image/png": "[encoded data removed]",
      "text/plain": [
       "<Figure size 225.682x225.682 with 14 Axes>"
      ]
     },
     "execution_count": 109,
     "metadata": {},
     "output_type": "execute_result"
    }
   ],
   "source": [
    "sigsbydepth = [\n",
    "    sig for t, sig, m in ress[0:7]\n",
    "]\n",
    "\n",
    "g = multi_graphics(sum(\n",
    "    ([(text(f\"$d={i}$\", (1.7,0.8), fontsize=20, axes=False),\n",
    "      (0.025, 0.95*(1 - i/(len(sigsbydepth) - 1)) + 0.05, 0.25, 0.95*1/len(sigsbydepth))),\n",
    "     (plt1(sig, 1/5),\n",
    "      (0.275, 0.95*(1 - i/(len(sigsbydepth) - 1)) + 0.05, 0.70,\n",
    "       0.95*1/len(sigsbydepth)))]\n",
    "     for i, sig in enumerate(sigsbydepth)), []))\n",
    "fig = g.matplotlib()\n",
    "fig.set_size_inches(textwidth/2, textwidth/2)\n",
    "fig.savefig(\"output/refined-signal.pgf\", dpi=72)\n",
    "fig.savefig(\"output/refined-signal.pdf\", dpi=72)\n",
    "fig"
   ]
  },
  {
   "cell_type": "code",
   "execution_count": 37,
   "metadata": {
    "ExecuteTime": {
     "end_time": "2021-01-10T04:58:46.362990Z",
     "start_time": "2021-01-10T04:58:46.358196Z"
    }
   },
   "outputs": [],
   "source": [
    "import pandas as pd\n",
    "import numpy as np"
   ]
  },
  {
   "cell_type": "code",
   "execution_count": 38,
   "metadata": {
    "ExecuteTime": {
     "end_time": "2021-01-10T04:58:46.723360Z",
     "start_time": "2021-01-10T04:58:46.694481Z"
    }
   },
   "outputs": [
    {
     "data": {
      "text/html": [
       "<html><script type=\"math/tex; mode=display\">\\newcommand{\\Bold}[1]{\\mathbf{#1}}\\begin{array}{l}\n",
       "\\phantom{\\verb!xxx!}\\verb|depth|\\phantom{\\verb!xxxxxxxx!}\\verb|time|\\phantom{\\verb!xx!}\\verb|unknown_width|\\\\\n",
       "\\verb|0|\\phantom{\\verb!xxxx!}\\verb|0.0|\\phantom{\\verb!xxxx!}\\verb|1.364460|\\phantom{\\verb!xxxxxxx!}\\verb|1.693359|\\\\\n",
       "\\verb|1|\\phantom{\\verb!xxxx!}\\verb|1.0|\\phantom{\\verb!xxxx!}\\verb|2.537713|\\phantom{\\verb!xxxxxxx!}\\verb|1.102606|\\\\\n",
       "\\verb|2|\\phantom{\\verb!xxxx!}\\verb|2.0|\\phantom{\\verb!xxxx!}\\verb|5.709451|\\phantom{\\verb!xxxxxxx!}\\verb|0.736501|\\\\\n",
       "\\verb|3|\\phantom{\\verb!xxxx!}\\verb|3.0|\\phantom{\\verb!xxx!}\\verb|15.867197|\\phantom{\\verb!xxxxxxx!}\\verb|0.588455|\\\\\n",
       "\\verb|4|\\phantom{\\verb!xxxx!}\\verb|4.0|\\phantom{\\verb!xxx!}\\verb|49.222948|\\phantom{\\verb!xxxxxxx!}\\verb|0.339876|\\\\\n",
       "\\verb|5|\\phantom{\\verb!xxxx!}\\verb|5.0|\\phantom{\\verb!xx!}\\verb|166.723845|\\phantom{\\verb!xxxxxxx!}\\verb|0.180085|\\\\\n",
       "\\verb|6|\\phantom{\\verb!xxxx!}\\verb|6.0|\\phantom{\\verb!xx!}\\verb|576.609451|\\phantom{\\verb!xxxxxxx!}\\verb|0.101881|\n",
       "\\end{array}</script></html>"
      ],
      "text/plain": [
       "   depth        time  unknown_width\n",
       "0    0.0    1.364460       1.693359\n",
       "1    1.0    2.537713       1.102606\n",
       "2    2.0    5.709451       0.736501\n",
       "3    3.0   15.867197       0.588455\n",
       "4    4.0   49.222948       0.339876\n",
       "5    5.0  166.723845       0.180085\n",
       "6    6.0  576.609451       0.101881"
      ]
     },
     "execution_count": 38,
     "metadata": {},
     "output_type": "execute_result"
    }
   ],
   "source": [
    "data = pd.DataFrame(\n",
    "    np.array(\n",
    "        [[i, t, sig.values[1][0].lower() - sig.values[0][0].upper()]\n",
    "         for i, (t, sig, m) in enumerate(ress)],\n",
    "    ),\n",
    "    columns=['depth',\n",
    "             'time',\n",
    "             'unknown_width'],\n",
    "); data"
   ]
  },
  {
   "cell_type": "code",
   "execution_count": 39,
   "metadata": {
    "ExecuteTime": {
     "end_time": "2021-01-10T04:58:50.374558Z",
     "start_time": "2021-01-10T04:58:50.350065Z"
    }
   },
   "outputs": [],
   "source": [
    "data.to_hdf(\"depth-time-width.hdf\", key='depth')"
   ]
  },
  {
   "cell_type": "code",
   "execution_count": 66,
   "metadata": {
    "ExecuteTime": {
     "end_time": "2021-01-10T03:15:42.378198Z",
     "start_time": "2021-01-10T03:15:42.369671Z"
    }
   },
   "outputs": [],
   "source": [
    "def as_animation(csig, depth, a, b, step):\n",
    "    with suppress_stdout():\n",
    "        return animate(\n",
    "        [csig.G(t0).plot_histogram2d(depth)\n",
    "             + text(\"t = {:.2f}\".format(float(t0)), (5, 0.4))\n",
    "         for t0 in srange(a, b, step, include_endpoint=True)], axes=False)\n",
    "    \n",
    "def as_video(filename, animation, delay=10):\n",
    "    animation.ffmpeg(savefile=f'{filename}.webm', ffmpeg_options=\"-threads 8 -lossless 1\", delay=delay)\n",
    "    return html(f\"<video src='{filename}.webm' autoplay loop playsinline />\")"
   ]
  },
  {
   "cell_type": "code",
   "execution_count": 67,
   "metadata": {
    "ExecuteTime": {
     "end_time": "2021-01-10T03:15:42.426667Z",
     "start_time": "2021-01-10T03:15:42.382098Z"
    }
   },
   "outputs": [],
   "source": [
    "def as_keyframes(csig, depth, a, b, n):\n",
    "    with suppress_stdout():\n",
    "        return [csig.G(t0).plot_histogram2d(depth)\n",
    "         for t0 in srange(a, b, (b - a)/n, include_endpoint=True)]"
   ]
  },
  {
   "cell_type": "code",
   "execution_count": 68,
   "metadata": {
    "ExecuteTime": {
     "end_time": "2021-01-10T03:15:42.935801Z",
     "start_time": "2021-01-10T03:15:42.429452Z"
    }
   },
   "outputs": [
    {
     "name": "stdout",
     "output_type": "stream",
     "text": [
      "Help on method_descriptor:\n",
      "\n",
      "__format__(self, format_spec, /)\n",
      "    Default object formatter.\n",
      "\n"
     ]
    }
   ],
   "source": [
    "help(sage.rings.real_mpfr.RealNumber.__format__)"
   ]
  },
  {
   "cell_type": "code",
   "execution_count": 69,
   "metadata": {
    "ExecuteTime": {
     "end_time": "2021-01-10T03:15:43.242986Z",
     "start_time": "2021-01-10T03:15:42.939522Z"
    }
   },
   "outputs": [
    {
     "ename": "NameError",
     "evalue": "name 'csig' is not defined",
     "output_type": "error",
     "traceback": [
      "\u001b[0;31m\u001b[0m",
      "\u001b[0;31mNameError\u001b[0mTraceback (most recent call last)",
      "\u001b[0;32m<ipython-input-69-3c586fed5138>\u001b[0m in \u001b[0;36m<module>\u001b[0;34m()\u001b[0m\n\u001b[0;32m----> 1\u001b[0;31m \u001b[0mas_video\u001b[0m\u001b[0;34m(\u001b[0m\u001b[0;34m\"animation2\"\u001b[0m\u001b[0;34m,\u001b[0m \u001b[0mas_animation\u001b[0m\u001b[0;34m(\u001b[0m\u001b[0mcsig\u001b[0m\u001b[0;34m,\u001b[0m \u001b[0mInteger\u001b[0m\u001b[0;34m(\u001b[0m\u001b[0;36m4\u001b[0m\u001b[0;34m)\u001b[0m\u001b[0;34m,\u001b[0m \u001b[0mInteger\u001b[0m\u001b[0;34m(\u001b[0m\u001b[0;36m0\u001b[0m\u001b[0;34m)\u001b[0m\u001b[0;34m,\u001b[0m \u001b[0mInteger\u001b[0m\u001b[0;34m(\u001b[0m\u001b[0;36m3\u001b[0m\u001b[0;34m)\u001b[0m\u001b[0;34m,\u001b[0m \u001b[0mRealNumber\u001b[0m\u001b[0;34m(\u001b[0m\u001b[0;34m'0.05'\u001b[0m\u001b[0;34m)\u001b[0m\u001b[0;34m)\u001b[0m\u001b[0;34m,\u001b[0m \u001b[0mInteger\u001b[0m\u001b[0;34m(\u001b[0m\u001b[0;36m30\u001b[0m\u001b[0;34m)\u001b[0m\u001b[0;34m)\u001b[0m\u001b[0;34m\u001b[0m\u001b[0;34m\u001b[0m\u001b[0m\n\u001b[0m",
      "\u001b[0;31mNameError\u001b[0m: name 'csig' is not defined"
     ]
    }
   ],
   "source": [
    "as_video(\"animation2\", as_animation(csig, 4, 0, 3, 0.05), 30)"
   ]
  },
  {
   "cell_type": "code",
   "execution_count": null,
   "metadata": {},
   "outputs": [],
   "source": []
  },
  {
   "cell_type": "code",
   "execution_count": null,
   "metadata": {
    "ExecuteTime": {
     "end_time": "2021-01-10T03:15:43.250861Z",
     "start_time": "2021-01-10T03:15:40.852Z"
    }
   },
   "outputs": [],
   "source": [
    "a = as_animation(csig, 4, 1.1, 2.4, (2.4 - 1.1)/(3*4 - 1))"
   ]
  },
  {
   "cell_type": "code",
   "execution_count": null,
   "metadata": {
    "ExecuteTime": {
     "end_time": "2021-01-10T03:15:43.252880Z",
     "start_time": "2021-01-10T03:15:40.856Z"
    }
   },
   "outputs": [],
   "source": [
    "import matplotlib.pyplot as plt"
   ]
  },
  {
   "cell_type": "code",
   "execution_count": null,
   "metadata": {
    "ExecuteTime": {
     "end_time": "2021-01-10T03:15:43.254905Z",
     "start_time": "2021-01-10T03:15:40.861Z"
    }
   },
   "outputs": [],
   "source": [
    "plt.figure(figsize=(5,5))\n",
    "a.graphics_array(3)"
   ]
  },
  {
   "cell_type": "code",
   "execution_count": null,
   "metadata": {
    "ExecuteTime": {
     "end_time": "2021-01-10T03:15:43.256558Z",
     "start_time": "2021-01-10T03:15:40.865Z"
    }
   },
   "outputs": [],
   "source": [
    "a = as_keyframes(csig, 4, 1, 2.5, 3*4)"
   ]
  },
  {
   "cell_type": "code",
   "execution_count": null,
   "metadata": {
    "ExecuteTime": {
     "end_time": "2021-01-10T03:15:43.258559Z",
     "start_time": "2021-01-10T03:15:40.870Z"
    }
   },
   "outputs": [],
   "source": [
    "for i, f in enumerate(a,1):\n",
    "    f.save(f\"histogram-frame-{i}.pdf\")"
   ]
  },
  {
   "cell_type": "code",
   "execution_count": null,
   "metadata": {
    "ExecuteTime": {
     "end_time": "2021-01-10T03:15:43.260465Z",
     "start_time": "2021-01-10T03:15:40.875Z"
    }
   },
   "outputs": [],
   "source": [
    "!ls"
   ]
  },
  {
   "cell_type": "code",
   "execution_count": null,
   "metadata": {
    "ExecuteTime": {
     "end_time": "2021-01-10T03:15:43.261797Z",
     "start_time": "2021-01-10T03:15:40.881Z"
    }
   },
   "outputs": [],
   "source": [
    "with suppress_stdout():\n",
    "    p = csig.G(1).plot_histogram2d(4)\n",
    "    \n",
    "p"
   ]
  },
  {
   "cell_type": "code",
   "execution_count": null,
   "metadata": {
    "ExecuteTime": {
     "end_time": "2021-01-10T03:15:43.263159Z",
     "start_time": "2021-01-10T03:15:40.886Z"
    }
   },
   "outputs": [],
   "source": [
    "sig = F(RIF(0.1, 0.2), P).signal_for_system(\n",
    "    s, 5, order=5, step=(0.01, 0.2),\n",
    "    precondition=1,\n",
    "    estimation=1e-3,\n",
    "    integrationScheme=2,\n",
    "    cutoff_threshold=1e-5,\n",
    "    symbolic_composition=True,\n",
    "    use_masks=True,\n",
    "    mask=Mask(RIF(0, 5), [RIF(0.5, 1), RIF(3, 4)]),\n",
    ")\n",
    "sig.plot()"
   ]
  },
  {
   "cell_type": "code",
   "execution_count": null,
   "metadata": {
    "ExecuteTime": {
     "end_time": "2021-01-10T03:15:43.264614Z",
     "start_time": "2021-01-10T03:15:40.891Z"
    }
   },
   "outputs": [],
   "source": [
    "sig = P.signal_for_system(\n",
    "    s, 5, order=5, step=(0.01, 0.2),\n",
    "    precondition=1,\n",
    "    estimation=1e-3,\n",
    "    integrationScheme=2,\n",
    "    cutoff_threshold=1e-5,\n",
    "    symbolic_composition=True,\n",
    "    use_masks=True,\n",
    ")\n",
    "sig.plot()"
   ]
  },
  {
   "cell_type": "code",
   "execution_count": null,
   "metadata": {
    "ExecuteTime": {
     "end_time": "2021-01-10T03:15:43.265930Z",
     "start_time": "2021-01-10T03:15:40.896Z"
    }
   },
   "outputs": [],
   "source": [
    "P"
   ]
  },
  {
   "cell_type": "code",
   "execution_count": null,
   "metadata": {
    "ExecuteTime": {
     "end_time": "2021-01-10T03:15:43.267964Z",
     "start_time": "2021-01-10T03:15:40.901Z"
    }
   },
   "outputs": [],
   "source": [
    "ctx_sig = P.context_signal_for_system(\n",
    "    s, 5, order=5, step=(0.01, 0.2),\n",
    "    precondition=1,\n",
    "    estimation=1e-3,\n",
    "    integrationScheme=2,\n",
    "    cutoff_threshold=1e-5,\n",
    "    symbolic_composition=True,\n",
    "    use_masks=True,\n",
    ")\n",
    "ctx_sig.signal.plot()"
   ]
  },
  {
   "cell_type": "code",
   "execution_count": null,
   "metadata": {
    "ExecuteTime": {
     "end_time": "2021-01-10T03:15:43.269834Z",
     "start_time": "2021-01-10T03:15:40.906Z"
    }
   },
   "outputs": [],
   "source": [
    "ctx_sig.refined_signal(2).plot()"
   ]
  },
  {
   "cell_type": "code",
   "execution_count": null,
   "metadata": {
    "ExecuteTime": {
     "end_time": "2021-01-10T03:15:43.270944Z",
     "start_time": "2021-01-10T03:15:40.913Z"
    }
   },
   "outputs": [],
   "source": [
    "ctx_sig = F(RIF(0.1, 0.2), P).context_signal_for_system(\n",
    "    s, 5, order=5, step=(0.01, 0.2),\n",
    "    precondition=1,\n",
    "    estimation=1e-3,\n",
    "    integrationScheme=2,\n",
    "    cutoff_threshold=1e-5,\n",
    "    symbolic_composition=True,\n",
    "    use_masks=True,\n",
    ")\n",
    "ctx_sig.signal.plot()"
   ]
  },
  {
   "cell_type": "code",
   "execution_count": null,
   "metadata": {
    "ExecuteTime": {
     "end_time": "2021-01-10T03:15:43.271990Z",
     "start_time": "2021-01-10T03:15:40.918Z"
    }
   },
   "outputs": [],
   "source": [
    "ctx_sig.refined_signal(1).plot()"
   ]
  },
  {
   "cell_type": "code",
   "execution_count": null,
   "metadata": {
    "ExecuteTime": {
     "end_time": "2021-01-10T03:15:43.273072Z",
     "start_time": "2021-01-10T03:15:40.924Z"
    }
   },
   "outputs": [],
   "source": [
    "ctx_sig.refined_signal(2).plot()"
   ]
  },
  {
   "cell_type": "code",
   "execution_count": null,
   "metadata": {
    "ExecuteTime": {
     "end_time": "2021-01-10T03:15:43.274236Z",
     "start_time": "2021-01-10T03:15:40.931Z"
    },
    "limit_output": 100000
   },
   "outputs": [],
   "source": [
    "ctx_sig.refined_signal(3).plot()"
   ]
  },
  {
   "cell_type": "code",
   "execution_count": null,
   "metadata": {
    "ExecuteTime": {
     "end_time": "2021-01-10T03:15:43.275341Z",
     "start_time": "2021-01-10T03:15:40.935Z"
    },
    "limit_output": 100000
   },
   "outputs": [],
   "source": [
    "ctx_sig = Atomic(var(\"Whelk\") > 1.15).context_signal_for_system(\n",
    "    s, 5, order=5, step=(0.01, 0.5),\n",
    "    precondition=1,\n",
    "    estimation=1e-3,\n",
    "    integrationScheme=2,\n",
    "    cutoff_threshold=1e-5,\n",
    "    symbolic_composition=True,\n",
    "    use_masks=True,\n",
    ")\n",
    "ctx_sig.signal.plot()"
   ]
  },
  {
   "cell_type": "code",
   "execution_count": null,
   "metadata": {
    "ExecuteTime": {
     "end_time": "2021-01-10T03:15:43.276528Z",
     "start_time": "2021-01-10T03:15:40.940Z"
    }
   },
   "outputs": [],
   "source": [
    "prop = (F(RIF(0.1, 0.2), P) & Atomic(var(\"Whelk\") > 1.15))\n",
    "prop"
   ]
  },
  {
   "cell_type": "code",
   "execution_count": null,
   "metadata": {
    "ExecuteTime": {
     "end_time": "2021-01-10T03:15:43.277574Z",
     "start_time": "2021-01-10T03:15:40.944Z"
    }
   },
   "outputs": [],
   "source": [
    "ctx_sig = prop.context_signal_for_system(\n",
    "    s, 5, order=5, step=(0.01, 0.5),\n",
    "    precondition=1,\n",
    "    estimation=1e-3,\n",
    "    integrationScheme=2,\n",
    "    cutoff_threshold=1e-5,\n",
    "    symbolic_composition=True,\n",
    "    use_masks=True,\n",
    ")\n",
    "ctx_sig.signal.plot()"
   ]
  },
  {
   "cell_type": "code",
   "execution_count": null,
   "metadata": {
    "ExecuteTime": {
     "end_time": "2021-01-10T03:15:43.278889Z",
     "start_time": "2021-01-10T03:15:40.956Z"
    }
   },
   "outputs": [],
   "source": [
    "ctx_sig.plot_histogram2d(4)"
   ]
  },
  {
   "cell_type": "code",
   "execution_count": null,
   "metadata": {
    "ExecuteTime": {
     "end_time": "2021-01-10T03:15:43.280328Z",
     "start_time": "2021-01-10T03:15:40.961Z"
    }
   },
   "outputs": [],
   "source": [
    "with suppress_stdout():\n",
    "    p3 = ctx_sig.plot_histogram2d(5)\n",
    "    \n",
    "p3"
   ]
  },
  {
   "cell_type": "code",
   "execution_count": null,
   "metadata": {
    "ExecuteTime": {
     "end_time": "2021-01-10T03:15:43.281489Z",
     "start_time": "2021-01-10T03:15:40.965Z"
    }
   },
   "outputs": [],
   "source": [
    "ctx_sig.refined_signal(1).plot()"
   ]
  },
  {
   "cell_type": "code",
   "execution_count": null,
   "metadata": {
    "ExecuteTime": {
     "end_time": "2021-01-10T03:15:43.282803Z",
     "start_time": "2021-01-10T03:15:40.971Z"
    }
   },
   "outputs": [],
   "source": [
    "sig = ctx_sig.refined_signal(2)"
   ]
  },
  {
   "cell_type": "code",
   "execution_count": null,
   "metadata": {
    "ExecuteTime": {
     "end_time": "2021-01-10T03:15:43.284092Z",
     "start_time": "2021-01-10T03:15:40.978Z"
    }
   },
   "outputs": [],
   "source": [
    "sig.plot()"
   ]
  },
  {
   "cell_type": "code",
   "execution_count": null,
   "metadata": {
    "ExecuteTime": {
     "end_time": "2021-01-10T03:15:43.285068Z",
     "start_time": "2021-01-10T03:15:40.984Z"
    },
    "limit_output": 100000
   },
   "outputs": [],
   "source": [
    "sig = ctx_sig.refined_signal(3)"
   ]
  },
  {
   "cell_type": "code",
   "execution_count": null,
   "metadata": {
    "ExecuteTime": {
     "end_time": "2021-01-10T03:15:43.286498Z",
     "start_time": "2021-01-10T03:15:40.989Z"
    }
   },
   "outputs": [],
   "source": [
    "sig.plot()"
   ]
  },
  {
   "cell_type": "code",
   "execution_count": null,
   "metadata": {
    "ExecuteTime": {
     "end_time": "2021-01-10T03:15:43.287740Z",
     "start_time": "2021-01-10T03:15:40.994Z"
    },
    "limit_output": 100000,
    "scrolled": true
   },
   "outputs": [],
   "source": [
    "sig = ctx_sig.refined_signal(4)"
   ]
  },
  {
   "cell_type": "code",
   "execution_count": null,
   "metadata": {
    "ExecuteTime": {
     "end_time": "2021-01-10T03:15:43.289247Z",
     "start_time": "2021-01-10T03:15:41.000Z"
    }
   },
   "outputs": [],
   "source": [
    "sig.plot()"
   ]
  },
  {
   "cell_type": "code",
   "execution_count": null,
   "metadata": {
    "ExecuteTime": {
     "end_time": "2021-01-10T03:15:43.290591Z",
     "start_time": "2021-01-10T03:15:41.006Z"
    }
   },
   "outputs": [],
   "source": [
    "sig = ctx_sig.refined_signal(5)"
   ]
  },
  {
   "cell_type": "code",
   "execution_count": null,
   "metadata": {
    "ExecuteTime": {
     "end_time": "2021-01-10T03:15:43.291692Z",
     "start_time": "2021-01-10T03:15:41.012Z"
    }
   },
   "outputs": [],
   "source": [
    "sig.plot()"
   ]
  },
  {
   "cell_type": "code",
   "execution_count": null,
   "metadata": {
    "ExecuteTime": {
     "end_time": "2021-01-10T03:15:43.293134Z",
     "start_time": "2021-01-10T03:15:41.018Z"
    }
   },
   "outputs": [],
   "source": [
    "su = m.process(\"[1, 1.2] Whelk || [5, 6] Lobster with network N([0.7, 0.75], 0.6, 0.3, 0.05, 2)\").as_system"
   ]
  },
  {
   "cell_type": "code",
   "execution_count": null,
   "metadata": {
    "ExecuteTime": {
     "end_time": "2021-01-10T03:15:43.294477Z",
     "start_time": "2021-01-10T03:15:41.022Z"
    }
   },
   "outputs": [],
   "source": [
    "from flowstar.reachability import IntegrationMethod"
   ]
  },
  {
   "cell_type": "code",
   "execution_count": null,
   "metadata": {
    "ExecuteTime": {
     "end_time": "2021-01-10T03:15:43.295742Z",
     "start_time": "2021-01-10T03:15:41.026Z"
    }
   },
   "outputs": [],
   "source": [
    "help(IntegrationMethod)"
   ]
  },
  {
   "cell_type": "code",
   "execution_count": null,
   "metadata": {
    "ExecuteTime": {
     "end_time": "2021-01-10T03:15:43.297049Z",
     "start_time": "2021-01-10T03:15:41.030Z"
    },
    "scrolled": true
   },
   "outputs": [],
   "source": [
    "ctx_sig = prop.context_signal_for_system(\n",
    "    su, 5, order=6, step=(0.001, 0.1),\n",
    "    precondition=1,\n",
    "    estimation=1e-3,\n",
    "    integration_method=IntegrationMethod.ONLY_PICARD_SYMB,\n",
    "    cutoff_threshold=1e-5,\n",
    "    max_remainder_queue=500,\n",
    "    symbolic_composition=True,\n",
    "    use_masks=True,\n",
    ")\n",
    "ctx_sig.signal.plot()"
   ]
  },
  {
   "cell_type": "code",
   "execution_count": null,
   "metadata": {
    "ExecuteTime": {
     "end_time": "2021-01-10T03:15:43.298622Z",
     "start_time": "2021-01-10T03:15:41.042Z"
    }
   },
   "outputs": [],
   "source": [
    "ctx_sig.refined_signal(4).plot()"
   ]
  },
  {
   "cell_type": "code",
   "execution_count": null,
   "metadata": {
    "ExecuteTime": {
     "end_time": "2021-01-10T03:15:43.299739Z",
     "start_time": "2021-01-10T03:15:41.047Z"
    }
   },
   "outputs": [],
   "source": [
    "ctx_sig.plot_histogram2d(4)"
   ]
  },
  {
   "cell_type": "markdown",
   "metadata": {},
   "source": [
    "### Polynomial plot"
   ]
  },
  {
   "cell_type": "code",
   "execution_count": null,
   "metadata": {
    "ExecuteTime": {
     "end_time": "2021-01-10T03:15:43.301091Z",
     "start_time": "2021-01-10T03:15:41.053Z"
    }
   },
   "outputs": [],
   "source": [
    "#p + reach.sage_interval_plot('x', 'y',\n",
    "#                             poly=(x - 1)^2 + y^2 - 0.2,\n",
    "#                             aspect_ratio='automatic')"
   ]
  },
  {
   "cell_type": "markdown",
   "metadata": {},
   "source": [
    "## Context"
   ]
  },
  {
   "cell_type": "code",
   "execution_count": null,
   "metadata": {
    "ExecuteTime": {
     "end_time": "2021-01-10T03:15:43.302587Z",
     "start_time": "2021-01-10T03:15:41.058Z"
    }
   },
   "outputs": [],
   "source": [
    "kwargs = dict(\n",
    "    order=5, step=(0.01, 0.5),\n",
    "    precondition=1,\n",
    "    estimation=1e-3,\n",
    "    integrationScheme=2,\n",
    "    cutoff_threshold=1e-5,\n",
    "    verbosity=0,\n",
    "    epsilon_ctx=0.1,\n",
    "#    symbolic_composition=True,\n",
    ")\n",
    "args = (s, 7)"
   ]
  },
  {
   "cell_type": "code",
   "execution_count": null,
   "metadata": {
    "ExecuteTime": {
     "end_time": "2021-01-10T03:15:43.303930Z",
     "start_time": "2021-01-10T03:15:41.062Z"
    }
   },
   "outputs": [],
   "source": [
    "\"[0.05, 0.1] Whelk\" >> G(RIF(0,0.2), P)"
   ]
  },
  {
   "cell_type": "code",
   "execution_count": null,
   "metadata": {
    "ExecuteTime": {
     "end_time": "2021-01-10T03:15:43.305042Z",
     "start_time": "2021-01-10T03:15:41.068Z"
    },
    "scrolled": true
   },
   "outputs": [],
   "source": [
    "sig = (\"[0.05, 0.1] Whelk\" >> F(RIF(0,0.2), ~ P)\n",
    "       ).signal_for_system(s, 10, **kwargs)"
   ]
  },
  {
   "cell_type": "code",
   "execution_count": null,
   "metadata": {
    "ExecuteTime": {
     "end_time": "2021-01-10T03:15:43.306169Z",
     "start_time": "2021-01-10T03:15:41.072Z"
    }
   },
   "outputs": [],
   "source": [
    "sig.plot()"
   ]
  },
  {
   "cell_type": "code",
   "execution_count": null,
   "metadata": {
    "ExecuteTime": {
     "end_time": "2021-01-10T03:15:43.307278Z",
     "start_time": "2021-01-10T03:15:41.078Z"
    }
   },
   "outputs": [],
   "source": [
    "sigM = (\"[0.05, 0.1] Whelk\" >> F(RIF(0,0.2), ~P)\n",
    "       ).signal_for_system(s, 10, use_masks=True, **kwargs)\n",
    "sigM"
   ]
  },
  {
   "cell_type": "code",
   "execution_count": null,
   "metadata": {
    "ExecuteTime": {
     "end_time": "2021-01-10T03:15:43.308469Z",
     "start_time": "2021-01-10T03:15:41.083Z"
    }
   },
   "outputs": [],
   "source": [
    "sigM.plot()"
   ]
  },
  {
   "cell_type": "code",
   "execution_count": null,
   "metadata": {
    "ExecuteTime": {
     "end_time": "2021-01-10T03:15:43.309732Z",
     "start_time": "2021-01-10T03:15:41.087Z"
    }
   },
   "outputs": [],
   "source": [
    "sigM.mask"
   ]
  },
  {
   "cell_type": "code",
   "execution_count": null,
   "metadata": {
    "ExecuteTime": {
     "end_time": "2021-01-10T03:15:43.310856Z",
     "start_time": "2021-01-10T03:15:41.091Z"
    },
    "limit_output": 100000
   },
   "outputs": [],
   "source": [
    "%%time\n",
    "sigG = G(RIF(10.2, 10.3), (\"[0.05, 0.1] Whelk\" >> F(RIF(0,0.2), ~P)),\n",
    "         ).signal_for_system(s, 0, **kwargs)"
   ]
  },
  {
   "cell_type": "code",
   "execution_count": null,
   "metadata": {
    "ExecuteTime": {
     "end_time": "2021-01-10T03:15:43.312159Z",
     "start_time": "2021-01-10T03:15:41.095Z"
    }
   },
   "outputs": [],
   "source": [
    "sigG(0)"
   ]
  },
  {
   "cell_type": "code",
   "execution_count": null,
   "metadata": {
    "ExecuteTime": {
     "end_time": "2021-01-10T03:15:43.314137Z",
     "start_time": "2021-01-10T03:15:41.099Z"
    },
    "limit_output": 100000,
    "scrolled": true
   },
   "outputs": [],
   "source": [
    "%%time\n",
    "sigG = G(RIF(10.2, 10.3), (\"[0.05,0.1] Whelk\" >> F(RIF(0,0.2), ~P)),\n",
    "         ).signal_for_system(s, 0, use_masks=True, **kwargs)"
   ]
  },
  {
   "cell_type": "code",
   "execution_count": null,
   "metadata": {
    "ExecuteTime": {
     "end_time": "2021-01-10T03:15:43.315456Z",
     "start_time": "2021-01-10T03:15:41.105Z"
    },
    "limit_output": 1000000
   },
   "outputs": [],
   "source": [
    "%%time\n",
    "sigG = F(RIF(5, 5.1),\n",
    "         \"[1, 1.5] Lobster\" >>\n",
    "         G(RIF(10.2, 10.3),\n",
    "           \"[0.05, 0.1] Whelk\" >>\n",
    "            F(RIF(0,0.2), ~ P)),\n",
    "         ).signal_for_system(s, 0, **kwargs)"
   ]
  },
  {
   "cell_type": "code",
   "execution_count": null,
   "metadata": {
    "ExecuteTime": {
     "end_time": "2021-01-10T03:15:43.319524Z",
     "start_time": "2021-01-10T03:15:41.109Z"
    }
   },
   "outputs": [],
   "source": [
    "%%time\n",
    "sigG = F(RIF(5, 5.1),\n",
    "         \"[1, 1.5] Whelk\" >>\n",
    "         G(RIF(10.2, 10.3),\n",
    "           \"[0.05, 0.1] Whelk\" >>\n",
    "            F(RIF(0,0.2), ~ P)),\n",
    "         ).signal_for_system(s, 0, use_masks=True, **kwargs)"
   ]
  },
  {
   "cell_type": "code",
   "execution_count": null,
   "metadata": {
    "ExecuteTime": {
     "end_time": "2021-01-10T03:15:43.321032Z",
     "start_time": "2021-01-10T03:15:41.121Z"
    },
    "limit_output": 10000000000
   },
   "outputs": [],
   "source": [
    "%%time\n",
    "sigG = G(RIF(2, 2.5),\n",
    "         \"[0.1, 0.2] Whelk\" >>\n",
    "         F(RIF(5, 5.1),\n",
    "           \"[1, 1.5] Lobster\" >>\n",
    "           G(RIF(10.2, 10.3),\n",
    "             \"[0.05, 0.1] Whelk\" >>\n",
    "             F(RIF(0,0.2), ~ P))),\n",
    "         ).signal_for_system(s, 0, **kwargs)"
   ]
  },
  {
   "cell_type": "code",
   "execution_count": null,
   "metadata": {
    "ExecuteTime": {
     "end_time": "2021-01-10T03:15:43.323053Z",
     "start_time": "2021-01-10T03:15:41.125Z"
    }
   },
   "outputs": [],
   "source": [
    "%%time\n",
    "sigG = G(RIF(2, 2.5),\n",
    "         \"[0.1, 0.2] Whelk\" >>\n",
    "         F(RIF(5, 5.1),\n",
    "           \"[1, 1.5] Lobster\" >>\n",
    "           G(RIF(10.2, 10.3),\n",
    "             \"[0.05, 0.1] Whelk\" >>\n",
    "             F(RIF(0,0.2), ~P))),\n",
    "         ).signal_for_system(s, 0, use_masks=True, **kwargs)"
   ]
  },
  {
   "cell_type": "code",
   "execution_count": null,
   "metadata": {
    "ExecuteTime": {
     "end_time": "2021-01-10T03:15:43.324322Z",
     "start_time": "2021-01-10T03:15:41.129Z"
    }
   },
   "outputs": [],
   "source": [
    "sigG(0)"
   ]
  },
  {
   "cell_type": "code",
   "execution_count": null,
   "metadata": {
    "ExecuteTime": {
     "end_time": "2021-01-10T03:15:43.325663Z",
     "start_time": "2021-01-10T03:15:41.133Z"
    }
   },
   "outputs": [],
   "source": [
    "sigG"
   ]
  },
  {
   "cell_type": "code",
   "execution_count": null,
   "metadata": {},
   "outputs": [],
   "source": []
  },
  {
   "cell_type": "code",
   "execution_count": null,
   "metadata": {
    "ExecuteTime": {
     "end_time": "2021-01-10T03:15:43.327105Z",
     "start_time": "2021-01-10T03:15:41.150Z"
    }
   },
   "outputs": [],
   "source": [
    "%%time\n",
    "sigG = G(RIF(2, 2.5),\n",
    "         \"[0.1, 0.2] Whelk\" >>\n",
    "         F(RIF(5, 5.1),\n",
    "           \"[1, 1.5] Lobster\" >>\n",
    "           G(RIF(10.2, 10.3),\n",
    "             \"[0.05, 0.1] Whelk\" >>\n",
    "             F(RIF(0,0.2), ~P))),\n",
    "         ).signal_for_system(s, 10, use_masks=False, **kwargs)"
   ]
  },
  {
   "cell_type": "code",
   "execution_count": null,
   "metadata": {
    "ExecuteTime": {
     "end_time": "2021-01-10T03:15:43.328778Z",
     "start_time": "2021-01-10T03:15:41.155Z"
    }
   },
   "outputs": [],
   "source": [
    "%%time\n",
    "sigG = G(RIF(2, 2.5),\n",
    "         \"[0.1, 0.2] Whelk\" >>\n",
    "         F(RIF(5, 5.1),\n",
    "           \"[1, 1.5] Lobster\" >>\n",
    "           G(RIF(10.2, 10.3),\n",
    "             \"[0.05, 0.1] Whelk\" >>\n",
    "             F(RIF(0,0.2), ~P))),\n",
    "         ).signal_for_system(s, 10, use_masks=True, **kwargs)"
   ]
  },
  {
   "cell_type": "code",
   "execution_count": null,
   "metadata": {
    "ExecuteTime": {
     "end_time": "2021-01-10T03:15:43.330421Z",
     "start_time": "2021-01-10T03:15:41.158Z"
    }
   },
   "outputs": [],
   "source": [
    "sigG.plot()"
   ]
  },
  {
   "cell_type": "markdown",
   "metadata": {},
   "source": [
    "## Context signal (masked)"
   ]
  },
  {
   "cell_type": "code",
   "execution_count": null,
   "metadata": {
    "ExecuteTime": {
     "end_time": "2021-01-10T03:15:43.331819Z",
     "start_time": "2021-01-10T03:15:41.164Z"
    }
   },
   "outputs": [],
   "source": [
    "sigG = G(RIF(1, 1.1), (\"[0.05, 0.1] Whelk\" >> F(RIF(0,0.2), ~P)),\n",
    "         ).signal_for_system(s, 10, use_masks=True, **kwargs)"
   ]
  },
  {
   "cell_type": "code",
   "execution_count": null,
   "metadata": {
    "ExecuteTime": {
     "end_time": "2021-01-10T03:15:43.333378Z",
     "start_time": "2021-01-10T03:15:41.168Z"
    }
   },
   "outputs": [],
   "source": [
    "sigG.plot()"
   ]
  },
  {
   "cell_type": "code",
   "execution_count": null,
   "metadata": {
    "ExecuteTime": {
     "end_time": "2021-01-10T03:15:43.334630Z",
     "start_time": "2021-01-10T03:15:41.174Z"
    }
   },
   "outputs": [],
   "source": [
    "csigG = G(RIF(1, 1.1), (\"[0.05, 0.1] Whelk\" >> F(RIF(0,0.2), ~P)),\n",
    "          ).context_signal_for_system(s, 10, use_masks=True, **kwargs)"
   ]
  },
  {
   "cell_type": "code",
   "execution_count": null,
   "metadata": {
    "ExecuteTime": {
     "end_time": "2021-01-10T03:15:43.335924Z",
     "start_time": "2021-01-10T03:15:41.178Z"
    }
   },
   "outputs": [],
   "source": [
    "csigG.signal.plot()"
   ]
  },
  {
   "cell_type": "code",
   "execution_count": null,
   "metadata": {
    "ExecuteTime": {
     "end_time": "2021-01-10T03:15:43.337078Z",
     "start_time": "2021-01-10T03:15:41.187Z"
    }
   },
   "outputs": [],
   "source": [
    "csigG.refined_signal(1).plot()"
   ]
  },
  {
   "cell_type": "code",
   "execution_count": null,
   "metadata": {
    "ExecuteTime": {
     "end_time": "2021-01-10T03:15:43.338376Z",
     "start_time": "2021-01-10T03:15:41.194Z"
    }
   },
   "outputs": [],
   "source": [
    "csigG = G(RIF(1, 1.1), (\"[0.05, 0.1] Whelk\" >> F(RIF(0,0.2), ~P)),\n",
    "          ).context_signal_for_system(s, 10, use_masks=True, refine=1, **kwargs)"
   ]
  },
  {
   "cell_type": "code",
   "execution_count": null,
   "metadata": {
    "ExecuteTime": {
     "end_time": "2021-01-10T03:15:43.339750Z",
     "start_time": "2021-01-10T03:15:41.199Z"
    }
   },
   "outputs": [],
   "source": [
    "csigG.refined_signal(0).plot()"
   ]
  },
  {
   "cell_type": "code",
   "execution_count": null,
   "metadata": {
    "ExecuteTime": {
     "end_time": "2021-01-10T03:15:43.340994Z",
     "start_time": "2021-01-10T03:15:41.215Z"
    }
   },
   "outputs": [],
   "source": [
    "csigG.refined_signal(1).plot()"
   ]
  },
  {
   "cell_type": "code",
   "execution_count": null,
   "metadata": {
    "ExecuteTime": {
     "end_time": "2021-01-10T03:15:43.341959Z",
     "start_time": "2021-01-10T03:15:41.224Z"
    }
   },
   "outputs": [],
   "source": [
    "csigG = G(RIF(1, 1.1), (\"[0.05, 0.1] Whelk\" >> F(RIF(0,0.2), ~P)),\n",
    "          ).context_signal_for_system(s, 10, use_masks=True, refine=2, **kwargs)"
   ]
  },
  {
   "cell_type": "code",
   "execution_count": null,
   "metadata": {
    "ExecuteTime": {
     "end_time": "2021-01-10T03:15:43.343331Z",
     "start_time": "2021-01-10T03:15:41.227Z"
    }
   },
   "outputs": [],
   "source": [
    "csigG.refined_signal(0).plot()"
   ]
  },
  {
   "cell_type": "code",
   "execution_count": null,
   "metadata": {
    "ExecuteTime": {
     "end_time": "2021-01-10T03:15:43.344563Z",
     "start_time": "2021-01-10T03:15:41.233Z"
    }
   },
   "outputs": [],
   "source": [
    "csigG.refined_signal(1).plot()"
   ]
  },
  {
   "cell_type": "code",
   "execution_count": null,
   "metadata": {
    "ExecuteTime": {
     "end_time": "2021-01-10T03:15:43.345642Z",
     "start_time": "2021-01-10T03:15:41.236Z"
    }
   },
   "outputs": [],
   "source": [
    "sf = m.process(\"[0, 1.5] Whelk || [0, 8] Lobster with network N(0.8, 0.6, 0.3, 0.05, 2)\").as_system"
   ]
  },
  {
   "cell_type": "code",
   "execution_count": null,
   "metadata": {
    "ExecuteTime": {
     "end_time": "2021-01-10T03:15:43.347045Z",
     "start_time": "2021-01-10T03:15:41.239Z"
    }
   },
   "outputs": [],
   "source": [
    "csigGsf = G(RIF(1, 1.1), (\"[0.05, 0.1] Whelk\" >> F(RIF(0,0.2), ~P)),\n",
    "          ).context_signal_for_system(sf, 10, use_masks=True, refine=2, **kwargs)"
   ]
  },
  {
   "cell_type": "code",
   "execution_count": null,
   "metadata": {
    "ExecuteTime": {
     "end_time": "2021-01-10T03:15:43.348479Z",
     "start_time": "2021-01-10T03:15:41.267Z"
    }
   },
   "outputs": [],
   "source": [
    "csigG.plot_histogram2d(3)"
   ]
  },
  {
   "cell_type": "markdown",
   "metadata": {},
   "source": [
    "## Differential Context"
   ]
  },
  {
   "cell_type": "code",
   "execution_count": null,
   "metadata": {
    "ExecuteTime": {
     "end_time": "2021-01-10T03:15:43.349836Z",
     "start_time": "2021-01-10T03:15:41.271Z"
    }
   },
   "outputs": [],
   "source": [
    "{x: RIF(6,7)} % G(RIF(0,0.2), P)"
   ]
  },
  {
   "cell_type": "code",
   "execution_count": null,
   "metadata": {
    "ExecuteTime": {
     "end_time": "2021-01-10T03:15:43.351549Z",
     "start_time": "2021-01-10T03:15:41.274Z"
    }
   },
   "outputs": [],
   "source": [
    "# Use symbolic remainders for context jump \n",
    "kwargs['integrationScheme'] = 7"
   ]
  },
  {
   "cell_type": "code",
   "execution_count": null,
   "metadata": {
    "ExecuteTime": {
     "end_time": "2021-01-10T03:15:43.352708Z",
     "start_time": "2021-01-10T03:15:41.278Z"
    }
   },
   "outputs": [],
   "source": [
    "kwargs['verbosity'] = 10"
   ]
  },
  {
   "cell_type": "code",
   "execution_count": null,
   "metadata": {
    "ExecuteTime": {
     "end_time": "2021-01-10T03:15:43.354183Z",
     "start_time": "2021-01-10T03:15:41.282Z"
    }
   },
   "outputs": [],
   "source": [
    "kwargs['symbolic_composition'] = True"
   ]
  },
  {
   "cell_type": "code",
   "execution_count": null,
   "metadata": {
    "ExecuteTime": {
     "end_time": "2021-01-10T03:15:43.355632Z",
     "start_time": "2021-01-10T03:15:41.285Z"
    }
   },
   "outputs": [],
   "source": [
    "sig = ({x: RIF(6)} % G(RIF(0,0.2), P)\n",
    "       ).signal_for_system(vf, v3, 2*pi, **kwargs)"
   ]
  },
  {
   "cell_type": "code",
   "execution_count": null,
   "metadata": {
    "ExecuteTime": {
     "end_time": "2021-01-10T03:15:43.356805Z",
     "start_time": "2021-01-10T03:15:41.288Z"
    }
   },
   "outputs": [],
   "source": [
    "sig.plot()"
   ]
  },
  {
   "cell_type": "code",
   "execution_count": null,
   "metadata": {
    "ExecuteTime": {
     "end_time": "2021-01-10T03:15:43.358666Z",
     "start_time": "2021-01-10T03:15:41.292Z"
    }
   },
   "outputs": [],
   "source": [
    "sig = ({x: RIF(6, 6.1)} % G(RIF(0,0.2), P)\n",
    "       ).signal_for_system(vf, v3, 2*pi, **kwargs)"
   ]
  },
  {
   "cell_type": "code",
   "execution_count": null,
   "metadata": {
    "ExecuteTime": {
     "end_time": "2021-01-10T03:15:43.361966Z",
     "start_time": "2021-01-10T03:15:41.295Z"
    }
   },
   "outputs": [],
   "source": [
    "sig.plot()"
   ]
  },
  {
   "cell_type": "code",
   "execution_count": null,
   "metadata": {
    "ExecuteTime": {
     "end_time": "2021-01-10T03:15:43.363486Z",
     "start_time": "2021-01-10T03:15:41.300Z"
    }
   },
   "outputs": [],
   "source": [
    "sig = ({x: RIF(10, 10.05)} % G(RIF(0,0.2), P)\n",
    "       ).signal_for_system(vf, v3, 2*pi, **kwargs)"
   ]
  },
  {
   "cell_type": "code",
   "execution_count": null,
   "metadata": {
    "ExecuteTime": {
     "end_time": "2021-01-10T03:15:43.365039Z",
     "start_time": "2021-01-10T03:15:41.303Z"
    }
   },
   "outputs": [],
   "source": [
    "sig.plot()"
   ]
  },
  {
   "cell_type": "code",
   "execution_count": null,
   "metadata": {
    "ExecuteTime": {
     "end_time": "2021-01-10T03:15:43.366314Z",
     "start_time": "2021-01-10T03:15:41.306Z"
    }
   },
   "outputs": [],
   "source": [
    "{x: 1, y: 2}"
   ]
  },
  {
   "cell_type": "code",
   "execution_count": null,
   "metadata": {
    "ExecuteTime": {
     "end_time": "2021-01-10T03:15:43.367697Z",
     "start_time": "2021-01-10T03:15:41.310Z"
    }
   },
   "outputs": [],
   "source": [
    "kxs = [[('x', RIF(1,2)), ('y', RIF(5,6))], [('x', RIF(2,3)), ('y', RIF(6,7))], [('x', RIF(1,2)), ('y', RIF(5,6))], [('x', RIF(2,3)), ('y', RIF(6,7))]]"
   ]
  },
  {
   "cell_type": "code",
   "execution_count": null,
   "metadata": {
    "ExecuteTime": {
     "end_time": "2021-01-10T03:15:43.368901Z",
     "start_time": "2021-01-10T03:15:41.314Z"
    }
   },
   "outputs": [],
   "source": [
    "sorted(kxs)"
   ]
  },
  {
   "cell_type": "code",
   "execution_count": null,
   "metadata": {
    "ExecuteTime": {
     "end_time": "2021-01-10T03:15:43.370273Z",
     "start_time": "2021-01-10T03:15:41.318Z"
    }
   },
   "outputs": [],
   "source": [
    "sorted(kxs,\n",
    "       key=lambda xs: [(k, x.endpoints()) for k, x in xs])"
   ]
  },
  {
   "cell_type": "code",
   "execution_count": null,
   "metadata": {},
   "outputs": [],
   "source": []
  }
 ],
 "metadata": {
  "celltoolbar": "Initialization Cell",
  "kernelspec": {
   "display_name": "SageMath 9.0",
   "language": "sage",
   "name": "sagemath"
  },
  "language_info": {
   "codemirror_mode": {
    "name": "ipython",
    "version": 3
   },
   "file_extension": ".py",
   "mimetype": "text/x-python",
   "name": "python",
   "nbconvert_exporter": "python",
   "pygments_lexer": "ipython3",
   "version": "3.8.7"
  },
  "notify_time": "10",
  "toc": {
   "base_numbering": 1,
   "nav_menu": {},
   "number_sections": true,
   "sideBar": true,
   "skip_h1_title": false,
   "title_cell": "Table of Contents",
   "title_sidebar": "Contents",
   "toc_cell": false,
   "toc_position": {},
   "toc_section_display": true,
   "toc_window_display": false
  }
 },
 "nbformat": 4,
 "nbformat_minor": 4
}
