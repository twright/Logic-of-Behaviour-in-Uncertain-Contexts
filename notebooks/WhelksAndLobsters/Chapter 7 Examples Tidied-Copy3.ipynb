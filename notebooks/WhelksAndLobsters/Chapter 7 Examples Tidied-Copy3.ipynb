{
 "cells": [
  {
   "cell_type": "code",
   "execution_count": 1,
   "metadata": {
    "ExecuteTime": {
     "end_time": "2021-01-08T21:19:15.315880Z",
     "start_time": "2021-01-08T21:19:15.309475Z"
    },
    "init_cell": true
   },
   "outputs": [],
   "source": [
    "%display latex"
   ]
  },
  {
   "cell_type": "code",
   "execution_count": 2,
   "metadata": {
    "ExecuteTime": {
     "end_time": "2021-01-08T21:19:15.628182Z",
     "start_time": "2021-01-08T21:19:15.319266Z"
    },
    "init_cell": true
   },
   "outputs": [],
   "source": [
    "import sys, os, warnings\n",
    "from contextlib import contextmanager\n",
    "\n",
    "@contextmanager\n",
    "def suppress_stdout():\n",
    "    with open(os.devnull, \"w\") as devnull:\n",
    "        old_stdout = sys.stdout\n",
    "        sys.stdout = devnull\n",
    "        try:  \n",
    "            yield\n",
    "        finally:\n",
    "            sys.stdout = old_stdout\n",
    "\n",
    "import matplotlib\n",
    "import matplotlib.pyplot as plt\n",
    "            \n",
    "@contextmanager\n",
    "def suppress_warnings():\n",
    "    with warnings.catch_warnings():\n",
    "        warnings.simplefilter(\"ignore\")\n",
    "        yield\n",
    "        \n",
    "matplotlib.use(\"pgf\")\n",
    "matplotlib.rcParams.update({\n",
    "    \"pgf.texsystem\": \"pdflatex\",\n",
    "    'font.family': 'sans',\n",
    "    'text.usetex': True,\n",
    "    'pgf.rcfonts': False,\n",
    "    \"axes.labelsize\": 8,\n",
    "    \"font.size\": 8,\n",
    "})\n",
    "textwidth = 6.26894"
   ]
  },
  {
   "cell_type": "code",
   "execution_count": 3,
   "metadata": {
    "ExecuteTime": {
     "end_time": "2021-01-08T21:19:16.149077Z",
     "start_time": "2021-01-08T21:19:15.630880Z"
    },
    "init_cell": true
   },
   "outputs": [],
   "source": [
    "from lbuc import *\n",
    "from lbuc.bondcalculus import *"
   ]
  },
  {
   "cell_type": "markdown",
   "metadata": {},
   "source": [
    "## Model"
   ]
  },
  {
   "cell_type": "code",
   "execution_count": 4,
   "metadata": {
    "ExecuteTime": {
     "end_time": "2021-01-08T21:19:16.339436Z",
     "start_time": "2021-01-08T21:19:16.150822Z"
    },
    "init_cell": true
   },
   "outputs": [
    {
     "name": "stdout",
     "output_type": "stream",
     "text": [
      "Running cmd: 'load \"WhelksAndLobsters.bond\"' ...\n"
     ]
    }
   ],
   "source": [
    "m = BondModel(\"WhelksAndLobsters.bond\")"
   ]
  },
  {
   "cell_type": "code",
   "execution_count": 5,
   "metadata": {
    "ExecuteTime": {
     "end_time": "2021-01-08T21:19:16.349228Z",
     "start_time": "2021-01-08T21:19:16.343345Z"
    },
    "init_cell": true
   },
   "outputs": [],
   "source": [
    "k = 0.8; b = 0.6; c = 0.3; e = 0.05; f = 2"
   ]
  },
  {
   "cell_type": "code",
   "execution_count": 6,
   "metadata": {
    "ExecuteTime": {
     "end_time": "2021-01-08T21:19:17.367851Z",
     "start_time": "2021-01-08T21:19:16.352934Z"
    },
    "init_cell": true
   },
   "outputs": [],
   "source": [
    "P = Atomic((var(\"Whelk\") - 1)^2 + var(\"Lobster\")^2 < 0.2)"
   ]
  },
  {
   "cell_type": "code",
   "execution_count": 7,
   "metadata": {
    "ExecuteTime": {
     "end_time": "2021-01-08T21:19:17.373051Z",
     "start_time": "2021-01-08T21:19:17.369587Z"
    },
    "init_cell": true
   },
   "outputs": [],
   "source": [
    "Qbox = [RIF(0, 0.31), RIF(1.5, 4)]"
   ]
  },
  {
   "cell_type": "code",
   "execution_count": 8,
   "metadata": {
    "ExecuteTime": {
     "end_time": "2021-01-08T21:19:17.416273Z",
     "start_time": "2021-01-08T21:19:17.375717Z"
    },
    "init_cell": true
   },
   "outputs": [],
   "source": [
    "Q = (  Atomic(var(\"Whelk\") < Qbox[0].upper())\n",
    "     & Atomic(var(\"Whelk\") > Qbox[0].lower())\n",
    "     & Atomic(var(\"Lobster\") < Qbox[1].upper())\n",
    "     & Atomic(var(\"Lobster\") > Qbox[1].lower()) )"
   ]
  },
  {
   "cell_type": "code",
   "execution_count": 9,
   "metadata": {
    "ExecuteTime": {
     "end_time": "2021-01-08T21:19:18.061246Z",
     "start_time": "2021-01-08T21:19:17.420452Z"
    },
    "init_cell": true
   },
   "outputs": [
    {
     "name": "stdout",
     "output_type": "stream",
     "text": [
      "Running cmd: 'savesage \"[0, 1.4] Whelk || [0, 8] Lobster with network N(0.8, 0.6, 0.3, 0.05, 2)\" \"/tmp/bond-sage-script-g9y9uo6n.py\"' ...\n"
     ]
    }
   ],
   "source": [
    "s3 = m.process(\"[0, 1.4] Whelk || [0, 8] Lobster with network N(0.8, 0.6, 0.3, 0.05, 2)\").as_system"
   ]
  },
  {
   "cell_type": "markdown",
   "metadata": {},
   "source": [
    "## Parameter set 1"
   ]
  },
  {
   "cell_type": "markdown",
   "metadata": {},
   "source": [
    "### Prop 1"
   ]
  },
  {
   "cell_type": "code",
   "execution_count": 28,
   "metadata": {
    "ExecuteTime": {
     "end_time": "2020-12-11T17:53:07.837658Z",
     "start_time": "2020-12-11T17:53:07.832182Z"
    }
   },
   "outputs": [],
   "source": [
    "kwargs = dict(step=0.05, order=6, estimation=1e-4, cutoff_threshold=1e-15, integration_method=2)"
   ]
  },
  {
   "cell_type": "code",
   "execution_count": 29,
   "metadata": {
    "ExecuteTime": {
     "end_time": "2020-12-11T17:53:08.682793Z",
     "start_time": "2020-12-11T17:53:08.566837Z"
    }
   },
   "outputs": [
    {
     "name": "stdout",
     "output_type": "stream",
     "text": [
      "phi variables sfs = {x0, x1}\n",
      "system sfs = System(R, (x0, x1), [[0 .. 8], [-6.6610000000000012e-17 .. 1.4000000000000002]], (-2*x0*x1^2 - 0.05000000000000000?*x0^2 + 1.600000000000000?*x0*x1 - 0.05000000000000000?*x0, 0.3000000000000000?*x0*x1^2 - 0.2400000000000000?*x0*x1 - 0.600000000000000?*x1^2 + 0.600000000000000?*x1), varmap=bidict({'Lobster': x0, 'Whelk': x1})))\n",
      "Generating Reach Tree: 1 items in 0.00 seconds\n",
      " ==> creating ContextSignal with coord=(), signal = <function base_context_signal.<locals>.<lambda> at 0x7f56dd72d790>, reach_tree = None, ctx_mask=<lbuc.context_masks.ContextMask object at 0x7f56d6d8b4f0>\n",
      " ==> creating ContextSignal with coord=(), signal = functools.partial(<bound method Atomic.signal_fn of Atomic(Whelk < 0.310000000000000)>, precompose_systems=False, step=0.0500000000000000, order=6, estimation=0.000100000000000000, cutoff_threshold=1.00000000000000e-15, integration_method=2, instrumentor=<flowstar.instrumentation.AggregateMetric object at 0x7f56d6e20a00>, print_timings=False, unpreconditioning_order=6, initial_form=<InitialForm.SPLIT_VARS: 3>), reach_tree = <lbuc.reach_trees.ReachTree object at 0x7f56d6d8b310>, ctx_mask=<lbuc.context_masks.ContextMask object at 0x7f56d6e1c310>\n",
      "setting reach level to 0\n",
      "====> reach_tree coordinate ()\n",
      "==> reach_tree call at [[0 .. 8], [-6.6610000000000012e-17 .. 1.4000000000000002]]\n",
      "initials = (1.?e1, 0.?e1)\n",
      "context loop 0, 0\n",
      "ctx\n",
      "zero width static set [0.0..0.0]\n",
      "poly 1,0 = b'(([1.0000000000 , 1.0000000000] * c0))'\n",
      "context loop 1, 0\n",
      "ctx\n",
      "zero width static set [0.0..0.0]\n",
      "poly 2,0 = b'(([1.0000000000 , 1.0000000000] * c1))'\n",
      "contexts = ['[0.0..8.0]', '[-6.661000000000001e-17..1.4000000000000001]']\n",
      "statics  = []\n",
      "recomputing reachset\n",
      "PolyObserver(-x1 + 0.31000000000000000?, <flowstar.reachability.Reach object at 0x7f56d6e11940>, 0, symbolic_composition=False, symbolic_composition_order=6, tentative_unpreconditioning=True, mask=None)\n",
      "fprime = 0\n",
      "var_names = [b'local_t', b'x0', b'x1']\n",
      "res = b'(([0.3099999999 , 0.3100000000]) + ([-1.0000000000 , -1.0000000000] * x1))'\n",
      "var_names = [b'local_t', b'x0', b'x1']\n",
      "res = b''\n",
      "PolyObserver((([0.3099999999 , 0.3100000000]) + ([-1.0000000000 , -1.0000000000] * x1)), <flowstar.reachability.Reach object at 0x7f56d6e11940>, , symbolic_composition=False, symbolic_composition_order=6, tentative_unpreconditioning=True, mask=Mask([0.0000000000000000 .. 10.002000000000001], [[0.0000000000000000 .. 10.002000000000001]]))\n",
      "var_names = [b'local_t', b'x0', b'x1']\n",
      "res = b''\n",
      "fprime = \n",
      "=== in signal_fn ===\n",
      "observer = <flowstar.observers.RestrictedObserver object at 0x7f56d70496d0>\n",
      " ==> creating ContextSignal with coord=(), signal = Signal([0.0000000000000000 .. 10.002000000000001], [], mask=None), reach_tree = None, ctx_mask=None\n",
      " ==> creating ContextSignal with coord=(), signal = functools.partial(<bound method Atomic.signal_fn of Atomic(Whelk > 0.000000000000000)>, precompose_systems=False, step=0.0500000000000000, order=6, estimation=0.000100000000000000, cutoff_threshold=1.00000000000000e-15, integration_method=2, instrumentor=<flowstar.instrumentation.AggregateMetric object at 0x7f56d6e20a00>, print_timings=False, unpreconditioning_order=6, initial_form=<InitialForm.SPLIT_VARS: 3>), reach_tree = <lbuc.reach_trees.ReachTree object at 0x7f56d6d8b310>, ctx_mask=<lbuc.context_masks.ContextMask object at 0x7f56d6e273a0>\n",
      "setting reach level to 0\n",
      "====> reach_tree coordinate ()\n",
      "recomputing reachset\n",
      "PolyObserver(x1, <flowstar.reachability.Reach object at 0x7f56d6e11940>, 0, symbolic_composition=False, symbolic_composition_order=6, tentative_unpreconditioning=True, mask=None)\n",
      "fprime = 0\n",
      "var_names = [b'local_t', b'x0', b'x1']\n",
      "res = b'(([1.0000000000 , 1.0000000000] * x1))'\n",
      "var_names = [b'local_t', b'x0', b'x1']\n",
      "res = b''\n",
      "PolyObserver((([1.0000000000 , 1.0000000000] * x1)), <flowstar.reachability.Reach object at 0x7f56d6e11940>, , symbolic_composition=False, symbolic_composition_order=6, tentative_unpreconditioning=True, mask=Mask([0.0000000000000000 .. 10.002000000000001], [[0.0000000000000000 .. 10.002000000000001]]))\n",
      "var_names = [b'local_t', b'x0', b'x1']\n",
      "res = b''\n",
      "fprime = \n",
      "=== in signal_fn ===\n",
      "observer = <flowstar.observers.RestrictedObserver object at 0x7f56d7049820>\n",
      " ==> creating ContextSignal with coord=(), signal = Signal([0.0000000000000000 .. 10.002000000000001], [], mask=None), reach_tree = None, ctx_mask=None\n",
      " ==> creating ContextSignal with coord=(), signal = functools.partial(<bound method Atomic.signal_fn of Atomic(Lobster < 4.00000000000000)>, precompose_systems=False, step=0.0500000000000000, order=6, estimation=0.000100000000000000, cutoff_threshold=1.00000000000000e-15, integration_method=2, instrumentor=<flowstar.instrumentation.AggregateMetric object at 0x7f56d6e20a00>, print_timings=False, unpreconditioning_order=6, initial_form=<InitialForm.SPLIT_VARS: 3>), reach_tree = <lbuc.reach_trees.ReachTree object at 0x7f56d6d8b310>, ctx_mask=<lbuc.context_masks.ContextMask object at 0x7f56d6d8d9d0>\n",
      "setting reach level to 0\n",
      "====> reach_tree coordinate ()\n",
      "recomputing reachset\n",
      "PolyObserver(-x0 + 4, <flowstar.reachability.Reach object at 0x7f56d6e11940>, 0, symbolic_composition=False, symbolic_composition_order=6, tentative_unpreconditioning=True, mask=None)\n",
      "fprime = 0\n",
      "var_names = [b'local_t', b'x0', b'x1']\n",
      "res = b'(([4.0000000000 , 4.0000000000]) + ([-1.0000000000 , -1.0000000000] * x0))'\n",
      "var_names = [b'local_t', b'x0', b'x1']\n",
      "res = b''\n",
      "PolyObserver((([4.0000000000 , 4.0000000000]) + ([-1.0000000000 , -1.0000000000] * x0)), <flowstar.reachability.Reach object at 0x7f56d6e11940>, , symbolic_composition=False, symbolic_composition_order=6, tentative_unpreconditioning=True, mask=Mask([0.0000000000000000 .. 10.002000000000001], [[0.0000000000000000 .. 10.002000000000001]]))\n",
      "var_names = [b'local_t', b'x0', b'x1']\n",
      "res = b''\n",
      "fprime = \n",
      "=== in signal_fn ===\n",
      "observer = <flowstar.observers.RestrictedObserver object at 0x7f56d7049970>\n",
      " ==> creating ContextSignal with coord=(), signal = Signal([0.0000000000000000 .. 10.002000000000001], [], mask=None), reach_tree = None, ctx_mask=None\n",
      " ==> creating ContextSignal with coord=(), signal = functools.partial(<bound method Atomic.signal_fn of Atomic(Lobster > 1.50000000000000)>, precompose_systems=False, step=0.0500000000000000, order=6, estimation=0.000100000000000000, cutoff_threshold=1.00000000000000e-15, integration_method=2, instrumentor=<flowstar.instrumentation.AggregateMetric object at 0x7f56d6e20a00>, print_timings=False, unpreconditioning_order=6, initial_form=<InitialForm.SPLIT_VARS: 3>), reach_tree = <lbuc.reach_trees.ReachTree object at 0x7f56d6d8b310>, ctx_mask=<lbuc.context_masks.ContextMask object at 0x7f56d6da7550>\n",
      "setting reach level to 0\n",
      "====> reach_tree coordinate ()\n",
      "recomputing reachset\n",
      "PolyObserver(x0 - 1.5000000000000000?, <flowstar.reachability.Reach object at 0x7f56d6e11940>, 0, symbolic_composition=False, symbolic_composition_order=6, tentative_unpreconditioning=True, mask=None)\n",
      "fprime = 0\n",
      "var_names = [b'local_t', b'x0', b'x1']\n",
      "res = b'(([-1.5000000000 , -1.5000000000]) + ([1.0000000000 , 1.0000000000] * x0))'\n",
      "var_names = [b'local_t', b'x0', b'x1']\n",
      "res = b''\n",
      "PolyObserver((([-1.5000000000 , -1.5000000000]) + ([1.0000000000 , 1.0000000000] * x0)), <flowstar.reachability.Reach object at 0x7f56d6e11940>, , symbolic_composition=False, symbolic_composition_order=6, tentative_unpreconditioning=True, mask=Mask([0.0000000000000000 .. 10.002000000000001], [[0.0000000000000000 .. 10.002000000000001]]))\n",
      "var_names = [b'local_t', b'x0', b'x1']\n",
      "res = b''\n",
      "fprime = \n",
      "=== in signal_fn ===\n",
      "observer = <flowstar.observers.RestrictedObserver object at 0x7f56d7049ac0>\n",
      " ==> creating ContextSignal with coord=(), signal = Signal([0.0000000000000000 .. 10.002000000000001], [], mask=None), reach_tree = None, ctx_mask=None\n",
      " ==> creating ContextSignal with coord=(), signal = Signal([0.0000000000000000 .. 10.002000000000001], [], mask=None), reach_tree = None, ctx_mask=None\n",
      "Monitoring initial signal: 1 items in 0.10 seconds\n",
      "(ContextSignal([0.0000000000000000 .. 10.002000000000001], [[0 .. 8], [-6.6610000000000012e-17 .. 1.4000000000000002]], [[-1 .. 1], [-1 .. 1]], children=<lbuc.context_signals.ChildIterator object at 0x7f56d6da70a0>)).to_domain(0)\n",
      " ==> creating ContextSignal with coord=(), signal = Signal([0.0000000000000000 .. -0.0000000000000000], [], mask=None), reach_tree = None, ctx_mask=None\n"
     ]
    }
   ],
   "source": [
    "csign1 = F(RIF(0, 10), Q).context_signal_for_system(s3, 0, use_masks=True, **kwargs)"
   ]
  },
  {
   "cell_type": "code",
   "execution_count": 30,
   "metadata": {
    "ExecuteTime": {
     "end_time": "2020-12-11T17:59:37.301234Z",
     "start_time": "2020-12-11T17:53:09.174954Z"
    }
   },
   "outputs": [
    {
     "data": {
      "image/png": "[encoded data removed]",
      "text/plain": [
       "Graphics object consisting of 199 graphics primitives"
      ]
     },
     "execution_count": 30,
     "metadata": {},
     "output_type": "execute_result"
    }
   ],
   "source": [
    "with suppress_stdout():\n",
    "    plo2b = csign1.plot_histogram2d(4, flip=True)\n",
    "\n",
    "plo2b"
   ]
  },
  {
   "cell_type": "code",
   "execution_count": 31,
   "metadata": {
    "ExecuteTime": {
     "end_time": "2020-12-11T18:09:13.535213Z",
     "start_time": "2020-12-11T17:59:37.303344Z"
    }
   },
   "outputs": [
    {
     "data": {
      "image/png": "[encoded data removed]",
      "text/plain": [
       "Graphics object consisting of 502 graphics primitives"
      ]
     },
     "execution_count": 31,
     "metadata": {},
     "output_type": "execute_result"
    }
   ],
   "source": [
    "with suppress_stdout():\n",
    "    plo2b = csign1.plot_histogram2d(5, flip=True)\n",
    "    \n",
    "plo2b"
   ]
  },
  {
   "cell_type": "code",
   "execution_count": 32,
   "metadata": {
    "ExecuteTime": {
     "end_time": "2020-12-11T18:26:54.400105Z",
     "start_time": "2020-12-11T18:09:13.539003Z"
    }
   },
   "outputs": [
    {
     "data": {
      "image/png": "[encoded data removed]",
      "text/plain": [
       "Graphics object consisting of 1060 graphics primitives"
      ]
     },
     "execution_count": 32,
     "metadata": {},
     "output_type": "execute_result"
    }
   ],
   "source": [
    "with suppress_stdout():\n",
    "    plo2b1 = csign1.plot_histogram2d(6, flip=True)\n",
    "    \n",
    "plo2b1"
   ]
  },
  {
   "cell_type": "markdown",
   "metadata": {},
   "source": [
    "### Prop 2"
   ]
  },
  {
   "cell_type": "code",
   "execution_count": 33,
   "metadata": {
    "ExecuteTime": {
     "end_time": "2020-12-11T18:26:54.442487Z",
     "start_time": "2020-12-11T18:26:54.404053Z"
    }
   },
   "outputs": [
    {
     "name": "stdout",
     "output_type": "stream",
     "text": [
      "phi variables sfs = {x0, x1}\n",
      "system sfs = System(R, (x0, x1), [[0 .. 8], [-6.6610000000000012e-17 .. 1.4000000000000002]], (-2*x0*x1^2 - 0.05000000000000000?*x0^2 + 1.600000000000000?*x0*x1 - 0.05000000000000000?*x0, 0.3000000000000000?*x0*x1^2 - 0.2400000000000000?*x0*x1 - 0.600000000000000?*x1^2 + 0.600000000000000?*x1), varmap=bidict({'Lobster': x0, 'Whelk': x1})))\n",
      "Generating Reach Tree: 1 items in 0.00 seconds\n",
      " ==> creating ContextSignal with coord=(), signal = functools.partial(<bound method Atomic.signal_fn of Atomic(Lobster^2 + (Whelk - 1)^2 < 0.200000000000000)>, precompose_systems=False, step=0.0500000000000000, order=6, estimation=0.000100000000000000, cutoff_threshold=1.00000000000000e-15, integration_method=2, instrumentor=<flowstar.instrumentation.AggregateMetric object at 0x7f56b944fa40>, print_timings=False, unpreconditioning_order=6, initial_form=<InitialForm.SPLIT_VARS: 3>), reach_tree = <lbuc.reach_trees.ReachTree object at 0x7f56c40bab50>, ctx_mask=<lbuc.context_masks.ContextMask object at 0x7f56b8cd70d0>\n",
      "setting reach level to 0\n",
      "====> reach_tree coordinate ()\n",
      "==> reach_tree call at [[0 .. 8], [-6.6610000000000012e-17 .. 1.4000000000000002]]\n",
      "initials = (1.?e1, 0.?e1)\n",
      "context loop 0, 0\n",
      "ctx\n",
      "zero width static set [0.0..0.0]\n",
      "poly 1,0 = b'(([1.0000000000 , 1.0000000000] * c0))'\n",
      "context loop 1, 0\n",
      "ctx\n",
      "zero width static set [0.0..0.0]\n",
      "poly 2,0 = b'(([1.0000000000 , 1.0000000000] * c1))'\n",
      "contexts = ['[0.0..8.0]', '[-6.661000000000001e-17..1.4000000000000001]']\n",
      "statics  = []\n",
      "recomputing reachset\n",
      "PolyObserver(-x0^2 - x1^2 + 2*x1 - 0.8000000000000000?, <flowstar.reachability.Reach object at 0x7f56b9640700>, 0, symbolic_composition=False, symbolic_composition_order=6, tentative_unpreconditioning=True, mask=None)\n",
      "fprime = 0\n",
      "var_names = [b'local_t', b'x0', b'x1']\n",
      "res = b'(([-0.8000000001 , -0.7999999999]) + ([2.0000000000 , 2.0000000000] * x1) + ([-1.0000000000 , -1.0000000000] * x1^2) + ([-1.0000000000 , -1.0000000000] * x0^2))'\n",
      "var_names = [b'local_t', b'x0', b'x1']\n",
      "res = b''\n",
      "PolyObserver((([-0.8000000001 , -0.7999999999]) + ([2.0000000000 , 2.0000000000] * x1) + ([-1.0000000000 , -1.0000000000] * x1^2) + ([-1.0000000000 , -1.0000000000] * x0^2)), <flowstar.reachability.Reach object at 0x7f56b9640700>, , symbolic_composition=False, symbolic_composition_order=6, tentative_unpreconditioning=True, mask=Mask([0.0000000000000000 .. 10.002000000000001], [[0.0000000000000000 .. 10.002000000000001]]))\n",
      "var_names = [b'local_t', b'x0', b'x1']\n",
      "res = b''\n",
      "fprime = \n",
      "=== in signal_fn ===\n",
      "observer = <flowstar.observers.RestrictedObserver object at 0x7f56b8d5d190>\n",
      " ==> creating ContextSignal with coord=(), signal = Signal([0.0000000000000000 .. 10.002000000000001], [], mask=Mask([0.0000000000000000 .. 10.002000000000001], [[0.0000000000000000 .. 5.0020000000000007]])), reach_tree = None, ctx_mask=None\n",
      " ==> creating ContextSignal with coord=(), signal = Signal([0.0000000000000000 .. 10.002000000000001], [], mask=Mask([0.0000000000000000 .. 10.002000000000001], [[0.0000000000000000 .. 0.0020000000000006680]])), reach_tree = None, ctx_mask=None\n",
      "Monitoring initial signal: 1 items in 0.03 seconds\n",
      "(ContextSignal([0.0000000000000000 .. 10.002000000000001], [[0 .. 8], [-6.6610000000000012e-17 .. 1.4000000000000002]], [[-1 .. 1], [-1 .. 1]], children=<lbuc.context_signals.ChildIterator object at 0x7f56b8d5b610>)).to_domain(0)\n",
      " ==> creating ContextSignal with coord=(), signal = Signal([0.0000000000000000 .. -0.0000000000000000], [], mask=Mask([0.0000000000000000 .. -0.0000000000000000], [[0.0000000000000000 .. -0.0000000000000000]])), reach_tree = None, ctx_mask=None\n"
     ]
    }
   ],
   "source": [
    "csign2 = F(RIF(0, 5), G(RIF(0, 5), P)).context_signal_for_system(s3, 0, use_masks=True, **kwargs)"
   ]
  },
  {
   "cell_type": "code",
   "execution_count": 34,
   "metadata": {
    "ExecuteTime": {
     "end_time": "2020-12-11T18:32:33.913511Z",
     "start_time": "2020-12-11T18:26:54.444830Z"
    }
   },
   "outputs": [
    {
     "data": {
      "image/png": "[encoded data removed]",
      "text/plain": [
       "Graphics object consisting of 192 graphics primitives"
      ]
     },
     "execution_count": 34,
     "metadata": {},
     "output_type": "execute_result"
    }
   ],
   "source": [
    "with suppress_stdout():\n",
    "    plo3 = csign2.plot_histogram2d(4, flip=True)\n",
    "\n",
    "plo3"
   ]
  },
  {
   "cell_type": "code",
   "execution_count": 35,
   "metadata": {
    "ExecuteTime": {
     "end_time": "2020-12-11T18:59:20.318184Z",
     "start_time": "2020-12-11T18:32:33.914933Z"
    }
   },
   "outputs": [
    {
     "data": {
      "image/png": "[encoded data removed]",
      "text/plain": [
       "Graphics object consisting of 1115 graphics primitives"
      ]
     },
     "execution_count": 35,
     "metadata": {},
     "output_type": "execute_result"
    }
   ],
   "source": [
    "with suppress_stdout():\n",
    "    plo31 = csign2.plot_histogram2d(6, flip=True)\n",
    "\n",
    "plo31"
   ]
  },
  {
   "cell_type": "markdown",
   "metadata": {},
   "source": [
    "## Parameter set 2"
   ]
  },
  {
   "cell_type": "markdown",
   "metadata": {},
   "source": [
    "### Prop 1"
   ]
  },
  {
   "cell_type": "code",
   "execution_count": 36,
   "metadata": {
    "ExecuteTime": {
     "end_time": "2020-12-11T18:59:20.323283Z",
     "start_time": "2020-12-11T18:59:20.319774Z"
    }
   },
   "outputs": [],
   "source": [
    "kwargs = dict(step=(0.02,0.1), order=6, estimation=1e-4, cutoff_threshold=1e-5, integration_method=2)"
   ]
  },
  {
   "cell_type": "code",
   "execution_count": 37,
   "metadata": {
    "ExecuteTime": {
     "end_time": "2020-12-11T18:59:20.439089Z",
     "start_time": "2020-12-11T18:59:20.326256Z"
    }
   },
   "outputs": [
    {
     "name": "stdout",
     "output_type": "stream",
     "text": [
      "phi variables sfs = {x0, x1}\n",
      "system sfs = System(R, (x0, x1), [[0 .. 8], [-6.6610000000000012e-17 .. 1.4000000000000002]], (-2*x0*x1^2 - 0.05000000000000000?*x0^2 + 1.600000000000000?*x0*x1 - 0.05000000000000000?*x0, 0.3000000000000000?*x0*x1^2 - 0.2400000000000000?*x0*x1 - 0.600000000000000?*x1^2 + 0.600000000000000?*x1), varmap=bidict({'Lobster': x0, 'Whelk': x1})))\n",
      "Generating Reach Tree: 1 items in 0.00 seconds\n",
      " ==> creating ContextSignal with coord=(), signal = <function base_context_signal.<locals>.<lambda> at 0x7f56b39c4430>, reach_tree = None, ctx_mask=None\n",
      " ==> creating ContextSignal with coord=(), signal = functools.partial(<bound method Atomic.signal_fn of Atomic(Whelk < 0.310000000000000)>, precompose_systems=False, step=(0.0200000000000000, 0.100000000000000), order=6, estimation=0.000100000000000000, cutoff_threshold=0.0000100000000000000, integration_method=2, instrumentor=<flowstar.instrumentation.AggregateMetric object at 0x7f56b3898fc0>, print_timings=False, unpreconditioning_order=6, initial_form=<InitialForm.SPLIT_VARS: 3>), reach_tree = <lbuc.reach_trees.ReachTree object at 0x7f56b39dae20>, ctx_mask=None\n",
      "setting reach level to 0\n",
      "====> reach_tree coordinate ()\n",
      "==> reach_tree call at [[0 .. 8], [-6.6610000000000012e-17 .. 1.4000000000000002]]\n",
      "initials = (1.?e1, 0.?e1)\n",
      "context loop 0, 0\n",
      "ctx\n",
      "zero width static set [0.0..0.0]\n",
      "poly 1,0 = b'(([1.0000000000 , 1.0000000000] * c0))'\n",
      "context loop 1, 0\n",
      "ctx\n",
      "zero width static set [0.0..0.0]\n",
      "poly 2,0 = b'(([1.0000000000 , 1.0000000000] * c1))'\n",
      "contexts = ['[0.0..8.0]', '[-6.661000000000001e-17..1.4000000000000001]']\n",
      "statics  = []\n",
      "recomputing reachset\n",
      "PolyObserver(-x1 + 0.31000000000000000?, <flowstar.reachability.Reach object at 0x7f56d6e115e0>, 0, symbolic_composition=False, symbolic_composition_order=6, tentative_unpreconditioning=True, mask=None)\n",
      "fprime = 0\n",
      "var_names = [b'local_t', b'x0', b'x1']\n",
      "res = b'(([0.3099999999 , 0.3100000000]) + ([-1.0000000000 , -1.0000000000] * x1))'\n",
      "var_names = [b'local_t', b'x0', b'x1']\n",
      "res = b''\n",
      "PolyObserver((([0.3099999999 , 0.3100000000]) + ([-1.0000000000 , -1.0000000000] * x1)), <flowstar.reachability.Reach object at 0x7f56d6e115e0>, , symbolic_composition=False, symbolic_composition_order=6, tentative_unpreconditioning=True, mask=None)\n",
      "var_names = [b'local_t', b'x0', b'x1']\n",
      "res = b''\n",
      "fprime = \n",
      "=== in signal_fn ===\n",
      "observer = <flowstar.observers.RestrictedObserver object at 0x7f56b39d02e0>\n",
      " ==> creating ContextSignal with coord=(), signal = Signal([0.0000000000000000 .. 10.002000000000001], [], mask=None), reach_tree = None, ctx_mask=None\n",
      " ==> creating ContextSignal with coord=(), signal = functools.partial(<bound method Atomic.signal_fn of Atomic(Whelk > 0.000000000000000)>, precompose_systems=False, step=(0.0200000000000000, 0.100000000000000), order=6, estimation=0.000100000000000000, cutoff_threshold=0.0000100000000000000, integration_method=2, instrumentor=<flowstar.instrumentation.AggregateMetric object at 0x7f56b3898fc0>, print_timings=False, unpreconditioning_order=6, initial_form=<InitialForm.SPLIT_VARS: 3>), reach_tree = <lbuc.reach_trees.ReachTree object at 0x7f56b39dae20>, ctx_mask=None\n",
      "setting reach level to 0\n",
      "====> reach_tree coordinate ()\n",
      "recomputing reachset\n",
      "PolyObserver(x1, <flowstar.reachability.Reach object at 0x7f56d6e115e0>, 0, symbolic_composition=False, symbolic_composition_order=6, tentative_unpreconditioning=True, mask=None)\n",
      "fprime = 0\n",
      "var_names = [b'local_t', b'x0', b'x1']\n",
      "res = b'(([1.0000000000 , 1.0000000000] * x1))'\n",
      "var_names = [b'local_t', b'x0', b'x1']\n",
      "res = b''\n",
      "PolyObserver((([1.0000000000 , 1.0000000000] * x1)), <flowstar.reachability.Reach object at 0x7f56d6e115e0>, , symbolic_composition=False, symbolic_composition_order=6, tentative_unpreconditioning=True, mask=None)\n",
      "var_names = [b'local_t', b'x0', b'x1']\n",
      "res = b''\n",
      "fprime = \n",
      "=== in signal_fn ===\n",
      "observer = <flowstar.observers.RestrictedObserver object at 0x7f56b39d0430>\n",
      " ==> creating ContextSignal with coord=(), signal = Signal([0.0000000000000000 .. 10.002000000000001], [], mask=None), reach_tree = None, ctx_mask=None\n",
      " ==> creating ContextSignal with coord=(), signal = functools.partial(<bound method Atomic.signal_fn of Atomic(Lobster < 4.00000000000000)>, precompose_systems=False, step=(0.0200000000000000, 0.100000000000000), order=6, estimation=0.000100000000000000, cutoff_threshold=0.0000100000000000000, integration_method=2, instrumentor=<flowstar.instrumentation.AggregateMetric object at 0x7f56b3898fc0>, print_timings=False, unpreconditioning_order=6, initial_form=<InitialForm.SPLIT_VARS: 3>), reach_tree = <lbuc.reach_trees.ReachTree object at 0x7f56b39dae20>, ctx_mask=None\n",
      "setting reach level to 0\n",
      "====> reach_tree coordinate ()\n",
      "recomputing reachset\n",
      "PolyObserver(-x0 + 4, <flowstar.reachability.Reach object at 0x7f56d6e115e0>, 0, symbolic_composition=False, symbolic_composition_order=6, tentative_unpreconditioning=True, mask=None)\n",
      "fprime = 0\n",
      "var_names = [b'local_t', b'x0', b'x1']\n",
      "res = b'(([4.0000000000 , 4.0000000000]) + ([-1.0000000000 , -1.0000000000] * x0))'\n",
      "var_names = [b'local_t', b'x0', b'x1']\n",
      "res = b''\n",
      "PolyObserver((([4.0000000000 , 4.0000000000]) + ([-1.0000000000 , -1.0000000000] * x0)), <flowstar.reachability.Reach object at 0x7f56d6e115e0>, , symbolic_composition=False, symbolic_composition_order=6, tentative_unpreconditioning=True, mask=None)\n",
      "var_names = [b'local_t', b'x0', b'x1']\n",
      "res = b''\n",
      "fprime = \n",
      "=== in signal_fn ===\n",
      "observer = <flowstar.observers.RestrictedObserver object at 0x7f56b39d0580>\n",
      " ==> creating ContextSignal with coord=(), signal = Signal([0.0000000000000000 .. 10.002000000000001], [], mask=None), reach_tree = None, ctx_mask=None\n",
      " ==> creating ContextSignal with coord=(), signal = functools.partial(<bound method Atomic.signal_fn of Atomic(Lobster > 1.50000000000000)>, precompose_systems=False, step=(0.0200000000000000, 0.100000000000000), order=6, estimation=0.000100000000000000, cutoff_threshold=0.0000100000000000000, integration_method=2, instrumentor=<flowstar.instrumentation.AggregateMetric object at 0x7f56b3898fc0>, print_timings=False, unpreconditioning_order=6, initial_form=<InitialForm.SPLIT_VARS: 3>), reach_tree = <lbuc.reach_trees.ReachTree object at 0x7f56b39dae20>, ctx_mask=None\n",
      "setting reach level to 0\n",
      "====> reach_tree coordinate ()\n",
      "recomputing reachset\n",
      "PolyObserver(x0 - 1.5000000000000000?, <flowstar.reachability.Reach object at 0x7f56d6e115e0>, 0, symbolic_composition=False, symbolic_composition_order=6, tentative_unpreconditioning=True, mask=None)\n",
      "fprime = 0\n",
      "var_names = [b'local_t', b'x0', b'x1']\n",
      "res = b'(([-1.5000000000 , -1.5000000000]) + ([1.0000000000 , 1.0000000000] * x0))'\n",
      "var_names = [b'local_t', b'x0', b'x1']\n",
      "res = b''\n",
      "PolyObserver((([-1.5000000000 , -1.5000000000]) + ([1.0000000000 , 1.0000000000] * x0)), <flowstar.reachability.Reach object at 0x7f56d6e115e0>, , symbolic_composition=False, symbolic_composition_order=6, tentative_unpreconditioning=True, mask=None)\n",
      "var_names = [b'local_t', b'x0', b'x1']\n",
      "res = b''\n",
      "fprime = \n",
      "=== in signal_fn ===\n",
      "observer = <flowstar.observers.RestrictedObserver object at 0x7f56b39d06d0>\n",
      " ==> creating ContextSignal with coord=(), signal = Signal([0.0000000000000000 .. 10.002000000000001], [], mask=None), reach_tree = None, ctx_mask=None\n",
      " ==> creating ContextSignal with coord=(), signal = Signal([0.0000000000000000 .. 10.002000000000001], [], mask=None), reach_tree = None, ctx_mask=None\n",
      "Monitoring initial signal: 1 items in 0.06 seconds\n",
      "(ContextSignal([0.0000000000000000 .. 10.002000000000001], [[0 .. 8], [-6.6610000000000012e-17 .. 1.4000000000000002]], [[-1 .. 1], [-1 .. 1]], children=<lbuc.context_signals.ChildIterator object at 0x7f56b316f7c0>)).to_domain(0)\n",
      " ==> creating ContextSignal with coord=(), signal = Signal([0.0000000000000000 .. -0.0000000000000000], [], mask=None), reach_tree = None, ctx_mask=None\n"
     ]
    }
   ],
   "source": [
    "csign1 = F(RIF(0, 10), Q).context_signal_for_system(s3, 0, use_masks=False, **kwargs)"
   ]
  },
  {
   "cell_type": "code",
   "execution_count": 38,
   "metadata": {
    "ExecuteTime": {
     "end_time": "2020-12-11T19:01:35.577259Z",
     "start_time": "2020-12-11T18:59:20.441469Z"
    }
   },
   "outputs": [
    {
     "data": {
      "image/png": "[encoded data removed]",
      "text/plain": [
       "Graphics object consisting of 216 graphics primitives"
      ]
     },
     "execution_count": 38,
     "metadata": {},
     "output_type": "execute_result"
    }
   ],
   "source": [
    "with suppress_stdout():\n",
    "    plo2b = csign1.plot_histogram2d(4, flip=True)\n",
    "\n",
    "plo2b"
   ]
  },
  {
   "cell_type": "code",
   "execution_count": 39,
   "metadata": {
    "ExecuteTime": {
     "end_time": "2020-12-11T19:04:58.403731Z",
     "start_time": "2020-12-11T19:01:35.578990Z"
    }
   },
   "outputs": [
    {
     "name": "stderr",
     "output_type": "stream",
     "text": [
      "/usr/lib/python3.8/site-packages/lbuc/interval_signals.py:261: UserWarning: Inconsistent intervals [0.0000000000000000 .. 0.050000000000000003] (False) and [0.050000000000000002 .. 0.10500000000000001] (True) in signal!\n",
      "  warnings.warn('Inconsistent intervals {} ({}) '\n",
      "/usr/lib/python3.8/site-packages/lbuc/interval_signals.py:261: UserWarning: Inconsistent intervals [0.0000000000000000 .. 0.025000000000000002] (False) and [0.025000000000000001 .. 0.052500000000000005] (True) in signal!\n",
      "  warnings.warn('Inconsistent intervals {} ({}) '\n"
     ]
    },
    {
     "data": {
      "image/png": "[encoded data removed]",
      "text/plain": [
       "Graphics object consisting of 555 graphics primitives"
      ]
     },
     "execution_count": 39,
     "metadata": {},
     "output_type": "execute_result"
    }
   ],
   "source": [
    "with suppress_stdout():\n",
    "    plo2b = csign1.plot_histogram2d(5, flip=True)\n",
    "    \n",
    "plo2b"
   ]
  },
  {
   "cell_type": "code",
   "execution_count": 40,
   "metadata": {
    "ExecuteTime": {
     "end_time": "2020-12-11T19:10:43.238074Z",
     "start_time": "2020-12-11T19:04:58.406957Z"
    }
   },
   "outputs": [
    {
     "name": "stderr",
     "output_type": "stream",
     "text": [
      "/usr/lib/python3.8/site-packages/lbuc/interval_signals.py:261: UserWarning: Inconsistent intervals [0.0000000000000000 .. 0.050000000000000003] (True) and [0.050000000000000002 .. 0.10500000000000001] (False) in signal!\n",
      "  warnings.warn('Inconsistent intervals {} ({}) '\n",
      "/usr/lib/python3.8/site-packages/lbuc/interval_signals.py:261: UserWarning: Inconsistent intervals [0.0000000000000000 .. 0.10000000000000001] (False) and [0.10000000000000000 .. 0.19999999999999999] (True) in signal!\n",
      "  warnings.warn('Inconsistent intervals {} ({}) '\n",
      "/usr/lib/python3.8/site-packages/lbuc/interval_signals.py:261: UserWarning: Inconsistent intervals [0.0000000000000000 .. 0.050000000000000003] (False) and [0.050000000000000002 .. 0.10500000000000001] (True) in signal!\n",
      "  warnings.warn('Inconsistent intervals {} ({}) '\n",
      "/usr/lib/python3.8/site-packages/lbuc/interval_signals.py:261: UserWarning: Inconsistent intervals [0.0000000000000000 .. 0.050000000000000003] (False) and [0.050000000000000002 .. 10.002000000000001] (True) in signal!\n",
      "  warnings.warn('Inconsistent intervals {} ({}) '\n",
      "/usr/lib/python3.8/site-packages/lbuc/interval_signals.py:261: UserWarning: Inconsistent intervals [0.0000000000000000 .. 0.025000000000000002] (False) and [0.025000000000000001 .. 0.052500000000000005] (True) in signal!\n",
      "  warnings.warn('Inconsistent intervals {} ({}) '\n",
      "/usr/lib/python3.8/site-packages/lbuc/interval_signals.py:261: UserWarning: Inconsistent intervals [0.0000000000000000 .. 0.025000000000000002] (False) and [0.025000000000000001 .. 10.002000000000001] (True) in signal!\n",
      "  warnings.warn('Inconsistent intervals {} ({}) '\n"
     ]
    },
    {
     "data": {
      "image/png": "[encoded data removed]",
      "text/plain": [
       "Graphics object consisting of 1044 graphics primitives"
      ]
     },
     "execution_count": 40,
     "metadata": {},
     "output_type": "execute_result"
    }
   ],
   "source": [
    "with suppress_stdout():\n",
    "    plo2b2 = csign1.plot_histogram2d(6, flip=True)\n",
    "    \n",
    "plo2b2"
   ]
  },
  {
   "cell_type": "markdown",
   "metadata": {},
   "source": [
    "### Prop 2"
   ]
  },
  {
   "cell_type": "code",
   "execution_count": 41,
   "metadata": {
    "ExecuteTime": {
     "end_time": "2020-12-11T19:10:43.293145Z",
     "start_time": "2020-12-11T19:10:43.240217Z"
    }
   },
   "outputs": [
    {
     "name": "stdout",
     "output_type": "stream",
     "text": [
      "phi variables sfs = {x0, x1}\n",
      "system sfs = System(R, (x0, x1), [[0 .. 8], [-6.6610000000000012e-17 .. 1.4000000000000002]], (-2*x0*x1^2 - 0.05000000000000000?*x0^2 + 1.600000000000000?*x0*x1 - 0.05000000000000000?*x0, 0.3000000000000000?*x0*x1^2 - 0.2400000000000000?*x0*x1 - 0.600000000000000?*x1^2 + 0.600000000000000?*x1), varmap=bidict({'Lobster': x0, 'Whelk': x1})))\n",
      "Generating Reach Tree: 1 items in 0.00 seconds\n",
      " ==> creating ContextSignal with coord=(), signal = functools.partial(<bound method Atomic.signal_fn of Atomic(Lobster^2 + (Whelk - 1)^2 < 0.200000000000000)>, precompose_systems=False, step=(0.0200000000000000, 0.100000000000000), order=6, estimation=0.000100000000000000, cutoff_threshold=0.0000100000000000000, integration_method=2, instrumentor=<flowstar.instrumentation.AggregateMetric object at 0x7f56b0612480>, print_timings=False, unpreconditioning_order=6, initial_form=<InitialForm.SPLIT_VARS: 3>), reach_tree = <lbuc.reach_trees.ReachTree object at 0x7f56b1451e20>, ctx_mask=<lbuc.context_masks.ContextMask object at 0x7f56b148e220>\n",
      "setting reach level to 0\n",
      "====> reach_tree coordinate ()\n",
      "==> reach_tree call at [[0 .. 8], [-6.6610000000000012e-17 .. 1.4000000000000002]]\n",
      "initials = (1.?e1, 0.?e1)\n",
      "context loop 0, 0\n",
      "ctx\n",
      "zero width static set [0.0..0.0]\n",
      "poly 1,0 = b'(([1.0000000000 , 1.0000000000] * c0))'\n",
      "context loop 1, 0\n",
      "ctx\n",
      "zero width static set [0.0..0.0]\n",
      "poly 2,0 = b'(([1.0000000000 , 1.0000000000] * c1))'\n",
      "contexts = ['[0.0..8.0]', '[-6.661000000000001e-17..1.4000000000000001]']\n",
      "statics  = []\n",
      "recomputing reachset\n",
      "PolyObserver(-x0^2 - x1^2 + 2*x1 - 0.8000000000000000?, <flowstar.reachability.Reach object at 0x7f56b0cd1ee0>, 0, symbolic_composition=False, symbolic_composition_order=6, tentative_unpreconditioning=True, mask=None)\n",
      "fprime = 0\n",
      "var_names = [b'local_t', b'x0', b'x1']\n",
      "res = b'(([-0.8000000001 , -0.7999999999]) + ([2.0000000000 , 2.0000000000] * x1) + ([-1.0000000000 , -1.0000000000] * x1^2) + ([-1.0000000000 , -1.0000000000] * x0^2))'\n",
      "var_names = [b'local_t', b'x0', b'x1']\n",
      "res = b''\n",
      "PolyObserver((([-0.8000000001 , -0.7999999999]) + ([2.0000000000 , 2.0000000000] * x1) + ([-1.0000000000 , -1.0000000000] * x1^2) + ([-1.0000000000 , -1.0000000000] * x0^2)), <flowstar.reachability.Reach object at 0x7f56b0cd1ee0>, , symbolic_composition=False, symbolic_composition_order=6, tentative_unpreconditioning=True, mask=Mask([0.0000000000000000 .. 10.002000000000001], [[0.0000000000000000 .. 10.002000000000001]]))\n",
      "var_names = [b'local_t', b'x0', b'x1']\n",
      "res = b''\n",
      "fprime = \n",
      "=== in signal_fn ===\n",
      "observer = <flowstar.observers.RestrictedObserver object at 0x7f56b0ff7d60>\n",
      " ==> creating ContextSignal with coord=(), signal = Signal([0.0000000000000000 .. 10.002000000000001], [], mask=Mask([0.0000000000000000 .. 10.002000000000001], [[0.0000000000000000 .. 5.0020000000000007]])), reach_tree = None, ctx_mask=None\n",
      " ==> creating ContextSignal with coord=(), signal = Signal([0.0000000000000000 .. 10.002000000000001], [], mask=Mask([0.0000000000000000 .. 10.002000000000001], [[0.0000000000000000 .. 0.0020000000000006680]])), reach_tree = None, ctx_mask=None\n",
      "Monitoring initial signal: 1 items in 0.05 seconds\n",
      "(ContextSignal([0.0000000000000000 .. 10.002000000000001], [[0 .. 8], [-6.6610000000000012e-17 .. 1.4000000000000002]], [[-1 .. 1], [-1 .. 1]], children=<lbuc.context_signals.ChildIterator object at 0x7f56b14aa0a0>)).to_domain(0)\n",
      " ==> creating ContextSignal with coord=(), signal = Signal([0.0000000000000000 .. -0.0000000000000000], [], mask=Mask([0.0000000000000000 .. -0.0000000000000000], [[0.0000000000000000 .. -0.0000000000000000]])), reach_tree = None, ctx_mask=None\n"
     ]
    }
   ],
   "source": [
    "csign2 = F(RIF(0, 5), G(RIF(0, 5), P)).context_signal_for_system(s3, 0, use_masks=True, **kwargs)"
   ]
  },
  {
   "cell_type": "code",
   "execution_count": 42,
   "metadata": {
    "ExecuteTime": {
     "end_time": "2020-12-11T19:12:38.090130Z",
     "start_time": "2020-12-11T19:10:43.296546Z"
    }
   },
   "outputs": [
    {
     "data": {
      "image/png": "[encoded data removed]",
      "text/plain": [
       "Graphics object consisting of 206 graphics primitives"
      ]
     },
     "execution_count": 42,
     "metadata": {},
     "output_type": "execute_result"
    }
   ],
   "source": [
    "with suppress_stdout():\n",
    "    plo3 = csign2.plot_histogram2d(4, flip=True)\n",
    "\n",
    "plo3"
   ]
  },
  {
   "cell_type": "code",
   "execution_count": 43,
   "metadata": {
    "ExecuteTime": {
     "end_time": "2020-12-11T19:15:30.301377Z",
     "start_time": "2020-12-11T19:12:38.091769Z"
    }
   },
   "outputs": [
    {
     "data": {
      "image/png": "[encoded data removed]",
      "text/plain": [
       "Graphics object consisting of 553 graphics primitives"
      ]
     },
     "execution_count": 43,
     "metadata": {},
     "output_type": "execute_result"
    }
   ],
   "source": [
    "with suppress_stdout():\n",
    "    plo3 = csign2.plot_histogram2d(5, flip=True)\n",
    "\n",
    "plo3"
   ]
  },
  {
   "cell_type": "markdown",
   "metadata": {},
   "source": [
    "## Parameter set 3"
   ]
  },
  {
   "cell_type": "markdown",
   "metadata": {},
   "source": [
    "### Prop 1"
   ]
  },
  {
   "cell_type": "code",
   "execution_count": 44,
   "metadata": {
    "ExecuteTime": {
     "end_time": "2020-12-11T19:15:30.306278Z",
     "start_time": "2020-12-11T19:15:30.302932Z"
    }
   },
   "outputs": [],
   "source": [
    "kwargs = dict(step=(0.005,0.1), order=8, estimation=1e-6, cutoff_threshold=1e-7, integration_method=2)"
   ]
  },
  {
   "cell_type": "code",
   "execution_count": 45,
   "metadata": {
    "ExecuteTime": {
     "end_time": "2020-12-11T19:15:30.498113Z",
     "start_time": "2020-12-11T19:15:30.309531Z"
    }
   },
   "outputs": [
    {
     "name": "stdout",
     "output_type": "stream",
     "text": [
      "phi variables sfs = {x0, x1}\n",
      "system sfs = System(R, (x0, x1), [[0 .. 8], [-6.6610000000000012e-17 .. 1.4000000000000002]], (-2*x0*x1^2 - 0.05000000000000000?*x0^2 + 1.600000000000000?*x0*x1 - 0.05000000000000000?*x0, 0.3000000000000000?*x0*x1^2 - 0.2400000000000000?*x0*x1 - 0.600000000000000?*x1^2 + 0.600000000000000?*x1), varmap=bidict({'Lobster': x0, 'Whelk': x1})))\n",
      "Generating Reach Tree: 1 items in 0.00 seconds\n",
      " ==> creating ContextSignal with coord=(), signal = <function base_context_signal.<locals>.<lambda> at 0x7f56a85ee1f0>, reach_tree = None, ctx_mask=None\n",
      " ==> creating ContextSignal with coord=(), signal = functools.partial(<bound method Atomic.signal_fn of Atomic(Whelk < 0.310000000000000)>, precompose_systems=False, step=(0.00500000000000000, 0.100000000000000), order=8, estimation=1.00000000000000e-6, cutoff_threshold=1.00000000000000e-7, integration_method=2, instrumentor=<flowstar.instrumentation.AggregateMetric object at 0x7f56a85a0880>, print_timings=False, unpreconditioning_order=8, initial_form=<InitialForm.SPLIT_VARS: 3>), reach_tree = <lbuc.reach_trees.ReachTree object at 0x7f56a85edca0>, ctx_mask=None\n",
      "setting reach level to 0\n",
      "====> reach_tree coordinate ()\n",
      "==> reach_tree call at [[0 .. 8], [-6.6610000000000012e-17 .. 1.4000000000000002]]\n",
      "initials = (1.?e1, 0.?e1)\n",
      "context loop 0, 0\n",
      "ctx\n",
      "zero width static set [0.0..0.0]\n",
      "poly 1,0 = b'(([1.0000000000 , 1.0000000000] * c0))'\n",
      "context loop 1, 0\n",
      "ctx\n",
      "zero width static set [0.0..0.0]\n",
      "poly 2,0 = b'(([1.0000000000 , 1.0000000000] * c1))'\n",
      "contexts = ['[0.0..8.0]', '[-6.661000000000001e-17..1.4000000000000001]']\n",
      "statics  = []\n",
      "recomputing reachset\n",
      "PolyObserver(-x1 + 0.31000000000000000?, <flowstar.reachability.Reach object at 0x7f56a85ef040>, 0, symbolic_composition=False, symbolic_composition_order=8, tentative_unpreconditioning=True, mask=None)\n",
      "fprime = 0\n",
      "var_names = [b'local_t', b'x0', b'x1']\n",
      "res = b'(([0.3099999999 , 0.3100000000]) + ([-1.0000000000 , -1.0000000000] * x1))'\n",
      "var_names = [b'local_t', b'x0', b'x1']\n",
      "res = b''\n",
      "PolyObserver((([0.3099999999 , 0.3100000000]) + ([-1.0000000000 , -1.0000000000] * x1)), <flowstar.reachability.Reach object at 0x7f56a85ef040>, , symbolic_composition=False, symbolic_composition_order=8, tentative_unpreconditioning=True, mask=None)\n",
      "var_names = [b'local_t', b'x0', b'x1']\n",
      "res = b''\n",
      "fprime = \n",
      "=== in signal_fn ===\n",
      "observer = <flowstar.observers.RestrictedObserver object at 0x7f56a8af1ac0>\n",
      " ==> creating ContextSignal with coord=(), signal = Signal([0.0000000000000000 .. 10.002000000000001], [], mask=None), reach_tree = None, ctx_mask=None\n",
      " ==> creating ContextSignal with coord=(), signal = functools.partial(<bound method Atomic.signal_fn of Atomic(Whelk > 0.000000000000000)>, precompose_systems=False, step=(0.00500000000000000, 0.100000000000000), order=8, estimation=1.00000000000000e-6, cutoff_threshold=1.00000000000000e-7, integration_method=2, instrumentor=<flowstar.instrumentation.AggregateMetric object at 0x7f56a85a0880>, print_timings=False, unpreconditioning_order=8, initial_form=<InitialForm.SPLIT_VARS: 3>), reach_tree = <lbuc.reach_trees.ReachTree object at 0x7f56a85edca0>, ctx_mask=None\n",
      "setting reach level to 0\n",
      "====> reach_tree coordinate ()\n",
      "recomputing reachset\n",
      "PolyObserver(x1, <flowstar.reachability.Reach object at 0x7f56a85ef040>, 0, symbolic_composition=False, symbolic_composition_order=8, tentative_unpreconditioning=True, mask=None)\n",
      "fprime = 0\n",
      "var_names = [b'local_t', b'x0', b'x1']\n",
      "res = b'(([1.0000000000 , 1.0000000000] * x1))'\n",
      "var_names = [b'local_t', b'x0', b'x1']\n",
      "res = b''\n",
      "PolyObserver((([1.0000000000 , 1.0000000000] * x1)), <flowstar.reachability.Reach object at 0x7f56a85ef040>, , symbolic_composition=False, symbolic_composition_order=8, tentative_unpreconditioning=True, mask=None)\n",
      "var_names = [b'local_t', b'x0', b'x1']\n",
      "res = b''\n",
      "fprime = \n",
      "=== in signal_fn ===\n",
      "observer = <flowstar.observers.RestrictedObserver object at 0x7f56a8af1c10>\n",
      " ==> creating ContextSignal with coord=(), signal = Signal([0.0000000000000000 .. 10.002000000000001], [], mask=None), reach_tree = None, ctx_mask=None\n",
      " ==> creating ContextSignal with coord=(), signal = functools.partial(<bound method Atomic.signal_fn of Atomic(Lobster < 4.00000000000000)>, precompose_systems=False, step=(0.00500000000000000, 0.100000000000000), order=8, estimation=1.00000000000000e-6, cutoff_threshold=1.00000000000000e-7, integration_method=2, instrumentor=<flowstar.instrumentation.AggregateMetric object at 0x7f56a85a0880>, print_timings=False, unpreconditioning_order=8, initial_form=<InitialForm.SPLIT_VARS: 3>), reach_tree = <lbuc.reach_trees.ReachTree object at 0x7f56a85edca0>, ctx_mask=None\n",
      "setting reach level to 0\n",
      "====> reach_tree coordinate ()\n",
      "recomputing reachset\n",
      "PolyObserver(-x0 + 4, <flowstar.reachability.Reach object at 0x7f56a85ef040>, 0, symbolic_composition=False, symbolic_composition_order=8, tentative_unpreconditioning=True, mask=None)\n",
      "fprime = 0\n",
      "var_names = [b'local_t', b'x0', b'x1']\n",
      "res = b'(([4.0000000000 , 4.0000000000]) + ([-1.0000000000 , -1.0000000000] * x0))'\n",
      "var_names = [b'local_t', b'x0', b'x1']\n",
      "res = b''\n",
      "PolyObserver((([4.0000000000 , 4.0000000000]) + ([-1.0000000000 , -1.0000000000] * x0)), <flowstar.reachability.Reach object at 0x7f56a85ef040>, , symbolic_composition=False, symbolic_composition_order=8, tentative_unpreconditioning=True, mask=None)\n",
      "var_names = [b'local_t', b'x0', b'x1']\n",
      "res = b''\n",
      "fprime = \n",
      "=== in signal_fn ===\n",
      "observer = <flowstar.observers.RestrictedObserver object at 0x7f56a8af1d60>\n",
      " ==> creating ContextSignal with coord=(), signal = Signal([0.0000000000000000 .. 10.002000000000001], [], mask=None), reach_tree = None, ctx_mask=None\n",
      " ==> creating ContextSignal with coord=(), signal = functools.partial(<bound method Atomic.signal_fn of Atomic(Lobster > 1.50000000000000)>, precompose_systems=False, step=(0.00500000000000000, 0.100000000000000), order=8, estimation=1.00000000000000e-6, cutoff_threshold=1.00000000000000e-7, integration_method=2, instrumentor=<flowstar.instrumentation.AggregateMetric object at 0x7f56a85a0880>, print_timings=False, unpreconditioning_order=8, initial_form=<InitialForm.SPLIT_VARS: 3>), reach_tree = <lbuc.reach_trees.ReachTree object at 0x7f56a85edca0>, ctx_mask=None\n",
      "setting reach level to 0\n",
      "====> reach_tree coordinate ()\n",
      "recomputing reachset\n",
      "PolyObserver(x0 - 1.5000000000000000?, <flowstar.reachability.Reach object at 0x7f56a85ef040>, 0, symbolic_composition=False, symbolic_composition_order=8, tentative_unpreconditioning=True, mask=None)\n",
      "fprime = 0\n",
      "var_names = [b'local_t', b'x0', b'x1']\n",
      "res = b'(([-1.5000000000 , -1.5000000000]) + ([1.0000000000 , 1.0000000000] * x0))'\n",
      "var_names = [b'local_t', b'x0', b'x1']\n",
      "res = b''\n",
      "PolyObserver((([-1.5000000000 , -1.5000000000]) + ([1.0000000000 , 1.0000000000] * x0)), <flowstar.reachability.Reach object at 0x7f56a85ef040>, , symbolic_composition=False, symbolic_composition_order=8, tentative_unpreconditioning=True, mask=None)\n",
      "var_names = [b'local_t', b'x0', b'x1']\n",
      "res = b''\n",
      "fprime = \n",
      "=== in signal_fn ===\n",
      "observer = <flowstar.observers.RestrictedObserver object at 0x7f56a8af1eb0>\n",
      " ==> creating ContextSignal with coord=(), signal = Signal([0.0000000000000000 .. 10.002000000000001], [], mask=None), reach_tree = None, ctx_mask=None\n",
      " ==> creating ContextSignal with coord=(), signal = Signal([0.0000000000000000 .. 10.002000000000001], [], mask=None), reach_tree = None, ctx_mask=None\n",
      "Monitoring initial signal: 1 items in 0.13 seconds\n",
      "(ContextSignal([0.0000000000000000 .. 10.002000000000001], [[0 .. 8], [-6.6610000000000012e-17 .. 1.4000000000000002]], [[-1 .. 1], [-1 .. 1]], children=<lbuc.context_signals.ChildIterator object at 0x7f56a85e51c0>)).to_domain(0)\n",
      " ==> creating ContextSignal with coord=(), signal = Signal([0.0000000000000000 .. -0.0000000000000000], [], mask=None), reach_tree = None, ctx_mask=None\n"
     ]
    }
   ],
   "source": [
    "csign1 = F(RIF(0, 10), Q).context_signal_for_system(s3, 0, use_masks=False, **kwargs)"
   ]
  },
  {
   "cell_type": "code",
   "execution_count": 46,
   "metadata": {
    "ExecuteTime": {
     "end_time": "2020-12-11T19:41:08.127324Z",
     "start_time": "2020-12-11T19:15:30.500101Z"
    }
   },
   "outputs": [
    {
     "data": {
      "image/png": "[encoded data removed]",
      "text/plain": [
       "Graphics object consisting of 148 graphics primitives"
      ]
     },
     "execution_count": 46,
     "metadata": {},
     "output_type": "execute_result"
    }
   ],
   "source": [
    "with suppress_stdout():\n",
    "    plo2b = csign1.plot_histogram2d(4, flip=True)\n",
    "\n",
    "plo2b"
   ]
  },
  {
   "cell_type": "code",
   "execution_count": null,
   "metadata": {
    "ExecuteTime": {
     "start_time": "2020-12-11T17:53:28.819Z"
    }
   },
   "outputs": [],
   "source": [
    "with suppress_stdout():\n",
    "    plo2b = csign1.plot_histogram2d(5, flip=True)\n",
    "    \n",
    "plo2b"
   ]
  },
  {
   "cell_type": "code",
   "execution_count": null,
   "metadata": {
    "ExecuteTime": {
     "start_time": "2020-12-11T17:53:29.080Z"
    }
   },
   "outputs": [],
   "source": [
    "with suppress_stdout():\n",
    "    plo2b3 = csign1.plot_histogram2d(6,flip=True)\n",
    "    \n",
    "plo2b3"
   ]
  },
  {
   "cell_type": "markdown",
   "metadata": {},
   "source": [
    "### Prop 2"
   ]
  },
  {
   "cell_type": "code",
   "execution_count": null,
   "metadata": {
    "ExecuteTime": {
     "start_time": "2020-12-11T17:53:29.659Z"
    }
   },
   "outputs": [],
   "source": [
    "csign2 = F(RIF(0, 5), G(RIF(0, 5), P)).context_signal_for_system(s3, 0, use_masks=True, **kwargs)"
   ]
  },
  {
   "cell_type": "code",
   "execution_count": null,
   "metadata": {
    "ExecuteTime": {
     "start_time": "2020-12-11T17:53:29.960Z"
    }
   },
   "outputs": [],
   "source": [
    "with suppress_stdout():\n",
    "    plo3 = csign2.plot_histogram2d(4, flip=True)\n",
    "\n",
    "plo3"
   ]
  },
  {
   "cell_type": "code",
   "execution_count": null,
   "metadata": {
    "ExecuteTime": {
     "start_time": "2020-12-11T17:53:30.320Z"
    }
   },
   "outputs": [],
   "source": [
    "with suppress_stdout():\n",
    "    plo3 = csign2.plot_histogram2d(5, flip=True)\n",
    "\n",
    "plo3"
   ]
  },
  {
   "cell_type": "markdown",
   "metadata": {},
   "source": [
    "## Parameter set 4"
   ]
  },
  {
   "cell_type": "markdown",
   "metadata": {},
   "source": [
    "### Prop 1"
   ]
  },
  {
   "cell_type": "code",
   "execution_count": null,
   "metadata": {
    "ExecuteTime": {
     "start_time": "2020-12-11T17:53:35.120Z"
    }
   },
   "outputs": [],
   "source": [
    "kwargs = dict(step=(0.005,0.1), order=8, estimation=1e-6, cutoff_threshold=1e-7, integration_method=2)"
   ]
  },
  {
   "cell_type": "code",
   "execution_count": null,
   "metadata": {
    "ExecuteTime": {
     "start_time": "2020-12-11T17:53:35.354Z"
    }
   },
   "outputs": [],
   "source": [
    "csign1 = F(RIF(0, 10), Q).context_signal_for_system(s3, 0, use_masks=False, **kwargs)"
   ]
  },
  {
   "cell_type": "code",
   "execution_count": null,
   "metadata": {
    "ExecuteTime": {
     "start_time": "2020-12-11T17:53:35.563Z"
    }
   },
   "outputs": [],
   "source": [
    "with suppress_stdout():\n",
    "    plo2b = csign1.plot_histogram2d(4, flip=True)\n",
    "\n",
    "plo2b"
   ]
  },
  {
   "cell_type": "code",
   "execution_count": null,
   "metadata": {
    "ExecuteTime": {
     "start_time": "2020-12-11T17:53:35.752Z"
    }
   },
   "outputs": [],
   "source": [
    "with suppress_stdout():\n",
    "    plo2b = csign1.plot_histogram2d(5, flip=True)\n",
    "    \n",
    "plo2b"
   ]
  },
  {
   "cell_type": "code",
   "execution_count": null,
   "metadata": {
    "ExecuteTime": {
     "start_time": "2020-12-11T17:53:35.985Z"
    }
   },
   "outputs": [],
   "source": [
    "with suppress_stdout():\n",
    "    plo2b4 = csign1.plot_histogram2d(6,flip=True)\n",
    "    \n",
    "plo2b4"
   ]
  },
  {
   "cell_type": "markdown",
   "metadata": {},
   "source": [
    "### Prop 2"
   ]
  },
  {
   "cell_type": "code",
   "execution_count": null,
   "metadata": {
    "ExecuteTime": {
     "start_time": "2020-12-11T17:53:36.896Z"
    }
   },
   "outputs": [],
   "source": [
    "csign2 = F(RIF(0, 5), G(RIF(0, 5), P)).context_signal_for_system(s3, 0, use_masks=True, **kwargs)"
   ]
  },
  {
   "cell_type": "code",
   "execution_count": null,
   "metadata": {
    "ExecuteTime": {
     "start_time": "2020-12-11T17:53:37.161Z"
    }
   },
   "outputs": [],
   "source": [
    "with suppress_stdout():\n",
    "    plo3 = csign2.plot_histogram2d(4, flip=True)\n",
    "\n",
    "plo3"
   ]
  },
  {
   "cell_type": "code",
   "execution_count": null,
   "metadata": {
    "ExecuteTime": {
     "start_time": "2020-12-11T17:53:37.401Z"
    }
   },
   "outputs": [],
   "source": [
    "with suppress_stdout():\n",
    "    plo3 = csign2.plot_histogram2d(5, flip=True)\n",
    "\n",
    "plo3"
   ]
  },
  {
   "cell_type": "markdown",
   "metadata": {
    "ExecuteTime": {
     "end_time": "2020-12-09T11:11:23.447366Z",
     "start_time": "2020-12-09T11:11:23.444392Z"
    }
   },
   "source": [
    "## Physical Tree"
   ]
  },
  {
   "cell_type": "code",
   "execution_count": null,
   "metadata": {
    "ExecuteTime": {
     "start_time": "2020-12-11T17:53:37.845Z"
    }
   },
   "outputs": [],
   "source": [
    "kwargs = dict(step=0.05, order=6, estimation=1e-4, cutoff_threshold=1e-15, integration_method=2)"
   ]
  },
  {
   "cell_type": "code",
   "execution_count": null,
   "metadata": {
    "ExecuteTime": {
     "start_time": "2020-12-11T17:53:38.073Z"
    }
   },
   "outputs": [],
   "source": [
    "from lbuc import RestrictionMethod"
   ]
  },
  {
   "cell_type": "code",
   "execution_count": null,
   "metadata": {
    "ExecuteTime": {
     "start_time": "2020-12-11T17:53:38.506Z"
    }
   },
   "outputs": [],
   "source": [
    "csignp = F(RIF(0, 10), Q).context_signal_for_system(s3, 0, use_masks=True, restriction_method=RestrictionMethod.RECOMPUTE_FLOWPIPE, **kwargs)"
   ]
  },
  {
   "cell_type": "code",
   "execution_count": null,
   "metadata": {
    "ExecuteTime": {
     "start_time": "2020-12-11T17:53:38.808Z"
    }
   },
   "outputs": [],
   "source": [
    "with suppress_stdout():\n",
    "    plo2 = csignp.plot_histogram2d(4, flip=True)\n",
    "\n",
    "plo2"
   ]
  },
  {
   "cell_type": "code",
   "execution_count": null,
   "metadata": {
    "ExecuteTime": {
     "start_time": "2020-12-11T17:53:39.192Z"
    }
   },
   "outputs": [],
   "source": [
    "with suppress_stdout():\n",
    "    plo2 = csignp.plot_histogram2d(5, flip=True)\n",
    "\n",
    "plo2"
   ]
  },
  {
   "cell_type": "code",
   "execution_count": null,
   "metadata": {},
   "outputs": [],
   "source": []
  }
 ],
 "metadata": {
  "celltoolbar": "Initialization Cell",
  "kernelspec": {
   "display_name": "SageMath 9.0",
   "language": "sage",
   "name": "sagemath"
  },
  "language_info": {
   "codemirror_mode": {
    "name": "ipython",
    "version": 3
   },
   "file_extension": ".py",
   "mimetype": "text/x-python",
   "name": "python",
   "nbconvert_exporter": "python",
   "pygments_lexer": "ipython3",
   "version": "3.8.6"
  },
  "notify_time": "10",
  "toc": {
   "base_numbering": 1,
   "nav_menu": {},
   "number_sections": true,
   "sideBar": true,
   "skip_h1_title": false,
   "title_cell": "Table of Contents",
   "title_sidebar": "Contents",
   "toc_cell": false,
   "toc_position": {
    "height": "calc(100% - 180px)",
    "left": "10px",
    "top": "150px",
    "width": "190.391px"
   },
   "toc_section_display": true,
   "toc_window_display": true
  }
 },
 "nbformat": 4,
 "nbformat_minor": 4
}
