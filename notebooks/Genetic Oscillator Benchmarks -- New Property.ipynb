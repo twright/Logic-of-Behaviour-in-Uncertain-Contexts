{
 "cells": [
  {
   "cell_type": "code",
   "execution_count": 1,
   "metadata": {},
   "outputs": [
    {
     "name": "stderr",
     "output_type": "stream",
     "text": [
      "/home/twright/Drive/Documents/PhD/Notebooks/notebooks/genetic_oscillator_benchmarking.py:100: PyGIWarning: Notify was imported without specifying a version first. Use gi.require_version('Notify', '0.7') before import to ensure that the right version gets loaded.\n",
      "  from gi.repository import Notify\n"
     ]
    }
   ],
   "source": [
    "%matplotlib inline\n",
    "from genetic_oscillator_benchmarking_futures_four_core import *"
   ]
  },
  {
   "cell_type": "markdown",
   "metadata": {},
   "source": [
    "## Properties"
   ]
  },
  {
   "cell_type": "code",
   "execution_count": 2,
   "metadata": {
    "scrolled": true
   },
   "outputs": [
    {
     "data": {
      "text/plain": [
       "Atomic(x6 > 1)"
      ]
     },
     "execution_count": 2,
     "metadata": {},
     "output_type": "execute_result"
    }
   ],
   "source": [
    "P = Atomic(var(\"x6\") > 1)\n",
    "P"
   ]
  },
  {
   "cell_type": "code",
   "execution_count": 3,
   "metadata": {},
   "outputs": [],
   "source": [
    "def prop(k):\n",
    "    return (500/4)**2*(var(\"x4\") - 0.003)**2 + 3*(var(\"x6\") - 0.5)**2 < k"
   ]
  },
  {
   "cell_type": "code",
   "execution_count": 4,
   "metadata": {},
   "outputs": [
    {
     "data": {
      "text/plain": [
       "Atomic(15625.0*(x4 - 0.003)^2 + 3*(x6 - 0.5)^2 < 0.1)"
      ]
     },
     "execution_count": 4,
     "metadata": {},
     "output_type": "execute_result"
    }
   ],
   "source": [
    "Q = Atomic(prop(0.1)); Q"
   ]
  },
  {
   "cell_type": "code",
   "execution_count": 5,
   "metadata": {},
   "outputs": [],
   "source": [
    "I = RIF(2.5, 3)"
   ]
  },
  {
   "cell_type": "markdown",
   "metadata": {},
   "source": [
    "## Launch Runs"
   ]
  },
  {
   "cell_type": "code",
   "execution_count": 6,
   "metadata": {},
   "outputs": [],
   "source": [
    "num_runs = 4\n",
    "duration = 1.5"
   ]
  },
  {
   "cell_type": "code",
   "execution_count": 7,
   "metadata": {},
   "outputs": [
    {
     "name": "stderr",
     "output_type": "stream",
     "text": [
      "/usr/lib64/python3.8/multiprocessing/queues.py:116: DeprecationWarning: PY_SSIZE_T_CLEAN will be required for '#' formats\n",
      "  return _ForkingPickler.loads(res)\n"
     ]
    },
    {
     "name": "stdout",
     "output_type": "stream",
     "text": [
      "include_derivs = False\n"
     ]
    },
    {
     "name": "stderr",
     "output_type": "stream",
     "text": [
      "/usr/lib64/python3.8/multiprocessing/queues.py:116: DeprecationWarning: PY_SSIZE_T_CLEAN will be required for '#' formats\n",
      "  return _ForkingPickler.loads(res)\n"
     ]
    },
    {
     "name": "stdout",
     "output_type": "stream",
     "text": [
      "include_derivs = False\n"
     ]
    },
    {
     "name": "stderr",
     "output_type": "stream",
     "text": [
      "/usr/lib64/python3.8/multiprocessing/queues.py:116: DeprecationWarning: PY_SSIZE_T_CLEAN will be required for '#' formats\n",
      "  return _ForkingPickler.loads(res)\n"
     ]
    },
    {
     "name": "stdout",
     "output_type": "stream",
     "text": [
      "calling reach with y0 = ['[0.97999999999999998 .. 1.0200000000000001]', '[1.2799999999999998 .. 1.3200000000000001]', '[0.079999999999999987 .. 0.12000000000000001]', '[0.079999999999999987 .. 0.12000000000000001]', '[0.079999999999999987 .. 0.12000000000000001]', '[1.2799999999999998 .. 1.3200000000000001]', '[2.4799999999999999 .. 2.5200000000000001]', '[0.57999999999999996 .. 0.62000000000000011]', '[1.2799999999999998 .. 1.3200000000000001]']\n"
     ]
    },
    {
     "name": "stderr",
     "output_type": "stream",
     "text": [
      "/usr/lib64/python3.8/multiprocessing/queues.py:116: DeprecationWarning: PY_SSIZE_T_CLEAN will be required for '#' formats\n",
      "  return _ForkingPickler.loads(res)\n"
     ]
    },
    {
     "name": "stdout",
     "output_type": "stream",
     "text": [
      "ode in polynomial ring\n",
      "include_derivs = False\n",
      "calling reach with y0 = ['[0.97999999999999998 .. 1.0200000000000001]', '[1.2799999999999998 .. 1.3200000000000001]', '[0.079999999999999987 .. 0.12000000000000001]', '[0.079999999999999987 .. 0.12000000000000001]', '[0.079999999999999987 .. 0.12000000000000001]', '[1.2799999999999998 .. 1.3200000000000001]', '[2.4799999999999999 .. 2.5200000000000001]', '[0.57999999999999996 .. 0.62000000000000011]', '[1.2799999999999998 .. 1.3200000000000001]']\n",
      "crude_roots = False\n",
      "include_derivs = False\n",
      "calling reach with y0 = ['[0.97999999999999998 .. 1.0200000000000001]', '[1.2799999999999998 .. 1.3200000000000001]', '[0.079999999999999987 .. 0.12000000000000001]', '[0.079999999999999987 .. 0.12000000000000001]', '[0.079999999999999987 .. 0.12000000000000001]', '[1.2799999999999998 .. 1.3200000000000001]', '[2.4799999999999999 .. 2.5200000000000001]', '[0.57999999999999996 .. 0.62000000000000011]', '[1.2799999999999998 .. 1.3200000000000001]']\n",
      "ode in polynomial ring\n",
      "crude_roots = False\n",
      "calling reach with y0 = ['[0.97999999999999998 .. 1.0200000000000001]', '[1.2799999999999998 .. 1.3200000000000001]', '[0.079999999999999987 .. 0.12000000000000001]', '[0.079999999999999987 .. 0.12000000000000001]', '[0.079999999999999987 .. 0.12000000000000001]', '[1.2799999999999998 .. 1.3200000000000001]', '[2.4799999999999999 .. 2.5200000000000001]', '[0.57999999999999996 .. 0.62000000000000011]', '[1.2799999999999998 .. 1.3200000000000001]']\n",
      "ode in polynomial ring\n",
      "_handle_initials called!\n",
      "ode in polynomial ring\n",
      "vars = [x1, x2, x3, x4, x5, x6, x7, x8, x9]\n",
      "crude_roots = False\n",
      "crude_roots = False\n",
      "_handle_initials called!\n",
      "vars = [x1, x2, x3, x4, x5, x6, x7, x8, x9]\n",
      "C = [0.98..1.02]\n",
      "_handle_initials called!\n",
      "vars = [x1, x2, x3, x4, x5, x6, x7, x8, x9]\n",
      "C = [1.2799999999999998..1.32]\n",
      "C = [0.98..1.02]\n",
      "_handle_initials called!\n",
      "vars = [x1, x2, x3, x4, x5, x6, x7, x8, x9]\n",
      "C = [1.2799999999999998..1.32]\n",
      "C = [0.98..1.02]\n",
      "C = [0.07999999999999999..0.12000000000000001]\n",
      "C = [0.98..1.02]\n",
      "C = [0.07999999999999999..0.12000000000000001]\n",
      "C = [0.07999999999999999..0.12000000000000001]\n",
      "C = [1.2799999999999998..1.32]\n",
      "C = [0.07999999999999999..0.12000000000000001]\n",
      "C = [0.07999999999999999..0.12000000000000001]\n",
      "C = [1.2799999999999998..1.32]\n",
      "C = [0.07999999999999999..0.12000000000000001]\n",
      "C = [0.07999999999999999..0.12000000000000001]\n",
      "C = [1.2799999999999998..1.32]\n",
      "C = [0.07999999999999999..0.12000000000000001]\n",
      "C = [1.2799999999999998..1.32]\n",
      "C = [0.07999999999999999..0.12000000000000001]\n",
      "C = [0.07999999999999999..0.12000000000000001]\n",
      "C = [2.48..2.52]\n",
      "C = [2.48..2.52]\n",
      "C = [0.07999999999999999..0.12000000000000001]\n",
      "C = [0.07999999999999999..0.12000000000000001]\n",
      "C = [0.58..0.6200000000000001]\n",
      "C = [1.2799999999999998..1.32]\n",
      "C = [0.58..0.6200000000000001]\n",
      "C = [1.2799999999999998..1.32]\n",
      "C = [1.2799999999999998..1.32]\n",
      "C = [1.2799999999999998..1.32]\n",
      "assigning system with dimension 9\n",
      "resulting system has dimension 9\n",
      "C = [2.48..2.52]\n",
      "assigning system with dimension 9\n",
      "C = [2.48..2.52]\n",
      "unpreconditioning_orders = [-1, -1, -1, 4, -1, 4, -1, -1, -1]\n",
      "C = [0.58..0.6200000000000001]\n",
      "C = [0.58..0.6200000000000001]\n",
      "resulting system has dimension 9\n",
      "assigning system with dimension 9\n",
      "C = [1.2799999999999998..1.32]\n",
      "unpreconditioning_orders = [-1, -1, -1, 4, -1, 4, -1, -1, -1]\n",
      "C = [1.2799999999999998..1.32]\n",
      "run within tmv args\n",
      "assigning system with dimension 9\n",
      "resulting system has dimension 9\n",
      "integrationScheme = 7\n",
      "run within tmv args\n",
      "resulting system has dimension 9\n",
      "integrationScheme = 7\n",
      "unpreconditioning_orders = [-1, -1, -1, 4, -1, 4, -1, -1, -1]\n",
      "unpreconditioning_orders = [-1, -1, -1, 4, -1, 4, -1, -1, -1]\n",
      "run within tmv args\n",
      "run within tmv args\n",
      "integrationScheme = 7\n",
      "integrationScheme = 7\n",
      "Computed 1501 flowpipes in 107.57348045601975 sec\n",
      "Computed 1501 flowpipes in 108.2870064410381 sec\n",
      "Computed 1501 flowpipes in 109.82572709105443 sec\n",
      "PolyObserver(x6 - 1, <flowstar.reachability.Reach object at 0x7fd36a2b5370>, -0.10000000000000000?*x1*x6 - x2*x6 - 2*x6*x8 + 50*x3 + 100*x4 + 50*x5 - x6, symbolic_composition=True, symbolic_composition_order=4, tentative_unpreconditioning=True, mask=None)\n",
      "fprime = -0.10000000000000000?*x1*x6 - x2*x6 - 2*x6*x8 + 50*x3 + 100*x4 + 50*x5 - x6\n",
      "symbolic_composition=True,symbolic_composition_order=4, tentative_unpreconditioning=True,two_pass_masks=False\n",
      "roots(space_domain=None, epsilon=1e-05, verbosity=0)\n",
      "Computed 1501 flowpipes in 110.32313697901554 sec\n",
      "PolyObserver(x6 - 1, <flowstar.reachability.Reach object at 0x7fd36a2b5370>, -0.10000000000000000?*x1*x6 - x2*x6 - 2*x6*x8 + 50*x3 + 100*x4 + 50*x5 - x6, symbolic_composition=True, symbolic_composition_order=4, tentative_unpreconditioning=True, mask=None)\n",
      "fprime = -0.10000000000000000?*x1*x6 - x2*x6 - 2*x6*x8 + 50*x3 + 100*x4 + 50*x5 - x6\n",
      "symbolic_composition=True,symbolic_composition_order=4, tentative_unpreconditioning=True,two_pass_masks=False\n",
      "roots(space_domain=None, epsilon=1e-05, verbosity=0)\n",
      "PolyObserver(x6 - 1, <flowstar.reachability.Reach object at 0x7fd36a2b5370>, -0.10000000000000000?*x1*x6 - x2*x6 - 2*x6*x8 + 50*x3 + 100*x4 + 50*x5 - x6, symbolic_composition=True, symbolic_composition_order=4, tentative_unpreconditioning=True, mask=None)\n",
      "fprime = -0.10000000000000000?*x1*x6 - x2*x6 - 2*x6*x8 + 50*x3 + 100*x4 + 50*x5 - x6\n",
      "symbolic_composition=True,symbolic_composition_order=4, tentative_unpreconditioning=True,two_pass_masks=False\n",
      "roots(space_domain=None, epsilon=1e-05, verbosity=0)\n",
      "PolyObserver(x6 - 1, <flowstar.reachability.Reach object at 0x7fd36a2b5370>, -0.10000000000000000?*x1*x6 - x2*x6 - 2*x6*x8 + 50*x3 + 100*x4 + 50*x5 - x6, symbolic_composition=True, symbolic_composition_order=4, tentative_unpreconditioning=True, mask=None)\n",
      "fprime = -0.10000000000000000?*x1*x6 - x2*x6 - 2*x6*x8 + 50*x3 + 100*x4 + 50*x5 - x6\n",
      "symbolic_composition=True,symbolic_composition_order=4, tentative_unpreconditioning=True,two_pass_masks=False\n",
      "roots(space_domain=None, epsilon=1e-05, verbosity=0)\n",
      "top-level root detection: 1 items in 13.77 seconds\n",
      "roots = [[0.89947017268536377 .. 1.2422917684744149]]\n",
      "domain = [0.0000000000000000 .. 4.5020000000000007]\n",
      "roots = [[0.89947017268536377 .. 1.2422917684744149]]\n",
      "roots = [[0.89947017268536377 .. 1.2422917684744149]]\n",
      "seg_domain = [0.0000000000000000 .. 4.5020000000000007]\n",
      "signal given bool roots: 1 items in 0.01 seconds\n",
      "PolyObserver(-15625*x4^2 - 3*x6^2 + 93.75000000000001?*x4 + 3*x6 - 0.790625000000000?, <flowstar.reachability.Reach object at 0x7fd36a2b5370>, -31250*x2*x4*x6 + 0.600000000000000?*x1*x6^2 + 6*x2*x6^2 + 12*x6^2*x8 + 3125000*x4^2 - 0.3000000000000000?*x1*x6 + 90.750000000000000?*x2*x6 - 300*x3*x6 - 600*x4*x6 - 300*x5*x6 + 6*x6^2 - 6*x6*x8 + 150*x3 - 9075*x4 + 150*x5 - 3*x6, symbolic_composition=True, symbolic_composition_order=4, tentative_unpreconditioning=True, mask=None)\n",
      "fprime = -31250*x2*x4*x6 + 0.600000000000000?*x1*x6^2 + 6*x2*x6^2 + 12*x6^2*x8 + 3125000*x4^2 - 0.3000000000000000?*x1*x6 + 90.750000000000000?*x2*x6 - 300*x3*x6 - 600*x4*x6 - 300*x5*x6 + 6*x6^2 - 6*x6*x8 + 150*x3 - 9075*x4 + 150*x5 - 3*x6\n",
      "symbolic_composition=True,symbolic_composition_order=4, tentative_unpreconditioning=True,two_pass_masks=False\n",
      "roots(space_domain=None, epsilon=1e-05, verbosity=0)\n",
      "top-level root detection: 1 items in 15.12 seconds\n",
      "roots = [[0.89947017268536377 .. 1.2422917684744149]]\n",
      "domain = [0.0000000000000000 .. 4.5020000000000007]\n",
      "roots = [[0.89947017268536377 .. 1.2422917684744149]]\n",
      "seg_domain = [0.0000000000000000 .. 4.5020000000000007]\n",
      "roots = [[0.89947017268536377 .. 1.2422917684744149]]\n",
      "signal given bool roots: 1 items in 0.01 seconds\n",
      "PolyObserver(-15625*x4^2 - 3*x6^2 + 93.75000000000001?*x4 + 3*x6 - 0.790625000000000?, <flowstar.reachability.Reach object at 0x7fd36a2b5370>, -31250*x2*x4*x6 + 0.600000000000000?*x1*x6^2 + 6*x2*x6^2 + 12*x6^2*x8 + 3125000*x4^2 - 0.3000000000000000?*x1*x6 + 90.750000000000000?*x2*x6 - 300*x3*x6 - 600*x4*x6 - 300*x5*x6 + 6*x6^2 - 6*x6*x8 + 150*x3 - 9075*x4 + 150*x5 - 3*x6, symbolic_composition=True, symbolic_composition_order=4, tentative_unpreconditioning=True, mask=None)\n",
      "fprime = -31250*x2*x4*x6 + 0.600000000000000?*x1*x6^2 + 6*x2*x6^2 + 12*x6^2*x8 + 3125000*x4^2 - 0.3000000000000000?*x1*x6 + 90.750000000000000?*x2*x6 - 300*x3*x6 - 600*x4*x6 - 300*x5*x6 + 6*x6^2 - 6*x6*x8 + 150*x3 - 9075*x4 + 150*x5 - 3*x6\n"
     ]
    },
    {
     "name": "stdout",
     "output_type": "stream",
     "text": [
      "symbolic_composition=True,symbolic_composition_order=4, tentative_unpreconditioning=True,two_pass_masks=False\n",
      "roots(space_domain=None, epsilon=1e-05, verbosity=0)\n",
      "top-level root detection: 1 items in 12.67 seconds\n",
      "roots = [[0.89947017268536377 .. 1.2422917684744149]]\n",
      "domain = [0.0000000000000000 .. 4.5020000000000007]\n",
      "roots = [[0.89947017268536377 .. 1.2422917684744149]]\n",
      "seg_domain = [0.0000000000000000 .. 4.5020000000000007]\n",
      "roots = [[0.89947017268536377 .. 1.2422917684744149]]\n",
      "signal given bool roots: 1 items in 0.01 seconds\n",
      "PolyObserver(-15625*x4^2 - 3*x6^2 + 93.75000000000001?*x4 + 3*x6 - 0.790625000000000?, <flowstar.reachability.Reach object at 0x7fd36a2b5370>, -31250*x2*x4*x6 + 0.600000000000000?*x1*x6^2 + 6*x2*x6^2 + 12*x6^2*x8 + 3125000*x4^2 - 0.3000000000000000?*x1*x6 + 90.750000000000000?*x2*x6 - 300*x3*x6 - 600*x4*x6 - 300*x5*x6 + 6*x6^2 - 6*x6*x8 + 150*x3 - 9075*x4 + 150*x5 - 3*x6, symbolic_composition=True, symbolic_composition_order=4, tentative_unpreconditioning=True, mask=None)\n",
      "fprime = -31250*x2*x4*x6 + 0.600000000000000?*x1*x6^2 + 6*x2*x6^2 + 12*x6^2*x8 + 3125000*x4^2 - 0.3000000000000000?*x1*x6 + 90.750000000000000?*x2*x6 - 300*x3*x6 - 600*x4*x6 - 300*x5*x6 + 6*x6^2 - 6*x6*x8 + 150*x3 - 9075*x4 + 150*x5 - 3*x6\n",
      "symbolic_composition=True,symbolic_composition_order=4, tentative_unpreconditioning=True,two_pass_masks=False\n",
      "roots(space_domain=None, epsilon=1e-05, verbosity=0)\n",
      "top-level root detection: 1 items in 13.50 seconds\n",
      "roots = [[0.89947017268536377 .. 1.2422917684744149]]\n",
      "domain = [0.0000000000000000 .. 4.5020000000000007]\n",
      "roots = [[0.89947017268536377 .. 1.2422917684744149]]\n",
      "seg_domain = [0.0000000000000000 .. 4.5020000000000007]\n",
      "roots = [[0.89947017268536377 .. 1.2422917684744149]]\n",
      "signal given bool roots: 1 items in 0.02 seconds\n",
      "PolyObserver(-15625*x4^2 - 3*x6^2 + 93.75000000000001?*x4 + 3*x6 - 0.790625000000000?, <flowstar.reachability.Reach object at 0x7fd36a2b5370>, -31250*x2*x4*x6 + 0.600000000000000?*x1*x6^2 + 6*x2*x6^2 + 12*x6^2*x8 + 3125000*x4^2 - 0.3000000000000000?*x1*x6 + 90.750000000000000?*x2*x6 - 300*x3*x6 - 600*x4*x6 - 300*x5*x6 + 6*x6^2 - 6*x6*x8 + 150*x3 - 9075*x4 + 150*x5 - 3*x6, symbolic_composition=True, symbolic_composition_order=4, tentative_unpreconditioning=True, mask=None)\n",
      "fprime = -31250*x2*x4*x6 + 0.600000000000000?*x1*x6^2 + 6*x2*x6^2 + 12*x6^2*x8 + 3125000*x4^2 - 0.3000000000000000?*x1*x6 + 90.750000000000000?*x2*x6 - 300*x3*x6 - 600*x4*x6 - 300*x5*x6 + 6*x6^2 - 6*x6*x8 + 150*x3 - 9075*x4 + 150*x5 - 3*x6\n",
      "symbolic_composition=True,symbolic_composition_order=4, tentative_unpreconditioning=True,two_pass_masks=False\n",
      "roots(space_domain=None, epsilon=1e-05, verbosity=0)\n"
     ]
    },
    {
     "ename": "KeyboardInterrupt",
     "evalue": "",
     "output_type": "error",
     "traceback": [
      "\u001b[0;31m---------------------------------------------------------------------------\u001b[0m",
      "\u001b[0;31mKeyboardInterrupt\u001b[0m                         Traceback (most recent call last)",
      "\u001b[0;32m/usr/lib64/python3.8/contextlib.py\u001b[0m in \u001b[0;36m__exit__\u001b[0;34m(self, type, value, traceback)\u001b[0m\n\u001b[1;32m    115\u001b[0m             \u001b[0;32mraise\u001b[0m \u001b[0mRuntimeError\u001b[0m\u001b[0;34m(\u001b[0m\u001b[0;34m\"generator didn't yield\"\u001b[0m\u001b[0;34m)\u001b[0m \u001b[0;32mfrom\u001b[0m \u001b[0;32mNone\u001b[0m\u001b[0;34m\u001b[0m\u001b[0;34m\u001b[0m\u001b[0m\n\u001b[1;32m    116\u001b[0m \u001b[0;34m\u001b[0m\u001b[0m\n\u001b[0;32m--> 117\u001b[0;31m     \u001b[0;32mdef\u001b[0m \u001b[0m__exit__\u001b[0m\u001b[0;34m(\u001b[0m\u001b[0mself\u001b[0m\u001b[0;34m,\u001b[0m \u001b[0mtype\u001b[0m\u001b[0;34m,\u001b[0m \u001b[0mvalue\u001b[0m\u001b[0;34m,\u001b[0m \u001b[0mtraceback\u001b[0m\u001b[0;34m)\u001b[0m\u001b[0;34m:\u001b[0m\u001b[0;34m\u001b[0m\u001b[0;34m\u001b[0m\u001b[0m\n\u001b[0m\u001b[1;32m    118\u001b[0m         \u001b[0;32mif\u001b[0m \u001b[0mtype\u001b[0m \u001b[0;32mis\u001b[0m \u001b[0;32mNone\u001b[0m\u001b[0;34m:\u001b[0m\u001b[0;34m\u001b[0m\u001b[0;34m\u001b[0m\u001b[0m\n\u001b[1;32m    119\u001b[0m             \u001b[0;32mtry\u001b[0m\u001b[0;34m:\u001b[0m\u001b[0;34m\u001b[0m\u001b[0;34m\u001b[0m\u001b[0m\n",
      "\u001b[0;31mKeyboardInterrupt\u001b[0m: "
     ]
    },
    {
     "name": "stderr",
     "output_type": "stream",
     "text": [
      "Exception ignored in: 'flowstar.reachability.CReach.compose_flowpipe'\n",
      "Traceback (most recent call last):\n",
      "  File \"/usr/lib64/python3.8/contextlib.py\", line 117, in __exit__\n",
      "    def __exit__(self, type, value, traceback):\n",
      "KeyboardInterrupt: \n"
     ]
    },
    {
     "ename": "KeyboardInterrupt",
     "evalue": "",
     "output_type": "error",
     "traceback": [
      "\u001b[0;31m---------------------------------------------------------------------------\u001b[0m",
      "\u001b[0;31mKeyboardInterrupt\u001b[0m                         Traceback (most recent call last)",
      "\u001b[0;32m/usr/lib64/python3.8/contextlib.py\u001b[0m in \u001b[0;36m__exit__\u001b[0;34m(self, type, value, traceback)\u001b[0m\n\u001b[1;32m    115\u001b[0m             \u001b[0;32mraise\u001b[0m \u001b[0mRuntimeError\u001b[0m\u001b[0;34m(\u001b[0m\u001b[0;34m\"generator didn't yield\"\u001b[0m\u001b[0;34m)\u001b[0m \u001b[0;32mfrom\u001b[0m \u001b[0;32mNone\u001b[0m\u001b[0;34m\u001b[0m\u001b[0;34m\u001b[0m\u001b[0m\n\u001b[1;32m    116\u001b[0m \u001b[0;34m\u001b[0m\u001b[0m\n\u001b[0;32m--> 117\u001b[0;31m     \u001b[0;32mdef\u001b[0m \u001b[0m__exit__\u001b[0m\u001b[0;34m(\u001b[0m\u001b[0mself\u001b[0m\u001b[0;34m,\u001b[0m \u001b[0mtype\u001b[0m\u001b[0;34m,\u001b[0m \u001b[0mvalue\u001b[0m\u001b[0;34m,\u001b[0m \u001b[0mtraceback\u001b[0m\u001b[0;34m)\u001b[0m\u001b[0;34m:\u001b[0m\u001b[0;34m\u001b[0m\u001b[0;34m\u001b[0m\u001b[0m\n\u001b[0m\u001b[1;32m    118\u001b[0m         \u001b[0;32mif\u001b[0m \u001b[0mtype\u001b[0m \u001b[0;32mis\u001b[0m \u001b[0;32mNone\u001b[0m\u001b[0;34m:\u001b[0m\u001b[0;34m\u001b[0m\u001b[0;34m\u001b[0m\u001b[0m\n\u001b[1;32m    119\u001b[0m             \u001b[0;32mtry\u001b[0m\u001b[0;34m:\u001b[0m\u001b[0;34m\u001b[0m\u001b[0;34m\u001b[0m\u001b[0m\n",
      "\u001b[0;31mKeyboardInterrupt\u001b[0m: "
     ]
    },
    {
     "name": "stderr",
     "output_type": "stream",
     "text": [
      "Exception ignored in: 'flowstar.observers.FunctionObserver.c_roots'\n",
      "Traceback (most recent call last):\n",
      "  File \"/usr/lib64/python3.8/contextlib.py\", line 117, in __exit__\n",
      "    def __exit__(self, type, value, traceback):\n",
      "KeyboardInterrupt: \n"
     ]
    },
    {
     "name": "stdout",
     "output_type": "stream",
     "text": [
      "top-level root detection: 1 items in 32.18 seconds\n",
      "roots = []\n",
      "domain = [0.0000000000000000 .. 4.5020000000000007]\n",
      "roots = []\n",
      "seg_domain = [0.0000000000000000 .. 4.5020000000000007]\n",
      "roots = []\n"
     ]
    },
    {
     "ename": "KeyboardInterrupt",
     "evalue": "",
     "output_type": "error",
     "traceback": [
      "\u001b[0;31m---------------------------------------------------------------------------\u001b[0m",
      "\u001b[0;31mKeyboardInterrupt\u001b[0m                         Traceback (most recent call last)",
      "\u001b[0;32m/usr/lib64/python3.8/contextlib.py\u001b[0m in \u001b[0;36m__exit__\u001b[0;34m(self, type, value, traceback)\u001b[0m\n\u001b[1;32m    115\u001b[0m             \u001b[0;32mraise\u001b[0m \u001b[0mRuntimeError\u001b[0m\u001b[0;34m(\u001b[0m\u001b[0;34m\"generator didn't yield\"\u001b[0m\u001b[0;34m)\u001b[0m \u001b[0;32mfrom\u001b[0m \u001b[0;32mNone\u001b[0m\u001b[0;34m\u001b[0m\u001b[0;34m\u001b[0m\u001b[0m\n\u001b[1;32m    116\u001b[0m \u001b[0;34m\u001b[0m\u001b[0m\n\u001b[0;32m--> 117\u001b[0;31m     \u001b[0;32mdef\u001b[0m \u001b[0m__exit__\u001b[0m\u001b[0;34m(\u001b[0m\u001b[0mself\u001b[0m\u001b[0;34m,\u001b[0m \u001b[0mtype\u001b[0m\u001b[0;34m,\u001b[0m \u001b[0mvalue\u001b[0m\u001b[0;34m,\u001b[0m \u001b[0mtraceback\u001b[0m\u001b[0;34m)\u001b[0m\u001b[0;34m:\u001b[0m\u001b[0;34m\u001b[0m\u001b[0;34m\u001b[0m\u001b[0m\n\u001b[0m\u001b[1;32m    118\u001b[0m         \u001b[0;32mif\u001b[0m \u001b[0mtype\u001b[0m \u001b[0;32mis\u001b[0m \u001b[0;32mNone\u001b[0m\u001b[0;34m:\u001b[0m\u001b[0;34m\u001b[0m\u001b[0;34m\u001b[0m\u001b[0m\n\u001b[1;32m    119\u001b[0m             \u001b[0;32mtry\u001b[0m\u001b[0;34m:\u001b[0m\u001b[0;34m\u001b[0m\u001b[0;34m\u001b[0m\u001b[0m\n",
      "\u001b[0;31mKeyboardInterrupt\u001b[0m: "
     ]
    },
    {
     "name": "stderr",
     "output_type": "stream",
     "text": [
      "Exception ignored in: 'flowstar.observers.FunctionObserver.c_roots'\n",
      "Traceback (most recent call last):\n",
      "  File \"/usr/lib64/python3.8/contextlib.py\", line 117, in __exit__\n",
      "    def __exit__(self, type, value, traceback):\n",
      "KeyboardInterrupt: \n"
     ]
    },
    {
     "name": "stdout",
     "output_type": "stream",
     "text": [
      "top-level root detection: 1 items in 31.39 seconds\n",
      "roots = []\n",
      "domain = [0.0000000000000000 .. 4.5020000000000007]\n",
      "roots = []\n",
      "seg_domain = [0.0000000000000000 .. 4.5020000000000007]\n",
      "roots = []\n"
     ]
    },
    {
     "ename": "KeyboardInterrupt",
     "evalue": "",
     "output_type": "error",
     "traceback": [
      "\u001b[0;31m---------------------------------------------------------------------------\u001b[0m",
      "\u001b[0;31mKeyboardInterrupt\u001b[0m                         Traceback (most recent call last)",
      "\u001b[0;32m/usr/lib64/python3.8/contextlib.py\u001b[0m in \u001b[0;36m__exit__\u001b[0;34m(self, type, value, traceback)\u001b[0m\n\u001b[1;32m    115\u001b[0m             \u001b[0;32mraise\u001b[0m \u001b[0mRuntimeError\u001b[0m\u001b[0;34m(\u001b[0m\u001b[0;34m\"generator didn't yield\"\u001b[0m\u001b[0;34m)\u001b[0m \u001b[0;32mfrom\u001b[0m \u001b[0;32mNone\u001b[0m\u001b[0;34m\u001b[0m\u001b[0;34m\u001b[0m\u001b[0m\n\u001b[1;32m    116\u001b[0m \u001b[0;34m\u001b[0m\u001b[0m\n\u001b[0;32m--> 117\u001b[0;31m     \u001b[0;32mdef\u001b[0m \u001b[0m__exit__\u001b[0m\u001b[0;34m(\u001b[0m\u001b[0mself\u001b[0m\u001b[0;34m,\u001b[0m \u001b[0mtype\u001b[0m\u001b[0;34m,\u001b[0m \u001b[0mvalue\u001b[0m\u001b[0;34m,\u001b[0m \u001b[0mtraceback\u001b[0m\u001b[0;34m)\u001b[0m\u001b[0;34m:\u001b[0m\u001b[0;34m\u001b[0m\u001b[0;34m\u001b[0m\u001b[0m\n\u001b[0m\u001b[1;32m    118\u001b[0m         \u001b[0;32mif\u001b[0m \u001b[0mtype\u001b[0m \u001b[0;32mis\u001b[0m \u001b[0;32mNone\u001b[0m\u001b[0;34m:\u001b[0m\u001b[0;34m\u001b[0m\u001b[0;34m\u001b[0m\u001b[0m\n\u001b[1;32m    119\u001b[0m             \u001b[0;32mtry\u001b[0m\u001b[0;34m:\u001b[0m\u001b[0;34m\u001b[0m\u001b[0;34m\u001b[0m\u001b[0m\n",
      "\u001b[0;31mKeyboardInterrupt\u001b[0m: "
     ]
    },
    {
     "name": "stderr",
     "output_type": "stream",
     "text": [
      "Exception ignored in: 'flowstar.observers.FunctionObserver.c_roots'\n",
      "Traceback (most recent call last):\n",
      "  File \"/usr/lib64/python3.8/contextlib.py\", line 117, in __exit__\n",
      "    def __exit__(self, type, value, traceback):\n",
      "KeyboardInterrupt: \n"
     ]
    },
    {
     "name": "stdout",
     "output_type": "stream",
     "text": [
      "top-level root detection: 1 items in 31.98 seconds\n",
      "roots = []\n",
      "domain = [0.0000000000000000 .. 4.5020000000000007]\n",
      "roots = []\n",
      "seg_domain = [0.0000000000000000 .. 4.5020000000000007]\n",
      "roots = []\n",
      "signal given bool roots: 1 items in 0.57 seconds\n",
      "ran \"Precomposing Contexts\" 1 times in 0.0002651214599609375\n",
      "ran \"restoring globals\" 16 times in 0.0014979839324951172\n",
      "ran \"capturing globals [on exit]\" 16 times in 0.0007164478302001953\n",
      "ran \"Running Flow*\" 1 times in 107.568767786026\n",
      "ran \"mask intersect check\" 2178 times in 0.006644487380981445\n",
      "ran \"tentative eval\" 2028 times in 3.69199800491333\n",
      "ran \"composing flowpipe\" 423 times in 15.529762268066406\n",
      "ran \"whole domain eval\" 422 times in 0.5424151420593262\n",
      "ran \"post retrieve\" 216 times in 26.93405318260193\n",
      "ran \"root detection\" 216 times in 0.02021932601928711\n",
      "ran \"root amalgamation\" 216 times in 0.0007457733154296875\n",
      "ran \"prepare in check\" 3 times in 2.6941299438476562e-05\n",
      "ran \"check boolean [unguarded]\" 3 times in 0.5492391586303711\n",
      "ran \"observer.check\" 3 times in 0.5495204925537109\n",
      "ran \"Monitoring atomic x6 > 1\" 1 times in 15.130252361297607\n",
      "ran \"Monitoring atomic 15625.0*(x4 - 0.003)^2 + 3*(x6 - 0.5)^2 < 0.1\" 1 times in 32.770161390304565\n",
      "ran \"Monitoring Signal for x6 > 1 | F([2.5000000000000000 .. 3.0000000000000000], 15625.0*(x4 - 0.003)^2 + 3*(x6 - 0.5)^2 < 0.1)\" 1 times in 50.37965130805969\n",
      "Run done in 158.123694896698 sec\n",
      "options: {'instrumentor': <flowstar.instrumentation.AggregateMetric object at 0x7fd36a20f1c0>, 'use_masks': False, 'symbolic_composition': True}\n",
      "signal given bool roots: 1 items in 0.65 seconds\n",
      "ran \"Precomposing Contexts\" 1 times in 0.00017952919006347656\n",
      "ran \"restoring globals\" 16 times in 0.0014803409576416016\n",
      "ran \"capturing globals [on exit]\" 16 times in 0.0006840229034423828\n",
      "ran \"Running Flow*\" 1 times in 109.82117533683777\n",
      "ran \"mask intersect check\" 2176 times in 0.005700826644897461\n",
      "ran \"tentative eval\" 2026 times in 2.8553273677825928\n",
      "ran \"composing flowpipe\" 421 times in 14.752971649169922\n",
      "ran \"whole domain eval\" 420 times in 0.4812591075897217\n",
      "ran \"post retrieve\" 214 times in 26.304089784622192\n",
      "ran \"root detection\" 214 times in 0.010504722595214844\n",
      "ran \"root amalgamation\" 214 times in 0.0007607936859130859\n",
      "ran \"prepare in check\" 3 times in 3.266334533691406e-05\n",
      "ran \"check boolean [unguarded]\" 3 times in 0.6177783012390137\n",
      "ran \"observer.check\" 3 times in 0.6181292533874512\n",
      "ran \"Monitoring atomic x6 > 1\" 1 times in 13.533442974090576\n",
      "ran \"Monitoring atomic 15625.0*(x4 - 0.003)^2 + 3*(x6 - 0.5)^2 < 0.1\" 1 times in 32.044169664382935\n",
      "ran \"Monitoring Signal for x6 > 1 | F([2.5000000000000000 .. 3.0000000000000000], 15625.0*(x4 - 0.003)^2 + 3*(x6 - 0.5)^2 < 0.1)\" 1 times in 48.22140693664551\n",
      "Run done in 158.24880504608154 sec\n",
      "options: {'instrumentor': <flowstar.instrumentation.AggregateMetric object at 0x7fd36a20d540>, 'use_masks': False, 'symbolic_composition': True}\n",
      "include_derivs = False\n",
      "calling reach with y0 = ['[0.97999999999999998 .. 1.0200000000000001]', '[1.2799999999999998 .. 1.3200000000000001]', '[0.079999999999999987 .. 0.12000000000000001]', '[0.079999999999999987 .. 0.12000000000000001]', '[0.079999999999999987 .. 0.12000000000000001]', '[1.2799999999999998 .. 1.3200000000000001]', '[2.4799999999999999 .. 2.5200000000000001]', '[0.57999999999999996 .. 0.62000000000000011]', '[1.2799999999999998 .. 1.3200000000000001]']\n",
      "ode in polynomial ring\n",
      "crude_roots = False\n",
      "_handle_initials called!\n",
      "vars = [x1, x2, x3, x4, x5, x6, x7, x8, x9]\n",
      "signal given bool roots: 1 items in 0.54 seconds\n",
      "ran \"Precomposing Contexts\" 1 times in 0.0002961158752441406\n",
      "ran \"restoring globals\" 16 times in 0.0016286373138427734\n",
      "C = [0.98..1.02]\n",
      "C = [1.2799999999999998..1.32]\n",
      "ran \"capturing globals [on exit]\" 16 times in 0.0008139610290527344\n",
      "C = [0.07999999999999999..0.12000000000000001]\n",
      "ran \"Running Flow*\" 1 times in 110.31571102142334\n",
      "C = [0.07999999999999999..0.12000000000000001]\n",
      "C = [0.07999999999999999..0.12000000000000001]\n",
      "ran \"mask intersect check\" 2190 times in 0.005826711654663086\n",
      "C = [1.2799999999999998..1.32]\n",
      "ran \"tentative eval\" 2040 times in 2.7221977710723877\n",
      "C = [2.48..2.52]\n",
      "ran \"composing flowpipe\" 435 times in 14.28186297416687\n",
      "ran \"whole domain eval\" 434 times in 0.4688994884490967\n",
      "C = [0.58..0.6200000000000001]\n",
      "ran \"post retrieve\" 228 times in 26.57076382637024\n",
      "C = [1.2799999999999998..1.32]\n",
      "ran \"root detection\" 228 times in 0.016701936721801758\n",
      "assigning system with dimension 9\n",
      "resulting system has dimension 9\n",
      "unpreconditioning_orders = [-1, -1, -1, 4, -1, 4, -1, -1, -1]\n",
      "ran \"root amalgamation\" 228 times in 0.0007472038269042969\n",
      "ran \"prepare in check\" 3 times in 3.123283386230469e-05\n",
      "ran \"check boolean [unguarded]\" 3 times in 0.5013675689697266\n",
      "run within tmv args\n",
      "ran \"observer.check\" 3 times in 0.5016787052154541\n",
      "integrationScheme = 7\n",
      "ran \"Monitoring atomic x6 > 1\" 1 times in 12.697635412216187\n",
      "ran \"Monitoring atomic 15625.0*(x4 - 0.003)^2 + 3*(x6 - 0.5)^2 < 0.1\" 1 times in 32.55557560920715\n",
      "ran \"Monitoring Signal for x6 > 1 | F([2.5000000000000000 .. 3.0000000000000000], 15625.0*(x4 - 0.003)^2 + 3*(x6 - 0.5)^2 < 0.1)\" 1 times in 47.85274362564087\n",
      "Run done in 158.3826766014099 sec\n",
      "options: {'instrumentor': <flowstar.instrumentation.AggregateMetric object at 0x7fd36a20d380>, 'use_masks': False, 'symbolic_composition': True}\n",
      "include_derivs = False\n",
      "calling reach with y0 = ['[0.97999999999999998 .. 1.0200000000000001]', '[1.2799999999999998 .. 1.3200000000000001]', '[0.079999999999999987 .. 0.12000000000000001]', '[0.079999999999999987 .. 0.12000000000000001]', '[0.079999999999999987 .. 0.12000000000000001]', '[1.2799999999999998 .. 1.3200000000000001]', '[2.4799999999999999 .. 2.5200000000000001]', '[0.57999999999999996 .. 0.62000000000000011]', '[1.2799999999999998 .. 1.3200000000000001]']\n",
      "ode in polynomial ring\n",
      "crude_roots = False\n",
      "_handle_initials called!\n",
      "vars = [x1, x2, x3, x4, x5, x6, x7, x8, x9]\n",
      "C = [0.98..1.02]\n",
      "C = [1.2799999999999998..1.32]\n",
      "C = [0.07999999999999999..0.12000000000000001]\n",
      "C = [0.07999999999999999..0.12000000000000001]\n",
      "C = [0.07999999999999999..0.12000000000000001]\n",
      "C = [1.2799999999999998..1.32]\n",
      "C = [2.48..2.52]\n",
      "C = [0.58..0.6200000000000001]\n",
      "C = [1.2799999999999998..1.32]\n",
      "assigning system with dimension 9\n",
      "resulting system has dimension 9\n",
      "unpreconditioning_orders = [-1, -1, -1, 4, -1, 4, -1, -1, -1]\n",
      "run within tmv args\n",
      "integrationScheme = 7\n",
      "include_derivs = False\n",
      "calling reach with y0 = ['[0.97999999999999998 .. 1.0200000000000001]', '[1.2799999999999998 .. 1.3200000000000001]', '[0.079999999999999987 .. 0.12000000000000001]', '[0.079999999999999987 .. 0.12000000000000001]', '[0.079999999999999987 .. 0.12000000000000001]', '[1.2799999999999998 .. 1.3200000000000001]', '[2.4799999999999999 .. 2.5200000000000001]', '[0.57999999999999996 .. 0.62000000000000011]', '[1.2799999999999998 .. 1.3200000000000001]']\n",
      "ode in polynomial ring\n",
      "crude_roots = False\n",
      "_handle_initials called!\n",
      "vars = [x1, x2, x3, x4, x5, x6, x7, x8, x9]\n",
      "C = [0.98..1.02]\n",
      "C = [1.2799999999999998..1.32]\n",
      "C = [0.07999999999999999..0.12000000000000001]\n",
      "C = [0.07999999999999999..0.12000000000000001]\n",
      "C = [0.07999999999999999..0.12000000000000001]\n",
      "C = [1.2799999999999998..1.32]\n",
      "C = [2.48..2.52]\n",
      "C = [0.58..0.6200000000000001]\n",
      "C = [1.2799999999999998..1.32]\n",
      "assigning system with dimension 9\n",
      "resulting system has dimension 9\n",
      "unpreconditioning_orders = [-1, -1, -1, 4, -1, 4, -1, -1, -1]\n",
      "run within tmv args\n",
      "integrationScheme = 7\n"
     ]
    }
   ],
   "source": [
    "results_unmasked = gen_results(\n",
    "    num_runs,\n",
    "    P | F(I, Q),\n",
    "    duration,\n",
    "    task_description='Unmasked P | F(Q)',\n",
    "    use_masks=False,\n",
    "    symbolic_composition=True,\n",
    ")"
   ]
  },
  {
   "cell_type": "code",
   "execution_count": 8,
   "metadata": {},
   "outputs": [],
   "source": [
    "results_masked = gen_results(\n",
    "    num_runs,\n",
    "    P | F(I, Q),\n",
    "    duration,\n",
    "    task_description='Masked P | F(Q)',\n",
    "    use_masks=True,\n",
    "    symbolic_composition=True,\n",
    ")"
   ]
  },
  {
   "cell_type": "code",
   "execution_count": 9,
   "metadata": {},
   "outputs": [],
   "source": [
    "results_masked_symbolic_low_order = gen_results(\n",
    "    num_runs,\n",
    "    P | F(I, Q),\n",
    "    duration,\n",
    "    task_description='Masked P | F(Q)',\n",
    "    use_masks=True,\n",
    "    symbolic_composition=True,\n",
    "    symbolic_composition_order=2,\n",
    "#    unpreconditioning_order=2,\n",
    ")"
   ]
  },
  {
   "cell_type": "code",
   "execution_count": 10,
   "metadata": {},
   "outputs": [],
   "source": [
    "results_masked_low_unprec_order = gen_results(\n",
    "    num_runs,\n",
    "    P | F(I, Q),\n",
    "    duration,\n",
    "    task_description='Masked P | F(Q)',\n",
    "    use_masks=True,\n",
    "    symbolic_composition=True,\n",
    "#    symbolic_composition_order=2,\n",
    "    unpreconditioning_order=2,\n",
    ")"
   ]
  },
  {
   "cell_type": "code",
   "execution_count": 11,
   "metadata": {},
   "outputs": [],
   "source": [
    "results_masked_no_symbolic = gen_results(\n",
    "    num_runs,\n",
    "    P | F(I, Q),\n",
    "    duration,\n",
    "    task_description='Masked P | F(Q)',\n",
    "    use_masks=True,\n",
    "    symbolic_composition=False,\n",
    ")"
   ]
  },
  {
   "cell_type": "code",
   "execution_count": 12,
   "metadata": {},
   "outputs": [],
   "source": [
    "results_unmasked_no_symbolic = gen_results(\n",
    "    num_runs,\n",
    "    P | F(I, Q),\n",
    "    duration,\n",
    "    task_description='Unmasked P | F(Q)',\n",
    "    use_masks=False,\n",
    "    symbolic_composition=False,\n",
    ")"
   ]
  },
  {
   "cell_type": "code",
   "execution_count": 13,
   "metadata": {},
   "outputs": [],
   "source": [
    "results_masked_no_symbolic_no_selective = gen_results(\n",
    "    num_runs,\n",
    "    P | F(I, Q),\n",
    "    duration,\n",
    "    task_description='Masked P | F(Q) no sym no sel',\n",
    "    use_masks=True,\n",
    "    symbolic_composition=False,\n",
    "    selective_unpreconditioning=False,\n",
    "    \n",
    ")"
   ]
  },
  {
   "cell_type": "code",
   "execution_count": 14,
   "metadata": {},
   "outputs": [],
   "source": [
    "results_masked_no_selective = gen_results(\n",
    "    num_runs,\n",
    "    P | F(I, Q),\n",
    "    duration,\n",
    "    task_description='Masked P | F(Q) no sel',\n",
    "    use_masks=True,\n",
    "    symbolic_composition=True,\n",
    "    selective_unpreconditioning=False,\n",
    "    \n",
    ")"
   ]
  },
  {
   "cell_type": "code",
   "execution_count": 15,
   "metadata": {},
   "outputs": [],
   "source": [
    "results_unmasked_reversed = gen_results(\n",
    "    num_runs,\n",
    "    F(I, Q) | P,\n",
    "    duration,\n",
    "    task_description='Unmasked F(Q) | P',\n",
    "    use_masks=False,\n",
    "    symbolic_composition=True,\n",
    ")"
   ]
  },
  {
   "cell_type": "code",
   "execution_count": 16,
   "metadata": {},
   "outputs": [],
   "source": [
    "results_masked_reversed = gen_results(\n",
    "    num_runs,\n",
    "    F(I, Q) | P,\n",
    "    duration,\n",
    "    task_description='Masked F(Q) & P',\n",
    "    use_masks=True,\n",
    "    symbolic_composition=True,\n",
    ")"
   ]
  },
  {
   "cell_type": "code",
   "execution_count": 17,
   "metadata": {},
   "outputs": [
    {
     "data": {
      "text/plain": [
       "[{'prop': Or([Atomic(x6 > 1), F([2.5000000000000000 .. 3.0000000000000000], Atomic(15625.0*(x4 - 0.003)^2 + 3*(x6 - 0.5)^2 < 0.1))]),\n",
       "  'duration': 1.5,\n",
       "  'kwargs': {'use_masks': True,\n",
       "   'symbolic_composition': True,\n",
       "   'symbolic_composition_order': 2},\n",
       "  'future': <Future at 0x7fd36a21da60 state=running>},\n",
       " {'prop': Or([Atomic(x6 > 1), F([2.5000000000000000 .. 3.0000000000000000], Atomic(15625.0*(x4 - 0.003)^2 + 3*(x6 - 0.5)^2 < 0.1))]),\n",
       "  'duration': 1.5,\n",
       "  'kwargs': {'use_masks': True,\n",
       "   'symbolic_composition': True,\n",
       "   'symbolic_composition_order': 2},\n",
       "  'future': <Future at 0x7fd36a206730 state=pending>},\n",
       " {'prop': Or([Atomic(x6 > 1), F([2.5000000000000000 .. 3.0000000000000000], Atomic(15625.0*(x4 - 0.003)^2 + 3*(x6 - 0.5)^2 < 0.1))]),\n",
       "  'duration': 1.5,\n",
       "  'kwargs': {'use_masks': True,\n",
       "   'symbolic_composition': True,\n",
       "   'symbolic_composition_order': 2},\n",
       "  'future': <Future at 0x7fd36a272e20 state=pending>},\n",
       " {'prop': Or([Atomic(x6 > 1), F([2.5000000000000000 .. 3.0000000000000000], Atomic(15625.0*(x4 - 0.003)^2 + 3*(x6 - 0.5)^2 < 0.1))]),\n",
       "  'duration': 1.5,\n",
       "  'kwargs': {'use_masks': True,\n",
       "   'symbolic_composition': True,\n",
       "   'symbolic_composition_order': 2},\n",
       "  'future': <Future at 0x7fd5f4dc8ee0 state=pending>}]"
      ]
     },
     "execution_count": 17,
     "metadata": {},
     "output_type": "execute_result"
    }
   ],
   "source": [
    "results_masked_symbolic_low_order"
   ]
  },
  {
   "cell_type": "code",
   "execution_count": 18,
   "metadata": {},
   "outputs": [
    {
     "ename": "KeyboardInterrupt",
     "evalue": "",
     "output_type": "error",
     "traceback": [
      "\u001b[0;31m---------------------------------------------------------------------------\u001b[0m",
      "\u001b[0;31mKeyboardInterrupt\u001b[0m                         Traceback (most recent call last)",
      "\u001b[0;32m<ipython-input-18-beffcadcd40e>\u001b[0m in \u001b[0;36m<module>\u001b[0;34m()\u001b[0m\n\u001b[0;32m----> 1\u001b[0;31m \u001b[0mresults_masked\u001b[0m\u001b[0;34m[\u001b[0m\u001b[0;36m0\u001b[0m\u001b[0;34m]\u001b[0m\u001b[0;34m[\u001b[0m\u001b[0;34m'future'\u001b[0m\u001b[0;34m]\u001b[0m\u001b[0;34m.\u001b[0m\u001b[0mresult\u001b[0m\u001b[0;34m(\u001b[0m\u001b[0;34m)\u001b[0m\u001b[0;34m[\u001b[0m\u001b[0;36m0\u001b[0m\u001b[0;34m]\u001b[0m\u001b[0;34m\u001b[0m\u001b[0;34m\u001b[0m\u001b[0m\n\u001b[0m",
      "\u001b[0;32m/usr/lib64/python3.8/concurrent/futures/_base.py\u001b[0m in \u001b[0;36mresult\u001b[0;34m(self, timeout)\u001b[0m\n\u001b[1;32m    432\u001b[0m                 \u001b[0;32mreturn\u001b[0m \u001b[0mself\u001b[0m\u001b[0;34m.\u001b[0m\u001b[0m__get_result\u001b[0m\u001b[0;34m(\u001b[0m\u001b[0;34m)\u001b[0m\u001b[0;34m\u001b[0m\u001b[0;34m\u001b[0m\u001b[0m\n\u001b[1;32m    433\u001b[0m \u001b[0;34m\u001b[0m\u001b[0m\n\u001b[0;32m--> 434\u001b[0;31m             \u001b[0mself\u001b[0m\u001b[0;34m.\u001b[0m\u001b[0m_condition\u001b[0m\u001b[0;34m.\u001b[0m\u001b[0mwait\u001b[0m\u001b[0;34m(\u001b[0m\u001b[0mtimeout\u001b[0m\u001b[0;34m)\u001b[0m\u001b[0;34m\u001b[0m\u001b[0;34m\u001b[0m\u001b[0m\n\u001b[0m\u001b[1;32m    435\u001b[0m \u001b[0;34m\u001b[0m\u001b[0m\n\u001b[1;32m    436\u001b[0m             \u001b[0;32mif\u001b[0m \u001b[0mself\u001b[0m\u001b[0;34m.\u001b[0m\u001b[0m_state\u001b[0m \u001b[0;32min\u001b[0m \u001b[0;34m[\u001b[0m\u001b[0mCANCELLED\u001b[0m\u001b[0;34m,\u001b[0m \u001b[0mCANCELLED_AND_NOTIFIED\u001b[0m\u001b[0;34m]\u001b[0m\u001b[0;34m:\u001b[0m\u001b[0;34m\u001b[0m\u001b[0;34m\u001b[0m\u001b[0m\n",
      "\u001b[0;32m/usr/lib64/python3.8/threading.py\u001b[0m in \u001b[0;36mwait\u001b[0;34m(self, timeout)\u001b[0m\n\u001b[1;32m    300\u001b[0m         \u001b[0;32mtry\u001b[0m\u001b[0;34m:\u001b[0m    \u001b[0;31m# restore state no matter what (e.g., KeyboardInterrupt)\u001b[0m\u001b[0;34m\u001b[0m\u001b[0;34m\u001b[0m\u001b[0m\n\u001b[1;32m    301\u001b[0m             \u001b[0;32mif\u001b[0m \u001b[0mtimeout\u001b[0m \u001b[0;32mis\u001b[0m \u001b[0;32mNone\u001b[0m\u001b[0;34m:\u001b[0m\u001b[0;34m\u001b[0m\u001b[0;34m\u001b[0m\u001b[0m\n\u001b[0;32m--> 302\u001b[0;31m                 \u001b[0mwaiter\u001b[0m\u001b[0;34m.\u001b[0m\u001b[0macquire\u001b[0m\u001b[0;34m(\u001b[0m\u001b[0;34m)\u001b[0m\u001b[0;34m\u001b[0m\u001b[0;34m\u001b[0m\u001b[0m\n\u001b[0m\u001b[1;32m    303\u001b[0m                 \u001b[0mgotit\u001b[0m \u001b[0;34m=\u001b[0m \u001b[0;32mTrue\u001b[0m\u001b[0;34m\u001b[0m\u001b[0;34m\u001b[0m\u001b[0m\n\u001b[1;32m    304\u001b[0m             \u001b[0;32melse\u001b[0m\u001b[0;34m:\u001b[0m\u001b[0;34m\u001b[0m\u001b[0;34m\u001b[0m\u001b[0m\n",
      "\u001b[0;31mKeyboardInterrupt\u001b[0m: "
     ]
    }
   ],
   "source": [
    "results_masked[0]['future'].result()[0]"
   ]
  },
  {
   "cell_type": "markdown",
   "metadata": {},
   "source": [
    "# Analysis"
   ]
  },
  {
   "cell_type": "code",
   "execution_count": null,
   "metadata": {},
   "outputs": [],
   "source": [
    "import pandas as pd"
   ]
  },
  {
   "cell_type": "code",
   "execution_count": null,
   "metadata": {},
   "outputs": [],
   "source": [
    "def total_time_for_key(inst, ks):\n",
    "    if isinstance(ks, str):\n",
    "        ks = [ks]\n",
    "\n",
    "    return sum(inst.total_time(k)\n",
    "               for k in ks)\n",
    "\n",
    "\n",
    "def total_times(results, keys, keys_short=None):\n",
    "    ress = [\n",
    "        f.result() for f in futures(results)\n",
    "    ]\n",
    "    if keys_short is None:\n",
    "        keys_short = keys\n",
    "    data = pd.DataFrame({\n",
    "        short_key: [total_time_for_key(r[2], key) for r in ress]\n",
    "        for short_key, key in zip(keys_short, keys)\n",
    "    })\n",
    "    data.insert(len(keys), 'Total',\n",
    "                [r[1] for r in ress])\n",
    "    return data"
   ]
  },
  {
   "cell_type": "code",
   "execution_count": null,
   "metadata": {},
   "outputs": [],
   "source": [
    "results_masked_no_symbolic_no_selective[0]['future'].result()[2].events"
   ]
  },
  {
   "cell_type": "code",
   "execution_count": null,
   "metadata": {},
   "outputs": [],
   "source": [
    "cols_full = [\n",
    "    'Running Flow*',\n",
    "    f'Monitoring atomic {P}',\n",
    "    f'Monitoring atomic {Q}',\n",
    "    [\n",
    "        f'Monitoring Signal for {P | F(I, Q)}',\n",
    "        f'Monitoring Signal for {F(I, Q) | P}',\n",
    "    ],\n",
    "    'tentative eval',\n",
    "    'root detection',\n",
    "    'composing flowpipe',\n",
    "    'post retrieve',\n",
    "]\n",
    "cols_short = [\n",
    "    'Flow*', 'P', 'Q', 'P | F(Q)',\n",
    "    'tentative eval',\n",
    "    'root detection',\n",
    "    'composing flowpipe',\n",
    "    'composing atomic',\n",
    "]"
   ]
  },
  {
   "cell_type": "markdown",
   "metadata": {},
   "source": [
    "## Raw results"
   ]
  },
  {
   "cell_type": "code",
   "execution_count": null,
   "metadata": {},
   "outputs": [],
   "source": [
    "times_unmasked = total_times(\n",
    "    results_masked_no_symbolic_no_selective,\n",
    "    cols_full,\n",
    "    cols_short,\n",
    ")\n",
    "times_unmasked"
   ]
  },
  {
   "cell_type": "code",
   "execution_count": null,
   "metadata": {},
   "outputs": [],
   "source": [
    "times_unmasked['Flow*'].std()"
   ]
  },
  {
   "cell_type": "code",
   "execution_count": null,
   "metadata": {},
   "outputs": [],
   "source": [
    "times_masked = total_times(\n",
    "    results_masked,\n",
    "    cols_full,\n",
    "    cols_short,\n",
    ")\n",
    "times_masked"
   ]
  },
  {
   "cell_type": "code",
   "execution_count": null,
   "metadata": {},
   "outputs": [],
   "source": [
    "times_masked['Flow*'].std()"
   ]
  },
  {
   "cell_type": "markdown",
   "metadata": {},
   "source": [
    "## Comparison"
   ]
  },
  {
   "cell_type": "code",
   "execution_count": null,
   "metadata": {},
   "outputs": [],
   "source": [
    "series = ['masked',\n",
    "          'masked_no_symbolic',\n",
    "          'masked_no_symbolic_no_selective',\n",
    "          'masked_no_selective',\n",
    "          'masked_symbolic_low_order',\n",
    "          'unmasked',\n",
    "          'unmasked_no_symbolic',\n",
    "          'masked_reversed', 'unmasked_reversed']\n",
    "# total_timess = {\n",
    "#    s: pd.load_csv(f'data/analysis3_raw_{s}.csv')\n",
    "#    for s in series \n",
    "# }\n",
    "total_timess = {\n",
    "    s: total_times(eval(f'results_{s}'), cols_full, cols_short)\n",
    "    for s in series \n",
    "}"
   ]
  },
  {
   "cell_type": "code",
   "execution_count": null,
   "metadata": {},
   "outputs": [],
   "source": [
    "for s, d in total_timess.items():\n",
    "    d.to_csv(f'data/analysis_new_property_raw_{s}.csv')"
   ]
  },
  {
   "cell_type": "code",
   "execution_count": null,
   "metadata": {},
   "outputs": [],
   "source": [
    "comparison = pd.DataFrame({\n",
    "    s: total_times.mean()\n",
    "    for s, total_times in total_timess.items()\n",
    "})"
   ]
  },
  {
   "cell_type": "code",
   "execution_count": null,
   "metadata": {},
   "outputs": [],
   "source": []
  },
  {
   "cell_type": "code",
   "execution_count": null,
   "metadata": {},
   "outputs": [],
   "source": [
    "comparison"
   ]
  },
  {
   "cell_type": "code",
   "execution_count": null,
   "metadata": {},
   "outputs": [],
   "source": [
    "comparison2 = comparison.loc[['P', 'Q'],:].transpose()\n",
    "comparison2"
   ]
  },
  {
   "cell_type": "code",
   "execution_count": null,
   "metadata": {},
   "outputs": [],
   "source": [
    "comparison2.plot(kind='barh', stacked=True)"
   ]
  },
  {
   "cell_type": "code",
   "execution_count": null,
   "metadata": {},
   "outputs": [],
   "source": [
    "comparison3 = comparison.loc[['P | G(Q)'],:].transpose()\n",
    "comparison3.plot(kind='barh')"
   ]
  },
  {
   "cell_type": "code",
   "execution_count": null,
   "metadata": {},
   "outputs": [],
   "source": [
    "restart_pool()"
   ]
  },
  {
   "cell_type": "code",
   "execution_count": null,
   "metadata": {},
   "outputs": [],
   "source": []
  }
 ],
 "metadata": {
  "kernelspec": {
   "display_name": "Python 3",
   "language": "python",
   "name": "python3"
  },
  "language_info": {
   "codemirror_mode": {
    "name": "ipython",
    "version": 3
   },
   "file_extension": ".py",
   "mimetype": "text/x-python",
   "name": "python",
   "nbconvert_exporter": "python",
   "pygments_lexer": "ipython3",
   "version": "3.8.2"
  },
  "notify_time": "5"
 },
 "nbformat": 4,
 "nbformat_minor": 2
}
