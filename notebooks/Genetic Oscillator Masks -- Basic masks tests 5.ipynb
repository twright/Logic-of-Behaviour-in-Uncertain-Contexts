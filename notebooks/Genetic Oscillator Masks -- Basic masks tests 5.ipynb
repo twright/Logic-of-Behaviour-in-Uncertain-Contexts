{
 "cells": [
  {
   "cell_type": "code",
   "execution_count": 1,
   "metadata": {},
   "outputs": [],
   "source": [
    "import sys\n",
    "\n",
    "sys.path.insert(0, \"/home/twright/Documents/PhD/Notebooks\")\n",
    "\n",
    "from contextlib import contextmanager\n",
    "import sys, os\n",
    "\n",
    "@contextmanager\n",
    "def suppress_stdout():\n",
    "    with open(os.devnull, \"w\") as devnull:\n",
    "        old_stdout = sys.stdout\n",
    "        sys.stdout = devnull\n",
    "        try:  \n",
    "            yield\n",
    "        finally:\n",
    "            sys.stdout = old_stdout\n",
    "            \n",
    "            \n",
    "import warnings\n",
    "            \n",
    "@contextmanager\n",
    "def suppress_warnings():\n",
    "    with warnings.catch_warnings():\n",
    "        warnings.simplefilter(\"ignore\")\n",
    "        yield"
   ]
  },
  {
   "cell_type": "code",
   "execution_count": 2,
   "metadata": {},
   "outputs": [],
   "source": [
    "%display latex\n",
    "from ulbc import *\n",
    "from flowstar import *\n",
    "from ulbc.bondcalculus import *"
   ]
  },
  {
   "cell_type": "code",
   "execution_count": 3,
   "metadata": {},
   "outputs": [],
   "source": [
    "R.<x1,x2,x3,x4,x5,x6,x7,x8,x9> = RIF[]"
   ]
  },
  {
   "cell_type": "code",
   "execution_count": 4,
   "metadata": {},
   "outputs": [],
   "source": [
    "y = vector([\n",
    "    10*x3 - RIF('0.1')*x1*x6,\n",
    "    100*x4 - x1*x2,\n",
    "    RIF('0.1')*x1*x6 - 50*x3,\n",
    "    x2*x6 - 100*x4,\n",
    "    5*x3 + RIF('0.5')*x1 - 10*x5,\n",
    "    50*x5 + 50*x3 + 100*x4 - x6*(RIF('0.1')*x1 + x2 + 2*x8 + 1),\n",
    "    50*x4 + RIF('0.01')*x2 - RIF('0.5')*x7,\n",
    "    RIF('0.5')*x7 - 2*x6*x8 + x9 - RIF('0.2')*x8,\n",
    "    2*x6*x8 - x9,\n",
    "])"
   ]
  },
  {
   "cell_type": "code",
   "execution_count": 5,
   "metadata": {},
   "outputs": [
    {
     "data": {
      "text/html": [
       "<div class=\"notruncate\">\n",
       "<table  class=\"table_form\">\n",
       "<tbody>\n",
       "<tr class =\"row-a\">\n",
       "<td><script type=\"math/tex\">-0.10000000000000000? x_{1} x_{6} + 10 x_{3}</script></td>\n",
       "</tr>\n",
       "<tr class =\"row-b\">\n",
       "<td><script type=\"math/tex\">-x_{1} x_{2} + 100 x_{4}</script></td>\n",
       "</tr>\n",
       "<tr class =\"row-a\">\n",
       "<td><script type=\"math/tex\">0.10000000000000000? x_{1} x_{6} - 50 x_{3}</script></td>\n",
       "</tr>\n",
       "<tr class =\"row-b\">\n",
       "<td><script type=\"math/tex\">x_{2} x_{6} - 100 x_{4}</script></td>\n",
       "</tr>\n",
       "<tr class =\"row-a\">\n",
       "<td><script type=\"math/tex\">0.50000000000000000? x_{1} + 5 x_{3} - 10 x_{5}</script></td>\n",
       "</tr>\n",
       "<tr class =\"row-b\">\n",
       "<td><script type=\"math/tex\">-0.10000000000000000? x_{1} x_{6} - x_{2} x_{6} - 2 x_{6} x_{8} + 50 x_{3} + 100 x_{4} + 50 x_{5} - x_{6}</script></td>\n",
       "</tr>\n",
       "<tr class =\"row-a\">\n",
       "<td><script type=\"math/tex\">0.01000000000000000? x_{2} + 50 x_{4} - 0.50000000000000000? x_{7}</script></td>\n",
       "</tr>\n",
       "<tr class =\"row-b\">\n",
       "<td><script type=\"math/tex\">-2 x_{6} x_{8} + 0.50000000000000000? x_{7} - 0.2000000000000000? x_{8} + x_{9}</script></td>\n",
       "</tr>\n",
       "<tr class =\"row-a\">\n",
       "<td><script type=\"math/tex\">2 x_{6} x_{8} - x_{9}</script></td>\n",
       "</tr>\n",
       "</tbody>\n",
       "</table>\n",
       "</div>"
      ],
      "text/plain": [
       "  -0.10000000000000000?*x1*x6 + 10*x3\n",
       "  -x1*x2 + 100*x4\n",
       "  0.10000000000000000?*x1*x6 - 50*x3\n",
       "  x2*x6 - 100*x4\n",
       "  0.50000000000000000?*x1 + 5*x3 - 10*x5\n",
       "  -0.10000000000000000?*x1*x6 - x2*x6 - 2*x6*x8 + 50*x3 + 100*x4 + 50*x5 - x6\n",
       "  0.01000000000000000?*x2 + 50*x4 - 0.50000000000000000?*x7\n",
       "  -2*x6*x8 + 0.50000000000000000?*x7 - 0.2000000000000000?*x8 + x9\n",
       "  2*x6*x8 - x9"
      ]
     },
     "execution_count": 5,
     "metadata": {},
     "output_type": "execute_result"
    }
   ],
   "source": [
    "table([[yi] for yi in y])"
   ]
  },
  {
   "cell_type": "code",
   "execution_count": 6,
   "metadata": {},
   "outputs": [],
   "source": [
    "y0 = [\n",
    "    RIF('[0.98, 1.02]'),\n",
    "    RIF('[1.28, 1.32]'),\n",
    "    RIF('[0.08, 0.12]'),\n",
    "    RIF('[0.08, 0.12]'), # x4\n",
    "    RIF('[0.08, 0.12]'),\n",
    "    RIF('[1.28, 1.32]'), # x6\n",
    "    RIF('[2.48, 2.52]'),\n",
    "    RIF('[0.58, 0.62]'),\n",
    "    RIF('[1.28, 1.32]'),\n",
    "]"
   ]
  },
  {
   "cell_type": "code",
   "execution_count": 7,
   "metadata": {},
   "outputs": [
    {
     "data": {
      "text/html": [
       "<div class=\"notruncate\">\n",
       "<table  class=\"table_form\">\n",
       "<tbody>\n",
       "<tr class =\"row-a\">\n",
       "<td><script type=\"math/tex\">0.979999999999999</script></td>\n",
       "<td><script type=\"math/tex\">1.02000000000001</script></td>\n",
       "</tr>\n",
       "<tr class =\"row-b\">\n",
       "<td><script type=\"math/tex\">1.27999999999999</script></td>\n",
       "<td><script type=\"math/tex\">1.32000000000001</script></td>\n",
       "</tr>\n",
       "<tr class =\"row-a\">\n",
       "<td><script type=\"math/tex\">0.0799999999999999</script></td>\n",
       "<td><script type=\"math/tex\">0.120000000000001</script></td>\n",
       "</tr>\n",
       "<tr class =\"row-b\">\n",
       "<td><script type=\"math/tex\">0.0799999999999999</script></td>\n",
       "<td><script type=\"math/tex\">0.120000000000001</script></td>\n",
       "</tr>\n",
       "<tr class =\"row-a\">\n",
       "<td><script type=\"math/tex\">0.0799999999999999</script></td>\n",
       "<td><script type=\"math/tex\">0.120000000000001</script></td>\n",
       "</tr>\n",
       "<tr class =\"row-b\">\n",
       "<td><script type=\"math/tex\">1.27999999999999</script></td>\n",
       "<td><script type=\"math/tex\">1.32000000000001</script></td>\n",
       "</tr>\n",
       "<tr class =\"row-a\">\n",
       "<td><script type=\"math/tex\">2.47999999999999</script></td>\n",
       "<td><script type=\"math/tex\">2.52000000000001</script></td>\n",
       "</tr>\n",
       "<tr class =\"row-b\">\n",
       "<td><script type=\"math/tex\">0.579999999999999</script></td>\n",
       "<td><script type=\"math/tex\">0.620000000000001</script></td>\n",
       "</tr>\n",
       "<tr class =\"row-a\">\n",
       "<td><script type=\"math/tex\">1.27999999999999</script></td>\n",
       "<td><script type=\"math/tex\">1.32000000000001</script></td>\n",
       "</tr>\n",
       "</tbody>\n",
       "</table>\n",
       "</div>"
      ],
      "text/plain": [
       "  0.979999999999999    1.02000000000001\n",
       "  1.27999999999999     1.32000000000001\n",
       "  0.0799999999999999   0.120000000000001\n",
       "  0.0799999999999999   0.120000000000001\n",
       "  0.0799999999999999   0.120000000000001\n",
       "  1.27999999999999     1.32000000000001\n",
       "  2.47999999999999     2.52000000000001\n",
       "  0.579999999999999    0.620000000000001\n",
       "  1.27999999999999     1.32000000000001"
      ]
     },
     "execution_count": 7,
     "metadata": {},
     "output_type": "execute_result"
    }
   ],
   "source": [
    "table([y0i.endpoints() for y0i in y0])"
   ]
  },
  {
   "cell_type": "code",
   "execution_count": 8,
   "metadata": {},
   "outputs": [
    {
     "data": {
      "text/html": [
       "<html><script type=\"math/tex; mode=display\">\\newcommand{\\Bold}[1]{\\mathbf{#1}}\\verb|System(R,|\\phantom{\\verb!x!}\\verb|(x1,|\\phantom{\\verb!x!}\\verb|x2,|\\phantom{\\verb!x!}\\verb|x3,|\\phantom{\\verb!x!}\\verb|x4,|\\phantom{\\verb!x!}\\verb|x5,|\\phantom{\\verb!x!}\\verb|x6,|\\phantom{\\verb!x!}\\verb|x7,|\\phantom{\\verb!x!}\\verb|x8,|\\phantom{\\verb!x!}\\verb|x9),|\\phantom{\\verb!x!}\\verb|[[0.97999999999999998|\\phantom{\\verb!x!}\\verb|..|\\phantom{\\verb!x!}\\verb|1.0200000000000001],|\\phantom{\\verb!x!}\\verb|[1.2799999999999998|\\phantom{\\verb!x!}\\verb|..|\\phantom{\\verb!x!}\\verb|1.3200000000000001],|\\phantom{\\verb!x!}\\verb|[0.079999999999999987|\\phantom{\\verb!x!}\\verb|..|\\phantom{\\verb!x!}\\verb|0.12000000000000001],|\\phantom{\\verb!x!}\\verb|[0.079999999999999987|\\phantom{\\verb!x!}\\verb|..|\\phantom{\\verb!x!}\\verb|0.12000000000000001],|\\phantom{\\verb!x!}\\verb|[0.079999999999999987|\\phantom{\\verb!x!}\\verb|..|\\phantom{\\verb!x!}\\verb|0.12000000000000001],|\\phantom{\\verb!x!}\\verb|[1.2799999999999998|\\phantom{\\verb!x!}\\verb|..|\\phantom{\\verb!x!}\\verb|1.3200000000000001],|\\phantom{\\verb!x!}\\verb|[2.4799999999999999|\\phantom{\\verb!x!}\\verb|..|\\phantom{\\verb!x!}\\verb|2.5200000000000001],|\\phantom{\\verb!x!}\\verb|[0.57999999999999996|\\phantom{\\verb!x!}\\verb|..|\\phantom{\\verb!x!}\\verb|0.62000000000000011],|\\phantom{\\verb!x!}\\verb|[1.2799999999999998|\\phantom{\\verb!x!}\\verb|..|\\phantom{\\verb!x!}\\verb|1.3200000000000001]],|\\phantom{\\verb!x!}\\verb|(-0.10000000000000000?*x1*x6|\\phantom{\\verb!x!}\\verb|+|\\phantom{\\verb!x!}\\verb|10*x3,|\\phantom{\\verb!x!}\\verb|-x1*x2|\\phantom{\\verb!x!}\\verb|+|\\phantom{\\verb!x!}\\verb|100*x4,|\\phantom{\\verb!x!}\\verb|0.10000000000000000?*x1*x6|\\phantom{\\verb!x!}\\verb|-|\\phantom{\\verb!x!}\\verb|50*x3,|\\phantom{\\verb!x!}\\verb|x2*x6|\\phantom{\\verb!x!}\\verb|-|\\phantom{\\verb!x!}\\verb|100*x4,|\\phantom{\\verb!x!}\\verb|0.50000000000000000?*x1|\\phantom{\\verb!x!}\\verb|+|\\phantom{\\verb!x!}\\verb|5*x3|\\phantom{\\verb!x!}\\verb|-|\\phantom{\\verb!x!}\\verb|10*x5,|\\phantom{\\verb!x!}\\verb|-0.10000000000000000?*x1*x6|\\phantom{\\verb!x!}\\verb|-|\\phantom{\\verb!x!}\\verb|x2*x6|\\phantom{\\verb!x!}\\verb|-|\\phantom{\\verb!x!}\\verb|2*x6*x8|\\phantom{\\verb!x!}\\verb|+|\\phantom{\\verb!x!}\\verb|50*x3|\\phantom{\\verb!x!}\\verb|+|\\phantom{\\verb!x!}\\verb|100*x4|\\phantom{\\verb!x!}\\verb|+|\\phantom{\\verb!x!}\\verb|50*x5|\\phantom{\\verb!x!}\\verb|-|\\phantom{\\verb!x!}\\verb|x6,|\\phantom{\\verb!x!}\\verb|0.01000000000000000?*x2|\\phantom{\\verb!x!}\\verb|+|\\phantom{\\verb!x!}\\verb|50*x4|\\phantom{\\verb!x!}\\verb|-|\\phantom{\\verb!x!}\\verb|0.50000000000000000?*x7,|\\phantom{\\verb!x!}\\verb|-2*x6*x8|\\phantom{\\verb!x!}\\verb|+|\\phantom{\\verb!x!}\\verb|0.50000000000000000?*x7|\\phantom{\\verb!x!}\\verb|-|\\phantom{\\verb!x!}\\verb|0.2000000000000000?*x8|\\phantom{\\verb!x!}\\verb|+|\\phantom{\\verb!x!}\\verb|x9,|\\phantom{\\verb!x!}\\verb|2*x6*x8|\\phantom{\\verb!x!}\\verb|-|\\phantom{\\verb!x!}\\verb|x9),|\\phantom{\\verb!x!}\\verb|varmap=bidict({'x1':|\\phantom{\\verb!x!}\\verb|x1,|\\phantom{\\verb!x!}\\verb|'x2':|\\phantom{\\verb!x!}\\verb|x2,|\\phantom{\\verb!x!}\\verb|'x3':|\\phantom{\\verb!x!}\\verb|x3,|\\phantom{\\verb!x!}\\verb|'x4':|\\phantom{\\verb!x!}\\verb|x4,|\\phantom{\\verb!x!}\\verb|'x5':|\\phantom{\\verb!x!}\\verb|x5,|\\phantom{\\verb!x!}\\verb|'x6':|\\phantom{\\verb!x!}\\verb|x6,|\\phantom{\\verb!x!}\\verb|'x7':|\\phantom{\\verb!x!}\\verb|x7,|\\phantom{\\verb!x!}\\verb|'x8':|\\phantom{\\verb!x!}\\verb|x8,|\\phantom{\\verb!x!}\\verb|'x9':|\\phantom{\\verb!x!}\\verb|x9}))|</script></html>"
      ],
      "text/plain": [
       "System(R, (x1, x2, x3, x4, x5, x6, x7, x8, x9), [[0.97999999999999998 .. 1.0200000000000001], [1.2799999999999998 .. 1.3200000000000001], [0.079999999999999987 .. 0.12000000000000001], [0.079999999999999987 .. 0.12000000000000001], [0.079999999999999987 .. 0.12000000000000001], [1.2799999999999998 .. 1.3200000000000001], [2.4799999999999999 .. 2.5200000000000001], [0.57999999999999996 .. 0.62000000000000011], [1.2799999999999998 .. 1.3200000000000001]], (-0.10000000000000000?*x1*x6 + 10*x3, -x1*x2 + 100*x4, 0.10000000000000000?*x1*x6 - 50*x3, x2*x6 - 100*x4, 0.50000000000000000?*x1 + 5*x3 - 10*x5, -0.10000000000000000?*x1*x6 - x2*x6 - 2*x6*x8 + 50*x3 + 100*x4 + 50*x5 - x6, 0.01000000000000000?*x2 + 50*x4 - 0.50000000000000000?*x7, -2*x6*x8 + 0.50000000000000000?*x7 - 0.2000000000000000?*x8 + x9, 2*x6*x8 - x9), varmap=bidict({'x1': x1, 'x2': x2, 'x3': x3, 'x4': x4, 'x5': x5, 'x6': x6, 'x7': x7, 'x8': x8, 'x9': x9}))"
      ]
     },
     "execution_count": 8,
     "metadata": {},
     "output_type": "execute_result"
    }
   ],
   "source": [
    "system = System(R, R.gens(), y0, y); system"
   ]
  },
  {
   "cell_type": "code",
   "execution_count": 9,
   "metadata": {},
   "outputs": [],
   "source": [
    "def test_monitoring(prop, duration, **kwargs):\n",
    "    t0 = time.time()\n",
    "    sig = prop.signal_for_system(system,\n",
    "    duration, order=4, step=0.003,\n",
    "    precondition=1,\n",
    "    estimation=1e-1,\n",
    "    max_remainder_queue=100,\n",
    "    integration_method=IntegrationMethod.ONLY_PICARD_SYMB,\n",
    "    cutoff_threshold=1e-6,\n",
    "    **kwargs)\n",
    "    t1 = time.time()\n",
    "    print(f\"Run done in {t1 - t0} sec\\noptions: {repr(kwargs)}\")\n",
    "    return t1 - t0, sig"
   ]
  },
  {
   "cell_type": "code",
   "execution_count": 10,
   "metadata": {},
   "outputs": [
    {
     "name": "stdout",
     "output_type": "stream",
     "text": [
      "calling reach with y0 = ['[0.97999999999999998 .. 1.0200000000000001]', '[1.2799999999999998 .. 1.3200000000000001]', '[0.079999999999999987 .. 0.12000000000000001]', '[0.079999999999999987 .. 0.12000000000000001]', '[0.079999999999999987 .. 0.12000000000000001]', '[1.2799999999999998 .. 1.3200000000000001]', '[2.4799999999999999 .. 2.5200000000000001]', '[0.57999999999999996 .. 0.62000000000000011]', '[1.2799999999999998 .. 1.3200000000000001]']\n",
      "ode in polynomial ring\n",
      "crude_roots = False\n",
      "_handle_initials called!\n",
      "vars = [x1, x2, x3, x4, x5, x6, x7, x8, x9]\n",
      "C = [0.98..1.02]\n",
      "C = [1.2799999999999998..1.32]\n",
      "C = [0.07999999999999999..0.12000000000000001]\n",
      "C = [0.07999999999999999..0.12000000000000001]\n",
      "C = [0.07999999999999999..0.12000000000000001]\n",
      "C = [1.2799999999999998..1.32]\n",
      "C = [2.48..2.52]\n",
      "C = [0.58..0.6200000000000001]\n",
      "C = [1.2799999999999998..1.32]\n",
      "assigning system with dimension 9\n",
      "resulting system has dimension 9\n",
      "run within tmv args\n",
      "integrationScheme = 7\n"
     ]
    }
   ],
   "source": [
    "reach = system.reach(\n",
    "    5, order=4, step=0.003,\n",
    "    precondition=1,\n",
    "    estimation=1e-1,\n",
    "    max_remainder_queue=150,\n",
    "    integration_method=IntegrationMethod.ONLY_PICARD_SYMB,\n",
    "    cutoff_threshold=1e-6,\n",
    ")"
   ]
  },
  {
   "cell_type": "code",
   "execution_count": 11,
   "metadata": {},
   "outputs": [
    {
     "name": "stdout",
     "output_type": "stream",
     "text": [
      "var_id_x = 3\n",
      "var_id_y = 5\n"
     ]
    },
    {
     "data": {
      "image/png": "[encoded data removed]",
      "text/plain": [
       "Graphics object consisting of 50 graphics primitives"
      ]
     },
     "execution_count": 11,
     "metadata": {},
     "output_type": "execute_result"
    }
   ],
   "source": [
    "p = reach.sage_interval_plot(\"x4\", \"x6\")\n",
    "p.set_aspect_ratio(1/20)\n",
    "p"
   ]
  },
  {
   "cell_type": "code",
   "execution_count": 12,
   "metadata": {
    "scrolled": true
   },
   "outputs": [
    {
     "data": {
      "text/html": [
       "<html><script type=\"math/tex; mode=display\">\\newcommand{\\Bold}[1]{\\mathbf{#1}}\\verb|x6|\\phantom{\\verb!x!}\\verb|>|\\phantom{\\verb!x!}\\verb|1|</script></html>"
      ],
      "text/plain": [
       "Atomic(x6 > 1)"
      ]
     },
     "execution_count": 12,
     "metadata": {},
     "output_type": "execute_result"
    }
   ],
   "source": [
    "P = Atomic(var(\"x6\") > 1)\n",
    "P"
   ]
  },
  {
   "cell_type": "code",
   "execution_count": 23,
   "metadata": {},
   "outputs": [
    {
     "data": {
      "text/html": [
       "<html><script type=\"math/tex; mode=display\">\\newcommand{\\Bold}[1]{\\mathbf{#1}}\\verb|x4|\\phantom{\\verb!x!}\\verb|<|\\phantom{\\verb!x!}\\verb|(1/40)|</script></html>"
      ],
      "text/plain": [
       "Atomic(x4 < (1/40))"
      ]
     },
     "execution_count": 23,
     "metadata": {},
     "output_type": "execute_result"
    }
   ],
   "source": [
    "Q = Atomic(var(\"x4\") < 1/40); Q"
   ]
  },
  {
   "cell_type": "code",
   "execution_count": 14,
   "metadata": {},
   "outputs": [
    {
     "name": "stdout",
     "output_type": "stream",
     "text": [
      "PolyObserver(x6 - 1, <flowstar.reachability.Reach object at 0x7f875e7dcba0>, -0.10000000000000000?*x1*x6 - x2*x6 - 2*x6*x8 + 50*x3 + 100*x4 + 50*x5 - x6, symbolic_composition=False, tentative_unpreconditioning=True, mask=None)\n",
      "fprime = -0.10000000000000000?*x1*x6 - x2*x6 - 2*x6*x8 + 50*x3 + 100*x4 + 50*x5 - x6\n",
      "symbolic_composition=False, tentative_unpreconditioning=True,two_pass_masks=False\n",
      "roots(space_domain=None, epsilon=1e-05, verbosity=0)\n",
      "top-level root detection: 1 items in 2.71 seconds\n",
      "roots = [[0.71099999999997254 .. 0.96600000000000086]]\n",
      "domain = [0.0000000000000000 .. 5.0000000000000000]\n",
      "roots = [[0.71099999999997254 .. 0.96600000000000086]]\n",
      "seg_domain = [0.0000000000000000 .. 5.0000000000000000]\n",
      "roots = [[0.71099999999997254 .. 0.96600000000000086]]\n",
      "signal given bool roots: 1 items in 0.00 seconds\n",
      "Monitoring atomic x6 > 1: 1 items in 2.71 seconds\n"
     ]
    },
    {
     "data": {
      "image/png": "[encoded data removed]",
      "text/plain": [
       "Graphics object consisting of 2 graphics primitives"
      ]
     },
     "execution_count": 14,
     "metadata": {},
     "output_type": "execute_result"
    }
   ],
   "source": [
    "P.signal(reach).plot()"
   ]
  },
  {
   "cell_type": "code",
   "execution_count": 24,
   "metadata": {},
   "outputs": [
    {
     "name": "stdout",
     "output_type": "stream",
     "text": [
      "PolyObserver(x6 - 1, <flowstar.reachability.Reach object at 0x7f875e7dcba0>, -0.10000000000000000?*x1*x6 - x2*x6 - 2*x6*x8 + 50*x3 + 100*x4 + 50*x5 - x6, symbolic_composition=False, tentative_unpreconditioning=True, mask=None)\n",
      "fprime = -0.10000000000000000?*x1*x6 - x2*x6 - 2*x6*x8 + 50*x3 + 100*x4 + 50*x5 - x6\n",
      "symbolic_composition=False, tentative_unpreconditioning=True,two_pass_masks=False\n",
      "roots(space_domain=None, epsilon=1e-05, verbosity=0)\n",
      "top-level root detection: 1 items in 2.73 seconds\n",
      "roots = [[0.71099999999997254 .. 0.96600000000000086]]\n",
      "domain = [0.0000000000000000 .. 5.0000000000000000]\n",
      "roots = [[0.71099999999997254 .. 0.96600000000000086]]\n",
      "seg_domain = [0.0000000000000000 .. 5.0000000000000000]\n",
      "roots = [[0.71099999999997254 .. 0.96600000000000086]]\n",
      "signal given bool roots: 1 items in 0.00 seconds\n",
      "Monitoring atomic x6 > 1: 1 items in 2.73 seconds\n"
     ]
    },
    {
     "name": "stderr",
     "output_type": "stream",
     "text": [
      "/usr/lib64/python3.8/site-packages/sage/plot/contour_plot.py:203: UserWarning: No contour levels were found within the data range.\n",
      "  CS = subplot.contour(self.xy_data_array, contours, cmap=cmap,\n"
     ]
    },
    {
     "data": {
      "image/png": "[encoded data removed]",
      "text/plain": [
       "Graphics object consisting of 2 graphics primitives"
      ]
     },
     "execution_count": 24,
     "metadata": {},
     "output_type": "execute_result"
    }
   ],
   "source": [
    "P.signal(reach).to_mask_and().plot()"
   ]
  },
  {
   "cell_type": "code",
   "execution_count": 26,
   "metadata": {},
   "outputs": [
    {
     "name": "stdout",
     "output_type": "stream",
     "text": [
      "PolyObserver(x6 - 1, <flowstar.reachability.Reach object at 0x7f875e7dcba0>, -0.10000000000000000?*x1*x6 - x2*x6 - 2*x6*x8 + 50*x3 + 100*x4 + 50*x5 - x6, symbolic_composition=False, tentative_unpreconditioning=True, mask=None)\n",
      "fprime = -0.10000000000000000?*x1*x6 - x2*x6 - 2*x6*x8 + 50*x3 + 100*x4 + 50*x5 - x6\n",
      "symbolic_composition=False, tentative_unpreconditioning=True,two_pass_masks=False\n",
      "roots(space_domain=None, epsilon=1e-05, verbosity=0)\n",
      "top-level root detection: 1 items in 2.69 seconds\n",
      "roots = [[0.71099999999997254 .. 0.96600000000000086]]\n",
      "domain = [0.0000000000000000 .. 5.0000000000000000]\n",
      "roots = [[0.71099999999997254 .. 0.96600000000000086]]\n",
      "seg_domain = [0.0000000000000000 .. 5.0000000000000000]\n",
      "roots = [[0.71099999999997254 .. 0.96600000000000086]]\n",
      "signal given bool roots: 1 items in 0.00 seconds\n",
      "Monitoring atomic x6 > 1: 1 items in 2.69 seconds\n"
     ]
    },
    {
     "name": "stderr",
     "output_type": "stream",
     "text": [
      "/usr/lib64/python3.8/site-packages/sage/plot/contour_plot.py:203: UserWarning: No contour levels were found within the data range.\n",
      "  CS = subplot.contour(self.xy_data_array, contours, cmap=cmap,\n"
     ]
    },
    {
     "data": {
      "image/png": "[encoded data removed]",
      "text/plain": [
       "Graphics object consisting of 2 graphics primitives"
      ]
     },
     "execution_count": 26,
     "metadata": {},
     "output_type": "execute_result"
    }
   ],
   "source": [
    "maskP = P.signal(reach).to_mask_and().P(RIF(1.5, 2))\n",
    "maskP.plot()"
   ]
  },
  {
   "cell_type": "code",
   "execution_count": 22,
   "metadata": {},
   "outputs": [
    {
     "name": "stdout",
     "output_type": "stream",
     "text": [
      "PolyObserver(-x4 + 0.03333333333333334?, <flowstar.reachability.Reach object at 0x7f875e7dcba0>, -x2*x6 + 100*x4, symbolic_composition=False, tentative_unpreconditioning=True, mask=None)\n",
      "fprime = -x2*x6 + 100*x4\n",
      "symbolic_composition=False, tentative_unpreconditioning=True,two_pass_masks=False\n",
      "roots(space_domain=None, epsilon=1e-05, verbosity=0)\n",
      "top-level root detection: 1 items in 2.47 seconds\n",
      "roots = [[0.011318675783094225 .. 0.021000000000000009]]\n",
      "domain = [0.0000000000000000 .. 5.0000000000000000]\n",
      "roots = [[0.011318675783094225 .. 0.021000000000000009]]\n",
      "seg_domain = [0.0000000000000000 .. 5.0000000000000000]\n",
      "roots = [[0.011318675783094225 .. 0.021000000000000009]]\n",
      "signal given bool roots: 1 items in 0.00 seconds\n",
      "Monitoring atomic x4 < (1/30): 1 items in 2.47 seconds\n"
     ]
    },
    {
     "data": {
      "image/png": "[encoded data removed]",
      "text/plain": [
       "Graphics object consisting of 2 graphics primitives"
      ]
     },
     "execution_count": 22,
     "metadata": {},
     "output_type": "execute_result"
    }
   ],
   "source": [
    "Q.signal(reach).plot()"
   ]
  },
  {
   "cell_type": "code",
   "execution_count": 28,
   "metadata": {},
   "outputs": [
    {
     "name": "stdout",
     "output_type": "stream",
     "text": [
      "PolyObserver(-x4 + 0.02500000000000000?, <flowstar.reachability.Reach object at 0x7f875e7dcba0>, -x2*x6 + 100*x4, symbolic_composition=False, tentative_unpreconditioning=True, mask=None)\n",
      "fprime = -x2*x6 + 100*x4\n",
      "symbolic_composition=False, tentative_unpreconditioning=True,two_pass_masks=False\n",
      "roots(space_domain=None, epsilon=1e-05, verbosity=0)\n",
      "top-level root detection: 1 items in 3.01 seconds\n",
      "roots = [[0.019972513248318571 .. 0.037417634068382507], [0.092999999999999583 .. 0.66900000000000060]]\n",
      "domain = [0.0000000000000000 .. 5.0000000000000000]\n",
      "roots = [[0.019972513248318571 .. 0.037417634068382507], \n",
      " [0.092999999999999583 .. 0.66900000000000060]]\n",
      "seg_domain = [0.0000000000000000 .. 5.0000000000000000]\n",
      "roots = [[0.019972513248318571 .. 0.037417634068382507], \n",
      " [0.092999999999999583 .. 0.66900000000000060]]\n",
      "signal given bool roots: 1 items in 0.00 seconds\n",
      "Monitoring atomic x4 < (1/40): 1 items in 3.01 seconds\n"
     ]
    },
    {
     "name": "stderr",
     "output_type": "stream",
     "text": [
      "/usr/lib64/python3.8/site-packages/sage/plot/contour_plot.py:203: UserWarning: No contour levels were found within the data range.\n",
      "  CS = subplot.contour(self.xy_data_array, contours, cmap=cmap,\n"
     ]
    },
    {
     "data": {
      "image/png": "[encoded data removed]",
      "text/plain": [
       "Graphics object consisting of 2 graphics primitives"
      ]
     },
     "execution_count": 28,
     "metadata": {},
     "output_type": "execute_result"
    }
   ],
   "source": [
    "Q.signal(reach).G(RIF(1.5, 2)).plot()"
   ]
  },
  {
   "cell_type": "code",
   "execution_count": 29,
   "metadata": {},
   "outputs": [
    {
     "name": "stdout",
     "output_type": "stream",
     "text": [
      "PolyObserver(-x4 + 0.02500000000000000?, <flowstar.reachability.Reach object at 0x7f875e7dcba0>, -x2*x6 + 100*x4, symbolic_composition=False, tentative_unpreconditioning=True, mask=Mask([0.0000000000000000 .. 7.0000000000000000], [[1.5000000000000000 .. 2.9660000000000011]]))\n",
      "fprime = -x2*x6 + 100*x4\n",
      "symbolic_composition=False, tentative_unpreconditioning=True,two_pass_masks=False\n",
      "roots(space_domain=None, epsilon=1e-05, verbosity=0)\n",
      "top-level root detection: 1 items in 0.80 seconds\n",
      "roots = []\n",
      "domain = [0.0000000000000000 .. 5.0000000000000000]\n",
      "roots = []\n",
      "seg_domain = [1.5000000000000000 .. 2.9660000000000011]\n",
      "roots = []\n",
      "signal given bool roots: 1 items in 0.00 seconds\n",
      "Monitoring atomic x4 < (1/40): 1 items in 0.80 seconds\n"
     ]
    },
    {
     "name": "stderr",
     "output_type": "stream",
     "text": [
      "/usr/lib64/python3.8/site-packages/sage/plot/contour_plot.py:203: UserWarning: No contour levels were found within the data range.\n",
      "  CS = subplot.contour(self.xy_data_array, contours, cmap=cmap,\n"
     ]
    },
    {
     "data": {
      "image/png": "[encoded data removed]",
      "text/plain": [
       "Graphics object consisting of 2 graphics primitives"
      ]
     },
     "execution_count": 29,
     "metadata": {},
     "output_type": "execute_result"
    }
   ],
   "source": [
    "Q.signal(reach, mask=maskP).G(RIF(1.5, 2)).plot()"
   ]
  },
  {
   "cell_type": "code",
   "execution_count": 30,
   "metadata": {},
   "outputs": [
    {
     "name": "stdout",
     "output_type": "stream",
     "text": [
      "PolyObserver(x6 - 1, <flowstar.reachability.Reach object at 0x7f875e7dcba0>, -0.10000000000000000?*x1*x6 - x2*x6 - 2*x6*x8 + 50*x3 + 100*x4 + 50*x5 - x6, symbolic_composition=False, tentative_unpreconditioning=True, mask=None)\n",
      "fprime = -0.10000000000000000?*x1*x6 - x2*x6 - 2*x6*x8 + 50*x3 + 100*x4 + 50*x5 - x6\n",
      "symbolic_composition=False, tentative_unpreconditioning=True,two_pass_masks=False\n",
      "roots(space_domain=None, epsilon=1e-05, verbosity=0)\n",
      "top-level root detection: 1 items in 2.66 seconds\n",
      "roots = [[0.71099999999997254 .. 0.96600000000000086]]\n",
      "domain = [0.0000000000000000 .. 5.0000000000000000]\n",
      "roots = [[0.71099999999997254 .. 0.96600000000000086]]\n",
      "seg_domain = [0.0000000000000000 .. 5.0000000000000000]\n",
      "roots = [[0.71099999999997254 .. 0.96600000000000086]]\n",
      "signal given bool roots: 1 items in 0.00 seconds\n",
      "Monitoring atomic x6 > 1: 1 items in 2.66 seconds\n",
      "PolyObserver(-x4 + 0.02500000000000000?, <flowstar.reachability.Reach object at 0x7f875e7dcba0>, -x2*x6 + 100*x4, symbolic_composition=False, tentative_unpreconditioning=True, mask=None)\n",
      "fprime = -x2*x6 + 100*x4\n",
      "symbolic_composition=False, tentative_unpreconditioning=True,two_pass_masks=False\n",
      "roots(space_domain=None, epsilon=1e-05, verbosity=0)\n",
      "top-level root detection: 1 items in 2.99 seconds\n",
      "roots = [[0.019972513248318571 .. 0.037417634068382507], [0.092999999999999583 .. 0.66900000000000060]]\n",
      "domain = [0.0000000000000000 .. 5.0000000000000000]\n",
      "roots = [[0.019972513248318571 .. 0.037417634068382507], \n",
      " [0.092999999999999583 .. 0.66900000000000060]]\n",
      "seg_domain = [0.0000000000000000 .. 5.0000000000000000]\n",
      "roots = [[0.019972513248318571 .. 0.037417634068382507], \n",
      " [0.092999999999999583 .. 0.66900000000000060]]\n",
      "signal given bool roots: 1 items in 0.00 seconds\n",
      "Monitoring atomic x4 < (1/40): 1 items in 2.99 seconds\n"
     ]
    },
    {
     "data": {
      "image/png": "[encoded data removed]",
      "text/plain": [
       "Graphics object consisting of 2 graphics primitives"
      ]
     },
     "execution_count": 30,
     "metadata": {},
     "output_type": "execute_result"
    }
   ],
   "source": [
    "(P.signal(reach) & Q.signal(reach).G(RIF(1.5, 2))).plot()"
   ]
  },
  {
   "cell_type": "code",
   "execution_count": 17,
   "metadata": {},
   "outputs": [],
   "source": [
    "def no_op(interval, x):\n",
    "    return x"
   ]
  },
  {
   "cell_type": "code",
   "execution_count": 24,
   "metadata": {},
   "outputs": [
    {
     "data": {
      "application/vnd.jupyter.widget-view+json": {
       "model_id": "3f3126da3e2e4d5791c295d00561e681",
       "version_major": 2,
       "version_minor": 0
      },
      "text/plain": [
       "Manual interactive function <function _ at 0x7f714e705b80> with 4 widgets\n",
       "  t: SelectionSlider(description='t'…"
      ]
     },
     "metadata": {},
     "output_type": "display_data"
    }
   ],
   "source": [
    "@interact\n",
    "def _(t=slider(0, 4, step_size=1/10, default=2),\n",
    "      k=slider(0, 4, step_size=1/10, default=1),\n",
    "      epsilon=slider(0, 1/100, step_size=1/1000, default=1/200),\n",
    "      operator=selector({'G': G, 'F': F, 'None': no_op}),\n",
    "      auto_update=False):\n",
    "    with suppress_stdout():\n",
    "        operator(RIF(t, t+k), Atomic(var(\"x4\") < epsilon)).signal(reach).plot().show()"
   ]
  },
  {
   "cell_type": "code",
   "execution_count": 19,
   "metadata": {},
   "outputs": [],
   "source": [
    "from time import perf_counter"
   ]
  },
  {
   "cell_type": "code",
   "execution_count": 20,
   "metadata": {},
   "outputs": [
    {
     "data": {
      "application/vnd.jupyter.widget-view+json": {
       "model_id": "dc374d88f2604465b8972215a1b63ffe",
       "version_major": 2,
       "version_minor": 0
      },
      "text/plain": [
       "Manual interactive function <function _ at 0x7f7158896940> with 6 widgets\n",
       "  t: SelectionSlider(description='t'…"
      ]
     },
     "metadata": {},
     "output_type": "display_data"
    }
   ],
   "source": [
    "@interact\n",
    "def _(t=slider(0, 4, step_size=1/10, default=2),\n",
    "      k=slider(0, 4, step_size=1/10, default=1),\n",
    "      epsilon=slider(0, 1/100, step_size=1/1000, default=1/200),\n",
    "      operator=selector({'G': G, 'F': F, 'None': no_op}),\n",
    "      symbolic_composition=checkbox(False),\n",
    "      use_masks=checkbox(False),\n",
    "      auto_update=False):\n",
    "    with suppress_stdout():\n",
    "        t0 = perf_counter()\n",
    "        (P & operator(RIF(t, t+k), Atomic(var(\"x4\") < epsilon))).signal(reach, symbolic_composition=symbolic_composition, use_masks=use_masks).plot().show()\n",
    "        t1 = perf_counter()\n",
    "    print(f\"Monitored in {t1 - t0} sec\")"
   ]
  },
  {
   "cell_type": "code",
   "execution_count": 21,
   "metadata": {},
   "outputs": [],
   "source": [
    "import operator"
   ]
  },
  {
   "cell_type": "code",
   "execution_count": 22,
   "metadata": {},
   "outputs": [
    {
     "data": {
      "application/vnd.jupyter.widget-view+json": {
       "model_id": "313ee54a78684109baf2cb60dda5c8a7",
       "version_major": 2,
       "version_minor": 0
      },
      "text/plain": [
       "Manual interactive function <function _ at 0x7f71558765e0> with 8 widgets\n",
       "  t: SelectionSlider(description='t'…"
      ]
     },
     "metadata": {},
     "output_type": "display_data"
    }
   ],
   "source": [
    "@interact\n",
    "def _(t=slider(0, 4, step_size=1/10, default=2),\n",
    "      k=slider(0, 4, step_size=1/10, default=1),\n",
    "      tx6=slider(0, 2, step_size=1/10, default=1),\n",
    "      epsilon=slider(0, 1/100, step_size=1/1000, default=1/200),\n",
    "      temporal_operator=selector({'G': G, 'F': F, 'None': no_op}),\n",
    "      logical_operator=selector({'and': operator.and_, 'or': operator.or_}),\n",
    "      symbolic_composition=checkbox(False),\n",
    "      use_masks=checkbox(False),\n",
    "      auto_update=False):\n",
    "    kwargs = dict(symbolic_composition=symbolic_composition, use_masks=use_masks)\n",
    "    with suppress_stdout():\n",
    "        t0 = perf_counter()\n",
    "        P = Atomic(var(\"x6\") > tx6)\n",
    "        sigP = P.signal(reach, **kwargs)\n",
    "        t1 = perf_counter()\n",
    "        sigP.plot().show()\n",
    "    print(f\"Monitored P in {t1 - t0} sec\")\n",
    "    with suppress_stdout():\n",
    "        t0 = perf_counter()\n",
    "        Q = temporal_operator(RIF(t, t+k), Atomic(var(\"x4\") < epsilon))\n",
    "        sigQ = Q.signal(reach, **kwargs)\n",
    "        t1 = perf_counter()\n",
    "        sigQ.plot().show()\n",
    "    print(f\"Monitored Q in {t1 - t0} sec\")\n",
    "    with suppress_stdout():\n",
    "        t0 = perf_counter()\n",
    "        sig = logical_operator(P, Q).signal(reach, **kwargs)\n",
    "        t1 = perf_counter()\n",
    "        sig.plot().show()\n",
    "    print(f\"Monitored overall prop in {t1 - t0} sec\")"
   ]
  },
  {
   "cell_type": "code",
   "execution_count": 23,
   "metadata": {
    "scrolled": false
   },
   "outputs": [
    {
     "data": {
      "application/vnd.jupyter.widget-view+json": {
       "model_id": "e0c16dbaaf834c809ddabcdf4d7c8fd4",
       "version_major": 2,
       "version_minor": 0
      },
      "text/plain": [
       "Manual interactive function <function _ at 0x7f714e950700> with 10 widgets\n",
       "  t: SelectionSlider(description='t…"
      ]
     },
     "metadata": {},
     "output_type": "display_data"
    }
   ],
   "source": [
    "@interact\n",
    "def _(t=slider(0, 4, step_size=1/10, default=2),\n",
    "      k=slider(0, 4, step_size=1/10, default=1),\n",
    "      tx6=slider(0, 2, step_size=1/10, default=1),\n",
    "      epsilon=slider(0, 1/100, step_size=1/1000, default=1/200),\n",
    "      duration=slider(0, 10, default=5),\n",
    "      temporal_operator=selector({'G': G, 'F': F, 'None': no_op}),\n",
    "      logical_operator=selector({'and': operator.and_, 'or': operator.or_}),\n",
    "      symbolic_composition=checkbox(False),\n",
    "      use_masks=checkbox(False),\n",
    "      two_pass_masks=False,\n",
    "      auto_update=False):\n",
    "    kwargs = dict(\n",
    "        symbolic_composition=symbolic_composition,       \n",
    "        use_masks=use_masks,\n",
    "        two_pass_masks=two_pass_masks,\n",
    "    )\n",
    "    \n",
    "    def display(sig):\n",
    "        if duration:\n",
    "            sig.plot().show()\n",
    "        else:\n",
    "            print(repr(sig(0)))\n",
    "    \n",
    "    sigs = {}\n",
    "    times = {}\n",
    "    \n",
    "    def monitor(prop):\n",
    "        try:\n",
    "            times[prop], sigs[prop] = test_monitoring(prop, duration, **kwargs)\n",
    "            display(sigs[prop])\n",
    "            print(f\"Monitored {prop} in {times[prop]} sec\")\n",
    "        except:\n",
    "            import traceback\n",
    "            traceback.print_last()\n",
    "    \n",
    "   \n",
    "    P = Atomic(var(\"x6\") > tx6)\n",
    "    monitor(P)\n",
    "    \n",
    "    Q = temporal_operator(RIF(t, t+k),\n",
    "                          Atomic(var(\"x4\") < epsilon))\n",
    "    monitor(Q)                        \n",
    "    \n",
    "    \n",
    "    monitor(logical_operator(P, Q))\n",
    "                          \n",
    "    monitor(logical_operator(Q, P))\n",
    "    \n",
    "    return sigs, times"
   ]
  },
  {
   "cell_type": "code",
   "execution_count": null,
   "metadata": {},
   "outputs": [],
   "source": []
  }
 ],
 "metadata": {
  "kernelspec": {
   "display_name": "SageMath 9.0",
   "language": "sage",
   "name": "sagemath"
  },
  "language_info": {
   "codemirror_mode": {
    "name": "ipython",
    "version": 3
   },
   "file_extension": ".py",
   "mimetype": "text/x-python",
   "name": "python",
   "nbconvert_exporter": "python",
   "pygments_lexer": "ipython3",
   "version": "3.8.2"
  },
  "notify_time": "5"
 },
 "nbformat": 4,
 "nbformat_minor": 2
}
