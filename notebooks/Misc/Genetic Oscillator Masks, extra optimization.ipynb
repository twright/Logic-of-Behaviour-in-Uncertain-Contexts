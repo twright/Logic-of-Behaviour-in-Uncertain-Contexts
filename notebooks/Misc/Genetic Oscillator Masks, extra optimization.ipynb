{
 "cells": [
  {
   "cell_type": "code",
   "execution_count": 1,
   "metadata": {},
   "outputs": [],
   "source": [
    "%display latex\n",
    "import sys\n",
    "\n",
    "sys.path.insert(0, \"/home/twright/Documents/PhD/Notebooks\")\n",
    "\n",
    "from lbuc import *\n",
    "from flowstar import *\n",
    "from lbuc.bondcalculus import *"
   ]
  },
  {
   "cell_type": "code",
   "execution_count": 2,
   "metadata": {},
   "outputs": [],
   "source": [
    "R.<x1,x2,x3,x4,x5,x6,x7,x8,x9> = RIF[]"
   ]
  },
  {
   "cell_type": "code",
   "execution_count": 3,
   "metadata": {},
   "outputs": [],
   "source": [
    "y = vector([\n",
    "    10*x3 - RIF('0.1')*x1*x6,\n",
    "    100*x4 - x1*x2,\n",
    "    RIF('0.1')*x1*x6 - 50*x3,\n",
    "    x2*x6 - 100*x4,\n",
    "    5*x3 + RIF('0.5')*x1 - 10*x5,\n",
    "    50*x5 + 50*x3 + 100*x4 - x6*(RIF('0.1')*x1 + x2 + 2*x8 + 1),\n",
    "    50*x4 + RIF('0.01')*x2 - RIF('0.5')*x7,\n",
    "    RIF('0.5')*x7 - 2*x6*x8 + x9 - RIF('0.2')*x8,\n",
    "    2*x6*x8 - x9,\n",
    "])"
   ]
  },
  {
   "cell_type": "code",
   "execution_count": 4,
   "metadata": {},
   "outputs": [
    {
     "data": {
      "text/html": [
       "<html><script type=\"math/tex; mode=display\">\\newcommand{\\Bold}[1]{\\mathbf{#1}}\\left(-0.10000000000000000? x_{1} x_{6} + 10 x_{3},\\,-x_{1} x_{2} + 100 x_{4},\\,0.10000000000000000? x_{1} x_{6} - 50 x_{3},\\,x_{2} x_{6} - 100 x_{4},\\,0.50000000000000000? x_{1} + 5 x_{3} - 10 x_{5},\\,-0.10000000000000000? x_{1} x_{6} - x_{2} x_{6} - 2 x_{6} x_{8} + 50 x_{3} + 100 x_{4} + 50 x_{5} - x_{6},\\,0.01000000000000000? x_{2} + 50 x_{4} - 0.50000000000000000? x_{7},\\,-2 x_{6} x_{8} + 0.50000000000000000? x_{7} - 0.2000000000000000? x_{8} + x_{9},\\,2 x_{6} x_{8} - x_{9}\\right)</script></html>"
      ],
      "text/plain": [
       "(-0.10000000000000000?*x1*x6 + 10*x3, -x1*x2 + 100*x4, 0.10000000000000000?*x1*x6 - 50*x3, x2*x6 - 100*x4, 0.50000000000000000?*x1 + 5*x3 - 10*x5, -0.10000000000000000?*x1*x6 - x2*x6 - 2*x6*x8 + 50*x3 + 100*x4 + 50*x5 - x6, 0.01000000000000000?*x2 + 50*x4 - 0.50000000000000000?*x7, -2*x6*x8 + 0.50000000000000000?*x7 - 0.2000000000000000?*x8 + x9, 2*x6*x8 - x9)"
      ]
     },
     "execution_count": 4,
     "metadata": {},
     "output_type": "execute_result"
    }
   ],
   "source": [
    "y"
   ]
  },
  {
   "cell_type": "code",
   "execution_count": 5,
   "metadata": {},
   "outputs": [
    {
     "data": {
      "text/html": [
       "<div class=\"notruncate\">\n",
       "<table  class=\"table_form\">\n",
       "<tbody>\n",
       "<tr class =\"row-a\">\n",
       "<td><script type=\"math/tex\">-0.10000000000000000? x_{1} x_{6} + 10 x_{3}</script></td>\n",
       "</tr>\n",
       "<tr class =\"row-b\">\n",
       "<td><script type=\"math/tex\">-x_{1} x_{2} + 100 x_{4}</script></td>\n",
       "</tr>\n",
       "<tr class =\"row-a\">\n",
       "<td><script type=\"math/tex\">0.10000000000000000? x_{1} x_{6} - 50 x_{3}</script></td>\n",
       "</tr>\n",
       "<tr class =\"row-b\">\n",
       "<td><script type=\"math/tex\">x_{2} x_{6} - 100 x_{4}</script></td>\n",
       "</tr>\n",
       "<tr class =\"row-a\">\n",
       "<td><script type=\"math/tex\">0.50000000000000000? x_{1} + 5 x_{3} - 10 x_{5}</script></td>\n",
       "</tr>\n",
       "<tr class =\"row-b\">\n",
       "<td><script type=\"math/tex\">-0.10000000000000000? x_{1} x_{6} - x_{2} x_{6} - 2 x_{6} x_{8} + 50 x_{3} + 100 x_{4} + 50 x_{5} - x_{6}</script></td>\n",
       "</tr>\n",
       "<tr class =\"row-a\">\n",
       "<td><script type=\"math/tex\">0.01000000000000000? x_{2} + 50 x_{4} - 0.50000000000000000? x_{7}</script></td>\n",
       "</tr>\n",
       "<tr class =\"row-b\">\n",
       "<td><script type=\"math/tex\">-2 x_{6} x_{8} + 0.50000000000000000? x_{7} - 0.2000000000000000? x_{8} + x_{9}</script></td>\n",
       "</tr>\n",
       "<tr class =\"row-a\">\n",
       "<td><script type=\"math/tex\">2 x_{6} x_{8} - x_{9}</script></td>\n",
       "</tr>\n",
       "</tbody>\n",
       "</table>\n",
       "</div>"
      ],
      "text/plain": [
       "  -0.10000000000000000?*x1*x6 + 10*x3\n",
       "  -x1*x2 + 100*x4\n",
       "  0.10000000000000000?*x1*x6 - 50*x3\n",
       "  x2*x6 - 100*x4\n",
       "  0.50000000000000000?*x1 + 5*x3 - 10*x5\n",
       "  -0.10000000000000000?*x1*x6 - x2*x6 - 2*x6*x8 + 50*x3 + 100*x4 + 50*x5 - x6\n",
       "  0.01000000000000000?*x2 + 50*x4 - 0.50000000000000000?*x7\n",
       "  -2*x6*x8 + 0.50000000000000000?*x7 - 0.2000000000000000?*x8 + x9\n",
       "  2*x6*x8 - x9"
      ]
     },
     "execution_count": 5,
     "metadata": {},
     "output_type": "execute_result"
    }
   ],
   "source": [
    "table([[yi] for yi in y])"
   ]
  },
  {
   "cell_type": "code",
   "execution_count": 6,
   "metadata": {},
   "outputs": [],
   "source": [
    "y0 = [\n",
    "    RIF('[0.98, 1.02]'),\n",
    "    RIF('[1.28, 1.32]'),\n",
    "    RIF('[0.08, 0.12]'),\n",
    "    RIF('[0.08, 0.12]'), # x4\n",
    "    RIF('[0.08, 0.12]'),\n",
    "    RIF('[1.28, 1.32]'), # x6\n",
    "    RIF('[2.48, 2.52]'),\n",
    "    RIF('[0.58, 0.62]'),\n",
    "    RIF('[1.28, 1.32]'),\n",
    "]"
   ]
  },
  {
   "cell_type": "code",
   "execution_count": 7,
   "metadata": {},
   "outputs": [
    {
     "data": {
      "text/html": [
       "<div class=\"notruncate\">\n",
       "<table  class=\"table_form\">\n",
       "<tbody>\n",
       "<tr class =\"row-a\">\n",
       "<td><script type=\"math/tex\">0.979999999999999</script></td>\n",
       "<td><script type=\"math/tex\">1.02000000000001</script></td>\n",
       "</tr>\n",
       "<tr class =\"row-b\">\n",
       "<td><script type=\"math/tex\">1.27999999999999</script></td>\n",
       "<td><script type=\"math/tex\">1.32000000000001</script></td>\n",
       "</tr>\n",
       "<tr class =\"row-a\">\n",
       "<td><script type=\"math/tex\">0.0799999999999999</script></td>\n",
       "<td><script type=\"math/tex\">0.120000000000001</script></td>\n",
       "</tr>\n",
       "<tr class =\"row-b\">\n",
       "<td><script type=\"math/tex\">0.0799999999999999</script></td>\n",
       "<td><script type=\"math/tex\">0.120000000000001</script></td>\n",
       "</tr>\n",
       "<tr class =\"row-a\">\n",
       "<td><script type=\"math/tex\">0.0799999999999999</script></td>\n",
       "<td><script type=\"math/tex\">0.120000000000001</script></td>\n",
       "</tr>\n",
       "<tr class =\"row-b\">\n",
       "<td><script type=\"math/tex\">1.27999999999999</script></td>\n",
       "<td><script type=\"math/tex\">1.32000000000001</script></td>\n",
       "</tr>\n",
       "<tr class =\"row-a\">\n",
       "<td><script type=\"math/tex\">2.47999999999999</script></td>\n",
       "<td><script type=\"math/tex\">2.52000000000001</script></td>\n",
       "</tr>\n",
       "<tr class =\"row-b\">\n",
       "<td><script type=\"math/tex\">0.579999999999999</script></td>\n",
       "<td><script type=\"math/tex\">0.620000000000001</script></td>\n",
       "</tr>\n",
       "<tr class =\"row-a\">\n",
       "<td><script type=\"math/tex\">1.27999999999999</script></td>\n",
       "<td><script type=\"math/tex\">1.32000000000001</script></td>\n",
       "</tr>\n",
       "</tbody>\n",
       "</table>\n",
       "</div>"
      ],
      "text/plain": [
       "  0.979999999999999    1.02000000000001\n",
       "  1.27999999999999     1.32000000000001\n",
       "  0.0799999999999999   0.120000000000001\n",
       "  0.0799999999999999   0.120000000000001\n",
       "  0.0799999999999999   0.120000000000001\n",
       "  1.27999999999999     1.32000000000001\n",
       "  2.47999999999999     2.52000000000001\n",
       "  0.579999999999999    0.620000000000001\n",
       "  1.27999999999999     1.32000000000001"
      ]
     },
     "execution_count": 7,
     "metadata": {},
     "output_type": "execute_result"
    }
   ],
   "source": [
    "table([y0i.endpoints() for y0i in y0])"
   ]
  },
  {
   "cell_type": "code",
   "execution_count": 8,
   "metadata": {},
   "outputs": [
    {
     "data": {
      "text/html": [
       "<html><script type=\"math/tex; mode=display\">\\newcommand{\\Bold}[1]{\\mathbf{#1}}\\Bold{I} \\Bold{R}[x_{1}, x_{2}, x_{3}, x_{4}, x_{5}, x_{6}, x_{7}, x_{8}, x_{9}]</script></html>"
      ],
      "text/plain": [
       "Multivariate Polynomial Ring in x1, x2, x3, x4, x5, x6, x7, x8, x9 over Real Interval Field with 53 bits of precision"
      ]
     },
     "execution_count": 8,
     "metadata": {},
     "output_type": "execute_result"
    }
   ],
   "source": [
    "R"
   ]
  },
  {
   "cell_type": "code",
   "execution_count": 9,
   "metadata": {},
   "outputs": [
    {
     "data": {
      "text/html": [
       "<html><script type=\"math/tex; mode=display\">\\newcommand{\\Bold}[1]{\\mathbf{#1}}\\verb|System(R,|\\phantom{\\verb!x!}\\verb|(x1,|\\phantom{\\verb!x!}\\verb|x2,|\\phantom{\\verb!x!}\\verb|x3,|\\phantom{\\verb!x!}\\verb|x4,|\\phantom{\\verb!x!}\\verb|x5,|\\phantom{\\verb!x!}\\verb|x6,|\\phantom{\\verb!x!}\\verb|x7,|\\phantom{\\verb!x!}\\verb|x8,|\\phantom{\\verb!x!}\\verb|x9),|\\phantom{\\verb!x!}\\verb|[[0.97999999999999998|\\phantom{\\verb!x!}\\verb|..|\\phantom{\\verb!x!}\\verb|1.0200000000000001],|\\phantom{\\verb!x!}\\verb|[1.2799999999999998|\\phantom{\\verb!x!}\\verb|..|\\phantom{\\verb!x!}\\verb|1.3200000000000001],|\\phantom{\\verb!x!}\\verb|[0.079999999999999987|\\phantom{\\verb!x!}\\verb|..|\\phantom{\\verb!x!}\\verb|0.12000000000000001],|\\phantom{\\verb!x!}\\verb|[0.079999999999999987|\\phantom{\\verb!x!}\\verb|..|\\phantom{\\verb!x!}\\verb|0.12000000000000001],|\\phantom{\\verb!x!}\\verb|[0.079999999999999987|\\phantom{\\verb!x!}\\verb|..|\\phantom{\\verb!x!}\\verb|0.12000000000000001],|\\phantom{\\verb!x!}\\verb|[1.2799999999999998|\\phantom{\\verb!x!}\\verb|..|\\phantom{\\verb!x!}\\verb|1.3200000000000001],|\\phantom{\\verb!x!}\\verb|[2.4799999999999999|\\phantom{\\verb!x!}\\verb|..|\\phantom{\\verb!x!}\\verb|2.5200000000000001],|\\phantom{\\verb!x!}\\verb|[0.57999999999999996|\\phantom{\\verb!x!}\\verb|..|\\phantom{\\verb!x!}\\verb|0.62000000000000011],|\\phantom{\\verb!x!}\\verb|[1.2799999999999998|\\phantom{\\verb!x!}\\verb|..|\\phantom{\\verb!x!}\\verb|1.3200000000000001]],|\\phantom{\\verb!x!}\\verb|(-0.10000000000000000?*x1*x6|\\phantom{\\verb!x!}\\verb|+|\\phantom{\\verb!x!}\\verb|10*x3,|\\phantom{\\verb!x!}\\verb|-x1*x2|\\phantom{\\verb!x!}\\verb|+|\\phantom{\\verb!x!}\\verb|100*x4,|\\phantom{\\verb!x!}\\verb|0.10000000000000000?*x1*x6|\\phantom{\\verb!x!}\\verb|-|\\phantom{\\verb!x!}\\verb|50*x3,|\\phantom{\\verb!x!}\\verb|x2*x6|\\phantom{\\verb!x!}\\verb|-|\\phantom{\\verb!x!}\\verb|100*x4,|\\phantom{\\verb!x!}\\verb|0.50000000000000000?*x1|\\phantom{\\verb!x!}\\verb|+|\\phantom{\\verb!x!}\\verb|5*x3|\\phantom{\\verb!x!}\\verb|-|\\phantom{\\verb!x!}\\verb|10*x5,|\\phantom{\\verb!x!}\\verb|-0.10000000000000000?*x1*x6|\\phantom{\\verb!x!}\\verb|-|\\phantom{\\verb!x!}\\verb|x2*x6|\\phantom{\\verb!x!}\\verb|-|\\phantom{\\verb!x!}\\verb|2*x6*x8|\\phantom{\\verb!x!}\\verb|+|\\phantom{\\verb!x!}\\verb|50*x3|\\phantom{\\verb!x!}\\verb|+|\\phantom{\\verb!x!}\\verb|100*x4|\\phantom{\\verb!x!}\\verb|+|\\phantom{\\verb!x!}\\verb|50*x5|\\phantom{\\verb!x!}\\verb|-|\\phantom{\\verb!x!}\\verb|x6,|\\phantom{\\verb!x!}\\verb|0.01000000000000000?*x2|\\phantom{\\verb!x!}\\verb|+|\\phantom{\\verb!x!}\\verb|50*x4|\\phantom{\\verb!x!}\\verb|-|\\phantom{\\verb!x!}\\verb|0.50000000000000000?*x7,|\\phantom{\\verb!x!}\\verb|-2*x6*x8|\\phantom{\\verb!x!}\\verb|+|\\phantom{\\verb!x!}\\verb|0.50000000000000000?*x7|\\phantom{\\verb!x!}\\verb|-|\\phantom{\\verb!x!}\\verb|0.2000000000000000?*x8|\\phantom{\\verb!x!}\\verb|+|\\phantom{\\verb!x!}\\verb|x9,|\\phantom{\\verb!x!}\\verb|2*x6*x8|\\phantom{\\verb!x!}\\verb|-|\\phantom{\\verb!x!}\\verb|x9),|\\phantom{\\verb!x!}\\verb|varmap=bidict({'x1':|\\phantom{\\verb!x!}\\verb|x1,|\\phantom{\\verb!x!}\\verb|'x2':|\\phantom{\\verb!x!}\\verb|x2,|\\phantom{\\verb!x!}\\verb|'x3':|\\phantom{\\verb!x!}\\verb|x3,|\\phantom{\\verb!x!}\\verb|'x4':|\\phantom{\\verb!x!}\\verb|x4,|\\phantom{\\verb!x!}\\verb|'x5':|\\phantom{\\verb!x!}\\verb|x5,|\\phantom{\\verb!x!}\\verb|'x6':|\\phantom{\\verb!x!}\\verb|x6,|\\phantom{\\verb!x!}\\verb|'x7':|\\phantom{\\verb!x!}\\verb|x7,|\\phantom{\\verb!x!}\\verb|'x8':|\\phantom{\\verb!x!}\\verb|x8,|\\phantom{\\verb!x!}\\verb|'x9':|\\phantom{\\verb!x!}\\verb|x9}))|</script></html>"
      ],
      "text/plain": [
       "System(R, (x1, x2, x3, x4, x5, x6, x7, x8, x9), [[0.97999999999999998 .. 1.0200000000000001], [1.2799999999999998 .. 1.3200000000000001], [0.079999999999999987 .. 0.12000000000000001], [0.079999999999999987 .. 0.12000000000000001], [0.079999999999999987 .. 0.12000000000000001], [1.2799999999999998 .. 1.3200000000000001], [2.4799999999999999 .. 2.5200000000000001], [0.57999999999999996 .. 0.62000000000000011], [1.2799999999999998 .. 1.3200000000000001]], (-0.10000000000000000?*x1*x6 + 10*x3, -x1*x2 + 100*x4, 0.10000000000000000?*x1*x6 - 50*x3, x2*x6 - 100*x4, 0.50000000000000000?*x1 + 5*x3 - 10*x5, -0.10000000000000000?*x1*x6 - x2*x6 - 2*x6*x8 + 50*x3 + 100*x4 + 50*x5 - x6, 0.01000000000000000?*x2 + 50*x4 - 0.50000000000000000?*x7, -2*x6*x8 + 0.50000000000000000?*x7 - 0.2000000000000000?*x8 + x9, 2*x6*x8 - x9), varmap=bidict({'x1': x1, 'x2': x2, 'x3': x3, 'x4': x4, 'x5': x5, 'x6': x6, 'x7': x7, 'x8': x8, 'x9': x9}))"
      ]
     },
     "execution_count": 9,
     "metadata": {},
     "output_type": "execute_result"
    }
   ],
   "source": [
    "sys = System(R, R.gens(), y0, y); sys"
   ]
  },
  {
   "cell_type": "code",
   "execution_count": 10,
   "metadata": {},
   "outputs": [],
   "source": [
    "RReal = RR['x1', 'x2', 'x3', 'x4', 'x5', 'x6', 'x7', 'x8', 'x9']"
   ]
  },
  {
   "cell_type": "code",
   "execution_count": 11,
   "metadata": {},
   "outputs": [
    {
     "data": {
      "text/html": [
       "<html><script type=\"math/tex; mode=display\">\\newcommand{\\Bold}[1]{\\mathbf{#1}}0.100000000000000 x_{1} x_{6} - 50.0000000000000 x_{3}</script></html>"
      ],
      "text/plain": [
       "0.100000000000000*x1*x6 - 50.0000000000000*x3"
      ]
     },
     "execution_count": 11,
     "metadata": {},
     "output_type": "execute_result"
    }
   ],
   "source": [
    "RReal(sys.y[2])"
   ]
  },
  {
   "cell_type": "code",
   "execution_count": 12,
   "metadata": {},
   "outputs": [
    {
     "data": {
      "text/html": [
       "<html><script type=\"math/tex; mode=display\">\\newcommand{\\Bold}[1]{\\mathbf{#1}}\\verb|System(R,|\\phantom{\\verb!x!}\\verb|(x1,|\\phantom{\\verb!x!}\\verb|x2,|\\phantom{\\verb!x!}\\verb|x3,|\\phantom{\\verb!x!}\\verb|x4,|\\phantom{\\verb!x!}\\verb|x5,|\\phantom{\\verb!x!}\\verb|x6,|\\phantom{\\verb!x!}\\verb|x7,|\\phantom{\\verb!x!}\\verb|x8,|\\phantom{\\verb!x!}\\verb|x9),|\\phantom{\\verb!x!}\\verb|[1,|\\phantom{\\verb!x!}\\verb|[1.2999999999999998|\\phantom{\\verb!x!}\\verb|..|\\phantom{\\verb!x!}\\verb|1.2999999999999999],|\\phantom{\\verb!x!}\\verb|[0.10000000000000000|\\phantom{\\verb!x!}\\verb|..|\\phantom{\\verb!x!}\\verb|0.10000000000000001],|\\phantom{\\verb!x!}\\verb|[0.10000000000000000|\\phantom{\\verb!x!}\\verb|..|\\phantom{\\verb!x!}\\verb|0.10000000000000001],|\\phantom{\\verb!x!}\\verb|[0.10000000000000000|\\phantom{\\verb!x!}\\verb|..|\\phantom{\\verb!x!}\\verb|0.10000000000000001],|\\phantom{\\verb!x!}\\verb|[1.2999999999999998|\\phantom{\\verb!x!}\\verb|..|\\phantom{\\verb!x!}\\verb|1.2999999999999999],|\\phantom{\\verb!x!}\\verb|[2.5000000000000000|\\phantom{\\verb!x!}\\verb|..|\\phantom{\\verb!x!}\\verb|2.5000000000000000],|\\phantom{\\verb!x!}\\verb|[0.60000000000000008|\\phantom{\\verb!x!}\\verb|..|\\phantom{\\verb!x!}\\verb|0.60000000000000009],|\\phantom{\\verb!x!}\\verb|[1.2999999999999998|\\phantom{\\verb!x!}\\verb|..|\\phantom{\\verb!x!}\\verb|1.2999999999999999]],|\\phantom{\\verb!x!}\\verb|(-0.100000000000000*x1*x6|\\phantom{\\verb!x!}\\verb|+|\\phantom{\\verb!x!}\\verb|10.0000000000000*x3,|\\phantom{\\verb!x!}\\verb|-x1*x2|\\phantom{\\verb!x!}\\verb|+|\\phantom{\\verb!x!}\\verb|100.000000000000*x4,|\\phantom{\\verb!x!}\\verb|0.100000000000000*x1*x6|\\phantom{\\verb!x!}\\verb|-|\\phantom{\\verb!x!}\\verb|50.0000000000000*x3,|\\phantom{\\verb!x!}\\verb|x2*x6|\\phantom{\\verb!x!}\\verb|-|\\phantom{\\verb!x!}\\verb|100.000000000000*x4,|\\phantom{\\verb!x!}\\verb|0.500000000000000*x1|\\phantom{\\verb!x!}\\verb|+|\\phantom{\\verb!x!}\\verb|5.00000000000000*x3|\\phantom{\\verb!x!}\\verb|-|\\phantom{\\verb!x!}\\verb|10.0000000000000*x5,|\\phantom{\\verb!x!}\\verb|-0.100000000000000*x1*x6|\\phantom{\\verb!x!}\\verb|-|\\phantom{\\verb!x!}\\verb|x2*x6|\\phantom{\\verb!x!}\\verb|-|\\phantom{\\verb!x!}\\verb|2.00000000000000*x6*x8|\\phantom{\\verb!x!}\\verb|+|\\phantom{\\verb!x!}\\verb|50.0000000000000*x3|\\phantom{\\verb!x!}\\verb|+|\\phantom{\\verb!x!}\\verb|100.000000000000*x4|\\phantom{\\verb!x!}\\verb|+|\\phantom{\\verb!x!}\\verb|50.0000000000000*x5|\\phantom{\\verb!x!}\\verb|-|\\phantom{\\verb!x!}\\verb|x6,|\\phantom{\\verb!x!}\\verb|0.0100000000000000*x2|\\phantom{\\verb!x!}\\verb|+|\\phantom{\\verb!x!}\\verb|50.0000000000000*x4|\\phantom{\\verb!x!}\\verb|-|\\phantom{\\verb!x!}\\verb|0.500000000000000*x7,|\\phantom{\\verb!x!}\\verb|-2.00000000000000*x6*x8|\\phantom{\\verb!x!}\\verb|+|\\phantom{\\verb!x!}\\verb|0.500000000000000*x7|\\phantom{\\verb!x!}\\verb|-|\\phantom{\\verb!x!}\\verb|0.200000000000000*x8|\\phantom{\\verb!x!}\\verb|+|\\phantom{\\verb!x!}\\verb|x9,|\\phantom{\\verb!x!}\\verb|2.00000000000000*x6*x8|\\phantom{\\verb!x!}\\verb|-|\\phantom{\\verb!x!}\\verb|x9),|\\phantom{\\verb!x!}\\verb|varmap=bidict({'x1':|\\phantom{\\verb!x!}\\verb|x1,|\\phantom{\\verb!x!}\\verb|'x2':|\\phantom{\\verb!x!}\\verb|x2,|\\phantom{\\verb!x!}\\verb|'x3':|\\phantom{\\verb!x!}\\verb|x3,|\\phantom{\\verb!x!}\\verb|'x4':|\\phantom{\\verb!x!}\\verb|x4,|\\phantom{\\verb!x!}\\verb|'x5':|\\phantom{\\verb!x!}\\verb|x5,|\\phantom{\\verb!x!}\\verb|'x6':|\\phantom{\\verb!x!}\\verb|x6,|\\phantom{\\verb!x!}\\verb|'x7':|\\phantom{\\verb!x!}\\verb|x7,|\\phantom{\\verb!x!}\\verb|'x8':|\\phantom{\\verb!x!}\\verb|x8,|\\phantom{\\verb!x!}\\verb|'x9':|\\phantom{\\verb!x!}\\verb|x9}))|</script></html>"
      ],
      "text/plain": [
       "System(R, (x1, x2, x3, x4, x5, x6, x7, x8, x9), [1, [1.2999999999999998 .. 1.2999999999999999], [0.10000000000000000 .. 0.10000000000000001], [0.10000000000000000 .. 0.10000000000000001], [0.10000000000000000 .. 0.10000000000000001], [1.2999999999999998 .. 1.2999999999999999], [2.5000000000000000 .. 2.5000000000000000], [0.60000000000000008 .. 0.60000000000000009], [1.2999999999999998 .. 1.2999999999999999]], (-0.100000000000000*x1*x6 + 10.0000000000000*x3, -x1*x2 + 100.000000000000*x4, 0.100000000000000*x1*x6 - 50.0000000000000*x3, x2*x6 - 100.000000000000*x4, 0.500000000000000*x1 + 5.00000000000000*x3 - 10.0000000000000*x5, -0.100000000000000*x1*x6 - x2*x6 - 2.00000000000000*x6*x8 + 50.0000000000000*x3 + 100.000000000000*x4 + 50.0000000000000*x5 - x6, 0.0100000000000000*x2 + 50.0000000000000*x4 - 0.500000000000000*x7, -2.00000000000000*x6*x8 + 0.500000000000000*x7 - 0.200000000000000*x8 + x9, 2.00000000000000*x6*x8 - x9), varmap=bidict({'x1': x1, 'x2': x2, 'x3': x3, 'x4': x4, 'x5': x5, 'x6': x6, 'x7': x7, 'x8': x8, 'x9': x9}))"
      ]
     },
     "execution_count": 12,
     "metadata": {},
     "output_type": "execute_result"
    }
   ],
   "source": [
    "sys_real = System(\n",
    "    RReal,\n",
    "    RReal.gens(),\n",
    "    [y0i.center() for y0i in sys.y0],\n",
    "    [RReal(yi) for yi in sys.y],\n",
    ")\n",
    "sys_real"
   ]
  },
  {
   "cell_type": "code",
   "execution_count": 13,
   "metadata": {},
   "outputs": [
    {
     "data": {
      "text/html": [
       "<div class=\"notruncate\">\n",
       "<table  class=\"table_form\">\n",
       "<tbody>\n",
       "<tr class =\"row-a\">\n",
       "<td><script type=\"math/tex\">1.00000000000000</script></td>\n",
       "</tr>\n",
       "<tr class =\"row-b\">\n",
       "<td><script type=\"math/tex\">1.30000000000000</script></td>\n",
       "</tr>\n",
       "<tr class =\"row-a\">\n",
       "<td><script type=\"math/tex\">0.100000000000000</script></td>\n",
       "</tr>\n",
       "<tr class =\"row-b\">\n",
       "<td><script type=\"math/tex\">0.100000000000000</script></td>\n",
       "</tr>\n",
       "<tr class =\"row-a\">\n",
       "<td><script type=\"math/tex\">0.100000000000000</script></td>\n",
       "</tr>\n",
       "<tr class =\"row-b\">\n",
       "<td><script type=\"math/tex\">1.30000000000000</script></td>\n",
       "</tr>\n",
       "<tr class =\"row-a\">\n",
       "<td><script type=\"math/tex\">2.50000000000000</script></td>\n",
       "</tr>\n",
       "<tr class =\"row-b\">\n",
       "<td><script type=\"math/tex\">0.600000000000000</script></td>\n",
       "</tr>\n",
       "<tr class =\"row-a\">\n",
       "<td><script type=\"math/tex\">1.30000000000000</script></td>\n",
       "</tr>\n",
       "</tbody>\n",
       "</table>\n",
       "</div>"
      ],
      "text/plain": [
       "  1.00000000000000\n",
       "  1.30000000000000\n",
       "  0.100000000000000\n",
       "  0.100000000000000\n",
       "  0.100000000000000\n",
       "  1.30000000000000\n",
       "  2.50000000000000\n",
       "  0.600000000000000\n",
       "  1.30000000000000"
      ]
     },
     "execution_count": 13,
     "metadata": {},
     "output_type": "execute_result"
    }
   ],
   "source": [
    "y0_real = [y0i.center() for y0i in sys.y0]\n",
    "table([[y0i] for y0i in y0_real])"
   ]
  },
  {
   "cell_type": "code",
   "execution_count": 14,
   "metadata": {},
   "outputs": [],
   "source": [
    "timepoints = srange(0,10,0.1)"
   ]
  },
  {
   "cell_type": "code",
   "execution_count": 15,
   "metadata": {},
   "outputs": [],
   "source": [
    "sln = desolve_odeint(sys_real.y, y0_real, timepoints, list(sys_real.x))"
   ]
  },
  {
   "cell_type": "code",
   "execution_count": 16,
   "metadata": {},
   "outputs": [
    {
     "data": {
      "image/png": "[encoded data removed]",
      "text/plain": [
       "Graphics object consisting of 1 graphics primitive"
      ]
     },
     "execution_count": 16,
     "metadata": {},
     "output_type": "execute_result"
    }
   ],
   "source": [
    "points(zip(timepoints, [yi[1] for yi in sln]))"
   ]
  },
  {
   "cell_type": "code",
   "execution_count": 17,
   "metadata": {},
   "outputs": [],
   "source": [
    "from scipy.integrate import solve_ivp\n",
    "from lbuc.matricies import vec_to_numpy, mat_to_numpy, convert_vec, sympy_gens"
   ]
  },
  {
   "cell_type": "code",
   "execution_count": 18,
   "metadata": {},
   "outputs": [],
   "source": [
    "f = vec_to_numpy(RReal, sys_real.y)\n",
    "jac = mat_to_numpy(RReal, sage.jacobian(sys_real.y, sys_real.x))"
   ]
  },
  {
   "cell_type": "code",
   "execution_count": 19,
   "metadata": {},
   "outputs": [],
   "source": [
    "sln = solve_ivp(f,\n",
    "                (0, 10),\n",
    "                y0_real,\n",
    "                method='LSODA',\n",
    "                jac=jac,\n",
    "                vectorized=True,\n",
    "                dense_output=True)"
   ]
  },
  {
   "cell_type": "code",
   "execution_count": 20,
   "metadata": {},
   "outputs": [
    {
     "data": {
      "image/png": "[encoded data removed]",
      "text/plain": [
       "Graphics object consisting of 1 graphics primitive"
      ]
     },
     "execution_count": 20,
     "metadata": {},
     "output_type": "execute_result"
    }
   ],
   "source": [
    "plot(lambda t: sln.sol(t)[1], (0, 10))"
   ]
  },
  {
   "cell_type": "code",
   "execution_count": 21,
   "metadata": {},
   "outputs": [],
   "source": [
    "def test_monitoring(prop, duration, **kwargs):\n",
    "    t0 = time.time()\n",
    "    sig = prop.signal_for_system(sys,\n",
    "    duration, order=4, step=0.003,\n",
    "    precondition=1,\n",
    "    estimation=1e-1,\n",
    "    max_remainder_queue=100,\n",
    "    integration_method=IntegrationMethod.ONLY_PICARD_SYMB,\n",
    "    cutoff_threshold=1e-6,\n",
    "    **kwargs)\n",
    "    t1 = time.time()\n",
    "    print(f\"Run done in {t1 - t0} sec\\noptions: {repr(kwargs)}\")\n",
    "    return t1 - t0, sig"
   ]
  },
  {
   "cell_type": "markdown",
   "metadata": {},
   "source": [
    "# Optimizing and speedup"
   ]
  },
  {
   "cell_type": "code",
   "execution_count": 22,
   "metadata": {},
   "outputs": [
    {
     "data": {
      "text/html": [
       "<html><script type=\"math/tex; mode=display\">\\newcommand{\\Bold}[1]{\\mathbf{#1}}\\verb|x6|\\phantom{\\verb!x!}\\verb|>|\\phantom{\\verb!x!}\\verb|1.40000000000000|</script></html>"
      ],
      "text/plain": [
       "Atomic(x6 > 1.40000000000000)"
      ]
     },
     "execution_count": 22,
     "metadata": {},
     "output_type": "execute_result"
    }
   ],
   "source": [
    "P = Atomic(var(\"x6\") > 1.4); P"
   ]
  },
  {
   "cell_type": "code",
   "execution_count": 23,
   "metadata": {},
   "outputs": [
    {
     "name": "stdout",
     "output_type": "stream",
     "text": [
      "Precomposing Contexts: 1 items in 0.00 seconds\n",
      "calling reach with y0 = ['[0.97999999999999998 .. 1.0200000000000001]', '[1.2799999999999998 .. 1.3200000000000001]', '[0.079999999999999987 .. 0.12000000000000001]', '[0.079999999999999987 .. 0.12000000000000001]', '[0.079999999999999987 .. 0.12000000000000001]', '[1.2799999999999998 .. 1.3200000000000001]', '[2.4799999999999999 .. 2.5200000000000001]', '[0.57999999999999996 .. 0.62000000000000011]', '[1.2799999999999998 .. 1.3200000000000001]']\n",
      "ode in polynomial ring\n",
      "entering managed function _init_args\n",
      "crude_roots = True\n",
      "_handle_initials called!\n",
      "vars = [x1, x2, x3, x4, x5, x6, x7, x8, x9]\n",
      "C = [0.98..1.02]\n",
      "C = [1.2799999999999998..1.32]\n",
      "C = [0.07999999999999999..0.12000000000000001]\n",
      "C = [0.07999999999999999..0.12000000000000001]\n",
      "C = [0.07999999999999999..0.12000000000000001]\n",
      "C = [1.2799999999999998..1.32]\n",
      "C = [2.48..2.52]\n",
      "C = [0.58..0.6200000000000001]\n",
      "C = [1.2799999999999998..1.32]\n",
      "assigning system with dimension 9\n",
      "resulting system has dimension 9\n",
      "run within tmv args\n",
      "entering managed function run\n",
      "integrationScheme = 7\n",
      "Running Flow*: 1 items in 40.42 seconds\n",
      "Computed 1334 flowpipes in 40.422513009999875 sec\n",
      "entering managed function prepare\n",
      "PolyObserver(x6 - 1.4000000000000000?, <flowstar.reachability.Reach object at 0x7fd4a2b577d0>, -0.10000000000000000?*x1*x6 - x2*x6 - 2*x6*x8 + 50*x3 + 100*x4 + 50*x5 - x6 symbolic_composition=False, tentative_unpreconditioning=True, mask=None)\n",
      "entering managed function prepare\n",
      "symbolic_composition=False, tentative_unpreconditioning=True\n",
      "entering managed function roots\n",
      "roots(space_domain=None, epsilon=1e-05, verbosity=0)\n",
      "top-level root detection: 1 items in 1.06 seconds\n",
      "roots = [[0.0029999999999999996 .. 0.021000000000000009], [0.19799999999999801 .. 0.48600000000000044]]\n",
      "domain = [0.0000000000000000 .. 4.0000000000000009]\n",
      "roots = [[0.0029999999999999996 .. 0.021000000000000009], \n",
      " [0.19799999999999801 .. 0.48600000000000044]]\n",
      "seg_domain = [0.0000000000000000 .. 4.0000000000000009]\n",
      "roots = [[0.0029999999999999996 .. 0.021000000000000009], \n",
      " [0.19799999999999801 .. 0.48600000000000044]]\n",
      "entering managed function check\n",
      "entering managed function prepare\n",
      "running f_bool: 1 items in 0.00 seconds\n",
      "entering managed function check\n",
      "entering managed function prepare\n",
      "running f_bool: 1 items in 0.00 seconds\n",
      "entering managed function check\n",
      "entering managed function prepare\n",
      "running f_bool: 1 items in 0.00 seconds\n",
      "signal given bool roots: 1 items in 0.00 seconds\n",
      "Monitoring Signal for x6 > 1.40000000000000: 1 items in 2.64 seconds\n",
      "Monitored signal in 2.6395796119995794 sec\n",
      "ran \"observer.check\" 3 times in 0.00048279762268066406\n",
      "ran \"check boolean [unguarded]\" 3 times in 0.0002856254577636719\n",
      "ran \"capturing globals [on exit]\" 9 times in 0.00027179718017578125\n",
      "ran \"mask intersect check\" 1334 times in 0.0006968975067138672\n",
      "ran \"tentative eval\" 1334 times in 1.0450530052185059\n",
      "ran \"restoring globals\" 9 times in 0.000396728515625\n",
      "ran \"prepare in check\" 3 times in 4.601478576660156e-05\n",
      "ran \"root amalgamation\" 102 times in 0.00012063980102539062\n",
      "Run done in 43.13039207458496 sec\n",
      "options: {'use_masks': False, 'crude_roots': True, 'skip_unpreconditioning': True}\n"
     ]
    },
    {
     "data": {
      "image/png": "[encoded data removed]",
      "text/plain": [
       "Graphics object consisting of 2 graphics primitives"
      ]
     },
     "execution_count": 23,
     "metadata": {},
     "output_type": "execute_result"
    }
   ],
   "source": [
    "sigPc = test_monitoring(P, 4, use_masks=False, crude_roots=True, skip_unpreconditioning=True)[1]\n",
    "sigPc.plot()"
   ]
  },
  {
   "cell_type": "code",
   "execution_count": null,
   "metadata": {},
   "outputs": [],
   "source": [
    "sigPc = test_monitoring(P, 4, use_masks=False, crude_roots=True, skip_unpreconditioning=True)[1]\n",
    "sigPc.plot()"
   ]
  },
  {
   "cell_type": "code",
   "execution_count": null,
   "metadata": {},
   "outputs": [],
   "source": [
    "sigPc.to_mask_and().plot()"
   ]
  },
  {
   "cell_type": "code",
   "execution_count": null,
   "metadata": {},
   "outputs": [],
   "source": [
    "sigP = test_monitoring(P, 4, use_masks=False)[1]\n",
    "sigP.plot()"
   ]
  },
  {
   "cell_type": "code",
   "execution_count": null,
   "metadata": {},
   "outputs": [],
   "source": [
    "sigP.to_mask_and().plot()"
   ]
  },
  {
   "cell_type": "code",
   "execution_count": 24,
   "metadata": {},
   "outputs": [
    {
     "name": "stderr",
     "output_type": "stream",
     "text": [
      "/usr/lib64/python3.7/site-packages/sage/plot/contour_plot.py:205: UserWarning: No contour levels were found within the data range.\n",
      "  linewidths=linewidths, linestyles=linestyles)\n"
     ]
    },
    {
     "data": {
      "image/png": "[encoded data removed]",
      "text/plain": [
       "Graphics object consisting of 2 graphics primitives"
      ]
     },
     "execution_count": 24,
     "metadata": {},
     "output_type": "execute_result"
    }
   ],
   "source": [
    "zebra_mask = Mask(RIF(0, 4), [RIF(2*k/10, (2*k + 1)/10) for k in range(21)])\n",
    "zebra_mask.plot()"
   ]
  },
  {
   "cell_type": "code",
   "execution_count": 25,
   "metadata": {
    "scrolled": false
   },
   "outputs": [
    {
     "name": "stdout",
     "output_type": "stream",
     "text": [
      "Precomposing Contexts: 1 items in 0.00 seconds\n",
      "calling reach with y0 = ['[0.97999999999999998 .. 1.0200000000000001]', '[1.2799999999999998 .. 1.3200000000000001]', '[0.079999999999999987 .. 0.12000000000000001]', '[0.079999999999999987 .. 0.12000000000000001]', '[0.079999999999999987 .. 0.12000000000000001]', '[1.2799999999999998 .. 1.3200000000000001]', '[2.4799999999999999 .. 2.5200000000000001]', '[0.57999999999999996 .. 0.62000000000000011]', '[1.2799999999999998 .. 1.3200000000000001]']\n",
      "ode in polynomial ring\n",
      "entering managed function _init_args\n",
      "crude_roots = True\n",
      "_handle_initials called!\n",
      "vars = [x1, x2, x3, x4, x5, x6, x7, x8, x9]\n",
      "C = [0.98..1.02]\n",
      "C = [1.2799999999999998..1.32]\n",
      "C = [0.07999999999999999..0.12000000000000001]\n",
      "C = [0.07999999999999999..0.12000000000000001]\n",
      "C = [0.07999999999999999..0.12000000000000001]\n",
      "C = [1.2799999999999998..1.32]\n",
      "C = [2.48..2.52]\n",
      "C = [0.58..0.6200000000000001]\n",
      "C = [1.2799999999999998..1.32]\n",
      "assigning system with dimension 9\n",
      "resulting system has dimension 9\n",
      "run within tmv args\n",
      "entering managed function run\n",
      "integrationScheme = 7\n",
      "Running Flow*: 1 items in 44.02 seconds\n",
      "Computed 1334 flowpipes in 44.015307330000724 sec\n",
      "entering managed function prepare\n",
      "PolyObserver(x6 - 1.4000000000000000?, <flowstar.reachability.Reach object at 0x7fd4a2b57230>, -0.10000000000000000?*x1*x6 - x2*x6 - 2*x6*x8 + 50*x3 + 100*x4 + 50*x5 - x6 symbolic_composition=False, tentative_unpreconditioning=True, mask=Mask([0.0000000000000000 .. 4.0000000000000000], [[0.0000000000000000 .. 0.10000000000000001], [0.19999999999999998 .. 0.30000000000000005], [0.39999999999999996 .. 0.50000000000000000], [0.59999999999999997 .. 0.70000000000000007], [0.79999999999999993 .. 0.90000000000000003], [1.0000000000000000 .. 1.1000000000000001], [1.1999999999999999 .. 1.3000000000000001], [1.3999999999999999 .. 1.5000000000000000], [1.5999999999999998 .. 1.7000000000000002], [1.7999999999999998 .. 1.9000000000000002], [2.0000000000000000 .. 2.1000000000000001], [2.1999999999999997 .. 2.3000000000000003], [2.3999999999999999 .. 2.5000000000000000], [2.5999999999999996 .. 2.7000000000000002], [2.7999999999999998 .. 2.9000000000000004], [3.0000000000000000 .. 3.1000000000000001], [3.1999999999999997 .. 3.3000000000000003], [3.3999999999999999 .. 3.5000000000000000], [3.5999999999999996 .. 3.7000000000000002], [3.7999999999999998 .. 3.9000000000000004], [4.0000000000000000 .. 4.1000000000000006]]))\n",
      "entering managed function prepare\n",
      "symbolic_composition=False, tentative_unpreconditioning=True\n",
      "entering managed function roots\n",
      "roots(space_domain=None, epsilon=1e-05, verbosity=0)\n",
      "top-level root detection: 1 items in 0.58 seconds\n",
      "roots = [[0.0029999999999999996 .. 0.021000000000000009], [0.19999999999999781 .. 0.30000000000000505], [0.39999999999999130 .. 0.48600000000000044]]\n",
      "domain = [0.0000000000000000 .. 3.9999999999999996]\n",
      "roots = [[0.0029999999999999996 .. 0.021000000000000009], \n",
      " [0.19999999999999781 .. 0.30000000000000505], \n",
      " [0.39999999999999130 .. 0.48600000000000044]]\n",
      "seg_domain = [0.0000000000000000 .. 0.10000000000000001]\n",
      "roots = [[0.0029999999999999996 .. 0.021000000000000009], \n",
      " [0.19999999999999781 .. 0.30000000000000505], \n",
      " [0.39999999999999130 .. 0.48600000000000044]]\n",
      "entering managed function check\n",
      "entering managed function prepare\n",
      "running f_bool: 1 items in 0.00 seconds\n",
      "entering managed function check\n",
      "entering managed function prepare\n",
      "running f_bool: 1 items in 0.00 seconds\n",
      "seg_domain = [0.19999999999999998 .. 0.30000000000000005]\n",
      "roots = [[0.0029999999999999996 .. 0.021000000000000009], \n",
      " [0.19999999999999781 .. 0.30000000000000505], \n",
      " [0.39999999999999130 .. 0.48600000000000044]]\n",
      "entering managed function check\n",
      "entering managed function prepare\n",
      "running f_bool: 1 items in 0.03 seconds\n",
      "0 at 0.300000000000001\n",
      "seg_domain = [0.39999999999999996 .. 0.50000000000000000]\n",
      "roots = [[0.0029999999999999996 .. 0.021000000000000009], \n",
      " [0.19999999999999781 .. 0.30000000000000505], \n",
      " [0.39999999999999130 .. 0.48600000000000044]]\n",
      "entering managed function check\n",
      "entering managed function prepare\n",
      "running f_bool: 1 items in 0.00 seconds\n",
      "seg_domain = [0.59999999999999997 .. 0.70000000000000007]\n",
      "roots = [[0.0029999999999999996 .. 0.021000000000000009], \n",
      " [0.19999999999999781 .. 0.30000000000000505], \n",
      " [0.39999999999999130 .. 0.48600000000000044]]\n",
      "entering managed function check\n",
      "entering managed function prepare\n",
      "running f_bool: 1 items in 0.00 seconds\n",
      "seg_domain = [0.79999999999999993 .. 0.90000000000000003]\n",
      "roots = [[0.0029999999999999996 .. 0.021000000000000009], \n",
      " [0.19999999999999781 .. 0.30000000000000505], \n",
      " [0.39999999999999130 .. 0.48600000000000044]]\n",
      "entering managed function check\n",
      "entering managed function prepare\n",
      "running f_bool: 1 items in 0.00 seconds\n",
      "seg_domain = [1.0000000000000000 .. 1.1000000000000001]\n",
      "roots = [[0.0029999999999999996 .. 0.021000000000000009], \n",
      " [0.19999999999999781 .. 0.30000000000000505], \n",
      " [0.39999999999999130 .. 0.48600000000000044]]\n",
      "entering managed function check\n",
      "entering managed function prepare\n",
      "running f_bool: 1 items in 0.00 seconds\n",
      "seg_domain = [1.1999999999999999 .. 1.3000000000000001]\n",
      "roots = [[0.0029999999999999996 .. 0.021000000000000009], \n",
      " [0.19999999999999781 .. 0.30000000000000505], \n",
      " [0.39999999999999130 .. 0.48600000000000044]]\n",
      "entering managed function check\n",
      "entering managed function prepare\n",
      "running f_bool: 1 items in 0.00 seconds\n",
      "seg_domain = [1.3999999999999999 .. 1.5000000000000000]\n",
      "roots = [[0.0029999999999999996 .. 0.021000000000000009], \n",
      " [0.19999999999999781 .. 0.30000000000000505], \n",
      " [0.39999999999999130 .. 0.48600000000000044]]\n",
      "entering managed function check\n",
      "entering managed function prepare\n",
      "running f_bool: 1 items in 0.00 seconds\n",
      "seg_domain = [1.5999999999999998 .. 1.7000000000000002]\n",
      "roots = [[0.0029999999999999996 .. 0.021000000000000009], \n",
      " [0.19999999999999781 .. 0.30000000000000505], \n",
      " [0.39999999999999130 .. 0.48600000000000044]]\n",
      "entering managed function check\n",
      "entering managed function prepare\n",
      "running f_bool: 1 items in 0.00 seconds\n",
      "seg_domain = [1.7999999999999998 .. 1.9000000000000002]\n",
      "roots = [[0.0029999999999999996 .. 0.021000000000000009], \n",
      " [0.19999999999999781 .. 0.30000000000000505], \n",
      " [0.39999999999999130 .. 0.48600000000000044]]\n",
      "entering managed function check\n",
      "entering managed function prepare\n",
      "running f_bool: 1 items in 0.00 seconds\n",
      "seg_domain = [2.0000000000000000 .. 2.1000000000000001]\n",
      "roots = [[0.0029999999999999996 .. 0.021000000000000009], \n",
      " [0.19999999999999781 .. 0.30000000000000505], \n",
      " [0.39999999999999130 .. 0.48600000000000044]]\n",
      "entering managed function check\n",
      "entering managed function prepare\n",
      "running f_bool: 1 items in 0.00 seconds\n",
      "seg_domain = [2.1999999999999997 .. 2.3000000000000003]\n",
      "roots = [[0.0029999999999999996 .. 0.021000000000000009], \n",
      " [0.19999999999999781 .. 0.30000000000000505], \n",
      " [0.39999999999999130 .. 0.48600000000000044]]\n",
      "entering managed function check\n",
      "entering managed function prepare\n",
      "running f_bool: 1 items in 0.00 seconds\n",
      "seg_domain = [2.3999999999999999 .. 2.5000000000000000]\n",
      "roots = [[0.0029999999999999996 .. 0.021000000000000009], \n",
      " [0.19999999999999781 .. 0.30000000000000505], \n",
      " [0.39999999999999130 .. 0.48600000000000044]]\n",
      "entering managed function check\n",
      "entering managed function prepare\n",
      "running f_bool: 1 items in 0.00 seconds\n",
      "seg_domain = [2.5999999999999996 .. 2.7000000000000002]\n",
      "roots = [[0.0029999999999999996 .. 0.021000000000000009], \n",
      " [0.19999999999999781 .. 0.30000000000000505], \n",
      " [0.39999999999999130 .. 0.48600000000000044]]\n",
      "entering managed function check\n",
      "entering managed function prepare\n",
      "running f_bool: 1 items in 0.00 seconds\n",
      "seg_domain = [2.7999999999999998 .. 2.9000000000000004]\n",
      "roots = [[0.0029999999999999996 .. 0.021000000000000009], \n",
      " [0.19999999999999781 .. 0.30000000000000505], \n",
      " [0.39999999999999130 .. 0.48600000000000044]]\n",
      "entering managed function check\n",
      "entering managed function prepare\n",
      "running f_bool: 1 items in 0.00 seconds\n",
      "seg_domain = [3.0000000000000000 .. 3.1000000000000001]\n",
      "roots = [[0.0029999999999999996 .. 0.021000000000000009], \n",
      " [0.19999999999999781 .. 0.30000000000000505], \n",
      " [0.39999999999999130 .. 0.48600000000000044]]\n",
      "entering managed function check\n",
      "entering managed function prepare\n",
      "running f_bool: 1 items in 0.00 seconds\n",
      "seg_domain = [3.1999999999999997 .. 3.3000000000000003]\n",
      "roots = [[0.0029999999999999996 .. 0.021000000000000009], \n",
      " [0.19999999999999781 .. 0.30000000000000505], \n",
      " [0.39999999999999130 .. 0.48600000000000044]]\n",
      "entering managed function check\n",
      "entering managed function prepare\n",
      "running f_bool: 1 items in 0.00 seconds\n",
      "seg_domain = [3.3999999999999999 .. 3.5000000000000000]\n",
      "roots = [[0.0029999999999999996 .. 0.021000000000000009], \n",
      " [0.19999999999999781 .. 0.30000000000000505], \n",
      " [0.39999999999999130 .. 0.48600000000000044]]\n",
      "entering managed function check\n",
      "entering managed function prepare\n",
      "running f_bool: 1 items in 0.00 seconds\n",
      "seg_domain = [3.5999999999999996 .. 3.7000000000000002]\n",
      "roots = [[0.0029999999999999996 .. 0.021000000000000009], \n",
      " [0.19999999999999781 .. 0.30000000000000505], \n",
      " [0.39999999999999130 .. 0.48600000000000044]]\n",
      "entering managed function check\n",
      "entering managed function prepare\n",
      "running f_bool: 1 items in 0.00 seconds\n",
      "seg_domain = [3.7999999999999998 .. 3.9000000000000004]\n",
      "roots = [[0.0029999999999999996 .. 0.021000000000000009], \n",
      " [0.19999999999999781 .. 0.30000000000000505], \n",
      " [0.39999999999999130 .. 0.48600000000000044]]\n",
      "entering managed function check\n",
      "entering managed function prepare\n",
      "running f_bool: 1 items in 0.00 seconds\n",
      "seg_domain = [4.0000000000000000 .. 4.1000000000000006]\n",
      "roots = [[0.0029999999999999996 .. 0.021000000000000009], \n",
      " [0.19999999999999781 .. 0.30000000000000505], \n",
      " [0.39999999999999130 .. 0.48600000000000044]]\n",
      "entering managed function check\n",
      "entering managed function prepare\n",
      "running f_bool: 1 items in 0.00 seconds\n",
      "signal given bool roots: 1 items in 0.04 seconds\n",
      "Monitoring Signal for x6 > 1.40000000000000: 1 items in 0.67 seconds\n",
      "Monitored signal in 0.6685048259992072 sec\n",
      "ran \"observer.check\" 22 times in 0.03160858154296875\n",
      "ran \"composing flowpipe\" 1 times in 0.022672653198242188\n",
      "ran \"check boolean [unguarded]\" 22 times in 0.03014373779296875\n",
      "ran \"capturing globals [on exit]\" 9 times in 0.00032520294189453125\n",
      "ran \"mask intersect check\" 1334 times in 0.0020427703857421875\n",
      "ran \"tentative eval\" 694 times in 0.5712902545928955\n",
      "ran \"restoring globals\" 9 times in 0.00043129920959472656\n",
      "ran \"prepare in check\" 22 times in 0.00034999847412109375\n",
      "ran \"root amalgamation\" 70 times in 1.9073486328125e-05\n",
      "Run done in 44.8051598072052 sec\n",
      "options: {'use_masks': True, 'mask': Mask([0.0000000000000000 .. 4.0000000000000000], [[0.0000000000000000 .. 0.10000000000000001], [0.19999999999999998 .. 0.30000000000000005], [0.39999999999999996 .. 0.50000000000000000], [0.59999999999999997 .. 0.70000000000000007], [0.79999999999999993 .. 0.90000000000000003], [1.0000000000000000 .. 1.1000000000000001], [1.1999999999999999 .. 1.3000000000000001], [1.3999999999999999 .. 1.5000000000000000], [1.5999999999999998 .. 1.7000000000000002], [1.7999999999999998 .. 1.9000000000000002], [2.0000000000000000 .. 2.1000000000000001], [2.1999999999999997 .. 2.3000000000000003], [2.3999999999999999 .. 2.5000000000000000], [2.5999999999999996 .. 2.7000000000000002], [2.7999999999999998 .. 2.9000000000000004], [3.0000000000000000 .. 3.1000000000000001], [3.1999999999999997 .. 3.3000000000000003], [3.3999999999999999 .. 3.5000000000000000], [3.5999999999999996 .. 3.7000000000000002], [3.7999999999999998 .. 3.9000000000000004], [4.0000000000000000 .. 4.1000000000000006]]), 'crude_roots': True, 'skip_unpreconditioning': True}\n"
     ]
    },
    {
     "data": {
      "image/png": "[encoded data removed]",
      "text/plain": [
       "Graphics object consisting of 2 graphics primitives"
      ]
     },
     "execution_count": 25,
     "metadata": {},
     "output_type": "execute_result"
    }
   ],
   "source": [
    "sigPz = test_monitoring(P, 4, use_masks=True, mask=zebra_mask, crude_roots=True, skip_unpreconditioning=True)[1]\n",
    "sigPz.plot()"
   ]
  },
  {
   "cell_type": "code",
   "execution_count": 29,
   "metadata": {},
   "outputs": [
    {
     "name": "stdout",
     "output_type": "stream",
     "text": [
      "Precomposing Contexts: 1 items in 0.00 seconds\n",
      "calling reach with y0 = ['[0.97999999999999998 .. 1.0200000000000001]', '[1.2799999999999998 .. 1.3200000000000001]', '[0.079999999999999987 .. 0.12000000000000001]', '[0.079999999999999987 .. 0.12000000000000001]', '[0.079999999999999987 .. 0.12000000000000001]', '[1.2799999999999998 .. 1.3200000000000001]', '[2.4799999999999999 .. 2.5200000000000001]', '[0.57999999999999996 .. 0.62000000000000011]', '[1.2799999999999998 .. 1.3200000000000001]']\n",
      "ode in polynomial ring\n",
      "crude_roots = False\n",
      "_handle_initials called!\n",
      "vars = [x1, x2, x3, x4, x5, x6, x7, x8, x9]\n",
      "C = [0.98..1.02]\n",
      "C = [1.2799999999999998..1.32]\n",
      "C = [0.07999999999999999..0.12000000000000001]\n",
      "C = [0.07999999999999999..0.12000000000000001]\n",
      "C = [0.07999999999999999..0.12000000000000001]\n",
      "C = [1.2799999999999998..1.32]\n",
      "C = [2.48..2.52]\n",
      "C = [0.58..0.6200000000000001]\n",
      "C = [1.2799999999999998..1.32]\n",
      "integrationScheme = 7\n",
      "Running Flow*: 1 items in 44.91 seconds\n",
      "Computed 1334 flowpipes in 44.907681977027096 sec\n",
      "PolyObserver(x6 - 1.4000000000000000?, <flowstar.reachability.Reach object at 0x55f0722af060>, -0.10000000000000000?*x1*x6 - x2*x6 - 2*x6*x8 + 50*x3 + 100*x4 + 50*x5 - x6 symbolic_composition=False, tentative_unpreconditioning=True, mask=Mask([0.0000000000000000 .. 4.0000000000000000], [[0.0000000000000000 .. 0.10000000000000001], [0.19999999999999998 .. 0.30000000000000005], [0.39999999999999996 .. 0.50000000000000000], [0.59999999999999997 .. 0.70000000000000007], [0.79999999999999993 .. 0.90000000000000003], [1.0000000000000000 .. 1.1000000000000001], [1.1999999999999999 .. 1.3000000000000001], [1.3999999999999999 .. 1.5000000000000000], [1.5999999999999998 .. 1.7000000000000002], [1.7999999999999998 .. 1.9000000000000002], [2.0000000000000000 .. 2.1000000000000001], [2.1999999999999997 .. 2.3000000000000003], [2.3999999999999999 .. 2.5000000000000000], [2.5999999999999996 .. 2.7000000000000002], [2.7999999999999998 .. 2.9000000000000004], [3.0000000000000000 .. 3.1000000000000001], [3.1999999999999997 .. 3.3000000000000003], [3.3999999999999999 .. 3.5000000000000000], [3.5999999999999996 .. 3.7000000000000002], [3.7999999999999998 .. 3.9000000000000004], [4.0000000000000000 .. 4.1000000000000006]]))\n",
      "symbolic_composition=False, tentative_unpreconditioning=True\n",
      "roots(space_domain=None, epsilon=1e-05, verbosity=0)\n",
      "top-level root detection: 1 items in 2.88 seconds\n",
      "roots = [[0.0048028783727901138 .. 0.020435765977123051], [0.20345478283219922 .. 0.30000000000000505], [0.39999999999999130 .. 0.48300000000000043]]\n",
      "domain = [0.0000000000000000 .. 3.9999999999999996]\n",
      "roots = [[0.0048028783727901138 .. 0.020435765977123051], \n",
      " [0.20345478283219922 .. 0.30000000000000505], \n",
      " [0.39999999999999130 .. 0.48300000000000043]]\n",
      "seg_domain = [0.0000000000000000 .. 0.10000000000000001]\n",
      "roots = [[0.0048028783727901138 .. 0.020435765977123051], \n",
      " [0.20345478283219922 .. 0.30000000000000505], \n",
      " [0.39999999999999130 .. 0.48300000000000043]]\n",
      "running f_bool: 1 items in 0.00 seconds\n",
      "running f_bool: 1 items in 0.00 seconds\n",
      "seg_domain = [0.19999999999999998 .. 0.30000000000000005]\n",
      "roots = [[0.0048028783727901138 .. 0.020435765977123051], \n",
      " [0.20345478283219922 .. 0.30000000000000505], \n",
      " [0.39999999999999130 .. 0.48300000000000043]]\n",
      "running f_bool: 1 items in 0.01 seconds\n",
      "running f_bool: 1 items in 0.00 seconds\n",
      "0 at 0.300000000000001\n",
      "seg_domain = [0.39999999999999996 .. 0.50000000000000000]\n",
      "roots = [[0.0048028783727901138 .. 0.020435765977123051], \n",
      " [0.20345478283219922 .. 0.30000000000000505], \n",
      " [0.39999999999999130 .. 0.48300000000000043]]\n",
      "running f_bool: 1 items in 0.00 seconds\n",
      "seg_domain = [0.59999999999999997 .. 0.70000000000000007]\n",
      "roots = [[0.0048028783727901138 .. 0.020435765977123051], \n",
      " [0.20345478283219922 .. 0.30000000000000505], \n",
      " [0.39999999999999130 .. 0.48300000000000043]]\n",
      "running f_bool: 1 items in 0.00 seconds\n",
      "seg_domain = [0.79999999999999993 .. 0.90000000000000003]\n",
      "roots = [[0.0048028783727901138 .. 0.020435765977123051], \n",
      " [0.20345478283219922 .. 0.30000000000000505], \n",
      " [0.39999999999999130 .. 0.48300000000000043]]\n",
      "running f_bool: 1 items in 0.00 seconds\n",
      "seg_domain = [1.0000000000000000 .. 1.1000000000000001]\n",
      "roots = [[0.0048028783727901138 .. 0.020435765977123051], \n",
      " [0.20345478283219922 .. 0.30000000000000505], \n",
      " [0.39999999999999130 .. 0.48300000000000043]]\n",
      "running f_bool: 1 items in 0.00 seconds\n",
      "seg_domain = [1.1999999999999999 .. 1.3000000000000001]\n",
      "roots = [[0.0048028783727901138 .. 0.020435765977123051], \n",
      " [0.20345478283219922 .. 0.30000000000000505], \n",
      " [0.39999999999999130 .. 0.48300000000000043]]\n",
      "running f_bool: 1 items in 0.00 seconds\n",
      "seg_domain = [1.3999999999999999 .. 1.5000000000000000]\n",
      "roots = [[0.0048028783727901138 .. 0.020435765977123051], \n",
      " [0.20345478283219922 .. 0.30000000000000505], \n",
      " [0.39999999999999130 .. 0.48300000000000043]]\n",
      "running f_bool: 1 items in 0.00 seconds\n",
      "seg_domain = [1.5999999999999998 .. 1.7000000000000002]\n",
      "roots = [[0.0048028783727901138 .. 0.020435765977123051], \n",
      " [0.20345478283219922 .. 0.30000000000000505], \n",
      " [0.39999999999999130 .. 0.48300000000000043]]\n",
      "running f_bool: 1 items in 0.00 seconds\n",
      "seg_domain = [1.7999999999999998 .. 1.9000000000000002]\n",
      "roots = [[0.0048028783727901138 .. 0.020435765977123051], \n",
      " [0.20345478283219922 .. 0.30000000000000505], \n",
      " [0.39999999999999130 .. 0.48300000000000043]]\n",
      "running f_bool: 1 items in 0.00 seconds\n",
      "seg_domain = [2.0000000000000000 .. 2.1000000000000001]\n",
      "roots = [[0.0048028783727901138 .. 0.020435765977123051], \n",
      " [0.20345478283219922 .. 0.30000000000000505], \n",
      " [0.39999999999999130 .. 0.48300000000000043]]\n",
      "running f_bool: 1 items in 0.00 seconds\n",
      "seg_domain = [2.1999999999999997 .. 2.3000000000000003]\n",
      "roots = [[0.0048028783727901138 .. 0.020435765977123051], \n",
      " [0.20345478283219922 .. 0.30000000000000505], \n",
      " [0.39999999999999130 .. 0.48300000000000043]]\n",
      "running f_bool: 1 items in 0.00 seconds\n",
      "seg_domain = [2.3999999999999999 .. 2.5000000000000000]\n",
      "roots = [[0.0048028783727901138 .. 0.020435765977123051], \n",
      " [0.20345478283219922 .. 0.30000000000000505], \n",
      " [0.39999999999999130 .. 0.48300000000000043]]\n",
      "running f_bool: 1 items in 0.00 seconds\n",
      "seg_domain = [2.5999999999999996 .. 2.7000000000000002]\n",
      "roots = [[0.0048028783727901138 .. 0.020435765977123051], \n",
      " [0.20345478283219922 .. 0.30000000000000505], \n",
      " [0.39999999999999130 .. 0.48300000000000043]]\n",
      "running f_bool: 1 items in 0.00 seconds\n",
      "seg_domain = [2.7999999999999998 .. 2.9000000000000004]\n",
      "roots = [[0.0048028783727901138 .. 0.020435765977123051], \n",
      " [0.20345478283219922 .. 0.30000000000000505], \n",
      " [0.39999999999999130 .. 0.48300000000000043]]\n",
      "running f_bool: 1 items in 0.00 seconds\n",
      "seg_domain = [3.0000000000000000 .. 3.1000000000000001]\n",
      "roots = [[0.0048028783727901138 .. 0.020435765977123051], \n",
      " [0.20345478283219922 .. 0.30000000000000505], \n",
      " [0.39999999999999130 .. 0.48300000000000043]]\n",
      "running f_bool: 1 items in 0.00 seconds\n",
      "seg_domain = [3.1999999999999997 .. 3.3000000000000003]\n",
      "roots = [[0.0048028783727901138 .. 0.020435765977123051], \n",
      " [0.20345478283219922 .. 0.30000000000000505], \n",
      " [0.39999999999999130 .. 0.48300000000000043]]\n",
      "running f_bool: 1 items in 0.00 seconds\n",
      "seg_domain = [3.3999999999999999 .. 3.5000000000000000]\n",
      "roots = [[0.0048028783727901138 .. 0.020435765977123051], \n",
      " [0.20345478283219922 .. 0.30000000000000505], \n",
      " [0.39999999999999130 .. 0.48300000000000043]]\n",
      "running f_bool: 1 items in 0.00 seconds\n",
      "seg_domain = [3.5999999999999996 .. 3.7000000000000002]\n",
      "roots = [[0.0048028783727901138 .. 0.020435765977123051], \n",
      " [0.20345478283219922 .. 0.30000000000000505], \n",
      " [0.39999999999999130 .. 0.48300000000000043]]\n",
      "running f_bool: 1 items in 0.00 seconds\n",
      "seg_domain = [3.7999999999999998 .. 3.9000000000000004]\n",
      "roots = [[0.0048028783727901138 .. 0.020435765977123051], \n",
      " [0.20345478283219922 .. 0.30000000000000505], \n",
      " [0.39999999999999130 .. 0.48300000000000043]]\n",
      "running f_bool: 1 items in 0.00 seconds\n",
      "seg_domain = [4.0000000000000000 .. 4.1000000000000006]\n",
      "roots = [[0.0048028783727901138 .. 0.020435765977123051], \n",
      " [0.20345478283219922 .. 0.30000000000000505], \n",
      " [0.39999999999999130 .. 0.48300000000000043]]\n",
      "running f_bool: 1 items in 0.00 seconds\n",
      "signal given bool roots: 1 items in 0.03 seconds\n",
      "Monitoring Signal for x6 > 1.40000000000000: 1 items in 3.26 seconds\n",
      "Monitored signal in 3.2570639759942424 sec\n",
      "ran \"root amalgamation\" 68 times in 8.20159912109375e-05\n",
      "ran \"check boolean [unguarded]\" 23 times in 0.013070821762084961\n",
      "ran \"mask intersect check\" 1334 times in 0.001949310302734375\n",
      "ran \"whole domain eval\" 70 times in 0.1101541519165039\n",
      "ran \"observer.check\" 23 times in 0.01407623291015625\n",
      "ran \"tentative eval\" 694 times in 0.503004789352417\n",
      "ran \"prepare in check\" 23 times in 5.9604644775390625e-05\n",
      "ran \"composing flowpipe\" 72 times in 2.0185623168945312\n",
      "ran \"post retrieve\" 68 times in 0.0003466606140136719\n",
      "ran \"root detection\" 68 times in 0.2309873104095459\n",
      "ran \"check boolean [guarded]\" 23 times in 0.013292312622070312\n",
      "Run done in 48.420127153396606 sec\n",
      "options: {'use_masks': True, 'mask': Mask([0.0000000000000000 .. 4.0000000000000000], [[0.0000000000000000 .. 0.10000000000000001], [0.19999999999999998 .. 0.30000000000000005], [0.39999999999999996 .. 0.50000000000000000], [0.59999999999999997 .. 0.70000000000000007], [0.79999999999999993 .. 0.90000000000000003], [1.0000000000000000 .. 1.1000000000000001], [1.1999999999999999 .. 1.3000000000000001], [1.3999999999999999 .. 1.5000000000000000], [1.5999999999999998 .. 1.7000000000000002], [1.7999999999999998 .. 1.9000000000000002], [2.0000000000000000 .. 2.1000000000000001], [2.1999999999999997 .. 2.3000000000000003], [2.3999999999999999 .. 2.5000000000000000], [2.5999999999999996 .. 2.7000000000000002], [2.7999999999999998 .. 2.9000000000000004], [3.0000000000000000 .. 3.1000000000000001], [3.1999999999999997 .. 3.3000000000000003], [3.3999999999999999 .. 3.5000000000000000], [3.5999999999999996 .. 3.7000000000000002], [3.7999999999999998 .. 3.9000000000000004], [4.0000000000000000 .. 4.1000000000000006]]), 'crude_roots': False}\n"
     ]
    },
    {
     "data": {
      "image/png": "[encoded data removed]",
      "text/plain": [
       "Graphics object consisting of 2 graphics primitives"
      ]
     },
     "execution_count": 29,
     "metadata": {},
     "output_type": "execute_result"
    }
   ],
   "source": [
    "sigPz = test_monitoring(P, 4, use_masks=True, mask=zebra_mask, crude_roots=False)[1]\n",
    "sigPz.plot()"
   ]
  },
  {
   "cell_type": "code",
   "execution_count": 26,
   "metadata": {},
   "outputs": [
    {
     "data": {
      "text/html": [
       "<html><script type=\"math/tex; mode=display\">\\newcommand{\\Bold}[1]{\\mathbf{#1}}\\verb|x6|\\phantom{\\verb!x!}\\verb|<|\\phantom{\\verb!x!}\\verb|1|</script></html>"
      ],
      "text/plain": [
       "Atomic(x6 < 1)"
      ]
     },
     "execution_count": 26,
     "metadata": {},
     "output_type": "execute_result"
    }
   ],
   "source": [
    "Q = Atomic(var(\"x6\") < 1); Q"
   ]
  },
  {
   "cell_type": "code",
   "execution_count": 27,
   "metadata": {},
   "outputs": [
    {
     "name": "stdout",
     "output_type": "stream",
     "text": [
      "Precomposing Contexts: 1 items in 0.00 seconds\n",
      "calling reach with y0 = ['[0.97999999999999998 .. 1.0200000000000001]', '[1.2799999999999998 .. 1.3200000000000001]', '[0.079999999999999987 .. 0.12000000000000001]', '[0.079999999999999987 .. 0.12000000000000001]', '[0.079999999999999987 .. 0.12000000000000001]', '[1.2799999999999998 .. 1.3200000000000001]', '[2.4799999999999999 .. 2.5200000000000001]', '[0.57999999999999996 .. 0.62000000000000011]', '[1.2799999999999998 .. 1.3200000000000001]']\n",
      "ode in polynomial ring\n",
      "entering managed function _init_args\n",
      "crude_roots = False\n",
      "_handle_initials called!\n",
      "vars = [x1, x2, x3, x4, x5, x6, x7, x8, x9]\n",
      "C = [0.98..1.02]\n",
      "C = [1.2799999999999998..1.32]\n",
      "C = [0.07999999999999999..0.12000000000000001]\n",
      "C = [0.07999999999999999..0.12000000000000001]\n",
      "C = [0.07999999999999999..0.12000000000000001]\n",
      "C = [1.2799999999999998..1.32]\n",
      "C = [2.48..2.52]\n",
      "C = [0.58..0.6200000000000001]\n",
      "C = [1.2799999999999998..1.32]\n",
      "assigning system with dimension 9\n",
      "resulting system has dimension 9\n",
      "run within tmv args\n",
      "entering managed function run\n",
      "integrationScheme = 7\n",
      "Running Flow*: 1 items in 43.77 seconds\n",
      "Computed 1334 flowpipes in 43.76880787000027 sec\n",
      "entering managed function prepare\n",
      "PolyObserver(-x6 + 1, <flowstar.reachability.Reach object at 0x7fd4a2b57c80>, 0.10000000000000000?*x1*x6 + x2*x6 + 2*x6*x8 - 50*x3 - 100*x4 - 50*x5 + x6 symbolic_composition=False, tentative_unpreconditioning=True, mask=None)\n",
      "entering managed function prepare\n",
      "symbolic_composition=False, tentative_unpreconditioning=True\n",
      "entering managed function roots\n",
      "roots(space_domain=None, epsilon=1e-05, verbosity=0)\n",
      "top-level root detection: 1 items in 5.36 seconds\n",
      "roots = [[0.71099999999997254 .. 0.96745983959350135]]\n",
      "domain = [0.0000000000000000 .. 3.9999999999999996]\n",
      "roots = [[0.71099999999997254 .. 0.96745983959350135]]\n",
      "seg_domain = [0.0000000000000000 .. 3.9999999999999996]\n",
      "roots = [[0.71099999999997254 .. 0.96745983959350135]]\n",
      "entering managed function check\n",
      "entering managed function prepare\n",
      "running f_bool: 1 items in 0.00 seconds\n",
      "entering managed function check\n",
      "entering managed function prepare\n",
      "running f_bool: 1 items in 0.00 seconds\n",
      "signal given bool roots: 1 items in 0.00 seconds\n",
      "Monitoring Signal for x6 < 1: 1 items in 5.41 seconds\n",
      "Monitored signal in 5.410116103999371 sec\n",
      "ran \"observer.check\" 2 times in 0.0005059242248535156\n",
      "ran \"composing flowpipe\" 89 times in 3.833711862564087\n",
      "ran \"whole domain eval\" 89 times in 0.14577746391296387\n",
      "ran \"check boolean [unguarded]\" 2 times in 0.00036597251892089844\n",
      "ran \"capturing globals [on exit]\" 9 times in 0.0002796649932861328\n",
      "ran \"mask intersect check\" 1334 times in 0.0007312297821044922\n",
      "ran \"root detection\" 86 times in 0.28736257553100586\n",
      "ran \"tentative eval\" 1334 times in 1.076211929321289\n",
      "ran \"restoring globals\" 9 times in 0.00043320655822753906\n",
      "ran \"prepare in check\" 2 times in 3.743171691894531e-05\n",
      "ran \"post retrieve\" 86 times in 0.0006468296051025391\n",
      "ran \"root amalgamation\" 86 times in 6.008148193359375e-05\n",
      "Run done in 49.310444593429565 sec\n",
      "options: {'use_masks': False}\n"
     ]
    },
    {
     "data": {
      "image/png": "[encoded data removed]",
      "text/plain": [
       "Graphics object consisting of 2 graphics primitives"
      ]
     },
     "execution_count": 27,
     "metadata": {},
     "output_type": "execute_result"
    }
   ],
   "source": [
    "sigQ = test_monitoring(Q, 4, use_masks=False)[1]\n",
    "sigQ.plot()"
   ]
  },
  {
   "cell_type": "code",
   "execution_count": 28,
   "metadata": {},
   "outputs": [
    {
     "name": "stdout",
     "output_type": "stream",
     "text": [
      "Precomposing Contexts: 1 items in 0.00 seconds\n",
      "calling reach with y0 = ['[0.97999999999999998 .. 1.0200000000000001]', '[1.2799999999999998 .. 1.3200000000000001]', '[0.079999999999999987 .. 0.12000000000000001]', '[0.079999999999999987 .. 0.12000000000000001]', '[0.079999999999999987 .. 0.12000000000000001]', '[1.2799999999999998 .. 1.3200000000000001]', '[2.4799999999999999 .. 2.5200000000000001]', '[0.57999999999999996 .. 0.62000000000000011]', '[1.2799999999999998 .. 1.3200000000000001]']\n",
      "ode in polynomial ring\n",
      "entering managed function _init_args\n",
      "crude_roots = False\n",
      "_handle_initials called!\n",
      "vars = [x1, x2, x3, x4, x5, x6, x7, x8, x9]\n",
      "C = [0.98..1.02]\n",
      "C = [1.2799999999999998..1.32]\n",
      "C = [0.07999999999999999..0.12000000000000001]\n",
      "C = [0.07999999999999999..0.12000000000000001]\n",
      "C = [0.07999999999999999..0.12000000000000001]\n",
      "C = [1.2799999999999998..1.32]\n",
      "C = [2.48..2.52]\n",
      "C = [0.58..0.6200000000000001]\n",
      "C = [1.2799999999999998..1.32]\n",
      "assigning system with dimension 9\n",
      "resulting system has dimension 9\n",
      "run within tmv args\n",
      "entering managed function run\n",
      "integrationScheme = 7\n",
      "Running Flow*: 1 items in 43.33 seconds\n",
      "Computed 1334 flowpipes in 43.32826140100042 sec\n",
      "entering managed function prepare\n",
      "PolyObserver(-x6 + 1, <flowstar.reachability.Reach object at 0x7fd4a2b576e0>, 0.10000000000000000?*x1*x6 + x2*x6 + 2*x6*x8 - 50*x3 - 100*x4 - 50*x5 + x6 symbolic_composition=False, tentative_unpreconditioning=True, mask=Mask([0.0000000000000000 .. 4.0000000000000000], [[0.0029999999999999996 .. 0.48600000000000044]]))\n",
      "entering managed function prepare\n",
      "symbolic_composition=False, tentative_unpreconditioning=True\n",
      "entering managed function roots\n",
      "roots(space_domain=None, epsilon=1e-05, verbosity=0)\n",
      "top-level root detection: 1 items in 0.14 seconds\n",
      "roots = []\n",
      "domain = [0.0000000000000000 .. 3.9999999999999996]\n",
      "roots = []\n",
      "seg_domain = [0.0029999999999999996 .. 0.48600000000000044]\n",
      "roots = []\n",
      "entering managed function check\n",
      "entering managed function prepare\n",
      "running f_bool: 1 items in 0.00 seconds\n",
      "signal given bool roots: 1 items in 0.00 seconds\n",
      "Monitoring Signal for x6 < 1: 1 items in 0.19 seconds\n",
      "Monitored signal in 0.19021156199960387 sec\n",
      "ran \"observer.check\" 1 times in 0.00010967254638671875\n",
      "ran \"check boolean [unguarded]\" 1 times in 3.218650817871094e-05\n",
      "ran \"capturing globals [on exit]\" 9 times in 0.0003688335418701172\n",
      "ran \"mask intersect check\" 1334 times in 0.001459360122680664\n",
      "ran \"tentative eval\" 163 times in 0.13662409782409668\n",
      "ran \"restoring globals\" 9 times in 0.0006282329559326172\n",
      "ran \"prepare in check\" 1 times in 1.9073486328125e-05\n",
      "Run done in 43.647892475128174 sec\n",
      "options: {'mask': Mask([0.0000000000000000 .. 4.0000000000000000], [[0.0029999999999999996 .. 0.48600000000000044]])}\n"
     ]
    },
    {
     "name": "stderr",
     "output_type": "stream",
     "text": [
      "/usr/lib64/python3.7/site-packages/sage/plot/contour_plot.py:205: UserWarning: No contour levels were found within the data range.\n",
      "  linewidths=linewidths, linestyles=linestyles)\n"
     ]
    },
    {
     "data": {
      "image/png": "[encoded data removed]",
      "text/plain": [
       "Graphics object consisting of 2 graphics primitives"
      ]
     },
     "execution_count": 28,
     "metadata": {},
     "output_type": "execute_result"
    }
   ],
   "source": [
    "sigQm = test_monitoring(Q, 4, mask=sigPc.to_mask_and())[1]\n",
    "sigQm.plot()"
   ]
  },
  {
   "cell_type": "code",
   "execution_count": 33,
   "metadata": {},
   "outputs": [
    {
     "name": "stdout",
     "output_type": "stream",
     "text": [
      "Precomposing Contexts: 1 items in 0.00 seconds\n",
      "calling reach with y0 = ['[0.97999999999999998 .. 1.0200000000000001]', '[1.2799999999999998 .. 1.3200000000000001]', '[0.079999999999999987 .. 0.12000000000000001]', '[0.079999999999999987 .. 0.12000000000000001]', '[0.079999999999999987 .. 0.12000000000000001]', '[1.2799999999999998 .. 1.3200000000000001]', '[2.4799999999999999 .. 2.5200000000000001]', '[0.57999999999999996 .. 0.62000000000000011]', '[1.2799999999999998 .. 1.3200000000000001]']\n",
      "ode in polynomial ring\n",
      "crude_roots = False\n",
      "_handle_initials called!\n",
      "vars = [x1, x2, x3, x4, x5, x6, x7, x8, x9]\n",
      "C = [0.98..1.02]\n",
      "C = [1.2799999999999998..1.32]\n",
      "C = [0.07999999999999999..0.12000000000000001]\n",
      "C = [0.07999999999999999..0.12000000000000001]\n",
      "C = [0.07999999999999999..0.12000000000000001]\n",
      "C = [1.2799999999999998..1.32]\n",
      "C = [2.48..2.52]\n",
      "C = [0.58..0.6200000000000001]\n",
      "C = [1.2799999999999998..1.32]\n",
      "integrationScheme = 7\n",
      "Running Flow*: 1 items in 43.94 seconds\n",
      "Computed 1334 flowpipes in 43.943845050031086 sec\n",
      "PolyObserver(-x6 + 1, <flowstar.reachability.Reach object at 0x55f058e23230>, 0.10000000000000000?*x1*x6 + x2*x6 + 2*x6*x8 - 50*x3 - 100*x4 - 50*x5 + x6 symbolic_composition=False, tentative_unpreconditioning=True, mask=Mask([0.0000000000000000 .. 4.0000000000000000], [[0.0029999999999999996 .. 0.48300000000000043]]))\n",
      "symbolic_composition=False, tentative_unpreconditioning=True\n",
      "roots(space_domain=None, epsilon=1e-05, verbosity=0)\n",
      "top-level root detection: 1 items in 0.14 seconds\n",
      "roots = []\n",
      "domain = [0.0000000000000000 .. 3.9999999999999996]\n",
      "roots = []\n",
      "seg_domain = [0.0029999999999999996 .. 0.48300000000000043]\n",
      "roots = []\n",
      "running f_bool: 1 items in 0.00 seconds\n",
      "signal given bool roots: 1 items in 0.00 seconds\n",
      "Monitoring Signal for x6 < 1: 1 items in 0.49 seconds\n",
      "Monitored signal in 0.4947081309801433 sec\n",
      "ran \"check boolean [unguarded]\" 1 times in 2.956390380859375e-05\n",
      "ran \"mask intersect check\" 1334 times in 0.0015437602996826172\n",
      "ran \"observer.check\" 1 times in 0.00010442733764648438\n",
      "ran \"tentative eval\" 162 times in 0.13290882110595703\n",
      "ran \"prepare in check\" 1 times in 5.0067901611328125e-06\n",
      "ran \"check boolean [guarded]\" 1 times in 4.029273986816406e-05\n",
      "Run done in 44.64312243461609 sec\n",
      "options: {'mask': Mask([0.0000000000000000 .. 4.0000000000000000], [[0.0029999999999999996 .. 0.48300000000000043]])}\n"
     ]
    },
    {
     "name": "stderr",
     "output_type": "stream",
     "text": [
      "/usr/lib64/python3.7/site-packages/sage/plot/contour_plot.py:205: UserWarning: No contour levels were found within the data range.\n",
      "  linewidths=linewidths, linestyles=linestyles)\n"
     ]
    },
    {
     "data": {
      "image/png": "[encoded data removed]",
      "text/plain": [
       "Graphics object consisting of 2 graphics primitives"
      ]
     },
     "execution_count": 33,
     "metadata": {},
     "output_type": "execute_result"
    }
   ],
   "source": [
    "sigQc = test_monitoring(Q, 4, mask=sigPc.to_mask_and())[1]\n",
    "sigQc.plot()"
   ]
  },
  {
   "cell_type": "code",
   "execution_count": 29,
   "metadata": {},
   "outputs": [
    {
     "name": "stdout",
     "output_type": "stream",
     "text": [
      "Precomposing Contexts: 1 items in 0.00 seconds\n",
      "calling reach with y0 = ['[0.97999999999999998 .. 1.0200000000000001]', '[1.2799999999999998 .. 1.3200000000000001]', '[0.079999999999999987 .. 0.12000000000000001]', '[0.079999999999999987 .. 0.12000000000000001]', '[0.079999999999999987 .. 0.12000000000000001]', '[1.2799999999999998 .. 1.3200000000000001]', '[2.4799999999999999 .. 2.5200000000000001]', '[0.57999999999999996 .. 0.62000000000000011]', '[1.2799999999999998 .. 1.3200000000000001]']\n",
      "ode in polynomial ring\n",
      "entering managed function _init_args\n",
      "crude_roots = False\n",
      "_handle_initials called!\n",
      "vars = [x1, x2, x3, x4, x5, x6, x7, x8, x9]\n",
      "C = [0.98..1.02]\n",
      "C = [1.2799999999999998..1.32]\n",
      "C = [0.07999999999999999..0.12000000000000001]\n",
      "C = [0.07999999999999999..0.12000000000000001]\n",
      "C = [0.07999999999999999..0.12000000000000001]\n",
      "C = [1.2799999999999998..1.32]\n",
      "C = [2.48..2.52]\n",
      "C = [0.58..0.6200000000000001]\n",
      "C = [1.2799999999999998..1.32]\n",
      "assigning system with dimension 9\n",
      "resulting system has dimension 9\n",
      "run within tmv args\n",
      "entering managed function run\n",
      "integrationScheme = 7\n",
      "Running Flow*: 1 items in 45.23 seconds\n",
      "Computed 1334 flowpipes in 45.23164627900087 sec\n",
      "entering managed function prepare\n",
      "PolyObserver(-x6 + 1, <flowstar.reachability.Reach object at 0x7fd49db94050>, 0.10000000000000000?*x1*x6 + x2*x6 + 2*x6*x8 - 50*x3 - 100*x4 - 50*x5 + x6 symbolic_composition=False, tentative_unpreconditioning=True, mask=Mask([0.0000000000000000 .. 4.0000000000000000], [[0.0029999999999999996 .. 0.10000000000000001], [0.19999999999999998 .. 0.30000000000000005], [0.39999999999999996 .. 0.48600000000000044], [0.50000000000000000 .. 0.50000000000000000], [0.59999999999999997 .. 0.59999999999999998], [0.70000000000000006 .. 0.70000000000000007], [0.79999999999999993 .. 0.79999999999999994], [0.90000000000000002 .. 0.90000000000000003], [1.0000000000000000 .. 1.0000000000000000], [1.1000000000000000 .. 1.1000000000000001], [1.1999999999999999 .. 1.2000000000000000], [1.3000000000000000 .. 1.3000000000000001], [1.3999999999999999 .. 1.4000000000000000], [1.5000000000000000 .. 1.5000000000000000], [1.5999999999999998 .. 1.5999999999999999], [1.7000000000000001 .. 1.7000000000000002], [1.7999999999999998 .. 1.7999999999999999], [1.9000000000000001 .. 1.9000000000000002], [2.0000000000000000 .. 2.0000000000000000], [2.1000000000000000 .. 2.1000000000000001], [2.1999999999999997 .. 2.1999999999999998], [2.3000000000000002 .. 2.3000000000000003], [2.3999999999999999 .. 2.4000000000000000], [2.5000000000000000 .. 2.5000000000000000], [2.5999999999999996 .. 2.5999999999999997], [2.7000000000000001 .. 2.7000000000000002], [2.7999999999999998 .. 2.7999999999999999], [2.9000000000000003 .. 2.9000000000000004], [3.0000000000000000 .. 3.0000000000000000], [3.1000000000000000 .. 3.1000000000000001], [3.1999999999999997 .. 3.1999999999999998], [3.3000000000000002 .. 3.3000000000000003], [3.3999999999999999 .. 3.4000000000000000], [3.5000000000000000 .. 3.5000000000000000], [3.5999999999999996 .. 3.5999999999999997], [3.7000000000000001 .. 3.7000000000000002], [3.7999999999999998 .. 3.7999999999999999], [3.9000000000000003 .. 3.9000000000000004], [4.0000000000000000 .. 4.0000000000000000]]))\n",
      "entering managed function prepare\n",
      "symbolic_composition=False, tentative_unpreconditioning=True\n",
      "entering managed function roots\n",
      "roots(space_domain=None, epsilon=1e-05, verbosity=0)\n",
      "top-level root detection: 1 items in 0.27 seconds\n",
      "roots = [[0.79999999999996540 .. 0.80000000000003447], [0.89999999999995816 .. 0.90000000000004210]]\n",
      "domain = [0.0000000000000000 .. 3.9999999999999996]\n",
      "roots = [[0.79999999999996540 .. 0.80000000000003447], \n",
      " [0.89999999999995816 .. 0.90000000000004210]]\n",
      "seg_domain = [0.0029999999999999996 .. 0.10000000000000001]\n",
      "roots = [[0.79999999999996540 .. 0.80000000000003447], \n",
      " [0.89999999999995816 .. 0.90000000000004210]]\n",
      "entering managed function check\n",
      "entering managed function prepare\n",
      "running f_bool: 1 items in 0.00 seconds\n",
      "seg_domain = [0.19999999999999998 .. 0.30000000000000005]\n",
      "roots = [[0.79999999999996540 .. 0.80000000000003447], \n",
      " [0.89999999999995816 .. 0.90000000000004210]]\n",
      "entering managed function check\n",
      "entering managed function prepare\n",
      "running f_bool: 1 items in 0.00 seconds\n",
      "seg_domain = [0.39999999999999996 .. 0.48600000000000044]\n",
      "roots = [[0.79999999999996540 .. 0.80000000000003447], \n",
      " [0.89999999999995816 .. 0.90000000000004210]]\n",
      "entering managed function check\n",
      "entering managed function prepare\n",
      "running f_bool: 1 items in 0.00 seconds\n",
      "seg_domain = [0.50000000000000000 .. 0.50000000000000000]\n",
      "roots = [[0.79999999999996540 .. 0.80000000000003447], \n",
      " [0.89999999999995816 .. 0.90000000000004210]]\n",
      "entering managed function check\n",
      "entering managed function prepare\n",
      "running f_bool: 1 items in 0.00 seconds\n",
      "seg_domain = [0.59999999999999997 .. 0.59999999999999998]\n",
      "roots = [[0.79999999999996540 .. 0.80000000000003447], \n",
      " [0.89999999999995816 .. 0.90000000000004210]]\n",
      "entering managed function check\n",
      "entering managed function prepare\n",
      "running f_bool: 1 items in 0.00 seconds\n",
      "seg_domain = [0.70000000000000006 .. 0.70000000000000007]\n",
      "roots = [[0.79999999999996540 .. 0.80000000000003447], \n",
      " [0.89999999999995816 .. 0.90000000000004210]]\n",
      "entering managed function check\n",
      "entering managed function prepare\n",
      "running f_bool: 1 items in 0.00 seconds\n",
      "seg_domain = [0.79999999999999993 .. 0.79999999999999994]\n",
      "roots = [[0.79999999999996540 .. 0.80000000000003447], \n",
      " [0.89999999999995816 .. 0.90000000000004210]]\n",
      "entering managed function check\n",
      "entering managed function prepare\n",
      "running f_bool: 1 items in 0.00 seconds\n",
      "0 at 0.800000000000000\n",
      "seg_domain = [0.90000000000000002 .. 0.90000000000000003]\n",
      "roots = [[0.79999999999996540 .. 0.80000000000003447], \n",
      " [0.89999999999995816 .. 0.90000000000004210]]\n",
      "entering managed function check\n",
      "entering managed function prepare\n",
      "running f_bool: 1 items in 0.00 seconds\n",
      "0 at 0.900000000000001\n",
      "seg_domain = [1.0000000000000000 .. 1.0000000000000000]\n",
      "roots = [[0.79999999999996540 .. 0.80000000000003447], \n",
      " [0.89999999999995816 .. 0.90000000000004210]]\n",
      "entering managed function check\n",
      "entering managed function prepare\n",
      "running f_bool: 1 items in 0.00 seconds\n",
      "seg_domain = [1.1000000000000000 .. 1.1000000000000001]\n",
      "roots = [[0.79999999999996540 .. 0.80000000000003447], \n",
      " [0.89999999999995816 .. 0.90000000000004210]]\n",
      "entering managed function check\n",
      "entering managed function prepare\n",
      "running f_bool: 1 items in 0.00 seconds\n",
      "seg_domain = [1.1999999999999999 .. 1.2000000000000000]\n",
      "roots = [[0.79999999999996540 .. 0.80000000000003447], \n",
      " [0.89999999999995816 .. 0.90000000000004210]]\n",
      "entering managed function check\n",
      "entering managed function prepare\n",
      "running f_bool: 1 items in 0.00 seconds\n",
      "seg_domain = [1.3000000000000000 .. 1.3000000000000001]\n",
      "roots = [[0.79999999999996540 .. 0.80000000000003447], \n",
      " [0.89999999999995816 .. 0.90000000000004210]]\n",
      "entering managed function check\n",
      "entering managed function prepare\n",
      "running f_bool: 1 items in 0.00 seconds\n",
      "seg_domain = [1.3999999999999999 .. 1.4000000000000000]\n",
      "roots = [[0.79999999999996540 .. 0.80000000000003447], \n",
      " [0.89999999999995816 .. 0.90000000000004210]]\n",
      "entering managed function check\n",
      "entering managed function prepare\n",
      "running f_bool: 1 items in 0.00 seconds\n",
      "seg_domain = [1.5000000000000000 .. 1.5000000000000000]\n",
      "roots = [[0.79999999999996540 .. 0.80000000000003447], \n",
      " [0.89999999999995816 .. 0.90000000000004210]]\n",
      "entering managed function check\n",
      "entering managed function prepare\n",
      "running f_bool: 1 items in 0.00 seconds\n",
      "seg_domain = [1.5999999999999998 .. 1.5999999999999999]\n",
      "roots = [[0.79999999999996540 .. 0.80000000000003447], \n",
      " [0.89999999999995816 .. 0.90000000000004210]]\n",
      "entering managed function check\n",
      "entering managed function prepare\n",
      "running f_bool: 1 items in 0.00 seconds\n",
      "seg_domain = [1.7000000000000001 .. 1.7000000000000002]\n",
      "roots = [[0.79999999999996540 .. 0.80000000000003447], \n",
      " [0.89999999999995816 .. 0.90000000000004210]]\n",
      "entering managed function check\n",
      "entering managed function prepare\n",
      "running f_bool: 1 items in 0.00 seconds\n",
      "seg_domain = [1.7999999999999998 .. 1.7999999999999999]\n",
      "roots = [[0.79999999999996540 .. 0.80000000000003447], \n",
      " [0.89999999999995816 .. 0.90000000000004210]]\n",
      "entering managed function check\n",
      "entering managed function prepare\n",
      "running f_bool: 1 items in 0.00 seconds\n",
      "seg_domain = [1.9000000000000001 .. 1.9000000000000002]\n",
      "roots = [[0.79999999999996540 .. 0.80000000000003447], \n",
      " [0.89999999999995816 .. 0.90000000000004210]]\n",
      "entering managed function check\n",
      "entering managed function prepare\n",
      "running f_bool: 1 items in 0.00 seconds\n",
      "seg_domain = [2.0000000000000000 .. 2.0000000000000000]\n",
      "roots = [[0.79999999999996540 .. 0.80000000000003447], \n",
      " [0.89999999999995816 .. 0.90000000000004210]]\n",
      "entering managed function check\n",
      "entering managed function prepare\n",
      "running f_bool: 1 items in 0.00 seconds\n",
      "seg_domain = [2.1000000000000000 .. 2.1000000000000001]\n",
      "roots = [[0.79999999999996540 .. 0.80000000000003447], \n",
      " [0.89999999999995816 .. 0.90000000000004210]]\n",
      "entering managed function check\n",
      "entering managed function prepare\n",
      "running f_bool: 1 items in 0.00 seconds\n",
      "seg_domain = [2.1999999999999997 .. 2.1999999999999998]\n",
      "roots = [[0.79999999999996540 .. 0.80000000000003447], \n",
      " [0.89999999999995816 .. 0.90000000000004210]]\n",
      "entering managed function check\n",
      "entering managed function prepare\n",
      "running f_bool: 1 items in 0.00 seconds\n",
      "seg_domain = [2.3000000000000002 .. 2.3000000000000003]\n",
      "roots = [[0.79999999999996540 .. 0.80000000000003447], \n",
      " [0.89999999999995816 .. 0.90000000000004210]]\n",
      "entering managed function check\n",
      "entering managed function prepare\n",
      "running f_bool: 1 items in 0.00 seconds\n",
      "seg_domain = [2.3999999999999999 .. 2.4000000000000000]\n",
      "roots = [[0.79999999999996540 .. 0.80000000000003447], \n",
      " [0.89999999999995816 .. 0.90000000000004210]]\n",
      "entering managed function check\n",
      "entering managed function prepare\n",
      "running f_bool: 1 items in 0.00 seconds\n",
      "seg_domain = [2.5000000000000000 .. 2.5000000000000000]\n",
      "roots = [[0.79999999999996540 .. 0.80000000000003447], \n",
      " [0.89999999999995816 .. 0.90000000000004210]]\n",
      "entering managed function check\n",
      "entering managed function prepare\n",
      "running f_bool: 1 items in 0.00 seconds\n",
      "seg_domain = [2.5999999999999996 .. 2.5999999999999997]\n",
      "roots = [[0.79999999999996540 .. 0.80000000000003447], \n",
      " [0.89999999999995816 .. 0.90000000000004210]]\n",
      "entering managed function check\n",
      "entering managed function prepare\n",
      "running f_bool: 1 items in 0.00 seconds\n",
      "seg_domain = [2.7000000000000001 .. 2.7000000000000002]\n",
      "roots = [[0.79999999999996540 .. 0.80000000000003447], \n",
      " [0.89999999999995816 .. 0.90000000000004210]]\n",
      "entering managed function check\n",
      "entering managed function prepare\n",
      "running f_bool: 1 items in 0.00 seconds\n",
      "seg_domain = [2.7999999999999998 .. 2.7999999999999999]\n",
      "roots = [[0.79999999999996540 .. 0.80000000000003447], \n",
      " [0.89999999999995816 .. 0.90000000000004210]]\n",
      "entering managed function check\n",
      "entering managed function prepare\n",
      "running f_bool: 1 items in 0.00 seconds\n",
      "seg_domain = [2.9000000000000003 .. 2.9000000000000004]\n",
      "roots = [[0.79999999999996540 .. 0.80000000000003447], \n",
      " [0.89999999999995816 .. 0.90000000000004210]]\n",
      "entering managed function check\n",
      "entering managed function prepare\n",
      "running f_bool: 1 items in 0.00 seconds\n",
      "seg_domain = [3.0000000000000000 .. 3.0000000000000000]\n",
      "roots = [[0.79999999999996540 .. 0.80000000000003447], \n",
      " [0.89999999999995816 .. 0.90000000000004210]]\n",
      "entering managed function check\n",
      "entering managed function prepare\n",
      "running f_bool: 1 items in 0.00 seconds\n",
      "seg_domain = [3.1000000000000000 .. 3.1000000000000001]\n",
      "roots = [[0.79999999999996540 .. 0.80000000000003447], \n",
      " [0.89999999999995816 .. 0.90000000000004210]]\n",
      "entering managed function check\n",
      "entering managed function prepare\n",
      "running f_bool: 1 items in 0.00 seconds\n",
      "seg_domain = [3.1999999999999997 .. 3.1999999999999998]\n",
      "roots = [[0.79999999999996540 .. 0.80000000000003447], \n",
      " [0.89999999999995816 .. 0.90000000000004210]]\n",
      "entering managed function check\n",
      "entering managed function prepare\n",
      "running f_bool: 1 items in 0.00 seconds\n",
      "seg_domain = [3.3000000000000002 .. 3.3000000000000003]\n",
      "roots = [[0.79999999999996540 .. 0.80000000000003447], \n",
      " [0.89999999999995816 .. 0.90000000000004210]]\n",
      "entering managed function check\n",
      "entering managed function prepare\n",
      "running f_bool: 1 items in 0.00 seconds\n",
      "seg_domain = [3.3999999999999999 .. 3.4000000000000000]\n",
      "roots = [[0.79999999999996540 .. 0.80000000000003447], \n",
      " [0.89999999999995816 .. 0.90000000000004210]]\n",
      "entering managed function check\n",
      "entering managed function prepare\n",
      "running f_bool: 1 items in 0.00 seconds\n",
      "seg_domain = [3.5000000000000000 .. 3.5000000000000000]\n",
      "roots = [[0.79999999999996540 .. 0.80000000000003447], \n",
      " [0.89999999999995816 .. 0.90000000000004210]]\n",
      "entering managed function check\n",
      "entering managed function prepare\n",
      "running f_bool: 1 items in 0.00 seconds\n",
      "seg_domain = [3.5999999999999996 .. 3.5999999999999997]\n",
      "roots = [[0.79999999999996540 .. 0.80000000000003447], \n",
      " [0.89999999999995816 .. 0.90000000000004210]]\n",
      "entering managed function check\n",
      "entering managed function prepare\n",
      "running f_bool: 1 items in 0.00 seconds\n",
      "seg_domain = [3.7000000000000001 .. 3.7000000000000002]\n",
      "roots = [[0.79999999999996540 .. 0.80000000000003447], \n",
      " [0.89999999999995816 .. 0.90000000000004210]]\n",
      "entering managed function check\n",
      "entering managed function prepare\n",
      "running f_bool: 1 items in 0.00 seconds\n",
      "seg_domain = [3.7999999999999998 .. 3.7999999999999999]\n",
      "roots = [[0.79999999999996540 .. 0.80000000000003447], \n",
      " [0.89999999999995816 .. 0.90000000000004210]]\n",
      "entering managed function check\n",
      "entering managed function prepare\n",
      "running f_bool: 1 items in 0.00 seconds\n",
      "seg_domain = [3.9000000000000003 .. 3.9000000000000004]\n",
      "roots = [[0.79999999999996540 .. 0.80000000000003447], \n",
      " [0.89999999999995816 .. 0.90000000000004210]]\n",
      "entering managed function check\n",
      "entering managed function prepare\n",
      "running f_bool: 1 items in 0.00 seconds\n",
      "seg_domain = [4.0000000000000000 .. 4.0000000000000000]\n",
      "roots = [[0.79999999999996540 .. 0.80000000000003447], \n",
      " [0.89999999999995816 .. 0.90000000000004210]]\n",
      "entering managed function check\n",
      "entering managed function prepare\n",
      "running f_bool: 1 items in 0.00 seconds\n",
      "signal given bool roots: 1 items in 0.04 seconds\n",
      "Monitoring Signal for x6 < 1: 1 items in 0.35 seconds\n",
      "Monitored signal in 0.3520524029995613 sec\n",
      "ran \"observer.check\" 39 times in 0.020283222198486328\n",
      "ran \"composing flowpipe\" 5 times in 0.11710333824157715\n",
      "ran \"whole domain eval\" 3 times in 0.005518198013305664\n",
      "ran \"check boolean [unguarded]\" 39 times in 0.013458013534545898\n",
      "ran \"capturing globals [on exit]\" 9 times in 0.00036597251892089844\n",
      "ran \"mask intersect check\" 1334 times in 0.002296924591064453\n",
      "ran \"root detection\" 3 times in 0.011357784271240234\n",
      "ran \"tentative eval\" 147 times in 0.1235501766204834\n",
      "ran \"restoring globals\" 9 times in 0.00047278404235839844\n",
      "ran \"prepare in check\" 39 times in 0.0022187232971191406\n",
      "ran \"post retrieve\" 3 times in 2.384185791015625e-05\n",
      "ran \"root amalgamation\" 3 times in 3.337860107421875e-06\n",
      "Run done in 45.74202108383179 sec\n",
      "options: {'mask': Mask([0.0000000000000000 .. 4.0000000000000000], [[0.0029999999999999996 .. 0.10000000000000001], [0.19999999999999998 .. 0.30000000000000005], [0.39999999999999996 .. 0.48600000000000044], [0.50000000000000000 .. 0.50000000000000000], [0.59999999999999997 .. 0.59999999999999998], [0.70000000000000006 .. 0.70000000000000007], [0.79999999999999993 .. 0.79999999999999994], [0.90000000000000002 .. 0.90000000000000003], [1.0000000000000000 .. 1.0000000000000000], [1.1000000000000000 .. 1.1000000000000001], [1.1999999999999999 .. 1.2000000000000000], [1.3000000000000000 .. 1.3000000000000001], [1.3999999999999999 .. 1.4000000000000000], [1.5000000000000000 .. 1.5000000000000000], [1.5999999999999998 .. 1.5999999999999999], [1.7000000000000001 .. 1.7000000000000002], [1.7999999999999998 .. 1.7999999999999999], [1.9000000000000001 .. 1.9000000000000002], [2.0000000000000000 .. 2.0000000000000000], [2.1000000000000000 .. 2.1000000000000001], [2.1999999999999997 .. 2.1999999999999998], [2.3000000000000002 .. 2.3000000000000003], [2.3999999999999999 .. 2.4000000000000000], [2.5000000000000000 .. 2.5000000000000000], [2.5999999999999996 .. 2.5999999999999997], [2.7000000000000001 .. 2.7000000000000002], [2.7999999999999998 .. 2.7999999999999999], [2.9000000000000003 .. 2.9000000000000004], [3.0000000000000000 .. 3.0000000000000000], [3.1000000000000000 .. 3.1000000000000001], [3.1999999999999997 .. 3.1999999999999998], [3.3000000000000002 .. 3.3000000000000003], [3.3999999999999999 .. 3.4000000000000000], [3.5000000000000000 .. 3.5000000000000000], [3.5999999999999996 .. 3.5999999999999997], [3.7000000000000001 .. 3.7000000000000002], [3.7999999999999998 .. 3.7999999999999999], [3.9000000000000003 .. 3.9000000000000004], [4.0000000000000000 .. 4.0000000000000000]])}\n"
     ]
    },
    {
     "data": {
      "image/png": "[encoded data removed]",
      "text/plain": [
       "Graphics object consisting of 2 graphics primitives"
      ]
     },
     "execution_count": 29,
     "metadata": {},
     "output_type": "execute_result"
    }
   ],
   "source": [
    "sigQz = test_monitoring(Q, 4, mask=sigPz.to_mask_and())[1]\n",
    "sigQz.plot()"
   ]
  },
  {
   "cell_type": "code",
   "execution_count": 33,
   "metadata": {},
   "outputs": [
    {
     "name": "stdout",
     "output_type": "stream",
     "text": [
      "Precomposing Contexts: 1 items in 0.00 seconds\n",
      "calling reach with y0 = ['[0.97999999999999998 .. 1.0200000000000001]', '[1.2799999999999998 .. 1.3200000000000001]', '[0.079999999999999987 .. 0.12000000000000001]', '[0.079999999999999987 .. 0.12000000000000001]', '[0.079999999999999987 .. 0.12000000000000001]', '[1.2799999999999998 .. 1.3200000000000001]', '[2.4799999999999999 .. 2.5200000000000001]', '[0.57999999999999996 .. 0.62000000000000011]', '[1.2799999999999998 .. 1.3200000000000001]']\n",
      "ode in polynomial ring\n",
      "entering managed function _init_args\n",
      "crude_roots = False\n",
      "_handle_initials called!\n",
      "vars = [x1, x2, x3, x4, x5, x6, x7, x8, x9]\n",
      "C = [0.98..1.02]\n",
      "C = [1.2799999999999998..1.32]\n",
      "C = [0.07999999999999999..0.12000000000000001]\n",
      "C = [0.07999999999999999..0.12000000000000001]\n",
      "C = [0.07999999999999999..0.12000000000000001]\n",
      "C = [1.2799999999999998..1.32]\n",
      "C = [2.48..2.52]\n",
      "C = [0.58..0.6200000000000001]\n",
      "C = [1.2799999999999998..1.32]\n",
      "assigning system with dimension 9\n",
      "resulting system has dimension 9\n",
      "run within tmv args\n",
      "entering managed function run\n",
      "integrationScheme = 7\n",
      "Running Flow*: 1 items in 44.72 seconds\n",
      "Computed 1334 flowpipes in 44.72382964700046 sec\n",
      "entering managed function prepare\n",
      "PolyObserver(x6 - 1.4000000000000000?, <flowstar.reachability.Reach object at 0x7fd49dab5320>, -0.10000000000000000?*x1*x6 - x2*x6 - 2*x6*x8 + 50*x3 + 100*x4 + 50*x5 - x6 symbolic_composition=False, tentative_unpreconditioning=True, mask=Mask([0.0000000000000000 .. 4.0000000000000000], [[0.0029999999999999996 .. 0.0029999999999999997], [0.10000000000000000 .. 0.10000000000000001], [0.19999999999999998 .. 0.19999999999999999], [0.30000000000000004 .. 0.30000000000000005], [0.39999999999999996 .. 0.39999999999999997], [0.48600000000000043 .. 0.48600000000000044], [0.50000000000000000 .. 0.50000000000000000], [0.59999999999999997 .. 0.59999999999999998], [0.70000000000000006 .. 0.70000000000000007], [0.79999999999999993 .. 0.79999999999999994], [0.90000000000000002 .. 0.90000000000000003], [1.0000000000000000 .. 1.0000000000000000], [1.1000000000000000 .. 1.1000000000000001], [1.1999999999999999 .. 1.2000000000000000], [1.3000000000000000 .. 1.3000000000000001], [1.3999999999999999 .. 1.4000000000000000], [1.5000000000000000 .. 1.5000000000000000], [1.5999999999999998 .. 1.5999999999999999], [1.7000000000000001 .. 1.7000000000000002], [1.7999999999999998 .. 1.7999999999999999], [1.9000000000000001 .. 1.9000000000000002], [2.0000000000000000 .. 2.0000000000000000], [2.1000000000000000 .. 2.1000000000000001], [2.1999999999999997 .. 2.1999999999999998], [2.3000000000000002 .. 2.3000000000000003], [2.3999999999999999 .. 2.4000000000000000], [2.5000000000000000 .. 2.5000000000000000], [2.5999999999999996 .. 2.5999999999999997], [2.7000000000000001 .. 2.7000000000000002], [2.7999999999999998 .. 2.7999999999999999], [2.9000000000000003 .. 2.9000000000000004], [3.0000000000000000 .. 3.0000000000000000], [3.1000000000000000 .. 3.1000000000000001], [3.1999999999999997 .. 3.1999999999999998], [3.3000000000000002 .. 3.3000000000000003], [3.3999999999999999 .. 3.4000000000000000], [3.5000000000000000 .. 3.5000000000000000], [3.5999999999999996 .. 3.5999999999999997], [3.7000000000000001 .. 3.7000000000000002], [3.7999999999999998 .. 3.7999999999999999], [3.9000000000000003 .. 3.9000000000000004], [4.0000000000000000 .. 4.0000000000000000]]))\n",
      "entering managed function prepare\n",
      "symbolic_composition=False, tentative_unpreconditioning=True\n",
      "entering managed function roots\n",
      "roots(space_domain=None, epsilon=1e-05, verbosity=0)\n",
      "top-level root detection: 1 items in 0.21 seconds\n",
      "roots = [[0.29999999999999515 .. 0.30000000000000505], [0.39999999999999130 .. 0.40000000000000863]]\n",
      "domain = [0.0000000000000000 .. 3.9999999999999996]\n",
      "roots = [[0.29999999999999515 .. 0.30000000000000505], \n",
      " [0.39999999999999130 .. 0.40000000000000863]]\n",
      "seg_domain = [0.0029999999999999996 .. 0.0029999999999999997]\n",
      "roots = [[0.29999999999999515 .. 0.30000000000000505], \n",
      " [0.39999999999999130 .. 0.40000000000000863]]\n",
      "entering managed function check\n",
      "entering managed function prepare\n",
      "running f_bool: 1 items in 0.00 seconds\n",
      "seg_domain = [0.10000000000000000 .. 0.10000000000000001]\n",
      "roots = [[0.29999999999999515 .. 0.30000000000000505], \n",
      " [0.39999999999999130 .. 0.40000000000000863]]\n",
      "entering managed function check\n",
      "entering managed function prepare\n",
      "running f_bool: 1 items in 0.00 seconds\n",
      "seg_domain = [0.19999999999999998 .. 0.19999999999999999]\n",
      "roots = [[0.29999999999999515 .. 0.30000000000000505], \n",
      " [0.39999999999999130 .. 0.40000000000000863]]\n",
      "entering managed function check\n",
      "entering managed function prepare\n",
      "running f_bool: 1 items in 0.00 seconds\n",
      "seg_domain = [0.30000000000000004 .. 0.30000000000000005]\n",
      "roots = [[0.29999999999999515 .. 0.30000000000000505], \n",
      " [0.39999999999999130 .. 0.40000000000000863]]\n",
      "entering managed function check\n",
      "entering managed function prepare\n",
      "running f_bool: 1 items in 0.00 seconds\n",
      "0 at 0.300000000000001\n",
      "seg_domain = [0.39999999999999996 .. 0.39999999999999997]\n",
      "roots = [[0.29999999999999515 .. 0.30000000000000505], \n",
      " [0.39999999999999130 .. 0.40000000000000863]]\n",
      "entering managed function check\n",
      "entering managed function prepare\n",
      "running f_bool: 1 items in 0.00 seconds\n",
      "0 at 0.400000000000000\n",
      "seg_domain = [0.48600000000000043 .. 0.48600000000000044]\n",
      "roots = [[0.29999999999999515 .. 0.30000000000000505], \n",
      " [0.39999999999999130 .. 0.40000000000000863]]\n",
      "entering managed function check\n",
      "entering managed function prepare\n",
      "running f_bool: 1 items in 0.00 seconds\n",
      "seg_domain = [0.50000000000000000 .. 0.50000000000000000]\n",
      "roots = [[0.29999999999999515 .. 0.30000000000000505], \n",
      " [0.39999999999999130 .. 0.40000000000000863]]\n",
      "entering managed function check\n",
      "entering managed function prepare\n",
      "running f_bool: 1 items in 0.00 seconds\n",
      "seg_domain = [0.59999999999999997 .. 0.59999999999999998]\n",
      "roots = [[0.29999999999999515 .. 0.30000000000000505], \n",
      " [0.39999999999999130 .. 0.40000000000000863]]\n",
      "entering managed function check\n",
      "entering managed function prepare\n",
      "running f_bool: 1 items in 0.00 seconds\n",
      "seg_domain = [0.70000000000000006 .. 0.70000000000000007]\n",
      "roots = [[0.29999999999999515 .. 0.30000000000000505], \n",
      " [0.39999999999999130 .. 0.40000000000000863]]\n",
      "entering managed function check\n",
      "entering managed function prepare\n",
      "running f_bool: 1 items in 0.00 seconds\n",
      "seg_domain = [0.79999999999999993 .. 0.79999999999999994]\n",
      "roots = [[0.29999999999999515 .. 0.30000000000000505], \n",
      " [0.39999999999999130 .. 0.40000000000000863]]\n",
      "entering managed function check\n",
      "entering managed function prepare\n",
      "running f_bool: 1 items in 0.00 seconds\n",
      "seg_domain = [0.90000000000000002 .. 0.90000000000000003]\n",
      "roots = [[0.29999999999999515 .. 0.30000000000000505], \n",
      " [0.39999999999999130 .. 0.40000000000000863]]\n",
      "entering managed function check\n",
      "entering managed function prepare\n",
      "running f_bool: 1 items in 0.00 seconds\n",
      "seg_domain = [1.0000000000000000 .. 1.0000000000000000]\n",
      "roots = [[0.29999999999999515 .. 0.30000000000000505], \n",
      " [0.39999999999999130 .. 0.40000000000000863]]\n",
      "entering managed function check\n",
      "entering managed function prepare\n",
      "running f_bool: 1 items in 0.00 seconds\n",
      "seg_domain = [1.1000000000000000 .. 1.1000000000000001]\n",
      "roots = [[0.29999999999999515 .. 0.30000000000000505], \n",
      " [0.39999999999999130 .. 0.40000000000000863]]\n",
      "entering managed function check\n",
      "entering managed function prepare\n",
      "running f_bool: 1 items in 0.00 seconds\n",
      "seg_domain = [1.1999999999999999 .. 1.2000000000000000]\n",
      "roots = [[0.29999999999999515 .. 0.30000000000000505], \n",
      " [0.39999999999999130 .. 0.40000000000000863]]\n",
      "entering managed function check\n",
      "entering managed function prepare\n",
      "running f_bool: 1 items in 0.00 seconds\n",
      "seg_domain = [1.3000000000000000 .. 1.3000000000000001]\n",
      "roots = [[0.29999999999999515 .. 0.30000000000000505], \n",
      " [0.39999999999999130 .. 0.40000000000000863]]\n",
      "entering managed function check\n",
      "entering managed function prepare\n",
      "running f_bool: 1 items in 0.00 seconds\n",
      "seg_domain = [1.3999999999999999 .. 1.4000000000000000]\n",
      "roots = [[0.29999999999999515 .. 0.30000000000000505], \n",
      " [0.39999999999999130 .. 0.40000000000000863]]\n",
      "entering managed function check\n",
      "entering managed function prepare\n",
      "running f_bool: 1 items in 0.00 seconds\n",
      "seg_domain = [1.5000000000000000 .. 1.5000000000000000]\n",
      "roots = [[0.29999999999999515 .. 0.30000000000000505], \n",
      " [0.39999999999999130 .. 0.40000000000000863]]\n",
      "entering managed function check\n",
      "entering managed function prepare\n",
      "running f_bool: 1 items in 0.00 seconds\n",
      "seg_domain = [1.5999999999999998 .. 1.5999999999999999]\n",
      "roots = [[0.29999999999999515 .. 0.30000000000000505], \n",
      " [0.39999999999999130 .. 0.40000000000000863]]\n",
      "entering managed function check\n",
      "entering managed function prepare\n",
      "running f_bool: 1 items in 0.00 seconds\n",
      "seg_domain = [1.7000000000000001 .. 1.7000000000000002]\n",
      "roots = [[0.29999999999999515 .. 0.30000000000000505], \n",
      " [0.39999999999999130 .. 0.40000000000000863]]\n",
      "entering managed function check\n",
      "entering managed function prepare\n",
      "running f_bool: 1 items in 0.00 seconds\n",
      "seg_domain = [1.7999999999999998 .. 1.7999999999999999]\n",
      "roots = [[0.29999999999999515 .. 0.30000000000000505], \n",
      " [0.39999999999999130 .. 0.40000000000000863]]\n",
      "entering managed function check\n",
      "entering managed function prepare\n",
      "running f_bool: 1 items in 0.00 seconds\n",
      "seg_domain = [1.9000000000000001 .. 1.9000000000000002]\n",
      "roots = [[0.29999999999999515 .. 0.30000000000000505], \n",
      " [0.39999999999999130 .. 0.40000000000000863]]\n",
      "entering managed function check\n",
      "entering managed function prepare\n",
      "running f_bool: 1 items in 0.00 seconds\n",
      "seg_domain = [2.0000000000000000 .. 2.0000000000000000]\n",
      "roots = [[0.29999999999999515 .. 0.30000000000000505], \n",
      " [0.39999999999999130 .. 0.40000000000000863]]\n",
      "entering managed function check\n",
      "entering managed function prepare\n",
      "running f_bool: 1 items in 0.00 seconds\n",
      "seg_domain = [2.1000000000000000 .. 2.1000000000000001]\n",
      "roots = [[0.29999999999999515 .. 0.30000000000000505], \n",
      " [0.39999999999999130 .. 0.40000000000000863]]\n",
      "entering managed function check\n",
      "entering managed function prepare\n",
      "running f_bool: 1 items in 0.00 seconds\n",
      "seg_domain = [2.1999999999999997 .. 2.1999999999999998]\n",
      "roots = [[0.29999999999999515 .. 0.30000000000000505], \n",
      " [0.39999999999999130 .. 0.40000000000000863]]\n",
      "entering managed function check\n",
      "entering managed function prepare\n",
      "running f_bool: 1 items in 0.00 seconds\n",
      "seg_domain = [2.3000000000000002 .. 2.3000000000000003]\n",
      "roots = [[0.29999999999999515 .. 0.30000000000000505], \n",
      " [0.39999999999999130 .. 0.40000000000000863]]\n",
      "entering managed function check\n",
      "entering managed function prepare\n",
      "running f_bool: 1 items in 0.00 seconds\n",
      "seg_domain = [2.3999999999999999 .. 2.4000000000000000]\n",
      "roots = [[0.29999999999999515 .. 0.30000000000000505], \n",
      " [0.39999999999999130 .. 0.40000000000000863]]\n",
      "entering managed function check\n",
      "entering managed function prepare\n",
      "running f_bool: 1 items in 0.00 seconds\n",
      "seg_domain = [2.5000000000000000 .. 2.5000000000000000]\n",
      "roots = [[0.29999999999999515 .. 0.30000000000000505], \n",
      " [0.39999999999999130 .. 0.40000000000000863]]\n",
      "entering managed function check\n",
      "entering managed function prepare\n",
      "running f_bool: 1 items in 0.00 seconds\n",
      "seg_domain = [2.5999999999999996 .. 2.5999999999999997]\n",
      "roots = [[0.29999999999999515 .. 0.30000000000000505], \n",
      " [0.39999999999999130 .. 0.40000000000000863]]\n",
      "entering managed function check\n",
      "entering managed function prepare\n",
      "running f_bool: 1 items in 0.00 seconds\n",
      "seg_domain = [2.7000000000000001 .. 2.7000000000000002]\n",
      "roots = [[0.29999999999999515 .. 0.30000000000000505], \n",
      " [0.39999999999999130 .. 0.40000000000000863]]\n",
      "entering managed function check\n",
      "entering managed function prepare\n",
      "running f_bool: 1 items in 0.00 seconds\n",
      "seg_domain = [2.7999999999999998 .. 2.7999999999999999]\n",
      "roots = [[0.29999999999999515 .. 0.30000000000000505], \n",
      " [0.39999999999999130 .. 0.40000000000000863]]\n",
      "entering managed function check\n",
      "entering managed function prepare\n",
      "running f_bool: 1 items in 0.00 seconds\n",
      "seg_domain = [2.9000000000000003 .. 2.9000000000000004]\n",
      "roots = [[0.29999999999999515 .. 0.30000000000000505], \n",
      " [0.39999999999999130 .. 0.40000000000000863]]\n",
      "entering managed function check\n",
      "entering managed function prepare\n",
      "running f_bool: 1 items in 0.00 seconds\n",
      "seg_domain = [3.0000000000000000 .. 3.0000000000000000]\n",
      "roots = [[0.29999999999999515 .. 0.30000000000000505], \n",
      " [0.39999999999999130 .. 0.40000000000000863]]\n",
      "entering managed function check\n",
      "entering managed function prepare\n",
      "running f_bool: 1 items in 0.00 seconds\n",
      "seg_domain = [3.1000000000000000 .. 3.1000000000000001]\n",
      "roots = [[0.29999999999999515 .. 0.30000000000000505], \n",
      " [0.39999999999999130 .. 0.40000000000000863]]\n",
      "entering managed function check\n",
      "entering managed function prepare\n",
      "running f_bool: 1 items in 0.00 seconds\n",
      "seg_domain = [3.1999999999999997 .. 3.1999999999999998]\n",
      "roots = [[0.29999999999999515 .. 0.30000000000000505], \n",
      " [0.39999999999999130 .. 0.40000000000000863]]\n",
      "entering managed function check\n",
      "entering managed function prepare\n",
      "running f_bool: 1 items in 0.00 seconds\n",
      "seg_domain = [3.3000000000000002 .. 3.3000000000000003]\n",
      "roots = [[0.29999999999999515 .. 0.30000000000000505], \n",
      " [0.39999999999999130 .. 0.40000000000000863]]\n",
      "entering managed function check\n",
      "entering managed function prepare\n",
      "running f_bool: 1 items in 0.00 seconds\n",
      "seg_domain = [3.3999999999999999 .. 3.4000000000000000]\n",
      "roots = [[0.29999999999999515 .. 0.30000000000000505], \n",
      " [0.39999999999999130 .. 0.40000000000000863]]\n",
      "entering managed function check\n",
      "entering managed function prepare\n",
      "running f_bool: 1 items in 0.00 seconds\n",
      "seg_domain = [3.5000000000000000 .. 3.5000000000000000]\n",
      "roots = [[0.29999999999999515 .. 0.30000000000000505], \n",
      " [0.39999999999999130 .. 0.40000000000000863]]\n",
      "entering managed function check\n",
      "entering managed function prepare\n",
      "running f_bool: 1 items in 0.00 seconds\n",
      "seg_domain = [3.5999999999999996 .. 3.5999999999999997]\n",
      "roots = [[0.29999999999999515 .. 0.30000000000000505], \n",
      " [0.39999999999999130 .. 0.40000000000000863]]\n",
      "entering managed function check\n",
      "entering managed function prepare\n",
      "running f_bool: 1 items in 0.00 seconds\n",
      "seg_domain = [3.7000000000000001 .. 3.7000000000000002]\n",
      "roots = [[0.29999999999999515 .. 0.30000000000000505], \n",
      " [0.39999999999999130 .. 0.40000000000000863]]\n",
      "entering managed function check\n",
      "entering managed function prepare\n",
      "running f_bool: 1 items in 0.00 seconds\n",
      "seg_domain = [3.7999999999999998 .. 3.7999999999999999]\n",
      "roots = [[0.29999999999999515 .. 0.30000000000000505], \n",
      " [0.39999999999999130 .. 0.40000000000000863]]\n",
      "entering managed function check\n",
      "entering managed function prepare\n",
      "running f_bool: 1 items in 0.00 seconds\n",
      "seg_domain = [3.9000000000000003 .. 3.9000000000000004]\n",
      "roots = [[0.29999999999999515 .. 0.30000000000000505], \n",
      " [0.39999999999999130 .. 0.40000000000000863]]\n",
      "entering managed function check\n",
      "entering managed function prepare\n",
      "running f_bool: 1 items in 0.00 seconds\n",
      "seg_domain = [4.0000000000000000 .. 4.0000000000000000]\n",
      "roots = [[0.29999999999999515 .. 0.30000000000000505], \n",
      " [0.39999999999999130 .. 0.40000000000000863]]\n",
      "entering managed function check\n",
      "entering managed function prepare\n",
      "running f_bool: 1 items in 0.00 seconds\n",
      "signal given bool roots: 1 items in 0.04 seconds\n",
      "Monitoring Signal for x6 > 1.40000000000000: 1 items in 0.30 seconds\n",
      "Monitored signal in 0.3033109059997514 sec\n",
      "ran \"observer.check\" 42 times in 0.01711869239807129\n",
      "ran \"composing flowpipe\" 6 times in 0.14102911949157715\n",
      "ran \"whole domain eval\" 4 times in 0.006833553314208984\n",
      "ran \"check boolean [unguarded]\" 42 times in 0.013053178787231445\n",
      "ran \"capturing globals [on exit]\" 9 times in 0.0002987384796142578\n",
      "ran \"mask intersect check\" 1334 times in 0.0020935535430908203\n",
      "ran \"root detection\" 3 times in 0.010514974594116211\n",
      "ran \"tentative eval\" 57 times in 0.04632163047790527\n",
      "ran \"restoring globals\" 9 times in 0.0004642009735107422\n",
      "ran \"prepare in check\" 42 times in 0.0017905235290527344\n",
      "ran \"post retrieve\" 3 times in 3.1948089599609375e-05\n",
      "ran \"root amalgamation\" 3 times in 4.5299530029296875e-06\n",
      "Run done in 45.18065047264099 sec\n",
      "options: {'mask': Mask([0.0000000000000000 .. 4.0000000000000000], [[0.0029999999999999996 .. 0.0029999999999999997], [0.10000000000000000 .. 0.10000000000000001], [0.19999999999999998 .. 0.19999999999999999], [0.30000000000000004 .. 0.30000000000000005], [0.39999999999999996 .. 0.39999999999999997], [0.48600000000000043 .. 0.48600000000000044], [0.50000000000000000 .. 0.50000000000000000], [0.59999999999999997 .. 0.59999999999999998], [0.70000000000000006 .. 0.70000000000000007], [0.79999999999999993 .. 0.79999999999999994], [0.90000000000000002 .. 0.90000000000000003], [1.0000000000000000 .. 1.0000000000000000], [1.1000000000000000 .. 1.1000000000000001], [1.1999999999999999 .. 1.2000000000000000], [1.3000000000000000 .. 1.3000000000000001], [1.3999999999999999 .. 1.4000000000000000], [1.5000000000000000 .. 1.5000000000000000], [1.5999999999999998 .. 1.5999999999999999], [1.7000000000000001 .. 1.7000000000000002], [1.7999999999999998 .. 1.7999999999999999], [1.9000000000000001 .. 1.9000000000000002], [2.0000000000000000 .. 2.0000000000000000], [2.1000000000000000 .. 2.1000000000000001], [2.1999999999999997 .. 2.1999999999999998], [2.3000000000000002 .. 2.3000000000000003], [2.3999999999999999 .. 2.4000000000000000], [2.5000000000000000 .. 2.5000000000000000], [2.5999999999999996 .. 2.5999999999999997], [2.7000000000000001 .. 2.7000000000000002], [2.7999999999999998 .. 2.7999999999999999], [2.9000000000000003 .. 2.9000000000000004], [3.0000000000000000 .. 3.0000000000000000], [3.1000000000000000 .. 3.1000000000000001], [3.1999999999999997 .. 3.1999999999999998], [3.3000000000000002 .. 3.3000000000000003], [3.3999999999999999 .. 3.4000000000000000], [3.5000000000000000 .. 3.5000000000000000], [3.5999999999999996 .. 3.5999999999999997], [3.7000000000000001 .. 3.7000000000000002], [3.7999999999999998 .. 3.7999999999999999], [3.9000000000000003 .. 3.9000000000000004], [4.0000000000000000 .. 4.0000000000000000]])}\n"
     ]
    },
    {
     "name": "stderr",
     "output_type": "stream",
     "text": [
      "/usr/lib64/python3.7/site-packages/sage/plot/contour_plot.py:205: UserWarning: No contour levels were found within the data range.\n",
      "  linewidths=linewidths, linestyles=linestyles)\n"
     ]
    },
    {
     "data": {
      "image/png": "[encoded data removed]",
      "text/plain": [
       "Graphics object consisting of 2 graphics primitives"
      ]
     },
     "execution_count": 33,
     "metadata": {},
     "output_type": "execute_result"
    }
   ],
   "source": [
    "sigP2 = test_monitoring(P, 4, mask=sigQz.to_mask_and())[1]\n",
    "sigP2.plot()"
   ]
  },
  {
   "cell_type": "code",
   "execution_count": 34,
   "metadata": {},
   "outputs": [
    {
     "name": "stderr",
     "output_type": "stream",
     "text": [
      "/usr/lib64/python3.7/site-packages/sage/plot/contour_plot.py:205: UserWarning: No contour levels were found within the data range.\n",
      "  linewidths=linewidths, linestyles=linestyles)\n"
     ]
    },
    {
     "data": {
      "image/png": "[encoded data removed]",
      "text/plain": [
       "Graphics object consisting of 2 graphics primitives"
      ]
     },
     "execution_count": 34,
     "metadata": {},
     "output_type": "execute_result"
    }
   ],
   "source": [
    "(sigPz & sigQz & sigP2).plot()"
   ]
  },
  {
   "cell_type": "code",
   "execution_count": 37,
   "metadata": {},
   "outputs": [
    {
     "name": "stdout",
     "output_type": "stream",
     "text": [
      "Precomposing Contexts: 1 items in 0.00 seconds\n",
      "calling reach with y0 = ['[0.97999999999999998 .. 1.0200000000000001]', '[1.2799999999999998 .. 1.3200000000000001]', '[0.079999999999999987 .. 0.12000000000000001]', '[0.079999999999999987 .. 0.12000000000000001]', '[0.079999999999999987 .. 0.12000000000000001]', '[1.2799999999999998 .. 1.3200000000000001]', '[2.4799999999999999 .. 2.5200000000000001]', '[0.57999999999999996 .. 0.62000000000000011]', '[1.2799999999999998 .. 1.3200000000000001]']\n",
      "ode in polynomial ring\n",
      "crude_roots = False\n",
      "_handle_initials called!\n",
      "vars = [x1, x2, x3, x4, x5, x6, x7, x8, x9]\n",
      "C = [0.98..1.02]\n",
      "C = [1.2799999999999998..1.32]\n",
      "C = [0.07999999999999999..0.12000000000000001]\n",
      "C = [0.07999999999999999..0.12000000000000001]\n",
      "C = [0.07999999999999999..0.12000000000000001]\n",
      "C = [1.2799999999999998..1.32]\n",
      "C = [2.48..2.52]\n",
      "C = [0.58..0.6200000000000001]\n",
      "C = [1.2799999999999998..1.32]\n",
      "integrationScheme = 7\n",
      "Running Flow*: 1 items in 45.63 seconds\n",
      "Computed 1334 flowpipes in 45.62852983202902 sec\n",
      "PolyObserver(x6 - 1.4000000000000000?, <flowstar.reachability.Reach object at 0x55f0842f0670>, -0.10000000000000000?*x1*x6 - x2*x6 - 2*x6*x8 + 50*x3 + 100*x4 + 50*x5 - x6 symbolic_composition=False, tentative_unpreconditioning=True, mask=None)\n",
      "symbolic_composition=False, tentative_unpreconditioning=True\n",
      "roots(space_domain=None, epsilon=1e-05, verbosity=0)\n",
      "top-level root detection: 1 items in 5.80 seconds\n",
      "roots = [[0.0048028783727901138 .. 0.020435765977123051], [0.20345478283219919 .. 0.48300000000000043]]\n",
      "domain = [0.0000000000000000 .. 3.9999999999999996]\n",
      "roots = [[0.0048028783727901138 .. 0.020435765977123051], \n",
      " [0.20345478283219919 .. 0.48300000000000043]]\n",
      "seg_domain = [0.0000000000000000 .. 3.9999999999999996]\n",
      "roots = [[0.0048028783727901138 .. 0.020435765977123051], \n",
      " [0.20345478283219919 .. 0.48300000000000043]]\n",
      "running f_bool: 1 items in 0.00 seconds\n",
      "running f_bool: 1 items in 0.00 seconds\n",
      "running f_bool: 1 items in 0.00 seconds\n",
      "signal given bool roots: 1 items in 0.00 seconds\n",
      "PolyObserver(-x6 + 1, <flowstar.reachability.Reach object at 0x55f0842f0670>, 0.10000000000000000?*x1*x6 + x2*x6 + 2*x6*x8 - 50*x3 - 100*x4 - 50*x5 + x6 symbolic_composition=False, tentative_unpreconditioning=True, mask=None)\n",
      "symbolic_composition=False, tentative_unpreconditioning=True\n",
      "roots(space_domain=None, epsilon=1e-05, verbosity=0)\n",
      "top-level root detection: 1 items in 6.10 seconds\n",
      "roots = [[0.71099999999997254 .. 0.96745983959350124]]\n",
      "domain = [0.0000000000000000 .. 3.9999999999999996]\n",
      "roots = [[0.71099999999997254 .. 0.96745983959350124]]\n",
      "seg_domain = [0.0000000000000000 .. 3.9999999999999996]\n",
      "roots = [[0.71099999999997254 .. 0.96745983959350124]]\n",
      "running f_bool: 1 items in 0.00 seconds\n",
      "running f_bool: 1 items in 0.00 seconds\n",
      "signal given bool roots: 1 items in 0.00 seconds\n",
      "Monitoring Signal for x6 > 1.40000000000000 & x6 < 1: 1 items in 12.59 seconds\n",
      "Monitored signal in 12.592434804973891 sec\n",
      "ran \"root amalgamation\" 186 times in 0.00022411346435546875\n",
      "ran \"check boolean [unguarded]\" 5 times in 0.0004904270172119141\n",
      "ran \"mask intersect check\" 2668 times in 0.0017137527465820312\n",
      "ran \"whole domain eval\" 293 times in 0.5405848026275635\n",
      "ran \"observer.check\" 5 times in 0.00074005126953125\n",
      "ran \"tentative eval\" 2566 times in 2.234846591949463\n",
      "ran \"prepare in check\" 5 times in 1.5735626220703125e-05\n",
      "ran \"composing flowpipe\" 293 times in 8.345794200897217\n",
      "ran \"post retrieve\" 186 times in 0.0013840198516845703\n",
      "ran \"root detection\" 186 times in 0.7279939651489258\n",
      "ran \"check boolean [guarded]\" 5 times in 0.0005338191986083984\n",
      "Run done in 58.433678150177 sec\n",
      "options: {'use_masks': False}\n"
     ]
    },
    {
     "name": "stderr",
     "output_type": "stream",
     "text": [
      "/usr/lib64/python3.7/site-packages/sage/plot/contour_plot.py:205: UserWarning: No contour levels were found within the data range.\n",
      "  linewidths=linewidths, linestyles=linestyles)\n"
     ]
    },
    {
     "data": {
      "image/png": "[encoded data removed]",
      "text/plain": [
       "Graphics object consisting of 2 graphics primitives"
      ]
     },
     "execution_count": 37,
     "metadata": {},
     "output_type": "execute_result"
    }
   ],
   "source": [
    "sigPQ = test_monitoring(P & Q, 4, use_masks=False)[1]\n",
    "sigPQ.plot()"
   ]
  },
  {
   "cell_type": "code",
   "execution_count": 38,
   "metadata": {},
   "outputs": [
    {
     "name": "stdout",
     "output_type": "stream",
     "text": [
      "Precomposing Contexts: 1 items in 0.00 seconds\n",
      "calling reach with y0 = ['[0.97999999999999998 .. 1.0200000000000001]', '[1.2799999999999998 .. 1.3200000000000001]', '[0.079999999999999987 .. 0.12000000000000001]', '[0.079999999999999987 .. 0.12000000000000001]', '[0.079999999999999987 .. 0.12000000000000001]', '[1.2799999999999998 .. 1.3200000000000001]', '[2.4799999999999999 .. 2.5200000000000001]', '[0.57999999999999996 .. 0.62000000000000011]', '[1.2799999999999998 .. 1.3200000000000001]']\n",
      "ode in polynomial ring\n",
      "crude_roots = False\n",
      "_handle_initials called!\n",
      "vars = [x1, x2, x3, x4, x5, x6, x7, x8, x9]\n",
      "C = [0.98..1.02]\n",
      "C = [1.2799999999999998..1.32]\n",
      "C = [0.07999999999999999..0.12000000000000001]\n",
      "C = [0.07999999999999999..0.12000000000000001]\n",
      "C = [0.07999999999999999..0.12000000000000001]\n",
      "C = [1.2799999999999998..1.32]\n",
      "C = [2.48..2.52]\n",
      "C = [0.58..0.6200000000000001]\n",
      "C = [1.2799999999999998..1.32]\n",
      "integrationScheme = 7\n",
      "Running Flow*: 1 items in 48.63 seconds\n",
      "Computed 1334 flowpipes in 48.63119930704124 sec\n",
      "PolyObserver(x6 - 1.4000000000000000?, <flowstar.reachability.Reach object at 0x55f08bbcbda0>, -0.10000000000000000?*x1*x6 - x2*x6 - 2*x6*x8 + 50*x3 + 100*x4 + 50*x5 - x6 symbolic_composition=False, tentative_unpreconditioning=True, mask=Mask([0.0000000000000000 .. 4.0009999999999995], [[0.0000000000000000 .. 4.0009999999999995]]))\n",
      "symbolic_composition=False, tentative_unpreconditioning=True\n",
      "roots(space_domain=None, epsilon=1e-05, verbosity=0)\n",
      "top-level root detection: 1 items in 5.29 seconds\n",
      "roots = [[0.0048028783727901138 .. 0.020435765977123051], [0.20345478283219922 .. 0.48300000000000043]]\n",
      "domain = [0.0000000000000000 .. 3.9999999999999996]\n",
      "roots = [[0.0048028783727901138 .. 0.020435765977123051], \n",
      " [0.20345478283219922 .. 0.48300000000000043]]\n",
      "seg_domain = [0.0000000000000000 .. 4.0009999999999995]\n",
      "roots = [[0.0048028783727901138 .. 0.020435765977123051], \n",
      " [0.20345478283219922 .. 0.48300000000000043]]\n",
      "running f_bool: 1 items in 0.00 seconds\n",
      "running f_bool: 1 items in 0.00 seconds\n",
      "running f_bool: 1 items in 0.00 seconds\n",
      "signal given bool roots: 1 items in 0.00 seconds\n",
      "PolyObserver(-x6 + 1, <flowstar.reachability.Reach object at 0x55f08bbcbda0>, 0.10000000000000000?*x1*x6 + x2*x6 + 2*x6*x8 - 50*x3 - 100*x4 - 50*x5 + x6 symbolic_composition=False, tentative_unpreconditioning=True, mask=Mask([0.0000000000000000 .. 4.0009999999999995], [[0.0048028783727901138 .. 0.48300000000000043]]))\n",
      "symbolic_composition=False, tentative_unpreconditioning=True\n",
      "roots(space_domain=None, epsilon=1e-05, verbosity=0)\n",
      "top-level root detection: 1 items in 0.24 seconds\n",
      "roots = []\n",
      "domain = [0.0000000000000000 .. 3.9999999999999996]\n",
      "roots = []\n",
      "seg_domain = [0.0048028783727901138 .. 0.48300000000000043]\n",
      "roots = []\n",
      "running f_bool: 1 items in 0.00 seconds\n",
      "signal given bool roots: 1 items in 0.00 seconds\n",
      "Monitoring Signal for x6 > 1.40000000000000 & x6 < 1: 1 items in 6.20 seconds\n",
      "Monitored signal in 6.196698247978929 sec\n",
      "ran \"root amalgamation\" 100 times in 0.00016617774963378906\n",
      "ran \"check boolean [unguarded]\" 4 times in 0.0002646446228027344\n",
      "ran \"mask intersect check\" 2668 times in 0.003564119338989258\n",
      "ran \"whole domain eval\" 204 times in 0.36212825775146484\n",
      "ran \"observer.check\" 4 times in 0.0004792213439941406\n",
      "ran \"tentative eval\" 1393 times in 1.118196964263916\n",
      "ran \"prepare in check\" 4 times in 1.4066696166992188e-05\n",
      "ran \"composing flowpipe\" 204 times in 3.656719207763672\n",
      "ran \"post retrieve\" 100 times in 0.0007100105285644531\n",
      "ran \"root detection\" 100 times in 0.36008191108703613\n",
      "ran \"check boolean [guarded]\" 4 times in 0.0003008842468261719\n",
      "Run done in 55.09126329421997 sec\n",
      "options: {'use_masks': True}\n"
     ]
    },
    {
     "name": "stderr",
     "output_type": "stream",
     "text": [
      "/usr/lib64/python3.7/site-packages/sage/plot/contour_plot.py:205: UserWarning: No contour levels were found within the data range.\n",
      "  linewidths=linewidths, linestyles=linestyles)\n"
     ]
    },
    {
     "data": {
      "image/png": "[encoded data removed]",
      "text/plain": [
       "Graphics object consisting of 2 graphics primitives"
      ]
     },
     "execution_count": 38,
     "metadata": {},
     "output_type": "execute_result"
    }
   ],
   "source": [
    "sigPQ = test_monitoring(P & Q, 4, use_masks=True)[1]\n",
    "sigPQ.plot()"
   ]
  },
  {
   "cell_type": "code",
   "execution_count": null,
   "metadata": {},
   "outputs": [],
   "source": []
  }
 ],
 "metadata": {
  "kernelspec": {
   "display_name": "SageMath 8.8",
   "language": "sage",
   "name": "sagemath"
  },
  "language_info": {
   "codemirror_mode": {
    "name": "ipython",
    "version": 3
   },
   "file_extension": ".py",
   "mimetype": "text/x-python",
   "name": "python",
   "nbconvert_exporter": "python",
   "pygments_lexer": "ipython3",
   "version": "3.7.6"
  },
  "notify_time": "5"
 },
 "nbformat": 4,
 "nbformat_minor": 2
}
