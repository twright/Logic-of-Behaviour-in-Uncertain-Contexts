{
 "cells": [
  {
   "cell_type": "code",
   "execution_count": 28,
   "metadata": {
    "slideshow": {
     "slide_type": "skip"
    }
   },
   "outputs": [],
   "source": [
    "from flowstar.reachability import Poly, Reach\n",
    "load('interval_signals.py')\n",
    "from matplotlib.pyplot import figure"
   ]
  },
  {
   "cell_type": "markdown",
   "metadata": {
    "slideshow": {
     "slide_type": "slide"
    }
   },
   "source": [
    "# Review meeting\n",
    "Thomas Wright"
   ]
  },
  {
   "cell_type": "markdown",
   "metadata": {
    "slideshow": {
     "slide_type": "slide"
    }
   },
   "source": [
    " - **Overall aim**:\n",
    "     - Investigate integration of Taylor model flowpipe construction with temporal logic to model check contextual properties.\n",
    "\n",
    " - **General approach**\n",
    "     - Signal monitoring over flow* flowpipes (with three-valued signals)\n",
    "\n",
    " - **Some challenges**:\n",
    "     - *Uncertain contextual properties*:\n",
    "     $$([a, b]\\,X \\mathrel\\parallel [c,d]\\,Y) \\triangleright \\varphi$$\n",
    "     \n",
    "     - *Differential contexts*:\n",
    "     $$([a, b]\\,X \\mathrel\\parallel [c,d]\\,Y) \\triangleright_{\\partial} \\varphi$$\n",
    "     \n",
    "     - *More general constrained contexts???*:\n",
    "     $$\\{\\Phi \\in [a, b]\\,X\\mathrel{:}\\psi\\} \\triangleright \\varphi$$"
   ]
  },
  {
   "cell_type": "markdown",
   "metadata": {
    "slideshow": {
     "slide_type": "slide"
    }
   },
   "source": [
    "## Current progress\n",
    "\n",
    " - Implementing three-valued signals (using Python)\n",
    " \n",
    " - Signal monitoring over flowpipes (using interval Newton-Raphson iteration [1])\n",
    " \n",
    " - Wrapping flow* C++ API\n",
    " \n",
    " - Checking for context operators\n",
    " \n",
    "--- \n",
    " 1. Ishii, D., Yonezaki, N., Goldsztejn, A.: Monitoring Temporal Properties using Interval Analysis.\n",
    "IEICE Transactions on Fundamentals of Electronics, Communications and Computer Sciences E99-A (2016)\n"
   ]
  },
  {
   "cell_type": "markdown",
   "metadata": {
    "slideshow": {
     "slide_type": "slide"
    }
   },
   "source": [
    "## A simple example:\n",
    "\n",
    "<table style=\"width:100%; text-align: center !important;\"> \n",
    "    <tr>\n",
    "        <th>ODE:</th>\n",
    "        <th>System:</th>\n",
    "    </tr>\n",
    "    <tr>\n",
    "        <td rowspan=\"2\">$\\frac{\\mathrm d [\\mathrm{X}]}{\\mathrm dt} = - [\\mathrm{X}]$</td>\n",
    "        <td>$[\\mathrm X] \\triangleq x.0$</td>\n",
    "    </tr>\n",
    "    <tr>\n",
    "        <td>\n",
    "            <img class=\"center\" style=\"height: 4ex\" src=\"images/affinity-exponential.png\" />\n",
    "        </td>\n",
    "    </tr>\n",
    "</table>\n",
    "\n",
    "Initial condition: $[\\mathrm X]_0 \\in [4,5]$"
   ]
  },
  {
   "cell_type": "code",
   "execution_count": 87,
   "metadata": {
    "slideshow": {
     "slide_type": "skip"
    }
   },
   "outputs": [],
   "source": [
    "variables = ['x']\n",
    "odes      = [Poly(-1, 'x', 1, variables)]\n",
    "\n",
    "C0 = Reach(\n",
    "    variables,  # List of variables\n",
    "    odes,       # ODEs \n",
    "    [(4,5)],    # Initial conditions\n",
    "    5,          # Time horizon\n",
    "    0.3,        # Step size\n",
    "    order=10,   # Taylor model order\n",
    ")"
   ]
  },
  {
   "cell_type": "code",
   "execution_count": 88,
   "metadata": {
    "slideshow": {
     "slide_type": "slide"
    }
   },
   "outputs": [
    {
     "data": {
      "image/png": "[encoded data removed]",
      "text/plain": [
       "Graphics object consisting of 2 graphics primitives"
      ]
     },
     "metadata": {},
     "output_type": "display_data"
    }
   ],
   "source": [
    "C0.sage_plot('x', 0.01).show(aspect_ratio=1/2)"
   ]
  },
  {
   "cell_type": "markdown",
   "metadata": {
    "slideshow": {
     "slide_type": "slide"
    }
   },
   "source": [
    "### Wrapping flow*\n",
    "\n",
    "Flow* wrapped in $\\texttt{Reach}$ class using C++ API"
   ]
  },
  {
   "cell_type": "code",
   "execution_count": 89,
   "metadata": {
    "slideshow": {
     "slide_type": "fragment"
    }
   },
   "outputs": [],
   "source": [
    "variables = ['x']\n",
    "odes      = [Poly(-1, 'x', 1, variables)] # [-x]\n",
    "\n",
    "C0 = Reach(\n",
    "    variables,  # List of variables\n",
    "    odes,       # ODEs \n",
    "    [(4,5)],    # Initial conditions\n",
    "    5,          # Time horizon\n",
    "    0.3,        # Step size\n",
    "    order=10,   # Taylor model order\n",
    ")"
   ]
  },
  {
   "cell_type": "markdown",
   "metadata": {
    "slideshow": {
     "slide_type": "fragment"
    }
   },
   "source": [
    "This allows us to do interval evaluation:"
   ]
  },
  {
   "cell_type": "code",
   "execution_count": 90,
   "metadata": {
    "slideshow": {
     "slide_type": "-"
    }
   },
   "outputs": [
    {
     "data": {
      "text/plain": [
       "[(0.49589666463878246, 1.8999751075031959)]"
      ]
     },
     "execution_count": 90,
     "metadata": {},
     "output_type": "execute_result"
    }
   ],
   "source": [
    "C0((1,2))"
   ]
  },
  {
   "cell_type": "code",
   "execution_count": 91,
   "metadata": {
    "slideshow": {
     "slide_type": "skip"
    }
   },
   "outputs": [],
   "source": [
    "(xlo, xhi), = C0((1,2))\n",
    "rect = polygon([(1, xlo), (2, xlo), (2, xhi), (1, xhi)], fill=False, color='red')\n",
    "p = C0.sage_plot('x', 0.01) + rect\n",
    "p.set_aspect_ratio(1/2)"
   ]
  },
  {
   "cell_type": "code",
   "execution_count": 92,
   "metadata": {
    "slideshow": {
     "slide_type": "subslide"
    }
   },
   "outputs": [
    {
     "data": {
      "image/png": "[encoded data removed]",
      "text/plain": [
       "Graphics object consisting of 3 graphics primitives"
      ]
     },
     "execution_count": 92,
     "metadata": {},
     "output_type": "execute_result"
    }
   ],
   "source": [
    "p"
   ]
  },
  {
   "cell_type": "markdown",
   "metadata": {
    "slideshow": {
     "slide_type": "slide"
    }
   },
   "source": [
    "### Three-valued signal monitoring\n",
    "\n",
    "We want to extract a three-valued\n",
    "$$\\varphi : \\mathbb R_{\\geq 0} \\to \\{ \\texttt{True}, \\texttt{False}, \\bot \\}$$\n",
    "from a Taylor model.\n",
    "\n",
    "For atomic propositions\n",
    "$$\\varphi \\triangleq f(\\mathbf x) > 0$$\n",
    "we use Interval-Newton iteration."
   ]
  },
  {
   "cell_type": "markdown",
   "metadata": {
    "slideshow": {
     "slide_type": "subslide"
    }
   },
   "source": [
    "$$ P \\triangleq [\\mathrm X] > 1\n",
    "\\qquad Q \\triangleq [\\mathrm X] < 2 $$"
   ]
  },
  {
   "cell_type": "code",
   "execution_count": 105,
   "metadata": {
    "slideshow": {
     "slide_type": "-"
    }
   },
   "outputs": [
    {
     "name": "stdout",
     "output_type": "stream",
     "text": [
      "  I  = [0.00000000000000000 .. 1.3437621616392701]\n",
      "f(I) = [0.016424149317245007 .. 4.0000000000123830]\n"
     ]
    }
   ],
   "source": [
    "P = to_signal(f      = (lambda t: RIF(C0(t)[0]) - 1),\n",
    "              fprime = (lambda t: -RIF(C0(t)[0])),\n",
    "              domain = RIF(0,5))"
   ]
  },
  {
   "cell_type": "code",
   "execution_count": 108,
   "metadata": {
    "slideshow": {
     "slide_type": "-"
    }
   },
   "outputs": [
    {
     "data": {
      "text/plain": [
       "Signal([0.00000000000000000 .. 5.0000000000000000], [([0.00000000000000000 .. 1.3437621616392701], True), ([1.6416757200633169 .. 5.0000000000000000], False)])"
      ]
     },
     "execution_count": 108,
     "metadata": {},
     "output_type": "execute_result"
    }
   ],
   "source": [
    "P"
   ]
  },
  {
   "cell_type": "code",
   "execution_count": 117,
   "metadata": {
    "slideshow": {
     "slide_type": "-"
    }
   },
   "outputs": [
    {
     "data": {
      "image/png": "[encoded data removed]",
      "text/plain": [
       "Graphics object consisting of 2 graphics primitives"
      ]
     },
     "metadata": {},
     "output_type": "display_data"
    }
   ],
   "source": [
    "P.plot().show(aspect_ratio=1/5)"
   ]
  },
  {
   "cell_type": "markdown",
   "metadata": {
    "slideshow": {
     "slide_type": "fragment"
    }
   },
   "source": [
    "similarly,"
   ]
  },
  {
   "cell_type": "code",
   "execution_count": 112,
   "metadata": {
    "slideshow": {
     "slide_type": "skip"
    }
   },
   "outputs": [
    {
     "name": "stdout",
     "output_type": "stream",
     "text": [
      "  I  = [0.00000000000000000 .. 0.21986641464906418]\n",
      "f(I) = [-2.0000000000123830 .. 0.099332073259393195]\n"
     ]
    }
   ],
   "source": [
    "Q = to_signal(f      = (lambda t: 3 - RIF(C0(t)[0])),\n",
    "              fprime = (lambda t: RIF(C0(t)[0])),\n",
    "              domain = RIF(0,5))"
   ]
  },
  {
   "cell_type": "code",
   "execution_count": 116,
   "metadata": {
    "slideshow": {
     "slide_type": "-"
    }
   },
   "outputs": [
    {
     "data": {
      "image/png": "[encoded data removed]",
      "text/plain": [
       "Graphics object consisting of 2 graphics primitives"
      ]
     },
     "metadata": {},
     "output_type": "display_data"
    }
   ],
   "source": [
    "Q.plot().show(aspect_ratio=1/5)"
   ]
  },
  {
   "cell_type": "code",
   "execution_count": null,
   "metadata": {},
   "outputs": [],
   "source": []
  }
 ],
 "metadata": {
  "celltoolbar": "Slideshow",
  "kernelspec": {
   "display_name": "SageMath 8.0",
   "language": "",
   "name": "sagemath"
  },
  "language_info": {
   "codemirror_mode": {
    "name": "ipython",
    "version": 2
   },
   "file_extension": ".py",
   "mimetype": "text/x-python",
   "name": "python",
   "nbconvert_exporter": "python",
   "pygments_lexer": "ipython2",
   "version": "2.7.15"
  }
 },
 "nbformat": 4,
 "nbformat_minor": 2
}
