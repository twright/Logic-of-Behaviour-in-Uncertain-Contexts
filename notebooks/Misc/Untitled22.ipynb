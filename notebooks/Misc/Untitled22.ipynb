{
 "cells": [
  {
   "cell_type": "code",
   "execution_count": 1,
   "metadata": {},
   "outputs": [],
   "source": [
    "%display latex\n",
    "import sys\n",
    "\n",
    "sys.path.insert(0, \"/home/twright/Documents/PhD/Notebooks\")\n",
    "\n",
    "from contextlib import contextmanager\n",
    "import sys, os\n",
    "\n",
    "@contextmanager\n",
    "def suppress_stdout():\n",
    "    with open(os.devnull, \"w\") as devnull:\n",
    "        old_stdout = sys.stdout\n",
    "        sys.stdout = devnull\n",
    "        try:  \n",
    "            yield\n",
    "        finally:\n",
    "            sys.stdout = old_stdout\n",
    "            \n",
    "            \n",
    "import warnings\n",
    "            \n",
    "@contextmanager\n",
    "def suppress_warnings():\n",
    "    with warnings.catch_warnings():\n",
    "        warnings.simplefilter(\"ignore\")\n",
    "        yield"
   ]
  },
  {
   "cell_type": "code",
   "execution_count": 7,
   "metadata": {},
   "outputs": [],
   "source": [
    "from lbuc.context_signals import coordinate_to_space_domain, gen_sub_space_domains"
   ]
  },
  {
   "cell_type": "code",
   "execution_count": 3,
   "metadata": {
    "scrolled": true
   },
   "outputs": [
    {
     "data": {
      "text/html": [
       "<html><script type=\"math/tex; mode=display\">\\newcommand{\\Bold}[1]{\\mathbf{#1}}\\left[\\verb|[-1.0000000000000000|\\phantom{\\verb!x!}\\verb|..|\\phantom{\\verb!x!}\\verb|1.0000000000000000]|, \\verb|[-1.0000000000000000|\\phantom{\\verb!x!}\\verb|..|\\phantom{\\verb!x!}\\verb|1.0000000000000000]|\\right]</script></html>"
      ],
      "text/plain": [
       "['[-1.0000000000000000 .. 1.0000000000000000]',\n",
       " '[-1.0000000000000000 .. 1.0000000000000000]']"
      ]
     },
     "execution_count": 3,
     "metadata": {},
     "output_type": "execute_result"
    }
   ],
   "source": [
    "[m.str(style='brackets') for m in coordinate_to_space_domain(2, ())]"
   ]
  },
  {
   "cell_type": "code",
   "execution_count": 4,
   "metadata": {},
   "outputs": [
    {
     "data": {
      "text/html": [
       "<html><script type=\"math/tex; mode=display\">\\newcommand{\\Bold}[1]{\\mathbf{#1}}\\left[\\verb|[-1.0000000000000000|\\phantom{\\verb!x!}\\verb|..|\\phantom{\\verb!x!}\\verb|0.0000000000000000]|, \\verb|[-1.0000000000000000|\\phantom{\\verb!x!}\\verb|..|\\phantom{\\verb!x!}\\verb|0.0000000000000000]|\\right]</script></html>"
      ],
      "text/plain": [
       "['[-1.0000000000000000 .. 0.0000000000000000]',\n",
       " '[-1.0000000000000000 .. 0.0000000000000000]']"
      ]
     },
     "execution_count": 4,
     "metadata": {},
     "output_type": "execute_result"
    }
   ],
   "source": [
    "[m.str(style='brackets') for m in coordinate_to_space_domain(2, (0,))]"
   ]
  },
  {
   "cell_type": "code",
   "execution_count": 15,
   "metadata": {},
   "outputs": [
    {
     "data": {
      "text/html": [
       "<html><script type=\"math/tex; mode=display\">\\newcommand{\\Bold}[1]{\\mathbf{#1}}\\left[\\verb|[-1.0000000000000000|\\phantom{\\verb!x!}\\verb|..|\\phantom{\\verb!x!}\\verb|0.0000000000000000]|, \\verb|[0.0000000000000000|\\phantom{\\verb!x!}\\verb|..|\\phantom{\\verb!x!}\\verb|1.0000000000000000]|\\right]</script></html>"
      ],
      "text/plain": [
       "['[-1.0000000000000000 .. 0.0000000000000000]',\n",
       " '[0.0000000000000000 .. 1.0000000000000000]']"
      ]
     },
     "execution_count": 15,
     "metadata": {},
     "output_type": "execute_result"
    }
   ],
   "source": [
    "[m.str(style='brackets') for m in coordinate_to_space_domain(2, (1,))]"
   ]
  },
  {
   "cell_type": "code",
   "execution_count": 16,
   "metadata": {},
   "outputs": [
    {
     "data": {
      "text/html": [
       "<html><script type=\"math/tex; mode=display\">\\newcommand{\\Bold}[1]{\\mathbf{#1}}\\left[\\verb|[0.0000000000000000|\\phantom{\\verb!x!}\\verb|..|\\phantom{\\verb!x!}\\verb|1.0000000000000000]|, \\verb|[-1.0000000000000000|\\phantom{\\verb!x!}\\verb|..|\\phantom{\\verb!x!}\\verb|0.0000000000000000]|\\right]</script></html>"
      ],
      "text/plain": [
       "['[0.0000000000000000 .. 1.0000000000000000]',\n",
       " '[-1.0000000000000000 .. 0.0000000000000000]']"
      ]
     },
     "execution_count": 16,
     "metadata": {},
     "output_type": "execute_result"
    }
   ],
   "source": [
    "[m.str(style='brackets') for m in coordinate_to_space_domain(2, (2,))]"
   ]
  },
  {
   "cell_type": "code",
   "execution_count": 17,
   "metadata": {},
   "outputs": [
    {
     "data": {
      "text/html": [
       "<html><script type=\"math/tex; mode=display\">\\newcommand{\\Bold}[1]{\\mathbf{#1}}\\left[\\verb|[0.0000000000000000|\\phantom{\\verb!x!}\\verb|..|\\phantom{\\verb!x!}\\verb|1.0000000000000000]|, \\verb|[0.0000000000000000|\\phantom{\\verb!x!}\\verb|..|\\phantom{\\verb!x!}\\verb|1.0000000000000000]|\\right]</script></html>"
      ],
      "text/plain": [
       "['[0.0000000000000000 .. 1.0000000000000000]',\n",
       " '[0.0000000000000000 .. 1.0000000000000000]']"
      ]
     },
     "execution_count": 17,
     "metadata": {},
     "output_type": "execute_result"
    }
   ],
   "source": [
    "[m.str(style='brackets') for m in coordinate_to_space_domain(2, (3,))]"
   ]
  },
  {
   "cell_type": "code",
   "execution_count": null,
   "metadata": {},
   "outputs": [],
   "source": [
    "Matrix([[]])"
   ]
  },
  {
   "cell_type": "code",
   "execution_count": 6,
   "metadata": {},
   "outputs": [
    {
     "data": {
      "text/html": [
       "<html><script type=\"math/tex; mode=display\">\\newcommand{\\Bold}[1]{\\mathbf{#1}}\\left[0.?, 0.?\\right]</script></html>"
      ],
      "text/plain": [
       "[0.?, 0.?]"
      ]
     },
     "execution_count": 6,
     "metadata": {},
     "output_type": "execute_result"
    }
   ],
   "source": [
    "coordinate_to_space_domain(2, ())"
   ]
  },
  {
   "cell_type": "code",
   "execution_count": 14,
   "metadata": {
    "scrolled": true
   },
   "outputs": [
    {
     "data": {
      "text/html": [
       "<html><script type=\"math/tex; mode=display\">\\newcommand{\\Bold}[1]{\\mathbf{#1}}\\left[\\left[\\verb|[-1.0000000000000000|\\phantom{\\verb!x!}\\verb|..|\\phantom{\\verb!x!}\\verb|0.0000000000000000]|, \\verb|[-1.0000000000000000|\\phantom{\\verb!x!}\\verb|..|\\phantom{\\verb!x!}\\verb|0.0000000000000000]|\\right], \\left[\\verb|[-1.0000000000000000|\\phantom{\\verb!x!}\\verb|..|\\phantom{\\verb!x!}\\verb|0.0000000000000000]|, \\verb|[0.0000000000000000|\\phantom{\\verb!x!}\\verb|..|\\phantom{\\verb!x!}\\verb|1.0000000000000000]|\\right], \\left[\\verb|[0.0000000000000000|\\phantom{\\verb!x!}\\verb|..|\\phantom{\\verb!x!}\\verb|1.0000000000000000]|, \\verb|[-1.0000000000000000|\\phantom{\\verb!x!}\\verb|..|\\phantom{\\verb!x!}\\verb|0.0000000000000000]|\\right], \\left[\\verb|[0.0000000000000000|\\phantom{\\verb!x!}\\verb|..|\\phantom{\\verb!x!}\\verb|1.0000000000000000]|, \\verb|[0.0000000000000000|\\phantom{\\verb!x!}\\verb|..|\\phantom{\\verb!x!}\\verb|1.0000000000000000]|\\right]\\right]</script></html>"
      ],
      "text/plain": [
       "[['[-1.0000000000000000 .. 0.0000000000000000]',\n",
       "  '[-1.0000000000000000 .. 0.0000000000000000]'],\n",
       " ['[-1.0000000000000000 .. 0.0000000000000000]',\n",
       "  '[0.0000000000000000 .. 1.0000000000000000]'],\n",
       " ['[0.0000000000000000 .. 1.0000000000000000]',\n",
       "  '[-1.0000000000000000 .. 0.0000000000000000]'],\n",
       " ['[0.0000000000000000 .. 1.0000000000000000]',\n",
       "  '[0.0000000000000000 .. 1.0000000000000000]']]"
      ]
     },
     "execution_count": 14,
     "metadata": {},
     "output_type": "execute_result"
    }
   ],
   "source": [
    "[[m.str(style='brackets') for m in n] for n in gen_sub_space_domains(coordinate_to_space_domain(2, ()))]"
   ]
  },
  {
   "cell_type": "code",
   "execution_count": null,
   "metadata": {},
   "outputs": [],
   "source": []
  }
 ],
 "metadata": {
  "kernelspec": {
   "display_name": "SageMath 8.8",
   "language": "sage",
   "name": "sagemath"
  },
  "language_info": {
   "codemirror_mode": {
    "name": "ipython",
    "version": 3
   },
   "file_extension": ".py",
   "mimetype": "text/x-python",
   "name": "python",
   "nbconvert_exporter": "python",
   "pygments_lexer": "ipython3",
   "version": "3.7.6"
  }
 },
 "nbformat": 4,
 "nbformat_minor": 2
}
