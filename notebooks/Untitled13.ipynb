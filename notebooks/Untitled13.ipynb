{
 "cells": [
  {
   "cell_type": "code",
   "execution_count": 4,
   "metadata": {},
   "outputs": [],
   "source": [
    "import sympy as sym"
   ]
  },
  {
   "cell_type": "code",
   "execution_count": 5,
   "metadata": {},
   "outputs": [
    {
     "data": {
      "text/latex": [
       "$\\displaystyle x_{0} x_{1}$"
      ],
      "text/plain": [
       "x0*x1"
      ]
     },
     "execution_count": 5,
     "metadata": {},
     "output_type": "execute_result"
    }
   ],
   "source": [
    "p = sym.var(\"x0\") * sym.var(\"x1\"); p"
   ]
  },
  {
   "cell_type": "code",
   "execution_count": 6,
   "metadata": {},
   "outputs": [],
   "source": [
    "R, x = PolynomialRing(RIF, 2, 'x').objgens()"
   ]
  },
  {
   "cell_type": "code",
   "execution_count": 7,
   "metadata": {},
   "outputs": [
    {
     "data": {
      "text/plain": [
       "x0*x1"
      ]
     },
     "execution_count": 7,
     "metadata": {},
     "output_type": "execute_result"
    }
   ],
   "source": [
    "R(p._sage_())"
   ]
  },
  {
   "cell_type": "code",
   "execution_count": 8,
   "metadata": {},
   "outputs": [
    {
     "data": {
      "text/plain": [
       "(x0, x1)"
      ]
     },
     "execution_count": 8,
     "metadata": {},
     "output_type": "execute_result"
    }
   ],
   "source": [
    "sym.var(\",\".join(map(\"x{}\".format, range(0,2))))"
   ]
  },
  {
   "cell_type": "code",
   "execution_count": 9,
   "metadata": {},
   "outputs": [
    {
     "data": {
      "text/plain": [
       "2.?*x0"
      ]
     },
     "execution_count": 9,
     "metadata": {},
     "output_type": "execute_result"
    }
   ],
   "source": [
    "r = RIF(1,2) * sym.var(\"x0\"); r"
   ]
  },
  {
   "cell_type": "code",
   "execution_count": 10,
   "metadata": {},
   "outputs": [
    {
     "data": {
      "text/plain": [
       "<class 'sage.symbolic.expression.Expression'>"
      ]
     },
     "execution_count": 10,
     "metadata": {},
     "output_type": "execute_result"
    }
   ],
   "source": [
    "type(r)"
   ]
  },
  {
   "cell_type": "code",
   "execution_count": 11,
   "metadata": {},
   "outputs": [
    {
     "data": {
      "text/plain": [
       "(4.?*x0*x1 + 2.?*x0)/x0"
      ]
     },
     "execution_count": 11,
     "metadata": {},
     "output_type": "execute_result"
    }
   ],
   "source": [
    "expr = (RIF(1,2) * sym.var(\"x0\") + RIF(3,4)*sym.var(\"x0\")*sym.var(\"x1\")) / sym.var(\"x0\"); expr"
   ]
  },
  {
   "cell_type": "code",
   "execution_count": 12,
   "metadata": {},
   "outputs": [
    {
     "data": {
      "text/latex": [
       "$\\displaystyle 3.5 x_{1} + 1.5$"
      ],
      "text/plain": [
       "3.5*x1 + 1.5"
      ]
     },
     "execution_count": 12,
     "metadata": {},
     "output_type": "execute_result"
    }
   ],
   "source": [
    "sym.simplify(expr)"
   ]
  },
  {
   "cell_type": "code",
   "execution_count": 13,
   "metadata": {},
   "outputs": [
    {
     "data": {
      "text/plain": [
       "(4.?*x0*x1 + 2.?*x0)/x0"
      ]
     },
     "execution_count": 13,
     "metadata": {},
     "output_type": "execute_result"
    }
   ],
   "source": [
    "expr = (RIF(1,2) * sym.var(\"x0\") + RIF(3,4)*sym.var(\"x0\")*sym.var(\"x1\")) / sym.var(\"x0\"); expr"
   ]
  },
  {
   "cell_type": "code",
   "execution_count": 14,
   "metadata": {},
   "outputs": [
    {
     "data": {
      "text/plain": [
       "(4.?*x0*x1 + 2.?*x0)/x1"
      ]
     },
     "execution_count": 14,
     "metadata": {},
     "output_type": "execute_result"
    }
   ],
   "source": [
    "expr2 = (RIF(1,2) * x[0] + RIF(3,4)*x[0]*x[1]) / x[1]; expr2"
   ]
  },
  {
   "cell_type": "code",
   "execution_count": 16,
   "metadata": {},
   "outputs": [
    {
     "ename": "AttributeError",
     "evalue": "'sage.rings.fraction_field_element.FractionFieldElement' object has no attribute 'simplify'",
     "output_type": "error",
     "traceback": [
      "\u001b[0;31m---------------------------------------------------------------------------\u001b[0m",
      "\u001b[0;31mAttributeError\u001b[0m                            Traceback (most recent call last)",
      "\u001b[0;32m<ipython-input-16-9c97f7bd462e>\u001b[0m in \u001b[0;36m<module>\u001b[0;34m()\u001b[0m\n\u001b[0;32m----> 1\u001b[0;31m \u001b[0mexpr2\u001b[0m\u001b[0;34m.\u001b[0m\u001b[0msimplify\u001b[0m\u001b[0;34m(\u001b[0m\u001b[0;34m)\u001b[0m\u001b[0;34m\u001b[0m\u001b[0;34m\u001b[0m\u001b[0m\n\u001b[0m",
      "\u001b[0;32m/usr/lib64/python3.7/site-packages/sage/structure/element.pyx\u001b[0m in \u001b[0;36msage.structure.element.Element.__getattr__ (build/cythonized/sage/structure/element.c:4599)\u001b[0;34m()\u001b[0m\n\u001b[1;32m    487\u001b[0m             \u001b[0mAttributeError\u001b[0m\u001b[0;34m:\u001b[0m \u001b[0;34m'LeftZeroSemigroup_with_category.element_class'\u001b[0m \u001b[0mobject\u001b[0m \u001b[0mhas\u001b[0m \u001b[0mno\u001b[0m \u001b[0mattribute\u001b[0m \u001b[0;34m'blah_blah'\u001b[0m\u001b[0;34m\u001b[0m\u001b[0;34m\u001b[0m\u001b[0m\n\u001b[1;32m    488\u001b[0m         \"\"\"\n\u001b[0;32m--> 489\u001b[0;31m         \u001b[0;32mreturn\u001b[0m \u001b[0mself\u001b[0m\u001b[0;34m.\u001b[0m\u001b[0mgetattr_from_category\u001b[0m\u001b[0;34m(\u001b[0m\u001b[0mname\u001b[0m\u001b[0;34m)\u001b[0m\u001b[0;34m\u001b[0m\u001b[0;34m\u001b[0m\u001b[0m\n\u001b[0m\u001b[1;32m    490\u001b[0m \u001b[0;34m\u001b[0m\u001b[0m\n\u001b[1;32m    491\u001b[0m     \u001b[0mcdef\u001b[0m \u001b[0mgetattr_from_category\u001b[0m\u001b[0;34m(\u001b[0m\u001b[0mself\u001b[0m\u001b[0;34m,\u001b[0m \u001b[0mname\u001b[0m\u001b[0;34m)\u001b[0m\u001b[0;34m:\u001b[0m\u001b[0;34m\u001b[0m\u001b[0;34m\u001b[0m\u001b[0m\n",
      "\u001b[0;32m/usr/lib64/python3.7/site-packages/sage/structure/element.pyx\u001b[0m in \u001b[0;36msage.structure.element.Element.getattr_from_category (build/cythonized/sage/structure/element.c:4708)\u001b[0;34m()\u001b[0m\n\u001b[1;32m    500\u001b[0m         \u001b[0;32melse\u001b[0m\u001b[0;34m:\u001b[0m\u001b[0;34m\u001b[0m\u001b[0;34m\u001b[0m\u001b[0m\n\u001b[1;32m    501\u001b[0m             \u001b[0mcls\u001b[0m \u001b[0;34m=\u001b[0m \u001b[0mP\u001b[0m\u001b[0;34m.\u001b[0m\u001b[0m_abstract_element_class\u001b[0m\u001b[0;34m\u001b[0m\u001b[0;34m\u001b[0m\u001b[0m\n\u001b[0;32m--> 502\u001b[0;31m         \u001b[0;32mreturn\u001b[0m \u001b[0mgetattr_from_other_class\u001b[0m\u001b[0;34m(\u001b[0m\u001b[0mself\u001b[0m\u001b[0;34m,\u001b[0m \u001b[0mcls\u001b[0m\u001b[0;34m,\u001b[0m \u001b[0mname\u001b[0m\u001b[0;34m)\u001b[0m\u001b[0;34m\u001b[0m\u001b[0;34m\u001b[0m\u001b[0m\n\u001b[0m\u001b[1;32m    503\u001b[0m \u001b[0;34m\u001b[0m\u001b[0m\n\u001b[1;32m    504\u001b[0m     \u001b[0;32mdef\u001b[0m \u001b[0m__dir__\u001b[0m\u001b[0;34m(\u001b[0m\u001b[0mself\u001b[0m\u001b[0;34m)\u001b[0m\u001b[0;34m:\u001b[0m\u001b[0;34m\u001b[0m\u001b[0;34m\u001b[0m\u001b[0m\n",
      "\u001b[0;32m/usr/lib64/python3.7/site-packages/sage/cpython/getattr.pyx\u001b[0m in \u001b[0;36msage.cpython.getattr.getattr_from_other_class (build/cythonized/sage/cpython/getattr.c:2615)\u001b[0;34m()\u001b[0m\n\u001b[1;32m    392\u001b[0m         \u001b[0mdummy_error_message\u001b[0m\u001b[0;34m.\u001b[0m\u001b[0mcls\u001b[0m \u001b[0;34m=\u001b[0m \u001b[0mtype\u001b[0m\u001b[0;34m(\u001b[0m\u001b[0mself\u001b[0m\u001b[0;34m)\u001b[0m\u001b[0;34m\u001b[0m\u001b[0;34m\u001b[0m\u001b[0m\n\u001b[1;32m    393\u001b[0m         \u001b[0mdummy_error_message\u001b[0m\u001b[0;34m.\u001b[0m\u001b[0mname\u001b[0m \u001b[0;34m=\u001b[0m \u001b[0mname\u001b[0m\u001b[0;34m\u001b[0m\u001b[0;34m\u001b[0m\u001b[0m\n\u001b[0;32m--> 394\u001b[0;31m         \u001b[0;32mraise\u001b[0m \u001b[0mAttributeError\u001b[0m\u001b[0;34m(\u001b[0m\u001b[0mdummy_error_message\u001b[0m\u001b[0;34m)\u001b[0m\u001b[0;34m\u001b[0m\u001b[0;34m\u001b[0m\u001b[0m\n\u001b[0m\u001b[1;32m    395\u001b[0m     \u001b[0mattribute\u001b[0m \u001b[0;34m=\u001b[0m \u001b[0;34m<\u001b[0m\u001b[0mobject\u001b[0m\u001b[0;34m>\u001b[0m\u001b[0mattr\u001b[0m\u001b[0;34m\u001b[0m\u001b[0;34m\u001b[0m\u001b[0m\n\u001b[1;32m    396\u001b[0m     \u001b[0;31m# Check for a descriptor (__get__ in Python)\u001b[0m\u001b[0;34m\u001b[0m\u001b[0;34m\u001b[0m\u001b[0;34m\u001b[0m\u001b[0m\n",
      "\u001b[0;31mAttributeError\u001b[0m: 'sage.rings.fraction_field_element.FractionFieldElement' object has no attribute 'simplify'"
     ]
    }
   ],
   "source": [
    "expr2.simplify()"
   ]
  },
  {
   "cell_type": "code",
   "execution_count": 17,
   "metadata": {},
   "outputs": [
    {
     "data": {
      "text/latex": [
       "$\\displaystyle \\frac{a_{0} x_{0} + a_{1} x_{0} x_{1}}{x_{0}}$"
      ],
      "text/plain": [
       "(a0*x0 + a1*x0*x1)/x0"
      ]
     },
     "execution_count": 17,
     "metadata": {},
     "output_type": "execute_result"
    }
   ],
   "source": [
    "expr3 = (sym.var(\"a0\") * sym.var(\"x0\") + sym.var(\"a1\")*sym.var(\"x0\")*sym.var(\"x1\")) / sym.var(\"x0\"); expr3"
   ]
  },
  {
   "cell_type": "code",
   "execution_count": 18,
   "metadata": {},
   "outputs": [
    {
     "data": {
      "text/latex": [
       "$\\displaystyle a_{0} + a_{1} x_{1}$"
      ],
      "text/plain": [
       "a0 + a1*x1"
      ]
     },
     "execution_count": 18,
     "metadata": {},
     "output_type": "execute_result"
    }
   ],
   "source": [
    "sym.simplify(expr3)"
   ]
  },
  {
   "cell_type": "code",
   "execution_count": 19,
   "metadata": {},
   "outputs": [
    {
     "name": "stdout",
     "output_type": "stream",
     "text": [
      "Object `substitute` not found.\n"
     ]
    }
   ],
   "source": [
    "sym.simplify(expr3).substitute?"
   ]
  },
  {
   "cell_type": "code",
   "execution_count": 23,
   "metadata": {},
   "outputs": [
    {
     "data": {
      "text/latex": [
       "$\\displaystyle 3.5 x_{1} + 1.5$"
      ],
      "text/plain": [
       "3.5*x1 + 1.5"
      ]
     },
     "execution_count": 23,
     "metadata": {},
     "output_type": "execute_result"
    }
   ],
   "source": [
    "sym.simplify(expr3).subs([(a0, RIF(1,2)), (a1, RIF(3,4))])"
   ]
  },
  {
   "cell_type": "code",
   "execution_count": 32,
   "metadata": {},
   "outputs": [
    {
     "data": {
      "text/plain": [
       "a1*x1 + a0"
      ]
     },
     "execution_count": 32,
     "metadata": {},
     "output_type": "execute_result"
    }
   ],
   "source": [
    "sym.simplify(expr3)._sage_()"
   ]
  },
  {
   "cell_type": "code",
   "execution_count": 37,
   "metadata": {},
   "outputs": [
    {
     "data": {
      "text/plain": [
       "4.?*x1 + 2.?"
      ]
     },
     "execution_count": 37,
     "metadata": {},
     "output_type": "execute_result"
    }
   ],
   "source": [
    "sexpr3 = sym.simplify(expr3)._sage_().substitute(\n",
    "    a0=RIF(1,2),\n",
    "    a1=RIF(3,4),\n",
    ")\n",
    "sexpr3"
   ]
  },
  {
   "cell_type": "code",
   "execution_count": 26,
   "metadata": {},
   "outputs": [
    {
     "data": {
      "text/plain": [
       "3.5000000000000000?*x1 + 1.5000000000000000?"
      ]
     },
     "execution_count": 26,
     "metadata": {},
     "output_type": "execute_result"
    }
   ],
   "source": [
    "sexpr3 = R(sym.simplify(expr3).subs([(a0, RIF(1,2)), (a1, RIF(3,4))])._sage_())\n",
    "sexpr3"
   ]
  },
  {
   "cell_type": "code",
   "execution_count": 40,
   "metadata": {},
   "outputs": [
    {
     "data": {
      "text/plain": [
       "['[1.0000000000000000 .. 2.0000000000000000]',\n",
       " '[3.0000000000000000 .. 4.0000000000000000]']"
      ]
     },
     "execution_count": 40,
     "metadata": {},
     "output_type": "execute_result"
    }
   ],
   "source": [
    "[RIF(s).str(style='brackets') for s, _ in sexpr3.coefficients()]"
   ]
  },
  {
   "cell_type": "code",
   "execution_count": 38,
   "metadata": {},
   "outputs": [
    {
     "data": {
      "text/plain": [
       "[[2.?, 0], [4.?, 1]]"
      ]
     },
     "execution_count": 38,
     "metadata": {},
     "output_type": "execute_result"
    }
   ],
   "source": [
    "sexpr3.coefficients()"
   ]
  },
  {
   "cell_type": "code",
   "execution_count": 46,
   "metadata": {
    "scrolled": false
   },
   "outputs": [],
   "source": [
    "from sage.all import *\n",
    "import sympy as sym\n",
    "\n",
    "R, x = PolynomialRing(RIF, 3, 'x').objgens()\n",
    "xsym = sym.var(','.join(map('x{}'.format, range(0,3))))\n",
    "y0 = [RIF(100.00000000000000000000, 100.00000000000000000000), RIF(0.00000000000000000000, 0.00000000000000000000), RIF(10.00000000000000000000, 10.00000000000000000000)]\n",
    "ysymraw = [(((0) * (((-1) * ((1) * ((x0) * (1)))) * ((1) * ((x2) * (1)))) + ((1.1) * ((0) * (abs((x2) * (1))))) * (((-1) * ((1) * ((x0) * (1)))) * ((1) * ((x2) * (1)))) + ((1.1) * ((0) * (abs((x0) * (1))))) * (((-1) * ((1) * ((x0) * (1)))) * ((1) * ((x2) * (1)))) + ((1.1) * ((abs((x2) * (1))) * (abs((x0) * (1))))) * (((-1) * ((1) * ((x0) * (1)))) * ((1) * ((x2) * (1))))) / (0 + (0) * (abs((1) * ((x0) * (1)))) + (0) * (abs((0) * ((x2) * (1)))) + (0) * (abs((0) * ((x0) * (1)))) + (abs((0) * ((x0) * (1)))) * (abs((1) * ((x0) * (1)))) + (abs((0) * ((x2) * (1)))) * (abs((0) * ((x0) * (1)))) + (0) * (abs((1) * ((x2) * (1)))) + (abs((1) * ((x2) * (1)))) * (abs((1) * ((x0) * (1)))) + (abs((0) * ((x2) * (1)))) * (abs((1) * ((x2) * (1))))) + (((0) * (((-2.0) * ((1) * ((x0) * (1)))) * ((0) * ((x0) * (1)))) + ((1.1) * ((0) * (abs((x2) * (1))))) * (((-2.0) * ((1) * ((x0) * (1)))) * ((0) * ((x0) * (1)))) + ((1.1) * ((0) * (abs((x0) * (1))))) * (((-2.0) * ((1) * ((x0) * (1)))) * ((0) * ((x0) * (1)))) + ((1.1) * ((abs((x2) * (1))) * (abs((x0) * (1))))) * (((-2.0) * ((1) * ((x0) * (1)))) * ((0) * ((x0) * (1))))) / (0 + abs((1) * ((x0) * (1))) + abs((0) * ((x2) * (1)))) + ((0) * (((-1) * ((0) * ((x2) * (1)))) * ((0) * ((x0) * (1)))) + ((1.1) * ((0) * (abs((x2) * (1))))) * (((-1) * ((0) * ((x2) * (1)))) * ((0) * ((x0) * (1)))) + ((1.1) * ((0) * (abs((x0) * (1))))) * (((-1) * ((0) * ((x2) * (1)))) * ((0) * ((x0) * (1)))) + ((1.1) * ((abs((x2) * (1))) * (abs((x0) * (1))))) * (((-1) * ((0) * ((x2) * (1)))) * ((0) * ((x0) * (1))))) / (0 + abs((1) * ((x0) * (1))) + abs((0) * ((x2) * (1))))) / (0 + abs((0) * ((x0) * (1))) + abs((1) * ((x2) * (1))))) / (2.0 + 0 + abs((x0) * (1))), (((0) * (((1) * ((x2) * (1))) * ((1) * ((1) * ((x0) * (1))))) + ((1.1) * ((0) * (abs((x2) * (1))))) * (((1) * ((x2) * (1))) * ((1) * ((1) * ((x0) * (1))))) + ((1.1) * ((0) * (abs((x0) * (1))))) * (((1) * ((x2) * (1))) * ((1) * ((1) * ((x0) * (1))))) + ((1.1) * ((abs((x2) * (1))) * (abs((x0) * (1))))) * (((1) * ((x2) * (1))) * ((1) * ((1) * ((x0) * (1)))))) / (0 + (0) * (abs((1) * ((x0) * (1)))) + (0) * (abs((0) * ((x2) * (1)))) + (0) * (abs((0) * ((x0) * (1)))) + (abs((0) * ((x0) * (1)))) * (abs((1) * ((x0) * (1)))) + (abs((0) * ((x2) * (1)))) * (abs((0) * ((x0) * (1)))) + (0) * (abs((1) * ((x2) * (1)))) + (abs((1) * ((x2) * (1)))) * (abs((1) * ((x0) * (1)))) + (abs((0) * ((x2) * (1)))) * (abs((1) * ((x2) * (1))))) + (((0) * (((0) * ((x0) * (1))) * ((1) * ((0) * ((x2) * (1))))) + ((1.1) * ((0) * (abs((x2) * (1))))) * (((0) * ((x0) * (1))) * ((1) * ((0) * ((x2) * (1))))) + ((1.1) * ((0) * (abs((x0) * (1))))) * (((0) * ((x0) * (1))) * ((1) * ((0) * ((x2) * (1))))) + ((1.1) * ((abs((x2) * (1))) * (abs((x0) * (1))))) * (((0) * ((x0) * (1))) * ((1) * ((0) * ((x2) * (1)))))) / (0 + abs((1) * ((x0) * (1))) + abs((0) * ((x2) * (1)))) + ((0) * (((0) * ((x0) * (1))) * ((2.0) * ((1) * ((x0) * (1))))) + ((1.1) * ((0) * (abs((x2) * (1))))) * (((0) * ((x0) * (1))) * ((2.0) * ((1) * ((x0) * (1))))) + ((1.1) * ((0) * (abs((x0) * (1))))) * (((0) * ((x0) * (1))) * ((2.0) * ((1) * ((x0) * (1))))) + ((1.1) * ((abs((x2) * (1))) * (abs((x0) * (1))))) * (((0) * ((x0) * (1))) * ((2.0) * ((1) * ((x0) * (1)))))) / (0 + abs((1) * ((x0) * (1))) + abs((0) * ((x2) * (1))))) / (0 + abs((0) * ((x0) * (1))) + abs((1) * ((x2) * (1))))) / (2.0 + 0 + abs((x0) * (1))), (((0) * (((0) * ((x0) * (1))) * ((0) * ((0) * ((x2) * (1))))) + ((1.1) * ((0) * (abs((x2) * (1))))) * (((0) * ((x0) * (1))) * ((0) * ((0) * ((x2) * (1))))) + ((1.1) * ((0) * (abs((x0) * (1))))) * (((0) * ((x0) * (1))) * ((0) * ((0) * ((x2) * (1))))) + ((1.1) * ((abs((x2) * (1))) * (abs((x0) * (1))))) * (((0) * ((x0) * (1))) * ((0) * ((0) * ((x2) * (1)))))) / (0 + (0) * (abs((1) * ((x0) * (1)))) + (0) * (abs((0) * ((x2) * (1)))) + (0) * (abs((0) * ((x0) * (1)))) + (abs((0) * ((x0) * (1)))) * (abs((1) * ((x0) * (1)))) + (abs((0) * ((x2) * (1)))) * (abs((0) * ((x0) * (1)))) + (0) * (abs((1) * ((x2) * (1)))) + (abs((1) * ((x2) * (1)))) * (abs((1) * ((x0) * (1)))) + (abs((0) * ((x2) * (1)))) * (abs((1) * ((x2) * (1))))) + (((0) * (((0) * ((0) * ((x2) * (1)))) * ((1) * ((x2) * (1)))) + ((1.1) * ((0) * (abs((x2) * (1))))) * (((0) * ((0) * ((x2) * (1)))) * ((1) * ((x2) * (1)))) + ((1.1) * ((0) * (abs((x0) * (1))))) * (((0) * ((0) * ((x2) * (1)))) * ((1) * ((x2) * (1)))) + ((1.1) * ((abs((x2) * (1))) * (abs((x0) * (1))))) * (((0) * ((0) * ((x2) * (1)))) * ((1) * ((x2) * (1))))) / (0 + abs((1) * ((x0) * (1))) + abs((0) * ((x2) * (1)))) + ((0) * (((0) * ((1) * ((x0) * (1)))) * ((1) * ((x2) * (1)))) + ((1.1) * ((0) * (abs((x2) * (1))))) * (((0) * ((1) * ((x0) * (1)))) * ((1) * ((x2) * (1)))) + ((1.1) * ((0) * (abs((x0) * (1))))) * (((0) * ((1) * ((x0) * (1)))) * ((1) * ((x2) * (1)))) + ((1.1) * ((abs((x2) * (1))) * (abs((x0) * (1))))) * (((0) * ((1) * ((x0) * (1)))) * ((1) * ((x2) * (1))))) / (0 + abs((1) * ((x0) * (1))) + abs((0) * ((x2) * (1))))) / (0 + abs((0) * ((x0) * (1))) + abs((1) * ((x2) * (1))))) / (2.0 + 0 + abs((x0) * (1)))]\n",
    "ysym = [sym.simplify(y1) for y1 in ysymraw]\n",
    "ysage = [y1._sage_().substitute() for y1 in ysym]\n",
    "try:\n",
    "    y = vector([R(y1) for y1 in ysage])\n",
    "except TypeError:\n",
    "    y = None\n"
   ]
  },
  {
   "cell_type": "code",
   "execution_count": 47,
   "metadata": {},
   "outputs": [
    {
     "data": {
      "text/plain": [
       "[-1.10000000000000*x0*x2/(abs(x0) + 2.00000000000000),\n",
       " 1.10000000000000*x0*x2/(abs(x0) + 2.00000000000000),\n",
       " 0]"
      ]
     },
     "execution_count": 47,
     "metadata": {},
     "output_type": "execute_result"
    }
   ],
   "source": [
    "ysage"
   ]
  },
  {
   "cell_type": "code",
   "execution_count": 48,
   "metadata": {},
   "outputs": [],
   "source": [
    "y"
   ]
  },
  {
   "cell_type": "code",
   "execution_count": null,
   "metadata": {},
   "outputs": [],
   "source": []
  }
 ],
 "metadata": {
  "kernelspec": {
   "display_name": "SageMath 8.7",
   "language": "",
   "name": "sagemath"
  },
  "language_info": {
   "codemirror_mode": {
    "name": "ipython",
    "version": 3
   },
   "file_extension": ".py",
   "mimetype": "text/x-python",
   "name": "python",
   "nbconvert_exporter": "python",
   "pygments_lexer": "ipython3",
   "version": "3.7.3"
  }
 },
 "nbformat": 4,
 "nbformat_minor": 2
}
