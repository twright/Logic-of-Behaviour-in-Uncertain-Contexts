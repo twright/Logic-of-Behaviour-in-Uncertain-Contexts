{
 "cells": [
  {
   "cell_type": "code",
   "execution_count": 1,
   "metadata": {},
   "outputs": [],
   "source": [
    "%matplotlib inline\n",
    "import pandas as pd"
   ]
  },
  {
   "cell_type": "markdown",
   "metadata": {},
   "source": [
    "## Load results"
   ]
  },
  {
   "cell_type": "code",
   "execution_count": 2,
   "metadata": {},
   "outputs": [],
   "source": [
    "series = [\n",
    "    'masked',\n",
    "    'unmasked',\n",
    "    'masked_reversed',\n",
    "    'unmasked_reversed',\n",
    "]\n",
    "series_names = [\n",
    "    'Masked',\n",
    "    'Unmasked',\n",
    "    'Masked R',\n",
    "    'Unmasked R',\n",
    "]\n",
    "total_timess = {\n",
    "   s: pd.read_csv(f'data/analysis4_no_symbolic_raw_fixed_{s}.csv')\n",
    "   for s in series \n",
    "}"
   ]
  },
  {
   "cell_type": "markdown",
   "metadata": {},
   "source": [
    "## Raw results"
   ]
  },
  {
   "cell_type": "code",
   "execution_count": 3,
   "metadata": {},
   "outputs": [],
   "source": [
    "from ipywidgets import interact"
   ]
  },
  {
   "cell_type": "code",
   "execution_count": 4,
   "metadata": {
    "scrolled": true
   },
   "outputs": [
    {
     "data": {
      "application/vnd.jupyter.widget-view+json": {
       "model_id": "4acaa5396f354a3e806ff4849c18de84",
       "version_major": 2,
       "version_minor": 0
      },
      "text/plain": [
       "interactive(children=(Dropdown(description='series', options=('masked', 'unmasked', 'masked_reversed', 'unmask…"
      ]
     },
     "metadata": {},
     "output_type": "display_data"
    }
   ],
   "source": [
    "@interact\n",
    "def _(series=series):\n",
    "    return total_timess[series]"
   ]
  },
  {
   "cell_type": "markdown",
   "metadata": {},
   "source": [
    "## Comparison"
   ]
  },
  {
   "cell_type": "code",
   "execution_count": 5,
   "metadata": {},
   "outputs": [
    {
     "data": {
      "text/html": [
       "<div>\n",
       "<style scoped>\n",
       "    .dataframe tbody tr th:only-of-type {\n",
       "        vertical-align: middle;\n",
       "    }\n",
       "\n",
       "    .dataframe tbody tr th {\n",
       "        vertical-align: top;\n",
       "    }\n",
       "\n",
       "    .dataframe thead th {\n",
       "        text-align: right;\n",
       "    }\n",
       "</style>\n",
       "<table border=\"1\" class=\"dataframe\">\n",
       "  <thead>\n",
       "    <tr style=\"text-align: right;\">\n",
       "      <th></th>\n",
       "      <th>Masked</th>\n",
       "      <th>Unmasked</th>\n",
       "      <th>Masked R</th>\n",
       "      <th>Unmasked R</th>\n",
       "    </tr>\n",
       "  </thead>\n",
       "  <tbody>\n",
       "    <tr>\n",
       "      <th>Flow*</th>\n",
       "      <td>62.203230</td>\n",
       "      <td>53.198168</td>\n",
       "      <td>56.241524</td>\n",
       "      <td>65.440130</td>\n",
       "    </tr>\n",
       "    <tr>\n",
       "      <th>P</th>\n",
       "      <td>4.510850</td>\n",
       "      <td>11.202444</td>\n",
       "      <td>3.827142</td>\n",
       "      <td>14.569493</td>\n",
       "    </tr>\n",
       "    <tr>\n",
       "      <th>Q</th>\n",
       "      <td>17.824091</td>\n",
       "      <td>59.551076</td>\n",
       "      <td>36.729903</td>\n",
       "      <td>67.733270</td>\n",
       "    </tr>\n",
       "    <tr>\n",
       "      <th>P | G(Q)</th>\n",
       "      <td>22.435891</td>\n",
       "      <td>71.042613</td>\n",
       "      <td>41.028832</td>\n",
       "      <td>82.775339</td>\n",
       "    </tr>\n",
       "    <tr>\n",
       "      <th>tentative eval</th>\n",
       "      <td>0.680032</td>\n",
       "      <td>2.886854</td>\n",
       "      <td>0.910306</td>\n",
       "      <td>2.563380</td>\n",
       "    </tr>\n",
       "    <tr>\n",
       "      <th>root detection</th>\n",
       "      <td>1.141466</td>\n",
       "      <td>3.480809</td>\n",
       "      <td>2.105310</td>\n",
       "      <td>3.998113</td>\n",
       "    </tr>\n",
       "    <tr>\n",
       "      <th>composing flowpipe</th>\n",
       "      <td>19.818726</td>\n",
       "      <td>62.081013</td>\n",
       "      <td>36.335060</td>\n",
       "      <td>71.419187</td>\n",
       "    </tr>\n",
       "    <tr>\n",
       "      <th>Total</th>\n",
       "      <td>84.821867</td>\n",
       "      <td>124.374549</td>\n",
       "      <td>97.436658</td>\n",
       "      <td>148.372361</td>\n",
       "    </tr>\n",
       "  </tbody>\n",
       "</table>\n",
       "</div>"
      ],
      "text/plain": [
       "                       Masked    Unmasked   Masked R  Unmasked R\n",
       "Flow*               62.203230   53.198168  56.241524   65.440130\n",
       "P                    4.510850   11.202444   3.827142   14.569493\n",
       "Q                   17.824091   59.551076  36.729903   67.733270\n",
       "P | G(Q)            22.435891   71.042613  41.028832   82.775339\n",
       "tentative eval       0.680032    2.886854   0.910306    2.563380\n",
       "root detection       1.141466    3.480809   2.105310    3.998113\n",
       "composing flowpipe  19.818726   62.081013  36.335060   71.419187\n",
       "Total               84.821867  124.374549  97.436658  148.372361"
      ]
     },
     "execution_count": 5,
     "metadata": {},
     "output_type": "execute_result"
    }
   ],
   "source": [
    "comparison = pd.DataFrame({\n",
    "    s: total_times.mean()\n",
    "    for s, total_times in total_timess.items()\n",
    "})\n",
    "comparison.columns = series_names\n",
    "comparison"
   ]
  },
  {
   "cell_type": "code",
   "execution_count": 6,
   "metadata": {},
   "outputs": [
    {
     "data": {
      "text/html": [
       "<div>\n",
       "<style scoped>\n",
       "    .dataframe tbody tr th:only-of-type {\n",
       "        vertical-align: middle;\n",
       "    }\n",
       "\n",
       "    .dataframe tbody tr th {\n",
       "        vertical-align: top;\n",
       "    }\n",
       "\n",
       "    .dataframe thead th {\n",
       "        text-align: right;\n",
       "    }\n",
       "</style>\n",
       "<table border=\"1\" class=\"dataframe\">\n",
       "  <thead>\n",
       "    <tr style=\"text-align: right;\">\n",
       "      <th></th>\n",
       "      <th>Masked</th>\n",
       "      <th>Unmasked</th>\n",
       "      <th>Masked R</th>\n",
       "      <th>Unmasked R</th>\n",
       "    </tr>\n",
       "  </thead>\n",
       "  <tbody>\n",
       "    <tr>\n",
       "      <th>Flow*</th>\n",
       "      <td>9.271114</td>\n",
       "      <td>5.695459</td>\n",
       "      <td>10.871657</td>\n",
       "      <td>7.735923</td>\n",
       "    </tr>\n",
       "    <tr>\n",
       "      <th>P</th>\n",
       "      <td>0.747356</td>\n",
       "      <td>1.372832</td>\n",
       "      <td>0.594588</td>\n",
       "      <td>2.565025</td>\n",
       "    </tr>\n",
       "    <tr>\n",
       "      <th>Q</th>\n",
       "      <td>2.362839</td>\n",
       "      <td>6.096992</td>\n",
       "      <td>4.373150</td>\n",
       "      <td>7.835957</td>\n",
       "    </tr>\n",
       "    <tr>\n",
       "      <th>P | G(Q)</th>\n",
       "      <td>2.807102</td>\n",
       "      <td>6.753457</td>\n",
       "      <td>4.827006</td>\n",
       "      <td>9.658324</td>\n",
       "    </tr>\n",
       "    <tr>\n",
       "      <th>tentative eval</th>\n",
       "      <td>0.110441</td>\n",
       "      <td>0.227195</td>\n",
       "      <td>0.122147</td>\n",
       "      <td>0.319535</td>\n",
       "    </tr>\n",
       "    <tr>\n",
       "      <th>root detection</th>\n",
       "      <td>0.150946</td>\n",
       "      <td>0.396194</td>\n",
       "      <td>0.319645</td>\n",
       "      <td>0.567115</td>\n",
       "    </tr>\n",
       "    <tr>\n",
       "      <th>composing flowpipe</th>\n",
       "      <td>2.479677</td>\n",
       "      <td>5.914275</td>\n",
       "      <td>4.121043</td>\n",
       "      <td>8.227508</td>\n",
       "    </tr>\n",
       "    <tr>\n",
       "      <th>Total</th>\n",
       "      <td>10.760819</td>\n",
       "      <td>8.387741</td>\n",
       "      <td>14.189973</td>\n",
       "      <td>14.815410</td>\n",
       "    </tr>\n",
       "  </tbody>\n",
       "</table>\n",
       "</div>"
      ],
      "text/plain": [
       "                       Masked  Unmasked   Masked R  Unmasked R\n",
       "Flow*                9.271114  5.695459  10.871657    7.735923\n",
       "P                    0.747356  1.372832   0.594588    2.565025\n",
       "Q                    2.362839  6.096992   4.373150    7.835957\n",
       "P | G(Q)             2.807102  6.753457   4.827006    9.658324\n",
       "tentative eval       0.110441  0.227195   0.122147    0.319535\n",
       "root detection       0.150946  0.396194   0.319645    0.567115\n",
       "composing flowpipe   2.479677  5.914275   4.121043    8.227508\n",
       "Total               10.760819  8.387741  14.189973   14.815410"
      ]
     },
     "execution_count": 6,
     "metadata": {},
     "output_type": "execute_result"
    }
   ],
   "source": [
    "comparison_stds = pd.DataFrame({\n",
    "    s: total_times.std()\n",
    "    for s, total_times in total_timess.items()\n",
    "})\n",
    "comparison_stds.columns = series_names\n",
    "comparison_stds"
   ]
  },
  {
   "cell_type": "code",
   "execution_count": 7,
   "metadata": {},
   "outputs": [
    {
     "data": {
      "text/html": [
       "<div>\n",
       "<style scoped>\n",
       "    .dataframe tbody tr th:only-of-type {\n",
       "        vertical-align: middle;\n",
       "    }\n",
       "\n",
       "    .dataframe tbody tr th {\n",
       "        vertical-align: top;\n",
       "    }\n",
       "\n",
       "    .dataframe thead th {\n",
       "        text-align: right;\n",
       "    }\n",
       "</style>\n",
       "<table border=\"1\" class=\"dataframe\">\n",
       "  <thead>\n",
       "    <tr style=\"text-align: right;\">\n",
       "      <th></th>\n",
       "      <th>P</th>\n",
       "      <th>Q</th>\n",
       "    </tr>\n",
       "  </thead>\n",
       "  <tbody>\n",
       "    <tr>\n",
       "      <th>Masked</th>\n",
       "      <td>4.510850</td>\n",
       "      <td>17.824091</td>\n",
       "    </tr>\n",
       "    <tr>\n",
       "      <th>Unmasked</th>\n",
       "      <td>11.202444</td>\n",
       "      <td>59.551076</td>\n",
       "    </tr>\n",
       "    <tr>\n",
       "      <th>Masked R</th>\n",
       "      <td>3.827142</td>\n",
       "      <td>36.729903</td>\n",
       "    </tr>\n",
       "    <tr>\n",
       "      <th>Unmasked R</th>\n",
       "      <td>14.569493</td>\n",
       "      <td>67.733270</td>\n",
       "    </tr>\n",
       "  </tbody>\n",
       "</table>\n",
       "</div>"
      ],
      "text/plain": [
       "                    P          Q\n",
       "Masked       4.510850  17.824091\n",
       "Unmasked    11.202444  59.551076\n",
       "Masked R     3.827142  36.729903\n",
       "Unmasked R  14.569493  67.733270"
      ]
     },
     "execution_count": 7,
     "metadata": {},
     "output_type": "execute_result"
    }
   ],
   "source": [
    "comparison2 = comparison.loc[['P', 'Q'],:].transpose()\n",
    "comparison2"
   ]
  },
  {
   "cell_type": "code",
   "execution_count": 8,
   "metadata": {},
   "outputs": [
    {
     "data": {
      "text/plain": [
       "<matplotlib.axes._subplots.AxesSubplot at 0x7f961501aa30>"
      ]
     },
     "execution_count": 8,
     "metadata": {},
     "output_type": "execute_result"
    },
    {
     "data": {
      "image/png": "[encoded data removed]",
      "text/plain": [
       "<Figure size 432x288 with 1 Axes>"
      ]
     },
     "metadata": {
      "needs_background": "light"
     },
     "output_type": "display_data"
    }
   ],
   "source": [
    "p = comparison2.plot(kind='barh', stacked=True, grid=False)\n",
    "p"
   ]
  },
  {
   "cell_type": "code",
   "execution_count": 9,
   "metadata": {},
   "outputs": [],
   "source": [
    "p.get_figure().savefig('images/comparison-analysis4-bar-chart.pdf')"
   ]
  },
  {
   "cell_type": "code",
   "execution_count": 10,
   "metadata": {},
   "outputs": [
    {
     "data": {
      "text/plain": [
       "<matplotlib.axes._subplots.AxesSubplot at 0x7f9612e4d4f0>"
      ]
     },
     "execution_count": 10,
     "metadata": {},
     "output_type": "execute_result"
    },
    {
     "data": {
      "image/png": "[encoded data removed]",
      "text/plain": [
       "<Figure size 432x288 with 1 Axes>"
      ]
     },
     "metadata": {
      "needs_background": "light"
     },
     "output_type": "display_data"
    }
   ],
   "source": [
    "comparison3 = comparison.loc[['P | G(Q)'],:].transpose()\n",
    "comparison3.plot(kind='barh')"
   ]
  },
  {
   "cell_type": "code",
   "execution_count": 11,
   "metadata": {},
   "outputs": [
    {
     "data": {
      "text/html": [
       "<div>\n",
       "<style scoped>\n",
       "    .dataframe tbody tr th:only-of-type {\n",
       "        vertical-align: middle;\n",
       "    }\n",
       "\n",
       "    .dataframe tbody tr th {\n",
       "        vertical-align: top;\n",
       "    }\n",
       "\n",
       "    .dataframe thead th {\n",
       "        text-align: right;\n",
       "    }\n",
       "</style>\n",
       "<table border=\"1\" class=\"dataframe\">\n",
       "  <thead>\n",
       "    <tr style=\"text-align: right;\">\n",
       "      <th></th>\n",
       "      <th>Flow*</th>\n",
       "      <th>P</th>\n",
       "      <th>Q</th>\n",
       "    </tr>\n",
       "  </thead>\n",
       "  <tbody>\n",
       "    <tr>\n",
       "      <th>Masked</th>\n",
       "      <td>62.203230</td>\n",
       "      <td>4.510850</td>\n",
       "      <td>17.824091</td>\n",
       "    </tr>\n",
       "    <tr>\n",
       "      <th>Unmasked</th>\n",
       "      <td>53.198168</td>\n",
       "      <td>11.202444</td>\n",
       "      <td>59.551076</td>\n",
       "    </tr>\n",
       "    <tr>\n",
       "      <th>Masked R</th>\n",
       "      <td>56.241524</td>\n",
       "      <td>3.827142</td>\n",
       "      <td>36.729903</td>\n",
       "    </tr>\n",
       "    <tr>\n",
       "      <th>Unmasked R</th>\n",
       "      <td>65.440130</td>\n",
       "      <td>14.569493</td>\n",
       "      <td>67.733270</td>\n",
       "    </tr>\n",
       "  </tbody>\n",
       "</table>\n",
       "</div>"
      ],
      "text/plain": [
       "                Flow*          P          Q\n",
       "Masked      62.203230   4.510850  17.824091\n",
       "Unmasked    53.198168  11.202444  59.551076\n",
       "Masked R    56.241524   3.827142  36.729903\n",
       "Unmasked R  65.440130  14.569493  67.733270"
      ]
     },
     "execution_count": 11,
     "metadata": {},
     "output_type": "execute_result"
    }
   ],
   "source": [
    "comparison4 = comparison.loc[['Flow*', 'P', 'Q'],:].transpose()\n",
    "comparison4"
   ]
  },
  {
   "cell_type": "code",
   "execution_count": 12,
   "metadata": {},
   "outputs": [
    {
     "data": {
      "text/plain": [
       "<matplotlib.axes._subplots.AxesSubplot at 0x7f9612ecb790>"
      ]
     },
     "execution_count": 12,
     "metadata": {},
     "output_type": "execute_result"
    },
    {
     "data": {
      "image/png": "[encoded data removed]",
      "text/plain": [
       "<Figure size 432x288 with 1 Axes>"
      ]
     },
     "metadata": {
      "needs_background": "light"
     },
     "output_type": "display_data"
    }
   ],
   "source": [
    "p = comparison4.plot(kind='barh', stacked=True, grid=False)\n",
    "p"
   ]
  },
  {
   "cell_type": "code",
   "execution_count": 31,
   "metadata": {},
   "outputs": [],
   "source": [
    "comparison5 = comparison4.copy()"
   ]
  },
  {
   "cell_type": "code",
   "execution_count": 30,
   "metadata": {},
   "outputs": [
    {
     "data": {
      "text/plain": [
       "Masked        0.283697\n",
       "Unmasked      0.422861\n",
       "Masked R      0.638089\n",
       "Unmasked R    0.629467\n",
       "dtype: float64"
      ]
     },
     "execution_count": 30,
     "metadata": {},
     "output_type": "execute_result"
    }
   ],
   "source": [
    "rem = comparison.loc['Total', :] - comparison4.sum(axis=1)\n",
    "rem"
   ]
  },
  {
   "cell_type": "code",
   "execution_count": 36,
   "metadata": {},
   "outputs": [],
   "source": [
    "comparison5.loc[:,'Remainder'] = rem"
   ]
  },
  {
   "cell_type": "code",
   "execution_count": 37,
   "metadata": {},
   "outputs": [
    {
     "data": {
      "text/html": [
       "<div>\n",
       "<style scoped>\n",
       "    .dataframe tbody tr th:only-of-type {\n",
       "        vertical-align: middle;\n",
       "    }\n",
       "\n",
       "    .dataframe tbody tr th {\n",
       "        vertical-align: top;\n",
       "    }\n",
       "\n",
       "    .dataframe thead th {\n",
       "        text-align: right;\n",
       "    }\n",
       "</style>\n",
       "<table border=\"1\" class=\"dataframe\">\n",
       "  <thead>\n",
       "    <tr style=\"text-align: right;\">\n",
       "      <th></th>\n",
       "      <th>Flow*</th>\n",
       "      <th>P</th>\n",
       "      <th>Q</th>\n",
       "      <th>Remainder</th>\n",
       "    </tr>\n",
       "  </thead>\n",
       "  <tbody>\n",
       "    <tr>\n",
       "      <th>Masked</th>\n",
       "      <td>62.203230</td>\n",
       "      <td>4.510850</td>\n",
       "      <td>17.824091</td>\n",
       "      <td>0.283697</td>\n",
       "    </tr>\n",
       "    <tr>\n",
       "      <th>Unmasked</th>\n",
       "      <td>53.198168</td>\n",
       "      <td>11.202444</td>\n",
       "      <td>59.551076</td>\n",
       "      <td>0.422861</td>\n",
       "    </tr>\n",
       "    <tr>\n",
       "      <th>Masked R</th>\n",
       "      <td>56.241524</td>\n",
       "      <td>3.827142</td>\n",
       "      <td>36.729903</td>\n",
       "      <td>0.638089</td>\n",
       "    </tr>\n",
       "    <tr>\n",
       "      <th>Unmasked R</th>\n",
       "      <td>65.440130</td>\n",
       "      <td>14.569493</td>\n",
       "      <td>67.733270</td>\n",
       "      <td>0.629467</td>\n",
       "    </tr>\n",
       "  </tbody>\n",
       "</table>\n",
       "</div>"
      ],
      "text/plain": [
       "                Flow*          P          Q  Remainder\n",
       "Masked      62.203230   4.510850  17.824091   0.283697\n",
       "Unmasked    53.198168  11.202444  59.551076   0.422861\n",
       "Masked R    56.241524   3.827142  36.729903   0.638089\n",
       "Unmasked R  65.440130  14.569493  67.733270   0.629467"
      ]
     },
     "execution_count": 37,
     "metadata": {},
     "output_type": "execute_result"
    }
   ],
   "source": [
    "comparison5"
   ]
  },
  {
   "cell_type": "code",
   "execution_count": 38,
   "metadata": {},
   "outputs": [
    {
     "data": {
      "text/plain": [
       "<matplotlib.axes._subplots.AxesSubplot at 0x7f960d04aee0>"
      ]
     },
     "execution_count": 38,
     "metadata": {},
     "output_type": "execute_result"
    },
    {
     "data": {
      "image/png": "[encoded data removed]",
      "text/plain": [
       "<Figure size 432x288 with 1 Axes>"
      ]
     },
     "metadata": {
      "needs_background": "light"
     },
     "output_type": "display_data"
    }
   ],
   "source": [
    "comparison5.plot(kind='barh', stacked=True, grid=False)"
   ]
  },
  {
   "cell_type": "code",
   "execution_count": null,
   "metadata": {},
   "outputs": [],
   "source": []
  }
 ],
 "metadata": {
  "kernelspec": {
   "display_name": "Python 3",
   "language": "python",
   "name": "python3"
  },
  "language_info": {
   "codemirror_mode": {
    "name": "ipython",
    "version": 3
   },
   "file_extension": ".py",
   "mimetype": "text/x-python",
   "name": "python",
   "nbconvert_exporter": "python",
   "pygments_lexer": "ipython3",
   "version": "3.8.2"
  },
  "notify_time": "5"
 },
 "nbformat": 4,
 "nbformat_minor": 2
}
