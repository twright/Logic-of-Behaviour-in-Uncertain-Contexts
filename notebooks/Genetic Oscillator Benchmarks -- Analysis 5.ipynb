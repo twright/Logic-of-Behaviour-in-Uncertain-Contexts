{
 "cells": [
  {
   "cell_type": "code",
   "execution_count": 23,
   "metadata": {},
   "outputs": [],
   "source": [
    "%matplotlib inline\n",
    "import pandas as pd"
   ]
  },
  {
   "cell_type": "markdown",
   "metadata": {},
   "source": [
    "## Load results"
   ]
  },
  {
   "cell_type": "code",
   "execution_count": 24,
   "metadata": {},
   "outputs": [],
   "source": [
    "series = [\n",
    "    'masked',\n",
    "    'unmasked',\n",
    "    'masked_reversed',\n",
    "    'unmasked_reversed',\n",
    "]\n",
    "series = ['masked',\n",
    "          'masked_no_symbolic',\n",
    "          'masked_no_symbolic_no_selective',\n",
    "          'masked_no_selective',\n",
    "          'masked_symbolic_low_order',\n",
    "          'unmasked',\n",
    "          'unmasked_no_symbolic',\n",
    "          'masked_reversed', 'unmasked_reversed']\n",
    "series_names = series\n",
    "# series_names = [\n",
    "#     'Masked',\n",
    "#     'Unmasked',\n",
    "#     'Masked R',\n",
    "#     'Unmasked R',\n",
    "# ]\n",
    "total_timess = {\n",
    "   s: pd.read_csv(f'data/analysis_new_property_raw_{s}.csv')\n",
    "   for s in series \n",
    "}"
   ]
  },
  {
   "cell_type": "markdown",
   "metadata": {},
   "source": [
    "## Raw results"
   ]
  },
  {
   "cell_type": "code",
   "execution_count": 25,
   "metadata": {},
   "outputs": [],
   "source": [
    "from ipywidgets import interact"
   ]
  },
  {
   "cell_type": "code",
   "execution_count": 5,
   "metadata": {},
   "outputs": [],
   "source": [
    "total_timess['masked'] = total_timess['masked'][0:10]\n",
    "total_timess['unmasked'] = total_timess['unmasked'][0:10]\n",
    "total_timess['masked_reversed'] = total_timess['masked_reversed'][0:10]\n",
    "total_timess['unmasked_reversed'] = total_timess['unmasked_reversed'][10:20]"
   ]
  },
  {
   "cell_type": "code",
   "execution_count": 6,
   "metadata": {
    "scrolled": true
   },
   "outputs": [
    {
     "data": {
      "application/vnd.jupyter.widget-view+json": {
       "model_id": "56ab03a5db194c839a81bdb1f355c3e2",
       "version_major": 2,
       "version_minor": 0
      },
      "text/plain": [
       "interactive(children=(Dropdown(description='series', options=('masked', 'masked_no_symbolic', 'masked_no_symbo…"
      ]
     },
     "metadata": {},
     "output_type": "display_data"
    }
   ],
   "source": [
    "@interact\n",
    "def _(series=series):\n",
    "    return total_timess[series]"
   ]
  },
  {
   "cell_type": "markdown",
   "metadata": {},
   "source": [
    "## Comparison"
   ]
  },
  {
   "cell_type": "code",
   "execution_count": 7,
   "metadata": {},
   "outputs": [
    {
     "data": {
      "text/html": [
       "<div>\n",
       "<style scoped>\n",
       "    .dataframe tbody tr th:only-of-type {\n",
       "        vertical-align: middle;\n",
       "    }\n",
       "\n",
       "    .dataframe tbody tr th {\n",
       "        vertical-align: top;\n",
       "    }\n",
       "\n",
       "    .dataframe thead th {\n",
       "        text-align: right;\n",
       "    }\n",
       "</style>\n",
       "<table border=\"1\" class=\"dataframe\">\n",
       "  <thead>\n",
       "    <tr style=\"text-align: right;\">\n",
       "      <th></th>\n",
       "      <th>masked</th>\n",
       "      <th>masked_no_symbolic</th>\n",
       "      <th>masked_no_symbolic_no_selective</th>\n",
       "      <th>masked_no_selective</th>\n",
       "      <th>masked_symbolic_low_order</th>\n",
       "      <th>unmasked</th>\n",
       "      <th>unmasked_no_symbolic</th>\n",
       "      <th>masked_reversed</th>\n",
       "      <th>unmasked_reversed</th>\n",
       "    </tr>\n",
       "  </thead>\n",
       "  <tbody>\n",
       "    <tr>\n",
       "      <th>Unnamed: 0</th>\n",
       "      <td>4.500000</td>\n",
       "      <td>24.500000</td>\n",
       "      <td>24.500000</td>\n",
       "      <td>24.500000</td>\n",
       "      <td>1.500000</td>\n",
       "      <td>4.500000</td>\n",
       "      <td>24.500000</td>\n",
       "      <td>4.500000</td>\n",
       "      <td>14.500000</td>\n",
       "    </tr>\n",
       "    <tr>\n",
       "      <th>Flow*</th>\n",
       "      <td>83.947878</td>\n",
       "      <td>84.303832</td>\n",
       "      <td>84.775831</td>\n",
       "      <td>85.804465</td>\n",
       "      <td>94.084688</td>\n",
       "      <td>87.226486</td>\n",
       "      <td>85.077899</td>\n",
       "      <td>86.246157</td>\n",
       "      <td>85.735142</td>\n",
       "    </tr>\n",
       "    <tr>\n",
       "      <th>P</th>\n",
       "      <td>12.366002</td>\n",
       "      <td>16.438029</td>\n",
       "      <td>21.699813</td>\n",
       "      <td>17.452275</td>\n",
       "      <td>13.901104</td>\n",
       "      <td>12.645872</td>\n",
       "      <td>18.157356</td>\n",
       "      <td>0.046508</td>\n",
       "      <td>11.516849</td>\n",
       "    </tr>\n",
       "    <tr>\n",
       "      <th>Q</th>\n",
       "      <td>77.601915</td>\n",
       "      <td>23.311948</td>\n",
       "      <td>30.190777</td>\n",
       "      <td>81.442837</td>\n",
       "      <td>30.832374</td>\n",
       "      <td>248.779155</td>\n",
       "      <td>60.604839</td>\n",
       "      <td>239.416987</td>\n",
       "      <td>316.364332</td>\n",
       "    </tr>\n",
       "    <tr>\n",
       "      <th>P | F(Q)</th>\n",
       "      <td>90.073833</td>\n",
       "      <td>39.856544</td>\n",
       "      <td>51.996095</td>\n",
       "      <td>99.002345</td>\n",
       "      <td>44.843461</td>\n",
       "      <td>262.375336</td>\n",
       "      <td>78.866962</td>\n",
       "      <td>239.576461</td>\n",
       "      <td>327.999669</td>\n",
       "    </tr>\n",
       "    <tr>\n",
       "      <th>tentative eval</th>\n",
       "      <td>1.022773</td>\n",
       "      <td>0.967347</td>\n",
       "      <td>0.986085</td>\n",
       "      <td>1.028675</td>\n",
       "      <td>1.756680</td>\n",
       "      <td>3.379127</td>\n",
       "      <td>3.211617</td>\n",
       "      <td>0.809383</td>\n",
       "      <td>2.600633</td>\n",
       "    </tr>\n",
       "    <tr>\n",
       "      <th>root detection</th>\n",
       "      <td>0.030220</td>\n",
       "      <td>1.841480</td>\n",
       "      <td>2.359099</td>\n",
       "      <td>0.010688</td>\n",
       "      <td>0.529670</td>\n",
       "      <td>0.033151</td>\n",
       "      <td>5.338214</td>\n",
       "      <td>0.010949</td>\n",
       "      <td>0.023203</td>\n",
       "    </tr>\n",
       "    <tr>\n",
       "      <th>composing flowpipe</th>\n",
       "      <td>19.192891</td>\n",
       "      <td>35.859544</td>\n",
       "      <td>47.189443</td>\n",
       "      <td>42.714036</td>\n",
       "      <td>21.656222</td>\n",
       "      <td>32.662233</td>\n",
       "      <td>67.843146</td>\n",
       "      <td>16.177049</td>\n",
       "      <td>34.155940</td>\n",
       "    </tr>\n",
       "    <tr>\n",
       "      <th>composing atomic</th>\n",
       "      <td>69.077038</td>\n",
       "      <td>0.009595</td>\n",
       "      <td>0.009937</td>\n",
       "      <td>53.851489</td>\n",
       "      <td>20.061568</td>\n",
       "      <td>224.153545</td>\n",
       "      <td>0.019126</td>\n",
       "      <td>221.888905</td>\n",
       "      <td>289.403558</td>\n",
       "    </tr>\n",
       "    <tr>\n",
       "      <th>Total</th>\n",
       "      <td>174.172256</td>\n",
       "      <td>124.337667</td>\n",
       "      <td>136.921216</td>\n",
       "      <td>184.958752</td>\n",
       "      <td>139.068207</td>\n",
       "      <td>349.762131</td>\n",
       "      <td>164.118879</td>\n",
       "      <td>325.971810</td>\n",
       "      <td>413.890973</td>\n",
       "    </tr>\n",
       "  </tbody>\n",
       "</table>\n",
       "</div>"
      ],
      "text/plain": [
       "                        masked  masked_no_symbolic  \\\n",
       "Unnamed: 0            4.500000           24.500000   \n",
       "Flow*                83.947878           84.303832   \n",
       "P                    12.366002           16.438029   \n",
       "Q                    77.601915           23.311948   \n",
       "P | F(Q)             90.073833           39.856544   \n",
       "tentative eval        1.022773            0.967347   \n",
       "root detection        0.030220            1.841480   \n",
       "composing flowpipe   19.192891           35.859544   \n",
       "composing atomic     69.077038            0.009595   \n",
       "Total               174.172256          124.337667   \n",
       "\n",
       "                    masked_no_symbolic_no_selective  masked_no_selective  \\\n",
       "Unnamed: 0                                24.500000            24.500000   \n",
       "Flow*                                     84.775831            85.804465   \n",
       "P                                         21.699813            17.452275   \n",
       "Q                                         30.190777            81.442837   \n",
       "P | F(Q)                                  51.996095            99.002345   \n",
       "tentative eval                             0.986085             1.028675   \n",
       "root detection                             2.359099             0.010688   \n",
       "composing flowpipe                        47.189443            42.714036   \n",
       "composing atomic                           0.009937            53.851489   \n",
       "Total                                    136.921216           184.958752   \n",
       "\n",
       "                    masked_symbolic_low_order    unmasked  \\\n",
       "Unnamed: 0                           1.500000    4.500000   \n",
       "Flow*                               94.084688   87.226486   \n",
       "P                                   13.901104   12.645872   \n",
       "Q                                   30.832374  248.779155   \n",
       "P | F(Q)                            44.843461  262.375336   \n",
       "tentative eval                       1.756680    3.379127   \n",
       "root detection                       0.529670    0.033151   \n",
       "composing flowpipe                  21.656222   32.662233   \n",
       "composing atomic                    20.061568  224.153545   \n",
       "Total                              139.068207  349.762131   \n",
       "\n",
       "                    unmasked_no_symbolic  masked_reversed  unmasked_reversed  \n",
       "Unnamed: 0                     24.500000         4.500000          14.500000  \n",
       "Flow*                          85.077899        86.246157          85.735142  \n",
       "P                              18.157356         0.046508          11.516849  \n",
       "Q                              60.604839       239.416987         316.364332  \n",
       "P | F(Q)                       78.866962       239.576461         327.999669  \n",
       "tentative eval                  3.211617         0.809383           2.600633  \n",
       "root detection                  5.338214         0.010949           0.023203  \n",
       "composing flowpipe             67.843146        16.177049          34.155940  \n",
       "composing atomic                0.019126       221.888905         289.403558  \n",
       "Total                         164.118879       325.971810         413.890973  "
      ]
     },
     "execution_count": 7,
     "metadata": {},
     "output_type": "execute_result"
    }
   ],
   "source": [
    "comparison = pd.DataFrame({\n",
    "    s: total_times.mean()\n",
    "    for s, total_times in total_timess.items()\n",
    "})\n",
    "comparison.columns = series_names\n",
    "comparison"
   ]
  },
  {
   "cell_type": "code",
   "execution_count": 8,
   "metadata": {},
   "outputs": [],
   "source": [
    "comparison.to_csv(\"data/comparison.csv\")"
   ]
  },
  {
   "cell_type": "code",
   "execution_count": 9,
   "metadata": {},
   "outputs": [
    {
     "data": {
      "text/html": [
       "<div>\n",
       "<style scoped>\n",
       "    .dataframe tbody tr th:only-of-type {\n",
       "        vertical-align: middle;\n",
       "    }\n",
       "\n",
       "    .dataframe tbody tr th {\n",
       "        vertical-align: top;\n",
       "    }\n",
       "\n",
       "    .dataframe thead th {\n",
       "        text-align: right;\n",
       "    }\n",
       "</style>\n",
       "<table border=\"1\" class=\"dataframe\">\n",
       "  <thead>\n",
       "    <tr style=\"text-align: right;\">\n",
       "      <th></th>\n",
       "      <th>masked</th>\n",
       "      <th>masked_no_symbolic</th>\n",
       "      <th>masked_no_symbolic_no_selective</th>\n",
       "      <th>masked_no_selective</th>\n",
       "      <th>masked_symbolic_low_order</th>\n",
       "      <th>unmasked</th>\n",
       "      <th>unmasked_no_symbolic</th>\n",
       "      <th>masked_reversed</th>\n",
       "      <th>unmasked_reversed</th>\n",
       "    </tr>\n",
       "  </thead>\n",
       "  <tbody>\n",
       "    <tr>\n",
       "      <th>Unnamed: 0</th>\n",
       "      <td>3.027650</td>\n",
       "      <td>14.577380</td>\n",
       "      <td>14.577380</td>\n",
       "      <td>14.577380</td>\n",
       "      <td>1.290994</td>\n",
       "      <td>3.027650</td>\n",
       "      <td>14.577380</td>\n",
       "      <td>3.027650</td>\n",
       "      <td>3.027650</td>\n",
       "    </tr>\n",
       "    <tr>\n",
       "      <th>Flow*</th>\n",
       "      <td>0.816529</td>\n",
       "      <td>1.240019</td>\n",
       "      <td>1.166172</td>\n",
       "      <td>1.145676</td>\n",
       "      <td>2.378731</td>\n",
       "      <td>6.042096</td>\n",
       "      <td>2.391533</td>\n",
       "      <td>1.269024</td>\n",
       "      <td>1.304141</td>\n",
       "    </tr>\n",
       "    <tr>\n",
       "      <th>P</th>\n",
       "      <td>0.624692</td>\n",
       "      <td>2.891838</td>\n",
       "      <td>4.053856</td>\n",
       "      <td>0.550821</td>\n",
       "      <td>0.447407</td>\n",
       "      <td>1.172638</td>\n",
       "      <td>3.345732</td>\n",
       "      <td>0.007792</td>\n",
       "      <td>0.456476</td>\n",
       "    </tr>\n",
       "    <tr>\n",
       "      <th>Q</th>\n",
       "      <td>6.276223</td>\n",
       "      <td>0.626569</td>\n",
       "      <td>0.820268</td>\n",
       "      <td>2.585989</td>\n",
       "      <td>1.458395</td>\n",
       "      <td>19.057198</td>\n",
       "      <td>2.918463</td>\n",
       "      <td>8.017783</td>\n",
       "      <td>9.453587</td>\n",
       "    </tr>\n",
       "    <tr>\n",
       "      <th>P | F(Q)</th>\n",
       "      <td>6.478545</td>\n",
       "      <td>3.053084</td>\n",
       "      <td>4.120522</td>\n",
       "      <td>2.660900</td>\n",
       "      <td>1.513409</td>\n",
       "      <td>19.051776</td>\n",
       "      <td>4.768496</td>\n",
       "      <td>8.018334</td>\n",
       "      <td>9.458626</td>\n",
       "    </tr>\n",
       "    <tr>\n",
       "      <th>tentative eval</th>\n",
       "      <td>0.040542</td>\n",
       "      <td>0.062409</td>\n",
       "      <td>0.067746</td>\n",
       "      <td>0.076527</td>\n",
       "      <td>0.121345</td>\n",
       "      <td>0.187511</td>\n",
       "      <td>0.224358</td>\n",
       "      <td>0.010433</td>\n",
       "      <td>0.138067</td>\n",
       "    </tr>\n",
       "    <tr>\n",
       "      <th>root detection</th>\n",
       "      <td>0.008756</td>\n",
       "      <td>0.099819</td>\n",
       "      <td>0.099025</td>\n",
       "      <td>0.003595</td>\n",
       "      <td>0.014590</td>\n",
       "      <td>0.009750</td>\n",
       "      <td>0.234796</td>\n",
       "      <td>0.000748</td>\n",
       "      <td>0.004263</td>\n",
       "    </tr>\n",
       "    <tr>\n",
       "      <th>composing flowpipe</th>\n",
       "      <td>0.520375</td>\n",
       "      <td>2.892891</td>\n",
       "      <td>3.983435</td>\n",
       "      <td>0.691489</td>\n",
       "      <td>0.592442</td>\n",
       "      <td>1.187880</td>\n",
       "      <td>4.329612</td>\n",
       "      <td>0.164863</td>\n",
       "      <td>0.485912</td>\n",
       "    </tr>\n",
       "    <tr>\n",
       "      <th>composing atomic</th>\n",
       "      <td>6.288990</td>\n",
       "      <td>0.000530</td>\n",
       "      <td>0.000473</td>\n",
       "      <td>2.163184</td>\n",
       "      <td>0.906587</td>\n",
       "      <td>18.907008</td>\n",
       "      <td>0.000924</td>\n",
       "      <td>7.919964</td>\n",
       "      <td>9.120911</td>\n",
       "    </tr>\n",
       "    <tr>\n",
       "      <th>Total</th>\n",
       "      <td>6.235996</td>\n",
       "      <td>3.277487</td>\n",
       "      <td>4.339160</td>\n",
       "      <td>2.763047</td>\n",
       "      <td>1.846821</td>\n",
       "      <td>24.802127</td>\n",
       "      <td>6.309574</td>\n",
       "      <td>8.280708</td>\n",
       "      <td>9.074436</td>\n",
       "    </tr>\n",
       "  </tbody>\n",
       "</table>\n",
       "</div>"
      ],
      "text/plain": [
       "                      masked  masked_no_symbolic  \\\n",
       "Unnamed: 0          3.027650           14.577380   \n",
       "Flow*               0.816529            1.240019   \n",
       "P                   0.624692            2.891838   \n",
       "Q                   6.276223            0.626569   \n",
       "P | F(Q)            6.478545            3.053084   \n",
       "tentative eval      0.040542            0.062409   \n",
       "root detection      0.008756            0.099819   \n",
       "composing flowpipe  0.520375            2.892891   \n",
       "composing atomic    6.288990            0.000530   \n",
       "Total               6.235996            3.277487   \n",
       "\n",
       "                    masked_no_symbolic_no_selective  masked_no_selective  \\\n",
       "Unnamed: 0                                14.577380            14.577380   \n",
       "Flow*                                      1.166172             1.145676   \n",
       "P                                          4.053856             0.550821   \n",
       "Q                                          0.820268             2.585989   \n",
       "P | F(Q)                                   4.120522             2.660900   \n",
       "tentative eval                             0.067746             0.076527   \n",
       "root detection                             0.099025             0.003595   \n",
       "composing flowpipe                         3.983435             0.691489   \n",
       "composing atomic                           0.000473             2.163184   \n",
       "Total                                      4.339160             2.763047   \n",
       "\n",
       "                    masked_symbolic_low_order   unmasked  \\\n",
       "Unnamed: 0                           1.290994   3.027650   \n",
       "Flow*                                2.378731   6.042096   \n",
       "P                                    0.447407   1.172638   \n",
       "Q                                    1.458395  19.057198   \n",
       "P | F(Q)                             1.513409  19.051776   \n",
       "tentative eval                       0.121345   0.187511   \n",
       "root detection                       0.014590   0.009750   \n",
       "composing flowpipe                   0.592442   1.187880   \n",
       "composing atomic                     0.906587  18.907008   \n",
       "Total                                1.846821  24.802127   \n",
       "\n",
       "                    unmasked_no_symbolic  masked_reversed  unmasked_reversed  \n",
       "Unnamed: 0                     14.577380         3.027650           3.027650  \n",
       "Flow*                           2.391533         1.269024           1.304141  \n",
       "P                               3.345732         0.007792           0.456476  \n",
       "Q                               2.918463         8.017783           9.453587  \n",
       "P | F(Q)                        4.768496         8.018334           9.458626  \n",
       "tentative eval                  0.224358         0.010433           0.138067  \n",
       "root detection                  0.234796         0.000748           0.004263  \n",
       "composing flowpipe              4.329612         0.164863           0.485912  \n",
       "composing atomic                0.000924         7.919964           9.120911  \n",
       "Total                           6.309574         8.280708           9.074436  "
      ]
     },
     "execution_count": 9,
     "metadata": {},
     "output_type": "execute_result"
    }
   ],
   "source": [
    "comparison_stds = pd.DataFrame({\n",
    "    s: total_times.std()\n",
    "    for s, total_times in total_timess.items()\n",
    "})\n",
    "comparison_stds.columns = series_names\n",
    "comparison_stds"
   ]
  },
  {
   "cell_type": "code",
   "execution_count": 10,
   "metadata": {},
   "outputs": [
    {
     "data": {
      "text/html": [
       "<div>\n",
       "<style scoped>\n",
       "    .dataframe tbody tr th:only-of-type {\n",
       "        vertical-align: middle;\n",
       "    }\n",
       "\n",
       "    .dataframe tbody tr th {\n",
       "        vertical-align: top;\n",
       "    }\n",
       "\n",
       "    .dataframe thead th {\n",
       "        text-align: right;\n",
       "    }\n",
       "</style>\n",
       "<table border=\"1\" class=\"dataframe\">\n",
       "  <thead>\n",
       "    <tr style=\"text-align: right;\">\n",
       "      <th></th>\n",
       "      <th>P</th>\n",
       "      <th>Q</th>\n",
       "    </tr>\n",
       "  </thead>\n",
       "  <tbody>\n",
       "    <tr>\n",
       "      <th>masked</th>\n",
       "      <td>12.366002</td>\n",
       "      <td>77.601915</td>\n",
       "    </tr>\n",
       "    <tr>\n",
       "      <th>masked_no_symbolic</th>\n",
       "      <td>16.438029</td>\n",
       "      <td>23.311948</td>\n",
       "    </tr>\n",
       "    <tr>\n",
       "      <th>masked_no_symbolic_no_selective</th>\n",
       "      <td>21.699813</td>\n",
       "      <td>30.190777</td>\n",
       "    </tr>\n",
       "    <tr>\n",
       "      <th>masked_no_selective</th>\n",
       "      <td>17.452275</td>\n",
       "      <td>81.442837</td>\n",
       "    </tr>\n",
       "    <tr>\n",
       "      <th>masked_symbolic_low_order</th>\n",
       "      <td>13.901104</td>\n",
       "      <td>30.832374</td>\n",
       "    </tr>\n",
       "    <tr>\n",
       "      <th>unmasked</th>\n",
       "      <td>12.645872</td>\n",
       "      <td>248.779155</td>\n",
       "    </tr>\n",
       "    <tr>\n",
       "      <th>unmasked_no_symbolic</th>\n",
       "      <td>18.157356</td>\n",
       "      <td>60.604839</td>\n",
       "    </tr>\n",
       "    <tr>\n",
       "      <th>masked_reversed</th>\n",
       "      <td>0.046508</td>\n",
       "      <td>239.416987</td>\n",
       "    </tr>\n",
       "    <tr>\n",
       "      <th>unmasked_reversed</th>\n",
       "      <td>11.516849</td>\n",
       "      <td>316.364332</td>\n",
       "    </tr>\n",
       "  </tbody>\n",
       "</table>\n",
       "</div>"
      ],
      "text/plain": [
       "                                         P           Q\n",
       "masked                           12.366002   77.601915\n",
       "masked_no_symbolic               16.438029   23.311948\n",
       "masked_no_symbolic_no_selective  21.699813   30.190777\n",
       "masked_no_selective              17.452275   81.442837\n",
       "masked_symbolic_low_order        13.901104   30.832374\n",
       "unmasked                         12.645872  248.779155\n",
       "unmasked_no_symbolic             18.157356   60.604839\n",
       "masked_reversed                   0.046508  239.416987\n",
       "unmasked_reversed                11.516849  316.364332"
      ]
     },
     "execution_count": 10,
     "metadata": {},
     "output_type": "execute_result"
    }
   ],
   "source": [
    "comparison2 = comparison.loc[['P', 'Q'],:].transpose()\n",
    "comparison2"
   ]
  },
  {
   "cell_type": "code",
   "execution_count": 11,
   "metadata": {},
   "outputs": [
    {
     "data": {
      "text/plain": [
       "<matplotlib.axes._subplots.AxesSubplot at 0x7f4af1008e20>"
      ]
     },
     "execution_count": 11,
     "metadata": {},
     "output_type": "execute_result"
    },
    {
     "data": {
      "image/png": "[encoded data removed]",
      "text/plain": [
       "<Figure size 432x288 with 1 Axes>"
      ]
     },
     "metadata": {
      "needs_background": "light"
     },
     "output_type": "display_data"
    }
   ],
   "source": [
    "p = comparison2.plot(kind='barh', stacked=True, grid=False)\n",
    "p"
   ]
  },
  {
   "cell_type": "code",
   "execution_count": 12,
   "metadata": {},
   "outputs": [],
   "source": [
    "p.get_figure().savefig('images/comparison-analysis5-bar-chart-1.pdf')"
   ]
  },
  {
   "cell_type": "code",
   "execution_count": 13,
   "metadata": {},
   "outputs": [
    {
     "data": {
      "text/plain": [
       "<matplotlib.axes._subplots.AxesSubplot at 0x7f4aeeefc5b0>"
      ]
     },
     "execution_count": 13,
     "metadata": {},
     "output_type": "execute_result"
    },
    {
     "data": {
      "image/png": "[encoded data removed]",
      "text/plain": [
       "<Figure size 432x288 with 1 Axes>"
      ]
     },
     "metadata": {
      "needs_background": "light"
     },
     "output_type": "display_data"
    }
   ],
   "source": [
    "comparison3 = comparison.loc[['P | F(Q)'],:].transpose()\n",
    "comparison3.plot(kind='barh')"
   ]
  },
  {
   "cell_type": "code",
   "execution_count": 14,
   "metadata": {},
   "outputs": [
    {
     "data": {
      "text/html": [
       "<div>\n",
       "<style scoped>\n",
       "    .dataframe tbody tr th:only-of-type {\n",
       "        vertical-align: middle;\n",
       "    }\n",
       "\n",
       "    .dataframe tbody tr th {\n",
       "        vertical-align: top;\n",
       "    }\n",
       "\n",
       "    .dataframe thead th {\n",
       "        text-align: right;\n",
       "    }\n",
       "</style>\n",
       "<table border=\"1\" class=\"dataframe\">\n",
       "  <thead>\n",
       "    <tr style=\"text-align: right;\">\n",
       "      <th></th>\n",
       "      <th>Flow*</th>\n",
       "      <th>P</th>\n",
       "      <th>Q</th>\n",
       "    </tr>\n",
       "  </thead>\n",
       "  <tbody>\n",
       "    <tr>\n",
       "      <th>masked</th>\n",
       "      <td>83.947878</td>\n",
       "      <td>12.366002</td>\n",
       "      <td>77.601915</td>\n",
       "    </tr>\n",
       "    <tr>\n",
       "      <th>masked_no_symbolic</th>\n",
       "      <td>84.303832</td>\n",
       "      <td>16.438029</td>\n",
       "      <td>23.311948</td>\n",
       "    </tr>\n",
       "    <tr>\n",
       "      <th>masked_no_symbolic_no_selective</th>\n",
       "      <td>84.775831</td>\n",
       "      <td>21.699813</td>\n",
       "      <td>30.190777</td>\n",
       "    </tr>\n",
       "    <tr>\n",
       "      <th>masked_no_selective</th>\n",
       "      <td>85.804465</td>\n",
       "      <td>17.452275</td>\n",
       "      <td>81.442837</td>\n",
       "    </tr>\n",
       "    <tr>\n",
       "      <th>masked_symbolic_low_order</th>\n",
       "      <td>94.084688</td>\n",
       "      <td>13.901104</td>\n",
       "      <td>30.832374</td>\n",
       "    </tr>\n",
       "    <tr>\n",
       "      <th>unmasked</th>\n",
       "      <td>87.226486</td>\n",
       "      <td>12.645872</td>\n",
       "      <td>248.779155</td>\n",
       "    </tr>\n",
       "    <tr>\n",
       "      <th>unmasked_no_symbolic</th>\n",
       "      <td>85.077899</td>\n",
       "      <td>18.157356</td>\n",
       "      <td>60.604839</td>\n",
       "    </tr>\n",
       "    <tr>\n",
       "      <th>masked_reversed</th>\n",
       "      <td>86.246157</td>\n",
       "      <td>0.046508</td>\n",
       "      <td>239.416987</td>\n",
       "    </tr>\n",
       "    <tr>\n",
       "      <th>unmasked_reversed</th>\n",
       "      <td>85.735142</td>\n",
       "      <td>11.516849</td>\n",
       "      <td>316.364332</td>\n",
       "    </tr>\n",
       "  </tbody>\n",
       "</table>\n",
       "</div>"
      ],
      "text/plain": [
       "                                     Flow*          P           Q\n",
       "masked                           83.947878  12.366002   77.601915\n",
       "masked_no_symbolic               84.303832  16.438029   23.311948\n",
       "masked_no_symbolic_no_selective  84.775831  21.699813   30.190777\n",
       "masked_no_selective              85.804465  17.452275   81.442837\n",
       "masked_symbolic_low_order        94.084688  13.901104   30.832374\n",
       "unmasked                         87.226486  12.645872  248.779155\n",
       "unmasked_no_symbolic             85.077899  18.157356   60.604839\n",
       "masked_reversed                  86.246157   0.046508  239.416987\n",
       "unmasked_reversed                85.735142  11.516849  316.364332"
      ]
     },
     "execution_count": 14,
     "metadata": {},
     "output_type": "execute_result"
    }
   ],
   "source": [
    "comparison4 = comparison.loc[['Flow*', 'P', 'Q'],:].transpose()\n",
    "comparison4"
   ]
  },
  {
   "cell_type": "code",
   "execution_count": 15,
   "metadata": {},
   "outputs": [
    {
     "data": {
      "text/plain": [
       "<matplotlib.axes._subplots.AxesSubplot at 0x7f4aeedaa220>"
      ]
     },
     "execution_count": 15,
     "metadata": {},
     "output_type": "execute_result"
    },
    {
     "data": {
      "image/png": "[encoded data removed]",
      "text/plain": [
       "<Figure size 432x288 with 1 Axes>"
      ]
     },
     "metadata": {
      "needs_background": "light"
     },
     "output_type": "display_data"
    }
   ],
   "source": [
    "p = comparison4.plot(kind='barh', stacked=True, grid=False)\n",
    "p"
   ]
  },
  {
   "cell_type": "code",
   "execution_count": 16,
   "metadata": {},
   "outputs": [],
   "source": [
    "p.get_figure().savefig('images/comparison-analysis5-bar-chart-2.pdf')"
   ]
  },
  {
   "cell_type": "code",
   "execution_count": 17,
   "metadata": {},
   "outputs": [],
   "source": [
    "comparison5 = comparison4.copy()"
   ]
  },
  {
   "cell_type": "code",
   "execution_count": 18,
   "metadata": {},
   "outputs": [
    {
     "data": {
      "text/plain": [
       "masked                             0.256461\n",
       "masked_no_symbolic                 0.283858\n",
       "masked_no_symbolic_no_selective    0.254795\n",
       "masked_no_selective                0.259175\n",
       "masked_symbolic_low_order          0.250041\n",
       "unmasked                           1.110617\n",
       "unmasked_no_symbolic               0.278785\n",
       "masked_reversed                    0.262158\n",
       "unmasked_reversed                  0.274651\n",
       "dtype: float64"
      ]
     },
     "execution_count": 18,
     "metadata": {},
     "output_type": "execute_result"
    }
   ],
   "source": [
    "rem = comparison.loc['Total', :] - comparison4.sum(axis=1)\n",
    "rem"
   ]
  },
  {
   "cell_type": "code",
   "execution_count": 19,
   "metadata": {},
   "outputs": [],
   "source": [
    "comparison5.loc[:,'Remainder'] = rem"
   ]
  },
  {
   "cell_type": "code",
   "execution_count": 20,
   "metadata": {},
   "outputs": [
    {
     "data": {
      "text/html": [
       "<div>\n",
       "<style scoped>\n",
       "    .dataframe tbody tr th:only-of-type {\n",
       "        vertical-align: middle;\n",
       "    }\n",
       "\n",
       "    .dataframe tbody tr th {\n",
       "        vertical-align: top;\n",
       "    }\n",
       "\n",
       "    .dataframe thead th {\n",
       "        text-align: right;\n",
       "    }\n",
       "</style>\n",
       "<table border=\"1\" class=\"dataframe\">\n",
       "  <thead>\n",
       "    <tr style=\"text-align: right;\">\n",
       "      <th></th>\n",
       "      <th>Flow*</th>\n",
       "      <th>P</th>\n",
       "      <th>Q</th>\n",
       "      <th>Remainder</th>\n",
       "    </tr>\n",
       "  </thead>\n",
       "  <tbody>\n",
       "    <tr>\n",
       "      <th>masked</th>\n",
       "      <td>83.947878</td>\n",
       "      <td>12.366002</td>\n",
       "      <td>77.601915</td>\n",
       "      <td>0.256461</td>\n",
       "    </tr>\n",
       "    <tr>\n",
       "      <th>masked_no_symbolic</th>\n",
       "      <td>84.303832</td>\n",
       "      <td>16.438029</td>\n",
       "      <td>23.311948</td>\n",
       "      <td>0.283858</td>\n",
       "    </tr>\n",
       "    <tr>\n",
       "      <th>masked_no_symbolic_no_selective</th>\n",
       "      <td>84.775831</td>\n",
       "      <td>21.699813</td>\n",
       "      <td>30.190777</td>\n",
       "      <td>0.254795</td>\n",
       "    </tr>\n",
       "    <tr>\n",
       "      <th>masked_no_selective</th>\n",
       "      <td>85.804465</td>\n",
       "      <td>17.452275</td>\n",
       "      <td>81.442837</td>\n",
       "      <td>0.259175</td>\n",
       "    </tr>\n",
       "    <tr>\n",
       "      <th>masked_symbolic_low_order</th>\n",
       "      <td>94.084688</td>\n",
       "      <td>13.901104</td>\n",
       "      <td>30.832374</td>\n",
       "      <td>0.250041</td>\n",
       "    </tr>\n",
       "    <tr>\n",
       "      <th>unmasked</th>\n",
       "      <td>87.226486</td>\n",
       "      <td>12.645872</td>\n",
       "      <td>248.779155</td>\n",
       "      <td>1.110617</td>\n",
       "    </tr>\n",
       "    <tr>\n",
       "      <th>unmasked_no_symbolic</th>\n",
       "      <td>85.077899</td>\n",
       "      <td>18.157356</td>\n",
       "      <td>60.604839</td>\n",
       "      <td>0.278785</td>\n",
       "    </tr>\n",
       "    <tr>\n",
       "      <th>masked_reversed</th>\n",
       "      <td>86.246157</td>\n",
       "      <td>0.046508</td>\n",
       "      <td>239.416987</td>\n",
       "      <td>0.262158</td>\n",
       "    </tr>\n",
       "    <tr>\n",
       "      <th>unmasked_reversed</th>\n",
       "      <td>85.735142</td>\n",
       "      <td>11.516849</td>\n",
       "      <td>316.364332</td>\n",
       "      <td>0.274651</td>\n",
       "    </tr>\n",
       "  </tbody>\n",
       "</table>\n",
       "</div>"
      ],
      "text/plain": [
       "                                     Flow*          P           Q  Remainder\n",
       "masked                           83.947878  12.366002   77.601915   0.256461\n",
       "masked_no_symbolic               84.303832  16.438029   23.311948   0.283858\n",
       "masked_no_symbolic_no_selective  84.775831  21.699813   30.190777   0.254795\n",
       "masked_no_selective              85.804465  17.452275   81.442837   0.259175\n",
       "masked_symbolic_low_order        94.084688  13.901104   30.832374   0.250041\n",
       "unmasked                         87.226486  12.645872  248.779155   1.110617\n",
       "unmasked_no_symbolic             85.077899  18.157356   60.604839   0.278785\n",
       "masked_reversed                  86.246157   0.046508  239.416987   0.262158\n",
       "unmasked_reversed                85.735142  11.516849  316.364332   0.274651"
      ]
     },
     "execution_count": 20,
     "metadata": {},
     "output_type": "execute_result"
    }
   ],
   "source": [
    "comparison5"
   ]
  },
  {
   "cell_type": "code",
   "execution_count": 21,
   "metadata": {},
   "outputs": [],
   "source": [
    "comparison5.to_csv(\"data/comparison-remainder.csv\")"
   ]
  },
  {
   "cell_type": "code",
   "execution_count": 22,
   "metadata": {},
   "outputs": [
    {
     "data": {
      "text/plain": [
       "<matplotlib.axes._subplots.AxesSubplot at 0x7f4aeed1c190>"
      ]
     },
     "execution_count": 22,
     "metadata": {},
     "output_type": "execute_result"
    },
    {
     "data": {
      "image/png": "[encoded data removed]",
      "text/plain": [
       "<Figure size 432x288 with 1 Axes>"
      ]
     },
     "metadata": {
      "needs_background": "light"
     },
     "output_type": "display_data"
    }
   ],
   "source": [
    "comparison5.plot(kind='barh', stacked=True, grid=False)"
   ]
  },
  {
   "cell_type": "code",
   "execution_count": 74,
   "metadata": {},
   "outputs": [],
   "source": [
    "_.get_figure().savefig(\n",
    "    'images/key-comparison-bar-chart.pdf')"
   ]
  },
  {
   "cell_type": "code",
   "execution_count": 75,
   "metadata": {},
   "outputs": [],
   "source": [
    "comparison6 = comparison.loc[['Flow*', 'P', 'Q', 'Total'], :].transpose()"
   ]
  },
  {
   "cell_type": "code",
   "execution_count": 76,
   "metadata": {},
   "outputs": [
    {
     "data": {
      "text/html": [
       "<div>\n",
       "<style scoped>\n",
       "    .dataframe tbody tr th:only-of-type {\n",
       "        vertical-align: middle;\n",
       "    }\n",
       "\n",
       "    .dataframe tbody tr th {\n",
       "        vertical-align: top;\n",
       "    }\n",
       "\n",
       "    .dataframe thead th {\n",
       "        text-align: right;\n",
       "    }\n",
       "</style>\n",
       "<table border=\"1\" class=\"dataframe\">\n",
       "  <thead>\n",
       "    <tr style=\"text-align: right;\">\n",
       "      <th></th>\n",
       "      <th>Flow*</th>\n",
       "      <th>P</th>\n",
       "      <th>Q</th>\n",
       "      <th>Total</th>\n",
       "    </tr>\n",
       "  </thead>\n",
       "  <tbody>\n",
       "    <tr>\n",
       "      <th>Masked</th>\n",
       "      <td>92.548980</td>\n",
       "      <td>5.981380</td>\n",
       "      <td>0.365059</td>\n",
       "      <td>99.141424</td>\n",
       "    </tr>\n",
       "    <tr>\n",
       "      <th>Unmasked</th>\n",
       "      <td>92.416499</td>\n",
       "      <td>18.755163</td>\n",
       "      <td>83.170755</td>\n",
       "      <td>194.590718</td>\n",
       "    </tr>\n",
       "    <tr>\n",
       "      <th>Masked R</th>\n",
       "      <td>92.546300</td>\n",
       "      <td>0.263067</td>\n",
       "      <td>32.291056</td>\n",
       "      <td>125.365845</td>\n",
       "    </tr>\n",
       "    <tr>\n",
       "      <th>Unmasked R</th>\n",
       "      <td>92.391264</td>\n",
       "      <td>19.835058</td>\n",
       "      <td>82.918375</td>\n",
       "      <td>195.389225</td>\n",
       "    </tr>\n",
       "  </tbody>\n",
       "</table>\n",
       "</div>"
      ],
      "text/plain": [
       "                Flow*          P          Q       Total\n",
       "Masked      92.548980   5.981380   0.365059   99.141424\n",
       "Unmasked    92.416499  18.755163  83.170755  194.590718\n",
       "Masked R    92.546300   0.263067  32.291056  125.365845\n",
       "Unmasked R  92.391264  19.835058  82.918375  195.389225"
      ]
     },
     "execution_count": 76,
     "metadata": {},
     "output_type": "execute_result"
    }
   ],
   "source": [
    "comparison6"
   ]
  },
  {
   "cell_type": "code",
   "execution_count": 77,
   "metadata": {},
   "outputs": [],
   "source": [
    "comparison6.to_csv('data/key-comparison.csv')"
   ]
  },
  {
   "cell_type": "code",
   "execution_count": null,
   "metadata": {},
   "outputs": [],
   "source": []
  }
 ],
 "metadata": {
  "kernelspec": {
   "display_name": "Python 3",
   "language": "python",
   "name": "python3"
  },
  "language_info": {
   "codemirror_mode": {
    "name": "ipython",
    "version": 3
   },
   "file_extension": ".py",
   "mimetype": "text/x-python",
   "name": "python",
   "nbconvert_exporter": "python",
   "pygments_lexer": "ipython3",
   "version": "3.8.2"
  },
  "notify_time": "5"
 },
 "nbformat": 4,
 "nbformat_minor": 2
}
