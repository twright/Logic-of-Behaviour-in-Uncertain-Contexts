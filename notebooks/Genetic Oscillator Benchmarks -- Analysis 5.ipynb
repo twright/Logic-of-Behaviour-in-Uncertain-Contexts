{
 "cells": [
  {
   "cell_type": "code",
   "execution_count": 48,
   "metadata": {},
   "outputs": [],
   "source": [
    "%matplotlib inline\n",
    "import pandas as pd"
   ]
  },
  {
   "cell_type": "markdown",
   "metadata": {},
   "source": [
    "## Load results"
   ]
  },
  {
   "cell_type": "code",
   "execution_count": 49,
   "metadata": {},
   "outputs": [],
   "source": [
    "series = [\n",
    "    'masked',\n",
    "    'unmasked',\n",
    "    'masked_reversed',\n",
    "    'unmasked_reversed',\n",
    "]\n",
    "series_names = [\n",
    "    'Masked',\n",
    "    'Unmasked',\n",
    "    'Masked R',\n",
    "    'Unmasked R',\n",
    "]\n",
    "total_timess = {\n",
    "   s: pd.read_csv(f'data/analysis5_2_{s}.csv')\n",
    "   for s in series \n",
    "}"
   ]
  },
  {
   "cell_type": "markdown",
   "metadata": {},
   "source": [
    "## Raw results"
   ]
  },
  {
   "cell_type": "code",
   "execution_count": 50,
   "metadata": {},
   "outputs": [],
   "source": [
    "from ipywidgets import interact"
   ]
  },
  {
   "cell_type": "code",
   "execution_count": 54,
   "metadata": {},
   "outputs": [],
   "source": [
    "total_timess['masked'] = total_timess['masked'][0:10]\n",
    "total_timess['unmasked'] = total_timess['unmasked'][0:10]\n",
    "total_timess['masked_reversed'] = total_timess['masked_reversed'][0:10]\n",
    "total_timess['unmasked_reversed'] = total_timess['unmasked_reversed'][10:20]"
   ]
  },
  {
   "cell_type": "code",
   "execution_count": 55,
   "metadata": {
    "scrolled": true
   },
   "outputs": [
    {
     "data": {
      "application/vnd.jupyter.widget-view+json": {
       "model_id": "5c5e0bfa1fbd4139833b74c7dc304b53",
       "version_major": 2,
       "version_minor": 0
      },
      "text/plain": [
       "interactive(children=(Dropdown(description='series', options=('masked', 'unmasked', 'masked_reversed', 'unmask…"
      ]
     },
     "metadata": {},
     "output_type": "display_data"
    }
   ],
   "source": [
    "@interact\n",
    "def _(series=series):\n",
    "    return total_timess[series]"
   ]
  },
  {
   "cell_type": "markdown",
   "metadata": {},
   "source": [
    "## Comparison"
   ]
  },
  {
   "cell_type": "code",
   "execution_count": 56,
   "metadata": {},
   "outputs": [
    {
     "data": {
      "text/html": [
       "<div>\n",
       "<style scoped>\n",
       "    .dataframe tbody tr th:only-of-type {\n",
       "        vertical-align: middle;\n",
       "    }\n",
       "\n",
       "    .dataframe tbody tr th {\n",
       "        vertical-align: top;\n",
       "    }\n",
       "\n",
       "    .dataframe thead th {\n",
       "        text-align: right;\n",
       "    }\n",
       "</style>\n",
       "<table border=\"1\" class=\"dataframe\">\n",
       "  <thead>\n",
       "    <tr style=\"text-align: right;\">\n",
       "      <th></th>\n",
       "      <th>Masked</th>\n",
       "      <th>Unmasked</th>\n",
       "      <th>Masked R</th>\n",
       "      <th>Unmasked R</th>\n",
       "    </tr>\n",
       "  </thead>\n",
       "  <tbody>\n",
       "    <tr>\n",
       "      <th>Flow*</th>\n",
       "      <td>92.548980</td>\n",
       "      <td>92.416499</td>\n",
       "      <td>92.546300</td>\n",
       "      <td>92.391264</td>\n",
       "    </tr>\n",
       "    <tr>\n",
       "      <th>P</th>\n",
       "      <td>5.981380</td>\n",
       "      <td>18.755163</td>\n",
       "      <td>0.263067</td>\n",
       "      <td>19.835058</td>\n",
       "    </tr>\n",
       "    <tr>\n",
       "      <th>Q</th>\n",
       "      <td>0.365059</td>\n",
       "      <td>83.170755</td>\n",
       "      <td>32.291056</td>\n",
       "      <td>82.918375</td>\n",
       "    </tr>\n",
       "    <tr>\n",
       "      <th>P | F(Q)</th>\n",
       "      <td>6.464681</td>\n",
       "      <td>102.046390</td>\n",
       "      <td>32.686984</td>\n",
       "      <td>102.870154</td>\n",
       "    </tr>\n",
       "    <tr>\n",
       "      <th>tentative eval</th>\n",
       "      <td>0.825631</td>\n",
       "      <td>4.475867</td>\n",
       "      <td>0.842335</td>\n",
       "      <td>3.614993</td>\n",
       "    </tr>\n",
       "    <tr>\n",
       "      <th>root detection</th>\n",
       "      <td>0.002542</td>\n",
       "      <td>0.037751</td>\n",
       "      <td>0.011226</td>\n",
       "      <td>0.037826</td>\n",
       "    </tr>\n",
       "    <tr>\n",
       "      <th>composing flowpipe</th>\n",
       "      <td>5.180127</td>\n",
       "      <td>92.552414</td>\n",
       "      <td>30.358828</td>\n",
       "      <td>92.572644</td>\n",
       "    </tr>\n",
       "    <tr>\n",
       "      <th>Total</th>\n",
       "      <td>99.141424</td>\n",
       "      <td>194.590718</td>\n",
       "      <td>125.365845</td>\n",
       "      <td>195.389225</td>\n",
       "    </tr>\n",
       "  </tbody>\n",
       "</table>\n",
       "</div>"
      ],
      "text/plain": [
       "                       Masked    Unmasked    Masked R  Unmasked R\n",
       "Flow*               92.548980   92.416499   92.546300   92.391264\n",
       "P                    5.981380   18.755163    0.263067   19.835058\n",
       "Q                    0.365059   83.170755   32.291056   82.918375\n",
       "P | F(Q)             6.464681  102.046390   32.686984  102.870154\n",
       "tentative eval       0.825631    4.475867    0.842335    3.614993\n",
       "root detection       0.002542    0.037751    0.011226    0.037826\n",
       "composing flowpipe   5.180127   92.552414   30.358828   92.572644\n",
       "Total               99.141424  194.590718  125.365845  195.389225"
      ]
     },
     "execution_count": 56,
     "metadata": {},
     "output_type": "execute_result"
    }
   ],
   "source": [
    "comparison = pd.DataFrame({\n",
    "    s: total_times.mean()\n",
    "    for s, total_times in total_timess.items()\n",
    "})\n",
    "comparison.columns = series_names\n",
    "comparison"
   ]
  },
  {
   "cell_type": "code",
   "execution_count": 57,
   "metadata": {},
   "outputs": [],
   "source": [
    "comparison.to_csv(\"data/comparison.csv\")"
   ]
  },
  {
   "cell_type": "code",
   "execution_count": 58,
   "metadata": {},
   "outputs": [
    {
     "data": {
      "text/html": [
       "<div>\n",
       "<style scoped>\n",
       "    .dataframe tbody tr th:only-of-type {\n",
       "        vertical-align: middle;\n",
       "    }\n",
       "\n",
       "    .dataframe tbody tr th {\n",
       "        vertical-align: top;\n",
       "    }\n",
       "\n",
       "    .dataframe thead th {\n",
       "        text-align: right;\n",
       "    }\n",
       "</style>\n",
       "<table border=\"1\" class=\"dataframe\">\n",
       "  <thead>\n",
       "    <tr style=\"text-align: right;\">\n",
       "      <th></th>\n",
       "      <th>Masked</th>\n",
       "      <th>Unmasked</th>\n",
       "      <th>Masked R</th>\n",
       "      <th>Unmasked R</th>\n",
       "    </tr>\n",
       "  </thead>\n",
       "  <tbody>\n",
       "    <tr>\n",
       "      <th>Flow*</th>\n",
       "      <td>0.117283</td>\n",
       "      <td>0.161680</td>\n",
       "      <td>0.134010</td>\n",
       "      <td>0.325332</td>\n",
       "    </tr>\n",
       "    <tr>\n",
       "      <th>P</th>\n",
       "      <td>0.020018</td>\n",
       "      <td>0.057019</td>\n",
       "      <td>0.021313</td>\n",
       "      <td>0.063465</td>\n",
       "    </tr>\n",
       "    <tr>\n",
       "      <th>Q</th>\n",
       "      <td>0.011164</td>\n",
       "      <td>0.135219</td>\n",
       "      <td>0.041216</td>\n",
       "      <td>0.188548</td>\n",
       "    </tr>\n",
       "    <tr>\n",
       "      <th>P | F(Q)</th>\n",
       "      <td>0.024588</td>\n",
       "      <td>0.161514</td>\n",
       "      <td>0.062955</td>\n",
       "      <td>0.198097</td>\n",
       "    </tr>\n",
       "    <tr>\n",
       "      <th>tentative eval</th>\n",
       "      <td>0.014160</td>\n",
       "      <td>0.018737</td>\n",
       "      <td>0.019455</td>\n",
       "      <td>0.011270</td>\n",
       "    </tr>\n",
       "    <tr>\n",
       "      <th>root detection</th>\n",
       "      <td>0.000024</td>\n",
       "      <td>0.000092</td>\n",
       "      <td>0.000062</td>\n",
       "      <td>0.000218</td>\n",
       "    </tr>\n",
       "    <tr>\n",
       "      <th>composing flowpipe</th>\n",
       "      <td>0.019146</td>\n",
       "      <td>0.154315</td>\n",
       "      <td>0.044890</td>\n",
       "      <td>0.181844</td>\n",
       "    </tr>\n",
       "    <tr>\n",
       "      <th>Total</th>\n",
       "      <td>0.125326</td>\n",
       "      <td>0.312365</td>\n",
       "      <td>0.150726</td>\n",
       "      <td>0.257265</td>\n",
       "    </tr>\n",
       "  </tbody>\n",
       "</table>\n",
       "</div>"
      ],
      "text/plain": [
       "                      Masked  Unmasked  Masked R  Unmasked R\n",
       "Flow*               0.117283  0.161680  0.134010    0.325332\n",
       "P                   0.020018  0.057019  0.021313    0.063465\n",
       "Q                   0.011164  0.135219  0.041216    0.188548\n",
       "P | F(Q)            0.024588  0.161514  0.062955    0.198097\n",
       "tentative eval      0.014160  0.018737  0.019455    0.011270\n",
       "root detection      0.000024  0.000092  0.000062    0.000218\n",
       "composing flowpipe  0.019146  0.154315  0.044890    0.181844\n",
       "Total               0.125326  0.312365  0.150726    0.257265"
      ]
     },
     "execution_count": 58,
     "metadata": {},
     "output_type": "execute_result"
    }
   ],
   "source": [
    "comparison_stds = pd.DataFrame({\n",
    "    s: total_times.std()\n",
    "    for s, total_times in total_timess.items()\n",
    "})\n",
    "comparison_stds.columns = series_names\n",
    "comparison_stds"
   ]
  },
  {
   "cell_type": "code",
   "execution_count": 59,
   "metadata": {},
   "outputs": [
    {
     "data": {
      "text/html": [
       "<div>\n",
       "<style scoped>\n",
       "    .dataframe tbody tr th:only-of-type {\n",
       "        vertical-align: middle;\n",
       "    }\n",
       "\n",
       "    .dataframe tbody tr th {\n",
       "        vertical-align: top;\n",
       "    }\n",
       "\n",
       "    .dataframe thead th {\n",
       "        text-align: right;\n",
       "    }\n",
       "</style>\n",
       "<table border=\"1\" class=\"dataframe\">\n",
       "  <thead>\n",
       "    <tr style=\"text-align: right;\">\n",
       "      <th></th>\n",
       "      <th>P</th>\n",
       "      <th>Q</th>\n",
       "    </tr>\n",
       "  </thead>\n",
       "  <tbody>\n",
       "    <tr>\n",
       "      <th>Masked</th>\n",
       "      <td>5.981380</td>\n",
       "      <td>0.365059</td>\n",
       "    </tr>\n",
       "    <tr>\n",
       "      <th>Unmasked</th>\n",
       "      <td>18.755163</td>\n",
       "      <td>83.170755</td>\n",
       "    </tr>\n",
       "    <tr>\n",
       "      <th>Masked R</th>\n",
       "      <td>0.263067</td>\n",
       "      <td>32.291056</td>\n",
       "    </tr>\n",
       "    <tr>\n",
       "      <th>Unmasked R</th>\n",
       "      <td>19.835058</td>\n",
       "      <td>82.918375</td>\n",
       "    </tr>\n",
       "  </tbody>\n",
       "</table>\n",
       "</div>"
      ],
      "text/plain": [
       "                    P          Q\n",
       "Masked       5.981380   0.365059\n",
       "Unmasked    18.755163  83.170755\n",
       "Masked R     0.263067  32.291056\n",
       "Unmasked R  19.835058  82.918375"
      ]
     },
     "execution_count": 59,
     "metadata": {},
     "output_type": "execute_result"
    }
   ],
   "source": [
    "comparison2 = comparison.loc[['P', 'Q'],:].transpose()\n",
    "comparison2"
   ]
  },
  {
   "cell_type": "code",
   "execution_count": 60,
   "metadata": {},
   "outputs": [
    {
     "data": {
      "text/plain": [
       "<matplotlib.axes._subplots.AxesSubplot at 0x7f02461170d0>"
      ]
     },
     "execution_count": 60,
     "metadata": {},
     "output_type": "execute_result"
    },
    {
     "data": {
      "image/png": "[encoded data removed]",
      "text/plain": [
       "<Figure size 432x288 with 1 Axes>"
      ]
     },
     "metadata": {
      "needs_background": "light"
     },
     "output_type": "display_data"
    }
   ],
   "source": [
    "p = comparison2.plot(kind='barh', stacked=True, grid=False)\n",
    "p"
   ]
  },
  {
   "cell_type": "code",
   "execution_count": 61,
   "metadata": {},
   "outputs": [],
   "source": [
    "p.get_figure().savefig('images/comparison-analysis5-bar-chart-1.pdf')"
   ]
  },
  {
   "cell_type": "code",
   "execution_count": 63,
   "metadata": {},
   "outputs": [
    {
     "data": {
      "text/plain": [
       "<matplotlib.axes._subplots.AxesSubplot at 0x7f024608e2b0>"
      ]
     },
     "execution_count": 63,
     "metadata": {},
     "output_type": "execute_result"
    },
    {
     "data": {
      "image/png": "[encoded data removed]",
      "text/plain": [
       "<Figure size 432x288 with 1 Axes>"
      ]
     },
     "metadata": {
      "needs_background": "light"
     },
     "output_type": "display_data"
    }
   ],
   "source": [
    "comparison3 = comparison.loc[['P | F(Q)'],:].transpose()\n",
    "comparison3.plot(kind='barh')"
   ]
  },
  {
   "cell_type": "code",
   "execution_count": 64,
   "metadata": {},
   "outputs": [
    {
     "data": {
      "text/html": [
       "<div>\n",
       "<style scoped>\n",
       "    .dataframe tbody tr th:only-of-type {\n",
       "        vertical-align: middle;\n",
       "    }\n",
       "\n",
       "    .dataframe tbody tr th {\n",
       "        vertical-align: top;\n",
       "    }\n",
       "\n",
       "    .dataframe thead th {\n",
       "        text-align: right;\n",
       "    }\n",
       "</style>\n",
       "<table border=\"1\" class=\"dataframe\">\n",
       "  <thead>\n",
       "    <tr style=\"text-align: right;\">\n",
       "      <th></th>\n",
       "      <th>Flow*</th>\n",
       "      <th>P</th>\n",
       "      <th>Q</th>\n",
       "    </tr>\n",
       "  </thead>\n",
       "  <tbody>\n",
       "    <tr>\n",
       "      <th>Masked</th>\n",
       "      <td>92.548980</td>\n",
       "      <td>5.981380</td>\n",
       "      <td>0.365059</td>\n",
       "    </tr>\n",
       "    <tr>\n",
       "      <th>Unmasked</th>\n",
       "      <td>92.416499</td>\n",
       "      <td>18.755163</td>\n",
       "      <td>83.170755</td>\n",
       "    </tr>\n",
       "    <tr>\n",
       "      <th>Masked R</th>\n",
       "      <td>92.546300</td>\n",
       "      <td>0.263067</td>\n",
       "      <td>32.291056</td>\n",
       "    </tr>\n",
       "    <tr>\n",
       "      <th>Unmasked R</th>\n",
       "      <td>92.391264</td>\n",
       "      <td>19.835058</td>\n",
       "      <td>82.918375</td>\n",
       "    </tr>\n",
       "  </tbody>\n",
       "</table>\n",
       "</div>"
      ],
      "text/plain": [
       "                Flow*          P          Q\n",
       "Masked      92.548980   5.981380   0.365059\n",
       "Unmasked    92.416499  18.755163  83.170755\n",
       "Masked R    92.546300   0.263067  32.291056\n",
       "Unmasked R  92.391264  19.835058  82.918375"
      ]
     },
     "execution_count": 64,
     "metadata": {},
     "output_type": "execute_result"
    }
   ],
   "source": [
    "comparison4 = comparison.loc[['Flow*', 'P', 'Q'],:].transpose()\n",
    "comparison4"
   ]
  },
  {
   "cell_type": "code",
   "execution_count": 65,
   "metadata": {},
   "outputs": [
    {
     "data": {
      "text/plain": [
       "<matplotlib.axes._subplots.AxesSubplot at 0x7f024608a6a0>"
      ]
     },
     "execution_count": 65,
     "metadata": {},
     "output_type": "execute_result"
    },
    {
     "data": {
      "image/png": "[encoded data removed]",
      "text/plain": [
       "<Figure size 432x288 with 1 Axes>"
      ]
     },
     "metadata": {
      "needs_background": "light"
     },
     "output_type": "display_data"
    }
   ],
   "source": [
    "p = comparison4.plot(kind='barh', stacked=True, grid=False)\n",
    "p"
   ]
  },
  {
   "cell_type": "code",
   "execution_count": 66,
   "metadata": {},
   "outputs": [],
   "source": [
    "p.get_figure().savefig('images/comparison-analysis5-bar-chart-2.pdf')"
   ]
  },
  {
   "cell_type": "code",
   "execution_count": 67,
   "metadata": {},
   "outputs": [],
   "source": [
    "comparison5 = comparison4.copy()"
   ]
  },
  {
   "cell_type": "code",
   "execution_count": 68,
   "metadata": {},
   "outputs": [
    {
     "data": {
      "text/plain": [
       "Masked        0.246005\n",
       "Unmasked      0.248301\n",
       "Masked R      0.265423\n",
       "Unmasked R    0.244528\n",
       "dtype: float64"
      ]
     },
     "execution_count": 68,
     "metadata": {},
     "output_type": "execute_result"
    }
   ],
   "source": [
    "rem = comparison.loc['Total', :] - comparison4.sum(axis=1)\n",
    "rem"
   ]
  },
  {
   "cell_type": "code",
   "execution_count": 69,
   "metadata": {},
   "outputs": [],
   "source": [
    "comparison5.loc[:,'Remainder'] = rem"
   ]
  },
  {
   "cell_type": "code",
   "execution_count": 70,
   "metadata": {},
   "outputs": [
    {
     "data": {
      "text/html": [
       "<div>\n",
       "<style scoped>\n",
       "    .dataframe tbody tr th:only-of-type {\n",
       "        vertical-align: middle;\n",
       "    }\n",
       "\n",
       "    .dataframe tbody tr th {\n",
       "        vertical-align: top;\n",
       "    }\n",
       "\n",
       "    .dataframe thead th {\n",
       "        text-align: right;\n",
       "    }\n",
       "</style>\n",
       "<table border=\"1\" class=\"dataframe\">\n",
       "  <thead>\n",
       "    <tr style=\"text-align: right;\">\n",
       "      <th></th>\n",
       "      <th>Flow*</th>\n",
       "      <th>P</th>\n",
       "      <th>Q</th>\n",
       "      <th>Remainder</th>\n",
       "    </tr>\n",
       "  </thead>\n",
       "  <tbody>\n",
       "    <tr>\n",
       "      <th>Masked</th>\n",
       "      <td>92.548980</td>\n",
       "      <td>5.981380</td>\n",
       "      <td>0.365059</td>\n",
       "      <td>0.246005</td>\n",
       "    </tr>\n",
       "    <tr>\n",
       "      <th>Unmasked</th>\n",
       "      <td>92.416499</td>\n",
       "      <td>18.755163</td>\n",
       "      <td>83.170755</td>\n",
       "      <td>0.248301</td>\n",
       "    </tr>\n",
       "    <tr>\n",
       "      <th>Masked R</th>\n",
       "      <td>92.546300</td>\n",
       "      <td>0.263067</td>\n",
       "      <td>32.291056</td>\n",
       "      <td>0.265423</td>\n",
       "    </tr>\n",
       "    <tr>\n",
       "      <th>Unmasked R</th>\n",
       "      <td>92.391264</td>\n",
       "      <td>19.835058</td>\n",
       "      <td>82.918375</td>\n",
       "      <td>0.244528</td>\n",
       "    </tr>\n",
       "  </tbody>\n",
       "</table>\n",
       "</div>"
      ],
      "text/plain": [
       "                Flow*          P          Q  Remainder\n",
       "Masked      92.548980   5.981380   0.365059   0.246005\n",
       "Unmasked    92.416499  18.755163  83.170755   0.248301\n",
       "Masked R    92.546300   0.263067  32.291056   0.265423\n",
       "Unmasked R  92.391264  19.835058  82.918375   0.244528"
      ]
     },
     "execution_count": 70,
     "metadata": {},
     "output_type": "execute_result"
    }
   ],
   "source": [
    "comparison5"
   ]
  },
  {
   "cell_type": "code",
   "execution_count": 71,
   "metadata": {},
   "outputs": [],
   "source": [
    "comparison5.to_csv(\"data/comparison-remainder.csv\")"
   ]
  },
  {
   "cell_type": "code",
   "execution_count": 73,
   "metadata": {},
   "outputs": [
    {
     "data": {
      "text/plain": [
       "<matplotlib.axes._subplots.AxesSubplot at 0x7f0245f4fcd0>"
      ]
     },
     "execution_count": 73,
     "metadata": {},
     "output_type": "execute_result"
    },
    {
     "data": {
      "image/png": "[encoded data removed]",
      "text/plain": [
       "<Figure size 432x288 with 1 Axes>"
      ]
     },
     "metadata": {
      "needs_background": "light"
     },
     "output_type": "display_data"
    }
   ],
   "source": [
    "comparison5.plot(kind='barh', stacked=True, grid=False)"
   ]
  },
  {
   "cell_type": "code",
   "execution_count": 74,
   "metadata": {},
   "outputs": [],
   "source": [
    "_.get_figure().savefig(\n",
    "    'images/key-comparison-bar-chart.pdf')"
   ]
  },
  {
   "cell_type": "code",
   "execution_count": 75,
   "metadata": {},
   "outputs": [],
   "source": [
    "comparison6 = comparison.loc[['Flow*', 'P', 'Q', 'Total'], :].transpose()"
   ]
  },
  {
   "cell_type": "code",
   "execution_count": 76,
   "metadata": {},
   "outputs": [
    {
     "data": {
      "text/html": [
       "<div>\n",
       "<style scoped>\n",
       "    .dataframe tbody tr th:only-of-type {\n",
       "        vertical-align: middle;\n",
       "    }\n",
       "\n",
       "    .dataframe tbody tr th {\n",
       "        vertical-align: top;\n",
       "    }\n",
       "\n",
       "    .dataframe thead th {\n",
       "        text-align: right;\n",
       "    }\n",
       "</style>\n",
       "<table border=\"1\" class=\"dataframe\">\n",
       "  <thead>\n",
       "    <tr style=\"text-align: right;\">\n",
       "      <th></th>\n",
       "      <th>Flow*</th>\n",
       "      <th>P</th>\n",
       "      <th>Q</th>\n",
       "      <th>Total</th>\n",
       "    </tr>\n",
       "  </thead>\n",
       "  <tbody>\n",
       "    <tr>\n",
       "      <th>Masked</th>\n",
       "      <td>92.548980</td>\n",
       "      <td>5.981380</td>\n",
       "      <td>0.365059</td>\n",
       "      <td>99.141424</td>\n",
       "    </tr>\n",
       "    <tr>\n",
       "      <th>Unmasked</th>\n",
       "      <td>92.416499</td>\n",
       "      <td>18.755163</td>\n",
       "      <td>83.170755</td>\n",
       "      <td>194.590718</td>\n",
       "    </tr>\n",
       "    <tr>\n",
       "      <th>Masked R</th>\n",
       "      <td>92.546300</td>\n",
       "      <td>0.263067</td>\n",
       "      <td>32.291056</td>\n",
       "      <td>125.365845</td>\n",
       "    </tr>\n",
       "    <tr>\n",
       "      <th>Unmasked R</th>\n",
       "      <td>92.391264</td>\n",
       "      <td>19.835058</td>\n",
       "      <td>82.918375</td>\n",
       "      <td>195.389225</td>\n",
       "    </tr>\n",
       "  </tbody>\n",
       "</table>\n",
       "</div>"
      ],
      "text/plain": [
       "                Flow*          P          Q       Total\n",
       "Masked      92.548980   5.981380   0.365059   99.141424\n",
       "Unmasked    92.416499  18.755163  83.170755  194.590718\n",
       "Masked R    92.546300   0.263067  32.291056  125.365845\n",
       "Unmasked R  92.391264  19.835058  82.918375  195.389225"
      ]
     },
     "execution_count": 76,
     "metadata": {},
     "output_type": "execute_result"
    }
   ],
   "source": [
    "comparison6"
   ]
  },
  {
   "cell_type": "code",
   "execution_count": 77,
   "metadata": {},
   "outputs": [],
   "source": [
    "comparison6.to_csv('data/key-comparison.csv')"
   ]
  },
  {
   "cell_type": "code",
   "execution_count": null,
   "metadata": {},
   "outputs": [],
   "source": []
  }
 ],
 "metadata": {
  "kernelspec": {
   "display_name": "Python 3",
   "language": "python",
   "name": "python3"
  },
  "language_info": {
   "codemirror_mode": {
    "name": "ipython",
    "version": 3
   },
   "file_extension": ".py",
   "mimetype": "text/x-python",
   "name": "python",
   "nbconvert_exporter": "python",
   "pygments_lexer": "ipython3",
   "version": "3.8.2"
  },
  "notify_time": "5"
 },
 "nbformat": 4,
 "nbformat_minor": 2
}
