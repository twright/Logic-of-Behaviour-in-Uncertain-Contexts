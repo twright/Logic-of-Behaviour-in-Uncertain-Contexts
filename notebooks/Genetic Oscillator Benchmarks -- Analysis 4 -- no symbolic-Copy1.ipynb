{
 "cells": [
  {
   "cell_type": "code",
   "execution_count": 1,
   "metadata": {},
   "outputs": [],
   "source": [
    "%matplotlib inline\n",
    "from genetic_oscillator_benchmarking import *"
   ]
  },
  {
   "cell_type": "markdown",
   "metadata": {},
   "source": [
    "## Properties"
   ]
  },
  {
   "cell_type": "code",
   "execution_count": 2,
   "metadata": {
    "scrolled": true
   },
   "outputs": [
    {
     "data": {
      "text/plain": [
       "Atomic(x6 > 1)"
      ]
     },
     "execution_count": 2,
     "metadata": {},
     "output_type": "execute_result"
    }
   ],
   "source": [
    "P = Atomic(var(\"x6\") > 1)\n",
    "P"
   ]
  },
  {
   "cell_type": "code",
   "execution_count": 3,
   "metadata": {},
   "outputs": [
    {
     "data": {
      "text/plain": [
       "Atomic(x4 < 0.0044)"
      ]
     },
     "execution_count": 3,
     "metadata": {},
     "output_type": "execute_result"
    }
   ],
   "source": [
    "Q = Atomic(var(\"x4\") < 11/2500); Q"
   ]
  },
  {
   "cell_type": "code",
   "execution_count": 4,
   "metadata": {},
   "outputs": [],
   "source": [
    "I = RIF(3, 3.5)"
   ]
  },
  {
   "cell_type": "markdown",
   "metadata": {},
   "source": [
    "## Launch Runs"
   ]
  },
  {
   "cell_type": "code",
   "execution_count": 41,
   "metadata": {},
   "outputs": [],
   "source": [
    "restart_pool()"
   ]
  },
  {
   "cell_type": "code",
   "execution_count": 54,
   "metadata": {},
   "outputs": [],
   "source": [
    "num_runs = 30\n",
    "duration = 1\n",
    "warmup = 10"
   ]
  },
  {
   "cell_type": "code",
   "execution_count": 63,
   "metadata": {},
   "outputs": [],
   "source": [
    "results_unmasked = gen_results_async(\n",
    "    num_runs,\n",
    "    P | G(I, Q),\n",
    "    duration,\n",
    "    task_description='Unmasked P | G(Q)',\n",
    "    warmup=warmup,\n",
    "    use_masks=False,\n",
    "    symbolic_composition=False,\n",
    ")"
   ]
  },
  {
   "cell_type": "code",
   "execution_count": 57,
   "metadata": {},
   "outputs": [],
   "source": [
    "results_masked = gen_results_async(\n",
    "    num_runs,\n",
    "    P | G(I, Q),\n",
    "    duration,\n",
    "    task_description='Masked P | G(Q)',\n",
    "    warmup=warmup,\n",
    "    use_masks=True,\n",
    "    symbolic_composition=False,\n",
    ")"
   ]
  },
  {
   "cell_type": "code",
   "execution_count": 59,
   "metadata": {},
   "outputs": [],
   "source": [
    "results_unmasked_reversed = gen_results_async(\n",
    "    num_runs,\n",
    "    G(I, Q) | P,\n",
    "    duration,\n",
    "    task_description='Unmasked G(Q) | P',\n",
    "    warmup=warmup,\n",
    "    use_masks=False,\n",
    "    symbolic_composition=False,\n",
    ")"
   ]
  },
  {
   "cell_type": "code",
   "execution_count": 60,
   "metadata": {},
   "outputs": [],
   "source": [
    "results_masked_reversed = gen_results_async(\n",
    "    num_runs,\n",
    "    G(I, Q) | P,\n",
    "    duration,\n",
    "    task_description='Masked G(Q) | P',\n",
    "    warmup=warmup,\n",
    "    use_masks=True,\n",
    "    symbolic_composition=False,\n",
    ")"
   ]
  },
  {
   "cell_type": "code",
   "execution_count": 17,
   "metadata": {},
   "outputs": [
    {
     "data": {
      "text/plain": [
       "Signal([0.0000000000000000 .. 1.0000000000000000], [([0.0000000000000000 .. 0.86562109364728990], True)], mask=None)"
      ]
     },
     "execution_count": 17,
     "metadata": {},
     "output_type": "execute_result"
    }
   ],
   "source": [
    "results_unmasked[0]['future'].result()[0]"
   ]
  },
  {
   "cell_type": "markdown",
   "metadata": {},
   "source": [
    "# Results"
   ]
  },
  {
   "cell_type": "code",
   "execution_count": 68,
   "metadata": {},
   "outputs": [
    {
     "data": {
      "text/plain": [
       "['Precomposing Contexts',\n",
       " 'restoring globals',\n",
       " 'capturing globals [on exit]',\n",
       " 'Running Flow*',\n",
       " 'mask intersect check',\n",
       " 'tentative eval',\n",
       " 'composing flowpipe',\n",
       " 'whole domain eval',\n",
       " 'post retrieve',\n",
       " 'root detection',\n",
       " 'root amalgamation',\n",
       " 'prepare in check',\n",
       " 'check boolean [unguarded]',\n",
       " 'observer.check',\n",
       " 'Monitoring atomic x6 > 1',\n",
       " 'Monitoring atomic x4 < 0.0044',\n",
       " 'Monitoring Signal for x6 > 1 | G([3.0000000000000000 .. 3.5000000000000000], x4 < 0.0044)']"
      ]
     },
     "execution_count": 68,
     "metadata": {},
     "output_type": "execute_result"
    }
   ],
   "source": [
    "results_masked.result()[0]['result'][2].events"
   ]
  },
  {
   "cell_type": "code",
   "execution_count": 70,
   "metadata": {},
   "outputs": [],
   "source": [
    "cols_full = [\n",
    "    'Running Flow*',\n",
    "    f'Monitoring atomic {P}',\n",
    "    f'Monitoring atomic {Q}',\n",
    "    [\n",
    "        f'Monitoring Signal for {P | G(I, Q)}',\n",
    "        f'Monitoring Signal for {G(I, Q) | P}',\n",
    "    ],\n",
    "    'tentative eval',\n",
    "    'root detection',\n",
    "    'composing flowpipe',\n",
    "]\n",
    "cols_short = [\n",
    "    'Flow*', 'P', 'Q', 'P | G(Q)',\n",
    "    'tentative eval',\n",
    "    'root detection',\n",
    "    'composing flowpipe',\n",
    "]"
   ]
  },
  {
   "cell_type": "markdown",
   "metadata": {},
   "source": [
    "## Raw results"
   ]
  },
  {
   "cell_type": "code",
   "execution_count": 79,
   "metadata": {},
   "outputs": [
    {
     "data": {
      "text/html": [
       "<div>\n",
       "<style scoped>\n",
       "    .dataframe tbody tr th:only-of-type {\n",
       "        vertical-align: middle;\n",
       "    }\n",
       "\n",
       "    .dataframe tbody tr th {\n",
       "        vertical-align: top;\n",
       "    }\n",
       "\n",
       "    .dataframe thead th {\n",
       "        text-align: right;\n",
       "    }\n",
       "</style>\n",
       "<table border=\"1\" class=\"dataframe\">\n",
       "  <thead>\n",
       "    <tr style=\"text-align: right;\">\n",
       "      <th></th>\n",
       "      <th>Flow*</th>\n",
       "      <th>P</th>\n",
       "      <th>Q</th>\n",
       "      <th>P | G(Q)</th>\n",
       "      <th>tentative eval</th>\n",
       "      <th>root detection</th>\n",
       "      <th>composing flowpipe</th>\n",
       "      <th>Total</th>\n",
       "    </tr>\n",
       "  </thead>\n",
       "  <tbody>\n",
       "    <tr>\n",
       "      <th>0</th>\n",
       "      <td>52.037740</td>\n",
       "      <td>12.544316</td>\n",
       "      <td>78.657089</td>\n",
       "      <td>92.232064</td>\n",
       "      <td>3.454933</td>\n",
       "      <td>4.858968</td>\n",
       "      <td>79.739956</td>\n",
       "      <td>144.422863</td>\n",
       "    </tr>\n",
       "    <tr>\n",
       "      <th>1</th>\n",
       "      <td>51.375145</td>\n",
       "      <td>10.753928</td>\n",
       "      <td>66.280497</td>\n",
       "      <td>77.110278</td>\n",
       "      <td>2.831358</td>\n",
       "      <td>3.764237</td>\n",
       "      <td>68.005957</td>\n",
       "      <td>128.607895</td>\n",
       "    </tr>\n",
       "    <tr>\n",
       "      <th>2</th>\n",
       "      <td>54.747924</td>\n",
       "      <td>10.425753</td>\n",
       "      <td>58.642540</td>\n",
       "      <td>69.155701</td>\n",
       "      <td>2.861885</td>\n",
       "      <td>3.312476</td>\n",
       "      <td>60.606175</td>\n",
       "      <td>124.019189</td>\n",
       "    </tr>\n",
       "    <tr>\n",
       "      <th>3</th>\n",
       "      <td>66.718146</td>\n",
       "      <td>10.680459</td>\n",
       "      <td>56.093126</td>\n",
       "      <td>66.863914</td>\n",
       "      <td>2.795583</td>\n",
       "      <td>3.255904</td>\n",
       "      <td>58.560597</td>\n",
       "      <td>133.735158</td>\n",
       "    </tr>\n",
       "    <tr>\n",
       "      <th>4</th>\n",
       "      <td>57.689099</td>\n",
       "      <td>10.508207</td>\n",
       "      <td>55.692533</td>\n",
       "      <td>66.284383</td>\n",
       "      <td>2.688141</td>\n",
       "      <td>3.239457</td>\n",
       "      <td>58.138569</td>\n",
       "      <td>124.100422</td>\n",
       "    </tr>\n",
       "    <tr>\n",
       "      <th>5</th>\n",
       "      <td>61.798969</td>\n",
       "      <td>10.691152</td>\n",
       "      <td>56.943864</td>\n",
       "      <td>67.724546</td>\n",
       "      <td>2.769047</td>\n",
       "      <td>3.302589</td>\n",
       "      <td>59.353515</td>\n",
       "      <td>129.682358</td>\n",
       "    </tr>\n",
       "    <tr>\n",
       "      <th>6</th>\n",
       "      <td>63.486842</td>\n",
       "      <td>10.620809</td>\n",
       "      <td>56.197312</td>\n",
       "      <td>66.908410</td>\n",
       "      <td>2.833085</td>\n",
       "      <td>3.321421</td>\n",
       "      <td>58.506237</td>\n",
       "      <td>130.539204</td>\n",
       "    </tr>\n",
       "    <tr>\n",
       "      <th>7</th>\n",
       "      <td>49.136164</td>\n",
       "      <td>10.752277</td>\n",
       "      <td>55.916455</td>\n",
       "      <td>66.758264</td>\n",
       "      <td>2.765877</td>\n",
       "      <td>3.239021</td>\n",
       "      <td>58.436995</td>\n",
       "      <td>116.007704</td>\n",
       "    </tr>\n",
       "    <tr>\n",
       "      <th>8</th>\n",
       "      <td>50.412652</td>\n",
       "      <td>10.612638</td>\n",
       "      <td>60.614251</td>\n",
       "      <td>71.315902</td>\n",
       "      <td>2.705148</td>\n",
       "      <td>3.457326</td>\n",
       "      <td>62.840851</td>\n",
       "      <td>121.859987</td>\n",
       "    </tr>\n",
       "    <tr>\n",
       "      <th>9</th>\n",
       "      <td>50.378213</td>\n",
       "      <td>13.945332</td>\n",
       "      <td>56.239496</td>\n",
       "      <td>70.283216</td>\n",
       "      <td>3.155831</td>\n",
       "      <td>3.405138</td>\n",
       "      <td>61.380609</td>\n",
       "      <td>120.818205</td>\n",
       "    </tr>\n",
       "    <tr>\n",
       "      <th>10</th>\n",
       "      <td>50.035890</td>\n",
       "      <td>10.560178</td>\n",
       "      <td>56.232455</td>\n",
       "      <td>66.879498</td>\n",
       "      <td>2.810485</td>\n",
       "      <td>3.227177</td>\n",
       "      <td>58.607086</td>\n",
       "      <td>117.051280</td>\n",
       "    </tr>\n",
       "    <tr>\n",
       "      <th>11</th>\n",
       "      <td>54.854138</td>\n",
       "      <td>10.626392</td>\n",
       "      <td>56.732777</td>\n",
       "      <td>67.453153</td>\n",
       "      <td>2.869167</td>\n",
       "      <td>3.273704</td>\n",
       "      <td>58.901517</td>\n",
       "      <td>122.432305</td>\n",
       "    </tr>\n",
       "    <tr>\n",
       "      <th>12</th>\n",
       "      <td>54.137623</td>\n",
       "      <td>14.662648</td>\n",
       "      <td>58.542907</td>\n",
       "      <td>73.286370</td>\n",
       "      <td>3.246102</td>\n",
       "      <td>3.542590</td>\n",
       "      <td>64.068771</td>\n",
       "      <td>127.568008</td>\n",
       "    </tr>\n",
       "    <tr>\n",
       "      <th>13</th>\n",
       "      <td>49.243847</td>\n",
       "      <td>11.065631</td>\n",
       "      <td>55.641039</td>\n",
       "      <td>66.789154</td>\n",
       "      <td>2.734938</td>\n",
       "      <td>3.239554</td>\n",
       "      <td>58.573873</td>\n",
       "      <td>116.157330</td>\n",
       "    </tr>\n",
       "    <tr>\n",
       "      <th>14</th>\n",
       "      <td>49.057647</td>\n",
       "      <td>10.686108</td>\n",
       "      <td>66.890326</td>\n",
       "      <td>77.660298</td>\n",
       "      <td>2.872188</td>\n",
       "      <td>3.794749</td>\n",
       "      <td>68.499548</td>\n",
       "      <td>126.850169</td>\n",
       "    </tr>\n",
       "    <tr>\n",
       "      <th>15</th>\n",
       "      <td>56.630236</td>\n",
       "      <td>13.344142</td>\n",
       "      <td>64.599854</td>\n",
       "      <td>78.043063</td>\n",
       "      <td>3.235883</td>\n",
       "      <td>3.818218</td>\n",
       "      <td>68.445610</td>\n",
       "      <td>134.828531</td>\n",
       "    </tr>\n",
       "    <tr>\n",
       "      <th>16</th>\n",
       "      <td>50.007706</td>\n",
       "      <td>11.933514</td>\n",
       "      <td>66.124088</td>\n",
       "      <td>78.164576</td>\n",
       "      <td>3.051426</td>\n",
       "      <td>3.811207</td>\n",
       "      <td>68.740273</td>\n",
       "      <td>128.295017</td>\n",
       "    </tr>\n",
       "    <tr>\n",
       "      <th>17</th>\n",
       "      <td>51.241628</td>\n",
       "      <td>10.331809</td>\n",
       "      <td>55.365790</td>\n",
       "      <td>65.781958</td>\n",
       "      <td>2.605354</td>\n",
       "      <td>3.211967</td>\n",
       "      <td>57.764338</td>\n",
       "      <td>117.155943</td>\n",
       "    </tr>\n",
       "    <tr>\n",
       "      <th>18</th>\n",
       "      <td>46.738995</td>\n",
       "      <td>9.446237</td>\n",
       "      <td>56.325032</td>\n",
       "      <td>68.922640</td>\n",
       "      <td>2.849614</td>\n",
       "      <td>3.484639</td>\n",
       "      <td>57.022557</td>\n",
       "      <td>115.776421</td>\n",
       "    </tr>\n",
       "    <tr>\n",
       "      <th>19</th>\n",
       "      <td>44.234759</td>\n",
       "      <td>9.857352</td>\n",
       "      <td>53.290082</td>\n",
       "      <td>63.234877</td>\n",
       "      <td>2.601032</td>\n",
       "      <td>3.055843</td>\n",
       "      <td>55.427218</td>\n",
       "      <td>107.582983</td>\n",
       "    </tr>\n",
       "  </tbody>\n",
       "</table>\n",
       "</div>"
      ],
      "text/plain": [
       "        Flow*          P          Q   P | G(Q)  tentative eval  \\\n",
       "0   52.037740  12.544316  78.657089  92.232064        3.454933   \n",
       "1   51.375145  10.753928  66.280497  77.110278        2.831358   \n",
       "2   54.747924  10.425753  58.642540  69.155701        2.861885   \n",
       "3   66.718146  10.680459  56.093126  66.863914        2.795583   \n",
       "4   57.689099  10.508207  55.692533  66.284383        2.688141   \n",
       "5   61.798969  10.691152  56.943864  67.724546        2.769047   \n",
       "6   63.486842  10.620809  56.197312  66.908410        2.833085   \n",
       "7   49.136164  10.752277  55.916455  66.758264        2.765877   \n",
       "8   50.412652  10.612638  60.614251  71.315902        2.705148   \n",
       "9   50.378213  13.945332  56.239496  70.283216        3.155831   \n",
       "10  50.035890  10.560178  56.232455  66.879498        2.810485   \n",
       "11  54.854138  10.626392  56.732777  67.453153        2.869167   \n",
       "12  54.137623  14.662648  58.542907  73.286370        3.246102   \n",
       "13  49.243847  11.065631  55.641039  66.789154        2.734938   \n",
       "14  49.057647  10.686108  66.890326  77.660298        2.872188   \n",
       "15  56.630236  13.344142  64.599854  78.043063        3.235883   \n",
       "16  50.007706  11.933514  66.124088  78.164576        3.051426   \n",
       "17  51.241628  10.331809  55.365790  65.781958        2.605354   \n",
       "18  46.738995   9.446237  56.325032  68.922640        2.849614   \n",
       "19  44.234759   9.857352  53.290082  63.234877        2.601032   \n",
       "\n",
       "    root detection  composing flowpipe       Total  \n",
       "0         4.858968           79.739956  144.422863  \n",
       "1         3.764237           68.005957  128.607895  \n",
       "2         3.312476           60.606175  124.019189  \n",
       "3         3.255904           58.560597  133.735158  \n",
       "4         3.239457           58.138569  124.100422  \n",
       "5         3.302589           59.353515  129.682358  \n",
       "6         3.321421           58.506237  130.539204  \n",
       "7         3.239021           58.436995  116.007704  \n",
       "8         3.457326           62.840851  121.859987  \n",
       "9         3.405138           61.380609  120.818205  \n",
       "10        3.227177           58.607086  117.051280  \n",
       "11        3.273704           58.901517  122.432305  \n",
       "12        3.542590           64.068771  127.568008  \n",
       "13        3.239554           58.573873  116.157330  \n",
       "14        3.794749           68.499548  126.850169  \n",
       "15        3.818218           68.445610  134.828531  \n",
       "16        3.811207           68.740273  128.295017  \n",
       "17        3.211967           57.764338  117.155943  \n",
       "18        3.484639           57.022557  115.776421  \n",
       "19        3.055843           55.427218  107.582983  "
      ]
     },
     "execution_count": 79,
     "metadata": {},
     "output_type": "execute_result"
    }
   ],
   "source": [
    "times_unmasked = total_times(\n",
    "    results_unmasked.result(),\n",
    "    cols_full,\n",
    "    cols_short,\n",
    ")\n",
    "times_unmasked"
   ]
  },
  {
   "cell_type": "code",
   "execution_count": 80,
   "metadata": {},
   "outputs": [
    {
     "data": {
      "text/plain": [
       "5.695459372461529"
      ]
     },
     "execution_count": 80,
     "metadata": {},
     "output_type": "execute_result"
    }
   ],
   "source": [
    "times_unmasked['Flow*'].std()"
   ]
  },
  {
   "cell_type": "markdown",
   "metadata": {},
   "source": [
    "## Save results"
   ]
  },
  {
   "cell_type": "code",
   "execution_count": 82,
   "metadata": {},
   "outputs": [],
   "source": [
    "series = ['masked', 'unmasked',\n",
    "          'masked_reversed', 'unmasked_reversed']\n",
    "# total_timess = {\n",
    "#    s: pd.load_csv(f'data/analysis3_raw_{s}.csv')\n",
    "#    for s in series \n",
    "# }\n",
    "total_timess = {\n",
    "    s: total_times(eval(f'results_{s}').result(), cols_full, cols_short)\n",
    "    for s in series \n",
    "}"
   ]
  },
  {
   "cell_type": "code",
   "execution_count": 100,
   "metadata": {},
   "outputs": [],
   "source": [
    "for s, d in total_timess.items():\n",
    "    d.to_csv(f'data/analysis4_no_symbolic_raw_fixed_{s}.csv',\n",
    "             index=False)"
   ]
  },
  {
   "cell_type": "code",
   "execution_count": 89,
   "metadata": {},
   "outputs": [],
   "source": [
    "series_names = [\n",
    "    'Masked',\n",
    "    'Unmasked',\n",
    "    'Masked R',\n",
    "    'Unmasked R',\n",
    "]"
   ]
  },
  {
   "cell_type": "code",
   "execution_count": 90,
   "metadata": {},
   "outputs": [
    {
     "data": {
      "text/html": [
       "<div>\n",
       "<style scoped>\n",
       "    .dataframe tbody tr th:only-of-type {\n",
       "        vertical-align: middle;\n",
       "    }\n",
       "\n",
       "    .dataframe tbody tr th {\n",
       "        vertical-align: top;\n",
       "    }\n",
       "\n",
       "    .dataframe thead th {\n",
       "        text-align: right;\n",
       "    }\n",
       "</style>\n",
       "<table border=\"1\" class=\"dataframe\">\n",
       "  <thead>\n",
       "    <tr style=\"text-align: right;\">\n",
       "      <th></th>\n",
       "      <th>Masked</th>\n",
       "      <th>Unmasked</th>\n",
       "      <th>Masked R</th>\n",
       "      <th>Unmasked R</th>\n",
       "    </tr>\n",
       "  </thead>\n",
       "  <tbody>\n",
       "    <tr>\n",
       "      <th>Flow*</th>\n",
       "      <td>62.203230</td>\n",
       "      <td>53.198168</td>\n",
       "      <td>56.241524</td>\n",
       "      <td>65.440130</td>\n",
       "    </tr>\n",
       "    <tr>\n",
       "      <th>P</th>\n",
       "      <td>4.510850</td>\n",
       "      <td>11.202444</td>\n",
       "      <td>3.827142</td>\n",
       "      <td>14.569493</td>\n",
       "    </tr>\n",
       "    <tr>\n",
       "      <th>Q</th>\n",
       "      <td>17.824091</td>\n",
       "      <td>59.551076</td>\n",
       "      <td>36.729903</td>\n",
       "      <td>67.733270</td>\n",
       "    </tr>\n",
       "    <tr>\n",
       "      <th>P | G(Q)</th>\n",
       "      <td>22.435891</td>\n",
       "      <td>71.042613</td>\n",
       "      <td>41.028832</td>\n",
       "      <td>82.775339</td>\n",
       "    </tr>\n",
       "    <tr>\n",
       "      <th>tentative eval</th>\n",
       "      <td>0.680032</td>\n",
       "      <td>2.886854</td>\n",
       "      <td>0.910306</td>\n",
       "      <td>2.563380</td>\n",
       "    </tr>\n",
       "    <tr>\n",
       "      <th>root detection</th>\n",
       "      <td>1.141466</td>\n",
       "      <td>3.480809</td>\n",
       "      <td>2.105310</td>\n",
       "      <td>3.998113</td>\n",
       "    </tr>\n",
       "    <tr>\n",
       "      <th>composing flowpipe</th>\n",
       "      <td>19.818726</td>\n",
       "      <td>62.081013</td>\n",
       "      <td>36.335060</td>\n",
       "      <td>71.419187</td>\n",
       "    </tr>\n",
       "    <tr>\n",
       "      <th>Total</th>\n",
       "      <td>84.821867</td>\n",
       "      <td>124.374549</td>\n",
       "      <td>97.436658</td>\n",
       "      <td>148.372361</td>\n",
       "    </tr>\n",
       "  </tbody>\n",
       "</table>\n",
       "</div>"
      ],
      "text/plain": [
       "                       Masked    Unmasked   Masked R  Unmasked R\n",
       "Flow*               62.203230   53.198168  56.241524   65.440130\n",
       "P                    4.510850   11.202444   3.827142   14.569493\n",
       "Q                   17.824091   59.551076  36.729903   67.733270\n",
       "P | G(Q)            22.435891   71.042613  41.028832   82.775339\n",
       "tentative eval       0.680032    2.886854   0.910306    2.563380\n",
       "root detection       1.141466    3.480809   2.105310    3.998113\n",
       "composing flowpipe  19.818726   62.081013  36.335060   71.419187\n",
       "Total               84.821867  124.374549  97.436658  148.372361"
      ]
     },
     "execution_count": 90,
     "metadata": {},
     "output_type": "execute_result"
    }
   ],
   "source": [
    "comparison = pd.DataFrame({\n",
    "    s: total_times.mean()\n",
    "    for s, total_times in total_timess.items()\n",
    "})\n",
    "comparison.columns = series_names\n",
    "comparison"
   ]
  },
  {
   "cell_type": "code",
   "execution_count": 91,
   "metadata": {},
   "outputs": [
    {
     "data": {
      "text/html": [
       "<div>\n",
       "<style scoped>\n",
       "    .dataframe tbody tr th:only-of-type {\n",
       "        vertical-align: middle;\n",
       "    }\n",
       "\n",
       "    .dataframe tbody tr th {\n",
       "        vertical-align: top;\n",
       "    }\n",
       "\n",
       "    .dataframe thead th {\n",
       "        text-align: right;\n",
       "    }\n",
       "</style>\n",
       "<table border=\"1\" class=\"dataframe\">\n",
       "  <thead>\n",
       "    <tr style=\"text-align: right;\">\n",
       "      <th></th>\n",
       "      <th>Masked</th>\n",
       "      <th>Unmasked</th>\n",
       "      <th>Masked R</th>\n",
       "      <th>Unmasked R</th>\n",
       "    </tr>\n",
       "  </thead>\n",
       "  <tbody>\n",
       "    <tr>\n",
       "      <th>Flow*</th>\n",
       "      <td>9.271114</td>\n",
       "      <td>5.695459</td>\n",
       "      <td>10.871657</td>\n",
       "      <td>7.735923</td>\n",
       "    </tr>\n",
       "    <tr>\n",
       "      <th>P</th>\n",
       "      <td>0.747356</td>\n",
       "      <td>1.372832</td>\n",
       "      <td>0.594588</td>\n",
       "      <td>2.565025</td>\n",
       "    </tr>\n",
       "    <tr>\n",
       "      <th>Q</th>\n",
       "      <td>2.362839</td>\n",
       "      <td>6.096992</td>\n",
       "      <td>4.373150</td>\n",
       "      <td>7.835957</td>\n",
       "    </tr>\n",
       "    <tr>\n",
       "      <th>P | G(Q)</th>\n",
       "      <td>2.807102</td>\n",
       "      <td>6.753457</td>\n",
       "      <td>4.827006</td>\n",
       "      <td>9.658324</td>\n",
       "    </tr>\n",
       "    <tr>\n",
       "      <th>tentative eval</th>\n",
       "      <td>0.110441</td>\n",
       "      <td>0.227195</td>\n",
       "      <td>0.122147</td>\n",
       "      <td>0.319535</td>\n",
       "    </tr>\n",
       "    <tr>\n",
       "      <th>root detection</th>\n",
       "      <td>0.150946</td>\n",
       "      <td>0.396194</td>\n",
       "      <td>0.319645</td>\n",
       "      <td>0.567115</td>\n",
       "    </tr>\n",
       "    <tr>\n",
       "      <th>composing flowpipe</th>\n",
       "      <td>2.479677</td>\n",
       "      <td>5.914275</td>\n",
       "      <td>4.121043</td>\n",
       "      <td>8.227508</td>\n",
       "    </tr>\n",
       "    <tr>\n",
       "      <th>Total</th>\n",
       "      <td>10.760819</td>\n",
       "      <td>8.387741</td>\n",
       "      <td>14.189973</td>\n",
       "      <td>14.815410</td>\n",
       "    </tr>\n",
       "  </tbody>\n",
       "</table>\n",
       "</div>"
      ],
      "text/plain": [
       "                       Masked  Unmasked   Masked R  Unmasked R\n",
       "Flow*                9.271114  5.695459  10.871657    7.735923\n",
       "P                    0.747356  1.372832   0.594588    2.565025\n",
       "Q                    2.362839  6.096992   4.373150    7.835957\n",
       "P | G(Q)             2.807102  6.753457   4.827006    9.658324\n",
       "tentative eval       0.110441  0.227195   0.122147    0.319535\n",
       "root detection       0.150946  0.396194   0.319645    0.567115\n",
       "composing flowpipe   2.479677  5.914275   4.121043    8.227508\n",
       "Total               10.760819  8.387741  14.189973   14.815410"
      ]
     },
     "execution_count": 91,
     "metadata": {},
     "output_type": "execute_result"
    }
   ],
   "source": [
    "comparison_stds = pd.DataFrame({\n",
    "    s: total_times.std()\n",
    "    for s, total_times in total_timess.items()\n",
    "})\n",
    "comparison_stds.columns = series_names\n",
    "comparison_stds"
   ]
  },
  {
   "cell_type": "code",
   "execution_count": 87,
   "metadata": {},
   "outputs": [
    {
     "data": {
      "text/html": [
       "<div>\n",
       "<style scoped>\n",
       "    .dataframe tbody tr th:only-of-type {\n",
       "        vertical-align: middle;\n",
       "    }\n",
       "\n",
       "    .dataframe tbody tr th {\n",
       "        vertical-align: top;\n",
       "    }\n",
       "\n",
       "    .dataframe thead th {\n",
       "        text-align: right;\n",
       "    }\n",
       "</style>\n",
       "<table border=\"1\" class=\"dataframe\">\n",
       "  <thead>\n",
       "    <tr style=\"text-align: right;\">\n",
       "      <th></th>\n",
       "      <th>P</th>\n",
       "      <th>Q</th>\n",
       "    </tr>\n",
       "  </thead>\n",
       "  <tbody>\n",
       "    <tr>\n",
       "      <th>masked</th>\n",
       "      <td>4.510850</td>\n",
       "      <td>17.824091</td>\n",
       "    </tr>\n",
       "    <tr>\n",
       "      <th>unmasked</th>\n",
       "      <td>11.202444</td>\n",
       "      <td>59.551076</td>\n",
       "    </tr>\n",
       "    <tr>\n",
       "      <th>masked_reversed</th>\n",
       "      <td>3.827142</td>\n",
       "      <td>36.729903</td>\n",
       "    </tr>\n",
       "    <tr>\n",
       "      <th>unmasked_reversed</th>\n",
       "      <td>14.569493</td>\n",
       "      <td>67.733270</td>\n",
       "    </tr>\n",
       "  </tbody>\n",
       "</table>\n",
       "</div>"
      ],
      "text/plain": [
       "                           P          Q\n",
       "masked              4.510850  17.824091\n",
       "unmasked           11.202444  59.551076\n",
       "masked_reversed     3.827142  36.729903\n",
       "unmasked_reversed  14.569493  67.733270"
      ]
     },
     "execution_count": 87,
     "metadata": {},
     "output_type": "execute_result"
    }
   ],
   "source": [
    "comparison2 = comparison.loc[['P', 'Q'],:].transpose()\n",
    "comparison2"
   ]
  },
  {
   "cell_type": "code",
   "execution_count": 92,
   "metadata": {},
   "outputs": [
    {
     "data": {
      "text/plain": [
       "<matplotlib.axes._subplots.AxesSubplot at 0x7f61256f39d0>"
      ]
     },
     "execution_count": 92,
     "metadata": {},
     "output_type": "execute_result"
    },
    {
     "data": {
      "image/png": "[encoded data removed]",
      "text/plain": [
       "<Figure size 432x288 with 1 Axes>"
      ]
     },
     "metadata": {
      "needs_background": "light"
     },
     "output_type": "display_data"
    }
   ],
   "source": [
    "p = comparison2.plot(kind='barh', stacked=True, grid=False)\n",
    "p"
   ]
  },
  {
   "cell_type": "code",
   "execution_count": 93,
   "metadata": {},
   "outputs": [],
   "source": [
    "p.get_figure().savefig('images/comparison-analysis4-bar-chart.pdf')"
   ]
  },
  {
   "cell_type": "code",
   "execution_count": 94,
   "metadata": {},
   "outputs": [
    {
     "data": {
      "text/plain": [
       "<matplotlib.axes._subplots.AxesSubplot at 0x7f5f9dd489d0>"
      ]
     },
     "execution_count": 94,
     "metadata": {},
     "output_type": "execute_result"
    },
    {
     "data": {
      "image/png": "[encoded data removed]",
      "text/plain": [
       "<Figure size 432x288 with 1 Axes>"
      ]
     },
     "metadata": {
      "needs_background": "light"
     },
     "output_type": "display_data"
    }
   ],
   "source": [
    "comparison3 = comparison.loc[['P | G(Q)'],:].transpose()\n",
    "comparison3.plot(kind='barh')"
   ]
  },
  {
   "cell_type": "code",
   "execution_count": 95,
   "metadata": {},
   "outputs": [],
   "source": []
  }
 ],
 "metadata": {
  "kernelspec": {
   "display_name": "Python 3",
   "language": "python",
   "name": "python3"
  },
  "language_info": {
   "codemirror_mode": {
    "name": "ipython",
    "version": 3
   },
   "file_extension": ".py",
   "mimetype": "text/x-python",
   "name": "python",
   "nbconvert_exporter": "python",
   "pygments_lexer": "ipython3",
   "version": "3.8.2"
  },
  "notify_time": "5"
 },
 "nbformat": 4,
 "nbformat_minor": 2
}
