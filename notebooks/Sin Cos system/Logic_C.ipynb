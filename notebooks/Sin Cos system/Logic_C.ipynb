{
 "cells": [
  {
   "cell_type": "code",
   "execution_count": 2,
   "metadata": {},
   "outputs": [
    {
     "output_type": "error",
     "ename": "ModuleNotFoundError",
     "evalue": "No module named 'ulbc'",
     "traceback": [
      "\u001b[0;31m---------------------------------------------------------------------------\u001b[0m",
      "\u001b[0;31mModuleNotFoundError\u001b[0m                       Traceback (most recent call last)",
      "\u001b[0;32m<ipython-input-2-57d3f2d436d8>\u001b[0m in \u001b[0;36m<module>\u001b[0;34m()\u001b[0m\n\u001b[1;32m      1\u001b[0m \u001b[0msys\u001b[0m\u001b[0;34m.\u001b[0m\u001b[0mpath\u001b[0m\u001b[0;34m.\u001b[0m\u001b[0minsert\u001b[0m\u001b[0;34m(\u001b[0m\u001b[0;36m1\u001b[0m\u001b[0;34m,\u001b[0m \u001b[0;34m'/lbuc/'\u001b[0m\u001b[0;34m)\u001b[0m\u001b[0;34m\u001b[0m\u001b[0;34m\u001b[0m\u001b[0m\n\u001b[0;32m----> 2\u001b[0;31m \u001b[0;32mfrom\u001b[0m \u001b[0mulbc\u001b[0m \u001b[0;32mimport\u001b[0m \u001b[0;34m*\u001b[0m\u001b[0;34m\u001b[0m\u001b[0;34m\u001b[0m\u001b[0m\n\u001b[0m\u001b[1;32m      3\u001b[0m \u001b[0;32mfrom\u001b[0m \u001b[0mflowstar\u001b[0m \u001b[0;32mimport\u001b[0m \u001b[0;34m*\u001b[0m\u001b[0;34m\u001b[0m\u001b[0;34m\u001b[0m\u001b[0m\n\u001b[1;32m      4\u001b[0m \u001b[0;32mfrom\u001b[0m \u001b[0mulbc\u001b[0m\u001b[0;34m.\u001b[0m\u001b[0mbondcalculus\u001b[0m \u001b[0;32mimport\u001b[0m \u001b[0;34m*\u001b[0m\u001b[0;34m\u001b[0m\u001b[0;34m\u001b[0m\u001b[0m\n\u001b[1;32m      5\u001b[0m \u001b[0;32mimport\u001b[0m \u001b[0mnumpy\u001b[0m \u001b[0;32mas\u001b[0m \u001b[0mnp\u001b[0m\u001b[0;34m\u001b[0m\u001b[0;34m\u001b[0m\u001b[0m\n",
      "\u001b[0;31mModuleNotFoundError\u001b[0m: No module named 'ulbc'"
     ]
    }
   ],
   "source": [
    "sys.path.insert(0, '/lbuc/')\n",
    "from ulbc import *\n",
    "from flowstar import *\n",
    "from ulbc.bondcalculus import *\n",
    "import numpy as np\n",
    "import sage.all as sg\n",
    "import matplotlib.pyplot as plt\n",
    "from mpl_toolkits.mplot3d import Axes3D\n",
    "\n",
    "from IPython.display import display, Math\n",
    "from scipy.integrate import solve_ivp\n",
    "from ulbc.matricies import vec_to_numpy, mat_to_numpy, convert_vec, sympy_gens\n",
    "\n",
    "import sys\n",
    "sys.path.insert(1, '/lbuc/hostnotebooks/pythonlibs')\n",
    "from thesissupport.io import loadsys\n",
    "from thesissupport.plotting import PlottingHandler\n",
    "from thesissupport.converters import IntervalRemover\n"
   ]
  },
  {
   "cell_type": "code",
   "execution_count": 2,
   "metadata": {},
   "outputs": [],
   "source": [
    "from contextlib import contextmanager\n",
    "import sys, os\n",
    "\n",
    "@contextmanager\n",
    "def suppress_stdout():\n",
    "    with open(os.devnull, \"w\") as devnull:\n",
    "        old_stdout = sys.stdout\n",
    "        sys.stdout = devnull\n",
    "        try:  \n",
    "            yield\n",
    "        finally:\n",
    "            sys.stdout = old_stdout\n",
    "            \n",
    "            \n",
    "import warnings\n",
    "            \n",
    "@contextmanager\n",
    "def suppress_warnings():\n",
    "    with warnings.catch_warnings():\n",
    "        warnings.simplefilter(\"ignore\")\n",
    "        yield\n",
    "        \n",
    "        \n",
    "from flowstar.reachability import Reach\n",
    "from flowstar.poly import Poly\n",
    "from ulbc import *\n",
    "from matplotlib.colors import LinearSegmentedColormap"
   ]
  },
  {
   "cell_type": "markdown",
   "metadata": {},
   "source": [
    "# Load System"
   ]
  },
  {
   "cell_type": "code",
   "execution_count": 91,
   "metadata": {},
   "outputs": [
    {
     "name": "stdout",
     "output_type": "stream",
     "text": [
      "Running cmd: 'load \"/lbuc/hostnotebooks/notebooks/models/C_P_DeP_MM.bond\"' ...\n",
      "Running cmd: 'savesage \"Pi\" \"/tmp/bond-sage-script-ctnqtnn4.py\"' ...\n",
      "System(R, (x0, x1, x2), [0, 1, 1], (((x0 + 0.05000000000000000?)*x1*x2 - x0*(x2 + 0.05000000000000000?))/((x0 + 0.05000000000000000?)*(x2 + 0.05000000000000000?)), 0, -((x0 + 0.05000000000000000?)*x1*x2 - x0*(x2 + 0.05000000000000000?))/((x0 + 0.05000000000000000?)*(x2 + 0.05000000000000000?))), varmap=bidict({'RP': x0, 'S': x1, 'R': x2}))\n"
     ]
    }
   ],
   "source": [
    "bs = loadsys(\"/lbuc/hostnotebooks/notebooks/models/C_P_DeP_MM.bond\", \"Pi\")\n",
    "h = PlottingHandler(bs, \"Linear\")"
   ]
  },
  {
   "cell_type": "code",
   "execution_count": 90,
   "metadata": {},
   "outputs": [
    {
     "data": {
      "text/latex": [
       "$$\\frac{dR}{dt} =-((x0 + 0.0500000000000000)\\times x1\\times x2 - x0\\times (x2 + 0.0500000000000000))/((x0 + 0.0500000000000000)\\times (x2 + 0.0500000000000000))$$"
      ],
      "text/plain": [
       "<IPython.core.display.Math object>"
      ]
     },
     "metadata": {},
     "output_type": "display_data"
    },
    {
     "data": {
      "text/latex": [
       "$$\\frac{dRP}{dt} =((x0 + 0.05)\\times x1\\times x2 - x0\\times (x2 + 0.05))/((x0 + 0.05)\\times (x2 + 0.05))$$"
      ],
      "text/plain": [
       "<IPython.core.display.Math object>"
      ]
     },
     "metadata": {},
     "output_type": "display_data"
    },
    {
     "data": {
      "text/plain": [
       "(None, None)"
      ]
     },
     "execution_count": 90,
     "metadata": {},
     "output_type": "execute_result"
    }
   ],
   "source": [
    "display(Math(h.d_var_dt('R'))),display(Math(h.d_var_dt('RP').replace('00000000000000','')))"
   ]
  },
  {
   "cell_type": "code",
   "execution_count": 81,
   "metadata": {},
   "outputs": [
    {
     "name": "stdout",
     "output_type": "stream",
     "text": [
      "case5\n",
      "case7\n",
      "case8\n"
     ]
    },
    {
     "data": {
      "text/plain": [
       "<matplotlib.lines.Line2D object at 0x7fecae0201d0>"
      ]
     },
     "execution_count": 81,
     "metadata": {},
     "output_type": "execute_result"
    },
    {
     "data": {
      "image/png": "[encoded data removed]",
      "text/plain": [
       "<Figure size 432x288 with 1 Axes>"
      ]
     },
     "metadata": {
      "needs_background": "light"
     },
     "output_type": "display_data"
    }
   ],
   "source": [
    "concentration_interval = (0,3,0.1)\n",
    "time_interval = (0,5,0.1)\n",
    "fig,ax,_,_ = h.plot(\"S\", conc_interval=concentration_interval, time_interval=time_interval, \n",
    "                            speciesX=\"S\", speciesY=\"RP\", \n",
    "                            x_label=\"Signal (S)\", y_label=\"Response (RP)\", save=False, continuous=True, xlim=[0,3.001], ylim=[0,1.1001])\n",
    "fig,ax,_,_ = h.plot(\"S\", conc_interval=concentration_interval, time_interval=time_interval, \n",
    "                            speciesX=\"S\", speciesY=\"R\", y_label=\"R\", save=False,not_final=False, continuous=False, xlim=[0,3.001], ylim=[0,1.1001],fig=fig,ax=ax)\n",
    "ax.axhline(0.2,0,0.23)\n",
    "ax.axhline(0.8,0.44)\n",
    "ax.axvline(0.7)\n",
    "ax.axvline(1.3)"
   ]
  },
  {
   "cell_type": "markdown",
   "metadata": {},
   "source": [
    "# Reach object"
   ]
  },
  {
   "cell_type": "code",
   "execution_count": 92,
   "metadata": {},
   "outputs": [
    {
     "name": "stdout",
     "output_type": "stream",
     "text": [
      "calling reach with y0 = ['[0.0000000000000000 .. -0.0000000000000000]', '[3.0000000000000000 .. 3.0000000000000000]', '[1.0000000000000000 .. 1.0000000000000000]']\n",
      "ode in symbolic ring\n",
      "str_odes = ['(x0 + [0.0499999999999999, 0.0500000000000001]*x1*x2 + x0*x2 + [0.0499999999999999, 0.0500000000000001]*[-1.00000000000000, -1.00000000000000])/(x0 + [0.0499999999999999, 0.0500000000000001]*x2 + [0.0499999999999999, 0.0500000000000001])', '[0.000000000000000, 0.000000000000000]', '(-(x0 + [0.0499999999999999, 0.0500000000000001]*x1*x2 + x0*x2 + [0.0499999999999999, 0.0500000000000001]*[-1.00000000000000, -1.00000000000000]))/(x0 + [0.0499999999999999, 0.0500000000000001]*x2 + [0.0499999999999999, 0.0500000000000001])']\n",
      "crude_roots = False\n",
      "run = True\n",
      "_handle_initials called!\n",
      "vars = ['x0', 'x1', 'x2']\n",
      "C = [0.0..-0.0]\n",
      "C = [3.0..3.0]\n",
      "C = [1.0..1.0]\n",
      "run within string args\n",
      "integrationScheme = 4\n"
     ]
    }
   ],
   "source": [
    "r = bs.with_y0([0,3,1]).reach(10, step=0.01, order=5, precondition=1,\n",
    "        estimation=1e-5,\n",
    "        integration_method=IntegrationMethod.NONPOLY_TAYLOR,\n",
    "        cutoff_threshold=1e-10)"
   ]
  },
  {
   "cell_type": "code",
   "execution_count": 93,
   "metadata": {},
   "outputs": [
    {
     "data": {
      "text/plain": [
       "True"
      ]
     },
     "execution_count": 93,
     "metadata": {},
     "output_type": "execute_result"
    }
   ],
   "source": [
    "r.successful"
   ]
  },
  {
   "cell_type": "code",
   "execution_count": 94,
   "metadata": {},
   "outputs": [
    {
     "data": {
      "text/plain": [
       "1000"
      ]
     },
     "execution_count": 94,
     "metadata": {},
     "output_type": "execute_result"
    }
   ],
   "source": [
    "r.num_flowpipes"
   ]
  },
  {
   "cell_type": "code",
   "execution_count": 95,
   "metadata": {},
   "outputs": [
    {
     "data": {
      "image/png": "[encoded data removed]",
      "text/plain": [
       "Graphics object consisting of 2 graphics primitives"
      ]
     },
     "execution_count": 95,
     "metadata": {},
     "output_type": "execute_result"
    }
   ],
   "source": [
    "plot((lambda t: r(t)[0].lower(), lambda t: r(t)[0].upper(),lambda t: r(t)[2].lower(), lambda t: r(t)[2].upper()),(0,10))"
   ]
  },
  {
   "cell_type": "markdown",
   "metadata": {},
   "source": [
    "# Logic"
   ]
  },
  {
   "cell_type": "code",
   "execution_count": 6,
   "metadata": {},
   "outputs": [],
   "source": [
    "# Separations from lines above\n",
    "s1 = 0.7\n",
    "s2 = 1.3\n",
    "r1 = 0.2\n",
    "r2 = 0.8"
   ]
  },
  {
   "cell_type": "code",
   "execution_count": 24,
   "metadata": {},
   "outputs": [],
   "source": [
    "epsilon = 0.1\n",
    "# Always below asymptote\n",
    "P1 = G(RIF(0,10),Atomic(var('RP') < 2))\n",
    "\n",
    "P2 = Atomic(var('RP') < r1)\n",
    "P3 = Atomic(var('RP') > r2)\n",
    "P4 = Atomic(var('S') <= s1)\n",
    "P5 = Atomic(var('S') >= s2)\n",
    "\n",
    "# R is smaller than r1\n",
    "P6 = F(RIF(0,10),(G(RIF(0,10),P2)))\n",
    "# R is bigger than r2\n",
    "P7 = F(RIF(0,10),(G(RIF(0,10),P3)))\n",
    "\n",
    "# Eventually, R is smaller than r1 if S is smaller than s1 and R is bigger than r2 if S is bigger than s2.\n",
    "P8 = F(RIF(0,10),G(RIF(0,10),(Neg(P4) | P2)))\n",
    "P9 = F(RIF(0,10),G(RIF(0,10),(Neg(P5) | P3)))\n",
    "\n",
    "propositions = [P1,P2,P3,P4,P5,P6,P7,P8,P9]"
   ]
  },
  {
   "cell_type": "code",
   "execution_count": 25,
   "metadata": {},
   "outputs": [
    {
     "name": "stdout",
     "output_type": "stream",
     "text": [
      "Precomposing Contexts: 1 items in 0.00 seconds\n",
      "calling reach with y0 = ['[0.0000000000000000 .. -0.0000000000000000]', '[3.0000000000000000 .. 3.0000000000000000]', '[1.0000000000000000 .. 1.0000000000000000]']\n",
      "ode in symbolic ring\n",
      "str_odes = ['(x0 + [0.0499999999999999, 0.0500000000000001]*x1*x2 + x0*x2 + [0.0499999999999999, 0.0500000000000001]*[-1.00000000000000, -1.00000000000000])/(x0 + [0.0499999999999999, 0.0500000000000001]*x2 + [0.0499999999999999, 0.0500000000000001])', '[0.000000000000000, 0.000000000000000]', '(-(x0 + [0.0499999999999999, 0.0500000000000001]*x1*x2 + x0*x2 + [0.0499999999999999, 0.0500000000000001]*[-1.00000000000000, -1.00000000000000]))/(x0 + [0.0499999999999999, 0.0500000000000001]*x2 + [0.0499999999999999, 0.0500000000000001])']\n",
      "crude_roots = False\n",
      "run = True\n",
      "_handle_initials called!\n",
      "vars = ['x0', 'x1', 'x2']\n",
      "C = [0.0..-0.0]\n",
      "C = [3.0..3.0]\n",
      "C = [1.0..1.0]\n",
      "run within string args\n",
      "integrationScheme = 4\n",
      "Running Flow*: 1 items in 1.98 seconds\n",
      "Computed 2001 flowpipes in 1.9820737270006248 sec\n",
      "In G.signal\n",
      "PolyObserver(-x0 + 2, <flowstar.reachability.Reach object at 0x7fecae0c0320>, 0, symbolic_composition=False, tentative_unpreconditioning=True, mask=None)\n",
      "fprime = 0\n",
      "symbolic_composition=False, tentative_unpreconditioning=True,two_pass_masks=False\n",
      "roots(space_domain=None, epsilon=1e-05, verbosity=0)\n",
      "top-level root detection: 1 items in 0.06 seconds\n",
      "roots = []\n",
      "domain = [0.0000000000000000 .. 20.002000000000003]\n",
      "roots = []\n",
      "seg_domain = [0.0000000000000000 .. 20.002000000000003]\n",
      "roots = []\n",
      "signal given bool roots: 1 items in 0.00 seconds\n",
      "Monitoring Signal for G([0 .. 10], RP < 2): 1 items in 0.06 seconds\n",
      "ran \"tentative eval\" 2001 times in 0.03871321678161621\n",
      "ran \"restoring globals\" 9 times in 5.698204040527344e-05\n",
      "ran \"observer.check\" 1 times in 0.0004527568817138672\n",
      "ran \"capturing globals [on exit]\" 9 times in 4.9591064453125e-05\n",
      "ran \"mask intersect check\" 2001 times in 0.001283884048461914\n",
      "ran \"check boolean [unguarded]\" 1 times in 0.0003936290740966797\n",
      "ran \"prepare in check\" 1 times in 6.198883056640625e-06\n"
     ]
    },
    {
     "data": {
      "text/plain": [
       "True"
      ]
     },
     "execution_count": 25,
     "metadata": {},
     "output_type": "execute_result"
    }
   ],
   "source": [
    "P1.signal_for_system(bs.with_y0([0,3,1]), 10, step=0.01, order=5, precondition=1,\n",
    "        estimation=1e-3,\n",
    "        integration_method=IntegrationMethod.NONPOLY_TAYLOR,\n",
    "        cutoff_threshold=1e-5)(0)"
   ]
  },
  {
   "cell_type": "code",
   "execution_count": null,
   "metadata": {},
   "outputs": [],
   "source": [
    "%%time\n",
    "\n",
    "start = 0\n",
    "step = 0.01\n",
    "\n",
    "steps = 100\n",
    "\n",
    "solutions = np.ones((len(propositions),steps))*-1\n",
    "\n",
    "for i in range(steps):\n",
    "    curr_start = start+i*step\n",
    "    curr_end = step+i*step\n",
    "    print('## ', curr_start, curr_end)\n",
    "    temp_sys = bs.with_y0([0, RIF(curr_start,curr_end), 1])\n",
    "    #with suppress_stdout():\n",
    "    for j,p in enumerate(propositions):\n",
    "        temp_sol = p.context_signal_for_system(\n",
    "                    temp_sys,\n",
    "                    10,\n",
    "                    symbolic_composition=True,\n",
    "                    restriction_method=RestrictionMethod.SYMBOLIC,\n",
    "                ).refined_signal(2)(0)\n",
    "        if temp_sol is None:\n",
    "            solutions[j,i] = 0\n",
    "        elif temp_sol is False:\n",
    "            solutions[j,i] = 1\n",
    "        elif temp_sol is True:\n",
    "            solutions[j,i] = 2\n",
    "        else:\n",
    "            solutions[j,i] = -1"
   ]
  }
 ],
 "metadata": {
  "kernelspec": {
   "display_name": "Python 3",
   "language": "",
   "name": "python3"
  },
  "language_info": {
   "codemirror_mode": {
    "name": "ipython",
    "version": 3
   },
   "file_extension": ".py",
   "mimetype": "text/x-python",
   "name": "python",
   "nbconvert_exporter": "python",
   "pygments_lexer": "ipython3",
   "version": "3.8.2-final"
  }
 },
 "nbformat": 4,
 "nbformat_minor": 2
}