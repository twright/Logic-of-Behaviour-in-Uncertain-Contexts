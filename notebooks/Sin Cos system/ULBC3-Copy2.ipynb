{
 "cells": [
  {
   "cell_type": "markdown",
   "metadata": {
    "pycharm": {}
   },
   "source": [
    "# Tests"
   ]
  },
  {
   "cell_type": "markdown",
   "metadata": {
    "pycharm": {}
   },
   "source": [
    "## Example 1: Simple"
   ]
  },
  {
   "cell_type": "code",
   "execution_count": 1,
   "metadata": {
    "pycharm": {}
   },
   "outputs": [],
   "source": [
    "from flowstar.reachability import Reach\n",
    "from flowstar.poly import Poly\n",
    "from ulbc import *\n",
    "from ulbc.symbolic import *"
   ]
  },
  {
   "cell_type": "code",
   "execution_count": 2,
   "metadata": {
    "pycharm": {
     "metadata": false,
     "name": "#%%\n"
    }
   },
   "outputs": [],
   "source": [
    "t, x, y = var(\"t\",\"x\",\"y\")"
   ]
  },
  {
   "cell_type": "code",
   "execution_count": 3,
   "metadata": {
    "pycharm": {}
   },
   "outputs": [
    {
     "name": "stdout",
     "output_type": "stream",
     "text": [
      "ode in symbolic ring\n",
      "str_odes = ['[1.00000000000000, 1.00000000000000]', '-(y)', 'x']\n",
      "run = True\n",
      "var = t type(var) = <class 'str'> var_str = t\n",
      "var = x type(var) = <class 'str'> var_str = x\n",
      "var = y type(var) = <class 'str'> var_str = y\n",
      "initials = (0, 5.?, 2.?)\n",
      "Pre-composing Taylor models: 0.01978921890258789 sec\n"
     ]
    }
   ],
   "source": [
    "odes = [\n",
    "    SR(1),\n",
    "    -y,\n",
    "    x,\n",
    "]\n",
    "initials = [(0,0), (4,5), (1,2)]\n",
    "system = System(\n",
    "    SR,\n",
    "    [t, x, y],\n",
    "    initials,\n",
    "    odes,\n",
    ")\n",
    "reach = system.reach(2*pi, step=0.1, order=10,\n",
    "              precompose_taylor_models=True)"
   ]
  },
  {
   "cell_type": "code",
   "execution_count": 4,
   "metadata": {
    "pycharm": {}
   },
   "outputs": [],
   "source": [
    "def plot_signal(sig):\n",
    "    return sig.to_domain(RIF(0,2*pi)).plot().show(\n",
    "        ticks=[pi/2, 1], tick_formatter=pi, aspect_ratio=2/3)"
   ]
  },
  {
   "cell_type": "code",
   "execution_count": 5,
   "metadata": {
    "pycharm": {}
   },
   "outputs": [
    {
     "data": {
      "text/plain": [
       "2"
      ]
     },
     "execution_count": 5,
     "metadata": {},
     "output_type": "execute_result"
    }
   ],
   "source": [
    "reach.res"
   ]
  },
  {
   "cell_type": "code",
   "execution_count": 6,
   "metadata": {
    "pycharm": {}
   },
   "outputs": [
    {
     "data": {
      "text/plain": [
       "Atomic(x - 3)"
      ]
     },
     "execution_count": 6,
     "metadata": {},
     "output_type": "execute_result"
    }
   ],
   "source": [
    "P = Atomic(x - 3); P"
   ]
  },
  {
   "cell_type": "code",
   "execution_count": 7,
   "metadata": {
    "pycharm": {}
   },
   "outputs": [
    {
     "name": "stdout",
     "output_type": "stream",
     "text": [
      "PolyObserver(x - 3, <flowstar.reachability.Reach object at 0x55913e691ed0>, -y symbolic_composition=False, tentative_unpreconditioning=True, mask=None)\n",
      "symbolic_composition=False, tentative_unpreconditioning=True\n",
      "roots(space_domain=None, epsilon=1e-05, verbosity=0)\n",
      "roots = [[0.36442391108285426 .. 0.75322999900880539], [4.9094498886889716 .. 5.3000000000000105]]\n",
      "domain = [0.0000000000000000 .. 6.2821853071795868]\n",
      "roots = [[0.36442391108285426 .. 0.75322999900880539], \n",
      " [4.9094498886889716 .. 5.3000000000000105]]\n",
      "seg_domain = [0.0000000000000000 .. 6.2821853071795868]\n",
      "roots = [[0.36442391108285426 .. 0.75322999900880539], \n",
      " [4.9094498886889716 .. 5.3000000000000105]]\n",
      "PolyObserver(x - 3, <flowstar.reachability.Reach object at 0x55913e691ed0>, -y symbolic_composition=False, tentative_unpreconditioning=True, mask=None)\n"
     ]
    },
    {
     "name": "stderr",
     "output_type": "stream",
     "text": [
      "/usr/lib64/python3.7/site-packages/numpy/core/getlimits.py:400: UserWarning: Signature b'\\x99\\x99\\x99\\x99\\x99\\x99\\xb9\\xbf' for <class 'numpy.float64'> does not match any known type: falling back to type probe function\n",
      "  machar = _get_machar(dtype)\n"
     ]
    },
    {
     "data": {
      "image/png": "[encoded data removed]",
      "text/plain": [
       "Graphics object consisting of 5 graphics primitives"
      ]
     },
     "execution_count": 7,
     "metadata": {},
     "output_type": "execute_result"
    }
   ],
   "source": [
    "P.signal(reach).plot() + P.sage_plot(reach)"
   ]
  },
  {
   "cell_type": "code",
   "execution_count": 8,
   "metadata": {
    "pycharm": {}
   },
   "outputs": [
    {
     "name": "stdout",
     "output_type": "stream",
     "text": [
      "ode in symbolic ring\n",
      "str_odes = ['[1.00000000000000, 1.00000000000000]', '-(y)', 'x']\n",
      "run = True\n",
      "var = t type(var) = <class 'str'> var_str = t\n",
      "var = x type(var) = <class 'str'> var_str = x\n",
      "var = y type(var) = <class 'str'> var_str = y\n",
      "initials = (0, 5.?, 2.?)\n",
      "Computed 63 flowpipes in 0.06839609146118164 sec\n",
      "PolyObserver(x - 3, <flowstar.reachability.Reach object at 0x55913edf5000>, -y symbolic_composition=False, tentative_unpreconditioning=True, mask=None)\n",
      "symbolic_composition=False, tentative_unpreconditioning=True\n",
      "roots(space_domain=None, epsilon=1e-05, verbosity=0)\n",
      "roots = [[0.36442391108285426 .. 0.75322999900880539], [4.9094498886889716 .. 5.3000000000000105]]\n",
      "domain = [0.0000000000000000 .. 6.2831853071795863]\n",
      "roots = [[0.36442391108285426 .. 0.75322999900880539], \n",
      " [4.9094498886889716 .. 5.3000000000000105]]\n",
      "seg_domain = [0.0000000000000000 .. 6.2831853071795863]\n",
      "roots = [[0.36442391108285426 .. 0.75322999900880539], \n",
      " [4.9094498886889716 .. 5.3000000000000105]]\n",
      "Monitored signal 0.020371675491333008 sec\n"
     ]
    },
    {
     "data": {
      "image/png": "[encoded data removed]",
      "text/plain": [
       "Graphics object consisting of 2 graphics primitives"
      ]
     },
     "metadata": {},
     "output_type": "display_data"
    }
   ],
   "source": [
    "plot_signal( P.signal_for_system(system, 2*pi) )"
   ]
  },
  {
   "cell_type": "code",
   "execution_count": 9,
   "metadata": {
    "pycharm": {}
   },
   "outputs": [
    {
     "data": {
      "text/plain": [
       "Atomic(-y + 3)"
      ]
     },
     "execution_count": 9,
     "metadata": {},
     "output_type": "execute_result"
    }
   ],
   "source": [
    "Q = Atomic(3 - y); Q"
   ]
  },
  {
   "cell_type": "code",
   "execution_count": 10,
   "metadata": {
    "pycharm": {}
   },
   "outputs": [
    {
     "name": "stdout",
     "output_type": "stream",
     "text": [
      "PolyObserver(-y + 3, <flowstar.reachability.Reach object at 0x55913e691ed0>, -x symbolic_composition=False, tentative_unpreconditioning=True, mask=None)\n",
      "symbolic_composition=False, tentative_unpreconditioning=True\n",
      "roots(space_domain=None, epsilon=1e-05, verbosity=0)\n",
      "roots = [[0.19999999999999995 .. 0.58848494710426814], [1.9311141906428892 .. 2.3182023568246275]]\n",
      "domain = [0.0000000000000000 .. 6.2821853071795868]\n",
      "roots = [[0.19999999999999995 .. 0.58848494710426814], \n",
      " [1.9311141906428892 .. 2.3182023568246275]]\n",
      "seg_domain = [0.0000000000000000 .. 6.2821853071795868]\n",
      "roots = [[0.19999999999999995 .. 0.58848494710426814], \n",
      " [1.9311141906428892 .. 2.3182023568246275]]\n",
      "PolyObserver(-y + 3, <flowstar.reachability.Reach object at 0x55913e691ed0>, -x symbolic_composition=False, tentative_unpreconditioning=True, mask=None)\n"
     ]
    },
    {
     "data": {
      "image/png": "[encoded data removed]",
      "text/plain": [
       "Graphics object consisting of 5 graphics primitives"
      ]
     },
     "execution_count": 10,
     "metadata": {},
     "output_type": "execute_result"
    }
   ],
   "source": [
    "Q.signal(reach).plot() + Q.sage_plot(reach)"
   ]
  },
  {
   "cell_type": "code",
   "execution_count": 11,
   "metadata": {
    "pycharm": {}
   },
   "outputs": [
    {
     "name": "stdout",
     "output_type": "stream",
     "text": [
      "ode in symbolic ring\n",
      "str_odes = ['[1.00000000000000, 1.00000000000000]', '-(y)', 'x']\n",
      "run = True\n",
      "var = t type(var) = <class 'str'> var_str = t\n",
      "var = x type(var) = <class 'str'> var_str = x\n",
      "var = y type(var) = <class 'str'> var_str = y\n",
      "initials = (0, 5.?, 2.?)\n",
      "Computed 63 flowpipes in 0.06661295890808105 sec\n",
      "PolyObserver(-y + 3, <flowstar.reachability.Reach object at 0x55913eff8d50>, -x symbolic_composition=False, tentative_unpreconditioning=True, mask=None)\n",
      "symbolic_composition=False, tentative_unpreconditioning=True\n",
      "roots(space_domain=None, epsilon=1e-05, verbosity=0)\n",
      "roots = [[0.19999999999999995 .. 0.58848494710426814], [1.9311141906428892 .. 2.3182023568246275]]\n",
      "domain = [0.0000000000000000 .. 6.2831853071795863]\n",
      "roots = [[0.19999999999999995 .. 0.58848494710426814], \n",
      " [1.9311141906428892 .. 2.3182023568246275]]\n",
      "seg_domain = [0.0000000000000000 .. 6.2831853071795863]\n",
      "roots = [[0.19999999999999995 .. 0.58848494710426814], \n",
      " [1.9311141906428892 .. 2.3182023568246275]]\n",
      "Monitored signal 0.021971702575683594 sec\n"
     ]
    },
    {
     "data": {
      "image/png": "[encoded data removed]",
      "text/plain": [
       "Graphics object consisting of 2 graphics primitives"
      ]
     },
     "metadata": {},
     "output_type": "display_data"
    }
   ],
   "source": [
    "plot_signal( Q.signal_for_system(system, 2*pi) )"
   ]
  },
  {
   "cell_type": "code",
   "execution_count": 12,
   "metadata": {
    "pycharm": {}
   },
   "outputs": [
    {
     "name": "stdout",
     "output_type": "stream",
     "text": [
      "ode in symbolic ring\n",
      "str_odes = ['[1.00000000000000, 1.00000000000000]', '-(y)', 'x']\n",
      "run = True\n",
      "var = t type(var) = <class 'str'> var_str = t\n",
      "var = x type(var) = <class 'str'> var_str = x\n",
      "var = y type(var) = <class 'str'> var_str = y\n",
      "initials = (0, 5.?, 2.?)\n",
      "Computed 75 flowpipes in 0.09256219863891602 sec\n",
      "In G.signal\n",
      "PolyObserver(x - 3, <flowstar.reachability.Reach object at 0x55913ed03e60>, -y symbolic_composition=False, tentative_unpreconditioning=True, mask=None)\n",
      "symbolic_composition=False, tentative_unpreconditioning=True\n",
      "roots(space_domain=None, epsilon=1e-05, verbosity=0)\n",
      "roots = [[0.36442391108285426 .. 0.75322999900880539], [4.9094498886889716 .. 5.3000000000000105], [6.6497432568188550 .. 7.0331814940841398]]\n",
      "domain = [0.0000000000000000 .. 7.4831853071795865]\n",
      "roots = [[0.36442391108285426 .. 0.75322999900880539], \n",
      " [4.9094498886889716 .. 5.3000000000000105], \n",
      " [6.6497432568188550 .. 7.0331814940841398]]\n",
      "seg_domain = [0.0000000000000000 .. 7.4831853071795865]\n",
      "roots = [[0.36442391108285426 .. 0.75322999900880539], \n",
      " [4.9094498886889716 .. 5.3000000000000105], \n",
      " [6.6497432568188550 .. 7.0331814940841398]]\n",
      "Monitored signal 0.03091597557067871 sec\n"
     ]
    },
    {
     "data": {
      "image/png": "[encoded data removed]",
      "text/plain": [
       "Graphics object consisting of 2 graphics primitives"
      ]
     },
     "metadata": {},
     "output_type": "display_data"
    }
   ],
   "source": [
    "plot_signal( G(RIF(1,1.2), P).signal_for_system(system, 2*pi) )"
   ]
  },
  {
   "cell_type": "code",
   "execution_count": 13,
   "metadata": {
    "pycharm": {}
   },
   "outputs": [
    {
     "name": "stdout",
     "output_type": "stream",
     "text": [
      "ode in symbolic ring\n",
      "str_odes = ['[1.00000000000000, 1.00000000000000]', '-(y)', 'x']\n",
      "run = True\n",
      "var = t type(var) = <class 'str'> var_str = t\n",
      "var = x type(var) = <class 'str'> var_str = x\n",
      "var = y type(var) = <class 'str'> var_str = y\n",
      "initials = (0, 5.?, 2.?)\n",
      "Computed 103 flowpipes in 0.10797286033630371 sec\n",
      "PolyObserver(-y + 3, <flowstar.reachability.Reach object at 0x55913eda00a0>, -x symbolic_composition=False, tentative_unpreconditioning=True, mask=None)\n",
      "symbolic_composition=False, tentative_unpreconditioning=True\n",
      "roots(space_domain=None, epsilon=1e-05, verbosity=0)\n",
      "roots = [[0.19999999999999995 .. 0.58848494710426814], [1.9311141906428892 .. 2.3182023568246275], [6.4892456363200068 .. 6.8667576512155808], [8.2066212216717708 .. 8.6000000000000334]]\n",
      "domain = [0.0000000000000000 .. 10.283185307179587]\n",
      "roots = [[0.19999999999999995 .. 0.58848494710426814], \n",
      " [1.9311141906428892 .. 2.3182023568246275], \n",
      " [6.4892456363200068 .. 6.8667576512155808], \n",
      " [8.2066212216717708 .. 8.6000000000000334]]\n",
      "seg_domain = [0.0000000000000000 .. 10.283185307179587]\n",
      "roots = [[0.19999999999999995 .. 0.58848494710426814], \n",
      " [1.9311141906428892 .. 2.3182023568246275], \n",
      " [6.4892456363200068 .. 6.8667576512155808], \n",
      " [8.2066212216717708 .. 8.6000000000000334]]\n",
      "Monitored signal 0.04190254211425781 sec\n"
     ]
    },
    {
     "name": "stderr",
     "output_type": "stream",
     "text": [
      "/home/twright/Drive/Documents/PhD/Notebooks/ulbc/interval_signals.py:224: UserWarning: Inconsistent intervals [-3.3000000000000003 .. -0.0000000000000000] (True) and [-2.0688858093571110 .. -0.0000000000000000] (False) in signal!\n",
      "  u.str(style='brackets'), bu))\n",
      "/home/twright/Drive/Documents/PhD/Notebooks/ulbc/interval_signals.py:224: UserWarning: Inconsistent intervals [-3.3000000000000003 .. 2.9892456363200069] (True) and [-2.0688858093571110 .. -0.0000000000000000] (False) in signal!\n",
      "  u.str(style='brackets'), bu))\n"
     ]
    },
    {
     "data": {
      "image/png": "[encoded data removed]",
      "text/plain": [
       "Graphics object consisting of 2 graphics primitives"
      ]
     },
     "metadata": {},
     "output_type": "display_data"
    }
   ],
   "source": [
    "plot_signal( F(RIF(3.5, 4), Q).signal_for_system(system, 2*pi) )"
   ]
  },
  {
   "cell_type": "code",
   "execution_count": 14,
   "metadata": {
    "pycharm": {},
    "scrolled": false
   },
   "outputs": [
    {
     "name": "stdout",
     "output_type": "stream",
     "text": [
      "ode in symbolic ring\n",
      "str_odes = ['[1.00000000000000, 1.00000000000000]', '-(y)', 'x']\n",
      "run = True\n",
      "var = t type(var) = <class 'str'> var_str = t\n",
      "var = x type(var) = <class 'str'> var_str = x\n",
      "var = y type(var) = <class 'str'> var_str = y\n",
      "initials = (0, 5.?, 2.?)\n",
      "Computed 103 flowpipes in 0.10712718963623047 sec\n",
      "In G.signal\n",
      "PolyObserver(x - 3, <flowstar.reachability.Reach object at 0x55913c117920>, -y symbolic_composition=False, tentative_unpreconditioning=True, mask=None)\n",
      "symbolic_composition=False, tentative_unpreconditioning=True\n",
      "roots(space_domain=None, epsilon=1e-05, verbosity=0)\n",
      "roots = [[0.36442391108285426 .. 0.75322999900880539], [4.9094498886889716 .. 5.3000000000000105], [6.6497432568188550 .. 7.0331814940841398]]\n",
      "domain = [0.0000000000000000 .. 10.283185307179587]\n",
      "roots = [[0.36442391108285426 .. 0.75322999900880539], \n",
      " [4.9094498886889716 .. 5.3000000000000105], \n",
      " [6.6497432568188550 .. 7.0331814940841398]]\n",
      "seg_domain = [0.0000000000000000 .. 10.283185307179587]\n",
      "roots = [[0.36442391108285426 .. 0.75322999900880539], \n",
      " [4.9094498886889716 .. 5.3000000000000105], \n",
      " [6.6497432568188550 .. 7.0331814940841398]]\n",
      "PolyObserver(-y + 3, <flowstar.reachability.Reach object at 0x55913c117920>, -x symbolic_composition=False, tentative_unpreconditioning=True, mask=None)\n",
      "symbolic_composition=False, tentative_unpreconditioning=True\n",
      "roots(space_domain=None, epsilon=1e-05, verbosity=0)\n",
      "roots = [[0.19999999999999995 .. 0.58848494710426814], [1.9311141906428892 .. 2.3182023568246275], [6.4892456363200068 .. 6.8667576512155808], [8.2066212216717708 .. 8.6000000000000334]]\n",
      "domain = [0.0000000000000000 .. 10.283185307179587]\n",
      "roots = [[0.19999999999999995 .. 0.58848494710426814], \n",
      " [1.9311141906428892 .. 2.3182023568246275], \n",
      " [6.4892456363200068 .. 6.8667576512155808], \n",
      " [8.2066212216717708 .. 8.6000000000000334]]\n",
      "seg_domain = [0.0000000000000000 .. 10.283185307179587]\n",
      "roots = [[0.19999999999999995 .. 0.58848494710426814], \n",
      " [1.9311141906428892 .. 2.3182023568246275], \n",
      " [6.4892456363200068 .. 6.8667576512155808], \n",
      " [8.2066212216717708 .. 8.6000000000000334]]\n",
      "Monitored signal 0.06542658805847168 sec\n"
     ]
    },
    {
     "name": "stderr",
     "output_type": "stream",
     "text": [
      "/home/twright/Drive/Documents/PhD/Notebooks/ulbc/interval_signals.py:224: UserWarning: Inconsistent intervals [-3.3000000000000003 .. -0.0000000000000000] (True) and [-2.0688858093571110 .. -0.0000000000000000] (False) in signal!\n",
      "  u.str(style='brackets'), bu))\n",
      "/home/twright/Drive/Documents/PhD/Notebooks/ulbc/interval_signals.py:224: UserWarning: Inconsistent intervals [-3.3000000000000003 .. 2.9892456363200069] (True) and [-2.0688858093571110 .. -0.0000000000000000] (False) in signal!\n",
      "  u.str(style='brackets'), bu))\n"
     ]
    },
    {
     "data": {
      "image/png": "[encoded data removed]",
      "text/plain": [
       "Graphics object consisting of 2 graphics primitives"
      ]
     },
     "metadata": {},
     "output_type": "display_data"
    }
   ],
   "source": [
    "plot_signal( (G(RIF(1,1.2), P) | F(RIF(3.5,4), Q)).signal_for_system(system, 2*pi) )"
   ]
  },
  {
   "cell_type": "code",
   "execution_count": 15,
   "metadata": {
    "pycharm": {}
   },
   "outputs": [
    {
     "name": "stdout",
     "output_type": "stream",
     "text": [
      "ode in symbolic ring\n",
      "str_odes = ['[1.00000000000000, 1.00000000000000]', '-(y)', 'x']\n",
      "run = True\n",
      "var = t type(var) = <class 'str'> var_str = t\n",
      "var = x type(var) = <class 'str'> var_str = x\n",
      "var = y type(var) = <class 'str'> var_str = y\n",
      "initials = (0, 5.?, 2.?)\n",
      "Computed 103 flowpipes in 0.13567256927490234 sec\n",
      "In G.signal\n",
      "PolyObserver(x - 3, <flowstar.reachability.Reach object at 0x55913f7891f0>, -y symbolic_composition=False, tentative_unpreconditioning=True, mask=None)\n",
      "symbolic_composition=False, tentative_unpreconditioning=True\n",
      "roots(space_domain=None, epsilon=1e-05, verbosity=0)\n",
      "roots = [[0.36442391108285426 .. 0.75322999900880539], [4.9094498886889716 .. 5.3000000000000105], [6.6497432568188550 .. 7.0331814940841398]]\n",
      "domain = [0.0000000000000000 .. 10.283185307179587]\n",
      "roots = [[0.36442391108285426 .. 0.75322999900880539], \n",
      " [4.9094498886889716 .. 5.3000000000000105], \n",
      " [6.6497432568188550 .. 7.0331814940841398]]\n",
      "seg_domain = [0.0000000000000000 .. 10.283185307179587]\n",
      "roots = [[0.36442391108285426 .. 0.75322999900880539], \n",
      " [4.9094498886889716 .. 5.3000000000000105], \n",
      " [6.6497432568188550 .. 7.0331814940841398]]\n",
      "PolyObserver(-y + 3, <flowstar.reachability.Reach object at 0x55913f7891f0>, -x symbolic_composition=False, tentative_unpreconditioning=True, mask=None)\n",
      "symbolic_composition=False, tentative_unpreconditioning=True\n",
      "roots(space_domain=None, epsilon=1e-05, verbosity=0)\n",
      "roots = [[0.19999999999999995 .. 0.58848494710426814], [1.9311141906428892 .. 2.3182023568246275], [6.4892456363200068 .. 6.8667576512155808], [8.2066212216717708 .. 8.6000000000000334]]\n",
      "domain = [0.0000000000000000 .. 10.283185307179587]\n",
      "roots = [[0.19999999999999995 .. 0.58848494710426814], \n",
      " [1.9311141906428892 .. 2.3182023568246275], \n",
      " [6.4892456363200068 .. 6.8667576512155808], \n",
      " [8.2066212216717708 .. 8.6000000000000334]]\n",
      "seg_domain = [0.0000000000000000 .. 10.283185307179587]\n",
      "roots = [[0.19999999999999995 .. 0.58848494710426814], \n",
      " [1.9311141906428892 .. 2.3182023568246275], \n",
      " [6.4892456363200068 .. 6.8667576512155808], \n",
      " [8.2066212216717708 .. 8.6000000000000334]]\n",
      "Monitored signal 0.0657806396484375 sec\n"
     ]
    },
    {
     "name": "stderr",
     "output_type": "stream",
     "text": [
      "/home/twright/Drive/Documents/PhD/Notebooks/ulbc/interval_signals.py:224: UserWarning: Inconsistent intervals [-3.3000000000000003 .. -0.0000000000000000] (True) and [-2.0688858093571110 .. -0.0000000000000000] (False) in signal!\n",
      "  u.str(style='brackets'), bu))\n",
      "/home/twright/Drive/Documents/PhD/Notebooks/ulbc/interval_signals.py:224: UserWarning: Inconsistent intervals [-3.3000000000000003 .. 2.9892456363200069] (True) and [-2.0688858093571110 .. -0.0000000000000000] (False) in signal!\n",
      "  u.str(style='brackets'), bu))\n"
     ]
    },
    {
     "data": {
      "image/png": "[encoded data removed]",
      "text/plain": [
       "Graphics object consisting of 2 graphics primitives"
      ]
     },
     "execution_count": 15,
     "metadata": {},
     "output_type": "execute_result"
    }
   ],
   "source": [
    "(G(RIF(1,1.2), P) & F(RIF(3.5,4), Q)).signal_for_system(system, 2*pi).plot()"
   ]
  },
  {
   "cell_type": "code",
   "execution_count": 16,
   "metadata": {
    "pycharm": {}
   },
   "outputs": [
    {
     "name": "stdout",
     "output_type": "stream",
     "text": [
      "ode in symbolic ring\n",
      "str_odes = ['[1.00000000000000, 1.00000000000000]', '-(y)', 'x']\n",
      "run = True\n",
      "var = t type(var) = <class 'str'> var_str = t\n",
      "var = x type(var) = <class 'str'> var_str = x\n",
      "var = y type(var) = <class 'str'> var_str = y\n",
      "initials = (0, 5.?, 2.?)\n",
      "Computed 120 flowpipes in 0.10390162467956543 sec\n",
      "In G.signal\n",
      "PolyObserver(x - 3, <flowstar.reachability.Reach object at 0x55913ef36c10>, -y symbolic_composition=False, tentative_unpreconditioning=True, mask=None)\n",
      "symbolic_composition=False, tentative_unpreconditioning=True\n",
      "roots(space_domain=None, epsilon=1e-05, verbosity=0)\n",
      "roots = [[0.36442391108285426 .. 0.75322999900880539], [4.9094498886889716 .. 5.3000000000000105], [6.6497432568188550 .. 7.0331814940841398], [11.199999999999860 .. 11.582737468233111]]\n",
      "domain = [0.0000000000000000 .. 11.983185307179588]\n",
      "roots = [[0.36442391108285426 .. 0.75322999900880539], \n",
      " [4.9094498886889716 .. 5.3000000000000105], \n",
      " [6.6497432568188550 .. 7.0331814940841398], \n",
      " [11.199999999999860 .. 11.582737468233111]]\n",
      "seg_domain = [0.0000000000000000 .. 11.983185307179588]\n",
      "roots = [[0.36442391108285426 .. 0.75322999900880539], \n",
      " [4.9094498886889716 .. 5.3000000000000105], \n",
      " [6.6497432568188550 .. 7.0331814940841398], \n",
      " [11.199999999999860 .. 11.582737468233111]]\n",
      "PolyObserver(-y + 3, <flowstar.reachability.Reach object at 0x55913ef36c10>, -x symbolic_composition=False, tentative_unpreconditioning=True, mask=None)\n",
      "symbolic_composition=False, tentative_unpreconditioning=True\n",
      "roots(space_domain=None, epsilon=1e-05, verbosity=0)\n",
      "roots = [[0.19999999999999995 .. 0.58848494710426814], [1.9311141906428892 .. 2.3182023568246275], [6.4892456363200068 .. 6.8667576512155808], [8.2066212216717708 .. 8.6000000000000334]]\n",
      "domain = [0.0000000000000000 .. 11.983185307179588]\n",
      "roots = [[0.19999999999999995 .. 0.58848494710426814], \n",
      " [1.9311141906428892 .. 2.3182023568246275], \n",
      " [6.4892456363200068 .. 6.8667576512155808], \n",
      " [8.2066212216717708 .. 8.6000000000000334]]\n",
      "seg_domain = [0.0000000000000000 .. 11.983185307179588]\n",
      "roots = [[0.19999999999999995 .. 0.58848494710426814], \n",
      " [1.9311141906428892 .. 2.3182023568246275], \n",
      " [6.4892456363200068 .. 6.8667576512155808], \n",
      " [8.2066212216717708 .. 8.6000000000000334]]\n",
      "domain   = [0.0000000000000000 .. 10.983185307179588]\n",
      "values   = [('[-0.83557608891714575 .. -0.0000000000000000]', True), ('[0.0000000000000000 .. 3.9094498886889717]', False), ('[4.3000000000000104 .. 5.4497432568188549]', True), ('[5.8331814940841404 .. 10.199999999999861]', False), ('[10.582737468233110 .. 10.783185307179587]', True)]\n",
      "falses1  = []\n",
      "trues    = [('[-0.83557608891714575 .. -0.0000000000000000]', True)]\n",
      "falses2  = [('[0.0000000000000000 .. 3.9094498886889717]', False)]\n",
      "u_domain = [0.0000000000000000 .. -0.0000000000000000]\n",
      "Monitored signal 0.08371639251708984 sec\n"
     ]
    },
    {
     "name": "stderr",
     "output_type": "stream",
     "text": [
      "/home/twright/Drive/Documents/PhD/Notebooks/ulbc/interval_signals.py:224: UserWarning: Inconsistent intervals [-3.3000000000000003 .. -0.0000000000000000] (True) and [-2.0688858093571110 .. -0.0000000000000000] (False) in signal!\n",
      "  u.str(style='brackets'), bu))\n",
      "/home/twright/Drive/Documents/PhD/Notebooks/ulbc/interval_signals.py:224: UserWarning: Inconsistent intervals [-3.3000000000000003 .. 2.9892456363200069] (True) and [-2.0688858093571110 .. -0.0000000000000000] (False) in signal!\n",
      "  u.str(style='brackets'), bu))\n",
      "/usr/lib64/python3.7/site-packages/matplotlib/contour.py:1243: UserWarning: No contour levels were found within the data range.\n",
      "  warnings.warn(\"No contour levels were found\"\n"
     ]
    },
    {
     "data": {
      "image/png": "[encoded data removed]",
      "text/plain": [
       "Graphics object consisting of 2 graphics primitives"
      ]
     },
     "metadata": {},
     "output_type": "display_data"
    }
   ],
   "source": [
    "sig = U(G(RIF(1, 1.2), P), RIF(0.4, 0.5), F(RIF(3.5, 4), Q)).signal_for_system(\n",
    "    system, 2*pi)\n",
    "plot_signal( sig )"
   ]
  },
  {
   "cell_type": "markdown",
   "metadata": {
    "pycharm": {}
   },
   "source": [
    "## Context!"
   ]
  },
  {
   "cell_type": "code",
   "execution_count": 17,
   "metadata": {
    "pycharm": {}
   },
   "outputs": [
    {
     "data": {
      "text/plain": [
       "C({y: [9 .. 10]}, Atomic(x - 3))"
      ]
     },
     "execution_count": 17,
     "metadata": {},
     "output_type": "execute_result"
    }
   ],
   "source": [
    "{y: RIF(9,10)} >> P"
   ]
  },
  {
   "cell_type": "code",
   "execution_count": 18,
   "metadata": {
    "pycharm": {}
   },
   "outputs": [
    {
     "name": "stdout",
     "output_type": "stream",
     "text": [
      "ode in symbolic ring\n",
      "str_odes = ['[1.00000000000000, 1.00000000000000]', '-(y)', 'x']\n",
      "run = True\n",
      "var = t type(var) = <class 'str'> var_str = t\n",
      "var = x type(var) = <class 'str'> var_str = x\n",
      "var = y type(var) = <class 'str'> var_str = y\n",
      "initials = (0, 5.?, 2.?)\n",
      "Computed 126 flowpipes in 0.13998770713806152 sec\n",
      "In C.signal\n",
      "mask = None\n",
      "ode in symbolic ring\n",
      "str_odes = ['[1.00000000000000, 1.00000000000000]', '-(y)', 'x']\n",
      "run = True\n",
      "var = t type(var) = <class 'str'> var_str = t\n",
      "var = x type(var) = <class 'str'> var_str = x\n",
      "var = y type(var) = <class 'str'> var_str = y\n",
      "initials = (1.?e1, 0.?e1, 1.?e1)\n",
      "Computed 1 flowpipes in 0.002248048782348633 sec\n",
      "PolyObserver(x - 3, <flowstar.reachability.Reach object at 0x5591403b90c0>, -y symbolic_composition=False, tentative_unpreconditioning=True, mask=None)\n",
      "symbolic_composition=False, tentative_unpreconditioning=True\n",
      "roots(space_domain=None, epsilon=1e-05, verbosity=0)\n",
      "roots = [[0.0000000000000000 .. 0.10000000000000001]]\n",
      "domain = [0.0000000000000000 .. 0.0010000000000000001]\n",
      "roots = [[0.0000000000000000 .. 0.10000000000000001]]\n",
      "seg_domain = [0.0000000000000000 .. 0.0010000000000000001]\n",
      "roots = [[0.0000000000000000 .. 0.10000000000000001]]\n",
      "0 at 0.00100000000000001\n",
      "Monitored signal 0.0031714439392089844 sec\n",
      "ode in symbolic ring\n",
      "str_odes = ['[1.00000000000000, 1.00000000000000]', '-(y)', 'x']\n",
      "run = True\n",
      "var = t type(var) = <class 'str'> var_str = t\n",
      "var = x type(var) = <class 'str'> var_str = x\n",
      "var = y type(var) = <class 'str'> var_str = y\n",
      "initials = (1.?e1, 0.?e1, 1.?e1)\n",
      "Computed 1 flowpipes in 0.001958131790161133 sec\n",
      "PolyObserver(x - 3, <flowstar.reachability.Reach object at 0x5591403be6f0>, -y symbolic_composition=False, tentative_unpreconditioning=True, mask=None)\n",
      "symbolic_composition=False, tentative_unpreconditioning=True\n",
      "roots(space_domain=None, epsilon=1e-05, verbosity=0)\n",
      "roots = [[0.0000000000000000 .. 0.10000000000000001]]\n",
      "domain = [0.0000000000000000 .. 0.0010000000000000001]\n",
      "roots = [[0.0000000000000000 .. 0.10000000000000001]]\n",
      "seg_domain = [0.0000000000000000 .. 0.0010000000000000001]\n",
      "roots = [[0.0000000000000000 .. 0.10000000000000001]]\n",
      "0 at 0.00100000000000001\n",
      "Monitored signal 0.003322601318359375 sec\n",
      "ode in symbolic ring\n",
      "str_odes = ['[1.00000000000000, 1.00000000000000]', '-(y)', 'x']\n",
      "run = True\n",
      "var = t type(var) = <class 'str'> var_str = t\n",
      "var = x type(var) = <class 'str'> var_str = x\n",
      "var = y type(var) = <class 'str'> var_str = y\n",
      "initials = (1.?e1, 0.?e1, 1.?e1)\n",
      "Computed 1 flowpipes in 0.0021963119506835938 sec\n",
      "PolyObserver(x - 3, <flowstar.reachability.Reach object at 0x5591403bc750>, -y symbolic_composition=False, tentative_unpreconditioning=True, mask=None)\n",
      "symbolic_composition=False, tentative_unpreconditioning=True\n",
      "roots(space_domain=None, epsilon=1e-05, verbosity=0)\n",
      "roots = [[0.0000000000000000 .. 0.10000000000000001]]\n",
      "domain = [0.0000000000000000 .. 0.0010000000000000001]\n",
      "roots = [[0.0000000000000000 .. 0.10000000000000001]]\n",
      "seg_domain = [0.0000000000000000 .. 0.0010000000000000001]\n",
      "roots = [[0.0000000000000000 .. 0.10000000000000001]]\n",
      "0 at 0.00100000000000001\n",
      "Monitored signal 0.0056917667388916016 sec\n",
      "ode in symbolic ring\n",
      "str_odes = ['[1.00000000000000, 1.00000000000000]', '-(y)', 'x']\n",
      "run = True\n",
      "var = t type(var) = <class 'str'> var_str = t\n",
      "var = x type(var) = <class 'str'> var_str = x\n",
      "var = y type(var) = <class 'str'> var_str = y\n",
      "initials = (1.?, 0.?e1, 1.?e1)\n",
      "Computed 1 flowpipes in 0.0027823448181152344 sec\n",
      "PolyObserver(x - 3, <flowstar.reachability.Reach object at 0x5591403bb820>, -y symbolic_composition=False, tentative_unpreconditioning=True, mask=None)\n",
      "symbolic_composition=False, tentative_unpreconditioning=True\n",
      "roots(space_domain=None, epsilon=1e-05, verbosity=0)\n",
      "roots = [[0.0000000000000000 .. 0.10000000000000001]]\n",
      "domain = [0.0000000000000000 .. 0.0010000000000000001]\n",
      "roots = [[0.0000000000000000 .. 0.10000000000000001]]\n",
      "seg_domain = [0.0000000000000000 .. 0.0010000000000000001]\n",
      "roots = [[0.0000000000000000 .. 0.10000000000000001]]\n",
      "0 at 0.00100000000000001\n",
      "Monitored signal 0.004073143005371094 sec\n",
      "ode in symbolic ring\n",
      "str_odes = ['[1.00000000000000, 1.00000000000000]', '-(y)', 'x']\n",
      "run = True\n",
      "var = t type(var) = <class 'str'> var_str = t\n",
      "var = x type(var) = <class 'str'> var_str = x\n",
      "var = y type(var) = <class 'str'> var_str = y\n",
      "initials = (1.?, 1.?e1, 1.?e1)\n",
      "Computed 1 flowpipes in 0.0029125213623046875 sec\n",
      "PolyObserver(x - 3, <flowstar.reachability.Reach object at 0x5591403bb820>, -y symbolic_composition=False, tentative_unpreconditioning=True, mask=None)\n",
      "symbolic_composition=False, tentative_unpreconditioning=True\n",
      "roots(space_domain=None, epsilon=1e-05, verbosity=0)\n",
      "roots = [[0.0000000000000000 .. 0.10000000000000001]]\n",
      "domain = [0.0000000000000000 .. 0.0010000000000000001]\n",
      "roots = [[0.0000000000000000 .. 0.10000000000000001]]\n",
      "seg_domain = [0.0000000000000000 .. 0.0010000000000000001]\n",
      "roots = [[0.0000000000000000 .. 0.10000000000000001]]\n",
      "0 at 0.00100000000000001\n",
      "Monitored signal 0.005299091339111328 sec\n",
      "ode in symbolic ring\n",
      "str_odes = ['[1.00000000000000, 1.00000000000000]', '-(y)', 'x']\n",
      "run = True\n",
      "var = t type(var) = <class 'str'> var_str = t\n",
      "var = x type(var) = <class 'str'> var_str = x\n",
      "var = y type(var) = <class 'str'> var_str = y\n",
      "initials = (1.?, 1.?e1, 1.?e1)\n",
      "Computed 1 flowpipes in 0.0034346580505371094 sec\n",
      "PolyObserver(x - 3, <flowstar.reachability.Reach object at 0x5591403bb820>, -y symbolic_composition=False, tentative_unpreconditioning=True, mask=None)\n",
      "symbolic_composition=False, tentative_unpreconditioning=True\n",
      "roots(space_domain=None, epsilon=1e-05, verbosity=0)\n",
      "roots = [[0.0000000000000000 .. 0.10000000000000001]]\n",
      "domain = [0.0000000000000000 .. 0.0010000000000000001]\n",
      "roots = [[0.0000000000000000 .. 0.10000000000000001]]\n",
      "seg_domain = [0.0000000000000000 .. 0.0010000000000000001]\n",
      "roots = [[0.0000000000000000 .. 0.10000000000000001]]\n",
      "0 at 0.00100000000000001\n",
      "Monitored signal 0.005131244659423828 sec\n",
      "ode in symbolic ring\n",
      "str_odes = ['[1.00000000000000, 1.00000000000000]', '-(y)', 'x']\n",
      "run = True\n",
      "var = t type(var) = <class 'str'> var_str = t\n",
      "var = x type(var) = <class 'str'> var_str = x\n",
      "var = y type(var) = <class 'str'> var_str = y\n",
      "initials = (1.?, 1.?e1, 2.?e1)\n",
      "Computed 1 flowpipes in 0.0024950504302978516 sec\n",
      "PolyObserver(x - 3, <flowstar.reachability.Reach object at 0x5591403bc9d0>, -y symbolic_composition=False, tentative_unpreconditioning=True, mask=None)\n",
      "symbolic_composition=False, tentative_unpreconditioning=True\n",
      "roots(space_domain=None, epsilon=1e-05, verbosity=0)\n",
      "roots = [[0.0000000000000000 .. 0.10000000000000001]]\n",
      "domain = [0.0000000000000000 .. 0.0010000000000000001]\n",
      "roots = [[0.0000000000000000 .. 0.10000000000000001]]\n",
      "seg_domain = [0.0000000000000000 .. 0.0010000000000000001]\n",
      "roots = [[0.0000000000000000 .. 0.10000000000000001]]\n",
      "0 at 0.00100000000000001\n",
      "Monitored signal 0.006560087203979492 sec\n",
      "ode in symbolic ring\n",
      "str_odes = ['[1.00000000000000, 1.00000000000000]', '-(y)', 'x']\n",
      "run = True\n",
      "var = t type(var) = <class 'str'> var_str = t\n",
      "var = x type(var) = <class 'str'> var_str = x\n",
      "var = y type(var) = <class 'str'> var_str = y\n",
      "initials = (1.?, 0.?e1, 2.?e1)\n",
      "Computed 1 flowpipes in 0.0029211044311523438 sec\n",
      "PolyObserver(x - 3, <flowstar.reachability.Reach object at 0x5591403bc9d0>, -y symbolic_composition=False, tentative_unpreconditioning=True, mask=None)\n",
      "symbolic_composition=False, tentative_unpreconditioning=True\n",
      "roots(space_domain=None, epsilon=1e-05, verbosity=0)\n",
      "roots = []\n",
      "domain = [0.0000000000000000 .. 0.0010000000000000001]\n",
      "roots = []\n",
      "seg_domain = [0.0000000000000000 .. 0.0010000000000000001]\n",
      "roots = []\n",
      "Monitored signal 0.003118753433227539 sec\n",
      "ode in symbolic ring\n",
      "str_odes = ['[1.00000000000000, 1.00000000000000]', '-(y)', 'x']\n",
      "run = True\n",
      "var = t type(var) = <class 'str'> var_str = t\n",
      "var = x type(var) = <class 'str'> var_str = x\n",
      "var = y type(var) = <class 'str'> var_str = y\n",
      "initials = (1.?e1, -1.?e1, 1.?e1)\n",
      "Computed 1 flowpipes in 0.003400564193725586 sec\n",
      "PolyObserver(x - 3, <flowstar.reachability.Reach object at 0x5591403bc880>, -y symbolic_composition=False, tentative_unpreconditioning=True, mask=None)\n",
      "symbolic_composition=False, tentative_unpreconditioning=True\n",
      "roots(space_domain=None, epsilon=1e-05, verbosity=0)\n",
      "roots = []\n",
      "domain = [0.0000000000000000 .. 0.0010000000000000001]\n",
      "roots = []\n",
      "seg_domain = [0.0000000000000000 .. 0.0010000000000000001]\n",
      "roots = []\n",
      "Monitored signal 0.003719329833984375 sec\n",
      "ode in symbolic ring\n",
      "str_odes = ['[1.00000000000000, 1.00000000000000]', '-(y)', 'x']\n",
      "run = True\n",
      "var = t type(var) = <class 'str'> var_str = t\n",
      "var = x type(var) = <class 'str'> var_str = x\n",
      "var = y type(var) = <class 'str'> var_str = y\n",
      "initials = (1.?e1, 0.?e1, 1.?e1)\n",
      "Computed 1 flowpipes in 0.00246429443359375 sec\n",
      "PolyObserver(x - 3, <flowstar.reachability.Reach object at 0x5591403bafa0>, -y symbolic_composition=False, tentative_unpreconditioning=True, mask=None)\n",
      "symbolic_composition=False, tentative_unpreconditioning=True\n",
      "roots(space_domain=None, epsilon=1e-05, verbosity=0)\n",
      "roots = [[0.0000000000000000 .. 0.10000000000000001]]\n",
      "domain = [0.0000000000000000 .. 0.0010000000000000001]\n",
      "roots = [[0.0000000000000000 .. 0.10000000000000001]]\n",
      "seg_domain = [0.0000000000000000 .. 0.0010000000000000001]\n",
      "roots = [[0.0000000000000000 .. 0.10000000000000001]]\n",
      "0 at 0.00100000000000001\n",
      "Monitored signal 0.004457712173461914 sec\n",
      "ode in symbolic ring\n",
      "str_odes = ['[1.00000000000000, 1.00000000000000]', '-(y)', 'x']\n",
      "run = True\n",
      "var = t type(var) = <class 'str'> var_str = t\n",
      "var = x type(var) = <class 'str'> var_str = x\n",
      "var = y type(var) = <class 'str'> var_str = y\n",
      "initials = (4.?, 0.?e1, 1.?e1)\n",
      "Computed 1 flowpipes in 0.004362344741821289 sec\n",
      "PolyObserver(x - 3, <flowstar.reachability.Reach object at 0x5591402ceff0>, -y symbolic_composition=False, tentative_unpreconditioning=True, mask=None)\n",
      "symbolic_composition=False, tentative_unpreconditioning=True\n",
      "roots(space_domain=None, epsilon=1e-05, verbosity=0)\n",
      "roots = []\n",
      "domain = [0.0000000000000000 .. 0.0010000000000000001]\n",
      "roots = []\n",
      "seg_domain = [0.0000000000000000 .. 0.0010000000000000001]\n",
      "roots = []\n",
      "Monitored signal 0.0029854774475097656 sec\n",
      "ode in symbolic ring\n",
      "str_odes = ['[1.00000000000000, 1.00000000000000]', '-(y)', 'x']\n",
      "run = True\n",
      "var = t type(var) = <class 'str'> var_str = t\n",
      "var = x type(var) = <class 'str'> var_str = x\n",
      "var = y type(var) = <class 'str'> var_str = y\n",
      "initials = (1.?e1, 1.?e1, 1.?e1)\n",
      "Computed 1 flowpipes in 0.004234790802001953 sec\n",
      "PolyObserver(x - 3, <flowstar.reachability.Reach object at 0x5591402ceff0>, -y symbolic_composition=False, tentative_unpreconditioning=True, mask=None)\n",
      "symbolic_composition=False, tentative_unpreconditioning=True\n",
      "roots(space_domain=None, epsilon=1e-05, verbosity=0)\n",
      "roots = [[0.0000000000000000 .. 0.10000000000000001]]\n",
      "domain = [0.0000000000000000 .. 0.0010000000000000001]\n",
      "roots = [[0.0000000000000000 .. 0.10000000000000001]]\n",
      "seg_domain = [0.0000000000000000 .. 0.0010000000000000001]\n",
      "roots = [[0.0000000000000000 .. 0.10000000000000001]]\n",
      "0 at 0.00100000000000001\n",
      "Monitored signal 0.00487208366394043 sec\n",
      "ode in symbolic ring\n",
      "str_odes = ['[1.00000000000000, 1.00000000000000]', '-(y)', 'x']\n",
      "run = True\n",
      "var = t type(var) = <class 'str'> var_str = t\n",
      "var = x type(var) = <class 'str'> var_str = x\n",
      "var = y type(var) = <class 'str'> var_str = y\n",
      "initials = (5.?, 1.?e1, 1.?e1)\n",
      "Computed 1 flowpipes in 0.002852201461791992 sec\n",
      "PolyObserver(x - 3, <flowstar.reachability.Reach object at 0x5591402ceed0>, -y symbolic_composition=False, tentative_unpreconditioning=True, mask=None)\n",
      "symbolic_composition=False, tentative_unpreconditioning=True\n",
      "roots(space_domain=None, epsilon=1e-05, verbosity=0)\n",
      "roots = [[0.0000000000000000 .. 0.10000000000000001]]\n",
      "domain = [0.0000000000000000 .. 0.0010000000000000001]\n",
      "roots = [[0.0000000000000000 .. 0.10000000000000001]]\n",
      "seg_domain = [0.0000000000000000 .. 0.0010000000000000001]\n",
      "roots = [[0.0000000000000000 .. 0.10000000000000001]]\n",
      "0 at 0.00100000000000001\n",
      "Monitored signal 0.008919715881347656 sec\n",
      "ode in symbolic ring\n",
      "str_odes = ['[1.00000000000000, 1.00000000000000]', '-(y)', 'x']\n",
      "run = True\n",
      "var = t type(var) = <class 'str'> var_str = t\n",
      "var = x type(var) = <class 'str'> var_str = x\n",
      "var = y type(var) = <class 'str'> var_str = y\n",
      "initials = (5.?, 1.?e1, 1.?e1)\n",
      "Computed 1 flowpipes in 0.0024356842041015625 sec\n",
      "PolyObserver(x - 3, <flowstar.reachability.Reach object at 0x5591402cee20>, -y symbolic_composition=False, tentative_unpreconditioning=True, mask=None)\n",
      "symbolic_composition=False, tentative_unpreconditioning=True\n",
      "roots(space_domain=None, epsilon=1e-05, verbosity=0)\n",
      "roots = [[0.0000000000000000 .. 0.10000000000000001]]\n",
      "domain = [0.0000000000000000 .. 0.0010000000000000001]\n",
      "roots = [[0.0000000000000000 .. 0.10000000000000001]]\n",
      "seg_domain = [0.0000000000000000 .. 0.0010000000000000001]\n",
      "roots = [[0.0000000000000000 .. 0.10000000000000001]]\n",
      "0 at 0.00100000000000001\n",
      "Monitored signal 0.004485368728637695 sec\n",
      "ode in symbolic ring\n",
      "str_odes = ['[1.00000000000000, 1.00000000000000]', '-(y)', 'x']\n",
      "run = True\n",
      "var = t type(var) = <class 'str'> var_str = t\n",
      "var = x type(var) = <class 'str'> var_str = x\n",
      "var = y type(var) = <class 'str'> var_str = y\n",
      "initials = (6.?, 1.?e1, 1.?e1)\n",
      "Computed 1 flowpipes in 0.0031974315643310547 sec\n",
      "PolyObserver(x - 3, <flowstar.reachability.Reach object at 0x5591403d02f0>, -y symbolic_composition=False, tentative_unpreconditioning=True, mask=None)\n",
      "symbolic_composition=False, tentative_unpreconditioning=True\n",
      "roots(space_domain=None, epsilon=1e-05, verbosity=0)\n",
      "roots = [[0.0000000000000000 .. 0.10000000000000001]]\n",
      "domain = [0.0000000000000000 .. 0.0010000000000000001]\n",
      "roots = [[0.0000000000000000 .. 0.10000000000000001]]\n",
      "seg_domain = [0.0000000000000000 .. 0.0010000000000000001]\n",
      "roots = [[0.0000000000000000 .. 0.10000000000000001]]\n",
      "0 at 0.00100000000000001\n",
      "Monitored signal 0.003626108169555664 sec\n",
      "ode in symbolic ring\n",
      "str_odes = ['[1.00000000000000, 1.00000000000000]', '-(y)', 'x']\n",
      "run = True\n",
      "var = t type(var) = <class 'str'> var_str = t\n",
      "var = x type(var) = <class 'str'> var_str = x\n",
      "var = y type(var) = <class 'str'> var_str = y\n",
      "initials = (6.?, 1.?e1, 1.?e1)\n",
      "Computed 1 flowpipes in 0.003954172134399414 sec\n",
      "PolyObserver(x - 3, <flowstar.reachability.Reach object at 0x55913ee9ee00>, -y symbolic_composition=False, tentative_unpreconditioning=True, mask=None)\n",
      "symbolic_composition=False, tentative_unpreconditioning=True\n",
      "roots(space_domain=None, epsilon=1e-05, verbosity=0)\n",
      "roots = [[0.026319357623306460 .. 0.10000000000000001]]\n",
      "domain = [0.0000000000000000 .. 0.0010000000000000001]\n",
      "roots = [[0.026319357623306460 .. 0.10000000000000001]]\n",
      "seg_domain = [0.0000000000000000 .. 0.0010000000000000001]\n",
      "roots = [[0.026319357623306460 .. 0.10000000000000001]]\n",
      "Monitored signal 0.005069255828857422 sec\n",
      "ode in symbolic ring\n",
      "str_odes = ['[1.00000000000000, 1.00000000000000]', '-(y)', 'x']\n",
      "run = True\n",
      "var = t type(var) = <class 'str'> var_str = t\n",
      "var = x type(var) = <class 'str'> var_str = x\n",
      "var = y type(var) = <class 'str'> var_str = y\n",
      "initials = (1.?e1, 0.?e1, 1.?e1)\n"
     ]
    },
    {
     "name": "stdout",
     "output_type": "stream",
     "text": [
      "Computed 1 flowpipes in 0.0024242401123046875 sec\n",
      "PolyObserver(x - 3, <flowstar.reachability.Reach object at 0x5591403bc010>, -y symbolic_composition=False, tentative_unpreconditioning=True, mask=None)\n",
      "symbolic_composition=False, tentative_unpreconditioning=True\n",
      "roots(space_domain=None, epsilon=1e-05, verbosity=0)\n",
      "roots = [[0.0000000000000000 .. 0.10000000000000001]]\n",
      "domain = [0.0000000000000000 .. 0.0010000000000000001]\n",
      "roots = [[0.0000000000000000 .. 0.10000000000000001]]\n",
      "seg_domain = [0.0000000000000000 .. 0.0010000000000000001]\n",
      "roots = [[0.0000000000000000 .. 0.10000000000000001]]\n",
      "0 at 0.00100000000000001\n",
      "Monitored signal 0.007687091827392578 sec\n",
      "ode in symbolic ring\n",
      "str_odes = ['[1.00000000000000, 1.00000000000000]', '-(y)', 'x']\n",
      "run = True\n",
      "var = t type(var) = <class 'str'> var_str = t\n",
      "var = x type(var) = <class 'str'> var_str = x\n",
      "var = y type(var) = <class 'str'> var_str = y\n",
      "initials = (1.?e1, 0.?e1, 1.?e1)\n",
      "Computed 1 flowpipes in 0.002429962158203125 sec\n",
      "PolyObserver(x - 3, <flowstar.reachability.Reach object at 0x5591403bc010>, -y symbolic_composition=False, tentative_unpreconditioning=True, mask=None)\n",
      "symbolic_composition=False, tentative_unpreconditioning=True\n",
      "roots(space_domain=None, epsilon=1e-05, verbosity=0)\n",
      "roots = [[0.0000000000000000 .. 0.10000000000000001]]\n",
      "domain = [0.0000000000000000 .. 0.0010000000000000001]\n",
      "roots = [[0.0000000000000000 .. 0.10000000000000001]]\n",
      "seg_domain = [0.0000000000000000 .. 0.0010000000000000001]\n",
      "roots = [[0.0000000000000000 .. 0.10000000000000001]]\n",
      "0 at 0.00100000000000001\n",
      "Monitored signal 0.004375457763671875 sec\n",
      "ode in symbolic ring\n",
      "str_odes = ['[1.00000000000000, 1.00000000000000]', '-(y)', 'x']\n",
      "run = True\n",
      "var = t type(var) = <class 'str'> var_str = t\n",
      "var = x type(var) = <class 'str'> var_str = x\n",
      "var = y type(var) = <class 'str'> var_str = y\n",
      "initials = (7.?, 0.?e1, 1.?e1)\n",
      "Computed 1 flowpipes in 0.002705097198486328 sec\n",
      "PolyObserver(x - 3, <flowstar.reachability.Reach object at 0x5591403c0150>, -y symbolic_composition=False, tentative_unpreconditioning=True, mask=None)\n",
      "symbolic_composition=False, tentative_unpreconditioning=True\n",
      "roots(space_domain=None, epsilon=1e-05, verbosity=0)\n",
      "roots = [[0.0000000000000000 .. 0.10000000000000001]]\n",
      "domain = [0.0000000000000000 .. 0.0010000000000000001]\n",
      "roots = [[0.0000000000000000 .. 0.10000000000000001]]\n",
      "seg_domain = [0.0000000000000000 .. 0.0010000000000000001]\n",
      "roots = [[0.0000000000000000 .. 0.10000000000000001]]\n",
      "0 at 0.00100000000000001\n",
      "Monitored signal 0.008767843246459961 sec\n",
      "ode in symbolic ring\n",
      "str_odes = ['[1.00000000000000, 1.00000000000000]', '-(y)', 'x']\n",
      "run = True\n",
      "var = t type(var) = <class 'str'> var_str = t\n",
      "var = x type(var) = <class 'str'> var_str = x\n",
      "var = y type(var) = <class 'str'> var_str = y\n",
      "initials = (7.?, 1.?e1, 1.?e1)\n",
      "Computed 1 flowpipes in 0.002988576889038086 sec\n",
      "PolyObserver(x - 3, <flowstar.reachability.Reach object at 0x55913ee9ee00>, -y symbolic_composition=False, tentative_unpreconditioning=True, mask=None)\n",
      "symbolic_composition=False, tentative_unpreconditioning=True\n",
      "roots(space_domain=None, epsilon=1e-05, verbosity=0)\n",
      "roots = [[0.0000000000000000 .. 0.10000000000000001]]\n",
      "domain = [0.0000000000000000 .. 0.0010000000000000001]\n",
      "roots = [[0.0000000000000000 .. 0.10000000000000001]]\n",
      "seg_domain = [0.0000000000000000 .. 0.0010000000000000001]\n",
      "roots = [[0.0000000000000000 .. 0.10000000000000001]]\n",
      "0 at 0.00100000000000001\n",
      "Monitored signal 0.004835367202758789 sec\n",
      "ode in symbolic ring\n",
      "str_odes = ['[1.00000000000000, 1.00000000000000]', '-(y)', 'x']\n",
      "run = True\n",
      "var = t type(var) = <class 'str'> var_str = t\n",
      "var = x type(var) = <class 'str'> var_str = x\n",
      "var = y type(var) = <class 'str'> var_str = y\n",
      "initials = (7.?, 1.?e1, 1.?e1)\n",
      "Computed 1 flowpipes in 0.003926753997802734 sec\n",
      "PolyObserver(x - 3, <flowstar.reachability.Reach object at 0x5591403c1990>, -y symbolic_composition=False, tentative_unpreconditioning=True, mask=None)\n",
      "symbolic_composition=False, tentative_unpreconditioning=True\n",
      "roots(space_domain=None, epsilon=1e-05, verbosity=0)\n",
      "roots = [[0.0000000000000000 .. 0.10000000000000001]]\n",
      "domain = [0.0000000000000000 .. 0.0010000000000000001]\n",
      "roots = [[0.0000000000000000 .. 0.10000000000000001]]\n",
      "seg_domain = [0.0000000000000000 .. 0.0010000000000000001]\n",
      "roots = [[0.0000000000000000 .. 0.10000000000000001]]\n",
      "0 at 0.00100000000000001\n",
      "Monitored signal 0.006226062774658203 sec\n",
      "ode in symbolic ring\n",
      "str_odes = ['[1.00000000000000, 1.00000000000000]', '-(y)', 'x']\n",
      "run = True\n",
      "var = t type(var) = <class 'str'> var_str = t\n",
      "var = x type(var) = <class 'str'> var_str = x\n",
      "var = y type(var) = <class 'str'> var_str = y\n",
      "initials = (7.?, 1.?e1, 2.?e1)\n",
      "Computed 1 flowpipes in 0.004256248474121094 sec\n",
      "PolyObserver(x - 3, <flowstar.reachability.Reach object at 0x5591403c0230>, -y symbolic_composition=False, tentative_unpreconditioning=True, mask=None)\n",
      "symbolic_composition=False, tentative_unpreconditioning=True\n",
      "roots(space_domain=None, epsilon=1e-05, verbosity=0)\n",
      "roots = [[0.0000000000000000 .. 0.10000000000000001]]\n",
      "domain = [0.0000000000000000 .. 0.0010000000000000001]\n",
      "roots = [[0.0000000000000000 .. 0.10000000000000001]]\n",
      "seg_domain = [0.0000000000000000 .. 0.0010000000000000001]\n",
      "roots = [[0.0000000000000000 .. 0.10000000000000001]]\n",
      "0 at 0.00100000000000001\n",
      "Monitored signal 0.0037488937377929688 sec\n",
      "ode in symbolic ring\n",
      "str_odes = ['[1.00000000000000, 1.00000000000000]', '-(y)', 'x']\n",
      "run = True\n",
      "var = t type(var) = <class 'str'> var_str = t\n",
      "var = x type(var) = <class 'str'> var_str = x\n",
      "var = y type(var) = <class 'str'> var_str = y\n",
      "initials = (8.?, 0.?e1, 2.?e1)\n",
      "Computed 1 flowpipes in 0.0037539005279541016 sec\n",
      "PolyObserver(x - 3, <flowstar.reachability.Reach object at 0x5591403c0200>, -y symbolic_composition=False, tentative_unpreconditioning=True, mask=None)\n",
      "symbolic_composition=False, tentative_unpreconditioning=True\n",
      "roots(space_domain=None, epsilon=1e-05, verbosity=0)\n",
      "roots = []\n",
      "domain = [0.0000000000000000 .. 0.0010000000000000001]\n",
      "roots = []\n",
      "seg_domain = [0.0000000000000000 .. 0.0010000000000000001]\n",
      "roots = []\n",
      "Monitored signal 0.0034110546112060547 sec\n",
      "ode in symbolic ring\n",
      "str_odes = ['[1.00000000000000, 1.00000000000000]', '-(y)', 'x']\n",
      "run = True\n",
      "var = t type(var) = <class 'str'> var_str = t\n",
      "var = x type(var) = <class 'str'> var_str = x\n",
      "var = y type(var) = <class 'str'> var_str = y\n",
      "initials = (1.?e1, -1.?e1, 1.?e1)\n",
      "Computed 1 flowpipes in 0.002965211868286133 sec\n",
      "PolyObserver(x - 3, <flowstar.reachability.Reach object at 0x5591403bc2b0>, -y symbolic_composition=False, tentative_unpreconditioning=True, mask=None)\n",
      "symbolic_composition=False, tentative_unpreconditioning=True\n",
      "roots(space_domain=None, epsilon=1e-05, verbosity=0)\n",
      "roots = []\n",
      "domain = [0.0000000000000000 .. 0.0010000000000000001]\n",
      "roots = []\n",
      "seg_domain = [0.0000000000000000 .. 0.0010000000000000001]\n",
      "roots = []\n",
      "Monitored signal 0.005718231201171875 sec\n",
      "ode in symbolic ring\n",
      "str_odes = ['[1.00000000000000, 1.00000000000000]', '-(y)', 'x']\n",
      "run = True\n",
      "var = t type(var) = <class 'str'> var_str = t\n",
      "var = x type(var) = <class 'str'> var_str = x\n",
      "var = y type(var) = <class 'str'> var_str = y\n",
      "initials = (1.?e1, 0.?e1, 1.?e1)\n",
      "Computed 1 flowpipes in 0.00276947021484375 sec\n",
      "PolyObserver(x - 3, <flowstar.reachability.Reach object at 0x5591403d01b0>, -y symbolic_composition=False, tentative_unpreconditioning=True, mask=None)\n",
      "symbolic_composition=False, tentative_unpreconditioning=True\n",
      "roots(space_domain=None, epsilon=1e-05, verbosity=0)\n",
      "roots = [[0.0000000000000000 .. 0.10000000000000001]]\n",
      "domain = [0.0000000000000000 .. 0.0010000000000000001]\n",
      "roots = [[0.0000000000000000 .. 0.10000000000000001]]\n",
      "seg_domain = [0.0000000000000000 .. 0.0010000000000000001]\n",
      "roots = [[0.0000000000000000 .. 0.10000000000000001]]\n",
      "0 at 0.00100000000000001\n",
      "Monitored signal 0.005668163299560547 sec\n",
      "ode in symbolic ring\n",
      "str_odes = ['[1.00000000000000, 1.00000000000000]', '-(y)', 'x']\n",
      "run = True\n",
      "var = t type(var) = <class 'str'> var_str = t\n",
      "var = x type(var) = <class 'str'> var_str = x\n",
      "var = y type(var) = <class 'str'> var_str = y\n",
      "initials = (10.?, 0.?e1, 1.?e1)\n",
      "Computed 1 flowpipes in 0.0031366348266601562 sec\n",
      "PolyObserver(x - 3, <flowstar.reachability.Reach object at 0x5591403bc7f0>, -y symbolic_composition=False, tentative_unpreconditioning=True, mask=None)\n",
      "symbolic_composition=False, tentative_unpreconditioning=True\n",
      "roots(space_domain=None, epsilon=1e-05, verbosity=0)\n",
      "roots = []\n",
      "domain = [0.0000000000000000 .. 0.0010000000000000001]\n",
      "roots = []\n",
      "seg_domain = [0.0000000000000000 .. 0.0010000000000000001]\n",
      "roots = []\n",
      "Monitored signal 0.004500627517700195 sec\n",
      "ode in symbolic ring\n",
      "str_odes = ['[1.00000000000000, 1.00000000000000]', '-(y)', 'x']\n",
      "run = True\n",
      "var = t type(var) = <class 'str'> var_str = t\n",
      "var = x type(var) = <class 'str'> var_str = x\n",
      "var = y type(var) = <class 'str'> var_str = y\n",
      "initials = (2.?e1, 1.?e1, 1.?e1)\n",
      "Computed 1 flowpipes in 0.002453327178955078 sec\n",
      "PolyObserver(x - 3, <flowstar.reachability.Reach object at 0x5591403bc6d0>, -y symbolic_composition=False, tentative_unpreconditioning=True, mask=None)\n",
      "symbolic_composition=False, tentative_unpreconditioning=True\n",
      "roots(space_domain=None, epsilon=1e-05, verbosity=0)\n",
      "roots = [[0.0000000000000000 .. 0.10000000000000001]]\n",
      "domain = [0.0000000000000000 .. 0.0010000000000000001]\n",
      "roots = [[0.0000000000000000 .. 0.10000000000000001]]\n",
      "seg_domain = [0.0000000000000000 .. 0.0010000000000000001]\n",
      "roots = [[0.0000000000000000 .. 0.10000000000000001]]\n",
      "0 at 0.00100000000000001\n",
      "Monitored signal 0.0047037601470947266 sec\n",
      "ode in symbolic ring\n",
      "str_odes = ['[1.00000000000000, 1.00000000000000]', '-(y)', 'x']\n",
      "run = True\n",
      "var = t type(var) = <class 'str'> var_str = t\n",
      "var = x type(var) = <class 'str'> var_str = x\n",
      "var = y type(var) = <class 'str'> var_str = y\n",
      "initials = (11.?, 1.?e1, 1.?e1)\n",
      "Computed 1 flowpipes in 0.040064334869384766 sec\n",
      "PolyObserver(x - 3, <flowstar.reachability.Reach object at 0x5591403ddbc0>, -y symbolic_composition=False, tentative_unpreconditioning=True, mask=None)\n",
      "symbolic_composition=False, tentative_unpreconditioning=True\n",
      "roots(space_domain=None, epsilon=1e-05, verbosity=0)\n",
      "roots = [[0.0000000000000000 .. 0.10000000000000001]]\n",
      "domain = [0.0000000000000000 .. 0.0010000000000000001]\n",
      "roots = [[0.0000000000000000 .. 0.10000000000000001]]\n",
      "seg_domain = [0.0000000000000000 .. 0.0010000000000000001]\n",
      "roots = [[0.0000000000000000 .. 0.10000000000000001]]\n",
      "0 at 0.00100000000000001\n",
      "Monitored signal 0.0037021636962890625 sec\n",
      "ode in symbolic ring\n",
      "str_odes = ['[1.00000000000000, 1.00000000000000]', '-(y)', 'x']\n",
      "run = True\n",
      "var = t type(var) = <class 'str'> var_str = t\n",
      "var = x type(var) = <class 'str'> var_str = x\n",
      "var = y type(var) = <class 'str'> var_str = y\n",
      "initials = (11.?, 1.?e1, 1.?e1)\n",
      "Computed 1 flowpipes in 0.002260446548461914 sec\n",
      "PolyObserver(x - 3, <flowstar.reachability.Reach object at 0x5591403d01b0>, -y symbolic_composition=False, tentative_unpreconditioning=True, mask=None)\n",
      "symbolic_composition=False, tentative_unpreconditioning=True\n",
      "roots(space_domain=None, epsilon=1e-05, verbosity=0)\n",
      "roots = [[0.0000000000000000 .. 0.10000000000000001]]\n",
      "domain = [0.0000000000000000 .. 0.0010000000000000001]\n",
      "roots = [[0.0000000000000000 .. 0.10000000000000001]]\n",
      "seg_domain = [0.0000000000000000 .. 0.0010000000000000001]\n",
      "roots = [[0.0000000000000000 .. 0.10000000000000001]]\n",
      "0 at 0.00100000000000001\n",
      "Monitored signal 0.0035772323608398438 sec\n",
      "ode in symbolic ring\n",
      "str_odes = ['[1.00000000000000, 1.00000000000000]', '-(y)', 'x']\n",
      "run = True\n",
      "var = t type(var) = <class 'str'> var_str = t\n",
      "var = x type(var) = <class 'str'> var_str = x\n",
      "var = y type(var) = <class 'str'> var_str = y\n",
      "initials = (12.?, 1.?e1, 1.?e1)\n",
      "Computed 1 flowpipes in 0.001729726791381836 sec\n",
      "PolyObserver(x - 3, <flowstar.reachability.Reach object at 0x55913b959720>, -y symbolic_composition=False, tentative_unpreconditioning=True, mask=None)\n",
      "symbolic_composition=False, tentative_unpreconditioning=True\n",
      "roots(space_domain=None, epsilon=1e-05, verbosity=0)\n",
      "roots = [[0.0000000000000000 .. 0.10000000000000001]]\n",
      "domain = [0.0000000000000000 .. 0.0010000000000000001]\n",
      "roots = [[0.0000000000000000 .. 0.10000000000000001]]\n",
      "seg_domain = [0.0000000000000000 .. 0.0010000000000000001]\n",
      "roots = [[0.0000000000000000 .. 0.10000000000000001]]\n",
      "0 at 0.00100000000000001\n",
      "Monitored signal 0.0041844844818115234 sec\n",
      "ode in symbolic ring\n",
      "str_odes = ['[1.00000000000000, 1.00000000000000]', '-(y)', 'x']\n",
      "run = True\n",
      "var = t type(var) = <class 'str'> var_str = t\n",
      "var = x type(var) = <class 'str'> var_str = x\n",
      "var = y type(var) = <class 'str'> var_str = y\n",
      "initials = (12.?, 1.?e1, 1.?e1)\n",
      "Computed 1 flowpipes in 0.0028922557830810547 sec\n",
      "PolyObserver(x - 3, <flowstar.reachability.Reach object at 0x5591403d0310>, -y symbolic_composition=False, tentative_unpreconditioning=True, mask=None)\n",
      "symbolic_composition=False, tentative_unpreconditioning=True\n",
      "roots(space_domain=None, epsilon=1e-05, verbosity=0)\n",
      "roots = [[0.028013549369841111 .. 0.10000000000000001]]\n",
      "domain = [0.0000000000000000 .. 0.0010000000000000001]\n",
      "roots = [[0.028013549369841111 .. 0.10000000000000001]]\n",
      "seg_domain = [0.0000000000000000 .. 0.0010000000000000001]\n",
      "roots = [[0.028013549369841111 .. 0.10000000000000001]]\n",
      "Monitored signal 0.006517648696899414 sec\n",
      "Monitored signal 0.5258457660675049 sec\n"
     ]
    }
   ],
   "source": [
    "sig = ({y: RIF(9,10)} >> P).signal_for_system(system, 4*pi)"
   ]
  },
  {
   "cell_type": "code",
   "execution_count": 19,
   "metadata": {
    "pycharm": {}
   },
   "outputs": [
    {
     "data": {
      "image/png": "[encoded data removed]",
      "text/plain": [
       "Graphics object consisting of 2 graphics primitives"
      ]
     },
     "execution_count": 19,
     "metadata": {},
     "output_type": "execute_result"
    }
   ],
   "source": [
    "sig.plot()"
   ]
  },
  {
   "cell_type": "code",
   "execution_count": 20,
   "metadata": {},
   "outputs": [
    {
     "data": {
      "text/plain": [
       "(0, 5.?, 2.?)"
      ]
     },
     "execution_count": 20,
     "metadata": {},
     "output_type": "execute_result"
    }
   ],
   "source": [
    "system.y0"
   ]
  },
  {
   "cell_type": "code",
   "execution_count": 21,
   "metadata": {},
   "outputs": [
    {
     "data": {
      "text/plain": [
       "(0, 5.?, 11.?)"
      ]
     },
     "execution_count": 21,
     "metadata": {},
     "output_type": "execute_result"
    }
   ],
   "source": [
    "system.y0 + vector([0, 0, RIF(9, 10)])"
   ]
  },
  {
   "cell_type": "code",
   "execution_count": 22,
   "metadata": {},
   "outputs": [
    {
     "data": {
      "text/plain": [
       "(1, -y, x)"
      ]
     },
     "execution_count": 22,
     "metadata": {},
     "output_type": "execute_result"
    }
   ],
   "source": [
    "system.y"
   ]
  },
  {
   "cell_type": "code",
   "execution_count": 23,
   "metadata": {},
   "outputs": [
    {
     "name": "stdout",
     "output_type": "stream",
     "text": [
      "ode in symbolic ring\n",
      "str_odes = ['[1.00000000000000, 1.00000000000000]', '-(y)', 'x']\n",
      "run = True\n",
      "var = t type(var) = <class 'str'> var_str = t\n",
      "var = x type(var) = <class 'str'> var_str = x\n",
      "var = y type(var) = <class 'str'> var_str = y\n",
      "initials = (0, 5.?, 11.?)\n",
      "Computed 126 flowpipes in 0.11792492866516113 sec\n",
      "PolyObserver(x - 3, <flowstar.reachability.Reach object at 0x55913f106690>, -y symbolic_composition=False, tentative_unpreconditioning=True, mask=None)\n",
      "symbolic_composition=False, tentative_unpreconditioning=True\n",
      "roots(space_domain=None, epsilon=1e-05, verbosity=0)\n",
      "roots = [[0.081516747491443677 .. 0.19406068185241543], [3.6984032643378994 .. 3.8826503022056969], [6.3649393953780037 .. 6.4766948192463590], [9.9823213963454886 .. 10.164468975200757]]\n",
      "domain = [0.0000000000000000 .. 12.566370614359173]\n",
      "roots = [[0.081516747491443677 .. 0.19406068185241543], \n",
      " [3.6984032643378994 .. 3.8826503022056969], \n",
      " [6.3649393953780037 .. 6.4766948192463590], \n",
      " [9.9823213963454886 .. 10.164468975200757]]\n",
      "seg_domain = [0.0000000000000000 .. 12.566370614359173]\n",
      "roots = [[0.081516747491443677 .. 0.19406068185241543], \n",
      " [3.6984032643378994 .. 3.8826503022056969], \n",
      " [6.3649393953780037 .. 6.4766948192463590], \n",
      " [9.9823213963454886 .. 10.164468975200757]]\n",
      "Monitored signal 0.0323944091796875 sec\n"
     ]
    }
   ],
   "source": [
    "sig = P.signal_for_system(system.with_y0(system.y0 + vector([0, 0, RIF(9, 10)])), 4*pi)"
   ]
  },
  {
   "cell_type": "code",
   "execution_count": 24,
   "metadata": {},
   "outputs": [
    {
     "data": {
      "image/png": "[encoded data removed]",
      "text/plain": [
       "Graphics object consisting of 2 graphics primitives"
      ]
     },
     "execution_count": 24,
     "metadata": {},
     "output_type": "execute_result"
    }
   ],
   "source": [
    "sig.plot()"
   ]
  },
  {
   "cell_type": "code",
   "execution_count": null,
   "metadata": {
    "pycharm": {}
   },
   "outputs": [],
   "source": [
    "sig = ({y: RIF(9,10)} >> G(RIF(0, 5), P)).signal_for_system(odes, initials, 4*pi)"
   ]
  },
  {
   "cell_type": "code",
   "execution_count": null,
   "metadata": {
    "pycharm": {}
   },
   "outputs": [],
   "source": [
    "sig.plot()"
   ]
  },
  {
   "cell_type": "code",
   "execution_count": null,
   "metadata": {
    "pycharm": {}
   },
   "outputs": [],
   "source": [
    "sig = ({y: RIF(9,10)} >> G(RIF(0, pi/2), Atomic(y))).signal_for_system(odes, initials, 4*pi)"
   ]
  },
  {
   "cell_type": "code",
   "execution_count": null,
   "metadata": {
    "pycharm": {}
   },
   "outputs": [],
   "source": [
    "sig.plot()"
   ]
  },
  {
   "cell_type": "markdown",
   "metadata": {
    "pycharm": {}
   },
   "source": [
    "## Differential context!"
   ]
  },
  {
   "cell_type": "code",
   "execution_count": null,
   "metadata": {
    "pycharm": {}
   },
   "outputs": [],
   "source": [
    "sig = ({y: RIF(9,10)} % P).signal_for_system(odes, initials, 4*pi)"
   ]
  },
  {
   "cell_type": "code",
   "execution_count": null,
   "metadata": {
    "pycharm": {}
   },
   "outputs": [],
   "source": [
    "sig = ({y: RIF(0.5,0.6)} % P).signal_for_system(odes, initials, 4*pi, verbosity=10)"
   ]
  },
  {
   "cell_type": "code",
   "execution_count": null,
   "metadata": {
    "pycharm": {}
   },
   "outputs": [],
   "source": [
    "({y: RIF(9,10)} % P)"
   ]
  },
  {
   "cell_type": "code",
   "execution_count": null,
   "metadata": {
    "pycharm": {}
   },
   "outputs": [],
   "source": [
    "sig.plot()"
   ]
  },
  {
   "cell_type": "code",
   "execution_count": null,
   "metadata": {
    "pycharm": {}
   },
   "outputs": [],
   "source": [
    "sig = ({y: RIF(0.5, 0.6)} % G(RIF(0, 5), P)\n",
    "       ).signal_for_system(odes, initials, 4*pi, verbosity=10)"
   ]
  },
  {
   "cell_type": "code",
   "execution_count": null,
   "metadata": {
    "pycharm": {}
   },
   "outputs": [],
   "source": [
    "sig.plot()"
   ]
  },
  {
   "cell_type": "code",
   "execution_count": null,
   "metadata": {
    "pycharm": {}
   },
   "outputs": [],
   "source": []
  }
 ],
 "metadata": {
  "kernelspec": {
   "display_name": "SageMath 8.8",
   "language": "sage",
   "name": "sagemath"
  },
  "language_info": {
   "codemirror_mode": {
    "name": "ipython",
    "version": 3
   },
   "file_extension": ".py",
   "mimetype": "text/x-python",
   "name": "python",
   "nbconvert_exporter": "python",
   "pygments_lexer": "ipython3",
   "version": "3.7.5"
  }
 },
 "nbformat": 4,
 "nbformat_minor": 2
}
