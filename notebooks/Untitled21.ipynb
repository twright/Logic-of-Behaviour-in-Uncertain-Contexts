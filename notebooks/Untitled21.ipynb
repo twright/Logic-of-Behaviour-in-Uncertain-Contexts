{
 "cells": [
  {
   "cell_type": "code",
   "execution_count": 4,
   "metadata": {},
   "outputs": [],
   "source": [
    "%display latex\n",
    "import sys\n",
    "\n",
    "sys.path.insert(0, \"/home/twright/Documents/PhD/Notebooks\")\n",
    "\n",
    "from ulbc import *"
   ]
  },
  {
   "cell_type": "code",
   "execution_count": 5,
   "metadata": {},
   "outputs": [],
   "source": [
    "sig = Signal(RIF(0, 5), [(RIF(0, 2), True), (RIF(3, 5), False)])"
   ]
  },
  {
   "cell_type": "code",
   "execution_count": 7,
   "metadata": {},
   "outputs": [
    {
     "data": {
      "text/html": [
       "<html><script type=\"math/tex; mode=display\">\\newcommand{\\Bold}[1]{\\mathbf{#1}}\\verb|Signal([0.0000000000000000|\\phantom{\\verb!x!}\\verb|..|\\phantom{\\verb!x!}\\verb|2.0000000000000000],|\\phantom{\\verb!x!}\\verb|[([-1.0000000000000000|\\phantom{\\verb!x!}\\verb|..|\\phantom{\\verb!x!}\\verb|-0.0000000000000000],|\\phantom{\\verb!x!}\\verb|True),|\\phantom{\\verb!x!}\\verb|([0.0000000000000000|\\phantom{\\verb!x!}\\verb|..|\\phantom{\\verb!x!}\\verb|2.0000000000000000],|\\phantom{\\verb!x!}\\verb|False)],|\\phantom{\\verb!x!}\\verb|mask=None)|</script></html>"
      ],
      "text/plain": [
       "Signal([0.0000000000000000 .. 2.0000000000000000], [([-1.0000000000000000 .. -0.0000000000000000], True), ([0.0000000000000000 .. 2.0000000000000000], False)], mask=None)"
      ]
     },
     "execution_count": 7,
     "metadata": {},
     "output_type": "execute_result"
    }
   ],
   "source": [
    "sig.G(RIF(3))"
   ]
  },
  {
   "cell_type": "code",
   "execution_count": null,
   "metadata": {},
   "outputs": [],
   "source": []
  }
 ],
 "metadata": {
  "kernelspec": {
   "display_name": "SageMath 8.8",
   "language": "sage",
   "name": "sagemath"
  },
  "language_info": {
   "codemirror_mode": {
    "name": "ipython",
    "version": 3
   },
   "file_extension": ".py",
   "mimetype": "text/x-python",
   "name": "python",
   "nbconvert_exporter": "python",
   "pygments_lexer": "ipython3",
   "version": "3.7.6"
  }
 },
 "nbformat": 4,
 "nbformat_minor": 2
}
