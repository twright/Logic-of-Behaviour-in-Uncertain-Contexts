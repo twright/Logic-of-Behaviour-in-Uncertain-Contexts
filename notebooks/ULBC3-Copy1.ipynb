{
 "cells": [
  {
   "cell_type": "markdown",
   "metadata": {
    "pycharm": {}
   },
   "source": [
    "# Tests"
   ]
  },
  {
   "cell_type": "markdown",
   "metadata": {
    "pycharm": {}
   },
   "source": [
    "## Example 1: Simple"
   ]
  },
  {
   "cell_type": "code",
   "execution_count": 3,
   "metadata": {
    "pycharm": {}
   },
   "outputs": [],
   "source": [
    "from flowstar.reachability import Reach\n",
    "from flowstar.poly import Poly\n",
    "from ulbc import *"
   ]
  },
  {
   "cell_type": "code",
   "execution_count": 4,
   "metadata": {
    "pycharm": {
     "metadata": false,
     "name": "#%%\n"
    }
   },
   "outputs": [],
   "source": [
    "R.<t,x,y> = RIF[]"
   ]
  },
  {
   "cell_type": "code",
   "execution_count": 13,
   "metadata": {
    "pycharm": {}
   },
   "outputs": [
    {
     "name": "stdout",
     "output_type": "stream",
     "text": [
      "reach polynomial case\n",
      "ode in polynomial ring\n",
      "run = True\n",
      "vars = ['t', 'x', 'y']\n",
      "var = t type(var) = <class 'str'> var_str = t\n",
      "var = x type(var) = <class 'str'> var_str = x\n",
      "var = y type(var) = <class 'str'> var_str = y\n",
      "Pre-composing Taylor models: 0.030882596969604492 sec\n"
     ]
    }
   ],
   "source": [
    "odes = [\n",
    "    R(1),\n",
    "    -y,\n",
    "    x,\n",
    "]\n",
    "initials = [(0,0), (4,5), (1,2)]\n",
    "system = System(\n",
    "    R,\n",
    "    [t, x, y],\n",
    "    initials,\n",
    "    odes,\n",
    ")\n",
    "reach = system.reach(2*pi, step=0.1, order=10,\n",
    "              precompose_taylor_models=True)"
   ]
  },
  {
   "cell_type": "code",
   "execution_count": 14,
   "metadata": {
    "scrolled": true
   },
   "outputs": [
    {
     "data": {
      "text/plain": [
       "(t, x, y)"
      ]
     },
     "execution_count": 14,
     "metadata": {},
     "output_type": "execute_result"
    }
   ],
   "source": [
    "odes[0].parent().gens()"
   ]
  },
  {
   "cell_type": "code",
   "execution_count": 15,
   "metadata": {
    "pycharm": {}
   },
   "outputs": [],
   "source": [
    "def plot_signal(sig):\n",
    "    return sig.to_domain(RIF(0,2*pi)).plot().show(\n",
    "        ticks=[pi/2, 1], tick_formatter=pi, aspect_ratio=2/3)"
   ]
  },
  {
   "cell_type": "code",
   "execution_count": 16,
   "metadata": {
    "pycharm": {}
   },
   "outputs": [
    {
     "data": {
      "text/plain": [
       "2"
      ]
     },
     "execution_count": 16,
     "metadata": {},
     "output_type": "execute_result"
    }
   ],
   "source": [
    "reach.res"
   ]
  },
  {
   "cell_type": "code",
   "execution_count": 17,
   "metadata": {
    "pycharm": {}
   },
   "outputs": [
    {
     "data": {
      "text/plain": [
       "Atomic(x - 3)"
      ]
     },
     "execution_count": 17,
     "metadata": {},
     "output_type": "execute_result"
    }
   ],
   "source": [
    "P = Atomic(x - 3); P"
   ]
  },
  {
   "cell_type": "code",
   "execution_count": 19,
   "metadata": {
    "pycharm": {}
   },
   "outputs": [
    {
     "name": "stdout",
     "output_type": "stream",
     "text": [
      "PolyObserver(x - 3, <flowstar.reachability.Reach object at 0x55cc03c688c0>, -y symbolic_composition=False, tentative_unpreconditioning=True, mask=None)\n",
      "symbolic_composition=False, tentative_unpreconditioning=True\n",
      "roots(space_domain=None, epsilon=1e-05, verbosity=0)\n",
      "roots = [[0.36442391108285426 .. 0.75322999900880539], [4.9094498886889716 .. 5.3000000000000105]]\n",
      "domain = [0.0000000000000000 .. 6.2821853071795868]\n",
      "roots = [[0.36442391108285426 .. 0.75322999900880539], \n",
      " [4.9094498886889716 .. 5.3000000000000105]]\n",
      "seg_domain = [0.0000000000000000 .. 6.2821853071795868]\n",
      "roots = [[0.36442391108285426 .. 0.75322999900880539], \n",
      " [4.9094498886889716 .. 5.3000000000000105]]\n",
      "PolyObserver(x - 3, <flowstar.reachability.Reach object at 0x55cc03c688c0>, -y symbolic_composition=False, tentative_unpreconditioning=True, mask=None)\n"
     ]
    },
    {
     "name": "stderr",
     "output_type": "stream",
     "text": [
      "/usr/lib64/python3.7/site-packages/numpy/core/getlimits.py:400: UserWarning: Signature b'\\x99\\x99\\x99\\x99\\x99\\x99\\xb9\\xbf' for <class 'numpy.float64'> does not match any known type: falling back to type probe function\n",
      "  machar = _get_machar(dtype)\n"
     ]
    },
    {
     "data": {
      "image/png": "[encoded data removed]",
      "text/plain": [
       "Graphics object consisting of 5 graphics primitives"
      ]
     },
     "execution_count": 19,
     "metadata": {},
     "output_type": "execute_result"
    }
   ],
   "source": [
    "P.signal(reach).plot() + P.sage_plot(reach)"
   ]
  },
  {
   "cell_type": "code",
   "execution_count": 20,
   "metadata": {
    "pycharm": {}
   },
   "outputs": [
    {
     "name": "stdout",
     "output_type": "stream",
     "text": [
      "reach polynomial case\n",
      "ode in polynomial ring\n",
      "run = True\n",
      "vars = ['t', 'x', 'y']\n",
      "var = t type(var) = <class 'str'> var_str = t\n",
      "var = x type(var) = <class 'str'> var_str = x\n",
      "var = y type(var) = <class 'str'> var_str = y\n",
      "Computed 63 flowpipes in 0.03259873390197754 sec\n",
      "PolyObserver(x - 3, <flowstar.reachability.Reach object at 0x55cc04453300>, -y symbolic_composition=False, tentative_unpreconditioning=True, mask=None)\n",
      "symbolic_composition=False, tentative_unpreconditioning=True\n",
      "roots(space_domain=None, epsilon=1e-05, verbosity=0)\n",
      "roots = [[0.36442391108285426 .. 0.75322999900880539], [4.9094498886889716 .. 5.3000000000000105]]\n",
      "domain = [0.0000000000000000 .. 6.2831853071795872]\n",
      "roots = [[0.36442391108285426 .. 0.75322999900880539], \n",
      " [4.9094498886889716 .. 5.3000000000000105]]\n",
      "seg_domain = [0.0000000000000000 .. 6.2831853071795872]\n",
      "roots = [[0.36442391108285426 .. 0.75322999900880539], \n",
      " [4.9094498886889716 .. 5.3000000000000105]]\n",
      "Monitored signal 0.028556346893310547 sec\n"
     ]
    },
    {
     "data": {
      "image/png": "[encoded data removed]",
      "text/plain": [
       "Graphics object consisting of 2 graphics primitives"
      ]
     },
     "metadata": {},
     "output_type": "display_data"
    }
   ],
   "source": [
    "plot_signal( P.signal_for_system(system, 2*pi) )"
   ]
  },
  {
   "cell_type": "code",
   "execution_count": 21,
   "metadata": {
    "pycharm": {}
   },
   "outputs": [
    {
     "data": {
      "text/plain": [
       "Atomic(-y + 3)"
      ]
     },
     "execution_count": 21,
     "metadata": {},
     "output_type": "execute_result"
    }
   ],
   "source": [
    "Q = Atomic(3 - y); Q"
   ]
  },
  {
   "cell_type": "code",
   "execution_count": 22,
   "metadata": {
    "pycharm": {}
   },
   "outputs": [
    {
     "name": "stdout",
     "output_type": "stream",
     "text": [
      "PolyObserver(-y + 3, <flowstar.reachability.Reach object at 0x55cc03c688c0>, -x symbolic_composition=False, tentative_unpreconditioning=True, mask=None)\n",
      "symbolic_composition=False, tentative_unpreconditioning=True\n",
      "roots(space_domain=None, epsilon=1e-05, verbosity=0)\n",
      "roots = [[0.19999999999999995 .. 0.58848494710426814], [1.9311141906428892 .. 2.3182023568246275]]\n",
      "domain = [0.0000000000000000 .. 6.2821853071795868]\n",
      "roots = [[0.19999999999999995 .. 0.58848494710426814], \n",
      " [1.9311141906428892 .. 2.3182023568246275]]\n",
      "seg_domain = [0.0000000000000000 .. 6.2821853071795868]\n",
      "roots = [[0.19999999999999995 .. 0.58848494710426814], \n",
      " [1.9311141906428892 .. 2.3182023568246275]]\n",
      "PolyObserver(-y + 3, <flowstar.reachability.Reach object at 0x55cc03c688c0>, -x symbolic_composition=False, tentative_unpreconditioning=True, mask=None)\n"
     ]
    },
    {
     "data": {
      "image/png": "[encoded data removed]",
      "text/plain": [
       "Graphics object consisting of 5 graphics primitives"
      ]
     },
     "execution_count": 22,
     "metadata": {},
     "output_type": "execute_result"
    }
   ],
   "source": [
    "Q.signal(reach).plot() + Q.sage_plot(reach)"
   ]
  },
  {
   "cell_type": "code",
   "execution_count": 23,
   "metadata": {
    "pycharm": {}
   },
   "outputs": [
    {
     "name": "stdout",
     "output_type": "stream",
     "text": [
      "reach polynomial case\n",
      "ode in polynomial ring\n",
      "run = True\n",
      "vars = ['t', 'x', 'y']\n",
      "var = t type(var) = <class 'str'> var_str = t\n",
      "var = x type(var) = <class 'str'> var_str = x\n",
      "var = y type(var) = <class 'str'> var_str = y\n",
      "Computed 63 flowpipes in 0.04228663444519043 sec\n",
      "PolyObserver(-y + 3, <flowstar.reachability.Reach object at 0x55cc04658270>, -x symbolic_composition=False, tentative_unpreconditioning=True, mask=None)\n",
      "symbolic_composition=False, tentative_unpreconditioning=True\n",
      "roots(space_domain=None, epsilon=1e-05, verbosity=0)\n",
      "roots = [[0.19999999999999995 .. 0.58848494710426814], [1.9311141906428892 .. 2.3182023568246275]]\n",
      "domain = [0.0000000000000000 .. 6.2831853071795872]\n",
      "roots = [[0.19999999999999995 .. 0.58848494710426814], \n",
      " [1.9311141906428892 .. 2.3182023568246275]]\n",
      "seg_domain = [0.0000000000000000 .. 6.2831853071795872]\n",
      "roots = [[0.19999999999999995 .. 0.58848494710426814], \n",
      " [1.9311141906428892 .. 2.3182023568246275]]\n",
      "Monitored signal 0.0337519645690918 sec\n"
     ]
    },
    {
     "data": {
      "image/png": "[encoded data removed]",
      "text/plain": [
       "Graphics object consisting of 2 graphics primitives"
      ]
     },
     "metadata": {},
     "output_type": "display_data"
    }
   ],
   "source": [
    "plot_signal( Q.signal_for_system(system, 2*pi) )"
   ]
  },
  {
   "cell_type": "code",
   "execution_count": 24,
   "metadata": {
    "pycharm": {}
   },
   "outputs": [
    {
     "name": "stdout",
     "output_type": "stream",
     "text": [
      "reach polynomial case\n",
      "ode in polynomial ring\n",
      "run = True\n",
      "vars = ['t', 'x', 'y']\n",
      "var = t type(var) = <class 'str'> var_str = t\n",
      "var = x type(var) = <class 'str'> var_str = x\n",
      "var = y type(var) = <class 'str'> var_str = y\n",
      "Computed 75 flowpipes in 0.04745173454284668 sec\n",
      "In G.signal\n",
      "PolyObserver(x - 3, <flowstar.reachability.Reach object at 0x55cc044325f0>, -y symbolic_composition=False, tentative_unpreconditioning=True, mask=None)\n",
      "symbolic_composition=False, tentative_unpreconditioning=True\n",
      "roots(space_domain=None, epsilon=1e-05, verbosity=0)\n",
      "roots = [[0.36442391108285426 .. 0.75322999900880539], [4.9094498886889716 .. 5.3000000000000105], [6.6497432568188568 .. 7.0331814940841380]]\n",
      "domain = [0.0000000000000000 .. 7.4831853071795873]\n",
      "roots = [[0.36442391108285426 .. 0.75322999900880539], \n",
      " [4.9094498886889716 .. 5.3000000000000105], \n",
      " [6.6497432568188568 .. 7.0331814940841380]]\n",
      "seg_domain = [0.0000000000000000 .. 7.4831853071795873]\n",
      "roots = [[0.36442391108285426 .. 0.75322999900880539], \n",
      " [4.9094498886889716 .. 5.3000000000000105], \n",
      " [6.6497432568188568 .. 7.0331814940841380]]\n",
      "Monitored signal 0.03376030921936035 sec\n"
     ]
    },
    {
     "data": {
      "image/png": "[encoded data removed]",
      "text/plain": [
       "Graphics object consisting of 2 graphics primitives"
      ]
     },
     "metadata": {},
     "output_type": "display_data"
    }
   ],
   "source": [
    "plot_signal( G(RIF(1,1.2), P).signal_for_system(system, 2*pi) )"
   ]
  },
  {
   "cell_type": "code",
   "execution_count": 25,
   "metadata": {
    "pycharm": {}
   },
   "outputs": [
    {
     "name": "stdout",
     "output_type": "stream",
     "text": [
      "reach polynomial case\n",
      "ode in polynomial ring\n",
      "run = True\n",
      "vars = ['t', 'x', 'y']\n",
      "var = t type(var) = <class 'str'> var_str = t\n",
      "var = x type(var) = <class 'str'> var_str = x\n",
      "var = y type(var) = <class 'str'> var_str = y\n",
      "Computed 103 flowpipes in 0.05531787872314453 sec\n",
      "PolyObserver(-y + 3, <flowstar.reachability.Reach object at 0x55cc04aa2f30>, -x symbolic_composition=False, tentative_unpreconditioning=True, mask=None)\n",
      "symbolic_composition=False, tentative_unpreconditioning=True\n",
      "roots(space_domain=None, epsilon=1e-05, verbosity=0)\n",
      "roots = [[0.19999999999999995 .. 0.58848494710426814], [1.9311141906428892 .. 2.3182023568246275], [6.4892456363200068 .. 6.8667576512155782], [8.2066212216717797 .. 8.6000000000000334]]\n",
      "domain = [0.0000000000000000 .. 10.283185307179589]\n",
      "roots = [[0.19999999999999995 .. 0.58848494710426814], \n",
      " [1.9311141906428892 .. 2.3182023568246275], \n",
      " [6.4892456363200068 .. 6.8667576512155782], \n",
      " [8.2066212216717797 .. 8.6000000000000334]]\n",
      "seg_domain = [0.0000000000000000 .. 10.283185307179589]\n",
      "roots = [[0.19999999999999995 .. 0.58848494710426814], \n",
      " [1.9311141906428892 .. 2.3182023568246275], \n",
      " [6.4892456363200068 .. 6.8667576512155782], \n",
      " [8.2066212216717797 .. 8.6000000000000334]]\n",
      "Monitored signal 0.04341006278991699 sec\n"
     ]
    },
    {
     "name": "stderr",
     "output_type": "stream",
     "text": [
      "/home/twright/Drive/Documents/PhD/Notebooks/ulbc/interval_signals.py:224: UserWarning: Inconsistent intervals [-3.3000000000000003 .. -0.0000000000000000] (True) and [-2.0688858093571110 .. -0.0000000000000000] (False) in signal!\n",
      "  u.str(style='brackets'), bu))\n",
      "/home/twright/Drive/Documents/PhD/Notebooks/ulbc/interval_signals.py:224: UserWarning: Inconsistent intervals [-3.3000000000000003 .. 2.9892456363200069] (True) and [-2.0688858093571110 .. -0.0000000000000000] (False) in signal!\n",
      "  u.str(style='brackets'), bu))\n"
     ]
    },
    {
     "data": {
      "image/png": "[encoded data removed]",
      "text/plain": [
       "Graphics object consisting of 2 graphics primitives"
      ]
     },
     "metadata": {},
     "output_type": "display_data"
    }
   ],
   "source": [
    "plot_signal( F(RIF(3.5, 4), Q).signal_for_system(system, 2*pi) )"
   ]
  },
  {
   "cell_type": "code",
   "execution_count": 26,
   "metadata": {
    "pycharm": {},
    "scrolled": false
   },
   "outputs": [
    {
     "name": "stdout",
     "output_type": "stream",
     "text": [
      "reach polynomial case\n",
      "ode in polynomial ring\n",
      "run = True\n",
      "vars = ['t', 'x', 'y']\n",
      "var = t type(var) = <class 'str'> var_str = t\n",
      "var = x type(var) = <class 'str'> var_str = x\n",
      "var = y type(var) = <class 'str'> var_str = y\n",
      "Computed 103 flowpipes in 0.0587310791015625 sec\n",
      "In G.signal\n",
      "PolyObserver(x - 3, <flowstar.reachability.Reach object at 0x55cc04d5b6a0>, -y symbolic_composition=False, tentative_unpreconditioning=True, mask=None)\n",
      "symbolic_composition=False, tentative_unpreconditioning=True\n",
      "roots(space_domain=None, epsilon=1e-05, verbosity=0)\n",
      "roots = [[0.36442391108285426 .. 0.75322999900880539], [4.9094498886889716 .. 5.3000000000000105], [6.6497432568188568 .. 7.0331814940841380]]\n",
      "domain = [0.0000000000000000 .. 10.283185307179589]\n",
      "roots = [[0.36442391108285426 .. 0.75322999900880539], \n",
      " [4.9094498886889716 .. 5.3000000000000105], \n",
      " [6.6497432568188568 .. 7.0331814940841380]]\n",
      "seg_domain = [0.0000000000000000 .. 10.283185307179589]\n",
      "roots = [[0.36442391108285426 .. 0.75322999900880539], \n",
      " [4.9094498886889716 .. 5.3000000000000105], \n",
      " [6.6497432568188568 .. 7.0331814940841380]]\n",
      "PolyObserver(-y + 3, <flowstar.reachability.Reach object at 0x55cc04d5b6a0>, -x symbolic_composition=False, tentative_unpreconditioning=True, mask=None)\n",
      "symbolic_composition=False, tentative_unpreconditioning=True\n",
      "roots(space_domain=None, epsilon=1e-05, verbosity=0)\n",
      "roots = [[0.19999999999999995 .. 0.58848494710426814], [1.9311141906428892 .. 2.3182023568246275], [6.4892456363200068 .. 6.8667576512155782], [8.2066212216717797 .. 8.6000000000000334]]\n",
      "domain = [0.0000000000000000 .. 10.283185307179589]\n",
      "roots = [[0.19999999999999995 .. 0.58848494710426814], \n",
      " [1.9311141906428892 .. 2.3182023568246275], \n",
      " [6.4892456363200068 .. 6.8667576512155782], \n",
      " [8.2066212216717797 .. 8.6000000000000334]]\n",
      "seg_domain = [0.0000000000000000 .. 10.283185307179589]\n",
      "roots = [[0.19999999999999995 .. 0.58848494710426814], \n",
      " [1.9311141906428892 .. 2.3182023568246275], \n",
      " [6.4892456363200068 .. 6.8667576512155782], \n",
      " [8.2066212216717797 .. 8.6000000000000334]]\n",
      "Monitored signal 0.07897591590881348 sec\n"
     ]
    },
    {
     "name": "stderr",
     "output_type": "stream",
     "text": [
      "/home/twright/Drive/Documents/PhD/Notebooks/ulbc/interval_signals.py:224: UserWarning: Inconsistent intervals [-3.3000000000000003 .. -0.0000000000000000] (True) and [-2.0688858093571110 .. -0.0000000000000000] (False) in signal!\n",
      "  u.str(style='brackets'), bu))\n",
      "/home/twright/Drive/Documents/PhD/Notebooks/ulbc/interval_signals.py:224: UserWarning: Inconsistent intervals [-3.3000000000000003 .. 2.9892456363200069] (True) and [-2.0688858093571110 .. -0.0000000000000000] (False) in signal!\n",
      "  u.str(style='brackets'), bu))\n"
     ]
    },
    {
     "data": {
      "image/png": "[encoded data removed]",
      "text/plain": [
       "Graphics object consisting of 2 graphics primitives"
      ]
     },
     "metadata": {},
     "output_type": "display_data"
    }
   ],
   "source": [
    "plot_signal( (G(RIF(1,1.2), P) | F(RIF(3.5,4), Q)).signal_for_system(system, 2*pi) )"
   ]
  },
  {
   "cell_type": "code",
   "execution_count": 27,
   "metadata": {
    "pycharm": {}
   },
   "outputs": [
    {
     "name": "stdout",
     "output_type": "stream",
     "text": [
      "reach polynomial case\n",
      "ode in polynomial ring\n",
      "run = True\n",
      "vars = ['t', 'x', 'y']\n",
      "var = t type(var) = <class 'str'> var_str = t\n",
      "var = x type(var) = <class 'str'> var_str = x\n",
      "var = y type(var) = <class 'str'> var_str = y\n",
      "Computed 103 flowpipes in 0.05485129356384277 sec\n",
      "In G.signal\n",
      "PolyObserver(x - 3, <flowstar.reachability.Reach object at 0x55cc053b23a0>, -y symbolic_composition=False, tentative_unpreconditioning=True, mask=None)\n",
      "symbolic_composition=False, tentative_unpreconditioning=True\n",
      "roots(space_domain=None, epsilon=1e-05, verbosity=0)\n",
      "roots = [[0.36442391108285426 .. 0.75322999900880539], [4.9094498886889716 .. 5.3000000000000105], [6.6497432568188568 .. 7.0331814940841380]]\n",
      "domain = [0.0000000000000000 .. 10.283185307179589]\n",
      "roots = [[0.36442391108285426 .. 0.75322999900880539], \n",
      " [4.9094498886889716 .. 5.3000000000000105], \n",
      " [6.6497432568188568 .. 7.0331814940841380]]\n",
      "seg_domain = [0.0000000000000000 .. 10.283185307179589]\n",
      "roots = [[0.36442391108285426 .. 0.75322999900880539], \n",
      " [4.9094498886889716 .. 5.3000000000000105], \n",
      " [6.6497432568188568 .. 7.0331814940841380]]\n",
      "PolyObserver(-y + 3, <flowstar.reachability.Reach object at 0x55cc053b23a0>, -x symbolic_composition=False, tentative_unpreconditioning=True, mask=None)\n",
      "symbolic_composition=False, tentative_unpreconditioning=True\n",
      "roots(space_domain=None, epsilon=1e-05, verbosity=0)\n",
      "roots = [[0.19999999999999995 .. 0.58848494710426814], [1.9311141906428892 .. 2.3182023568246275], [6.4892456363200068 .. 6.8667576512155782], [8.2066212216717797 .. 8.6000000000000334]]\n",
      "domain = [0.0000000000000000 .. 10.283185307179589]\n",
      "roots = [[0.19999999999999995 .. 0.58848494710426814], \n",
      " [1.9311141906428892 .. 2.3182023568246275], \n",
      " [6.4892456363200068 .. 6.8667576512155782], \n",
      " [8.2066212216717797 .. 8.6000000000000334]]\n",
      "seg_domain = [0.0000000000000000 .. 10.283185307179589]\n",
      "roots = [[0.19999999999999995 .. 0.58848494710426814], \n",
      " [1.9311141906428892 .. 2.3182023568246275], \n",
      " [6.4892456363200068 .. 6.8667576512155782], \n",
      " [8.2066212216717797 .. 8.6000000000000334]]\n",
      "Monitored signal 0.07223749160766602 sec\n"
     ]
    },
    {
     "name": "stderr",
     "output_type": "stream",
     "text": [
      "/home/twright/Drive/Documents/PhD/Notebooks/ulbc/interval_signals.py:224: UserWarning: Inconsistent intervals [-3.3000000000000003 .. -0.0000000000000000] (True) and [-2.0688858093571110 .. -0.0000000000000000] (False) in signal!\n",
      "  u.str(style='brackets'), bu))\n",
      "/home/twright/Drive/Documents/PhD/Notebooks/ulbc/interval_signals.py:224: UserWarning: Inconsistent intervals [-3.3000000000000003 .. 2.9892456363200069] (True) and [-2.0688858093571110 .. -0.0000000000000000] (False) in signal!\n",
      "  u.str(style='brackets'), bu))\n"
     ]
    },
    {
     "data": {
      "image/png": "[encoded data removed]",
      "text/plain": [
       "Graphics object consisting of 2 graphics primitives"
      ]
     },
     "execution_count": 27,
     "metadata": {},
     "output_type": "execute_result"
    }
   ],
   "source": [
    "(G(RIF(1,1.2), P) & F(RIF(3.5,4), Q)).signal_for_system(system, 2*pi).plot()"
   ]
  },
  {
   "cell_type": "code",
   "execution_count": 30,
   "metadata": {
    "pycharm": {}
   },
   "outputs": [
    {
     "name": "stdout",
     "output_type": "stream",
     "text": [
      "reach polynomial case\n",
      "ode in polynomial ring\n",
      "run = True\n",
      "vars = ['t', 'x', 'y']\n",
      "var = t type(var) = <class 'str'> var_str = t\n",
      "var = x type(var) = <class 'str'> var_str = x\n",
      "var = y type(var) = <class 'str'> var_str = y\n",
      "Computed 120 flowpipes in 0.06632423400878906 sec\n",
      "In G.signal\n",
      "PolyObserver(x - 3, <flowstar.reachability.Reach object at 0x55cc058f27c0>, -y symbolic_composition=False, tentative_unpreconditioning=True, mask=None)\n",
      "symbolic_composition=False, tentative_unpreconditioning=True\n",
      "roots(space_domain=None, epsilon=1e-05, verbosity=0)\n",
      "roots = [[0.36442391108285426 .. 0.75322999900880539], [4.9094498886889716 .. 5.3000000000000105], [6.6497432568188568 .. 7.0331814940841380], [11.199999999999860 .. 11.582737468232921]]\n",
      "domain = [0.0000000000000000 .. 11.983185307179588]\n",
      "roots = [[0.36442391108285426 .. 0.75322999900880539], \n",
      " [4.9094498886889716 .. 5.3000000000000105], \n",
      " [6.6497432568188568 .. 7.0331814940841380], \n",
      " [11.199999999999860 .. 11.582737468232921]]\n",
      "seg_domain = [0.0000000000000000 .. 11.983185307179588]\n",
      "roots = [[0.36442391108285426 .. 0.75322999900880539], \n",
      " [4.9094498886889716 .. 5.3000000000000105], \n",
      " [6.6497432568188568 .. 7.0331814940841380], \n",
      " [11.199999999999860 .. 11.582737468232921]]\n",
      "PolyObserver(-y + 3, <flowstar.reachability.Reach object at 0x55cc058f27c0>, -x symbolic_composition=False, tentative_unpreconditioning=True, mask=None)\n",
      "symbolic_composition=False, tentative_unpreconditioning=True\n",
      "roots(space_domain=None, epsilon=1e-05, verbosity=0)\n",
      "roots = [[0.19999999999999995 .. 0.58848494710426814], [1.9311141906428892 .. 2.3182023568246275], [6.4892456363200068 .. 6.8667576512155782], [8.2066212216717797 .. 8.6000000000000334]]\n",
      "domain = [0.0000000000000000 .. 11.983185307179588]\n",
      "roots = [[0.19999999999999995 .. 0.58848494710426814], \n",
      " [1.9311141906428892 .. 2.3182023568246275], \n",
      " [6.4892456363200068 .. 6.8667576512155782], \n",
      " [8.2066212216717797 .. 8.6000000000000334]]\n",
      "seg_domain = [0.0000000000000000 .. 11.983185307179588]\n",
      "roots = [[0.19999999999999995 .. 0.58848494710426814], \n",
      " [1.9311141906428892 .. 2.3182023568246275], \n",
      " [6.4892456363200068 .. 6.8667576512155782], \n",
      " [8.2066212216717797 .. 8.6000000000000334]]\n",
      "domain   = [0.0000000000000000 .. 10.983185307179588]\n",
      "values   = [('[-0.83557608891714575 .. -0.0000000000000000]', True), ('[0.0000000000000000 .. 3.9094498886889717]', False), ('[4.3000000000000104 .. 5.4497432568188567]', True), ('[5.8331814940841386 .. 10.199999999999861]', False), ('[10.582737468232920 .. 10.783185307179587]', True)]\n",
      "falses1  = []\n",
      "trues    = [('[-0.83557608891714575 .. -0.0000000000000000]', True)]\n",
      "falses2  = [('[0.0000000000000000 .. 3.9094498886889717]', False)]\n",
      "u_domain = [0.0000000000000000 .. -0.0000000000000000]\n",
      "Monitored signal 0.09201312065124512 sec\n"
     ]
    },
    {
     "name": "stderr",
     "output_type": "stream",
     "text": [
      "/home/twright/Drive/Documents/PhD/Notebooks/ulbc/interval_signals.py:224: UserWarning: Inconsistent intervals [-3.3000000000000003 .. -0.0000000000000000] (True) and [-2.0688858093571110 .. -0.0000000000000000] (False) in signal!\n",
      "  u.str(style='brackets'), bu))\n",
      "/home/twright/Drive/Documents/PhD/Notebooks/ulbc/interval_signals.py:224: UserWarning: Inconsistent intervals [-3.3000000000000003 .. 2.9892456363200069] (True) and [-2.0688858093571110 .. -0.0000000000000000] (False) in signal!\n",
      "  u.str(style='brackets'), bu))\n",
      "/usr/lib64/python3.7/site-packages/matplotlib/contour.py:1243: UserWarning: No contour levels were found within the data range.\n",
      "  warnings.warn(\"No contour levels were found\"\n"
     ]
    },
    {
     "data": {
      "image/png": "[encoded data removed]",
      "text/plain": [
       "Graphics object consisting of 2 graphics primitives"
      ]
     },
     "metadata": {},
     "output_type": "display_data"
    }
   ],
   "source": [
    "sig = U(G(RIF(1, 1.2), P), RIF(0.4, 0.5), F(RIF(3.5, 4), Q)).signal_for_system(\n",
    "    system, 2*pi)\n",
    "plot_signal( sig )"
   ]
  },
  {
   "cell_type": "markdown",
   "metadata": {
    "pycharm": {}
   },
   "source": [
    "## Context!"
   ]
  },
  {
   "cell_type": "code",
   "execution_count": 31,
   "metadata": {
    "pycharm": {}
   },
   "outputs": [
    {
     "data": {
      "text/plain": [
       "C({y: [9 .. 10]}, Atomic(x - 3))"
      ]
     },
     "execution_count": 31,
     "metadata": {},
     "output_type": "execute_result"
    }
   ],
   "source": [
    "{y: RIF(9,10)} >> P"
   ]
  },
  {
   "cell_type": "code",
   "execution_count": 32,
   "metadata": {
    "pycharm": {}
   },
   "outputs": [
    {
     "name": "stdout",
     "output_type": "stream",
     "text": [
      "reach polynomial case\n",
      "ode in polynomial ring\n",
      "run = True\n",
      "vars = ['t', 'x', 'y']\n",
      "var = t type(var) = <class 'str'> var_str = t\n",
      "var = x type(var) = <class 'str'> var_str = x\n",
      "var = y type(var) = <class 'str'> var_str = y\n",
      "Computed 126 flowpipes in 0.06941437721252441 sec\n",
      "In C.signal\n",
      "mask = None\n",
      "reach polynomial case\n",
      "ode in polynomial ring\n",
      "run = True\n",
      "vars = ['t', 'x', 'y']\n",
      "var = t type(var) = <class 'str'> var_str = t\n",
      "var = x type(var) = <class 'str'> var_str = x\n",
      "var = y type(var) = <class 'str'> var_str = y\n",
      "Computed 1 flowpipes in 0.0025529861450195312 sec\n",
      "PolyObserver(x - 3, <flowstar.reachability.Reach object at 0x55cc04261f10>, x symbolic_composition=False, tentative_unpreconditioning=True, mask=None)\n",
      "symbolic_composition=False, tentative_unpreconditioning=True\n",
      "roots(space_domain=None, epsilon=1e-05, verbosity=0)\n",
      "roots = [[0.0000000000000000 .. 0.10000000000000001]]\n",
      "domain = [0.0000000000000000 .. 0.0010000000000000001]\n",
      "roots = [[0.0000000000000000 .. 0.10000000000000001]]\n",
      "seg_domain = [0.0000000000000000 .. 0.0010000000000000001]\n",
      "roots = [[0.0000000000000000 .. 0.10000000000000001]]\n",
      "0 at 0.00100000000000001\n",
      "Monitored signal 0.007585287094116211 sec\n",
      "reach polynomial case\n",
      "ode in polynomial ring\n",
      "run = True\n",
      "vars = ['t', 'x', 'y']\n",
      "var = t type(var) = <class 'str'> var_str = t\n",
      "var = x type(var) = <class 'str'> var_str = x\n",
      "var = y type(var) = <class 'str'> var_str = y\n",
      "Computed 1 flowpipes in 0.0029850006103515625 sec\n",
      "PolyObserver(x - 3, <flowstar.reachability.Reach object at 0x55cc0542cb10>, x symbolic_composition=False, tentative_unpreconditioning=True, mask=None)\n",
      "symbolic_composition=False, tentative_unpreconditioning=True\n",
      "roots(space_domain=None, epsilon=1e-05, verbosity=0)\n",
      "roots = [[0.0000000000000000 .. 0.10000000000000001]]\n",
      "domain = [0.0000000000000000 .. 0.0010000000000000001]\n",
      "roots = [[0.0000000000000000 .. 0.10000000000000001]]\n",
      "seg_domain = [0.0000000000000000 .. 0.0010000000000000001]\n",
      "roots = [[0.0000000000000000 .. 0.10000000000000001]]\n",
      "0 at 0.00100000000000001\n",
      "Monitored signal 0.008222818374633789 sec\n",
      "reach polynomial case\n",
      "ode in polynomial ring\n",
      "run = True\n",
      "vars = ['t', 'x', 'y']\n",
      "var = t type(var) = <class 'str'> var_str = t\n",
      "var = x type(var) = <class 'str'> var_str = x\n",
      "var = y type(var) = <class 'str'> var_str = y\n",
      "Computed 1 flowpipes in 0.0029001235961914062 sec\n",
      "PolyObserver(x - 3, <flowstar.reachability.Reach object at 0x55cc0537cc20>, x symbolic_composition=False, tentative_unpreconditioning=True, mask=None)\n",
      "symbolic_composition=False, tentative_unpreconditioning=True\n",
      "roots(space_domain=None, epsilon=1e-05, verbosity=0)\n",
      "roots = [[0.0000000000000000 .. 0.10000000000000001]]\n",
      "domain = [0.0000000000000000 .. 0.0010000000000000001]\n",
      "roots = [[0.0000000000000000 .. 0.10000000000000001]]\n",
      "seg_domain = [0.0000000000000000 .. 0.0010000000000000001]\n",
      "roots = [[0.0000000000000000 .. 0.10000000000000001]]\n",
      "0 at 0.00100000000000001\n",
      "Monitored signal 0.007270097732543945 sec\n",
      "reach polynomial case\n",
      "ode in polynomial ring\n",
      "run = True\n",
      "vars = ['t', 'x', 'y']\n",
      "var = t type(var) = <class 'str'> var_str = t\n",
      "var = x type(var) = <class 'str'> var_str = x\n",
      "var = y type(var) = <class 'str'> var_str = y\n",
      "Computed 1 flowpipes in 0.0027618408203125 sec\n",
      "PolyObserver(x - 3, <flowstar.reachability.Reach object at 0x55cc04834ae0>, x symbolic_composition=False, tentative_unpreconditioning=True, mask=None)\n",
      "symbolic_composition=False, tentative_unpreconditioning=True\n",
      "roots(space_domain=None, epsilon=1e-05, verbosity=0)\n",
      "roots = [[0.0000000000000000 .. 0.10000000000000001]]\n",
      "domain = [0.0000000000000000 .. 0.0010000000000000001]\n",
      "roots = [[0.0000000000000000 .. 0.10000000000000001]]\n",
      "seg_domain = [0.0000000000000000 .. 0.0010000000000000001]\n",
      "roots = [[0.0000000000000000 .. 0.10000000000000001]]\n",
      "0 at 0.00100000000000001\n",
      "Monitored signal 0.010880231857299805 sec\n",
      "reach polynomial case\n",
      "ode in polynomial ring\n",
      "run = True\n",
      "vars = ['t', 'x', 'y']\n",
      "var = t type(var) = <class 'str'> var_str = t\n",
      "var = x type(var) = <class 'str'> var_str = x\n",
      "var = y type(var) = <class 'str'> var_str = y\n",
      "Computed 1 flowpipes in 0.002995729446411133 sec\n",
      "PolyObserver(x - 3, <flowstar.reachability.Reach object at 0x55cc045b0e60>, x symbolic_composition=False, tentative_unpreconditioning=True, mask=None)\n",
      "symbolic_composition=False, tentative_unpreconditioning=True\n",
      "roots(space_domain=None, epsilon=1e-05, verbosity=0)\n",
      "roots = [[0.0000000000000000 .. 0.10000000000000001]]\n",
      "domain = [0.0000000000000000 .. 0.0010000000000000001]\n",
      "roots = [[0.0000000000000000 .. 0.10000000000000001]]\n",
      "seg_domain = [0.0000000000000000 .. 0.0010000000000000001]\n",
      "roots = [[0.0000000000000000 .. 0.10000000000000001]]\n",
      "0 at 0.00100000000000001\n",
      "Monitored signal 0.008609771728515625 sec\n",
      "reach polynomial case\n",
      "ode in polynomial ring\n",
      "run = True\n",
      "vars = ['t', 'x', 'y']\n",
      "var = t type(var) = <class 'str'> var_str = t\n",
      "var = x type(var) = <class 'str'> var_str = x\n",
      "var = y type(var) = <class 'str'> var_str = y\n",
      "Computed 1 flowpipes in 0.002610445022583008 sec\n",
      "PolyObserver(x - 3, <flowstar.reachability.Reach object at 0x55cc045b0e60>, x symbolic_composition=False, tentative_unpreconditioning=True, mask=None)\n",
      "symbolic_composition=False, tentative_unpreconditioning=True\n",
      "roots(space_domain=None, epsilon=1e-05, verbosity=0)\n",
      "roots = [[0.0000000000000000 .. 0.035390243552887419]]\n",
      "domain = [0.0000000000000000 .. 0.0010000000000000001]\n",
      "roots = [[0.0000000000000000 .. 0.035390243552887419]]\n",
      "seg_domain = [0.0000000000000000 .. 0.0010000000000000001]\n",
      "roots = [[0.0000000000000000 .. 0.035390243552887419]]\n",
      "0 at 0.00100000000000001\n",
      "Monitored signal 0.011591672897338867 sec\n",
      "reach polynomial case\n",
      "ode in polynomial ring\n",
      "run = True\n",
      "vars = ['t', 'x', 'y']\n",
      "var = t type(var) = <class 'str'> var_str = t\n",
      "var = x type(var) = <class 'str'> var_str = x\n",
      "var = y type(var) = <class 'str'> var_str = y\n",
      "Computed 1 flowpipes in 0.002834796905517578 sec\n",
      "PolyObserver(x - 3, <flowstar.reachability.Reach object at 0x55cc04834840>, x symbolic_composition=False, tentative_unpreconditioning=True, mask=None)\n",
      "symbolic_composition=False, tentative_unpreconditioning=True\n",
      "roots(space_domain=None, epsilon=1e-05, verbosity=0)\n",
      "roots = [[0.0000000000000000 .. 0.10000000000000001]]\n",
      "domain = [0.0000000000000000 .. 0.0010000000000000001]\n",
      "roots = [[0.0000000000000000 .. 0.10000000000000001]]\n",
      "seg_domain = [0.0000000000000000 .. 0.0010000000000000001]\n",
      "roots = [[0.0000000000000000 .. 0.10000000000000001]]\n",
      "0 at 0.00100000000000001\n",
      "Monitored signal 0.008242130279541016 sec\n",
      "reach polynomial case\n",
      "ode in polynomial ring\n",
      "run = True\n",
      "vars = ['t', 'x', 'y']\n",
      "var = t type(var) = <class 'str'> var_str = t\n",
      "var = x type(var) = <class 'str'> var_str = x\n",
      "var = y type(var) = <class 'str'> var_str = y\n",
      "Computed 1 flowpipes in 0.002963542938232422 sec\n",
      "PolyObserver(x - 3, <flowstar.reachability.Reach object at 0x55cc0537cc20>, x symbolic_composition=False, tentative_unpreconditioning=True, mask=None)\n",
      "symbolic_composition=False, tentative_unpreconditioning=True\n",
      "roots(space_domain=None, epsilon=1e-05, verbosity=0)\n",
      "roots = [[0.0000000000000000 .. 0.10000000000000001]]\n",
      "domain = [0.0000000000000000 .. 0.0010000000000000001]\n",
      "roots = [[0.0000000000000000 .. 0.10000000000000001]]\n",
      "seg_domain = [0.0000000000000000 .. 0.0010000000000000001]\n",
      "roots = [[0.0000000000000000 .. 0.10000000000000001]]\n",
      "Monitored signal 0.010315179824829102 sec\n",
      "reach polynomial case\n",
      "ode in polynomial ring\n",
      "run = True\n",
      "vars = ['t', 'x', 'y']\n",
      "var = t type(var) = <class 'str'> var_str = t\n",
      "var = x type(var) = <class 'str'> var_str = x\n",
      "var = y type(var) = <class 'str'> var_str = y\n",
      "Computed 1 flowpipes in 0.0029709339141845703 sec\n",
      "PolyObserver(x - 3, <flowstar.reachability.Reach object at 0x55cc0537cc20>, x symbolic_composition=False, tentative_unpreconditioning=True, mask=None)\n",
      "symbolic_composition=False, tentative_unpreconditioning=True\n",
      "roots(space_domain=None, epsilon=1e-05, verbosity=0)\n",
      "roots = [[0.0000000000000000 .. 0.10000000000000001]]\n",
      "domain = [0.0000000000000000 .. 0.0010000000000000001]\n",
      "roots = [[0.0000000000000000 .. 0.10000000000000001]]\n",
      "seg_domain = [0.0000000000000000 .. 0.0010000000000000001]\n",
      "roots = [[0.0000000000000000 .. 0.10000000000000001]]\n",
      "Monitored signal 0.00877833366394043 sec\n",
      "reach polynomial case\n",
      "ode in polynomial ring\n",
      "run = True\n",
      "vars = ['t', 'x', 'y']\n",
      "var = t type(var) = <class 'str'> var_str = t\n",
      "var = x type(var) = <class 'str'> var_str = x\n",
      "var = y type(var) = <class 'str'> var_str = y\n",
      "Computed 1 flowpipes in 0.0032160282135009766 sec\n",
      "PolyObserver(x - 3, <flowstar.reachability.Reach object at 0x55cc04c8d2a0>, x symbolic_composition=False, tentative_unpreconditioning=True, mask=None)\n",
      "symbolic_composition=False, tentative_unpreconditioning=True\n",
      "roots(space_domain=None, epsilon=1e-05, verbosity=0)\n",
      "roots = []\n",
      "domain = [0.0000000000000000 .. 0.0010000000000000001]\n",
      "roots = []\n",
      "seg_domain = [0.0000000000000000 .. 0.0010000000000000001]\n",
      "roots = []\n",
      "Monitored signal 0.008567333221435547 sec\n",
      "reach polynomial case\n",
      "ode in polynomial ring\n",
      "run = True\n",
      "vars = ['t', 'x', 'y']\n",
      "var = t type(var) = <class 'str'> var_str = t\n",
      "var = x type(var) = <class 'str'> var_str = x\n",
      "var = y type(var) = <class 'str'> var_str = y\n",
      "Computed 1 flowpipes in 0.003045797348022461 sec\n",
      "PolyObserver(x - 3, <flowstar.reachability.Reach object at 0x55cc045bfb50>, x symbolic_composition=False, tentative_unpreconditioning=True, mask=None)\n",
      "symbolic_composition=False, tentative_unpreconditioning=True\n",
      "roots(space_domain=None, epsilon=1e-05, verbosity=0)\n",
      "roots = []\n",
      "domain = [0.0000000000000000 .. 0.0010000000000000001]\n",
      "roots = []\n",
      "seg_domain = [0.0000000000000000 .. 0.0010000000000000001]\n",
      "roots = []\n",
      "Monitored signal 0.007086753845214844 sec\n",
      "reach polynomial case\n",
      "ode in polynomial ring\n",
      "run = True\n",
      "vars = ['t', 'x', 'y']\n"
     ]
    },
    {
     "name": "stdout",
     "output_type": "stream",
     "text": [
      "var = t type(var) = <class 'str'> var_str = t\n",
      "var = x type(var) = <class 'str'> var_str = x\n",
      "var = y type(var) = <class 'str'> var_str = y\n",
      "Computed 1 flowpipes in 0.0031585693359375 sec\n",
      "PolyObserver(x - 3, <flowstar.reachability.Reach object at 0x55cc0537cc20>, x symbolic_composition=False, tentative_unpreconditioning=True, mask=None)\n",
      "symbolic_composition=False, tentative_unpreconditioning=True\n",
      "roots(space_domain=None, epsilon=1e-05, verbosity=0)\n",
      "roots = [[0.0000000000000000 .. 0.10000000000000001]]\n",
      "domain = [0.0000000000000000 .. 0.0010000000000000001]\n",
      "roots = [[0.0000000000000000 .. 0.10000000000000001]]\n",
      "seg_domain = [0.0000000000000000 .. 0.0010000000000000001]\n",
      "roots = [[0.0000000000000000 .. 0.10000000000000001]]\n",
      "0 at 0.00100000000000001\n",
      "Monitored signal 0.011437177658081055 sec\n",
      "reach polynomial case\n",
      "ode in polynomial ring\n",
      "run = True\n",
      "vars = ['t', 'x', 'y']\n",
      "var = t type(var) = <class 'str'> var_str = t\n",
      "var = x type(var) = <class 'str'> var_str = x\n",
      "var = y type(var) = <class 'str'> var_str = y\n",
      "Computed 1 flowpipes in 0.002850055694580078 sec\n",
      "PolyObserver(x - 3, <flowstar.reachability.Reach object at 0x55cc05446150>, x symbolic_composition=False, tentative_unpreconditioning=True, mask=None)\n",
      "symbolic_composition=False, tentative_unpreconditioning=True\n",
      "roots(space_domain=None, epsilon=1e-05, verbosity=0)\n",
      "roots = []\n",
      "domain = [0.0000000000000000 .. 0.0010000000000000001]\n",
      "roots = []\n",
      "seg_domain = [0.0000000000000000 .. 0.0010000000000000001]\n",
      "roots = []\n",
      "Monitored signal 0.006407260894775391 sec\n",
      "reach polynomial case\n",
      "ode in polynomial ring\n",
      "run = True\n",
      "vars = ['t', 'x', 'y']\n",
      "var = t type(var) = <class 'str'> var_str = t\n",
      "var = x type(var) = <class 'str'> var_str = x\n",
      "var = y type(var) = <class 'str'> var_str = y\n",
      "Computed 1 flowpipes in 0.003188610076904297 sec\n",
      "PolyObserver(x - 3, <flowstar.reachability.Reach object at 0x55cc045b1450>, x symbolic_composition=False, tentative_unpreconditioning=True, mask=None)\n",
      "symbolic_composition=False, tentative_unpreconditioning=True\n",
      "roots(space_domain=None, epsilon=1e-05, verbosity=0)\n",
      "roots = [[0.0000000000000000 .. 0.10000000000000001]]\n",
      "domain = [0.0000000000000000 .. 0.0010000000000000001]\n",
      "roots = [[0.0000000000000000 .. 0.10000000000000001]]\n",
      "seg_domain = [0.0000000000000000 .. 0.0010000000000000001]\n",
      "roots = [[0.0000000000000000 .. 0.10000000000000001]]\n",
      "0 at 0.00100000000000001\n",
      "Monitored signal 0.009317636489868164 sec\n",
      "reach polynomial case\n",
      "ode in polynomial ring\n",
      "run = True\n",
      "vars = ['t', 'x', 'y']\n",
      "var = t type(var) = <class 'str'> var_str = t\n",
      "var = x type(var) = <class 'str'> var_str = x\n",
      "var = y type(var) = <class 'str'> var_str = y\n",
      "Computed 1 flowpipes in 0.0025725364685058594 sec\n",
      "PolyObserver(x - 3, <flowstar.reachability.Reach object at 0x55cc04a94e00>, x symbolic_composition=False, tentative_unpreconditioning=True, mask=None)\n",
      "symbolic_composition=False, tentative_unpreconditioning=True\n",
      "roots(space_domain=None, epsilon=1e-05, verbosity=0)\n",
      "roots = [[0.0000000000000000 .. 0.10000000000000001]]\n",
      "domain = [0.0000000000000000 .. 0.0010000000000000001]\n",
      "roots = [[0.0000000000000000 .. 0.10000000000000001]]\n",
      "seg_domain = [0.0000000000000000 .. 0.0010000000000000001]\n",
      "roots = [[0.0000000000000000 .. 0.10000000000000001]]\n",
      "0 at 0.00100000000000001\n",
      "Monitored signal 0.014558076858520508 sec\n",
      "reach polynomial case\n",
      "ode in polynomial ring\n",
      "run = True\n",
      "vars = ['t', 'x', 'y']\n",
      "var = t type(var) = <class 'str'> var_str = t\n",
      "var = x type(var) = <class 'str'> var_str = x\n",
      "var = y type(var) = <class 'str'> var_str = y\n",
      "Computed 1 flowpipes in 0.005727052688598633 sec\n",
      "PolyObserver(x - 3, <flowstar.reachability.Reach object at 0x55cc043eeb80>, x symbolic_composition=False, tentative_unpreconditioning=True, mask=None)\n",
      "symbolic_composition=False, tentative_unpreconditioning=True\n",
      "roots(space_domain=None, epsilon=1e-05, verbosity=0)\n",
      "roots = [[0.0000000000000000 .. 0.10000000000000001]]\n",
      "domain = [0.0000000000000000 .. 0.0010000000000000001]\n",
      "roots = [[0.0000000000000000 .. 0.10000000000000001]]\n",
      "seg_domain = [0.0000000000000000 .. 0.0010000000000000001]\n",
      "roots = [[0.0000000000000000 .. 0.10000000000000001]]\n",
      "0 at 0.00100000000000001\n",
      "Monitored signal 0.01147150993347168 sec\n",
      "reach polynomial case\n",
      "ode in polynomial ring\n",
      "run = True\n",
      "vars = ['t', 'x', 'y']\n",
      "var = t type(var) = <class 'str'> var_str = t\n",
      "var = x type(var) = <class 'str'> var_str = x\n",
      "var = y type(var) = <class 'str'> var_str = y\n",
      "Computed 1 flowpipes in 0.0033409595489501953 sec\n",
      "PolyObserver(x - 3, <flowstar.reachability.Reach object at 0x55cc047b2570>, x symbolic_composition=False, tentative_unpreconditioning=True, mask=None)\n",
      "symbolic_composition=False, tentative_unpreconditioning=True\n",
      "roots(space_domain=None, epsilon=1e-05, verbosity=0)\n",
      "roots = [[0.0000000000000000 .. 0.10000000000000001]]\n",
      "domain = [0.0000000000000000 .. 0.0010000000000000001]\n",
      "roots = [[0.0000000000000000 .. 0.10000000000000001]]\n",
      "seg_domain = [0.0000000000000000 .. 0.0010000000000000001]\n",
      "roots = [[0.0000000000000000 .. 0.10000000000000001]]\n",
      "0 at 0.00100000000000001\n",
      "Monitored signal 0.013051748275756836 sec\n",
      "reach polynomial case\n",
      "ode in polynomial ring\n",
      "run = True\n",
      "vars = ['t', 'x', 'y']\n",
      "var = t type(var) = <class 'str'> var_str = t\n",
      "var = x type(var) = <class 'str'> var_str = x\n",
      "var = y type(var) = <class 'str'> var_str = y\n",
      "Computed 1 flowpipes in 0.006128549575805664 sec\n",
      "PolyObserver(x - 3, <flowstar.reachability.Reach object at 0x55cc045dd8a0>, x symbolic_composition=False, tentative_unpreconditioning=True, mask=None)\n",
      "symbolic_composition=False, tentative_unpreconditioning=True\n",
      "roots(space_domain=None, epsilon=1e-05, verbosity=0)\n",
      "roots = []\n",
      "domain = [0.0000000000000000 .. 0.0010000000000000001]\n",
      "roots = []\n",
      "seg_domain = [0.0000000000000000 .. 0.0010000000000000001]\n",
      "roots = []\n",
      "Monitored signal 0.009752511978149414 sec\n",
      "reach polynomial case\n",
      "ode in polynomial ring\n",
      "run = True\n",
      "vars = ['t', 'x', 'y']\n",
      "var = t type(var) = <class 'str'> var_str = t\n",
      "var = x type(var) = <class 'str'> var_str = x\n",
      "var = y type(var) = <class 'str'> var_str = y\n",
      "Computed 1 flowpipes in 0.0034384727478027344 sec\n",
      "PolyObserver(x - 3, <flowstar.reachability.Reach object at 0x55cc045dd8a0>, x symbolic_composition=False, tentative_unpreconditioning=True, mask=None)\n",
      "symbolic_composition=False, tentative_unpreconditioning=True\n",
      "roots(space_domain=None, epsilon=1e-05, verbosity=0)\n",
      "roots = [[0.0000000000000000 .. 0.10000000000000001]]\n",
      "domain = [0.0000000000000000 .. 0.0010000000000000001]\n",
      "roots = [[0.0000000000000000 .. 0.10000000000000001]]\n",
      "seg_domain = [0.0000000000000000 .. 0.0010000000000000001]\n",
      "roots = [[0.0000000000000000 .. 0.10000000000000001]]\n",
      "0 at 0.00100000000000001\n",
      "Monitored signal 0.008735418319702148 sec\n",
      "reach polynomial case\n",
      "ode in polynomial ring\n",
      "run = True\n",
      "vars = ['t', 'x', 'y']\n",
      "var = t type(var) = <class 'str'> var_str = t\n",
      "var = x type(var) = <class 'str'> var_str = x\n",
      "var = y type(var) = <class 'str'> var_str = y\n",
      "Computed 1 flowpipes in 0.003939628601074219 sec\n",
      "PolyObserver(x - 3, <flowstar.reachability.Reach object at 0x55cc054457c0>, x symbolic_composition=False, tentative_unpreconditioning=True, mask=None)\n",
      "symbolic_composition=False, tentative_unpreconditioning=True\n",
      "roots(space_domain=None, epsilon=1e-05, verbosity=0)\n",
      "roots = [[0.0000000000000000 .. 0.10000000000000001]]\n",
      "domain = [0.0000000000000000 .. 0.0010000000000000001]\n",
      "roots = [[0.0000000000000000 .. 0.10000000000000001]]\n",
      "seg_domain = [0.0000000000000000 .. 0.0010000000000000001]\n",
      "roots = [[0.0000000000000000 .. 0.10000000000000001]]\n",
      "0 at 0.00100000000000001\n",
      "Monitored signal 0.009753227233886719 sec\n",
      "reach polynomial case\n",
      "ode in polynomial ring\n",
      "run = True\n",
      "vars = ['t', 'x', 'y']\n",
      "var = t type(var) = <class 'str'> var_str = t\n",
      "var = x type(var) = <class 'str'> var_str = x\n",
      "var = y type(var) = <class 'str'> var_str = y\n",
      "Computed 1 flowpipes in 0.0029840469360351562 sec\n",
      "PolyObserver(x - 3, <flowstar.reachability.Reach object at 0x55cc05445740>, x symbolic_composition=False, tentative_unpreconditioning=True, mask=None)\n",
      "symbolic_composition=False, tentative_unpreconditioning=True\n",
      "roots(space_domain=None, epsilon=1e-05, verbosity=0)\n",
      "roots = [[0.0000000000000000 .. 0.10000000000000001]]\n",
      "domain = [0.0000000000000000 .. 0.0010000000000000001]\n",
      "roots = [[0.0000000000000000 .. 0.10000000000000001]]\n",
      "seg_domain = [0.0000000000000000 .. 0.0010000000000000001]\n",
      "roots = [[0.0000000000000000 .. 0.10000000000000001]]\n",
      "0 at 0.00100000000000001\n",
      "Monitored signal 0.012120962142944336 sec\n",
      "reach polynomial case\n",
      "ode in polynomial ring\n",
      "run = True\n",
      "vars = ['t', 'x', 'y']\n",
      "var = t type(var) = <class 'str'> var_str = t\n",
      "var = x type(var) = <class 'str'> var_str = x\n"
     ]
    },
    {
     "name": "stdout",
     "output_type": "stream",
     "text": [
      "var = y type(var) = <class 'str'> var_str = y\n",
      "Computed 1 flowpipes in 0.003278017044067383 sec\n",
      "PolyObserver(x - 3, <flowstar.reachability.Reach object at 0x55cc04887670>, x symbolic_composition=False, tentative_unpreconditioning=True, mask=None)\n",
      "symbolic_composition=False, tentative_unpreconditioning=True\n",
      "roots(space_domain=None, epsilon=1e-05, verbosity=0)\n",
      "roots = [[0.0000000000000000 .. 0.10000000000000001]]\n",
      "domain = [0.0000000000000000 .. 0.0010000000000000001]\n",
      "roots = [[0.0000000000000000 .. 0.10000000000000001]]\n",
      "seg_domain = [0.0000000000000000 .. 0.0010000000000000001]\n",
      "roots = [[0.0000000000000000 .. 0.10000000000000001]]\n",
      "0 at 0.00100000000000001\n",
      "Monitored signal 0.04527020454406738 sec\n",
      "reach polynomial case\n",
      "ode in polynomial ring\n",
      "run = True\n",
      "vars = ['t', 'x', 'y']\n",
      "var = t type(var) = <class 'str'> var_str = t\n",
      "var = x type(var) = <class 'str'> var_str = x\n",
      "var = y type(var) = <class 'str'> var_str = y\n",
      "Computed 1 flowpipes in 0.0032732486724853516 sec\n",
      "PolyObserver(x - 3, <flowstar.reachability.Reach object at 0x55cc04887670>, x symbolic_composition=False, tentative_unpreconditioning=True, mask=None)\n",
      "symbolic_composition=False, tentative_unpreconditioning=True\n",
      "roots(space_domain=None, epsilon=1e-05, verbosity=0)\n",
      "roots = [[0.0000000000000000 .. 0.034045288869943021]]\n",
      "domain = [0.0000000000000000 .. 0.0010000000000000001]\n",
      "roots = [[0.0000000000000000 .. 0.034045288869943021]]\n",
      "seg_domain = [0.0000000000000000 .. 0.0010000000000000001]\n",
      "roots = [[0.0000000000000000 .. 0.034045288869943021]]\n",
      "0 at 0.00100000000000001\n",
      "Monitored signal 0.012310504913330078 sec\n",
      "reach polynomial case\n",
      "ode in polynomial ring\n",
      "run = True\n",
      "vars = ['t', 'x', 'y']\n",
      "var = t type(var) = <class 'str'> var_str = t\n",
      "var = x type(var) = <class 'str'> var_str = x\n",
      "var = y type(var) = <class 'str'> var_str = y\n",
      "Computed 1 flowpipes in 0.0036199092864990234 sec\n",
      "PolyObserver(x - 3, <flowstar.reachability.Reach object at 0x55cc04a94ee0>, x symbolic_composition=False, tentative_unpreconditioning=True, mask=None)\n",
      "symbolic_composition=False, tentative_unpreconditioning=True\n",
      "roots(space_domain=None, epsilon=1e-05, verbosity=0)\n",
      "roots = [[0.0000000000000000 .. 0.10000000000000001]]\n",
      "domain = [0.0000000000000000 .. 0.0010000000000000001]\n",
      "roots = [[0.0000000000000000 .. 0.10000000000000001]]\n",
      "seg_domain = [0.0000000000000000 .. 0.0010000000000000001]\n",
      "roots = [[0.0000000000000000 .. 0.10000000000000001]]\n",
      "0 at 0.00100000000000001\n",
      "Monitored signal 0.010925054550170898 sec\n",
      "reach polynomial case\n",
      "ode in polynomial ring\n",
      "run = True\n",
      "vars = ['t', 'x', 'y']\n",
      "var = t type(var) = <class 'str'> var_str = t\n",
      "var = x type(var) = <class 'str'> var_str = x\n",
      "var = y type(var) = <class 'str'> var_str = y\n",
      "Computed 1 flowpipes in 0.003119230270385742 sec\n",
      "PolyObserver(x - 3, <flowstar.reachability.Reach object at 0x55cc05a3fff0>, x symbolic_composition=False, tentative_unpreconditioning=True, mask=None)\n",
      "symbolic_composition=False, tentative_unpreconditioning=True\n",
      "roots(space_domain=None, epsilon=1e-05, verbosity=0)\n",
      "roots = [[0.0000000000000000 .. 0.10000000000000001]]\n",
      "domain = [0.0000000000000000 .. 0.0010000000000000001]\n",
      "roots = [[0.0000000000000000 .. 0.10000000000000001]]\n",
      "seg_domain = [0.0000000000000000 .. 0.0010000000000000001]\n",
      "roots = [[0.0000000000000000 .. 0.10000000000000001]]\n",
      "Monitored signal 0.009395360946655273 sec\n",
      "reach polynomial case\n",
      "ode in polynomial ring\n",
      "run = True\n",
      "vars = ['t', 'x', 'y']\n",
      "var = t type(var) = <class 'str'> var_str = t\n",
      "var = x type(var) = <class 'str'> var_str = x\n",
      "var = y type(var) = <class 'str'> var_str = y\n",
      "Computed 1 flowpipes in 0.0035338401794433594 sec\n",
      "PolyObserver(x - 3, <flowstar.reachability.Reach object at 0x55cc04a94e00>, x symbolic_composition=False, tentative_unpreconditioning=True, mask=None)\n",
      "symbolic_composition=False, tentative_unpreconditioning=True\n",
      "roots(space_domain=None, epsilon=1e-05, verbosity=0)\n",
      "roots = [[0.0000000000000000 .. 0.10000000000000001]]\n",
      "domain = [0.0000000000000000 .. 0.0010000000000000001]\n",
      "roots = [[0.0000000000000000 .. 0.10000000000000001]]\n",
      "seg_domain = [0.0000000000000000 .. 0.0010000000000000001]\n",
      "roots = [[0.0000000000000000 .. 0.10000000000000001]]\n",
      "Monitored signal 0.010403633117675781 sec\n",
      "reach polynomial case\n",
      "ode in polynomial ring\n",
      "run = True\n",
      "vars = ['t', 'x', 'y']\n",
      "var = t type(var) = <class 'str'> var_str = t\n",
      "var = x type(var) = <class 'str'> var_str = x\n",
      "var = y type(var) = <class 'str'> var_str = y\n",
      "Computed 1 flowpipes in 0.003210306167602539 sec\n",
      "PolyObserver(x - 3, <flowstar.reachability.Reach object at 0x55cc04a94e00>, x symbolic_composition=False, tentative_unpreconditioning=True, mask=None)\n",
      "symbolic_composition=False, tentative_unpreconditioning=True\n",
      "roots(space_domain=None, epsilon=1e-05, verbosity=0)\n",
      "roots = []\n",
      "domain = [0.0000000000000000 .. 0.0010000000000000001]\n",
      "roots = []\n",
      "seg_domain = [0.0000000000000000 .. 0.0010000000000000001]\n",
      "roots = []\n",
      "Monitored signal 0.007399559020996094 sec\n",
      "reach polynomial case\n",
      "ode in polynomial ring\n",
      "run = True\n",
      "vars = ['t', 'x', 'y']\n",
      "var = t type(var) = <class 'str'> var_str = t\n",
      "var = x type(var) = <class 'str'> var_str = x\n",
      "var = y type(var) = <class 'str'> var_str = y\n",
      "Computed 1 flowpipes in 0.004020214080810547 sec\n",
      "PolyObserver(x - 3, <flowstar.reachability.Reach object at 0x55cc04a94e00>, x symbolic_composition=False, tentative_unpreconditioning=True, mask=None)\n",
      "symbolic_composition=False, tentative_unpreconditioning=True\n",
      "roots(space_domain=None, epsilon=1e-05, verbosity=0)\n",
      "roots = []\n",
      "domain = [0.0000000000000000 .. 0.0010000000000000001]\n",
      "roots = []\n",
      "seg_domain = [0.0000000000000000 .. 0.0010000000000000001]\n",
      "roots = []\n",
      "Monitored signal 0.00639033317565918 sec\n",
      "reach polynomial case\n",
      "ode in polynomial ring\n",
      "run = True\n",
      "vars = ['t', 'x', 'y']\n",
      "var = t type(var) = <class 'str'> var_str = t\n",
      "var = x type(var) = <class 'str'> var_str = x\n",
      "var = y type(var) = <class 'str'> var_str = y\n",
      "Computed 1 flowpipes in 0.0029168128967285156 sec\n",
      "PolyObserver(x - 3, <flowstar.reachability.Reach object at 0x55cc04d775f0>, x symbolic_composition=False, tentative_unpreconditioning=True, mask=None)\n",
      "symbolic_composition=False, tentative_unpreconditioning=True\n",
      "roots(space_domain=None, epsilon=1e-05, verbosity=0)\n",
      "roots = [[0.0000000000000000 .. 0.10000000000000001]]\n",
      "domain = [0.0000000000000000 .. 0.0010000000000000001]\n",
      "roots = [[0.0000000000000000 .. 0.10000000000000001]]\n",
      "seg_domain = [0.0000000000000000 .. 0.0010000000000000001]\n",
      "roots = [[0.0000000000000000 .. 0.10000000000000001]]\n",
      "0 at 0.00100000000000001\n",
      "Monitored signal 0.014120101928710938 sec\n",
      "reach polynomial case\n",
      "ode in polynomial ring\n",
      "run = True\n",
      "vars = ['t', 'x', 'y']\n",
      "var = t type(var) = <class 'str'> var_str = t\n",
      "var = x type(var) = <class 'str'> var_str = x\n",
      "var = y type(var) = <class 'str'> var_str = y\n",
      "Computed 1 flowpipes in 0.003464221954345703 sec\n",
      "PolyObserver(x - 3, <flowstar.reachability.Reach object at 0x55cc0424e550>, x symbolic_composition=False, tentative_unpreconditioning=True, mask=None)\n",
      "symbolic_composition=False, tentative_unpreconditioning=True\n",
      "roots(space_domain=None, epsilon=1e-05, verbosity=0)\n",
      "roots = []\n",
      "domain = [0.0000000000000000 .. 0.0010000000000000001]\n",
      "roots = []\n",
      "seg_domain = [0.0000000000000000 .. 0.0010000000000000001]\n",
      "roots = []\n",
      "Monitored signal 0.008760929107666016 sec\n",
      "reach polynomial case\n",
      "ode in polynomial ring\n",
      "run = True\n",
      "vars = ['t', 'x', 'y']\n",
      "var = t type(var) = <class 'str'> var_str = t\n",
      "var = x type(var) = <class 'str'> var_str = x\n",
      "var = y type(var) = <class 'str'> var_str = y\n",
      "Computed 1 flowpipes in 0.0030319690704345703 sec\n",
      "PolyObserver(x - 3, <flowstar.reachability.Reach object at 0x55cc04f759f0>, x symbolic_composition=False, tentative_unpreconditioning=True, mask=None)\n",
      "symbolic_composition=False, tentative_unpreconditioning=True\n",
      "roots(space_domain=None, epsilon=1e-05, verbosity=0)\n",
      "roots = [[0.0000000000000000 .. 0.10000000000000001]]\n",
      "domain = [0.0000000000000000 .. 0.0010000000000000001]\n",
      "roots = [[0.0000000000000000 .. 0.10000000000000001]]\n",
      "seg_domain = [0.0000000000000000 .. 0.0010000000000000001]\n",
      "roots = [[0.0000000000000000 .. 0.10000000000000001]]\n",
      "0 at 0.00100000000000001\n",
      "Monitored signal 0.009299516677856445 sec\n",
      "reach polynomial case\n",
      "ode in polynomial ring\n",
      "run = True\n",
      "vars = ['t', 'x', 'y']\n",
      "var = t type(var) = <class 'str'> var_str = t\n",
      "var = x type(var) = <class 'str'> var_str = x\n",
      "var = y type(var) = <class 'str'> var_str = y\n",
      "Computed 1 flowpipes in 0.002976655960083008 sec\n",
      "PolyObserver(x - 3, <flowstar.reachability.Reach object at 0x55cc04f759f0>, x symbolic_composition=False, tentative_unpreconditioning=True, mask=None)\n",
      "symbolic_composition=False, tentative_unpreconditioning=True\n",
      "roots(space_domain=None, epsilon=1e-05, verbosity=0)\n",
      "roots = [[0.0000000000000000 .. 0.10000000000000001]]\n",
      "domain = [0.0000000000000000 .. 0.0010000000000000001]\n",
      "roots = [[0.0000000000000000 .. 0.10000000000000001]]\n",
      "seg_domain = [0.0000000000000000 .. 0.0010000000000000001]\n",
      "roots = [[0.0000000000000000 .. 0.10000000000000001]]\n",
      "0 at 0.00100000000000001\n",
      "Monitored signal 0.014087915420532227 sec\n",
      "reach polynomial case\n",
      "ode in polynomial ring\n",
      "run = True\n",
      "vars = ['t', 'x', 'y']\n",
      "var = t type(var) = <class 'str'> var_str = t\n",
      "var = x type(var) = <class 'str'> var_str = x\n",
      "var = y type(var) = <class 'str'> var_str = y\n"
     ]
    },
    {
     "name": "stdout",
     "output_type": "stream",
     "text": [
      "Computed 1 flowpipes in 0.003151416778564453 sec\n",
      "PolyObserver(x - 3, <flowstar.reachability.Reach object at 0x55cc04f759f0>, x symbolic_composition=False, tentative_unpreconditioning=True, mask=None)\n",
      "symbolic_composition=False, tentative_unpreconditioning=True\n",
      "roots(space_domain=None, epsilon=1e-05, verbosity=0)\n",
      "roots = [[0.0000000000000000 .. 0.10000000000000001]]\n",
      "domain = [0.0000000000000000 .. 0.0010000000000000001]\n",
      "roots = [[0.0000000000000000 .. 0.10000000000000001]]\n",
      "seg_domain = [0.0000000000000000 .. 0.0010000000000000001]\n",
      "roots = [[0.0000000000000000 .. 0.10000000000000001]]\n",
      "0 at 0.00100000000000001\n",
      "Monitored signal 0.008694648742675781 sec\n",
      "reach polynomial case\n",
      "ode in polynomial ring\n",
      "run = True\n",
      "vars = ['t', 'x', 'y']\n",
      "var = t type(var) = <class 'str'> var_str = t\n",
      "var = x type(var) = <class 'str'> var_str = x\n",
      "var = y type(var) = <class 'str'> var_str = y\n",
      "Computed 1 flowpipes in 0.003981828689575195 sec\n",
      "PolyObserver(x - 3, <flowstar.reachability.Reach object at 0x55cc050df150>, x symbolic_composition=False, tentative_unpreconditioning=True, mask=None)\n",
      "symbolic_composition=False, tentative_unpreconditioning=True\n",
      "roots(space_domain=None, epsilon=1e-05, verbosity=0)\n",
      "roots = [[0.0000000000000000 .. 0.10000000000000001]]\n",
      "domain = [0.0000000000000000 .. 0.0010000000000000001]\n",
      "roots = [[0.0000000000000000 .. 0.10000000000000001]]\n",
      "seg_domain = [0.0000000000000000 .. 0.0010000000000000001]\n",
      "roots = [[0.0000000000000000 .. 0.10000000000000001]]\n",
      "0 at 0.00100000000000001\n",
      "Monitored signal 0.012235164642333984 sec\n",
      "reach polynomial case\n",
      "ode in polynomial ring\n",
      "run = True\n",
      "vars = ['t', 'x', 'y']\n",
      "var = t type(var) = <class 'str'> var_str = t\n",
      "var = x type(var) = <class 'str'> var_str = x\n",
      "var = y type(var) = <class 'str'> var_str = y\n",
      "Computed 1 flowpipes in 0.00421595573425293 sec\n",
      "PolyObserver(x - 3, <flowstar.reachability.Reach object at 0x55cc04d4da60>, x symbolic_composition=False, tentative_unpreconditioning=True, mask=None)\n",
      "symbolic_composition=False, tentative_unpreconditioning=True\n",
      "roots(space_domain=None, epsilon=1e-05, verbosity=0)\n",
      "roots = []\n",
      "domain = [0.0000000000000000 .. 0.0010000000000000001]\n",
      "roots = []\n",
      "seg_domain = [0.0000000000000000 .. 0.0010000000000000001]\n",
      "roots = []\n",
      "Monitored signal 0.00799250602722168 sec\n",
      "Monitored signal 0.799645185470581 sec\n"
     ]
    }
   ],
   "source": [
    "sig = ({y: RIF(9,10)} >> P).signal_for_system(system, 4*pi)"
   ]
  },
  {
   "cell_type": "code",
   "execution_count": 33,
   "metadata": {
    "pycharm": {}
   },
   "outputs": [
    {
     "data": {
      "image/png": "[encoded data removed]",
      "text/plain": [
       "Graphics object consisting of 2 graphics primitives"
      ]
     },
     "execution_count": 33,
     "metadata": {},
     "output_type": "execute_result"
    }
   ],
   "source": [
    "sig.plot()"
   ]
  },
  {
   "cell_type": "code",
   "execution_count": 36,
   "metadata": {},
   "outputs": [
    {
     "data": {
      "text/plain": [
       "(0, 5.?, 2.?)"
      ]
     },
     "execution_count": 36,
     "metadata": {},
     "output_type": "execute_result"
    }
   ],
   "source": [
    "system.y0"
   ]
  },
  {
   "cell_type": "code",
   "execution_count": 37,
   "metadata": {},
   "outputs": [
    {
     "data": {
      "text/plain": [
       "(0, 5.?, 11.?)"
      ]
     },
     "execution_count": 37,
     "metadata": {},
     "output_type": "execute_result"
    }
   ],
   "source": [
    "system.y0 + vector([0, 0, RIF(9, 10)])"
   ]
  },
  {
   "cell_type": "code",
   "execution_count": 39,
   "metadata": {},
   "outputs": [
    {
     "data": {
      "text/plain": [
       "(1, -y, x)"
      ]
     },
     "execution_count": 39,
     "metadata": {},
     "output_type": "execute_result"
    }
   ],
   "source": [
    "system.y"
   ]
  },
  {
   "cell_type": "code",
   "execution_count": 34,
   "metadata": {},
   "outputs": [
    {
     "name": "stdout",
     "output_type": "stream",
     "text": [
      "reach polynomial case\n",
      "ode in polynomial ring\n",
      "run = True\n",
      "vars = ['t', 'x', 'y']\n",
      "var = t type(var) = <class 'str'> var_str = t\n",
      "var = x type(var) = <class 'str'> var_str = x\n",
      "var = y type(var) = <class 'str'> var_str = y\n",
      "Computed 126 flowpipes in 0.07232928276062012 sec\n",
      "PolyObserver(x - 3, <flowstar.reachability.Reach object at 0x55cc04be9200>, x symbolic_composition=False, tentative_unpreconditioning=True, mask=None)\n",
      "symbolic_composition=False, tentative_unpreconditioning=True\n",
      "roots(space_domain=None, epsilon=1e-05, verbosity=0)\n",
      "roots = []\n",
      "domain = [0.0000000000000000 .. 12.566370614359175]\n",
      "roots = []\n",
      "seg_domain = [0.0000000000000000 .. 12.566370614359175]\n",
      "roots = []\n",
      "Monitored signal 0.023975133895874023 sec\n"
     ]
    }
   ],
   "source": [
    "sig = P.signal_for_system(system.with_y0(system.y0 + vector([0, 0, RIF(9, 10)])), 4*pi)"
   ]
  },
  {
   "cell_type": "code",
   "execution_count": 35,
   "metadata": {},
   "outputs": [
    {
     "name": "stderr",
     "output_type": "stream",
     "text": [
      "/usr/lib64/python3.7/site-packages/matplotlib/contour.py:1243: UserWarning: No contour levels were found within the data range.\n",
      "  warnings.warn(\"No contour levels were found\"\n"
     ]
    },
    {
     "data": {
      "image/png": "[encoded data removed]",
      "text/plain": [
       "Graphics object consisting of 2 graphics primitives"
      ]
     },
     "execution_count": 35,
     "metadata": {},
     "output_type": "execute_result"
    }
   ],
   "source": [
    "sig.plot()"
   ]
  },
  {
   "cell_type": "code",
   "execution_count": null,
   "metadata": {
    "pycharm": {}
   },
   "outputs": [],
   "source": [
    "sig = ({y: RIF(9,10)} >> G(RIF(0, 5), P)).signal_for_system(odes, initials, 4*pi)"
   ]
  },
  {
   "cell_type": "code",
   "execution_count": null,
   "metadata": {
    "pycharm": {}
   },
   "outputs": [],
   "source": [
    "sig.plot()"
   ]
  },
  {
   "cell_type": "code",
   "execution_count": null,
   "metadata": {
    "pycharm": {}
   },
   "outputs": [],
   "source": [
    "sig = ({y: RIF(9,10)} >> G(RIF(0, pi/2), Atomic(y))).signal_for_system(odes, initials, 4*pi)"
   ]
  },
  {
   "cell_type": "code",
   "execution_count": null,
   "metadata": {
    "pycharm": {}
   },
   "outputs": [],
   "source": [
    "sig.plot()"
   ]
  },
  {
   "cell_type": "markdown",
   "metadata": {
    "pycharm": {}
   },
   "source": [
    "## Differential context!"
   ]
  },
  {
   "cell_type": "code",
   "execution_count": null,
   "metadata": {
    "pycharm": {}
   },
   "outputs": [],
   "source": [
    "sig = ({y: RIF(9,10)} % P).signal_for_system(odes, initials, 4*pi)"
   ]
  },
  {
   "cell_type": "code",
   "execution_count": null,
   "metadata": {
    "pycharm": {}
   },
   "outputs": [],
   "source": [
    "sig = ({y: RIF(0.5,0.6)} % P).signal_for_system(odes, initials, 4*pi, verbosity=10)"
   ]
  },
  {
   "cell_type": "code",
   "execution_count": null,
   "metadata": {
    "pycharm": {}
   },
   "outputs": [],
   "source": [
    "({y: RIF(9,10)} % P)"
   ]
  },
  {
   "cell_type": "code",
   "execution_count": null,
   "metadata": {
    "pycharm": {}
   },
   "outputs": [],
   "source": [
    "sig.plot()"
   ]
  },
  {
   "cell_type": "code",
   "execution_count": null,
   "metadata": {
    "pycharm": {}
   },
   "outputs": [],
   "source": [
    "sig = ({y: RIF(0.5, 0.6)} % G(RIF(0, 5), P)\n",
    "       ).signal_for_system(odes, initials, 4*pi, verbosity=10)"
   ]
  },
  {
   "cell_type": "code",
   "execution_count": null,
   "metadata": {
    "pycharm": {}
   },
   "outputs": [],
   "source": [
    "sig.plot()"
   ]
  },
  {
   "cell_type": "code",
   "execution_count": null,
   "metadata": {
    "pycharm": {}
   },
   "outputs": [],
   "source": []
  }
 ],
 "metadata": {
  "kernelspec": {
   "display_name": "SageMath 8.8",
   "language": "",
   "name": "sagemath"
  },
  "language_info": {
   "codemirror_mode": {
    "name": "ipython",
    "version": 3
   },
   "file_extension": ".py",
   "mimetype": "text/x-python",
   "name": "python",
   "nbconvert_exporter": "python",
   "pygments_lexer": "ipython3",
   "version": "3.7.4"
  }
 },
 "nbformat": 4,
 "nbformat_minor": 2
}
