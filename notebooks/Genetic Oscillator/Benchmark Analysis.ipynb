{
 "cells": [
  {
   "cell_type": "code",
   "execution_count": 1,
   "metadata": {},
   "outputs": [],
   "source": [
    "%matplotlib inline\n",
    "import pandas as pd\n",
    "import pickle"
   ]
  },
  {
   "cell_type": "markdown",
   "metadata": {},
   "source": [
    "## Load results"
   ]
  },
  {
   "cell_type": "code",
   "execution_count": 2,
   "metadata": {},
   "outputs": [],
   "source": [
    "with open('data/benchmark_metadata9.pkl', 'rb') as f:\n",
    "    cols_full, cols_short, series = pickle.load(f)"
   ]
  },
  {
   "cell_type": "code",
   "execution_count": 3,
   "metadata": {},
   "outputs": [],
   "source": [
    "series_names = series\n",
    "# series_names = [\n",
    "#     'Masked',\n",
    "#     'Unmasked',\n",
    "#     'Masked R',\n",
    "#     'Unmasked R',\n",
    "# ]\n",
    "total_timess = {\n",
    "   s: pd.read_csv(f'data/benchmark_{s}9.csv')\n",
    "   for s in series \n",
    "}"
   ]
  },
  {
   "cell_type": "markdown",
   "metadata": {},
   "source": [
    "## Raw results"
   ]
  },
  {
   "cell_type": "code",
   "execution_count": 4,
   "metadata": {},
   "outputs": [],
   "source": [
    "from ipywidgets import interact"
   ]
  },
  {
   "cell_type": "code",
   "execution_count": 5,
   "metadata": {},
   "outputs": [
    {
     "data": {
      "application/vnd.jupyter.widget-view+json": {
       "model_id": "85072e696ccc4ce18195481562b115b1",
       "version_major": 2,
       "version_minor": 0
      },
      "text/plain": [
       "interactive(children=(Dropdown(description='series', options=('upfront_symbolic_masked', 'symbolic_masked', 'u…"
      ]
     },
     "metadata": {},
     "output_type": "display_data"
    }
   ],
   "source": [
    "@interact\n",
    "def _(series=series):\n",
    "    return total_timess[series]"
   ]
  },
  {
   "cell_type": "markdown",
   "metadata": {},
   "source": [
    "## Comparison"
   ]
  },
  {
   "cell_type": "code",
   "execution_count": 6,
   "metadata": {},
   "outputs": [
    {
     "data": {
      "text/html": [
       "<div>\n",
       "<style scoped>\n",
       "    .dataframe tbody tr th:only-of-type {\n",
       "        vertical-align: middle;\n",
       "    }\n",
       "\n",
       "    .dataframe tbody tr th {\n",
       "        vertical-align: top;\n",
       "    }\n",
       "\n",
       "    .dataframe thead th {\n",
       "        text-align: right;\n",
       "    }\n",
       "</style>\n",
       "<table border=\"1\" class=\"dataframe\">\n",
       "  <thead>\n",
       "    <tr style=\"text-align: right;\">\n",
       "      <th></th>\n",
       "      <th>upfront_symbolic_masked</th>\n",
       "      <th>symbolic_masked</th>\n",
       "      <th>upfront_masked</th>\n",
       "      <th>masked</th>\n",
       "      <th>upfront_symbolic_unmasked</th>\n",
       "      <th>symbolic_unmasked</th>\n",
       "      <th>upfront_unmasked</th>\n",
       "      <th>unmasked</th>\n",
       "    </tr>\n",
       "  </thead>\n",
       "  <tbody>\n",
       "    <tr>\n",
       "      <th>Flow*</th>\n",
       "      <td>77.704968</td>\n",
       "      <td>78.083259</td>\n",
       "      <td>82.934898</td>\n",
       "      <td>87.898530</td>\n",
       "      <td>80.336791</td>\n",
       "      <td>78.870518</td>\n",
       "      <td>82.258631</td>\n",
       "      <td>79.551850</td>\n",
       "    </tr>\n",
       "    <tr>\n",
       "      <th>unpreconditioning</th>\n",
       "      <td>67.341991</td>\n",
       "      <td>0.000000</td>\n",
       "      <td>79.827351</td>\n",
       "      <td>0.000000</td>\n",
       "      <td>66.905820</td>\n",
       "      <td>0.000000</td>\n",
       "      <td>77.629671</td>\n",
       "      <td>0.000000</td>\n",
       "    </tr>\n",
       "    <tr>\n",
       "      <th>P</th>\n",
       "      <td>0.429924</td>\n",
       "      <td>6.771044</td>\n",
       "      <td>0.733038</td>\n",
       "      <td>9.285413</td>\n",
       "      <td>1.816989</td>\n",
       "      <td>21.243604</td>\n",
       "      <td>2.871566</td>\n",
       "      <td>28.578011</td>\n",
       "    </tr>\n",
       "    <tr>\n",
       "      <th>Q</th>\n",
       "      <td>24.689693</td>\n",
       "      <td>54.428931</td>\n",
       "      <td>1.026020</td>\n",
       "      <td>39.050409</td>\n",
       "      <td>115.969380</td>\n",
       "      <td>237.785437</td>\n",
       "      <td>6.497924</td>\n",
       "      <td>67.533209</td>\n",
       "    </tr>\n",
       "    <tr>\n",
       "      <th>G(P | G(Q))</th>\n",
       "      <td>25.222963</td>\n",
       "      <td>61.303555</td>\n",
       "      <td>1.853803</td>\n",
       "      <td>48.431379</td>\n",
       "      <td>117.882873</td>\n",
       "      <td>259.128790</td>\n",
       "      <td>9.463389</td>\n",
       "      <td>96.202800</td>\n",
       "    </tr>\n",
       "    <tr>\n",
       "      <th>tentative eval</th>\n",
       "      <td>0.000000</td>\n",
       "      <td>0.646078</td>\n",
       "      <td>0.000000</td>\n",
       "      <td>0.551518</td>\n",
       "      <td>0.000000</td>\n",
       "      <td>3.592893</td>\n",
       "      <td>0.000000</td>\n",
       "      <td>3.073284</td>\n",
       "    </tr>\n",
       "    <tr>\n",
       "      <th>eval</th>\n",
       "      <td>0.355882</td>\n",
       "      <td>0.617105</td>\n",
       "      <td>0.861222</td>\n",
       "      <td>2.556880</td>\n",
       "      <td>2.168163</td>\n",
       "      <td>2.413262</td>\n",
       "      <td>4.841570</td>\n",
       "      <td>3.833150</td>\n",
       "    </tr>\n",
       "    <tr>\n",
       "      <th>root detection</th>\n",
       "      <td>0.003451</td>\n",
       "      <td>0.013074</td>\n",
       "      <td>0.797187</td>\n",
       "      <td>1.996348</td>\n",
       "      <td>0.014270</td>\n",
       "      <td>0.037560</td>\n",
       "      <td>4.310877</td>\n",
       "      <td>5.651744</td>\n",
       "    </tr>\n",
       "    <tr>\n",
       "      <th>composing flowpipe</th>\n",
       "      <td>67.280956</td>\n",
       "      <td>13.728399</td>\n",
       "      <td>79.770174</td>\n",
       "      <td>43.084532</td>\n",
       "      <td>66.846721</td>\n",
       "      <td>58.222266</td>\n",
       "      <td>77.574421</td>\n",
       "      <td>83.307537</td>\n",
       "    </tr>\n",
       "    <tr>\n",
       "      <th>composing atomic</th>\n",
       "      <td>24.537746</td>\n",
       "      <td>45.798945</td>\n",
       "      <td>0.005266</td>\n",
       "      <td>0.008439</td>\n",
       "      <td>114.848310</td>\n",
       "      <td>193.635825</td>\n",
       "      <td>0.021429</td>\n",
       "      <td>0.028341</td>\n",
       "    </tr>\n",
       "    <tr>\n",
       "      <th>Total</th>\n",
       "      <td>170.394933</td>\n",
       "      <td>139.507228</td>\n",
       "      <td>164.759333</td>\n",
       "      <td>136.479671</td>\n",
       "      <td>265.246118</td>\n",
       "      <td>338.123532</td>\n",
       "      <td>169.491295</td>\n",
       "      <td>175.894812</td>\n",
       "    </tr>\n",
       "  </tbody>\n",
       "</table>\n",
       "</div>"
      ],
      "text/plain": [
       "                    upfront_symbolic_masked  symbolic_masked  upfront_masked  \\\n",
       "Flow*                             77.704968        78.083259       82.934898   \n",
       "unpreconditioning                 67.341991         0.000000       79.827351   \n",
       "P                                  0.429924         6.771044        0.733038   \n",
       "Q                                 24.689693        54.428931        1.026020   \n",
       "G(P | G(Q))                       25.222963        61.303555        1.853803   \n",
       "tentative eval                     0.000000         0.646078        0.000000   \n",
       "eval                               0.355882         0.617105        0.861222   \n",
       "root detection                     0.003451         0.013074        0.797187   \n",
       "composing flowpipe                67.280956        13.728399       79.770174   \n",
       "composing atomic                  24.537746        45.798945        0.005266   \n",
       "Total                            170.394933       139.507228      164.759333   \n",
       "\n",
       "                        masked  upfront_symbolic_unmasked  symbolic_unmasked  \\\n",
       "Flow*                87.898530                  80.336791          78.870518   \n",
       "unpreconditioning     0.000000                  66.905820           0.000000   \n",
       "P                     9.285413                   1.816989          21.243604   \n",
       "Q                    39.050409                 115.969380         237.785437   \n",
       "G(P | G(Q))          48.431379                 117.882873         259.128790   \n",
       "tentative eval        0.551518                   0.000000           3.592893   \n",
       "eval                  2.556880                   2.168163           2.413262   \n",
       "root detection        1.996348                   0.014270           0.037560   \n",
       "composing flowpipe   43.084532                  66.846721          58.222266   \n",
       "composing atomic      0.008439                 114.848310         193.635825   \n",
       "Total               136.479671                 265.246118         338.123532   \n",
       "\n",
       "                    upfront_unmasked    unmasked  \n",
       "Flow*                      82.258631   79.551850  \n",
       "unpreconditioning          77.629671    0.000000  \n",
       "P                           2.871566   28.578011  \n",
       "Q                           6.497924   67.533209  \n",
       "G(P | G(Q))                 9.463389   96.202800  \n",
       "tentative eval              0.000000    3.073284  \n",
       "eval                        4.841570    3.833150  \n",
       "root detection              4.310877    5.651744  \n",
       "composing flowpipe         77.574421   83.307537  \n",
       "composing atomic            0.021429    0.028341  \n",
       "Total                     169.491295  175.894812  "
      ]
     },
     "execution_count": 6,
     "metadata": {},
     "output_type": "execute_result"
    }
   ],
   "source": [
    "comparison = pd.DataFrame({\n",
    "    s: total_times.mean()\n",
    "    for s, total_times in total_timess.items()\n",
    "})\n",
    "comparison.columns = series_names\n",
    "comparison"
   ]
  },
  {
   "cell_type": "code",
   "execution_count": 7,
   "metadata": {},
   "outputs": [],
   "source": [
    "comparison.to_csv(\"data/comparison.csv\")"
   ]
  },
  {
   "cell_type": "code",
   "execution_count": 8,
   "metadata": {},
   "outputs": [
    {
     "data": {
      "text/html": [
       "<div>\n",
       "<style scoped>\n",
       "    .dataframe tbody tr th:only-of-type {\n",
       "        vertical-align: middle;\n",
       "    }\n",
       "\n",
       "    .dataframe tbody tr th {\n",
       "        vertical-align: top;\n",
       "    }\n",
       "\n",
       "    .dataframe thead th {\n",
       "        text-align: right;\n",
       "    }\n",
       "</style>\n",
       "<table border=\"1\" class=\"dataframe\">\n",
       "  <thead>\n",
       "    <tr style=\"text-align: right;\">\n",
       "      <th></th>\n",
       "      <th>upfront_symbolic_masked</th>\n",
       "      <th>symbolic_masked</th>\n",
       "      <th>upfront_masked</th>\n",
       "      <th>masked</th>\n",
       "      <th>upfront_symbolic_unmasked</th>\n",
       "      <th>symbolic_unmasked</th>\n",
       "      <th>upfront_unmasked</th>\n",
       "      <th>unmasked</th>\n",
       "    </tr>\n",
       "  </thead>\n",
       "  <tbody>\n",
       "    <tr>\n",
       "      <th>Flow*</th>\n",
       "      <td>6.128411</td>\n",
       "      <td>6.354529</td>\n",
       "      <td>9.874528</td>\n",
       "      <td>9.268782</td>\n",
       "      <td>7.487796</td>\n",
       "      <td>3.511573</td>\n",
       "      <td>13.434711</td>\n",
       "      <td>6.431388</td>\n",
       "    </tr>\n",
       "    <tr>\n",
       "      <th>unpreconditioning</th>\n",
       "      <td>11.304419</td>\n",
       "      <td>0.000000</td>\n",
       "      <td>9.496213</td>\n",
       "      <td>0.000000</td>\n",
       "      <td>10.308306</td>\n",
       "      <td>0.000000</td>\n",
       "      <td>8.803023</td>\n",
       "      <td>0.000000</td>\n",
       "    </tr>\n",
       "    <tr>\n",
       "      <th>P</th>\n",
       "      <td>0.136969</td>\n",
       "      <td>0.899906</td>\n",
       "      <td>0.219288</td>\n",
       "      <td>0.537998</td>\n",
       "      <td>0.483645</td>\n",
       "      <td>1.180147</td>\n",
       "      <td>0.902946</td>\n",
       "      <td>5.143769</td>\n",
       "    </tr>\n",
       "    <tr>\n",
       "      <th>Q</th>\n",
       "      <td>5.142646</td>\n",
       "      <td>10.736365</td>\n",
       "      <td>0.315685</td>\n",
       "      <td>9.723008</td>\n",
       "      <td>9.597967</td>\n",
       "      <td>16.789163</td>\n",
       "      <td>2.277737</td>\n",
       "      <td>12.309421</td>\n",
       "    </tr>\n",
       "    <tr>\n",
       "      <th>G(P | G(Q))</th>\n",
       "      <td>5.258496</td>\n",
       "      <td>10.507098</td>\n",
       "      <td>0.520855</td>\n",
       "      <td>9.919677</td>\n",
       "      <td>9.746468</td>\n",
       "      <td>16.892002</td>\n",
       "      <td>2.310667</td>\n",
       "      <td>12.354546</td>\n",
       "    </tr>\n",
       "    <tr>\n",
       "      <th>tentative eval</th>\n",
       "      <td>0.000000</td>\n",
       "      <td>0.077886</td>\n",
       "      <td>0.000000</td>\n",
       "      <td>0.059509</td>\n",
       "      <td>0.000000</td>\n",
       "      <td>1.039487</td>\n",
       "      <td>0.000000</td>\n",
       "      <td>0.533257</td>\n",
       "    </tr>\n",
       "    <tr>\n",
       "      <th>eval</th>\n",
       "      <td>0.100771</td>\n",
       "      <td>0.073311</td>\n",
       "      <td>0.265614</td>\n",
       "      <td>0.700007</td>\n",
       "      <td>0.418216</td>\n",
       "      <td>0.144562</td>\n",
       "      <td>1.056408</td>\n",
       "      <td>0.592153</td>\n",
       "    </tr>\n",
       "    <tr>\n",
       "      <th>root detection</th>\n",
       "      <td>0.000544</td>\n",
       "      <td>0.007562</td>\n",
       "      <td>0.252357</td>\n",
       "      <td>0.423179</td>\n",
       "      <td>0.001538</td>\n",
       "      <td>0.007056</td>\n",
       "      <td>1.354637</td>\n",
       "      <td>1.621374</td>\n",
       "    </tr>\n",
       "    <tr>\n",
       "      <th>composing flowpipe</th>\n",
       "      <td>11.301934</td>\n",
       "      <td>2.187360</td>\n",
       "      <td>9.494566</td>\n",
       "      <td>8.810183</td>\n",
       "      <td>10.306308</td>\n",
       "      <td>2.584846</td>\n",
       "      <td>8.801869</td>\n",
       "      <td>10.132385</td>\n",
       "    </tr>\n",
       "    <tr>\n",
       "      <th>composing atomic</th>\n",
       "      <td>5.154223</td>\n",
       "      <td>8.534744</td>\n",
       "      <td>0.000780</td>\n",
       "      <td>0.001812</td>\n",
       "      <td>9.513050</td>\n",
       "      <td>15.153589</td>\n",
       "      <td>0.003580</td>\n",
       "      <td>0.002209</td>\n",
       "    </tr>\n",
       "    <tr>\n",
       "      <th>Total</th>\n",
       "      <td>14.918128</td>\n",
       "      <td>10.426307</td>\n",
       "      <td>17.030596</td>\n",
       "      <td>14.021460</td>\n",
       "      <td>15.365224</td>\n",
       "      <td>17.364791</td>\n",
       "      <td>20.034679</td>\n",
       "      <td>13.848950</td>\n",
       "    </tr>\n",
       "  </tbody>\n",
       "</table>\n",
       "</div>"
      ],
      "text/plain": [
       "                    upfront_symbolic_masked  symbolic_masked  upfront_masked  \\\n",
       "Flow*                              6.128411         6.354529        9.874528   \n",
       "unpreconditioning                 11.304419         0.000000        9.496213   \n",
       "P                                  0.136969         0.899906        0.219288   \n",
       "Q                                  5.142646        10.736365        0.315685   \n",
       "G(P | G(Q))                        5.258496        10.507098        0.520855   \n",
       "tentative eval                     0.000000         0.077886        0.000000   \n",
       "eval                               0.100771         0.073311        0.265614   \n",
       "root detection                     0.000544         0.007562        0.252357   \n",
       "composing flowpipe                11.301934         2.187360        9.494566   \n",
       "composing atomic                   5.154223         8.534744        0.000780   \n",
       "Total                             14.918128        10.426307       17.030596   \n",
       "\n",
       "                       masked  upfront_symbolic_unmasked  symbolic_unmasked  \\\n",
       "Flow*                9.268782                   7.487796           3.511573   \n",
       "unpreconditioning    0.000000                  10.308306           0.000000   \n",
       "P                    0.537998                   0.483645           1.180147   \n",
       "Q                    9.723008                   9.597967          16.789163   \n",
       "G(P | G(Q))          9.919677                   9.746468          16.892002   \n",
       "tentative eval       0.059509                   0.000000           1.039487   \n",
       "eval                 0.700007                   0.418216           0.144562   \n",
       "root detection       0.423179                   0.001538           0.007056   \n",
       "composing flowpipe   8.810183                  10.306308           2.584846   \n",
       "composing atomic     0.001812                   9.513050          15.153589   \n",
       "Total               14.021460                  15.365224          17.364791   \n",
       "\n",
       "                    upfront_unmasked   unmasked  \n",
       "Flow*                      13.434711   6.431388  \n",
       "unpreconditioning           8.803023   0.000000  \n",
       "P                           0.902946   5.143769  \n",
       "Q                           2.277737  12.309421  \n",
       "G(P | G(Q))                 2.310667  12.354546  \n",
       "tentative eval              0.000000   0.533257  \n",
       "eval                        1.056408   0.592153  \n",
       "root detection              1.354637   1.621374  \n",
       "composing flowpipe          8.801869  10.132385  \n",
       "composing atomic            0.003580   0.002209  \n",
       "Total                      20.034679  13.848950  "
      ]
     },
     "execution_count": 8,
     "metadata": {},
     "output_type": "execute_result"
    }
   ],
   "source": [
    "comparison_stds = pd.DataFrame({\n",
    "    s: total_times.std()\n",
    "    for s, total_times in total_timess.items()\n",
    "})\n",
    "comparison_stds.columns = series_names\n",
    "comparison_stds"
   ]
  },
  {
   "cell_type": "code",
   "execution_count": 9,
   "metadata": {},
   "outputs": [
    {
     "data": {
      "text/html": [
       "<div>\n",
       "<style scoped>\n",
       "    .dataframe tbody tr th:only-of-type {\n",
       "        vertical-align: middle;\n",
       "    }\n",
       "\n",
       "    .dataframe tbody tr th {\n",
       "        vertical-align: top;\n",
       "    }\n",
       "\n",
       "    .dataframe thead th {\n",
       "        text-align: right;\n",
       "    }\n",
       "</style>\n",
       "<table border=\"1\" class=\"dataframe\">\n",
       "  <thead>\n",
       "    <tr style=\"text-align: right;\">\n",
       "      <th></th>\n",
       "      <th>P</th>\n",
       "      <th>Q</th>\n",
       "    </tr>\n",
       "  </thead>\n",
       "  <tbody>\n",
       "    <tr>\n",
       "      <th>upfront_symbolic_masked</th>\n",
       "      <td>0.429924</td>\n",
       "      <td>24.689693</td>\n",
       "    </tr>\n",
       "    <tr>\n",
       "      <th>symbolic_masked</th>\n",
       "      <td>6.771044</td>\n",
       "      <td>54.428931</td>\n",
       "    </tr>\n",
       "    <tr>\n",
       "      <th>upfront_masked</th>\n",
       "      <td>0.733038</td>\n",
       "      <td>1.026020</td>\n",
       "    </tr>\n",
       "    <tr>\n",
       "      <th>masked</th>\n",
       "      <td>9.285413</td>\n",
       "      <td>39.050409</td>\n",
       "    </tr>\n",
       "    <tr>\n",
       "      <th>upfront_symbolic_unmasked</th>\n",
       "      <td>1.816989</td>\n",
       "      <td>115.969380</td>\n",
       "    </tr>\n",
       "    <tr>\n",
       "      <th>symbolic_unmasked</th>\n",
       "      <td>21.243604</td>\n",
       "      <td>237.785437</td>\n",
       "    </tr>\n",
       "    <tr>\n",
       "      <th>upfront_unmasked</th>\n",
       "      <td>2.871566</td>\n",
       "      <td>6.497924</td>\n",
       "    </tr>\n",
       "    <tr>\n",
       "      <th>unmasked</th>\n",
       "      <td>28.578011</td>\n",
       "      <td>67.533209</td>\n",
       "    </tr>\n",
       "  </tbody>\n",
       "</table>\n",
       "</div>"
      ],
      "text/plain": [
       "                                   P           Q\n",
       "upfront_symbolic_masked     0.429924   24.689693\n",
       "symbolic_masked             6.771044   54.428931\n",
       "upfront_masked              0.733038    1.026020\n",
       "masked                      9.285413   39.050409\n",
       "upfront_symbolic_unmasked   1.816989  115.969380\n",
       "symbolic_unmasked          21.243604  237.785437\n",
       "upfront_unmasked            2.871566    6.497924\n",
       "unmasked                   28.578011   67.533209"
      ]
     },
     "execution_count": 9,
     "metadata": {},
     "output_type": "execute_result"
    }
   ],
   "source": [
    "comparison2 = comparison.loc[['P', 'Q'],:].transpose(copy=True)\n",
    "comparison2"
   ]
  },
  {
   "cell_type": "code",
   "execution_count": 10,
   "metadata": {},
   "outputs": [
    {
     "data": {
      "text/plain": [
       "<matplotlib.axes._subplots.AxesSubplot at 0x7f1711e65f70>"
      ]
     },
     "execution_count": 10,
     "metadata": {},
     "output_type": "execute_result"
    },
    {
     "data": {
      "image/png": "[encoded data removed]",
      "text/plain": [
       "<Figure size 432x288 with 1 Axes>"
      ]
     },
     "metadata": {
      "needs_background": "light"
     },
     "output_type": "display_data"
    }
   ],
   "source": [
    "p = comparison2.plot(kind='barh', stacked=True, grid=False)\n",
    "p"
   ]
  },
  {
   "cell_type": "code",
   "execution_count": 11,
   "metadata": {},
   "outputs": [
    {
     "data": {
      "text/plain": [
       "<Figure size 432x288 with 0 Axes>"
      ]
     },
     "metadata": {},
     "output_type": "display_data"
    }
   ],
   "source": [
    "from matplotlib import rcParams\n",
    "rcParams.update({'figure.autolayout': True})\n",
    "import matplotlib.pyplot as plt\n",
    "plt.tight_layout()"
   ]
  },
  {
   "cell_type": "code",
   "execution_count": 12,
   "metadata": {},
   "outputs": [],
   "source": [
    "p.get_figure().savefig('images/comparison-analysis-bar-chart-1.pdf')"
   ]
  },
  {
   "cell_type": "code",
   "execution_count": 13,
   "metadata": {},
   "outputs": [
    {
     "data": {
      "text/plain": [
       "<matplotlib.axes._subplots.AxesSubplot at 0x7f170fd40730>"
      ]
     },
     "execution_count": 13,
     "metadata": {},
     "output_type": "execute_result"
    },
    {
     "data": {
      "image/png": "[encoded data removed]",
      "text/plain": [
       "<Figure size 432x288 with 1 Axes>"
      ]
     },
     "metadata": {
      "needs_background": "light"
     },
     "output_type": "display_data"
    }
   ],
   "source": [
    "comparison3 = comparison.loc[['Total'],:].transpose(copy=True)\n",
    "comparison3.plot(kind='barh')"
   ]
  },
  {
   "cell_type": "code",
   "execution_count": 14,
   "metadata": {},
   "outputs": [
    {
     "data": {
      "text/plain": [
       "<matplotlib.axes._subplots.AxesSubplot at 0x7f170fce2eb0>"
      ]
     },
     "execution_count": 14,
     "metadata": {},
     "output_type": "execute_result"
    },
    {
     "data": {
      "image/png": "[encoded data removed]",
      "text/plain": [
       "<Figure size 432x288 with 1 Axes>"
      ]
     },
     "metadata": {
      "needs_background": "light"
     },
     "output_type": "display_data"
    }
   ],
   "source": [
    "comparison_compo = comparison.loc[['composing flowpipe'],:].transpose(copy=True)\n",
    "comparison_compo.plot(kind='barh')"
   ]
  },
  {
   "cell_type": "code",
   "execution_count": 15,
   "metadata": {},
   "outputs": [],
   "source": [
    "_.get_figure().savefig('images/unpreconditioning_comparison.pdf')"
   ]
  },
  {
   "cell_type": "code",
   "execution_count": 16,
   "metadata": {},
   "outputs": [
    {
     "data": {
      "text/plain": [
       "<matplotlib.axes._subplots.AxesSubplot at 0x7f170fc20580>"
      ]
     },
     "execution_count": 16,
     "metadata": {},
     "output_type": "execute_result"
    },
    {
     "data": {
      "image/png": "[encoded data removed]",
      "text/plain": [
       "<Figure size 432x288 with 1 Axes>"
      ]
     },
     "metadata": {
      "needs_background": "light"
     },
     "output_type": "display_data"
    }
   ],
   "source": [
    "comparison_compo_atomic = comparison.loc[['composing atomic'],:].transpose(copy=True)\n",
    "comparison_compo_atomic.plot(kind='barh')"
   ]
  },
  {
   "cell_type": "code",
   "execution_count": 17,
   "metadata": {},
   "outputs": [],
   "source": [
    "_.get_figure().savefig('images/composing_atomic_comparison.pdf')"
   ]
  },
  {
   "cell_type": "code",
   "execution_count": 18,
   "metadata": {},
   "outputs": [
    {
     "data": {
      "text/html": [
       "<div>\n",
       "<style scoped>\n",
       "    .dataframe tbody tr th:only-of-type {\n",
       "        vertical-align: middle;\n",
       "    }\n",
       "\n",
       "    .dataframe tbody tr th {\n",
       "        vertical-align: top;\n",
       "    }\n",
       "\n",
       "    .dataframe thead th {\n",
       "        text-align: right;\n",
       "    }\n",
       "</style>\n",
       "<table border=\"1\" class=\"dataframe\">\n",
       "  <thead>\n",
       "    <tr style=\"text-align: right;\">\n",
       "      <th></th>\n",
       "      <th>composing flowpipe</th>\n",
       "    </tr>\n",
       "  </thead>\n",
       "  <tbody>\n",
       "    <tr>\n",
       "      <th>upfront_symbolic_masked</th>\n",
       "      <td>67.280956</td>\n",
       "    </tr>\n",
       "    <tr>\n",
       "      <th>symbolic_masked</th>\n",
       "      <td>13.728399</td>\n",
       "    </tr>\n",
       "    <tr>\n",
       "      <th>upfront_masked</th>\n",
       "      <td>79.770174</td>\n",
       "    </tr>\n",
       "    <tr>\n",
       "      <th>masked</th>\n",
       "      <td>43.084532</td>\n",
       "    </tr>\n",
       "    <tr>\n",
       "      <th>upfront_symbolic_unmasked</th>\n",
       "      <td>66.846721</td>\n",
       "    </tr>\n",
       "    <tr>\n",
       "      <th>symbolic_unmasked</th>\n",
       "      <td>58.222266</td>\n",
       "    </tr>\n",
       "    <tr>\n",
       "      <th>upfront_unmasked</th>\n",
       "      <td>77.574421</td>\n",
       "    </tr>\n",
       "    <tr>\n",
       "      <th>unmasked</th>\n",
       "      <td>83.307537</td>\n",
       "    </tr>\n",
       "  </tbody>\n",
       "</table>\n",
       "</div>"
      ],
      "text/plain": [
       "                           composing flowpipe\n",
       "upfront_symbolic_masked             67.280956\n",
       "symbolic_masked                     13.728399\n",
       "upfront_masked                      79.770174\n",
       "masked                              43.084532\n",
       "upfront_symbolic_unmasked           66.846721\n",
       "symbolic_unmasked                   58.222266\n",
       "upfront_unmasked                    77.574421\n",
       "unmasked                            83.307537"
      ]
     },
     "execution_count": 18,
     "metadata": {},
     "output_type": "execute_result"
    }
   ],
   "source": [
    "comparison5 = comparison.loc[['composing flowpipe'],:].transpose(copy=True)\n",
    "comparison5"
   ]
  },
  {
   "cell_type": "code",
   "execution_count": 44,
   "metadata": {},
   "outputs": [
    {
     "data": {
      "text/html": [
       "<div>\n",
       "<style scoped>\n",
       "    .dataframe tbody tr th:only-of-type {\n",
       "        vertical-align: middle;\n",
       "    }\n",
       "\n",
       "    .dataframe tbody tr th {\n",
       "        vertical-align: top;\n",
       "    }\n",
       "\n",
       "    .dataframe thead th {\n",
       "        text-align: right;\n",
       "    }\n",
       "</style>\n",
       "<table border=\"1\" class=\"dataframe\">\n",
       "  <thead>\n",
       "    <tr style=\"text-align: right;\">\n",
       "      <th></th>\n",
       "      <th>Flow*</th>\n",
       "      <th>P</th>\n",
       "      <th>Q</th>\n",
       "      <th>Total</th>\n",
       "    </tr>\n",
       "  </thead>\n",
       "  <tbody>\n",
       "    <tr>\n",
       "      <th>upfront_symbolic_masked</th>\n",
       "      <td>77.704968</td>\n",
       "      <td>0.429924</td>\n",
       "      <td>24.689693</td>\n",
       "      <td>170.394933</td>\n",
       "    </tr>\n",
       "    <tr>\n",
       "      <th>symbolic_masked</th>\n",
       "      <td>78.083259</td>\n",
       "      <td>6.771044</td>\n",
       "      <td>54.428931</td>\n",
       "      <td>139.507228</td>\n",
       "    </tr>\n",
       "    <tr>\n",
       "      <th>upfront_masked</th>\n",
       "      <td>82.934898</td>\n",
       "      <td>0.733038</td>\n",
       "      <td>1.026020</td>\n",
       "      <td>164.759333</td>\n",
       "    </tr>\n",
       "    <tr>\n",
       "      <th>masked</th>\n",
       "      <td>87.898530</td>\n",
       "      <td>9.285413</td>\n",
       "      <td>39.050409</td>\n",
       "      <td>136.479671</td>\n",
       "    </tr>\n",
       "    <tr>\n",
       "      <th>upfront_symbolic_unmasked</th>\n",
       "      <td>80.336791</td>\n",
       "      <td>1.816989</td>\n",
       "      <td>115.969380</td>\n",
       "      <td>265.246118</td>\n",
       "    </tr>\n",
       "    <tr>\n",
       "      <th>symbolic_unmasked</th>\n",
       "      <td>78.870518</td>\n",
       "      <td>21.243604</td>\n",
       "      <td>237.785437</td>\n",
       "      <td>338.123532</td>\n",
       "    </tr>\n",
       "    <tr>\n",
       "      <th>upfront_unmasked</th>\n",
       "      <td>82.258631</td>\n",
       "      <td>2.871566</td>\n",
       "      <td>6.497924</td>\n",
       "      <td>169.491295</td>\n",
       "    </tr>\n",
       "    <tr>\n",
       "      <th>unmasked</th>\n",
       "      <td>79.551850</td>\n",
       "      <td>28.578011</td>\n",
       "      <td>67.533209</td>\n",
       "      <td>175.894812</td>\n",
       "    </tr>\n",
       "  </tbody>\n",
       "</table>\n",
       "</div>"
      ],
      "text/plain": [
       "                               Flow*          P           Q       Total\n",
       "upfront_symbolic_masked    77.704968   0.429924   24.689693  170.394933\n",
       "symbolic_masked            78.083259   6.771044   54.428931  139.507228\n",
       "upfront_masked             82.934898   0.733038    1.026020  164.759333\n",
       "masked                     87.898530   9.285413   39.050409  136.479671\n",
       "upfront_symbolic_unmasked  80.336791   1.816989  115.969380  265.246118\n",
       "symbolic_unmasked          78.870518  21.243604  237.785437  338.123532\n",
       "upfront_unmasked           82.258631   2.871566    6.497924  169.491295\n",
       "unmasked                   79.551850  28.578011   67.533209  175.894812"
      ]
     },
     "execution_count": 44,
     "metadata": {},
     "output_type": "execute_result"
    }
   ],
   "source": [
    "comparison4 = comparison.loc[['Flow*', 'P', 'Q', 'Total'],:].transpose(copy=True)\n",
    "comparison4"
   ]
  },
  {
   "cell_type": "code",
   "execution_count": 45,
   "metadata": {},
   "outputs": [
    {
     "data": {
      "text/plain": [
       "['upfront_symbolic_masked',\n",
       " 'upfront_masked',\n",
       " 'upfront_symbolic_unmasked',\n",
       " 'upfront_unmasked']"
      ]
     },
     "execution_count": 45,
     "metadata": {},
     "output_type": "execute_result"
    }
   ],
   "source": [
    "upfront_cols = [s for s in series if 'upfront' in s]\n",
    "upfront_cols"
   ]
  },
  {
   "cell_type": "code",
   "execution_count": 46,
   "metadata": {},
   "outputs": [
    {
     "data": {
      "text/html": [
       "<div>\n",
       "<style scoped>\n",
       "    .dataframe tbody tr th:only-of-type {\n",
       "        vertical-align: middle;\n",
       "    }\n",
       "\n",
       "    .dataframe tbody tr th {\n",
       "        vertical-align: top;\n",
       "    }\n",
       "\n",
       "    .dataframe thead th {\n",
       "        text-align: right;\n",
       "    }\n",
       "</style>\n",
       "<table border=\"1\" class=\"dataframe\">\n",
       "  <thead>\n",
       "    <tr style=\"text-align: right;\">\n",
       "      <th></th>\n",
       "      <th>unpreconditioning</th>\n",
       "    </tr>\n",
       "  </thead>\n",
       "  <tbody>\n",
       "    <tr>\n",
       "      <th>upfront_symbolic_masked</th>\n",
       "      <td>67.341991</td>\n",
       "    </tr>\n",
       "    <tr>\n",
       "      <th>upfront_masked</th>\n",
       "      <td>79.827351</td>\n",
       "    </tr>\n",
       "    <tr>\n",
       "      <th>upfront_symbolic_unmasked</th>\n",
       "      <td>66.905820</td>\n",
       "    </tr>\n",
       "    <tr>\n",
       "      <th>upfront_unmasked</th>\n",
       "      <td>77.629671</td>\n",
       "    </tr>\n",
       "  </tbody>\n",
       "</table>\n",
       "</div>"
      ],
      "text/plain": [
       "                           unpreconditioning\n",
       "upfront_symbolic_masked            67.341991\n",
       "upfront_masked                     79.827351\n",
       "upfront_symbolic_unmasked          66.905820\n",
       "upfront_unmasked                   77.629671"
      ]
     },
     "execution_count": 46,
     "metadata": {},
     "output_type": "execute_result"
    }
   ],
   "source": [
    "comparison.loc[['unpreconditioning'], upfront_cols].transpose()"
   ]
  },
  {
   "cell_type": "code",
   "execution_count": 171,
   "metadata": {},
   "outputs": [
    {
     "name": "stdout",
     "output_type": "stream",
     "text": [
      "['Flow*', 'P', 'Q', 'Total', 'unpreconditioning']\n",
      "['Flow*', 'unpreconditioning', 'P', 'Q', 'Total']\n"
     ]
    },
    {
     "data": {
      "text/html": [
       "<div>\n",
       "<style scoped>\n",
       "    .dataframe tbody tr th:only-of-type {\n",
       "        vertical-align: middle;\n",
       "    }\n",
       "\n",
       "    .dataframe tbody tr th {\n",
       "        vertical-align: top;\n",
       "    }\n",
       "\n",
       "    .dataframe thead th {\n",
       "        text-align: right;\n",
       "    }\n",
       "</style>\n",
       "<table border=\"1\" class=\"dataframe\">\n",
       "  <thead>\n",
       "    <tr style=\"text-align: right;\">\n",
       "      <th></th>\n",
       "      <th>Flow*</th>\n",
       "      <th>unpreconditioning</th>\n",
       "      <th>P</th>\n",
       "      <th>Q</th>\n",
       "      <th>Total</th>\n",
       "    </tr>\n",
       "  </thead>\n",
       "  <tbody>\n",
       "    <tr>\n",
       "      <th>masked</th>\n",
       "      <td>87.898530</td>\n",
       "      <td>0.000000</td>\n",
       "      <td>9.285413</td>\n",
       "      <td>39.050409</td>\n",
       "      <td>136.479671</td>\n",
       "    </tr>\n",
       "    <tr>\n",
       "      <th>symbolic_masked</th>\n",
       "      <td>78.083259</td>\n",
       "      <td>0.000000</td>\n",
       "      <td>6.771044</td>\n",
       "      <td>54.428931</td>\n",
       "      <td>139.507228</td>\n",
       "    </tr>\n",
       "    <tr>\n",
       "      <th>symbolic_unmasked</th>\n",
       "      <td>78.870518</td>\n",
       "      <td>0.000000</td>\n",
       "      <td>21.243604</td>\n",
       "      <td>237.785437</td>\n",
       "      <td>338.123532</td>\n",
       "    </tr>\n",
       "    <tr>\n",
       "      <th>unmasked</th>\n",
       "      <td>79.551850</td>\n",
       "      <td>0.000000</td>\n",
       "      <td>28.578011</td>\n",
       "      <td>67.533209</td>\n",
       "      <td>175.894812</td>\n",
       "    </tr>\n",
       "    <tr>\n",
       "      <th>upfront_masked</th>\n",
       "      <td>82.934898</td>\n",
       "      <td>79.827351</td>\n",
       "      <td>0.733038</td>\n",
       "      <td>1.026020</td>\n",
       "      <td>164.759333</td>\n",
       "    </tr>\n",
       "    <tr>\n",
       "      <th>upfront_symbolic_masked</th>\n",
       "      <td>77.704968</td>\n",
       "      <td>67.341991</td>\n",
       "      <td>0.429924</td>\n",
       "      <td>24.689693</td>\n",
       "      <td>170.394933</td>\n",
       "    </tr>\n",
       "    <tr>\n",
       "      <th>upfront_symbolic_unmasked</th>\n",
       "      <td>80.336791</td>\n",
       "      <td>66.905820</td>\n",
       "      <td>1.816989</td>\n",
       "      <td>115.969380</td>\n",
       "      <td>265.246118</td>\n",
       "    </tr>\n",
       "    <tr>\n",
       "      <th>upfront_unmasked</th>\n",
       "      <td>82.258631</td>\n",
       "      <td>77.629671</td>\n",
       "      <td>2.871566</td>\n",
       "      <td>6.497924</td>\n",
       "      <td>169.491295</td>\n",
       "    </tr>\n",
       "  </tbody>\n",
       "</table>\n",
       "</div>"
      ],
      "text/plain": [
       "                               Flow*  unpreconditioning          P  \\\n",
       "masked                     87.898530           0.000000   9.285413   \n",
       "symbolic_masked            78.083259           0.000000   6.771044   \n",
       "symbolic_unmasked          78.870518           0.000000  21.243604   \n",
       "unmasked                   79.551850           0.000000  28.578011   \n",
       "upfront_masked             82.934898          79.827351   0.733038   \n",
       "upfront_symbolic_masked    77.704968          67.341991   0.429924   \n",
       "upfront_symbolic_unmasked  80.336791          66.905820   1.816989   \n",
       "upfront_unmasked           82.258631          77.629671   2.871566   \n",
       "\n",
       "                                    Q       Total  \n",
       "masked                      39.050409  136.479671  \n",
       "symbolic_masked             54.428931  139.507228  \n",
       "symbolic_unmasked          237.785437  338.123532  \n",
       "unmasked                    67.533209  175.894812  \n",
       "upfront_masked               1.026020  164.759333  \n",
       "upfront_symbolic_masked     24.689693  170.394933  \n",
       "upfront_symbolic_unmasked  115.969380  265.246118  \n",
       "upfront_unmasked             6.497924  169.491295  "
      ]
     },
     "execution_count": 171,
     "metadata": {},
     "output_type": "execute_result"
    }
   ],
   "source": [
    "comparison6 = comparison4.join(comparison.loc[['unpreconditioning'], upfront_cols].transpose(copy=True),\n",
    "                               how='outer')\n",
    "comparison6['unpreconditioning'].fillna(0, inplace=True)\n",
    "cols = comparison6.columns.tolist()\n",
    "print(cols)\n",
    "cols = cols[:1] + cols[-1:] + cols[1:-1]\n",
    "print(cols)\n",
    "comparison6 = comparison6[cols]\n",
    "comparison6"
   ]
  },
  {
   "cell_type": "code",
   "execution_count": 172,
   "metadata": {},
   "outputs": [],
   "source": [
    "rearranged_colors = ('tab:blue', 'tab:red', 'tab:orange', 'tab:green')"
   ]
  },
  {
   "cell_type": "code",
   "execution_count": 173,
   "metadata": {},
   "outputs": [],
   "source": [
    "p.get_figure().savefig('images/full-upfront-comparison.pdf')"
   ]
  },
  {
   "cell_type": "code",
   "execution_count": 334,
   "metadata": {},
   "outputs": [],
   "source": [
    "chosen_rows, chosen_names = zip(*[\n",
    "#    'upfront_unmasked',\n",
    "#     ('upfront_unmasked', 'Unpreconditioning upfront'),\n",
    "    ('upfront_symbolic_unmasked', 'Unpreconditioning upfront'),\n",
    "#    'upfront_symbolic_unmasked',\n",
    "    ('unmasked', 'Functional composition'),\n",
    "#    'symbolic_unmasked',\n",
    "    ('symbolic_unmasked', 'Unmasked'),\n",
    "    ('symbolic_masked', 'Masked'),\n",
    "#    'symbolic_masked_reversed',\n",
    "#    'symbolic_masked_reversed',\n",
    "])"
   ]
  },
  {
   "cell_type": "code",
   "execution_count": 175,
   "metadata": {},
   "outputs": [],
   "source": [
    "import matplotlib.pyplot as plt\n",
    "import numpy as np\n",
    "from matplotlib.ticker import (MultipleLocator, FormatStrFormatter,\n",
    "                               AutoMinorLocator)  "
   ]
  },
  {
   "cell_type": "code",
   "execution_count": 176,
   "metadata": {},
   "outputs": [
    {
     "data": {
      "text/plain": [
       "masked                       136.479671\n",
       "symbolic_masked              139.507228\n",
       "symbolic_unmasked            338.123532\n",
       "unmasked                     175.894812\n",
       "upfront_masked               164.759333\n",
       "upfront_symbolic_masked      170.394933\n",
       "upfront_symbolic_unmasked    265.246118\n",
       "upfront_unmasked             169.491295\n",
       "dtype: float64"
      ]
     },
     "execution_count": 176,
     "metadata": {},
     "output_type": "execute_result"
    }
   ],
   "source": [
    "comparison6[['Total']].sum(axis=1) "
   ]
  },
  {
   "cell_type": "code",
   "execution_count": 177,
   "metadata": {},
   "outputs": [
    {
     "data": {
      "text/plain": [
       "masked                       136.234352\n",
       "symbolic_masked              139.283234\n",
       "symbolic_unmasked            337.899559\n",
       "unmasked                     175.663070\n",
       "upfront_masked               164.521308\n",
       "upfront_symbolic_masked      170.166576\n",
       "upfront_symbolic_unmasked    265.028980\n",
       "upfront_unmasked             169.257792\n",
       "dtype: float64"
      ]
     },
     "execution_count": 177,
     "metadata": {},
     "output_type": "execute_result"
    }
   ],
   "source": [
    "comparison6[cols[:-1]].sum(axis=1)"
   ]
  },
  {
   "cell_type": "code",
   "execution_count": 178,
   "metadata": {},
   "outputs": [
    {
     "data": {
      "text/plain": [
       "masked                       272.714023\n",
       "symbolic_masked              278.790462\n",
       "symbolic_unmasked            676.023091\n",
       "unmasked                     351.557882\n",
       "upfront_masked               329.280640\n",
       "upfront_symbolic_masked      340.561508\n",
       "upfront_symbolic_unmasked    530.275099\n",
       "upfront_unmasked             338.749087\n",
       "dtype: float64"
      ]
     },
     "execution_count": 178,
     "metadata": {},
     "output_type": "execute_result"
    }
   ],
   "source": [
    "comparison6.sum(axis=1)"
   ]
  },
  {
   "cell_type": "code",
   "execution_count": 179,
   "metadata": {},
   "outputs": [
    {
     "data": {
      "text/plain": [
       "masked                       0.245319\n",
       "symbolic_masked              0.223994\n",
       "symbolic_unmasked            0.223973\n",
       "unmasked                     0.231742\n",
       "upfront_masked               0.238025\n",
       "upfront_symbolic_masked      0.228357\n",
       "upfront_symbolic_unmasked    0.217138\n",
       "upfront_unmasked             0.233503\n",
       "dtype: float64"
      ]
     },
     "execution_count": 179,
     "metadata": {},
     "output_type": "execute_result"
    }
   ],
   "source": [
    "rem = comparison6[['Total']].sum(axis=1) - comparison6[cols[:-1]].sum(axis=1)\n",
    "rem"
   ]
  },
  {
   "cell_type": "code",
   "execution_count": 184,
   "metadata": {},
   "outputs": [
    {
     "name": "stdout",
     "output_type": "stream",
     "text": [
      "['Flow*', 'unpreconditioning', 'P', 'Q', 'Remainder', 'Total']\n",
      "['Flow*', 'unpreconditioning', 'P', 'Q', 'Remainder', 'Total']\n"
     ]
    },
    {
     "data": {
      "text/html": [
       "<div>\n",
       "<style scoped>\n",
       "    .dataframe tbody tr th:only-of-type {\n",
       "        vertical-align: middle;\n",
       "    }\n",
       "\n",
       "    .dataframe tbody tr th {\n",
       "        vertical-align: top;\n",
       "    }\n",
       "\n",
       "    .dataframe thead th {\n",
       "        text-align: right;\n",
       "    }\n",
       "</style>\n",
       "<table border=\"1\" class=\"dataframe\">\n",
       "  <thead>\n",
       "    <tr style=\"text-align: right;\">\n",
       "      <th></th>\n",
       "      <th>Flow*</th>\n",
       "      <th>unpreconditioning</th>\n",
       "      <th>P</th>\n",
       "      <th>Q</th>\n",
       "      <th>Total</th>\n",
       "      <th>Remainder</th>\n",
       "    </tr>\n",
       "  </thead>\n",
       "  <tbody>\n",
       "    <tr>\n",
       "      <th>masked</th>\n",
       "      <td>87.898530</td>\n",
       "      <td>0.000000</td>\n",
       "      <td>9.285413</td>\n",
       "      <td>39.050409</td>\n",
       "      <td>136.479671</td>\n",
       "      <td>0.245319</td>\n",
       "    </tr>\n",
       "    <tr>\n",
       "      <th>symbolic_masked</th>\n",
       "      <td>78.083259</td>\n",
       "      <td>0.000000</td>\n",
       "      <td>6.771044</td>\n",
       "      <td>54.428931</td>\n",
       "      <td>139.507228</td>\n",
       "      <td>0.223994</td>\n",
       "    </tr>\n",
       "    <tr>\n",
       "      <th>symbolic_unmasked</th>\n",
       "      <td>78.870518</td>\n",
       "      <td>0.000000</td>\n",
       "      <td>21.243604</td>\n",
       "      <td>237.785437</td>\n",
       "      <td>338.123532</td>\n",
       "      <td>0.223973</td>\n",
       "    </tr>\n",
       "    <tr>\n",
       "      <th>unmasked</th>\n",
       "      <td>79.551850</td>\n",
       "      <td>0.000000</td>\n",
       "      <td>28.578011</td>\n",
       "      <td>67.533209</td>\n",
       "      <td>175.894812</td>\n",
       "      <td>0.231742</td>\n",
       "    </tr>\n",
       "    <tr>\n",
       "      <th>upfront_masked</th>\n",
       "      <td>82.934898</td>\n",
       "      <td>79.827351</td>\n",
       "      <td>0.733038</td>\n",
       "      <td>1.026020</td>\n",
       "      <td>164.759333</td>\n",
       "      <td>0.238025</td>\n",
       "    </tr>\n",
       "    <tr>\n",
       "      <th>upfront_symbolic_masked</th>\n",
       "      <td>77.704968</td>\n",
       "      <td>67.341991</td>\n",
       "      <td>0.429924</td>\n",
       "      <td>24.689693</td>\n",
       "      <td>170.394933</td>\n",
       "      <td>0.228357</td>\n",
       "    </tr>\n",
       "    <tr>\n",
       "      <th>upfront_symbolic_unmasked</th>\n",
       "      <td>80.336791</td>\n",
       "      <td>66.905820</td>\n",
       "      <td>1.816989</td>\n",
       "      <td>115.969380</td>\n",
       "      <td>265.246118</td>\n",
       "      <td>0.217138</td>\n",
       "    </tr>\n",
       "    <tr>\n",
       "      <th>upfront_unmasked</th>\n",
       "      <td>82.258631</td>\n",
       "      <td>77.629671</td>\n",
       "      <td>2.871566</td>\n",
       "      <td>6.497924</td>\n",
       "      <td>169.491295</td>\n",
       "      <td>0.233503</td>\n",
       "    </tr>\n",
       "  </tbody>\n",
       "</table>\n",
       "</div>"
      ],
      "text/plain": [
       "                               Flow*  unpreconditioning          P  \\\n",
       "masked                     87.898530           0.000000   9.285413   \n",
       "symbolic_masked            78.083259           0.000000   6.771044   \n",
       "symbolic_unmasked          78.870518           0.000000  21.243604   \n",
       "unmasked                   79.551850           0.000000  28.578011   \n",
       "upfront_masked             82.934898          79.827351   0.733038   \n",
       "upfront_symbolic_masked    77.704968          67.341991   0.429924   \n",
       "upfront_symbolic_unmasked  80.336791          66.905820   1.816989   \n",
       "upfront_unmasked           82.258631          77.629671   2.871566   \n",
       "\n",
       "                                    Q       Total  Remainder  \n",
       "masked                      39.050409  136.479671   0.245319  \n",
       "symbolic_masked             54.428931  139.507228   0.223994  \n",
       "symbolic_unmasked          237.785437  338.123532   0.223973  \n",
       "unmasked                    67.533209  175.894812   0.231742  \n",
       "upfront_masked               1.026020  164.759333   0.238025  \n",
       "upfront_symbolic_masked     24.689693  170.394933   0.228357  \n",
       "upfront_symbolic_unmasked  115.969380  265.246118   0.217138  \n",
       "upfront_unmasked             6.497924  169.491295   0.233503  "
      ]
     },
     "execution_count": 184,
     "metadata": {},
     "output_type": "execute_result"
    }
   ],
   "source": [
    "comparison7 = comparison6.copy()\n",
    "comparison7.loc[:,'Remainder'] = rem\n",
    "cols7 = comparison6.columns.tolist()\n",
    "print(cols)\n",
    "cols7 = cols7[:-2] + [cols7[-1], cols7[-2]]\n",
    "print(cols)\n",
    "comparison7 = comparison7[cols7]\n",
    "comparison7"
   ]
  },
  {
   "cell_type": "code",
   "execution_count": 203,
   "metadata": {},
   "outputs": [
    {
     "data": {
      "text/plain": [
       "136.4796709423943"
      ]
     },
     "execution_count": 203,
     "metadata": {},
     "output_type": "execute_result"
    }
   ],
   "source": [
    "comparison6['Total']['masked']"
   ]
  },
  {
   "cell_type": "code",
   "execution_count": 209,
   "metadata": {},
   "outputs": [
    {
     "data": {
      "text/plain": [
       "[('symbolic_masked', 139.50722794170142),\n",
       " ('symbolic_unmasked', 338.1235316839884),\n",
       " ('unmasked', 175.89481231110403),\n",
       " ('upfront_unmasked', 169.4912947925972)]"
      ]
     },
     "execution_count": 209,
     "metadata": {},
     "output_type": "execute_result"
    }
   ],
   "source": [
    "list(comparison6['Total'][reversed(chosen_rows)].items())"
   ]
  },
  {
   "cell_type": "code",
   "execution_count": 336,
   "metadata": {},
   "outputs": [
    {
     "data": {
      "text/html": [
       "<div>\n",
       "<style scoped>\n",
       "    .dataframe tbody tr th:only-of-type {\n",
       "        vertical-align: middle;\n",
       "    }\n",
       "\n",
       "    .dataframe tbody tr th {\n",
       "        vertical-align: top;\n",
       "    }\n",
       "\n",
       "    .dataframe thead th {\n",
       "        text-align: right;\n",
       "    }\n",
       "</style>\n",
       "<table border=\"1\" class=\"dataframe\">\n",
       "  <thead>\n",
       "    <tr style=\"text-align: right;\">\n",
       "      <th></th>\n",
       "      <th>Flow*</th>\n",
       "      <th>unpreconditioning</th>\n",
       "      <th>P</th>\n",
       "      <th>Q</th>\n",
       "    </tr>\n",
       "  </thead>\n",
       "  <tbody>\n",
       "    <tr>\n",
       "      <th>Masked</th>\n",
       "      <td>78.083259</td>\n",
       "      <td>0.00000</td>\n",
       "      <td>6.771044</td>\n",
       "      <td>54.428931</td>\n",
       "    </tr>\n",
       "    <tr>\n",
       "      <th>Unmasked</th>\n",
       "      <td>78.870518</td>\n",
       "      <td>0.00000</td>\n",
       "      <td>21.243604</td>\n",
       "      <td>237.785437</td>\n",
       "    </tr>\n",
       "    <tr>\n",
       "      <th>Functional composition</th>\n",
       "      <td>79.551850</td>\n",
       "      <td>0.00000</td>\n",
       "      <td>28.578011</td>\n",
       "      <td>67.533209</td>\n",
       "    </tr>\n",
       "    <tr>\n",
       "      <th>Unpreconditioning upfront</th>\n",
       "      <td>80.336791</td>\n",
       "      <td>66.90582</td>\n",
       "      <td>1.816989</td>\n",
       "      <td>115.969380</td>\n",
       "    </tr>\n",
       "  </tbody>\n",
       "</table>\n",
       "</div>"
      ],
      "text/plain": [
       "                               Flow*  unpreconditioning          P           Q\n",
       "Masked                     78.083259            0.00000   6.771044   54.428931\n",
       "Unmasked                   78.870518            0.00000  21.243604  237.785437\n",
       "Functional composition     79.551850            0.00000  28.578011   67.533209\n",
       "Unpreconditioning upfront  80.336791           66.90582   1.816989  115.969380"
      ]
     },
     "execution_count": 336,
     "metadata": {},
     "output_type": "execute_result"
    }
   ],
   "source": [
    "comp6_plot_data = comparison6.loc[reversed(chosen_rows),:][cols[:-2]].copy()\n",
    "comp6_plot_data = comp6_plot_data.transpose()\n",
    "comp6_plot_data.columns = reversed(chosen_names)\n",
    "comp6_plot_data = comp6_plot_data.transpose()\n",
    "comp6_plot_data"
   ]
  },
  {
   "cell_type": "code",
   "execution_count": 337,
   "metadata": {},
   "outputs": [
    {
     "data": {
      "image/png": "[encoded data removed]",
      "text/plain": [
       "<Figure size 720x144 with 1 Axes>"
      ]
     },
     "metadata": {
      "needs_background": "light"
     },
     "output_type": "display_data"
    }
   ],
   "source": [
    "p = comp6_plot_data\\\n",
    "    .plot(kind='barh', stacked=True, grid=False,color=rearranged_colors, figsize=(10,2),\n",
    "          zorder=3)\n",
    "plt.legend(loc=(1.05, 0.105))\n",
    "plt.xlabel('overall verification time (seconds)')\n",
    "ax = plt.gca()\n",
    "ax.set_xticks(np.arange(0, 401, 50))\n",
    "ax.xaxis.set_minor_locator(AutoMinorLocator())\n",
    "ax.xaxis.grid(True, zorder=0, linestyle='-', color='darkgrey', which='major')\n",
    "ax.xaxis.grid(True, zorder=0, linestyle='dotted', which='minor')\n",
    "\n",
    "labels = [\n",
    "    f\"{t:.2f} sec\"\n",
    "#     + ('' if 'symbolic' in row\n",
    "#           else \"\\n (returned unknown)\")\n",
    "    for row, t in comparison6['Total'][reversed(chosen_rows)].items()\n",
    "]\n",
    "\n",
    "def anno_inner(p, label, color='black'):\n",
    "    ax.annotate(\n",
    "        label,\n",
    "        xy=(p.get_x() + p.get_width()/2 ,\n",
    "            p.get_y() + p.get_height()/2),\n",
    "        xytext=(0, 0),\n",
    "        textcoords=\"offset points\",\n",
    "        va='center', ha='center',\n",
    "        color=color\n",
    "    )\n",
    "\n",
    "for i, p in enumerate(ax.patches):\n",
    "    if p.get_width() > 10:\n",
    "        col = ['Flow*', 'unpreconditioning', 'P', 'Q'][i // 4]\n",
    "        anno_inner(p, f\"{comparison6[col][chosen_rows[3-(i % 4)]]:.2f}\", 'white')\n",
    "        \n",
    "for i, label in zip(ax.patches[-4:], labels):\n",
    "    ax.annotate(\n",
    "        label,\n",
    "        xy=(i.get_x() + i.get_width(),\n",
    "            i.get_y() + i.get_height()/2),\n",
    "        xytext=(3, 0),\n",
    "        textcoords=\"offset points\",\n",
    "        va='center', ha='left',\n",
    "    )\n",
    "    \n",
    "plt.annotate(\n",
    "    'Returns Unknown',\n",
    "    xy=(238, 2.49),\n",
    "    va='center', ha='left',\n",
    "    xytext=(12,0),\n",
    "    textcoords=\"offset points\",\n",
    "    arrowprops=dict(arrowstyle='-[, widthB=1.9, lengthB=0.5, angleB=60', lw=1.2),\n",
    ")\n",
    "\n",
    "plt.tight_layout()\n",
    "plt.savefig('images/benchmark-bar-chart.pdf')\n",
    "plt.show()"
   ]
  },
  {
   "cell_type": "code",
   "execution_count": null,
   "metadata": {},
   "outputs": [],
   "source": []
  },
  {
   "cell_type": "code",
   "execution_count": 265,
   "metadata": {},
   "outputs": [
    {
     "data": {
      "text/plain": [
       "<Figure size 432x288 with 0 Axes>"
      ]
     },
     "metadata": {},
     "output_type": "display_data"
    }
   ],
   "source": []
  },
  {
   "cell_type": "code",
   "execution_count": 58,
   "metadata": {
    "collapsed": true,
    "jupyter": {
     "outputs_hidden": true
    }
   },
   "outputs": [
    {
     "data": {
      "text/plain": [
       "<matplotlib.axes._subplots.AxesSubplot at 0x7f170b4c1340>"
      ]
     },
     "execution_count": 58,
     "metadata": {},
     "output_type": "execute_result"
    },
    {
     "data": {
      "image/png": "[encoded data removed]",
      "text/plain": [
       "<Figure size 432x288 with 1 Axes>"
      ]
     },
     "metadata": {
      "needs_background": "light"
     },
     "output_type": "display_data"
    }
   ],
   "source": [
    "p = comparison6[cols[:-1]].plot(\n",
    "                    kind='barh', stacked=True, grid=False,\n",
    "                     color=rearranged_colors)\n",
    "p"
   ]
  },
  {
   "cell_type": "code",
   "execution_count": 28,
   "metadata": {},
   "outputs": [
    {
     "data": {
      "text/html": [
       "<div>\n",
       "<style scoped>\n",
       "    .dataframe tbody tr th:only-of-type {\n",
       "        vertical-align: middle;\n",
       "    }\n",
       "\n",
       "    .dataframe tbody tr th {\n",
       "        vertical-align: top;\n",
       "    }\n",
       "\n",
       "    .dataframe thead th {\n",
       "        text-align: right;\n",
       "    }\n",
       "</style>\n",
       "<table border=\"1\" class=\"dataframe\">\n",
       "  <thead>\n",
       "    <tr style=\"text-align: right;\">\n",
       "      <th></th>\n",
       "      <th>upfront_unmasked</th>\n",
       "      <th>unmasked</th>\n",
       "      <th>symbolic_unmasked</th>\n",
       "      <th>symbolic_masked</th>\n",
       "    </tr>\n",
       "  </thead>\n",
       "  <tbody>\n",
       "    <tr>\n",
       "      <th>Flow*</th>\n",
       "      <td>82.258631</td>\n",
       "      <td>79.551850</td>\n",
       "      <td>78.870518</td>\n",
       "      <td>78.083259</td>\n",
       "    </tr>\n",
       "    <tr>\n",
       "      <th>unpreconditioning</th>\n",
       "      <td>77.629671</td>\n",
       "      <td>0.000000</td>\n",
       "      <td>0.000000</td>\n",
       "      <td>0.000000</td>\n",
       "    </tr>\n",
       "    <tr>\n",
       "      <th>P</th>\n",
       "      <td>2.871566</td>\n",
       "      <td>28.578011</td>\n",
       "      <td>21.243604</td>\n",
       "      <td>6.771044</td>\n",
       "    </tr>\n",
       "    <tr>\n",
       "      <th>Q</th>\n",
       "      <td>6.497924</td>\n",
       "      <td>67.533209</td>\n",
       "      <td>237.785437</td>\n",
       "      <td>54.428931</td>\n",
       "    </tr>\n",
       "    <tr>\n",
       "      <th>G(P | G(Q))</th>\n",
       "      <td>9.463389</td>\n",
       "      <td>96.202800</td>\n",
       "      <td>259.128790</td>\n",
       "      <td>61.303555</td>\n",
       "    </tr>\n",
       "    <tr>\n",
       "      <th>tentative eval</th>\n",
       "      <td>0.000000</td>\n",
       "      <td>3.073284</td>\n",
       "      <td>3.592893</td>\n",
       "      <td>0.646078</td>\n",
       "    </tr>\n",
       "    <tr>\n",
       "      <th>eval</th>\n",
       "      <td>4.841570</td>\n",
       "      <td>3.833150</td>\n",
       "      <td>2.413262</td>\n",
       "      <td>0.617105</td>\n",
       "    </tr>\n",
       "    <tr>\n",
       "      <th>root detection</th>\n",
       "      <td>4.310877</td>\n",
       "      <td>5.651744</td>\n",
       "      <td>0.037560</td>\n",
       "      <td>0.013074</td>\n",
       "    </tr>\n",
       "    <tr>\n",
       "      <th>composing flowpipe</th>\n",
       "      <td>77.574421</td>\n",
       "      <td>83.307537</td>\n",
       "      <td>58.222266</td>\n",
       "      <td>13.728399</td>\n",
       "    </tr>\n",
       "    <tr>\n",
       "      <th>composing atomic</th>\n",
       "      <td>0.021429</td>\n",
       "      <td>0.028341</td>\n",
       "      <td>193.635825</td>\n",
       "      <td>45.798945</td>\n",
       "    </tr>\n",
       "    <tr>\n",
       "      <th>Total</th>\n",
       "      <td>169.491295</td>\n",
       "      <td>175.894812</td>\n",
       "      <td>338.123532</td>\n",
       "      <td>139.507228</td>\n",
       "    </tr>\n",
       "  </tbody>\n",
       "</table>\n",
       "</div>"
      ],
      "text/plain": [
       "                    upfront_unmasked    unmasked  symbolic_unmasked  \\\n",
       "Flow*                      82.258631   79.551850          78.870518   \n",
       "unpreconditioning          77.629671    0.000000           0.000000   \n",
       "P                           2.871566   28.578011          21.243604   \n",
       "Q                           6.497924   67.533209         237.785437   \n",
       "G(P | G(Q))                 9.463389   96.202800         259.128790   \n",
       "tentative eval              0.000000    3.073284           3.592893   \n",
       "eval                        4.841570    3.833150           2.413262   \n",
       "root detection              4.310877    5.651744           0.037560   \n",
       "composing flowpipe         77.574421   83.307537          58.222266   \n",
       "composing atomic            0.021429    0.028341         193.635825   \n",
       "Total                     169.491295  175.894812         338.123532   \n",
       "\n",
       "                    symbolic_masked  \n",
       "Flow*                     78.083259  \n",
       "unpreconditioning          0.000000  \n",
       "P                          6.771044  \n",
       "Q                         54.428931  \n",
       "G(P | G(Q))               61.303555  \n",
       "tentative eval             0.646078  \n",
       "eval                       0.617105  \n",
       "root detection             0.013074  \n",
       "composing flowpipe        13.728399  \n",
       "composing atomic          45.798945  \n",
       "Total                    139.507228  "
      ]
     },
     "execution_count": 28,
     "metadata": {},
     "output_type": "execute_result"
    }
   ],
   "source": [
    "comparison.loc[:,chosen_columns]"
   ]
  },
  {
   "cell_type": "code",
   "execution_count": 29,
   "metadata": {},
   "outputs": [],
   "source": [
    "p.get_figure().savefig('images/comparison-analysis7-bar-chart-2.pdf')"
   ]
  },
  {
   "cell_type": "code",
   "execution_count": 30,
   "metadata": {},
   "outputs": [],
   "source": [
    "comparison5 = comparison6.copy()"
   ]
  },
  {
   "cell_type": "code",
   "execution_count": 31,
   "metadata": {},
   "outputs": [
    {
     "data": {
      "text/html": [
       "<div>\n",
       "<style scoped>\n",
       "    .dataframe tbody tr th:only-of-type {\n",
       "        vertical-align: middle;\n",
       "    }\n",
       "\n",
       "    .dataframe tbody tr th {\n",
       "        vertical-align: top;\n",
       "    }\n",
       "\n",
       "    .dataframe thead th {\n",
       "        text-align: right;\n",
       "    }\n",
       "</style>\n",
       "<table border=\"1\" class=\"dataframe\">\n",
       "  <thead>\n",
       "    <tr style=\"text-align: right;\">\n",
       "      <th></th>\n",
       "      <th>Flow*</th>\n",
       "      <th>G(P | G(Q))</th>\n",
       "    </tr>\n",
       "  </thead>\n",
       "  <tbody>\n",
       "    <tr>\n",
       "      <th>upfront_symbolic_masked</th>\n",
       "      <td>77.704968</td>\n",
       "      <td>25.222963</td>\n",
       "    </tr>\n",
       "    <tr>\n",
       "      <th>symbolic_masked</th>\n",
       "      <td>78.083259</td>\n",
       "      <td>61.303555</td>\n",
       "    </tr>\n",
       "    <tr>\n",
       "      <th>upfront_masked</th>\n",
       "      <td>82.934898</td>\n",
       "      <td>1.853803</td>\n",
       "    </tr>\n",
       "    <tr>\n",
       "      <th>masked</th>\n",
       "      <td>87.898530</td>\n",
       "      <td>48.431379</td>\n",
       "    </tr>\n",
       "    <tr>\n",
       "      <th>upfront_symbolic_unmasked</th>\n",
       "      <td>80.336791</td>\n",
       "      <td>117.882873</td>\n",
       "    </tr>\n",
       "    <tr>\n",
       "      <th>symbolic_unmasked</th>\n",
       "      <td>78.870518</td>\n",
       "      <td>259.128790</td>\n",
       "    </tr>\n",
       "    <tr>\n",
       "      <th>upfront_unmasked</th>\n",
       "      <td>82.258631</td>\n",
       "      <td>9.463389</td>\n",
       "    </tr>\n",
       "    <tr>\n",
       "      <th>unmasked</th>\n",
       "      <td>79.551850</td>\n",
       "      <td>96.202800</td>\n",
       "    </tr>\n",
       "  </tbody>\n",
       "</table>\n",
       "</div>"
      ],
      "text/plain": [
       "                               Flow*  G(P | G(Q))\n",
       "upfront_symbolic_masked    77.704968    25.222963\n",
       "symbolic_masked            78.083259    61.303555\n",
       "upfront_masked             82.934898     1.853803\n",
       "masked                     87.898530    48.431379\n",
       "upfront_symbolic_unmasked  80.336791   117.882873\n",
       "symbolic_unmasked          78.870518   259.128790\n",
       "upfront_unmasked           82.258631     9.463389\n",
       "unmasked                   79.551850    96.202800"
      ]
     },
     "execution_count": 31,
     "metadata": {},
     "output_type": "execute_result"
    }
   ],
   "source": [
    "comparison.loc[['Flow*', 'G(P | G(Q))'], :].transpose()"
   ]
  },
  {
   "cell_type": "code",
   "execution_count": 32,
   "metadata": {},
   "outputs": [
    {
     "data": {
      "text/plain": [
       "masked                       0.245319\n",
       "symbolic_masked              0.223994\n",
       "symbolic_unmasked            0.223973\n",
       "unmasked                     0.231742\n",
       "upfront_masked               0.238025\n",
       "upfront_symbolic_masked      0.228357\n",
       "upfront_symbolic_unmasked    0.217138\n",
       "upfront_unmasked             0.233503\n",
       "dtype: float64"
      ]
     },
     "execution_count": 32,
     "metadata": {},
     "output_type": "execute_result"
    }
   ],
   "source": [
    "rem = comparison.loc[['Total'], :].transpose().sum(axis=1) - comparison6.sum(axis=1)\n",
    "rem"
   ]
  },
  {
   "cell_type": "code",
   "execution_count": 33,
   "metadata": {},
   "outputs": [],
   "source": [
    "comparison6.loc[:,'Remainder'] = rem"
   ]
  },
  {
   "cell_type": "code",
   "execution_count": 34,
   "metadata": {},
   "outputs": [
    {
     "data": {
      "text/html": [
       "<div>\n",
       "<style scoped>\n",
       "    .dataframe tbody tr th:only-of-type {\n",
       "        vertical-align: middle;\n",
       "    }\n",
       "\n",
       "    .dataframe tbody tr th {\n",
       "        vertical-align: top;\n",
       "    }\n",
       "\n",
       "    .dataframe thead th {\n",
       "        text-align: right;\n",
       "    }\n",
       "</style>\n",
       "<table border=\"1\" class=\"dataframe\">\n",
       "  <thead>\n",
       "    <tr style=\"text-align: right;\">\n",
       "      <th></th>\n",
       "      <th>Flow*</th>\n",
       "      <th>unpreconditioning</th>\n",
       "      <th>P</th>\n",
       "      <th>Q</th>\n",
       "      <th>Remainder</th>\n",
       "    </tr>\n",
       "  </thead>\n",
       "  <tbody>\n",
       "    <tr>\n",
       "      <th>masked</th>\n",
       "      <td>87.898530</td>\n",
       "      <td>0.000000</td>\n",
       "      <td>9.285413</td>\n",
       "      <td>39.050409</td>\n",
       "      <td>0.245319</td>\n",
       "    </tr>\n",
       "    <tr>\n",
       "      <th>symbolic_masked</th>\n",
       "      <td>78.083259</td>\n",
       "      <td>0.000000</td>\n",
       "      <td>6.771044</td>\n",
       "      <td>54.428931</td>\n",
       "      <td>0.223994</td>\n",
       "    </tr>\n",
       "    <tr>\n",
       "      <th>symbolic_unmasked</th>\n",
       "      <td>78.870518</td>\n",
       "      <td>0.000000</td>\n",
       "      <td>21.243604</td>\n",
       "      <td>237.785437</td>\n",
       "      <td>0.223973</td>\n",
       "    </tr>\n",
       "    <tr>\n",
       "      <th>unmasked</th>\n",
       "      <td>79.551850</td>\n",
       "      <td>0.000000</td>\n",
       "      <td>28.578011</td>\n",
       "      <td>67.533209</td>\n",
       "      <td>0.231742</td>\n",
       "    </tr>\n",
       "    <tr>\n",
       "      <th>upfront_masked</th>\n",
       "      <td>82.934898</td>\n",
       "      <td>79.827351</td>\n",
       "      <td>0.733038</td>\n",
       "      <td>1.026020</td>\n",
       "      <td>0.238025</td>\n",
       "    </tr>\n",
       "    <tr>\n",
       "      <th>upfront_symbolic_masked</th>\n",
       "      <td>77.704968</td>\n",
       "      <td>67.341991</td>\n",
       "      <td>0.429924</td>\n",
       "      <td>24.689693</td>\n",
       "      <td>0.228357</td>\n",
       "    </tr>\n",
       "    <tr>\n",
       "      <th>upfront_symbolic_unmasked</th>\n",
       "      <td>80.336791</td>\n",
       "      <td>66.905820</td>\n",
       "      <td>1.816989</td>\n",
       "      <td>115.969380</td>\n",
       "      <td>0.217138</td>\n",
       "    </tr>\n",
       "    <tr>\n",
       "      <th>upfront_unmasked</th>\n",
       "      <td>82.258631</td>\n",
       "      <td>77.629671</td>\n",
       "      <td>2.871566</td>\n",
       "      <td>6.497924</td>\n",
       "      <td>0.233503</td>\n",
       "    </tr>\n",
       "  </tbody>\n",
       "</table>\n",
       "</div>"
      ],
      "text/plain": [
       "                               Flow*  unpreconditioning          P  \\\n",
       "masked                     87.898530           0.000000   9.285413   \n",
       "symbolic_masked            78.083259           0.000000   6.771044   \n",
       "symbolic_unmasked          78.870518           0.000000  21.243604   \n",
       "unmasked                   79.551850           0.000000  28.578011   \n",
       "upfront_masked             82.934898          79.827351   0.733038   \n",
       "upfront_symbolic_masked    77.704968          67.341991   0.429924   \n",
       "upfront_symbolic_unmasked  80.336791          66.905820   1.816989   \n",
       "upfront_unmasked           82.258631          77.629671   2.871566   \n",
       "\n",
       "                                    Q  Remainder  \n",
       "masked                      39.050409   0.245319  \n",
       "symbolic_masked             54.428931   0.223994  \n",
       "symbolic_unmasked          237.785437   0.223973  \n",
       "unmasked                    67.533209   0.231742  \n",
       "upfront_masked               1.026020   0.238025  \n",
       "upfront_symbolic_masked     24.689693   0.228357  \n",
       "upfront_symbolic_unmasked  115.969380   0.217138  \n",
       "upfront_unmasked             6.497924   0.233503  "
      ]
     },
     "execution_count": 34,
     "metadata": {},
     "output_type": "execute_result"
    }
   ],
   "source": [
    "comparison6"
   ]
  },
  {
   "cell_type": "code",
   "execution_count": 35,
   "metadata": {},
   "outputs": [],
   "source": [
    "comparison5.to_csv(\"data/comparison-remainder-analysis.csv\")"
   ]
  },
  {
   "cell_type": "code",
   "execution_count": 36,
   "metadata": {},
   "outputs": [
    {
     "data": {
      "text/plain": [
       "<matplotlib.axes._subplots.AxesSubplot at 0x7f170f9ed220>"
      ]
     },
     "execution_count": 36,
     "metadata": {},
     "output_type": "execute_result"
    },
    {
     "data": {
      "image/png": "[encoded data removed]",
      "text/plain": [
       "<Figure size 432x288 with 1 Axes>"
      ]
     },
     "metadata": {
      "needs_background": "light"
     },
     "output_type": "display_data"
    }
   ],
   "source": [
    "p = comparison5.plot(kind='barh', stacked=True, grid=False); p"
   ]
  },
  {
   "cell_type": "code",
   "execution_count": 37,
   "metadata": {},
   "outputs": [],
   "source": [
    "p.get_figure().savefig(\n",
    "    'images/key-comparison-analysis-bar-chart.pdf')"
   ]
  },
  {
   "cell_type": "code",
   "execution_count": 38,
   "metadata": {},
   "outputs": [],
   "source": [
    "comparison6 = comparison.loc[['Flow*', 'P', 'Q', 'Total'], :].transpose()"
   ]
  },
  {
   "cell_type": "code",
   "execution_count": 39,
   "metadata": {},
   "outputs": [
    {
     "data": {
      "text/html": [
       "<div>\n",
       "<style scoped>\n",
       "    .dataframe tbody tr th:only-of-type {\n",
       "        vertical-align: middle;\n",
       "    }\n",
       "\n",
       "    .dataframe tbody tr th {\n",
       "        vertical-align: top;\n",
       "    }\n",
       "\n",
       "    .dataframe thead th {\n",
       "        text-align: right;\n",
       "    }\n",
       "</style>\n",
       "<table border=\"1\" class=\"dataframe\">\n",
       "  <thead>\n",
       "    <tr style=\"text-align: right;\">\n",
       "      <th></th>\n",
       "      <th>Flow*</th>\n",
       "      <th>P</th>\n",
       "      <th>Q</th>\n",
       "      <th>Total</th>\n",
       "    </tr>\n",
       "  </thead>\n",
       "  <tbody>\n",
       "    <tr>\n",
       "      <th>upfront_symbolic_masked</th>\n",
       "      <td>77.704968</td>\n",
       "      <td>0.429924</td>\n",
       "      <td>24.689693</td>\n",
       "      <td>170.394933</td>\n",
       "    </tr>\n",
       "    <tr>\n",
       "      <th>symbolic_masked</th>\n",
       "      <td>78.083259</td>\n",
       "      <td>6.771044</td>\n",
       "      <td>54.428931</td>\n",
       "      <td>139.507228</td>\n",
       "    </tr>\n",
       "    <tr>\n",
       "      <th>upfront_masked</th>\n",
       "      <td>82.934898</td>\n",
       "      <td>0.733038</td>\n",
       "      <td>1.026020</td>\n",
       "      <td>164.759333</td>\n",
       "    </tr>\n",
       "    <tr>\n",
       "      <th>masked</th>\n",
       "      <td>87.898530</td>\n",
       "      <td>9.285413</td>\n",
       "      <td>39.050409</td>\n",
       "      <td>136.479671</td>\n",
       "    </tr>\n",
       "    <tr>\n",
       "      <th>upfront_symbolic_unmasked</th>\n",
       "      <td>80.336791</td>\n",
       "      <td>1.816989</td>\n",
       "      <td>115.969380</td>\n",
       "      <td>265.246118</td>\n",
       "    </tr>\n",
       "    <tr>\n",
       "      <th>symbolic_unmasked</th>\n",
       "      <td>78.870518</td>\n",
       "      <td>21.243604</td>\n",
       "      <td>237.785437</td>\n",
       "      <td>338.123532</td>\n",
       "    </tr>\n",
       "    <tr>\n",
       "      <th>upfront_unmasked</th>\n",
       "      <td>82.258631</td>\n",
       "      <td>2.871566</td>\n",
       "      <td>6.497924</td>\n",
       "      <td>169.491295</td>\n",
       "    </tr>\n",
       "    <tr>\n",
       "      <th>unmasked</th>\n",
       "      <td>79.551850</td>\n",
       "      <td>28.578011</td>\n",
       "      <td>67.533209</td>\n",
       "      <td>175.894812</td>\n",
       "    </tr>\n",
       "  </tbody>\n",
       "</table>\n",
       "</div>"
      ],
      "text/plain": [
       "                               Flow*          P           Q       Total\n",
       "upfront_symbolic_masked    77.704968   0.429924   24.689693  170.394933\n",
       "symbolic_masked            78.083259   6.771044   54.428931  139.507228\n",
       "upfront_masked             82.934898   0.733038    1.026020  164.759333\n",
       "masked                     87.898530   9.285413   39.050409  136.479671\n",
       "upfront_symbolic_unmasked  80.336791   1.816989  115.969380  265.246118\n",
       "symbolic_unmasked          78.870518  21.243604  237.785437  338.123532\n",
       "upfront_unmasked           82.258631   2.871566    6.497924  169.491295\n",
       "unmasked                   79.551850  28.578011   67.533209  175.894812"
      ]
     },
     "execution_count": 39,
     "metadata": {},
     "output_type": "execute_result"
    }
   ],
   "source": [
    "comparison6"
   ]
  },
  {
   "cell_type": "code",
   "execution_count": 40,
   "metadata": {},
   "outputs": [],
   "source": [
    "comparison6.to_csv('data/key-comparison-analysis.csv')"
   ]
  },
  {
   "cell_type": "code",
   "execution_count": 41,
   "metadata": {},
   "outputs": [
    {
     "data": {
      "text/plain": [
       "Total    1.288799\n",
       "dtype: float64"
      ]
     },
     "execution_count": 41,
     "metadata": {},
     "output_type": "execute_result"
    }
   ],
   "source": [
    "comparison3.loc['unmasked',:] / comparison3.loc['masked',:]"
   ]
  },
  {
   "cell_type": "code",
   "execution_count": 42,
   "metadata": {},
   "outputs": [
    {
     "ename": "KeyError",
     "evalue": "'unmasked_no_symbolic'",
     "output_type": "error",
     "traceback": [
      "\u001b[0;31m---------------------------------------------------------------------------\u001b[0m",
      "\u001b[0;31mKeyError\u001b[0m                                  Traceback (most recent call last)",
      "\u001b[0;32m/usr/lib64/python3.8/site-packages/pandas/core/indexes/base.py\u001b[0m in \u001b[0;36mget_loc\u001b[0;34m(self, key, method, tolerance)\u001b[0m\n\u001b[1;32m   2896\u001b[0m             \u001b[0;32mtry\u001b[0m\u001b[0;34m:\u001b[0m\u001b[0;34m\u001b[0m\u001b[0;34m\u001b[0m\u001b[0m\n\u001b[0;32m-> 2897\u001b[0;31m                 \u001b[0;32mreturn\u001b[0m \u001b[0mself\u001b[0m\u001b[0;34m.\u001b[0m\u001b[0m_engine\u001b[0m\u001b[0;34m.\u001b[0m\u001b[0mget_loc\u001b[0m\u001b[0;34m(\u001b[0m\u001b[0mkey\u001b[0m\u001b[0;34m)\u001b[0m\u001b[0;34m\u001b[0m\u001b[0;34m\u001b[0m\u001b[0m\n\u001b[0m\u001b[1;32m   2898\u001b[0m             \u001b[0;32mexcept\u001b[0m \u001b[0mKeyError\u001b[0m\u001b[0;34m:\u001b[0m\u001b[0;34m\u001b[0m\u001b[0;34m\u001b[0m\u001b[0m\n",
      "\u001b[0;32mpandas/_libs/index.pyx\u001b[0m in \u001b[0;36mpandas._libs.index.IndexEngine.get_loc\u001b[0;34m()\u001b[0m\n",
      "\u001b[0;32mpandas/_libs/index.pyx\u001b[0m in \u001b[0;36mpandas._libs.index.IndexEngine.get_loc\u001b[0;34m()\u001b[0m\n",
      "\u001b[0;32mpandas/_libs/hashtable_class_helper.pxi\u001b[0m in \u001b[0;36mpandas._libs.hashtable.PyObjectHashTable.get_item\u001b[0;34m()\u001b[0m\n",
      "\u001b[0;32mpandas/_libs/hashtable_class_helper.pxi\u001b[0m in \u001b[0;36mpandas._libs.hashtable.PyObjectHashTable.get_item\u001b[0;34m()\u001b[0m\n",
      "\u001b[0;31mKeyError\u001b[0m: 'unmasked_no_symbolic'",
      "\nDuring handling of the above exception, another exception occurred:\n",
      "\u001b[0;31mKeyError\u001b[0m                                  Traceback (most recent call last)",
      "\u001b[0;32m<ipython-input-42-1cf96081598f>\u001b[0m in \u001b[0;36m<module>\u001b[0;34m()\u001b[0m\n\u001b[0;32m----> 1\u001b[0;31m \u001b[0mcomparison3\u001b[0m\u001b[0;34m.\u001b[0m\u001b[0mloc\u001b[0m\u001b[0;34m[\u001b[0m\u001b[0;34m'unmasked_no_symbolic'\u001b[0m\u001b[0;34m,\u001b[0m\u001b[0;34m:\u001b[0m\u001b[0;34m]\u001b[0m \u001b[0;34m/\u001b[0m \u001b[0mcomparison3\u001b[0m\u001b[0;34m.\u001b[0m\u001b[0mloc\u001b[0m\u001b[0;34m[\u001b[0m\u001b[0;34m'masked_no_symbolic'\u001b[0m\u001b[0;34m,\u001b[0m\u001b[0;34m:\u001b[0m\u001b[0;34m]\u001b[0m\u001b[0;34m\u001b[0m\u001b[0;34m\u001b[0m\u001b[0m\n\u001b[0m",
      "\u001b[0;32m/usr/lib64/python3.8/site-packages/pandas/core/indexing.py\u001b[0m in \u001b[0;36m__getitem__\u001b[0;34m(self, key)\u001b[0m\n\u001b[1;32m   1416\u001b[0m                 \u001b[0;32mexcept\u001b[0m \u001b[0;34m(\u001b[0m\u001b[0mKeyError\u001b[0m\u001b[0;34m,\u001b[0m \u001b[0mIndexError\u001b[0m\u001b[0;34m,\u001b[0m \u001b[0mAttributeError\u001b[0m\u001b[0;34m)\u001b[0m\u001b[0;34m:\u001b[0m\u001b[0;34m\u001b[0m\u001b[0;34m\u001b[0m\u001b[0m\n\u001b[1;32m   1417\u001b[0m                     \u001b[0;32mpass\u001b[0m\u001b[0;34m\u001b[0m\u001b[0;34m\u001b[0m\u001b[0m\n\u001b[0;32m-> 1418\u001b[0;31m             \u001b[0;32mreturn\u001b[0m \u001b[0mself\u001b[0m\u001b[0;34m.\u001b[0m\u001b[0m_getitem_tuple\u001b[0m\u001b[0;34m(\u001b[0m\u001b[0mkey\u001b[0m\u001b[0;34m)\u001b[0m\u001b[0;34m\u001b[0m\u001b[0;34m\u001b[0m\u001b[0m\n\u001b[0m\u001b[1;32m   1419\u001b[0m         \u001b[0;32melse\u001b[0m\u001b[0;34m:\u001b[0m\u001b[0;34m\u001b[0m\u001b[0;34m\u001b[0m\u001b[0m\n\u001b[1;32m   1420\u001b[0m             \u001b[0;31m# we by definition only have the 0th axis\u001b[0m\u001b[0;34m\u001b[0m\u001b[0;34m\u001b[0m\u001b[0;34m\u001b[0m\u001b[0m\n",
      "\u001b[0;32m/usr/lib64/python3.8/site-packages/pandas/core/indexing.py\u001b[0m in \u001b[0;36m_getitem_tuple\u001b[0;34m(self, tup)\u001b[0m\n\u001b[1;32m    803\u001b[0m     \u001b[0;32mdef\u001b[0m \u001b[0m_getitem_tuple\u001b[0m\u001b[0;34m(\u001b[0m\u001b[0mself\u001b[0m\u001b[0;34m,\u001b[0m \u001b[0mtup\u001b[0m\u001b[0;34m)\u001b[0m\u001b[0;34m:\u001b[0m\u001b[0;34m\u001b[0m\u001b[0;34m\u001b[0m\u001b[0m\n\u001b[1;32m    804\u001b[0m         \u001b[0;32mtry\u001b[0m\u001b[0;34m:\u001b[0m\u001b[0;34m\u001b[0m\u001b[0;34m\u001b[0m\u001b[0m\n\u001b[0;32m--> 805\u001b[0;31m             \u001b[0;32mreturn\u001b[0m \u001b[0mself\u001b[0m\u001b[0;34m.\u001b[0m\u001b[0m_getitem_lowerdim\u001b[0m\u001b[0;34m(\u001b[0m\u001b[0mtup\u001b[0m\u001b[0;34m)\u001b[0m\u001b[0;34m\u001b[0m\u001b[0;34m\u001b[0m\u001b[0m\n\u001b[0m\u001b[1;32m    806\u001b[0m         \u001b[0;32mexcept\u001b[0m \u001b[0mIndexingError\u001b[0m\u001b[0;34m:\u001b[0m\u001b[0;34m\u001b[0m\u001b[0;34m\u001b[0m\u001b[0m\n\u001b[1;32m    807\u001b[0m             \u001b[0;32mpass\u001b[0m\u001b[0;34m\u001b[0m\u001b[0;34m\u001b[0m\u001b[0m\n",
      "\u001b[0;32m/usr/lib64/python3.8/site-packages/pandas/core/indexing.py\u001b[0m in \u001b[0;36m_getitem_lowerdim\u001b[0;34m(self, tup)\u001b[0m\n\u001b[1;32m    927\u001b[0m         \u001b[0;32mfor\u001b[0m \u001b[0mi\u001b[0m\u001b[0;34m,\u001b[0m \u001b[0mkey\u001b[0m \u001b[0;32min\u001b[0m \u001b[0menumerate\u001b[0m\u001b[0;34m(\u001b[0m\u001b[0mtup\u001b[0m\u001b[0;34m)\u001b[0m\u001b[0;34m:\u001b[0m\u001b[0;34m\u001b[0m\u001b[0;34m\u001b[0m\u001b[0m\n\u001b[1;32m    928\u001b[0m             \u001b[0;32mif\u001b[0m \u001b[0mis_label_like\u001b[0m\u001b[0;34m(\u001b[0m\u001b[0mkey\u001b[0m\u001b[0;34m)\u001b[0m \u001b[0;32mor\u001b[0m \u001b[0misinstance\u001b[0m\u001b[0;34m(\u001b[0m\u001b[0mkey\u001b[0m\u001b[0;34m,\u001b[0m \u001b[0mtuple\u001b[0m\u001b[0;34m)\u001b[0m\u001b[0;34m:\u001b[0m\u001b[0;34m\u001b[0m\u001b[0;34m\u001b[0m\u001b[0m\n\u001b[0;32m--> 929\u001b[0;31m                 \u001b[0msection\u001b[0m \u001b[0;34m=\u001b[0m \u001b[0mself\u001b[0m\u001b[0;34m.\u001b[0m\u001b[0m_getitem_axis\u001b[0m\u001b[0;34m(\u001b[0m\u001b[0mkey\u001b[0m\u001b[0;34m,\u001b[0m \u001b[0maxis\u001b[0m\u001b[0;34m=\u001b[0m\u001b[0mi\u001b[0m\u001b[0;34m)\u001b[0m\u001b[0;34m\u001b[0m\u001b[0;34m\u001b[0m\u001b[0m\n\u001b[0m\u001b[1;32m    930\u001b[0m \u001b[0;34m\u001b[0m\u001b[0m\n\u001b[1;32m    931\u001b[0m                 \u001b[0;31m# we have yielded a scalar ?\u001b[0m\u001b[0;34m\u001b[0m\u001b[0;34m\u001b[0m\u001b[0;34m\u001b[0m\u001b[0m\n",
      "\u001b[0;32m/usr/lib64/python3.8/site-packages/pandas/core/indexing.py\u001b[0m in \u001b[0;36m_getitem_axis\u001b[0;34m(self, key, axis)\u001b[0m\n\u001b[1;32m   1848\u001b[0m         \u001b[0;31m# fall thru to straight lookup\u001b[0m\u001b[0;34m\u001b[0m\u001b[0;34m\u001b[0m\u001b[0;34m\u001b[0m\u001b[0m\n\u001b[1;32m   1849\u001b[0m         \u001b[0mself\u001b[0m\u001b[0;34m.\u001b[0m\u001b[0m_validate_key\u001b[0m\u001b[0;34m(\u001b[0m\u001b[0mkey\u001b[0m\u001b[0;34m,\u001b[0m \u001b[0maxis\u001b[0m\u001b[0;34m)\u001b[0m\u001b[0;34m\u001b[0m\u001b[0;34m\u001b[0m\u001b[0m\n\u001b[0;32m-> 1850\u001b[0;31m         \u001b[0;32mreturn\u001b[0m \u001b[0mself\u001b[0m\u001b[0;34m.\u001b[0m\u001b[0m_get_label\u001b[0m\u001b[0;34m(\u001b[0m\u001b[0mkey\u001b[0m\u001b[0;34m,\u001b[0m \u001b[0maxis\u001b[0m\u001b[0;34m=\u001b[0m\u001b[0maxis\u001b[0m\u001b[0;34m)\u001b[0m\u001b[0;34m\u001b[0m\u001b[0;34m\u001b[0m\u001b[0m\n\u001b[0m\u001b[1;32m   1851\u001b[0m \u001b[0;34m\u001b[0m\u001b[0m\n\u001b[1;32m   1852\u001b[0m \u001b[0;34m\u001b[0m\u001b[0m\n",
      "\u001b[0;32m/usr/lib64/python3.8/site-packages/pandas/core/indexing.py\u001b[0m in \u001b[0;36m_get_label\u001b[0;34m(self, label, axis)\u001b[0m\n\u001b[1;32m    158\u001b[0m             \u001b[0;32mraise\u001b[0m \u001b[0mIndexingError\u001b[0m\u001b[0;34m(\u001b[0m\u001b[0;34m\"no slices here, handle elsewhere\"\u001b[0m\u001b[0;34m)\u001b[0m\u001b[0;34m\u001b[0m\u001b[0;34m\u001b[0m\u001b[0m\n\u001b[1;32m    159\u001b[0m \u001b[0;34m\u001b[0m\u001b[0m\n\u001b[0;32m--> 160\u001b[0;31m         \u001b[0;32mreturn\u001b[0m \u001b[0mself\u001b[0m\u001b[0;34m.\u001b[0m\u001b[0mobj\u001b[0m\u001b[0;34m.\u001b[0m\u001b[0m_xs\u001b[0m\u001b[0;34m(\u001b[0m\u001b[0mlabel\u001b[0m\u001b[0;34m,\u001b[0m \u001b[0maxis\u001b[0m\u001b[0;34m=\u001b[0m\u001b[0maxis\u001b[0m\u001b[0;34m)\u001b[0m\u001b[0;34m\u001b[0m\u001b[0;34m\u001b[0m\u001b[0m\n\u001b[0m\u001b[1;32m    161\u001b[0m \u001b[0;34m\u001b[0m\u001b[0m\n\u001b[1;32m    162\u001b[0m     \u001b[0;32mdef\u001b[0m \u001b[0m_get_loc\u001b[0m\u001b[0;34m(\u001b[0m\u001b[0mself\u001b[0m\u001b[0;34m,\u001b[0m \u001b[0mkey\u001b[0m\u001b[0;34m:\u001b[0m \u001b[0mint\u001b[0m\u001b[0;34m,\u001b[0m \u001b[0maxis\u001b[0m\u001b[0;34m:\u001b[0m \u001b[0mint\u001b[0m\u001b[0;34m)\u001b[0m\u001b[0;34m:\u001b[0m\u001b[0;34m\u001b[0m\u001b[0;34m\u001b[0m\u001b[0m\n",
      "\u001b[0;32m/usr/lib64/python3.8/site-packages/pandas/core/generic.py\u001b[0m in \u001b[0;36mxs\u001b[0;34m(self, key, axis, level, drop_level)\u001b[0m\n\u001b[1;32m   3735\u001b[0m             \u001b[0mloc\u001b[0m\u001b[0;34m,\u001b[0m \u001b[0mnew_index\u001b[0m \u001b[0;34m=\u001b[0m \u001b[0mself\u001b[0m\u001b[0;34m.\u001b[0m\u001b[0mindex\u001b[0m\u001b[0;34m.\u001b[0m\u001b[0mget_loc_level\u001b[0m\u001b[0;34m(\u001b[0m\u001b[0mkey\u001b[0m\u001b[0;34m,\u001b[0m \u001b[0mdrop_level\u001b[0m\u001b[0;34m=\u001b[0m\u001b[0mdrop_level\u001b[0m\u001b[0;34m)\u001b[0m\u001b[0;34m\u001b[0m\u001b[0;34m\u001b[0m\u001b[0m\n\u001b[1;32m   3736\u001b[0m         \u001b[0;32melse\u001b[0m\u001b[0;34m:\u001b[0m\u001b[0;34m\u001b[0m\u001b[0;34m\u001b[0m\u001b[0m\n\u001b[0;32m-> 3737\u001b[0;31m             \u001b[0mloc\u001b[0m \u001b[0;34m=\u001b[0m \u001b[0mself\u001b[0m\u001b[0;34m.\u001b[0m\u001b[0mindex\u001b[0m\u001b[0;34m.\u001b[0m\u001b[0mget_loc\u001b[0m\u001b[0;34m(\u001b[0m\u001b[0mkey\u001b[0m\u001b[0;34m)\u001b[0m\u001b[0;34m\u001b[0m\u001b[0;34m\u001b[0m\u001b[0m\n\u001b[0m\u001b[1;32m   3738\u001b[0m \u001b[0;34m\u001b[0m\u001b[0m\n\u001b[1;32m   3739\u001b[0m             \u001b[0;32mif\u001b[0m \u001b[0misinstance\u001b[0m\u001b[0;34m(\u001b[0m\u001b[0mloc\u001b[0m\u001b[0;34m,\u001b[0m \u001b[0mnp\u001b[0m\u001b[0;34m.\u001b[0m\u001b[0mndarray\u001b[0m\u001b[0;34m)\u001b[0m\u001b[0;34m:\u001b[0m\u001b[0;34m\u001b[0m\u001b[0;34m\u001b[0m\u001b[0m\n",
      "\u001b[0;32m/usr/lib64/python3.8/site-packages/pandas/core/indexes/base.py\u001b[0m in \u001b[0;36mget_loc\u001b[0;34m(self, key, method, tolerance)\u001b[0m\n\u001b[1;32m   2897\u001b[0m                 \u001b[0;32mreturn\u001b[0m \u001b[0mself\u001b[0m\u001b[0;34m.\u001b[0m\u001b[0m_engine\u001b[0m\u001b[0;34m.\u001b[0m\u001b[0mget_loc\u001b[0m\u001b[0;34m(\u001b[0m\u001b[0mkey\u001b[0m\u001b[0;34m)\u001b[0m\u001b[0;34m\u001b[0m\u001b[0;34m\u001b[0m\u001b[0m\n\u001b[1;32m   2898\u001b[0m             \u001b[0;32mexcept\u001b[0m \u001b[0mKeyError\u001b[0m\u001b[0;34m:\u001b[0m\u001b[0;34m\u001b[0m\u001b[0;34m\u001b[0m\u001b[0m\n\u001b[0;32m-> 2899\u001b[0;31m                 \u001b[0;32mreturn\u001b[0m \u001b[0mself\u001b[0m\u001b[0;34m.\u001b[0m\u001b[0m_engine\u001b[0m\u001b[0;34m.\u001b[0m\u001b[0mget_loc\u001b[0m\u001b[0;34m(\u001b[0m\u001b[0mself\u001b[0m\u001b[0;34m.\u001b[0m\u001b[0m_maybe_cast_indexer\u001b[0m\u001b[0;34m(\u001b[0m\u001b[0mkey\u001b[0m\u001b[0;34m)\u001b[0m\u001b[0;34m)\u001b[0m\u001b[0;34m\u001b[0m\u001b[0;34m\u001b[0m\u001b[0m\n\u001b[0m\u001b[1;32m   2900\u001b[0m         \u001b[0mindexer\u001b[0m \u001b[0;34m=\u001b[0m \u001b[0mself\u001b[0m\u001b[0;34m.\u001b[0m\u001b[0mget_indexer\u001b[0m\u001b[0;34m(\u001b[0m\u001b[0;34m[\u001b[0m\u001b[0mkey\u001b[0m\u001b[0;34m]\u001b[0m\u001b[0;34m,\u001b[0m \u001b[0mmethod\u001b[0m\u001b[0;34m=\u001b[0m\u001b[0mmethod\u001b[0m\u001b[0;34m,\u001b[0m \u001b[0mtolerance\u001b[0m\u001b[0;34m=\u001b[0m\u001b[0mtolerance\u001b[0m\u001b[0;34m)\u001b[0m\u001b[0;34m\u001b[0m\u001b[0;34m\u001b[0m\u001b[0m\n\u001b[1;32m   2901\u001b[0m         \u001b[0;32mif\u001b[0m \u001b[0mindexer\u001b[0m\u001b[0;34m.\u001b[0m\u001b[0mndim\u001b[0m \u001b[0;34m>\u001b[0m \u001b[0;36m1\u001b[0m \u001b[0;32mor\u001b[0m \u001b[0mindexer\u001b[0m\u001b[0;34m.\u001b[0m\u001b[0msize\u001b[0m \u001b[0;34m>\u001b[0m \u001b[0;36m1\u001b[0m\u001b[0;34m:\u001b[0m\u001b[0;34m\u001b[0m\u001b[0;34m\u001b[0m\u001b[0m\n",
      "\u001b[0;32mpandas/_libs/index.pyx\u001b[0m in \u001b[0;36mpandas._libs.index.IndexEngine.get_loc\u001b[0;34m()\u001b[0m\n",
      "\u001b[0;32mpandas/_libs/index.pyx\u001b[0m in \u001b[0;36mpandas._libs.index.IndexEngine.get_loc\u001b[0;34m()\u001b[0m\n",
      "\u001b[0;32mpandas/_libs/hashtable_class_helper.pxi\u001b[0m in \u001b[0;36mpandas._libs.hashtable.PyObjectHashTable.get_item\u001b[0;34m()\u001b[0m\n",
      "\u001b[0;32mpandas/_libs/hashtable_class_helper.pxi\u001b[0m in \u001b[0;36mpandas._libs.hashtable.PyObjectHashTable.get_item\u001b[0;34m()\u001b[0m\n",
      "\u001b[0;31mKeyError\u001b[0m: 'unmasked_no_symbolic'"
     ]
    }
   ],
   "source": [
    "comparison3.loc['unmasked_no_symbolic',:] / comparison3.loc['masked_no_symbolic',:]"
   ]
  },
  {
   "cell_type": "code",
   "execution_count": null,
   "metadata": {},
   "outputs": [],
   "source": [
    "comparison3.loc['masked',:] / comparison3.loc['masked_no_symbolic',:]"
   ]
  },
  {
   "cell_type": "code",
   "execution_count": null,
   "metadata": {},
   "outputs": [],
   "source": [
    "comparison3.loc['unmasked',:] / comparison3.loc['unmasked_no_symbolic',:]"
   ]
  },
  {
   "cell_type": "code",
   "execution_count": null,
   "metadata": {},
   "outputs": [],
   "source": [
    "comparison3.loc['masked_symbolic_low_order',:] / comparison3.loc['masked_no_symbolic',:]"
   ]
  }
 ],
 "metadata": {
  "kernelspec": {
   "display_name": "Python 3",
   "language": "python",
   "name": "python3"
  },
  "language_info": {
   "codemirror_mode": {
    "name": "ipython",
    "version": 3
   },
   "file_extension": ".py",
   "mimetype": "text/x-python",
   "name": "python",
   "nbconvert_exporter": "python",
   "pygments_lexer": "ipython3",
   "version": "3.8.3"
  },
  "notify_time": "5"
 },
 "nbformat": 4,
 "nbformat_minor": 4
}
