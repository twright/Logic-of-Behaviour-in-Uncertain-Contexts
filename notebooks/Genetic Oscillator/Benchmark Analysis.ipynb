{
 "cells": [
  {
   "cell_type": "code",
   "execution_count": 403,
   "metadata": {},
   "outputs": [],
   "source": [
    "%matplotlib inline\n",
    "import pandas as pd\n",
    "import pickle"
   ]
  },
  {
   "cell_type": "markdown",
   "metadata": {},
   "source": [
    "## Load results"
   ]
  },
  {
   "cell_type": "code",
   "execution_count": 404,
   "metadata": {},
   "outputs": [],
   "source": [
    "with open('data/benchmark_metadata11.pkl', 'rb') as f:\n",
    "    cols_full, cols_short, series = pickle.load(f)"
   ]
  },
  {
   "cell_type": "code",
   "execution_count": 405,
   "metadata": {},
   "outputs": [],
   "source": [
    "series_names = series\n",
    "# series_names = [\n",
    "#     'Masked',\n",
    "#     'Unmasked',\n",
    "#     'Masked R',\n",
    "#     'Unmasked R',\n",
    "# ]\n",
    "total_timess = {\n",
    "   s: pd.read_csv(f'data/benchmark_{s}11.csv')\n",
    "   for s in series \n",
    "}"
   ]
  },
  {
   "cell_type": "code",
   "execution_count": 397,
   "metadata": {},
   "outputs": [],
   "source": [
    "total_timess = {\n",
    "   s: d[5:-5]\n",
    "   for s,d in total_timess.items()\n",
    "}"
   ]
  },
  {
   "cell_type": "markdown",
   "metadata": {},
   "source": [
    "## Raw results"
   ]
  },
  {
   "cell_type": "code",
   "execution_count": 406,
   "metadata": {},
   "outputs": [],
   "source": [
    "from ipywidgets import interact"
   ]
  },
  {
   "cell_type": "code",
   "execution_count": 407,
   "metadata": {},
   "outputs": [
    {
     "data": {
      "application/vnd.jupyter.widget-view+json": {
       "model_id": "ef73a275c61d40109f2d7cb578fb37e2",
       "version_major": 2,
       "version_minor": 0
      },
      "text/plain": [
       "interactive(children=(Dropdown(description='series', options=('upfront_symbolic_masked', 'symbolic_masked', 'u…"
      ]
     },
     "metadata": {},
     "output_type": "display_data"
    }
   ],
   "source": [
    "@interact\n",
    "def _(series=series):\n",
    "    return total_timess[series]"
   ]
  },
  {
   "cell_type": "markdown",
   "metadata": {},
   "source": [
    "## Comparison"
   ]
  },
  {
   "cell_type": "code",
   "execution_count": 414,
   "metadata": {},
   "outputs": [
    {
     "data": {
      "text/html": [
       "<div>\n",
       "<style scoped>\n",
       "    .dataframe tbody tr th:only-of-type {\n",
       "        vertical-align: middle;\n",
       "    }\n",
       "\n",
       "    .dataframe tbody tr th {\n",
       "        vertical-align: top;\n",
       "    }\n",
       "\n",
       "    .dataframe thead th {\n",
       "        text-align: right;\n",
       "    }\n",
       "</style>\n",
       "<table border=\"1\" class=\"dataframe\">\n",
       "  <thead>\n",
       "    <tr style=\"text-align: right;\">\n",
       "      <th></th>\n",
       "      <th>upfront_symbolic_masked</th>\n",
       "      <th>symbolic_masked</th>\n",
       "      <th>upfront_masked</th>\n",
       "      <th>masked</th>\n",
       "      <th>upfront_symbolic_unmasked</th>\n",
       "      <th>symbolic_unmasked</th>\n",
       "      <th>upfront_unmasked</th>\n",
       "      <th>unmasked</th>\n",
       "    </tr>\n",
       "  </thead>\n",
       "  <tbody>\n",
       "    <tr>\n",
       "      <th>Flow*</th>\n",
       "      <td>83.587298</td>\n",
       "      <td>84.975473</td>\n",
       "      <td>84.137215</td>\n",
       "      <td>84.742311</td>\n",
       "      <td>86.550176</td>\n",
       "      <td>87.363583</td>\n",
       "      <td>86.353500</td>\n",
       "      <td>86.548282</td>\n",
       "    </tr>\n",
       "    <tr>\n",
       "      <th>unpreconditioning</th>\n",
       "      <td>67.096185</td>\n",
       "      <td>0.000000</td>\n",
       "      <td>84.057745</td>\n",
       "      <td>0.000000</td>\n",
       "      <td>70.759899</td>\n",
       "      <td>0.000000</td>\n",
       "      <td>81.787634</td>\n",
       "      <td>0.000000</td>\n",
       "    </tr>\n",
       "    <tr>\n",
       "      <th>P</th>\n",
       "      <td>0.607673</td>\n",
       "      <td>20.349338</td>\n",
       "      <td>1.325839</td>\n",
       "      <td>26.768760</td>\n",
       "      <td>1.478603</td>\n",
       "      <td>22.790763</td>\n",
       "      <td>3.067503</td>\n",
       "      <td>27.754322</td>\n",
       "    </tr>\n",
       "    <tr>\n",
       "      <th>Q</th>\n",
       "      <td>39.381192</td>\n",
       "      <td>95.591162</td>\n",
       "      <td>1.591841</td>\n",
       "      <td>39.813575</td>\n",
       "      <td>124.285955</td>\n",
       "      <td>271.951888</td>\n",
       "      <td>6.369605</td>\n",
       "      <td>82.023834</td>\n",
       "    </tr>\n",
       "    <tr>\n",
       "      <th>G(P | G(Q))</th>\n",
       "      <td>40.235899</td>\n",
       "      <td>116.044898</td>\n",
       "      <td>3.012905</td>\n",
       "      <td>66.682317</td>\n",
       "      <td>125.867248</td>\n",
       "      <td>294.849331</td>\n",
       "      <td>9.533379</td>\n",
       "      <td>109.884474</td>\n",
       "    </tr>\n",
       "    <tr>\n",
       "      <th>tentative eval</th>\n",
       "      <td>0.000000</td>\n",
       "      <td>1.234399</td>\n",
       "      <td>0.000000</td>\n",
       "      <td>0.913776</td>\n",
       "      <td>0.000000</td>\n",
       "      <td>3.782487</td>\n",
       "      <td>0.000000</td>\n",
       "      <td>3.250790</td>\n",
       "    </tr>\n",
       "    <tr>\n",
       "      <th>eval</th>\n",
       "      <td>0.468714</td>\n",
       "      <td>1.654495</td>\n",
       "      <td>1.317765</td>\n",
       "      <td>3.153535</td>\n",
       "      <td>1.994131</td>\n",
       "      <td>2.707754</td>\n",
       "      <td>4.941088</td>\n",
       "      <td>4.567168</td>\n",
       "    </tr>\n",
       "    <tr>\n",
       "      <th>root detection</th>\n",
       "      <td>0.006056</td>\n",
       "      <td>0.028259</td>\n",
       "      <td>1.495174</td>\n",
       "      <td>2.892998</td>\n",
       "      <td>0.015488</td>\n",
       "      <td>0.039316</td>\n",
       "      <td>4.296578</td>\n",
       "      <td>6.514757</td>\n",
       "    </tr>\n",
       "    <tr>\n",
       "      <th>composing flowpipe</th>\n",
       "      <td>67.041002</td>\n",
       "      <td>30.790083</td>\n",
       "      <td>84.006823</td>\n",
       "      <td>59.473258</td>\n",
       "      <td>70.699094</td>\n",
       "      <td>63.059158</td>\n",
       "      <td>81.737260</td>\n",
       "      <td>95.196524</td>\n",
       "    </tr>\n",
       "    <tr>\n",
       "      <th>composing atomic</th>\n",
       "      <td>39.058810</td>\n",
       "      <td>81.363580</td>\n",
       "      <td>0.008869</td>\n",
       "      <td>0.016947</td>\n",
       "      <td>122.826644</td>\n",
       "      <td>222.872178</td>\n",
       "      <td>0.021112</td>\n",
       "      <td>0.031897</td>\n",
       "    </tr>\n",
       "    <tr>\n",
       "      <th>Total</th>\n",
       "      <td>191.046162</td>\n",
       "      <td>201.152832</td>\n",
       "      <td>171.350407</td>\n",
       "      <td>151.571814</td>\n",
       "      <td>283.304926</td>\n",
       "      <td>382.345947</td>\n",
       "      <td>177.818651</td>\n",
       "      <td>196.587389</td>\n",
       "    </tr>\n",
       "  </tbody>\n",
       "</table>\n",
       "</div>"
      ],
      "text/plain": [
       "                    upfront_symbolic_masked  symbolic_masked  upfront_masked  \\\n",
       "Flow*                             83.587298        84.975473       84.137215   \n",
       "unpreconditioning                 67.096185         0.000000       84.057745   \n",
       "P                                  0.607673        20.349338        1.325839   \n",
       "Q                                 39.381192        95.591162        1.591841   \n",
       "G(P | G(Q))                       40.235899       116.044898        3.012905   \n",
       "tentative eval                     0.000000         1.234399        0.000000   \n",
       "eval                               0.468714         1.654495        1.317765   \n",
       "root detection                     0.006056         0.028259        1.495174   \n",
       "composing flowpipe                67.041002        30.790083       84.006823   \n",
       "composing atomic                  39.058810        81.363580        0.008869   \n",
       "Total                            191.046162       201.152832      171.350407   \n",
       "\n",
       "                        masked  upfront_symbolic_unmasked  symbolic_unmasked  \\\n",
       "Flow*                84.742311                  86.550176          87.363583   \n",
       "unpreconditioning     0.000000                  70.759899           0.000000   \n",
       "P                    26.768760                   1.478603          22.790763   \n",
       "Q                    39.813575                 124.285955         271.951888   \n",
       "G(P | G(Q))          66.682317                 125.867248         294.849331   \n",
       "tentative eval        0.913776                   0.000000           3.782487   \n",
       "eval                  3.153535                   1.994131           2.707754   \n",
       "root detection        2.892998                   0.015488           0.039316   \n",
       "composing flowpipe   59.473258                  70.699094          63.059158   \n",
       "composing atomic      0.016947                 122.826644         222.872178   \n",
       "Total               151.571814                 283.304926         382.345947   \n",
       "\n",
       "                    upfront_unmasked    unmasked  \n",
       "Flow*                      86.353500   86.548282  \n",
       "unpreconditioning          81.787634    0.000000  \n",
       "P                           3.067503   27.754322  \n",
       "Q                           6.369605   82.023834  \n",
       "G(P | G(Q))                 9.533379  109.884474  \n",
       "tentative eval              0.000000    3.250790  \n",
       "eval                        4.941088    4.567168  \n",
       "root detection              4.296578    6.514757  \n",
       "composing flowpipe         81.737260   95.196524  \n",
       "composing atomic            0.021112    0.031897  \n",
       "Total                     177.818651  196.587389  "
      ]
     },
     "execution_count": 414,
     "metadata": {},
     "output_type": "execute_result"
    }
   ],
   "source": [
    "comparison = pd.DataFrame({\n",
    "    s: total_times.mean()\n",
    "    for s, total_times in total_timess.items()\n",
    "})\n",
    "comparison.columns = series_names\n",
    "comparison"
   ]
  },
  {
   "cell_type": "code",
   "execution_count": 401,
   "metadata": {},
   "outputs": [],
   "source": [
    "comparison.to_csv(\"data/comparison.csv\")"
   ]
  },
  {
   "cell_type": "code",
   "execution_count": 411,
   "metadata": {},
   "outputs": [
    {
     "data": {
      "text/html": [
       "<div>\n",
       "<style scoped>\n",
       "    .dataframe tbody tr th:only-of-type {\n",
       "        vertical-align: middle;\n",
       "    }\n",
       "\n",
       "    .dataframe tbody tr th {\n",
       "        vertical-align: top;\n",
       "    }\n",
       "\n",
       "    .dataframe thead th {\n",
       "        text-align: right;\n",
       "    }\n",
       "</style>\n",
       "<table border=\"1\" class=\"dataframe\">\n",
       "  <thead>\n",
       "    <tr style=\"text-align: right;\">\n",
       "      <th></th>\n",
       "      <th>upfront_symbolic_masked</th>\n",
       "      <th>symbolic_masked</th>\n",
       "      <th>upfront_masked</th>\n",
       "      <th>masked</th>\n",
       "      <th>upfront_symbolic_unmasked</th>\n",
       "      <th>symbolic_unmasked</th>\n",
       "      <th>upfront_unmasked</th>\n",
       "      <th>unmasked</th>\n",
       "    </tr>\n",
       "  </thead>\n",
       "  <tbody>\n",
       "    <tr>\n",
       "      <th>Flow*</th>\n",
       "      <td>3.502235</td>\n",
       "      <td>3.137144</td>\n",
       "      <td>3.085685</td>\n",
       "      <td>2.122675</td>\n",
       "      <td>3.850070</td>\n",
       "      <td>3.191857</td>\n",
       "      <td>3.760845</td>\n",
       "      <td>3.279373</td>\n",
       "    </tr>\n",
       "    <tr>\n",
       "      <th>unpreconditioning</th>\n",
       "      <td>3.418769</td>\n",
       "      <td>0.000000</td>\n",
       "      <td>7.525700</td>\n",
       "      <td>0.000000</td>\n",
       "      <td>4.359510</td>\n",
       "      <td>0.000000</td>\n",
       "      <td>4.611774</td>\n",
       "      <td>0.000000</td>\n",
       "    </tr>\n",
       "    <tr>\n",
       "      <th>P</th>\n",
       "      <td>0.136127</td>\n",
       "      <td>1.166468</td>\n",
       "      <td>0.481542</td>\n",
       "      <td>1.850040</td>\n",
       "      <td>0.506266</td>\n",
       "      <td>1.573554</td>\n",
       "      <td>0.945841</td>\n",
       "      <td>1.474016</td>\n",
       "    </tr>\n",
       "    <tr>\n",
       "      <th>Q</th>\n",
       "      <td>2.238145</td>\n",
       "      <td>3.184640</td>\n",
       "      <td>0.338265</td>\n",
       "      <td>10.783791</td>\n",
       "      <td>7.741478</td>\n",
       "      <td>11.808602</td>\n",
       "      <td>1.379841</td>\n",
       "      <td>10.156908</td>\n",
       "    </tr>\n",
       "    <tr>\n",
       "      <th>G(P | G(Q))</th>\n",
       "      <td>2.395072</td>\n",
       "      <td>3.364582</td>\n",
       "      <td>0.725383</td>\n",
       "      <td>11.034514</td>\n",
       "      <td>7.774593</td>\n",
       "      <td>11.800114</td>\n",
       "      <td>1.673112</td>\n",
       "      <td>10.360140</td>\n",
       "    </tr>\n",
       "    <tr>\n",
       "      <th>tentative eval</th>\n",
       "      <td>0.000000</td>\n",
       "      <td>0.138015</td>\n",
       "      <td>0.000000</td>\n",
       "      <td>0.128080</td>\n",
       "      <td>0.000000</td>\n",
       "      <td>0.542754</td>\n",
       "      <td>0.000000</td>\n",
       "      <td>0.243048</td>\n",
       "    </tr>\n",
       "    <tr>\n",
       "      <th>eval</th>\n",
       "      <td>0.064358</td>\n",
       "      <td>0.146940</td>\n",
       "      <td>0.361091</td>\n",
       "      <td>0.763604</td>\n",
       "      <td>0.386058</td>\n",
       "      <td>0.216958</td>\n",
       "      <td>0.901943</td>\n",
       "      <td>0.738160</td>\n",
       "    </tr>\n",
       "    <tr>\n",
       "      <th>root detection</th>\n",
       "      <td>0.000329</td>\n",
       "      <td>0.008745</td>\n",
       "      <td>0.355535</td>\n",
       "      <td>0.397067</td>\n",
       "      <td>0.000742</td>\n",
       "      <td>0.010566</td>\n",
       "      <td>0.908474</td>\n",
       "      <td>1.143479</td>\n",
       "    </tr>\n",
       "    <tr>\n",
       "      <th>composing flowpipe</th>\n",
       "      <td>3.417811</td>\n",
       "      <td>1.086221</td>\n",
       "      <td>7.523646</td>\n",
       "      <td>9.925190</td>\n",
       "      <td>4.358184</td>\n",
       "      <td>2.499374</td>\n",
       "      <td>4.609828</td>\n",
       "      <td>8.952251</td>\n",
       "    </tr>\n",
       "    <tr>\n",
       "      <th>composing atomic</th>\n",
       "      <td>2.256636</td>\n",
       "      <td>2.822058</td>\n",
       "      <td>0.001413</td>\n",
       "      <td>0.003078</td>\n",
       "      <td>7.689234</td>\n",
       "      <td>10.737760</td>\n",
       "      <td>0.003627</td>\n",
       "      <td>0.003333</td>\n",
       "    </tr>\n",
       "    <tr>\n",
       "      <th>Total</th>\n",
       "      <td>6.482980</td>\n",
       "      <td>4.503348</td>\n",
       "      <td>8.804658</td>\n",
       "      <td>11.200640</td>\n",
       "      <td>10.876850</td>\n",
       "      <td>11.619485</td>\n",
       "      <td>7.215532</td>\n",
       "      <td>10.986794</td>\n",
       "    </tr>\n",
       "  </tbody>\n",
       "</table>\n",
       "</div>"
      ],
      "text/plain": [
       "                    upfront_symbolic_masked  symbolic_masked  upfront_masked  \\\n",
       "Flow*                              3.502235         3.137144        3.085685   \n",
       "unpreconditioning                  3.418769         0.000000        7.525700   \n",
       "P                                  0.136127         1.166468        0.481542   \n",
       "Q                                  2.238145         3.184640        0.338265   \n",
       "G(P | G(Q))                        2.395072         3.364582        0.725383   \n",
       "tentative eval                     0.000000         0.138015        0.000000   \n",
       "eval                               0.064358         0.146940        0.361091   \n",
       "root detection                     0.000329         0.008745        0.355535   \n",
       "composing flowpipe                 3.417811         1.086221        7.523646   \n",
       "composing atomic                   2.256636         2.822058        0.001413   \n",
       "Total                              6.482980         4.503348        8.804658   \n",
       "\n",
       "                       masked  upfront_symbolic_unmasked  symbolic_unmasked  \\\n",
       "Flow*                2.122675                   3.850070           3.191857   \n",
       "unpreconditioning    0.000000                   4.359510           0.000000   \n",
       "P                    1.850040                   0.506266           1.573554   \n",
       "Q                   10.783791                   7.741478          11.808602   \n",
       "G(P | G(Q))         11.034514                   7.774593          11.800114   \n",
       "tentative eval       0.128080                   0.000000           0.542754   \n",
       "eval                 0.763604                   0.386058           0.216958   \n",
       "root detection       0.397067                   0.000742           0.010566   \n",
       "composing flowpipe   9.925190                   4.358184           2.499374   \n",
       "composing atomic     0.003078                   7.689234          10.737760   \n",
       "Total               11.200640                  10.876850          11.619485   \n",
       "\n",
       "                    upfront_unmasked   unmasked  \n",
       "Flow*                       3.760845   3.279373  \n",
       "unpreconditioning           4.611774   0.000000  \n",
       "P                           0.945841   1.474016  \n",
       "Q                           1.379841  10.156908  \n",
       "G(P | G(Q))                 1.673112  10.360140  \n",
       "tentative eval              0.000000   0.243048  \n",
       "eval                        0.901943   0.738160  \n",
       "root detection              0.908474   1.143479  \n",
       "composing flowpipe          4.609828   8.952251  \n",
       "composing atomic            0.003627   0.003333  \n",
       "Total                       7.215532  10.986794  "
      ]
     },
     "execution_count": 411,
     "metadata": {},
     "output_type": "execute_result"
    }
   ],
   "source": [
    "comparison_stds = pd.DataFrame({\n",
    "    s: total_times.std()\n",
    "    for s, total_times in total_timess.items()\n",
    "})\n",
    "comparison_stds.columns = series_names\n",
    "comparison_stds"
   ]
  },
  {
   "cell_type": "code",
   "execution_count": 415,
   "metadata": {},
   "outputs": [
    {
     "data": {
      "text/html": [
       "<div>\n",
       "<style scoped>\n",
       "    .dataframe tbody tr th:only-of-type {\n",
       "        vertical-align: middle;\n",
       "    }\n",
       "\n",
       "    .dataframe tbody tr th {\n",
       "        vertical-align: top;\n",
       "    }\n",
       "\n",
       "    .dataframe thead th {\n",
       "        text-align: right;\n",
       "    }\n",
       "</style>\n",
       "<table border=\"1\" class=\"dataframe\">\n",
       "  <thead>\n",
       "    <tr style=\"text-align: right;\">\n",
       "      <th></th>\n",
       "      <th>P</th>\n",
       "      <th>Q</th>\n",
       "    </tr>\n",
       "  </thead>\n",
       "  <tbody>\n",
       "    <tr>\n",
       "      <th>upfront_symbolic_masked</th>\n",
       "      <td>0.607673</td>\n",
       "      <td>39.381192</td>\n",
       "    </tr>\n",
       "    <tr>\n",
       "      <th>symbolic_masked</th>\n",
       "      <td>20.349338</td>\n",
       "      <td>95.591162</td>\n",
       "    </tr>\n",
       "    <tr>\n",
       "      <th>upfront_masked</th>\n",
       "      <td>1.325839</td>\n",
       "      <td>1.591841</td>\n",
       "    </tr>\n",
       "    <tr>\n",
       "      <th>masked</th>\n",
       "      <td>26.768760</td>\n",
       "      <td>39.813575</td>\n",
       "    </tr>\n",
       "    <tr>\n",
       "      <th>upfront_symbolic_unmasked</th>\n",
       "      <td>1.478603</td>\n",
       "      <td>124.285955</td>\n",
       "    </tr>\n",
       "    <tr>\n",
       "      <th>symbolic_unmasked</th>\n",
       "      <td>22.790763</td>\n",
       "      <td>271.951888</td>\n",
       "    </tr>\n",
       "    <tr>\n",
       "      <th>upfront_unmasked</th>\n",
       "      <td>3.067503</td>\n",
       "      <td>6.369605</td>\n",
       "    </tr>\n",
       "    <tr>\n",
       "      <th>unmasked</th>\n",
       "      <td>27.754322</td>\n",
       "      <td>82.023834</td>\n",
       "    </tr>\n",
       "  </tbody>\n",
       "</table>\n",
       "</div>"
      ],
      "text/plain": [
       "                                   P           Q\n",
       "upfront_symbolic_masked     0.607673   39.381192\n",
       "symbolic_masked            20.349338   95.591162\n",
       "upfront_masked              1.325839    1.591841\n",
       "masked                     26.768760   39.813575\n",
       "upfront_symbolic_unmasked   1.478603  124.285955\n",
       "symbolic_unmasked          22.790763  271.951888\n",
       "upfront_unmasked            3.067503    6.369605\n",
       "unmasked                   27.754322   82.023834"
      ]
     },
     "execution_count": 415,
     "metadata": {},
     "output_type": "execute_result"
    }
   ],
   "source": [
    "comparison2 = comparison.loc[['P', 'Q'],:].transpose(copy=True)\n",
    "comparison2"
   ]
  },
  {
   "cell_type": "code",
   "execution_count": 416,
   "metadata": {},
   "outputs": [
    {
     "data": {
      "text/plain": [
       "<matplotlib.axes._subplots.AxesSubplot at 0x7f170a856370>"
      ]
     },
     "execution_count": 416,
     "metadata": {},
     "output_type": "execute_result"
    },
    {
     "data": {
      "image/png": "[encoded data removed]",
      "text/plain": [
       "<Figure size 432x288 with 1 Axes>"
      ]
     },
     "metadata": {
      "needs_background": "light"
     },
     "output_type": "display_data"
    }
   ],
   "source": [
    "p = comparison2.plot(kind='barh', stacked=True, grid=False)\n",
    "p"
   ]
  },
  {
   "cell_type": "code",
   "execution_count": 417,
   "metadata": {},
   "outputs": [
    {
     "data": {
      "text/plain": [
       "<Figure size 432x288 with 0 Axes>"
      ]
     },
     "metadata": {},
     "output_type": "display_data"
    }
   ],
   "source": [
    "from matplotlib import rcParams\n",
    "rcParams.update({'figure.autolayout': True})\n",
    "import matplotlib.pyplot as plt\n",
    "plt.tight_layout()"
   ]
  },
  {
   "cell_type": "code",
   "execution_count": 418,
   "metadata": {},
   "outputs": [],
   "source": [
    "p.get_figure().savefig('images/comparison-analysis-bar-chart-1.pdf')"
   ]
  },
  {
   "cell_type": "code",
   "execution_count": 420,
   "metadata": {},
   "outputs": [
    {
     "data": {
      "text/plain": [
       "<matplotlib.axes._subplots.AxesSubplot at 0x7f170a41a250>"
      ]
     },
     "execution_count": 420,
     "metadata": {},
     "output_type": "execute_result"
    },
    {
     "data": {
      "image/png": "[encoded data removed]",
      "text/plain": [
       "<Figure size 432x288 with 1 Axes>"
      ]
     },
     "metadata": {
      "needs_background": "light"
     },
     "output_type": "display_data"
    }
   ],
   "source": [
    "comparison3 = comparison.loc[['Total'],:].transpose(copy=True)\n",
    "comparison3.plot(kind='barh')"
   ]
  },
  {
   "cell_type": "code",
   "execution_count": 421,
   "metadata": {},
   "outputs": [
    {
     "data": {
      "text/plain": [
       "<matplotlib.axes._subplots.AxesSubplot at 0x7f170a2d1fd0>"
      ]
     },
     "execution_count": 421,
     "metadata": {},
     "output_type": "execute_result"
    },
    {
     "data": {
      "image/png": "[encoded data removed]",
      "text/plain": [
       "<Figure size 432x288 with 1 Axes>"
      ]
     },
     "metadata": {
      "needs_background": "light"
     },
     "output_type": "display_data"
    }
   ],
   "source": [
    "comparison_compo = comparison.loc[['composing flowpipe'],:].transpose(copy=True)\n",
    "comparison_compo.plot(kind='barh')"
   ]
  },
  {
   "cell_type": "code",
   "execution_count": 422,
   "metadata": {},
   "outputs": [],
   "source": [
    "_.get_figure().savefig('images/unpreconditioning_comparison.pdf')"
   ]
  },
  {
   "cell_type": "code",
   "execution_count": 423,
   "metadata": {},
   "outputs": [
    {
     "data": {
      "text/plain": [
       "<matplotlib.axes._subplots.AxesSubplot at 0x7f1709f68400>"
      ]
     },
     "execution_count": 423,
     "metadata": {},
     "output_type": "execute_result"
    },
    {
     "data": {
      "image/png": "[encoded data removed]",
      "text/plain": [
       "<Figure size 432x288 with 1 Axes>"
      ]
     },
     "metadata": {
      "needs_background": "light"
     },
     "output_type": "display_data"
    }
   ],
   "source": [
    "comparison_compo_atomic = comparison.loc[['composing atomic'],:].transpose(copy=True)\n",
    "comparison_compo_atomic.plot(kind='barh')"
   ]
  },
  {
   "cell_type": "code",
   "execution_count": 424,
   "metadata": {},
   "outputs": [],
   "source": [
    "_.get_figure().savefig('images/composing_atomic_comparison.pdf')"
   ]
  },
  {
   "cell_type": "code",
   "execution_count": 425,
   "metadata": {},
   "outputs": [
    {
     "data": {
      "text/html": [
       "<div>\n",
       "<style scoped>\n",
       "    .dataframe tbody tr th:only-of-type {\n",
       "        vertical-align: middle;\n",
       "    }\n",
       "\n",
       "    .dataframe tbody tr th {\n",
       "        vertical-align: top;\n",
       "    }\n",
       "\n",
       "    .dataframe thead th {\n",
       "        text-align: right;\n",
       "    }\n",
       "</style>\n",
       "<table border=\"1\" class=\"dataframe\">\n",
       "  <thead>\n",
       "    <tr style=\"text-align: right;\">\n",
       "      <th></th>\n",
       "      <th>composing flowpipe</th>\n",
       "    </tr>\n",
       "  </thead>\n",
       "  <tbody>\n",
       "    <tr>\n",
       "      <th>upfront_symbolic_masked</th>\n",
       "      <td>67.041002</td>\n",
       "    </tr>\n",
       "    <tr>\n",
       "      <th>symbolic_masked</th>\n",
       "      <td>30.790083</td>\n",
       "    </tr>\n",
       "    <tr>\n",
       "      <th>upfront_masked</th>\n",
       "      <td>84.006823</td>\n",
       "    </tr>\n",
       "    <tr>\n",
       "      <th>masked</th>\n",
       "      <td>59.473258</td>\n",
       "    </tr>\n",
       "    <tr>\n",
       "      <th>upfront_symbolic_unmasked</th>\n",
       "      <td>70.699094</td>\n",
       "    </tr>\n",
       "    <tr>\n",
       "      <th>symbolic_unmasked</th>\n",
       "      <td>63.059158</td>\n",
       "    </tr>\n",
       "    <tr>\n",
       "      <th>upfront_unmasked</th>\n",
       "      <td>81.737260</td>\n",
       "    </tr>\n",
       "    <tr>\n",
       "      <th>unmasked</th>\n",
       "      <td>95.196524</td>\n",
       "    </tr>\n",
       "  </tbody>\n",
       "</table>\n",
       "</div>"
      ],
      "text/plain": [
       "                           composing flowpipe\n",
       "upfront_symbolic_masked             67.041002\n",
       "symbolic_masked                     30.790083\n",
       "upfront_masked                      84.006823\n",
       "masked                              59.473258\n",
       "upfront_symbolic_unmasked           70.699094\n",
       "symbolic_unmasked                   63.059158\n",
       "upfront_unmasked                    81.737260\n",
       "unmasked                            95.196524"
      ]
     },
     "execution_count": 425,
     "metadata": {},
     "output_type": "execute_result"
    }
   ],
   "source": [
    "comparison5 = comparison.loc[['composing flowpipe'],:].transpose(copy=True)\n",
    "comparison5"
   ]
  },
  {
   "cell_type": "code",
   "execution_count": 426,
   "metadata": {},
   "outputs": [
    {
     "data": {
      "text/html": [
       "<div>\n",
       "<style scoped>\n",
       "    .dataframe tbody tr th:only-of-type {\n",
       "        vertical-align: middle;\n",
       "    }\n",
       "\n",
       "    .dataframe tbody tr th {\n",
       "        vertical-align: top;\n",
       "    }\n",
       "\n",
       "    .dataframe thead th {\n",
       "        text-align: right;\n",
       "    }\n",
       "</style>\n",
       "<table border=\"1\" class=\"dataframe\">\n",
       "  <thead>\n",
       "    <tr style=\"text-align: right;\">\n",
       "      <th></th>\n",
       "      <th>Flow*</th>\n",
       "      <th>P</th>\n",
       "      <th>Q</th>\n",
       "      <th>Total</th>\n",
       "    </tr>\n",
       "  </thead>\n",
       "  <tbody>\n",
       "    <tr>\n",
       "      <th>upfront_symbolic_masked</th>\n",
       "      <td>83.587298</td>\n",
       "      <td>0.607673</td>\n",
       "      <td>39.381192</td>\n",
       "      <td>191.046162</td>\n",
       "    </tr>\n",
       "    <tr>\n",
       "      <th>symbolic_masked</th>\n",
       "      <td>84.975473</td>\n",
       "      <td>20.349338</td>\n",
       "      <td>95.591162</td>\n",
       "      <td>201.152832</td>\n",
       "    </tr>\n",
       "    <tr>\n",
       "      <th>upfront_masked</th>\n",
       "      <td>84.137215</td>\n",
       "      <td>1.325839</td>\n",
       "      <td>1.591841</td>\n",
       "      <td>171.350407</td>\n",
       "    </tr>\n",
       "    <tr>\n",
       "      <th>masked</th>\n",
       "      <td>84.742311</td>\n",
       "      <td>26.768760</td>\n",
       "      <td>39.813575</td>\n",
       "      <td>151.571814</td>\n",
       "    </tr>\n",
       "    <tr>\n",
       "      <th>upfront_symbolic_unmasked</th>\n",
       "      <td>86.550176</td>\n",
       "      <td>1.478603</td>\n",
       "      <td>124.285955</td>\n",
       "      <td>283.304926</td>\n",
       "    </tr>\n",
       "    <tr>\n",
       "      <th>symbolic_unmasked</th>\n",
       "      <td>87.363583</td>\n",
       "      <td>22.790763</td>\n",
       "      <td>271.951888</td>\n",
       "      <td>382.345947</td>\n",
       "    </tr>\n",
       "    <tr>\n",
       "      <th>upfront_unmasked</th>\n",
       "      <td>86.353500</td>\n",
       "      <td>3.067503</td>\n",
       "      <td>6.369605</td>\n",
       "      <td>177.818651</td>\n",
       "    </tr>\n",
       "    <tr>\n",
       "      <th>unmasked</th>\n",
       "      <td>86.548282</td>\n",
       "      <td>27.754322</td>\n",
       "      <td>82.023834</td>\n",
       "      <td>196.587389</td>\n",
       "    </tr>\n",
       "  </tbody>\n",
       "</table>\n",
       "</div>"
      ],
      "text/plain": [
       "                               Flow*          P           Q       Total\n",
       "upfront_symbolic_masked    83.587298   0.607673   39.381192  191.046162\n",
       "symbolic_masked            84.975473  20.349338   95.591162  201.152832\n",
       "upfront_masked             84.137215   1.325839    1.591841  171.350407\n",
       "masked                     84.742311  26.768760   39.813575  151.571814\n",
       "upfront_symbolic_unmasked  86.550176   1.478603  124.285955  283.304926\n",
       "symbolic_unmasked          87.363583  22.790763  271.951888  382.345947\n",
       "upfront_unmasked           86.353500   3.067503    6.369605  177.818651\n",
       "unmasked                   86.548282  27.754322   82.023834  196.587389"
      ]
     },
     "execution_count": 426,
     "metadata": {},
     "output_type": "execute_result"
    }
   ],
   "source": [
    "comparison4 = comparison.loc[['Flow*', 'P', 'Q', 'Total'],:].transpose(copy=True)\n",
    "comparison4"
   ]
  },
  {
   "cell_type": "code",
   "execution_count": 427,
   "metadata": {},
   "outputs": [
    {
     "data": {
      "text/plain": [
       "['upfront_symbolic_masked',\n",
       " 'upfront_masked',\n",
       " 'upfront_symbolic_unmasked',\n",
       " 'upfront_unmasked']"
      ]
     },
     "execution_count": 427,
     "metadata": {},
     "output_type": "execute_result"
    }
   ],
   "source": [
    "upfront_cols = [s for s in series if 'upfront' in s]\n",
    "upfront_cols"
   ]
  },
  {
   "cell_type": "code",
   "execution_count": 428,
   "metadata": {},
   "outputs": [
    {
     "data": {
      "text/html": [
       "<div>\n",
       "<style scoped>\n",
       "    .dataframe tbody tr th:only-of-type {\n",
       "        vertical-align: middle;\n",
       "    }\n",
       "\n",
       "    .dataframe tbody tr th {\n",
       "        vertical-align: top;\n",
       "    }\n",
       "\n",
       "    .dataframe thead th {\n",
       "        text-align: right;\n",
       "    }\n",
       "</style>\n",
       "<table border=\"1\" class=\"dataframe\">\n",
       "  <thead>\n",
       "    <tr style=\"text-align: right;\">\n",
       "      <th></th>\n",
       "      <th>unpreconditioning</th>\n",
       "    </tr>\n",
       "  </thead>\n",
       "  <tbody>\n",
       "    <tr>\n",
       "      <th>upfront_symbolic_masked</th>\n",
       "      <td>67.096185</td>\n",
       "    </tr>\n",
       "    <tr>\n",
       "      <th>upfront_masked</th>\n",
       "      <td>84.057745</td>\n",
       "    </tr>\n",
       "    <tr>\n",
       "      <th>upfront_symbolic_unmasked</th>\n",
       "      <td>70.759899</td>\n",
       "    </tr>\n",
       "    <tr>\n",
       "      <th>upfront_unmasked</th>\n",
       "      <td>81.787634</td>\n",
       "    </tr>\n",
       "  </tbody>\n",
       "</table>\n",
       "</div>"
      ],
      "text/plain": [
       "                           unpreconditioning\n",
       "upfront_symbolic_masked            67.096185\n",
       "upfront_masked                     84.057745\n",
       "upfront_symbolic_unmasked          70.759899\n",
       "upfront_unmasked                   81.787634"
      ]
     },
     "execution_count": 428,
     "metadata": {},
     "output_type": "execute_result"
    }
   ],
   "source": [
    "comparison.loc[['unpreconditioning'], upfront_cols].transpose()"
   ]
  },
  {
   "cell_type": "code",
   "execution_count": 429,
   "metadata": {},
   "outputs": [
    {
     "name": "stdout",
     "output_type": "stream",
     "text": [
      "['Flow*', 'P', 'Q', 'Total', 'unpreconditioning']\n",
      "['Flow*', 'unpreconditioning', 'P', 'Q', 'Total']\n"
     ]
    },
    {
     "data": {
      "text/html": [
       "<div>\n",
       "<style scoped>\n",
       "    .dataframe tbody tr th:only-of-type {\n",
       "        vertical-align: middle;\n",
       "    }\n",
       "\n",
       "    .dataframe tbody tr th {\n",
       "        vertical-align: top;\n",
       "    }\n",
       "\n",
       "    .dataframe thead th {\n",
       "        text-align: right;\n",
       "    }\n",
       "</style>\n",
       "<table border=\"1\" class=\"dataframe\">\n",
       "  <thead>\n",
       "    <tr style=\"text-align: right;\">\n",
       "      <th></th>\n",
       "      <th>Flow*</th>\n",
       "      <th>unpreconditioning</th>\n",
       "      <th>P</th>\n",
       "      <th>Q</th>\n",
       "      <th>Total</th>\n",
       "    </tr>\n",
       "  </thead>\n",
       "  <tbody>\n",
       "    <tr>\n",
       "      <th>masked</th>\n",
       "      <td>84.742311</td>\n",
       "      <td>0.000000</td>\n",
       "      <td>26.768760</td>\n",
       "      <td>39.813575</td>\n",
       "      <td>151.571814</td>\n",
       "    </tr>\n",
       "    <tr>\n",
       "      <th>symbolic_masked</th>\n",
       "      <td>84.975473</td>\n",
       "      <td>0.000000</td>\n",
       "      <td>20.349338</td>\n",
       "      <td>95.591162</td>\n",
       "      <td>201.152832</td>\n",
       "    </tr>\n",
       "    <tr>\n",
       "      <th>symbolic_unmasked</th>\n",
       "      <td>87.363583</td>\n",
       "      <td>0.000000</td>\n",
       "      <td>22.790763</td>\n",
       "      <td>271.951888</td>\n",
       "      <td>382.345947</td>\n",
       "    </tr>\n",
       "    <tr>\n",
       "      <th>unmasked</th>\n",
       "      <td>86.548282</td>\n",
       "      <td>0.000000</td>\n",
       "      <td>27.754322</td>\n",
       "      <td>82.023834</td>\n",
       "      <td>196.587389</td>\n",
       "    </tr>\n",
       "    <tr>\n",
       "      <th>upfront_masked</th>\n",
       "      <td>84.137215</td>\n",
       "      <td>84.057745</td>\n",
       "      <td>1.325839</td>\n",
       "      <td>1.591841</td>\n",
       "      <td>171.350407</td>\n",
       "    </tr>\n",
       "    <tr>\n",
       "      <th>upfront_symbolic_masked</th>\n",
       "      <td>83.587298</td>\n",
       "      <td>67.096185</td>\n",
       "      <td>0.607673</td>\n",
       "      <td>39.381192</td>\n",
       "      <td>191.046162</td>\n",
       "    </tr>\n",
       "    <tr>\n",
       "      <th>upfront_symbolic_unmasked</th>\n",
       "      <td>86.550176</td>\n",
       "      <td>70.759899</td>\n",
       "      <td>1.478603</td>\n",
       "      <td>124.285955</td>\n",
       "      <td>283.304926</td>\n",
       "    </tr>\n",
       "    <tr>\n",
       "      <th>upfront_unmasked</th>\n",
       "      <td>86.353500</td>\n",
       "      <td>81.787634</td>\n",
       "      <td>3.067503</td>\n",
       "      <td>6.369605</td>\n",
       "      <td>177.818651</td>\n",
       "    </tr>\n",
       "  </tbody>\n",
       "</table>\n",
       "</div>"
      ],
      "text/plain": [
       "                               Flow*  unpreconditioning          P  \\\n",
       "masked                     84.742311           0.000000  26.768760   \n",
       "symbolic_masked            84.975473           0.000000  20.349338   \n",
       "symbolic_unmasked          87.363583           0.000000  22.790763   \n",
       "unmasked                   86.548282           0.000000  27.754322   \n",
       "upfront_masked             84.137215          84.057745   1.325839   \n",
       "upfront_symbolic_masked    83.587298          67.096185   0.607673   \n",
       "upfront_symbolic_unmasked  86.550176          70.759899   1.478603   \n",
       "upfront_unmasked           86.353500          81.787634   3.067503   \n",
       "\n",
       "                                    Q       Total  \n",
       "masked                      39.813575  151.571814  \n",
       "symbolic_masked             95.591162  201.152832  \n",
       "symbolic_unmasked          271.951888  382.345947  \n",
       "unmasked                    82.023834  196.587389  \n",
       "upfront_masked               1.591841  171.350407  \n",
       "upfront_symbolic_masked     39.381192  191.046162  \n",
       "upfront_symbolic_unmasked  124.285955  283.304926  \n",
       "upfront_unmasked             6.369605  177.818651  "
      ]
     },
     "execution_count": 429,
     "metadata": {},
     "output_type": "execute_result"
    }
   ],
   "source": [
    "comparison6 = comparison4.join(comparison.loc[['unpreconditioning'], upfront_cols].transpose(copy=True),\n",
    "                               how='outer')\n",
    "comparison6['unpreconditioning'].fillna(0, inplace=True)\n",
    "cols = comparison6.columns.tolist()\n",
    "print(cols)\n",
    "cols = cols[:1] + cols[-1:] + cols[1:-1]\n",
    "print(cols)\n",
    "comparison6 = comparison6[cols]\n",
    "comparison6"
   ]
  },
  {
   "cell_type": "code",
   "execution_count": 510,
   "metadata": {},
   "outputs": [],
   "source": [
    "rearranged_colors = ('#0A5C9F', 'tab:blue', 'tab:orange', 'tab:green')"
   ]
  },
  {
   "cell_type": "code",
   "execution_count": 498,
   "metadata": {},
   "outputs": [],
   "source": [
    "p.get_figure().savefig('images/full-upfront-comparison.pdf')"
   ]
  },
  {
   "cell_type": "code",
   "execution_count": 659,
   "metadata": {},
   "outputs": [],
   "source": [
    "chosen_rows, chosen_names = zip(*[\n",
    "#    'upfront_unmasked',\n",
    "     ('upfront_unmasked', 'Closed-box\\n monitoring'),\n",
    "#    ('upfront_symbolic_unmasked', 'Unpreconditioning upfront symb'),\n",
    "#    'upfront_symbolic_unmasked',\n",
    "    ('unmasked', 'Functional\\n composition'),\n",
    "#    'symbolic_unmasked',\n",
    "    ('symbolic_unmasked', 'Full\\n monitoring'),\n",
    "    ('symbolic_masked', 'Masked\\n monitoring'),\n",
    "#    'symbolic_masked_reversed',\n",
    "#    'symbolic_masked_reversed',\n",
    "])"
   ]
  },
  {
   "cell_type": "code",
   "execution_count": 660,
   "metadata": {},
   "outputs": [],
   "source": [
    "import matplotlib.pyplot as plt\n",
    "import numpy as np\n",
    "from matplotlib.ticker import (MultipleLocator, FormatStrFormatter,\n",
    "                               AutoMinorLocator)  "
   ]
  },
  {
   "cell_type": "code",
   "execution_count": 661,
   "metadata": {},
   "outputs": [
    {
     "data": {
      "text/plain": [
       "masked                       151.571814\n",
       "symbolic_masked              201.152832\n",
       "symbolic_unmasked            382.345947\n",
       "unmasked                     196.587389\n",
       "upfront_masked               171.350407\n",
       "upfront_symbolic_masked      191.046162\n",
       "upfront_symbolic_unmasked    283.304926\n",
       "upfront_unmasked             177.818651\n",
       "dtype: float64"
      ]
     },
     "execution_count": 661,
     "metadata": {},
     "output_type": "execute_result"
    }
   ],
   "source": [
    "comparison6[['Total']].sum(axis=1) "
   ]
  },
  {
   "cell_type": "code",
   "execution_count": 662,
   "metadata": {},
   "outputs": [
    {
     "data": {
      "text/plain": [
       "masked                       151.324647\n",
       "symbolic_masked              200.915973\n",
       "symbolic_unmasked            382.106234\n",
       "unmasked                     196.326438\n",
       "upfront_masked               171.112640\n",
       "upfront_symbolic_masked      190.672348\n",
       "upfront_symbolic_unmasked    283.074634\n",
       "upfront_unmasked             177.578242\n",
       "dtype: float64"
      ]
     },
     "execution_count": 662,
     "metadata": {},
     "output_type": "execute_result"
    }
   ],
   "source": [
    "comparison6[cols[:-1]].sum(axis=1)"
   ]
  },
  {
   "cell_type": "code",
   "execution_count": 663,
   "metadata": {},
   "outputs": [
    {
     "data": {
      "text/plain": [
       "masked                       302.896461\n",
       "symbolic_masked              402.068805\n",
       "symbolic_unmasked            764.452181\n",
       "unmasked                     392.913827\n",
       "upfront_masked               342.463047\n",
       "upfront_symbolic_masked      381.718511\n",
       "upfront_symbolic_unmasked    566.379560\n",
       "upfront_unmasked             355.396893\n",
       "dtype: float64"
      ]
     },
     "execution_count": 663,
     "metadata": {},
     "output_type": "execute_result"
    }
   ],
   "source": [
    "comparison6.sum(axis=1)"
   ]
  },
  {
   "cell_type": "code",
   "execution_count": 664,
   "metadata": {},
   "outputs": [
    {
     "data": {
      "text/plain": [
       "masked                       0.247167\n",
       "symbolic_masked              0.236858\n",
       "symbolic_unmasked            0.239713\n",
       "unmasked                     0.260951\n",
       "upfront_masked               0.237766\n",
       "upfront_symbolic_masked      0.373814\n",
       "upfront_symbolic_unmasked    0.230292\n",
       "upfront_unmasked             0.240408\n",
       "dtype: float64"
      ]
     },
     "execution_count": 664,
     "metadata": {},
     "output_type": "execute_result"
    }
   ],
   "source": [
    "rem = comparison6[['Total']].sum(axis=1) - comparison6[cols[:-1]].sum(axis=1)\n",
    "rem"
   ]
  },
  {
   "cell_type": "code",
   "execution_count": 665,
   "metadata": {},
   "outputs": [
    {
     "name": "stdout",
     "output_type": "stream",
     "text": [
      "['Flow*', 'unpreconditioning', 'P', 'Q', 'Total']\n",
      "['Flow*', 'unpreconditioning', 'P', 'Q', 'Total']\n"
     ]
    },
    {
     "data": {
      "text/html": [
       "<div>\n",
       "<style scoped>\n",
       "    .dataframe tbody tr th:only-of-type {\n",
       "        vertical-align: middle;\n",
       "    }\n",
       "\n",
       "    .dataframe tbody tr th {\n",
       "        vertical-align: top;\n",
       "    }\n",
       "\n",
       "    .dataframe thead th {\n",
       "        text-align: right;\n",
       "    }\n",
       "</style>\n",
       "<table border=\"1\" class=\"dataframe\">\n",
       "  <thead>\n",
       "    <tr style=\"text-align: right;\">\n",
       "      <th></th>\n",
       "      <th>Flow*</th>\n",
       "      <th>unpreconditioning</th>\n",
       "      <th>P</th>\n",
       "      <th>Total</th>\n",
       "      <th>Q</th>\n",
       "    </tr>\n",
       "  </thead>\n",
       "  <tbody>\n",
       "    <tr>\n",
       "      <th>masked</th>\n",
       "      <td>84.742311</td>\n",
       "      <td>0.000000</td>\n",
       "      <td>26.768760</td>\n",
       "      <td>151.571814</td>\n",
       "      <td>39.813575</td>\n",
       "    </tr>\n",
       "    <tr>\n",
       "      <th>symbolic_masked</th>\n",
       "      <td>84.975473</td>\n",
       "      <td>0.000000</td>\n",
       "      <td>20.349338</td>\n",
       "      <td>201.152832</td>\n",
       "      <td>95.591162</td>\n",
       "    </tr>\n",
       "    <tr>\n",
       "      <th>symbolic_unmasked</th>\n",
       "      <td>87.363583</td>\n",
       "      <td>0.000000</td>\n",
       "      <td>22.790763</td>\n",
       "      <td>382.345947</td>\n",
       "      <td>271.951888</td>\n",
       "    </tr>\n",
       "    <tr>\n",
       "      <th>unmasked</th>\n",
       "      <td>86.548282</td>\n",
       "      <td>0.000000</td>\n",
       "      <td>27.754322</td>\n",
       "      <td>196.587389</td>\n",
       "      <td>82.023834</td>\n",
       "    </tr>\n",
       "    <tr>\n",
       "      <th>upfront_masked</th>\n",
       "      <td>84.137215</td>\n",
       "      <td>84.057745</td>\n",
       "      <td>1.325839</td>\n",
       "      <td>171.350407</td>\n",
       "      <td>1.591841</td>\n",
       "    </tr>\n",
       "    <tr>\n",
       "      <th>upfront_symbolic_masked</th>\n",
       "      <td>83.587298</td>\n",
       "      <td>67.096185</td>\n",
       "      <td>0.607673</td>\n",
       "      <td>191.046162</td>\n",
       "      <td>39.381192</td>\n",
       "    </tr>\n",
       "    <tr>\n",
       "      <th>upfront_symbolic_unmasked</th>\n",
       "      <td>86.550176</td>\n",
       "      <td>70.759899</td>\n",
       "      <td>1.478603</td>\n",
       "      <td>283.304926</td>\n",
       "      <td>124.285955</td>\n",
       "    </tr>\n",
       "    <tr>\n",
       "      <th>upfront_unmasked</th>\n",
       "      <td>86.353500</td>\n",
       "      <td>81.787634</td>\n",
       "      <td>3.067503</td>\n",
       "      <td>177.818651</td>\n",
       "      <td>6.369605</td>\n",
       "    </tr>\n",
       "  </tbody>\n",
       "</table>\n",
       "</div>"
      ],
      "text/plain": [
       "                               Flow*  unpreconditioning          P  \\\n",
       "masked                     84.742311           0.000000  26.768760   \n",
       "symbolic_masked            84.975473           0.000000  20.349338   \n",
       "symbolic_unmasked          87.363583           0.000000  22.790763   \n",
       "unmasked                   86.548282           0.000000  27.754322   \n",
       "upfront_masked             84.137215          84.057745   1.325839   \n",
       "upfront_symbolic_masked    83.587298          67.096185   0.607673   \n",
       "upfront_symbolic_unmasked  86.550176          70.759899   1.478603   \n",
       "upfront_unmasked           86.353500          81.787634   3.067503   \n",
       "\n",
       "                                Total           Q  \n",
       "masked                     151.571814   39.813575  \n",
       "symbolic_masked            201.152832   95.591162  \n",
       "symbolic_unmasked          382.345947  271.951888  \n",
       "unmasked                   196.587389   82.023834  \n",
       "upfront_masked             171.350407    1.591841  \n",
       "upfront_symbolic_masked    191.046162   39.381192  \n",
       "upfront_symbolic_unmasked  283.304926  124.285955  \n",
       "upfront_unmasked           177.818651    6.369605  "
      ]
     },
     "execution_count": 665,
     "metadata": {},
     "output_type": "execute_result"
    }
   ],
   "source": [
    "comparison7 = comparison6.copy()\n",
    "comparison7.loc[:,'Remainder'] = rem\n",
    "cols7 = comparison6.columns.tolist()\n",
    "print(cols)\n",
    "cols7 = cols7[:-2] + [cols7[-1], cols7[-2]]\n",
    "print(cols)\n",
    "comparison7 = comparison7[cols7]\n",
    "comparison7"
   ]
  },
  {
   "cell_type": "code",
   "execution_count": 666,
   "metadata": {},
   "outputs": [
    {
     "data": {
      "text/plain": [
       "151.5718137822696"
      ]
     },
     "execution_count": 666,
     "metadata": {},
     "output_type": "execute_result"
    }
   ],
   "source": [
    "comparison6['Total']['masked']"
   ]
  },
  {
   "cell_type": "code",
   "execution_count": 667,
   "metadata": {},
   "outputs": [
    {
     "data": {
      "text/plain": [
       "[('symbolic_masked', 201.15283153290318),\n",
       " ('symbolic_unmasked', 382.3459472062493),\n",
       " ('unmasked', 196.58738865159296),\n",
       " ('upfront_unmasked', 177.81865061582454)]"
      ]
     },
     "execution_count": 667,
     "metadata": {},
     "output_type": "execute_result"
    }
   ],
   "source": [
    "list(comparison6['Total'][reversed(chosen_rows)].items())"
   ]
  },
  {
   "cell_type": "code",
   "execution_count": 668,
   "metadata": {},
   "outputs": [
    {
     "data": {
      "text/html": [
       "<div>\n",
       "<style scoped>\n",
       "    .dataframe tbody tr th:only-of-type {\n",
       "        vertical-align: middle;\n",
       "    }\n",
       "\n",
       "    .dataframe tbody tr th {\n",
       "        vertical-align: top;\n",
       "    }\n",
       "\n",
       "    .dataframe thead th {\n",
       "        text-align: right;\n",
       "    }\n",
       "</style>\n",
       "<table border=\"1\" class=\"dataframe\">\n",
       "  <thead>\n",
       "    <tr style=\"text-align: right;\">\n",
       "      <th></th>\n",
       "      <th>Verified integration</th>\n",
       "      <th>Flowpipe composition</th>\n",
       "      <th>Monitoring P</th>\n",
       "      <th>Monitoring Q</th>\n",
       "    </tr>\n",
       "  </thead>\n",
       "  <tbody>\n",
       "    <tr>\n",
       "      <th>Masked\\n monitoring</th>\n",
       "      <td>84.975473</td>\n",
       "      <td>0.000000</td>\n",
       "      <td>20.349338</td>\n",
       "      <td>95.591162</td>\n",
       "    </tr>\n",
       "    <tr>\n",
       "      <th>Full\\n monitoring</th>\n",
       "      <td>87.363583</td>\n",
       "      <td>0.000000</td>\n",
       "      <td>22.790763</td>\n",
       "      <td>271.951888</td>\n",
       "    </tr>\n",
       "    <tr>\n",
       "      <th>Functional\\n composition</th>\n",
       "      <td>86.548282</td>\n",
       "      <td>0.000000</td>\n",
       "      <td>27.754322</td>\n",
       "      <td>82.023834</td>\n",
       "    </tr>\n",
       "    <tr>\n",
       "      <th>Closed-box\\n monitoring</th>\n",
       "      <td>86.353500</td>\n",
       "      <td>81.787634</td>\n",
       "      <td>3.067503</td>\n",
       "      <td>6.369605</td>\n",
       "    </tr>\n",
       "  </tbody>\n",
       "</table>\n",
       "</div>"
      ],
      "text/plain": [
       "                          Verified integration  Flowpipe composition  \\\n",
       "Masked\\n monitoring                  84.975473              0.000000   \n",
       "Full\\n monitoring                    87.363583              0.000000   \n",
       "Functional\\n composition             86.548282              0.000000   \n",
       "Closed-box\\n monitoring              86.353500             81.787634   \n",
       "\n",
       "                          Monitoring P  Monitoring Q  \n",
       "Masked\\n monitoring          20.349338     95.591162  \n",
       "Full\\n monitoring            22.790763    271.951888  \n",
       "Functional\\n composition     27.754322     82.023834  \n",
       "Closed-box\\n monitoring       3.067503      6.369605  "
      ]
     },
     "execution_count": 668,
     "metadata": {},
     "output_type": "execute_result"
    }
   ],
   "source": [
    "comp6_plot_data = comparison6.loc[reversed(chosen_rows),:][cols[:-1]].copy()\n",
    "comp6_plot_data = comp6_plot_data.transpose()\n",
    "comp6_plot_data.columns = reversed(chosen_names)\n",
    "comp6_plot_data = comp6_plot_data.transpose()\n",
    "comp6_plot_data.columns = [\n",
    "    'Verified integration',\n",
    "    'Flowpipe composition',\n",
    "    'Monitoring P',\n",
    "    'Monitoring Q',\n",
    "]\n",
    "comp6_plot_data"
   ]
  },
  {
   "cell_type": "code",
   "execution_count": 669,
   "metadata": {},
   "outputs": [],
   "source": [
    "rcParams['font.family'] = 'Latin Modern Sans'\n",
    "rcParams['font.size'] = 13.5\n",
    "rcParams['text.usetex'] = False"
   ]
  },
  {
   "cell_type": "code",
   "execution_count": 701,
   "metadata": {},
   "outputs": [
    {
     "name": "stderr",
     "output_type": "stream",
     "text": [
      "'lmsans9-regular.otf' can not be subsetted into a Type 3 font. The entire font will be embedded in the output.\n"
     ]
    },
    {
     "data": {
      "image/png": "[encoded data removed]",
      "text/plain": [
       "<Figure size 936x201.6 with 1 Axes>"
      ]
     },
     "metadata": {
      "needs_background": "light"
     },
     "output_type": "display_data"
    }
   ],
   "source": [
    "p = comp6_plot_data\\\n",
    "    .plot(kind='barh', stacked=True, grid=False,color=rearranged_colors, figsize=(13,2.8),\n",
    "          zorder=3, width=0.8)\n",
    "#plt.legend(loc=(1.05, 0.105))\n",
    "plt.legend(fontsize=14, loc=(1.02, 0.13))\n",
    "plt.xlabel('overall verification time (seconds)')\n",
    "ax = plt.gca()\n",
    "ax.set_xticks(np.arange(0, 451, 50))\n",
    "ax.xaxis.set_minor_locator(AutoMinorLocator())\n",
    "ax.xaxis.grid(True, zorder=0, linestyle='-', color='darkgrey', which='major')\n",
    "ax.xaxis.grid(True, zorder=0, linestyle='dotted', which='minor')\n",
    "\n",
    "labels = [\n",
    "    f\"{t:.2f} sec\"\n",
    "#     + ('' if 'symbolic' in row\n",
    "#           else \"\\n (returned unknown)\")\n",
    "    for row, t in comparison6['Total'][reversed(chosen_rows)].items()\n",
    "]\n",
    "\n",
    "def anno_inner(p, label, color='black'):\n",
    "    ax.annotate(\n",
    "        label,\n",
    "        xy=(p.get_x() + p.get_width()/2 ,\n",
    "            p.get_y() + p.get_height()/2),\n",
    "        xytext=(0, 0),\n",
    "        size=18,\n",
    "        textcoords=\"offset points\",\n",
    "        va='center', ha='center',\n",
    "        color=color\n",
    "    )\n",
    "\n",
    "for i, p in enumerate(ax.patches):\n",
    "    if p.get_width() > 10:\n",
    "        col = ['Flow*', 'unpreconditioning', 'P', 'Q'][i // 4]\n",
    "        anno_inner(p, f\"{comparison6[col][chosen_rows[3-(i % 4)]]:.2f}\", 'white')\n",
    "        \n",
    "for i, label in zip(ax.patches[-4:], labels):\n",
    "    ax.annotate(\n",
    "        label,\n",
    "        xy=(i.get_x() + i.get_width(),\n",
    "            i.get_y() + i.get_height()/2),\n",
    "        xytext=(3, 0),\n",
    "        textcoords=\"offset points\",\n",
    "        va='center', ha='left',\n",
    "        size='18'\n",
    "    )\n",
    "    \n",
    "plt.annotate(\n",
    "    'Verification unsuccessful\\n(signal unknown everywhere)',\n",
    "    xy=(268, 2.52),\n",
    "    va='center', ha='left',\n",
    "    xytext=(13,0),\n",
    "#    weight='bold',\n",
    "    textcoords=\"offset points\",\n",
    "    color='red',\n",
    "    size=19.5,\n",
    "    arrowprops=dict(arrowstyle='-[, widthB=1.6, lengthB=0.5, angleB=60', lw=1.5),\n",
    ")\n",
    "\n",
    "plt.tight_layout()\n",
    "plt.savefig('images/benchmark-bar-chart.pdf')\n",
    "plt.show()"
   ]
  },
  {
   "cell_type": "code",
   "execution_count": 681,
   "metadata": {},
   "outputs": [
    {
     "data": {
      "text/plain": [
       "271.95188828309375"
      ]
     },
     "execution_count": 681,
     "metadata": {},
     "output_type": "execute_result"
    }
   ],
   "source": [
    "comparison7['Q']['symbolic_unmasked']"
   ]
  },
  {
   "cell_type": "code",
   "execution_count": 684,
   "metadata": {},
   "outputs": [
    {
     "data": {
      "text/plain": [
       "masked                        39.813575\n",
       "symbolic_masked               95.591162\n",
       "symbolic_unmasked            271.951888\n",
       "unmasked                      82.023834\n",
       "upfront_masked                 1.591841\n",
       "upfront_symbolic_masked       39.381192\n",
       "upfront_symbolic_unmasked    124.285955\n",
       "upfront_unmasked               6.369605\n",
       "Name: Q, dtype: float64"
      ]
     },
     "execution_count": 684,
     "metadata": {},
     "output_type": "execute_result"
    }
   ],
   "source": [
    "Qs = comparison7['Q']; Qs"
   ]
  },
  {
   "cell_type": "code",
   "execution_count": 683,
   "metadata": {},
   "outputs": [
    {
     "data": {
      "text/plain": [
       "0.6484997291871156"
      ]
     },
     "execution_count": 683,
     "metadata": {},
     "output_type": "execute_result"
    }
   ],
   "source": [
    "(Qs['symbolic_unmasked'] - Qs['symbolic_masked'])/Qs['symbolic_unmasked']"
   ]
  },
  {
   "cell_type": "code",
   "execution_count": 675,
   "metadata": {},
   "outputs": [
    {
     "ename": "KeyError",
     "evalue": "'unmasked_symbolic'",
     "output_type": "error",
     "traceback": [
      "\u001b[0;31m---------------------------------------------------------------------------\u001b[0m",
      "\u001b[0;31mKeyError\u001b[0m                                  Traceback (most recent call last)",
      "\u001b[0;32m/usr/lib64/python3.8/site-packages/pandas/core/indexes/base.py\u001b[0m in \u001b[0;36mget_loc\u001b[0;34m(self, key, method, tolerance)\u001b[0m\n\u001b[1;32m   2896\u001b[0m             \u001b[0;32mtry\u001b[0m\u001b[0;34m:\u001b[0m\u001b[0;34m\u001b[0m\u001b[0;34m\u001b[0m\u001b[0m\n\u001b[0;32m-> 2897\u001b[0;31m                 \u001b[0;32mreturn\u001b[0m \u001b[0mself\u001b[0m\u001b[0;34m.\u001b[0m\u001b[0m_engine\u001b[0m\u001b[0;34m.\u001b[0m\u001b[0mget_loc\u001b[0m\u001b[0;34m(\u001b[0m\u001b[0mkey\u001b[0m\u001b[0;34m)\u001b[0m\u001b[0;34m\u001b[0m\u001b[0;34m\u001b[0m\u001b[0m\n\u001b[0m\u001b[1;32m   2898\u001b[0m             \u001b[0;32mexcept\u001b[0m \u001b[0mKeyError\u001b[0m\u001b[0;34m:\u001b[0m\u001b[0;34m\u001b[0m\u001b[0;34m\u001b[0m\u001b[0m\n",
      "\u001b[0;32mpandas/_libs/index.pyx\u001b[0m in \u001b[0;36mpandas._libs.index.IndexEngine.get_loc\u001b[0;34m()\u001b[0m\n",
      "\u001b[0;32mpandas/_libs/index.pyx\u001b[0m in \u001b[0;36mpandas._libs.index.IndexEngine.get_loc\u001b[0;34m()\u001b[0m\n",
      "\u001b[0;32mpandas/_libs/hashtable_class_helper.pxi\u001b[0m in \u001b[0;36mpandas._libs.hashtable.PyObjectHashTable.get_item\u001b[0;34m()\u001b[0m\n",
      "\u001b[0;32mpandas/_libs/hashtable_class_helper.pxi\u001b[0m in \u001b[0;36mpandas._libs.hashtable.PyObjectHashTable.get_item\u001b[0;34m()\u001b[0m\n",
      "\u001b[0;31mKeyError\u001b[0m: 'unmasked_symbolic'",
      "\nDuring handling of the above exception, another exception occurred:\n",
      "\u001b[0;31mKeyError\u001b[0m                                  Traceback (most recent call last)",
      "\u001b[0;32m<ipython-input-675-132b2d0db02a>\u001b[0m in \u001b[0;36m<module>\u001b[0;34m()\u001b[0m\n\u001b[0;32m----> 1\u001b[0;31m \u001b[0mcomparison7\u001b[0m\u001b[0;34m[\u001b[0m\u001b[0;34m'unmasked_symbolic'\u001b[0m\u001b[0;34m]\u001b[0m\u001b[0;34m[\u001b[0m\u001b[0;34m'Q'\u001b[0m\u001b[0;34m]\u001b[0m\u001b[0;34m\u001b[0m\u001b[0;34m\u001b[0m\u001b[0m\n\u001b[0m",
      "\u001b[0;32m/usr/lib64/python3.8/site-packages/pandas/core/frame.py\u001b[0m in \u001b[0;36m__getitem__\u001b[0;34m(self, key)\u001b[0m\n\u001b[1;32m   2993\u001b[0m             \u001b[0;32mif\u001b[0m \u001b[0mself\u001b[0m\u001b[0;34m.\u001b[0m\u001b[0mcolumns\u001b[0m\u001b[0;34m.\u001b[0m\u001b[0mnlevels\u001b[0m \u001b[0;34m>\u001b[0m \u001b[0;36m1\u001b[0m\u001b[0;34m:\u001b[0m\u001b[0;34m\u001b[0m\u001b[0;34m\u001b[0m\u001b[0m\n\u001b[1;32m   2994\u001b[0m                 \u001b[0;32mreturn\u001b[0m \u001b[0mself\u001b[0m\u001b[0;34m.\u001b[0m\u001b[0m_getitem_multilevel\u001b[0m\u001b[0;34m(\u001b[0m\u001b[0mkey\u001b[0m\u001b[0;34m)\u001b[0m\u001b[0;34m\u001b[0m\u001b[0;34m\u001b[0m\u001b[0m\n\u001b[0;32m-> 2995\u001b[0;31m             \u001b[0mindexer\u001b[0m \u001b[0;34m=\u001b[0m \u001b[0mself\u001b[0m\u001b[0;34m.\u001b[0m\u001b[0mcolumns\u001b[0m\u001b[0;34m.\u001b[0m\u001b[0mget_loc\u001b[0m\u001b[0;34m(\u001b[0m\u001b[0mkey\u001b[0m\u001b[0;34m)\u001b[0m\u001b[0;34m\u001b[0m\u001b[0;34m\u001b[0m\u001b[0m\n\u001b[0m\u001b[1;32m   2996\u001b[0m             \u001b[0;32mif\u001b[0m \u001b[0mis_integer\u001b[0m\u001b[0;34m(\u001b[0m\u001b[0mindexer\u001b[0m\u001b[0;34m)\u001b[0m\u001b[0;34m:\u001b[0m\u001b[0;34m\u001b[0m\u001b[0;34m\u001b[0m\u001b[0m\n\u001b[1;32m   2997\u001b[0m                 \u001b[0mindexer\u001b[0m \u001b[0;34m=\u001b[0m \u001b[0;34m[\u001b[0m\u001b[0mindexer\u001b[0m\u001b[0;34m]\u001b[0m\u001b[0;34m\u001b[0m\u001b[0;34m\u001b[0m\u001b[0m\n",
      "\u001b[0;32m/usr/lib64/python3.8/site-packages/pandas/core/indexes/base.py\u001b[0m in \u001b[0;36mget_loc\u001b[0;34m(self, key, method, tolerance)\u001b[0m\n\u001b[1;32m   2897\u001b[0m                 \u001b[0;32mreturn\u001b[0m \u001b[0mself\u001b[0m\u001b[0;34m.\u001b[0m\u001b[0m_engine\u001b[0m\u001b[0;34m.\u001b[0m\u001b[0mget_loc\u001b[0m\u001b[0;34m(\u001b[0m\u001b[0mkey\u001b[0m\u001b[0;34m)\u001b[0m\u001b[0;34m\u001b[0m\u001b[0;34m\u001b[0m\u001b[0m\n\u001b[1;32m   2898\u001b[0m             \u001b[0;32mexcept\u001b[0m \u001b[0mKeyError\u001b[0m\u001b[0;34m:\u001b[0m\u001b[0;34m\u001b[0m\u001b[0;34m\u001b[0m\u001b[0m\n\u001b[0;32m-> 2899\u001b[0;31m                 \u001b[0;32mreturn\u001b[0m \u001b[0mself\u001b[0m\u001b[0;34m.\u001b[0m\u001b[0m_engine\u001b[0m\u001b[0;34m.\u001b[0m\u001b[0mget_loc\u001b[0m\u001b[0;34m(\u001b[0m\u001b[0mself\u001b[0m\u001b[0;34m.\u001b[0m\u001b[0m_maybe_cast_indexer\u001b[0m\u001b[0;34m(\u001b[0m\u001b[0mkey\u001b[0m\u001b[0;34m)\u001b[0m\u001b[0;34m)\u001b[0m\u001b[0;34m\u001b[0m\u001b[0;34m\u001b[0m\u001b[0m\n\u001b[0m\u001b[1;32m   2900\u001b[0m         \u001b[0mindexer\u001b[0m \u001b[0;34m=\u001b[0m \u001b[0mself\u001b[0m\u001b[0;34m.\u001b[0m\u001b[0mget_indexer\u001b[0m\u001b[0;34m(\u001b[0m\u001b[0;34m[\u001b[0m\u001b[0mkey\u001b[0m\u001b[0;34m]\u001b[0m\u001b[0;34m,\u001b[0m \u001b[0mmethod\u001b[0m\u001b[0;34m=\u001b[0m\u001b[0mmethod\u001b[0m\u001b[0;34m,\u001b[0m \u001b[0mtolerance\u001b[0m\u001b[0;34m=\u001b[0m\u001b[0mtolerance\u001b[0m\u001b[0;34m)\u001b[0m\u001b[0;34m\u001b[0m\u001b[0;34m\u001b[0m\u001b[0m\n\u001b[1;32m   2901\u001b[0m         \u001b[0;32mif\u001b[0m \u001b[0mindexer\u001b[0m\u001b[0;34m.\u001b[0m\u001b[0mndim\u001b[0m \u001b[0;34m>\u001b[0m \u001b[0;36m1\u001b[0m \u001b[0;32mor\u001b[0m \u001b[0mindexer\u001b[0m\u001b[0;34m.\u001b[0m\u001b[0msize\u001b[0m \u001b[0;34m>\u001b[0m \u001b[0;36m1\u001b[0m\u001b[0;34m:\u001b[0m\u001b[0;34m\u001b[0m\u001b[0;34m\u001b[0m\u001b[0m\n",
      "\u001b[0;32mpandas/_libs/index.pyx\u001b[0m in \u001b[0;36mpandas._libs.index.IndexEngine.get_loc\u001b[0;34m()\u001b[0m\n",
      "\u001b[0;32mpandas/_libs/index.pyx\u001b[0m in \u001b[0;36mpandas._libs.index.IndexEngine.get_loc\u001b[0;34m()\u001b[0m\n",
      "\u001b[0;32mpandas/_libs/hashtable_class_helper.pxi\u001b[0m in \u001b[0;36mpandas._libs.hashtable.PyObjectHashTable.get_item\u001b[0;34m()\u001b[0m\n",
      "\u001b[0;32mpandas/_libs/hashtable_class_helper.pxi\u001b[0m in \u001b[0;36mpandas._libs.hashtable.PyObjectHashTable.get_item\u001b[0;34m()\u001b[0m\n",
      "\u001b[0;31mKeyError\u001b[0m: 'unmasked_symbolic'"
     ]
    }
   ],
   "source": [
    "comparison7['unmasked_symbolic']['Q']"
   ]
  },
  {
   "cell_type": "code",
   "execution_count": 673,
   "metadata": {},
   "outputs": [
    {
     "ename": "KeyError",
     "evalue": "'unmasked_symbolic'",
     "output_type": "error",
     "traceback": [
      "\u001b[0;31m---------------------------------------------------------------------------\u001b[0m",
      "\u001b[0;31mKeyError\u001b[0m                                  Traceback (most recent call last)",
      "\u001b[0;32m/usr/lib64/python3.8/site-packages/pandas/core/indexes/base.py\u001b[0m in \u001b[0;36mget_loc\u001b[0;34m(self, key, method, tolerance)\u001b[0m\n\u001b[1;32m   2896\u001b[0m             \u001b[0;32mtry\u001b[0m\u001b[0;34m:\u001b[0m\u001b[0;34m\u001b[0m\u001b[0;34m\u001b[0m\u001b[0m\n\u001b[0;32m-> 2897\u001b[0;31m                 \u001b[0;32mreturn\u001b[0m \u001b[0mself\u001b[0m\u001b[0;34m.\u001b[0m\u001b[0m_engine\u001b[0m\u001b[0;34m.\u001b[0m\u001b[0mget_loc\u001b[0m\u001b[0;34m(\u001b[0m\u001b[0mkey\u001b[0m\u001b[0;34m)\u001b[0m\u001b[0;34m\u001b[0m\u001b[0;34m\u001b[0m\u001b[0m\n\u001b[0m\u001b[1;32m   2898\u001b[0m             \u001b[0;32mexcept\u001b[0m \u001b[0mKeyError\u001b[0m\u001b[0;34m:\u001b[0m\u001b[0;34m\u001b[0m\u001b[0;34m\u001b[0m\u001b[0m\n",
      "\u001b[0;32mpandas/_libs/index.pyx\u001b[0m in \u001b[0;36mpandas._libs.index.IndexEngine.get_loc\u001b[0;34m()\u001b[0m\n",
      "\u001b[0;32mpandas/_libs/index.pyx\u001b[0m in \u001b[0;36mpandas._libs.index.IndexEngine.get_loc\u001b[0;34m()\u001b[0m\n",
      "\u001b[0;32mpandas/_libs/hashtable_class_helper.pxi\u001b[0m in \u001b[0;36mpandas._libs.hashtable.PyObjectHashTable.get_item\u001b[0;34m()\u001b[0m\n",
      "\u001b[0;32mpandas/_libs/hashtable_class_helper.pxi\u001b[0m in \u001b[0;36mpandas._libs.hashtable.PyObjectHashTable.get_item\u001b[0;34m()\u001b[0m\n",
      "\u001b[0;31mKeyError\u001b[0m: 'unmasked_symbolic'",
      "\nDuring handling of the above exception, another exception occurred:\n",
      "\u001b[0;31mKeyError\u001b[0m                                  Traceback (most recent call last)",
      "\u001b[0;32m<ipython-input-673-7d35a544b5c3>\u001b[0m in \u001b[0;36m<module>\u001b[0;34m()\u001b[0m\n\u001b[0;32m----> 1\u001b[0;31m \u001b[0;34m(\u001b[0m\u001b[0mcomparison7\u001b[0m\u001b[0;34m[\u001b[0m\u001b[0;34m'unmasked_symbolic'\u001b[0m\u001b[0;34m]\u001b[0m\u001b[0;34m[\u001b[0m\u001b[0;34m'Q'\u001b[0m\u001b[0;34m]\u001b[0m \u001b[0;34m-\u001b[0m \u001b[0mcomparison7\u001b[0m\u001b[0;34m[\u001b[0m\u001b[0;34m'masked_symbolic'\u001b[0m\u001b[0;34m]\u001b[0m\u001b[0;34m[\u001b[0m\u001b[0;34m'Q'\u001b[0m\u001b[0;34m]\u001b[0m\u001b[0;34m)\u001b[0m \u001b[0;34m/\u001b[0m \u001b[0mcomparison7\u001b[0m\u001b[0;34m[\u001b[0m\u001b[0;34m'unmasked_symbolic'\u001b[0m\u001b[0;34m]\u001b[0m\u001b[0;34m[\u001b[0m\u001b[0;34m'Q'\u001b[0m\u001b[0;34m]\u001b[0m\u001b[0;34m\u001b[0m\u001b[0;34m\u001b[0m\u001b[0m\n\u001b[0m",
      "\u001b[0;32m/usr/lib64/python3.8/site-packages/pandas/core/frame.py\u001b[0m in \u001b[0;36m__getitem__\u001b[0;34m(self, key)\u001b[0m\n\u001b[1;32m   2993\u001b[0m             \u001b[0;32mif\u001b[0m \u001b[0mself\u001b[0m\u001b[0;34m.\u001b[0m\u001b[0mcolumns\u001b[0m\u001b[0;34m.\u001b[0m\u001b[0mnlevels\u001b[0m \u001b[0;34m>\u001b[0m \u001b[0;36m1\u001b[0m\u001b[0;34m:\u001b[0m\u001b[0;34m\u001b[0m\u001b[0;34m\u001b[0m\u001b[0m\n\u001b[1;32m   2994\u001b[0m                 \u001b[0;32mreturn\u001b[0m \u001b[0mself\u001b[0m\u001b[0;34m.\u001b[0m\u001b[0m_getitem_multilevel\u001b[0m\u001b[0;34m(\u001b[0m\u001b[0mkey\u001b[0m\u001b[0;34m)\u001b[0m\u001b[0;34m\u001b[0m\u001b[0;34m\u001b[0m\u001b[0m\n\u001b[0;32m-> 2995\u001b[0;31m             \u001b[0mindexer\u001b[0m \u001b[0;34m=\u001b[0m \u001b[0mself\u001b[0m\u001b[0;34m.\u001b[0m\u001b[0mcolumns\u001b[0m\u001b[0;34m.\u001b[0m\u001b[0mget_loc\u001b[0m\u001b[0;34m(\u001b[0m\u001b[0mkey\u001b[0m\u001b[0;34m)\u001b[0m\u001b[0;34m\u001b[0m\u001b[0;34m\u001b[0m\u001b[0m\n\u001b[0m\u001b[1;32m   2996\u001b[0m             \u001b[0;32mif\u001b[0m \u001b[0mis_integer\u001b[0m\u001b[0;34m(\u001b[0m\u001b[0mindexer\u001b[0m\u001b[0;34m)\u001b[0m\u001b[0;34m:\u001b[0m\u001b[0;34m\u001b[0m\u001b[0;34m\u001b[0m\u001b[0m\n\u001b[1;32m   2997\u001b[0m                 \u001b[0mindexer\u001b[0m \u001b[0;34m=\u001b[0m \u001b[0;34m[\u001b[0m\u001b[0mindexer\u001b[0m\u001b[0;34m]\u001b[0m\u001b[0;34m\u001b[0m\u001b[0;34m\u001b[0m\u001b[0m\n",
      "\u001b[0;32m/usr/lib64/python3.8/site-packages/pandas/core/indexes/base.py\u001b[0m in \u001b[0;36mget_loc\u001b[0;34m(self, key, method, tolerance)\u001b[0m\n\u001b[1;32m   2897\u001b[0m                 \u001b[0;32mreturn\u001b[0m \u001b[0mself\u001b[0m\u001b[0;34m.\u001b[0m\u001b[0m_engine\u001b[0m\u001b[0;34m.\u001b[0m\u001b[0mget_loc\u001b[0m\u001b[0;34m(\u001b[0m\u001b[0mkey\u001b[0m\u001b[0;34m)\u001b[0m\u001b[0;34m\u001b[0m\u001b[0;34m\u001b[0m\u001b[0m\n\u001b[1;32m   2898\u001b[0m             \u001b[0;32mexcept\u001b[0m \u001b[0mKeyError\u001b[0m\u001b[0;34m:\u001b[0m\u001b[0;34m\u001b[0m\u001b[0;34m\u001b[0m\u001b[0m\n\u001b[0;32m-> 2899\u001b[0;31m                 \u001b[0;32mreturn\u001b[0m \u001b[0mself\u001b[0m\u001b[0;34m.\u001b[0m\u001b[0m_engine\u001b[0m\u001b[0;34m.\u001b[0m\u001b[0mget_loc\u001b[0m\u001b[0;34m(\u001b[0m\u001b[0mself\u001b[0m\u001b[0;34m.\u001b[0m\u001b[0m_maybe_cast_indexer\u001b[0m\u001b[0;34m(\u001b[0m\u001b[0mkey\u001b[0m\u001b[0;34m)\u001b[0m\u001b[0;34m)\u001b[0m\u001b[0;34m\u001b[0m\u001b[0;34m\u001b[0m\u001b[0m\n\u001b[0m\u001b[1;32m   2900\u001b[0m         \u001b[0mindexer\u001b[0m \u001b[0;34m=\u001b[0m \u001b[0mself\u001b[0m\u001b[0;34m.\u001b[0m\u001b[0mget_indexer\u001b[0m\u001b[0;34m(\u001b[0m\u001b[0;34m[\u001b[0m\u001b[0mkey\u001b[0m\u001b[0;34m]\u001b[0m\u001b[0;34m,\u001b[0m \u001b[0mmethod\u001b[0m\u001b[0;34m=\u001b[0m\u001b[0mmethod\u001b[0m\u001b[0;34m,\u001b[0m \u001b[0mtolerance\u001b[0m\u001b[0;34m=\u001b[0m\u001b[0mtolerance\u001b[0m\u001b[0;34m)\u001b[0m\u001b[0;34m\u001b[0m\u001b[0;34m\u001b[0m\u001b[0m\n\u001b[1;32m   2901\u001b[0m         \u001b[0;32mif\u001b[0m \u001b[0mindexer\u001b[0m\u001b[0;34m.\u001b[0m\u001b[0mndim\u001b[0m \u001b[0;34m>\u001b[0m \u001b[0;36m1\u001b[0m \u001b[0;32mor\u001b[0m \u001b[0mindexer\u001b[0m\u001b[0;34m.\u001b[0m\u001b[0msize\u001b[0m \u001b[0;34m>\u001b[0m \u001b[0;36m1\u001b[0m\u001b[0;34m:\u001b[0m\u001b[0;34m\u001b[0m\u001b[0;34m\u001b[0m\u001b[0m\n",
      "\u001b[0;32mpandas/_libs/index.pyx\u001b[0m in \u001b[0;36mpandas._libs.index.IndexEngine.get_loc\u001b[0;34m()\u001b[0m\n",
      "\u001b[0;32mpandas/_libs/index.pyx\u001b[0m in \u001b[0;36mpandas._libs.index.IndexEngine.get_loc\u001b[0;34m()\u001b[0m\n",
      "\u001b[0;32mpandas/_libs/hashtable_class_helper.pxi\u001b[0m in \u001b[0;36mpandas._libs.hashtable.PyObjectHashTable.get_item\u001b[0;34m()\u001b[0m\n",
      "\u001b[0;32mpandas/_libs/hashtable_class_helper.pxi\u001b[0m in \u001b[0;36mpandas._libs.hashtable.PyObjectHashTable.get_item\u001b[0;34m()\u001b[0m\n",
      "\u001b[0;31mKeyError\u001b[0m: 'unmasked_symbolic'"
     ]
    }
   ],
   "source": [
    "(comparison7['unmasked_symbolic']['Q'] - comparison7['masked_symbolic']['Q']) / comparison7['unmasked_symbolic']['Q']"
   ]
  },
  {
   "cell_type": "code",
   "execution_count": null,
   "metadata": {},
   "outputs": [],
   "source": []
  },
  {
   "cell_type": "code",
   "execution_count": 58,
   "metadata": {
    "collapsed": true,
    "jupyter": {
     "outputs_hidden": true
    }
   },
   "outputs": [
    {
     "data": {
      "text/plain": [
       "<matplotlib.axes._subplots.AxesSubplot at 0x7f170b4c1340>"
      ]
     },
     "execution_count": 58,
     "metadata": {},
     "output_type": "execute_result"
    },
    {
     "data": {
      "image/png": "[encoded data removed]",
      "text/plain": [
       "<Figure size 432x288 with 1 Axes>"
      ]
     },
     "metadata": {
      "needs_background": "light"
     },
     "output_type": "display_data"
    }
   ],
   "source": [
    "p = comparison6[cols[:-1]].plot(\n",
    "                    kind='barh', stacked=True, grid=False,\n",
    "                     color=rearranged_colors)\n",
    "p"
   ]
  },
  {
   "cell_type": "code",
   "execution_count": 28,
   "metadata": {},
   "outputs": [
    {
     "data": {
      "text/html": [
       "<div>\n",
       "<style scoped>\n",
       "    .dataframe tbody tr th:only-of-type {\n",
       "        vertical-align: middle;\n",
       "    }\n",
       "\n",
       "    .dataframe tbody tr th {\n",
       "        vertical-align: top;\n",
       "    }\n",
       "\n",
       "    .dataframe thead th {\n",
       "        text-align: right;\n",
       "    }\n",
       "</style>\n",
       "<table border=\"1\" class=\"dataframe\">\n",
       "  <thead>\n",
       "    <tr style=\"text-align: right;\">\n",
       "      <th></th>\n",
       "      <th>upfront_unmasked</th>\n",
       "      <th>unmasked</th>\n",
       "      <th>symbolic_unmasked</th>\n",
       "      <th>symbolic_masked</th>\n",
       "    </tr>\n",
       "  </thead>\n",
       "  <tbody>\n",
       "    <tr>\n",
       "      <th>Flow*</th>\n",
       "      <td>82.258631</td>\n",
       "      <td>79.551850</td>\n",
       "      <td>78.870518</td>\n",
       "      <td>78.083259</td>\n",
       "    </tr>\n",
       "    <tr>\n",
       "      <th>unpreconditioning</th>\n",
       "      <td>77.629671</td>\n",
       "      <td>0.000000</td>\n",
       "      <td>0.000000</td>\n",
       "      <td>0.000000</td>\n",
       "    </tr>\n",
       "    <tr>\n",
       "      <th>P</th>\n",
       "      <td>2.871566</td>\n",
       "      <td>28.578011</td>\n",
       "      <td>21.243604</td>\n",
       "      <td>6.771044</td>\n",
       "    </tr>\n",
       "    <tr>\n",
       "      <th>Q</th>\n",
       "      <td>6.497924</td>\n",
       "      <td>67.533209</td>\n",
       "      <td>237.785437</td>\n",
       "      <td>54.428931</td>\n",
       "    </tr>\n",
       "    <tr>\n",
       "      <th>G(P | G(Q))</th>\n",
       "      <td>9.463389</td>\n",
       "      <td>96.202800</td>\n",
       "      <td>259.128790</td>\n",
       "      <td>61.303555</td>\n",
       "    </tr>\n",
       "    <tr>\n",
       "      <th>tentative eval</th>\n",
       "      <td>0.000000</td>\n",
       "      <td>3.073284</td>\n",
       "      <td>3.592893</td>\n",
       "      <td>0.646078</td>\n",
       "    </tr>\n",
       "    <tr>\n",
       "      <th>eval</th>\n",
       "      <td>4.841570</td>\n",
       "      <td>3.833150</td>\n",
       "      <td>2.413262</td>\n",
       "      <td>0.617105</td>\n",
       "    </tr>\n",
       "    <tr>\n",
       "      <th>root detection</th>\n",
       "      <td>4.310877</td>\n",
       "      <td>5.651744</td>\n",
       "      <td>0.037560</td>\n",
       "      <td>0.013074</td>\n",
       "    </tr>\n",
       "    <tr>\n",
       "      <th>composing flowpipe</th>\n",
       "      <td>77.574421</td>\n",
       "      <td>83.307537</td>\n",
       "      <td>58.222266</td>\n",
       "      <td>13.728399</td>\n",
       "    </tr>\n",
       "    <tr>\n",
       "      <th>composing atomic</th>\n",
       "      <td>0.021429</td>\n",
       "      <td>0.028341</td>\n",
       "      <td>193.635825</td>\n",
       "      <td>45.798945</td>\n",
       "    </tr>\n",
       "    <tr>\n",
       "      <th>Total</th>\n",
       "      <td>169.491295</td>\n",
       "      <td>175.894812</td>\n",
       "      <td>338.123532</td>\n",
       "      <td>139.507228</td>\n",
       "    </tr>\n",
       "  </tbody>\n",
       "</table>\n",
       "</div>"
      ],
      "text/plain": [
       "                    upfront_unmasked    unmasked  symbolic_unmasked  \\\n",
       "Flow*                      82.258631   79.551850          78.870518   \n",
       "unpreconditioning          77.629671    0.000000           0.000000   \n",
       "P                           2.871566   28.578011          21.243604   \n",
       "Q                           6.497924   67.533209         237.785437   \n",
       "G(P | G(Q))                 9.463389   96.202800         259.128790   \n",
       "tentative eval              0.000000    3.073284           3.592893   \n",
       "eval                        4.841570    3.833150           2.413262   \n",
       "root detection              4.310877    5.651744           0.037560   \n",
       "composing flowpipe         77.574421   83.307537          58.222266   \n",
       "composing atomic            0.021429    0.028341         193.635825   \n",
       "Total                     169.491295  175.894812         338.123532   \n",
       "\n",
       "                    symbolic_masked  \n",
       "Flow*                     78.083259  \n",
       "unpreconditioning          0.000000  \n",
       "P                          6.771044  \n",
       "Q                         54.428931  \n",
       "G(P | G(Q))               61.303555  \n",
       "tentative eval             0.646078  \n",
       "eval                       0.617105  \n",
       "root detection             0.013074  \n",
       "composing flowpipe        13.728399  \n",
       "composing atomic          45.798945  \n",
       "Total                    139.507228  "
      ]
     },
     "execution_count": 28,
     "metadata": {},
     "output_type": "execute_result"
    }
   ],
   "source": [
    "comparison.loc[:,chosen_columns]"
   ]
  },
  {
   "cell_type": "code",
   "execution_count": 29,
   "metadata": {},
   "outputs": [],
   "source": [
    "p.get_figure().savefig('images/comparison-analysis7-bar-chart-2.pdf')"
   ]
  },
  {
   "cell_type": "code",
   "execution_count": 30,
   "metadata": {},
   "outputs": [],
   "source": [
    "comparison5 = comparison6.copy()"
   ]
  },
  {
   "cell_type": "code",
   "execution_count": 31,
   "metadata": {},
   "outputs": [
    {
     "data": {
      "text/html": [
       "<div>\n",
       "<style scoped>\n",
       "    .dataframe tbody tr th:only-of-type {\n",
       "        vertical-align: middle;\n",
       "    }\n",
       "\n",
       "    .dataframe tbody tr th {\n",
       "        vertical-align: top;\n",
       "    }\n",
       "\n",
       "    .dataframe thead th {\n",
       "        text-align: right;\n",
       "    }\n",
       "</style>\n",
       "<table border=\"1\" class=\"dataframe\">\n",
       "  <thead>\n",
       "    <tr style=\"text-align: right;\">\n",
       "      <th></th>\n",
       "      <th>Flow*</th>\n",
       "      <th>G(P | G(Q))</th>\n",
       "    </tr>\n",
       "  </thead>\n",
       "  <tbody>\n",
       "    <tr>\n",
       "      <th>upfront_symbolic_masked</th>\n",
       "      <td>77.704968</td>\n",
       "      <td>25.222963</td>\n",
       "    </tr>\n",
       "    <tr>\n",
       "      <th>symbolic_masked</th>\n",
       "      <td>78.083259</td>\n",
       "      <td>61.303555</td>\n",
       "    </tr>\n",
       "    <tr>\n",
       "      <th>upfront_masked</th>\n",
       "      <td>82.934898</td>\n",
       "      <td>1.853803</td>\n",
       "    </tr>\n",
       "    <tr>\n",
       "      <th>masked</th>\n",
       "      <td>87.898530</td>\n",
       "      <td>48.431379</td>\n",
       "    </tr>\n",
       "    <tr>\n",
       "      <th>upfront_symbolic_unmasked</th>\n",
       "      <td>80.336791</td>\n",
       "      <td>117.882873</td>\n",
       "    </tr>\n",
       "    <tr>\n",
       "      <th>symbolic_unmasked</th>\n",
       "      <td>78.870518</td>\n",
       "      <td>259.128790</td>\n",
       "    </tr>\n",
       "    <tr>\n",
       "      <th>upfront_unmasked</th>\n",
       "      <td>82.258631</td>\n",
       "      <td>9.463389</td>\n",
       "    </tr>\n",
       "    <tr>\n",
       "      <th>unmasked</th>\n",
       "      <td>79.551850</td>\n",
       "      <td>96.202800</td>\n",
       "    </tr>\n",
       "  </tbody>\n",
       "</table>\n",
       "</div>"
      ],
      "text/plain": [
       "                               Flow*  G(P | G(Q))\n",
       "upfront_symbolic_masked    77.704968    25.222963\n",
       "symbolic_masked            78.083259    61.303555\n",
       "upfront_masked             82.934898     1.853803\n",
       "masked                     87.898530    48.431379\n",
       "upfront_symbolic_unmasked  80.336791   117.882873\n",
       "symbolic_unmasked          78.870518   259.128790\n",
       "upfront_unmasked           82.258631     9.463389\n",
       "unmasked                   79.551850    96.202800"
      ]
     },
     "execution_count": 31,
     "metadata": {},
     "output_type": "execute_result"
    }
   ],
   "source": [
    "comparison.loc[['Flow*', 'G(P | G(Q))'], :].transpose()"
   ]
  },
  {
   "cell_type": "code",
   "execution_count": 32,
   "metadata": {},
   "outputs": [
    {
     "data": {
      "text/plain": [
       "masked                       0.245319\n",
       "symbolic_masked              0.223994\n",
       "symbolic_unmasked            0.223973\n",
       "unmasked                     0.231742\n",
       "upfront_masked               0.238025\n",
       "upfront_symbolic_masked      0.228357\n",
       "upfront_symbolic_unmasked    0.217138\n",
       "upfront_unmasked             0.233503\n",
       "dtype: float64"
      ]
     },
     "execution_count": 32,
     "metadata": {},
     "output_type": "execute_result"
    }
   ],
   "source": [
    "rem = comparison.loc[['Total'], :].transpose().sum(axis=1) - comparison6.sum(axis=1)\n",
    "rem"
   ]
  },
  {
   "cell_type": "code",
   "execution_count": 33,
   "metadata": {},
   "outputs": [],
   "source": [
    "comparison6.loc[:,'Remainder'] = rem"
   ]
  },
  {
   "cell_type": "code",
   "execution_count": 34,
   "metadata": {},
   "outputs": [
    {
     "data": {
      "text/html": [
       "<div>\n",
       "<style scoped>\n",
       "    .dataframe tbody tr th:only-of-type {\n",
       "        vertical-align: middle;\n",
       "    }\n",
       "\n",
       "    .dataframe tbody tr th {\n",
       "        vertical-align: top;\n",
       "    }\n",
       "\n",
       "    .dataframe thead th {\n",
       "        text-align: right;\n",
       "    }\n",
       "</style>\n",
       "<table border=\"1\" class=\"dataframe\">\n",
       "  <thead>\n",
       "    <tr style=\"text-align: right;\">\n",
       "      <th></th>\n",
       "      <th>Flow*</th>\n",
       "      <th>unpreconditioning</th>\n",
       "      <th>P</th>\n",
       "      <th>Q</th>\n",
       "      <th>Remainder</th>\n",
       "    </tr>\n",
       "  </thead>\n",
       "  <tbody>\n",
       "    <tr>\n",
       "      <th>masked</th>\n",
       "      <td>87.898530</td>\n",
       "      <td>0.000000</td>\n",
       "      <td>9.285413</td>\n",
       "      <td>39.050409</td>\n",
       "      <td>0.245319</td>\n",
       "    </tr>\n",
       "    <tr>\n",
       "      <th>symbolic_masked</th>\n",
       "      <td>78.083259</td>\n",
       "      <td>0.000000</td>\n",
       "      <td>6.771044</td>\n",
       "      <td>54.428931</td>\n",
       "      <td>0.223994</td>\n",
       "    </tr>\n",
       "    <tr>\n",
       "      <th>symbolic_unmasked</th>\n",
       "      <td>78.870518</td>\n",
       "      <td>0.000000</td>\n",
       "      <td>21.243604</td>\n",
       "      <td>237.785437</td>\n",
       "      <td>0.223973</td>\n",
       "    </tr>\n",
       "    <tr>\n",
       "      <th>unmasked</th>\n",
       "      <td>79.551850</td>\n",
       "      <td>0.000000</td>\n",
       "      <td>28.578011</td>\n",
       "      <td>67.533209</td>\n",
       "      <td>0.231742</td>\n",
       "    </tr>\n",
       "    <tr>\n",
       "      <th>upfront_masked</th>\n",
       "      <td>82.934898</td>\n",
       "      <td>79.827351</td>\n",
       "      <td>0.733038</td>\n",
       "      <td>1.026020</td>\n",
       "      <td>0.238025</td>\n",
       "    </tr>\n",
       "    <tr>\n",
       "      <th>upfront_symbolic_masked</th>\n",
       "      <td>77.704968</td>\n",
       "      <td>67.341991</td>\n",
       "      <td>0.429924</td>\n",
       "      <td>24.689693</td>\n",
       "      <td>0.228357</td>\n",
       "    </tr>\n",
       "    <tr>\n",
       "      <th>upfront_symbolic_unmasked</th>\n",
       "      <td>80.336791</td>\n",
       "      <td>66.905820</td>\n",
       "      <td>1.816989</td>\n",
       "      <td>115.969380</td>\n",
       "      <td>0.217138</td>\n",
       "    </tr>\n",
       "    <tr>\n",
       "      <th>upfront_unmasked</th>\n",
       "      <td>82.258631</td>\n",
       "      <td>77.629671</td>\n",
       "      <td>2.871566</td>\n",
       "      <td>6.497924</td>\n",
       "      <td>0.233503</td>\n",
       "    </tr>\n",
       "  </tbody>\n",
       "</table>\n",
       "</div>"
      ],
      "text/plain": [
       "                               Flow*  unpreconditioning          P  \\\n",
       "masked                     87.898530           0.000000   9.285413   \n",
       "symbolic_masked            78.083259           0.000000   6.771044   \n",
       "symbolic_unmasked          78.870518           0.000000  21.243604   \n",
       "unmasked                   79.551850           0.000000  28.578011   \n",
       "upfront_masked             82.934898          79.827351   0.733038   \n",
       "upfront_symbolic_masked    77.704968          67.341991   0.429924   \n",
       "upfront_symbolic_unmasked  80.336791          66.905820   1.816989   \n",
       "upfront_unmasked           82.258631          77.629671   2.871566   \n",
       "\n",
       "                                    Q  Remainder  \n",
       "masked                      39.050409   0.245319  \n",
       "symbolic_masked             54.428931   0.223994  \n",
       "symbolic_unmasked          237.785437   0.223973  \n",
       "unmasked                    67.533209   0.231742  \n",
       "upfront_masked               1.026020   0.238025  \n",
       "upfront_symbolic_masked     24.689693   0.228357  \n",
       "upfront_symbolic_unmasked  115.969380   0.217138  \n",
       "upfront_unmasked             6.497924   0.233503  "
      ]
     },
     "execution_count": 34,
     "metadata": {},
     "output_type": "execute_result"
    }
   ],
   "source": [
    "comparison6"
   ]
  },
  {
   "cell_type": "code",
   "execution_count": 35,
   "metadata": {},
   "outputs": [],
   "source": [
    "comparison5.to_csv(\"data/comparison-remainder-analysis.csv\")"
   ]
  },
  {
   "cell_type": "code",
   "execution_count": 36,
   "metadata": {},
   "outputs": [
    {
     "data": {
      "text/plain": [
       "<matplotlib.axes._subplots.AxesSubplot at 0x7f170f9ed220>"
      ]
     },
     "execution_count": 36,
     "metadata": {},
     "output_type": "execute_result"
    },
    {
     "data": {
      "image/png": "[encoded data removed]",
      "text/plain": [
       "<Figure size 432x288 with 1 Axes>"
      ]
     },
     "metadata": {
      "needs_background": "light"
     },
     "output_type": "display_data"
    }
   ],
   "source": [
    "p = comparison5.plot(kind='barh', stacked=True, grid=False); p"
   ]
  },
  {
   "cell_type": "code",
   "execution_count": 37,
   "metadata": {},
   "outputs": [],
   "source": [
    "p.get_figure().savefig(\n",
    "    'images/key-comparison-analysis-bar-chart.pdf')"
   ]
  },
  {
   "cell_type": "code",
   "execution_count": 38,
   "metadata": {},
   "outputs": [],
   "source": [
    "comparison6 = comparison.loc[['Flow*', 'P', 'Q', 'Total'], :].transpose()"
   ]
  },
  {
   "cell_type": "code",
   "execution_count": 39,
   "metadata": {},
   "outputs": [
    {
     "data": {
      "text/html": [
       "<div>\n",
       "<style scoped>\n",
       "    .dataframe tbody tr th:only-of-type {\n",
       "        vertical-align: middle;\n",
       "    }\n",
       "\n",
       "    .dataframe tbody tr th {\n",
       "        vertical-align: top;\n",
       "    }\n",
       "\n",
       "    .dataframe thead th {\n",
       "        text-align: right;\n",
       "    }\n",
       "</style>\n",
       "<table border=\"1\" class=\"dataframe\">\n",
       "  <thead>\n",
       "    <tr style=\"text-align: right;\">\n",
       "      <th></th>\n",
       "      <th>Flow*</th>\n",
       "      <th>P</th>\n",
       "      <th>Q</th>\n",
       "      <th>Total</th>\n",
       "    </tr>\n",
       "  </thead>\n",
       "  <tbody>\n",
       "    <tr>\n",
       "      <th>upfront_symbolic_masked</th>\n",
       "      <td>77.704968</td>\n",
       "      <td>0.429924</td>\n",
       "      <td>24.689693</td>\n",
       "      <td>170.394933</td>\n",
       "    </tr>\n",
       "    <tr>\n",
       "      <th>symbolic_masked</th>\n",
       "      <td>78.083259</td>\n",
       "      <td>6.771044</td>\n",
       "      <td>54.428931</td>\n",
       "      <td>139.507228</td>\n",
       "    </tr>\n",
       "    <tr>\n",
       "      <th>upfront_masked</th>\n",
       "      <td>82.934898</td>\n",
       "      <td>0.733038</td>\n",
       "      <td>1.026020</td>\n",
       "      <td>164.759333</td>\n",
       "    </tr>\n",
       "    <tr>\n",
       "      <th>masked</th>\n",
       "      <td>87.898530</td>\n",
       "      <td>9.285413</td>\n",
       "      <td>39.050409</td>\n",
       "      <td>136.479671</td>\n",
       "    </tr>\n",
       "    <tr>\n",
       "      <th>upfront_symbolic_unmasked</th>\n",
       "      <td>80.336791</td>\n",
       "      <td>1.816989</td>\n",
       "      <td>115.969380</td>\n",
       "      <td>265.246118</td>\n",
       "    </tr>\n",
       "    <tr>\n",
       "      <th>symbolic_unmasked</th>\n",
       "      <td>78.870518</td>\n",
       "      <td>21.243604</td>\n",
       "      <td>237.785437</td>\n",
       "      <td>338.123532</td>\n",
       "    </tr>\n",
       "    <tr>\n",
       "      <th>upfront_unmasked</th>\n",
       "      <td>82.258631</td>\n",
       "      <td>2.871566</td>\n",
       "      <td>6.497924</td>\n",
       "      <td>169.491295</td>\n",
       "    </tr>\n",
       "    <tr>\n",
       "      <th>unmasked</th>\n",
       "      <td>79.551850</td>\n",
       "      <td>28.578011</td>\n",
       "      <td>67.533209</td>\n",
       "      <td>175.894812</td>\n",
       "    </tr>\n",
       "  </tbody>\n",
       "</table>\n",
       "</div>"
      ],
      "text/plain": [
       "                               Flow*          P           Q       Total\n",
       "upfront_symbolic_masked    77.704968   0.429924   24.689693  170.394933\n",
       "symbolic_masked            78.083259   6.771044   54.428931  139.507228\n",
       "upfront_masked             82.934898   0.733038    1.026020  164.759333\n",
       "masked                     87.898530   9.285413   39.050409  136.479671\n",
       "upfront_symbolic_unmasked  80.336791   1.816989  115.969380  265.246118\n",
       "symbolic_unmasked          78.870518  21.243604  237.785437  338.123532\n",
       "upfront_unmasked           82.258631   2.871566    6.497924  169.491295\n",
       "unmasked                   79.551850  28.578011   67.533209  175.894812"
      ]
     },
     "execution_count": 39,
     "metadata": {},
     "output_type": "execute_result"
    }
   ],
   "source": [
    "comparison6"
   ]
  },
  {
   "cell_type": "code",
   "execution_count": 40,
   "metadata": {},
   "outputs": [],
   "source": [
    "comparison6.to_csv('data/key-comparison-analysis.csv')"
   ]
  },
  {
   "cell_type": "code",
   "execution_count": 41,
   "metadata": {},
   "outputs": [
    {
     "data": {
      "text/plain": [
       "Total    1.288799\n",
       "dtype: float64"
      ]
     },
     "execution_count": 41,
     "metadata": {},
     "output_type": "execute_result"
    }
   ],
   "source": [
    "comparison3.loc['unmasked',:] / comparison3.loc['masked',:]"
   ]
  },
  {
   "cell_type": "code",
   "execution_count": 42,
   "metadata": {},
   "outputs": [
    {
     "ename": "KeyError",
     "evalue": "'unmasked_no_symbolic'",
     "output_type": "error",
     "traceback": [
      "\u001b[0;31m---------------------------------------------------------------------------\u001b[0m",
      "\u001b[0;31mKeyError\u001b[0m                                  Traceback (most recent call last)",
      "\u001b[0;32m/usr/lib64/python3.8/site-packages/pandas/core/indexes/base.py\u001b[0m in \u001b[0;36mget_loc\u001b[0;34m(self, key, method, tolerance)\u001b[0m\n\u001b[1;32m   2896\u001b[0m             \u001b[0;32mtry\u001b[0m\u001b[0;34m:\u001b[0m\u001b[0;34m\u001b[0m\u001b[0;34m\u001b[0m\u001b[0m\n\u001b[0;32m-> 2897\u001b[0;31m                 \u001b[0;32mreturn\u001b[0m \u001b[0mself\u001b[0m\u001b[0;34m.\u001b[0m\u001b[0m_engine\u001b[0m\u001b[0;34m.\u001b[0m\u001b[0mget_loc\u001b[0m\u001b[0;34m(\u001b[0m\u001b[0mkey\u001b[0m\u001b[0;34m)\u001b[0m\u001b[0;34m\u001b[0m\u001b[0;34m\u001b[0m\u001b[0m\n\u001b[0m\u001b[1;32m   2898\u001b[0m             \u001b[0;32mexcept\u001b[0m \u001b[0mKeyError\u001b[0m\u001b[0;34m:\u001b[0m\u001b[0;34m\u001b[0m\u001b[0;34m\u001b[0m\u001b[0m\n",
      "\u001b[0;32mpandas/_libs/index.pyx\u001b[0m in \u001b[0;36mpandas._libs.index.IndexEngine.get_loc\u001b[0;34m()\u001b[0m\n",
      "\u001b[0;32mpandas/_libs/index.pyx\u001b[0m in \u001b[0;36mpandas._libs.index.IndexEngine.get_loc\u001b[0;34m()\u001b[0m\n",
      "\u001b[0;32mpandas/_libs/hashtable_class_helper.pxi\u001b[0m in \u001b[0;36mpandas._libs.hashtable.PyObjectHashTable.get_item\u001b[0;34m()\u001b[0m\n",
      "\u001b[0;32mpandas/_libs/hashtable_class_helper.pxi\u001b[0m in \u001b[0;36mpandas._libs.hashtable.PyObjectHashTable.get_item\u001b[0;34m()\u001b[0m\n",
      "\u001b[0;31mKeyError\u001b[0m: 'unmasked_no_symbolic'",
      "\nDuring handling of the above exception, another exception occurred:\n",
      "\u001b[0;31mKeyError\u001b[0m                                  Traceback (most recent call last)",
      "\u001b[0;32m<ipython-input-42-1cf96081598f>\u001b[0m in \u001b[0;36m<module>\u001b[0;34m()\u001b[0m\n\u001b[0;32m----> 1\u001b[0;31m \u001b[0mcomparison3\u001b[0m\u001b[0;34m.\u001b[0m\u001b[0mloc\u001b[0m\u001b[0;34m[\u001b[0m\u001b[0;34m'unmasked_no_symbolic'\u001b[0m\u001b[0;34m,\u001b[0m\u001b[0;34m:\u001b[0m\u001b[0;34m]\u001b[0m \u001b[0;34m/\u001b[0m \u001b[0mcomparison3\u001b[0m\u001b[0;34m.\u001b[0m\u001b[0mloc\u001b[0m\u001b[0;34m[\u001b[0m\u001b[0;34m'masked_no_symbolic'\u001b[0m\u001b[0;34m,\u001b[0m\u001b[0;34m:\u001b[0m\u001b[0;34m]\u001b[0m\u001b[0;34m\u001b[0m\u001b[0;34m\u001b[0m\u001b[0m\n\u001b[0m",
      "\u001b[0;32m/usr/lib64/python3.8/site-packages/pandas/core/indexing.py\u001b[0m in \u001b[0;36m__getitem__\u001b[0;34m(self, key)\u001b[0m\n\u001b[1;32m   1416\u001b[0m                 \u001b[0;32mexcept\u001b[0m \u001b[0;34m(\u001b[0m\u001b[0mKeyError\u001b[0m\u001b[0;34m,\u001b[0m \u001b[0mIndexError\u001b[0m\u001b[0;34m,\u001b[0m \u001b[0mAttributeError\u001b[0m\u001b[0;34m)\u001b[0m\u001b[0;34m:\u001b[0m\u001b[0;34m\u001b[0m\u001b[0;34m\u001b[0m\u001b[0m\n\u001b[1;32m   1417\u001b[0m                     \u001b[0;32mpass\u001b[0m\u001b[0;34m\u001b[0m\u001b[0;34m\u001b[0m\u001b[0m\n\u001b[0;32m-> 1418\u001b[0;31m             \u001b[0;32mreturn\u001b[0m \u001b[0mself\u001b[0m\u001b[0;34m.\u001b[0m\u001b[0m_getitem_tuple\u001b[0m\u001b[0;34m(\u001b[0m\u001b[0mkey\u001b[0m\u001b[0;34m)\u001b[0m\u001b[0;34m\u001b[0m\u001b[0;34m\u001b[0m\u001b[0m\n\u001b[0m\u001b[1;32m   1419\u001b[0m         \u001b[0;32melse\u001b[0m\u001b[0;34m:\u001b[0m\u001b[0;34m\u001b[0m\u001b[0;34m\u001b[0m\u001b[0m\n\u001b[1;32m   1420\u001b[0m             \u001b[0;31m# we by definition only have the 0th axis\u001b[0m\u001b[0;34m\u001b[0m\u001b[0;34m\u001b[0m\u001b[0;34m\u001b[0m\u001b[0m\n",
      "\u001b[0;32m/usr/lib64/python3.8/site-packages/pandas/core/indexing.py\u001b[0m in \u001b[0;36m_getitem_tuple\u001b[0;34m(self, tup)\u001b[0m\n\u001b[1;32m    803\u001b[0m     \u001b[0;32mdef\u001b[0m \u001b[0m_getitem_tuple\u001b[0m\u001b[0;34m(\u001b[0m\u001b[0mself\u001b[0m\u001b[0;34m,\u001b[0m \u001b[0mtup\u001b[0m\u001b[0;34m)\u001b[0m\u001b[0;34m:\u001b[0m\u001b[0;34m\u001b[0m\u001b[0;34m\u001b[0m\u001b[0m\n\u001b[1;32m    804\u001b[0m         \u001b[0;32mtry\u001b[0m\u001b[0;34m:\u001b[0m\u001b[0;34m\u001b[0m\u001b[0;34m\u001b[0m\u001b[0m\n\u001b[0;32m--> 805\u001b[0;31m             \u001b[0;32mreturn\u001b[0m \u001b[0mself\u001b[0m\u001b[0;34m.\u001b[0m\u001b[0m_getitem_lowerdim\u001b[0m\u001b[0;34m(\u001b[0m\u001b[0mtup\u001b[0m\u001b[0;34m)\u001b[0m\u001b[0;34m\u001b[0m\u001b[0;34m\u001b[0m\u001b[0m\n\u001b[0m\u001b[1;32m    806\u001b[0m         \u001b[0;32mexcept\u001b[0m \u001b[0mIndexingError\u001b[0m\u001b[0;34m:\u001b[0m\u001b[0;34m\u001b[0m\u001b[0;34m\u001b[0m\u001b[0m\n\u001b[1;32m    807\u001b[0m             \u001b[0;32mpass\u001b[0m\u001b[0;34m\u001b[0m\u001b[0;34m\u001b[0m\u001b[0m\n",
      "\u001b[0;32m/usr/lib64/python3.8/site-packages/pandas/core/indexing.py\u001b[0m in \u001b[0;36m_getitem_lowerdim\u001b[0;34m(self, tup)\u001b[0m\n\u001b[1;32m    927\u001b[0m         \u001b[0;32mfor\u001b[0m \u001b[0mi\u001b[0m\u001b[0;34m,\u001b[0m \u001b[0mkey\u001b[0m \u001b[0;32min\u001b[0m \u001b[0menumerate\u001b[0m\u001b[0;34m(\u001b[0m\u001b[0mtup\u001b[0m\u001b[0;34m)\u001b[0m\u001b[0;34m:\u001b[0m\u001b[0;34m\u001b[0m\u001b[0;34m\u001b[0m\u001b[0m\n\u001b[1;32m    928\u001b[0m             \u001b[0;32mif\u001b[0m \u001b[0mis_label_like\u001b[0m\u001b[0;34m(\u001b[0m\u001b[0mkey\u001b[0m\u001b[0;34m)\u001b[0m \u001b[0;32mor\u001b[0m \u001b[0misinstance\u001b[0m\u001b[0;34m(\u001b[0m\u001b[0mkey\u001b[0m\u001b[0;34m,\u001b[0m \u001b[0mtuple\u001b[0m\u001b[0;34m)\u001b[0m\u001b[0;34m:\u001b[0m\u001b[0;34m\u001b[0m\u001b[0;34m\u001b[0m\u001b[0m\n\u001b[0;32m--> 929\u001b[0;31m                 \u001b[0msection\u001b[0m \u001b[0;34m=\u001b[0m \u001b[0mself\u001b[0m\u001b[0;34m.\u001b[0m\u001b[0m_getitem_axis\u001b[0m\u001b[0;34m(\u001b[0m\u001b[0mkey\u001b[0m\u001b[0;34m,\u001b[0m \u001b[0maxis\u001b[0m\u001b[0;34m=\u001b[0m\u001b[0mi\u001b[0m\u001b[0;34m)\u001b[0m\u001b[0;34m\u001b[0m\u001b[0;34m\u001b[0m\u001b[0m\n\u001b[0m\u001b[1;32m    930\u001b[0m \u001b[0;34m\u001b[0m\u001b[0m\n\u001b[1;32m    931\u001b[0m                 \u001b[0;31m# we have yielded a scalar ?\u001b[0m\u001b[0;34m\u001b[0m\u001b[0;34m\u001b[0m\u001b[0;34m\u001b[0m\u001b[0m\n",
      "\u001b[0;32m/usr/lib64/python3.8/site-packages/pandas/core/indexing.py\u001b[0m in \u001b[0;36m_getitem_axis\u001b[0;34m(self, key, axis)\u001b[0m\n\u001b[1;32m   1848\u001b[0m         \u001b[0;31m# fall thru to straight lookup\u001b[0m\u001b[0;34m\u001b[0m\u001b[0;34m\u001b[0m\u001b[0;34m\u001b[0m\u001b[0m\n\u001b[1;32m   1849\u001b[0m         \u001b[0mself\u001b[0m\u001b[0;34m.\u001b[0m\u001b[0m_validate_key\u001b[0m\u001b[0;34m(\u001b[0m\u001b[0mkey\u001b[0m\u001b[0;34m,\u001b[0m \u001b[0maxis\u001b[0m\u001b[0;34m)\u001b[0m\u001b[0;34m\u001b[0m\u001b[0;34m\u001b[0m\u001b[0m\n\u001b[0;32m-> 1850\u001b[0;31m         \u001b[0;32mreturn\u001b[0m \u001b[0mself\u001b[0m\u001b[0;34m.\u001b[0m\u001b[0m_get_label\u001b[0m\u001b[0;34m(\u001b[0m\u001b[0mkey\u001b[0m\u001b[0;34m,\u001b[0m \u001b[0maxis\u001b[0m\u001b[0;34m=\u001b[0m\u001b[0maxis\u001b[0m\u001b[0;34m)\u001b[0m\u001b[0;34m\u001b[0m\u001b[0;34m\u001b[0m\u001b[0m\n\u001b[0m\u001b[1;32m   1851\u001b[0m \u001b[0;34m\u001b[0m\u001b[0m\n\u001b[1;32m   1852\u001b[0m \u001b[0;34m\u001b[0m\u001b[0m\n",
      "\u001b[0;32m/usr/lib64/python3.8/site-packages/pandas/core/indexing.py\u001b[0m in \u001b[0;36m_get_label\u001b[0;34m(self, label, axis)\u001b[0m\n\u001b[1;32m    158\u001b[0m             \u001b[0;32mraise\u001b[0m \u001b[0mIndexingError\u001b[0m\u001b[0;34m(\u001b[0m\u001b[0;34m\"no slices here, handle elsewhere\"\u001b[0m\u001b[0;34m)\u001b[0m\u001b[0;34m\u001b[0m\u001b[0;34m\u001b[0m\u001b[0m\n\u001b[1;32m    159\u001b[0m \u001b[0;34m\u001b[0m\u001b[0m\n\u001b[0;32m--> 160\u001b[0;31m         \u001b[0;32mreturn\u001b[0m \u001b[0mself\u001b[0m\u001b[0;34m.\u001b[0m\u001b[0mobj\u001b[0m\u001b[0;34m.\u001b[0m\u001b[0m_xs\u001b[0m\u001b[0;34m(\u001b[0m\u001b[0mlabel\u001b[0m\u001b[0;34m,\u001b[0m \u001b[0maxis\u001b[0m\u001b[0;34m=\u001b[0m\u001b[0maxis\u001b[0m\u001b[0;34m)\u001b[0m\u001b[0;34m\u001b[0m\u001b[0;34m\u001b[0m\u001b[0m\n\u001b[0m\u001b[1;32m    161\u001b[0m \u001b[0;34m\u001b[0m\u001b[0m\n\u001b[1;32m    162\u001b[0m     \u001b[0;32mdef\u001b[0m \u001b[0m_get_loc\u001b[0m\u001b[0;34m(\u001b[0m\u001b[0mself\u001b[0m\u001b[0;34m,\u001b[0m \u001b[0mkey\u001b[0m\u001b[0;34m:\u001b[0m \u001b[0mint\u001b[0m\u001b[0;34m,\u001b[0m \u001b[0maxis\u001b[0m\u001b[0;34m:\u001b[0m \u001b[0mint\u001b[0m\u001b[0;34m)\u001b[0m\u001b[0;34m:\u001b[0m\u001b[0;34m\u001b[0m\u001b[0;34m\u001b[0m\u001b[0m\n",
      "\u001b[0;32m/usr/lib64/python3.8/site-packages/pandas/core/generic.py\u001b[0m in \u001b[0;36mxs\u001b[0;34m(self, key, axis, level, drop_level)\u001b[0m\n\u001b[1;32m   3735\u001b[0m             \u001b[0mloc\u001b[0m\u001b[0;34m,\u001b[0m \u001b[0mnew_index\u001b[0m \u001b[0;34m=\u001b[0m \u001b[0mself\u001b[0m\u001b[0;34m.\u001b[0m\u001b[0mindex\u001b[0m\u001b[0;34m.\u001b[0m\u001b[0mget_loc_level\u001b[0m\u001b[0;34m(\u001b[0m\u001b[0mkey\u001b[0m\u001b[0;34m,\u001b[0m \u001b[0mdrop_level\u001b[0m\u001b[0;34m=\u001b[0m\u001b[0mdrop_level\u001b[0m\u001b[0;34m)\u001b[0m\u001b[0;34m\u001b[0m\u001b[0;34m\u001b[0m\u001b[0m\n\u001b[1;32m   3736\u001b[0m         \u001b[0;32melse\u001b[0m\u001b[0;34m:\u001b[0m\u001b[0;34m\u001b[0m\u001b[0;34m\u001b[0m\u001b[0m\n\u001b[0;32m-> 3737\u001b[0;31m             \u001b[0mloc\u001b[0m \u001b[0;34m=\u001b[0m \u001b[0mself\u001b[0m\u001b[0;34m.\u001b[0m\u001b[0mindex\u001b[0m\u001b[0;34m.\u001b[0m\u001b[0mget_loc\u001b[0m\u001b[0;34m(\u001b[0m\u001b[0mkey\u001b[0m\u001b[0;34m)\u001b[0m\u001b[0;34m\u001b[0m\u001b[0;34m\u001b[0m\u001b[0m\n\u001b[0m\u001b[1;32m   3738\u001b[0m \u001b[0;34m\u001b[0m\u001b[0m\n\u001b[1;32m   3739\u001b[0m             \u001b[0;32mif\u001b[0m \u001b[0misinstance\u001b[0m\u001b[0;34m(\u001b[0m\u001b[0mloc\u001b[0m\u001b[0;34m,\u001b[0m \u001b[0mnp\u001b[0m\u001b[0;34m.\u001b[0m\u001b[0mndarray\u001b[0m\u001b[0;34m)\u001b[0m\u001b[0;34m:\u001b[0m\u001b[0;34m\u001b[0m\u001b[0;34m\u001b[0m\u001b[0m\n",
      "\u001b[0;32m/usr/lib64/python3.8/site-packages/pandas/core/indexes/base.py\u001b[0m in \u001b[0;36mget_loc\u001b[0;34m(self, key, method, tolerance)\u001b[0m\n\u001b[1;32m   2897\u001b[0m                 \u001b[0;32mreturn\u001b[0m \u001b[0mself\u001b[0m\u001b[0;34m.\u001b[0m\u001b[0m_engine\u001b[0m\u001b[0;34m.\u001b[0m\u001b[0mget_loc\u001b[0m\u001b[0;34m(\u001b[0m\u001b[0mkey\u001b[0m\u001b[0;34m)\u001b[0m\u001b[0;34m\u001b[0m\u001b[0;34m\u001b[0m\u001b[0m\n\u001b[1;32m   2898\u001b[0m             \u001b[0;32mexcept\u001b[0m \u001b[0mKeyError\u001b[0m\u001b[0;34m:\u001b[0m\u001b[0;34m\u001b[0m\u001b[0;34m\u001b[0m\u001b[0m\n\u001b[0;32m-> 2899\u001b[0;31m                 \u001b[0;32mreturn\u001b[0m \u001b[0mself\u001b[0m\u001b[0;34m.\u001b[0m\u001b[0m_engine\u001b[0m\u001b[0;34m.\u001b[0m\u001b[0mget_loc\u001b[0m\u001b[0;34m(\u001b[0m\u001b[0mself\u001b[0m\u001b[0;34m.\u001b[0m\u001b[0m_maybe_cast_indexer\u001b[0m\u001b[0;34m(\u001b[0m\u001b[0mkey\u001b[0m\u001b[0;34m)\u001b[0m\u001b[0;34m)\u001b[0m\u001b[0;34m\u001b[0m\u001b[0;34m\u001b[0m\u001b[0m\n\u001b[0m\u001b[1;32m   2900\u001b[0m         \u001b[0mindexer\u001b[0m \u001b[0;34m=\u001b[0m \u001b[0mself\u001b[0m\u001b[0;34m.\u001b[0m\u001b[0mget_indexer\u001b[0m\u001b[0;34m(\u001b[0m\u001b[0;34m[\u001b[0m\u001b[0mkey\u001b[0m\u001b[0;34m]\u001b[0m\u001b[0;34m,\u001b[0m \u001b[0mmethod\u001b[0m\u001b[0;34m=\u001b[0m\u001b[0mmethod\u001b[0m\u001b[0;34m,\u001b[0m \u001b[0mtolerance\u001b[0m\u001b[0;34m=\u001b[0m\u001b[0mtolerance\u001b[0m\u001b[0;34m)\u001b[0m\u001b[0;34m\u001b[0m\u001b[0;34m\u001b[0m\u001b[0m\n\u001b[1;32m   2901\u001b[0m         \u001b[0;32mif\u001b[0m \u001b[0mindexer\u001b[0m\u001b[0;34m.\u001b[0m\u001b[0mndim\u001b[0m \u001b[0;34m>\u001b[0m \u001b[0;36m1\u001b[0m \u001b[0;32mor\u001b[0m \u001b[0mindexer\u001b[0m\u001b[0;34m.\u001b[0m\u001b[0msize\u001b[0m \u001b[0;34m>\u001b[0m \u001b[0;36m1\u001b[0m\u001b[0;34m:\u001b[0m\u001b[0;34m\u001b[0m\u001b[0;34m\u001b[0m\u001b[0m\n",
      "\u001b[0;32mpandas/_libs/index.pyx\u001b[0m in \u001b[0;36mpandas._libs.index.IndexEngine.get_loc\u001b[0;34m()\u001b[0m\n",
      "\u001b[0;32mpandas/_libs/index.pyx\u001b[0m in \u001b[0;36mpandas._libs.index.IndexEngine.get_loc\u001b[0;34m()\u001b[0m\n",
      "\u001b[0;32mpandas/_libs/hashtable_class_helper.pxi\u001b[0m in \u001b[0;36mpandas._libs.hashtable.PyObjectHashTable.get_item\u001b[0;34m()\u001b[0m\n",
      "\u001b[0;32mpandas/_libs/hashtable_class_helper.pxi\u001b[0m in \u001b[0;36mpandas._libs.hashtable.PyObjectHashTable.get_item\u001b[0;34m()\u001b[0m\n",
      "\u001b[0;31mKeyError\u001b[0m: 'unmasked_no_symbolic'"
     ]
    }
   ],
   "source": [
    "comparison3.loc['unmasked_no_symbolic',:] / comparison3.loc['masked_no_symbolic',:]"
   ]
  },
  {
   "cell_type": "code",
   "execution_count": null,
   "metadata": {},
   "outputs": [],
   "source": [
    "comparison3.loc['masked',:] / comparison3.loc['masked_no_symbolic',:]"
   ]
  },
  {
   "cell_type": "code",
   "execution_count": null,
   "metadata": {},
   "outputs": [],
   "source": [
    "comparison3.loc['unmasked',:] / comparison3.loc['unmasked_no_symbolic',:]"
   ]
  },
  {
   "cell_type": "code",
   "execution_count": null,
   "metadata": {},
   "outputs": [],
   "source": [
    "comparison3.loc['masked_symbolic_low_order',:] / comparison3.loc['masked_no_symbolic',:]"
   ]
  }
 ],
 "metadata": {
  "kernelspec": {
   "display_name": "Python 3",
   "language": "python",
   "name": "python3"
  },
  "language_info": {
   "codemirror_mode": {
    "name": "ipython",
    "version": 3
   },
   "file_extension": ".py",
   "mimetype": "text/x-python",
   "name": "python",
   "nbconvert_exporter": "python",
   "pygments_lexer": "ipython3",
   "version": "3.8.3"
  },
  "notify_time": "5"
 },
 "nbformat": 4,
 "nbformat_minor": 4
}
