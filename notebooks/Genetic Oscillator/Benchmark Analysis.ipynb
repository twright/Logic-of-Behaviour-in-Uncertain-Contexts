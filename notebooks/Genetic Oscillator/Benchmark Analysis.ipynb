{
 "cells": [
  {
   "cell_type": "code",
   "execution_count": 117,
   "metadata": {},
   "outputs": [],
   "source": [
    "%matplotlib inline\n",
    "import pandas as pd\n",
    "import pickle"
   ]
  },
  {
   "cell_type": "markdown",
   "metadata": {},
   "source": [
    "## Load results"
   ]
  },
  {
   "cell_type": "code",
   "execution_count": 118,
   "metadata": {},
   "outputs": [],
   "source": [
    "with open('data/benchmark_fixed_metadata1.pkl', 'rb') as f:\n",
    "    cols_full, cols_short, series = pickle.load(f)"
   ]
  },
  {
   "cell_type": "code",
   "execution_count": 119,
   "metadata": {},
   "outputs": [],
   "source": [
    "series_names = series\n",
    "# series_names = [\n",
    "#     'Masked',\n",
    "#     'Unmasked',\n",
    "#     'Masked R',\n",
    "#     'Unmasked R',\n",
    "# ]\n",
    "total_timess = {\n",
    "   s: pd.read_csv(f'data/benchmark_fixed_{s}1.csv')\n",
    "   for s in series \n",
    "}"
   ]
  },
  {
   "cell_type": "code",
   "execution_count": 120,
   "metadata": {},
   "outputs": [],
   "source": [
    "total_timess = {\n",
    "   s: d #[5:-5]\n",
    "   for s,d in total_timess.items()\n",
    "}"
   ]
  },
  {
   "cell_type": "markdown",
   "metadata": {},
   "source": [
    "## Raw results"
   ]
  },
  {
   "cell_type": "code",
   "execution_count": 121,
   "metadata": {},
   "outputs": [],
   "source": [
    "from ipywidgets import interact"
   ]
  },
  {
   "cell_type": "code",
   "execution_count": 122,
   "metadata": {},
   "outputs": [
    {
     "data": {
      "application/vnd.jupyter.widget-view+json": {
       "model_id": "6119a8df93974e0ea7f046c04e86495d",
       "version_major": 2,
       "version_minor": 0
      },
      "text/plain": [
       "interactive(children=(Dropdown(description='series', options=('upfront_symbolic_masked', 'symbolic_masked', 'u…"
      ]
     },
     "metadata": {},
     "output_type": "display_data"
    }
   ],
   "source": [
    "@interact\n",
    "def _(series=series):\n",
    "    return total_timess[series]"
   ]
  },
  {
   "cell_type": "markdown",
   "metadata": {},
   "source": [
    "## Comparison"
   ]
  },
  {
   "cell_type": "code",
   "execution_count": 123,
   "metadata": {},
   "outputs": [
    {
     "data": {
      "text/html": [
       "<div>\n",
       "<style scoped>\n",
       "    .dataframe tbody tr th:only-of-type {\n",
       "        vertical-align: middle;\n",
       "    }\n",
       "\n",
       "    .dataframe tbody tr th {\n",
       "        vertical-align: top;\n",
       "    }\n",
       "\n",
       "    .dataframe thead th {\n",
       "        text-align: right;\n",
       "    }\n",
       "</style>\n",
       "<table border=\"1\" class=\"dataframe\">\n",
       "  <thead>\n",
       "    <tr style=\"text-align: right;\">\n",
       "      <th></th>\n",
       "      <th>upfront_symbolic_masked</th>\n",
       "      <th>symbolic_masked</th>\n",
       "      <th>upfront_masked</th>\n",
       "      <th>masked</th>\n",
       "      <th>upfront_symbolic_unmasked</th>\n",
       "      <th>symbolic_unmasked</th>\n",
       "      <th>upfront_unmasked</th>\n",
       "      <th>unmasked</th>\n",
       "    </tr>\n",
       "  </thead>\n",
       "  <tbody>\n",
       "    <tr>\n",
       "      <th>Flow*</th>\n",
       "      <td>81.187494</td>\n",
       "      <td>80.489716</td>\n",
       "      <td>80.441029</td>\n",
       "      <td>81.401300</td>\n",
       "      <td>82.825334</td>\n",
       "      <td>83.012579</td>\n",
       "      <td>83.161750</td>\n",
       "      <td>83.429202</td>\n",
       "    </tr>\n",
       "    <tr>\n",
       "      <th>unpreconditioning</th>\n",
       "      <td>86.295687</td>\n",
       "      <td>0.000000</td>\n",
       "      <td>84.766920</td>\n",
       "      <td>0.000000</td>\n",
       "      <td>89.209895</td>\n",
       "      <td>0.000000</td>\n",
       "      <td>88.885618</td>\n",
       "      <td>0.000000</td>\n",
       "    </tr>\n",
       "    <tr>\n",
       "      <th>P</th>\n",
       "      <td>1.420911</td>\n",
       "      <td>11.897921</td>\n",
       "      <td>1.364311</td>\n",
       "      <td>13.283160</td>\n",
       "      <td>3.446221</td>\n",
       "      <td>13.596719</td>\n",
       "      <td>3.299969</td>\n",
       "      <td>14.740137</td>\n",
       "    </tr>\n",
       "    <tr>\n",
       "      <th>Q</th>\n",
       "      <td>32.897718</td>\n",
       "      <td>52.568261</td>\n",
       "      <td>1.759220</td>\n",
       "      <td>22.837894</td>\n",
       "      <td>123.921391</td>\n",
       "      <td>207.834582</td>\n",
       "      <td>8.457561</td>\n",
       "      <td>83.852503</td>\n",
       "    </tr>\n",
       "    <tr>\n",
       "      <th>G(P | G(Q))</th>\n",
       "      <td>34.693077</td>\n",
       "      <td>64.558119</td>\n",
       "      <td>3.220164</td>\n",
       "      <td>36.213173</td>\n",
       "      <td>127.463483</td>\n",
       "      <td>221.522790</td>\n",
       "      <td>11.857280</td>\n",
       "      <td>98.683027</td>\n",
       "    </tr>\n",
       "    <tr>\n",
       "      <th>tentative eval</th>\n",
       "      <td>0.000000</td>\n",
       "      <td>0.938931</td>\n",
       "      <td>0.000000</td>\n",
       "      <td>0.812681</td>\n",
       "      <td>0.000000</td>\n",
       "      <td>3.316007</td>\n",
       "      <td>0.000000</td>\n",
       "      <td>3.271274</td>\n",
       "    </tr>\n",
       "    <tr>\n",
       "      <th>eval</th>\n",
       "      <td>1.511095</td>\n",
       "      <td>0.879330</td>\n",
       "      <td>1.400281</td>\n",
       "      <td>0.931477</td>\n",
       "      <td>5.788979</td>\n",
       "      <td>2.691230</td>\n",
       "      <td>5.535693</td>\n",
       "      <td>2.809607</td>\n",
       "    </tr>\n",
       "    <tr>\n",
       "      <th>root detection</th>\n",
       "      <td>0.006042</td>\n",
       "      <td>0.011179</td>\n",
       "      <td>1.613351</td>\n",
       "      <td>1.831949</td>\n",
       "      <td>0.016764</td>\n",
       "      <td>0.022358</td>\n",
       "      <td>6.003341</td>\n",
       "      <td>6.559224</td>\n",
       "    </tr>\n",
       "    <tr>\n",
       "      <th>composing flowpipe</th>\n",
       "      <td>86.237632</td>\n",
       "      <td>30.538983</td>\n",
       "      <td>84.702059</td>\n",
       "      <td>32.407094</td>\n",
       "      <td>89.144196</td>\n",
       "      <td>83.827573</td>\n",
       "      <td>88.823893</td>\n",
       "      <td>85.677384</td>\n",
       "    </tr>\n",
       "    <tr>\n",
       "      <th>composing atomic</th>\n",
       "      <td>32.601292</td>\n",
       "      <td>31.866298</td>\n",
       "      <td>0.009045</td>\n",
       "      <td>0.013109</td>\n",
       "      <td>120.988771</td>\n",
       "      <td>130.185339</td>\n",
       "      <td>0.024263</td>\n",
       "      <td>0.033781</td>\n",
       "    </tr>\n",
       "    <tr>\n",
       "      <th>Total</th>\n",
       "      <td>202.301421</td>\n",
       "      <td>145.183930</td>\n",
       "      <td>168.555167</td>\n",
       "      <td>117.749694</td>\n",
       "      <td>299.626281</td>\n",
       "      <td>304.670659</td>\n",
       "      <td>184.032715</td>\n",
       "      <td>182.249256</td>\n",
       "    </tr>\n",
       "  </tbody>\n",
       "</table>\n",
       "</div>"
      ],
      "text/plain": [
       "                    upfront_symbolic_masked  symbolic_masked  upfront_masked  \\\n",
       "Flow*                             81.187494        80.489716       80.441029   \n",
       "unpreconditioning                 86.295687         0.000000       84.766920   \n",
       "P                                  1.420911        11.897921        1.364311   \n",
       "Q                                 32.897718        52.568261        1.759220   \n",
       "G(P | G(Q))                       34.693077        64.558119        3.220164   \n",
       "tentative eval                     0.000000         0.938931        0.000000   \n",
       "eval                               1.511095         0.879330        1.400281   \n",
       "root detection                     0.006042         0.011179        1.613351   \n",
       "composing flowpipe                86.237632        30.538983       84.702059   \n",
       "composing atomic                  32.601292        31.866298        0.009045   \n",
       "Total                            202.301421       145.183930      168.555167   \n",
       "\n",
       "                        masked  upfront_symbolic_unmasked  symbolic_unmasked  \\\n",
       "Flow*                81.401300                  82.825334          83.012579   \n",
       "unpreconditioning     0.000000                  89.209895           0.000000   \n",
       "P                    13.283160                   3.446221          13.596719   \n",
       "Q                    22.837894                 123.921391         207.834582   \n",
       "G(P | G(Q))          36.213173                 127.463483         221.522790   \n",
       "tentative eval        0.812681                   0.000000           3.316007   \n",
       "eval                  0.931477                   5.788979           2.691230   \n",
       "root detection        1.831949                   0.016764           0.022358   \n",
       "composing flowpipe   32.407094                  89.144196          83.827573   \n",
       "composing atomic      0.013109                 120.988771         130.185339   \n",
       "Total               117.749694                 299.626281         304.670659   \n",
       "\n",
       "                    upfront_unmasked    unmasked  \n",
       "Flow*                      83.161750   83.429202  \n",
       "unpreconditioning          88.885618    0.000000  \n",
       "P                           3.299969   14.740137  \n",
       "Q                           8.457561   83.852503  \n",
       "G(P | G(Q))                11.857280   98.683027  \n",
       "tentative eval              0.000000    3.271274  \n",
       "eval                        5.535693    2.809607  \n",
       "root detection              6.003341    6.559224  \n",
       "composing flowpipe         88.823893   85.677384  \n",
       "composing atomic            0.024263    0.033781  \n",
       "Total                     184.032715  182.249256  "
      ]
     },
     "execution_count": 123,
     "metadata": {},
     "output_type": "execute_result"
    }
   ],
   "source": [
    "comparison = pd.DataFrame({\n",
    "    s: total_times.mean()\n",
    "    for s, total_times in total_timess.items()\n",
    "})\n",
    "comparison.columns = series_names\n",
    "comparison"
   ]
  },
  {
   "cell_type": "code",
   "execution_count": 124,
   "metadata": {},
   "outputs": [],
   "source": [
    "comparison.to_csv(\"data/comparison.csv\")"
   ]
  },
  {
   "cell_type": "code",
   "execution_count": 125,
   "metadata": {},
   "outputs": [
    {
     "data": {
      "text/html": [
       "<div>\n",
       "<style scoped>\n",
       "    .dataframe tbody tr th:only-of-type {\n",
       "        vertical-align: middle;\n",
       "    }\n",
       "\n",
       "    .dataframe tbody tr th {\n",
       "        vertical-align: top;\n",
       "    }\n",
       "\n",
       "    .dataframe thead th {\n",
       "        text-align: right;\n",
       "    }\n",
       "</style>\n",
       "<table border=\"1\" class=\"dataframe\">\n",
       "  <thead>\n",
       "    <tr style=\"text-align: right;\">\n",
       "      <th></th>\n",
       "      <th>upfront_symbolic_masked</th>\n",
       "      <th>symbolic_masked</th>\n",
       "      <th>upfront_masked</th>\n",
       "      <th>masked</th>\n",
       "      <th>upfront_symbolic_unmasked</th>\n",
       "      <th>symbolic_unmasked</th>\n",
       "      <th>upfront_unmasked</th>\n",
       "      <th>unmasked</th>\n",
       "    </tr>\n",
       "  </thead>\n",
       "  <tbody>\n",
       "    <tr>\n",
       "      <th>Flow*</th>\n",
       "      <td>3.970154</td>\n",
       "      <td>0.770320</td>\n",
       "      <td>0.482998</td>\n",
       "      <td>0.699710</td>\n",
       "      <td>2.658992</td>\n",
       "      <td>1.654890</td>\n",
       "      <td>2.245100</td>\n",
       "      <td>2.654141</td>\n",
       "    </tr>\n",
       "    <tr>\n",
       "      <th>unpreconditioning</th>\n",
       "      <td>4.944137</td>\n",
       "      <td>0.000000</td>\n",
       "      <td>0.730628</td>\n",
       "      <td>0.000000</td>\n",
       "      <td>6.618034</td>\n",
       "      <td>0.000000</td>\n",
       "      <td>6.735343</td>\n",
       "      <td>0.000000</td>\n",
       "    </tr>\n",
       "    <tr>\n",
       "      <th>P</th>\n",
       "      <td>0.124445</td>\n",
       "      <td>0.368415</td>\n",
       "      <td>0.020082</td>\n",
       "      <td>2.293946</td>\n",
       "      <td>0.320111</td>\n",
       "      <td>0.751568</td>\n",
       "      <td>0.275213</td>\n",
       "      <td>1.929571</td>\n",
       "    </tr>\n",
       "    <tr>\n",
       "      <th>Q</th>\n",
       "      <td>2.363669</td>\n",
       "      <td>0.303355</td>\n",
       "      <td>0.027900</td>\n",
       "      <td>0.145597</td>\n",
       "      <td>7.987999</td>\n",
       "      <td>11.349186</td>\n",
       "      <td>0.750038</td>\n",
       "      <td>8.765052</td>\n",
       "    </tr>\n",
       "    <tr>\n",
       "      <th>G(P | G(Q))</th>\n",
       "      <td>2.518417</td>\n",
       "      <td>0.439257</td>\n",
       "      <td>0.044412</td>\n",
       "      <td>2.307301</td>\n",
       "      <td>8.059726</td>\n",
       "      <td>11.656156</td>\n",
       "      <td>0.926555</td>\n",
       "      <td>10.196482</td>\n",
       "    </tr>\n",
       "    <tr>\n",
       "      <th>tentative eval</th>\n",
       "      <td>0.000000</td>\n",
       "      <td>0.064901</td>\n",
       "      <td>0.000000</td>\n",
       "      <td>0.009946</td>\n",
       "      <td>0.000000</td>\n",
       "      <td>0.209603</td>\n",
       "      <td>0.000000</td>\n",
       "      <td>0.290368</td>\n",
       "    </tr>\n",
       "    <tr>\n",
       "      <th>eval</th>\n",
       "      <td>0.097560</td>\n",
       "      <td>0.011220</td>\n",
       "      <td>0.013398</td>\n",
       "      <td>0.041050</td>\n",
       "      <td>0.358896</td>\n",
       "      <td>0.161220</td>\n",
       "      <td>0.414430</td>\n",
       "      <td>0.284065</td>\n",
       "    </tr>\n",
       "    <tr>\n",
       "      <th>root detection</th>\n",
       "      <td>0.000337</td>\n",
       "      <td>0.003693</td>\n",
       "      <td>0.019308</td>\n",
       "      <td>0.053672</td>\n",
       "      <td>0.000665</td>\n",
       "      <td>0.003223</td>\n",
       "      <td>0.522833</td>\n",
       "      <td>0.672969</td>\n",
       "    </tr>\n",
       "    <tr>\n",
       "      <th>composing flowpipe</th>\n",
       "      <td>4.942961</td>\n",
       "      <td>0.355362</td>\n",
       "      <td>0.730252</td>\n",
       "      <td>2.212018</td>\n",
       "      <td>6.616088</td>\n",
       "      <td>4.478834</td>\n",
       "      <td>6.733819</td>\n",
       "      <td>8.986378</td>\n",
       "    </tr>\n",
       "    <tr>\n",
       "      <th>composing atomic</th>\n",
       "      <td>2.325455</td>\n",
       "      <td>0.222210</td>\n",
       "      <td>0.000725</td>\n",
       "      <td>0.000497</td>\n",
       "      <td>7.831675</td>\n",
       "      <td>6.490779</td>\n",
       "      <td>0.002409</td>\n",
       "      <td>0.002631</td>\n",
       "    </tr>\n",
       "    <tr>\n",
       "      <th>Total</th>\n",
       "      <td>9.012094</td>\n",
       "      <td>1.008689</td>\n",
       "      <td>1.004437</td>\n",
       "      <td>2.367108</td>\n",
       "      <td>12.563267</td>\n",
       "      <td>11.768680</td>\n",
       "      <td>8.164189</td>\n",
       "      <td>10.385750</td>\n",
       "    </tr>\n",
       "  </tbody>\n",
       "</table>\n",
       "</div>"
      ],
      "text/plain": [
       "                    upfront_symbolic_masked  symbolic_masked  upfront_masked  \\\n",
       "Flow*                              3.970154         0.770320        0.482998   \n",
       "unpreconditioning                  4.944137         0.000000        0.730628   \n",
       "P                                  0.124445         0.368415        0.020082   \n",
       "Q                                  2.363669         0.303355        0.027900   \n",
       "G(P | G(Q))                        2.518417         0.439257        0.044412   \n",
       "tentative eval                     0.000000         0.064901        0.000000   \n",
       "eval                               0.097560         0.011220        0.013398   \n",
       "root detection                     0.000337         0.003693        0.019308   \n",
       "composing flowpipe                 4.942961         0.355362        0.730252   \n",
       "composing atomic                   2.325455         0.222210        0.000725   \n",
       "Total                              9.012094         1.008689        1.004437   \n",
       "\n",
       "                      masked  upfront_symbolic_unmasked  symbolic_unmasked  \\\n",
       "Flow*               0.699710                   2.658992           1.654890   \n",
       "unpreconditioning   0.000000                   6.618034           0.000000   \n",
       "P                   2.293946                   0.320111           0.751568   \n",
       "Q                   0.145597                   7.987999          11.349186   \n",
       "G(P | G(Q))         2.307301                   8.059726          11.656156   \n",
       "tentative eval      0.009946                   0.000000           0.209603   \n",
       "eval                0.041050                   0.358896           0.161220   \n",
       "root detection      0.053672                   0.000665           0.003223   \n",
       "composing flowpipe  2.212018                   6.616088           4.478834   \n",
       "composing atomic    0.000497                   7.831675           6.490779   \n",
       "Total               2.367108                  12.563267          11.768680   \n",
       "\n",
       "                    upfront_unmasked   unmasked  \n",
       "Flow*                       2.245100   2.654141  \n",
       "unpreconditioning           6.735343   0.000000  \n",
       "P                           0.275213   1.929571  \n",
       "Q                           0.750038   8.765052  \n",
       "G(P | G(Q))                 0.926555  10.196482  \n",
       "tentative eval              0.000000   0.290368  \n",
       "eval                        0.414430   0.284065  \n",
       "root detection              0.522833   0.672969  \n",
       "composing flowpipe          6.733819   8.986378  \n",
       "composing atomic            0.002409   0.002631  \n",
       "Total                       8.164189  10.385750  "
      ]
     },
     "execution_count": 125,
     "metadata": {},
     "output_type": "execute_result"
    }
   ],
   "source": [
    "comparison_stds = pd.DataFrame({\n",
    "    s: total_times.std()\n",
    "    for s, total_times in total_timess.items()\n",
    "})\n",
    "comparison_stds.columns = series_names\n",
    "comparison_stds"
   ]
  },
  {
   "cell_type": "code",
   "execution_count": 126,
   "metadata": {},
   "outputs": [
    {
     "data": {
      "text/html": [
       "<div>\n",
       "<style scoped>\n",
       "    .dataframe tbody tr th:only-of-type {\n",
       "        vertical-align: middle;\n",
       "    }\n",
       "\n",
       "    .dataframe tbody tr th {\n",
       "        vertical-align: top;\n",
       "    }\n",
       "\n",
       "    .dataframe thead th {\n",
       "        text-align: right;\n",
       "    }\n",
       "</style>\n",
       "<table border=\"1\" class=\"dataframe\">\n",
       "  <thead>\n",
       "    <tr style=\"text-align: right;\">\n",
       "      <th></th>\n",
       "      <th>P</th>\n",
       "      <th>Q</th>\n",
       "    </tr>\n",
       "  </thead>\n",
       "  <tbody>\n",
       "    <tr>\n",
       "      <th>upfront_symbolic_masked</th>\n",
       "      <td>1.420911</td>\n",
       "      <td>32.897718</td>\n",
       "    </tr>\n",
       "    <tr>\n",
       "      <th>symbolic_masked</th>\n",
       "      <td>11.897921</td>\n",
       "      <td>52.568261</td>\n",
       "    </tr>\n",
       "    <tr>\n",
       "      <th>upfront_masked</th>\n",
       "      <td>1.364311</td>\n",
       "      <td>1.759220</td>\n",
       "    </tr>\n",
       "    <tr>\n",
       "      <th>masked</th>\n",
       "      <td>13.283160</td>\n",
       "      <td>22.837894</td>\n",
       "    </tr>\n",
       "    <tr>\n",
       "      <th>upfront_symbolic_unmasked</th>\n",
       "      <td>3.446221</td>\n",
       "      <td>123.921391</td>\n",
       "    </tr>\n",
       "    <tr>\n",
       "      <th>symbolic_unmasked</th>\n",
       "      <td>13.596719</td>\n",
       "      <td>207.834582</td>\n",
       "    </tr>\n",
       "    <tr>\n",
       "      <th>upfront_unmasked</th>\n",
       "      <td>3.299969</td>\n",
       "      <td>8.457561</td>\n",
       "    </tr>\n",
       "    <tr>\n",
       "      <th>unmasked</th>\n",
       "      <td>14.740137</td>\n",
       "      <td>83.852503</td>\n",
       "    </tr>\n",
       "  </tbody>\n",
       "</table>\n",
       "</div>"
      ],
      "text/plain": [
       "                                   P           Q\n",
       "upfront_symbolic_masked     1.420911   32.897718\n",
       "symbolic_masked            11.897921   52.568261\n",
       "upfront_masked              1.364311    1.759220\n",
       "masked                     13.283160   22.837894\n",
       "upfront_symbolic_unmasked   3.446221  123.921391\n",
       "symbolic_unmasked          13.596719  207.834582\n",
       "upfront_unmasked            3.299969    8.457561\n",
       "unmasked                   14.740137   83.852503"
      ]
     },
     "execution_count": 126,
     "metadata": {},
     "output_type": "execute_result"
    }
   ],
   "source": [
    "comparison2 = comparison.loc[['P', 'Q'],:].transpose(copy=True)\n",
    "comparison2"
   ]
  },
  {
   "cell_type": "code",
   "execution_count": 127,
   "metadata": {},
   "outputs": [
    {
     "data": {
      "text/plain": [
       "<matplotlib.axes._subplots.AxesSubplot at 0x7f465414eac0>"
      ]
     },
     "execution_count": 127,
     "metadata": {},
     "output_type": "execute_result"
    },
    {
     "data": {
      "image/png": "[encoded data removed]",
      "text/plain": [
       "<Figure size 432x288 with 1 Axes>"
      ]
     },
     "metadata": {
      "needs_background": "light"
     },
     "output_type": "display_data"
    }
   ],
   "source": [
    "p = comparison2.plot(kind='barh', stacked=True, grid=False)\n",
    "p"
   ]
  },
  {
   "cell_type": "code",
   "execution_count": 128,
   "metadata": {},
   "outputs": [
    {
     "data": {
      "text/plain": [
       "<Figure size 432x288 with 0 Axes>"
      ]
     },
     "metadata": {},
     "output_type": "display_data"
    }
   ],
   "source": [
    "from matplotlib import rcParams\n",
    "rcParams.update({'figure.autolayout': True})\n",
    "import matplotlib.pyplot as plt\n",
    "plt.tight_layout()"
   ]
  },
  {
   "cell_type": "code",
   "execution_count": 129,
   "metadata": {},
   "outputs": [
    {
     "name": "stderr",
     "output_type": "stream",
     "text": [
      "'lmsans9-regular.otf' can not be subsetted into a Type 3 font. The entire font will be embedded in the output.\n"
     ]
    }
   ],
   "source": [
    "p.get_figure().savefig('images/comparison-analysis-bar-chart-1.pdf')"
   ]
  },
  {
   "cell_type": "code",
   "execution_count": 130,
   "metadata": {},
   "outputs": [
    {
     "data": {
      "text/plain": [
       "<matplotlib.axes._subplots.AxesSubplot at 0x7f465a8cc130>"
      ]
     },
     "execution_count": 130,
     "metadata": {},
     "output_type": "execute_result"
    },
    {
     "data": {
      "image/png": "[encoded data removed]",
      "text/plain": [
       "<Figure size 432x288 with 1 Axes>"
      ]
     },
     "metadata": {
      "needs_background": "light"
     },
     "output_type": "display_data"
    }
   ],
   "source": [
    "comparison3 = comparison.loc[['Total'],:].transpose(copy=True)\n",
    "comparison3.plot(kind='barh')"
   ]
  },
  {
   "cell_type": "code",
   "execution_count": 131,
   "metadata": {},
   "outputs": [
    {
     "data": {
      "text/plain": [
       "<matplotlib.axes._subplots.AxesSubplot at 0x7f4653e62d60>"
      ]
     },
     "execution_count": 131,
     "metadata": {},
     "output_type": "execute_result"
    },
    {
     "data": {
      "image/png": "[encoded data removed]",
      "text/plain": [
       "<Figure size 432x288 with 1 Axes>"
      ]
     },
     "metadata": {
      "needs_background": "light"
     },
     "output_type": "display_data"
    }
   ],
   "source": [
    "comparison_compo = comparison.loc[['composing flowpipe'],:].transpose(copy=True)\n",
    "comparison_compo.plot(kind='barh')"
   ]
  },
  {
   "cell_type": "code",
   "execution_count": 132,
   "metadata": {},
   "outputs": [
    {
     "name": "stderr",
     "output_type": "stream",
     "text": [
      "'lmsans9-regular.otf' can not be subsetted into a Type 3 font. The entire font will be embedded in the output.\n"
     ]
    }
   ],
   "source": [
    "_.get_figure().savefig('images/unpreconditioning_comparison.pdf')"
   ]
  },
  {
   "cell_type": "code",
   "execution_count": 133,
   "metadata": {},
   "outputs": [
    {
     "data": {
      "text/plain": [
       "<matplotlib.axes._subplots.AxesSubplot at 0x7f4654209d60>"
      ]
     },
     "execution_count": 133,
     "metadata": {},
     "output_type": "execute_result"
    },
    {
     "data": {
      "image/png": "[encoded data removed]",
      "text/plain": [
       "<Figure size 432x288 with 1 Axes>"
      ]
     },
     "metadata": {
      "needs_background": "light"
     },
     "output_type": "display_data"
    }
   ],
   "source": [
    "comparison_compo_atomic = comparison.loc[['composing atomic'],:].transpose(copy=True)\n",
    "comparison_compo_atomic.plot(kind='barh')"
   ]
  },
  {
   "cell_type": "code",
   "execution_count": 134,
   "metadata": {},
   "outputs": [
    {
     "name": "stderr",
     "output_type": "stream",
     "text": [
      "'lmsans9-regular.otf' can not be subsetted into a Type 3 font. The entire font will be embedded in the output.\n"
     ]
    }
   ],
   "source": [
    "_.get_figure().savefig('images/composing_atomic_comparison.pdf')"
   ]
  },
  {
   "cell_type": "code",
   "execution_count": 135,
   "metadata": {},
   "outputs": [
    {
     "data": {
      "text/html": [
       "<div>\n",
       "<style scoped>\n",
       "    .dataframe tbody tr th:only-of-type {\n",
       "        vertical-align: middle;\n",
       "    }\n",
       "\n",
       "    .dataframe tbody tr th {\n",
       "        vertical-align: top;\n",
       "    }\n",
       "\n",
       "    .dataframe thead th {\n",
       "        text-align: right;\n",
       "    }\n",
       "</style>\n",
       "<table border=\"1\" class=\"dataframe\">\n",
       "  <thead>\n",
       "    <tr style=\"text-align: right;\">\n",
       "      <th></th>\n",
       "      <th>composing flowpipe</th>\n",
       "    </tr>\n",
       "  </thead>\n",
       "  <tbody>\n",
       "    <tr>\n",
       "      <th>upfront_symbolic_masked</th>\n",
       "      <td>86.237632</td>\n",
       "    </tr>\n",
       "    <tr>\n",
       "      <th>symbolic_masked</th>\n",
       "      <td>30.538983</td>\n",
       "    </tr>\n",
       "    <tr>\n",
       "      <th>upfront_masked</th>\n",
       "      <td>84.702059</td>\n",
       "    </tr>\n",
       "    <tr>\n",
       "      <th>masked</th>\n",
       "      <td>32.407094</td>\n",
       "    </tr>\n",
       "    <tr>\n",
       "      <th>upfront_symbolic_unmasked</th>\n",
       "      <td>89.144196</td>\n",
       "    </tr>\n",
       "    <tr>\n",
       "      <th>symbolic_unmasked</th>\n",
       "      <td>83.827573</td>\n",
       "    </tr>\n",
       "    <tr>\n",
       "      <th>upfront_unmasked</th>\n",
       "      <td>88.823893</td>\n",
       "    </tr>\n",
       "    <tr>\n",
       "      <th>unmasked</th>\n",
       "      <td>85.677384</td>\n",
       "    </tr>\n",
       "  </tbody>\n",
       "</table>\n",
       "</div>"
      ],
      "text/plain": [
       "                           composing flowpipe\n",
       "upfront_symbolic_masked             86.237632\n",
       "symbolic_masked                     30.538983\n",
       "upfront_masked                      84.702059\n",
       "masked                              32.407094\n",
       "upfront_symbolic_unmasked           89.144196\n",
       "symbolic_unmasked                   83.827573\n",
       "upfront_unmasked                    88.823893\n",
       "unmasked                            85.677384"
      ]
     },
     "execution_count": 135,
     "metadata": {},
     "output_type": "execute_result"
    }
   ],
   "source": [
    "comparison5 = comparison.loc[['composing flowpipe'],:].transpose(copy=True)\n",
    "comparison5"
   ]
  },
  {
   "cell_type": "code",
   "execution_count": 136,
   "metadata": {},
   "outputs": [
    {
     "data": {
      "text/html": [
       "<div>\n",
       "<style scoped>\n",
       "    .dataframe tbody tr th:only-of-type {\n",
       "        vertical-align: middle;\n",
       "    }\n",
       "\n",
       "    .dataframe tbody tr th {\n",
       "        vertical-align: top;\n",
       "    }\n",
       "\n",
       "    .dataframe thead th {\n",
       "        text-align: right;\n",
       "    }\n",
       "</style>\n",
       "<table border=\"1\" class=\"dataframe\">\n",
       "  <thead>\n",
       "    <tr style=\"text-align: right;\">\n",
       "      <th></th>\n",
       "      <th>Flow*</th>\n",
       "      <th>P</th>\n",
       "      <th>Q</th>\n",
       "      <th>Total</th>\n",
       "    </tr>\n",
       "  </thead>\n",
       "  <tbody>\n",
       "    <tr>\n",
       "      <th>upfront_symbolic_masked</th>\n",
       "      <td>81.187494</td>\n",
       "      <td>1.420911</td>\n",
       "      <td>32.897718</td>\n",
       "      <td>202.301421</td>\n",
       "    </tr>\n",
       "    <tr>\n",
       "      <th>symbolic_masked</th>\n",
       "      <td>80.489716</td>\n",
       "      <td>11.897921</td>\n",
       "      <td>52.568261</td>\n",
       "      <td>145.183930</td>\n",
       "    </tr>\n",
       "    <tr>\n",
       "      <th>upfront_masked</th>\n",
       "      <td>80.441029</td>\n",
       "      <td>1.364311</td>\n",
       "      <td>1.759220</td>\n",
       "      <td>168.555167</td>\n",
       "    </tr>\n",
       "    <tr>\n",
       "      <th>masked</th>\n",
       "      <td>81.401300</td>\n",
       "      <td>13.283160</td>\n",
       "      <td>22.837894</td>\n",
       "      <td>117.749694</td>\n",
       "    </tr>\n",
       "    <tr>\n",
       "      <th>upfront_symbolic_unmasked</th>\n",
       "      <td>82.825334</td>\n",
       "      <td>3.446221</td>\n",
       "      <td>123.921391</td>\n",
       "      <td>299.626281</td>\n",
       "    </tr>\n",
       "    <tr>\n",
       "      <th>symbolic_unmasked</th>\n",
       "      <td>83.012579</td>\n",
       "      <td>13.596719</td>\n",
       "      <td>207.834582</td>\n",
       "      <td>304.670659</td>\n",
       "    </tr>\n",
       "    <tr>\n",
       "      <th>upfront_unmasked</th>\n",
       "      <td>83.161750</td>\n",
       "      <td>3.299969</td>\n",
       "      <td>8.457561</td>\n",
       "      <td>184.032715</td>\n",
       "    </tr>\n",
       "    <tr>\n",
       "      <th>unmasked</th>\n",
       "      <td>83.429202</td>\n",
       "      <td>14.740137</td>\n",
       "      <td>83.852503</td>\n",
       "      <td>182.249256</td>\n",
       "    </tr>\n",
       "  </tbody>\n",
       "</table>\n",
       "</div>"
      ],
      "text/plain": [
       "                               Flow*          P           Q       Total\n",
       "upfront_symbolic_masked    81.187494   1.420911   32.897718  202.301421\n",
       "symbolic_masked            80.489716  11.897921   52.568261  145.183930\n",
       "upfront_masked             80.441029   1.364311    1.759220  168.555167\n",
       "masked                     81.401300  13.283160   22.837894  117.749694\n",
       "upfront_symbolic_unmasked  82.825334   3.446221  123.921391  299.626281\n",
       "symbolic_unmasked          83.012579  13.596719  207.834582  304.670659\n",
       "upfront_unmasked           83.161750   3.299969    8.457561  184.032715\n",
       "unmasked                   83.429202  14.740137   83.852503  182.249256"
      ]
     },
     "execution_count": 136,
     "metadata": {},
     "output_type": "execute_result"
    }
   ],
   "source": [
    "comparison4 = comparison.loc[['Flow*', 'P', 'Q', 'Total'],:].transpose(copy=True)\n",
    "comparison4"
   ]
  },
  {
   "cell_type": "code",
   "execution_count": 137,
   "metadata": {},
   "outputs": [
    {
     "data": {
      "text/plain": [
       "['upfront_symbolic_masked',\n",
       " 'upfront_masked',\n",
       " 'upfront_symbolic_unmasked',\n",
       " 'upfront_unmasked']"
      ]
     },
     "execution_count": 137,
     "metadata": {},
     "output_type": "execute_result"
    }
   ],
   "source": [
    "upfront_cols = [s for s in series if 'upfront' in s]\n",
    "upfront_cols"
   ]
  },
  {
   "cell_type": "code",
   "execution_count": 138,
   "metadata": {},
   "outputs": [
    {
     "data": {
      "text/html": [
       "<div>\n",
       "<style scoped>\n",
       "    .dataframe tbody tr th:only-of-type {\n",
       "        vertical-align: middle;\n",
       "    }\n",
       "\n",
       "    .dataframe tbody tr th {\n",
       "        vertical-align: top;\n",
       "    }\n",
       "\n",
       "    .dataframe thead th {\n",
       "        text-align: right;\n",
       "    }\n",
       "</style>\n",
       "<table border=\"1\" class=\"dataframe\">\n",
       "  <thead>\n",
       "    <tr style=\"text-align: right;\">\n",
       "      <th></th>\n",
       "      <th>unpreconditioning</th>\n",
       "    </tr>\n",
       "  </thead>\n",
       "  <tbody>\n",
       "    <tr>\n",
       "      <th>upfront_symbolic_masked</th>\n",
       "      <td>86.295687</td>\n",
       "    </tr>\n",
       "    <tr>\n",
       "      <th>upfront_masked</th>\n",
       "      <td>84.766920</td>\n",
       "    </tr>\n",
       "    <tr>\n",
       "      <th>upfront_symbolic_unmasked</th>\n",
       "      <td>89.209895</td>\n",
       "    </tr>\n",
       "    <tr>\n",
       "      <th>upfront_unmasked</th>\n",
       "      <td>88.885618</td>\n",
       "    </tr>\n",
       "  </tbody>\n",
       "</table>\n",
       "</div>"
      ],
      "text/plain": [
       "                           unpreconditioning\n",
       "upfront_symbolic_masked            86.295687\n",
       "upfront_masked                     84.766920\n",
       "upfront_symbolic_unmasked          89.209895\n",
       "upfront_unmasked                   88.885618"
      ]
     },
     "execution_count": 138,
     "metadata": {},
     "output_type": "execute_result"
    }
   ],
   "source": [
    "comparison.loc[['unpreconditioning'], upfront_cols].transpose()"
   ]
  },
  {
   "cell_type": "code",
   "execution_count": 139,
   "metadata": {},
   "outputs": [
    {
     "name": "stdout",
     "output_type": "stream",
     "text": [
      "['Flow*', 'P', 'Q', 'Total', 'unpreconditioning']\n",
      "['Flow*', 'unpreconditioning', 'P', 'Q', 'Total']\n"
     ]
    },
    {
     "data": {
      "text/html": [
       "<div>\n",
       "<style scoped>\n",
       "    .dataframe tbody tr th:only-of-type {\n",
       "        vertical-align: middle;\n",
       "    }\n",
       "\n",
       "    .dataframe tbody tr th {\n",
       "        vertical-align: top;\n",
       "    }\n",
       "\n",
       "    .dataframe thead th {\n",
       "        text-align: right;\n",
       "    }\n",
       "</style>\n",
       "<table border=\"1\" class=\"dataframe\">\n",
       "  <thead>\n",
       "    <tr style=\"text-align: right;\">\n",
       "      <th></th>\n",
       "      <th>Flow*</th>\n",
       "      <th>unpreconditioning</th>\n",
       "      <th>P</th>\n",
       "      <th>Q</th>\n",
       "      <th>Total</th>\n",
       "    </tr>\n",
       "  </thead>\n",
       "  <tbody>\n",
       "    <tr>\n",
       "      <th>masked</th>\n",
       "      <td>81.401300</td>\n",
       "      <td>0.000000</td>\n",
       "      <td>13.283160</td>\n",
       "      <td>22.837894</td>\n",
       "      <td>117.749694</td>\n",
       "    </tr>\n",
       "    <tr>\n",
       "      <th>symbolic_masked</th>\n",
       "      <td>80.489716</td>\n",
       "      <td>0.000000</td>\n",
       "      <td>11.897921</td>\n",
       "      <td>52.568261</td>\n",
       "      <td>145.183930</td>\n",
       "    </tr>\n",
       "    <tr>\n",
       "      <th>symbolic_unmasked</th>\n",
       "      <td>83.012579</td>\n",
       "      <td>0.000000</td>\n",
       "      <td>13.596719</td>\n",
       "      <td>207.834582</td>\n",
       "      <td>304.670659</td>\n",
       "    </tr>\n",
       "    <tr>\n",
       "      <th>unmasked</th>\n",
       "      <td>83.429202</td>\n",
       "      <td>0.000000</td>\n",
       "      <td>14.740137</td>\n",
       "      <td>83.852503</td>\n",
       "      <td>182.249256</td>\n",
       "    </tr>\n",
       "    <tr>\n",
       "      <th>upfront_masked</th>\n",
       "      <td>80.441029</td>\n",
       "      <td>84.766920</td>\n",
       "      <td>1.364311</td>\n",
       "      <td>1.759220</td>\n",
       "      <td>168.555167</td>\n",
       "    </tr>\n",
       "    <tr>\n",
       "      <th>upfront_symbolic_masked</th>\n",
       "      <td>81.187494</td>\n",
       "      <td>86.295687</td>\n",
       "      <td>1.420911</td>\n",
       "      <td>32.897718</td>\n",
       "      <td>202.301421</td>\n",
       "    </tr>\n",
       "    <tr>\n",
       "      <th>upfront_symbolic_unmasked</th>\n",
       "      <td>82.825334</td>\n",
       "      <td>89.209895</td>\n",
       "      <td>3.446221</td>\n",
       "      <td>123.921391</td>\n",
       "      <td>299.626281</td>\n",
       "    </tr>\n",
       "    <tr>\n",
       "      <th>upfront_unmasked</th>\n",
       "      <td>83.161750</td>\n",
       "      <td>88.885618</td>\n",
       "      <td>3.299969</td>\n",
       "      <td>8.457561</td>\n",
       "      <td>184.032715</td>\n",
       "    </tr>\n",
       "  </tbody>\n",
       "</table>\n",
       "</div>"
      ],
      "text/plain": [
       "                               Flow*  unpreconditioning          P  \\\n",
       "masked                     81.401300           0.000000  13.283160   \n",
       "symbolic_masked            80.489716           0.000000  11.897921   \n",
       "symbolic_unmasked          83.012579           0.000000  13.596719   \n",
       "unmasked                   83.429202           0.000000  14.740137   \n",
       "upfront_masked             80.441029          84.766920   1.364311   \n",
       "upfront_symbolic_masked    81.187494          86.295687   1.420911   \n",
       "upfront_symbolic_unmasked  82.825334          89.209895   3.446221   \n",
       "upfront_unmasked           83.161750          88.885618   3.299969   \n",
       "\n",
       "                                    Q       Total  \n",
       "masked                      22.837894  117.749694  \n",
       "symbolic_masked             52.568261  145.183930  \n",
       "symbolic_unmasked          207.834582  304.670659  \n",
       "unmasked                    83.852503  182.249256  \n",
       "upfront_masked               1.759220  168.555167  \n",
       "upfront_symbolic_masked     32.897718  202.301421  \n",
       "upfront_symbolic_unmasked  123.921391  299.626281  \n",
       "upfront_unmasked             8.457561  184.032715  "
      ]
     },
     "execution_count": 139,
     "metadata": {},
     "output_type": "execute_result"
    }
   ],
   "source": [
    "comparison6 = comparison4.join(comparison.loc[['unpreconditioning'], upfront_cols].transpose(copy=True),\n",
    "                               how='outer')\n",
    "comparison6['unpreconditioning'].fillna(0, inplace=True)\n",
    "cols = comparison6.columns.tolist()\n",
    "print(cols)\n",
    "cols = cols[:1] + cols[-1:] + cols[1:-1]\n",
    "print(cols)\n",
    "comparison6 = comparison6[cols]\n",
    "comparison6"
   ]
  },
  {
   "cell_type": "code",
   "execution_count": 140,
   "metadata": {},
   "outputs": [],
   "source": [
    "rearranged_colors = ('#0A5C9F', 'tab:blue', 'tab:orange', 'tab:green')"
   ]
  },
  {
   "cell_type": "code",
   "execution_count": 141,
   "metadata": {},
   "outputs": [
    {
     "name": "stderr",
     "output_type": "stream",
     "text": [
      "'lmsans9-regular.otf' can not be subsetted into a Type 3 font. The entire font will be embedded in the output.\n"
     ]
    }
   ],
   "source": [
    "p.get_figure().savefig('images/full-upfront-comparison.pdf')"
   ]
  },
  {
   "cell_type": "code",
   "execution_count": 142,
   "metadata": {},
   "outputs": [],
   "source": [
    "chosen_rows, chosen_names = zip(*[\n",
    "#    'upfront_unmasked',\n",
    "     ('upfront_unmasked', 'Closed-box\\n monitoring'),\n",
    "#    ('upfront_symbolic_unmasked', 'Unpreconditioning upfront symb'),\n",
    "#    'upfront_symbolic_unmasked',\n",
    "    ('unmasked', 'Functional\\n composition'),\n",
    "#    'symbolic_unmasked',\n",
    "    ('symbolic_unmasked', 'Full\\n monitoring'),\n",
    "    ('symbolic_masked', 'Masked\\n monitoring'),\n",
    "#    'symbolic_masked_reversed',\n",
    "#    'symbolic_masked_reversed',\n",
    "])"
   ]
  },
  {
   "cell_type": "code",
   "execution_count": 143,
   "metadata": {},
   "outputs": [],
   "source": [
    "import matplotlib.pyplot as plt\n",
    "import numpy as np\n",
    "from matplotlib.ticker import (MultipleLocator, FormatStrFormatter,\n",
    "                               AutoMinorLocator)  "
   ]
  },
  {
   "cell_type": "code",
   "execution_count": 144,
   "metadata": {},
   "outputs": [
    {
     "data": {
      "text/plain": [
       "masked                       117.749694\n",
       "symbolic_masked              145.183930\n",
       "symbolic_unmasked            304.670659\n",
       "unmasked                     182.249256\n",
       "upfront_masked               168.555167\n",
       "upfront_symbolic_masked      202.301421\n",
       "upfront_symbolic_unmasked    299.626281\n",
       "upfront_unmasked             184.032715\n",
       "dtype: float64"
      ]
     },
     "execution_count": 144,
     "metadata": {},
     "output_type": "execute_result"
    }
   ],
   "source": [
    "comparison6[['Total']].sum(axis=1) "
   ]
  },
  {
   "cell_type": "code",
   "execution_count": 145,
   "metadata": {},
   "outputs": [
    {
     "data": {
      "text/plain": [
       "masked                       117.522354\n",
       "symbolic_masked              144.955898\n",
       "symbolic_unmasked            304.443880\n",
       "unmasked                     182.021842\n",
       "upfront_masked               168.331480\n",
       "upfront_symbolic_masked      201.801810\n",
       "upfront_symbolic_unmasked    299.402841\n",
       "upfront_unmasked             183.804898\n",
       "dtype: float64"
      ]
     },
     "execution_count": 145,
     "metadata": {},
     "output_type": "execute_result"
    }
   ],
   "source": [
    "comparison6[cols[:-1]].sum(axis=1)"
   ]
  },
  {
   "cell_type": "code",
   "execution_count": 146,
   "metadata": {},
   "outputs": [
    {
     "data": {
      "text/plain": [
       "masked                       235.272048\n",
       "symbolic_masked              290.139828\n",
       "symbolic_unmasked            609.114539\n",
       "unmasked                     364.271098\n",
       "upfront_masked               336.886647\n",
       "upfront_symbolic_masked      404.103231\n",
       "upfront_symbolic_unmasked    599.029121\n",
       "upfront_unmasked             367.837613\n",
       "dtype: float64"
      ]
     },
     "execution_count": 146,
     "metadata": {},
     "output_type": "execute_result"
    }
   ],
   "source": [
    "comparison6.sum(axis=1)"
   ]
  },
  {
   "cell_type": "code",
   "execution_count": 147,
   "metadata": {},
   "outputs": [
    {
     "data": {
      "text/plain": [
       "masked                       0.227341\n",
       "symbolic_masked              0.228032\n",
       "symbolic_unmasked            0.226779\n",
       "unmasked                     0.227414\n",
       "upfront_masked               0.223687\n",
       "upfront_symbolic_masked      0.499612\n",
       "upfront_symbolic_unmasked    0.223440\n",
       "upfront_unmasked             0.227818\n",
       "dtype: float64"
      ]
     },
     "execution_count": 147,
     "metadata": {},
     "output_type": "execute_result"
    }
   ],
   "source": [
    "rem = comparison6[['Total']].sum(axis=1) - comparison6[cols[:-1]].sum(axis=1)\n",
    "rem"
   ]
  },
  {
   "cell_type": "code",
   "execution_count": 148,
   "metadata": {},
   "outputs": [
    {
     "name": "stdout",
     "output_type": "stream",
     "text": [
      "['Flow*', 'unpreconditioning', 'P', 'Q', 'Total']\n",
      "['Flow*', 'unpreconditioning', 'P', 'Q', 'Total']\n"
     ]
    },
    {
     "data": {
      "text/html": [
       "<div>\n",
       "<style scoped>\n",
       "    .dataframe tbody tr th:only-of-type {\n",
       "        vertical-align: middle;\n",
       "    }\n",
       "\n",
       "    .dataframe tbody tr th {\n",
       "        vertical-align: top;\n",
       "    }\n",
       "\n",
       "    .dataframe thead th {\n",
       "        text-align: right;\n",
       "    }\n",
       "</style>\n",
       "<table border=\"1\" class=\"dataframe\">\n",
       "  <thead>\n",
       "    <tr style=\"text-align: right;\">\n",
       "      <th></th>\n",
       "      <th>Flow*</th>\n",
       "      <th>unpreconditioning</th>\n",
       "      <th>P</th>\n",
       "      <th>Total</th>\n",
       "      <th>Q</th>\n",
       "    </tr>\n",
       "  </thead>\n",
       "  <tbody>\n",
       "    <tr>\n",
       "      <th>masked</th>\n",
       "      <td>81.401300</td>\n",
       "      <td>0.000000</td>\n",
       "      <td>13.283160</td>\n",
       "      <td>117.749694</td>\n",
       "      <td>22.837894</td>\n",
       "    </tr>\n",
       "    <tr>\n",
       "      <th>symbolic_masked</th>\n",
       "      <td>80.489716</td>\n",
       "      <td>0.000000</td>\n",
       "      <td>11.897921</td>\n",
       "      <td>145.183930</td>\n",
       "      <td>52.568261</td>\n",
       "    </tr>\n",
       "    <tr>\n",
       "      <th>symbolic_unmasked</th>\n",
       "      <td>83.012579</td>\n",
       "      <td>0.000000</td>\n",
       "      <td>13.596719</td>\n",
       "      <td>304.670659</td>\n",
       "      <td>207.834582</td>\n",
       "    </tr>\n",
       "    <tr>\n",
       "      <th>unmasked</th>\n",
       "      <td>83.429202</td>\n",
       "      <td>0.000000</td>\n",
       "      <td>14.740137</td>\n",
       "      <td>182.249256</td>\n",
       "      <td>83.852503</td>\n",
       "    </tr>\n",
       "    <tr>\n",
       "      <th>upfront_masked</th>\n",
       "      <td>80.441029</td>\n",
       "      <td>84.766920</td>\n",
       "      <td>1.364311</td>\n",
       "      <td>168.555167</td>\n",
       "      <td>1.759220</td>\n",
       "    </tr>\n",
       "    <tr>\n",
       "      <th>upfront_symbolic_masked</th>\n",
       "      <td>81.187494</td>\n",
       "      <td>86.295687</td>\n",
       "      <td>1.420911</td>\n",
       "      <td>202.301421</td>\n",
       "      <td>32.897718</td>\n",
       "    </tr>\n",
       "    <tr>\n",
       "      <th>upfront_symbolic_unmasked</th>\n",
       "      <td>82.825334</td>\n",
       "      <td>89.209895</td>\n",
       "      <td>3.446221</td>\n",
       "      <td>299.626281</td>\n",
       "      <td>123.921391</td>\n",
       "    </tr>\n",
       "    <tr>\n",
       "      <th>upfront_unmasked</th>\n",
       "      <td>83.161750</td>\n",
       "      <td>88.885618</td>\n",
       "      <td>3.299969</td>\n",
       "      <td>184.032715</td>\n",
       "      <td>8.457561</td>\n",
       "    </tr>\n",
       "  </tbody>\n",
       "</table>\n",
       "</div>"
      ],
      "text/plain": [
       "                               Flow*  unpreconditioning          P  \\\n",
       "masked                     81.401300           0.000000  13.283160   \n",
       "symbolic_masked            80.489716           0.000000  11.897921   \n",
       "symbolic_unmasked          83.012579           0.000000  13.596719   \n",
       "unmasked                   83.429202           0.000000  14.740137   \n",
       "upfront_masked             80.441029          84.766920   1.364311   \n",
       "upfront_symbolic_masked    81.187494          86.295687   1.420911   \n",
       "upfront_symbolic_unmasked  82.825334          89.209895   3.446221   \n",
       "upfront_unmasked           83.161750          88.885618   3.299969   \n",
       "\n",
       "                                Total           Q  \n",
       "masked                     117.749694   22.837894  \n",
       "symbolic_masked            145.183930   52.568261  \n",
       "symbolic_unmasked          304.670659  207.834582  \n",
       "unmasked                   182.249256   83.852503  \n",
       "upfront_masked             168.555167    1.759220  \n",
       "upfront_symbolic_masked    202.301421   32.897718  \n",
       "upfront_symbolic_unmasked  299.626281  123.921391  \n",
       "upfront_unmasked           184.032715    8.457561  "
      ]
     },
     "execution_count": 148,
     "metadata": {},
     "output_type": "execute_result"
    }
   ],
   "source": [
    "comparison7 = comparison6.copy()\n",
    "comparison7.loc[:,'Remainder'] = rem\n",
    "cols7 = comparison6.columns.tolist()\n",
    "print(cols)\n",
    "cols7 = cols7[:-2] + [cols7[-1], cols7[-2]]\n",
    "print(cols)\n",
    "comparison7 = comparison7[cols7]\n",
    "comparison7"
   ]
  },
  {
   "cell_type": "code",
   "execution_count": 149,
   "metadata": {},
   "outputs": [
    {
     "data": {
      "text/plain": [
       "117.74969449465425"
      ]
     },
     "execution_count": 149,
     "metadata": {},
     "output_type": "execute_result"
    }
   ],
   "source": [
    "comparison6['Total']['masked']"
   ]
  },
  {
   "cell_type": "code",
   "execution_count": 150,
   "metadata": {},
   "outputs": [
    {
     "data": {
      "text/plain": [
       "[('symbolic_masked', 145.18392963059887),\n",
       " ('symbolic_unmasked', 304.67065868270146),\n",
       " ('unmasked', 182.24925616350373),\n",
       " ('upfront_unmasked', 184.0327153275968)]"
      ]
     },
     "execution_count": 150,
     "metadata": {},
     "output_type": "execute_result"
    }
   ],
   "source": [
    "list(comparison6['Total'][reversed(chosen_rows)].items())"
   ]
  },
  {
   "cell_type": "code",
   "execution_count": 151,
   "metadata": {},
   "outputs": [
    {
     "data": {
      "text/html": [
       "<div>\n",
       "<style scoped>\n",
       "    .dataframe tbody tr th:only-of-type {\n",
       "        vertical-align: middle;\n",
       "    }\n",
       "\n",
       "    .dataframe tbody tr th {\n",
       "        vertical-align: top;\n",
       "    }\n",
       "\n",
       "    .dataframe thead th {\n",
       "        text-align: right;\n",
       "    }\n",
       "</style>\n",
       "<table border=\"1\" class=\"dataframe\">\n",
       "  <thead>\n",
       "    <tr style=\"text-align: right;\">\n",
       "      <th></th>\n",
       "      <th>Verified integration</th>\n",
       "      <th>Flowpipe composition</th>\n",
       "      <th>Monitoring P</th>\n",
       "      <th>Monitoring Q</th>\n",
       "    </tr>\n",
       "  </thead>\n",
       "  <tbody>\n",
       "    <tr>\n",
       "      <th>Masked\\n monitoring</th>\n",
       "      <td>80.489716</td>\n",
       "      <td>0.000000</td>\n",
       "      <td>11.897921</td>\n",
       "      <td>52.568261</td>\n",
       "    </tr>\n",
       "    <tr>\n",
       "      <th>Full\\n monitoring</th>\n",
       "      <td>83.012579</td>\n",
       "      <td>0.000000</td>\n",
       "      <td>13.596719</td>\n",
       "      <td>207.834582</td>\n",
       "    </tr>\n",
       "    <tr>\n",
       "      <th>Functional\\n composition</th>\n",
       "      <td>83.429202</td>\n",
       "      <td>0.000000</td>\n",
       "      <td>14.740137</td>\n",
       "      <td>83.852503</td>\n",
       "    </tr>\n",
       "    <tr>\n",
       "      <th>Closed-box\\n monitoring</th>\n",
       "      <td>83.161750</td>\n",
       "      <td>88.885618</td>\n",
       "      <td>3.299969</td>\n",
       "      <td>8.457561</td>\n",
       "    </tr>\n",
       "  </tbody>\n",
       "</table>\n",
       "</div>"
      ],
      "text/plain": [
       "                          Verified integration  Flowpipe composition  \\\n",
       "Masked\\n monitoring                  80.489716              0.000000   \n",
       "Full\\n monitoring                    83.012579              0.000000   \n",
       "Functional\\n composition             83.429202              0.000000   \n",
       "Closed-box\\n monitoring              83.161750             88.885618   \n",
       "\n",
       "                          Monitoring P  Monitoring Q  \n",
       "Masked\\n monitoring          11.897921     52.568261  \n",
       "Full\\n monitoring            13.596719    207.834582  \n",
       "Functional\\n composition     14.740137     83.852503  \n",
       "Closed-box\\n monitoring       3.299969      8.457561  "
      ]
     },
     "execution_count": 151,
     "metadata": {},
     "output_type": "execute_result"
    }
   ],
   "source": [
    "comp6_plot_data = comparison6.loc[reversed(chosen_rows),:][cols[:-1]].copy()\n",
    "comp6_plot_data = comp6_plot_data.transpose()\n",
    "comp6_plot_data.columns = reversed(chosen_names)\n",
    "comp6_plot_data = comp6_plot_data.transpose()\n",
    "comp6_plot_data.columns = [\n",
    "    'Verified integration',\n",
    "    'Flowpipe composition',\n",
    "    'Monitoring P',\n",
    "    'Monitoring Q',\n",
    "]\n",
    "comp6_plot_data"
   ]
  },
  {
   "cell_type": "code",
   "execution_count": 152,
   "metadata": {},
   "outputs": [
    {
     "data": {
      "text/html": [
       "<div>\n",
       "<style scoped>\n",
       "    .dataframe tbody tr th:only-of-type {\n",
       "        vertical-align: middle;\n",
       "    }\n",
       "\n",
       "    .dataframe tbody tr th {\n",
       "        vertical-align: top;\n",
       "    }\n",
       "\n",
       "    .dataframe thead th {\n",
       "        text-align: right;\n",
       "    }\n",
       "</style>\n",
       "<table border=\"1\" class=\"dataframe\">\n",
       "  <thead>\n",
       "    <tr style=\"text-align: right;\">\n",
       "      <th></th>\n",
       "      <th>Verified integration</th>\n",
       "      <th>Flowpipe composition</th>\n",
       "      <th>Monitoring P</th>\n",
       "      <th>Monitoring Q</th>\n",
       "    </tr>\n",
       "  </thead>\n",
       "  <tbody>\n",
       "    <tr>\n",
       "      <th>Full\\n monitoring</th>\n",
       "      <td>83.012579</td>\n",
       "      <td>0.000000</td>\n",
       "      <td>13.596719</td>\n",
       "      <td>207.834582</td>\n",
       "    </tr>\n",
       "    <tr>\n",
       "      <th>Functional\\n composition</th>\n",
       "      <td>83.429202</td>\n",
       "      <td>0.000000</td>\n",
       "      <td>14.740137</td>\n",
       "      <td>83.852503</td>\n",
       "    </tr>\n",
       "    <tr>\n",
       "      <th>Closed-box\\n monitoring</th>\n",
       "      <td>83.161750</td>\n",
       "      <td>88.885618</td>\n",
       "      <td>3.299969</td>\n",
       "      <td>8.457561</td>\n",
       "    </tr>\n",
       "  </tbody>\n",
       "</table>\n",
       "</div>"
      ],
      "text/plain": [
       "                          Verified integration  Flowpipe composition  \\\n",
       "Full\\n monitoring                    83.012579              0.000000   \n",
       "Functional\\n composition             83.429202              0.000000   \n",
       "Closed-box\\n monitoring              83.161750             88.885618   \n",
       "\n",
       "                          Monitoring P  Monitoring Q  \n",
       "Full\\n monitoring            13.596719    207.834582  \n",
       "Functional\\n composition     14.740137     83.852503  \n",
       "Closed-box\\n monitoring       3.299969      8.457561  "
      ]
     },
     "execution_count": 152,
     "metadata": {},
     "output_type": "execute_result"
    }
   ],
   "source": [
    "comp6_plot_data[1:]"
   ]
  },
  {
   "cell_type": "code",
   "execution_count": 153,
   "metadata": {},
   "outputs": [],
   "source": [
    "rcParams['font.family'] = 'Latin Modern Sans'\n",
    "rcParams['font.size'] = 13.5\n",
    "rcParams['text.usetex'] = False"
   ]
  },
  {
   "cell_type": "code",
   "execution_count": 154,
   "metadata": {},
   "outputs": [
    {
     "data": {
      "text/plain": [
       "('upfront_unmasked', 'unmasked', 'symbolic_unmasked', 'symbolic_masked')"
      ]
     },
     "execution_count": 154,
     "metadata": {},
     "output_type": "execute_result"
    }
   ],
   "source": [
    "chosen_rows"
   ]
  },
  {
   "cell_type": "code",
   "execution_count": 155,
   "metadata": {},
   "outputs": [
    {
     "name": "stderr",
     "output_type": "stream",
     "text": [
      "'lmsans9-regular.otf' can not be subsetted into a Type 3 font. The entire font will be embedded in the output.\n"
     ]
    },
    {
     "data": {
      "image/png": "[encoded data removed]",
      "text/plain": [
       "<Figure size 936x201.6 with 1 Axes>"
      ]
     },
     "metadata": {
      "needs_background": "light"
     },
     "output_type": "display_data"
    }
   ],
   "source": [
    "p = comp6_plot_data\\\n",
    "    .plot(kind='barh', stacked=True, grid=False,color=rearranged_colors, figsize=(13,2.8),\n",
    "          zorder=3, width=0.8)\n",
    "#plt.legend(loc=(1.05, 0.105))\n",
    "plt.legend(fontsize=14, loc=(1.02, 0.13))\n",
    "plt.xlabel('overall verification time (seconds)')\n",
    "ax = plt.gca()\n",
    "ax.set_xticks(np.arange(0, 451, 50))\n",
    "ax.xaxis.set_minor_locator(AutoMinorLocator())\n",
    "ax.xaxis.grid(True, zorder=0, linestyle='-', color='darkgrey', which='major')\n",
    "ax.xaxis.grid(True, zorder=0, linestyle='dotted', which='minor')\n",
    "\n",
    "labels = [\n",
    "    f\"{t:.2f} sec\"\n",
    "#     + ('' if 'symbolic' in row\n",
    "#           else \"\\n (returned unknown)\")\n",
    "    for row, t in comparison6['Total'][reversed(chosen_rows)].items()\n",
    "]\n",
    "\n",
    "def anno_inner(p, label, color='black'):\n",
    "    ax.annotate(\n",
    "        label,\n",
    "        xy=(p.get_x() + p.get_width()/2 ,\n",
    "            p.get_y() + p.get_height()/2),\n",
    "        xytext=(0, 0),\n",
    "        size=18,\n",
    "        textcoords=\"offset points\",\n",
    "        va='center', ha='center',\n",
    "        color=color\n",
    "    )\n",
    "\n",
    "for i, p in enumerate(ax.patches):\n",
    "    if p.get_width() > 10:\n",
    "        col = ['Flow*', 'unpreconditioning', 'P', 'Q'][i // 4]\n",
    "        anno_inner(p, f\"{comparison6[col][chosen_rows[3-(i % 4)]]:.2f}\", 'white')\n",
    "        \n",
    "for i, label in zip(ax.patches[-4:], labels):\n",
    "    ax.annotate(\n",
    "        label,\n",
    "        xy=(i.get_x() + i.get_width(),\n",
    "            i.get_y() + i.get_height()/2),\n",
    "        xytext=(3, 0),\n",
    "        textcoords=\"offset points\",\n",
    "        va='center', ha='left',\n",
    "        size='18'\n",
    "    )\n",
    "    \n",
    "plt.annotate(\n",
    "    'Verification unsuccessful\\n(signal unknown everywhere)',\n",
    "    xy=(268, 2.52),\n",
    "    va='center', ha='left',\n",
    "    xytext=(13,0),\n",
    "#    weight='bold',\n",
    "    textcoords=\"offset points\",\n",
    "    color='red',\n",
    "    size=19.5,\n",
    "    arrowprops=dict(arrowstyle='-[, widthB=1.6, lengthB=0.5, angleB=60', lw=1.5),\n",
    ")\n",
    "\n",
    "plt.tight_layout()\n",
    "plt.savefig('images/benchmark-bar-chart.pdf')\n",
    "plt.show()"
   ]
  },
  {
   "cell_type": "code",
   "execution_count": 156,
   "metadata": {
    "scrolled": true
   },
   "outputs": [
    {
     "data": {
      "text/plain": [
       "('upfront_unmasked', 'unmasked', 'symbolic_unmasked')"
      ]
     },
     "execution_count": 156,
     "metadata": {},
     "output_type": "execute_result"
    }
   ],
   "source": [
    "chosen_rows1 = chosen_rows[:3]; chosen_rows1"
   ]
  },
  {
   "cell_type": "code",
   "execution_count": 157,
   "metadata": {},
   "outputs": [
    {
     "data": {
      "text/plain": [
       "['145.18 sec', '304.67 sec', '182.25 sec', '184.03 sec']"
      ]
     },
     "execution_count": 157,
     "metadata": {},
     "output_type": "execute_result"
    }
   ],
   "source": [
    "labels"
   ]
  },
  {
   "cell_type": "code",
   "execution_count": 158,
   "metadata": {},
   "outputs": [
    {
     "ename": "IndexError",
     "evalue": "tuple index out of range",
     "output_type": "error",
     "traceback": [
      "\u001b[0;31m---------------------------------------------------------------------------\u001b[0m",
      "\u001b[0;31mIndexError\u001b[0m                                Traceback (most recent call last)",
      "\u001b[0;32m<ipython-input-158-5bc09e5a09da>\u001b[0m in \u001b[0;36m<module>\u001b[0;34m()\u001b[0m\n\u001b[1;32m      2\u001b[0m     \u001b[0;32mif\u001b[0m \u001b[0;32mTrue\u001b[0m\u001b[0;34m:\u001b[0m \u001b[0;31m#p.get_width() > 20:\u001b[0m\u001b[0;34m\u001b[0m\u001b[0;34m\u001b[0m\u001b[0m\n\u001b[1;32m      3\u001b[0m         \u001b[0mcol\u001b[0m \u001b[0;34m=\u001b[0m \u001b[0;34m[\u001b[0m\u001b[0;34m'Flow*'\u001b[0m\u001b[0;34m,\u001b[0m \u001b[0;34m'unpreconditioning'\u001b[0m\u001b[0;34m,\u001b[0m \u001b[0;34m'P'\u001b[0m\u001b[0;34m,\u001b[0m \u001b[0;34m'Q'\u001b[0m\u001b[0;34m]\u001b[0m\u001b[0;34m[\u001b[0m\u001b[0mi\u001b[0m \u001b[0;34m//\u001b[0m \u001b[0;36m3\u001b[0m\u001b[0;34m]\u001b[0m\u001b[0;34m\u001b[0m\u001b[0;34m\u001b[0m\u001b[0m\n\u001b[0;32m----> 4\u001b[0;31m         \u001b[0mprint\u001b[0m\u001b[0;34m(\u001b[0m\u001b[0mi\u001b[0m \u001b[0;34m//\u001b[0m \u001b[0;36m2\u001b[0m\u001b[0;34m,\u001b[0m \u001b[0;36m1\u001b[0m \u001b[0;34m-\u001b[0m \u001b[0;34m(\u001b[0m\u001b[0mi\u001b[0m \u001b[0;34m%\u001b[0m \u001b[0;36m2\u001b[0m\u001b[0;34m)\u001b[0m\u001b[0;34m,\u001b[0m \u001b[0mcol\u001b[0m\u001b[0;34m,\u001b[0m \u001b[0mchosen_rows2\u001b[0m\u001b[0;34m[\u001b[0m\u001b[0;36m2\u001b[0m \u001b[0;34m-\u001b[0m \u001b[0;34m(\u001b[0m\u001b[0mi\u001b[0m \u001b[0;34m%\u001b[0m \u001b[0;36m3\u001b[0m\u001b[0;34m)\u001b[0m\u001b[0;34m]\u001b[0m\u001b[0;34m,\u001b[0m \u001b[0;34mf\"{comparison6[col][chosen_rows2[1-(i % 2)]]:.2f}\"\u001b[0m\u001b[0;34m)\u001b[0m\u001b[0;34m\u001b[0m\u001b[0;34m\u001b[0m\u001b[0m\n\u001b[0m",
      "\u001b[0;31mIndexError\u001b[0m: tuple index out of range"
     ]
    }
   ],
   "source": [
    "for i, p in enumerate(ax.patches):\n",
    "    if True: #p.get_width() > 20:\n",
    "        col = ['Flow*', 'unpreconditioning', 'P', 'Q'][i // 3]\n",
    "        print(i // 2, 1 - (i % 2), col, chosen_rows2[2 - (i % 3)], f\"{comparison6[col][chosen_rows2[1-(i % 2)]]:.2f}\")"
   ]
  },
  {
   "cell_type": "code",
   "execution_count": 171,
   "metadata": {},
   "outputs": [
    {
     "name": "stderr",
     "output_type": "stream",
     "text": [
      "'lmsans9-regular.otf' can not be subsetted into a Type 3 font. The entire font will be embedded in the output.\n"
     ]
    },
    {
     "data": {
      "image/png": "[encoded data removed]",
      "text/plain": [
       "<Figure size 936x201.6 with 1 Axes>"
      ]
     },
     "metadata": {
      "needs_background": "light"
     },
     "output_type": "display_data"
    }
   ],
   "source": [
    "p = comp6_plot_data[1:]\\\n",
    "    .plot(kind='barh', stacked=True, grid=False,color=rearranged_colors, figsize=(13,2.8),\n",
    "          zorder=3, width=0.8)\n",
    "#plt.legend(loc=(1.05, 0.105))\n",
    "plt.legend(fontsize=14, loc=(1.02, 0.13))\n",
    "plt.xlabel('overall verification time (seconds)')\n",
    "ax = plt.gca()\n",
    "ax.set_xticks(np.arange(0, 451, 50))\n",
    "ax.xaxis.set_minor_locator(AutoMinorLocator())\n",
    "ax.xaxis.grid(True, zorder=0, linestyle='-', color='darkgrey', which='major')\n",
    "ax.xaxis.grid(True, zorder=0, linestyle='dotted', which='minor')\n",
    "\n",
    "labels = [\n",
    "    f\"{t:.2f} sec\"\n",
    "#     + ('' if 'symbolic' in row\n",
    "#           else \"\\n (returned unknown)\")\n",
    "    for row, t in comparison6['Total'][reversed(chosen_rows1)].items()\n",
    "]\n",
    "\n",
    "def anno_inner(p, label, color='black'):\n",
    "    ax.annotate(\n",
    "        label,\n",
    "        xy=(p.get_x() + p.get_width()/2 ,\n",
    "            p.get_y() + p.get_height()/2),\n",
    "        xytext=(0, 0),\n",
    "        size=18,\n",
    "        textcoords=\"offset points\",\n",
    "        va='center', ha='center',\n",
    "        color=color\n",
    "    )\n",
    "\n",
    "for i, p in enumerate(ax.patches):\n",
    "    if p.get_width() > 10:\n",
    "        col = ['Flow*', 'unpreconditioning', 'P', 'Q'][i // 3]\n",
    "        anno_inner(p, f\"{comparison6[col][chosen_rows1[2-(i % 3)]]:.2f}\", 'white')\n",
    "        \n",
    "for i, label in zip(ax.patches[-3:], labels[:]):\n",
    "    ax.annotate(\n",
    "        label,\n",
    "        xy=(i.get_x() + i.get_width(),\n",
    "            i.get_y() + i.get_height()/2),\n",
    "        xytext=(3, 0),\n",
    "        textcoords=\"offset points\",\n",
    "        va='center', ha='left',\n",
    "        size='18'\n",
    "    )\n",
    "    \n",
    "plt.annotate(\n",
    "    'Verification unsuccessful\\n(signal unknown everywhere)',\n",
    "    xy=(250, 1.52),\n",
    "    va='center', ha='left',\n",
    "    xytext=(13,0),\n",
    "#    weight='bold',\n",
    "    textcoords=\"offset points\",\n",
    "    color='red',\n",
    "    size=19.5,\n",
    "    arrowprops=dict(arrowstyle='-[, widthB=1.6, lengthB=0.5, angleB=60', lw=1.5),\n",
    ")\n",
    "\n",
    "plt.tight_layout()\n",
    "plt.savefig('images/benchmark-bar-chart-1.pdf')\n",
    "plt.show()"
   ]
  },
  {
   "cell_type": "code",
   "execution_count": 160,
   "metadata": {},
   "outputs": [
    {
     "data": {
      "text/plain": [
       "('symbolic_unmasked', 'symbolic_masked')"
      ]
     },
     "execution_count": 160,
     "metadata": {},
     "output_type": "execute_result"
    }
   ],
   "source": [
    "chosen_rows2 = chosen_rows[2:]; chosen_rows2"
   ]
  },
  {
   "cell_type": "code",
   "execution_count": 161,
   "metadata": {},
   "outputs": [
    {
     "data": {
      "text/html": [
       "<div>\n",
       "<style scoped>\n",
       "    .dataframe tbody tr th:only-of-type {\n",
       "        vertical-align: middle;\n",
       "    }\n",
       "\n",
       "    .dataframe tbody tr th {\n",
       "        vertical-align: top;\n",
       "    }\n",
       "\n",
       "    .dataframe thead th {\n",
       "        text-align: right;\n",
       "    }\n",
       "</style>\n",
       "<table border=\"1\" class=\"dataframe\">\n",
       "  <thead>\n",
       "    <tr style=\"text-align: right;\">\n",
       "      <th></th>\n",
       "      <th>Verified integration</th>\n",
       "      <th>Flowpipe composition</th>\n",
       "      <th>Monitoring P</th>\n",
       "      <th>Monitoring Q</th>\n",
       "    </tr>\n",
       "  </thead>\n",
       "  <tbody>\n",
       "    <tr>\n",
       "      <th>Masked\\n monitoring</th>\n",
       "      <td>80.489716</td>\n",
       "      <td>0.000000</td>\n",
       "      <td>11.897921</td>\n",
       "      <td>52.568261</td>\n",
       "    </tr>\n",
       "    <tr>\n",
       "      <th>Full\\n monitoring</th>\n",
       "      <td>83.012579</td>\n",
       "      <td>0.000000</td>\n",
       "      <td>13.596719</td>\n",
       "      <td>207.834582</td>\n",
       "    </tr>\n",
       "    <tr>\n",
       "      <th>Functional\\n composition</th>\n",
       "      <td>83.429202</td>\n",
       "      <td>0.000000</td>\n",
       "      <td>14.740137</td>\n",
       "      <td>83.852503</td>\n",
       "    </tr>\n",
       "    <tr>\n",
       "      <th>Closed-box\\n monitoring</th>\n",
       "      <td>83.161750</td>\n",
       "      <td>88.885618</td>\n",
       "      <td>3.299969</td>\n",
       "      <td>8.457561</td>\n",
       "    </tr>\n",
       "  </tbody>\n",
       "</table>\n",
       "</div>"
      ],
      "text/plain": [
       "                          Verified integration  Flowpipe composition  \\\n",
       "Masked\\n monitoring                  80.489716              0.000000   \n",
       "Full\\n monitoring                    83.012579              0.000000   \n",
       "Functional\\n composition             83.429202              0.000000   \n",
       "Closed-box\\n monitoring              83.161750             88.885618   \n",
       "\n",
       "                          Monitoring P  Monitoring Q  \n",
       "Masked\\n monitoring          11.897921     52.568261  \n",
       "Full\\n monitoring            13.596719    207.834582  \n",
       "Functional\\n composition     14.740137     83.852503  \n",
       "Closed-box\\n monitoring       3.299969      8.457561  "
      ]
     },
     "execution_count": 161,
     "metadata": {},
     "output_type": "execute_result"
    }
   ],
   "source": [
    "comp6_plot_data"
   ]
  },
  {
   "cell_type": "code",
   "execution_count": 170,
   "metadata": {},
   "outputs": [
    {
     "name": "stderr",
     "output_type": "stream",
     "text": [
      "'lmsans9-regular.otf' can not be subsetted into a Type 3 font. The entire font will be embedded in the output.\n"
     ]
    },
    {
     "data": {
      "image/png": "[encoded data removed]",
      "text/plain": [
       "<Figure size 936x201.6 with 1 Axes>"
      ]
     },
     "metadata": {
      "needs_background": "light"
     },
     "output_type": "display_data"
    }
   ],
   "source": [
    "p = comp6_plot_data[:2]\\\n",
    "    .plot(kind='barh', stacked=True, grid=False,color=rearranged_colors, figsize=(13,2.8),\n",
    "          zorder=3, width=0.8)\n",
    "#plt.legend(loc=(1.05, 0.105))\n",
    "plt.legend(fontsize=14, loc=(1.02, 0.13))\n",
    "plt.xlabel('overall verification time (seconds)')\n",
    "ax = plt.gca()\n",
    "ax.set_xticks(np.arange(0, 401, 50))\n",
    "ax.xaxis.set_minor_locator(AutoMinorLocator())\n",
    "ax.xaxis.grid(True, zorder=0, linestyle='-', color='darkgrey', which='major')\n",
    "ax.xaxis.grid(True, zorder=0, linestyle='dotted', which='minor')\n",
    "\n",
    "labels = [\n",
    "    f\"{t:.2f} sec\"\n",
    "#     + ('' if 'symbolic' in row\n",
    "#           else \"\\n (returned unknown)\")\n",
    "    for row, t in comparison6['Total'][reversed(chosen_rows2)].items()\n",
    "]\n",
    "\n",
    "def anno_inner(p, label, color='black'):\n",
    "    ax.annotate(\n",
    "        label,\n",
    "        xy=(p.get_x() + p.get_width()/2 ,\n",
    "            p.get_y() + p.get_height()/2),\n",
    "        xytext=(0, 0),\n",
    "        size=18,\n",
    "        textcoords=\"offset points\",\n",
    "        va='center', ha='center',\n",
    "        color=color\n",
    "    )\n",
    "\n",
    "for i, p in enumerate(ax.patches):\n",
    "    if p.get_width() > 10:\n",
    "        col = ['Flow*', 'unpreconditioning', 'P', 'Q'][i // 2]\n",
    "        anno_inner(p, f\"{comparison6[col][chosen_rows2[1-(i % 2)]]:.2f}\", 'white')\n",
    "        \n",
    "for i, label in zip(ax.patches[-2:], labels[:]):\n",
    "    ax.annotate(\n",
    "        label,\n",
    "        xy=(i.get_x() + i.get_width(),\n",
    "            i.get_y() + i.get_height()/2),\n",
    "        xytext=(3, 0),\n",
    "        textcoords=\"offset points\",\n",
    "        va='center', ha='left',\n",
    "        size='18'\n",
    "    )\n",
    "\n",
    "plt.tight_layout()\n",
    "plt.savefig('images/benchmark-bar-chart-2.pdf')\n",
    "plt.show()"
   ]
  },
  {
   "cell_type": "code",
   "execution_count": 164,
   "metadata": {},
   "outputs": [
    {
     "data": {
      "text/plain": [
       "207.8345819592476"
      ]
     },
     "execution_count": 164,
     "metadata": {},
     "output_type": "execute_result"
    }
   ],
   "source": [
    "comparison7['Q']['symbolic_unmasked']"
   ]
  },
  {
   "cell_type": "code",
   "execution_count": 165,
   "metadata": {},
   "outputs": [
    {
     "data": {
      "text/plain": [
       "masked                        22.837894\n",
       "symbolic_masked               52.568261\n",
       "symbolic_unmasked            207.834582\n",
       "unmasked                      83.852503\n",
       "upfront_masked                 1.759220\n",
       "upfront_symbolic_masked       32.897718\n",
       "upfront_symbolic_unmasked    123.921391\n",
       "upfront_unmasked               8.457561\n",
       "Name: Q, dtype: float64"
      ]
     },
     "execution_count": 165,
     "metadata": {},
     "output_type": "execute_result"
    }
   ],
   "source": [
    "Qs = comparison7['Q']; Qs"
   ]
  },
  {
   "cell_type": "code",
   "execution_count": 166,
   "metadata": {},
   "outputs": [
    {
     "data": {
      "text/plain": [
       "0.7470668256126523"
      ]
     },
     "execution_count": 166,
     "metadata": {},
     "output_type": "execute_result"
    }
   ],
   "source": [
    "(Qs['symbolic_unmasked'] - Qs['symbolic_masked'])/Qs['symbolic_unmasked']"
   ]
  },
  {
   "cell_type": "code",
   "execution_count": 167,
   "metadata": {},
   "outputs": [
    {
     "ename": "KeyError",
     "evalue": "'unmasked_symbolic'",
     "output_type": "error",
     "traceback": [
      "\u001b[0;31m---------------------------------------------------------------------------\u001b[0m",
      "\u001b[0;31mKeyError\u001b[0m                                  Traceback (most recent call last)",
      "\u001b[0;32m/usr/lib64/python3.8/site-packages/pandas/core/indexes/base.py\u001b[0m in \u001b[0;36mget_loc\u001b[0;34m(self, key, method, tolerance)\u001b[0m\n\u001b[1;32m   2896\u001b[0m             \u001b[0;32mtry\u001b[0m\u001b[0;34m:\u001b[0m\u001b[0;34m\u001b[0m\u001b[0;34m\u001b[0m\u001b[0m\n\u001b[0;32m-> 2897\u001b[0;31m                 \u001b[0;32mreturn\u001b[0m \u001b[0mself\u001b[0m\u001b[0;34m.\u001b[0m\u001b[0m_engine\u001b[0m\u001b[0;34m.\u001b[0m\u001b[0mget_loc\u001b[0m\u001b[0;34m(\u001b[0m\u001b[0mkey\u001b[0m\u001b[0;34m)\u001b[0m\u001b[0;34m\u001b[0m\u001b[0;34m\u001b[0m\u001b[0m\n\u001b[0m\u001b[1;32m   2898\u001b[0m             \u001b[0;32mexcept\u001b[0m \u001b[0mKeyError\u001b[0m\u001b[0;34m:\u001b[0m\u001b[0;34m\u001b[0m\u001b[0;34m\u001b[0m\u001b[0m\n",
      "\u001b[0;32mpandas/_libs/index.pyx\u001b[0m in \u001b[0;36mpandas._libs.index.IndexEngine.get_loc\u001b[0;34m()\u001b[0m\n",
      "\u001b[0;32mpandas/_libs/index.pyx\u001b[0m in \u001b[0;36mpandas._libs.index.IndexEngine.get_loc\u001b[0;34m()\u001b[0m\n",
      "\u001b[0;32mpandas/_libs/hashtable_class_helper.pxi\u001b[0m in \u001b[0;36mpandas._libs.hashtable.PyObjectHashTable.get_item\u001b[0;34m()\u001b[0m\n",
      "\u001b[0;32mpandas/_libs/hashtable_class_helper.pxi\u001b[0m in \u001b[0;36mpandas._libs.hashtable.PyObjectHashTable.get_item\u001b[0;34m()\u001b[0m\n",
      "\u001b[0;31mKeyError\u001b[0m: 'unmasked_symbolic'",
      "\nDuring handling of the above exception, another exception occurred:\n",
      "\u001b[0;31mKeyError\u001b[0m                                  Traceback (most recent call last)",
      "\u001b[0;32m<ipython-input-167-132b2d0db02a>\u001b[0m in \u001b[0;36m<module>\u001b[0;34m()\u001b[0m\n\u001b[0;32m----> 1\u001b[0;31m \u001b[0mcomparison7\u001b[0m\u001b[0;34m[\u001b[0m\u001b[0;34m'unmasked_symbolic'\u001b[0m\u001b[0;34m]\u001b[0m\u001b[0;34m[\u001b[0m\u001b[0;34m'Q'\u001b[0m\u001b[0;34m]\u001b[0m\u001b[0;34m\u001b[0m\u001b[0;34m\u001b[0m\u001b[0m\n\u001b[0m",
      "\u001b[0;32m/usr/lib64/python3.8/site-packages/pandas/core/frame.py\u001b[0m in \u001b[0;36m__getitem__\u001b[0;34m(self, key)\u001b[0m\n\u001b[1;32m   2993\u001b[0m             \u001b[0;32mif\u001b[0m \u001b[0mself\u001b[0m\u001b[0;34m.\u001b[0m\u001b[0mcolumns\u001b[0m\u001b[0;34m.\u001b[0m\u001b[0mnlevels\u001b[0m \u001b[0;34m>\u001b[0m \u001b[0;36m1\u001b[0m\u001b[0;34m:\u001b[0m\u001b[0;34m\u001b[0m\u001b[0;34m\u001b[0m\u001b[0m\n\u001b[1;32m   2994\u001b[0m                 \u001b[0;32mreturn\u001b[0m \u001b[0mself\u001b[0m\u001b[0;34m.\u001b[0m\u001b[0m_getitem_multilevel\u001b[0m\u001b[0;34m(\u001b[0m\u001b[0mkey\u001b[0m\u001b[0;34m)\u001b[0m\u001b[0;34m\u001b[0m\u001b[0;34m\u001b[0m\u001b[0m\n\u001b[0;32m-> 2995\u001b[0;31m             \u001b[0mindexer\u001b[0m \u001b[0;34m=\u001b[0m \u001b[0mself\u001b[0m\u001b[0;34m.\u001b[0m\u001b[0mcolumns\u001b[0m\u001b[0;34m.\u001b[0m\u001b[0mget_loc\u001b[0m\u001b[0;34m(\u001b[0m\u001b[0mkey\u001b[0m\u001b[0;34m)\u001b[0m\u001b[0;34m\u001b[0m\u001b[0;34m\u001b[0m\u001b[0m\n\u001b[0m\u001b[1;32m   2996\u001b[0m             \u001b[0;32mif\u001b[0m \u001b[0mis_integer\u001b[0m\u001b[0;34m(\u001b[0m\u001b[0mindexer\u001b[0m\u001b[0;34m)\u001b[0m\u001b[0;34m:\u001b[0m\u001b[0;34m\u001b[0m\u001b[0;34m\u001b[0m\u001b[0m\n\u001b[1;32m   2997\u001b[0m                 \u001b[0mindexer\u001b[0m \u001b[0;34m=\u001b[0m \u001b[0;34m[\u001b[0m\u001b[0mindexer\u001b[0m\u001b[0;34m]\u001b[0m\u001b[0;34m\u001b[0m\u001b[0;34m\u001b[0m\u001b[0m\n",
      "\u001b[0;32m/usr/lib64/python3.8/site-packages/pandas/core/indexes/base.py\u001b[0m in \u001b[0;36mget_loc\u001b[0;34m(self, key, method, tolerance)\u001b[0m\n\u001b[1;32m   2897\u001b[0m                 \u001b[0;32mreturn\u001b[0m \u001b[0mself\u001b[0m\u001b[0;34m.\u001b[0m\u001b[0m_engine\u001b[0m\u001b[0;34m.\u001b[0m\u001b[0mget_loc\u001b[0m\u001b[0;34m(\u001b[0m\u001b[0mkey\u001b[0m\u001b[0;34m)\u001b[0m\u001b[0;34m\u001b[0m\u001b[0;34m\u001b[0m\u001b[0m\n\u001b[1;32m   2898\u001b[0m             \u001b[0;32mexcept\u001b[0m \u001b[0mKeyError\u001b[0m\u001b[0;34m:\u001b[0m\u001b[0;34m\u001b[0m\u001b[0;34m\u001b[0m\u001b[0m\n\u001b[0;32m-> 2899\u001b[0;31m                 \u001b[0;32mreturn\u001b[0m \u001b[0mself\u001b[0m\u001b[0;34m.\u001b[0m\u001b[0m_engine\u001b[0m\u001b[0;34m.\u001b[0m\u001b[0mget_loc\u001b[0m\u001b[0;34m(\u001b[0m\u001b[0mself\u001b[0m\u001b[0;34m.\u001b[0m\u001b[0m_maybe_cast_indexer\u001b[0m\u001b[0;34m(\u001b[0m\u001b[0mkey\u001b[0m\u001b[0;34m)\u001b[0m\u001b[0;34m)\u001b[0m\u001b[0;34m\u001b[0m\u001b[0;34m\u001b[0m\u001b[0m\n\u001b[0m\u001b[1;32m   2900\u001b[0m         \u001b[0mindexer\u001b[0m \u001b[0;34m=\u001b[0m \u001b[0mself\u001b[0m\u001b[0;34m.\u001b[0m\u001b[0mget_indexer\u001b[0m\u001b[0;34m(\u001b[0m\u001b[0;34m[\u001b[0m\u001b[0mkey\u001b[0m\u001b[0;34m]\u001b[0m\u001b[0;34m,\u001b[0m \u001b[0mmethod\u001b[0m\u001b[0;34m=\u001b[0m\u001b[0mmethod\u001b[0m\u001b[0;34m,\u001b[0m \u001b[0mtolerance\u001b[0m\u001b[0;34m=\u001b[0m\u001b[0mtolerance\u001b[0m\u001b[0;34m)\u001b[0m\u001b[0;34m\u001b[0m\u001b[0;34m\u001b[0m\u001b[0m\n\u001b[1;32m   2901\u001b[0m         \u001b[0;32mif\u001b[0m \u001b[0mindexer\u001b[0m\u001b[0;34m.\u001b[0m\u001b[0mndim\u001b[0m \u001b[0;34m>\u001b[0m \u001b[0;36m1\u001b[0m \u001b[0;32mor\u001b[0m \u001b[0mindexer\u001b[0m\u001b[0;34m.\u001b[0m\u001b[0msize\u001b[0m \u001b[0;34m>\u001b[0m \u001b[0;36m1\u001b[0m\u001b[0;34m:\u001b[0m\u001b[0;34m\u001b[0m\u001b[0;34m\u001b[0m\u001b[0m\n",
      "\u001b[0;32mpandas/_libs/index.pyx\u001b[0m in \u001b[0;36mpandas._libs.index.IndexEngine.get_loc\u001b[0;34m()\u001b[0m\n",
      "\u001b[0;32mpandas/_libs/index.pyx\u001b[0m in \u001b[0;36mpandas._libs.index.IndexEngine.get_loc\u001b[0;34m()\u001b[0m\n",
      "\u001b[0;32mpandas/_libs/hashtable_class_helper.pxi\u001b[0m in \u001b[0;36mpandas._libs.hashtable.PyObjectHashTable.get_item\u001b[0;34m()\u001b[0m\n",
      "\u001b[0;32mpandas/_libs/hashtable_class_helper.pxi\u001b[0m in \u001b[0;36mpandas._libs.hashtable.PyObjectHashTable.get_item\u001b[0;34m()\u001b[0m\n",
      "\u001b[0;31mKeyError\u001b[0m: 'unmasked_symbolic'"
     ]
    }
   ],
   "source": [
    "comparison7['unmasked_symbolic']['Q']"
   ]
  },
  {
   "cell_type": "code",
   "execution_count": 168,
   "metadata": {},
   "outputs": [
    {
     "ename": "KeyError",
     "evalue": "'unmasked_symbolic'",
     "output_type": "error",
     "traceback": [
      "\u001b[0;31m---------------------------------------------------------------------------\u001b[0m",
      "\u001b[0;31mKeyError\u001b[0m                                  Traceback (most recent call last)",
      "\u001b[0;32m/usr/lib64/python3.8/site-packages/pandas/core/indexes/base.py\u001b[0m in \u001b[0;36mget_loc\u001b[0;34m(self, key, method, tolerance)\u001b[0m\n\u001b[1;32m   2896\u001b[0m             \u001b[0;32mtry\u001b[0m\u001b[0;34m:\u001b[0m\u001b[0;34m\u001b[0m\u001b[0;34m\u001b[0m\u001b[0m\n\u001b[0;32m-> 2897\u001b[0;31m                 \u001b[0;32mreturn\u001b[0m \u001b[0mself\u001b[0m\u001b[0;34m.\u001b[0m\u001b[0m_engine\u001b[0m\u001b[0;34m.\u001b[0m\u001b[0mget_loc\u001b[0m\u001b[0;34m(\u001b[0m\u001b[0mkey\u001b[0m\u001b[0;34m)\u001b[0m\u001b[0;34m\u001b[0m\u001b[0;34m\u001b[0m\u001b[0m\n\u001b[0m\u001b[1;32m   2898\u001b[0m             \u001b[0;32mexcept\u001b[0m \u001b[0mKeyError\u001b[0m\u001b[0;34m:\u001b[0m\u001b[0;34m\u001b[0m\u001b[0;34m\u001b[0m\u001b[0m\n",
      "\u001b[0;32mpandas/_libs/index.pyx\u001b[0m in \u001b[0;36mpandas._libs.index.IndexEngine.get_loc\u001b[0;34m()\u001b[0m\n",
      "\u001b[0;32mpandas/_libs/index.pyx\u001b[0m in \u001b[0;36mpandas._libs.index.IndexEngine.get_loc\u001b[0;34m()\u001b[0m\n",
      "\u001b[0;32mpandas/_libs/hashtable_class_helper.pxi\u001b[0m in \u001b[0;36mpandas._libs.hashtable.PyObjectHashTable.get_item\u001b[0;34m()\u001b[0m\n",
      "\u001b[0;32mpandas/_libs/hashtable_class_helper.pxi\u001b[0m in \u001b[0;36mpandas._libs.hashtable.PyObjectHashTable.get_item\u001b[0;34m()\u001b[0m\n",
      "\u001b[0;31mKeyError\u001b[0m: 'unmasked_symbolic'",
      "\nDuring handling of the above exception, another exception occurred:\n",
      "\u001b[0;31mKeyError\u001b[0m                                  Traceback (most recent call last)",
      "\u001b[0;32m<ipython-input-168-7d35a544b5c3>\u001b[0m in \u001b[0;36m<module>\u001b[0;34m()\u001b[0m\n\u001b[0;32m----> 1\u001b[0;31m \u001b[0;34m(\u001b[0m\u001b[0mcomparison7\u001b[0m\u001b[0;34m[\u001b[0m\u001b[0;34m'unmasked_symbolic'\u001b[0m\u001b[0;34m]\u001b[0m\u001b[0;34m[\u001b[0m\u001b[0;34m'Q'\u001b[0m\u001b[0;34m]\u001b[0m \u001b[0;34m-\u001b[0m \u001b[0mcomparison7\u001b[0m\u001b[0;34m[\u001b[0m\u001b[0;34m'masked_symbolic'\u001b[0m\u001b[0;34m]\u001b[0m\u001b[0;34m[\u001b[0m\u001b[0;34m'Q'\u001b[0m\u001b[0;34m]\u001b[0m\u001b[0;34m)\u001b[0m \u001b[0;34m/\u001b[0m \u001b[0mcomparison7\u001b[0m\u001b[0;34m[\u001b[0m\u001b[0;34m'unmasked_symbolic'\u001b[0m\u001b[0;34m]\u001b[0m\u001b[0;34m[\u001b[0m\u001b[0;34m'Q'\u001b[0m\u001b[0;34m]\u001b[0m\u001b[0;34m\u001b[0m\u001b[0;34m\u001b[0m\u001b[0m\n\u001b[0m",
      "\u001b[0;32m/usr/lib64/python3.8/site-packages/pandas/core/frame.py\u001b[0m in \u001b[0;36m__getitem__\u001b[0;34m(self, key)\u001b[0m\n\u001b[1;32m   2993\u001b[0m             \u001b[0;32mif\u001b[0m \u001b[0mself\u001b[0m\u001b[0;34m.\u001b[0m\u001b[0mcolumns\u001b[0m\u001b[0;34m.\u001b[0m\u001b[0mnlevels\u001b[0m \u001b[0;34m>\u001b[0m \u001b[0;36m1\u001b[0m\u001b[0;34m:\u001b[0m\u001b[0;34m\u001b[0m\u001b[0;34m\u001b[0m\u001b[0m\n\u001b[1;32m   2994\u001b[0m                 \u001b[0;32mreturn\u001b[0m \u001b[0mself\u001b[0m\u001b[0;34m.\u001b[0m\u001b[0m_getitem_multilevel\u001b[0m\u001b[0;34m(\u001b[0m\u001b[0mkey\u001b[0m\u001b[0;34m)\u001b[0m\u001b[0;34m\u001b[0m\u001b[0;34m\u001b[0m\u001b[0m\n\u001b[0;32m-> 2995\u001b[0;31m             \u001b[0mindexer\u001b[0m \u001b[0;34m=\u001b[0m \u001b[0mself\u001b[0m\u001b[0;34m.\u001b[0m\u001b[0mcolumns\u001b[0m\u001b[0;34m.\u001b[0m\u001b[0mget_loc\u001b[0m\u001b[0;34m(\u001b[0m\u001b[0mkey\u001b[0m\u001b[0;34m)\u001b[0m\u001b[0;34m\u001b[0m\u001b[0;34m\u001b[0m\u001b[0m\n\u001b[0m\u001b[1;32m   2996\u001b[0m             \u001b[0;32mif\u001b[0m \u001b[0mis_integer\u001b[0m\u001b[0;34m(\u001b[0m\u001b[0mindexer\u001b[0m\u001b[0;34m)\u001b[0m\u001b[0;34m:\u001b[0m\u001b[0;34m\u001b[0m\u001b[0;34m\u001b[0m\u001b[0m\n\u001b[1;32m   2997\u001b[0m                 \u001b[0mindexer\u001b[0m \u001b[0;34m=\u001b[0m \u001b[0;34m[\u001b[0m\u001b[0mindexer\u001b[0m\u001b[0;34m]\u001b[0m\u001b[0;34m\u001b[0m\u001b[0;34m\u001b[0m\u001b[0m\n",
      "\u001b[0;32m/usr/lib64/python3.8/site-packages/pandas/core/indexes/base.py\u001b[0m in \u001b[0;36mget_loc\u001b[0;34m(self, key, method, tolerance)\u001b[0m\n\u001b[1;32m   2897\u001b[0m                 \u001b[0;32mreturn\u001b[0m \u001b[0mself\u001b[0m\u001b[0;34m.\u001b[0m\u001b[0m_engine\u001b[0m\u001b[0;34m.\u001b[0m\u001b[0mget_loc\u001b[0m\u001b[0;34m(\u001b[0m\u001b[0mkey\u001b[0m\u001b[0;34m)\u001b[0m\u001b[0;34m\u001b[0m\u001b[0;34m\u001b[0m\u001b[0m\n\u001b[1;32m   2898\u001b[0m             \u001b[0;32mexcept\u001b[0m \u001b[0mKeyError\u001b[0m\u001b[0;34m:\u001b[0m\u001b[0;34m\u001b[0m\u001b[0;34m\u001b[0m\u001b[0m\n\u001b[0;32m-> 2899\u001b[0;31m                 \u001b[0;32mreturn\u001b[0m \u001b[0mself\u001b[0m\u001b[0;34m.\u001b[0m\u001b[0m_engine\u001b[0m\u001b[0;34m.\u001b[0m\u001b[0mget_loc\u001b[0m\u001b[0;34m(\u001b[0m\u001b[0mself\u001b[0m\u001b[0;34m.\u001b[0m\u001b[0m_maybe_cast_indexer\u001b[0m\u001b[0;34m(\u001b[0m\u001b[0mkey\u001b[0m\u001b[0;34m)\u001b[0m\u001b[0;34m)\u001b[0m\u001b[0;34m\u001b[0m\u001b[0;34m\u001b[0m\u001b[0m\n\u001b[0m\u001b[1;32m   2900\u001b[0m         \u001b[0mindexer\u001b[0m \u001b[0;34m=\u001b[0m \u001b[0mself\u001b[0m\u001b[0;34m.\u001b[0m\u001b[0mget_indexer\u001b[0m\u001b[0;34m(\u001b[0m\u001b[0;34m[\u001b[0m\u001b[0mkey\u001b[0m\u001b[0;34m]\u001b[0m\u001b[0;34m,\u001b[0m \u001b[0mmethod\u001b[0m\u001b[0;34m=\u001b[0m\u001b[0mmethod\u001b[0m\u001b[0;34m,\u001b[0m \u001b[0mtolerance\u001b[0m\u001b[0;34m=\u001b[0m\u001b[0mtolerance\u001b[0m\u001b[0;34m)\u001b[0m\u001b[0;34m\u001b[0m\u001b[0;34m\u001b[0m\u001b[0m\n\u001b[1;32m   2901\u001b[0m         \u001b[0;32mif\u001b[0m \u001b[0mindexer\u001b[0m\u001b[0;34m.\u001b[0m\u001b[0mndim\u001b[0m \u001b[0;34m>\u001b[0m \u001b[0;36m1\u001b[0m \u001b[0;32mor\u001b[0m \u001b[0mindexer\u001b[0m\u001b[0;34m.\u001b[0m\u001b[0msize\u001b[0m \u001b[0;34m>\u001b[0m \u001b[0;36m1\u001b[0m\u001b[0;34m:\u001b[0m\u001b[0;34m\u001b[0m\u001b[0;34m\u001b[0m\u001b[0m\n",
      "\u001b[0;32mpandas/_libs/index.pyx\u001b[0m in \u001b[0;36mpandas._libs.index.IndexEngine.get_loc\u001b[0;34m()\u001b[0m\n",
      "\u001b[0;32mpandas/_libs/index.pyx\u001b[0m in \u001b[0;36mpandas._libs.index.IndexEngine.get_loc\u001b[0;34m()\u001b[0m\n",
      "\u001b[0;32mpandas/_libs/hashtable_class_helper.pxi\u001b[0m in \u001b[0;36mpandas._libs.hashtable.PyObjectHashTable.get_item\u001b[0;34m()\u001b[0m\n",
      "\u001b[0;32mpandas/_libs/hashtable_class_helper.pxi\u001b[0m in \u001b[0;36mpandas._libs.hashtable.PyObjectHashTable.get_item\u001b[0;34m()\u001b[0m\n",
      "\u001b[0;31mKeyError\u001b[0m: 'unmasked_symbolic'"
     ]
    }
   ],
   "source": [
    "(comparison7['unmasked_symbolic']['Q'] - comparison7['masked_symbolic']['Q']) / comparison7['unmasked_symbolic']['Q']"
   ]
  },
  {
   "cell_type": "code",
   "execution_count": null,
   "metadata": {},
   "outputs": [],
   "source": []
  },
  {
   "cell_type": "code",
   "execution_count": null,
   "metadata": {},
   "outputs": [],
   "source": []
  },
  {
   "cell_type": "code",
   "execution_count": 58,
   "metadata": {
    "collapsed": true,
    "jupyter": {
     "outputs_hidden": true
    }
   },
   "outputs": [
    {
     "data": {
      "text/plain": [
       "<matplotlib.axes._subplots.AxesSubplot at 0x7f170b4c1340>"
      ]
     },
     "execution_count": 58,
     "metadata": {},
     "output_type": "execute_result"
    },
    {
     "data": {
      "image/png": "[encoded data removed]",
      "text/plain": [
       "<Figure size 432x288 with 1 Axes>"
      ]
     },
     "metadata": {
      "needs_background": "light"
     },
     "output_type": "display_data"
    }
   ],
   "source": [
    "p = comparison6[cols[:-1]].plot(\n",
    "                    kind='barh', stacked=True, grid=False,\n",
    "                     color=rearranged_colors)\n",
    "p"
   ]
  },
  {
   "cell_type": "code",
   "execution_count": 28,
   "metadata": {},
   "outputs": [
    {
     "data": {
      "text/html": [
       "<div>\n",
       "<style scoped>\n",
       "    .dataframe tbody tr th:only-of-type {\n",
       "        vertical-align: middle;\n",
       "    }\n",
       "\n",
       "    .dataframe tbody tr th {\n",
       "        vertical-align: top;\n",
       "    }\n",
       "\n",
       "    .dataframe thead th {\n",
       "        text-align: right;\n",
       "    }\n",
       "</style>\n",
       "<table border=\"1\" class=\"dataframe\">\n",
       "  <thead>\n",
       "    <tr style=\"text-align: right;\">\n",
       "      <th></th>\n",
       "      <th>upfront_unmasked</th>\n",
       "      <th>unmasked</th>\n",
       "      <th>symbolic_unmasked</th>\n",
       "      <th>symbolic_masked</th>\n",
       "    </tr>\n",
       "  </thead>\n",
       "  <tbody>\n",
       "    <tr>\n",
       "      <th>Flow*</th>\n",
       "      <td>82.258631</td>\n",
       "      <td>79.551850</td>\n",
       "      <td>78.870518</td>\n",
       "      <td>78.083259</td>\n",
       "    </tr>\n",
       "    <tr>\n",
       "      <th>unpreconditioning</th>\n",
       "      <td>77.629671</td>\n",
       "      <td>0.000000</td>\n",
       "      <td>0.000000</td>\n",
       "      <td>0.000000</td>\n",
       "    </tr>\n",
       "    <tr>\n",
       "      <th>P</th>\n",
       "      <td>2.871566</td>\n",
       "      <td>28.578011</td>\n",
       "      <td>21.243604</td>\n",
       "      <td>6.771044</td>\n",
       "    </tr>\n",
       "    <tr>\n",
       "      <th>Q</th>\n",
       "      <td>6.497924</td>\n",
       "      <td>67.533209</td>\n",
       "      <td>237.785437</td>\n",
       "      <td>54.428931</td>\n",
       "    </tr>\n",
       "    <tr>\n",
       "      <th>G(P | G(Q))</th>\n",
       "      <td>9.463389</td>\n",
       "      <td>96.202800</td>\n",
       "      <td>259.128790</td>\n",
       "      <td>61.303555</td>\n",
       "    </tr>\n",
       "    <tr>\n",
       "      <th>tentative eval</th>\n",
       "      <td>0.000000</td>\n",
       "      <td>3.073284</td>\n",
       "      <td>3.592893</td>\n",
       "      <td>0.646078</td>\n",
       "    </tr>\n",
       "    <tr>\n",
       "      <th>eval</th>\n",
       "      <td>4.841570</td>\n",
       "      <td>3.833150</td>\n",
       "      <td>2.413262</td>\n",
       "      <td>0.617105</td>\n",
       "    </tr>\n",
       "    <tr>\n",
       "      <th>root detection</th>\n",
       "      <td>4.310877</td>\n",
       "      <td>5.651744</td>\n",
       "      <td>0.037560</td>\n",
       "      <td>0.013074</td>\n",
       "    </tr>\n",
       "    <tr>\n",
       "      <th>composing flowpipe</th>\n",
       "      <td>77.574421</td>\n",
       "      <td>83.307537</td>\n",
       "      <td>58.222266</td>\n",
       "      <td>13.728399</td>\n",
       "    </tr>\n",
       "    <tr>\n",
       "      <th>composing atomic</th>\n",
       "      <td>0.021429</td>\n",
       "      <td>0.028341</td>\n",
       "      <td>193.635825</td>\n",
       "      <td>45.798945</td>\n",
       "    </tr>\n",
       "    <tr>\n",
       "      <th>Total</th>\n",
       "      <td>169.491295</td>\n",
       "      <td>175.894812</td>\n",
       "      <td>338.123532</td>\n",
       "      <td>139.507228</td>\n",
       "    </tr>\n",
       "  </tbody>\n",
       "</table>\n",
       "</div>"
      ],
      "text/plain": [
       "                    upfront_unmasked    unmasked  symbolic_unmasked  \\\n",
       "Flow*                      82.258631   79.551850          78.870518   \n",
       "unpreconditioning          77.629671    0.000000           0.000000   \n",
       "P                           2.871566   28.578011          21.243604   \n",
       "Q                           6.497924   67.533209         237.785437   \n",
       "G(P | G(Q))                 9.463389   96.202800         259.128790   \n",
       "tentative eval              0.000000    3.073284           3.592893   \n",
       "eval                        4.841570    3.833150           2.413262   \n",
       "root detection              4.310877    5.651744           0.037560   \n",
       "composing flowpipe         77.574421   83.307537          58.222266   \n",
       "composing atomic            0.021429    0.028341         193.635825   \n",
       "Total                     169.491295  175.894812         338.123532   \n",
       "\n",
       "                    symbolic_masked  \n",
       "Flow*                     78.083259  \n",
       "unpreconditioning          0.000000  \n",
       "P                          6.771044  \n",
       "Q                         54.428931  \n",
       "G(P | G(Q))               61.303555  \n",
       "tentative eval             0.646078  \n",
       "eval                       0.617105  \n",
       "root detection             0.013074  \n",
       "composing flowpipe        13.728399  \n",
       "composing atomic          45.798945  \n",
       "Total                    139.507228  "
      ]
     },
     "execution_count": 28,
     "metadata": {},
     "output_type": "execute_result"
    }
   ],
   "source": [
    "comparison.loc[:,chosen_columns]"
   ]
  },
  {
   "cell_type": "code",
   "execution_count": 29,
   "metadata": {},
   "outputs": [],
   "source": [
    "p.get_figure().savefig('images/comparison-analysis7-bar-chart-2.pdf')"
   ]
  },
  {
   "cell_type": "code",
   "execution_count": 30,
   "metadata": {},
   "outputs": [],
   "source": [
    "comparison5 = comparison6.copy()"
   ]
  },
  {
   "cell_type": "code",
   "execution_count": 31,
   "metadata": {},
   "outputs": [
    {
     "data": {
      "text/html": [
       "<div>\n",
       "<style scoped>\n",
       "    .dataframe tbody tr th:only-of-type {\n",
       "        vertical-align: middle;\n",
       "    }\n",
       "\n",
       "    .dataframe tbody tr th {\n",
       "        vertical-align: top;\n",
       "    }\n",
       "\n",
       "    .dataframe thead th {\n",
       "        text-align: right;\n",
       "    }\n",
       "</style>\n",
       "<table border=\"1\" class=\"dataframe\">\n",
       "  <thead>\n",
       "    <tr style=\"text-align: right;\">\n",
       "      <th></th>\n",
       "      <th>Flow*</th>\n",
       "      <th>G(P | G(Q))</th>\n",
       "    </tr>\n",
       "  </thead>\n",
       "  <tbody>\n",
       "    <tr>\n",
       "      <th>upfront_symbolic_masked</th>\n",
       "      <td>77.704968</td>\n",
       "      <td>25.222963</td>\n",
       "    </tr>\n",
       "    <tr>\n",
       "      <th>symbolic_masked</th>\n",
       "      <td>78.083259</td>\n",
       "      <td>61.303555</td>\n",
       "    </tr>\n",
       "    <tr>\n",
       "      <th>upfront_masked</th>\n",
       "      <td>82.934898</td>\n",
       "      <td>1.853803</td>\n",
       "    </tr>\n",
       "    <tr>\n",
       "      <th>masked</th>\n",
       "      <td>87.898530</td>\n",
       "      <td>48.431379</td>\n",
       "    </tr>\n",
       "    <tr>\n",
       "      <th>upfront_symbolic_unmasked</th>\n",
       "      <td>80.336791</td>\n",
       "      <td>117.882873</td>\n",
       "    </tr>\n",
       "    <tr>\n",
       "      <th>symbolic_unmasked</th>\n",
       "      <td>78.870518</td>\n",
       "      <td>259.128790</td>\n",
       "    </tr>\n",
       "    <tr>\n",
       "      <th>upfront_unmasked</th>\n",
       "      <td>82.258631</td>\n",
       "      <td>9.463389</td>\n",
       "    </tr>\n",
       "    <tr>\n",
       "      <th>unmasked</th>\n",
       "      <td>79.551850</td>\n",
       "      <td>96.202800</td>\n",
       "    </tr>\n",
       "  </tbody>\n",
       "</table>\n",
       "</div>"
      ],
      "text/plain": [
       "                               Flow*  G(P | G(Q))\n",
       "upfront_symbolic_masked    77.704968    25.222963\n",
       "symbolic_masked            78.083259    61.303555\n",
       "upfront_masked             82.934898     1.853803\n",
       "masked                     87.898530    48.431379\n",
       "upfront_symbolic_unmasked  80.336791   117.882873\n",
       "symbolic_unmasked          78.870518   259.128790\n",
       "upfront_unmasked           82.258631     9.463389\n",
       "unmasked                   79.551850    96.202800"
      ]
     },
     "execution_count": 31,
     "metadata": {},
     "output_type": "execute_result"
    }
   ],
   "source": [
    "comparison.loc[['Flow*', 'G(P | G(Q))'], :].transpose()"
   ]
  },
  {
   "cell_type": "code",
   "execution_count": 32,
   "metadata": {},
   "outputs": [
    {
     "data": {
      "text/plain": [
       "masked                       0.245319\n",
       "symbolic_masked              0.223994\n",
       "symbolic_unmasked            0.223973\n",
       "unmasked                     0.231742\n",
       "upfront_masked               0.238025\n",
       "upfront_symbolic_masked      0.228357\n",
       "upfront_symbolic_unmasked    0.217138\n",
       "upfront_unmasked             0.233503\n",
       "dtype: float64"
      ]
     },
     "execution_count": 32,
     "metadata": {},
     "output_type": "execute_result"
    }
   ],
   "source": [
    "rem = comparison.loc[['Total'], :].transpose().sum(axis=1) - comparison6.sum(axis=1)\n",
    "rem"
   ]
  },
  {
   "cell_type": "code",
   "execution_count": 33,
   "metadata": {},
   "outputs": [],
   "source": [
    "comparison6.loc[:,'Remainder'] = rem"
   ]
  },
  {
   "cell_type": "code",
   "execution_count": 34,
   "metadata": {},
   "outputs": [
    {
     "data": {
      "text/html": [
       "<div>\n",
       "<style scoped>\n",
       "    .dataframe tbody tr th:only-of-type {\n",
       "        vertical-align: middle;\n",
       "    }\n",
       "\n",
       "    .dataframe tbody tr th {\n",
       "        vertical-align: top;\n",
       "    }\n",
       "\n",
       "    .dataframe thead th {\n",
       "        text-align: right;\n",
       "    }\n",
       "</style>\n",
       "<table border=\"1\" class=\"dataframe\">\n",
       "  <thead>\n",
       "    <tr style=\"text-align: right;\">\n",
       "      <th></th>\n",
       "      <th>Flow*</th>\n",
       "      <th>unpreconditioning</th>\n",
       "      <th>P</th>\n",
       "      <th>Q</th>\n",
       "      <th>Remainder</th>\n",
       "    </tr>\n",
       "  </thead>\n",
       "  <tbody>\n",
       "    <tr>\n",
       "      <th>masked</th>\n",
       "      <td>87.898530</td>\n",
       "      <td>0.000000</td>\n",
       "      <td>9.285413</td>\n",
       "      <td>39.050409</td>\n",
       "      <td>0.245319</td>\n",
       "    </tr>\n",
       "    <tr>\n",
       "      <th>symbolic_masked</th>\n",
       "      <td>78.083259</td>\n",
       "      <td>0.000000</td>\n",
       "      <td>6.771044</td>\n",
       "      <td>54.428931</td>\n",
       "      <td>0.223994</td>\n",
       "    </tr>\n",
       "    <tr>\n",
       "      <th>symbolic_unmasked</th>\n",
       "      <td>78.870518</td>\n",
       "      <td>0.000000</td>\n",
       "      <td>21.243604</td>\n",
       "      <td>237.785437</td>\n",
       "      <td>0.223973</td>\n",
       "    </tr>\n",
       "    <tr>\n",
       "      <th>unmasked</th>\n",
       "      <td>79.551850</td>\n",
       "      <td>0.000000</td>\n",
       "      <td>28.578011</td>\n",
       "      <td>67.533209</td>\n",
       "      <td>0.231742</td>\n",
       "    </tr>\n",
       "    <tr>\n",
       "      <th>upfront_masked</th>\n",
       "      <td>82.934898</td>\n",
       "      <td>79.827351</td>\n",
       "      <td>0.733038</td>\n",
       "      <td>1.026020</td>\n",
       "      <td>0.238025</td>\n",
       "    </tr>\n",
       "    <tr>\n",
       "      <th>upfront_symbolic_masked</th>\n",
       "      <td>77.704968</td>\n",
       "      <td>67.341991</td>\n",
       "      <td>0.429924</td>\n",
       "      <td>24.689693</td>\n",
       "      <td>0.228357</td>\n",
       "    </tr>\n",
       "    <tr>\n",
       "      <th>upfront_symbolic_unmasked</th>\n",
       "      <td>80.336791</td>\n",
       "      <td>66.905820</td>\n",
       "      <td>1.816989</td>\n",
       "      <td>115.969380</td>\n",
       "      <td>0.217138</td>\n",
       "    </tr>\n",
       "    <tr>\n",
       "      <th>upfront_unmasked</th>\n",
       "      <td>82.258631</td>\n",
       "      <td>77.629671</td>\n",
       "      <td>2.871566</td>\n",
       "      <td>6.497924</td>\n",
       "      <td>0.233503</td>\n",
       "    </tr>\n",
       "  </tbody>\n",
       "</table>\n",
       "</div>"
      ],
      "text/plain": [
       "                               Flow*  unpreconditioning          P  \\\n",
       "masked                     87.898530           0.000000   9.285413   \n",
       "symbolic_masked            78.083259           0.000000   6.771044   \n",
       "symbolic_unmasked          78.870518           0.000000  21.243604   \n",
       "unmasked                   79.551850           0.000000  28.578011   \n",
       "upfront_masked             82.934898          79.827351   0.733038   \n",
       "upfront_symbolic_masked    77.704968          67.341991   0.429924   \n",
       "upfront_symbolic_unmasked  80.336791          66.905820   1.816989   \n",
       "upfront_unmasked           82.258631          77.629671   2.871566   \n",
       "\n",
       "                                    Q  Remainder  \n",
       "masked                      39.050409   0.245319  \n",
       "symbolic_masked             54.428931   0.223994  \n",
       "symbolic_unmasked          237.785437   0.223973  \n",
       "unmasked                    67.533209   0.231742  \n",
       "upfront_masked               1.026020   0.238025  \n",
       "upfront_symbolic_masked     24.689693   0.228357  \n",
       "upfront_symbolic_unmasked  115.969380   0.217138  \n",
       "upfront_unmasked             6.497924   0.233503  "
      ]
     },
     "execution_count": 34,
     "metadata": {},
     "output_type": "execute_result"
    }
   ],
   "source": [
    "comparison6"
   ]
  },
  {
   "cell_type": "code",
   "execution_count": 35,
   "metadata": {},
   "outputs": [],
   "source": [
    "comparison5.to_csv(\"data/comparison-remainder-analysis.csv\")"
   ]
  },
  {
   "cell_type": "code",
   "execution_count": 36,
   "metadata": {},
   "outputs": [
    {
     "data": {
      "text/plain": [
       "<matplotlib.axes._subplots.AxesSubplot at 0x7f170f9ed220>"
      ]
     },
     "execution_count": 36,
     "metadata": {},
     "output_type": "execute_result"
    },
    {
     "data": {
      "image/png": "[encoded data removed]",
      "text/plain": [
       "<Figure size 432x288 with 1 Axes>"
      ]
     },
     "metadata": {
      "needs_background": "light"
     },
     "output_type": "display_data"
    }
   ],
   "source": [
    "p = comparison5.plot(kind='barh', stacked=True, grid=False); p"
   ]
  },
  {
   "cell_type": "code",
   "execution_count": 37,
   "metadata": {},
   "outputs": [],
   "source": [
    "p.get_figure().savefig(\n",
    "    'images/key-comparison-analysis-bar-chart.pdf')"
   ]
  },
  {
   "cell_type": "code",
   "execution_count": 38,
   "metadata": {},
   "outputs": [],
   "source": [
    "comparison6 = comparison.loc[['Flow*', 'P', 'Q', 'Total'], :].transpose()"
   ]
  },
  {
   "cell_type": "code",
   "execution_count": 39,
   "metadata": {},
   "outputs": [
    {
     "data": {
      "text/html": [
       "<div>\n",
       "<style scoped>\n",
       "    .dataframe tbody tr th:only-of-type {\n",
       "        vertical-align: middle;\n",
       "    }\n",
       "\n",
       "    .dataframe tbody tr th {\n",
       "        vertical-align: top;\n",
       "    }\n",
       "\n",
       "    .dataframe thead th {\n",
       "        text-align: right;\n",
       "    }\n",
       "</style>\n",
       "<table border=\"1\" class=\"dataframe\">\n",
       "  <thead>\n",
       "    <tr style=\"text-align: right;\">\n",
       "      <th></th>\n",
       "      <th>Flow*</th>\n",
       "      <th>P</th>\n",
       "      <th>Q</th>\n",
       "      <th>Total</th>\n",
       "    </tr>\n",
       "  </thead>\n",
       "  <tbody>\n",
       "    <tr>\n",
       "      <th>upfront_symbolic_masked</th>\n",
       "      <td>77.704968</td>\n",
       "      <td>0.429924</td>\n",
       "      <td>24.689693</td>\n",
       "      <td>170.394933</td>\n",
       "    </tr>\n",
       "    <tr>\n",
       "      <th>symbolic_masked</th>\n",
       "      <td>78.083259</td>\n",
       "      <td>6.771044</td>\n",
       "      <td>54.428931</td>\n",
       "      <td>139.507228</td>\n",
       "    </tr>\n",
       "    <tr>\n",
       "      <th>upfront_masked</th>\n",
       "      <td>82.934898</td>\n",
       "      <td>0.733038</td>\n",
       "      <td>1.026020</td>\n",
       "      <td>164.759333</td>\n",
       "    </tr>\n",
       "    <tr>\n",
       "      <th>masked</th>\n",
       "      <td>87.898530</td>\n",
       "      <td>9.285413</td>\n",
       "      <td>39.050409</td>\n",
       "      <td>136.479671</td>\n",
       "    </tr>\n",
       "    <tr>\n",
       "      <th>upfront_symbolic_unmasked</th>\n",
       "      <td>80.336791</td>\n",
       "      <td>1.816989</td>\n",
       "      <td>115.969380</td>\n",
       "      <td>265.246118</td>\n",
       "    </tr>\n",
       "    <tr>\n",
       "      <th>symbolic_unmasked</th>\n",
       "      <td>78.870518</td>\n",
       "      <td>21.243604</td>\n",
       "      <td>237.785437</td>\n",
       "      <td>338.123532</td>\n",
       "    </tr>\n",
       "    <tr>\n",
       "      <th>upfront_unmasked</th>\n",
       "      <td>82.258631</td>\n",
       "      <td>2.871566</td>\n",
       "      <td>6.497924</td>\n",
       "      <td>169.491295</td>\n",
       "    </tr>\n",
       "    <tr>\n",
       "      <th>unmasked</th>\n",
       "      <td>79.551850</td>\n",
       "      <td>28.578011</td>\n",
       "      <td>67.533209</td>\n",
       "      <td>175.894812</td>\n",
       "    </tr>\n",
       "  </tbody>\n",
       "</table>\n",
       "</div>"
      ],
      "text/plain": [
       "                               Flow*          P           Q       Total\n",
       "upfront_symbolic_masked    77.704968   0.429924   24.689693  170.394933\n",
       "symbolic_masked            78.083259   6.771044   54.428931  139.507228\n",
       "upfront_masked             82.934898   0.733038    1.026020  164.759333\n",
       "masked                     87.898530   9.285413   39.050409  136.479671\n",
       "upfront_symbolic_unmasked  80.336791   1.816989  115.969380  265.246118\n",
       "symbolic_unmasked          78.870518  21.243604  237.785437  338.123532\n",
       "upfront_unmasked           82.258631   2.871566    6.497924  169.491295\n",
       "unmasked                   79.551850  28.578011   67.533209  175.894812"
      ]
     },
     "execution_count": 39,
     "metadata": {},
     "output_type": "execute_result"
    }
   ],
   "source": [
    "comparison6"
   ]
  },
  {
   "cell_type": "code",
   "execution_count": 40,
   "metadata": {},
   "outputs": [],
   "source": [
    "comparison6.to_csv('data/key-comparison-analysis.csv')"
   ]
  },
  {
   "cell_type": "code",
   "execution_count": 41,
   "metadata": {},
   "outputs": [
    {
     "data": {
      "text/plain": [
       "Total    1.288799\n",
       "dtype: float64"
      ]
     },
     "execution_count": 41,
     "metadata": {},
     "output_type": "execute_result"
    }
   ],
   "source": [
    "comparison3.loc['unmasked',:] / comparison3.loc['masked',:]"
   ]
  },
  {
   "cell_type": "code",
   "execution_count": 42,
   "metadata": {},
   "outputs": [
    {
     "ename": "KeyError",
     "evalue": "'unmasked_no_symbolic'",
     "output_type": "error",
     "traceback": [
      "\u001b[0;31m---------------------------------------------------------------------------\u001b[0m",
      "\u001b[0;31mKeyError\u001b[0m                                  Traceback (most recent call last)",
      "\u001b[0;32m/usr/lib64/python3.8/site-packages/pandas/core/indexes/base.py\u001b[0m in \u001b[0;36mget_loc\u001b[0;34m(self, key, method, tolerance)\u001b[0m\n\u001b[1;32m   2896\u001b[0m             \u001b[0;32mtry\u001b[0m\u001b[0;34m:\u001b[0m\u001b[0;34m\u001b[0m\u001b[0;34m\u001b[0m\u001b[0m\n\u001b[0;32m-> 2897\u001b[0;31m                 \u001b[0;32mreturn\u001b[0m \u001b[0mself\u001b[0m\u001b[0;34m.\u001b[0m\u001b[0m_engine\u001b[0m\u001b[0;34m.\u001b[0m\u001b[0mget_loc\u001b[0m\u001b[0;34m(\u001b[0m\u001b[0mkey\u001b[0m\u001b[0;34m)\u001b[0m\u001b[0;34m\u001b[0m\u001b[0;34m\u001b[0m\u001b[0m\n\u001b[0m\u001b[1;32m   2898\u001b[0m             \u001b[0;32mexcept\u001b[0m \u001b[0mKeyError\u001b[0m\u001b[0;34m:\u001b[0m\u001b[0;34m\u001b[0m\u001b[0;34m\u001b[0m\u001b[0m\n",
      "\u001b[0;32mpandas/_libs/index.pyx\u001b[0m in \u001b[0;36mpandas._libs.index.IndexEngine.get_loc\u001b[0;34m()\u001b[0m\n",
      "\u001b[0;32mpandas/_libs/index.pyx\u001b[0m in \u001b[0;36mpandas._libs.index.IndexEngine.get_loc\u001b[0;34m()\u001b[0m\n",
      "\u001b[0;32mpandas/_libs/hashtable_class_helper.pxi\u001b[0m in \u001b[0;36mpandas._libs.hashtable.PyObjectHashTable.get_item\u001b[0;34m()\u001b[0m\n",
      "\u001b[0;32mpandas/_libs/hashtable_class_helper.pxi\u001b[0m in \u001b[0;36mpandas._libs.hashtable.PyObjectHashTable.get_item\u001b[0;34m()\u001b[0m\n",
      "\u001b[0;31mKeyError\u001b[0m: 'unmasked_no_symbolic'",
      "\nDuring handling of the above exception, another exception occurred:\n",
      "\u001b[0;31mKeyError\u001b[0m                                  Traceback (most recent call last)",
      "\u001b[0;32m<ipython-input-42-1cf96081598f>\u001b[0m in \u001b[0;36m<module>\u001b[0;34m()\u001b[0m\n\u001b[0;32m----> 1\u001b[0;31m \u001b[0mcomparison3\u001b[0m\u001b[0;34m.\u001b[0m\u001b[0mloc\u001b[0m\u001b[0;34m[\u001b[0m\u001b[0;34m'unmasked_no_symbolic'\u001b[0m\u001b[0;34m,\u001b[0m\u001b[0;34m:\u001b[0m\u001b[0;34m]\u001b[0m \u001b[0;34m/\u001b[0m \u001b[0mcomparison3\u001b[0m\u001b[0;34m.\u001b[0m\u001b[0mloc\u001b[0m\u001b[0;34m[\u001b[0m\u001b[0;34m'masked_no_symbolic'\u001b[0m\u001b[0;34m,\u001b[0m\u001b[0;34m:\u001b[0m\u001b[0;34m]\u001b[0m\u001b[0;34m\u001b[0m\u001b[0;34m\u001b[0m\u001b[0m\n\u001b[0m",
      "\u001b[0;32m/usr/lib64/python3.8/site-packages/pandas/core/indexing.py\u001b[0m in \u001b[0;36m__getitem__\u001b[0;34m(self, key)\u001b[0m\n\u001b[1;32m   1416\u001b[0m                 \u001b[0;32mexcept\u001b[0m \u001b[0;34m(\u001b[0m\u001b[0mKeyError\u001b[0m\u001b[0;34m,\u001b[0m \u001b[0mIndexError\u001b[0m\u001b[0;34m,\u001b[0m \u001b[0mAttributeError\u001b[0m\u001b[0;34m)\u001b[0m\u001b[0;34m:\u001b[0m\u001b[0;34m\u001b[0m\u001b[0;34m\u001b[0m\u001b[0m\n\u001b[1;32m   1417\u001b[0m                     \u001b[0;32mpass\u001b[0m\u001b[0;34m\u001b[0m\u001b[0;34m\u001b[0m\u001b[0m\n\u001b[0;32m-> 1418\u001b[0;31m             \u001b[0;32mreturn\u001b[0m \u001b[0mself\u001b[0m\u001b[0;34m.\u001b[0m\u001b[0m_getitem_tuple\u001b[0m\u001b[0;34m(\u001b[0m\u001b[0mkey\u001b[0m\u001b[0;34m)\u001b[0m\u001b[0;34m\u001b[0m\u001b[0;34m\u001b[0m\u001b[0m\n\u001b[0m\u001b[1;32m   1419\u001b[0m         \u001b[0;32melse\u001b[0m\u001b[0;34m:\u001b[0m\u001b[0;34m\u001b[0m\u001b[0;34m\u001b[0m\u001b[0m\n\u001b[1;32m   1420\u001b[0m             \u001b[0;31m# we by definition only have the 0th axis\u001b[0m\u001b[0;34m\u001b[0m\u001b[0;34m\u001b[0m\u001b[0;34m\u001b[0m\u001b[0m\n",
      "\u001b[0;32m/usr/lib64/python3.8/site-packages/pandas/core/indexing.py\u001b[0m in \u001b[0;36m_getitem_tuple\u001b[0;34m(self, tup)\u001b[0m\n\u001b[1;32m    803\u001b[0m     \u001b[0;32mdef\u001b[0m \u001b[0m_getitem_tuple\u001b[0m\u001b[0;34m(\u001b[0m\u001b[0mself\u001b[0m\u001b[0;34m,\u001b[0m \u001b[0mtup\u001b[0m\u001b[0;34m)\u001b[0m\u001b[0;34m:\u001b[0m\u001b[0;34m\u001b[0m\u001b[0;34m\u001b[0m\u001b[0m\n\u001b[1;32m    804\u001b[0m         \u001b[0;32mtry\u001b[0m\u001b[0;34m:\u001b[0m\u001b[0;34m\u001b[0m\u001b[0;34m\u001b[0m\u001b[0m\n\u001b[0;32m--> 805\u001b[0;31m             \u001b[0;32mreturn\u001b[0m \u001b[0mself\u001b[0m\u001b[0;34m.\u001b[0m\u001b[0m_getitem_lowerdim\u001b[0m\u001b[0;34m(\u001b[0m\u001b[0mtup\u001b[0m\u001b[0;34m)\u001b[0m\u001b[0;34m\u001b[0m\u001b[0;34m\u001b[0m\u001b[0m\n\u001b[0m\u001b[1;32m    806\u001b[0m         \u001b[0;32mexcept\u001b[0m \u001b[0mIndexingError\u001b[0m\u001b[0;34m:\u001b[0m\u001b[0;34m\u001b[0m\u001b[0;34m\u001b[0m\u001b[0m\n\u001b[1;32m    807\u001b[0m             \u001b[0;32mpass\u001b[0m\u001b[0;34m\u001b[0m\u001b[0;34m\u001b[0m\u001b[0m\n",
      "\u001b[0;32m/usr/lib64/python3.8/site-packages/pandas/core/indexing.py\u001b[0m in \u001b[0;36m_getitem_lowerdim\u001b[0;34m(self, tup)\u001b[0m\n\u001b[1;32m    927\u001b[0m         \u001b[0;32mfor\u001b[0m \u001b[0mi\u001b[0m\u001b[0;34m,\u001b[0m \u001b[0mkey\u001b[0m \u001b[0;32min\u001b[0m \u001b[0menumerate\u001b[0m\u001b[0;34m(\u001b[0m\u001b[0mtup\u001b[0m\u001b[0;34m)\u001b[0m\u001b[0;34m:\u001b[0m\u001b[0;34m\u001b[0m\u001b[0;34m\u001b[0m\u001b[0m\n\u001b[1;32m    928\u001b[0m             \u001b[0;32mif\u001b[0m \u001b[0mis_label_like\u001b[0m\u001b[0;34m(\u001b[0m\u001b[0mkey\u001b[0m\u001b[0;34m)\u001b[0m \u001b[0;32mor\u001b[0m \u001b[0misinstance\u001b[0m\u001b[0;34m(\u001b[0m\u001b[0mkey\u001b[0m\u001b[0;34m,\u001b[0m \u001b[0mtuple\u001b[0m\u001b[0;34m)\u001b[0m\u001b[0;34m:\u001b[0m\u001b[0;34m\u001b[0m\u001b[0;34m\u001b[0m\u001b[0m\n\u001b[0;32m--> 929\u001b[0;31m                 \u001b[0msection\u001b[0m \u001b[0;34m=\u001b[0m \u001b[0mself\u001b[0m\u001b[0;34m.\u001b[0m\u001b[0m_getitem_axis\u001b[0m\u001b[0;34m(\u001b[0m\u001b[0mkey\u001b[0m\u001b[0;34m,\u001b[0m \u001b[0maxis\u001b[0m\u001b[0;34m=\u001b[0m\u001b[0mi\u001b[0m\u001b[0;34m)\u001b[0m\u001b[0;34m\u001b[0m\u001b[0;34m\u001b[0m\u001b[0m\n\u001b[0m\u001b[1;32m    930\u001b[0m \u001b[0;34m\u001b[0m\u001b[0m\n\u001b[1;32m    931\u001b[0m                 \u001b[0;31m# we have yielded a scalar ?\u001b[0m\u001b[0;34m\u001b[0m\u001b[0;34m\u001b[0m\u001b[0;34m\u001b[0m\u001b[0m\n",
      "\u001b[0;32m/usr/lib64/python3.8/site-packages/pandas/core/indexing.py\u001b[0m in \u001b[0;36m_getitem_axis\u001b[0;34m(self, key, axis)\u001b[0m\n\u001b[1;32m   1848\u001b[0m         \u001b[0;31m# fall thru to straight lookup\u001b[0m\u001b[0;34m\u001b[0m\u001b[0;34m\u001b[0m\u001b[0;34m\u001b[0m\u001b[0m\n\u001b[1;32m   1849\u001b[0m         \u001b[0mself\u001b[0m\u001b[0;34m.\u001b[0m\u001b[0m_validate_key\u001b[0m\u001b[0;34m(\u001b[0m\u001b[0mkey\u001b[0m\u001b[0;34m,\u001b[0m \u001b[0maxis\u001b[0m\u001b[0;34m)\u001b[0m\u001b[0;34m\u001b[0m\u001b[0;34m\u001b[0m\u001b[0m\n\u001b[0;32m-> 1850\u001b[0;31m         \u001b[0;32mreturn\u001b[0m \u001b[0mself\u001b[0m\u001b[0;34m.\u001b[0m\u001b[0m_get_label\u001b[0m\u001b[0;34m(\u001b[0m\u001b[0mkey\u001b[0m\u001b[0;34m,\u001b[0m \u001b[0maxis\u001b[0m\u001b[0;34m=\u001b[0m\u001b[0maxis\u001b[0m\u001b[0;34m)\u001b[0m\u001b[0;34m\u001b[0m\u001b[0;34m\u001b[0m\u001b[0m\n\u001b[0m\u001b[1;32m   1851\u001b[0m \u001b[0;34m\u001b[0m\u001b[0m\n\u001b[1;32m   1852\u001b[0m \u001b[0;34m\u001b[0m\u001b[0m\n",
      "\u001b[0;32m/usr/lib64/python3.8/site-packages/pandas/core/indexing.py\u001b[0m in \u001b[0;36m_get_label\u001b[0;34m(self, label, axis)\u001b[0m\n\u001b[1;32m    158\u001b[0m             \u001b[0;32mraise\u001b[0m \u001b[0mIndexingError\u001b[0m\u001b[0;34m(\u001b[0m\u001b[0;34m\"no slices here, handle elsewhere\"\u001b[0m\u001b[0;34m)\u001b[0m\u001b[0;34m\u001b[0m\u001b[0;34m\u001b[0m\u001b[0m\n\u001b[1;32m    159\u001b[0m \u001b[0;34m\u001b[0m\u001b[0m\n\u001b[0;32m--> 160\u001b[0;31m         \u001b[0;32mreturn\u001b[0m \u001b[0mself\u001b[0m\u001b[0;34m.\u001b[0m\u001b[0mobj\u001b[0m\u001b[0;34m.\u001b[0m\u001b[0m_xs\u001b[0m\u001b[0;34m(\u001b[0m\u001b[0mlabel\u001b[0m\u001b[0;34m,\u001b[0m \u001b[0maxis\u001b[0m\u001b[0;34m=\u001b[0m\u001b[0maxis\u001b[0m\u001b[0;34m)\u001b[0m\u001b[0;34m\u001b[0m\u001b[0;34m\u001b[0m\u001b[0m\n\u001b[0m\u001b[1;32m    161\u001b[0m \u001b[0;34m\u001b[0m\u001b[0m\n\u001b[1;32m    162\u001b[0m     \u001b[0;32mdef\u001b[0m \u001b[0m_get_loc\u001b[0m\u001b[0;34m(\u001b[0m\u001b[0mself\u001b[0m\u001b[0;34m,\u001b[0m \u001b[0mkey\u001b[0m\u001b[0;34m:\u001b[0m \u001b[0mint\u001b[0m\u001b[0;34m,\u001b[0m \u001b[0maxis\u001b[0m\u001b[0;34m:\u001b[0m \u001b[0mint\u001b[0m\u001b[0;34m)\u001b[0m\u001b[0;34m:\u001b[0m\u001b[0;34m\u001b[0m\u001b[0;34m\u001b[0m\u001b[0m\n",
      "\u001b[0;32m/usr/lib64/python3.8/site-packages/pandas/core/generic.py\u001b[0m in \u001b[0;36mxs\u001b[0;34m(self, key, axis, level, drop_level)\u001b[0m\n\u001b[1;32m   3735\u001b[0m             \u001b[0mloc\u001b[0m\u001b[0;34m,\u001b[0m \u001b[0mnew_index\u001b[0m \u001b[0;34m=\u001b[0m \u001b[0mself\u001b[0m\u001b[0;34m.\u001b[0m\u001b[0mindex\u001b[0m\u001b[0;34m.\u001b[0m\u001b[0mget_loc_level\u001b[0m\u001b[0;34m(\u001b[0m\u001b[0mkey\u001b[0m\u001b[0;34m,\u001b[0m \u001b[0mdrop_level\u001b[0m\u001b[0;34m=\u001b[0m\u001b[0mdrop_level\u001b[0m\u001b[0;34m)\u001b[0m\u001b[0;34m\u001b[0m\u001b[0;34m\u001b[0m\u001b[0m\n\u001b[1;32m   3736\u001b[0m         \u001b[0;32melse\u001b[0m\u001b[0;34m:\u001b[0m\u001b[0;34m\u001b[0m\u001b[0;34m\u001b[0m\u001b[0m\n\u001b[0;32m-> 3737\u001b[0;31m             \u001b[0mloc\u001b[0m \u001b[0;34m=\u001b[0m \u001b[0mself\u001b[0m\u001b[0;34m.\u001b[0m\u001b[0mindex\u001b[0m\u001b[0;34m.\u001b[0m\u001b[0mget_loc\u001b[0m\u001b[0;34m(\u001b[0m\u001b[0mkey\u001b[0m\u001b[0;34m)\u001b[0m\u001b[0;34m\u001b[0m\u001b[0;34m\u001b[0m\u001b[0m\n\u001b[0m\u001b[1;32m   3738\u001b[0m \u001b[0;34m\u001b[0m\u001b[0m\n\u001b[1;32m   3739\u001b[0m             \u001b[0;32mif\u001b[0m \u001b[0misinstance\u001b[0m\u001b[0;34m(\u001b[0m\u001b[0mloc\u001b[0m\u001b[0;34m,\u001b[0m \u001b[0mnp\u001b[0m\u001b[0;34m.\u001b[0m\u001b[0mndarray\u001b[0m\u001b[0;34m)\u001b[0m\u001b[0;34m:\u001b[0m\u001b[0;34m\u001b[0m\u001b[0;34m\u001b[0m\u001b[0m\n",
      "\u001b[0;32m/usr/lib64/python3.8/site-packages/pandas/core/indexes/base.py\u001b[0m in \u001b[0;36mget_loc\u001b[0;34m(self, key, method, tolerance)\u001b[0m\n\u001b[1;32m   2897\u001b[0m                 \u001b[0;32mreturn\u001b[0m \u001b[0mself\u001b[0m\u001b[0;34m.\u001b[0m\u001b[0m_engine\u001b[0m\u001b[0;34m.\u001b[0m\u001b[0mget_loc\u001b[0m\u001b[0;34m(\u001b[0m\u001b[0mkey\u001b[0m\u001b[0;34m)\u001b[0m\u001b[0;34m\u001b[0m\u001b[0;34m\u001b[0m\u001b[0m\n\u001b[1;32m   2898\u001b[0m             \u001b[0;32mexcept\u001b[0m \u001b[0mKeyError\u001b[0m\u001b[0;34m:\u001b[0m\u001b[0;34m\u001b[0m\u001b[0;34m\u001b[0m\u001b[0m\n\u001b[0;32m-> 2899\u001b[0;31m                 \u001b[0;32mreturn\u001b[0m \u001b[0mself\u001b[0m\u001b[0;34m.\u001b[0m\u001b[0m_engine\u001b[0m\u001b[0;34m.\u001b[0m\u001b[0mget_loc\u001b[0m\u001b[0;34m(\u001b[0m\u001b[0mself\u001b[0m\u001b[0;34m.\u001b[0m\u001b[0m_maybe_cast_indexer\u001b[0m\u001b[0;34m(\u001b[0m\u001b[0mkey\u001b[0m\u001b[0;34m)\u001b[0m\u001b[0;34m)\u001b[0m\u001b[0;34m\u001b[0m\u001b[0;34m\u001b[0m\u001b[0m\n\u001b[0m\u001b[1;32m   2900\u001b[0m         \u001b[0mindexer\u001b[0m \u001b[0;34m=\u001b[0m \u001b[0mself\u001b[0m\u001b[0;34m.\u001b[0m\u001b[0mget_indexer\u001b[0m\u001b[0;34m(\u001b[0m\u001b[0;34m[\u001b[0m\u001b[0mkey\u001b[0m\u001b[0;34m]\u001b[0m\u001b[0;34m,\u001b[0m \u001b[0mmethod\u001b[0m\u001b[0;34m=\u001b[0m\u001b[0mmethod\u001b[0m\u001b[0;34m,\u001b[0m \u001b[0mtolerance\u001b[0m\u001b[0;34m=\u001b[0m\u001b[0mtolerance\u001b[0m\u001b[0;34m)\u001b[0m\u001b[0;34m\u001b[0m\u001b[0;34m\u001b[0m\u001b[0m\n\u001b[1;32m   2901\u001b[0m         \u001b[0;32mif\u001b[0m \u001b[0mindexer\u001b[0m\u001b[0;34m.\u001b[0m\u001b[0mndim\u001b[0m \u001b[0;34m>\u001b[0m \u001b[0;36m1\u001b[0m \u001b[0;32mor\u001b[0m \u001b[0mindexer\u001b[0m\u001b[0;34m.\u001b[0m\u001b[0msize\u001b[0m \u001b[0;34m>\u001b[0m \u001b[0;36m1\u001b[0m\u001b[0;34m:\u001b[0m\u001b[0;34m\u001b[0m\u001b[0;34m\u001b[0m\u001b[0m\n",
      "\u001b[0;32mpandas/_libs/index.pyx\u001b[0m in \u001b[0;36mpandas._libs.index.IndexEngine.get_loc\u001b[0;34m()\u001b[0m\n",
      "\u001b[0;32mpandas/_libs/index.pyx\u001b[0m in \u001b[0;36mpandas._libs.index.IndexEngine.get_loc\u001b[0;34m()\u001b[0m\n",
      "\u001b[0;32mpandas/_libs/hashtable_class_helper.pxi\u001b[0m in \u001b[0;36mpandas._libs.hashtable.PyObjectHashTable.get_item\u001b[0;34m()\u001b[0m\n",
      "\u001b[0;32mpandas/_libs/hashtable_class_helper.pxi\u001b[0m in \u001b[0;36mpandas._libs.hashtable.PyObjectHashTable.get_item\u001b[0;34m()\u001b[0m\n",
      "\u001b[0;31mKeyError\u001b[0m: 'unmasked_no_symbolic'"
     ]
    }
   ],
   "source": [
    "comparison3.loc['unmasked_no_symbolic',:] / comparison3.loc['masked_no_symbolic',:]"
   ]
  },
  {
   "cell_type": "code",
   "execution_count": null,
   "metadata": {},
   "outputs": [],
   "source": [
    "comparison3.loc['masked',:] / comparison3.loc['masked_no_symbolic',:]"
   ]
  },
  {
   "cell_type": "code",
   "execution_count": null,
   "metadata": {},
   "outputs": [],
   "source": [
    "comparison3.loc['unmasked',:] / comparison3.loc['unmasked_no_symbolic',:]"
   ]
  },
  {
   "cell_type": "code",
   "execution_count": null,
   "metadata": {},
   "outputs": [],
   "source": [
    "comparison3.loc['masked_symbolic_low_order',:] / comparison3.loc['masked_no_symbolic',:]"
   ]
  }
 ],
 "metadata": {
  "kernelspec": {
   "display_name": "Python 3",
   "language": "python",
   "name": "python3"
  },
  "language_info": {
   "codemirror_mode": {
    "name": "ipython",
    "version": 3
   },
   "file_extension": ".py",
   "mimetype": "text/x-python",
   "name": "python",
   "nbconvert_exporter": "python",
   "pygments_lexer": "ipython3",
   "version": "3.8.5"
  },
  "notify_time": "5"
 },
 "nbformat": 4,
 "nbformat_minor": 4
}
