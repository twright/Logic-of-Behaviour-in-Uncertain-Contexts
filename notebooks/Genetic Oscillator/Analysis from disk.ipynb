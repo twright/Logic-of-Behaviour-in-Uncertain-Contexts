{
 "cells": [
  {
   "cell_type": "markdown",
   "metadata": {},
   "source": [
    "Benchmark run analysis\n",
    "="
   ]
  },
  {
   "cell_type": "code",
   "execution_count": 1,
   "metadata": {},
   "outputs": [
    {
     "name": "stdout",
     "output_type": "stream",
     "text": [
      "Requirement already satisfied: pandas in /home/sage/.sage/local/lib/python3.7/site-packages (1.0.4)\n",
      "Requirement already satisfied: numpy>=1.13.3 in /home/sage/sage/local/lib/python3.7/site-packages (from pandas) (1.16.1)\n",
      "Requirement already satisfied: python-dateutil>=2.6.1 in /home/sage/.sage/local/lib/python3.7/site-packages (from pandas) (2.8.1)\n",
      "Requirement already satisfied: pytz>=2017.2 in /home/sage/sage/local/lib/python3.7/site-packages (from pandas) (2018.7)\n",
      "Requirement already satisfied: six>=1.5 in /home/sage/sage/local/lib/python3.7/site-packages (from python-dateutil>=2.6.1->pandas) (1.12.0)\n"
     ]
    }
   ],
   "source": [
    "!pip3 install --user pandas"
   ]
  },
  {
   "cell_type": "code",
   "execution_count": 2,
   "metadata": {},
   "outputs": [],
   "source": [
    "import pandas as pd\n",
    "import pickle"
   ]
  },
  {
   "cell_type": "code",
   "execution_count": 3,
   "metadata": {},
   "outputs": [],
   "source": [
    "series = [\n",
    "    'masked',\n",
    "    'masked_no_symbolic',\n",
    "    'masked_no_symbolic_no_selective',\n",
    "    'masked_no_selective',\n",
    "    'masked_symbolic_low_order',\n",
    "    'unmasked',\n",
    "    'unmasked_no_symbolic',\n",
    "    'upfront',\n",
    "    'upfront_selective',\n",
    "    'masked_reversed',\n",
    "    'unmasked_reversed',\n",
    "]"
   ]
  },
  {
   "cell_type": "code",
   "execution_count": 4,
   "metadata": {},
   "outputs": [
    {
     "name": "stdout",
     "output_type": "stream",
     "text": [
      "Setting permissions of DOT_SAGE directory so only you can read and write it.\n"
     ]
    }
   ],
   "source": [
    "ress = {}\n",
    "for s in series:\n",
    "    with open(f'data/results_{s}.pkl', 'rb') as file:\n",
    "        ress[s] = pickle.load(file)"
   ]
  },
  {
   "cell_type": "code",
   "execution_count": 5,
   "metadata": {},
   "outputs": [
    {
     "data": {
      "text/plain": [
       "(Signal([0.0000000000000000 .. -0.0000000000000000], [([0.0000000000000000 .. -0.0000000000000000], True)], mask=None),\n",
       " 316.9399697780609,\n",
       " <flowstar.instrumentation.AggregateMetric at 0x7f0ce76ba488>)"
      ]
     },
     "execution_count": 5,
     "metadata": {},
     "output_type": "execute_result"
    }
   ],
   "source": [
    "ress['unmasked'][0]"
   ]
  },
  {
   "cell_type": "code",
   "execution_count": 6,
   "metadata": {},
   "outputs": [
    {
     "data": {
      "text/plain": [
       "(Signal([0.0000000000000000 .. -0.0000000000000000], [([0.0000000000000000 .. -0.0000000000000000], True)], mask=Mask([0.0000000000000000 .. -0.0000000000000000], [[0.0000000000000000 .. -0.0000000000000000]])),\n",
       " 175.7068703174591,\n",
       " <flowstar.instrumentation.AggregateMetric at 0x7f0ce8ca7508>)"
      ]
     },
     "execution_count": 6,
     "metadata": {},
     "output_type": "execute_result"
    }
   ],
   "source": [
    "ress['masked'][0]"
   ]
  },
  {
   "cell_type": "code",
   "execution_count": 7,
   "metadata": {},
   "outputs": [
    {
     "name": "stdout",
     "output_type": "stream",
     "text": [
      "ran \"Precomposing Contexts\" 1 times in 4.6253204345703125e-05\n",
      "ran \"restoring globals\" 16 times in 0.0016062259674072266\n",
      "ran \"capturing globals [on exit]\" 16 times in 0.01184701919555664\n",
      "ran \"Running Flow*\" 1 times in 84.68502497673035\n",
      "ran \"mask intersect check\" 3002 times in 0.006457328796386719\n",
      "ran \"tentative eval\" 2852 times in 3.172710657119751\n",
      "ran \"composing flowpipe\" 1232 times in 32.31054162979126\n",
      "ran \"whole domain eval\" 1229 times in 0.9111182689666748\n",
      "ran \"post retrieve\" 1020 times in 194.51198601722717\n",
      "ran \"root detection\" 1020 times in 0.04625558853149414\n",
      "ran \"root amalgamation\" 1020 times in 0.002772092819213867\n",
      "ran \"prepare in check\" 6 times in 6.842613220214844e-05\n",
      "ran \"check boolean [unguarded]\" 6 times in 0.736365795135498\n",
      "ran \"observer.check\" 6 times in 0.7723939418792725\n",
      "ran \"Monitoring atomic x6 > 1\" 1 times in 13.031007289886475\n",
      "ran \"Monitoring atomic 15625.0*(x4 - 0.003)^2 + 3*(x6 - 0.5)^2 < 0.032\" 1 times in 218.95183753967285\n",
      "ran \"Monitoring Signal for G([0 .. 1], x6 > 1 | G([3.0000000000000000 .. 3.5000000000000000], 15625.0*(x4 - 0.003)^2 + 3*(x6 - 0.5)^2 < 0.032))\" 1 times in 232.09216856956482\n"
     ]
    }
   ],
   "source": [
    "ress['unmasked'][0][2].print()"
   ]
  },
  {
   "cell_type": "code",
   "execution_count": 8,
   "metadata": {},
   "outputs": [
    {
     "name": "stdout",
     "output_type": "stream",
     "text": [
      "ran \"Precomposing Contexts\" 1 times in 4.3392181396484375e-05\n",
      "ran \"restoring globals\" 16 times in 0.0015075206756591797\n",
      "ran \"precomposing taylor models\" 1 times in 0.11894106864929199\n",
      "ran \"capturing globals [on exit]\" 16 times in 0.0012094974517822266\n",
      "ran \"Running Flow*\" 1 times in 83.68917322158813\n",
      "ran \"mask intersect check\" 3002 times in 0.007244586944580078\n",
      "ran \"composing flowpipe\" 3003 times in 80.46861553192139\n",
      "ran \"whole domain eval\" 3002 times in 5.354269027709961\n",
      "ran \"post retrieve\" 1020 times in 0.014329671859741211\n",
      "ran \"root detection\" 1020 times in 4.882716178894043\n",
      "ran \"root amalgamation\" 1020 times in 0.003689289093017578\n",
      "ran \"prepare in check\" 4 times in 3.4809112548828125e-05\n",
      "ran \"check boolean [unguarded]\" 4 times in 0.006512880325317383\n",
      "ran \"observer.check\" 4 times in 0.007268190383911133\n",
      "ran \"Monitoring atomic x6 > 1\" 1 times in 83.78919315338135\n",
      "ran \"Monitoring atomic 15625.0*(x4 - 0.003)^2 + 3*(x6 - 0.5)^2 < 0.032\" 1 times in 7.181760787963867\n",
      "ran \"Monitoring Signal for G([0 .. 1], x6 > 1 | G([3.0000000000000000 .. 3.5000000000000000], 15625.0*(x4 - 0.003)^2 + 3*(x6 - 0.5)^2 < 0.032))\" 1 times in 91.07012128829956\n"
     ]
    }
   ],
   "source": [
    "ress['upfront_selective'][0][2].print()"
   ]
  },
  {
   "cell_type": "code",
   "execution_count": 9,
   "metadata": {},
   "outputs": [
    {
     "name": "stdout",
     "output_type": "stream",
     "text": [
      "ran \"Precomposing Contexts\" 1 times in 4.029273986816406e-05\n",
      "ran \"restoring globals\" 16 times in 0.0013344287872314453\n",
      "ran \"precomposing taylor models\" 1 times in 0.10979056358337402\n",
      "ran \"capturing globals [on exit]\" 16 times in 0.0007367134094238281\n",
      "ran \"Running Flow*\" 1 times in 88.03032636642456\n",
      "ran \"mask intersect check\" 3002 times in 0.006944894790649414\n",
      "ran \"composing flowpipe\" 3003 times in 98.5724606513977\n",
      "ran \"whole domain eval\" 3002 times in 6.3537421226501465\n",
      "ran \"post retrieve\" 1020 times in 0.013543844223022461\n",
      "ran \"root detection\" 1020 times in 5.236509084701538\n",
      "ran \"root amalgamation\" 1020 times in 0.0029723644256591797\n",
      "ran \"prepare in check\" 4 times in 3.1948089599609375e-05\n",
      "ran \"check boolean [unguarded]\" 4 times in 0.006601095199584961\n",
      "ran \"observer.check\" 4 times in 0.007437705993652344\n",
      "ran \"Monitoring atomic x6 > 1\" 1 times in 102.67834329605103\n",
      "ran \"Monitoring atomic 15625.0*(x4 - 0.003)^2 + 3*(x6 - 0.5)^2 < 0.032\" 1 times in 7.760571479797363\n",
      "ran \"Monitoring Signal for G([0 .. 1], x6 > 1 | G([3.0000000000000000 .. 3.5000000000000000], 15625.0*(x4 - 0.003)^2 + 3*(x6 - 0.5)^2 < 0.032))\" 1 times in 110.532785654068\n"
     ]
    }
   ],
   "source": [
    "ress['upfront'][0][2].print()"
   ]
  },
  {
   "cell_type": "code",
   "execution_count": null,
   "metadata": {},
   "outputs": [],
   "source": []
  }
 ],
 "metadata": {
  "kernelspec": {
   "display_name": "Python 3",
   "language": "python",
   "name": "python3"
  },
  "language_info": {
   "codemirror_mode": {
    "name": "ipython",
    "version": 3
   },
   "file_extension": ".py",
   "mimetype": "text/x-python",
   "name": "python",
   "nbconvert_exporter": "python",
   "pygments_lexer": "ipython3",
   "version": "3.8.3"
  }
 },
 "nbformat": 4,
 "nbformat_minor": 4
}
