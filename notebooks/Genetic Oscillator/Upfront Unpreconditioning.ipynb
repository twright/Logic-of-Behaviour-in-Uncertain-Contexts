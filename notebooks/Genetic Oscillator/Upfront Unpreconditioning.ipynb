{
 "cells": [
  {
   "cell_type": "code",
   "execution_count": null,
   "metadata": {},
   "outputs": [],
   "source": [
    "from genetic_oscillator_benchmarking import *"
   ]
  },
  {
   "cell_type": "code",
   "execution_count": 2,
   "metadata": {},
   "outputs": [],
   "source": [
    "%display latex"
   ]
  },
  {
   "cell_type": "code",
   "execution_count": 3,
   "metadata": {},
   "outputs": [],
   "source": [
    "reach = system.reach(\n",
    "    5, order=4, step=0.003,\n",
    "    precondition=1,\n",
    "    estimation=1e-1,\n",
    "    max_remainder_queue=250,\n",
    "    integration_method=IntegrationMethod.ONLY_PICARD_SYMB,\n",
    "    cutoff_threshold=1e-6,\n",
    "    symbolic_composition=True,\n",
    ")"
   ]
  },
  {
   "cell_type": "code",
   "execution_count": 4,
   "metadata": {},
   "outputs": [],
   "source": [
    "reachu = system.reach(\n",
    "    5, order=4, step=0.003,\n",
    "    precondition=1,\n",
    "    estimation=1e-1,\n",
    "    max_remainder_queue=250,\n",
    "    integration_method=IntegrationMethod.ONLY_PICARD_SYMB,\n",
    "    cutoff_threshold=1e-6,\n",
    "    unprecondition_upfront=True,\n",
    "    symbolic_composition=True,\n",
    ")"
   ]
  },
  {
   "cell_type": "code",
   "execution_count": 5,
   "metadata": {},
   "outputs": [
    {
     "name": "stdout",
     "output_type": "stream",
     "text": [
      "ran \"restoring globals\" 1 times in 1.2874603271484375e-05\n",
      "ran \"Running Flow*\" 1 times in 153.81547594070435\n",
      "ran \"prepare\" 1 times in 0.1557624340057373\n",
      "ran \"composing flowpipe\" 1667 times in 86.25861167907715\n",
      "ran \"unpreconditioning flowpipes\" 1 times in 86.32489848136902\n",
      "ran \"capturing globals [on exit]\" 1 times in 6.29425048828125e-05\n"
     ]
    }
   ],
   "source": [
    "reachu.instrumentor.print()"
   ]
  },
  {
   "cell_type": "code",
   "execution_count": 6,
   "metadata": {},
   "outputs": [
    {
     "name": "stdout",
     "output_type": "stream",
     "text": [
      "ran \"restoring globals\" 1 times in 1.9073486328125e-05\n",
      "ran \"Running Flow*\" 1 times in 85.22634840011597\n",
      "ran \"capturing globals [on exit]\" 1 times in 0.00010418891906738281\n"
     ]
    }
   ],
   "source": [
    "reach.instrumentor.print()"
   ]
  },
  {
   "cell_type": "code",
   "execution_count": 7,
   "metadata": {
    "scrolled": true
   },
   "outputs": [
    {
     "data": {
      "text/html": [
       "<html><script type=\"math/tex; mode=display\">\\newcommand{\\Bold}[1]{\\mathbf{#1}}\\verb|x6|\\phantom{\\verb!x!}\\verb|>|\\phantom{\\verb!x!}\\verb|1|</script></html>"
      ],
      "text/plain": [
       "Atomic(x6 > 1)"
      ]
     },
     "execution_count": 7,
     "metadata": {},
     "output_type": "execute_result"
    }
   ],
   "source": [
    "P = Atomic(var(\"x6\") > 1)\n",
    "P"
   ]
  },
  {
   "cell_type": "code",
   "execution_count": 8,
   "metadata": {},
   "outputs": [],
   "source": [
    "def prop(k):\n",
    "    return (500/4)**2*(var(\"x4\") - 0.003)**2 + 3*(var(\"x6\") - 0.5)**2 < k"
   ]
  },
  {
   "cell_type": "code",
   "execution_count": 9,
   "metadata": {},
   "outputs": [
    {
     "data": {
      "text/html": [
       "<html><script type=\"math/tex; mode=display\">\\newcommand{\\Bold}[1]{\\mathbf{#1}}\\verb|15625*(x4|\\phantom{\\verb!x!}\\verb|-|\\phantom{\\verb!x!}\\verb|0.00300000000000000)^2|\\phantom{\\verb!x!}\\verb|+|\\phantom{\\verb!x!}\\verb|3*(x6|\\phantom{\\verb!x!}\\verb|-|\\phantom{\\verb!x!}\\verb|0.500000000000000)^2|\\phantom{\\verb!x!}\\verb|<|\\phantom{\\verb!x!}\\verb|0.0320000000000000|</script></html>"
      ],
      "text/plain": [
       "Atomic(15625*(x4 - 0.00300000000000000)^2 + 3*(x6 - 0.500000000000000)^2 < 0.0320000000000000)"
      ]
     },
     "execution_count": 9,
     "metadata": {},
     "output_type": "execute_result"
    }
   ],
   "source": [
    "Q = Atomic(prop(0.032)); Q"
   ]
  },
  {
   "cell_type": "code",
   "execution_count": 17,
   "metadata": {},
   "outputs": [
    {
     "name": "stdout",
     "output_type": "stream",
     "text": [
      "In G.signal\n",
      "PolyObserver(x6 - 1, <flowstar.reachability.Reach object at 0x7fb4690e27b0>, -0.10000000000000000?*x1*x6 - x2*x6 - 2*x6*x8 + 50*x3 + 100*x4 + 50*x5 - x6, symbolic_composition=True, symbolic_composition_order=4, tentative_unpreconditioning=True, mask=None)\n",
      "fprime = -0.10000000000000000?*x1*x6 - x2*x6 - 2*x6*x8 + 50*x3 + 100*x4 + 50*x5 - x6\n",
      "roots(space_domain=None, epsilon=1e-05, verbosity=0)\n",
      "top-level root detection: 1 items in 3.68 seconds\n",
      "roots = [[0.89947017268536377 .. 1.2422917684744149]]\n",
      "domain = [0.0000000000000000 .. 5.0000000000000000]\n",
      "roots = [[0.89947017268536377 .. 1.2422917684744149]]\n",
      "seg_domain = [0.0000000000000000 .. 5.0000000000000000]\n",
      "roots = [[0.89947017268536377 .. 1.2422917684744149]]\n",
      "signal given bool roots: 1 items in 0.01 seconds\n",
      "In G.signal\n",
      "PolyObserver(-15625*x4^2 - 3*x6^2 + 93.75000000000001?*x4 + 3*x6 - 0.858625000000000?, <flowstar.reachability.Reach object at 0x7fb4690e27b0>, -31250*x2*x4*x6 + 0.600000000000000?*x1*x6^2 + 6*x2*x6^2 + 12*x6^2*x8 + 3125000*x4^2 - 0.3000000000000000?*x1*x6 + 90.750000000000000?*x2*x6 - 300*x3*x6 - 600*x4*x6 - 300*x5*x6 + 6*x6^2 - 6*x6*x8 + 150*x3 - 9075*x4 + 150*x5 - 3*x6, symbolic_composition=True, symbolic_composition_order=4, tentative_unpreconditioning=True, mask=None)\n",
      "fprime = -31250*x2*x4*x6 + 0.600000000000000?*x1*x6^2 + 6*x2*x6^2 + 12*x6^2*x8 + 3125000*x4^2 - 0.3000000000000000?*x1*x6 + 90.750000000000000?*x2*x6 - 300*x3*x6 - 600*x4*x6 - 300*x5*x6 + 6*x6^2 - 6*x6*x8 + 150*x3 - 9075*x4 + 150*x5 - 3*x6\n",
      "roots(space_domain=None, epsilon=1e-05, verbosity=0)\n",
      "top-level root detection: 1 items in 255.23 seconds\n",
      "roots = [[2.8917497988991329 .. 2.8920000000000728], [2.8942236766757005 .. 2.8950000000000729], [2.8966944682152040 .. 3.3870000000000915], [4.5237692968526017 .. 4.5240000000001351], [4.5258017710522251 .. 5.0010000000001532]]\n",
      "domain = [0.0000000000000000 .. 5.0000000000000000]\n",
      "roots = [[2.8917497988991329 .. 2.8920000000000728], \n",
      " [2.8942236766757005 .. 2.8950000000000729], \n",
      " [2.8966944682152040 .. 3.3870000000000915], \n",
      " [4.5237692968526017 .. 4.5240000000001351], \n",
      " [4.5258017710522251 .. 5.0010000000001532]]\n",
      "seg_domain = [0.0000000000000000 .. 5.0000000000000000]\n",
      "roots = [[2.8917497988991329 .. 2.8920000000000728], \n",
      " [2.8942236766757005 .. 2.8950000000000729], \n",
      " [2.8966944682152040 .. 3.3870000000000915], \n",
      " [4.5237692968526017 .. 4.5240000000001351], \n",
      " [4.5258017710522251 .. 5.0010000000001532]]\n",
      "signal given bool roots: 1 items in 1.32 seconds\n",
      "ran \"restoring globals\" 27 times in 0.002558469772338867\n",
      "ran \"Running Flow*\" 1 times in 153.81547594070435\n",
      "ran \"prepare\" 1 times in 0.1557624340057373\n",
      "ran \"composing flowpipe\" 1667 times in 86.25861167907715\n",
      "ran \"unpreconditioning flowpipes\" 1 times in 86.32489848136902\n",
      "ran \"capturing globals [on exit]\" 27 times in 0.005158185958862305\n",
      "ran \"mask intersect check\" 6668 times in 0.012904882431030273\n",
      "ran \"returning cached composed flowpipe\" 6678 times in 0.013330698013305664\n",
      "ran \"pre retrieve\" 6668 times in 0.032885074615478516\n",
      "ran \"whole domain eval\" 6668 times in 11.9771409034729\n",
      "ran \"observable_hf\" 2382 times in 376.44134974479675\n",
      "ran \"post retrieve\" 2372 times in 374.3980550765991\n",
      "ran \"root detection\" 2372 times in 0.029853105545043945\n",
      "ran \"root amalgamation\" 2372 times in 0.005785465240478516\n",
      "ran \"prepare in check\" 16 times in 0.00019812583923339844\n",
      "ran \"check boolean [unguarded]\" 16 times in 2.153618097305298\n",
      "ran \"check_single_point\" 16 times in 2.3724050521850586\n",
      "ran \"observer.check\" 16 times in 2.4337809085845947\n",
      "ran \"Monitoring atomic x6 > 1\" 2 times in 6.970451593399048\n",
      "ran \"Monitoring atomic 15625*(x4 - 0.00300000000000000)^2 + 3*(x6 - 0.500000000000000)^2 < 0.0320000000000000\" 2 times in 382.23000860214233\n"
     ]
    },
    {
     "data": {
      "text/html": [
       "<html><script type=\"math/tex; mode=display\">\\newcommand{\\Bold}[1]{\\mathbf{#1}}\\verb|Signal([0.0000000000000000|\\phantom{\\verb!x!}\\verb|..|\\phantom{\\verb!x!}\\verb|2.0000000000000000],|\\phantom{\\verb!x!}\\verb|[([0.0000000000000000|\\phantom{\\verb!x!}\\verb|..|\\phantom{\\verb!x!}\\verb|2.0000000000000000],|\\phantom{\\verb!x!}\\verb|False)],|\\phantom{\\verb!x!}\\verb|mask=None)|</script></html>"
      ],
      "text/plain": [
       "Signal([0.0000000000000000 .. 2.0000000000000000], [([0.0000000000000000 .. 2.0000000000000000], False)], mask=None)"
      ]
     },
     "execution_count": 17,
     "metadata": {},
     "output_type": "execute_result"
    }
   ],
   "source": [
    "sigC = G(RIF(0,1), P | G(RIF(3, 3.5), Q)).signal(reachu,\n",
    "    symbolic_composition=True,\n",
    ")\n",
    "reachu.instrumentor.print()\n",
    "sigC"
   ]
  },
  {
   "cell_type": "code",
   "execution_count": 11,
   "metadata": {},
   "outputs": [
    {
     "name": "stdout",
     "output_type": "stream",
     "text": [
      "In G.signal\n",
      "PolyObserver(x6 - 1, <flowstar.reachability.Reach object at 0x7fb4690e26a0>, -0.10000000000000000?*x1*x6 - x2*x6 - 2*x6*x8 + 50*x3 + 100*x4 + 50*x5 - x6, symbolic_composition=True, symbolic_composition_order=4, tentative_unpreconditioning=True, mask=None)\n",
      "fprime = -0.10000000000000000?*x1*x6 - x2*x6 - 2*x6*x8 + 50*x3 + 100*x4 + 50*x5 - x6\n",
      "roots(space_domain=None, epsilon=1e-05, verbosity=0)\n",
      "top-level root detection: 1 items in 9.44 seconds\n",
      "roots = [[0.89947017268536377 .. 1.2422917684744149]]\n",
      "domain = [0.0000000000000000 .. 5.0000000000000000]\n",
      "roots = [[0.89947017268536377 .. 1.2422917684744149]]\n",
      "seg_domain = [0.0000000000000000 .. 5.0000000000000000]\n",
      "roots = [[0.89947017268536377 .. 1.2422917684744149]]\n",
      "signal given bool roots: 1 items in 0.00 seconds\n",
      "In G.signal\n",
      "PolyObserver(-15625*x4^2 - 3*x6^2 + 93.75000000000001?*x4 + 3*x6 - 0.858625000000000?, <flowstar.reachability.Reach object at 0x7fb4690e26a0>, -31250*x2*x4*x6 + 0.600000000000000?*x1*x6^2 + 6*x2*x6^2 + 12*x6^2*x8 + 3125000*x4^2 - 0.3000000000000000?*x1*x6 + 90.750000000000000?*x2*x6 - 300*x3*x6 - 600*x4*x6 - 300*x5*x6 + 6*x6^2 - 6*x6*x8 + 150*x3 - 9075*x4 + 150*x5 - 3*x6, symbolic_composition=True, symbolic_composition_order=4, tentative_unpreconditioning=True, mask=None)\n",
      "fprime = -31250*x2*x4*x6 + 0.600000000000000?*x1*x6^2 + 6*x2*x6^2 + 12*x6^2*x8 + 3125000*x4^2 - 0.3000000000000000?*x1*x6 + 90.750000000000000?*x2*x6 - 300*x3*x6 - 600*x4*x6 - 300*x5*x6 + 6*x6^2 - 6*x6*x8 + 150*x3 - 9075*x4 + 150*x5 - 3*x6\n",
      "roots(space_domain=None, epsilon=1e-05, verbosity=0)\n",
      "top-level root detection: 1 items in 197.82 seconds\n",
      "roots = [[2.8917497988991329 .. 2.8920000000000728], [2.8942236766757005 .. 2.8950000000000729], [2.8966944682152040 .. 3.3870000000000915], [4.5237692968526017 .. 4.5240000000001351], [4.5258017710522251 .. 5.0010000000001532]]\n",
      "domain = [0.0000000000000000 .. 5.0000000000000000]\n",
      "roots = [[2.8917497988991329 .. 2.8920000000000728], \n",
      " [2.8942236766757005 .. 2.8950000000000729], \n",
      " [2.8966944682152040 .. 3.3870000000000915], \n",
      " [4.5237692968526017 .. 4.5240000000001351], \n",
      " [4.5258017710522251 .. 5.0010000000001532]]\n",
      "seg_domain = [0.0000000000000000 .. 5.0000000000000000]\n",
      "roots = [[2.8917497988991329 .. 2.8920000000000728], \n",
      " [2.8942236766757005 .. 2.8950000000000729], \n",
      " [2.8966944682152040 .. 3.3870000000000915], \n",
      " [4.5237692968526017 .. 4.5240000000001351], \n",
      " [4.5258017710522251 .. 5.0010000000001532]]\n",
      "signal given bool roots: 1 items in 0.84 seconds\n",
      "ran \"restoring globals\" 14 times in 0.00095367431640625\n",
      "ran \"Running Flow*\" 1 times in 85.22634840011597\n",
      "ran \"capturing globals [on exit]\" 14 times in 0.0009415149688720703\n",
      "ran \"prepare\" 1 times in 0.11942362785339355\n",
      "ran \"mask intersect check\" 3334 times in 0.006401777267456055\n",
      "ran \"tentative eval\" 3184 times in 2.826627254486084\n",
      "ran \"composing flowpipe\" 1245 times in 69.12066888809204\n",
      "ran \"pre retrieve\" 1395 times in 0.009948968887329102\n",
      "ran \"whole domain eval\" 1395 times in 2.341658115386963\n",
      "ran \"observable_hf\" 1191 times in 133.49781727790833\n",
      "ran \"post retrieve\" 1186 times in 132.76678729057312\n",
      "ran \"root detection\" 1186 times in 0.014964818954467773\n",
      "ran \"root amalgamation\" 1186 times in 0.002788543701171875\n",
      "ran \"prepare in check\" 8 times in 8.249282836914062e-05\n",
      "ran \"check boolean [unguarded]\" 8 times in 0.7789840698242188\n",
      "ran \"check_single_point\" 8 times in 0.8356492519378662\n",
      "ran \"observer.check\" 8 times in 0.8381164073944092\n",
      "ran \"Monitoring atomic x6 > 1\" 1 times in 9.442166328430176\n",
      "ran \"returning cached composed flowpipe\" 155 times in 0.00031065940856933594\n",
      "ran \"Monitoring atomic 15625*(x4 - 0.00300000000000000)^2 + 3*(x6 - 0.500000000000000)^2 < 0.0320000000000000\" 1 times in 198.66233372688293\n"
     ]
    },
    {
     "data": {
      "text/html": [
       "<html><script type=\"math/tex; mode=display\">\\newcommand{\\Bold}[1]{\\mathbf{#1}}\\verb|Signal([0.0000000000000000|\\phantom{\\verb!x!}\\verb|..|\\phantom{\\verb!x!}\\verb|2.0000000000000000],|\\phantom{\\verb!x!}\\verb|[([0.0000000000000000|\\phantom{\\verb!x!}\\verb|..|\\phantom{\\verb!x!}\\verb|0.023769296852601763],|\\phantom{\\verb!x!}\\verb|True),|\\phantom{\\verb!x!}\\verb|([0.50000000000000000|\\phantom{\\verb!x!}\\verb|..|\\phantom{\\verb!x!}\\verb|2.0000000000000000],|\\phantom{\\verb!x!}\\verb|False)],|\\phantom{\\verb!x!}\\verb|mask=None)|</script></html>"
      ],
      "text/plain": [
       "Signal([0.0000000000000000 .. 2.0000000000000000], [([0.0000000000000000 .. 0.023769296852601763], True), ([0.50000000000000000 .. 2.0000000000000000], False)], mask=None)"
      ]
     },
     "execution_count": 11,
     "metadata": {},
     "output_type": "execute_result"
    }
   ],
   "source": [
    "sigC = G(RIF(0,1), P | G(RIF(3, 3.5), Q)).signal(reach,\n",
    "    symbolic_composition=True,\n",
    ")\n",
    "reach.instrumentor.print()\n",
    "sigC"
   ]
  },
  {
   "cell_type": "code",
   "execution_count": 15,
   "metadata": {},
   "outputs": [
    {
     "name": "stdout",
     "output_type": "stream",
     "text": [
      "ran \"restoring globals\" 14 times in 0.0009684562683105469\n",
      "ran \"Running Flow*\" 1 times in 174.82064938545227\n",
      "ran \"prepare\" 1 times in 0.1392810344696045\n",
      "ran \"composing flowpipe\" 1667 times in 97.4818902015686\n",
      "ran \"unpreconditioning flowpipes\" 1 times in 97.55428171157837\n",
      "ran \"capturing globals [on exit]\" 14 times in 0.0005495548248291016\n",
      "ran \"mask intersect check\" 3334 times in 0.007833003997802734\n",
      "ran \"returning cached composed flowpipe\" 3335 times in 0.007743120193481445\n",
      "ran \"pre retrieve\" 3334 times in 0.018757343292236328\n",
      "ran \"whole domain eval\" 3334 times in 6.7665369510650635\n",
      "ran \"compose_interval_fn for atomic\" 1187 times in 0.015398025512695312\n",
      "ran \"post retrieve\" 1186 times in 0.03040027618408203\n",
      "ran \"root detection\" 1186 times in 6.554713487625122\n",
      "ran \"root amalgamation\" 1186 times in 0.003476858139038086\n",
      "ran \"prepare in check\" 4 times in 4.124641418457031e-05\n",
      "ran \"check boolean [unguarded]\" 4 times in 0.004831552505493164\n",
      "ran \"check_single_point\" 4 times in 0.0059969425201416016\n",
      "ran \"observer.check\" 4 times in 0.006186962127685547\n",
      "ran \"Monitoring atomic x6 > 1\" 1 times in 3.6250946521759033\n",
      "ran \"Monitoring atomic 15625*(x4 - 0.00300000000000000)^2 + 3*(x6 - 0.500000000000000)^2 < 0.0320000000000000\" 1 times in 9.958519697189331\n"
     ]
    }
   ],
   "source": [
    "reachu.instrumentor.print()"
   ]
  },
  {
   "cell_type": "code",
   "execution_count": 12,
   "metadata": {},
   "outputs": [
    {
     "name": "stdout",
     "output_type": "stream",
     "text": [
      "phi variables sfs = {x6, x4}\n",
      "system sfs = System(R, (x1, x2, x3, x4, x5, x6, x7, x8, x9), [[0.97999999999999998 .. 1.0200000000000001], [1.2799999999999998 .. 1.3200000000000001], [0.079999999999999987 .. 0.12000000000000001], [0.079999999999999987 .. 0.12000000000000001], [0.079999999999999987 .. 0.12000000000000001], [1.2799999999999998 .. 1.3200000000000001], [2.4799999999999999 .. 2.5200000000000001], [0.57999999999999996 .. 0.62000000000000011], [1.2799999999999998 .. 1.3200000000000001]], (-0.10000000000000000?*x1*x6 + 50*x3, -x1*x2 + 100*x4, 0.10000000000000000?*x1*x6 - 50*x3, x2*x6 - 100*x4, 0.50000000000000000?*x1 + 5*x3 - 10*x5, -0.10000000000000000?*x1*x6 - x2*x6 - 2*x6*x8 + 50*x3 + 100*x4 + 50*x5 - x6, 0.01000000000000000?*x2 + 50*x4 - 0.50000000000000000?*x7, -2*x6*x8 + 0.50000000000000000?*x7 - 0.2000000000000000?*x8 + x9, 2*x6*x8 - x9), varmap=bidict({'x1': x1, 'x2': x2, 'x3': x3, 'x4': x4, 'x5': x5, 'x6': x6, 'x7': x7, 'x8': x8, 'x9': x9}))\n",
      "Computed 1501 flowpipes in 136.6184906300332 sec\n",
      "In G.signal\n",
      "PolyObserver(x6 - 1, <flowstar.reachability.Reach object at 0x7fb4690e28c0>, -0.10000000000000000?*x1*x6 - x2*x6 - 2*x6*x8 + 50*x3 + 100*x4 + 50*x5 - x6, symbolic_composition=True, symbolic_composition_order=4, tentative_unpreconditioning=True, mask=Mask([0.0000000000000000 .. 4.5020000000000007], [[0.0000000000000000 .. 1.0020000000000001]]))\n",
      "fprime = -0.10000000000000000?*x1*x6 - x2*x6 - 2*x6*x8 + 50*x3 + 100*x4 + 50*x5 - x6\n",
      "roots(space_domain=None, epsilon=1e-05, verbosity=0)\n",
      "top-level root detection: 1 items in 1.80 seconds\n",
      "roots = [[0.89947017268536377 .. 1.0020000000000498]]\n",
      "domain = [0.0000000000000000 .. 4.5020000000000007]\n",
      "roots = [[0.89947017268536377 .. 1.0020000000000498]]\n",
      "seg_domain = [0.0000000000000000 .. 1.0020000000000001]\n",
      "roots = [[0.89947017268536377 .. 1.0020000000000498]]\n",
      "signal given bool roots: 1 items in 0.06 seconds\n",
      "In G.signal\n",
      "PolyObserver(-15625*x4^2 - 3*x6^2 + 93.75000000000001?*x4 + 3*x6 - 0.858625000000000?, <flowstar.reachability.Reach object at 0x7fb4690e28c0>, -31250*x2*x4*x6 + 0.600000000000000?*x1*x6^2 + 6*x2*x6^2 + 12*x6^2*x8 + 3125000*x4^2 - 0.3000000000000000?*x1*x6 + 90.750000000000000?*x2*x6 - 300*x3*x6 - 600*x4*x6 - 300*x5*x6 + 6*x6^2 - 6*x6*x8 + 150*x3 - 9075*x4 + 150*x5 - 3*x6, symbolic_composition=True, symbolic_composition_order=4, tentative_unpreconditioning=True, mask=Mask([0.0000000000000000 .. 8.0020000000000007], [[3.8994701726853637 .. 4.5020000000000007]]))\n",
      "fprime = -31250*x2*x4*x6 + 0.600000000000000?*x1*x6^2 + 6*x2*x6^2 + 12*x6^2*x8 + 3125000*x4^2 - 0.3000000000000000?*x1*x6 + 90.750000000000000?*x2*x6 - 300*x3*x6 - 600*x4*x6 - 300*x5*x6 + 6*x6^2 - 6*x6*x8 + 150*x3 - 9075*x4 + 150*x5 - 3*x6\n",
      "roots(space_domain=None, epsilon=1e-05, verbosity=0)\n",
      "top-level root detection: 1 items in 82.97 seconds\n",
      "roots = []\n",
      "domain = [0.0000000000000000 .. 4.5020000000000007]\n",
      "roots = []\n",
      "seg_domain = [3.8994701726853637 .. 4.5020000000000007]\n",
      "roots = []\n",
      "signal given bool roots: 1 items in 0.39 seconds\n",
      "ran \"Precomposing Contexts\" 1 times in 5.435943603515625e-05\n",
      "ran \"restoring globals\" 16 times in 0.0016407966613769531\n",
      "ran \"Running Flow*\" 1 times in 136.58036541938782\n",
      "ran \"capturing globals [on exit]\" 16 times in 0.025078773498535156\n",
      "ran \"prepare\" 1 times in 0.12485957145690918\n",
      "ran \"mask intersect check\" 3002 times in 0.00886082649230957\n",
      "ran \"tentative eval\" 537 times in 0.6886563301086426\n",
      "ran \"composing flowpipe\" 252 times in 6.659196853637695\n",
      "ran \"pre retrieve\" 252 times in 0.0023987293243408203\n",
      "ran \"whole domain eval\" 252 times in 0.16411805152893066\n",
      "ran \"observable_hf\" 250 times in 77.5497419834137\n",
      "ran \"post retrieve\" 249 times in 77.18013453483582\n",
      "ran \"root detection\" 249 times in 0.005261659622192383\n",
      "ran \"root amalgamation\" 249 times in 0.0007085800170898438\n",
      "ran \"prepare in check\" 3 times in 3.790855407714844e-05\n",
      "ran \"check boolean [unguarded]\" 3 times in 0.3899960517883301\n",
      "ran \"check_single_point\" 3 times in 0.4350121021270752\n",
      "ran \"observer.check\" 3 times in 0.4393458366394043\n",
      "ran \"returning cached composed flowpipe\" 3 times in 1.1682510375976562e-05\n",
      "ran \"Monitoring atomic x6 > 1\" 1 times in 1.8629529476165771\n",
      "ran \"Monitoring atomic 15625*(x4 - 0.00300000000000000)^2 + 3*(x6 - 0.500000000000000)^2 < 0.0320000000000000\" 1 times in 83.35647559165955\n",
      "ran \"Monitoring Signal for G([0 .. 1], x6 > 1 | G([3.0000000000000000 .. 3.5000000000000000], 15625*(x4 - 0.00300000000000000)^2 + 3*(x6 - 0.500000000000000)^2 < 0.0320000000000000))\" 1 times in 85.33349967002869\n"
     ]
    },
    {
     "data": {
      "text/html": [
       "<html><script type=\"math/tex; mode=display\">\\newcommand{\\Bold}[1]{\\mathbf{#1}}\\mathrm{True}</script></html>"
      ],
      "text/plain": [
       "True"
      ]
     },
     "execution_count": 12,
     "metadata": {},
     "output_type": "execute_result"
    }
   ],
   "source": [
    "sigC = G(RIF(0,1), P | G(RIF(3, 3.5), Q)).signal_for_system(system, 0,\n",
    "    order=4, step=0.003,\n",
    "    precondition=1,\n",
    "    estimation=1e-1,\n",
    "    max_remainder_queue=250,\n",
    "    integration_method=IntegrationMethod.ONLY_PICARD_SYMB,\n",
    "    cutoff_threshold=1e-6,\n",
    "    symbolic_composition=True,\n",
    "    use_masks=True,\n",
    "    print_timings=True,\n",
    ")\n",
    "sigC(0)"
   ]
  },
  {
   "cell_type": "code",
   "execution_count": 15,
   "metadata": {},
   "outputs": [
    {
     "name": "stdout",
     "output_type": "stream",
     "text": [
      "phi variables sfs = {x6, x4}\n",
      "system sfs = System(R, (x1, x2, x3, x4, x5, x6, x7, x8, x9), [[0.97999999999999998 .. 1.0200000000000001], [1.2799999999999998 .. 1.3200000000000001], [0.079999999999999987 .. 0.12000000000000001], [0.079999999999999987 .. 0.12000000000000001], [0.079999999999999987 .. 0.12000000000000001], [1.2799999999999998 .. 1.3200000000000001], [2.4799999999999999 .. 2.5200000000000001], [0.57999999999999996 .. 0.62000000000000011], [1.2799999999999998 .. 1.3200000000000001]], (-0.10000000000000000?*x1*x6 + 50*x3, -x1*x2 + 100*x4, 0.10000000000000000?*x1*x6 - 50*x3, x2*x6 - 100*x4, 0.50000000000000000?*x1 + 5*x3 - 10*x5, -0.10000000000000000?*x1*x6 - x2*x6 - 2*x6*x8 + 50*x3 + 100*x4 + 50*x5 - x6, 0.01000000000000000?*x2 + 50*x4 - 0.50000000000000000?*x7, -2*x6*x8 + 0.50000000000000000?*x7 - 0.2000000000000000?*x8 + x9, 2*x6*x8 - x9), varmap=bidict({'x1': x1, 'x2': x2, 'x3': x3, 'x4': x4, 'x5': x5, 'x6': x6, 'x7': x7, 'x8': x8, 'x9': x9}))\n",
      "Computed 1501 flowpipes in 361.97405034003896 sec\n",
      "In G.signal\n",
      "PolyObserver(x6 - 1, <flowstar.reachability.Reach object at 0x7fb4690e2d00>, -0.10000000000000000?*x1*x6 - x2*x6 - 2*x6*x8 + 50*x3 + 100*x4 + 50*x5 - x6, symbolic_composition=True, symbolic_composition_order=4, tentative_unpreconditioning=True, mask=Mask([0.0000000000000000 .. 4.5020000000000007], [[0.0000000000000000 .. 1.0020000000000001]]))\n",
      "fprime = -0.10000000000000000?*x1*x6 - x2*x6 - 2*x6*x8 + 50*x3 + 100*x4 + 50*x5 - x6\n",
      "roots(space_domain=None, epsilon=1e-05, verbosity=0)\n",
      "top-level root detection: 1 items in 1.26 seconds\n",
      "roots = [[0.89947017268536377 .. 1.0020000000000498]]\n",
      "domain = [0.0000000000000000 .. 4.5020000000000007]\n",
      "roots = [[0.89947017268536377 .. 1.0020000000000498]]\n",
      "seg_domain = [0.0000000000000000 .. 1.0020000000000001]\n",
      "roots = [[0.89947017268536377 .. 1.0020000000000498]]\n",
      "signal given bool roots: 1 items in 0.03 seconds\n",
      "In G.signal\n",
      "PolyObserver(-15625*x4^2 - 3*x6^2 + 93.75000000000001?*x4 + 3*x6 - 0.858625000000000?, <flowstar.reachability.Reach object at 0x7fb4690e2d00>, -31250*x2*x4*x6 + 0.600000000000000?*x1*x6^2 + 6*x2*x6^2 + 12*x6^2*x8 + 3125000*x4^2 - 0.3000000000000000?*x1*x6 + 90.750000000000000?*x2*x6 - 300*x3*x6 - 600*x4*x6 - 300*x5*x6 + 6*x6^2 - 6*x6*x8 + 150*x3 - 9075*x4 + 150*x5 - 3*x6, symbolic_composition=True, symbolic_composition_order=4, tentative_unpreconditioning=True, mask=Mask([0.0000000000000000 .. 8.0020000000000007], [[3.8994701726853637 .. 4.5020000000000007]]))\n",
      "fprime = -31250*x2*x4*x6 + 0.600000000000000?*x1*x6^2 + 6*x2*x6^2 + 12*x6^2*x8 + 3125000*x4^2 - 0.3000000000000000?*x1*x6 + 90.750000000000000?*x2*x6 - 300*x3*x6 - 600*x4*x6 - 300*x5*x6 + 6*x6^2 - 6*x6*x8 + 150*x3 - 9075*x4 + 150*x5 - 3*x6\n",
      "roots(space_domain=None, epsilon=1e-05, verbosity=0)\n",
      "top-level root detection: 1 items in 46.67 seconds\n",
      "roots = []\n",
      "domain = [0.0000000000000000 .. 4.5020000000000007]\n",
      "roots = []\n",
      "seg_domain = [3.8994701726853637 .. 4.5020000000000007]\n",
      "roots = []\n",
      "signal given bool roots: 1 items in 0.17 seconds\n",
      "ran \"Precomposing Contexts\" 1 times in 3.7670135498046875e-05\n",
      "ran \"restoring globals\" 16 times in 0.0013141632080078125\n",
      "ran \"Running Flow*\" 1 times in 213.20547795295715\n",
      "ran \"prepare\" 1 times in 0.153778076171875\n",
      "ran \"composing flowpipe\" 1501 times in 148.5175006389618\n",
      "ran \"unpreconditioning flowpipes\" 1 times in 148.59975242614746\n",
      "ran \"capturing globals [on exit]\" 16 times in 0.0048084259033203125\n",
      "ran \"mask intersect check\" 3002 times in 0.009849309921264648\n",
      "ran \"returning cached composed flowpipe\" 540 times in 0.0012357234954833984\n",
      "ran \"pre retrieve\" 537 times in 0.0033054351806640625\n",
      "ran \"whole domain eval\" 537 times in 0.6906723976135254\n",
      "ran \"observable_hf\" 250 times in 47.28330373764038\n",
      "ran \"post retrieve\" 249 times in 47.13120913505554\n",
      "ran \"root detection\" 249 times in 0.05141496658325195\n",
      "ran \"root amalgamation\" 249 times in 0.0007379055023193359\n",
      "ran \"prepare in check\" 3 times in 2.5987625122070312e-05\n",
      "ran \"check boolean [unguarded]\" 3 times in 0.1723465919494629\n",
      "ran \"check_single_point\" 3 times in 0.1850414276123047\n",
      "ran \"observer.check\" 3 times in 0.189788818359375\n",
      "ran \"Monitoring atomic x6 > 1\" 1 times in 1.295168399810791\n",
      "ran \"Monitoring atomic 15625*(x4 - 0.00300000000000000)^2 + 3*(x6 - 0.500000000000000)^2 < 0.0320000000000000\" 1 times in 46.83805251121521\n",
      "ran \"Monitoring Signal for G([0 .. 1], x6 > 1 | G([3.0000000000000000 .. 3.5000000000000000], 15625*(x4 - 0.00300000000000000)^2 + 3*(x6 - 0.500000000000000)^2 < 0.0320000000000000))\" 1 times in 48.243184089660645\n"
     ]
    },
    {
     "data": {
      "text/html": [
       "<html><script type=\"math/tex; mode=display\">\\newcommand{\\Bold}[1]{\\mathbf{#1}}\\mathrm{True}</script></html>"
      ],
      "text/plain": [
       "True"
      ]
     },
     "execution_count": 15,
     "metadata": {},
     "output_type": "execute_result"
    }
   ],
   "source": [
    "sigC = G(RIF(0,1), P | G(RIF(3, 3.5), Q)).signal_for_system(system, 0,\n",
    "    order=4, step=0.003,\n",
    "    precondition=1,\n",
    "    estimation=1e-1,\n",
    "    max_remainder_queue=250,\n",
    "    integration_method=IntegrationMethod.ONLY_PICARD_SYMB,\n",
    "    cutoff_threshold=1e-6,\n",
    "    unprecondition_upfront=True,\n",
    "    symbolic_composition=True,\n",
    "    use_masks=True,\n",
    "    print_timings=True,\n",
    ")\n",
    "sigC(0)"
   ]
  },
  {
   "cell_type": "code",
   "execution_count": 16,
   "metadata": {},
   "outputs": [
    {
     "name": "stdout",
     "output_type": "stream",
     "text": [
      "phi variables sfs = {x6, x4}\n",
      "system sfs = System(R, (x1, x2, x3, x4, x5, x6, x7, x8, x9), [[0.97999999999999998 .. 1.0200000000000001], [1.2799999999999998 .. 1.3200000000000001], [0.079999999999999987 .. 0.12000000000000001], [0.079999999999999987 .. 0.12000000000000001], [0.079999999999999987 .. 0.12000000000000001], [1.2799999999999998 .. 1.3200000000000001], [2.4799999999999999 .. 2.5200000000000001], [0.57999999999999996 .. 0.62000000000000011], [1.2799999999999998 .. 1.3200000000000001]], (-0.10000000000000000?*x1*x6 + 50*x3, -x1*x2 + 100*x4, 0.10000000000000000?*x1*x6 - 50*x3, x2*x6 - 100*x4, 0.50000000000000000?*x1 + 5*x3 - 10*x5, -0.10000000000000000?*x1*x6 - x2*x6 - 2*x6*x8 + 50*x3 + 100*x4 + 50*x5 - x6, 0.01000000000000000?*x2 + 50*x4 - 0.50000000000000000?*x7, -2*x6*x8 + 0.50000000000000000?*x7 - 0.2000000000000000?*x8 + x9, 2*x6*x8 - x9), varmap=bidict({'x1': x1, 'x2': x2, 'x3': x3, 'x4': x4, 'x5': x5, 'x6': x6, 'x7': x7, 'x8': x8, 'x9': x9}))\n",
      "Computed 1501 flowpipes in 158.43019864102826 sec\n",
      "In G.signal\n",
      "PolyObserver(x6 - 1, <flowstar.reachability.Reach object at 0x7fb4601e4040>, -0.10000000000000000?*x1*x6 - x2*x6 - 2*x6*x8 + 50*x3 + 100*x4 + 50*x5 - x6, symbolic_composition=True, symbolic_composition_order=4, tentative_unpreconditioning=True, mask=None)\n",
      "fprime = -0.10000000000000000?*x1*x6 - x2*x6 - 2*x6*x8 + 50*x3 + 100*x4 + 50*x5 - x6\n",
      "roots(space_domain=None, epsilon=1e-05, verbosity=0)\n",
      "top-level root detection: 1 items in 1.68 seconds\n",
      "roots = [[0.89947017268536377 .. 1.2422917684744149]]\n",
      "domain = [0.0000000000000000 .. 4.5020000000000007]\n",
      "roots = [[0.89947017268536377 .. 1.2422917684744149]]\n",
      "seg_domain = [0.0000000000000000 .. 4.5020000000000007]\n",
      "roots = [[0.89947017268536377 .. 1.2422917684744149]]\n",
      "signal given bool roots: 1 items in 0.01 seconds\n",
      "In G.signal\n",
      "PolyObserver(-15625*x4^2 - 3*x6^2 + 93.75000000000001?*x4 + 3*x6 - 0.858625000000000?, <flowstar.reachability.Reach object at 0x7fb4601e4040>, -31250*x2*x4*x6 + 0.600000000000000?*x1*x6^2 + 6*x2*x6^2 + 12*x6^2*x8 + 3125000*x4^2 - 0.3000000000000000?*x1*x6 + 90.750000000000000?*x2*x6 - 300*x3*x6 - 600*x4*x6 - 300*x5*x6 + 6*x6^2 - 6*x6*x8 + 150*x3 - 9075*x4 + 150*x5 - 3*x6, symbolic_composition=True, symbolic_composition_order=4, tentative_unpreconditioning=True, mask=None)\n",
      "fprime = -31250*x2*x4*x6 + 0.600000000000000?*x1*x6^2 + 6*x2*x6^2 + 12*x6^2*x8 + 3125000*x4^2 - 0.3000000000000000?*x1*x6 + 90.750000000000000?*x2*x6 - 300*x3*x6 - 600*x4*x6 - 300*x5*x6 + 6*x6^2 - 6*x6*x8 + 150*x3 - 9075*x4 + 150*x5 - 3*x6\n",
      "roots(space_domain=None, epsilon=1e-05, verbosity=0)\n",
      "top-level root detection: 1 items in 436.60 seconds\n",
      "roots = [[2.8917497988991329 .. 2.8920000000000728], [2.8942236766757005 .. 2.8950000000000729], [2.8966944682152040 .. 3.3870000000000915]]\n",
      "domain = [0.0000000000000000 .. 4.5020000000000007]\n",
      "roots = [[2.8917497988991329 .. 2.8920000000000728], \n",
      " [2.8942236766757005 .. 2.8950000000000729], \n",
      " [2.8966944682152040 .. 3.3870000000000915]]\n",
      "seg_domain = [0.0000000000000000 .. 4.5020000000000007]\n",
      "roots = [[2.8917497988991329 .. 2.8920000000000728], \n",
      " [2.8942236766757005 .. 2.8950000000000729], \n",
      " [2.8966944682152040 .. 3.3870000000000915]]\n",
      "signal given bool roots: 1 items in 1.59 seconds\n",
      "ran \"Precomposing Contexts\" 1 times in 2.47955322265625e-05\n",
      "ran \"restoring globals\" 16 times in 0.0015926361083984375\n",
      "ran \"Running Flow*\" 1 times in 119.72131395339966\n",
      "ran \"prepare\" 1 times in 0.1611180305480957\n",
      "ran \"composing flowpipe\" 1501 times in 38.46324324607849\n",
      "ran \"unpreconditioning flowpipes\" 1 times in 38.53652358055115\n",
      "ran \"capturing globals [on exit]\" 16 times in 0.0007357597351074219\n",
      "ran \"mask intersect check\" 3002 times in 0.007189035415649414\n",
      "ran \"returning cached composed flowpipe\" 3005 times in 0.007204294204711914\n",
      "ran \"pre retrieve\" 3002 times in 0.018682241439819336\n",
      "ran \"whole domain eval\" 3002 times in 2.3805997371673584\n",
      "ran \"observable_hf\" 1023 times in 437.1129684448242\n",
      "ran \"post retrieve\" 1020 times in 435.6743507385254\n",
      "ran \"root detection\" 1020 times in 0.015767574310302734\n",
      "ran \"root amalgamation\" 1020 times in 0.0029337406158447266\n",
      "ran \"prepare in check\" 6 times in 7.987022399902344e-05\n",
      "ran \"check boolean [unguarded]\" 6 times in 1.4763143062591553\n",
      "ran \"check_single_point\" 6 times in 1.594925880432129\n",
      "ran \"observer.check\" 6 times in 1.5951564311981201\n",
      "ran \"Monitoring atomic x6 > 1\" 1 times in 1.691192626953125\n",
      "ran \"Monitoring atomic 15625*(x4 - 0.00300000000000000)^2 + 3*(x6 - 0.500000000000000)^2 < 0.0320000000000000\" 1 times in 438.18858766555786\n",
      "ran \"Monitoring Signal for G([0 .. 1], x6 > 1 | G([3.0000000000000000 .. 3.5000000000000000], 15625*(x4 - 0.00300000000000000)^2 + 3*(x6 - 0.500000000000000)^2 < 0.0320000000000000))\" 1 times in 440.57442474365234\n"
     ]
    },
    {
     "data": {
      "text/html": [
       "<html><script type=\"math/tex; mode=display\">\\newcommand{\\Bold}[1]{\\mathbf{#1}}\\mathrm{True}</script></html>"
      ],
      "text/plain": [
       "True"
      ]
     },
     "execution_count": 16,
     "metadata": {},
     "output_type": "execute_result"
    }
   ],
   "source": [
    "sigC = G(RIF(0,1), P | G(RIF(3, 3.5), Q)).signal_for_system(system, 0,\n",
    "    order=4, step=0.003,\n",
    "    precondition=1,\n",
    "    estimation=1e-1,\n",
    "    max_remainder_queue=250,\n",
    "    integration_method=IntegrationMethod.ONLY_PICARD_SYMB,\n",
    "    cutoff_threshold=1e-6,\n",
    "    unprecondition_upfront=True,\n",
    "    symbolic_composition=True,\n",
    "    use_masks=False,\n",
    "    print_timings=True,\n",
    ")\n",
    "sigC(0)"
   ]
  },
  {
   "cell_type": "code",
   "execution_count": 14,
   "metadata": {},
   "outputs": [],
   "source": [
    "reachus = system.reach(\n",
    "    5, order=4, step=0.003,\n",
    "    precondition=1,\n",
    "    estimation=1e-1,\n",
    "    max_remainder_queue=250,\n",
    "    integration_method=IntegrationMethod.ONLY_PICARD_SYMB,\n",
    "    cutoff_threshold=1e-6,\n",
    "    use_masks=False,\n",
    "    unprecondition_upfront=True,\n",
    "    symbolic_composition=True,\n",
    ")"
   ]
  },
  {
   "cell_type": "code",
   "execution_count": null,
   "metadata": {},
   "outputs": [],
   "source": [
    "sigCs = G(RIF(0,1), P | G(RIF(3, 3.5), Q)).signal(reachus,\n",
    "    symbolic_composition=True,\n",
    ")\n",
    "sigCs.plot()"
   ]
  },
  {
   "cell_type": "code",
   "execution_count": null,
   "metadata": {},
   "outputs": [],
   "source": [
    "reachus.instrumentor.print()"
   ]
  },
  {
   "cell_type": "code",
   "execution_count": null,
   "metadata": {},
   "outputs": [],
   "source": [
    "sigCfors = G(RIF(0,1), P | G(RIF(3, 3.5), Q)).signal_for_system(system, 0,\n",
    "    order=4, step=0.003,\n",
    "    precondition=1,\n",
    "    estimation=1e-1,\n",
    "    max_remainder_queue=250,\n",
    "    integration_method=IntegrationMethod.ONLY_PICARD_SYMB,\n",
    "    cutoff_threshold=1e-6,\n",
    "    symbolic_composition=False,\n",
    ")\n",
    "sigCfors"
   ]
  },
  {
   "cell_type": "code",
   "execution_count": 21,
   "metadata": {},
   "outputs": [
    {
     "name": "stdout",
     "output_type": "stream",
     "text": [
      "phi variables sfs = {x6, x4}\n",
      "system sfs = System(R, (x1, x2, x3, x4, x5, x6, x7, x8, x9), [[0.97999999999999998 .. 1.0200000000000001], [1.2799999999999998 .. 1.3200000000000001], [0.079999999999999987 .. 0.12000000000000001], [0.079999999999999987 .. 0.12000000000000001], [0.079999999999999987 .. 0.12000000000000001], [1.2799999999999998 .. 1.3200000000000001], [2.4799999999999999 .. 2.5200000000000001], [0.57999999999999996 .. 0.62000000000000011], [1.2799999999999998 .. 1.3200000000000001]], (-0.10000000000000000?*x1*x6 + 50*x3, -x1*x2 + 100*x4, 0.10000000000000000?*x1*x6 - 50*x3, x2*x6 - 100*x4, 0.50000000000000000?*x1 + 5*x3 - 10*x5, -0.10000000000000000?*x1*x6 - x2*x6 - 2*x6*x8 + 50*x3 + 100*x4 + 50*x5 - x6, 0.01000000000000000?*x2 + 50*x4 - 0.50000000000000000?*x7, -2*x6*x8 + 0.50000000000000000?*x7 - 0.2000000000000000?*x8 + x9, 2*x6*x8 - x9), varmap=bidict({'x1': x1, 'x2': x2, 'x3': x3, 'x4': x4, 'x5': x5, 'x6': x6, 'x7': x7, 'x8': x8, 'x9': x9}))\n",
      "Computed 1501 flowpipes in 129.64447865102557 sec\n",
      "In G.signal\n",
      "PolyObserver(x6 - 1, <flowstar.reachability.Reach object at 0x7fbbf2837ae0>, -0.10000000000000000?*x1*x6 - x2*x6 - 2*x6*x8 + 50*x3 + 100*x4 + 50*x5 - x6, symbolic_composition=False, symbolic_composition_order=4, tentative_unpreconditioning=True, mask=None)\n",
      "fprime = -0.10000000000000000?*x1*x6 - x2*x6 - 2*x6*x8 + 50*x3 + 100*x4 + 50*x5 - x6\n",
      "roots(space_domain=None, epsilon=1e-05, verbosity=0)\n",
      "top-level root detection: 1 items in 2.26 seconds\n",
      "roots = [[0.86562109364728989 .. 1.2973760412304721]]\n",
      "domain = [0.0000000000000000 .. 4.5020000000000007]\n",
      "roots = [[0.86562109364728989 .. 1.2973760412304721]]\n",
      "seg_domain = [0.0000000000000000 .. 4.5020000000000007]\n",
      "roots = [[0.86562109364728989 .. 1.2973760412304721]]\n",
      "signal given bool roots: 1 items in 0.00 seconds\n",
      "In G.signal\n",
      "PolyObserver(-15625*x4^2 - 3*x6^2 + 93.75000000000001?*x4 + 3*x6 - 0.858625000000000?, <flowstar.reachability.Reach object at 0x7fbbf2837ae0>, -31250*x2*x4*x6 + 0.600000000000000?*x1*x6^2 + 6*x2*x6^2 + 12*x6^2*x8 + 3125000*x4^2 - 0.3000000000000000?*x1*x6 + 90.750000000000000?*x2*x6 - 300*x3*x6 - 600*x4*x6 - 300*x5*x6 + 6*x6^2 - 6*x6*x8 + 150*x3 - 9075*x4 + 150*x5 - 3*x6, symbolic_composition=False, symbolic_composition_order=4, tentative_unpreconditioning=True, mask=None)\n",
      "fprime = -31250*x2*x4*x6 + 0.600000000000000?*x1*x6^2 + 6*x2*x6^2 + 12*x6^2*x8 + 3125000*x4^2 - 0.3000000000000000?*x1*x6 + 90.750000000000000?*x2*x6 - 300*x3*x6 - 600*x4*x6 - 300*x5*x6 + 6*x6^2 - 6*x6*x8 + 150*x3 - 9075*x4 + 150*x5 - 3*x6\n",
      "roots(space_domain=None, epsilon=1e-05, verbosity=0)\n",
      "top-level root detection: 1 items in 4.53 seconds\n",
      "roots = [[1.8802545744613263 .. 4.5030000000001343]]\n",
      "domain = [0.0000000000000000 .. 4.5020000000000007]\n",
      "roots = [[1.8802545744613263 .. 4.5030000000001343]]\n",
      "seg_domain = [0.0000000000000000 .. 4.5020000000000007]\n",
      "roots = [[1.8802545744613263 .. 4.5030000000001343]]\n",
      "0 at 4.50200000000001\n",
      "signal given bool roots: 1 items in 0.00 seconds\n",
      "ran \"Precomposing Contexts\" 1 times in 4.363059997558594e-05\n",
      "ran \"restoring globals\" 16 times in 0.0007760524749755859\n",
      "ran \"prepare\" 1 times in 0.11247611045837402\n",
      "ran \"composing flowpipe\" 1501 times in 59.835973024368286\n",
      "ran \"unpreconditioning flowpipes\" 1 times in 59.898006439208984\n",
      "ran \"capturing globals [on exit]\" 16 times in 0.0004646778106689453\n",
      "ran \"Running Flow*\" 1 times in 129.60720229148865\n",
      "ran \"mask intersect check\" 3002 times in 0.005698204040527344\n",
      "ran \"returning cached composed flowpipe\" 3003 times in 0.0057790279388427734\n",
      "ran \"pre retrieve\" 3002 times in 0.013352394104003906\n",
      "ran \"whole domain eval\" 3002 times in 3.7108676433563232\n",
      "ran \"post retrieve\" 1020 times in 0.008023977279663086\n",
      "ran \"root detection\" 1020 times in 2.9347167015075684\n",
      "ran \"root amalgamation\" 1020 times in 0.0020647048950195312\n",
      "ran \"prepare in check\" 4 times in 3.0517578125e-05\n",
      "ran \"check boolean [unguarded]\" 4 times in 0.0038254261016845703\n",
      "ran \"observer.check\" 4 times in 0.0045621395111083984\n",
      "ran \"Monitoring atomic x6 > 1\" 1 times in 2.2620155811309814\n",
      "ran \"Monitoring atomic 15625*(x4 - 0.00300000000000000)^2 + 3*(x6 - 0.500000000000000)^2 < 0.0320000000000000\" 1 times in 4.533721208572388\n",
      "ran \"Monitoring Signal for G([0 .. 1], x6 > 1 | G([3.0000000000000000 .. 3.5000000000000000], 15625*(x4 - 0.00300000000000000)^2 + 3*(x6 - 0.500000000000000)^2 < 0.0320000000000000))\" 1 times in 6.867496728897095\n"
     ]
    },
    {
     "data": {
      "text/html": [
       "<html><script type=\"math/tex; mode=display\">\\newcommand{\\Bold}[1]{\\mathbf{#1}}\\verb|Signal([0.0000000000000000|\\phantom{\\verb!x!}\\verb|..|\\phantom{\\verb!x!}\\verb|-0.0000000000000000],|\\phantom{\\verb!x!}\\verb|[],|\\phantom{\\verb!x!}\\verb|mask=None)|</script></html>"
      ],
      "text/plain": [
       "Signal([0.0000000000000000 .. -0.0000000000000000], [], mask=None)"
      ]
     },
     "execution_count": 21,
     "metadata": {},
     "output_type": "execute_result"
    }
   ],
   "source": [
    "sigCforsupfront = G(RIF(0,1), P | G(RIF(3, 3.5), Q)).signal_for_system(system, 0,\n",
    "    order=4, step=0.003,\n",
    "    precondition=1,\n",
    "    estimation=1e-1,\n",
    "    max_remainder_queue=250,\n",
    "    integration_method=IntegrationMethod.ONLY_PICARD_SYMB,\n",
    "    cutoff_threshold=1e-6,\n",
    "    symbolic_composition=False,\n",
    "    unprecondition_upfront=True,\n",
    "    print_timings=True,\n",
    ")\n",
    "sigCforsupfront"
   ]
  },
  {
   "cell_type": "code",
   "execution_count": 22,
   "metadata": {},
   "outputs": [
    {
     "name": "stdout",
     "output_type": "stream",
     "text": [
      "phi variables sfs = {x6, x4}\n",
      "system sfs = System(R, (x1, x2, x3, x4, x5, x6, x7, x8, x9), [[0.97999999999999998 .. 1.0200000000000001], [1.2799999999999998 .. 1.3200000000000001], [0.079999999999999987 .. 0.12000000000000001], [0.079999999999999987 .. 0.12000000000000001], [0.079999999999999987 .. 0.12000000000000001], [1.2799999999999998 .. 1.3200000000000001], [2.4799999999999999 .. 2.5200000000000001], [0.57999999999999996 .. 0.62000000000000011], [1.2799999999999998 .. 1.3200000000000001]], (-0.10000000000000000?*x1*x6 + 50*x3, -x1*x2 + 100*x4, 0.10000000000000000?*x1*x6 - 50*x3, x2*x6 - 100*x4, 0.50000000000000000?*x1 + 5*x3 - 10*x5, -0.10000000000000000?*x1*x6 - x2*x6 - 2*x6*x8 + 50*x3 + 100*x4 + 50*x5 - x6, 0.01000000000000000?*x2 + 50*x4 - 0.50000000000000000?*x7, -2*x6*x8 + 0.50000000000000000?*x7 - 0.2000000000000000?*x8 + x9, 2*x6*x8 - x9), varmap=bidict({'x1': x1, 'x2': x2, 'x3': x3, 'x4': x4, 'x5': x5, 'x6': x6, 'x7': x7, 'x8': x8, 'x9': x9}))\n",
      "Computed 1501 flowpipes in 87.39955235502566 sec\n",
      "In G.signal\n",
      "PolyObserver(x6 - 1, <flowstar.reachability.Reach object at 0x7fbbf28379d0>, -0.10000000000000000?*x1*x6 - x2*x6 - 2*x6*x8 + 50*x3 + 100*x4 + 50*x5 - x6, symbolic_composition=True, symbolic_composition_order=4, tentative_unpreconditioning=True, mask=None)\n",
      "fprime = -0.10000000000000000?*x1*x6 - x2*x6 - 2*x6*x8 + 50*x3 + 100*x4 + 50*x5 - x6\n",
      "roots(space_domain=None, epsilon=1e-05, verbosity=0)\n",
      "top-level root detection: 1 items in 1.25 seconds\n",
      "roots = [[0.89947017268536377 .. 1.2422917684744149]]\n",
      "domain = [0.0000000000000000 .. 4.5020000000000007]\n",
      "roots = [[0.89947017268536377 .. 1.2422917684744149]]\n",
      "seg_domain = [0.0000000000000000 .. 4.5020000000000007]\n",
      "roots = [[0.89947017268536377 .. 1.2422917684744149]]\n",
      "signal given bool roots: 1 items in 0.00 seconds\n",
      "In G.signal\n",
      "PolyObserver(-15625*x4^2 - 3*x6^2 + 93.75000000000001?*x4 + 3*x6 - 0.858625000000000?, <flowstar.reachability.Reach object at 0x7fbbf28379d0>, -31250*x2*x4*x6 + 0.600000000000000?*x1*x6^2 + 6*x2*x6^2 + 12*x6^2*x8 + 3125000*x4^2 - 0.3000000000000000?*x1*x6 + 90.750000000000000?*x2*x6 - 300*x3*x6 - 600*x4*x6 - 300*x5*x6 + 6*x6^2 - 6*x6*x8 + 150*x3 - 9075*x4 + 150*x5 - 3*x6, symbolic_composition=True, symbolic_composition_order=4, tentative_unpreconditioning=True, mask=None)\n",
      "fprime = -31250*x2*x4*x6 + 0.600000000000000?*x1*x6^2 + 6*x2*x6^2 + 12*x6^2*x8 + 3125000*x4^2 - 0.3000000000000000?*x1*x6 + 90.750000000000000?*x2*x6 - 300*x3*x6 - 600*x4*x6 - 300*x5*x6 + 6*x6^2 - 6*x6*x8 + 150*x3 - 9075*x4 + 150*x5 - 3*x6\n",
      "roots(space_domain=None, epsilon=1e-05, verbosity=0)\n",
      "top-level root detection: 1 items in 83.49 seconds\n",
      "roots = [[2.8917497988991329 .. 2.8920000000000728], [2.8942236766757005 .. 2.8950000000000729], [2.8966944682152040 .. 3.3870000000000915]]\n",
      "domain = [0.0000000000000000 .. 4.5020000000000007]\n",
      "roots = [[2.8917497988991329 .. 2.8920000000000728], \n",
      " [2.8942236766757005 .. 2.8950000000000729], \n",
      " [2.8966944682152040 .. 3.3870000000000915]]\n",
      "seg_domain = [0.0000000000000000 .. 4.5020000000000007]\n",
      "roots = [[2.8917497988991329 .. 2.8920000000000728], \n",
      " [2.8942236766757005 .. 2.8950000000000729], \n",
      " [2.8966944682152040 .. 3.3870000000000915]]\n",
      "signal given bool roots: 1 items in 0.33 seconds\n",
      "ran \"Precomposing Contexts\" 1 times in 5.245208740234375e-05\n",
      "ran \"restoring globals\" 16 times in 0.0007450580596923828\n",
      "ran \"prepare\" 1 times in 0.09787988662719727\n",
      "ran \"composing flowpipe\" 1501 times in 23.93974018096924\n",
      "ran \"unpreconditioning flowpipes\" 1 times in 23.993183851242065\n",
      "ran \"capturing globals [on exit]\" 16 times in 0.0008752346038818359\n",
      "ran \"Running Flow*\" 1 times in 87.395916223526\n",
      "ran \"mask intersect check\" 3002 times in 0.005565643310546875\n",
      "ran \"returning cached composed flowpipe\" 3005 times in 0.005568981170654297\n",
      "ran \"pre retrieve\" 3002 times in 0.018309593200683594\n",
      "ran \"whole domain eval\" 3002 times in 1.822638750076294\n",
      "ran \"post retrieve\" 1020 times in 82.75007271766663\n",
      "ran \"root detection\" 1020 times in 0.01141357421875\n",
      "ran \"root amalgamation\" 1020 times in 0.0022194385528564453\n",
      "ran \"prepare in check\" 6 times in 5.364418029785156e-05\n",
      "ran \"check boolean [unguarded]\" 6 times in 0.30272936820983887\n",
      "ran \"observer.check\" 6 times in 0.3272414207458496\n",
      "ran \"Monitoring atomic x6 > 1\" 1 times in 1.2486419677734375\n",
      "ran \"Monitoring atomic 15625*(x4 - 0.00300000000000000)^2 + 3*(x6 - 0.500000000000000)^2 < 0.0320000000000000\" 1 times in 83.81856536865234\n",
      "ran \"Monitoring Signal for G([0 .. 1], x6 > 1 | G([3.0000000000000000 .. 3.5000000000000000], 15625*(x4 - 0.00300000000000000)^2 + 3*(x6 - 0.500000000000000)^2 < 0.0320000000000000))\" 1 times in 85.12805104255676\n"
     ]
    },
    {
     "data": {
      "text/html": [
       "<html><script type=\"math/tex; mode=display\">\\newcommand{\\Bold}[1]{\\mathbf{#1}}\\verb|Signal([0.0000000000000000|\\phantom{\\verb!x!}\\verb|..|\\phantom{\\verb!x!}\\verb|-0.0000000000000000],|\\phantom{\\verb!x!}\\verb|[([0.0000000000000000|\\phantom{\\verb!x!}\\verb|..|\\phantom{\\verb!x!}\\verb|-0.0000000000000000],|\\phantom{\\verb!x!}\\verb|True)],|\\phantom{\\verb!x!}\\verb|mask=None)|</script></html>"
      ],
      "text/plain": [
       "Signal([0.0000000000000000 .. -0.0000000000000000], [([0.0000000000000000 .. -0.0000000000000000], True)], mask=None)"
      ]
     },
     "execution_count": 22,
     "metadata": {},
     "output_type": "execute_result"
    }
   ],
   "source": [
    "sigCforsupfrontsymb = G(RIF(0,1), P | G(RIF(3, 3.5), Q)).signal_for_system(system, 0,\n",
    "    order=4, step=0.003,\n",
    "    precondition=1,\n",
    "    estimation=1e-1,\n",
    "    max_remainder_queue=250,\n",
    "    integration_method=IntegrationMethod.ONLY_PICARD_SYMB,\n",
    "    cutoff_threshold=1e-6,\n",
    "    symbolic_composition=True,\n",
    "    unprecondition_upfront=True,\n",
    "    print_timings=True,\n",
    ")\n",
    "sigCforsupfrontsymb"
   ]
  },
  {
   "cell_type": "code",
   "execution_count": null,
   "metadata": {},
   "outputs": [],
   "source": []
  }
 ],
 "metadata": {
  "kernelspec": {
   "display_name": "SageMath 9.0",
   "language": "sage",
   "name": "sagemath"
  },
  "language_info": {
   "codemirror_mode": {
    "name": "ipython",
    "version": 3
   },
   "file_extension": ".py",
   "mimetype": "text/x-python",
   "name": "python",
   "nbconvert_exporter": "python",
   "pygments_lexer": "ipython3",
   "version": "3.8.3"
  },
  "notify_time": "5",
  "nteract": {
   "version": "0.23.3"
  }
 },
 "nbformat": 4,
 "nbformat_minor": 4
}
