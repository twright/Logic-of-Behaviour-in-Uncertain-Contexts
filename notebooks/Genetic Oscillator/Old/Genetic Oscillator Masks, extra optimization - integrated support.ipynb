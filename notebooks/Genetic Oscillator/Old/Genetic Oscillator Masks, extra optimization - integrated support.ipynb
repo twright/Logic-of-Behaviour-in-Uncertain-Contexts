{
 "cells": [
  {
   "cell_type": "code",
   "execution_count": 1,
   "metadata": {},
   "outputs": [],
   "source": [
    "%display latex\n",
    "import sys\n",
    "\n",
    "sys.path.insert(0, \"/home/twright/Documents/PhD/Notebooks\")\n",
    "\n",
    "from lbuc import *\n",
    "from flowstar import *\n",
    "from lbuc.bondcalculus import *"
   ]
  },
  {
   "cell_type": "code",
   "execution_count": 2,
   "metadata": {},
   "outputs": [],
   "source": [
    "R.<x1,x2,x3,x4,x5,x6,x7,x8,x9> = RIF[]"
   ]
  },
  {
   "cell_type": "code",
   "execution_count": 3,
   "metadata": {},
   "outputs": [],
   "source": [
    "y = vector([\n",
    "    10*x3 - RIF('0.1')*x1*x6,\n",
    "    100*x4 - x1*x2,\n",
    "    RIF('0.1')*x1*x6 - 50*x3,\n",
    "    x2*x6 - 100*x4,\n",
    "    5*x3 + RIF('0.5')*x1 - 10*x5,\n",
    "    50*x5 + 50*x3 + 100*x4 - x6*(RIF('0.1')*x1 + x2 + 2*x8 + 1),\n",
    "    50*x4 + RIF('0.01')*x2 - RIF('0.5')*x7,\n",
    "    RIF('0.5')*x7 - 2*x6*x8 + x9 - RIF('0.2')*x8,\n",
    "    2*x6*x8 - x9,\n",
    "])"
   ]
  },
  {
   "cell_type": "code",
   "execution_count": 4,
   "metadata": {},
   "outputs": [
    {
     "data": {
      "text/html": [
       "<html><script type=\"math/tex; mode=display\">\\newcommand{\\Bold}[1]{\\mathbf{#1}}\\left(-0.10000000000000000? x_{1} x_{6} + 10 x_{3},\\,-x_{1} x_{2} + 100 x_{4},\\,0.10000000000000000? x_{1} x_{6} - 50 x_{3},\\,x_{2} x_{6} - 100 x_{4},\\,0.50000000000000000? x_{1} + 5 x_{3} - 10 x_{5},\\,-0.10000000000000000? x_{1} x_{6} - x_{2} x_{6} - 2 x_{6} x_{8} + 50 x_{3} + 100 x_{4} + 50 x_{5} - x_{6},\\,0.01000000000000000? x_{2} + 50 x_{4} - 0.50000000000000000? x_{7},\\,-2 x_{6} x_{8} + 0.50000000000000000? x_{7} - 0.2000000000000000? x_{8} + x_{9},\\,2 x_{6} x_{8} - x_{9}\\right)</script></html>"
      ],
      "text/plain": [
       "(-0.10000000000000000?*x1*x6 + 10*x3, -x1*x2 + 100*x4, 0.10000000000000000?*x1*x6 - 50*x3, x2*x6 - 100*x4, 0.50000000000000000?*x1 + 5*x3 - 10*x5, -0.10000000000000000?*x1*x6 - x2*x6 - 2*x6*x8 + 50*x3 + 100*x4 + 50*x5 - x6, 0.01000000000000000?*x2 + 50*x4 - 0.50000000000000000?*x7, -2*x6*x8 + 0.50000000000000000?*x7 - 0.2000000000000000?*x8 + x9, 2*x6*x8 - x9)"
      ]
     },
     "execution_count": 4,
     "metadata": {},
     "output_type": "execute_result"
    }
   ],
   "source": [
    "y"
   ]
  },
  {
   "cell_type": "code",
   "execution_count": 5,
   "metadata": {},
   "outputs": [
    {
     "data": {
      "text/html": [
       "<div class=\"notruncate\">\n",
       "<table  class=\"table_form\">\n",
       "<tbody>\n",
       "<tr class =\"row-a\">\n",
       "<td><script type=\"math/tex\">-0.10000000000000000? x_{1} x_{6} + 10 x_{3}</script></td>\n",
       "</tr>\n",
       "<tr class =\"row-b\">\n",
       "<td><script type=\"math/tex\">-x_{1} x_{2} + 100 x_{4}</script></td>\n",
       "</tr>\n",
       "<tr class =\"row-a\">\n",
       "<td><script type=\"math/tex\">0.10000000000000000? x_{1} x_{6} - 50 x_{3}</script></td>\n",
       "</tr>\n",
       "<tr class =\"row-b\">\n",
       "<td><script type=\"math/tex\">x_{2} x_{6} - 100 x_{4}</script></td>\n",
       "</tr>\n",
       "<tr class =\"row-a\">\n",
       "<td><script type=\"math/tex\">0.50000000000000000? x_{1} + 5 x_{3} - 10 x_{5}</script></td>\n",
       "</tr>\n",
       "<tr class =\"row-b\">\n",
       "<td><script type=\"math/tex\">-0.10000000000000000? x_{1} x_{6} - x_{2} x_{6} - 2 x_{6} x_{8} + 50 x_{3} + 100 x_{4} + 50 x_{5} - x_{6}</script></td>\n",
       "</tr>\n",
       "<tr class =\"row-a\">\n",
       "<td><script type=\"math/tex\">0.01000000000000000? x_{2} + 50 x_{4} - 0.50000000000000000? x_{7}</script></td>\n",
       "</tr>\n",
       "<tr class =\"row-b\">\n",
       "<td><script type=\"math/tex\">-2 x_{6} x_{8} + 0.50000000000000000? x_{7} - 0.2000000000000000? x_{8} + x_{9}</script></td>\n",
       "</tr>\n",
       "<tr class =\"row-a\">\n",
       "<td><script type=\"math/tex\">2 x_{6} x_{8} - x_{9}</script></td>\n",
       "</tr>\n",
       "</tbody>\n",
       "</table>\n",
       "</div>"
      ],
      "text/plain": [
       "  -0.10000000000000000?*x1*x6 + 10*x3\n",
       "  -x1*x2 + 100*x4\n",
       "  0.10000000000000000?*x1*x6 - 50*x3\n",
       "  x2*x6 - 100*x4\n",
       "  0.50000000000000000?*x1 + 5*x3 - 10*x5\n",
       "  -0.10000000000000000?*x1*x6 - x2*x6 - 2*x6*x8 + 50*x3 + 100*x4 + 50*x5 - x6\n",
       "  0.01000000000000000?*x2 + 50*x4 - 0.50000000000000000?*x7\n",
       "  -2*x6*x8 + 0.50000000000000000?*x7 - 0.2000000000000000?*x8 + x9\n",
       "  2*x6*x8 - x9"
      ]
     },
     "execution_count": 5,
     "metadata": {},
     "output_type": "execute_result"
    }
   ],
   "source": [
    "table([[yi] for yi in y])"
   ]
  },
  {
   "cell_type": "code",
   "execution_count": 6,
   "metadata": {},
   "outputs": [],
   "source": [
    "y0 = [\n",
    "    RIF('[0.98, 1.02]'),\n",
    "    RIF('[1.28, 1.32]'),\n",
    "    RIF('[0.08, 0.12]'),\n",
    "    RIF('[0.08, 0.12]'), # x4\n",
    "    RIF('[0.08, 0.12]'),\n",
    "    RIF('[1.28, 1.32]'), # x6\n",
    "    RIF('[2.48, 2.52]'),\n",
    "    RIF('[0.58, 0.62]'),\n",
    "    RIF('[1.28, 1.32]'),\n",
    "]"
   ]
  },
  {
   "cell_type": "code",
   "execution_count": 7,
   "metadata": {},
   "outputs": [
    {
     "data": {
      "text/html": [
       "<div class=\"notruncate\">\n",
       "<table  class=\"table_form\">\n",
       "<tbody>\n",
       "<tr class =\"row-a\">\n",
       "<td><script type=\"math/tex\">0.979999999999999</script></td>\n",
       "<td><script type=\"math/tex\">1.02000000000001</script></td>\n",
       "</tr>\n",
       "<tr class =\"row-b\">\n",
       "<td><script type=\"math/tex\">1.27999999999999</script></td>\n",
       "<td><script type=\"math/tex\">1.32000000000001</script></td>\n",
       "</tr>\n",
       "<tr class =\"row-a\">\n",
       "<td><script type=\"math/tex\">0.0799999999999999</script></td>\n",
       "<td><script type=\"math/tex\">0.120000000000001</script></td>\n",
       "</tr>\n",
       "<tr class =\"row-b\">\n",
       "<td><script type=\"math/tex\">0.0799999999999999</script></td>\n",
       "<td><script type=\"math/tex\">0.120000000000001</script></td>\n",
       "</tr>\n",
       "<tr class =\"row-a\">\n",
       "<td><script type=\"math/tex\">0.0799999999999999</script></td>\n",
       "<td><script type=\"math/tex\">0.120000000000001</script></td>\n",
       "</tr>\n",
       "<tr class =\"row-b\">\n",
       "<td><script type=\"math/tex\">1.27999999999999</script></td>\n",
       "<td><script type=\"math/tex\">1.32000000000001</script></td>\n",
       "</tr>\n",
       "<tr class =\"row-a\">\n",
       "<td><script type=\"math/tex\">2.47999999999999</script></td>\n",
       "<td><script type=\"math/tex\">2.52000000000001</script></td>\n",
       "</tr>\n",
       "<tr class =\"row-b\">\n",
       "<td><script type=\"math/tex\">0.579999999999999</script></td>\n",
       "<td><script type=\"math/tex\">0.620000000000001</script></td>\n",
       "</tr>\n",
       "<tr class =\"row-a\">\n",
       "<td><script type=\"math/tex\">1.27999999999999</script></td>\n",
       "<td><script type=\"math/tex\">1.32000000000001</script></td>\n",
       "</tr>\n",
       "</tbody>\n",
       "</table>\n",
       "</div>"
      ],
      "text/plain": [
       "  0.979999999999999    1.02000000000001\n",
       "  1.27999999999999     1.32000000000001\n",
       "  0.0799999999999999   0.120000000000001\n",
       "  0.0799999999999999   0.120000000000001\n",
       "  0.0799999999999999   0.120000000000001\n",
       "  1.27999999999999     1.32000000000001\n",
       "  2.47999999999999     2.52000000000001\n",
       "  0.579999999999999    0.620000000000001\n",
       "  1.27999999999999     1.32000000000001"
      ]
     },
     "execution_count": 7,
     "metadata": {},
     "output_type": "execute_result"
    }
   ],
   "source": [
    "table([y0i.endpoints() for y0i in y0])"
   ]
  },
  {
   "cell_type": "code",
   "execution_count": 8,
   "metadata": {},
   "outputs": [
    {
     "data": {
      "text/html": [
       "<html><script type=\"math/tex; mode=display\">\\newcommand{\\Bold}[1]{\\mathbf{#1}}\\Bold{I} \\Bold{R}[x_{1}, x_{2}, x_{3}, x_{4}, x_{5}, x_{6}, x_{7}, x_{8}, x_{9}]</script></html>"
      ],
      "text/plain": [
       "Multivariate Polynomial Ring in x1, x2, x3, x4, x5, x6, x7, x8, x9 over Real Interval Field with 53 bits of precision"
      ]
     },
     "execution_count": 8,
     "metadata": {},
     "output_type": "execute_result"
    }
   ],
   "source": [
    "R"
   ]
  },
  {
   "cell_type": "code",
   "execution_count": 9,
   "metadata": {},
   "outputs": [
    {
     "data": {
      "text/html": [
       "<html><script type=\"math/tex; mode=display\">\\newcommand{\\Bold}[1]{\\mathbf{#1}}\\verb|System(R,|\\phantom{\\verb!x!}\\verb|(x1,|\\phantom{\\verb!x!}\\verb|x2,|\\phantom{\\verb!x!}\\verb|x3,|\\phantom{\\verb!x!}\\verb|x4,|\\phantom{\\verb!x!}\\verb|x5,|\\phantom{\\verb!x!}\\verb|x6,|\\phantom{\\verb!x!}\\verb|x7,|\\phantom{\\verb!x!}\\verb|x8,|\\phantom{\\verb!x!}\\verb|x9),|\\phantom{\\verb!x!}\\verb|[[0.97999999999999998|\\phantom{\\verb!x!}\\verb|..|\\phantom{\\verb!x!}\\verb|1.0200000000000001],|\\phantom{\\verb!x!}\\verb|[1.2799999999999998|\\phantom{\\verb!x!}\\verb|..|\\phantom{\\verb!x!}\\verb|1.3200000000000001],|\\phantom{\\verb!x!}\\verb|[0.079999999999999987|\\phantom{\\verb!x!}\\verb|..|\\phantom{\\verb!x!}\\verb|0.12000000000000001],|\\phantom{\\verb!x!}\\verb|[0.079999999999999987|\\phantom{\\verb!x!}\\verb|..|\\phantom{\\verb!x!}\\verb|0.12000000000000001],|\\phantom{\\verb!x!}\\verb|[0.079999999999999987|\\phantom{\\verb!x!}\\verb|..|\\phantom{\\verb!x!}\\verb|0.12000000000000001],|\\phantom{\\verb!x!}\\verb|[1.2799999999999998|\\phantom{\\verb!x!}\\verb|..|\\phantom{\\verb!x!}\\verb|1.3200000000000001],|\\phantom{\\verb!x!}\\verb|[2.4799999999999999|\\phantom{\\verb!x!}\\verb|..|\\phantom{\\verb!x!}\\verb|2.5200000000000001],|\\phantom{\\verb!x!}\\verb|[0.57999999999999996|\\phantom{\\verb!x!}\\verb|..|\\phantom{\\verb!x!}\\verb|0.62000000000000011],|\\phantom{\\verb!x!}\\verb|[1.2799999999999998|\\phantom{\\verb!x!}\\verb|..|\\phantom{\\verb!x!}\\verb|1.3200000000000001]],|\\phantom{\\verb!x!}\\verb|(-0.10000000000000000?*x1*x6|\\phantom{\\verb!x!}\\verb|+|\\phantom{\\verb!x!}\\verb|10*x3,|\\phantom{\\verb!x!}\\verb|-x1*x2|\\phantom{\\verb!x!}\\verb|+|\\phantom{\\verb!x!}\\verb|100*x4,|\\phantom{\\verb!x!}\\verb|0.10000000000000000?*x1*x6|\\phantom{\\verb!x!}\\verb|-|\\phantom{\\verb!x!}\\verb|50*x3,|\\phantom{\\verb!x!}\\verb|x2*x6|\\phantom{\\verb!x!}\\verb|-|\\phantom{\\verb!x!}\\verb|100*x4,|\\phantom{\\verb!x!}\\verb|0.50000000000000000?*x1|\\phantom{\\verb!x!}\\verb|+|\\phantom{\\verb!x!}\\verb|5*x3|\\phantom{\\verb!x!}\\verb|-|\\phantom{\\verb!x!}\\verb|10*x5,|\\phantom{\\verb!x!}\\verb|-0.10000000000000000?*x1*x6|\\phantom{\\verb!x!}\\verb|-|\\phantom{\\verb!x!}\\verb|x2*x6|\\phantom{\\verb!x!}\\verb|-|\\phantom{\\verb!x!}\\verb|2*x6*x8|\\phantom{\\verb!x!}\\verb|+|\\phantom{\\verb!x!}\\verb|50*x3|\\phantom{\\verb!x!}\\verb|+|\\phantom{\\verb!x!}\\verb|100*x4|\\phantom{\\verb!x!}\\verb|+|\\phantom{\\verb!x!}\\verb|50*x5|\\phantom{\\verb!x!}\\verb|-|\\phantom{\\verb!x!}\\verb|x6,|\\phantom{\\verb!x!}\\verb|0.01000000000000000?*x2|\\phantom{\\verb!x!}\\verb|+|\\phantom{\\verb!x!}\\verb|50*x4|\\phantom{\\verb!x!}\\verb|-|\\phantom{\\verb!x!}\\verb|0.50000000000000000?*x7,|\\phantom{\\verb!x!}\\verb|-2*x6*x8|\\phantom{\\verb!x!}\\verb|+|\\phantom{\\verb!x!}\\verb|0.50000000000000000?*x7|\\phantom{\\verb!x!}\\verb|-|\\phantom{\\verb!x!}\\verb|0.2000000000000000?*x8|\\phantom{\\verb!x!}\\verb|+|\\phantom{\\verb!x!}\\verb|x9,|\\phantom{\\verb!x!}\\verb|2*x6*x8|\\phantom{\\verb!x!}\\verb|-|\\phantom{\\verb!x!}\\verb|x9),|\\phantom{\\verb!x!}\\verb|varmap=bidict({'x1':|\\phantom{\\verb!x!}\\verb|x1,|\\phantom{\\verb!x!}\\verb|'x2':|\\phantom{\\verb!x!}\\verb|x2,|\\phantom{\\verb!x!}\\verb|'x3':|\\phantom{\\verb!x!}\\verb|x3,|\\phantom{\\verb!x!}\\verb|'x4':|\\phantom{\\verb!x!}\\verb|x4,|\\phantom{\\verb!x!}\\verb|'x5':|\\phantom{\\verb!x!}\\verb|x5,|\\phantom{\\verb!x!}\\verb|'x6':|\\phantom{\\verb!x!}\\verb|x6,|\\phantom{\\verb!x!}\\verb|'x7':|\\phantom{\\verb!x!}\\verb|x7,|\\phantom{\\verb!x!}\\verb|'x8':|\\phantom{\\verb!x!}\\verb|x8,|\\phantom{\\verb!x!}\\verb|'x9':|\\phantom{\\verb!x!}\\verb|x9}))|</script></html>"
      ],
      "text/plain": [
       "System(R, (x1, x2, x3, x4, x5, x6, x7, x8, x9), [[0.97999999999999998 .. 1.0200000000000001], [1.2799999999999998 .. 1.3200000000000001], [0.079999999999999987 .. 0.12000000000000001], [0.079999999999999987 .. 0.12000000000000001], [0.079999999999999987 .. 0.12000000000000001], [1.2799999999999998 .. 1.3200000000000001], [2.4799999999999999 .. 2.5200000000000001], [0.57999999999999996 .. 0.62000000000000011], [1.2799999999999998 .. 1.3200000000000001]], (-0.10000000000000000?*x1*x6 + 10*x3, -x1*x2 + 100*x4, 0.10000000000000000?*x1*x6 - 50*x3, x2*x6 - 100*x4, 0.50000000000000000?*x1 + 5*x3 - 10*x5, -0.10000000000000000?*x1*x6 - x2*x6 - 2*x6*x8 + 50*x3 + 100*x4 + 50*x5 - x6, 0.01000000000000000?*x2 + 50*x4 - 0.50000000000000000?*x7, -2*x6*x8 + 0.50000000000000000?*x7 - 0.2000000000000000?*x8 + x9, 2*x6*x8 - x9), varmap=bidict({'x1': x1, 'x2': x2, 'x3': x3, 'x4': x4, 'x5': x5, 'x6': x6, 'x7': x7, 'x8': x8, 'x9': x9}))"
      ]
     },
     "execution_count": 9,
     "metadata": {},
     "output_type": "execute_result"
    }
   ],
   "source": [
    "sys = System(R, R.gens(), y0, y); sys"
   ]
  },
  {
   "cell_type": "code",
   "execution_count": 10,
   "metadata": {},
   "outputs": [],
   "source": [
    "RReal = RR['x1', 'x2', 'x3', 'x4', 'x5', 'x6', 'x7', 'x8', 'x9']"
   ]
  },
  {
   "cell_type": "code",
   "execution_count": 11,
   "metadata": {},
   "outputs": [
    {
     "data": {
      "text/html": [
       "<html><script type=\"math/tex; mode=display\">\\newcommand{\\Bold}[1]{\\mathbf{#1}}0.100000000000000 x_{1} x_{6} - 50.0000000000000 x_{3}</script></html>"
      ],
      "text/plain": [
       "0.100000000000000*x1*x6 - 50.0000000000000*x3"
      ]
     },
     "execution_count": 11,
     "metadata": {},
     "output_type": "execute_result"
    }
   ],
   "source": [
    "RReal(sys.y[2])"
   ]
  },
  {
   "cell_type": "code",
   "execution_count": 12,
   "metadata": {},
   "outputs": [
    {
     "data": {
      "text/html": [
       "<html><script type=\"math/tex; mode=display\">\\newcommand{\\Bold}[1]{\\mathbf{#1}}\\verb|System(R,|\\phantom{\\verb!x!}\\verb|(x1,|\\phantom{\\verb!x!}\\verb|x2,|\\phantom{\\verb!x!}\\verb|x3,|\\phantom{\\verb!x!}\\verb|x4,|\\phantom{\\verb!x!}\\verb|x5,|\\phantom{\\verb!x!}\\verb|x6,|\\phantom{\\verb!x!}\\verb|x7,|\\phantom{\\verb!x!}\\verb|x8,|\\phantom{\\verb!x!}\\verb|x9),|\\phantom{\\verb!x!}\\verb|[1,|\\phantom{\\verb!x!}\\verb|[1.2999999999999998|\\phantom{\\verb!x!}\\verb|..|\\phantom{\\verb!x!}\\verb|1.2999999999999999],|\\phantom{\\verb!x!}\\verb|[0.10000000000000000|\\phantom{\\verb!x!}\\verb|..|\\phantom{\\verb!x!}\\verb|0.10000000000000001],|\\phantom{\\verb!x!}\\verb|[0.10000000000000000|\\phantom{\\verb!x!}\\verb|..|\\phantom{\\verb!x!}\\verb|0.10000000000000001],|\\phantom{\\verb!x!}\\verb|[0.10000000000000000|\\phantom{\\verb!x!}\\verb|..|\\phantom{\\verb!x!}\\verb|0.10000000000000001],|\\phantom{\\verb!x!}\\verb|[1.2999999999999998|\\phantom{\\verb!x!}\\verb|..|\\phantom{\\verb!x!}\\verb|1.2999999999999999],|\\phantom{\\verb!x!}\\verb|[2.5000000000000000|\\phantom{\\verb!x!}\\verb|..|\\phantom{\\verb!x!}\\verb|2.5000000000000000],|\\phantom{\\verb!x!}\\verb|[0.60000000000000008|\\phantom{\\verb!x!}\\verb|..|\\phantom{\\verb!x!}\\verb|0.60000000000000009],|\\phantom{\\verb!x!}\\verb|[1.2999999999999998|\\phantom{\\verb!x!}\\verb|..|\\phantom{\\verb!x!}\\verb|1.2999999999999999]],|\\phantom{\\verb!x!}\\verb|(-0.100000000000000*x1*x6|\\phantom{\\verb!x!}\\verb|+|\\phantom{\\verb!x!}\\verb|10.0000000000000*x3,|\\phantom{\\verb!x!}\\verb|-x1*x2|\\phantom{\\verb!x!}\\verb|+|\\phantom{\\verb!x!}\\verb|100.000000000000*x4,|\\phantom{\\verb!x!}\\verb|0.100000000000000*x1*x6|\\phantom{\\verb!x!}\\verb|-|\\phantom{\\verb!x!}\\verb|50.0000000000000*x3,|\\phantom{\\verb!x!}\\verb|x2*x6|\\phantom{\\verb!x!}\\verb|-|\\phantom{\\verb!x!}\\verb|100.000000000000*x4,|\\phantom{\\verb!x!}\\verb|0.500000000000000*x1|\\phantom{\\verb!x!}\\verb|+|\\phantom{\\verb!x!}\\verb|5.00000000000000*x3|\\phantom{\\verb!x!}\\verb|-|\\phantom{\\verb!x!}\\verb|10.0000000000000*x5,|\\phantom{\\verb!x!}\\verb|-0.100000000000000*x1*x6|\\phantom{\\verb!x!}\\verb|-|\\phantom{\\verb!x!}\\verb|x2*x6|\\phantom{\\verb!x!}\\verb|-|\\phantom{\\verb!x!}\\verb|2.00000000000000*x6*x8|\\phantom{\\verb!x!}\\verb|+|\\phantom{\\verb!x!}\\verb|50.0000000000000*x3|\\phantom{\\verb!x!}\\verb|+|\\phantom{\\verb!x!}\\verb|100.000000000000*x4|\\phantom{\\verb!x!}\\verb|+|\\phantom{\\verb!x!}\\verb|50.0000000000000*x5|\\phantom{\\verb!x!}\\verb|-|\\phantom{\\verb!x!}\\verb|x6,|\\phantom{\\verb!x!}\\verb|0.0100000000000000*x2|\\phantom{\\verb!x!}\\verb|+|\\phantom{\\verb!x!}\\verb|50.0000000000000*x4|\\phantom{\\verb!x!}\\verb|-|\\phantom{\\verb!x!}\\verb|0.500000000000000*x7,|\\phantom{\\verb!x!}\\verb|-2.00000000000000*x6*x8|\\phantom{\\verb!x!}\\verb|+|\\phantom{\\verb!x!}\\verb|0.500000000000000*x7|\\phantom{\\verb!x!}\\verb|-|\\phantom{\\verb!x!}\\verb|0.200000000000000*x8|\\phantom{\\verb!x!}\\verb|+|\\phantom{\\verb!x!}\\verb|x9,|\\phantom{\\verb!x!}\\verb|2.00000000000000*x6*x8|\\phantom{\\verb!x!}\\verb|-|\\phantom{\\verb!x!}\\verb|x9),|\\phantom{\\verb!x!}\\verb|varmap=bidict({'x1':|\\phantom{\\verb!x!}\\verb|x1,|\\phantom{\\verb!x!}\\verb|'x2':|\\phantom{\\verb!x!}\\verb|x2,|\\phantom{\\verb!x!}\\verb|'x3':|\\phantom{\\verb!x!}\\verb|x3,|\\phantom{\\verb!x!}\\verb|'x4':|\\phantom{\\verb!x!}\\verb|x4,|\\phantom{\\verb!x!}\\verb|'x5':|\\phantom{\\verb!x!}\\verb|x5,|\\phantom{\\verb!x!}\\verb|'x6':|\\phantom{\\verb!x!}\\verb|x6,|\\phantom{\\verb!x!}\\verb|'x7':|\\phantom{\\verb!x!}\\verb|x7,|\\phantom{\\verb!x!}\\verb|'x8':|\\phantom{\\verb!x!}\\verb|x8,|\\phantom{\\verb!x!}\\verb|'x9':|\\phantom{\\verb!x!}\\verb|x9}))|</script></html>"
      ],
      "text/plain": [
       "System(R, (x1, x2, x3, x4, x5, x6, x7, x8, x9), [1, [1.2999999999999998 .. 1.2999999999999999], [0.10000000000000000 .. 0.10000000000000001], [0.10000000000000000 .. 0.10000000000000001], [0.10000000000000000 .. 0.10000000000000001], [1.2999999999999998 .. 1.2999999999999999], [2.5000000000000000 .. 2.5000000000000000], [0.60000000000000008 .. 0.60000000000000009], [1.2999999999999998 .. 1.2999999999999999]], (-0.100000000000000*x1*x6 + 10.0000000000000*x3, -x1*x2 + 100.000000000000*x4, 0.100000000000000*x1*x6 - 50.0000000000000*x3, x2*x6 - 100.000000000000*x4, 0.500000000000000*x1 + 5.00000000000000*x3 - 10.0000000000000*x5, -0.100000000000000*x1*x6 - x2*x6 - 2.00000000000000*x6*x8 + 50.0000000000000*x3 + 100.000000000000*x4 + 50.0000000000000*x5 - x6, 0.0100000000000000*x2 + 50.0000000000000*x4 - 0.500000000000000*x7, -2.00000000000000*x6*x8 + 0.500000000000000*x7 - 0.200000000000000*x8 + x9, 2.00000000000000*x6*x8 - x9), varmap=bidict({'x1': x1, 'x2': x2, 'x3': x3, 'x4': x4, 'x5': x5, 'x6': x6, 'x7': x7, 'x8': x8, 'x9': x9}))"
      ]
     },
     "execution_count": 12,
     "metadata": {},
     "output_type": "execute_result"
    }
   ],
   "source": [
    "sys_real = System(\n",
    "    RReal,\n",
    "    RReal.gens(),\n",
    "    [y0i.center() for y0i in sys.y0],\n",
    "    [RReal(yi) for yi in sys.y],\n",
    ")\n",
    "sys_real"
   ]
  },
  {
   "cell_type": "code",
   "execution_count": 13,
   "metadata": {},
   "outputs": [
    {
     "data": {
      "text/html": [
       "<div class=\"notruncate\">\n",
       "<table  class=\"table_form\">\n",
       "<tbody>\n",
       "<tr class =\"row-a\">\n",
       "<td><script type=\"math/tex\">1.00000000000000</script></td>\n",
       "</tr>\n",
       "<tr class =\"row-b\">\n",
       "<td><script type=\"math/tex\">1.30000000000000</script></td>\n",
       "</tr>\n",
       "<tr class =\"row-a\">\n",
       "<td><script type=\"math/tex\">0.100000000000000</script></td>\n",
       "</tr>\n",
       "<tr class =\"row-b\">\n",
       "<td><script type=\"math/tex\">0.100000000000000</script></td>\n",
       "</tr>\n",
       "<tr class =\"row-a\">\n",
       "<td><script type=\"math/tex\">0.100000000000000</script></td>\n",
       "</tr>\n",
       "<tr class =\"row-b\">\n",
       "<td><script type=\"math/tex\">1.30000000000000</script></td>\n",
       "</tr>\n",
       "<tr class =\"row-a\">\n",
       "<td><script type=\"math/tex\">2.50000000000000</script></td>\n",
       "</tr>\n",
       "<tr class =\"row-b\">\n",
       "<td><script type=\"math/tex\">0.600000000000000</script></td>\n",
       "</tr>\n",
       "<tr class =\"row-a\">\n",
       "<td><script type=\"math/tex\">1.30000000000000</script></td>\n",
       "</tr>\n",
       "</tbody>\n",
       "</table>\n",
       "</div>"
      ],
      "text/plain": [
       "  1.00000000000000\n",
       "  1.30000000000000\n",
       "  0.100000000000000\n",
       "  0.100000000000000\n",
       "  0.100000000000000\n",
       "  1.30000000000000\n",
       "  2.50000000000000\n",
       "  0.600000000000000\n",
       "  1.30000000000000"
      ]
     },
     "execution_count": 13,
     "metadata": {},
     "output_type": "execute_result"
    }
   ],
   "source": [
    "y0_real = [y0i.center() for y0i in sys.y0]\n",
    "table([[y0i] for y0i in y0_real])"
   ]
  },
  {
   "cell_type": "code",
   "execution_count": 14,
   "metadata": {},
   "outputs": [],
   "source": [
    "timepoints = srange(0,10,0.1)"
   ]
  },
  {
   "cell_type": "code",
   "execution_count": 15,
   "metadata": {},
   "outputs": [],
   "source": [
    "sln = desolve_odeint(sys_real.y, y0_real, timepoints, list(sys_real.x))"
   ]
  },
  {
   "cell_type": "code",
   "execution_count": 16,
   "metadata": {},
   "outputs": [
    {
     "data": {
      "image/png": "[encoded data removed]",
      "text/plain": [
       "Graphics object consisting of 1 graphics primitive"
      ]
     },
     "execution_count": 16,
     "metadata": {},
     "output_type": "execute_result"
    }
   ],
   "source": [
    "points(zip(timepoints, [yi[1] for yi in sln]))"
   ]
  },
  {
   "cell_type": "code",
   "execution_count": 17,
   "metadata": {},
   "outputs": [],
   "source": [
    "from scipy.integrate import solve_ivp\n",
    "from lbuc.matricies import vec_to_numpy, mat_to_numpy, convert_vec, sympy_gens"
   ]
  },
  {
   "cell_type": "code",
   "execution_count": 18,
   "metadata": {},
   "outputs": [],
   "source": [
    "f = vec_to_numpy(RReal, sys_real.y)\n",
    "jac = mat_to_numpy(RReal, sage.jacobian(sys_real.y, sys_real.x))"
   ]
  },
  {
   "cell_type": "code",
   "execution_count": 19,
   "metadata": {},
   "outputs": [],
   "source": [
    "sln = solve_ivp(f,\n",
    "                (0, 10),\n",
    "                y0_real,\n",
    "                method='LSODA',\n",
    "                jac=jac,\n",
    "                vectorized=True,\n",
    "                dense_output=True)"
   ]
  },
  {
   "cell_type": "code",
   "execution_count": 20,
   "metadata": {},
   "outputs": [
    {
     "data": {
      "image/png": "[encoded data removed]",
      "text/plain": [
       "Graphics object consisting of 1 graphics primitive"
      ]
     },
     "execution_count": 20,
     "metadata": {},
     "output_type": "execute_result"
    }
   ],
   "source": [
    "plot(lambda t: sln.sol(t)[1], (0, 10))"
   ]
  },
  {
   "cell_type": "code",
   "execution_count": 21,
   "metadata": {},
   "outputs": [],
   "source": [
    "def test_monitoring(prop, duration, **kwargs):\n",
    "    t0 = time.time()\n",
    "    sig = prop.signal_for_system(sys,\n",
    "    duration, order=4, step=0.003,\n",
    "    precondition=1,\n",
    "    estimation=1e-1,\n",
    "    max_remainder_queue=100,\n",
    "    integration_method=IntegrationMethod.ONLY_PICARD_SYMB,\n",
    "    cutoff_threshold=1e-6,\n",
    "    **kwargs)\n",
    "    t1 = time.time()\n",
    "    print(f\"Run done in {t1 - t0} sec\\noptions: {repr(kwargs)}\")\n",
    "    return t1 - t0, sig"
   ]
  },
  {
   "cell_type": "markdown",
   "metadata": {},
   "source": [
    "# Optimizing and speedup"
   ]
  },
  {
   "cell_type": "markdown",
   "metadata": {},
   "source": [
    "## Unoptimized"
   ]
  },
  {
   "cell_type": "code",
   "execution_count": 22,
   "metadata": {
    "scrolled": true
   },
   "outputs": [
    {
     "data": {
      "text/html": [
       "<html><script type=\"math/tex; mode=display\">\\newcommand{\\Bold}[1]{\\mathbf{#1}}\\verb|x6|\\phantom{\\verb!x!}\\verb|>|\\phantom{\\verb!x!}\\verb|1.40000000000000|</script></html>"
      ],
      "text/plain": [
       "Atomic(x6 > 1.40000000000000)"
      ]
     },
     "execution_count": 22,
     "metadata": {},
     "output_type": "execute_result"
    }
   ],
   "source": [
    "P = Atomic(var(\"x6\") > 1.4); P"
   ]
  },
  {
   "cell_type": "code",
   "execution_count": 23,
   "metadata": {},
   "outputs": [
    {
     "name": "stdout",
     "output_type": "stream",
     "text": [
      "Precomposing Contexts: 1 items in 0.00 seconds\n",
      "calling reach with y0 = ['[0.97999999999999998 .. 1.0200000000000001]', '[1.2799999999999998 .. 1.3200000000000001]', '[0.079999999999999987 .. 0.12000000000000001]', '[0.079999999999999987 .. 0.12000000000000001]', '[0.079999999999999987 .. 0.12000000000000001]', '[1.2799999999999998 .. 1.3200000000000001]', '[2.4799999999999999 .. 2.5200000000000001]', '[0.57999999999999996 .. 0.62000000000000011]', '[1.2799999999999998 .. 1.3200000000000001]']\n",
      "ode in polynomial ring\n",
      "crude_roots = False\n",
      "_handle_initials called!\n",
      "vars = [x1, x2, x3, x4, x5, x6, x7, x8, x9]\n",
      "C = [0.98..1.02]\n",
      "C = [1.2799999999999998..1.32]\n",
      "C = [0.07999999999999999..0.12000000000000001]\n",
      "C = [0.07999999999999999..0.12000000000000001]\n",
      "C = [0.07999999999999999..0.12000000000000001]\n",
      "C = [1.2799999999999998..1.32]\n",
      "C = [2.48..2.52]\n",
      "C = [0.58..0.6200000000000001]\n",
      "C = [1.2799999999999998..1.32]\n",
      "assigning system with dimension 9\n",
      "resulting system has dimension 9\n",
      "run within tmv args\n",
      "integrationScheme = 7\n",
      "Running Flow*: 1 items in 38.18 seconds\n",
      "Computed 1334 flowpipes in 38.17544543400027 sec\n",
      "PolyObserver(x6 - 1.4000000000000000?, <flowstar.reachability.Reach object at 0x7f707dd8b500>, -0.10000000000000000?*x1*x6 - x2*x6 - 2*x6*x8 + 50*x3 + 100*x4 + 50*x5 - x6 symbolic_composition=True, tentative_unpreconditioning=True, mask=None)\n",
      "fprime = -0.10000000000000000?*x1*x6 - x2*x6 - 2*x6*x8 + 50*x3 + 100*x4 + 50*x5 - x6\n",
      "symbolic_composition=True, tentative_unpreconditioning=True,two_pass_masks=False\n",
      "roots(space_domain=None, epsilon=1e-05, verbosity=0)\n",
      "top-level root detection: 1 items in 4.66 seconds\n",
      "roots = [[0.0048138818803625908 .. 0.020020370779725589], [0.20774355246405734 .. 0.47416911189916711]]\n",
      "domain = [0.0000000000000000 .. 4.0000000000000009]\n",
      "roots = [[0.0048138818803625908 .. 0.020020370779725589], \n",
      " [0.20774355246405734 .. 0.47416911189916711]]\n",
      "seg_domain = [0.0000000000000000 .. 4.0000000000000009]\n",
      "roots = [[0.0048138818803625908 .. 0.020020370779725589], \n",
      " [0.20774355246405734 .. 0.47416911189916711]]\n",
      "running f_bool: 1 items in 0.00 seconds\n",
      "running f_bool: 1 items in 0.00 seconds\n",
      "running f_bool: 1 items in 0.00 seconds\n",
      "signal given bool roots: 1 items in 0.00 seconds\n",
      "Monitoring Signal for x6 > 1.40000000000000: 1 items in 6.15 seconds\n",
      "Monitored signal in 6.150795760999699 sec\n",
      "ran \"prepare in check\" 3 times in 1.2874603271484375e-05\n",
      "ran \"tentative eval\" 1334 times in 1.0728580951690674\n",
      "ran \"root amalgamation\" 100 times in 5.412101745605469e-05\n",
      "ran \"check boolean [unguarded]\" 3 times in 0.00029087066650390625\n",
      "ran \"composing flowpipe\" 102 times in 3.2818708419799805\n",
      "ran \"mask intersect check\" 1334 times in 0.0007905960083007812\n",
      "ran \"whole domain eval\" 102 times in 0.16625356674194336\n",
      "ran \"observer.check\" 3 times in 0.0004019737243652344\n",
      "ran \"restoring globals\" 9 times in 0.0003826618194580078\n",
      "ran \"root detection\" 100 times in 0.002786397933959961\n",
      "ran \"post retrieve\" 100 times in 0.11536383628845215\n",
      "ran \"capturing globals [on exit]\" 9 times in 0.00026988983154296875\n",
      "Run done in 44.3863685131073 sec\n",
      "options: {'use_masks': False, 'symbolic_composition': True}\n"
     ]
    },
    {
     "data": {
      "image/png": "[encoded data removed]",
      "text/plain": [
       "Graphics object consisting of 2 graphics primitives"
      ]
     },
     "execution_count": 23,
     "metadata": {},
     "output_type": "execute_result"
    }
   ],
   "source": [
    "test_monitoring(P, 4, use_masks=False, symbolic_composition=True)[1].plot()"
   ]
  },
  {
   "cell_type": "code",
   "execution_count": 24,
   "metadata": {},
   "outputs": [
    {
     "data": {
      "text/html": [
       "<html><script type=\"math/tex; mode=display\">\\newcommand{\\Bold}[1]{\\mathbf{#1}}\\verb|x6|\\phantom{\\verb!x!}\\verb|<|\\phantom{\\verb!x!}\\verb|1|</script></html>"
      ],
      "text/plain": [
       "Atomic(x6 < 1)"
      ]
     },
     "execution_count": 24,
     "metadata": {},
     "output_type": "execute_result"
    }
   ],
   "source": [
    "Q = Atomic(var(\"x6\") < 1); Q"
   ]
  },
  {
   "cell_type": "code",
   "execution_count": 25,
   "metadata": {},
   "outputs": [
    {
     "name": "stdout",
     "output_type": "stream",
     "text": [
      "Precomposing Contexts: 1 items in 0.00 seconds\n",
      "calling reach with y0 = ['[0.97999999999999998 .. 1.0200000000000001]', '[1.2799999999999998 .. 1.3200000000000001]', '[0.079999999999999987 .. 0.12000000000000001]', '[0.079999999999999987 .. 0.12000000000000001]', '[0.079999999999999987 .. 0.12000000000000001]', '[1.2799999999999998 .. 1.3200000000000001]', '[2.4799999999999999 .. 2.5200000000000001]', '[0.57999999999999996 .. 0.62000000000000011]', '[1.2799999999999998 .. 1.3200000000000001]']\n",
      "ode in polynomial ring\n",
      "crude_roots = False\n",
      "_handle_initials called!\n",
      "vars = [x1, x2, x3, x4, x5, x6, x7, x8, x9]\n",
      "C = [0.98..1.02]\n",
      "C = [1.2799999999999998..1.32]\n",
      "C = [0.07999999999999999..0.12000000000000001]\n",
      "C = [0.07999999999999999..0.12000000000000001]\n",
      "C = [0.07999999999999999..0.12000000000000001]\n",
      "C = [1.2799999999999998..1.32]\n",
      "C = [2.48..2.52]\n",
      "C = [0.58..0.6200000000000001]\n",
      "C = [1.2799999999999998..1.32]\n",
      "assigning system with dimension 9\n",
      "resulting system has dimension 9\n",
      "run within tmv args\n",
      "integrationScheme = 7\n",
      "Running Flow*: 1 items in 39.48 seconds\n",
      "Computed 1334 flowpipes in 39.48329101800027 sec\n",
      "PolyObserver(-x6 + 1, <flowstar.reachability.Reach object at 0x7f707dd8baa0>, 0.10000000000000000?*x1*x6 + x2*x6 + 2*x6*x8 - 50*x3 - 100*x4 - 50*x5 + x6 symbolic_composition=True, tentative_unpreconditioning=True, mask=None)\n",
      "fprime = 0.10000000000000000?*x1*x6 + x2*x6 + 2*x6*x8 - 50*x3 - 100*x4 - 50*x5 + x6\n",
      "symbolic_composition=True, tentative_unpreconditioning=True,two_pass_masks=False\n",
      "roots(space_domain=None, epsilon=1e-05, verbosity=0)\n",
      "top-level root detection: 1 items in 5.33 seconds\n",
      "roots = [[0.73107498712745855 .. 0.94185954038689923]]\n",
      "domain = [0.0000000000000000 .. 3.9999999999999996]\n",
      "roots = [[0.73107498712745855 .. 0.94185954038689923]]\n",
      "seg_domain = [0.0000000000000000 .. 3.9999999999999996]\n",
      "roots = [[0.73107498712745855 .. 0.94185954038689923]]\n",
      "running f_bool: 1 items in 0.00 seconds\n",
      "running f_bool: 1 items in 0.00 seconds\n",
      "signal given bool roots: 1 items in 0.00 seconds\n",
      "Monitoring Signal for x6 < 1: 1 items in 5.38 seconds\n",
      "Monitored signal in 5.382755786999951 sec\n",
      "ran \"prepare in check\" 2 times in 1.0251998901367188e-05\n",
      "ran \"tentative eval\" 1334 times in 1.0840957164764404\n",
      "ran \"root amalgamation\" 86 times in 6.222724914550781e-05\n",
      "ran \"check boolean [unguarded]\" 2 times in 0.00035834312438964844\n",
      "ran \"composing flowpipe\" 89 times in 3.9565937519073486\n",
      "ran \"mask intersect check\" 1334 times in 0.0007615089416503906\n",
      "ran \"whole domain eval\" 89 times in 0.15636444091796875\n",
      "ran \"observer.check\" 2 times in 0.00043964385986328125\n",
      "ran \"restoring globals\" 9 times in 0.00040435791015625\n",
      "ran \"root detection\" 86 times in 0.0027115345001220703\n",
      "ran \"post retrieve\" 86 times in 0.10967469215393066\n",
      "ran \"capturing globals [on exit]\" 9 times in 0.0002608299255371094\n",
      "Run done in 44.98875713348389 sec\n",
      "options: {'use_masks': False, 'symbolic_composition': True}\n"
     ]
    },
    {
     "data": {
      "image/png": "[encoded data removed]",
      "text/plain": [
       "Graphics object consisting of 2 graphics primitives"
      ]
     },
     "execution_count": 25,
     "metadata": {},
     "output_type": "execute_result"
    }
   ],
   "source": [
    "test_monitoring(Q, 4, use_masks=False, symbolic_composition=True)[1].plot()"
   ]
  },
  {
   "cell_type": "code",
   "execution_count": 26,
   "metadata": {},
   "outputs": [
    {
     "name": "stdout",
     "output_type": "stream",
     "text": [
      "Precomposing Contexts: 1 items in 0.00 seconds\n",
      "calling reach with y0 = ['[0.97999999999999998 .. 1.0200000000000001]', '[1.2799999999999998 .. 1.3200000000000001]', '[0.079999999999999987 .. 0.12000000000000001]', '[0.079999999999999987 .. 0.12000000000000001]', '[0.079999999999999987 .. 0.12000000000000001]', '[1.2799999999999998 .. 1.3200000000000001]', '[2.4799999999999999 .. 2.5200000000000001]', '[0.57999999999999996 .. 0.62000000000000011]', '[1.2799999999999998 .. 1.3200000000000001]']\n",
      "ode in polynomial ring\n",
      "crude_roots = False\n",
      "_handle_initials called!\n",
      "vars = [x1, x2, x3, x4, x5, x6, x7, x8, x9]\n",
      "C = [0.98..1.02]\n",
      "C = [1.2799999999999998..1.32]\n",
      "C = [0.07999999999999999..0.12000000000000001]\n",
      "C = [0.07999999999999999..0.12000000000000001]\n",
      "C = [0.07999999999999999..0.12000000000000001]\n",
      "C = [1.2799999999999998..1.32]\n",
      "C = [2.48..2.52]\n",
      "C = [0.58..0.6200000000000001]\n",
      "C = [1.2799999999999998..1.32]\n",
      "assigning system with dimension 9\n",
      "resulting system has dimension 9\n",
      "run within tmv args\n",
      "integrationScheme = 7\n",
      "Running Flow*: 1 items in 42.07 seconds\n",
      "Computed 1334 flowpipes in 42.07422214100052 sec\n",
      "PolyObserver(x6 - 1.4000000000000000?, <flowstar.reachability.Reach object at 0x7f70791956e0>, -0.10000000000000000?*x1*x6 - x2*x6 - 2*x6*x8 + 50*x3 + 100*x4 + 50*x5 - x6 symbolic_composition=True, tentative_unpreconditioning=True, mask=None)\n",
      "fprime = -0.10000000000000000?*x1*x6 - x2*x6 - 2*x6*x8 + 50*x3 + 100*x4 + 50*x5 - x6\n",
      "symbolic_composition=True, tentative_unpreconditioning=True,two_pass_masks=False\n",
      "roots(space_domain=None, epsilon=1e-05, verbosity=0)\n",
      "top-level root detection: 1 items in 4.60 seconds\n",
      "roots = [[0.0048138818803625908 .. 0.020020370779725589], [0.20774355246405734 .. 0.47416911189916711]]\n",
      "domain = [0.0000000000000000 .. 3.9999999999999996]\n",
      "roots = [[0.0048138818803625908 .. 0.020020370779725589], \n",
      " [0.20774355246405734 .. 0.47416911189916711]]\n",
      "seg_domain = [0.0000000000000000 .. 3.9999999999999996]\n",
      "roots = [[0.0048138818803625908 .. 0.020020370779725589], \n",
      " [0.20774355246405734 .. 0.47416911189916711]]\n",
      "running f_bool: 1 items in 0.00 seconds\n",
      "running f_bool: 1 items in 0.00 seconds\n",
      "running f_bool: 1 items in 0.00 seconds\n",
      "signal given bool roots: 1 items in 0.00 seconds\n",
      "PolyObserver(-x6 + 1, <flowstar.reachability.Reach object at 0x7f70791956e0>, 0.10000000000000000?*x1*x6 + x2*x6 + 2*x6*x8 - 50*x3 - 100*x4 - 50*x5 + x6 symbolic_composition=True, tentative_unpreconditioning=True, mask=None)\n",
      "fprime = 0.10000000000000000?*x1*x6 + x2*x6 + 2*x6*x8 - 50*x3 - 100*x4 - 50*x5 + x6\n",
      "symbolic_composition=True, tentative_unpreconditioning=True,two_pass_masks=False\n",
      "roots(space_domain=None, epsilon=1e-05, verbosity=0)\n",
      "top-level root detection: 1 items in 5.11 seconds\n",
      "roots = [[0.73107498712745855 .. 0.94185954038689923]]\n",
      "domain = [0.0000000000000000 .. 3.9999999999999992]\n",
      "roots = [[0.73107498712745855 .. 0.94185954038689923]]\n",
      "seg_domain = [0.0000000000000000 .. 3.9999999999999992]\n",
      "roots = [[0.73107498712745855 .. 0.94185954038689923]]\n",
      "running f_bool: 1 items in 0.00 seconds\n",
      "running f_bool: 1 items in 0.00 seconds\n",
      "signal given bool roots: 1 items in 0.00 seconds\n",
      "Monitoring Signal for x6 > 1.40000000000000 & x6 < 1: 1 items in 9.79 seconds\n",
      "Monitored signal in 9.790331236999464 sec\n",
      "ran \"prepare in check\" 5 times in 2.2172927856445312e-05\n",
      "ran \"tentative eval\" 2566 times in 2.0133886337280273\n",
      "ran \"root amalgamation\" 186 times in 0.00010848045349121094\n",
      "ran \"check boolean [unguarded]\" 5 times in 0.0006842613220214844\n",
      "ran \"composing flowpipe\" 293 times in 6.971506595611572\n",
      "ran \"mask intersect check\" 2668 times in 0.001417398452758789\n",
      "ran \"whole domain eval\" 293 times in 0.46471643447875977\n",
      "ran \"observer.check\" 5 times in 0.0008578300476074219\n",
      "ran \"restoring globals\" 16 times in 0.0007259845733642578\n",
      "ran \"root detection\" 186 times in 0.0052907466888427734\n",
      "ran \"post retrieve\" 186 times in 0.21651434898376465\n",
      "ran \"capturing globals [on exit]\" 16 times in 0.0004177093505859375\n",
      "Run done in 51.988768100738525 sec\n",
      "options: {'use_masks': False, 'symbolic_composition': True}\n"
     ]
    },
    {
     "name": "stderr",
     "output_type": "stream",
     "text": [
      "/usr/lib64/python3.7/site-packages/sage/plot/contour_plot.py:205: UserWarning: No contour levels were found within the data range.\n",
      "  linewidths=linewidths, linestyles=linestyles)\n"
     ]
    },
    {
     "data": {
      "image/png": "[encoded data removed]",
      "text/plain": [
       "Graphics object consisting of 2 graphics primitives"
      ]
     },
     "execution_count": 26,
     "metadata": {},
     "output_type": "execute_result"
    }
   ],
   "source": [
    "sigPQ = test_monitoring(P & Q, 4, use_masks=False, symbolic_composition=True)[1]\n",
    "sigPQ.plot()"
   ]
  },
  {
   "cell_type": "code",
   "execution_count": 27,
   "metadata": {},
   "outputs": [
    {
     "name": "stdout",
     "output_type": "stream",
     "text": [
      "Precomposing Contexts: 1 items in 0.00 seconds\n",
      "calling reach with y0 = ['[0.97999999999999998 .. 1.0200000000000001]', '[1.2799999999999998 .. 1.3200000000000001]', '[0.079999999999999987 .. 0.12000000000000001]', '[0.079999999999999987 .. 0.12000000000000001]', '[0.079999999999999987 .. 0.12000000000000001]', '[1.2799999999999998 .. 1.3200000000000001]', '[2.4799999999999999 .. 2.5200000000000001]', '[0.57999999999999996 .. 0.62000000000000011]', '[1.2799999999999998 .. 1.3200000000000001]']\n",
      "ode in polynomial ring\n",
      "crude_roots = False\n",
      "_handle_initials called!\n",
      "vars = [x1, x2, x3, x4, x5, x6, x7, x8, x9]\n",
      "C = [0.98..1.02]\n",
      "C = [1.2799999999999998..1.32]\n",
      "C = [0.07999999999999999..0.12000000000000001]\n",
      "C = [0.07999999999999999..0.12000000000000001]\n",
      "C = [0.07999999999999999..0.12000000000000001]\n",
      "C = [1.2799999999999998..1.32]\n",
      "C = [2.48..2.52]\n",
      "C = [0.58..0.6200000000000001]\n",
      "C = [1.2799999999999998..1.32]\n",
      "assigning system with dimension 9\n",
      "resulting system has dimension 9\n",
      "run within tmv args\n",
      "integrationScheme = 7\n",
      "Running Flow*: 1 items in 40.39 seconds\n",
      "Computed 1334 flowpipes in 40.38807191800015 sec\n",
      "PolyObserver(x6 - 1.4000000000000000?, <flowstar.reachability.Reach object at 0x7f70791959b0>, -0.10000000000000000?*x1*x6 - x2*x6 - 2*x6*x8 + 50*x3 + 100*x4 + 50*x5 - x6 symbolic_composition=True, tentative_unpreconditioning=True, mask=Mask([0.0000000000000000 .. 4.0009999999999995], [[0.0000000000000000 .. 4.0009999999999995]]))\n",
      "fprime = -0.10000000000000000?*x1*x6 - x2*x6 - 2*x6*x8 + 50*x3 + 100*x4 + 50*x5 - x6\n",
      "symbolic_composition=True, tentative_unpreconditioning=True,two_pass_masks=False\n",
      "roots(space_domain=None, epsilon=1e-05, verbosity=0)\n",
      "top-level root detection: 1 items in 4.61 seconds\n",
      "roots = [[0.0048138818803625908 .. 0.020020370779725589], [0.20774355246405734 .. 0.47416911189916711]]\n",
      "domain = [0.0000000000000000 .. 3.9999999999999996]\n",
      "roots = [[0.0048138818803625908 .. 0.020020370779725589], \n",
      " [0.20774355246405734 .. 0.47416911189916711]]\n",
      "seg_domain = [0.0000000000000000 .. 4.0009999999999995]\n",
      "roots = [[0.0048138818803625908 .. 0.020020370779725589], \n",
      " [0.20774355246405734 .. 0.47416911189916711]]\n",
      "running f_bool: 1 items in 0.00 seconds\n",
      "running f_bool: 1 items in 0.00 seconds\n",
      "running f_bool: 1 items in 0.00 seconds\n",
      "signal given bool roots: 1 items in 0.00 seconds\n",
      "PolyObserver(-x6 + 1, <flowstar.reachability.Reach object at 0x7f70791959b0>, 0.10000000000000000?*x1*x6 + x2*x6 + 2*x6*x8 - 50*x3 - 100*x4 - 50*x5 + x6 symbolic_composition=True, tentative_unpreconditioning=True, mask=Mask([0.0000000000000000 .. 4.0009999999999995], [[0.0048138818803625908 .. 0.47416911189916711]]))\n",
      "fprime = 0.10000000000000000?*x1*x6 + x2*x6 + 2*x6*x8 - 50*x3 - 100*x4 - 50*x5 + x6\n",
      "symbolic_composition=True, tentative_unpreconditioning=True,two_pass_masks=False\n",
      "roots(space_domain=None, epsilon=1e-05, verbosity=0)\n",
      "top-level root detection: 1 items in 0.20 seconds\n",
      "roots = []\n",
      "domain = [0.0000000000000000 .. 3.9999999999999992]\n",
      "roots = []\n",
      "seg_domain = [0.0048138818803625908 .. 0.47416911189916711]\n",
      "roots = []\n",
      "running f_bool: 1 items in 0.00 seconds\n",
      "signal given bool roots: 1 items in 0.00 seconds\n",
      "Monitoring Signal for x6 > 1.40000000000000 & x6 < 1: 1 items in 4.89 seconds\n",
      "Monitored signal in 4.886867033999806 sec\n",
      "ran \"prepare in check\" 4 times in 1.7642974853515625e-05\n",
      "ran \"tentative eval\" 1393 times in 1.0668556690216064\n",
      "ran \"root amalgamation\" 100 times in 5.7220458984375e-05\n",
      "ran \"check boolean [unguarded]\" 4 times in 0.00035309791564941406\n",
      "ran \"composing flowpipe\" 201 times in 3.2764198780059814\n",
      "ran \"mask intersect check\" 2668 times in 0.003082752227783203\n",
      "ran \"whole domain eval\" 201 times in 0.3170590400695801\n",
      "ran \"observer.check\" 4 times in 0.0004971027374267578\n",
      "ran \"restoring globals\" 16 times in 0.0007193088531494141\n",
      "ran \"root detection\" 100 times in 0.002893686294555664\n",
      "ran \"post retrieve\" 100 times in 0.11603450775146484\n",
      "ran \"capturing globals [on exit]\" 16 times in 0.00043320655822753906\n",
      "Run done in 45.4006028175354 sec\n",
      "options: {'use_masks': True, 'symbolic_composition': True}\n"
     ]
    },
    {
     "name": "stderr",
     "output_type": "stream",
     "text": [
      "/usr/lib64/python3.7/site-packages/sage/plot/contour_plot.py:205: UserWarning: No contour levels were found within the data range.\n",
      "  linewidths=linewidths, linestyles=linestyles)\n"
     ]
    },
    {
     "data": {
      "image/png": "[encoded data removed]",
      "text/plain": [
       "Graphics object consisting of 2 graphics primitives"
      ]
     },
     "execution_count": 27,
     "metadata": {},
     "output_type": "execute_result"
    }
   ],
   "source": [
    "sigPQ = test_monitoring(P & Q, 4, use_masks=True, symbolic_composition=True)[1]\n",
    "sigPQ.plot()"
   ]
  },
  {
   "cell_type": "markdown",
   "metadata": {},
   "source": [
    "## Integrated support"
   ]
  },
  {
   "cell_type": "code",
   "execution_count": 28,
   "metadata": {},
   "outputs": [
    {
     "name": "stdout",
     "output_type": "stream",
     "text": [
      "Precomposing Contexts: 1 items in 0.00 seconds\n",
      "calling reach with y0 = ['[0.97999999999999998 .. 1.0200000000000001]', '[1.2799999999999998 .. 1.3200000000000001]', '[0.079999999999999987 .. 0.12000000000000001]', '[0.079999999999999987 .. 0.12000000000000001]', '[0.079999999999999987 .. 0.12000000000000001]', '[1.2799999999999998 .. 1.3200000000000001]', '[2.4799999999999999 .. 2.5200000000000001]', '[0.57999999999999996 .. 0.62000000000000011]', '[1.2799999999999998 .. 1.3200000000000001]']\n",
      "ode in polynomial ring\n",
      "crude_roots = False\n",
      "_handle_initials called!\n",
      "vars = [x1, x2, x3, x4, x5, x6, x7, x8, x9]\n",
      "C = [0.98..1.02]\n",
      "C = [1.2799999999999998..1.32]\n",
      "C = [0.07999999999999999..0.12000000000000001]\n",
      "C = [0.07999999999999999..0.12000000000000001]\n",
      "C = [0.07999999999999999..0.12000000000000001]\n",
      "C = [1.2799999999999998..1.32]\n",
      "C = [2.48..2.52]\n",
      "C = [0.58..0.6200000000000001]\n",
      "C = [1.2799999999999998..1.32]\n",
      "assigning system with dimension 9\n",
      "resulting system has dimension 9\n",
      "run within tmv args\n",
      "integrationScheme = 7\n",
      "Running Flow*: 1 items in 40.37 seconds\n",
      "Computed 1334 flowpipes in 40.37203658000044 sec\n",
      "PolyObserver(x6 - 1.4000000000000000?, <flowstar.reachability.Reach object at 0x7f70791957d0>, -0.10000000000000000?*x1*x6 - x2*x6 - 2*x6*x8 + 50*x3 + 100*x4 + 50*x5 - x6 symbolic_composition=False, tentative_unpreconditioning=True, mask=Mask([0.0000000000000000 .. 4.0010000000000004], [[0.0000000000000000 .. 4.0010000000000004]]))\n",
      "fprime = -0.10000000000000000?*x1*x6 - x2*x6 - 2*x6*x8 + 50*x3 + 100*x4 + 50*x5 - x6\n",
      "symbolic_composition=False, tentative_unpreconditioning=True,two_pass_masks=False\n",
      "roots(space_domain=None, epsilon=1e-05, verbosity=0)\n",
      "top-level root detection: 1 items in 4.82 seconds\n",
      "roots = [[0.0048028783727901138 .. 0.020435765977123051], [0.20345478283219919 .. 0.48300000000000043]]\n",
      "domain = [0.0000000000000000 .. 3.9999999999999996]\n",
      "roots = [[0.0048028783727901138 .. 0.020435765977123051], \n",
      " [0.20345478283219919 .. 0.48300000000000043]]\n",
      "seg_domain = [0.0000000000000000 .. 4.0010000000000004]\n",
      "roots = [[0.0048028783727901138 .. 0.020435765977123051], \n",
      " [0.20345478283219919 .. 0.48300000000000043]]\n",
      "running f_bool: 1 items in 0.00 seconds\n",
      "running f_bool: 1 items in 0.00 seconds\n",
      "running f_bool: 1 items in 0.00 seconds\n",
      "signal given bool roots: 1 items in 0.00 seconds\n",
      "PolyObserver(-x6 + 1, <flowstar.reachability.Reach object at 0x7f70791957d0>, 0.10000000000000000?*x1*x6 + x2*x6 + 2*x6*x8 - 50*x3 - 100*x4 - 50*x5 + x6 symbolic_composition=False, tentative_unpreconditioning=True, mask=Mask([0.0000000000000000 .. 4.0009999999999995], [[0.0048028783727901138 .. 0.48300000000000043]]))\n",
      "fprime = 0.10000000000000000?*x1*x6 + x2*x6 + 2*x6*x8 - 50*x3 - 100*x4 - 50*x5 + x6\n",
      "symbolic_composition=False, tentative_unpreconditioning=True,two_pass_masks=True\n",
      "roots(space_domain=None, epsilon=1e-05, verbosity=0)\n",
      "top-level root detection: 1 items in 0.20 seconds\n",
      "roots = []\n",
      "domain = [0.0000000000000000 .. 3.9999999999999992]\n",
      "roots = []\n",
      "seg_domain = [0.0048028783727901138 .. 0.48300000000000043]\n",
      "roots = []\n",
      "running f_bool: 1 items in 0.00 seconds\n",
      "signal given bool roots: 1 items in 0.00 seconds\n",
      "PolyObserver(x6 - 1.4000000000000000?, <flowstar.reachability.Reach object at 0x7f70791957d0>, -0.10000000000000000?*x1*x6 - x2*x6 - 2*x6*x8 + 50*x3 + 100*x4 + 50*x5 - x6 symbolic_composition=True, tentative_unpreconditioning=True, mask=Mask([0.0000000000000000 .. 4.0010000000000004], [[0.0000000000000000 .. 4.0010000000000004]]))\n",
      "fprime = -0.10000000000000000?*x1*x6 - x2*x6 - 2*x6*x8 + 50*x3 + 100*x4 + 50*x5 - x6\n",
      "symbolic_composition=True, tentative_unpreconditioning=True,two_pass_masks=False\n",
      "roots(space_domain=None, epsilon=1e-05, verbosity=0)\n",
      "top-level root detection: 1 items in 1.25 seconds\n",
      "roots = [[0.0048138818803625908 .. 0.020020370779725589], [0.20774355246405734 .. 0.47416911189916711]]\n",
      "domain = [0.0000000000000000 .. 3.9999999999999992]\n",
      "roots = [[0.0048138818803625908 .. 0.020020370779725589], \n",
      " [0.20774355246405734 .. 0.47416911189916711]]\n",
      "seg_domain = [0.0000000000000000 .. 4.0010000000000004]\n",
      "roots = [[0.0048138818803625908 .. 0.020020370779725589], \n",
      " [0.20774355246405734 .. 0.47416911189916711]]\n",
      "running f_bool: 1 items in 0.00 seconds\n",
      "running f_bool: 1 items in 0.00 seconds\n",
      "running f_bool: 1 items in 0.00 seconds\n",
      "signal given bool roots: 1 items in 0.00 seconds\n",
      "Monitoring Signal for x6 > 1.40000000000000 & x6 < 1: 1 items in 6.40 seconds\n",
      "Monitored signal in 6.400844135999705 sec\n",
      "ran \"prepare in check\" 7 times in 3.075599670410156e-05\n",
      "ran \"tentative eval\" 2625 times in 2.031141519546509\n",
      "ran \"root amalgamation\" 200 times in 9.465217590332031e-05\n",
      "ran \"check boolean [unguarded]\" 7 times in 0.0006856918334960938\n",
      "ran \"composing flowpipe\" 306 times in 3.2915451526641846\n",
      "ran \"mask intersect check\" 4002 times in 0.004810810089111328\n",
      "ran \"whole domain eval\" 306 times in 0.4667627811431885\n",
      "ran \"observer.check\" 7 times in 0.0009264945983886719\n",
      "ran \"restoring globals\" 22 times in 0.0010104179382324219\n",
      "ran \"root detection\" 200 times in 0.3239901065826416\n",
      "ran \"Monitoring crude P=[x6 > 1.40000000000000]\" 1 times in 4.873298168182373\n",
      "ran \"post retrieve\" 200 times in 0.11809468269348145\n",
      "ran \"Monitoring full P=[x6 > 1.40000000000000]\" 1 times in 1.294396162033081\n",
      "ran \"Monitoring full Q=[x6 < 1]\" 1 times in 0.232255220413208\n",
      "ran \"capturing globals [on exit]\" 22 times in 0.0005593299865722656\n",
      "Run done in 47.14718317985535 sec\n",
      "options: {'use_masks': True, 'symbolic_composition': True, 'two_pass_masks': True}\n"
     ]
    },
    {
     "name": "stderr",
     "output_type": "stream",
     "text": [
      "/usr/lib64/python3.7/site-packages/sage/plot/contour_plot.py:205: UserWarning: No contour levels were found within the data range.\n",
      "  linewidths=linewidths, linestyles=linestyles)\n"
     ]
    },
    {
     "data": {
      "image/png": "[encoded data removed]",
      "text/plain": [
       "Graphics object consisting of 2 graphics primitives"
      ]
     },
     "execution_count": 28,
     "metadata": {},
     "output_type": "execute_result"
    }
   ],
   "source": [
    "sigPQ2 = test_monitoring(P & Q, 4, use_masks=True, symbolic_composition=True, two_pass_masks=True)[1]\n",
    "sigPQ2.plot()"
   ]
  },
  {
   "cell_type": "markdown",
   "metadata": {},
   "source": [
    "##  Optimized"
   ]
  },
  {
   "cell_type": "code",
   "execution_count": 105,
   "metadata": {},
   "outputs": [
    {
     "name": "stdout",
     "output_type": "stream",
     "text": [
      "calling reach with y0 = ['[0.97999999999999998 .. 1.0200000000000001]', '[1.2799999999999998 .. 1.3200000000000001]', '[0.079999999999999987 .. 0.12000000000000001]', '[0.079999999999999987 .. 0.12000000000000001]', '[0.079999999999999987 .. 0.12000000000000001]', '[1.2799999999999998 .. 1.3200000000000001]', '[2.4799999999999999 .. 2.5200000000000001]', '[0.57999999999999996 .. 0.62000000000000011]', '[1.2799999999999998 .. 1.3200000000000001]']\n",
      "ode in polynomial ring\n",
      "crude_roots = False\n",
      "_handle_initials called!\n",
      "vars = [x1, x2, x3, x4, x5, x6, x7, x8, x9]\n",
      "C = [0.98..1.02]\n",
      "C = [1.2799999999999998..1.32]\n",
      "C = [0.07999999999999999..0.12000000000000001]\n",
      "C = [0.07999999999999999..0.12000000000000001]\n",
      "C = [0.07999999999999999..0.12000000000000001]\n",
      "C = [1.2799999999999998..1.32]\n",
      "C = [2.48..2.52]\n",
      "C = [0.58..0.6200000000000001]\n",
      "C = [1.2799999999999998..1.32]\n",
      "assigning system with dimension 9\n",
      "resulting system has dimension 9\n",
      "run within tmv args\n",
      "integrationScheme = 7\n",
      "CPU times: user 1min 59s, sys: 513 ms, total: 1min 59s\n",
      "Wall time: 2min\n"
     ]
    }
   ],
   "source": [
    "%%time\n",
    "r = sys.reach(\n",
    "    4, order=4, step=0.003,\n",
    "    precondition=1,\n",
    "    estimation=1e-1,\n",
    "    max_remainder_queue=100,\n",
    "    integration_method=IntegrationMethod.ONLY_PICARD_SYMB,\n",
    "    cutoff_threshold=1e-6,\n",
    "    symbolic_composition=True\n",
    ")"
   ]
  },
  {
   "cell_type": "code",
   "execution_count": 106,
   "metadata": {},
   "outputs": [
    {
     "data": {
      "text/html": [
       "<html><script type=\"math/tex; mode=display\">\\newcommand{\\Bold}[1]{\\mathbf{#1}}1334</script></html>"
      ],
      "text/plain": [
       "1334"
      ]
     },
     "execution_count": 106,
     "metadata": {},
     "output_type": "execute_result"
    }
   ],
   "source": [
    "r.num_flowpipes"
   ]
  },
  {
   "cell_type": "code",
   "execution_count": 107,
   "metadata": {},
   "outputs": [
    {
     "name": "stdout",
     "output_type": "stream",
     "text": [
      "PolyObserver(x6 - 1.4000000000000000?, <flowstar.reachability.Reach object at 0x7f20a4cd2320>, -0.10000000000000000?*x1*x6 - x2*x6 - 2*x6*x8 + 50*x3 + 100*x4 + 50*x5 - x6 symbolic_composition=False, tentative_unpreconditioning=True, mask=None)\n",
      "fprime = -0.10000000000000000?*x1*x6 - x2*x6 - 2*x6*x8 + 50*x3 + 100*x4 + 50*x5 - x6\n",
      "symbolic_composition=False, tentative_unpreconditioning=True\n",
      "roots(space_domain=None, epsilon=1e-05, verbosity=0)\n",
      "top-level root detection: 1 items in 7.36 seconds\n",
      "roots = [[0.0048028783727901138 .. 0.020435765977123051], [0.20345478283219919 .. 0.48300000000000043]]\n",
      "domain = [0.0000000000000000 .. 3.9990000000000002]\n",
      "roots = [[0.0048028783727901138 .. 0.020435765977123051], \n",
      " [0.20345478283219919 .. 0.48300000000000043]]\n",
      "seg_domain = [0.0000000000000000 .. 3.9990000000000002]\n",
      "roots = [[0.0048028783727901138 .. 0.020435765977123051], \n",
      " [0.20345478283219919 .. 0.48300000000000043]]\n",
      "running f_bool: 1 items in 0.00 seconds\n",
      "running f_bool: 1 items in 0.00 seconds\n",
      "running f_bool: 1 items in 0.00 seconds\n",
      "signal given bool roots: 1 items in 0.00 seconds\n",
      "CPU times: user 7.69 s, sys: 3.81 ms, total: 7.69 s\n",
      "Wall time: 7.72 s\n"
     ]
    }
   ],
   "source": [
    "%%time\n",
    "sigPc = P.signal(r, crude_roots=True, skip_unpreconditioning=True, symbolic_composition=False)\n",
    "sigPc.plot()"
   ]
  },
  {
   "cell_type": "code",
   "execution_count": 108,
   "metadata": {},
   "outputs": [
    {
     "name": "stderr",
     "output_type": "stream",
     "text": [
      "/usr/lib64/python3.7/site-packages/sage/plot/contour_plot.py:205: UserWarning: No contour levels were found within the data range.\n",
      "  linewidths=linewidths, linestyles=linestyles)\n"
     ]
    },
    {
     "data": {
      "image/png": "[encoded data removed]",
      "text/plain": [
       "Graphics object consisting of 2 graphics primitives"
      ]
     },
     "execution_count": 108,
     "metadata": {},
     "output_type": "execute_result"
    }
   ],
   "source": [
    "sigPc.to_mask_and().plot()"
   ]
  },
  {
   "cell_type": "code",
   "execution_count": 109,
   "metadata": {},
   "outputs": [
    {
     "name": "stdout",
     "output_type": "stream",
     "text": [
      "PolyObserver(-x6 + 1, <flowstar.reachability.Reach object at 0x7f20a4cd2320>, 0.10000000000000000?*x1*x6 + x2*x6 + 2*x6*x8 - 50*x3 - 100*x4 - 50*x5 + x6 symbolic_composition=True, tentative_unpreconditioning=True, mask=Mask([0.0000000000000000 .. 3.9990000000000002], [[0.0048028783727901138 .. 0.48300000000000043]]))\n",
      "fprime = 0.10000000000000000?*x1*x6 + x2*x6 + 2*x6*x8 - 50*x3 - 100*x4 - 50*x5 + x6\n",
      "symbolic_composition=True, tentative_unpreconditioning=True\n",
      "roots(space_domain=None, epsilon=1e-05, verbosity=0)\n",
      "top-level root detection: 1 items in 0.31 seconds\n",
      "roots = []\n",
      "domain = [0.0000000000000000 .. 3.9989999999999997]\n",
      "roots = []\n",
      "seg_domain = [0.0048028783727901138 .. 0.48300000000000043]\n",
      "roots = []\n",
      "running f_bool: 1 items in 0.00 seconds\n",
      "signal given bool roots: 1 items in 0.00 seconds\n",
      "CPU times: user 401 ms, sys: 17 µs, total: 401 ms\n",
      "Wall time: 400 ms\n"
     ]
    }
   ],
   "source": [
    "%%time\n",
    "sigQ = Q.signal(r, symbolic_composition=True, mask=sigPc.to_mask_and())\n",
    "sigQ.plot()"
   ]
  },
  {
   "cell_type": "code",
   "execution_count": 110,
   "metadata": {
    "scrolled": true
   },
   "outputs": [
    {
     "name": "stderr",
     "output_type": "stream",
     "text": [
      "/usr/lib64/python3.7/site-packages/sage/plot/contour_plot.py:205: UserWarning: No contour levels were found within the data range.\n",
      "  linewidths=linewidths, linestyles=linestyles)\n"
     ]
    },
    {
     "data": {
      "image/png": "[encoded data removed]",
      "text/plain": [
       "Graphics object consisting of 2 graphics primitives"
      ]
     },
     "execution_count": 110,
     "metadata": {},
     "output_type": "execute_result"
    }
   ],
   "source": [
    "sigQ.with_mask(true_mask(RIF(0, 4))).to_mask_and().plot()"
   ]
  },
  {
   "cell_type": "code",
   "execution_count": 111,
   "metadata": {},
   "outputs": [
    {
     "name": "stderr",
     "output_type": "stream",
     "text": [
      "/usr/lib64/python3.7/site-packages/sage/plot/contour_plot.py:205: UserWarning: No contour levels were found within the data range.\n",
      "  linewidths=linewidths, linestyles=linestyles)\n"
     ]
    },
    {
     "data": {
      "image/png": "[encoded data removed]",
      "text/plain": [
       "Graphics object consisting of 2 graphics primitives"
      ]
     },
     "execution_count": 111,
     "metadata": {},
     "output_type": "execute_result"
    }
   ],
   "source": [
    "maskPu = sigPc.to_mask_and() & sigPc.to_mask_or()\n",
    "maskPu.plot()"
   ]
  },
  {
   "cell_type": "code",
   "execution_count": 112,
   "metadata": {
    "scrolled": true
   },
   "outputs": [
    {
     "name": "stderr",
     "output_type": "stream",
     "text": [
      "/usr/lib64/python3.7/site-packages/sage/plot/contour_plot.py:205: UserWarning: No contour levels were found within the data range.\n",
      "  linewidths=linewidths, linestyles=linestyles)\n"
     ]
    },
    {
     "data": {
      "image/png": "[encoded data removed]",
      "text/plain": [
       "Graphics object consisting of 2 graphics primitives"
      ]
     },
     "execution_count": 112,
     "metadata": {},
     "output_type": "execute_result"
    }
   ],
   "source": [
    "maskPr = sigQ.with_mask(true_mask(RIF(0, 4))).to_mask_and() & maskPu\n",
    "maskPr.plot()"
   ]
  },
  {
   "cell_type": "code",
   "execution_count": 113,
   "metadata": {},
   "outputs": [
    {
     "name": "stdout",
     "output_type": "stream",
     "text": [
      "CPU times: user 5 µs, sys: -0 ns, total: 5 µs\n",
      "Wall time: 8.34 µs\n",
      "PolyObserver(x6 - 1.4000000000000000?, <flowstar.reachability.Reach object at 0x7f20a4cd2320>, -0.10000000000000000?*x1*x6 - x2*x6 - 2*x6*x8 + 50*x3 + 100*x4 + 50*x5 - x6 symbolic_composition=True, tentative_unpreconditioning=True, mask=Mask([0.0000000000000000 .. 3.9989999999999997], [[0.0048028783727901138 .. 0.0048028783727901139], [0.48300000000000042 .. 0.48300000000000043]]))\n",
      "fprime = -0.10000000000000000?*x1*x6 - x2*x6 - 2*x6*x8 + 50*x3 + 100*x4 + 50*x5 - x6\n",
      "symbolic_composition=True, tentative_unpreconditioning=True\n",
      "roots(space_domain=None, epsilon=1e-05, verbosity=0)\n",
      "top-level root detection: 1 items in 0.02 seconds\n",
      "roots = []\n",
      "domain = [0.0000000000000000 .. 3.9989999999999997]\n",
      "roots = []\n",
      "seg_domain = [0.0048028783727901138 .. 0.0048028783727901139]\n",
      "roots = []\n",
      "running f_bool: 1 items in 0.00 seconds\n",
      "seg_domain = [0.48300000000000042 .. 0.48300000000000043]\n",
      "roots = []\n",
      "running f_bool: 1 items in 0.00 seconds\n",
      "signal given bool roots: 1 items in 0.00 seconds\n"
     ]
    }
   ],
   "source": [
    "%time\n",
    "sigPr = P.signal(r, mask=maskPr, symbolic_composition=True)"
   ]
  },
  {
   "cell_type": "code",
   "execution_count": 114,
   "metadata": {},
   "outputs": [
    {
     "data": {
      "image/png": "[encoded data removed]",
      "text/plain": [
       "Graphics object consisting of 2 graphics primitives"
      ]
     },
     "execution_count": 114,
     "metadata": {},
     "output_type": "execute_result"
    }
   ],
   "source": [
    "sigPc.plot()"
   ]
  },
  {
   "cell_type": "code",
   "execution_count": 117,
   "metadata": {},
   "outputs": [
    {
     "data": {
      "image/png": "[encoded data removed]",
      "text/plain": [
       "Graphics object consisting of 2 graphics primitives"
      ]
     },
     "execution_count": 117,
     "metadata": {},
     "output_type": "execute_result"
    }
   ],
   "source": [
    "sigPc.union(sigPr).plot()"
   ]
  },
  {
   "cell_type": "code",
   "execution_count": 118,
   "metadata": {},
   "outputs": [
    {
     "name": "stderr",
     "output_type": "stream",
     "text": [
      "/usr/lib64/python3.7/site-packages/sage/plot/contour_plot.py:205: UserWarning: No contour levels were found within the data range.\n",
      "  linewidths=linewidths, linestyles=linestyles)\n"
     ]
    },
    {
     "data": {
      "image/png": "[encoded data removed]",
      "text/plain": [
       "Graphics object consisting of 2 graphics primitives"
      ]
     },
     "execution_count": 118,
     "metadata": {},
     "output_type": "execute_result"
    }
   ],
   "source": [
    "sig = sigPc.union(sigPr) & sigQ.with_mask(true_mask(RIF(0, 4)))\n",
    "sig.plot()"
   ]
  },
  {
   "cell_type": "code",
   "execution_count": null,
   "metadata": {},
   "outputs": [],
   "source": []
  }
 ],
 "metadata": {
  "kernelspec": {
   "display_name": "SageMath 8.8",
   "language": "sage",
   "name": "sagemath"
  },
  "language_info": {
   "codemirror_mode": {
    "name": "ipython",
    "version": 3
   },
   "file_extension": ".py",
   "mimetype": "text/x-python",
   "name": "python",
   "nbconvert_exporter": "python",
   "pygments_lexer": "ipython3",
   "version": "3.7.6"
  },
  "notify_time": "5"
 },
 "nbformat": 4,
 "nbformat_minor": 2
}
