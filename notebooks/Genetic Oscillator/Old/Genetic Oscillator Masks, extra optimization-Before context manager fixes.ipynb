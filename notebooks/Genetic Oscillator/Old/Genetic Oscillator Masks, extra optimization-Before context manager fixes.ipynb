{
 "cells": [
  {
   "cell_type": "code",
   "execution_count": 1,
   "metadata": {},
   "outputs": [],
   "source": [
    "%display latex\n",
    "import sys\n",
    "\n",
    "sys.path.insert(0, \"/home/twright/Documents/PhD/Notebooks\")\n",
    "\n",
    "from ulbc import *\n",
    "from flowstar import *\n",
    "from ulbc.bondcalculus import *"
   ]
  },
  {
   "cell_type": "code",
   "execution_count": 2,
   "metadata": {},
   "outputs": [],
   "source": [
    "R.<x1,x2,x3,x4,x5,x6,x7,x8,x9> = RIF[]"
   ]
  },
  {
   "cell_type": "code",
   "execution_count": 3,
   "metadata": {},
   "outputs": [],
   "source": [
    "y = vector([\n",
    "    10*x3 - RIF('0.1')*x1*x6,\n",
    "    100*x4 - x1*x2,\n",
    "    RIF('0.1')*x1*x6 - 50*x3,\n",
    "    x2*x6 - 100*x4,\n",
    "    5*x3 + RIF('0.5')*x1 - 10*x5,\n",
    "    50*x5 + 50*x3 + 100*x4 - x6*(RIF('0.1')*x1 + x2 + 2*x8 + 1),\n",
    "    50*x4 + RIF('0.01')*x2 - RIF('0.5')*x7,\n",
    "    RIF('0.5')*x7 - 2*x6*x8 + x9 - RIF('0.2')*x8,\n",
    "    2*x6*x8 - x9,\n",
    "])"
   ]
  },
  {
   "cell_type": "code",
   "execution_count": 4,
   "metadata": {},
   "outputs": [
    {
     "data": {
      "text/html": [
       "<html><script type=\"math/tex; mode=display\">\\newcommand{\\Bold}[1]{\\mathbf{#1}}\\left(-0.10000000000000000? x_{1} x_{6} + 10 x_{3},\\,-x_{1} x_{2} + 100 x_{4},\\,0.10000000000000000? x_{1} x_{6} - 50 x_{3},\\,x_{2} x_{6} - 100 x_{4},\\,0.50000000000000000? x_{1} + 5 x_{3} - 10 x_{5},\\,-0.10000000000000000? x_{1} x_{6} - x_{2} x_{6} - 2 x_{6} x_{8} + 50 x_{3} + 100 x_{4} + 50 x_{5} - x_{6},\\,0.01000000000000000? x_{2} + 50 x_{4} - 0.50000000000000000? x_{7},\\,-2 x_{6} x_{8} + 0.50000000000000000? x_{7} - 0.2000000000000000? x_{8} + x_{9},\\,2 x_{6} x_{8} - x_{9}\\right)</script></html>"
      ],
      "text/plain": [
       "(-0.10000000000000000?*x1*x6 + 10*x3, -x1*x2 + 100*x4, 0.10000000000000000?*x1*x6 - 50*x3, x2*x6 - 100*x4, 0.50000000000000000?*x1 + 5*x3 - 10*x5, -0.10000000000000000?*x1*x6 - x2*x6 - 2*x6*x8 + 50*x3 + 100*x4 + 50*x5 - x6, 0.01000000000000000?*x2 + 50*x4 - 0.50000000000000000?*x7, -2*x6*x8 + 0.50000000000000000?*x7 - 0.2000000000000000?*x8 + x9, 2*x6*x8 - x9)"
      ]
     },
     "execution_count": 4,
     "metadata": {},
     "output_type": "execute_result"
    }
   ],
   "source": [
    "y"
   ]
  },
  {
   "cell_type": "code",
   "execution_count": 5,
   "metadata": {},
   "outputs": [
    {
     "data": {
      "text/html": [
       "<div class=\"notruncate\">\n",
       "<table  class=\"table_form\">\n",
       "<tbody>\n",
       "<tr class =\"row-a\">\n",
       "<td><script type=\"math/tex\">-0.10000000000000000? x_{1} x_{6} + 10 x_{3}</script></td>\n",
       "</tr>\n",
       "<tr class =\"row-b\">\n",
       "<td><script type=\"math/tex\">-x_{1} x_{2} + 100 x_{4}</script></td>\n",
       "</tr>\n",
       "<tr class =\"row-a\">\n",
       "<td><script type=\"math/tex\">0.10000000000000000? x_{1} x_{6} - 50 x_{3}</script></td>\n",
       "</tr>\n",
       "<tr class =\"row-b\">\n",
       "<td><script type=\"math/tex\">x_{2} x_{6} - 100 x_{4}</script></td>\n",
       "</tr>\n",
       "<tr class =\"row-a\">\n",
       "<td><script type=\"math/tex\">0.50000000000000000? x_{1} + 5 x_{3} - 10 x_{5}</script></td>\n",
       "</tr>\n",
       "<tr class =\"row-b\">\n",
       "<td><script type=\"math/tex\">-0.10000000000000000? x_{1} x_{6} - x_{2} x_{6} - 2 x_{6} x_{8} + 50 x_{3} + 100 x_{4} + 50 x_{5} - x_{6}</script></td>\n",
       "</tr>\n",
       "<tr class =\"row-a\">\n",
       "<td><script type=\"math/tex\">0.01000000000000000? x_{2} + 50 x_{4} - 0.50000000000000000? x_{7}</script></td>\n",
       "</tr>\n",
       "<tr class =\"row-b\">\n",
       "<td><script type=\"math/tex\">-2 x_{6} x_{8} + 0.50000000000000000? x_{7} - 0.2000000000000000? x_{8} + x_{9}</script></td>\n",
       "</tr>\n",
       "<tr class =\"row-a\">\n",
       "<td><script type=\"math/tex\">2 x_{6} x_{8} - x_{9}</script></td>\n",
       "</tr>\n",
       "</tbody>\n",
       "</table>\n",
       "</div>"
      ],
      "text/plain": [
       "  -0.10000000000000000?*x1*x6 + 10*x3\n",
       "  -x1*x2 + 100*x4\n",
       "  0.10000000000000000?*x1*x6 - 50*x3\n",
       "  x2*x6 - 100*x4\n",
       "  0.50000000000000000?*x1 + 5*x3 - 10*x5\n",
       "  -0.10000000000000000?*x1*x6 - x2*x6 - 2*x6*x8 + 50*x3 + 100*x4 + 50*x5 - x6\n",
       "  0.01000000000000000?*x2 + 50*x4 - 0.50000000000000000?*x7\n",
       "  -2*x6*x8 + 0.50000000000000000?*x7 - 0.2000000000000000?*x8 + x9\n",
       "  2*x6*x8 - x9"
      ]
     },
     "execution_count": 5,
     "metadata": {},
     "output_type": "execute_result"
    }
   ],
   "source": [
    "table([[yi] for yi in y])"
   ]
  },
  {
   "cell_type": "code",
   "execution_count": 6,
   "metadata": {},
   "outputs": [],
   "source": [
    "y0 = [\n",
    "    RIF('[0.98, 1.02]'),\n",
    "    RIF('[1.28, 1.32]'),\n",
    "    RIF('[0.08, 0.12]'),\n",
    "    RIF('[0.08, 0.12]'), # x4\n",
    "    RIF('[0.08, 0.12]'),\n",
    "    RIF('[1.28, 1.32]'), # x6\n",
    "    RIF('[2.48, 2.52]'),\n",
    "    RIF('[0.58, 0.62]'),\n",
    "    RIF('[1.28, 1.32]'),\n",
    "]"
   ]
  },
  {
   "cell_type": "code",
   "execution_count": 7,
   "metadata": {},
   "outputs": [
    {
     "data": {
      "text/html": [
       "<div class=\"notruncate\">\n",
       "<table  class=\"table_form\">\n",
       "<tbody>\n",
       "<tr class =\"row-a\">\n",
       "<td><script type=\"math/tex\">0.979999999999999</script></td>\n",
       "<td><script type=\"math/tex\">1.02000000000001</script></td>\n",
       "</tr>\n",
       "<tr class =\"row-b\">\n",
       "<td><script type=\"math/tex\">1.27999999999999</script></td>\n",
       "<td><script type=\"math/tex\">1.32000000000001</script></td>\n",
       "</tr>\n",
       "<tr class =\"row-a\">\n",
       "<td><script type=\"math/tex\">0.0799999999999999</script></td>\n",
       "<td><script type=\"math/tex\">0.120000000000001</script></td>\n",
       "</tr>\n",
       "<tr class =\"row-b\">\n",
       "<td><script type=\"math/tex\">0.0799999999999999</script></td>\n",
       "<td><script type=\"math/tex\">0.120000000000001</script></td>\n",
       "</tr>\n",
       "<tr class =\"row-a\">\n",
       "<td><script type=\"math/tex\">0.0799999999999999</script></td>\n",
       "<td><script type=\"math/tex\">0.120000000000001</script></td>\n",
       "</tr>\n",
       "<tr class =\"row-b\">\n",
       "<td><script type=\"math/tex\">1.27999999999999</script></td>\n",
       "<td><script type=\"math/tex\">1.32000000000001</script></td>\n",
       "</tr>\n",
       "<tr class =\"row-a\">\n",
       "<td><script type=\"math/tex\">2.47999999999999</script></td>\n",
       "<td><script type=\"math/tex\">2.52000000000001</script></td>\n",
       "</tr>\n",
       "<tr class =\"row-b\">\n",
       "<td><script type=\"math/tex\">0.579999999999999</script></td>\n",
       "<td><script type=\"math/tex\">0.620000000000001</script></td>\n",
       "</tr>\n",
       "<tr class =\"row-a\">\n",
       "<td><script type=\"math/tex\">1.27999999999999</script></td>\n",
       "<td><script type=\"math/tex\">1.32000000000001</script></td>\n",
       "</tr>\n",
       "</tbody>\n",
       "</table>\n",
       "</div>"
      ],
      "text/plain": [
       "  0.979999999999999    1.02000000000001\n",
       "  1.27999999999999     1.32000000000001\n",
       "  0.0799999999999999   0.120000000000001\n",
       "  0.0799999999999999   0.120000000000001\n",
       "  0.0799999999999999   0.120000000000001\n",
       "  1.27999999999999     1.32000000000001\n",
       "  2.47999999999999     2.52000000000001\n",
       "  0.579999999999999    0.620000000000001\n",
       "  1.27999999999999     1.32000000000001"
      ]
     },
     "execution_count": 7,
     "metadata": {},
     "output_type": "execute_result"
    }
   ],
   "source": [
    "table([y0i.endpoints() for y0i in y0])"
   ]
  },
  {
   "cell_type": "code",
   "execution_count": 8,
   "metadata": {},
   "outputs": [
    {
     "data": {
      "text/html": [
       "<html><script type=\"math/tex; mode=display\">\\newcommand{\\Bold}[1]{\\mathbf{#1}}\\Bold{I} \\Bold{R}[x_{1}, x_{2}, x_{3}, x_{4}, x_{5}, x_{6}, x_{7}, x_{8}, x_{9}]</script></html>"
      ],
      "text/plain": [
       "Multivariate Polynomial Ring in x1, x2, x3, x4, x5, x6, x7, x8, x9 over Real Interval Field with 53 bits of precision"
      ]
     },
     "execution_count": 8,
     "metadata": {},
     "output_type": "execute_result"
    }
   ],
   "source": [
    "R"
   ]
  },
  {
   "cell_type": "code",
   "execution_count": 9,
   "metadata": {},
   "outputs": [
    {
     "data": {
      "text/html": [
       "<html><script type=\"math/tex; mode=display\">\\newcommand{\\Bold}[1]{\\mathbf{#1}}\\verb|System(R,|\\phantom{\\verb!x!}\\verb|(x1,|\\phantom{\\verb!x!}\\verb|x2,|\\phantom{\\verb!x!}\\verb|x3,|\\phantom{\\verb!x!}\\verb|x4,|\\phantom{\\verb!x!}\\verb|x5,|\\phantom{\\verb!x!}\\verb|x6,|\\phantom{\\verb!x!}\\verb|x7,|\\phantom{\\verb!x!}\\verb|x8,|\\phantom{\\verb!x!}\\verb|x9),|\\phantom{\\verb!x!}\\verb|[[0.97999999999999998|\\phantom{\\verb!x!}\\verb|..|\\phantom{\\verb!x!}\\verb|1.0200000000000001],|\\phantom{\\verb!x!}\\verb|[1.2799999999999998|\\phantom{\\verb!x!}\\verb|..|\\phantom{\\verb!x!}\\verb|1.3200000000000001],|\\phantom{\\verb!x!}\\verb|[0.079999999999999987|\\phantom{\\verb!x!}\\verb|..|\\phantom{\\verb!x!}\\verb|0.12000000000000001],|\\phantom{\\verb!x!}\\verb|[0.079999999999999987|\\phantom{\\verb!x!}\\verb|..|\\phantom{\\verb!x!}\\verb|0.12000000000000001],|\\phantom{\\verb!x!}\\verb|[0.079999999999999987|\\phantom{\\verb!x!}\\verb|..|\\phantom{\\verb!x!}\\verb|0.12000000000000001],|\\phantom{\\verb!x!}\\verb|[1.2799999999999998|\\phantom{\\verb!x!}\\verb|..|\\phantom{\\verb!x!}\\verb|1.3200000000000001],|\\phantom{\\verb!x!}\\verb|[2.4799999999999999|\\phantom{\\verb!x!}\\verb|..|\\phantom{\\verb!x!}\\verb|2.5200000000000001],|\\phantom{\\verb!x!}\\verb|[0.57999999999999996|\\phantom{\\verb!x!}\\verb|..|\\phantom{\\verb!x!}\\verb|0.62000000000000011],|\\phantom{\\verb!x!}\\verb|[1.2799999999999998|\\phantom{\\verb!x!}\\verb|..|\\phantom{\\verb!x!}\\verb|1.3200000000000001]],|\\phantom{\\verb!x!}\\verb|(-0.10000000000000000?*x1*x6|\\phantom{\\verb!x!}\\verb|+|\\phantom{\\verb!x!}\\verb|10*x3,|\\phantom{\\verb!x!}\\verb|-x1*x2|\\phantom{\\verb!x!}\\verb|+|\\phantom{\\verb!x!}\\verb|100*x4,|\\phantom{\\verb!x!}\\verb|0.10000000000000000?*x1*x6|\\phantom{\\verb!x!}\\verb|-|\\phantom{\\verb!x!}\\verb|50*x3,|\\phantom{\\verb!x!}\\verb|x2*x6|\\phantom{\\verb!x!}\\verb|-|\\phantom{\\verb!x!}\\verb|100*x4,|\\phantom{\\verb!x!}\\verb|0.50000000000000000?*x1|\\phantom{\\verb!x!}\\verb|+|\\phantom{\\verb!x!}\\verb|5*x3|\\phantom{\\verb!x!}\\verb|-|\\phantom{\\verb!x!}\\verb|10*x5,|\\phantom{\\verb!x!}\\verb|-0.10000000000000000?*x1*x6|\\phantom{\\verb!x!}\\verb|-|\\phantom{\\verb!x!}\\verb|x2*x6|\\phantom{\\verb!x!}\\verb|-|\\phantom{\\verb!x!}\\verb|2*x6*x8|\\phantom{\\verb!x!}\\verb|+|\\phantom{\\verb!x!}\\verb|50*x3|\\phantom{\\verb!x!}\\verb|+|\\phantom{\\verb!x!}\\verb|100*x4|\\phantom{\\verb!x!}\\verb|+|\\phantom{\\verb!x!}\\verb|50*x5|\\phantom{\\verb!x!}\\verb|-|\\phantom{\\verb!x!}\\verb|x6,|\\phantom{\\verb!x!}\\verb|0.01000000000000000?*x2|\\phantom{\\verb!x!}\\verb|+|\\phantom{\\verb!x!}\\verb|50*x4|\\phantom{\\verb!x!}\\verb|-|\\phantom{\\verb!x!}\\verb|0.50000000000000000?*x7,|\\phantom{\\verb!x!}\\verb|-2*x6*x8|\\phantom{\\verb!x!}\\verb|+|\\phantom{\\verb!x!}\\verb|0.50000000000000000?*x7|\\phantom{\\verb!x!}\\verb|-|\\phantom{\\verb!x!}\\verb|0.2000000000000000?*x8|\\phantom{\\verb!x!}\\verb|+|\\phantom{\\verb!x!}\\verb|x9,|\\phantom{\\verb!x!}\\verb|2*x6*x8|\\phantom{\\verb!x!}\\verb|-|\\phantom{\\verb!x!}\\verb|x9),|\\phantom{\\verb!x!}\\verb|varmap=bidict({'x1':|\\phantom{\\verb!x!}\\verb|x1,|\\phantom{\\verb!x!}\\verb|'x2':|\\phantom{\\verb!x!}\\verb|x2,|\\phantom{\\verb!x!}\\verb|'x3':|\\phantom{\\verb!x!}\\verb|x3,|\\phantom{\\verb!x!}\\verb|'x4':|\\phantom{\\verb!x!}\\verb|x4,|\\phantom{\\verb!x!}\\verb|'x5':|\\phantom{\\verb!x!}\\verb|x5,|\\phantom{\\verb!x!}\\verb|'x6':|\\phantom{\\verb!x!}\\verb|x6,|\\phantom{\\verb!x!}\\verb|'x7':|\\phantom{\\verb!x!}\\verb|x7,|\\phantom{\\verb!x!}\\verb|'x8':|\\phantom{\\verb!x!}\\verb|x8,|\\phantom{\\verb!x!}\\verb|'x9':|\\phantom{\\verb!x!}\\verb|x9}))|</script></html>"
      ],
      "text/plain": [
       "System(R, (x1, x2, x3, x4, x5, x6, x7, x8, x9), [[0.97999999999999998 .. 1.0200000000000001], [1.2799999999999998 .. 1.3200000000000001], [0.079999999999999987 .. 0.12000000000000001], [0.079999999999999987 .. 0.12000000000000001], [0.079999999999999987 .. 0.12000000000000001], [1.2799999999999998 .. 1.3200000000000001], [2.4799999999999999 .. 2.5200000000000001], [0.57999999999999996 .. 0.62000000000000011], [1.2799999999999998 .. 1.3200000000000001]], (-0.10000000000000000?*x1*x6 + 10*x3, -x1*x2 + 100*x4, 0.10000000000000000?*x1*x6 - 50*x3, x2*x6 - 100*x4, 0.50000000000000000?*x1 + 5*x3 - 10*x5, -0.10000000000000000?*x1*x6 - x2*x6 - 2*x6*x8 + 50*x3 + 100*x4 + 50*x5 - x6, 0.01000000000000000?*x2 + 50*x4 - 0.50000000000000000?*x7, -2*x6*x8 + 0.50000000000000000?*x7 - 0.2000000000000000?*x8 + x9, 2*x6*x8 - x9), varmap=bidict({'x1': x1, 'x2': x2, 'x3': x3, 'x4': x4, 'x5': x5, 'x6': x6, 'x7': x7, 'x8': x8, 'x9': x9}))"
      ]
     },
     "execution_count": 9,
     "metadata": {},
     "output_type": "execute_result"
    }
   ],
   "source": [
    "sys = System(R, R.gens(), y0, y); sys"
   ]
  },
  {
   "cell_type": "code",
   "execution_count": 10,
   "metadata": {},
   "outputs": [],
   "source": [
    "RReal = RR['x1', 'x2', 'x3', 'x4', 'x5', 'x6', 'x7', 'x8', 'x9']"
   ]
  },
  {
   "cell_type": "code",
   "execution_count": 11,
   "metadata": {},
   "outputs": [
    {
     "data": {
      "text/html": [
       "<html><script type=\"math/tex; mode=display\">\\newcommand{\\Bold}[1]{\\mathbf{#1}}0.100000000000000 x_{1} x_{6} - 50.0000000000000 x_{3}</script></html>"
      ],
      "text/plain": [
       "0.100000000000000*x1*x6 - 50.0000000000000*x3"
      ]
     },
     "execution_count": 11,
     "metadata": {},
     "output_type": "execute_result"
    }
   ],
   "source": [
    "RReal(sys.y[2])"
   ]
  },
  {
   "cell_type": "code",
   "execution_count": 12,
   "metadata": {},
   "outputs": [
    {
     "data": {
      "text/html": [
       "<html><script type=\"math/tex; mode=display\">\\newcommand{\\Bold}[1]{\\mathbf{#1}}\\verb|System(R,|\\phantom{\\verb!x!}\\verb|(x1,|\\phantom{\\verb!x!}\\verb|x2,|\\phantom{\\verb!x!}\\verb|x3,|\\phantom{\\verb!x!}\\verb|x4,|\\phantom{\\verb!x!}\\verb|x5,|\\phantom{\\verb!x!}\\verb|x6,|\\phantom{\\verb!x!}\\verb|x7,|\\phantom{\\verb!x!}\\verb|x8,|\\phantom{\\verb!x!}\\verb|x9),|\\phantom{\\verb!x!}\\verb|[1,|\\phantom{\\verb!x!}\\verb|[1.2999999999999998|\\phantom{\\verb!x!}\\verb|..|\\phantom{\\verb!x!}\\verb|1.2999999999999999],|\\phantom{\\verb!x!}\\verb|[0.10000000000000000|\\phantom{\\verb!x!}\\verb|..|\\phantom{\\verb!x!}\\verb|0.10000000000000001],|\\phantom{\\verb!x!}\\verb|[0.10000000000000000|\\phantom{\\verb!x!}\\verb|..|\\phantom{\\verb!x!}\\verb|0.10000000000000001],|\\phantom{\\verb!x!}\\verb|[0.10000000000000000|\\phantom{\\verb!x!}\\verb|..|\\phantom{\\verb!x!}\\verb|0.10000000000000001],|\\phantom{\\verb!x!}\\verb|[1.2999999999999998|\\phantom{\\verb!x!}\\verb|..|\\phantom{\\verb!x!}\\verb|1.2999999999999999],|\\phantom{\\verb!x!}\\verb|[2.5000000000000000|\\phantom{\\verb!x!}\\verb|..|\\phantom{\\verb!x!}\\verb|2.5000000000000000],|\\phantom{\\verb!x!}\\verb|[0.60000000000000008|\\phantom{\\verb!x!}\\verb|..|\\phantom{\\verb!x!}\\verb|0.60000000000000009],|\\phantom{\\verb!x!}\\verb|[1.2999999999999998|\\phantom{\\verb!x!}\\verb|..|\\phantom{\\verb!x!}\\verb|1.2999999999999999]],|\\phantom{\\verb!x!}\\verb|(-0.100000000000000*x1*x6|\\phantom{\\verb!x!}\\verb|+|\\phantom{\\verb!x!}\\verb|10.0000000000000*x3,|\\phantom{\\verb!x!}\\verb|-x1*x2|\\phantom{\\verb!x!}\\verb|+|\\phantom{\\verb!x!}\\verb|100.000000000000*x4,|\\phantom{\\verb!x!}\\verb|0.100000000000000*x1*x6|\\phantom{\\verb!x!}\\verb|-|\\phantom{\\verb!x!}\\verb|50.0000000000000*x3,|\\phantom{\\verb!x!}\\verb|x2*x6|\\phantom{\\verb!x!}\\verb|-|\\phantom{\\verb!x!}\\verb|100.000000000000*x4,|\\phantom{\\verb!x!}\\verb|0.500000000000000*x1|\\phantom{\\verb!x!}\\verb|+|\\phantom{\\verb!x!}\\verb|5.00000000000000*x3|\\phantom{\\verb!x!}\\verb|-|\\phantom{\\verb!x!}\\verb|10.0000000000000*x5,|\\phantom{\\verb!x!}\\verb|-0.100000000000000*x1*x6|\\phantom{\\verb!x!}\\verb|-|\\phantom{\\verb!x!}\\verb|x2*x6|\\phantom{\\verb!x!}\\verb|-|\\phantom{\\verb!x!}\\verb|2.00000000000000*x6*x8|\\phantom{\\verb!x!}\\verb|+|\\phantom{\\verb!x!}\\verb|50.0000000000000*x3|\\phantom{\\verb!x!}\\verb|+|\\phantom{\\verb!x!}\\verb|100.000000000000*x4|\\phantom{\\verb!x!}\\verb|+|\\phantom{\\verb!x!}\\verb|50.0000000000000*x5|\\phantom{\\verb!x!}\\verb|-|\\phantom{\\verb!x!}\\verb|x6,|\\phantom{\\verb!x!}\\verb|0.0100000000000000*x2|\\phantom{\\verb!x!}\\verb|+|\\phantom{\\verb!x!}\\verb|50.0000000000000*x4|\\phantom{\\verb!x!}\\verb|-|\\phantom{\\verb!x!}\\verb|0.500000000000000*x7,|\\phantom{\\verb!x!}\\verb|-2.00000000000000*x6*x8|\\phantom{\\verb!x!}\\verb|+|\\phantom{\\verb!x!}\\verb|0.500000000000000*x7|\\phantom{\\verb!x!}\\verb|-|\\phantom{\\verb!x!}\\verb|0.200000000000000*x8|\\phantom{\\verb!x!}\\verb|+|\\phantom{\\verb!x!}\\verb|x9,|\\phantom{\\verb!x!}\\verb|2.00000000000000*x6*x8|\\phantom{\\verb!x!}\\verb|-|\\phantom{\\verb!x!}\\verb|x9),|\\phantom{\\verb!x!}\\verb|varmap=bidict({'x1':|\\phantom{\\verb!x!}\\verb|x1,|\\phantom{\\verb!x!}\\verb|'x2':|\\phantom{\\verb!x!}\\verb|x2,|\\phantom{\\verb!x!}\\verb|'x3':|\\phantom{\\verb!x!}\\verb|x3,|\\phantom{\\verb!x!}\\verb|'x4':|\\phantom{\\verb!x!}\\verb|x4,|\\phantom{\\verb!x!}\\verb|'x5':|\\phantom{\\verb!x!}\\verb|x5,|\\phantom{\\verb!x!}\\verb|'x6':|\\phantom{\\verb!x!}\\verb|x6,|\\phantom{\\verb!x!}\\verb|'x7':|\\phantom{\\verb!x!}\\verb|x7,|\\phantom{\\verb!x!}\\verb|'x8':|\\phantom{\\verb!x!}\\verb|x8,|\\phantom{\\verb!x!}\\verb|'x9':|\\phantom{\\verb!x!}\\verb|x9}))|</script></html>"
      ],
      "text/plain": [
       "System(R, (x1, x2, x3, x4, x5, x6, x7, x8, x9), [1, [1.2999999999999998 .. 1.2999999999999999], [0.10000000000000000 .. 0.10000000000000001], [0.10000000000000000 .. 0.10000000000000001], [0.10000000000000000 .. 0.10000000000000001], [1.2999999999999998 .. 1.2999999999999999], [2.5000000000000000 .. 2.5000000000000000], [0.60000000000000008 .. 0.60000000000000009], [1.2999999999999998 .. 1.2999999999999999]], (-0.100000000000000*x1*x6 + 10.0000000000000*x3, -x1*x2 + 100.000000000000*x4, 0.100000000000000*x1*x6 - 50.0000000000000*x3, x2*x6 - 100.000000000000*x4, 0.500000000000000*x1 + 5.00000000000000*x3 - 10.0000000000000*x5, -0.100000000000000*x1*x6 - x2*x6 - 2.00000000000000*x6*x8 + 50.0000000000000*x3 + 100.000000000000*x4 + 50.0000000000000*x5 - x6, 0.0100000000000000*x2 + 50.0000000000000*x4 - 0.500000000000000*x7, -2.00000000000000*x6*x8 + 0.500000000000000*x7 - 0.200000000000000*x8 + x9, 2.00000000000000*x6*x8 - x9), varmap=bidict({'x1': x1, 'x2': x2, 'x3': x3, 'x4': x4, 'x5': x5, 'x6': x6, 'x7': x7, 'x8': x8, 'x9': x9}))"
      ]
     },
     "execution_count": 12,
     "metadata": {},
     "output_type": "execute_result"
    }
   ],
   "source": [
    "sys_real = System(\n",
    "    RReal,\n",
    "    RReal.gens(),\n",
    "    [y0i.center() for y0i in sys.y0],\n",
    "    [RReal(yi) for yi in sys.y],\n",
    ")\n",
    "sys_real"
   ]
  },
  {
   "cell_type": "code",
   "execution_count": 13,
   "metadata": {},
   "outputs": [
    {
     "data": {
      "text/html": [
       "<div class=\"notruncate\">\n",
       "<table  class=\"table_form\">\n",
       "<tbody>\n",
       "<tr class =\"row-a\">\n",
       "<td><script type=\"math/tex\">1.00000000000000</script></td>\n",
       "</tr>\n",
       "<tr class =\"row-b\">\n",
       "<td><script type=\"math/tex\">1.30000000000000</script></td>\n",
       "</tr>\n",
       "<tr class =\"row-a\">\n",
       "<td><script type=\"math/tex\">0.100000000000000</script></td>\n",
       "</tr>\n",
       "<tr class =\"row-b\">\n",
       "<td><script type=\"math/tex\">0.100000000000000</script></td>\n",
       "</tr>\n",
       "<tr class =\"row-a\">\n",
       "<td><script type=\"math/tex\">0.100000000000000</script></td>\n",
       "</tr>\n",
       "<tr class =\"row-b\">\n",
       "<td><script type=\"math/tex\">1.30000000000000</script></td>\n",
       "</tr>\n",
       "<tr class =\"row-a\">\n",
       "<td><script type=\"math/tex\">2.50000000000000</script></td>\n",
       "</tr>\n",
       "<tr class =\"row-b\">\n",
       "<td><script type=\"math/tex\">0.600000000000000</script></td>\n",
       "</tr>\n",
       "<tr class =\"row-a\">\n",
       "<td><script type=\"math/tex\">1.30000000000000</script></td>\n",
       "</tr>\n",
       "</tbody>\n",
       "</table>\n",
       "</div>"
      ],
      "text/plain": [
       "  1.00000000000000\n",
       "  1.30000000000000\n",
       "  0.100000000000000\n",
       "  0.100000000000000\n",
       "  0.100000000000000\n",
       "  1.30000000000000\n",
       "  2.50000000000000\n",
       "  0.600000000000000\n",
       "  1.30000000000000"
      ]
     },
     "execution_count": 13,
     "metadata": {},
     "output_type": "execute_result"
    }
   ],
   "source": [
    "y0_real = [y0i.center() for y0i in sys.y0]\n",
    "table([[y0i] for y0i in y0_real])"
   ]
  },
  {
   "cell_type": "code",
   "execution_count": 14,
   "metadata": {},
   "outputs": [],
   "source": [
    "timepoints = srange(0,10,0.1)"
   ]
  },
  {
   "cell_type": "code",
   "execution_count": 15,
   "metadata": {},
   "outputs": [],
   "source": [
    "sln = desolve_odeint(sys_real.y, y0_real, timepoints, list(sys_real.x))"
   ]
  },
  {
   "cell_type": "code",
   "execution_count": 16,
   "metadata": {},
   "outputs": [
    {
     "data": {
      "image/png": "[encoded data removed]",
      "text/plain": [
       "Graphics object consisting of 1 graphics primitive"
      ]
     },
     "execution_count": 16,
     "metadata": {},
     "output_type": "execute_result"
    }
   ],
   "source": [
    "points(zip(timepoints, [yi[1] for yi in sln]))"
   ]
  },
  {
   "cell_type": "code",
   "execution_count": 17,
   "metadata": {},
   "outputs": [],
   "source": [
    "from scipy.integrate import solve_ivp\n",
    "from ulbc.matricies import vec_to_numpy, mat_to_numpy, convert_vec, sympy_gens"
   ]
  },
  {
   "cell_type": "code",
   "execution_count": 18,
   "metadata": {},
   "outputs": [],
   "source": [
    "f = vec_to_numpy(RReal, sys_real.y)\n",
    "jac = mat_to_numpy(RReal, sage.jacobian(sys_real.y, sys_real.x))"
   ]
  },
  {
   "cell_type": "code",
   "execution_count": 19,
   "metadata": {},
   "outputs": [],
   "source": [
    "sln = solve_ivp(f,\n",
    "                (0, 10),\n",
    "                y0_real,\n",
    "                method='LSODA',\n",
    "                jac=jac,\n",
    "                vectorized=True,\n",
    "                dense_output=True)"
   ]
  },
  {
   "cell_type": "code",
   "execution_count": 20,
   "metadata": {},
   "outputs": [
    {
     "data": {
      "image/png": "[encoded data removed]",
      "text/plain": [
       "Graphics object consisting of 1 graphics primitive"
      ]
     },
     "execution_count": 20,
     "metadata": {},
     "output_type": "execute_result"
    }
   ],
   "source": [
    "plot(lambda t: sln.sol(t)[1], (0, 10))"
   ]
  },
  {
   "cell_type": "code",
   "execution_count": 21,
   "metadata": {},
   "outputs": [],
   "source": [
    "def test_monitoring(prop, duration, **kwargs):\n",
    "    t0 = time.time()\n",
    "    sig = prop.signal_for_system(sys,\n",
    "    duration, order=4, step=0.003,\n",
    "    precondition=1,\n",
    "    estimation=1e-1,\n",
    "    max_remainder_queue=100,\n",
    "    integration_method=IntegrationMethod.ONLY_PICARD_SYMB,\n",
    "    cutoff_threshold=1e-6,\n",
    "    **kwargs)\n",
    "    t1 = time.time()\n",
    "    print(f\"Run done in {t1 - t0} sec\\noptions: {repr(kwargs)}\")\n",
    "    return t1 - t0, sig"
   ]
  },
  {
   "cell_type": "markdown",
   "metadata": {},
   "source": [
    "# Optimizing and speedup"
   ]
  },
  {
   "cell_type": "code",
   "execution_count": 22,
   "metadata": {},
   "outputs": [
    {
     "data": {
      "text/html": [
       "<html><script type=\"math/tex; mode=display\">\\newcommand{\\Bold}[1]{\\mathbf{#1}}\\verb|x6|\\phantom{\\verb!x!}\\verb|>|\\phantom{\\verb!x!}\\verb|1.40000000000000|</script></html>"
      ],
      "text/plain": [
       "Atomic(x6 > 1.40000000000000)"
      ]
     },
     "execution_count": 22,
     "metadata": {},
     "output_type": "execute_result"
    }
   ],
   "source": [
    "P = Atomic(var(\"x6\") > 1.4); P"
   ]
  },
  {
   "cell_type": "code",
   "execution_count": 23,
   "metadata": {},
   "outputs": [
    {
     "name": "stdout",
     "output_type": "stream",
     "text": [
      "Precomposing Contexts: 1 items in 0.00 seconds\n",
      "calling reach with y0 = ['[0.97999999999999998 .. 1.0200000000000001]', '[1.2799999999999998 .. 1.3200000000000001]', '[0.079999999999999987 .. 0.12000000000000001]', '[0.079999999999999987 .. 0.12000000000000001]', '[0.079999999999999987 .. 0.12000000000000001]', '[1.2799999999999998 .. 1.3200000000000001]', '[2.4799999999999999 .. 2.5200000000000001]', '[0.57999999999999996 .. 0.62000000000000011]', '[1.2799999999999998 .. 1.3200000000000001]']\n",
      "ode in polynomial ring\n",
      "crude_roots = True\n",
      "_handle_initials called!\n",
      "vars = [x1, x2, x3, x4, x5, x6, x7, x8, x9]\n",
      "C = [0.98..1.02]\n",
      "C = [1.2799999999999998..1.32]\n",
      "C = [0.07999999999999999..0.12000000000000001]\n",
      "C = [0.07999999999999999..0.12000000000000001]\n",
      "C = [0.07999999999999999..0.12000000000000001]\n",
      "C = [1.2799999999999998..1.32]\n",
      "C = [2.48..2.52]\n",
      "C = [0.58..0.6200000000000001]\n",
      "C = [1.2799999999999998..1.32]\n",
      "integrationScheme = 7\n",
      "Running Flow*: 1 items in 39.83 seconds\n",
      "Computed 1334 flowpipes in 39.83163550001336 sec\n",
      "PolyObserver(x6 - 1.4000000000000000?, <flowstar.reachability.Reach object at 0x55f0599af610>, -0.10000000000000000?*x1*x6 - x2*x6 - 2*x6*x8 + 50*x3 + 100*x4 + 50*x5 - x6 symbolic_composition=False, tentative_unpreconditioning=True, mask=None)\n",
      "symbolic_composition=False, tentative_unpreconditioning=True\n",
      "roots(space_domain=None, epsilon=1e-05, verbosity=0)\n",
      "top-level root detection: 1 items in 4.62 seconds\n",
      "roots = [[0.0029999999999999996 .. 0.021000000000000009], [0.20099999999999795 .. 0.48300000000000043]]\n",
      "domain = [0.0000000000000000 .. 4.0000000000000009]\n",
      "roots = [[0.0029999999999999996 .. 0.021000000000000009], \n",
      " [0.20099999999999795 .. 0.48300000000000043]]\n",
      "seg_domain = [0.0000000000000000 .. 4.0000000000000009]\n",
      "roots = [[0.0029999999999999996 .. 0.021000000000000009], \n",
      " [0.20099999999999795 .. 0.48300000000000043]]\n",
      "running f_bool: 1 items in 0.00 seconds\n",
      "running f_bool: 1 items in 0.00 seconds\n",
      "running f_bool: 1 items in 0.00 seconds\n",
      "signal given bool roots: 1 items in 0.00 seconds\n",
      "Monitoring Signal for x6 > 1.40000000000000: 1 items in 6.36 seconds\n",
      "Monitored signal in 6.356793738988927 sec\n",
      "ran \"root amalgamation\" 100 times in 0.00013256072998046875\n",
      "ran \"check boolean [unguarded]\" 3 times in 0.0002598762512207031\n",
      "ran \"mask intersect check\" 1334 times in 0.0007188320159912109\n",
      "ran \"whole domain eval\" 102 times in 0.16798114776611328\n",
      "ran \"observer.check\" 3 times in 0.0004355907440185547\n",
      "ran \"tentative eval\" 1334 times in 0.9830255508422852\n",
      "ran \"prepare in check\" 3 times in 1.0728836059570312e-05\n",
      "ran \"composing flowpipe\" 102 times in 3.4445228576660156\n",
      "ran \"post retrieve\" 100 times in 0.0006022453308105469\n",
      "ran \"check boolean [guarded]\" 3 times in 0.0002932548522949219\n",
      "Run done in 46.327064752578735 sec\n",
      "options: {'use_masks': False, 'crude_roots': True}\n"
     ]
    },
    {
     "data": {
      "image/png": "[encoded data removed]",
      "text/plain": [
       "Graphics object consisting of 2 graphics primitives"
      ]
     },
     "execution_count": 23,
     "metadata": {},
     "output_type": "execute_result"
    }
   ],
   "source": [
    "sigPc = test_monitoring(P, 4, use_masks=False, crude_roots=True)[1]\n",
    "sigPc.plot()"
   ]
  },
  {
   "cell_type": "code",
   "execution_count": 24,
   "metadata": {},
   "outputs": [
    {
     "name": "stderr",
     "output_type": "stream",
     "text": [
      "/usr/lib64/python3.7/site-packages/sage/plot/contour_plot.py:205: UserWarning: No contour levels were found within the data range.\n",
      "  linewidths=linewidths, linestyles=linestyles)\n"
     ]
    },
    {
     "data": {
      "image/png": "[encoded data removed]",
      "text/plain": [
       "Graphics object consisting of 2 graphics primitives"
      ]
     },
     "execution_count": 24,
     "metadata": {},
     "output_type": "execute_result"
    }
   ],
   "source": [
    "sigPc.to_mask_and().plot()"
   ]
  },
  {
   "cell_type": "code",
   "execution_count": 25,
   "metadata": {},
   "outputs": [
    {
     "name": "stdout",
     "output_type": "stream",
     "text": [
      "Precomposing Contexts: 1 items in 0.00 seconds\n",
      "calling reach with y0 = ['[0.97999999999999998 .. 1.0200000000000001]', '[1.2799999999999998 .. 1.3200000000000001]', '[0.079999999999999987 .. 0.12000000000000001]', '[0.079999999999999987 .. 0.12000000000000001]', '[0.079999999999999987 .. 0.12000000000000001]', '[1.2799999999999998 .. 1.3200000000000001]', '[2.4799999999999999 .. 2.5200000000000001]', '[0.57999999999999996 .. 0.62000000000000011]', '[1.2799999999999998 .. 1.3200000000000001]']\n",
      "ode in polynomial ring\n",
      "crude_roots = False\n",
      "_handle_initials called!\n",
      "vars = [x1, x2, x3, x4, x5, x6, x7, x8, x9]\n",
      "C = [0.98..1.02]\n",
      "C = [1.2799999999999998..1.32]\n",
      "C = [0.07999999999999999..0.12000000000000001]\n",
      "C = [0.07999999999999999..0.12000000000000001]\n",
      "C = [0.07999999999999999..0.12000000000000001]\n",
      "C = [1.2799999999999998..1.32]\n",
      "C = [2.48..2.52]\n",
      "C = [0.58..0.6200000000000001]\n",
      "C = [1.2799999999999998..1.32]\n",
      "integrationScheme = 7\n",
      "Running Flow*: 1 items in 40.67 seconds\n",
      "Computed 1334 flowpipes in 40.66729769902304 sec\n",
      "PolyObserver(x6 - 1.4000000000000000?, <flowstar.reachability.Reach object at 0x55f0599ccc80>, -0.10000000000000000?*x1*x6 - x2*x6 - 2*x6*x8 + 50*x3 + 100*x4 + 50*x5 - x6 symbolic_composition=False, tentative_unpreconditioning=True, mask=None)\n",
      "symbolic_composition=False, tentative_unpreconditioning=True\n",
      "roots(space_domain=None, epsilon=1e-05, verbosity=0)\n",
      "top-level root detection: 1 items in 5.02 seconds\n",
      "roots = [[0.0048028783727901138 .. 0.020435765977123051], [0.20345478283219919 .. 0.48300000000000043]]\n",
      "domain = [0.0000000000000000 .. 3.9999999999999996]\n",
      "roots = [[0.0048028783727901138 .. 0.020435765977123051], \n",
      " [0.20345478283219919 .. 0.48300000000000043]]\n",
      "seg_domain = [0.0000000000000000 .. 3.9999999999999996]\n",
      "roots = [[0.0048028783727901138 .. 0.020435765977123051], \n",
      " [0.20345478283219919 .. 0.48300000000000043]]\n",
      "running f_bool: 1 items in 0.00 seconds\n",
      "running f_bool: 1 items in 0.00 seconds\n",
      "running f_bool: 1 items in 0.00 seconds\n",
      "signal given bool roots: 1 items in 0.00 seconds\n",
      "Monitoring Signal for x6 > 1.40000000000000: 1 items in 5.32 seconds\n",
      "Monitored signal in 5.319485614949372 sec\n",
      "ran \"root amalgamation\" 100 times in 7.843971252441406e-05\n",
      "ran \"check boolean [unguarded]\" 3 times in 0.0002720355987548828\n",
      "ran \"mask intersect check\" 1334 times in 0.0007457733154296875\n",
      "ran \"whole domain eval\" 102 times in 0.17191314697265625\n",
      "ran \"observer.check\" 3 times in 0.0005509853363037109\n",
      "ran \"tentative eval\" 1334 times in 1.0194652080535889\n",
      "ran \"prepare in check\" 3 times in 1.5497207641601562e-05\n",
      "ran \"composing flowpipe\" 102 times in 3.460820436477661\n",
      "ran \"post retrieve\" 100 times in 0.0006494522094726562\n",
      "ran \"root detection\" 100 times in 0.34657955169677734\n",
      "ran \"check boolean [guarded]\" 3 times in 0.0003132820129394531\n",
      "Run done in 46.20850968360901 sec\n",
      "options: {'use_masks': False}\n"
     ]
    },
    {
     "data": {
      "image/png": "[encoded data removed]",
      "text/plain": [
       "Graphics object consisting of 2 graphics primitives"
      ]
     },
     "execution_count": 25,
     "metadata": {},
     "output_type": "execute_result"
    }
   ],
   "source": [
    "sigP = test_monitoring(P, 4, use_masks=False)[1]\n",
    "sigP.plot()"
   ]
  },
  {
   "cell_type": "code",
   "execution_count": 26,
   "metadata": {},
   "outputs": [
    {
     "name": "stderr",
     "output_type": "stream",
     "text": [
      "/usr/lib64/python3.7/site-packages/sage/plot/contour_plot.py:205: UserWarning: No contour levels were found within the data range.\n",
      "  linewidths=linewidths, linestyles=linestyles)\n"
     ]
    },
    {
     "data": {
      "image/png": "[encoded data removed]",
      "text/plain": [
       "Graphics object consisting of 2 graphics primitives"
      ]
     },
     "execution_count": 26,
     "metadata": {},
     "output_type": "execute_result"
    }
   ],
   "source": [
    "sigP.to_mask_and().plot()"
   ]
  },
  {
   "cell_type": "code",
   "execution_count": 27,
   "metadata": {},
   "outputs": [
    {
     "name": "stderr",
     "output_type": "stream",
     "text": [
      "/usr/lib64/python3.7/site-packages/sage/plot/contour_plot.py:205: UserWarning: No contour levels were found within the data range.\n",
      "  linewidths=linewidths, linestyles=linestyles)\n"
     ]
    },
    {
     "data": {
      "image/png": "[encoded data removed]",
      "text/plain": [
       "Graphics object consisting of 2 graphics primitives"
      ]
     },
     "execution_count": 27,
     "metadata": {},
     "output_type": "execute_result"
    }
   ],
   "source": [
    "zebra_mask = Mask(RIF(0, 4), [RIF(2*k/10, (2*k + 1)/10) for k in range(21)])\n",
    "zebra_mask.plot()"
   ]
  },
  {
   "cell_type": "code",
   "execution_count": 28,
   "metadata": {
    "scrolled": false
   },
   "outputs": [
    {
     "name": "stdout",
     "output_type": "stream",
     "text": [
      "Precomposing Contexts: 1 items in 0.00 seconds\n",
      "calling reach with y0 = ['[0.97999999999999998 .. 1.0200000000000001]', '[1.2799999999999998 .. 1.3200000000000001]', '[0.079999999999999987 .. 0.12000000000000001]', '[0.079999999999999987 .. 0.12000000000000001]', '[0.079999999999999987 .. 0.12000000000000001]', '[1.2799999999999998 .. 1.3200000000000001]', '[2.4799999999999999 .. 2.5200000000000001]', '[0.57999999999999996 .. 0.62000000000000011]', '[1.2799999999999998 .. 1.3200000000000001]']\n",
      "ode in polynomial ring\n",
      "crude_roots = True\n",
      "_handle_initials called!\n",
      "vars = [x1, x2, x3, x4, x5, x6, x7, x8, x9]\n",
      "C = [0.98..1.02]\n",
      "C = [1.2799999999999998..1.32]\n",
      "C = [0.07999999999999999..0.12000000000000001]\n",
      "C = [0.07999999999999999..0.12000000000000001]\n",
      "C = [0.07999999999999999..0.12000000000000001]\n",
      "C = [1.2799999999999998..1.32]\n",
      "C = [2.48..2.52]\n",
      "C = [0.58..0.6200000000000001]\n",
      "C = [1.2799999999999998..1.32]\n",
      "integrationScheme = 7\n",
      "Running Flow*: 1 items in 42.52 seconds\n",
      "Computed 1334 flowpipes in 42.517497586028185 sec\n",
      "PolyObserver(x6 - 1.4000000000000000?, <flowstar.reachability.Reach object at 0x55f06ef4bf70>, -0.10000000000000000?*x1*x6 - x2*x6 - 2*x6*x8 + 50*x3 + 100*x4 + 50*x5 - x6 symbolic_composition=False, tentative_unpreconditioning=True, mask=Mask([0.0000000000000000 .. 4.0000000000000000], [[0.0000000000000000 .. 0.10000000000000001], [0.19999999999999998 .. 0.30000000000000005], [0.39999999999999996 .. 0.50000000000000000], [0.59999999999999997 .. 0.70000000000000007], [0.79999999999999993 .. 0.90000000000000003], [1.0000000000000000 .. 1.1000000000000001], [1.1999999999999999 .. 1.3000000000000001], [1.3999999999999999 .. 1.5000000000000000], [1.5999999999999998 .. 1.7000000000000002], [1.7999999999999998 .. 1.9000000000000002], [2.0000000000000000 .. 2.1000000000000001], [2.1999999999999997 .. 2.3000000000000003], [2.3999999999999999 .. 2.5000000000000000], [2.5999999999999996 .. 2.7000000000000002], [2.7999999999999998 .. 2.9000000000000004], [3.0000000000000000 .. 3.1000000000000001], [3.1999999999999997 .. 3.3000000000000003], [3.3999999999999999 .. 3.5000000000000000], [3.5999999999999996 .. 3.7000000000000002], [3.7999999999999998 .. 3.9000000000000004], [4.0000000000000000 .. 4.1000000000000006]]))\n",
      "symbolic_composition=False, tentative_unpreconditioning=True\n",
      "roots(space_domain=None, epsilon=1e-05, verbosity=0)\n",
      "top-level root detection: 1 items in 2.73 seconds\n",
      "roots = [[0.0029999999999999996 .. 0.021000000000000009], [0.20099999999999795 .. 0.30000000000000505], [0.39999999999999130 .. 0.48300000000000043]]\n",
      "domain = [0.0000000000000000 .. 3.9999999999999996]\n",
      "roots = [[0.0029999999999999996 .. 0.021000000000000009], \n",
      " [0.20099999999999795 .. 0.30000000000000505], \n",
      " [0.39999999999999130 .. 0.48300000000000043]]\n",
      "seg_domain = [0.0000000000000000 .. 0.10000000000000001]\n",
      "roots = [[0.0029999999999999996 .. 0.021000000000000009], \n",
      " [0.20099999999999795 .. 0.30000000000000505], \n",
      " [0.39999999999999130 .. 0.48300000000000043]]\n",
      "running f_bool: 1 items in 0.00 seconds\n",
      "running f_bool: 1 items in 0.00 seconds\n",
      "seg_domain = [0.19999999999999998 .. 0.30000000000000005]\n",
      "roots = [[0.0029999999999999996 .. 0.021000000000000009], \n",
      " [0.20099999999999795 .. 0.30000000000000505], \n",
      " [0.39999999999999130 .. 0.48300000000000043]]\n",
      "running f_bool: 1 items in 0.00 seconds\n",
      "running f_bool: 1 items in 0.01 seconds\n",
      "0 at 0.300000000000001\n",
      "seg_domain = [0.39999999999999996 .. 0.50000000000000000]\n",
      "roots = [[0.0029999999999999996 .. 0.021000000000000009], \n",
      " [0.20099999999999795 .. 0.30000000000000505], \n",
      " [0.39999999999999130 .. 0.48300000000000043]]\n",
      "running f_bool: 1 items in 0.00 seconds\n",
      "seg_domain = [0.59999999999999997 .. 0.70000000000000007]\n",
      "roots = [[0.0029999999999999996 .. 0.021000000000000009], \n",
      " [0.20099999999999795 .. 0.30000000000000505], \n",
      " [0.39999999999999130 .. 0.48300000000000043]]\n",
      "running f_bool: 1 items in 0.00 seconds\n",
      "seg_domain = [0.79999999999999993 .. 0.90000000000000003]\n",
      "roots = [[0.0029999999999999996 .. 0.021000000000000009], \n",
      " [0.20099999999999795 .. 0.30000000000000505], \n",
      " [0.39999999999999130 .. 0.48300000000000043]]\n",
      "running f_bool: 1 items in 0.00 seconds\n",
      "seg_domain = [1.0000000000000000 .. 1.1000000000000001]\n",
      "roots = [[0.0029999999999999996 .. 0.021000000000000009], \n",
      " [0.20099999999999795 .. 0.30000000000000505], \n",
      " [0.39999999999999130 .. 0.48300000000000043]]\n",
      "running f_bool: 1 items in 0.00 seconds\n",
      "seg_domain = [1.1999999999999999 .. 1.3000000000000001]\n",
      "roots = [[0.0029999999999999996 .. 0.021000000000000009], \n",
      " [0.20099999999999795 .. 0.30000000000000505], \n",
      " [0.39999999999999130 .. 0.48300000000000043]]\n",
      "running f_bool: 1 items in 0.00 seconds\n",
      "seg_domain = [1.3999999999999999 .. 1.5000000000000000]\n",
      "roots = [[0.0029999999999999996 .. 0.021000000000000009], \n",
      " [0.20099999999999795 .. 0.30000000000000505], \n",
      " [0.39999999999999130 .. 0.48300000000000043]]\n",
      "running f_bool: 1 items in 0.00 seconds\n",
      "seg_domain = [1.5999999999999998 .. 1.7000000000000002]\n",
      "roots = [[0.0029999999999999996 .. 0.021000000000000009], \n",
      " [0.20099999999999795 .. 0.30000000000000505], \n",
      " [0.39999999999999130 .. 0.48300000000000043]]\n",
      "running f_bool: 1 items in 0.00 seconds\n",
      "seg_domain = [1.7999999999999998 .. 1.9000000000000002]\n",
      "roots = [[0.0029999999999999996 .. 0.021000000000000009], \n",
      " [0.20099999999999795 .. 0.30000000000000505], \n",
      " [0.39999999999999130 .. 0.48300000000000043]]\n",
      "running f_bool: 1 items in 0.00 seconds\n",
      "seg_domain = [2.0000000000000000 .. 2.1000000000000001]\n",
      "roots = [[0.0029999999999999996 .. 0.021000000000000009], \n",
      " [0.20099999999999795 .. 0.30000000000000505], \n",
      " [0.39999999999999130 .. 0.48300000000000043]]\n",
      "running f_bool: 1 items in 0.00 seconds\n",
      "seg_domain = [2.1999999999999997 .. 2.3000000000000003]\n",
      "roots = [[0.0029999999999999996 .. 0.021000000000000009], \n",
      " [0.20099999999999795 .. 0.30000000000000505], \n",
      " [0.39999999999999130 .. 0.48300000000000043]]\n",
      "running f_bool: 1 items in 0.00 seconds\n",
      "seg_domain = [2.3999999999999999 .. 2.5000000000000000]\n",
      "roots = [[0.0029999999999999996 .. 0.021000000000000009], \n",
      " [0.20099999999999795 .. 0.30000000000000505], \n",
      " [0.39999999999999130 .. 0.48300000000000043]]\n",
      "running f_bool: 1 items in 0.00 seconds\n",
      "seg_domain = [2.5999999999999996 .. 2.7000000000000002]\n",
      "roots = [[0.0029999999999999996 .. 0.021000000000000009], \n",
      " [0.20099999999999795 .. 0.30000000000000505], \n",
      " [0.39999999999999130 .. 0.48300000000000043]]\n",
      "running f_bool: 1 items in 0.00 seconds\n",
      "seg_domain = [2.7999999999999998 .. 2.9000000000000004]\n",
      "roots = [[0.0029999999999999996 .. 0.021000000000000009], \n",
      " [0.20099999999999795 .. 0.30000000000000505], \n",
      " [0.39999999999999130 .. 0.48300000000000043]]\n",
      "running f_bool: 1 items in 0.00 seconds\n",
      "seg_domain = [3.0000000000000000 .. 3.1000000000000001]\n",
      "roots = [[0.0029999999999999996 .. 0.021000000000000009], \n",
      " [0.20099999999999795 .. 0.30000000000000505], \n",
      " [0.39999999999999130 .. 0.48300000000000043]]\n",
      "running f_bool: 1 items in 0.00 seconds\n",
      "seg_domain = [3.1999999999999997 .. 3.3000000000000003]\n",
      "roots = [[0.0029999999999999996 .. 0.021000000000000009], \n",
      " [0.20099999999999795 .. 0.30000000000000505], \n",
      " [0.39999999999999130 .. 0.48300000000000043]]\n",
      "running f_bool: 1 items in 0.00 seconds\n",
      "seg_domain = [3.3999999999999999 .. 3.5000000000000000]\n",
      "roots = [[0.0029999999999999996 .. 0.021000000000000009], \n",
      " [0.20099999999999795 .. 0.30000000000000505], \n",
      " [0.39999999999999130 .. 0.48300000000000043]]\n",
      "running f_bool: 1 items in 0.00 seconds\n",
      "seg_domain = [3.5999999999999996 .. 3.7000000000000002]\n",
      "roots = [[0.0029999999999999996 .. 0.021000000000000009], \n",
      " [0.20099999999999795 .. 0.30000000000000505], \n",
      " [0.39999999999999130 .. 0.48300000000000043]]\n",
      "running f_bool: 1 items in 0.00 seconds\n",
      "seg_domain = [3.7999999999999998 .. 3.9000000000000004]\n",
      "roots = [[0.0029999999999999996 .. 0.021000000000000009], \n",
      " [0.20099999999999795 .. 0.30000000000000505], \n",
      " [0.39999999999999130 .. 0.48300000000000043]]\n",
      "running f_bool: 1 items in 0.00 seconds\n",
      "seg_domain = [4.0000000000000000 .. 4.1000000000000006]\n",
      "roots = [[0.0029999999999999996 .. 0.021000000000000009], \n",
      " [0.20099999999999795 .. 0.30000000000000505], \n",
      " [0.39999999999999130 .. 0.48300000000000043]]\n",
      "running f_bool: 1 items in 0.00 seconds\n",
      "signal given bool roots: 1 items in 0.03 seconds\n",
      "Monitoring Signal for x6 > 1.40000000000000: 1 items in 3.11 seconds\n",
      "Monitored signal in 3.1142562619643286 sec\n",
      "ran \"root amalgamation\" 68 times in 0.0001468658447265625\n",
      "ran \"check boolean [unguarded]\" 23 times in 0.009763956069946289\n",
      "ran \"mask intersect check\" 1334 times in 0.0019369125366210938\n",
      "ran \"whole domain eval\" 70 times in 0.11252999305725098\n",
      "ran \"observer.check\" 23 times in 0.011391878128051758\n",
      "ran \"tentative eval\" 694 times in 0.5090427398681641\n",
      "ran \"prepare in check\" 23 times in 9.703636169433594e-05\n",
      "ran \"composing flowpipe\" 71 times in 2.0983641147613525\n",
      "ran \"post retrieve\" 68 times in 0.000385284423828125\n",
      "ran \"check boolean [guarded]\" 23 times in 0.010098695755004883\n",
      "Run done in 45.86171364784241 sec\n",
      "options: {'use_masks': True, 'mask': Mask([0.0000000000000000 .. 4.0000000000000000], [[0.0000000000000000 .. 0.10000000000000001], [0.19999999999999998 .. 0.30000000000000005], [0.39999999999999996 .. 0.50000000000000000], [0.59999999999999997 .. 0.70000000000000007], [0.79999999999999993 .. 0.90000000000000003], [1.0000000000000000 .. 1.1000000000000001], [1.1999999999999999 .. 1.3000000000000001], [1.3999999999999999 .. 1.5000000000000000], [1.5999999999999998 .. 1.7000000000000002], [1.7999999999999998 .. 1.9000000000000002], [2.0000000000000000 .. 2.1000000000000001], [2.1999999999999997 .. 2.3000000000000003], [2.3999999999999999 .. 2.5000000000000000], [2.5999999999999996 .. 2.7000000000000002], [2.7999999999999998 .. 2.9000000000000004], [3.0000000000000000 .. 3.1000000000000001], [3.1999999999999997 .. 3.3000000000000003], [3.3999999999999999 .. 3.5000000000000000], [3.5999999999999996 .. 3.7000000000000002], [3.7999999999999998 .. 3.9000000000000004], [4.0000000000000000 .. 4.1000000000000006]]), 'crude_roots': True}\n"
     ]
    },
    {
     "data": {
      "image/png": "[encoded data removed]",
      "text/plain": [
       "Graphics object consisting of 2 graphics primitives"
      ]
     },
     "execution_count": 28,
     "metadata": {},
     "output_type": "execute_result"
    }
   ],
   "source": [
    "sigPz = test_monitoring(P, 4, use_masks=True, mask=zebra_mask, crude_roots=True)[1]\n",
    "sigPz.plot()"
   ]
  },
  {
   "cell_type": "code",
   "execution_count": 29,
   "metadata": {},
   "outputs": [
    {
     "name": "stdout",
     "output_type": "stream",
     "text": [
      "Precomposing Contexts: 1 items in 0.00 seconds\n",
      "calling reach with y0 = ['[0.97999999999999998 .. 1.0200000000000001]', '[1.2799999999999998 .. 1.3200000000000001]', '[0.079999999999999987 .. 0.12000000000000001]', '[0.079999999999999987 .. 0.12000000000000001]', '[0.079999999999999987 .. 0.12000000000000001]', '[1.2799999999999998 .. 1.3200000000000001]', '[2.4799999999999999 .. 2.5200000000000001]', '[0.57999999999999996 .. 0.62000000000000011]', '[1.2799999999999998 .. 1.3200000000000001]']\n",
      "ode in polynomial ring\n",
      "crude_roots = False\n",
      "_handle_initials called!\n",
      "vars = [x1, x2, x3, x4, x5, x6, x7, x8, x9]\n",
      "C = [0.98..1.02]\n",
      "C = [1.2799999999999998..1.32]\n",
      "C = [0.07999999999999999..0.12000000000000001]\n",
      "C = [0.07999999999999999..0.12000000000000001]\n",
      "C = [0.07999999999999999..0.12000000000000001]\n",
      "C = [1.2799999999999998..1.32]\n",
      "C = [2.48..2.52]\n",
      "C = [0.58..0.6200000000000001]\n",
      "C = [1.2799999999999998..1.32]\n",
      "integrationScheme = 7\n",
      "Running Flow*: 1 items in 44.91 seconds\n",
      "Computed 1334 flowpipes in 44.907681977027096 sec\n",
      "PolyObserver(x6 - 1.4000000000000000?, <flowstar.reachability.Reach object at 0x55f0722af060>, -0.10000000000000000?*x1*x6 - x2*x6 - 2*x6*x8 + 50*x3 + 100*x4 + 50*x5 - x6 symbolic_composition=False, tentative_unpreconditioning=True, mask=Mask([0.0000000000000000 .. 4.0000000000000000], [[0.0000000000000000 .. 0.10000000000000001], [0.19999999999999998 .. 0.30000000000000005], [0.39999999999999996 .. 0.50000000000000000], [0.59999999999999997 .. 0.70000000000000007], [0.79999999999999993 .. 0.90000000000000003], [1.0000000000000000 .. 1.1000000000000001], [1.1999999999999999 .. 1.3000000000000001], [1.3999999999999999 .. 1.5000000000000000], [1.5999999999999998 .. 1.7000000000000002], [1.7999999999999998 .. 1.9000000000000002], [2.0000000000000000 .. 2.1000000000000001], [2.1999999999999997 .. 2.3000000000000003], [2.3999999999999999 .. 2.5000000000000000], [2.5999999999999996 .. 2.7000000000000002], [2.7999999999999998 .. 2.9000000000000004], [3.0000000000000000 .. 3.1000000000000001], [3.1999999999999997 .. 3.3000000000000003], [3.3999999999999999 .. 3.5000000000000000], [3.5999999999999996 .. 3.7000000000000002], [3.7999999999999998 .. 3.9000000000000004], [4.0000000000000000 .. 4.1000000000000006]]))\n",
      "symbolic_composition=False, tentative_unpreconditioning=True\n",
      "roots(space_domain=None, epsilon=1e-05, verbosity=0)\n",
      "top-level root detection: 1 items in 2.88 seconds\n",
      "roots = [[0.0048028783727901138 .. 0.020435765977123051], [0.20345478283219922 .. 0.30000000000000505], [0.39999999999999130 .. 0.48300000000000043]]\n",
      "domain = [0.0000000000000000 .. 3.9999999999999996]\n",
      "roots = [[0.0048028783727901138 .. 0.020435765977123051], \n",
      " [0.20345478283219922 .. 0.30000000000000505], \n",
      " [0.39999999999999130 .. 0.48300000000000043]]\n",
      "seg_domain = [0.0000000000000000 .. 0.10000000000000001]\n",
      "roots = [[0.0048028783727901138 .. 0.020435765977123051], \n",
      " [0.20345478283219922 .. 0.30000000000000505], \n",
      " [0.39999999999999130 .. 0.48300000000000043]]\n",
      "running f_bool: 1 items in 0.00 seconds\n",
      "running f_bool: 1 items in 0.00 seconds\n",
      "seg_domain = [0.19999999999999998 .. 0.30000000000000005]\n",
      "roots = [[0.0048028783727901138 .. 0.020435765977123051], \n",
      " [0.20345478283219922 .. 0.30000000000000505], \n",
      " [0.39999999999999130 .. 0.48300000000000043]]\n",
      "running f_bool: 1 items in 0.01 seconds\n",
      "running f_bool: 1 items in 0.00 seconds\n",
      "0 at 0.300000000000001\n",
      "seg_domain = [0.39999999999999996 .. 0.50000000000000000]\n",
      "roots = [[0.0048028783727901138 .. 0.020435765977123051], \n",
      " [0.20345478283219922 .. 0.30000000000000505], \n",
      " [0.39999999999999130 .. 0.48300000000000043]]\n",
      "running f_bool: 1 items in 0.00 seconds\n",
      "seg_domain = [0.59999999999999997 .. 0.70000000000000007]\n",
      "roots = [[0.0048028783727901138 .. 0.020435765977123051], \n",
      " [0.20345478283219922 .. 0.30000000000000505], \n",
      " [0.39999999999999130 .. 0.48300000000000043]]\n",
      "running f_bool: 1 items in 0.00 seconds\n",
      "seg_domain = [0.79999999999999993 .. 0.90000000000000003]\n",
      "roots = [[0.0048028783727901138 .. 0.020435765977123051], \n",
      " [0.20345478283219922 .. 0.30000000000000505], \n",
      " [0.39999999999999130 .. 0.48300000000000043]]\n",
      "running f_bool: 1 items in 0.00 seconds\n",
      "seg_domain = [1.0000000000000000 .. 1.1000000000000001]\n",
      "roots = [[0.0048028783727901138 .. 0.020435765977123051], \n",
      " [0.20345478283219922 .. 0.30000000000000505], \n",
      " [0.39999999999999130 .. 0.48300000000000043]]\n",
      "running f_bool: 1 items in 0.00 seconds\n",
      "seg_domain = [1.1999999999999999 .. 1.3000000000000001]\n",
      "roots = [[0.0048028783727901138 .. 0.020435765977123051], \n",
      " [0.20345478283219922 .. 0.30000000000000505], \n",
      " [0.39999999999999130 .. 0.48300000000000043]]\n",
      "running f_bool: 1 items in 0.00 seconds\n",
      "seg_domain = [1.3999999999999999 .. 1.5000000000000000]\n",
      "roots = [[0.0048028783727901138 .. 0.020435765977123051], \n",
      " [0.20345478283219922 .. 0.30000000000000505], \n",
      " [0.39999999999999130 .. 0.48300000000000043]]\n",
      "running f_bool: 1 items in 0.00 seconds\n",
      "seg_domain = [1.5999999999999998 .. 1.7000000000000002]\n",
      "roots = [[0.0048028783727901138 .. 0.020435765977123051], \n",
      " [0.20345478283219922 .. 0.30000000000000505], \n",
      " [0.39999999999999130 .. 0.48300000000000043]]\n",
      "running f_bool: 1 items in 0.00 seconds\n",
      "seg_domain = [1.7999999999999998 .. 1.9000000000000002]\n",
      "roots = [[0.0048028783727901138 .. 0.020435765977123051], \n",
      " [0.20345478283219922 .. 0.30000000000000505], \n",
      " [0.39999999999999130 .. 0.48300000000000043]]\n",
      "running f_bool: 1 items in 0.00 seconds\n",
      "seg_domain = [2.0000000000000000 .. 2.1000000000000001]\n",
      "roots = [[0.0048028783727901138 .. 0.020435765977123051], \n",
      " [0.20345478283219922 .. 0.30000000000000505], \n",
      " [0.39999999999999130 .. 0.48300000000000043]]\n",
      "running f_bool: 1 items in 0.00 seconds\n",
      "seg_domain = [2.1999999999999997 .. 2.3000000000000003]\n",
      "roots = [[0.0048028783727901138 .. 0.020435765977123051], \n",
      " [0.20345478283219922 .. 0.30000000000000505], \n",
      " [0.39999999999999130 .. 0.48300000000000043]]\n",
      "running f_bool: 1 items in 0.00 seconds\n",
      "seg_domain = [2.3999999999999999 .. 2.5000000000000000]\n",
      "roots = [[0.0048028783727901138 .. 0.020435765977123051], \n",
      " [0.20345478283219922 .. 0.30000000000000505], \n",
      " [0.39999999999999130 .. 0.48300000000000043]]\n",
      "running f_bool: 1 items in 0.00 seconds\n",
      "seg_domain = [2.5999999999999996 .. 2.7000000000000002]\n",
      "roots = [[0.0048028783727901138 .. 0.020435765977123051], \n",
      " [0.20345478283219922 .. 0.30000000000000505], \n",
      " [0.39999999999999130 .. 0.48300000000000043]]\n",
      "running f_bool: 1 items in 0.00 seconds\n",
      "seg_domain = [2.7999999999999998 .. 2.9000000000000004]\n",
      "roots = [[0.0048028783727901138 .. 0.020435765977123051], \n",
      " [0.20345478283219922 .. 0.30000000000000505], \n",
      " [0.39999999999999130 .. 0.48300000000000043]]\n",
      "running f_bool: 1 items in 0.00 seconds\n",
      "seg_domain = [3.0000000000000000 .. 3.1000000000000001]\n",
      "roots = [[0.0048028783727901138 .. 0.020435765977123051], \n",
      " [0.20345478283219922 .. 0.30000000000000505], \n",
      " [0.39999999999999130 .. 0.48300000000000043]]\n",
      "running f_bool: 1 items in 0.00 seconds\n",
      "seg_domain = [3.1999999999999997 .. 3.3000000000000003]\n",
      "roots = [[0.0048028783727901138 .. 0.020435765977123051], \n",
      " [0.20345478283219922 .. 0.30000000000000505], \n",
      " [0.39999999999999130 .. 0.48300000000000043]]\n",
      "running f_bool: 1 items in 0.00 seconds\n",
      "seg_domain = [3.3999999999999999 .. 3.5000000000000000]\n",
      "roots = [[0.0048028783727901138 .. 0.020435765977123051], \n",
      " [0.20345478283219922 .. 0.30000000000000505], \n",
      " [0.39999999999999130 .. 0.48300000000000043]]\n",
      "running f_bool: 1 items in 0.00 seconds\n",
      "seg_domain = [3.5999999999999996 .. 3.7000000000000002]\n",
      "roots = [[0.0048028783727901138 .. 0.020435765977123051], \n",
      " [0.20345478283219922 .. 0.30000000000000505], \n",
      " [0.39999999999999130 .. 0.48300000000000043]]\n",
      "running f_bool: 1 items in 0.00 seconds\n",
      "seg_domain = [3.7999999999999998 .. 3.9000000000000004]\n",
      "roots = [[0.0048028783727901138 .. 0.020435765977123051], \n",
      " [0.20345478283219922 .. 0.30000000000000505], \n",
      " [0.39999999999999130 .. 0.48300000000000043]]\n",
      "running f_bool: 1 items in 0.00 seconds\n",
      "seg_domain = [4.0000000000000000 .. 4.1000000000000006]\n",
      "roots = [[0.0048028783727901138 .. 0.020435765977123051], \n",
      " [0.20345478283219922 .. 0.30000000000000505], \n",
      " [0.39999999999999130 .. 0.48300000000000043]]\n",
      "running f_bool: 1 items in 0.00 seconds\n",
      "signal given bool roots: 1 items in 0.03 seconds\n",
      "Monitoring Signal for x6 > 1.40000000000000: 1 items in 3.26 seconds\n",
      "Monitored signal in 3.2570639759942424 sec\n",
      "ran \"root amalgamation\" 68 times in 8.20159912109375e-05\n",
      "ran \"check boolean [unguarded]\" 23 times in 0.013070821762084961\n",
      "ran \"mask intersect check\" 1334 times in 0.001949310302734375\n",
      "ran \"whole domain eval\" 70 times in 0.1101541519165039\n",
      "ran \"observer.check\" 23 times in 0.01407623291015625\n",
      "ran \"tentative eval\" 694 times in 0.503004789352417\n",
      "ran \"prepare in check\" 23 times in 5.9604644775390625e-05\n",
      "ran \"composing flowpipe\" 72 times in 2.0185623168945312\n",
      "ran \"post retrieve\" 68 times in 0.0003466606140136719\n",
      "ran \"root detection\" 68 times in 0.2309873104095459\n",
      "ran \"check boolean [guarded]\" 23 times in 0.013292312622070312\n",
      "Run done in 48.420127153396606 sec\n",
      "options: {'use_masks': True, 'mask': Mask([0.0000000000000000 .. 4.0000000000000000], [[0.0000000000000000 .. 0.10000000000000001], [0.19999999999999998 .. 0.30000000000000005], [0.39999999999999996 .. 0.50000000000000000], [0.59999999999999997 .. 0.70000000000000007], [0.79999999999999993 .. 0.90000000000000003], [1.0000000000000000 .. 1.1000000000000001], [1.1999999999999999 .. 1.3000000000000001], [1.3999999999999999 .. 1.5000000000000000], [1.5999999999999998 .. 1.7000000000000002], [1.7999999999999998 .. 1.9000000000000002], [2.0000000000000000 .. 2.1000000000000001], [2.1999999999999997 .. 2.3000000000000003], [2.3999999999999999 .. 2.5000000000000000], [2.5999999999999996 .. 2.7000000000000002], [2.7999999999999998 .. 2.9000000000000004], [3.0000000000000000 .. 3.1000000000000001], [3.1999999999999997 .. 3.3000000000000003], [3.3999999999999999 .. 3.5000000000000000], [3.5999999999999996 .. 3.7000000000000002], [3.7999999999999998 .. 3.9000000000000004], [4.0000000000000000 .. 4.1000000000000006]]), 'crude_roots': False}\n"
     ]
    },
    {
     "data": {
      "image/png": "[encoded data removed]",
      "text/plain": [
       "Graphics object consisting of 2 graphics primitives"
      ]
     },
     "execution_count": 29,
     "metadata": {},
     "output_type": "execute_result"
    }
   ],
   "source": [
    "sigPz = test_monitoring(P, 4, use_masks=True, mask=zebra_mask, crude_roots=False)[1]\n",
    "sigPz.plot()"
   ]
  },
  {
   "cell_type": "code",
   "execution_count": 30,
   "metadata": {},
   "outputs": [
    {
     "data": {
      "text/html": [
       "<html><script type=\"math/tex; mode=display\">\\newcommand{\\Bold}[1]{\\mathbf{#1}}\\verb|x6|\\phantom{\\verb!x!}\\verb|<|\\phantom{\\verb!x!}\\verb|1|</script></html>"
      ],
      "text/plain": [
       "Atomic(x6 < 1)"
      ]
     },
     "execution_count": 30,
     "metadata": {},
     "output_type": "execute_result"
    }
   ],
   "source": [
    "Q = Atomic(var(\"x6\") < 1); Q"
   ]
  },
  {
   "cell_type": "code",
   "execution_count": 31,
   "metadata": {},
   "outputs": [
    {
     "name": "stdout",
     "output_type": "stream",
     "text": [
      "Precomposing Contexts: 1 items in 0.00 seconds\n",
      "calling reach with y0 = ['[0.97999999999999998 .. 1.0200000000000001]', '[1.2799999999999998 .. 1.3200000000000001]', '[0.079999999999999987 .. 0.12000000000000001]', '[0.079999999999999987 .. 0.12000000000000001]', '[0.079999999999999987 .. 0.12000000000000001]', '[1.2799999999999998 .. 1.3200000000000001]', '[2.4799999999999999 .. 2.5200000000000001]', '[0.57999999999999996 .. 0.62000000000000011]', '[1.2799999999999998 .. 1.3200000000000001]']\n",
      "ode in polynomial ring\n",
      "crude_roots = False\n",
      "_handle_initials called!\n",
      "vars = [x1, x2, x3, x4, x5, x6, x7, x8, x9]\n",
      "C = [0.98..1.02]\n",
      "C = [1.2799999999999998..1.32]\n",
      "C = [0.07999999999999999..0.12000000000000001]\n",
      "C = [0.07999999999999999..0.12000000000000001]\n",
      "C = [0.07999999999999999..0.12000000000000001]\n",
      "C = [1.2799999999999998..1.32]\n",
      "C = [2.48..2.52]\n",
      "C = [0.58..0.6200000000000001]\n",
      "C = [1.2799999999999998..1.32]\n",
      "integrationScheme = 7\n",
      "Running Flow*: 1 items in 45.43 seconds\n",
      "Computed 1334 flowpipes in 45.43068549403688 sec\n",
      "PolyObserver(-x6 + 1, <flowstar.reachability.Reach object at 0x55f0722af060>, 0.10000000000000000?*x1*x6 + x2*x6 + 2*x6*x8 - 50*x3 - 100*x4 - 50*x5 + x6 symbolic_composition=False, tentative_unpreconditioning=True, mask=None)\n",
      "symbolic_composition=False, tentative_unpreconditioning=True\n",
      "roots(space_domain=None, epsilon=1e-05, verbosity=0)\n",
      "top-level root detection: 1 items in 5.53 seconds\n",
      "roots = [[0.71099999999997254 .. 0.96745983959350124]]\n",
      "domain = [0.0000000000000000 .. 3.9999999999999996]\n",
      "roots = [[0.71099999999997254 .. 0.96745983959350124]]\n",
      "seg_domain = [0.0000000000000000 .. 3.9999999999999996]\n",
      "roots = [[0.71099999999997254 .. 0.96745983959350124]]\n",
      "running f_bool: 1 items in 0.00 seconds\n",
      "running f_bool: 1 items in 0.00 seconds\n",
      "signal given bool roots: 1 items in 0.00 seconds\n",
      "Monitoring Signal for x6 < 1: 1 items in 5.90 seconds\n",
      "Monitored signal in 5.899165750975953 sec\n",
      "ran \"root amalgamation\" 86 times in 9.775161743164062e-05\n",
      "ran \"check boolean [unguarded]\" 2 times in 0.0002989768981933594\n",
      "ran \"mask intersect check\" 1334 times in 0.0007596015930175781\n",
      "ran \"whole domain eval\" 89 times in 0.1563255786895752\n",
      "ran \"observer.check\" 2 times in 0.0004589557647705078\n",
      "ran \"tentative eval\" 1334 times in 1.0079574584960938\n",
      "ran \"prepare in check\" 2 times in 8.821487426757812e-06\n",
      "ran \"composing flowpipe\" 89 times in 4.038284540176392\n",
      "ran \"post retrieve\" 86 times in 0.0006291866302490234\n",
      "ran \"root detection\" 86 times in 0.3077569007873535\n",
      "ran \"check boolean [guarded]\" 2 times in 0.0003421306610107422\n",
      "Run done in 51.598779916763306 sec\n",
      "options: {'use_masks': False}\n"
     ]
    },
    {
     "data": {
      "image/png": "[encoded data removed]",
      "text/plain": [
       "Graphics object consisting of 2 graphics primitives"
      ]
     },
     "execution_count": 31,
     "metadata": {},
     "output_type": "execute_result"
    }
   ],
   "source": [
    "sigQ = test_monitoring(Q, 4, use_masks=False)[1]\n",
    "sigQ.plot()"
   ]
  },
  {
   "cell_type": "code",
   "execution_count": 32,
   "metadata": {},
   "outputs": [
    {
     "name": "stdout",
     "output_type": "stream",
     "text": [
      "Precomposing Contexts: 1 items in 0.00 seconds\n",
      "calling reach with y0 = ['[0.97999999999999998 .. 1.0200000000000001]', '[1.2799999999999998 .. 1.3200000000000001]', '[0.079999999999999987 .. 0.12000000000000001]', '[0.079999999999999987 .. 0.12000000000000001]', '[0.079999999999999987 .. 0.12000000000000001]', '[1.2799999999999998 .. 1.3200000000000001]', '[2.4799999999999999 .. 2.5200000000000001]', '[0.57999999999999996 .. 0.62000000000000011]', '[1.2799999999999998 .. 1.3200000000000001]']\n",
      "ode in polynomial ring\n",
      "crude_roots = False\n",
      "_handle_initials called!\n",
      "vars = [x1, x2, x3, x4, x5, x6, x7, x8, x9]\n",
      "C = [0.98..1.02]\n",
      "C = [1.2799999999999998..1.32]\n",
      "C = [0.07999999999999999..0.12000000000000001]\n",
      "C = [0.07999999999999999..0.12000000000000001]\n",
      "C = [0.07999999999999999..0.12000000000000001]\n",
      "C = [1.2799999999999998..1.32]\n",
      "C = [2.48..2.52]\n",
      "C = [0.58..0.6200000000000001]\n",
      "C = [1.2799999999999998..1.32]\n",
      "integrationScheme = 7\n",
      "Running Flow*: 1 items in 44.67 seconds\n",
      "Computed 1334 flowpipes in 44.669165473023895 sec\n",
      "PolyObserver(-x6 + 1, <flowstar.reachability.Reach object at 0x55f07a1e1050>, 0.10000000000000000?*x1*x6 + x2*x6 + 2*x6*x8 - 50*x3 - 100*x4 - 50*x5 + x6 symbolic_composition=False, tentative_unpreconditioning=True, mask=Mask([0.0000000000000000 .. 4.0000000000000000], [[0.0048028783727901138 .. 0.48300000000000043], [3.9999999999999995 .. 4.0000000000000000]]))\n",
      "symbolic_composition=False, tentative_unpreconditioning=True\n",
      "roots(space_domain=None, epsilon=1e-05, verbosity=0)\n",
      "top-level root detection: 1 items in 0.14 seconds\n",
      "roots = []\n",
      "domain = [0.0000000000000000 .. 3.9999999999999996]\n",
      "roots = []\n",
      "seg_domain = [0.0048028783727901138 .. 0.48300000000000043]\n",
      "roots = []\n",
      "running f_bool: 1 items in 0.00 seconds\n",
      "seg_domain = [3.9999999999999995 .. 4.0000000000000000]\n",
      "roots = []\n",
      "running f_bool: 1 items in 0.00 seconds\n",
      "signal given bool roots: 1 items in 0.00 seconds\n",
      "Monitoring Signal for x6 < 1: 1 items in 0.53 seconds\n",
      "Monitored signal in 0.5318437629612163 sec\n",
      "ran \"check boolean [unguarded]\" 2 times in 0.0004930496215820312\n",
      "ran \"mask intersect check\" 1334 times in 0.001538991928100586\n",
      "ran \"observer.check\" 2 times in 0.0006592273712158203\n",
      "ran \"tentative eval\" 162 times in 0.13456487655639648\n",
      "ran \"prepare in check\" 2 times in 1.049041748046875e-05\n",
      "ran \"check boolean [guarded]\" 2 times in 0.0005238056182861328\n",
      "Run done in 45.46156859397888 sec\n",
      "options: {'mask': Mask([0.0000000000000000 .. 4.0000000000000000], [[0.0048028783727901138 .. 0.48300000000000043], [3.9999999999999995 .. 4.0000000000000000]])}\n"
     ]
    },
    {
     "data": {
      "image/png": "[encoded data removed]",
      "text/plain": [
       "Graphics object consisting of 2 graphics primitives"
      ]
     },
     "execution_count": 32,
     "metadata": {},
     "output_type": "execute_result"
    }
   ],
   "source": [
    "sigQm = test_monitoring(Q, 4, mask=sigP.to_mask_and())[1]\n",
    "sigQm.plot()"
   ]
  },
  {
   "cell_type": "code",
   "execution_count": 33,
   "metadata": {},
   "outputs": [
    {
     "name": "stdout",
     "output_type": "stream",
     "text": [
      "Precomposing Contexts: 1 items in 0.00 seconds\n",
      "calling reach with y0 = ['[0.97999999999999998 .. 1.0200000000000001]', '[1.2799999999999998 .. 1.3200000000000001]', '[0.079999999999999987 .. 0.12000000000000001]', '[0.079999999999999987 .. 0.12000000000000001]', '[0.079999999999999987 .. 0.12000000000000001]', '[1.2799999999999998 .. 1.3200000000000001]', '[2.4799999999999999 .. 2.5200000000000001]', '[0.57999999999999996 .. 0.62000000000000011]', '[1.2799999999999998 .. 1.3200000000000001]']\n",
      "ode in polynomial ring\n",
      "crude_roots = False\n",
      "_handle_initials called!\n",
      "vars = [x1, x2, x3, x4, x5, x6, x7, x8, x9]\n",
      "C = [0.98..1.02]\n",
      "C = [1.2799999999999998..1.32]\n",
      "C = [0.07999999999999999..0.12000000000000001]\n",
      "C = [0.07999999999999999..0.12000000000000001]\n",
      "C = [0.07999999999999999..0.12000000000000001]\n",
      "C = [1.2799999999999998..1.32]\n",
      "C = [2.48..2.52]\n",
      "C = [0.58..0.6200000000000001]\n",
      "C = [1.2799999999999998..1.32]\n",
      "integrationScheme = 7\n",
      "Running Flow*: 1 items in 43.94 seconds\n",
      "Computed 1334 flowpipes in 43.943845050031086 sec\n",
      "PolyObserver(-x6 + 1, <flowstar.reachability.Reach object at 0x55f058e23230>, 0.10000000000000000?*x1*x6 + x2*x6 + 2*x6*x8 - 50*x3 - 100*x4 - 50*x5 + x6 symbolic_composition=False, tentative_unpreconditioning=True, mask=Mask([0.0000000000000000 .. 4.0000000000000000], [[0.0029999999999999996 .. 0.48300000000000043]]))\n",
      "symbolic_composition=False, tentative_unpreconditioning=True\n",
      "roots(space_domain=None, epsilon=1e-05, verbosity=0)\n",
      "top-level root detection: 1 items in 0.14 seconds\n",
      "roots = []\n",
      "domain = [0.0000000000000000 .. 3.9999999999999996]\n",
      "roots = []\n",
      "seg_domain = [0.0029999999999999996 .. 0.48300000000000043]\n",
      "roots = []\n",
      "running f_bool: 1 items in 0.00 seconds\n",
      "signal given bool roots: 1 items in 0.00 seconds\n",
      "Monitoring Signal for x6 < 1: 1 items in 0.49 seconds\n",
      "Monitored signal in 0.4947081309801433 sec\n",
      "ran \"check boolean [unguarded]\" 1 times in 2.956390380859375e-05\n",
      "ran \"mask intersect check\" 1334 times in 0.0015437602996826172\n",
      "ran \"observer.check\" 1 times in 0.00010442733764648438\n",
      "ran \"tentative eval\" 162 times in 0.13290882110595703\n",
      "ran \"prepare in check\" 1 times in 5.0067901611328125e-06\n",
      "ran \"check boolean [guarded]\" 1 times in 4.029273986816406e-05\n",
      "Run done in 44.64312243461609 sec\n",
      "options: {'mask': Mask([0.0000000000000000 .. 4.0000000000000000], [[0.0029999999999999996 .. 0.48300000000000043]])}\n"
     ]
    },
    {
     "name": "stderr",
     "output_type": "stream",
     "text": [
      "/usr/lib64/python3.7/site-packages/sage/plot/contour_plot.py:205: UserWarning: No contour levels were found within the data range.\n",
      "  linewidths=linewidths, linestyles=linestyles)\n"
     ]
    },
    {
     "data": {
      "image/png": "[encoded data removed]",
      "text/plain": [
       "Graphics object consisting of 2 graphics primitives"
      ]
     },
     "execution_count": 33,
     "metadata": {},
     "output_type": "execute_result"
    }
   ],
   "source": [
    "sigQc = test_monitoring(Q, 4, mask=sigPc.to_mask_and())[1]\n",
    "sigQc.plot()"
   ]
  },
  {
   "cell_type": "code",
   "execution_count": 34,
   "metadata": {},
   "outputs": [
    {
     "name": "stdout",
     "output_type": "stream",
     "text": [
      "Precomposing Contexts: 1 items in 0.00 seconds\n",
      "calling reach with y0 = ['[0.97999999999999998 .. 1.0200000000000001]', '[1.2799999999999998 .. 1.3200000000000001]', '[0.079999999999999987 .. 0.12000000000000001]', '[0.079999999999999987 .. 0.12000000000000001]', '[0.079999999999999987 .. 0.12000000000000001]', '[1.2799999999999998 .. 1.3200000000000001]', '[2.4799999999999999 .. 2.5200000000000001]', '[0.57999999999999996 .. 0.62000000000000011]', '[1.2799999999999998 .. 1.3200000000000001]']\n",
      "ode in polynomial ring\n",
      "crude_roots = False\n",
      "_handle_initials called!\n",
      "vars = [x1, x2, x3, x4, x5, x6, x7, x8, x9]\n",
      "C = [0.98..1.02]\n",
      "C = [1.2799999999999998..1.32]\n",
      "C = [0.07999999999999999..0.12000000000000001]\n",
      "C = [0.07999999999999999..0.12000000000000001]\n",
      "C = [0.07999999999999999..0.12000000000000001]\n",
      "C = [1.2799999999999998..1.32]\n",
      "C = [2.48..2.52]\n",
      "C = [0.58..0.6200000000000001]\n",
      "C = [1.2799999999999998..1.32]\n",
      "integrationScheme = 7\n",
      "Running Flow*: 1 items in 42.48 seconds\n",
      "Computed 1334 flowpipes in 42.48070501405164 sec\n",
      "PolyObserver(-x6 + 1, <flowstar.reachability.Reach object at 0x55f080845540>, 0.10000000000000000?*x1*x6 + x2*x6 + 2*x6*x8 - 50*x3 - 100*x4 - 50*x5 + x6 symbolic_composition=False, tentative_unpreconditioning=True, mask=Mask([0.0000000000000000 .. 4.0000000000000000], [[0.0048028783727901138 .. 0.10000000000000001], [0.19999999999999998 .. 0.30000000000000005], [0.39999999999999996 .. 0.48300000000000043], [0.50000000000000000 .. 0.50000000000000000], [0.59999999999999997 .. 0.59999999999999998], [0.70000000000000006 .. 0.70000000000000007], [0.79999999999999993 .. 0.79999999999999994], [0.90000000000000002 .. 0.90000000000000003], [1.0000000000000000 .. 1.0000000000000000], [1.1000000000000000 .. 1.1000000000000001], [1.1999999999999999 .. 1.2000000000000000], [1.3000000000000000 .. 1.3000000000000001], [1.3999999999999999 .. 1.4000000000000000], [1.5000000000000000 .. 1.5000000000000000], [1.5999999999999998 .. 1.5999999999999999], [1.7000000000000001 .. 1.7000000000000002], [1.7999999999999998 .. 1.7999999999999999], [1.9000000000000001 .. 1.9000000000000002], [2.0000000000000000 .. 2.0000000000000000], [2.1000000000000000 .. 2.1000000000000001], [2.1999999999999997 .. 2.1999999999999998], [2.3000000000000002 .. 2.3000000000000003], [2.3999999999999999 .. 2.4000000000000000], [2.5000000000000000 .. 2.5000000000000000], [2.5999999999999996 .. 2.5999999999999997], [2.7000000000000001 .. 2.7000000000000002], [2.7999999999999998 .. 2.7999999999999999], [2.9000000000000003 .. 2.9000000000000004], [3.0000000000000000 .. 3.0000000000000000], [3.1000000000000000 .. 3.1000000000000001], [3.1999999999999997 .. 3.1999999999999998], [3.3000000000000002 .. 3.3000000000000003], [3.3999999999999999 .. 3.4000000000000000], [3.5000000000000000 .. 3.5000000000000000], [3.5999999999999996 .. 3.5999999999999997], [3.7000000000000001 .. 3.7000000000000002], [3.7999999999999998 .. 3.7999999999999999], [3.9000000000000003 .. 3.9000000000000004], [4.0000000000000000 .. 4.0000000000000000]]))\n",
      "symbolic_composition=False, tentative_unpreconditioning=True\n",
      "roots(space_domain=None, epsilon=1e-05, verbosity=0)\n",
      "top-level root detection: 1 items in 0.27 seconds\n",
      "roots = [[0.79999999999996540 .. 0.80000000000003447], [0.89999999999995816 .. 0.90000000000004210]]\n",
      "domain = [0.0000000000000000 .. 3.9999999999999996]\n",
      "roots = [[0.79999999999996540 .. 0.80000000000003447], \n",
      " [0.89999999999995816 .. 0.90000000000004210]]\n",
      "seg_domain = [0.0048028783727901138 .. 0.10000000000000001]\n",
      "roots = [[0.79999999999996540 .. 0.80000000000003447], \n",
      " [0.89999999999995816 .. 0.90000000000004210]]\n",
      "running f_bool: 1 items in 0.00 seconds\n",
      "seg_domain = [0.19999999999999998 .. 0.30000000000000005]\n",
      "roots = [[0.79999999999996540 .. 0.80000000000003447], \n",
      " [0.89999999999995816 .. 0.90000000000004210]]\n",
      "running f_bool: 1 items in 0.00 seconds\n",
      "seg_domain = [0.39999999999999996 .. 0.48300000000000043]\n",
      "roots = [[0.79999999999996540 .. 0.80000000000003447], \n",
      " [0.89999999999995816 .. 0.90000000000004210]]\n",
      "running f_bool: 1 items in 0.00 seconds\n",
      "seg_domain = [0.50000000000000000 .. 0.50000000000000000]\n",
      "roots = [[0.79999999999996540 .. 0.80000000000003447], \n",
      " [0.89999999999995816 .. 0.90000000000004210]]\n",
      "running f_bool: 1 items in 0.00 seconds\n",
      "seg_domain = [0.59999999999999997 .. 0.59999999999999998]\n",
      "roots = [[0.79999999999996540 .. 0.80000000000003447], \n",
      " [0.89999999999995816 .. 0.90000000000004210]]\n",
      "running f_bool: 1 items in 0.00 seconds\n",
      "seg_domain = [0.70000000000000006 .. 0.70000000000000007]\n",
      "roots = [[0.79999999999996540 .. 0.80000000000003447], \n",
      " [0.89999999999995816 .. 0.90000000000004210]]\n",
      "running f_bool: 1 items in 0.00 seconds\n",
      "seg_domain = [0.79999999999999993 .. 0.79999999999999994]\n",
      "roots = [[0.79999999999996540 .. 0.80000000000003447], \n",
      " [0.89999999999995816 .. 0.90000000000004210]]\n",
      "running f_bool: 1 items in 0.01 seconds\n",
      "0 at 0.800000000000000\n",
      "seg_domain = [0.90000000000000002 .. 0.90000000000000003]\n",
      "roots = [[0.79999999999996540 .. 0.80000000000003447], \n",
      " [0.89999999999995816 .. 0.90000000000004210]]\n",
      "running f_bool: 1 items in 0.00 seconds\n",
      "0 at 0.900000000000001\n",
      "seg_domain = [1.0000000000000000 .. 1.0000000000000000]\n",
      "roots = [[0.79999999999996540 .. 0.80000000000003447], \n",
      " [0.89999999999995816 .. 0.90000000000004210]]\n",
      "running f_bool: 1 items in 0.00 seconds\n",
      "seg_domain = [1.1000000000000000 .. 1.1000000000000001]\n",
      "roots = [[0.79999999999996540 .. 0.80000000000003447], \n",
      " [0.89999999999995816 .. 0.90000000000004210]]\n",
      "running f_bool: 1 items in 0.00 seconds\n",
      "seg_domain = [1.1999999999999999 .. 1.2000000000000000]\n",
      "roots = [[0.79999999999996540 .. 0.80000000000003447], \n",
      " [0.89999999999995816 .. 0.90000000000004210]]\n",
      "running f_bool: 1 items in 0.00 seconds\n",
      "seg_domain = [1.3000000000000000 .. 1.3000000000000001]\n",
      "roots = [[0.79999999999996540 .. 0.80000000000003447], \n",
      " [0.89999999999995816 .. 0.90000000000004210]]\n",
      "running f_bool: 1 items in 0.00 seconds\n",
      "seg_domain = [1.3999999999999999 .. 1.4000000000000000]\n",
      "roots = [[0.79999999999996540 .. 0.80000000000003447], \n",
      " [0.89999999999995816 .. 0.90000000000004210]]\n",
      "running f_bool: 1 items in 0.00 seconds\n",
      "seg_domain = [1.5000000000000000 .. 1.5000000000000000]\n",
      "roots = [[0.79999999999996540 .. 0.80000000000003447], \n",
      " [0.89999999999995816 .. 0.90000000000004210]]\n",
      "running f_bool: 1 items in 0.00 seconds\n",
      "seg_domain = [1.5999999999999998 .. 1.5999999999999999]\n",
      "roots = [[0.79999999999996540 .. 0.80000000000003447], \n",
      " [0.89999999999995816 .. 0.90000000000004210]]\n",
      "running f_bool: 1 items in 0.00 seconds\n",
      "seg_domain = [1.7000000000000001 .. 1.7000000000000002]\n",
      "roots = [[0.79999999999996540 .. 0.80000000000003447], \n",
      " [0.89999999999995816 .. 0.90000000000004210]]\n",
      "running f_bool: 1 items in 0.00 seconds\n",
      "seg_domain = [1.7999999999999998 .. 1.7999999999999999]\n",
      "roots = [[0.79999999999996540 .. 0.80000000000003447], \n",
      " [0.89999999999995816 .. 0.90000000000004210]]\n",
      "running f_bool: 1 items in 0.00 seconds\n",
      "seg_domain = [1.9000000000000001 .. 1.9000000000000002]\n",
      "roots = [[0.79999999999996540 .. 0.80000000000003447], \n",
      " [0.89999999999995816 .. 0.90000000000004210]]\n",
      "running f_bool: 1 items in 0.00 seconds\n",
      "seg_domain = [2.0000000000000000 .. 2.0000000000000000]\n",
      "roots = [[0.79999999999996540 .. 0.80000000000003447], \n",
      " [0.89999999999995816 .. 0.90000000000004210]]\n",
      "running f_bool: 1 items in 0.00 seconds\n",
      "seg_domain = [2.1000000000000000 .. 2.1000000000000001]\n",
      "roots = [[0.79999999999996540 .. 0.80000000000003447], \n",
      " [0.89999999999995816 .. 0.90000000000004210]]\n",
      "running f_bool: 1 items in 0.00 seconds\n",
      "seg_domain = [2.1999999999999997 .. 2.1999999999999998]\n",
      "roots = [[0.79999999999996540 .. 0.80000000000003447], \n",
      " [0.89999999999995816 .. 0.90000000000004210]]\n",
      "running f_bool: 1 items in 0.00 seconds\n",
      "seg_domain = [2.3000000000000002 .. 2.3000000000000003]\n",
      "roots = [[0.79999999999996540 .. 0.80000000000003447], \n",
      " [0.89999999999995816 .. 0.90000000000004210]]\n",
      "running f_bool: 1 items in 0.00 seconds\n",
      "seg_domain = [2.3999999999999999 .. 2.4000000000000000]\n",
      "roots = [[0.79999999999996540 .. 0.80000000000003447], \n",
      " [0.89999999999995816 .. 0.90000000000004210]]\n",
      "running f_bool: 1 items in 0.00 seconds\n",
      "seg_domain = [2.5000000000000000 .. 2.5000000000000000]\n",
      "roots = [[0.79999999999996540 .. 0.80000000000003447], \n",
      " [0.89999999999995816 .. 0.90000000000004210]]\n",
      "running f_bool: 1 items in 0.00 seconds\n",
      "seg_domain = [2.5999999999999996 .. 2.5999999999999997]\n",
      "roots = [[0.79999999999996540 .. 0.80000000000003447], \n",
      " [0.89999999999995816 .. 0.90000000000004210]]\n",
      "running f_bool: 1 items in 0.00 seconds\n",
      "seg_domain = [2.7000000000000001 .. 2.7000000000000002]\n",
      "roots = [[0.79999999999996540 .. 0.80000000000003447], \n",
      " [0.89999999999995816 .. 0.90000000000004210]]\n",
      "running f_bool: 1 items in 0.00 seconds\n",
      "seg_domain = [2.7999999999999998 .. 2.7999999999999999]\n",
      "roots = [[0.79999999999996540 .. 0.80000000000003447], \n",
      " [0.89999999999995816 .. 0.90000000000004210]]\n",
      "running f_bool: 1 items in 0.00 seconds\n",
      "seg_domain = [2.9000000000000003 .. 2.9000000000000004]\n",
      "roots = [[0.79999999999996540 .. 0.80000000000003447], \n",
      " [0.89999999999995816 .. 0.90000000000004210]]\n",
      "running f_bool: 1 items in 0.00 seconds\n",
      "seg_domain = [3.0000000000000000 .. 3.0000000000000000]\n",
      "roots = [[0.79999999999996540 .. 0.80000000000003447], \n",
      " [0.89999999999995816 .. 0.90000000000004210]]\n",
      "running f_bool: 1 items in 0.00 seconds\n",
      "seg_domain = [3.1000000000000000 .. 3.1000000000000001]\n",
      "roots = [[0.79999999999996540 .. 0.80000000000003447], \n",
      " [0.89999999999995816 .. 0.90000000000004210]]\n",
      "running f_bool: 1 items in 0.00 seconds\n",
      "seg_domain = [3.1999999999999997 .. 3.1999999999999998]\n",
      "roots = [[0.79999999999996540 .. 0.80000000000003447], \n",
      " [0.89999999999995816 .. 0.90000000000004210]]\n",
      "running f_bool: 1 items in 0.00 seconds\n",
      "seg_domain = [3.3000000000000002 .. 3.3000000000000003]\n",
      "roots = [[0.79999999999996540 .. 0.80000000000003447], \n",
      " [0.89999999999995816 .. 0.90000000000004210]]\n",
      "running f_bool: 1 items in 0.00 seconds\n",
      "seg_domain = [3.3999999999999999 .. 3.4000000000000000]\n",
      "roots = [[0.79999999999996540 .. 0.80000000000003447], \n",
      " [0.89999999999995816 .. 0.90000000000004210]]\n",
      "running f_bool: 1 items in 0.00 seconds\n",
      "seg_domain = [3.5000000000000000 .. 3.5000000000000000]\n",
      "roots = [[0.79999999999996540 .. 0.80000000000003447], \n",
      " [0.89999999999995816 .. 0.90000000000004210]]\n",
      "running f_bool: 1 items in 0.00 seconds\n",
      "seg_domain = [3.5999999999999996 .. 3.5999999999999997]\n",
      "roots = [[0.79999999999996540 .. 0.80000000000003447], \n",
      " [0.89999999999995816 .. 0.90000000000004210]]\n",
      "running f_bool: 1 items in 0.00 seconds\n",
      "seg_domain = [3.7000000000000001 .. 3.7000000000000002]\n",
      "roots = [[0.79999999999996540 .. 0.80000000000003447], \n",
      " [0.89999999999995816 .. 0.90000000000004210]]\n",
      "running f_bool: 1 items in 0.00 seconds\n",
      "seg_domain = [3.7999999999999998 .. 3.7999999999999999]\n",
      "roots = [[0.79999999999996540 .. 0.80000000000003447], \n",
      " [0.89999999999995816 .. 0.90000000000004210]]\n",
      "running f_bool: 1 items in 0.00 seconds\n",
      "seg_domain = [3.9000000000000003 .. 3.9000000000000004]\n",
      "roots = [[0.79999999999996540 .. 0.80000000000003447], \n",
      " [0.89999999999995816 .. 0.90000000000004210]]\n",
      "running f_bool: 1 items in 0.00 seconds\n",
      "seg_domain = [4.0000000000000000 .. 4.0000000000000000]\n",
      "roots = [[0.79999999999996540 .. 0.80000000000003447], \n",
      " [0.89999999999995816 .. 0.90000000000004210]]\n",
      "running f_bool: 1 items in 0.00 seconds\n",
      "signal given bool roots: 1 items in 0.04 seconds\n",
      "Monitoring Signal for x6 < 1: 1 items in 0.66 seconds\n",
      "Monitored signal in 0.6581370469648391 sec\n",
      "ran \"root amalgamation\" 3 times in 4.76837158203125e-06\n",
      "ran \"check boolean [unguarded]\" 39 times in 0.013913631439208984\n",
      "ran \"mask intersect check\" 1334 times in 0.002466440200805664\n",
      "ran \"whole domain eval\" 3 times in 0.005097150802612305\n",
      "ran \"observer.check\" 39 times in 0.015493392944335938\n",
      "ran \"tentative eval\" 145 times in 0.13425827026367188\n",
      "ran \"prepare in check\" 39 times in 9.226799011230469e-05\n",
      "ran \"composing flowpipe\" 5 times in 0.10818648338317871\n",
      "ran \"post retrieve\" 3 times in 1.811981201171875e-05\n",
      "ran \"root detection\" 3 times in 0.009891271591186523\n",
      "ran \"check boolean [guarded]\" 39 times in 0.014245271682739258\n",
      "Run done in 43.40526747703552 sec\n",
      "options: {'mask': Mask([0.0000000000000000 .. 4.0000000000000000], [[0.0048028783727901138 .. 0.10000000000000001], [0.19999999999999998 .. 0.30000000000000005], [0.39999999999999996 .. 0.48300000000000043], [0.50000000000000000 .. 0.50000000000000000], [0.59999999999999997 .. 0.59999999999999998], [0.70000000000000006 .. 0.70000000000000007], [0.79999999999999993 .. 0.79999999999999994], [0.90000000000000002 .. 0.90000000000000003], [1.0000000000000000 .. 1.0000000000000000], [1.1000000000000000 .. 1.1000000000000001], [1.1999999999999999 .. 1.2000000000000000], [1.3000000000000000 .. 1.3000000000000001], [1.3999999999999999 .. 1.4000000000000000], [1.5000000000000000 .. 1.5000000000000000], [1.5999999999999998 .. 1.5999999999999999], [1.7000000000000001 .. 1.7000000000000002], [1.7999999999999998 .. 1.7999999999999999], [1.9000000000000001 .. 1.9000000000000002], [2.0000000000000000 .. 2.0000000000000000], [2.1000000000000000 .. 2.1000000000000001], [2.1999999999999997 .. 2.1999999999999998], [2.3000000000000002 .. 2.3000000000000003], [2.3999999999999999 .. 2.4000000000000000], [2.5000000000000000 .. 2.5000000000000000], [2.5999999999999996 .. 2.5999999999999997], [2.7000000000000001 .. 2.7000000000000002], [2.7999999999999998 .. 2.7999999999999999], [2.9000000000000003 .. 2.9000000000000004], [3.0000000000000000 .. 3.0000000000000000], [3.1000000000000000 .. 3.1000000000000001], [3.1999999999999997 .. 3.1999999999999998], [3.3000000000000002 .. 3.3000000000000003], [3.3999999999999999 .. 3.4000000000000000], [3.5000000000000000 .. 3.5000000000000000], [3.5999999999999996 .. 3.5999999999999997], [3.7000000000000001 .. 3.7000000000000002], [3.7999999999999998 .. 3.7999999999999999], [3.9000000000000003 .. 3.9000000000000004], [4.0000000000000000 .. 4.0000000000000000]])}\n"
     ]
    },
    {
     "data": {
      "image/png": "[encoded data removed]",
      "text/plain": [
       "Graphics object consisting of 2 graphics primitives"
      ]
     },
     "execution_count": 34,
     "metadata": {},
     "output_type": "execute_result"
    }
   ],
   "source": [
    "sigQz = test_monitoring(Q, 4, mask=sigPz.to_mask_and())[1]\n",
    "sigQz.plot()"
   ]
  },
  {
   "cell_type": "code",
   "execution_count": 35,
   "metadata": {},
   "outputs": [
    {
     "name": "stdout",
     "output_type": "stream",
     "text": [
      "Precomposing Contexts: 1 items in 0.00 seconds\n",
      "calling reach with y0 = ['[0.97999999999999998 .. 1.0200000000000001]', '[1.2799999999999998 .. 1.3200000000000001]', '[0.079999999999999987 .. 0.12000000000000001]', '[0.079999999999999987 .. 0.12000000000000001]', '[0.079999999999999987 .. 0.12000000000000001]', '[1.2799999999999998 .. 1.3200000000000001]', '[2.4799999999999999 .. 2.5200000000000001]', '[0.57999999999999996 .. 0.62000000000000011]', '[1.2799999999999998 .. 1.3200000000000001]']\n",
      "ode in polynomial ring\n",
      "crude_roots = False\n",
      "_handle_initials called!\n",
      "vars = [x1, x2, x3, x4, x5, x6, x7, x8, x9]\n",
      "C = [0.98..1.02]\n",
      "C = [1.2799999999999998..1.32]\n",
      "C = [0.07999999999999999..0.12000000000000001]\n",
      "C = [0.07999999999999999..0.12000000000000001]\n",
      "C = [0.07999999999999999..0.12000000000000001]\n",
      "C = [1.2799999999999998..1.32]\n",
      "C = [2.48..2.52]\n",
      "C = [0.58..0.6200000000000001]\n",
      "C = [1.2799999999999998..1.32]\n",
      "integrationScheme = 7\n",
      "Running Flow*: 1 items in 44.04 seconds\n",
      "Computed 1334 flowpipes in 44.0360482520191 sec\n",
      "PolyObserver(x6 - 1.4000000000000000?, <flowstar.reachability.Reach object at 0x55f0765d6e00>, -0.10000000000000000?*x1*x6 - x2*x6 - 2*x6*x8 + 50*x3 + 100*x4 + 50*x5 - x6 symbolic_composition=False, tentative_unpreconditioning=True, mask=Mask([0.0000000000000000 .. 4.0000000000000000], [[0.0048028783727901138 .. 0.0048028783727901139], [0.10000000000000000 .. 0.10000000000000001], [0.19999999999999998 .. 0.19999999999999999], [0.30000000000000004 .. 0.30000000000000005], [0.39999999999999996 .. 0.39999999999999997], [0.48300000000000042 .. 0.48300000000000043], [0.50000000000000000 .. 0.50000000000000000], [0.59999999999999997 .. 0.59999999999999998], [0.70000000000000006 .. 0.70000000000000007], [0.79999999999999993 .. 0.79999999999999994], [0.90000000000000002 .. 0.90000000000000003], [1.0000000000000000 .. 1.0000000000000000], [1.1000000000000000 .. 1.1000000000000001], [1.1999999999999999 .. 1.2000000000000000], [1.3000000000000000 .. 1.3000000000000001], [1.3999999999999999 .. 1.4000000000000000], [1.5000000000000000 .. 1.5000000000000000], [1.5999999999999998 .. 1.5999999999999999], [1.7000000000000001 .. 1.7000000000000002], [1.7999999999999998 .. 1.7999999999999999], [1.9000000000000001 .. 1.9000000000000002], [2.0000000000000000 .. 2.0000000000000000], [2.1000000000000000 .. 2.1000000000000001], [2.1999999999999997 .. 2.1999999999999998], [2.3000000000000002 .. 2.3000000000000003], [2.3999999999999999 .. 2.4000000000000000], [2.5000000000000000 .. 2.5000000000000000], [2.5999999999999996 .. 2.5999999999999997], [2.7000000000000001 .. 2.7000000000000002], [2.7999999999999998 .. 2.7999999999999999], [2.9000000000000003 .. 2.9000000000000004], [3.0000000000000000 .. 3.0000000000000000], [3.1000000000000000 .. 3.1000000000000001], [3.1999999999999997 .. 3.1999999999999998], [3.3000000000000002 .. 3.3000000000000003], [3.3999999999999999 .. 3.4000000000000000], [3.5000000000000000 .. 3.5000000000000000], [3.5999999999999996 .. 3.5999999999999997], [3.7000000000000001 .. 3.7000000000000002], [3.7999999999999998 .. 3.7999999999999999], [3.9000000000000003 .. 3.9000000000000004], [4.0000000000000000 .. 4.0000000000000000]]))\n",
      "symbolic_composition=False, tentative_unpreconditioning=True\n",
      "roots(space_domain=None, epsilon=1e-05, verbosity=0)\n",
      "top-level root detection: 1 items in 0.23 seconds\n",
      "roots = [[0.29999999999999515 .. 0.30000000000000505], [0.39999999999999130 .. 0.40000000000000863], [0.48299999999998877 .. 0.48300000000000043]]\n",
      "domain = [0.0000000000000000 .. 3.9999999999999996]\n",
      "roots = [[0.29999999999999515 .. 0.30000000000000505], \n",
      " [0.39999999999999130 .. 0.40000000000000863], \n",
      " [0.48299999999998877 .. 0.48300000000000043]]\n",
      "seg_domain = [0.0048028783727901138 .. 0.0048028783727901139]\n",
      "roots = [[0.29999999999999515 .. 0.30000000000000505], \n",
      " [0.39999999999999130 .. 0.40000000000000863], \n",
      " [0.48299999999998877 .. 0.48300000000000043]]\n",
      "running f_bool: 1 items in 0.00 seconds\n",
      "seg_domain = [0.10000000000000000 .. 0.10000000000000001]\n",
      "roots = [[0.29999999999999515 .. 0.30000000000000505], \n",
      " [0.39999999999999130 .. 0.40000000000000863], \n",
      " [0.48299999999998877 .. 0.48300000000000043]]\n",
      "running f_bool: 1 items in 0.00 seconds\n",
      "seg_domain = [0.19999999999999998 .. 0.19999999999999999]\n",
      "roots = [[0.29999999999999515 .. 0.30000000000000505], \n",
      " [0.39999999999999130 .. 0.40000000000000863], \n",
      " [0.48299999999998877 .. 0.48300000000000043]]\n",
      "running f_bool: 1 items in 0.00 seconds\n",
      "seg_domain = [0.30000000000000004 .. 0.30000000000000005]\n",
      "roots = [[0.29999999999999515 .. 0.30000000000000505], \n",
      " [0.39999999999999130 .. 0.40000000000000863], \n",
      " [0.48299999999998877 .. 0.48300000000000043]]\n",
      "running f_bool: 1 items in 0.01 seconds\n",
      "0 at 0.300000000000001\n",
      "seg_domain = [0.39999999999999996 .. 0.39999999999999997]\n",
      "roots = [[0.29999999999999515 .. 0.30000000000000505], \n",
      " [0.39999999999999130 .. 0.40000000000000863], \n",
      " [0.48299999999998877 .. 0.48300000000000043]]\n",
      "running f_bool: 1 items in 0.00 seconds\n",
      "0 at 0.400000000000000\n",
      "seg_domain = [0.48300000000000042 .. 0.48300000000000043]\n",
      "roots = [[0.29999999999999515 .. 0.30000000000000505], \n",
      " [0.39999999999999130 .. 0.40000000000000863], \n",
      " [0.48299999999998877 .. 0.48300000000000043]]\n",
      "running f_bool: 1 items in 0.00 seconds\n",
      "0 at 0.483000000000001\n",
      "seg_domain = [0.50000000000000000 .. 0.50000000000000000]\n",
      "roots = [[0.29999999999999515 .. 0.30000000000000505], \n",
      " [0.39999999999999130 .. 0.40000000000000863], \n",
      " [0.48299999999998877 .. 0.48300000000000043]]\n",
      "running f_bool: 1 items in 0.00 seconds\n",
      "seg_domain = [0.59999999999999997 .. 0.59999999999999998]\n",
      "roots = [[0.29999999999999515 .. 0.30000000000000505], \n",
      " [0.39999999999999130 .. 0.40000000000000863], \n",
      " [0.48299999999998877 .. 0.48300000000000043]]\n",
      "running f_bool: 1 items in 0.00 seconds\n",
      "seg_domain = [0.70000000000000006 .. 0.70000000000000007]\n",
      "roots = [[0.29999999999999515 .. 0.30000000000000505], \n",
      " [0.39999999999999130 .. 0.40000000000000863], \n",
      " [0.48299999999998877 .. 0.48300000000000043]]\n",
      "running f_bool: 1 items in 0.00 seconds\n",
      "seg_domain = [0.79999999999999993 .. 0.79999999999999994]\n",
      "roots = [[0.29999999999999515 .. 0.30000000000000505], \n",
      " [0.39999999999999130 .. 0.40000000000000863], \n",
      " [0.48299999999998877 .. 0.48300000000000043]]\n",
      "running f_bool: 1 items in 0.00 seconds\n",
      "seg_domain = [0.90000000000000002 .. 0.90000000000000003]\n",
      "roots = [[0.29999999999999515 .. 0.30000000000000505], \n",
      " [0.39999999999999130 .. 0.40000000000000863], \n",
      " [0.48299999999998877 .. 0.48300000000000043]]\n",
      "running f_bool: 1 items in 0.00 seconds\n",
      "seg_domain = [1.0000000000000000 .. 1.0000000000000000]\n",
      "roots = [[0.29999999999999515 .. 0.30000000000000505], \n",
      " [0.39999999999999130 .. 0.40000000000000863], \n",
      " [0.48299999999998877 .. 0.48300000000000043]]\n",
      "running f_bool: 1 items in 0.00 seconds\n",
      "seg_domain = [1.1000000000000000 .. 1.1000000000000001]\n",
      "roots = [[0.29999999999999515 .. 0.30000000000000505], \n",
      " [0.39999999999999130 .. 0.40000000000000863], \n",
      " [0.48299999999998877 .. 0.48300000000000043]]\n",
      "running f_bool: 1 items in 0.00 seconds\n",
      "seg_domain = [1.1999999999999999 .. 1.2000000000000000]\n",
      "roots = [[0.29999999999999515 .. 0.30000000000000505], \n",
      " [0.39999999999999130 .. 0.40000000000000863], \n",
      " [0.48299999999998877 .. 0.48300000000000043]]\n",
      "running f_bool: 1 items in 0.00 seconds\n",
      "seg_domain = [1.3000000000000000 .. 1.3000000000000001]\n",
      "roots = [[0.29999999999999515 .. 0.30000000000000505], \n",
      " [0.39999999999999130 .. 0.40000000000000863], \n",
      " [0.48299999999998877 .. 0.48300000000000043]]\n",
      "running f_bool: 1 items in 0.00 seconds\n",
      "seg_domain = [1.3999999999999999 .. 1.4000000000000000]\n",
      "roots = [[0.29999999999999515 .. 0.30000000000000505], \n",
      " [0.39999999999999130 .. 0.40000000000000863], \n",
      " [0.48299999999998877 .. 0.48300000000000043]]\n",
      "running f_bool: 1 items in 0.00 seconds\n",
      "seg_domain = [1.5000000000000000 .. 1.5000000000000000]\n",
      "roots = [[0.29999999999999515 .. 0.30000000000000505], \n",
      " [0.39999999999999130 .. 0.40000000000000863], \n",
      " [0.48299999999998877 .. 0.48300000000000043]]\n",
      "running f_bool: 1 items in 0.00 seconds\n",
      "seg_domain = [1.5999999999999998 .. 1.5999999999999999]\n",
      "roots = [[0.29999999999999515 .. 0.30000000000000505], \n",
      " [0.39999999999999130 .. 0.40000000000000863], \n",
      " [0.48299999999998877 .. 0.48300000000000043]]\n",
      "running f_bool: 1 items in 0.00 seconds\n",
      "seg_domain = [1.7000000000000001 .. 1.7000000000000002]\n",
      "roots = [[0.29999999999999515 .. 0.30000000000000505], \n",
      " [0.39999999999999130 .. 0.40000000000000863], \n",
      " [0.48299999999998877 .. 0.48300000000000043]]\n",
      "running f_bool: 1 items in 0.00 seconds\n",
      "seg_domain = [1.7999999999999998 .. 1.7999999999999999]\n",
      "roots = [[0.29999999999999515 .. 0.30000000000000505], \n",
      " [0.39999999999999130 .. 0.40000000000000863], \n",
      " [0.48299999999998877 .. 0.48300000000000043]]\n",
      "running f_bool: 1 items in 0.00 seconds\n",
      "seg_domain = [1.9000000000000001 .. 1.9000000000000002]\n",
      "roots = [[0.29999999999999515 .. 0.30000000000000505], \n",
      " [0.39999999999999130 .. 0.40000000000000863], \n",
      " [0.48299999999998877 .. 0.48300000000000043]]\n",
      "running f_bool: 1 items in 0.00 seconds\n",
      "seg_domain = [2.0000000000000000 .. 2.0000000000000000]\n",
      "roots = [[0.29999999999999515 .. 0.30000000000000505], \n",
      " [0.39999999999999130 .. 0.40000000000000863], \n",
      " [0.48299999999998877 .. 0.48300000000000043]]\n",
      "running f_bool: 1 items in 0.00 seconds\n",
      "seg_domain = [2.1000000000000000 .. 2.1000000000000001]\n",
      "roots = [[0.29999999999999515 .. 0.30000000000000505], \n",
      " [0.39999999999999130 .. 0.40000000000000863], \n",
      " [0.48299999999998877 .. 0.48300000000000043]]\n",
      "running f_bool: 1 items in 0.00 seconds\n",
      "seg_domain = [2.1999999999999997 .. 2.1999999999999998]\n",
      "roots = [[0.29999999999999515 .. 0.30000000000000505], \n",
      " [0.39999999999999130 .. 0.40000000000000863], \n",
      " [0.48299999999998877 .. 0.48300000000000043]]\n",
      "running f_bool: 1 items in 0.00 seconds\n",
      "seg_domain = [2.3000000000000002 .. 2.3000000000000003]\n",
      "roots = [[0.29999999999999515 .. 0.30000000000000505], \n",
      " [0.39999999999999130 .. 0.40000000000000863], \n",
      " [0.48299999999998877 .. 0.48300000000000043]]\n",
      "running f_bool: 1 items in 0.00 seconds\n",
      "seg_domain = [2.3999999999999999 .. 2.4000000000000000]\n",
      "roots = [[0.29999999999999515 .. 0.30000000000000505], \n",
      " [0.39999999999999130 .. 0.40000000000000863], \n",
      " [0.48299999999998877 .. 0.48300000000000043]]\n",
      "running f_bool: 1 items in 0.00 seconds\n",
      "seg_domain = [2.5000000000000000 .. 2.5000000000000000]\n",
      "roots = [[0.29999999999999515 .. 0.30000000000000505], \n",
      " [0.39999999999999130 .. 0.40000000000000863], \n",
      " [0.48299999999998877 .. 0.48300000000000043]]\n",
      "running f_bool: 1 items in 0.00 seconds\n",
      "seg_domain = [2.5999999999999996 .. 2.5999999999999997]\n",
      "roots = [[0.29999999999999515 .. 0.30000000000000505], \n",
      " [0.39999999999999130 .. 0.40000000000000863], \n",
      " [0.48299999999998877 .. 0.48300000000000043]]\n",
      "running f_bool: 1 items in 0.00 seconds\n",
      "seg_domain = [2.7000000000000001 .. 2.7000000000000002]\n",
      "roots = [[0.29999999999999515 .. 0.30000000000000505], \n",
      " [0.39999999999999130 .. 0.40000000000000863], \n",
      " [0.48299999999998877 .. 0.48300000000000043]]\n",
      "running f_bool: 1 items in 0.00 seconds\n",
      "seg_domain = [2.7999999999999998 .. 2.7999999999999999]\n",
      "roots = [[0.29999999999999515 .. 0.30000000000000505], \n",
      " [0.39999999999999130 .. 0.40000000000000863], \n",
      " [0.48299999999998877 .. 0.48300000000000043]]\n",
      "running f_bool: 1 items in 0.00 seconds\n",
      "seg_domain = [2.9000000000000003 .. 2.9000000000000004]\n",
      "roots = [[0.29999999999999515 .. 0.30000000000000505], \n",
      " [0.39999999999999130 .. 0.40000000000000863], \n",
      " [0.48299999999998877 .. 0.48300000000000043]]\n",
      "running f_bool: 1 items in 0.00 seconds\n",
      "seg_domain = [3.0000000000000000 .. 3.0000000000000000]\n",
      "roots = [[0.29999999999999515 .. 0.30000000000000505], \n",
      " [0.39999999999999130 .. 0.40000000000000863], \n",
      " [0.48299999999998877 .. 0.48300000000000043]]\n",
      "running f_bool: 1 items in 0.00 seconds\n",
      "seg_domain = [3.1000000000000000 .. 3.1000000000000001]\n",
      "roots = [[0.29999999999999515 .. 0.30000000000000505], \n",
      " [0.39999999999999130 .. 0.40000000000000863], \n",
      " [0.48299999999998877 .. 0.48300000000000043]]\n",
      "running f_bool: 1 items in 0.00 seconds\n",
      "seg_domain = [3.1999999999999997 .. 3.1999999999999998]\n",
      "roots = [[0.29999999999999515 .. 0.30000000000000505], \n",
      " [0.39999999999999130 .. 0.40000000000000863], \n",
      " [0.48299999999998877 .. 0.48300000000000043]]\n",
      "running f_bool: 1 items in 0.00 seconds\n",
      "seg_domain = [3.3000000000000002 .. 3.3000000000000003]\n",
      "roots = [[0.29999999999999515 .. 0.30000000000000505], \n",
      " [0.39999999999999130 .. 0.40000000000000863], \n",
      " [0.48299999999998877 .. 0.48300000000000043]]\n",
      "running f_bool: 1 items in 0.00 seconds\n",
      "seg_domain = [3.3999999999999999 .. 3.4000000000000000]\n",
      "roots = [[0.29999999999999515 .. 0.30000000000000505], \n",
      " [0.39999999999999130 .. 0.40000000000000863], \n",
      " [0.48299999999998877 .. 0.48300000000000043]]\n",
      "running f_bool: 1 items in 0.00 seconds\n",
      "seg_domain = [3.5000000000000000 .. 3.5000000000000000]\n",
      "roots = [[0.29999999999999515 .. 0.30000000000000505], \n",
      " [0.39999999999999130 .. 0.40000000000000863], \n",
      " [0.48299999999998877 .. 0.48300000000000043]]\n",
      "running f_bool: 1 items in 0.00 seconds\n",
      "seg_domain = [3.5999999999999996 .. 3.5999999999999997]\n",
      "roots = [[0.29999999999999515 .. 0.30000000000000505], \n",
      " [0.39999999999999130 .. 0.40000000000000863], \n",
      " [0.48299999999998877 .. 0.48300000000000043]]\n",
      "running f_bool: 1 items in 0.00 seconds\n",
      "seg_domain = [3.7000000000000001 .. 3.7000000000000002]\n",
      "roots = [[0.29999999999999515 .. 0.30000000000000505], \n",
      " [0.39999999999999130 .. 0.40000000000000863], \n",
      " [0.48299999999998877 .. 0.48300000000000043]]\n",
      "running f_bool: 1 items in 0.00 seconds\n",
      "seg_domain = [3.7999999999999998 .. 3.7999999999999999]\n",
      "roots = [[0.29999999999999515 .. 0.30000000000000505], \n",
      " [0.39999999999999130 .. 0.40000000000000863], \n",
      " [0.48299999999998877 .. 0.48300000000000043]]\n",
      "running f_bool: 1 items in 0.00 seconds\n",
      "seg_domain = [3.9000000000000003 .. 3.9000000000000004]\n",
      "roots = [[0.29999999999999515 .. 0.30000000000000505], \n",
      " [0.39999999999999130 .. 0.40000000000000863], \n",
      " [0.48299999999998877 .. 0.48300000000000043]]\n",
      "running f_bool: 1 items in 0.00 seconds\n",
      "seg_domain = [4.0000000000000000 .. 4.0000000000000000]\n",
      "roots = [[0.29999999999999515 .. 0.30000000000000505], \n",
      " [0.39999999999999130 .. 0.40000000000000863], \n",
      " [0.48299999999998877 .. 0.48300000000000043]]\n",
      "running f_bool: 1 items in 0.00 seconds\n",
      "signal given bool roots: 1 items in 0.04 seconds\n",
      "Monitoring Signal for x6 > 1.40000000000000: 1 items in 0.65 seconds\n",
      "Monitored signal in 0.6483335549710318 sec\n",
      "ran \"root amalgamation\" 4 times in 7.152557373046875e-06\n",
      "ran \"check boolean [unguarded]\" 42 times in 0.020258188247680664\n",
      "ran \"mask intersect check\" 1334 times in 0.002500772476196289\n",
      "ran \"whole domain eval\" 4 times in 0.007393836975097656\n",
      "ran \"observer.check\" 42 times in 0.022013187408447266\n",
      "ran \"tentative eval\" 56 times in 0.051756858825683594\n",
      "ran \"prepare in check\" 42 times in 0.00010728836059570312\n",
      "ran \"composing flowpipe\" 7 times in 0.14606142044067383\n",
      "ran \"post retrieve\" 4 times in 2.4557113647460938e-05\n",
      "ran \"root detection\" 4 times in 0.014520645141601562\n",
      "ran \"check boolean [guarded]\" 42 times in 0.02062201499938965\n",
      "Run done in 44.92426609992981 sec\n",
      "options: {'mask': Mask([0.0000000000000000 .. 4.0000000000000000], [[0.0048028783727901138 .. 0.0048028783727901139], [0.10000000000000000 .. 0.10000000000000001], [0.19999999999999998 .. 0.19999999999999999], [0.30000000000000004 .. 0.30000000000000005], [0.39999999999999996 .. 0.39999999999999997], [0.48300000000000042 .. 0.48300000000000043], [0.50000000000000000 .. 0.50000000000000000], [0.59999999999999997 .. 0.59999999999999998], [0.70000000000000006 .. 0.70000000000000007], [0.79999999999999993 .. 0.79999999999999994], [0.90000000000000002 .. 0.90000000000000003], [1.0000000000000000 .. 1.0000000000000000], [1.1000000000000000 .. 1.1000000000000001], [1.1999999999999999 .. 1.2000000000000000], [1.3000000000000000 .. 1.3000000000000001], [1.3999999999999999 .. 1.4000000000000000], [1.5000000000000000 .. 1.5000000000000000], [1.5999999999999998 .. 1.5999999999999999], [1.7000000000000001 .. 1.7000000000000002], [1.7999999999999998 .. 1.7999999999999999], [1.9000000000000001 .. 1.9000000000000002], [2.0000000000000000 .. 2.0000000000000000], [2.1000000000000000 .. 2.1000000000000001], [2.1999999999999997 .. 2.1999999999999998], [2.3000000000000002 .. 2.3000000000000003], [2.3999999999999999 .. 2.4000000000000000], [2.5000000000000000 .. 2.5000000000000000], [2.5999999999999996 .. 2.5999999999999997], [2.7000000000000001 .. 2.7000000000000002], [2.7999999999999998 .. 2.7999999999999999], [2.9000000000000003 .. 2.9000000000000004], [3.0000000000000000 .. 3.0000000000000000], [3.1000000000000000 .. 3.1000000000000001], [3.1999999999999997 .. 3.1999999999999998], [3.3000000000000002 .. 3.3000000000000003], [3.3999999999999999 .. 3.4000000000000000], [3.5000000000000000 .. 3.5000000000000000], [3.5999999999999996 .. 3.5999999999999997], [3.7000000000000001 .. 3.7000000000000002], [3.7999999999999998 .. 3.7999999999999999], [3.9000000000000003 .. 3.9000000000000004], [4.0000000000000000 .. 4.0000000000000000]])}\n"
     ]
    },
    {
     "name": "stderr",
     "output_type": "stream",
     "text": [
      "/usr/lib64/python3.7/site-packages/sage/plot/contour_plot.py:205: UserWarning: No contour levels were found within the data range.\n",
      "  linewidths=linewidths, linestyles=linestyles)\n"
     ]
    },
    {
     "data": {
      "image/png": "[encoded data removed]",
      "text/plain": [
       "Graphics object consisting of 2 graphics primitives"
      ]
     },
     "execution_count": 35,
     "metadata": {},
     "output_type": "execute_result"
    }
   ],
   "source": [
    "sigP2 = test_monitoring(P, 4, mask=sigQz.to_mask_and() & ~zebra_mask)[1]\n",
    "sigP2.plot()"
   ]
  },
  {
   "cell_type": "code",
   "execution_count": 36,
   "metadata": {},
   "outputs": [
    {
     "name": "stderr",
     "output_type": "stream",
     "text": [
      "/usr/lib64/python3.7/site-packages/sage/plot/contour_plot.py:205: UserWarning: No contour levels were found within the data range.\n",
      "  linewidths=linewidths, linestyles=linestyles)\n"
     ]
    },
    {
     "data": {
      "image/png": "[encoded data removed]",
      "text/plain": [
       "Graphics object consisting of 2 graphics primitives"
      ]
     },
     "execution_count": 36,
     "metadata": {},
     "output_type": "execute_result"
    }
   ],
   "source": [
    "(sigPz & sigQz & sigP2).plot()"
   ]
  },
  {
   "cell_type": "code",
   "execution_count": 37,
   "metadata": {},
   "outputs": [
    {
     "name": "stdout",
     "output_type": "stream",
     "text": [
      "Precomposing Contexts: 1 items in 0.00 seconds\n",
      "calling reach with y0 = ['[0.97999999999999998 .. 1.0200000000000001]', '[1.2799999999999998 .. 1.3200000000000001]', '[0.079999999999999987 .. 0.12000000000000001]', '[0.079999999999999987 .. 0.12000000000000001]', '[0.079999999999999987 .. 0.12000000000000001]', '[1.2799999999999998 .. 1.3200000000000001]', '[2.4799999999999999 .. 2.5200000000000001]', '[0.57999999999999996 .. 0.62000000000000011]', '[1.2799999999999998 .. 1.3200000000000001]']\n",
      "ode in polynomial ring\n",
      "crude_roots = False\n",
      "_handle_initials called!\n",
      "vars = [x1, x2, x3, x4, x5, x6, x7, x8, x9]\n",
      "C = [0.98..1.02]\n",
      "C = [1.2799999999999998..1.32]\n",
      "C = [0.07999999999999999..0.12000000000000001]\n",
      "C = [0.07999999999999999..0.12000000000000001]\n",
      "C = [0.07999999999999999..0.12000000000000001]\n",
      "C = [1.2799999999999998..1.32]\n",
      "C = [2.48..2.52]\n",
      "C = [0.58..0.6200000000000001]\n",
      "C = [1.2799999999999998..1.32]\n",
      "integrationScheme = 7\n",
      "Running Flow*: 1 items in 45.63 seconds\n",
      "Computed 1334 flowpipes in 45.62852983202902 sec\n",
      "PolyObserver(x6 - 1.4000000000000000?, <flowstar.reachability.Reach object at 0x55f0842f0670>, -0.10000000000000000?*x1*x6 - x2*x6 - 2*x6*x8 + 50*x3 + 100*x4 + 50*x5 - x6 symbolic_composition=False, tentative_unpreconditioning=True, mask=None)\n",
      "symbolic_composition=False, tentative_unpreconditioning=True\n",
      "roots(space_domain=None, epsilon=1e-05, verbosity=0)\n",
      "top-level root detection: 1 items in 5.80 seconds\n",
      "roots = [[0.0048028783727901138 .. 0.020435765977123051], [0.20345478283219919 .. 0.48300000000000043]]\n",
      "domain = [0.0000000000000000 .. 3.9999999999999996]\n",
      "roots = [[0.0048028783727901138 .. 0.020435765977123051], \n",
      " [0.20345478283219919 .. 0.48300000000000043]]\n",
      "seg_domain = [0.0000000000000000 .. 3.9999999999999996]\n",
      "roots = [[0.0048028783727901138 .. 0.020435765977123051], \n",
      " [0.20345478283219919 .. 0.48300000000000043]]\n",
      "running f_bool: 1 items in 0.00 seconds\n",
      "running f_bool: 1 items in 0.00 seconds\n",
      "running f_bool: 1 items in 0.00 seconds\n",
      "signal given bool roots: 1 items in 0.00 seconds\n",
      "PolyObserver(-x6 + 1, <flowstar.reachability.Reach object at 0x55f0842f0670>, 0.10000000000000000?*x1*x6 + x2*x6 + 2*x6*x8 - 50*x3 - 100*x4 - 50*x5 + x6 symbolic_composition=False, tentative_unpreconditioning=True, mask=None)\n",
      "symbolic_composition=False, tentative_unpreconditioning=True\n",
      "roots(space_domain=None, epsilon=1e-05, verbosity=0)\n",
      "top-level root detection: 1 items in 6.10 seconds\n",
      "roots = [[0.71099999999997254 .. 0.96745983959350124]]\n",
      "domain = [0.0000000000000000 .. 3.9999999999999996]\n",
      "roots = [[0.71099999999997254 .. 0.96745983959350124]]\n",
      "seg_domain = [0.0000000000000000 .. 3.9999999999999996]\n",
      "roots = [[0.71099999999997254 .. 0.96745983959350124]]\n",
      "running f_bool: 1 items in 0.00 seconds\n",
      "running f_bool: 1 items in 0.00 seconds\n",
      "signal given bool roots: 1 items in 0.00 seconds\n",
      "Monitoring Signal for x6 > 1.40000000000000 & x6 < 1: 1 items in 12.59 seconds\n",
      "Monitored signal in 12.592434804973891 sec\n",
      "ran \"root amalgamation\" 186 times in 0.00022411346435546875\n",
      "ran \"check boolean [unguarded]\" 5 times in 0.0004904270172119141\n",
      "ran \"mask intersect check\" 2668 times in 0.0017137527465820312\n",
      "ran \"whole domain eval\" 293 times in 0.5405848026275635\n",
      "ran \"observer.check\" 5 times in 0.00074005126953125\n",
      "ran \"tentative eval\" 2566 times in 2.234846591949463\n",
      "ran \"prepare in check\" 5 times in 1.5735626220703125e-05\n",
      "ran \"composing flowpipe\" 293 times in 8.345794200897217\n",
      "ran \"post retrieve\" 186 times in 0.0013840198516845703\n",
      "ran \"root detection\" 186 times in 0.7279939651489258\n",
      "ran \"check boolean [guarded]\" 5 times in 0.0005338191986083984\n",
      "Run done in 58.433678150177 sec\n",
      "options: {'use_masks': False}\n"
     ]
    },
    {
     "name": "stderr",
     "output_type": "stream",
     "text": [
      "/usr/lib64/python3.7/site-packages/sage/plot/contour_plot.py:205: UserWarning: No contour levels were found within the data range.\n",
      "  linewidths=linewidths, linestyles=linestyles)\n"
     ]
    },
    {
     "data": {
      "image/png": "[encoded data removed]",
      "text/plain": [
       "Graphics object consisting of 2 graphics primitives"
      ]
     },
     "execution_count": 37,
     "metadata": {},
     "output_type": "execute_result"
    }
   ],
   "source": [
    "sigPQ = test_monitoring(P & Q, 4, use_masks=False)[1]\n",
    "sigPQ.plot()"
   ]
  },
  {
   "cell_type": "code",
   "execution_count": 38,
   "metadata": {},
   "outputs": [
    {
     "name": "stdout",
     "output_type": "stream",
     "text": [
      "Precomposing Contexts: 1 items in 0.00 seconds\n",
      "calling reach with y0 = ['[0.97999999999999998 .. 1.0200000000000001]', '[1.2799999999999998 .. 1.3200000000000001]', '[0.079999999999999987 .. 0.12000000000000001]', '[0.079999999999999987 .. 0.12000000000000001]', '[0.079999999999999987 .. 0.12000000000000001]', '[1.2799999999999998 .. 1.3200000000000001]', '[2.4799999999999999 .. 2.5200000000000001]', '[0.57999999999999996 .. 0.62000000000000011]', '[1.2799999999999998 .. 1.3200000000000001]']\n",
      "ode in polynomial ring\n",
      "crude_roots = False\n",
      "_handle_initials called!\n",
      "vars = [x1, x2, x3, x4, x5, x6, x7, x8, x9]\n",
      "C = [0.98..1.02]\n",
      "C = [1.2799999999999998..1.32]\n",
      "C = [0.07999999999999999..0.12000000000000001]\n",
      "C = [0.07999999999999999..0.12000000000000001]\n",
      "C = [0.07999999999999999..0.12000000000000001]\n",
      "C = [1.2799999999999998..1.32]\n",
      "C = [2.48..2.52]\n",
      "C = [0.58..0.6200000000000001]\n",
      "C = [1.2799999999999998..1.32]\n",
      "integrationScheme = 7\n",
      "Running Flow*: 1 items in 48.63 seconds\n",
      "Computed 1334 flowpipes in 48.63119930704124 sec\n",
      "PolyObserver(x6 - 1.4000000000000000?, <flowstar.reachability.Reach object at 0x55f08bbcbda0>, -0.10000000000000000?*x1*x6 - x2*x6 - 2*x6*x8 + 50*x3 + 100*x4 + 50*x5 - x6 symbolic_composition=False, tentative_unpreconditioning=True, mask=Mask([0.0000000000000000 .. 4.0009999999999995], [[0.0000000000000000 .. 4.0009999999999995]]))\n",
      "symbolic_composition=False, tentative_unpreconditioning=True\n",
      "roots(space_domain=None, epsilon=1e-05, verbosity=0)\n",
      "top-level root detection: 1 items in 5.29 seconds\n",
      "roots = [[0.0048028783727901138 .. 0.020435765977123051], [0.20345478283219922 .. 0.48300000000000043]]\n",
      "domain = [0.0000000000000000 .. 3.9999999999999996]\n",
      "roots = [[0.0048028783727901138 .. 0.020435765977123051], \n",
      " [0.20345478283219922 .. 0.48300000000000043]]\n",
      "seg_domain = [0.0000000000000000 .. 4.0009999999999995]\n",
      "roots = [[0.0048028783727901138 .. 0.020435765977123051], \n",
      " [0.20345478283219922 .. 0.48300000000000043]]\n",
      "running f_bool: 1 items in 0.00 seconds\n",
      "running f_bool: 1 items in 0.00 seconds\n",
      "running f_bool: 1 items in 0.00 seconds\n",
      "signal given bool roots: 1 items in 0.00 seconds\n",
      "PolyObserver(-x6 + 1, <flowstar.reachability.Reach object at 0x55f08bbcbda0>, 0.10000000000000000?*x1*x6 + x2*x6 + 2*x6*x8 - 50*x3 - 100*x4 - 50*x5 + x6 symbolic_composition=False, tentative_unpreconditioning=True, mask=Mask([0.0000000000000000 .. 4.0009999999999995], [[0.0048028783727901138 .. 0.48300000000000043]]))\n",
      "symbolic_composition=False, tentative_unpreconditioning=True\n",
      "roots(space_domain=None, epsilon=1e-05, verbosity=0)\n",
      "top-level root detection: 1 items in 0.24 seconds\n",
      "roots = []\n",
      "domain = [0.0000000000000000 .. 3.9999999999999996]\n",
      "roots = []\n",
      "seg_domain = [0.0048028783727901138 .. 0.48300000000000043]\n",
      "roots = []\n",
      "running f_bool: 1 items in 0.00 seconds\n",
      "signal given bool roots: 1 items in 0.00 seconds\n",
      "Monitoring Signal for x6 > 1.40000000000000 & x6 < 1: 1 items in 6.20 seconds\n",
      "Monitored signal in 6.196698247978929 sec\n",
      "ran \"root amalgamation\" 100 times in 0.00016617774963378906\n",
      "ran \"check boolean [unguarded]\" 4 times in 0.0002646446228027344\n",
      "ran \"mask intersect check\" 2668 times in 0.003564119338989258\n",
      "ran \"whole domain eval\" 204 times in 0.36212825775146484\n",
      "ran \"observer.check\" 4 times in 0.0004792213439941406\n",
      "ran \"tentative eval\" 1393 times in 1.118196964263916\n",
      "ran \"prepare in check\" 4 times in 1.4066696166992188e-05\n",
      "ran \"composing flowpipe\" 204 times in 3.656719207763672\n",
      "ran \"post retrieve\" 100 times in 0.0007100105285644531\n",
      "ran \"root detection\" 100 times in 0.36008191108703613\n",
      "ran \"check boolean [guarded]\" 4 times in 0.0003008842468261719\n",
      "Run done in 55.09126329421997 sec\n",
      "options: {'use_masks': True}\n"
     ]
    },
    {
     "name": "stderr",
     "output_type": "stream",
     "text": [
      "/usr/lib64/python3.7/site-packages/sage/plot/contour_plot.py:205: UserWarning: No contour levels were found within the data range.\n",
      "  linewidths=linewidths, linestyles=linestyles)\n"
     ]
    },
    {
     "data": {
      "image/png": "[encoded data removed]",
      "text/plain": [
       "Graphics object consisting of 2 graphics primitives"
      ]
     },
     "execution_count": 38,
     "metadata": {},
     "output_type": "execute_result"
    }
   ],
   "source": [
    "sigPQ = test_monitoring(P & Q, 4, use_masks=True)[1]\n",
    "sigPQ.plot()"
   ]
  },
  {
   "cell_type": "code",
   "execution_count": null,
   "metadata": {},
   "outputs": [],
   "source": []
  }
 ],
 "metadata": {
  "kernelspec": {
   "display_name": "SageMath 8.8",
   "language": "sage",
   "name": "sagemath"
  },
  "language_info": {
   "codemirror_mode": {
    "name": "ipython",
    "version": 3
   },
   "file_extension": ".py",
   "mimetype": "text/x-python",
   "name": "python",
   "nbconvert_exporter": "python",
   "pygments_lexer": "ipython3",
   "version": "3.7.6"
  },
  "notify_time": "5"
 },
 "nbformat": 4,
 "nbformat_minor": 2
}
