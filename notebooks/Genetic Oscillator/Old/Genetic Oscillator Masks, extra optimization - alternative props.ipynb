{
 "cells": [
  {
   "cell_type": "code",
   "execution_count": 1,
   "metadata": {},
   "outputs": [],
   "source": [
    "%display latex\n",
    "import sys\n",
    "\n",
    "sys.path.insert(0, \"/home/twright/Documents/PhD/Notebooks\")\n",
    "\n",
    "from lbuc import *\n",
    "from flowstar import *\n",
    "from lbuc.bondcalculus import *"
   ]
  },
  {
   "cell_type": "code",
   "execution_count": 2,
   "metadata": {},
   "outputs": [],
   "source": [
    "R.<x1,x2,x3,x4,x5,x6,x7,x8,x9> = RIF[]"
   ]
  },
  {
   "cell_type": "code",
   "execution_count": 3,
   "metadata": {},
   "outputs": [],
   "source": [
    "y = vector([\n",
    "    10*x3 - RIF('0.1')*x1*x6,\n",
    "    100*x4 - x1*x2,\n",
    "    RIF('0.1')*x1*x6 - 50*x3,\n",
    "    x2*x6 - 100*x4,\n",
    "    5*x3 + RIF('0.5')*x1 - 10*x5,\n",
    "    50*x5 + 50*x3 + 100*x4 - x6*(RIF('0.1')*x1 + x2 + 2*x8 + 1),\n",
    "    50*x4 + RIF('0.01')*x2 - RIF('0.5')*x7,\n",
    "    RIF('0.5')*x7 - 2*x6*x8 + x9 - RIF('0.2')*x8,\n",
    "    2*x6*x8 - x9,\n",
    "])"
   ]
  },
  {
   "cell_type": "code",
   "execution_count": 4,
   "metadata": {},
   "outputs": [
    {
     "data": {
      "text/html": [
       "<html><script type=\"math/tex; mode=display\">\\newcommand{\\Bold}[1]{\\mathbf{#1}}\\left(-0.10000000000000000? x_{1} x_{6} + 10 x_{3},\\,-x_{1} x_{2} + 100 x_{4},\\,0.10000000000000000? x_{1} x_{6} - 50 x_{3},\\,x_{2} x_{6} - 100 x_{4},\\,0.50000000000000000? x_{1} + 5 x_{3} - 10 x_{5},\\,-0.10000000000000000? x_{1} x_{6} - x_{2} x_{6} - 2 x_{6} x_{8} + 50 x_{3} + 100 x_{4} + 50 x_{5} - x_{6},\\,0.01000000000000000? x_{2} + 50 x_{4} - 0.50000000000000000? x_{7},\\,-2 x_{6} x_{8} + 0.50000000000000000? x_{7} - 0.2000000000000000? x_{8} + x_{9},\\,2 x_{6} x_{8} - x_{9}\\right)</script></html>"
      ],
      "text/plain": [
       "(-0.10000000000000000?*x1*x6 + 10*x3, -x1*x2 + 100*x4, 0.10000000000000000?*x1*x6 - 50*x3, x2*x6 - 100*x4, 0.50000000000000000?*x1 + 5*x3 - 10*x5, -0.10000000000000000?*x1*x6 - x2*x6 - 2*x6*x8 + 50*x3 + 100*x4 + 50*x5 - x6, 0.01000000000000000?*x2 + 50*x4 - 0.50000000000000000?*x7, -2*x6*x8 + 0.50000000000000000?*x7 - 0.2000000000000000?*x8 + x9, 2*x6*x8 - x9)"
      ]
     },
     "execution_count": 4,
     "metadata": {},
     "output_type": "execute_result"
    }
   ],
   "source": [
    "y"
   ]
  },
  {
   "cell_type": "code",
   "execution_count": 5,
   "metadata": {},
   "outputs": [
    {
     "data": {
      "text/html": [
       "<div class=\"notruncate\">\n",
       "<table  class=\"table_form\">\n",
       "<tbody>\n",
       "<tr class =\"row-a\">\n",
       "<td><script type=\"math/tex\">-0.10000000000000000? x_{1} x_{6} + 10 x_{3}</script></td>\n",
       "</tr>\n",
       "<tr class =\"row-b\">\n",
       "<td><script type=\"math/tex\">-x_{1} x_{2} + 100 x_{4}</script></td>\n",
       "</tr>\n",
       "<tr class =\"row-a\">\n",
       "<td><script type=\"math/tex\">0.10000000000000000? x_{1} x_{6} - 50 x_{3}</script></td>\n",
       "</tr>\n",
       "<tr class =\"row-b\">\n",
       "<td><script type=\"math/tex\">x_{2} x_{6} - 100 x_{4}</script></td>\n",
       "</tr>\n",
       "<tr class =\"row-a\">\n",
       "<td><script type=\"math/tex\">0.50000000000000000? x_{1} + 5 x_{3} - 10 x_{5}</script></td>\n",
       "</tr>\n",
       "<tr class =\"row-b\">\n",
       "<td><script type=\"math/tex\">-0.10000000000000000? x_{1} x_{6} - x_{2} x_{6} - 2 x_{6} x_{8} + 50 x_{3} + 100 x_{4} + 50 x_{5} - x_{6}</script></td>\n",
       "</tr>\n",
       "<tr class =\"row-a\">\n",
       "<td><script type=\"math/tex\">0.01000000000000000? x_{2} + 50 x_{4} - 0.50000000000000000? x_{7}</script></td>\n",
       "</tr>\n",
       "<tr class =\"row-b\">\n",
       "<td><script type=\"math/tex\">-2 x_{6} x_{8} + 0.50000000000000000? x_{7} - 0.2000000000000000? x_{8} + x_{9}</script></td>\n",
       "</tr>\n",
       "<tr class =\"row-a\">\n",
       "<td><script type=\"math/tex\">2 x_{6} x_{8} - x_{9}</script></td>\n",
       "</tr>\n",
       "</tbody>\n",
       "</table>\n",
       "</div>"
      ],
      "text/plain": [
       "  -0.10000000000000000?*x1*x6 + 10*x3\n",
       "  -x1*x2 + 100*x4\n",
       "  0.10000000000000000?*x1*x6 - 50*x3\n",
       "  x2*x6 - 100*x4\n",
       "  0.50000000000000000?*x1 + 5*x3 - 10*x5\n",
       "  -0.10000000000000000?*x1*x6 - x2*x6 - 2*x6*x8 + 50*x3 + 100*x4 + 50*x5 - x6\n",
       "  0.01000000000000000?*x2 + 50*x4 - 0.50000000000000000?*x7\n",
       "  -2*x6*x8 + 0.50000000000000000?*x7 - 0.2000000000000000?*x8 + x9\n",
       "  2*x6*x8 - x9"
      ]
     },
     "execution_count": 5,
     "metadata": {},
     "output_type": "execute_result"
    }
   ],
   "source": [
    "table([[yi] for yi in y])"
   ]
  },
  {
   "cell_type": "code",
   "execution_count": 6,
   "metadata": {},
   "outputs": [],
   "source": [
    "y0 = [\n",
    "    RIF('[0.98, 1.02]'),\n",
    "    RIF('[1.28, 1.32]'),\n",
    "    RIF('[0.08, 0.12]'),\n",
    "    RIF('[0.08, 0.12]'), # x4\n",
    "    RIF('[0.08, 0.12]'),\n",
    "    RIF('[1.28, 1.32]'), # x6\n",
    "    RIF('[2.48, 2.52]'),\n",
    "    RIF('[0.58, 0.62]'),\n",
    "    RIF('[1.28, 1.32]'),\n",
    "]"
   ]
  },
  {
   "cell_type": "code",
   "execution_count": 7,
   "metadata": {},
   "outputs": [
    {
     "data": {
      "text/html": [
       "<div class=\"notruncate\">\n",
       "<table  class=\"table_form\">\n",
       "<tbody>\n",
       "<tr class =\"row-a\">\n",
       "<td><script type=\"math/tex\">0.979999999999999</script></td>\n",
       "<td><script type=\"math/tex\">1.02000000000001</script></td>\n",
       "</tr>\n",
       "<tr class =\"row-b\">\n",
       "<td><script type=\"math/tex\">1.27999999999999</script></td>\n",
       "<td><script type=\"math/tex\">1.32000000000001</script></td>\n",
       "</tr>\n",
       "<tr class =\"row-a\">\n",
       "<td><script type=\"math/tex\">0.0799999999999999</script></td>\n",
       "<td><script type=\"math/tex\">0.120000000000001</script></td>\n",
       "</tr>\n",
       "<tr class =\"row-b\">\n",
       "<td><script type=\"math/tex\">0.0799999999999999</script></td>\n",
       "<td><script type=\"math/tex\">0.120000000000001</script></td>\n",
       "</tr>\n",
       "<tr class =\"row-a\">\n",
       "<td><script type=\"math/tex\">0.0799999999999999</script></td>\n",
       "<td><script type=\"math/tex\">0.120000000000001</script></td>\n",
       "</tr>\n",
       "<tr class =\"row-b\">\n",
       "<td><script type=\"math/tex\">1.27999999999999</script></td>\n",
       "<td><script type=\"math/tex\">1.32000000000001</script></td>\n",
       "</tr>\n",
       "<tr class =\"row-a\">\n",
       "<td><script type=\"math/tex\">2.47999999999999</script></td>\n",
       "<td><script type=\"math/tex\">2.52000000000001</script></td>\n",
       "</tr>\n",
       "<tr class =\"row-b\">\n",
       "<td><script type=\"math/tex\">0.579999999999999</script></td>\n",
       "<td><script type=\"math/tex\">0.620000000000001</script></td>\n",
       "</tr>\n",
       "<tr class =\"row-a\">\n",
       "<td><script type=\"math/tex\">1.27999999999999</script></td>\n",
       "<td><script type=\"math/tex\">1.32000000000001</script></td>\n",
       "</tr>\n",
       "</tbody>\n",
       "</table>\n",
       "</div>"
      ],
      "text/plain": [
       "  0.979999999999999    1.02000000000001\n",
       "  1.27999999999999     1.32000000000001\n",
       "  0.0799999999999999   0.120000000000001\n",
       "  0.0799999999999999   0.120000000000001\n",
       "  0.0799999999999999   0.120000000000001\n",
       "  1.27999999999999     1.32000000000001\n",
       "  2.47999999999999     2.52000000000001\n",
       "  0.579999999999999    0.620000000000001\n",
       "  1.27999999999999     1.32000000000001"
      ]
     },
     "execution_count": 7,
     "metadata": {},
     "output_type": "execute_result"
    }
   ],
   "source": [
    "table([y0i.endpoints() for y0i in y0])"
   ]
  },
  {
   "cell_type": "code",
   "execution_count": 8,
   "metadata": {},
   "outputs": [
    {
     "data": {
      "text/html": [
       "<html><script type=\"math/tex; mode=display\">\\newcommand{\\Bold}[1]{\\mathbf{#1}}\\Bold{I} \\Bold{R}[x_{1}, x_{2}, x_{3}, x_{4}, x_{5}, x_{6}, x_{7}, x_{8}, x_{9}]</script></html>"
      ],
      "text/plain": [
       "Multivariate Polynomial Ring in x1, x2, x3, x4, x5, x6, x7, x8, x9 over Real Interval Field with 53 bits of precision"
      ]
     },
     "execution_count": 8,
     "metadata": {},
     "output_type": "execute_result"
    }
   ],
   "source": [
    "R"
   ]
  },
  {
   "cell_type": "code",
   "execution_count": 9,
   "metadata": {},
   "outputs": [
    {
     "data": {
      "text/html": [
       "<html><script type=\"math/tex; mode=display\">\\newcommand{\\Bold}[1]{\\mathbf{#1}}\\verb|System(R,|\\phantom{\\verb!x!}\\verb|(x1,|\\phantom{\\verb!x!}\\verb|x2,|\\phantom{\\verb!x!}\\verb|x3,|\\phantom{\\verb!x!}\\verb|x4,|\\phantom{\\verb!x!}\\verb|x5,|\\phantom{\\verb!x!}\\verb|x6,|\\phantom{\\verb!x!}\\verb|x7,|\\phantom{\\verb!x!}\\verb|x8,|\\phantom{\\verb!x!}\\verb|x9),|\\phantom{\\verb!x!}\\verb|[[0.97999999999999998|\\phantom{\\verb!x!}\\verb|..|\\phantom{\\verb!x!}\\verb|1.0200000000000001],|\\phantom{\\verb!x!}\\verb|[1.2799999999999998|\\phantom{\\verb!x!}\\verb|..|\\phantom{\\verb!x!}\\verb|1.3200000000000001],|\\phantom{\\verb!x!}\\verb|[0.079999999999999987|\\phantom{\\verb!x!}\\verb|..|\\phantom{\\verb!x!}\\verb|0.12000000000000001],|\\phantom{\\verb!x!}\\verb|[0.079999999999999987|\\phantom{\\verb!x!}\\verb|..|\\phantom{\\verb!x!}\\verb|0.12000000000000001],|\\phantom{\\verb!x!}\\verb|[0.079999999999999987|\\phantom{\\verb!x!}\\verb|..|\\phantom{\\verb!x!}\\verb|0.12000000000000001],|\\phantom{\\verb!x!}\\verb|[1.2799999999999998|\\phantom{\\verb!x!}\\verb|..|\\phantom{\\verb!x!}\\verb|1.3200000000000001],|\\phantom{\\verb!x!}\\verb|[2.4799999999999999|\\phantom{\\verb!x!}\\verb|..|\\phantom{\\verb!x!}\\verb|2.5200000000000001],|\\phantom{\\verb!x!}\\verb|[0.57999999999999996|\\phantom{\\verb!x!}\\verb|..|\\phantom{\\verb!x!}\\verb|0.62000000000000011],|\\phantom{\\verb!x!}\\verb|[1.2799999999999998|\\phantom{\\verb!x!}\\verb|..|\\phantom{\\verb!x!}\\verb|1.3200000000000001]],|\\phantom{\\verb!x!}\\verb|(-0.10000000000000000?*x1*x6|\\phantom{\\verb!x!}\\verb|+|\\phantom{\\verb!x!}\\verb|10*x3,|\\phantom{\\verb!x!}\\verb|-x1*x2|\\phantom{\\verb!x!}\\verb|+|\\phantom{\\verb!x!}\\verb|100*x4,|\\phantom{\\verb!x!}\\verb|0.10000000000000000?*x1*x6|\\phantom{\\verb!x!}\\verb|-|\\phantom{\\verb!x!}\\verb|50*x3,|\\phantom{\\verb!x!}\\verb|x2*x6|\\phantom{\\verb!x!}\\verb|-|\\phantom{\\verb!x!}\\verb|100*x4,|\\phantom{\\verb!x!}\\verb|0.50000000000000000?*x1|\\phantom{\\verb!x!}\\verb|+|\\phantom{\\verb!x!}\\verb|5*x3|\\phantom{\\verb!x!}\\verb|-|\\phantom{\\verb!x!}\\verb|10*x5,|\\phantom{\\verb!x!}\\verb|-0.10000000000000000?*x1*x6|\\phantom{\\verb!x!}\\verb|-|\\phantom{\\verb!x!}\\verb|x2*x6|\\phantom{\\verb!x!}\\verb|-|\\phantom{\\verb!x!}\\verb|2*x6*x8|\\phantom{\\verb!x!}\\verb|+|\\phantom{\\verb!x!}\\verb|50*x3|\\phantom{\\verb!x!}\\verb|+|\\phantom{\\verb!x!}\\verb|100*x4|\\phantom{\\verb!x!}\\verb|+|\\phantom{\\verb!x!}\\verb|50*x5|\\phantom{\\verb!x!}\\verb|-|\\phantom{\\verb!x!}\\verb|x6,|\\phantom{\\verb!x!}\\verb|0.01000000000000000?*x2|\\phantom{\\verb!x!}\\verb|+|\\phantom{\\verb!x!}\\verb|50*x4|\\phantom{\\verb!x!}\\verb|-|\\phantom{\\verb!x!}\\verb|0.50000000000000000?*x7,|\\phantom{\\verb!x!}\\verb|-2*x6*x8|\\phantom{\\verb!x!}\\verb|+|\\phantom{\\verb!x!}\\verb|0.50000000000000000?*x7|\\phantom{\\verb!x!}\\verb|-|\\phantom{\\verb!x!}\\verb|0.2000000000000000?*x8|\\phantom{\\verb!x!}\\verb|+|\\phantom{\\verb!x!}\\verb|x9,|\\phantom{\\verb!x!}\\verb|2*x6*x8|\\phantom{\\verb!x!}\\verb|-|\\phantom{\\verb!x!}\\verb|x9),|\\phantom{\\verb!x!}\\verb|varmap=bidict({'x1':|\\phantom{\\verb!x!}\\verb|x1,|\\phantom{\\verb!x!}\\verb|'x2':|\\phantom{\\verb!x!}\\verb|x2,|\\phantom{\\verb!x!}\\verb|'x3':|\\phantom{\\verb!x!}\\verb|x3,|\\phantom{\\verb!x!}\\verb|'x4':|\\phantom{\\verb!x!}\\verb|x4,|\\phantom{\\verb!x!}\\verb|'x5':|\\phantom{\\verb!x!}\\verb|x5,|\\phantom{\\verb!x!}\\verb|'x6':|\\phantom{\\verb!x!}\\verb|x6,|\\phantom{\\verb!x!}\\verb|'x7':|\\phantom{\\verb!x!}\\verb|x7,|\\phantom{\\verb!x!}\\verb|'x8':|\\phantom{\\verb!x!}\\verb|x8,|\\phantom{\\verb!x!}\\verb|'x9':|\\phantom{\\verb!x!}\\verb|x9}))|</script></html>"
      ],
      "text/plain": [
       "System(R, (x1, x2, x3, x4, x5, x6, x7, x8, x9), [[0.97999999999999998 .. 1.0200000000000001], [1.2799999999999998 .. 1.3200000000000001], [0.079999999999999987 .. 0.12000000000000001], [0.079999999999999987 .. 0.12000000000000001], [0.079999999999999987 .. 0.12000000000000001], [1.2799999999999998 .. 1.3200000000000001], [2.4799999999999999 .. 2.5200000000000001], [0.57999999999999996 .. 0.62000000000000011], [1.2799999999999998 .. 1.3200000000000001]], (-0.10000000000000000?*x1*x6 + 10*x3, -x1*x2 + 100*x4, 0.10000000000000000?*x1*x6 - 50*x3, x2*x6 - 100*x4, 0.50000000000000000?*x1 + 5*x3 - 10*x5, -0.10000000000000000?*x1*x6 - x2*x6 - 2*x6*x8 + 50*x3 + 100*x4 + 50*x5 - x6, 0.01000000000000000?*x2 + 50*x4 - 0.50000000000000000?*x7, -2*x6*x8 + 0.50000000000000000?*x7 - 0.2000000000000000?*x8 + x9, 2*x6*x8 - x9), varmap=bidict({'x1': x1, 'x2': x2, 'x3': x3, 'x4': x4, 'x5': x5, 'x6': x6, 'x7': x7, 'x8': x8, 'x9': x9}))"
      ]
     },
     "execution_count": 9,
     "metadata": {},
     "output_type": "execute_result"
    }
   ],
   "source": [
    "sys = System(R, R.gens(), y0, y); sys"
   ]
  },
  {
   "cell_type": "code",
   "execution_count": 10,
   "metadata": {},
   "outputs": [],
   "source": [
    "RReal = RR['x1', 'x2', 'x3', 'x4', 'x5', 'x6', 'x7', 'x8', 'x9']"
   ]
  },
  {
   "cell_type": "code",
   "execution_count": 11,
   "metadata": {},
   "outputs": [
    {
     "data": {
      "text/html": [
       "<html><script type=\"math/tex; mode=display\">\\newcommand{\\Bold}[1]{\\mathbf{#1}}0.100000000000000 x_{1} x_{6} - 50.0000000000000 x_{3}</script></html>"
      ],
      "text/plain": [
       "0.100000000000000*x1*x6 - 50.0000000000000*x3"
      ]
     },
     "execution_count": 11,
     "metadata": {},
     "output_type": "execute_result"
    }
   ],
   "source": [
    "RReal(sys.y[2])"
   ]
  },
  {
   "cell_type": "code",
   "execution_count": 12,
   "metadata": {},
   "outputs": [
    {
     "data": {
      "text/html": [
       "<html><script type=\"math/tex; mode=display\">\\newcommand{\\Bold}[1]{\\mathbf{#1}}\\verb|System(R,|\\phantom{\\verb!x!}\\verb|(x1,|\\phantom{\\verb!x!}\\verb|x2,|\\phantom{\\verb!x!}\\verb|x3,|\\phantom{\\verb!x!}\\verb|x4,|\\phantom{\\verb!x!}\\verb|x5,|\\phantom{\\verb!x!}\\verb|x6,|\\phantom{\\verb!x!}\\verb|x7,|\\phantom{\\verb!x!}\\verb|x8,|\\phantom{\\verb!x!}\\verb|x9),|\\phantom{\\verb!x!}\\verb|[1,|\\phantom{\\verb!x!}\\verb|[1.2999999999999998|\\phantom{\\verb!x!}\\verb|..|\\phantom{\\verb!x!}\\verb|1.2999999999999999],|\\phantom{\\verb!x!}\\verb|[0.10000000000000000|\\phantom{\\verb!x!}\\verb|..|\\phantom{\\verb!x!}\\verb|0.10000000000000001],|\\phantom{\\verb!x!}\\verb|[0.10000000000000000|\\phantom{\\verb!x!}\\verb|..|\\phantom{\\verb!x!}\\verb|0.10000000000000001],|\\phantom{\\verb!x!}\\verb|[0.10000000000000000|\\phantom{\\verb!x!}\\verb|..|\\phantom{\\verb!x!}\\verb|0.10000000000000001],|\\phantom{\\verb!x!}\\verb|[1.2999999999999998|\\phantom{\\verb!x!}\\verb|..|\\phantom{\\verb!x!}\\verb|1.2999999999999999],|\\phantom{\\verb!x!}\\verb|[2.5000000000000000|\\phantom{\\verb!x!}\\verb|..|\\phantom{\\verb!x!}\\verb|2.5000000000000000],|\\phantom{\\verb!x!}\\verb|[0.60000000000000008|\\phantom{\\verb!x!}\\verb|..|\\phantom{\\verb!x!}\\verb|0.60000000000000009],|\\phantom{\\verb!x!}\\verb|[1.2999999999999998|\\phantom{\\verb!x!}\\verb|..|\\phantom{\\verb!x!}\\verb|1.2999999999999999]],|\\phantom{\\verb!x!}\\verb|(-0.100000000000000*x1*x6|\\phantom{\\verb!x!}\\verb|+|\\phantom{\\verb!x!}\\verb|10.0000000000000*x3,|\\phantom{\\verb!x!}\\verb|-x1*x2|\\phantom{\\verb!x!}\\verb|+|\\phantom{\\verb!x!}\\verb|100.000000000000*x4,|\\phantom{\\verb!x!}\\verb|0.100000000000000*x1*x6|\\phantom{\\verb!x!}\\verb|-|\\phantom{\\verb!x!}\\verb|50.0000000000000*x3,|\\phantom{\\verb!x!}\\verb|x2*x6|\\phantom{\\verb!x!}\\verb|-|\\phantom{\\verb!x!}\\verb|100.000000000000*x4,|\\phantom{\\verb!x!}\\verb|0.500000000000000*x1|\\phantom{\\verb!x!}\\verb|+|\\phantom{\\verb!x!}\\verb|5.00000000000000*x3|\\phantom{\\verb!x!}\\verb|-|\\phantom{\\verb!x!}\\verb|10.0000000000000*x5,|\\phantom{\\verb!x!}\\verb|-0.100000000000000*x1*x6|\\phantom{\\verb!x!}\\verb|-|\\phantom{\\verb!x!}\\verb|x2*x6|\\phantom{\\verb!x!}\\verb|-|\\phantom{\\verb!x!}\\verb|2.00000000000000*x6*x8|\\phantom{\\verb!x!}\\verb|+|\\phantom{\\verb!x!}\\verb|50.0000000000000*x3|\\phantom{\\verb!x!}\\verb|+|\\phantom{\\verb!x!}\\verb|100.000000000000*x4|\\phantom{\\verb!x!}\\verb|+|\\phantom{\\verb!x!}\\verb|50.0000000000000*x5|\\phantom{\\verb!x!}\\verb|-|\\phantom{\\verb!x!}\\verb|x6,|\\phantom{\\verb!x!}\\verb|0.0100000000000000*x2|\\phantom{\\verb!x!}\\verb|+|\\phantom{\\verb!x!}\\verb|50.0000000000000*x4|\\phantom{\\verb!x!}\\verb|-|\\phantom{\\verb!x!}\\verb|0.500000000000000*x7,|\\phantom{\\verb!x!}\\verb|-2.00000000000000*x6*x8|\\phantom{\\verb!x!}\\verb|+|\\phantom{\\verb!x!}\\verb|0.500000000000000*x7|\\phantom{\\verb!x!}\\verb|-|\\phantom{\\verb!x!}\\verb|0.200000000000000*x8|\\phantom{\\verb!x!}\\verb|+|\\phantom{\\verb!x!}\\verb|x9,|\\phantom{\\verb!x!}\\verb|2.00000000000000*x6*x8|\\phantom{\\verb!x!}\\verb|-|\\phantom{\\verb!x!}\\verb|x9),|\\phantom{\\verb!x!}\\verb|varmap=bidict({'x1':|\\phantom{\\verb!x!}\\verb|x1,|\\phantom{\\verb!x!}\\verb|'x2':|\\phantom{\\verb!x!}\\verb|x2,|\\phantom{\\verb!x!}\\verb|'x3':|\\phantom{\\verb!x!}\\verb|x3,|\\phantom{\\verb!x!}\\verb|'x4':|\\phantom{\\verb!x!}\\verb|x4,|\\phantom{\\verb!x!}\\verb|'x5':|\\phantom{\\verb!x!}\\verb|x5,|\\phantom{\\verb!x!}\\verb|'x6':|\\phantom{\\verb!x!}\\verb|x6,|\\phantom{\\verb!x!}\\verb|'x7':|\\phantom{\\verb!x!}\\verb|x7,|\\phantom{\\verb!x!}\\verb|'x8':|\\phantom{\\verb!x!}\\verb|x8,|\\phantom{\\verb!x!}\\verb|'x9':|\\phantom{\\verb!x!}\\verb|x9}))|</script></html>"
      ],
      "text/plain": [
       "System(R, (x1, x2, x3, x4, x5, x6, x7, x8, x9), [1, [1.2999999999999998 .. 1.2999999999999999], [0.10000000000000000 .. 0.10000000000000001], [0.10000000000000000 .. 0.10000000000000001], [0.10000000000000000 .. 0.10000000000000001], [1.2999999999999998 .. 1.2999999999999999], [2.5000000000000000 .. 2.5000000000000000], [0.60000000000000008 .. 0.60000000000000009], [1.2999999999999998 .. 1.2999999999999999]], (-0.100000000000000*x1*x6 + 10.0000000000000*x3, -x1*x2 + 100.000000000000*x4, 0.100000000000000*x1*x6 - 50.0000000000000*x3, x2*x6 - 100.000000000000*x4, 0.500000000000000*x1 + 5.00000000000000*x3 - 10.0000000000000*x5, -0.100000000000000*x1*x6 - x2*x6 - 2.00000000000000*x6*x8 + 50.0000000000000*x3 + 100.000000000000*x4 + 50.0000000000000*x5 - x6, 0.0100000000000000*x2 + 50.0000000000000*x4 - 0.500000000000000*x7, -2.00000000000000*x6*x8 + 0.500000000000000*x7 - 0.200000000000000*x8 + x9, 2.00000000000000*x6*x8 - x9), varmap=bidict({'x1': x1, 'x2': x2, 'x3': x3, 'x4': x4, 'x5': x5, 'x6': x6, 'x7': x7, 'x8': x8, 'x9': x9}))"
      ]
     },
     "execution_count": 12,
     "metadata": {},
     "output_type": "execute_result"
    }
   ],
   "source": [
    "sys_real = System(\n",
    "    RReal,\n",
    "    RReal.gens(),\n",
    "    [y0i.center() for y0i in sys.y0],\n",
    "    [RReal(yi) for yi in sys.y],\n",
    ")\n",
    "sys_real"
   ]
  },
  {
   "cell_type": "code",
   "execution_count": 13,
   "metadata": {},
   "outputs": [
    {
     "data": {
      "text/html": [
       "<div class=\"notruncate\">\n",
       "<table  class=\"table_form\">\n",
       "<tbody>\n",
       "<tr class =\"row-a\">\n",
       "<td><script type=\"math/tex\">1.00000000000000</script></td>\n",
       "</tr>\n",
       "<tr class =\"row-b\">\n",
       "<td><script type=\"math/tex\">1.30000000000000</script></td>\n",
       "</tr>\n",
       "<tr class =\"row-a\">\n",
       "<td><script type=\"math/tex\">0.100000000000000</script></td>\n",
       "</tr>\n",
       "<tr class =\"row-b\">\n",
       "<td><script type=\"math/tex\">0.100000000000000</script></td>\n",
       "</tr>\n",
       "<tr class =\"row-a\">\n",
       "<td><script type=\"math/tex\">0.100000000000000</script></td>\n",
       "</tr>\n",
       "<tr class =\"row-b\">\n",
       "<td><script type=\"math/tex\">1.30000000000000</script></td>\n",
       "</tr>\n",
       "<tr class =\"row-a\">\n",
       "<td><script type=\"math/tex\">2.50000000000000</script></td>\n",
       "</tr>\n",
       "<tr class =\"row-b\">\n",
       "<td><script type=\"math/tex\">0.600000000000000</script></td>\n",
       "</tr>\n",
       "<tr class =\"row-a\">\n",
       "<td><script type=\"math/tex\">1.30000000000000</script></td>\n",
       "</tr>\n",
       "</tbody>\n",
       "</table>\n",
       "</div>"
      ],
      "text/plain": [
       "  1.00000000000000\n",
       "  1.30000000000000\n",
       "  0.100000000000000\n",
       "  0.100000000000000\n",
       "  0.100000000000000\n",
       "  1.30000000000000\n",
       "  2.50000000000000\n",
       "  0.600000000000000\n",
       "  1.30000000000000"
      ]
     },
     "execution_count": 13,
     "metadata": {},
     "output_type": "execute_result"
    }
   ],
   "source": [
    "y0_real = [y0i.center() for y0i in sys.y0]\n",
    "table([[y0i] for y0i in y0_real])"
   ]
  },
  {
   "cell_type": "code",
   "execution_count": 14,
   "metadata": {},
   "outputs": [],
   "source": [
    "timepoints = srange(0,10,0.1)"
   ]
  },
  {
   "cell_type": "code",
   "execution_count": 15,
   "metadata": {},
   "outputs": [],
   "source": [
    "sln = desolve_odeint(sys_real.y, y0_real, timepoints, list(sys_real.x))"
   ]
  },
  {
   "cell_type": "code",
   "execution_count": 16,
   "metadata": {},
   "outputs": [
    {
     "data": {
      "image/png": "[encoded data removed]",
      "text/plain": [
       "Graphics object consisting of 1 graphics primitive"
      ]
     },
     "execution_count": 16,
     "metadata": {},
     "output_type": "execute_result"
    }
   ],
   "source": [
    "points(zip(timepoints, [yi[1] for yi in sln]))"
   ]
  },
  {
   "cell_type": "code",
   "execution_count": 17,
   "metadata": {},
   "outputs": [],
   "source": [
    "from scipy.integrate import solve_ivp\n",
    "from lbuc.matricies import vec_to_numpy, mat_to_numpy, convert_vec, sympy_gens"
   ]
  },
  {
   "cell_type": "code",
   "execution_count": 18,
   "metadata": {},
   "outputs": [],
   "source": [
    "f = vec_to_numpy(RReal, sys_real.y)\n",
    "jac = mat_to_numpy(RReal, sage.jacobian(sys_real.y, sys_real.x))"
   ]
  },
  {
   "cell_type": "code",
   "execution_count": 19,
   "metadata": {},
   "outputs": [],
   "source": [
    "sln = solve_ivp(f,\n",
    "                (0, 10),\n",
    "                y0_real,\n",
    "                method='LSODA',\n",
    "                jac=jac,\n",
    "                vectorized=True,\n",
    "                dense_output=True)"
   ]
  },
  {
   "cell_type": "code",
   "execution_count": 20,
   "metadata": {},
   "outputs": [
    {
     "data": {
      "image/png": "[encoded data removed]",
      "text/plain": [
       "Graphics object consisting of 1 graphics primitive"
      ]
     },
     "execution_count": 20,
     "metadata": {},
     "output_type": "execute_result"
    }
   ],
   "source": [
    "plot(lambda t: sln.sol(t)[1], (0, 10))"
   ]
  },
  {
   "cell_type": "code",
   "execution_count": 21,
   "metadata": {},
   "outputs": [
    {
     "name": "stdout",
     "output_type": "stream",
     "text": [
      "calling reach with y0 = ['[0.97999999999999998 .. 1.0200000000000001]', '[1.2799999999999998 .. 1.3200000000000001]', '[0.079999999999999987 .. 0.12000000000000001]', '[0.079999999999999987 .. 0.12000000000000001]', '[0.079999999999999987 .. 0.12000000000000001]', '[1.2799999999999998 .. 1.3200000000000001]', '[2.4799999999999999 .. 2.5200000000000001]', '[0.57999999999999996 .. 0.62000000000000011]', '[1.2799999999999998 .. 1.3200000000000001]']\n",
      "ode in polynomial ring\n",
      "crude_roots = False\n",
      "_handle_initials called!\n",
      "vars = [x1, x2, x3, x4, x5, x6, x7, x8, x9]\n",
      "C = [0.98..1.02]\n",
      "C = [1.2799999999999998..1.32]\n",
      "C = [0.07999999999999999..0.12000000000000001]\n",
      "C = [0.07999999999999999..0.12000000000000001]\n",
      "C = [0.07999999999999999..0.12000000000000001]\n",
      "C = [1.2799999999999998..1.32]\n",
      "C = [2.48..2.52]\n",
      "C = [0.58..0.6200000000000001]\n",
      "C = [1.2799999999999998..1.32]\n",
      "assigning system with dimension 9\n",
      "resulting system has dimension 9\n",
      "run within tmv args\n",
      "integrationScheme = 7\n",
      "Reachability done in 30.25091791152954\n"
     ]
    }
   ],
   "source": [
    "import time\n",
    "t0 = time.time()\n",
    "r = sys.reach(\n",
    "    3, order=4, step=0.003,\n",
    "    precondition=1,\n",
    "    estimation=1e-1,\n",
    "    max_remainder_queue=200,\n",
    "    integration_method=IntegrationMethod.ONLY_PICARD_SYMB,\n",
    "    cutoff_threshold=1e-6)\n",
    "t1 = time.time()\n",
    "print(f\"Reachability done in {t1 - t0}\")"
   ]
  },
  {
   "cell_type": "code",
   "execution_count": 22,
   "metadata": {},
   "outputs": [
    {
     "data": {
      "text/html": [
       "<html><script type=\"math/tex; mode=display\">\\newcommand{\\Bold}[1]{\\mathbf{#1}}1000</script></html>"
      ],
      "text/plain": [
       "1000"
      ]
     },
     "execution_count": 22,
     "metadata": {},
     "output_type": "execute_result"
    }
   ],
   "source": [
    "r.num_flowpipes"
   ]
  },
  {
   "cell_type": "code",
   "execution_count": 23,
   "metadata": {},
   "outputs": [],
   "source": [
    "def plot_box(B, **kwargs):\n",
    "    if 'color' not in kwargs:\n",
    "        kwargs['color'] = 'orange'\n",
    "    return polygon(\n",
    "        [(B[0].lower(), B[1].lower()),\n",
    "         (B[0].lower(), B[1].upper()),\n",
    "         (B[0].upper(), B[1].upper()),\n",
    "         (B[0].upper(), B[1].lower())],\n",
    "        **kwargs,\n",
    "    )"
   ]
  },
  {
   "cell_type": "code",
   "execution_count": 24,
   "metadata": {},
   "outputs": [],
   "source": [
    "import itertools"
   ]
  },
  {
   "cell_type": "code",
   "execution_count": 25,
   "metadata": {},
   "outputs": [
    {
     "data": {
      "text/html": [
       "<div class=\"notruncate\">\n",
       "<table  class=\"table_form\">\n",
       "<tbody>\n",
       "<tr class =\"row-a\">\n",
       "<td><script type=\"math/tex\">0</script></td>\n",
       "<td><script type=\"math/tex\">x_{1}</script></td>\n",
       "<td><script type=\"math/tex\">0.979999999999999</script></td>\n",
       "<td><script type=\"math/tex\">1.02000000000001</script></td>\n",
       "</tr>\n",
       "<tr class =\"row-b\">\n",
       "<td><script type=\"math/tex\">1</script></td>\n",
       "<td><script type=\"math/tex\">x_{2}</script></td>\n",
       "<td><script type=\"math/tex\">1.27999999999999</script></td>\n",
       "<td><script type=\"math/tex\">1.32000000000001</script></td>\n",
       "</tr>\n",
       "<tr class =\"row-a\">\n",
       "<td><script type=\"math/tex\">2</script></td>\n",
       "<td><script type=\"math/tex\">x_{3}</script></td>\n",
       "<td><script type=\"math/tex\">0.0799999999999999</script></td>\n",
       "<td><script type=\"math/tex\">0.120000000000001</script></td>\n",
       "</tr>\n",
       "<tr class =\"row-b\">\n",
       "<td><script type=\"math/tex\">3</script></td>\n",
       "<td><script type=\"math/tex\">x_{4}</script></td>\n",
       "<td><script type=\"math/tex\">0.0799999999999999</script></td>\n",
       "<td><script type=\"math/tex\">0.120000000000001</script></td>\n",
       "</tr>\n",
       "<tr class =\"row-a\">\n",
       "<td><script type=\"math/tex\">4</script></td>\n",
       "<td><script type=\"math/tex\">x_{5}</script></td>\n",
       "<td><script type=\"math/tex\">0.0799999999999999</script></td>\n",
       "<td><script type=\"math/tex\">0.120000000000001</script></td>\n",
       "</tr>\n",
       "<tr class =\"row-b\">\n",
       "<td><script type=\"math/tex\">5</script></td>\n",
       "<td><script type=\"math/tex\">x_{6}</script></td>\n",
       "<td><script type=\"math/tex\">1.27999999999999</script></td>\n",
       "<td><script type=\"math/tex\">1.32000000000001</script></td>\n",
       "</tr>\n",
       "<tr class =\"row-a\">\n",
       "<td><script type=\"math/tex\">6</script></td>\n",
       "<td><script type=\"math/tex\">x_{7}</script></td>\n",
       "<td><script type=\"math/tex\">2.47999999999999</script></td>\n",
       "<td><script type=\"math/tex\">2.52000000000001</script></td>\n",
       "</tr>\n",
       "<tr class =\"row-b\">\n",
       "<td><script type=\"math/tex\">7</script></td>\n",
       "<td><script type=\"math/tex\">x_{8}</script></td>\n",
       "<td><script type=\"math/tex\">0.579999999999999</script></td>\n",
       "<td><script type=\"math/tex\">0.620000000000001</script></td>\n",
       "</tr>\n",
       "<tr class =\"row-a\">\n",
       "<td><script type=\"math/tex\">8</script></td>\n",
       "<td><script type=\"math/tex\">x_{9}</script></td>\n",
       "<td><script type=\"math/tex\">1.27999999999999</script></td>\n",
       "<td><script type=\"math/tex\">1.32000000000001</script></td>\n",
       "</tr>\n",
       "</tbody>\n",
       "</table>\n",
       "</div>"
      ],
      "text/plain": [
       "  0   x1   0.979999999999999    1.02000000000001\n",
       "  1   x2   1.27999999999999     1.32000000000001\n",
       "  2   x3   0.0799999999999999   0.120000000000001\n",
       "  3   x4   0.0799999999999999   0.120000000000001\n",
       "  4   x5   0.0799999999999999   0.120000000000001\n",
       "  5   x6   1.27999999999999     1.32000000000001\n",
       "  6   x7   2.47999999999999     2.52000000000001\n",
       "  7   x8   0.579999999999999    0.620000000000001\n",
       "  8   x9   1.27999999999999     1.32000000000001"
      ]
     },
     "execution_count": 25,
     "metadata": {},
     "output_type": "execute_result"
    }
   ],
   "source": [
    "table([[i, r, x.lower(), x.upper()] for i, r, x in zip(itertools.count(), sys.x, sys.y0)])"
   ]
  },
  {
   "cell_type": "code",
   "execution_count": 26,
   "metadata": {},
   "outputs": [
    {
     "name": "stdout",
     "output_type": "stream",
     "text": [
      "var_id_x = 2\n",
      "var_id_y = 4\n"
     ]
    },
    {
     "data": {
      "image/png": "[encoded data removed]",
      "text/plain": [
       "Graphics object consisting of 303 graphics primitives"
      ]
     },
     "execution_count": 26,
     "metadata": {},
     "output_type": "execute_result"
    }
   ],
   "source": [
    "r.sage_interval_plot('x3', 'x5', 0.01)\\\n",
    "    + plot_box([sys.y0[2], sys.y0[4]])\\\n",
    "    + region_plot((lambda x, y: (y - 0.04)^2 + x^2 < 0.001),\n",
    "                  (0, 0.12),\n",
    "                  (0, 0.12),\n",
    "                  incol='pink', plot_points=500, bordercol='red')"
   ]
  },
  {
   "cell_type": "code",
   "execution_count": 27,
   "metadata": {},
   "outputs": [],
   "source": [
    "def test_monitoring(prop, duration, **kwargs):\n",
    "    t0 = time.time()\n",
    "    sig = prop.signal_for_system(sys,\n",
    "    duration, order=4, step=0.003,\n",
    "    precondition=1,\n",
    "    estimation=1e-1,\n",
    "    max_remainder_queue=100,\n",
    "    integration_method=IntegrationMethod.ONLY_PICARD_SYMB,\n",
    "    cutoff_threshold=1e-6,\n",
    "    **kwargs)\n",
    "    t1 = time.time()\n",
    "    print(f\"Run done in {t1 - t0} sec\\noptions: {repr(kwargs)}\")\n",
    "    return t1 - t0, sig"
   ]
  },
  {
   "cell_type": "markdown",
   "metadata": {},
   "source": [
    "# Optimizing and speedup"
   ]
  },
  {
   "cell_type": "markdown",
   "metadata": {},
   "source": [
    "## Unoptimized"
   ]
  },
  {
   "cell_type": "code",
   "execution_count": 28,
   "metadata": {
    "scrolled": true
   },
   "outputs": [
    {
     "data": {
      "text/html": [
       "<html><script type=\"math/tex; mode=display\">\\newcommand{\\Bold}[1]{\\mathbf{#1}}\\verb|x3^2|\\phantom{\\verb!x!}\\verb|+|\\phantom{\\verb!x!}\\verb|(x5|\\phantom{\\verb!x!}\\verb|-|\\phantom{\\verb!x!}\\verb|0.0400000000000000)^2|\\phantom{\\verb!x!}\\verb|<|\\phantom{\\verb!x!}\\verb|0.00100000000000000|</script></html>"
      ],
      "text/plain": [
       "Atomic(x3^2 + (x5 - 0.0400000000000000)^2 < 0.00100000000000000)"
      ]
     },
     "execution_count": 28,
     "metadata": {},
     "output_type": "execute_result"
    }
   ],
   "source": [
    "P = Atomic((var(\"x5\") - 0.04)^2 + var(\"x3\")^2 < 0.001); P"
   ]
  },
  {
   "cell_type": "code",
   "execution_count": 29,
   "metadata": {},
   "outputs": [
    {
     "name": "stdout",
     "output_type": "stream",
     "text": [
      "Precomposing Contexts: 1 items in 0.00 seconds\n",
      "calling reach with y0 = ['[0.97999999999999998 .. 1.0200000000000001]', '[1.2799999999999998 .. 1.3200000000000001]', '[0.079999999999999987 .. 0.12000000000000001]', '[0.079999999999999987 .. 0.12000000000000001]', '[0.079999999999999987 .. 0.12000000000000001]', '[1.2799999999999998 .. 1.3200000000000001]', '[2.4799999999999999 .. 2.5200000000000001]', '[0.57999999999999996 .. 0.62000000000000011]', '[1.2799999999999998 .. 1.3200000000000001]']\n",
      "ode in polynomial ring\n",
      "crude_roots = False\n",
      "_handle_initials called!\n",
      "vars = [x1, x2, x3, x4, x5, x6, x7, x8, x9]\n",
      "C = [0.98..1.02]\n",
      "C = [1.2799999999999998..1.32]\n",
      "C = [0.07999999999999999..0.12000000000000001]\n",
      "C = [0.07999999999999999..0.12000000000000001]\n",
      "C = [0.07999999999999999..0.12000000000000001]\n",
      "C = [1.2799999999999998..1.32]\n",
      "C = [2.48..2.52]\n",
      "C = [0.58..0.6200000000000001]\n",
      "C = [1.2799999999999998..1.32]\n",
      "assigning system with dimension 9\n",
      "resulting system has dimension 9\n",
      "run within tmv args\n",
      "integrationScheme = 7\n",
      "Running Flow*: 1 items in 36.81 seconds\n",
      "Computed 1334 flowpipes in 36.81365897899991 sec\n",
      "PolyObserver(-x3^2 - x5^2 + 0.080000000000000002?*x5 - 0.000600000000000000?, <flowstar.reachability.Reach object at 0x7f541e22c8c0>, -0.2000000000000000?*x1*x3*x6 + 100*x3^2 - x1*x5 - 10*x3*x5 + 20*x5^2 + 0.040000000000000001?*x1 + 0.4000000000000000?*x3 - 0.8000000000000000?*x5, symbolic_composition=True, tentative_unpreconditioning=True, mask=None)\n",
      "fprime = -0.2000000000000000?*x1*x3*x6 + 100*x3^2 - x1*x5 - 10*x3*x5 + 20*x5^2 + 0.040000000000000001?*x1 + 0.4000000000000000?*x3 - 0.8000000000000000?*x5\n",
      "symbolic_composition=True, tentative_unpreconditioning=True,two_pass_masks=False\n",
      "roots(space_domain=None, epsilon=1e-05, verbosity=0)\n",
      "top-level root detection: 1 items in 3.06 seconds\n",
      "roots = [[0.044999999999999915 .. 0.15000000000000014]]\n",
      "domain = [0.0000000000000000 .. 4.0000000000000009]\n",
      "roots = [[0.044999999999999915 .. 0.15000000000000014]]\n",
      "seg_domain = [0.0000000000000000 .. 4.0000000000000009]\n",
      "roots = [[0.044999999999999915 .. 0.15000000000000014]]\n",
      "running f_bool: 1 items in 0.00 seconds\n",
      "running f_bool: 1 items in 0.00 seconds\n",
      "signal given bool roots: 1 items in 0.00 seconds\n",
      "Monitoring Signal for x3^2 + (x5 - 0.0400000000000000)^2 < 0.00100000000000000: 1 items in 4.68 seconds\n",
      "Monitored signal in 4.679436811999722 sec\n",
      "ran \"composing flowpipe\" 39 times in 0.8152647018432617\n",
      "ran \"tentative eval\" 1334 times in 1.047626256942749\n",
      "ran \"observer.check\" 2 times in 0.000354766845703125\n",
      "ran \"root detection\" 39 times in 0.0013630390167236328\n",
      "ran \"capturing globals [on exit]\" 9 times in 0.00027108192443847656\n",
      "ran \"root amalgamation\" 39 times in 2.8371810913085938e-05\n",
      "ran \"post retrieve\" 39 times in 1.1180830001831055\n",
      "ran \"check boolean [unguarded]\" 2 times in 0.0002620220184326172\n",
      "ran \"whole domain eval\" 39 times in 0.0583796501159668\n",
      "ran \"restoring globals\" 9 times in 0.00038695335388183594\n",
      "ran \"prepare in check\" 2 times in 9.059906005859375e-06\n",
      "ran \"mask intersect check\" 1334 times in 0.0007562637329101562\n",
      "Run done in 41.55595922470093 sec\n",
      "options: {'use_masks': False, 'symbolic_composition': True}\n"
     ]
    },
    {
     "data": {
      "image/png": "[encoded data removed]",
      "text/plain": [
       "Graphics object consisting of 2 graphics primitives"
      ]
     },
     "execution_count": 29,
     "metadata": {},
     "output_type": "execute_result"
    }
   ],
   "source": [
    "test_monitoring(P, 4, use_masks=False, symbolic_composition=True)[1].plot()"
   ]
  },
  {
   "cell_type": "code",
   "execution_count": 30,
   "metadata": {},
   "outputs": [
    {
     "data": {
      "text/html": [
       "<html><script type=\"math/tex; mode=display\">\\newcommand{\\Bold}[1]{\\mathbf{#1}}\\verb|x6|\\phantom{\\verb!x!}\\verb|<|\\phantom{\\verb!x!}\\verb|1|</script></html>"
      ],
      "text/plain": [
       "Atomic(x6 < 1)"
      ]
     },
     "execution_count": 30,
     "metadata": {},
     "output_type": "execute_result"
    }
   ],
   "source": [
    "Q = Atomic(var(\"x6\") < 1); Q"
   ]
  },
  {
   "cell_type": "code",
   "execution_count": 31,
   "metadata": {},
   "outputs": [
    {
     "name": "stdout",
     "output_type": "stream",
     "text": [
      "Precomposing Contexts: 1 items in 0.00 seconds\n",
      "calling reach with y0 = ['[0.97999999999999998 .. 1.0200000000000001]', '[1.2799999999999998 .. 1.3200000000000001]', '[0.079999999999999987 .. 0.12000000000000001]', '[0.079999999999999987 .. 0.12000000000000001]', '[0.079999999999999987 .. 0.12000000000000001]', '[1.2799999999999998 .. 1.3200000000000001]', '[2.4799999999999999 .. 2.5200000000000001]', '[0.57999999999999996 .. 0.62000000000000011]', '[1.2799999999999998 .. 1.3200000000000001]']\n",
      "ode in polynomial ring\n",
      "crude_roots = False\n",
      "_handle_initials called!\n",
      "vars = [x1, x2, x3, x4, x5, x6, x7, x8, x9]\n",
      "C = [0.98..1.02]\n",
      "C = [1.2799999999999998..1.32]\n",
      "C = [0.07999999999999999..0.12000000000000001]\n",
      "C = [0.07999999999999999..0.12000000000000001]\n",
      "C = [0.07999999999999999..0.12000000000000001]\n",
      "C = [1.2799999999999998..1.32]\n",
      "C = [2.48..2.52]\n",
      "C = [0.58..0.6200000000000001]\n",
      "C = [1.2799999999999998..1.32]\n",
      "assigning system with dimension 9\n",
      "resulting system has dimension 9\n",
      "run within tmv args\n",
      "integrationScheme = 7\n",
      "Running Flow*: 1 items in 43.16 seconds\n",
      "Computed 1334 flowpipes in 43.16422593000016 sec\n",
      "PolyObserver(-x6 + 1, <flowstar.reachability.Reach object at 0x7f541e22c230>, 0.10000000000000000?*x1*x6 + x2*x6 + 2*x6*x8 - 50*x3 - 100*x4 - 50*x5 + x6, symbolic_composition=True, tentative_unpreconditioning=True, mask=None)\n",
      "fprime = 0.10000000000000000?*x1*x6 + x2*x6 + 2*x6*x8 - 50*x3 - 100*x4 - 50*x5 + x6\n",
      "symbolic_composition=True, tentative_unpreconditioning=True,two_pass_masks=False\n",
      "roots(space_domain=None, epsilon=1e-05, verbosity=0)\n",
      "top-level root detection: 1 items in 5.42 seconds\n",
      "roots = [[0.73107498712745855 .. 0.94185954038689923]]\n",
      "domain = [0.0000000000000000 .. 3.9999999999999996]\n",
      "roots = [[0.73107498712745855 .. 0.94185954038689923]]\n",
      "seg_domain = [0.0000000000000000 .. 3.9999999999999996]\n",
      "roots = [[0.73107498712745855 .. 0.94185954038689923]]\n",
      "running f_bool: 1 items in 0.00 seconds\n",
      "running f_bool: 1 items in 0.00 seconds\n",
      "signal given bool roots: 1 items in 0.00 seconds\n",
      "Monitoring Signal for x6 < 1: 1 items in 5.48 seconds\n",
      "Monitored signal in 5.4839967599998545 sec\n",
      "ran \"composing flowpipe\" 89 times in 4.0301432609558105\n",
      "ran \"tentative eval\" 1334 times in 1.0950675010681152\n",
      "ran \"observer.check\" 2 times in 0.00044417381286621094\n",
      "ran \"root detection\" 86 times in 0.002644777297973633\n",
      "ran \"capturing globals [on exit]\" 9 times in 0.0002624988555908203\n",
      "ran \"root amalgamation\" 86 times in 6.0558319091796875e-05\n",
      "ran \"post retrieve\" 86 times in 0.1113591194152832\n",
      "ran \"check boolean [unguarded]\" 2 times in 0.0003573894500732422\n",
      "ran \"whole domain eval\" 89 times in 0.15860915184020996\n",
      "ran \"restoring globals\" 9 times in 0.0003962516784667969\n",
      "ran \"prepare in check\" 2 times in 8.344650268554688e-06\n",
      "ran \"mask intersect check\" 1334 times in 0.0008387565612792969\n",
      "Run done in 48.76396679878235 sec\n",
      "options: {'use_masks': False, 'symbolic_composition': True}\n"
     ]
    },
    {
     "data": {
      "image/png": "[encoded data removed]",
      "text/plain": [
       "Graphics object consisting of 2 graphics primitives"
      ]
     },
     "execution_count": 31,
     "metadata": {},
     "output_type": "execute_result"
    }
   ],
   "source": [
    "test_monitoring(Q, 4, use_masks=False, symbolic_composition=True)[1].plot()"
   ]
  },
  {
   "cell_type": "code",
   "execution_count": 32,
   "metadata": {},
   "outputs": [
    {
     "name": "stdout",
     "output_type": "stream",
     "text": [
      "Precomposing Contexts: 1 items in 0.00 seconds\n",
      "calling reach with y0 = ['[0.97999999999999998 .. 1.0200000000000001]', '[1.2799999999999998 .. 1.3200000000000001]', '[0.079999999999999987 .. 0.12000000000000001]', '[0.079999999999999987 .. 0.12000000000000001]', '[0.079999999999999987 .. 0.12000000000000001]', '[1.2799999999999998 .. 1.3200000000000001]', '[2.4799999999999999 .. 2.5200000000000001]', '[0.57999999999999996 .. 0.62000000000000011]', '[1.2799999999999998 .. 1.3200000000000001]']\n",
      "ode in polynomial ring\n",
      "crude_roots = False\n",
      "_handle_initials called!\n",
      "vars = [x1, x2, x3, x4, x5, x6, x7, x8, x9]\n",
      "C = [0.98..1.02]\n",
      "C = [1.2799999999999998..1.32]\n",
      "C = [0.07999999999999999..0.12000000000000001]\n",
      "C = [0.07999999999999999..0.12000000000000001]\n",
      "C = [0.07999999999999999..0.12000000000000001]\n",
      "C = [1.2799999999999998..1.32]\n",
      "C = [2.48..2.52]\n",
      "C = [0.58..0.6200000000000001]\n",
      "C = [1.2799999999999998..1.32]\n",
      "assigning system with dimension 9\n",
      "resulting system has dimension 9\n",
      "run within tmv args\n",
      "integrationScheme = 7\n",
      "Running Flow*: 1 items in 44.08 seconds\n",
      "Computed 1334 flowpipes in 44.07643111900006 sec\n",
      "PolyObserver(-x3^2 - x5^2 + 0.080000000000000002?*x5 - 0.000600000000000000?, <flowstar.reachability.Reach object at 0x7f541e22c9b0>, -0.2000000000000000?*x1*x3*x6 + 100*x3^2 - x1*x5 - 10*x3*x5 + 20*x5^2 + 0.040000000000000001?*x1 + 0.4000000000000000?*x3 - 0.8000000000000000?*x5, symbolic_composition=True, tentative_unpreconditioning=True, mask=None)\n",
      "fprime = -0.2000000000000000?*x1*x3*x6 + 100*x3^2 - x1*x5 - 10*x3*x5 + 20*x5^2 + 0.040000000000000001?*x1 + 0.4000000000000000?*x3 - 0.8000000000000000?*x5\n",
      "symbolic_composition=True, tentative_unpreconditioning=True,two_pass_masks=False\n",
      "roots(space_domain=None, epsilon=1e-05, verbosity=0)\n",
      "top-level root detection: 1 items in 2.97 seconds\n",
      "roots = [[0.044999999999999915 .. 0.15000000000000014]]\n",
      "domain = [0.0000000000000000 .. 3.9999999999999996]\n",
      "roots = [[0.044999999999999915 .. 0.15000000000000014]]\n",
      "seg_domain = [0.0000000000000000 .. 3.9999999999999996]\n",
      "roots = [[0.044999999999999915 .. 0.15000000000000014]]\n",
      "running f_bool: 1 items in 0.00 seconds\n",
      "running f_bool: 1 items in 0.00 seconds\n",
      "signal given bool roots: 1 items in 0.00 seconds\n",
      "PolyObserver(-x6 + 1, <flowstar.reachability.Reach object at 0x7f541e22c9b0>, 0.10000000000000000?*x1*x6 + x2*x6 + 2*x6*x8 - 50*x3 - 100*x4 - 50*x5 + x6, symbolic_composition=True, tentative_unpreconditioning=True, mask=None)\n",
      "fprime = 0.10000000000000000?*x1*x6 + x2*x6 + 2*x6*x8 - 50*x3 - 100*x4 - 50*x5 + x6\n",
      "symbolic_composition=True, tentative_unpreconditioning=True,two_pass_masks=False\n",
      "roots(space_domain=None, epsilon=1e-05, verbosity=0)\n",
      "top-level root detection: 1 items in 5.14 seconds\n",
      "roots = [[0.73107498712745855 .. 0.94185954038689923]]\n",
      "domain = [0.0000000000000000 .. 3.9999999999999992]\n",
      "roots = [[0.73107498712745855 .. 0.94185954038689923]]\n",
      "seg_domain = [0.0000000000000000 .. 3.9999999999999992]\n",
      "roots = [[0.73107498712745855 .. 0.94185954038689923]]\n",
      "running f_bool: 1 items in 0.00 seconds\n",
      "running f_bool: 1 items in 0.00 seconds\n",
      "signal given bool roots: 1 items in 0.00 seconds\n",
      "Monitoring Signal for x3^2 + (x5 - 0.0400000000000000)^2 < 0.00100000000000000 & x6 < 1: 1 items in 8.19 seconds\n",
      "Monitored signal in 8.194455882999819 sec\n",
      "ran \"composing flowpipe\" 167 times in 4.53567099571228\n",
      "ran \"tentative eval\" 2629 times in 2.0943920612335205\n",
      "ran \"observer.check\" 4 times in 0.000911712646484375\n",
      "ran \"root detection\" 125 times in 0.0036516189575195312\n",
      "ran \"capturing globals [on exit]\" 16 times in 0.00044727325439453125\n",
      "ran \"root amalgamation\" 125 times in 6.651878356933594e-05\n",
      "ran \"post retrieve\" 125 times in 1.1813201904296875\n",
      "ran \"check boolean [unguarded]\" 4 times in 0.0007424354553222656\n",
      "ran \"whole domain eval\" 167 times in 0.25516700744628906\n",
      "ran \"restoring globals\" 16 times in 0.0007035732269287109\n",
      "ran \"prepare in check\" 4 times in 1.6689300537109375e-05\n",
      "ran \"mask intersect check\" 2668 times in 0.0014810562133789062\n",
      "Run done in 52.39332127571106 sec\n",
      "options: {'use_masks': False, 'symbolic_composition': True}\n"
     ]
    },
    {
     "data": {
      "image/png": "[encoded data removed]",
      "text/plain": [
       "Graphics object consisting of 2 graphics primitives"
      ]
     },
     "execution_count": 32,
     "metadata": {},
     "output_type": "execute_result"
    }
   ],
   "source": [
    "sigPQ = test_monitoring(P & Q, 4, use_masks=False, symbolic_composition=True)[1]\n",
    "sigPQ.plot()"
   ]
  },
  {
   "cell_type": "code",
   "execution_count": 33,
   "metadata": {},
   "outputs": [
    {
     "name": "stdout",
     "output_type": "stream",
     "text": [
      "Precomposing Contexts: 1 items in 0.00 seconds\n",
      "calling reach with y0 = ['[0.97999999999999998 .. 1.0200000000000001]', '[1.2799999999999998 .. 1.3200000000000001]', '[0.079999999999999987 .. 0.12000000000000001]', '[0.079999999999999987 .. 0.12000000000000001]', '[0.079999999999999987 .. 0.12000000000000001]', '[1.2799999999999998 .. 1.3200000000000001]', '[2.4799999999999999 .. 2.5200000000000001]', '[0.57999999999999996 .. 0.62000000000000011]', '[1.2799999999999998 .. 1.3200000000000001]']\n",
      "ode in polynomial ring\n",
      "crude_roots = False\n",
      "_handle_initials called!\n",
      "vars = [x1, x2, x3, x4, x5, x6, x7, x8, x9]\n",
      "C = [0.98..1.02]\n",
      "C = [1.2799999999999998..1.32]\n",
      "C = [0.07999999999999999..0.12000000000000001]\n",
      "C = [0.07999999999999999..0.12000000000000001]\n",
      "C = [0.07999999999999999..0.12000000000000001]\n",
      "C = [1.2799999999999998..1.32]\n",
      "C = [2.48..2.52]\n",
      "C = [0.58..0.6200000000000001]\n",
      "C = [1.2799999999999998..1.32]\n",
      "assigning system with dimension 9\n",
      "resulting system has dimension 9\n",
      "run within tmv args\n",
      "integrationScheme = 7\n",
      "Running Flow*: 1 items in 44.12 seconds\n",
      "Computed 1334 flowpipes in 44.12138217700067 sec\n",
      "PolyObserver(-x3^2 - x5^2 + 0.080000000000000002?*x5 - 0.000600000000000000?, <flowstar.reachability.Reach object at 0x7f541df7fd70>, -0.2000000000000000?*x1*x3*x6 + 100*x3^2 - x1*x5 - 10*x3*x5 + 20*x5^2 + 0.040000000000000001?*x1 + 0.4000000000000000?*x3 - 0.8000000000000000?*x5, symbolic_composition=True, tentative_unpreconditioning=True, mask=Mask([0.0000000000000000 .. 4.0009999999999995], [[0.0000000000000000 .. 4.0009999999999995]]))\n",
      "fprime = -0.2000000000000000?*x1*x3*x6 + 100*x3^2 - x1*x5 - 10*x3*x5 + 20*x5^2 + 0.040000000000000001?*x1 + 0.4000000000000000?*x3 - 0.8000000000000000?*x5\n",
      "symbolic_composition=True, tentative_unpreconditioning=True,two_pass_masks=False\n",
      "roots(space_domain=None, epsilon=1e-05, verbosity=0)\n",
      "top-level root detection: 1 items in 3.22 seconds\n",
      "roots = [[0.044999999999999915 .. 0.15000000000000014]]\n",
      "domain = [0.0000000000000000 .. 3.9999999999999996]\n",
      "roots = [[0.044999999999999915 .. 0.15000000000000014]]\n",
      "seg_domain = [0.0000000000000000 .. 4.0009999999999995]\n",
      "roots = [[0.044999999999999915 .. 0.15000000000000014]]\n",
      "running f_bool: 1 items in 0.00 seconds\n",
      "running f_bool: 1 items in 0.00 seconds\n",
      "signal given bool roots: 1 items in 0.00 seconds\n",
      "PolyObserver(-x6 + 1, <flowstar.reachability.Reach object at 0x7f541df7fd70>, 0.10000000000000000?*x1*x6 + x2*x6 + 2*x6*x8 - 50*x3 - 100*x4 - 50*x5 + x6, symbolic_composition=True, tentative_unpreconditioning=True, mask=Mask([0.0000000000000000 .. 4.0009999999999995], [[0.044999999999999915 .. 4.0009999999999995]]))\n",
      "fprime = 0.10000000000000000?*x1*x6 + x2*x6 + 2*x6*x8 - 50*x3 - 100*x4 - 50*x5 + x6\n",
      "symbolic_composition=True, tentative_unpreconditioning=True,two_pass_masks=False\n",
      "roots(space_domain=None, epsilon=1e-05, verbosity=0)\n",
      "top-level root detection: 1 items in 5.93 seconds\n",
      "roots = [[0.73107498712745855 .. 0.94185954038689923]]\n",
      "domain = [0.0000000000000000 .. 3.9999999999999992]\n",
      "roots = [[0.73107498712745855 .. 0.94185954038689923]]\n",
      "seg_domain = [0.044999999999999915 .. 4.0009999999999995]\n",
      "roots = [[0.73107498712745855 .. 0.94185954038689923]]\n",
      "running f_bool: 1 items in 0.00 seconds\n",
      "running f_bool: 1 items in 0.00 seconds\n",
      "signal given bool roots: 1 items in 0.00 seconds\n",
      "Monitoring Signal for x3^2 + (x5 - 0.0400000000000000)^2 < 0.00100000000000000 & x6 < 1: 1 items in 9.26 seconds\n",
      "Monitored signal in 9.260545218999596 sec\n",
      "ran \"composing flowpipe\" 167 times in 5.2997143268585205\n",
      "ran \"tentative eval\" 2615 times in 2.245673656463623\n",
      "ran \"observer.check\" 4 times in 0.0008194446563720703\n",
      "ran \"root detection\" 125 times in 0.004304409027099609\n",
      "ran \"capturing globals [on exit]\" 16 times in 0.0005469322204589844\n",
      "ran \"root amalgamation\" 125 times in 0.00012445449829101562\n",
      "ran \"post retrieve\" 125 times in 1.2725727558135986\n",
      "ran \"check boolean [unguarded]\" 4 times in 0.0006642341613769531\n",
      "ran \"whole domain eval\" 167 times in 0.2883737087249756\n",
      "ran \"restoring globals\" 16 times in 0.001163482666015625\n",
      "ran \"prepare in check\" 4 times in 2.2172927856445312e-05\n",
      "ran \"mask intersect check\" 2668 times in 0.00401616096496582\n",
      "Run done in 53.52168297767639 sec\n",
      "options: {'use_masks': True, 'symbolic_composition': True}\n"
     ]
    },
    {
     "data": {
      "image/png": "[encoded data removed]",
      "text/plain": [
       "Graphics object consisting of 2 graphics primitives"
      ]
     },
     "execution_count": 33,
     "metadata": {},
     "output_type": "execute_result"
    }
   ],
   "source": [
    "sigPQ = test_monitoring(P & Q, 4, use_masks=True, symbolic_composition=True)[1]\n",
    "sigPQ.plot()"
   ]
  },
  {
   "cell_type": "markdown",
   "metadata": {},
   "source": [
    "## Integrated support"
   ]
  },
  {
   "cell_type": "code",
   "execution_count": 28,
   "metadata": {},
   "outputs": [
    {
     "name": "stdout",
     "output_type": "stream",
     "text": [
      "Precomposing Contexts: 1 items in 0.00 seconds\n",
      "calling reach with y0 = ['[0.97999999999999998 .. 1.0200000000000001]', '[1.2799999999999998 .. 1.3200000000000001]', '[0.079999999999999987 .. 0.12000000000000001]', '[0.079999999999999987 .. 0.12000000000000001]', '[0.079999999999999987 .. 0.12000000000000001]', '[1.2799999999999998 .. 1.3200000000000001]', '[2.4799999999999999 .. 2.5200000000000001]', '[0.57999999999999996 .. 0.62000000000000011]', '[1.2799999999999998 .. 1.3200000000000001]']\n",
      "ode in polynomial ring\n",
      "crude_roots = False\n",
      "_handle_initials called!\n",
      "vars = [x1, x2, x3, x4, x5, x6, x7, x8, x9]\n",
      "C = [0.98..1.02]\n",
      "C = [1.2799999999999998..1.32]\n",
      "C = [0.07999999999999999..0.12000000000000001]\n",
      "C = [0.07999999999999999..0.12000000000000001]\n",
      "C = [0.07999999999999999..0.12000000000000001]\n",
      "C = [1.2799999999999998..1.32]\n",
      "C = [2.48..2.52]\n",
      "C = [0.58..0.6200000000000001]\n",
      "C = [1.2799999999999998..1.32]\n",
      "assigning system with dimension 9\n",
      "resulting system has dimension 9\n",
      "run within tmv args\n",
      "integrationScheme = 7\n",
      "Running Flow*: 1 items in 40.37 seconds\n",
      "Computed 1334 flowpipes in 40.37203658000044 sec\n",
      "PolyObserver(x6 - 1.4000000000000000?, <flowstar.reachability.Reach object at 0x7f70791957d0>, -0.10000000000000000?*x1*x6 - x2*x6 - 2*x6*x8 + 50*x3 + 100*x4 + 50*x5 - x6 symbolic_composition=False, tentative_unpreconditioning=True, mask=Mask([0.0000000000000000 .. 4.0010000000000004], [[0.0000000000000000 .. 4.0010000000000004]]))\n",
      "fprime = -0.10000000000000000?*x1*x6 - x2*x6 - 2*x6*x8 + 50*x3 + 100*x4 + 50*x5 - x6\n",
      "symbolic_composition=False, tentative_unpreconditioning=True,two_pass_masks=False\n",
      "roots(space_domain=None, epsilon=1e-05, verbosity=0)\n",
      "top-level root detection: 1 items in 4.82 seconds\n",
      "roots = [[0.0048028783727901138 .. 0.020435765977123051], [0.20345478283219919 .. 0.48300000000000043]]\n",
      "domain = [0.0000000000000000 .. 3.9999999999999996]\n",
      "roots = [[0.0048028783727901138 .. 0.020435765977123051], \n",
      " [0.20345478283219919 .. 0.48300000000000043]]\n",
      "seg_domain = [0.0000000000000000 .. 4.0010000000000004]\n",
      "roots = [[0.0048028783727901138 .. 0.020435765977123051], \n",
      " [0.20345478283219919 .. 0.48300000000000043]]\n",
      "running f_bool: 1 items in 0.00 seconds\n",
      "running f_bool: 1 items in 0.00 seconds\n",
      "running f_bool: 1 items in 0.00 seconds\n",
      "signal given bool roots: 1 items in 0.00 seconds\n",
      "PolyObserver(-x6 + 1, <flowstar.reachability.Reach object at 0x7f70791957d0>, 0.10000000000000000?*x1*x6 + x2*x6 + 2*x6*x8 - 50*x3 - 100*x4 - 50*x5 + x6 symbolic_composition=False, tentative_unpreconditioning=True, mask=Mask([0.0000000000000000 .. 4.0009999999999995], [[0.0048028783727901138 .. 0.48300000000000043]]))\n",
      "fprime = 0.10000000000000000?*x1*x6 + x2*x6 + 2*x6*x8 - 50*x3 - 100*x4 - 50*x5 + x6\n",
      "symbolic_composition=False, tentative_unpreconditioning=True,two_pass_masks=True\n",
      "roots(space_domain=None, epsilon=1e-05, verbosity=0)\n",
      "top-level root detection: 1 items in 0.20 seconds\n",
      "roots = []\n",
      "domain = [0.0000000000000000 .. 3.9999999999999992]\n",
      "roots = []\n",
      "seg_domain = [0.0048028783727901138 .. 0.48300000000000043]\n",
      "roots = []\n",
      "running f_bool: 1 items in 0.00 seconds\n",
      "signal given bool roots: 1 items in 0.00 seconds\n",
      "PolyObserver(x6 - 1.4000000000000000?, <flowstar.reachability.Reach object at 0x7f70791957d0>, -0.10000000000000000?*x1*x6 - x2*x6 - 2*x6*x8 + 50*x3 + 100*x4 + 50*x5 - x6 symbolic_composition=True, tentative_unpreconditioning=True, mask=Mask([0.0000000000000000 .. 4.0010000000000004], [[0.0000000000000000 .. 4.0010000000000004]]))\n",
      "fprime = -0.10000000000000000?*x1*x6 - x2*x6 - 2*x6*x8 + 50*x3 + 100*x4 + 50*x5 - x6\n",
      "symbolic_composition=True, tentative_unpreconditioning=True,two_pass_masks=False\n",
      "roots(space_domain=None, epsilon=1e-05, verbosity=0)\n",
      "top-level root detection: 1 items in 1.25 seconds\n",
      "roots = [[0.0048138818803625908 .. 0.020020370779725589], [0.20774355246405734 .. 0.47416911189916711]]\n",
      "domain = [0.0000000000000000 .. 3.9999999999999992]\n",
      "roots = [[0.0048138818803625908 .. 0.020020370779725589], \n",
      " [0.20774355246405734 .. 0.47416911189916711]]\n",
      "seg_domain = [0.0000000000000000 .. 4.0010000000000004]\n",
      "roots = [[0.0048138818803625908 .. 0.020020370779725589], \n",
      " [0.20774355246405734 .. 0.47416911189916711]]\n",
      "running f_bool: 1 items in 0.00 seconds\n",
      "running f_bool: 1 items in 0.00 seconds\n",
      "running f_bool: 1 items in 0.00 seconds\n",
      "signal given bool roots: 1 items in 0.00 seconds\n",
      "Monitoring Signal for x6 > 1.40000000000000 & x6 < 1: 1 items in 6.40 seconds\n",
      "Monitored signal in 6.400844135999705 sec\n",
      "ran \"prepare in check\" 7 times in 3.075599670410156e-05\n",
      "ran \"tentative eval\" 2625 times in 2.031141519546509\n",
      "ran \"root amalgamation\" 200 times in 9.465217590332031e-05\n",
      "ran \"check boolean [unguarded]\" 7 times in 0.0006856918334960938\n",
      "ran \"composing flowpipe\" 306 times in 3.2915451526641846\n",
      "ran \"mask intersect check\" 4002 times in 0.004810810089111328\n",
      "ran \"whole domain eval\" 306 times in 0.4667627811431885\n",
      "ran \"observer.check\" 7 times in 0.0009264945983886719\n",
      "ran \"restoring globals\" 22 times in 0.0010104179382324219\n",
      "ran \"root detection\" 200 times in 0.3239901065826416\n",
      "ran \"Monitoring crude P=[x6 > 1.40000000000000]\" 1 times in 4.873298168182373\n",
      "ran \"post retrieve\" 200 times in 0.11809468269348145\n",
      "ran \"Monitoring full P=[x6 > 1.40000000000000]\" 1 times in 1.294396162033081\n",
      "ran \"Monitoring full Q=[x6 < 1]\" 1 times in 0.232255220413208\n",
      "ran \"capturing globals [on exit]\" 22 times in 0.0005593299865722656\n",
      "Run done in 47.14718317985535 sec\n",
      "options: {'use_masks': True, 'symbolic_composition': True, 'two_pass_masks': True}\n"
     ]
    },
    {
     "name": "stderr",
     "output_type": "stream",
     "text": [
      "/usr/lib64/python3.7/site-packages/sage/plot/contour_plot.py:205: UserWarning: No contour levels were found within the data range.\n",
      "  linewidths=linewidths, linestyles=linestyles)\n"
     ]
    },
    {
     "data": {
      "image/png": "[encoded data removed]",
      "text/plain": [
       "Graphics object consisting of 2 graphics primitives"
      ]
     },
     "execution_count": 28,
     "metadata": {},
     "output_type": "execute_result"
    }
   ],
   "source": [
    "sigPQ2 = test_monitoring(P & Q, 4, use_masks=True, symbolic_composition=True, two_pass_masks=True)[1]\n",
    "sigPQ2.plot()"
   ]
  },
  {
   "cell_type": "markdown",
   "metadata": {},
   "source": [
    "##  Optimized"
   ]
  },
  {
   "cell_type": "code",
   "execution_count": 105,
   "metadata": {},
   "outputs": [
    {
     "name": "stdout",
     "output_type": "stream",
     "text": [
      "calling reach with y0 = ['[0.97999999999999998 .. 1.0200000000000001]', '[1.2799999999999998 .. 1.3200000000000001]', '[0.079999999999999987 .. 0.12000000000000001]', '[0.079999999999999987 .. 0.12000000000000001]', '[0.079999999999999987 .. 0.12000000000000001]', '[1.2799999999999998 .. 1.3200000000000001]', '[2.4799999999999999 .. 2.5200000000000001]', '[0.57999999999999996 .. 0.62000000000000011]', '[1.2799999999999998 .. 1.3200000000000001]']\n",
      "ode in polynomial ring\n",
      "crude_roots = False\n",
      "_handle_initials called!\n",
      "vars = [x1, x2, x3, x4, x5, x6, x7, x8, x9]\n",
      "C = [0.98..1.02]\n",
      "C = [1.2799999999999998..1.32]\n",
      "C = [0.07999999999999999..0.12000000000000001]\n",
      "C = [0.07999999999999999..0.12000000000000001]\n",
      "C = [0.07999999999999999..0.12000000000000001]\n",
      "C = [1.2799999999999998..1.32]\n",
      "C = [2.48..2.52]\n",
      "C = [0.58..0.6200000000000001]\n",
      "C = [1.2799999999999998..1.32]\n",
      "assigning system with dimension 9\n",
      "resulting system has dimension 9\n",
      "run within tmv args\n",
      "integrationScheme = 7\n",
      "CPU times: user 1min 59s, sys: 513 ms, total: 1min 59s\n",
      "Wall time: 2min\n"
     ]
    }
   ],
   "source": [
    "%%time\n",
    "r = sys.reach(\n",
    "    4, order=4, step=0.003,\n",
    "    precondition=1,\n",
    "    estimation=1e-1,\n",
    "    max_remainder_queue=100,\n",
    "    integration_method=IntegrationMethod.ONLY_PICARD_SYMB,\n",
    "    cutoff_threshold=1e-6,\n",
    "    symbolic_composition=True\n",
    ")"
   ]
  },
  {
   "cell_type": "code",
   "execution_count": 106,
   "metadata": {},
   "outputs": [
    {
     "data": {
      "text/html": [
       "<html><script type=\"math/tex; mode=display\">\\newcommand{\\Bold}[1]{\\mathbf{#1}}1334</script></html>"
      ],
      "text/plain": [
       "1334"
      ]
     },
     "execution_count": 106,
     "metadata": {},
     "output_type": "execute_result"
    }
   ],
   "source": [
    "r.num_flowpipes"
   ]
  },
  {
   "cell_type": "code",
   "execution_count": 107,
   "metadata": {},
   "outputs": [
    {
     "name": "stdout",
     "output_type": "stream",
     "text": [
      "PolyObserver(x6 - 1.4000000000000000?, <flowstar.reachability.Reach object at 0x7f20a4cd2320>, -0.10000000000000000?*x1*x6 - x2*x6 - 2*x6*x8 + 50*x3 + 100*x4 + 50*x5 - x6 symbolic_composition=False, tentative_unpreconditioning=True, mask=None)\n",
      "fprime = -0.10000000000000000?*x1*x6 - x2*x6 - 2*x6*x8 + 50*x3 + 100*x4 + 50*x5 - x6\n",
      "symbolic_composition=False, tentative_unpreconditioning=True\n",
      "roots(space_domain=None, epsilon=1e-05, verbosity=0)\n",
      "top-level root detection: 1 items in 7.36 seconds\n",
      "roots = [[0.0048028783727901138 .. 0.020435765977123051], [0.20345478283219919 .. 0.48300000000000043]]\n",
      "domain = [0.0000000000000000 .. 3.9990000000000002]\n",
      "roots = [[0.0048028783727901138 .. 0.020435765977123051], \n",
      " [0.20345478283219919 .. 0.48300000000000043]]\n",
      "seg_domain = [0.0000000000000000 .. 3.9990000000000002]\n",
      "roots = [[0.0048028783727901138 .. 0.020435765977123051], \n",
      " [0.20345478283219919 .. 0.48300000000000043]]\n",
      "running f_bool: 1 items in 0.00 seconds\n",
      "running f_bool: 1 items in 0.00 seconds\n",
      "running f_bool: 1 items in 0.00 seconds\n",
      "signal given bool roots: 1 items in 0.00 seconds\n",
      "CPU times: user 7.69 s, sys: 3.81 ms, total: 7.69 s\n",
      "Wall time: 7.72 s\n"
     ]
    }
   ],
   "source": [
    "%%time\n",
    "sigPc = P.signal(r, crude_roots=True, skip_unpreconditioning=True, symbolic_composition=False)\n",
    "sigPc.plot()"
   ]
  },
  {
   "cell_type": "code",
   "execution_count": 108,
   "metadata": {},
   "outputs": [
    {
     "name": "stderr",
     "output_type": "stream",
     "text": [
      "/usr/lib64/python3.7/site-packages/sage/plot/contour_plot.py:205: UserWarning: No contour levels were found within the data range.\n",
      "  linewidths=linewidths, linestyles=linestyles)\n"
     ]
    },
    {
     "data": {
      "image/png": "[encoded data removed]",
      "text/plain": [
       "Graphics object consisting of 2 graphics primitives"
      ]
     },
     "execution_count": 108,
     "metadata": {},
     "output_type": "execute_result"
    }
   ],
   "source": [
    "sigPc.to_mask_and().plot()"
   ]
  },
  {
   "cell_type": "code",
   "execution_count": 109,
   "metadata": {},
   "outputs": [
    {
     "name": "stdout",
     "output_type": "stream",
     "text": [
      "PolyObserver(-x6 + 1, <flowstar.reachability.Reach object at 0x7f20a4cd2320>, 0.10000000000000000?*x1*x6 + x2*x6 + 2*x6*x8 - 50*x3 - 100*x4 - 50*x5 + x6 symbolic_composition=True, tentative_unpreconditioning=True, mask=Mask([0.0000000000000000 .. 3.9990000000000002], [[0.0048028783727901138 .. 0.48300000000000043]]))\n",
      "fprime = 0.10000000000000000?*x1*x6 + x2*x6 + 2*x6*x8 - 50*x3 - 100*x4 - 50*x5 + x6\n",
      "symbolic_composition=True, tentative_unpreconditioning=True\n",
      "roots(space_domain=None, epsilon=1e-05, verbosity=0)\n",
      "top-level root detection: 1 items in 0.31 seconds\n",
      "roots = []\n",
      "domain = [0.0000000000000000 .. 3.9989999999999997]\n",
      "roots = []\n",
      "seg_domain = [0.0048028783727901138 .. 0.48300000000000043]\n",
      "roots = []\n",
      "running f_bool: 1 items in 0.00 seconds\n",
      "signal given bool roots: 1 items in 0.00 seconds\n",
      "CPU times: user 401 ms, sys: 17 µs, total: 401 ms\n",
      "Wall time: 400 ms\n"
     ]
    }
   ],
   "source": [
    "%%time\n",
    "sigQ = Q.signal(r, symbolic_composition=True, mask=sigPc.to_mask_and())\n",
    "sigQ.plot()"
   ]
  },
  {
   "cell_type": "code",
   "execution_count": 110,
   "metadata": {
    "scrolled": true
   },
   "outputs": [
    {
     "name": "stderr",
     "output_type": "stream",
     "text": [
      "/usr/lib64/python3.7/site-packages/sage/plot/contour_plot.py:205: UserWarning: No contour levels were found within the data range.\n",
      "  linewidths=linewidths, linestyles=linestyles)\n"
     ]
    },
    {
     "data": {
      "image/png": "[encoded data removed]",
      "text/plain": [
       "Graphics object consisting of 2 graphics primitives"
      ]
     },
     "execution_count": 110,
     "metadata": {},
     "output_type": "execute_result"
    }
   ],
   "source": [
    "sigQ.with_mask(true_mask(RIF(0, 4))).to_mask_and().plot()"
   ]
  },
  {
   "cell_type": "code",
   "execution_count": 111,
   "metadata": {},
   "outputs": [
    {
     "name": "stderr",
     "output_type": "stream",
     "text": [
      "/usr/lib64/python3.7/site-packages/sage/plot/contour_plot.py:205: UserWarning: No contour levels were found within the data range.\n",
      "  linewidths=linewidths, linestyles=linestyles)\n"
     ]
    },
    {
     "data": {
      "image/png": "[encoded data removed]",
      "text/plain": [
       "Graphics object consisting of 2 graphics primitives"
      ]
     },
     "execution_count": 111,
     "metadata": {},
     "output_type": "execute_result"
    }
   ],
   "source": [
    "maskPu = sigPc.to_mask_and() & sigPc.to_mask_or()\n",
    "maskPu.plot()"
   ]
  },
  {
   "cell_type": "code",
   "execution_count": 112,
   "metadata": {
    "scrolled": true
   },
   "outputs": [
    {
     "name": "stderr",
     "output_type": "stream",
     "text": [
      "/usr/lib64/python3.7/site-packages/sage/plot/contour_plot.py:205: UserWarning: No contour levels were found within the data range.\n",
      "  linewidths=linewidths, linestyles=linestyles)\n"
     ]
    },
    {
     "data": {
      "image/png": "[encoded data removed]",
      "text/plain": [
       "Graphics object consisting of 2 graphics primitives"
      ]
     },
     "execution_count": 112,
     "metadata": {},
     "output_type": "execute_result"
    }
   ],
   "source": [
    "maskPr = sigQ.with_mask(true_mask(RIF(0, 4))).to_mask_and() & maskPu\n",
    "maskPr.plot()"
   ]
  },
  {
   "cell_type": "code",
   "execution_count": 113,
   "metadata": {},
   "outputs": [
    {
     "name": "stdout",
     "output_type": "stream",
     "text": [
      "CPU times: user 5 µs, sys: -0 ns, total: 5 µs\n",
      "Wall time: 8.34 µs\n",
      "PolyObserver(x6 - 1.4000000000000000?, <flowstar.reachability.Reach object at 0x7f20a4cd2320>, -0.10000000000000000?*x1*x6 - x2*x6 - 2*x6*x8 + 50*x3 + 100*x4 + 50*x5 - x6 symbolic_composition=True, tentative_unpreconditioning=True, mask=Mask([0.0000000000000000 .. 3.9989999999999997], [[0.0048028783727901138 .. 0.0048028783727901139], [0.48300000000000042 .. 0.48300000000000043]]))\n",
      "fprime = -0.10000000000000000?*x1*x6 - x2*x6 - 2*x6*x8 + 50*x3 + 100*x4 + 50*x5 - x6\n",
      "symbolic_composition=True, tentative_unpreconditioning=True\n",
      "roots(space_domain=None, epsilon=1e-05, verbosity=0)\n",
      "top-level root detection: 1 items in 0.02 seconds\n",
      "roots = []\n",
      "domain = [0.0000000000000000 .. 3.9989999999999997]\n",
      "roots = []\n",
      "seg_domain = [0.0048028783727901138 .. 0.0048028783727901139]\n",
      "roots = []\n",
      "running f_bool: 1 items in 0.00 seconds\n",
      "seg_domain = [0.48300000000000042 .. 0.48300000000000043]\n",
      "roots = []\n",
      "running f_bool: 1 items in 0.00 seconds\n",
      "signal given bool roots: 1 items in 0.00 seconds\n"
     ]
    }
   ],
   "source": [
    "%time\n",
    "sigPr = P.signal(r, mask=maskPr, symbolic_composition=True)"
   ]
  },
  {
   "cell_type": "code",
   "execution_count": 114,
   "metadata": {},
   "outputs": [
    {
     "data": {
      "image/png": "[encoded data removed]",
      "text/plain": [
       "Graphics object consisting of 2 graphics primitives"
      ]
     },
     "execution_count": 114,
     "metadata": {},
     "output_type": "execute_result"
    }
   ],
   "source": [
    "sigPc.plot()"
   ]
  },
  {
   "cell_type": "code",
   "execution_count": 117,
   "metadata": {},
   "outputs": [
    {
     "data": {
      "image/png": "[encoded data removed]",
      "text/plain": [
       "Graphics object consisting of 2 graphics primitives"
      ]
     },
     "execution_count": 117,
     "metadata": {},
     "output_type": "execute_result"
    }
   ],
   "source": [
    "sigPc.union(sigPr).plot()"
   ]
  },
  {
   "cell_type": "code",
   "execution_count": 118,
   "metadata": {},
   "outputs": [
    {
     "name": "stderr",
     "output_type": "stream",
     "text": [
      "/usr/lib64/python3.7/site-packages/sage/plot/contour_plot.py:205: UserWarning: No contour levels were found within the data range.\n",
      "  linewidths=linewidths, linestyles=linestyles)\n"
     ]
    },
    {
     "data": {
      "image/png": "[encoded data removed]",
      "text/plain": [
       "Graphics object consisting of 2 graphics primitives"
      ]
     },
     "execution_count": 118,
     "metadata": {},
     "output_type": "execute_result"
    }
   ],
   "source": [
    "sig = sigPc.union(sigPr) & sigQ.with_mask(true_mask(RIF(0, 4)))\n",
    "sig.plot()"
   ]
  },
  {
   "cell_type": "code",
   "execution_count": null,
   "metadata": {},
   "outputs": [],
   "source": []
  }
 ],
 "metadata": {
  "kernelspec": {
   "display_name": "SageMath 8.8",
   "language": "sage",
   "name": "sagemath"
  },
  "language_info": {
   "codemirror_mode": {
    "name": "ipython",
    "version": 3
   },
   "file_extension": ".py",
   "mimetype": "text/x-python",
   "name": "python",
   "nbconvert_exporter": "python",
   "pygments_lexer": "ipython3",
   "version": "3.7.6"
  },
  "notify_time": "5"
 },
 "nbformat": 4,
 "nbformat_minor": 2
}
