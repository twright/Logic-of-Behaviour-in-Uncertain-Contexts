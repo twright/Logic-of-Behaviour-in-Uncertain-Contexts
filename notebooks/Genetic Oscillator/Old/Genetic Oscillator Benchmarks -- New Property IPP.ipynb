{
 "cells": [
  {
   "cell_type": "code",
   "execution_count": 1,
   "metadata": {},
   "outputs": [
    {
     "name": "stderr",
     "output_type": "stream",
     "text": [
      "/home/twright/Drive/Documents/PhD/Notebooks/notebooks/genetic_oscillator_benchmarking.py:100: PyGIWarning: Notify was imported without specifying a version first. Use gi.require_version('Notify', '0.7') before import to ensure that the right version gets loaded.\n",
      "  from gi.repository import Notify\n"
     ]
    }
   ],
   "source": [
    "%matplotlib inline\n",
    "from genetic_oscillator_benchmarking import *"
   ]
  },
  {
   "cell_type": "markdown",
   "metadata": {},
   "source": [
    "## Properties"
   ]
  },
  {
   "cell_type": "code",
   "execution_count": 2,
   "metadata": {
    "scrolled": true
   },
   "outputs": [
    {
     "data": {
      "text/plain": [
       "Atomic(x6 > 1)"
      ]
     },
     "execution_count": 2,
     "metadata": {},
     "output_type": "execute_result"
    }
   ],
   "source": [
    "P = Atomic(var(\"x6\") > 1)\n",
    "P"
   ]
  },
  {
   "cell_type": "code",
   "execution_count": 3,
   "metadata": {},
   "outputs": [],
   "source": [
    "def prop(k):\n",
    "    return (500/4)**2*(var(\"x4\") - 0.003)**2 + 3*(var(\"x6\") - 0.5)**2 < k"
   ]
  },
  {
   "cell_type": "code",
   "execution_count": 4,
   "metadata": {},
   "outputs": [
    {
     "data": {
      "text/plain": [
       "Atomic(15625*(x4 - 0.00300000000000000)^2 + 3*(x6 - 0.500000000000000)^2 < 0.100000000000000)"
      ]
     },
     "execution_count": 4,
     "metadata": {},
     "output_type": "execute_result"
    }
   ],
   "source": [
    "Q = Atomic(prop(0.1)); Q"
   ]
  },
  {
   "cell_type": "code",
   "execution_count": 5,
   "metadata": {},
   "outputs": [],
   "source": [
    "I = RIF(2.5, 3)"
   ]
  },
  {
   "cell_type": "code",
   "execution_count": 6,
   "metadata": {},
   "outputs": [],
   "source": [
    "duration = 1.5"
   ]
  },
  {
   "cell_type": "code",
   "execution_count": 7,
   "metadata": {},
   "outputs": [],
   "source": [
    "import ipyparallel as ipp"
   ]
  },
  {
   "cell_type": "code",
   "execution_count": 19,
   "metadata": {},
   "outputs": [
    {
     "data": {
      "text/plain": [
       "<AsyncResult: use_dill>"
      ]
     },
     "execution_count": 19,
     "metadata": {},
     "output_type": "execute_result"
    }
   ],
   "source": [
    "rc = ipp.Client()\n",
    "dview = rc[:]#.load_balanced_view()\n",
    "dview.use_dill()"
   ]
  },
  {
   "cell_type": "code",
   "execution_count": 20,
   "metadata": {},
   "outputs": [
    {
     "data": {
      "text/plain": [
       "True"
      ]
     },
     "execution_count": 20,
     "metadata": {},
     "output_type": "execute_result"
    }
   ],
   "source": [
    "from gi.repository import Notify\n",
    "Notify.init(\"LBUC Benchmarking\")"
   ]
  },
  {
   "cell_type": "code",
   "execution_count": 21,
   "metadata": {},
   "outputs": [],
   "source": [
    "def notify_when_done_ipp(res, task_description=None):\n",
    "    dview.wait(res)\n",
    "    \n",
    "    if task_description is None:\n",
    "        Notify.Notification.new(\"Benchmark run done!\").show()\n",
    "    else:\n",
    "        Notify.Notification.new(\"Benchmark run done!\",\n",
    "                                task_description).show()"
   ]
  },
  {
   "cell_type": "code",
   "execution_count": 30,
   "metadata": {},
   "outputs": [],
   "source": [
    "def notifyify(f):\n",
    "    def h(*args, task_description=None, **kwargs):\n",
    "        res = f(*args, **kwargs)\n",
    "        notify_when_done_ipp(res, description)\n",
    "        return res\n",
    "    return h\n",
    "    \n",
    "def envify(f):\n",
    "    def g(*args, **kwargs):\n",
    "        from sage.all import Integer\n",
    "        import sys\n",
    "        sys.path.insert(0, \"/home/twright/Documents/PhD/Notebooks/notebooks\")\n",
    "        return f(*args, **kwargs)\n",
    "    return g"
   ]
  },
  {
   "cell_type": "code",
   "execution_count": 35,
   "metadata": {},
   "outputs": [],
   "source": [
    "@envify\n",
    "def test_fn(*args, **kwargs):\n",
    "    from genetic_oscillator_benchmarking import test_monitoring\n",
    "    return test_monitoring(*args, **kwargs)"
   ]
  },
  {
   "cell_type": "code",
   "execution_count": 24,
   "metadata": {},
   "outputs": [],
   "source": [
    "def run_test(*args, task_description=None, **kwargs):\n",
    "    res = dview.apply(\n",
    "        test_fn, *args, **kwargs,\n",
    "    )\n",
    "    thread_pool.submit(notify_when_done_ipp, res, task_description)\n",
    "    return res"
   ]
  },
  {
   "cell_type": "code",
   "execution_count": 25,
   "metadata": {},
   "outputs": [],
   "source": [
    "def run(task_fn, *args, task_description=None, **kwargs):\n",
    "    res = dview.apply(\n",
    "        task, *args, **kwargs,\n",
    "    )\n",
    "    thread_pool.submit(notify_when_done_ipp, res, task_description)\n",
    "    return res"
   ]
  },
  {
   "cell_type": "code",
   "execution_count": 26,
   "metadata": {},
   "outputs": [
    {
     "data": {
      "text/plain": [
       "Atomic(x6 > 1)"
      ]
     },
     "execution_count": 26,
     "metadata": {},
     "output_type": "execute_result"
    }
   ],
   "source": [
    "P"
   ]
  },
  {
   "cell_type": "code",
   "execution_count": 36,
   "metadata": {},
   "outputs": [],
   "source": [
    "res = run_test(\n",
    "    P,\n",
    "    duration,\n",
    "    task_description='Unmasked P | G(Q)',\n",
    "    use_masks=False,\n",
    "    symbolic_composition=True,\n",
    ") "
   ]
  },
  {
   "cell_type": "code",
   "execution_count": 37,
   "metadata": {},
   "outputs": [],
   "source": [
    "res2 = run_test(\n",
    "    P | F(I, Q),\n",
    "    duration,\n",
    "    task_description='Unmasked P | G(Q)',\n",
    "    use_masks=False,\n",
    "    symbolic_composition=True,\n",
    ") "
   ]
  },
  {
   "cell_type": "code",
   "execution_count": 41,
   "metadata": {},
   "outputs": [
    {
     "ename": "TimeoutError",
     "evalue": "Result not ready.",
     "output_type": "error",
     "traceback": [
      "\u001b[0;31m---------------------------------------------------------------------------\u001b[0m",
      "\u001b[0;31mTimeoutError\u001b[0m                              Traceback (most recent call last)",
      "\u001b[0;32m<ipython-input-41-7cc32c8bef6e>\u001b[0m in \u001b[0;36m<module>\u001b[0;34m()\u001b[0m\n\u001b[0;32m----> 1\u001b[0;31m \u001b[0mres2\u001b[0m\u001b[0;34m.\u001b[0m\u001b[0mget\u001b[0m\u001b[0;34m(\u001b[0m\u001b[0mInteger\u001b[0m\u001b[0;34m(\u001b[0m\u001b[0;36m10\u001b[0m\u001b[0;34m)\u001b[0m\u001b[0;34m)\u001b[0m\u001b[0;34m[\u001b[0m\u001b[0mInteger\u001b[0m\u001b[0;34m(\u001b[0m\u001b[0;36m0\u001b[0m\u001b[0;34m)\u001b[0m\u001b[0;34m]\u001b[0m\u001b[0;34m[\u001b[0m\u001b[0mInteger\u001b[0m\u001b[0;34m(\u001b[0m\u001b[0;36m1\u001b[0m\u001b[0;34m)\u001b[0m\u001b[0;34m]\u001b[0m\u001b[0;34m.\u001b[0m\u001b[0mplot\u001b[0m\u001b[0;34m(\u001b[0m\u001b[0;34m)\u001b[0m\u001b[0;34m.\u001b[0m\u001b[0mshow\u001b[0m\u001b[0;34m(\u001b[0m\u001b[0;34m)\u001b[0m\u001b[0;34m\u001b[0m\u001b[0;34m\u001b[0m\u001b[0m\n\u001b[0m",
      "\u001b[0;32m/usr/lib/python3.8/site-packages/ipyparallel/client/asyncresult.py\u001b[0m in \u001b[0;36mget\u001b[0;34m(self, timeout)\u001b[0m\n\u001b[1;32m    169\u001b[0m                 \u001b[0;32mraise\u001b[0m \u001b[0mself\u001b[0m\u001b[0;34m.\u001b[0m\u001b[0mexception\u001b[0m\u001b[0;34m(\u001b[0m\u001b[0;34m)\u001b[0m\u001b[0;34m\u001b[0m\u001b[0;34m\u001b[0m\u001b[0m\n\u001b[1;32m    170\u001b[0m         \u001b[0;32melse\u001b[0m\u001b[0;34m:\u001b[0m\u001b[0;34m\u001b[0m\u001b[0;34m\u001b[0m\u001b[0m\n\u001b[0;32m--> 171\u001b[0;31m             \u001b[0;32mraise\u001b[0m \u001b[0merror\u001b[0m\u001b[0;34m.\u001b[0m\u001b[0mTimeoutError\u001b[0m\u001b[0;34m(\u001b[0m\u001b[0;34m\"Result not ready.\"\u001b[0m\u001b[0;34m)\u001b[0m\u001b[0;34m\u001b[0m\u001b[0;34m\u001b[0m\u001b[0m\n\u001b[0m\u001b[1;32m    172\u001b[0m \u001b[0;34m\u001b[0m\u001b[0m\n\u001b[1;32m    173\u001b[0m     \u001b[0;32mdef\u001b[0m \u001b[0m_check_ready\u001b[0m\u001b[0;34m(\u001b[0m\u001b[0mself\u001b[0m\u001b[0;34m)\u001b[0m\u001b[0;34m:\u001b[0m\u001b[0;34m\u001b[0m\u001b[0;34m\u001b[0m\u001b[0m\n",
      "\u001b[0;31mTimeoutError\u001b[0m: Result not ready."
     ]
    }
   ],
   "source": [
    "res2.get(10)[0][1].plot().show()"
   ]
  },
  {
   "cell_type": "markdown",
   "metadata": {},
   "source": [
    "## Launch Runs"
   ]
  },
  {
   "cell_type": "code",
   "execution_count": 90,
   "metadata": {},
   "outputs": [],
   "source": [
    "duration = 1.5"
   ]
  },
  {
   "cell_type": "code",
   "execution_count": 91,
   "metadata": {},
   "outputs": [],
   "source": [
    "results_unmasked = run_test(\n",
    "    P | F(I, Q),\n",
    "    duration,\n",
    "    task_description='Unmasked P | G(Q)',\n",
    "    use_masks=False,\n",
    "    symbolic_composition=True,\n",
    ")"
   ]
  },
  {
   "cell_type": "code",
   "execution_count": 92,
   "metadata": {},
   "outputs": [],
   "source": [
    "results_masked = run_test(\n",
    "    P | F(I, Q),\n",
    "    duration,\n",
    "    task_description='Masked P | F(Q)',\n",
    "    use_masks=True,\n",
    "    symbolic_composition=True,\n",
    ")"
   ]
  },
  {
   "cell_type": "code",
   "execution_count": 93,
   "metadata": {},
   "outputs": [],
   "source": [
    "results_masked_no_symbolic = run_test(\n",
    "    P | F(I, Q),\n",
    "    duration,\n",
    "    task_description='Masked P | F(Q)',\n",
    "    use_masks=True,\n",
    "    symbolic_composition=False,\n",
    ")"
   ]
  },
  {
   "cell_type": "code",
   "execution_count": 94,
   "metadata": {},
   "outputs": [],
   "source": [
    "results_masked_no_symbolic_no_selective = run_test(\n",
    "    P | F(I, Q),\n",
    "    duration,\n",
    "    task_description='Masked P | F(Q) no sym no sel',\n",
    "    use_masks=True,\n",
    "    symbolic_composition=False,\n",
    "    selective_unpreconditioning=False,\n",
    "    \n",
    ")"
   ]
  },
  {
   "cell_type": "code",
   "execution_count": 95,
   "metadata": {},
   "outputs": [],
   "source": [
    "results_masked_no_selective = run_test(\n",
    "    P | F(I, Q),\n",
    "    duration,\n",
    "    task_description='Masked P | F(Q) no sel',\n",
    "    use_masks=True,\n",
    "    symbolic_composition=True,\n",
    "    selective_unpreconditioning=False,\n",
    "    \n",
    ")"
   ]
  },
  {
   "cell_type": "code",
   "execution_count": 96,
   "metadata": {},
   "outputs": [],
   "source": [
    "results_unmasked_reversed = run_test(\n",
    "    F(I, Q) | P,\n",
    "    duration,\n",
    "    task_description='Unmasked F(Q) | P',\n",
    "    use_masks=False,\n",
    "    symbolic_composition=True,\n",
    ")"
   ]
  },
  {
   "cell_type": "code",
   "execution_count": 97,
   "metadata": {},
   "outputs": [],
   "source": [
    "results_masked_reversed = run_test(\n",
    "    F(I, Q) | P,\n",
    "    duration,\n",
    "    task_description='Masked F(Q) & P',\n",
    "    use_masks=True,\n",
    "    symbolic_composition=True,\n",
    ")"
   ]
  },
  {
   "cell_type": "code",
   "execution_count": 99,
   "metadata": {},
   "outputs": [
    {
     "ename": "TimeoutError",
     "evalue": "Result not ready.",
     "output_type": "error",
     "traceback": [
      "\u001b[0;31m---------------------------------------------------------------------------\u001b[0m",
      "\u001b[0;31mTimeoutError\u001b[0m                              Traceback (most recent call last)",
      "\u001b[0;32m<ipython-input-99-c037128da227>\u001b[0m in \u001b[0;36m<module>\u001b[0;34m()\u001b[0m\n\u001b[0;32m----> 1\u001b[0;31m \u001b[0mresults_masked\u001b[0m\u001b[0;34m.\u001b[0m\u001b[0mget\u001b[0m\u001b[0;34m(\u001b[0m\u001b[0mInteger\u001b[0m\u001b[0;34m(\u001b[0m\u001b[0;36m1\u001b[0m\u001b[0;34m)\u001b[0m\u001b[0;34m)\u001b[0m\u001b[0;34m\u001b[0m\u001b[0;34m\u001b[0m\u001b[0m\n\u001b[0m",
      "\u001b[0;32m/usr/lib/python3.8/site-packages/ipyparallel/client/asyncresult.py\u001b[0m in \u001b[0;36mget\u001b[0;34m(self, timeout)\u001b[0m\n\u001b[1;32m    169\u001b[0m                 \u001b[0;32mraise\u001b[0m \u001b[0mself\u001b[0m\u001b[0;34m.\u001b[0m\u001b[0mexception\u001b[0m\u001b[0;34m(\u001b[0m\u001b[0;34m)\u001b[0m\u001b[0;34m\u001b[0m\u001b[0;34m\u001b[0m\u001b[0m\n\u001b[1;32m    170\u001b[0m         \u001b[0;32melse\u001b[0m\u001b[0;34m:\u001b[0m\u001b[0;34m\u001b[0m\u001b[0;34m\u001b[0m\u001b[0m\n\u001b[0;32m--> 171\u001b[0;31m             \u001b[0;32mraise\u001b[0m \u001b[0merror\u001b[0m\u001b[0;34m.\u001b[0m\u001b[0mTimeoutError\u001b[0m\u001b[0;34m(\u001b[0m\u001b[0;34m\"Result not ready.\"\u001b[0m\u001b[0;34m)\u001b[0m\u001b[0;34m\u001b[0m\u001b[0;34m\u001b[0m\u001b[0m\n\u001b[0m\u001b[1;32m    172\u001b[0m \u001b[0;34m\u001b[0m\u001b[0m\n\u001b[1;32m    173\u001b[0m     \u001b[0;32mdef\u001b[0m \u001b[0m_check_ready\u001b[0m\u001b[0;34m(\u001b[0m\u001b[0mself\u001b[0m\u001b[0;34m)\u001b[0m\u001b[0;34m:\u001b[0m\u001b[0;34m\u001b[0m\u001b[0;34m\u001b[0m\u001b[0m\n",
      "\u001b[0;31mTimeoutError\u001b[0m: Result not ready."
     ]
    }
   ],
   "source": [
    "results_masked.get(1)"
   ]
  },
  {
   "cell_type": "markdown",
   "metadata": {},
   "source": [
    "# Analysis"
   ]
  },
  {
   "cell_type": "code",
   "execution_count": 67,
   "metadata": {},
   "outputs": [],
   "source": [
    "import pandas as pd"
   ]
  },
  {
   "cell_type": "code",
   "execution_count": 68,
   "metadata": {},
   "outputs": [],
   "source": [
    "def total_time_for_key(inst, ks):\n",
    "    if isinstance(ks, str):\n",
    "        ks = [ks]\n",
    "\n",
    "    return sum(inst.total_time(k)\n",
    "               for k in ks)\n",
    "\n",
    "\n",
    "def total_times(results, keys, keys_short=None):\n",
    "    ress = [\n",
    "        f.result() for f in futures(results)\n",
    "    ]\n",
    "    if keys_short is None:\n",
    "        keys_short = keys\n",
    "    data = pd.DataFrame({\n",
    "        short_key: [total_time_for_key(r[2], key) for r in ress]\n",
    "        for short_key, key in zip(keys_short, keys)\n",
    "    })\n",
    "    data.insert(len(keys), 'Total',\n",
    "                [r[1] for r in ress])\n",
    "    return data"
   ]
  },
  {
   "cell_type": "code",
   "execution_count": 69,
   "metadata": {},
   "outputs": [
    {
     "data": {
      "text/plain": [
       "['Precomposing Contexts',\n",
       " 'restoring globals',\n",
       " 'capturing globals [on exit]',\n",
       " 'Running Flow*',\n",
       " 'mask intersect check',\n",
       " 'tentative eval',\n",
       " 'composing flowpipe',\n",
       " 'whole domain eval',\n",
       " 'post retrieve',\n",
       " 'root detection',\n",
       " 'root amalgamation',\n",
       " 'prepare in check',\n",
       " 'check boolean [unguarded]',\n",
       " 'observer.check',\n",
       " 'Monitoring atomic x6 > 1',\n",
       " 'Monitoring atomic x4 < 0.0044',\n",
       " 'Monitoring Signal for x6 > 1 | G([3.0000000000000000 .. 3.5000000000000000], x4 < 0.0044)']"
      ]
     },
     "execution_count": 69,
     "metadata": {},
     "output_type": "execute_result"
    }
   ],
   "source": [
    "results_unmasked[0]['future'].result()[2].events"
   ]
  },
  {
   "cell_type": "code",
   "execution_count": 70,
   "metadata": {},
   "outputs": [],
   "source": [
    "cols_full = [\n",
    "    'Running Flow*',\n",
    "    f'Monitoring atomic {P}',\n",
    "    f'Monitoring atomic {Q}',\n",
    "    [\n",
    "        f'Monitoring Signal for {P | G(I, Q)}',\n",
    "        f'Monitoring Signal for {G(I, Q) | P}',\n",
    "    ],\n",
    "    'tentative eval',\n",
    "    'root detection',\n",
    "    'composing flowpipe',\n",
    "]\n",
    "cols_short = [\n",
    "    'Flow*', 'P', 'Q', 'P | G(Q)',\n",
    "    'tentative eval',\n",
    "    'root detection',\n",
    "    'composing flowpipe',\n",
    "]"
   ]
  },
  {
   "cell_type": "markdown",
   "metadata": {},
   "source": [
    "## Raw results"
   ]
  },
  {
   "cell_type": "code",
   "execution_count": 71,
   "metadata": {},
   "outputs": [
    {
     "data": {
      "text/html": [
       "<div>\n",
       "<style scoped>\n",
       "    .dataframe tbody tr th:only-of-type {\n",
       "        vertical-align: middle;\n",
       "    }\n",
       "\n",
       "    .dataframe tbody tr th {\n",
       "        vertical-align: top;\n",
       "    }\n",
       "\n",
       "    .dataframe thead th {\n",
       "        text-align: right;\n",
       "    }\n",
       "</style>\n",
       "<table border=\"1\" class=\"dataframe\">\n",
       "  <thead>\n",
       "    <tr style=\"text-align: right;\">\n",
       "      <th></th>\n",
       "      <th>Flow*</th>\n",
       "      <th>P</th>\n",
       "      <th>Q</th>\n",
       "      <th>P | G(Q)</th>\n",
       "      <th>tentative eval</th>\n",
       "      <th>root detection</th>\n",
       "      <th>composing flowpipe</th>\n",
       "      <th>Total</th>\n",
       "    </tr>\n",
       "  </thead>\n",
       "  <tbody>\n",
       "    <tr>\n",
       "      <th>0</th>\n",
       "      <td>51.599025</td>\n",
       "      <td>6.395787</td>\n",
       "      <td>39.829344</td>\n",
       "      <td>46.322496</td>\n",
       "      <td>3.242143</td>\n",
       "      <td>0.026164</td>\n",
       "      <td>40.385964</td>\n",
       "      <td>98.090237</td>\n",
       "    </tr>\n",
       "    <tr>\n",
       "      <th>1</th>\n",
       "      <td>60.315117</td>\n",
       "      <td>6.617105</td>\n",
       "      <td>39.457317</td>\n",
       "      <td>46.157910</td>\n",
       "      <td>3.211459</td>\n",
       "      <td>0.026503</td>\n",
       "      <td>40.218330</td>\n",
       "      <td>106.642945</td>\n",
       "    </tr>\n",
       "    <tr>\n",
       "      <th>2</th>\n",
       "      <td>59.835863</td>\n",
       "      <td>5.897619</td>\n",
       "      <td>39.708208</td>\n",
       "      <td>45.713136</td>\n",
       "      <td>3.281752</td>\n",
       "      <td>0.026263</td>\n",
       "      <td>39.774999</td>\n",
       "      <td>105.723314</td>\n",
       "    </tr>\n",
       "    <tr>\n",
       "      <th>3</th>\n",
       "      <td>50.751895</td>\n",
       "      <td>6.474179</td>\n",
       "      <td>43.988088</td>\n",
       "      <td>50.553225</td>\n",
       "      <td>3.841515</td>\n",
       "      <td>0.027000</td>\n",
       "      <td>43.804419</td>\n",
       "      <td>101.462306</td>\n",
       "    </tr>\n",
       "    <tr>\n",
       "      <th>4</th>\n",
       "      <td>49.874196</td>\n",
       "      <td>6.022131</td>\n",
       "      <td>39.197219</td>\n",
       "      <td>45.309449</td>\n",
       "      <td>3.196713</td>\n",
       "      <td>0.026056</td>\n",
       "      <td>39.472448</td>\n",
       "      <td>95.328560</td>\n",
       "    </tr>\n",
       "  </tbody>\n",
       "</table>\n",
       "</div>"
      ],
      "text/plain": [
       "       Flow*         P          Q   P | G(Q)  tentative eval  root detection  \\\n",
       "0  51.599025  6.395787  39.829344  46.322496        3.242143        0.026164   \n",
       "1  60.315117  6.617105  39.457317  46.157910        3.211459        0.026503   \n",
       "2  59.835863  5.897619  39.708208  45.713136        3.281752        0.026263   \n",
       "3  50.751895  6.474179  43.988088  50.553225        3.841515        0.027000   \n",
       "4  49.874196  6.022131  39.197219  45.309449        3.196713        0.026056   \n",
       "\n",
       "   composing flowpipe       Total  \n",
       "0           40.385964   98.090237  \n",
       "1           40.218330  106.642945  \n",
       "2           39.774999  105.723314  \n",
       "3           43.804419  101.462306  \n",
       "4           39.472448   95.328560  "
      ]
     },
     "execution_count": 71,
     "metadata": {},
     "output_type": "execute_result"
    }
   ],
   "source": [
    "times_unmasked = total_times(\n",
    "    results_unmasked,\n",
    "    cols_full,\n",
    "    cols_short,\n",
    ")\n",
    "times_unmasked"
   ]
  },
  {
   "cell_type": "code",
   "execution_count": 72,
   "metadata": {},
   "outputs": [
    {
     "data": {
      "text/plain": [
       "5.151358107997558"
      ]
     },
     "execution_count": 72,
     "metadata": {},
     "output_type": "execute_result"
    }
   ],
   "source": [
    "times_unmasked['Flow*'].std()"
   ]
  },
  {
   "cell_type": "code",
   "execution_count": 73,
   "metadata": {},
   "outputs": [
    {
     "data": {
      "text/html": [
       "<div>\n",
       "<style scoped>\n",
       "    .dataframe tbody tr th:only-of-type {\n",
       "        vertical-align: middle;\n",
       "    }\n",
       "\n",
       "    .dataframe tbody tr th {\n",
       "        vertical-align: top;\n",
       "    }\n",
       "\n",
       "    .dataframe thead th {\n",
       "        text-align: right;\n",
       "    }\n",
       "</style>\n",
       "<table border=\"1\" class=\"dataframe\">\n",
       "  <thead>\n",
       "    <tr style=\"text-align: right;\">\n",
       "      <th></th>\n",
       "      <th>Flow*</th>\n",
       "      <th>P</th>\n",
       "      <th>Q</th>\n",
       "      <th>P | G(Q)</th>\n",
       "      <th>tentative eval</th>\n",
       "      <th>root detection</th>\n",
       "      <th>composing flowpipe</th>\n",
       "      <th>Total</th>\n",
       "    </tr>\n",
       "  </thead>\n",
       "  <tbody>\n",
       "    <tr>\n",
       "      <th>0</th>\n",
       "      <td>50.194442</td>\n",
       "      <td>4.529647</td>\n",
       "      <td>5.707812</td>\n",
       "      <td>10.328794</td>\n",
       "      <td>0.872809</td>\n",
       "      <td>0.005202</td>\n",
       "      <td>8.783137</td>\n",
       "      <td>60.679837</td>\n",
       "    </tr>\n",
       "    <tr>\n",
       "      <th>1</th>\n",
       "      <td>50.843219</td>\n",
       "      <td>4.840234</td>\n",
       "      <td>7.473095</td>\n",
       "      <td>12.406711</td>\n",
       "      <td>1.110436</td>\n",
       "      <td>0.005645</td>\n",
       "      <td>10.517627</td>\n",
       "      <td>63.411967</td>\n",
       "    </tr>\n",
       "    <tr>\n",
       "      <th>2</th>\n",
       "      <td>54.523299</td>\n",
       "      <td>4.719995</td>\n",
       "      <td>6.152996</td>\n",
       "      <td>10.951844</td>\n",
       "      <td>0.937863</td>\n",
       "      <td>0.005363</td>\n",
       "      <td>9.321006</td>\n",
       "      <td>65.634893</td>\n",
       "    </tr>\n",
       "    <tr>\n",
       "      <th>3</th>\n",
       "      <td>50.491640</td>\n",
       "      <td>4.593885</td>\n",
       "      <td>5.831132</td>\n",
       "      <td>10.506449</td>\n",
       "      <td>0.897418</td>\n",
       "      <td>0.005248</td>\n",
       "      <td>8.936787</td>\n",
       "      <td>61.139756</td>\n",
       "    </tr>\n",
       "    <tr>\n",
       "      <th>4</th>\n",
       "      <td>52.438623</td>\n",
       "      <td>4.646413</td>\n",
       "      <td>6.122736</td>\n",
       "      <td>10.868738</td>\n",
       "      <td>0.934771</td>\n",
       "      <td>0.005433</td>\n",
       "      <td>9.206989</td>\n",
       "      <td>63.483314</td>\n",
       "    </tr>\n",
       "  </tbody>\n",
       "</table>\n",
       "</div>"
      ],
      "text/plain": [
       "       Flow*         P         Q   P | G(Q)  tentative eval  root detection  \\\n",
       "0  50.194442  4.529647  5.707812  10.328794        0.872809        0.005202   \n",
       "1  50.843219  4.840234  7.473095  12.406711        1.110436        0.005645   \n",
       "2  54.523299  4.719995  6.152996  10.951844        0.937863        0.005363   \n",
       "3  50.491640  4.593885  5.831132  10.506449        0.897418        0.005248   \n",
       "4  52.438623  4.646413  6.122736  10.868738        0.934771        0.005433   \n",
       "\n",
       "   composing flowpipe      Total  \n",
       "0            8.783137  60.679837  \n",
       "1           10.517627  63.411967  \n",
       "2            9.321006  65.634893  \n",
       "3            8.936787  61.139756  \n",
       "4            9.206989  63.483314  "
      ]
     },
     "execution_count": 73,
     "metadata": {},
     "output_type": "execute_result"
    }
   ],
   "source": [
    "times_masked = total_times(\n",
    "    results_masked,\n",
    "    cols_full,\n",
    "    cols_short,\n",
    ")\n",
    "times_masked"
   ]
  },
  {
   "cell_type": "code",
   "execution_count": 74,
   "metadata": {},
   "outputs": [
    {
     "data": {
      "text/plain": [
       "1.8012132041443214"
      ]
     },
     "execution_count": 74,
     "metadata": {},
     "output_type": "execute_result"
    }
   ],
   "source": [
    "times_masked['Flow*'].std()"
   ]
  },
  {
   "cell_type": "markdown",
   "metadata": {},
   "source": [
    "## Comparison"
   ]
  },
  {
   "cell_type": "code",
   "execution_count": 75,
   "metadata": {},
   "outputs": [],
   "source": [
    "series = ['masked', 'unmasked',\n",
    "          'masked_reversed', 'unmasked_reversed']\n",
    "# total_timess = {\n",
    "#    s: pd.load_csv(f'data/analysis3_raw_{s}.csv')\n",
    "#    for s in series \n",
    "# }\n",
    "total_timess = {\n",
    "    s: total_times(eval(f'results_{s}'), cols_full, cols_short)\n",
    "    for s in series \n",
    "}"
   ]
  },
  {
   "cell_type": "code",
   "execution_count": 79,
   "metadata": {},
   "outputs": [],
   "source": [
    "for s, d in total_timess.items():\n",
    "    d.to_csv(f'data/analysis3_raw_{s}.csv')"
   ]
  },
  {
   "cell_type": "code",
   "execution_count": 76,
   "metadata": {},
   "outputs": [],
   "source": [
    "comparison = pd.DataFrame({\n",
    "    s: total_times.mean()\n",
    "    for s, total_times in total_timess.items()\n",
    "})"
   ]
  },
  {
   "cell_type": "code",
   "execution_count": null,
   "metadata": {},
   "outputs": [],
   "source": []
  },
  {
   "cell_type": "code",
   "execution_count": 81,
   "metadata": {},
   "outputs": [
    {
     "data": {
      "text/html": [
       "<div>\n",
       "<style scoped>\n",
       "    .dataframe tbody tr th:only-of-type {\n",
       "        vertical-align: middle;\n",
       "    }\n",
       "\n",
       "    .dataframe tbody tr th {\n",
       "        vertical-align: top;\n",
       "    }\n",
       "\n",
       "    .dataframe thead th {\n",
       "        text-align: right;\n",
       "    }\n",
       "</style>\n",
       "<table border=\"1\" class=\"dataframe\">\n",
       "  <thead>\n",
       "    <tr style=\"text-align: right;\">\n",
       "      <th></th>\n",
       "      <th>masked</th>\n",
       "      <th>unmasked</th>\n",
       "      <th>masked_reversed</th>\n",
       "      <th>unmasked_reversed</th>\n",
       "    </tr>\n",
       "  </thead>\n",
       "  <tbody>\n",
       "    <tr>\n",
       "      <th>Flow*</th>\n",
       "      <td>51.698245</td>\n",
       "      <td>54.475219</td>\n",
       "      <td>52.862549</td>\n",
       "      <td>55.707290</td>\n",
       "    </tr>\n",
       "    <tr>\n",
       "      <th>P</th>\n",
       "      <td>4.666035</td>\n",
       "      <td>6.281364</td>\n",
       "      <td>4.983861</td>\n",
       "      <td>6.595809</td>\n",
       "    </tr>\n",
       "    <tr>\n",
       "      <th>Q</th>\n",
       "      <td>6.257554</td>\n",
       "      <td>40.436035</td>\n",
       "      <td>20.109990</td>\n",
       "      <td>42.201623</td>\n",
       "    </tr>\n",
       "    <tr>\n",
       "      <th>P | G(Q)</th>\n",
       "      <td>11.012507</td>\n",
       "      <td>46.811243</td>\n",
       "      <td>0.000000</td>\n",
       "      <td>48.893257</td>\n",
       "    </tr>\n",
       "    <tr>\n",
       "      <th>tentative eval</th>\n",
       "      <td>0.950660</td>\n",
       "      <td>3.354716</td>\n",
       "      <td>1.158478</td>\n",
       "      <td>2.663521</td>\n",
       "    </tr>\n",
       "    <tr>\n",
       "      <th>root detection</th>\n",
       "      <td>0.005378</td>\n",
       "      <td>0.026397</td>\n",
       "      <td>0.015140</td>\n",
       "      <td>0.027092</td>\n",
       "    </tr>\n",
       "    <tr>\n",
       "      <th>composing flowpipe</th>\n",
       "      <td>9.353109</td>\n",
       "      <td>40.731232</td>\n",
       "      <td>22.068476</td>\n",
       "      <td>42.259191</td>\n",
       "    </tr>\n",
       "    <tr>\n",
       "      <th>Total</th>\n",
       "      <td>62.869954</td>\n",
       "      <td>101.449472</td>\n",
       "      <td>78.876031</td>\n",
       "      <td>104.754707</td>\n",
       "    </tr>\n",
       "  </tbody>\n",
       "</table>\n",
       "</div>"
      ],
      "text/plain": [
       "                       masked    unmasked  masked_reversed  unmasked_reversed\n",
       "Flow*               51.698245   54.475219        52.862549          55.707290\n",
       "P                    4.666035    6.281364         4.983861           6.595809\n",
       "Q                    6.257554   40.436035        20.109990          42.201623\n",
       "P | G(Q)            11.012507   46.811243         0.000000          48.893257\n",
       "tentative eval       0.950660    3.354716         1.158478           2.663521\n",
       "root detection       0.005378    0.026397         0.015140           0.027092\n",
       "composing flowpipe   9.353109   40.731232        22.068476          42.259191\n",
       "Total               62.869954  101.449472        78.876031         104.754707"
      ]
     },
     "execution_count": 81,
     "metadata": {},
     "output_type": "execute_result"
    }
   ],
   "source": [
    "comparison"
   ]
  },
  {
   "cell_type": "code",
   "execution_count": 82,
   "metadata": {},
   "outputs": [
    {
     "data": {
      "text/html": [
       "<div>\n",
       "<style scoped>\n",
       "    .dataframe tbody tr th:only-of-type {\n",
       "        vertical-align: middle;\n",
       "    }\n",
       "\n",
       "    .dataframe tbody tr th {\n",
       "        vertical-align: top;\n",
       "    }\n",
       "\n",
       "    .dataframe thead th {\n",
       "        text-align: right;\n",
       "    }\n",
       "</style>\n",
       "<table border=\"1\" class=\"dataframe\">\n",
       "  <thead>\n",
       "    <tr style=\"text-align: right;\">\n",
       "      <th></th>\n",
       "      <th>P</th>\n",
       "      <th>Q</th>\n",
       "    </tr>\n",
       "  </thead>\n",
       "  <tbody>\n",
       "    <tr>\n",
       "      <th>masked</th>\n",
       "      <td>4.666035</td>\n",
       "      <td>6.257554</td>\n",
       "    </tr>\n",
       "    <tr>\n",
       "      <th>unmasked</th>\n",
       "      <td>6.281364</td>\n",
       "      <td>40.436035</td>\n",
       "    </tr>\n",
       "    <tr>\n",
       "      <th>masked_reversed</th>\n",
       "      <td>4.983861</td>\n",
       "      <td>20.109990</td>\n",
       "    </tr>\n",
       "    <tr>\n",
       "      <th>unmasked_reversed</th>\n",
       "      <td>6.595809</td>\n",
       "      <td>42.201623</td>\n",
       "    </tr>\n",
       "  </tbody>\n",
       "</table>\n",
       "</div>"
      ],
      "text/plain": [
       "                          P          Q\n",
       "masked             4.666035   6.257554\n",
       "unmasked           6.281364  40.436035\n",
       "masked_reversed    4.983861  20.109990\n",
       "unmasked_reversed  6.595809  42.201623"
      ]
     },
     "execution_count": 82,
     "metadata": {},
     "output_type": "execute_result"
    }
   ],
   "source": [
    "comparison2 = comparison.loc[['P', 'Q'],:].transpose()\n",
    "comparison2"
   ]
  },
  {
   "cell_type": "code",
   "execution_count": 83,
   "metadata": {},
   "outputs": [
    {
     "data": {
      "text/plain": [
       "<matplotlib.axes._subplots.AxesSubplot at 0x7efdf4cc1cd0>"
      ]
     },
     "execution_count": 83,
     "metadata": {},
     "output_type": "execute_result"
    },
    {
     "data": {
      "image/png": "[encoded data removed]",
      "text/plain": [
       "<Figure size 432x288 with 1 Axes>"
      ]
     },
     "metadata": {
      "needs_background": "light"
     },
     "output_type": "display_data"
    }
   ],
   "source": [
    "comparison2.plot(kind='barh', stacked=True)"
   ]
  },
  {
   "cell_type": "code",
   "execution_count": 84,
   "metadata": {},
   "outputs": [
    {
     "data": {
      "text/plain": [
       "<matplotlib.axes._subplots.AxesSubplot at 0x7efddc9866a0>"
      ]
     },
     "execution_count": 84,
     "metadata": {},
     "output_type": "execute_result"
    },
    {
     "data": {
      "image/png": "[encoded data removed]",
      "text/plain": [
       "<Figure size 432x288 with 1 Axes>"
      ]
     },
     "metadata": {
      "needs_background": "light"
     },
     "output_type": "display_data"
    }
   ],
   "source": [
    "comparison3 = comparison.loc[['P | G(Q)'],:].transpose()\n",
    "comparison3.plot(kind='barh')"
   ]
  },
  {
   "cell_type": "code",
   "execution_count": 85,
   "metadata": {},
   "outputs": [],
   "source": [
    "restart_pool()"
   ]
  },
  {
   "cell_type": "code",
   "execution_count": null,
   "metadata": {},
   "outputs": [],
   "source": []
  }
 ],
 "metadata": {
  "kernelspec": {
   "display_name": "SageMath 9.0",
   "language": "sage",
   "name": "sagemath"
  },
  "language_info": {
   "codemirror_mode": {
    "name": "ipython",
    "version": 3
   },
   "file_extension": ".py",
   "mimetype": "text/x-python",
   "name": "python",
   "nbconvert_exporter": "python",
   "pygments_lexer": "ipython3",
   "version": "3.8.2"
  },
  "notify_time": "5"
 },
 "nbformat": 4,
 "nbformat_minor": 2
}
