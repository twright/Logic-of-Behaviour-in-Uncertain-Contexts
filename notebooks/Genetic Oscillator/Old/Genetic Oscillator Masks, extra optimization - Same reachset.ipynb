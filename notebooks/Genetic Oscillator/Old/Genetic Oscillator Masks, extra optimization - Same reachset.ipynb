{
 "cells": [
  {
   "cell_type": "code",
   "execution_count": 1,
   "metadata": {},
   "outputs": [],
   "source": [
    "%display latex\n",
    "import sys\n",
    "\n",
    "sys.path.insert(0, \"/home/twright/Documents/PhD/Notebooks\")\n",
    "\n",
    "from ulbc import *\n",
    "from flowstar import *\n",
    "from ulbc.bondcalculus import *"
   ]
  },
  {
   "cell_type": "code",
   "execution_count": 2,
   "metadata": {},
   "outputs": [],
   "source": [
    "R.<x1,x2,x3,x4,x5,x6,x7,x8,x9> = RIF[]"
   ]
  },
  {
   "cell_type": "code",
   "execution_count": 3,
   "metadata": {},
   "outputs": [],
   "source": [
    "y = vector([\n",
    "    10*x3 - RIF('0.1')*x1*x6,\n",
    "    100*x4 - x1*x2,\n",
    "    RIF('0.1')*x1*x6 - 50*x3,\n",
    "    x2*x6 - 100*x4,\n",
    "    5*x3 + RIF('0.5')*x1 - 10*x5,\n",
    "    50*x5 + 50*x3 + 100*x4 - x6*(RIF('0.1')*x1 + x2 + 2*x8 + 1),\n",
    "    50*x4 + RIF('0.01')*x2 - RIF('0.5')*x7,\n",
    "    RIF('0.5')*x7 - 2*x6*x8 + x9 - RIF('0.2')*x8,\n",
    "    2*x6*x8 - x9,\n",
    "])"
   ]
  },
  {
   "cell_type": "code",
   "execution_count": 4,
   "metadata": {},
   "outputs": [
    {
     "data": {
      "text/html": [
       "<html><script type=\"math/tex; mode=display\">\\newcommand{\\Bold}[1]{\\mathbf{#1}}\\left(-0.10000000000000000? x_{1} x_{6} + 10 x_{3},\\,-x_{1} x_{2} + 100 x_{4},\\,0.10000000000000000? x_{1} x_{6} - 50 x_{3},\\,x_{2} x_{6} - 100 x_{4},\\,0.50000000000000000? x_{1} + 5 x_{3} - 10 x_{5},\\,-0.10000000000000000? x_{1} x_{6} - x_{2} x_{6} - 2 x_{6} x_{8} + 50 x_{3} + 100 x_{4} + 50 x_{5} - x_{6},\\,0.01000000000000000? x_{2} + 50 x_{4} - 0.50000000000000000? x_{7},\\,-2 x_{6} x_{8} + 0.50000000000000000? x_{7} - 0.2000000000000000? x_{8} + x_{9},\\,2 x_{6} x_{8} - x_{9}\\right)</script></html>"
      ],
      "text/plain": [
       "(-0.10000000000000000?*x1*x6 + 10*x3, -x1*x2 + 100*x4, 0.10000000000000000?*x1*x6 - 50*x3, x2*x6 - 100*x4, 0.50000000000000000?*x1 + 5*x3 - 10*x5, -0.10000000000000000?*x1*x6 - x2*x6 - 2*x6*x8 + 50*x3 + 100*x4 + 50*x5 - x6, 0.01000000000000000?*x2 + 50*x4 - 0.50000000000000000?*x7, -2*x6*x8 + 0.50000000000000000?*x7 - 0.2000000000000000?*x8 + x9, 2*x6*x8 - x9)"
      ]
     },
     "execution_count": 4,
     "metadata": {},
     "output_type": "execute_result"
    }
   ],
   "source": [
    "y"
   ]
  },
  {
   "cell_type": "code",
   "execution_count": 5,
   "metadata": {},
   "outputs": [
    {
     "data": {
      "text/html": [
       "<div class=\"notruncate\">\n",
       "<table  class=\"table_form\">\n",
       "<tbody>\n",
       "<tr class =\"row-a\">\n",
       "<td><script type=\"math/tex\">-0.10000000000000000? x_{1} x_{6} + 10 x_{3}</script></td>\n",
       "</tr>\n",
       "<tr class =\"row-b\">\n",
       "<td><script type=\"math/tex\">-x_{1} x_{2} + 100 x_{4}</script></td>\n",
       "</tr>\n",
       "<tr class =\"row-a\">\n",
       "<td><script type=\"math/tex\">0.10000000000000000? x_{1} x_{6} - 50 x_{3}</script></td>\n",
       "</tr>\n",
       "<tr class =\"row-b\">\n",
       "<td><script type=\"math/tex\">x_{2} x_{6} - 100 x_{4}</script></td>\n",
       "</tr>\n",
       "<tr class =\"row-a\">\n",
       "<td><script type=\"math/tex\">0.50000000000000000? x_{1} + 5 x_{3} - 10 x_{5}</script></td>\n",
       "</tr>\n",
       "<tr class =\"row-b\">\n",
       "<td><script type=\"math/tex\">-0.10000000000000000? x_{1} x_{6} - x_{2} x_{6} - 2 x_{6} x_{8} + 50 x_{3} + 100 x_{4} + 50 x_{5} - x_{6}</script></td>\n",
       "</tr>\n",
       "<tr class =\"row-a\">\n",
       "<td><script type=\"math/tex\">0.01000000000000000? x_{2} + 50 x_{4} - 0.50000000000000000? x_{7}</script></td>\n",
       "</tr>\n",
       "<tr class =\"row-b\">\n",
       "<td><script type=\"math/tex\">-2 x_{6} x_{8} + 0.50000000000000000? x_{7} - 0.2000000000000000? x_{8} + x_{9}</script></td>\n",
       "</tr>\n",
       "<tr class =\"row-a\">\n",
       "<td><script type=\"math/tex\">2 x_{6} x_{8} - x_{9}</script></td>\n",
       "</tr>\n",
       "</tbody>\n",
       "</table>\n",
       "</div>"
      ],
      "text/plain": [
       "  -0.10000000000000000?*x1*x6 + 10*x3\n",
       "  -x1*x2 + 100*x4\n",
       "  0.10000000000000000?*x1*x6 - 50*x3\n",
       "  x2*x6 - 100*x4\n",
       "  0.50000000000000000?*x1 + 5*x3 - 10*x5\n",
       "  -0.10000000000000000?*x1*x6 - x2*x6 - 2*x6*x8 + 50*x3 + 100*x4 + 50*x5 - x6\n",
       "  0.01000000000000000?*x2 + 50*x4 - 0.50000000000000000?*x7\n",
       "  -2*x6*x8 + 0.50000000000000000?*x7 - 0.2000000000000000?*x8 + x9\n",
       "  2*x6*x8 - x9"
      ]
     },
     "execution_count": 5,
     "metadata": {},
     "output_type": "execute_result"
    }
   ],
   "source": [
    "table([[yi] for yi in y])"
   ]
  },
  {
   "cell_type": "code",
   "execution_count": 6,
   "metadata": {},
   "outputs": [],
   "source": [
    "y0 = [\n",
    "    RIF('[0.98, 1.02]'),\n",
    "    RIF('[1.28, 1.32]'),\n",
    "    RIF('[0.08, 0.12]'),\n",
    "    RIF('[0.08, 0.12]'), # x4\n",
    "    RIF('[0.08, 0.12]'),\n",
    "    RIF('[1.28, 1.32]'), # x6\n",
    "    RIF('[2.48, 2.52]'),\n",
    "    RIF('[0.58, 0.62]'),\n",
    "    RIF('[1.28, 1.32]'),\n",
    "]"
   ]
  },
  {
   "cell_type": "code",
   "execution_count": 7,
   "metadata": {},
   "outputs": [
    {
     "data": {
      "text/html": [
       "<div class=\"notruncate\">\n",
       "<table  class=\"table_form\">\n",
       "<tbody>\n",
       "<tr class =\"row-a\">\n",
       "<td><script type=\"math/tex\">0.979999999999999</script></td>\n",
       "<td><script type=\"math/tex\">1.02000000000001</script></td>\n",
       "</tr>\n",
       "<tr class =\"row-b\">\n",
       "<td><script type=\"math/tex\">1.27999999999999</script></td>\n",
       "<td><script type=\"math/tex\">1.32000000000001</script></td>\n",
       "</tr>\n",
       "<tr class =\"row-a\">\n",
       "<td><script type=\"math/tex\">0.0799999999999999</script></td>\n",
       "<td><script type=\"math/tex\">0.120000000000001</script></td>\n",
       "</tr>\n",
       "<tr class =\"row-b\">\n",
       "<td><script type=\"math/tex\">0.0799999999999999</script></td>\n",
       "<td><script type=\"math/tex\">0.120000000000001</script></td>\n",
       "</tr>\n",
       "<tr class =\"row-a\">\n",
       "<td><script type=\"math/tex\">0.0799999999999999</script></td>\n",
       "<td><script type=\"math/tex\">0.120000000000001</script></td>\n",
       "</tr>\n",
       "<tr class =\"row-b\">\n",
       "<td><script type=\"math/tex\">1.27999999999999</script></td>\n",
       "<td><script type=\"math/tex\">1.32000000000001</script></td>\n",
       "</tr>\n",
       "<tr class =\"row-a\">\n",
       "<td><script type=\"math/tex\">2.47999999999999</script></td>\n",
       "<td><script type=\"math/tex\">2.52000000000001</script></td>\n",
       "</tr>\n",
       "<tr class =\"row-b\">\n",
       "<td><script type=\"math/tex\">0.579999999999999</script></td>\n",
       "<td><script type=\"math/tex\">0.620000000000001</script></td>\n",
       "</tr>\n",
       "<tr class =\"row-a\">\n",
       "<td><script type=\"math/tex\">1.27999999999999</script></td>\n",
       "<td><script type=\"math/tex\">1.32000000000001</script></td>\n",
       "</tr>\n",
       "</tbody>\n",
       "</table>\n",
       "</div>"
      ],
      "text/plain": [
       "  0.979999999999999    1.02000000000001\n",
       "  1.27999999999999     1.32000000000001\n",
       "  0.0799999999999999   0.120000000000001\n",
       "  0.0799999999999999   0.120000000000001\n",
       "  0.0799999999999999   0.120000000000001\n",
       "  1.27999999999999     1.32000000000001\n",
       "  2.47999999999999     2.52000000000001\n",
       "  0.579999999999999    0.620000000000001\n",
       "  1.27999999999999     1.32000000000001"
      ]
     },
     "execution_count": 7,
     "metadata": {},
     "output_type": "execute_result"
    }
   ],
   "source": [
    "table([y0i.endpoints() for y0i in y0])"
   ]
  },
  {
   "cell_type": "code",
   "execution_count": 8,
   "metadata": {},
   "outputs": [
    {
     "data": {
      "text/html": [
       "<html><script type=\"math/tex; mode=display\">\\newcommand{\\Bold}[1]{\\mathbf{#1}}\\Bold{I} \\Bold{R}[x_{1}, x_{2}, x_{3}, x_{4}, x_{5}, x_{6}, x_{7}, x_{8}, x_{9}]</script></html>"
      ],
      "text/plain": [
       "Multivariate Polynomial Ring in x1, x2, x3, x4, x5, x6, x7, x8, x9 over Real Interval Field with 53 bits of precision"
      ]
     },
     "execution_count": 8,
     "metadata": {},
     "output_type": "execute_result"
    }
   ],
   "source": [
    "R"
   ]
  },
  {
   "cell_type": "code",
   "execution_count": 9,
   "metadata": {},
   "outputs": [
    {
     "data": {
      "text/html": [
       "<html><script type=\"math/tex; mode=display\">\\newcommand{\\Bold}[1]{\\mathbf{#1}}\\verb|System(R,|\\phantom{\\verb!x!}\\verb|(x1,|\\phantom{\\verb!x!}\\verb|x2,|\\phantom{\\verb!x!}\\verb|x3,|\\phantom{\\verb!x!}\\verb|x4,|\\phantom{\\verb!x!}\\verb|x5,|\\phantom{\\verb!x!}\\verb|x6,|\\phantom{\\verb!x!}\\verb|x7,|\\phantom{\\verb!x!}\\verb|x8,|\\phantom{\\verb!x!}\\verb|x9),|\\phantom{\\verb!x!}\\verb|[[0.97999999999999998|\\phantom{\\verb!x!}\\verb|..|\\phantom{\\verb!x!}\\verb|1.0200000000000001],|\\phantom{\\verb!x!}\\verb|[1.2799999999999998|\\phantom{\\verb!x!}\\verb|..|\\phantom{\\verb!x!}\\verb|1.3200000000000001],|\\phantom{\\verb!x!}\\verb|[0.079999999999999987|\\phantom{\\verb!x!}\\verb|..|\\phantom{\\verb!x!}\\verb|0.12000000000000001],|\\phantom{\\verb!x!}\\verb|[0.079999999999999987|\\phantom{\\verb!x!}\\verb|..|\\phantom{\\verb!x!}\\verb|0.12000000000000001],|\\phantom{\\verb!x!}\\verb|[0.079999999999999987|\\phantom{\\verb!x!}\\verb|..|\\phantom{\\verb!x!}\\verb|0.12000000000000001],|\\phantom{\\verb!x!}\\verb|[1.2799999999999998|\\phantom{\\verb!x!}\\verb|..|\\phantom{\\verb!x!}\\verb|1.3200000000000001],|\\phantom{\\verb!x!}\\verb|[2.4799999999999999|\\phantom{\\verb!x!}\\verb|..|\\phantom{\\verb!x!}\\verb|2.5200000000000001],|\\phantom{\\verb!x!}\\verb|[0.57999999999999996|\\phantom{\\verb!x!}\\verb|..|\\phantom{\\verb!x!}\\verb|0.62000000000000011],|\\phantom{\\verb!x!}\\verb|[1.2799999999999998|\\phantom{\\verb!x!}\\verb|..|\\phantom{\\verb!x!}\\verb|1.3200000000000001]],|\\phantom{\\verb!x!}\\verb|(-0.10000000000000000?*x1*x6|\\phantom{\\verb!x!}\\verb|+|\\phantom{\\verb!x!}\\verb|10*x3,|\\phantom{\\verb!x!}\\verb|-x1*x2|\\phantom{\\verb!x!}\\verb|+|\\phantom{\\verb!x!}\\verb|100*x4,|\\phantom{\\verb!x!}\\verb|0.10000000000000000?*x1*x6|\\phantom{\\verb!x!}\\verb|-|\\phantom{\\verb!x!}\\verb|50*x3,|\\phantom{\\verb!x!}\\verb|x2*x6|\\phantom{\\verb!x!}\\verb|-|\\phantom{\\verb!x!}\\verb|100*x4,|\\phantom{\\verb!x!}\\verb|0.50000000000000000?*x1|\\phantom{\\verb!x!}\\verb|+|\\phantom{\\verb!x!}\\verb|5*x3|\\phantom{\\verb!x!}\\verb|-|\\phantom{\\verb!x!}\\verb|10*x5,|\\phantom{\\verb!x!}\\verb|-0.10000000000000000?*x1*x6|\\phantom{\\verb!x!}\\verb|-|\\phantom{\\verb!x!}\\verb|x2*x6|\\phantom{\\verb!x!}\\verb|-|\\phantom{\\verb!x!}\\verb|2*x6*x8|\\phantom{\\verb!x!}\\verb|+|\\phantom{\\verb!x!}\\verb|50*x3|\\phantom{\\verb!x!}\\verb|+|\\phantom{\\verb!x!}\\verb|100*x4|\\phantom{\\verb!x!}\\verb|+|\\phantom{\\verb!x!}\\verb|50*x5|\\phantom{\\verb!x!}\\verb|-|\\phantom{\\verb!x!}\\verb|x6,|\\phantom{\\verb!x!}\\verb|0.01000000000000000?*x2|\\phantom{\\verb!x!}\\verb|+|\\phantom{\\verb!x!}\\verb|50*x4|\\phantom{\\verb!x!}\\verb|-|\\phantom{\\verb!x!}\\verb|0.50000000000000000?*x7,|\\phantom{\\verb!x!}\\verb|-2*x6*x8|\\phantom{\\verb!x!}\\verb|+|\\phantom{\\verb!x!}\\verb|0.50000000000000000?*x7|\\phantom{\\verb!x!}\\verb|-|\\phantom{\\verb!x!}\\verb|0.2000000000000000?*x8|\\phantom{\\verb!x!}\\verb|+|\\phantom{\\verb!x!}\\verb|x9,|\\phantom{\\verb!x!}\\verb|2*x6*x8|\\phantom{\\verb!x!}\\verb|-|\\phantom{\\verb!x!}\\verb|x9),|\\phantom{\\verb!x!}\\verb|varmap=bidict({'x1':|\\phantom{\\verb!x!}\\verb|x1,|\\phantom{\\verb!x!}\\verb|'x2':|\\phantom{\\verb!x!}\\verb|x2,|\\phantom{\\verb!x!}\\verb|'x3':|\\phantom{\\verb!x!}\\verb|x3,|\\phantom{\\verb!x!}\\verb|'x4':|\\phantom{\\verb!x!}\\verb|x4,|\\phantom{\\verb!x!}\\verb|'x5':|\\phantom{\\verb!x!}\\verb|x5,|\\phantom{\\verb!x!}\\verb|'x6':|\\phantom{\\verb!x!}\\verb|x6,|\\phantom{\\verb!x!}\\verb|'x7':|\\phantom{\\verb!x!}\\verb|x7,|\\phantom{\\verb!x!}\\verb|'x8':|\\phantom{\\verb!x!}\\verb|x8,|\\phantom{\\verb!x!}\\verb|'x9':|\\phantom{\\verb!x!}\\verb|x9}))|</script></html>"
      ],
      "text/plain": [
       "System(R, (x1, x2, x3, x4, x5, x6, x7, x8, x9), [[0.97999999999999998 .. 1.0200000000000001], [1.2799999999999998 .. 1.3200000000000001], [0.079999999999999987 .. 0.12000000000000001], [0.079999999999999987 .. 0.12000000000000001], [0.079999999999999987 .. 0.12000000000000001], [1.2799999999999998 .. 1.3200000000000001], [2.4799999999999999 .. 2.5200000000000001], [0.57999999999999996 .. 0.62000000000000011], [1.2799999999999998 .. 1.3200000000000001]], (-0.10000000000000000?*x1*x6 + 10*x3, -x1*x2 + 100*x4, 0.10000000000000000?*x1*x6 - 50*x3, x2*x6 - 100*x4, 0.50000000000000000?*x1 + 5*x3 - 10*x5, -0.10000000000000000?*x1*x6 - x2*x6 - 2*x6*x8 + 50*x3 + 100*x4 + 50*x5 - x6, 0.01000000000000000?*x2 + 50*x4 - 0.50000000000000000?*x7, -2*x6*x8 + 0.50000000000000000?*x7 - 0.2000000000000000?*x8 + x9, 2*x6*x8 - x9), varmap=bidict({'x1': x1, 'x2': x2, 'x3': x3, 'x4': x4, 'x5': x5, 'x6': x6, 'x7': x7, 'x8': x8, 'x9': x9}))"
      ]
     },
     "execution_count": 9,
     "metadata": {},
     "output_type": "execute_result"
    }
   ],
   "source": [
    "sys = System(R, R.gens(), y0, y); sys"
   ]
  },
  {
   "cell_type": "code",
   "execution_count": 10,
   "metadata": {},
   "outputs": [],
   "source": [
    "RReal = RR['x1', 'x2', 'x3', 'x4', 'x5', 'x6', 'x7', 'x8', 'x9']"
   ]
  },
  {
   "cell_type": "code",
   "execution_count": 11,
   "metadata": {},
   "outputs": [
    {
     "data": {
      "text/html": [
       "<html><script type=\"math/tex; mode=display\">\\newcommand{\\Bold}[1]{\\mathbf{#1}}0.100000000000000 x_{1} x_{6} - 50.0000000000000 x_{3}</script></html>"
      ],
      "text/plain": [
       "0.100000000000000*x1*x6 - 50.0000000000000*x3"
      ]
     },
     "execution_count": 11,
     "metadata": {},
     "output_type": "execute_result"
    }
   ],
   "source": [
    "RReal(sys.y[2])"
   ]
  },
  {
   "cell_type": "code",
   "execution_count": 12,
   "metadata": {},
   "outputs": [
    {
     "data": {
      "text/html": [
       "<html><script type=\"math/tex; mode=display\">\\newcommand{\\Bold}[1]{\\mathbf{#1}}\\verb|System(R,|\\phantom{\\verb!x!}\\verb|(x1,|\\phantom{\\verb!x!}\\verb|x2,|\\phantom{\\verb!x!}\\verb|x3,|\\phantom{\\verb!x!}\\verb|x4,|\\phantom{\\verb!x!}\\verb|x5,|\\phantom{\\verb!x!}\\verb|x6,|\\phantom{\\verb!x!}\\verb|x7,|\\phantom{\\verb!x!}\\verb|x8,|\\phantom{\\verb!x!}\\verb|x9),|\\phantom{\\verb!x!}\\verb|[1,|\\phantom{\\verb!x!}\\verb|[1.2999999999999998|\\phantom{\\verb!x!}\\verb|..|\\phantom{\\verb!x!}\\verb|1.2999999999999999],|\\phantom{\\verb!x!}\\verb|[0.10000000000000000|\\phantom{\\verb!x!}\\verb|..|\\phantom{\\verb!x!}\\verb|0.10000000000000001],|\\phantom{\\verb!x!}\\verb|[0.10000000000000000|\\phantom{\\verb!x!}\\verb|..|\\phantom{\\verb!x!}\\verb|0.10000000000000001],|\\phantom{\\verb!x!}\\verb|[0.10000000000000000|\\phantom{\\verb!x!}\\verb|..|\\phantom{\\verb!x!}\\verb|0.10000000000000001],|\\phantom{\\verb!x!}\\verb|[1.2999999999999998|\\phantom{\\verb!x!}\\verb|..|\\phantom{\\verb!x!}\\verb|1.2999999999999999],|\\phantom{\\verb!x!}\\verb|[2.5000000000000000|\\phantom{\\verb!x!}\\verb|..|\\phantom{\\verb!x!}\\verb|2.5000000000000000],|\\phantom{\\verb!x!}\\verb|[0.60000000000000008|\\phantom{\\verb!x!}\\verb|..|\\phantom{\\verb!x!}\\verb|0.60000000000000009],|\\phantom{\\verb!x!}\\verb|[1.2999999999999998|\\phantom{\\verb!x!}\\verb|..|\\phantom{\\verb!x!}\\verb|1.2999999999999999]],|\\phantom{\\verb!x!}\\verb|(-0.100000000000000*x1*x6|\\phantom{\\verb!x!}\\verb|+|\\phantom{\\verb!x!}\\verb|10.0000000000000*x3,|\\phantom{\\verb!x!}\\verb|-x1*x2|\\phantom{\\verb!x!}\\verb|+|\\phantom{\\verb!x!}\\verb|100.000000000000*x4,|\\phantom{\\verb!x!}\\verb|0.100000000000000*x1*x6|\\phantom{\\verb!x!}\\verb|-|\\phantom{\\verb!x!}\\verb|50.0000000000000*x3,|\\phantom{\\verb!x!}\\verb|x2*x6|\\phantom{\\verb!x!}\\verb|-|\\phantom{\\verb!x!}\\verb|100.000000000000*x4,|\\phantom{\\verb!x!}\\verb|0.500000000000000*x1|\\phantom{\\verb!x!}\\verb|+|\\phantom{\\verb!x!}\\verb|5.00000000000000*x3|\\phantom{\\verb!x!}\\verb|-|\\phantom{\\verb!x!}\\verb|10.0000000000000*x5,|\\phantom{\\verb!x!}\\verb|-0.100000000000000*x1*x6|\\phantom{\\verb!x!}\\verb|-|\\phantom{\\verb!x!}\\verb|x2*x6|\\phantom{\\verb!x!}\\verb|-|\\phantom{\\verb!x!}\\verb|2.00000000000000*x6*x8|\\phantom{\\verb!x!}\\verb|+|\\phantom{\\verb!x!}\\verb|50.0000000000000*x3|\\phantom{\\verb!x!}\\verb|+|\\phantom{\\verb!x!}\\verb|100.000000000000*x4|\\phantom{\\verb!x!}\\verb|+|\\phantom{\\verb!x!}\\verb|50.0000000000000*x5|\\phantom{\\verb!x!}\\verb|-|\\phantom{\\verb!x!}\\verb|x6,|\\phantom{\\verb!x!}\\verb|0.0100000000000000*x2|\\phantom{\\verb!x!}\\verb|+|\\phantom{\\verb!x!}\\verb|50.0000000000000*x4|\\phantom{\\verb!x!}\\verb|-|\\phantom{\\verb!x!}\\verb|0.500000000000000*x7,|\\phantom{\\verb!x!}\\verb|-2.00000000000000*x6*x8|\\phantom{\\verb!x!}\\verb|+|\\phantom{\\verb!x!}\\verb|0.500000000000000*x7|\\phantom{\\verb!x!}\\verb|-|\\phantom{\\verb!x!}\\verb|0.200000000000000*x8|\\phantom{\\verb!x!}\\verb|+|\\phantom{\\verb!x!}\\verb|x9,|\\phantom{\\verb!x!}\\verb|2.00000000000000*x6*x8|\\phantom{\\verb!x!}\\verb|-|\\phantom{\\verb!x!}\\verb|x9),|\\phantom{\\verb!x!}\\verb|varmap=bidict({'x1':|\\phantom{\\verb!x!}\\verb|x1,|\\phantom{\\verb!x!}\\verb|'x2':|\\phantom{\\verb!x!}\\verb|x2,|\\phantom{\\verb!x!}\\verb|'x3':|\\phantom{\\verb!x!}\\verb|x3,|\\phantom{\\verb!x!}\\verb|'x4':|\\phantom{\\verb!x!}\\verb|x4,|\\phantom{\\verb!x!}\\verb|'x5':|\\phantom{\\verb!x!}\\verb|x5,|\\phantom{\\verb!x!}\\verb|'x6':|\\phantom{\\verb!x!}\\verb|x6,|\\phantom{\\verb!x!}\\verb|'x7':|\\phantom{\\verb!x!}\\verb|x7,|\\phantom{\\verb!x!}\\verb|'x8':|\\phantom{\\verb!x!}\\verb|x8,|\\phantom{\\verb!x!}\\verb|'x9':|\\phantom{\\verb!x!}\\verb|x9}))|</script></html>"
      ],
      "text/plain": [
       "System(R, (x1, x2, x3, x4, x5, x6, x7, x8, x9), [1, [1.2999999999999998 .. 1.2999999999999999], [0.10000000000000000 .. 0.10000000000000001], [0.10000000000000000 .. 0.10000000000000001], [0.10000000000000000 .. 0.10000000000000001], [1.2999999999999998 .. 1.2999999999999999], [2.5000000000000000 .. 2.5000000000000000], [0.60000000000000008 .. 0.60000000000000009], [1.2999999999999998 .. 1.2999999999999999]], (-0.100000000000000*x1*x6 + 10.0000000000000*x3, -x1*x2 + 100.000000000000*x4, 0.100000000000000*x1*x6 - 50.0000000000000*x3, x2*x6 - 100.000000000000*x4, 0.500000000000000*x1 + 5.00000000000000*x3 - 10.0000000000000*x5, -0.100000000000000*x1*x6 - x2*x6 - 2.00000000000000*x6*x8 + 50.0000000000000*x3 + 100.000000000000*x4 + 50.0000000000000*x5 - x6, 0.0100000000000000*x2 + 50.0000000000000*x4 - 0.500000000000000*x7, -2.00000000000000*x6*x8 + 0.500000000000000*x7 - 0.200000000000000*x8 + x9, 2.00000000000000*x6*x8 - x9), varmap=bidict({'x1': x1, 'x2': x2, 'x3': x3, 'x4': x4, 'x5': x5, 'x6': x6, 'x7': x7, 'x8': x8, 'x9': x9}))"
      ]
     },
     "execution_count": 12,
     "metadata": {},
     "output_type": "execute_result"
    }
   ],
   "source": [
    "sys_real = System(\n",
    "    RReal,\n",
    "    RReal.gens(),\n",
    "    [y0i.center() for y0i in sys.y0],\n",
    "    [RReal(yi) for yi in sys.y],\n",
    ")\n",
    "sys_real"
   ]
  },
  {
   "cell_type": "code",
   "execution_count": 13,
   "metadata": {},
   "outputs": [
    {
     "data": {
      "text/html": [
       "<div class=\"notruncate\">\n",
       "<table  class=\"table_form\">\n",
       "<tbody>\n",
       "<tr class =\"row-a\">\n",
       "<td><script type=\"math/tex\">1.00000000000000</script></td>\n",
       "</tr>\n",
       "<tr class =\"row-b\">\n",
       "<td><script type=\"math/tex\">1.30000000000000</script></td>\n",
       "</tr>\n",
       "<tr class =\"row-a\">\n",
       "<td><script type=\"math/tex\">0.100000000000000</script></td>\n",
       "</tr>\n",
       "<tr class =\"row-b\">\n",
       "<td><script type=\"math/tex\">0.100000000000000</script></td>\n",
       "</tr>\n",
       "<tr class =\"row-a\">\n",
       "<td><script type=\"math/tex\">0.100000000000000</script></td>\n",
       "</tr>\n",
       "<tr class =\"row-b\">\n",
       "<td><script type=\"math/tex\">1.30000000000000</script></td>\n",
       "</tr>\n",
       "<tr class =\"row-a\">\n",
       "<td><script type=\"math/tex\">2.50000000000000</script></td>\n",
       "</tr>\n",
       "<tr class =\"row-b\">\n",
       "<td><script type=\"math/tex\">0.600000000000000</script></td>\n",
       "</tr>\n",
       "<tr class =\"row-a\">\n",
       "<td><script type=\"math/tex\">1.30000000000000</script></td>\n",
       "</tr>\n",
       "</tbody>\n",
       "</table>\n",
       "</div>"
      ],
      "text/plain": [
       "  1.00000000000000\n",
       "  1.30000000000000\n",
       "  0.100000000000000\n",
       "  0.100000000000000\n",
       "  0.100000000000000\n",
       "  1.30000000000000\n",
       "  2.50000000000000\n",
       "  0.600000000000000\n",
       "  1.30000000000000"
      ]
     },
     "execution_count": 13,
     "metadata": {},
     "output_type": "execute_result"
    }
   ],
   "source": [
    "y0_real = [y0i.center() for y0i in sys.y0]\n",
    "table([[y0i] for y0i in y0_real])"
   ]
  },
  {
   "cell_type": "code",
   "execution_count": 14,
   "metadata": {},
   "outputs": [],
   "source": [
    "timepoints = srange(0,10,0.1)"
   ]
  },
  {
   "cell_type": "code",
   "execution_count": 15,
   "metadata": {},
   "outputs": [],
   "source": [
    "sln = desolve_odeint(sys_real.y, y0_real, timepoints, list(sys_real.x))"
   ]
  },
  {
   "cell_type": "code",
   "execution_count": 16,
   "metadata": {},
   "outputs": [
    {
     "data": {
      "image/png": "[encoded data removed]",
      "text/plain": [
       "Graphics object consisting of 1 graphics primitive"
      ]
     },
     "execution_count": 16,
     "metadata": {},
     "output_type": "execute_result"
    }
   ],
   "source": [
    "points(zip(timepoints, [yi[1] for yi in sln]))"
   ]
  },
  {
   "cell_type": "code",
   "execution_count": 17,
   "metadata": {},
   "outputs": [],
   "source": [
    "from scipy.integrate import solve_ivp\n",
    "from ulbc.matricies import vec_to_numpy, mat_to_numpy, convert_vec, sympy_gens"
   ]
  },
  {
   "cell_type": "code",
   "execution_count": 18,
   "metadata": {},
   "outputs": [],
   "source": [
    "f = vec_to_numpy(RReal, sys_real.y)\n",
    "jac = mat_to_numpy(RReal, sage.jacobian(sys_real.y, sys_real.x))"
   ]
  },
  {
   "cell_type": "code",
   "execution_count": 19,
   "metadata": {},
   "outputs": [],
   "source": [
    "sln = solve_ivp(f,\n",
    "                (0, 10),\n",
    "                y0_real,\n",
    "                method='LSODA',\n",
    "                jac=jac,\n",
    "                vectorized=True,\n",
    "                dense_output=True)"
   ]
  },
  {
   "cell_type": "code",
   "execution_count": 20,
   "metadata": {},
   "outputs": [
    {
     "data": {
      "image/png": "[encoded data removed]",
      "text/plain": [
       "Graphics object consisting of 1 graphics primitive"
      ]
     },
     "execution_count": 20,
     "metadata": {},
     "output_type": "execute_result"
    }
   ],
   "source": [
    "plot(lambda t: sln.sol(t)[1], (0, 10))"
   ]
  },
  {
   "cell_type": "code",
   "execution_count": 21,
   "metadata": {},
   "outputs": [
    {
     "name": "stdout",
     "output_type": "stream",
     "text": [
      "calling reach with y0 = ['[0.97999999999999998 .. 1.0200000000000001]', '[1.2799999999999998 .. 1.3200000000000001]', '[0.079999999999999987 .. 0.12000000000000001]', '[0.079999999999999987 .. 0.12000000000000001]', '[0.079999999999999987 .. 0.12000000000000001]', '[1.2799999999999998 .. 1.3200000000000001]', '[2.4799999999999999 .. 2.5200000000000001]', '[0.57999999999999996 .. 0.62000000000000011]', '[1.2799999999999998 .. 1.3200000000000001]']\n",
      "ode in polynomial ring\n",
      "crude_roots = False\n",
      "_handle_initials called!\n",
      "vars = [x1, x2, x3, x4, x5, x6, x7, x8, x9]\n",
      "C = [0.98..1.02]\n",
      "C = [1.2799999999999998..1.32]\n",
      "C = [0.07999999999999999..0.12000000000000001]\n",
      "C = [0.07999999999999999..0.12000000000000001]\n",
      "C = [0.07999999999999999..0.12000000000000001]\n",
      "C = [1.2799999999999998..1.32]\n",
      "C = [2.48..2.52]\n",
      "C = [0.58..0.6200000000000001]\n",
      "C = [1.2799999999999998..1.32]\n",
      "assigning system with dimension 9\n",
      "resulting system has dimension 9\n",
      "run within tmv args\n",
      "integrationScheme = 7\n"
     ]
    }
   ],
   "source": [
    "reach = sys.reach(\n",
    "    5, order=4, step=0.003,\n",
    "    precondition=1,\n",
    "    estimation=1e-1,\n",
    "    max_remainder_queue=100,\n",
    "    integration_method=IntegrationMethod.ONLY_PICARD_SYMB,\n",
    "    cutoff_threshold=1e-6)"
   ]
  },
  {
   "cell_type": "code",
   "execution_count": 25,
   "metadata": {},
   "outputs": [
    {
     "name": "stdout",
     "output_type": "stream",
     "text": [
      "var_id_x = 3\n",
      "var_id_y = 5\n"
     ]
    },
    {
     "data": {
      "image/png": "[encoded data removed]",
      "text/plain": [
       "Graphics object consisting of 50 graphics primitives"
      ]
     },
     "execution_count": 25,
     "metadata": {},
     "output_type": "execute_result"
    }
   ],
   "source": [
    "p = reach.sage_interval_plot(\"x4\", \"x6\")\n",
    "p.set_aspect_ratio(1/20)\n",
    "p"
   ]
  },
  {
   "cell_type": "code",
   "execution_count": null,
   "metadata": {},
   "outputs": [],
   "source": [
    "#reach.wplot(\"x4\", \"x6\")"
   ]
  },
  {
   "cell_type": "code",
   "execution_count": 26,
   "metadata": {},
   "outputs": [],
   "source": [
    "def test_monitoring(prop, duration, **kwargs):\n",
    "    t0 = time.time()\n",
    "    sig = prop.signal_for_system(sys,\n",
    "    duration, order=4, step=0.003,\n",
    "    precondition=1,\n",
    "    estimation=1e-1,\n",
    "    max_remainder_queue=100,\n",
    "    integration_method=IntegrationMethod.ONLY_PICARD_SYMB,\n",
    "    cutoff_threshold=1e-6,\n",
    "    **kwargs)\n",
    "    t1 = time.time()\n",
    "    print(f\"Run done in {t1 - t0} sec\\noptions: {repr(kwargs)}\")\n",
    "    return t1 - t0, sig"
   ]
  },
  {
   "cell_type": "markdown",
   "metadata": {},
   "source": [
    "# Optimizing and speedup"
   ]
  },
  {
   "cell_type": "markdown",
   "metadata": {},
   "source": [
    "## Unoptimized"
   ]
  },
  {
   "cell_type": "code",
   "execution_count": 22,
   "metadata": {
    "scrolled": true
   },
   "outputs": [
    {
     "data": {
      "text/html": [
       "<html><script type=\"math/tex; mode=display\">\\newcommand{\\Bold}[1]{\\mathbf{#1}}\\verb|x6|\\phantom{\\verb!x!}\\verb|>|\\phantom{\\verb!x!}\\verb|1.40000000000000|</script></html>"
      ],
      "text/plain": [
       "Atomic(x6 > 1.40000000000000)"
      ]
     },
     "execution_count": 22,
     "metadata": {},
     "output_type": "execute_result"
    }
   ],
   "source": [
    "P = Atomic(var(\"x6\") > 1.4); P"
   ]
  },
  {
   "cell_type": "code",
   "execution_count": 23,
   "metadata": {},
   "outputs": [
    {
     "name": "stdout",
     "output_type": "stream",
     "text": [
      "Precomposing Contexts: 1 items in 0.00 seconds\n",
      "calling reach with y0 = ['[0.97999999999999998 .. 1.0200000000000001]', '[1.2799999999999998 .. 1.3200000000000001]', '[0.079999999999999987 .. 0.12000000000000001]', '[0.079999999999999987 .. 0.12000000000000001]', '[0.079999999999999987 .. 0.12000000000000001]', '[1.2799999999999998 .. 1.3200000000000001]', '[2.4799999999999999 .. 2.5200000000000001]', '[0.57999999999999996 .. 0.62000000000000011]', '[1.2799999999999998 .. 1.3200000000000001]']\n",
      "ode in polynomial ring\n",
      "crude_roots = False\n",
      "_handle_initials called!\n",
      "vars = [x1, x2, x3, x4, x5, x6, x7, x8, x9]\n",
      "C = [0.98..1.02]\n",
      "C = [1.2799999999999998..1.32]\n",
      "C = [0.07999999999999999..0.12000000000000001]\n",
      "C = [0.07999999999999999..0.12000000000000001]\n",
      "C = [0.07999999999999999..0.12000000000000001]\n",
      "C = [1.2799999999999998..1.32]\n",
      "C = [2.48..2.52]\n",
      "C = [0.58..0.6200000000000001]\n",
      "C = [1.2799999999999998..1.32]\n",
      "assigning system with dimension 9\n",
      "resulting system has dimension 9\n",
      "run within tmv args\n",
      "integrationScheme = 7\n",
      "Running Flow*: 1 items in 105.88 seconds\n",
      "Computed 1334 flowpipes in 105.87556593900808 sec\n",
      "PolyObserver(x6 - 1.4000000000000000?, <flowstar.reachability.Reach object at 0x7fc6571c2410>, -0.10000000000000000?*x1*x6 - x2*x6 - 2*x6*x8 + 50*x3 + 100*x4 + 50*x5 - x6, symbolic_composition=True, tentative_unpreconditioning=True, mask=None)\n",
      "fprime = -0.10000000000000000?*x1*x6 - x2*x6 - 2*x6*x8 + 50*x3 + 100*x4 + 50*x5 - x6\n",
      "symbolic_composition=True, tentative_unpreconditioning=True,two_pass_masks=False\n",
      "roots(space_domain=None, epsilon=1e-05, verbosity=0)\n",
      "top-level root detection: 1 items in 11.87 seconds\n",
      "roots = [[0.0048138818803625908 .. 0.020020370779725589], [0.20774355246405734 .. 0.47416911189916711]]\n",
      "domain = [0.0000000000000000 .. 4.0000000000000009]\n",
      "roots = [[0.0048138818803625908 .. 0.020020370779725589], \n",
      " [0.20774355246405734 .. 0.47416911189916711]]\n",
      "seg_domain = [0.0000000000000000 .. 4.0000000000000009]\n",
      "roots = [[0.0048138818803625908 .. 0.020020370779725589], \n",
      " [0.20774355246405734 .. 0.47416911189916711]]\n",
      "running f_bool: 1 items in 0.00 seconds\n",
      "running f_bool: 1 items in 0.00 seconds\n",
      "running f_bool: 1 items in 0.00 seconds\n",
      "signal given bool roots: 1 items in 0.00 seconds\n",
      "Monitoring Signal for x6 > 1.40000000000000: 1 items in 15.27 seconds\n",
      "Monitored signal in 15.272233654992306 sec\n",
      "ran \"whole domain eval\" 102 times in 0.41762614250183105\n",
      "ran \"post retrieve\" 100 times in 0.302844762802124\n",
      "ran \"prepare in check\" 3 times in 1.3828277587890625e-05\n",
      "ran \"root amalgamation\" 100 times in 0.0002353191375732422\n",
      "ran \"mask intersect check\" 1334 times in 0.001772165298461914\n",
      "ran \"composing flowpipe\" 102 times in 8.800248861312866\n",
      "ran \"capturing globals [on exit]\" 9 times in 0.0008749961853027344\n",
      "ran \"check boolean [unguarded]\" 3 times in 0.0003132820129394531\n",
      "ran \"observer.check\" 3 times in 0.000446319580078125\n",
      "ran \"root detection\" 100 times in 0.007550239562988281\n",
      "ran \"restoring globals\" 9 times in 0.0023310184478759766\n",
      "ran \"tentative eval\" 1334 times in 2.290916681289673\n",
      "Run done in 121.31017899513245 sec\n",
      "options: {'use_masks': False, 'symbolic_composition': True}\n"
     ]
    },
    {
     "data": {
      "image/png": "[encoded data removed]",
      "text/plain": [
       "Graphics object consisting of 2 graphics primitives"
      ]
     },
     "execution_count": 23,
     "metadata": {},
     "output_type": "execute_result"
    }
   ],
   "source": [
    "test_monitoring(P, 4, use_masks=False, symbolic_composition=True)[1].plot()"
   ]
  },
  {
   "cell_type": "code",
   "execution_count": 24,
   "metadata": {},
   "outputs": [
    {
     "data": {
      "text/html": [
       "<html><script type=\"math/tex; mode=display\">\\newcommand{\\Bold}[1]{\\mathbf{#1}}\\verb|x6|\\phantom{\\verb!x!}\\verb|<|\\phantom{\\verb!x!}\\verb|1|</script></html>"
      ],
      "text/plain": [
       "Atomic(x6 < 1)"
      ]
     },
     "execution_count": 24,
     "metadata": {},
     "output_type": "execute_result"
    }
   ],
   "source": [
    "Q = Atomic(var(\"x6\") < 1); Q"
   ]
  },
  {
   "cell_type": "code",
   "execution_count": 25,
   "metadata": {},
   "outputs": [
    {
     "name": "stdout",
     "output_type": "stream",
     "text": [
      "Precomposing Contexts: 1 items in 0.00 seconds\n",
      "calling reach with y0 = ['[0.97999999999999998 .. 1.0200000000000001]', '[1.2799999999999998 .. 1.3200000000000001]', '[0.079999999999999987 .. 0.12000000000000001]', '[0.079999999999999987 .. 0.12000000000000001]', '[0.079999999999999987 .. 0.12000000000000001]', '[1.2799999999999998 .. 1.3200000000000001]', '[2.4799999999999999 .. 2.5200000000000001]', '[0.57999999999999996 .. 0.62000000000000011]', '[1.2799999999999998 .. 1.3200000000000001]']\n",
      "ode in polynomial ring\n",
      "crude_roots = False\n",
      "_handle_initials called!\n",
      "vars = [x1, x2, x3, x4, x5, x6, x7, x8, x9]\n",
      "C = [0.98..1.02]\n",
      "C = [1.2799999999999998..1.32]\n",
      "C = [0.07999999999999999..0.12000000000000001]\n",
      "C = [0.07999999999999999..0.12000000000000001]\n",
      "C = [0.07999999999999999..0.12000000000000001]\n",
      "C = [1.2799999999999998..1.32]\n",
      "C = [2.48..2.52]\n",
      "C = [0.58..0.6200000000000001]\n",
      "C = [1.2799999999999998..1.32]\n",
      "assigning system with dimension 9\n",
      "resulting system has dimension 9\n",
      "run within tmv args\n",
      "integrationScheme = 7\n",
      "Running Flow*: 1 items in 86.57 seconds\n",
      "Computed 1334 flowpipes in 86.56807738900534 sec\n",
      "PolyObserver(-x6 + 1, <flowstar.reachability.Reach object at 0x7fc6571c28c0>, 0.10000000000000000?*x1*x6 + x2*x6 + 2*x6*x8 - 50*x3 - 100*x4 - 50*x5 + x6, symbolic_composition=True, tentative_unpreconditioning=True, mask=None)\n",
      "fprime = 0.10000000000000000?*x1*x6 + x2*x6 + 2*x6*x8 - 50*x3 - 100*x4 - 50*x5 + x6\n",
      "symbolic_composition=True, tentative_unpreconditioning=True,two_pass_masks=False\n",
      "roots(space_domain=None, epsilon=1e-05, verbosity=0)\n",
      "top-level root detection: 1 items in 13.45 seconds\n",
      "roots = [[0.73107498712745855 .. 0.94185954038689923]]\n",
      "domain = [0.0000000000000000 .. 3.9999999999999996]\n",
      "roots = [[0.73107498712745855 .. 0.94185954038689923]]\n",
      "seg_domain = [0.0000000000000000 .. 3.9999999999999996]\n",
      "roots = [[0.73107498712745855 .. 0.94185954038689923]]\n",
      "running f_bool: 1 items in 0.00 seconds\n",
      "running f_bool: 1 items in 0.00 seconds\n",
      "signal given bool roots: 1 items in 0.00 seconds\n",
      "Monitoring Signal for x6 < 1: 1 items in 13.65 seconds\n",
      "Monitored signal in 13.64599138298945 sec\n",
      "ran \"whole domain eval\" 89 times in 0.36104273796081543\n",
      "ran \"post retrieve\" 86 times in 0.24764490127563477\n",
      "ran \"prepare in check\" 2 times in 2.5272369384765625e-05\n",
      "ran \"root amalgamation\" 86 times in 0.00018548965454101562\n",
      "ran \"mask intersect check\" 1334 times in 0.0029044151306152344\n",
      "ran \"composing flowpipe\" 89 times in 9.230080604553223\n",
      "ran \"capturing globals [on exit]\" 9 times in 0.0008394718170166016\n",
      "ran \"check boolean [unguarded]\" 2 times in 0.0007548332214355469\n",
      "ran \"observer.check\" 2 times in 0.0009877681732177734\n",
      "ran \"root detection\" 86 times in 0.005392313003540039\n",
      "ran \"restoring globals\" 9 times in 0.001321554183959961\n",
      "ran \"tentative eval\" 1334 times in 3.530186891555786\n",
      "Run done in 100.51989436149597 sec\n",
      "options: {'use_masks': False, 'symbolic_composition': True}\n"
     ]
    },
    {
     "data": {
      "image/png": "[encoded data removed]",
      "text/plain": [
       "Graphics object consisting of 2 graphics primitives"
      ]
     },
     "execution_count": 25,
     "metadata": {},
     "output_type": "execute_result"
    }
   ],
   "source": [
    "test_monitoring(Q, 4, use_masks=False, symbolic_composition=True)[1].plot()"
   ]
  },
  {
   "cell_type": "code",
   "execution_count": 26,
   "metadata": {},
   "outputs": [
    {
     "name": "stdout",
     "output_type": "stream",
     "text": [
      "Precomposing Contexts: 1 items in 0.00 seconds\n",
      "calling reach with y0 = ['[0.97999999999999998 .. 1.0200000000000001]', '[1.2799999999999998 .. 1.3200000000000001]', '[0.079999999999999987 .. 0.12000000000000001]', '[0.079999999999999987 .. 0.12000000000000001]', '[0.079999999999999987 .. 0.12000000000000001]', '[1.2799999999999998 .. 1.3200000000000001]', '[2.4799999999999999 .. 2.5200000000000001]', '[0.57999999999999996 .. 0.62000000000000011]', '[1.2799999999999998 .. 1.3200000000000001]']\n",
      "ode in polynomial ring\n",
      "crude_roots = False\n",
      "_handle_initials called!\n",
      "vars = [x1, x2, x3, x4, x5, x6, x7, x8, x9]\n",
      "C = [0.98..1.02]\n",
      "C = [1.2799999999999998..1.32]\n",
      "C = [0.07999999999999999..0.12000000000000001]\n",
      "C = [0.07999999999999999..0.12000000000000001]\n",
      "C = [0.07999999999999999..0.12000000000000001]\n",
      "C = [1.2799999999999998..1.32]\n",
      "C = [2.48..2.52]\n",
      "C = [0.58..0.6200000000000001]\n",
      "C = [1.2799999999999998..1.32]\n",
      "assigning system with dimension 9\n",
      "resulting system has dimension 9\n",
      "run within tmv args\n",
      "integrationScheme = 7\n",
      "Running Flow*: 1 items in 92.23 seconds\n",
      "Computed 1334 flowpipes in 92.23125454600813 sec\n",
      "PolyObserver(x6 - 1.4000000000000000?, <flowstar.reachability.Reach object at 0x7fc6571c29b0>, -0.10000000000000000?*x1*x6 - x2*x6 - 2*x6*x8 + 50*x3 + 100*x4 + 50*x5 - x6, symbolic_composition=True, tentative_unpreconditioning=True, mask=None)\n",
      "fprime = -0.10000000000000000?*x1*x6 - x2*x6 - 2*x6*x8 + 50*x3 + 100*x4 + 50*x5 - x6\n",
      "symbolic_composition=True, tentative_unpreconditioning=True,two_pass_masks=False\n",
      "roots(space_domain=None, epsilon=1e-05, verbosity=0)\n",
      "top-level root detection: 1 items in 13.79 seconds\n",
      "roots = [[0.0048138818803625908 .. 0.020020370779725589], [0.20774355246405734 .. 0.47416911189916711]]\n",
      "domain = [0.0000000000000000 .. 3.9999999999999996]\n",
      "roots = [[0.0048138818803625908 .. 0.020020370779725589], \n",
      " [0.20774355246405734 .. 0.47416911189916711]]\n",
      "seg_domain = [0.0000000000000000 .. 3.9999999999999996]\n",
      "roots = [[0.0048138818803625908 .. 0.020020370779725589], \n",
      " [0.20774355246405734 .. 0.47416911189916711]]\n",
      "running f_bool: 1 items in 0.00 seconds\n",
      "running f_bool: 1 items in 0.00 seconds\n",
      "running f_bool: 1 items in 0.00 seconds\n",
      "signal given bool roots: 1 items in 0.00 seconds\n",
      "PolyObserver(-x6 + 1, <flowstar.reachability.Reach object at 0x7fc6571c29b0>, 0.10000000000000000?*x1*x6 + x2*x6 + 2*x6*x8 - 50*x3 - 100*x4 - 50*x5 + x6, symbolic_composition=True, tentative_unpreconditioning=True, mask=None)\n",
      "fprime = 0.10000000000000000?*x1*x6 + x2*x6 + 2*x6*x8 - 50*x3 - 100*x4 - 50*x5 + x6\n",
      "symbolic_composition=True, tentative_unpreconditioning=True,two_pass_masks=False\n",
      "roots(space_domain=None, epsilon=1e-05, verbosity=0)\n",
      "top-level root detection: 1 items in 14.50 seconds\n",
      "roots = [[0.73107498712745855 .. 0.94185954038689923]]\n",
      "domain = [0.0000000000000000 .. 3.9999999999999992]\n",
      "roots = [[0.73107498712745855 .. 0.94185954038689923]]\n",
      "seg_domain = [0.0000000000000000 .. 3.9999999999999992]\n",
      "roots = [[0.73107498712745855 .. 0.94185954038689923]]\n",
      "running f_bool: 1 items in 0.00 seconds\n",
      "running f_bool: 1 items in 0.00 seconds\n",
      "signal given bool roots: 1 items in 0.00 seconds\n",
      "Monitoring Signal for x6 > 1.40000000000000 & x6 < 1: 1 items in 28.57 seconds\n",
      "Monitored signal in 28.573580513992056 sec\n",
      "ran \"whole domain eval\" 293 times in 1.4484226703643799\n",
      "ran \"post retrieve\" 186 times in 0.6416349411010742\n",
      "ran \"prepare in check\" 5 times in 5.841255187988281e-05\n",
      "ran \"root amalgamation\" 186 times in 0.0005056858062744141\n",
      "ran \"mask intersect check\" 2668 times in 0.004983663558959961\n",
      "ran \"composing flowpipe\" 293 times in 20.257336139678955\n",
      "ran \"capturing globals [on exit]\" 16 times in 0.0011975765228271484\n",
      "ran \"check boolean [unguarded]\" 5 times in 0.0013952255249023438\n",
      "ran \"observer.check\" 5 times in 0.0019643306732177734\n",
      "ran \"root detection\" 186 times in 0.014775991439819336\n",
      "ran \"restoring globals\" 16 times in 0.0019915103912353516\n",
      "ran \"tentative eval\" 2566 times in 5.790909290313721\n",
      "Run done in 121.00155997276306 sec\n",
      "options: {'use_masks': False, 'symbolic_composition': True}\n"
     ]
    },
    {
     "name": "stderr",
     "output_type": "stream",
     "text": [
      "/usr/lib64/python3.7/site-packages/sage/plot/contour_plot.py:205: UserWarning: No contour levels were found within the data range.\n",
      "  linewidths=linewidths, linestyles=linestyles)\n"
     ]
    },
    {
     "data": {
      "image/png": "[encoded data removed]",
      "text/plain": [
       "Graphics object consisting of 2 graphics primitives"
      ]
     },
     "execution_count": 26,
     "metadata": {},
     "output_type": "execute_result"
    }
   ],
   "source": [
    "sigPQ = test_monitoring(P & Q, 4, use_masks=False, symbolic_composition=True)[1]\n",
    "sigPQ.plot()"
   ]
  },
  {
   "cell_type": "code",
   "execution_count": 27,
   "metadata": {},
   "outputs": [
    {
     "name": "stdout",
     "output_type": "stream",
     "text": [
      "Precomposing Contexts: 1 items in 0.00 seconds\n",
      "calling reach with y0 = ['[0.97999999999999998 .. 1.0200000000000001]', '[1.2799999999999998 .. 1.3200000000000001]', '[0.079999999999999987 .. 0.12000000000000001]', '[0.079999999999999987 .. 0.12000000000000001]', '[0.079999999999999987 .. 0.12000000000000001]', '[1.2799999999999998 .. 1.3200000000000001]', '[2.4799999999999999 .. 2.5200000000000001]', '[0.57999999999999996 .. 0.62000000000000011]', '[1.2799999999999998 .. 1.3200000000000001]']\n",
      "ode in polynomial ring\n",
      "crude_roots = False\n",
      "_handle_initials called!\n",
      "vars = [x1, x2, x3, x4, x5, x6, x7, x8, x9]\n",
      "C = [0.98..1.02]\n",
      "C = [1.2799999999999998..1.32]\n",
      "C = [0.07999999999999999..0.12000000000000001]\n",
      "C = [0.07999999999999999..0.12000000000000001]\n",
      "C = [0.07999999999999999..0.12000000000000001]\n",
      "C = [1.2799999999999998..1.32]\n",
      "C = [2.48..2.52]\n",
      "C = [0.58..0.6200000000000001]\n",
      "C = [1.2799999999999998..1.32]\n",
      "assigning system with dimension 9\n",
      "resulting system has dimension 9\n",
      "run within tmv args\n",
      "integrationScheme = 7\n",
      "Running Flow*: 1 items in 126.65 seconds\n",
      "Computed 1334 flowpipes in 126.6474445440108 sec\n",
      "PolyObserver(x6 - 1.4000000000000000?, <flowstar.reachability.Reach object at 0x7fc6525b26e0>, -0.10000000000000000?*x1*x6 - x2*x6 - 2*x6*x8 + 50*x3 + 100*x4 + 50*x5 - x6, symbolic_composition=True, tentative_unpreconditioning=True, mask=Mask([0.0000000000000000 .. 4.0009999999999995], [[0.0000000000000000 .. 4.0009999999999995]]))\n",
      "fprime = -0.10000000000000000?*x1*x6 - x2*x6 - 2*x6*x8 + 50*x3 + 100*x4 + 50*x5 - x6\n",
      "symbolic_composition=True, tentative_unpreconditioning=True,two_pass_masks=False\n",
      "roots(space_domain=None, epsilon=1e-05, verbosity=0)\n",
      "top-level root detection: 1 items in 10.69 seconds\n",
      "roots = [[0.0048138818803625908 .. 0.020020370779725589], [0.20774355246405734 .. 0.47416911189916711]]\n",
      "domain = [0.0000000000000000 .. 3.9999999999999996]\n",
      "roots = [[0.0048138818803625908 .. 0.020020370779725589], \n",
      " [0.20774355246405734 .. 0.47416911189916711]]\n",
      "seg_domain = [0.0000000000000000 .. 4.0009999999999995]\n",
      "roots = [[0.0048138818803625908 .. 0.020020370779725589], \n",
      " [0.20774355246405734 .. 0.47416911189916711]]\n",
      "running f_bool: 1 items in 0.00 seconds\n",
      "running f_bool: 1 items in 0.00 seconds\n",
      "running f_bool: 1 items in 0.00 seconds\n",
      "signal given bool roots: 1 items in 0.00 seconds\n",
      "PolyObserver(-x6 + 1, <flowstar.reachability.Reach object at 0x7fc6525b26e0>, 0.10000000000000000?*x1*x6 + x2*x6 + 2*x6*x8 - 50*x3 - 100*x4 - 50*x5 + x6, symbolic_composition=True, tentative_unpreconditioning=True, mask=Mask([0.0000000000000000 .. 4.0009999999999995], [[0.0048138818803625908 .. 0.47416911189916711]]))\n",
      "fprime = 0.10000000000000000?*x1*x6 + x2*x6 + 2*x6*x8 - 50*x3 - 100*x4 - 50*x5 + x6\n",
      "symbolic_composition=True, tentative_unpreconditioning=True,two_pass_masks=False\n",
      "roots(space_domain=None, epsilon=1e-05, verbosity=0)\n",
      "top-level root detection: 1 items in 0.44 seconds\n",
      "roots = []\n",
      "domain = [0.0000000000000000 .. 3.9999999999999992]\n",
      "roots = []\n",
      "seg_domain = [0.0048138818803625908 .. 0.47416911189916711]\n",
      "roots = []\n",
      "running f_bool: 1 items in 0.00 seconds\n",
      "signal given bool roots: 1 items in 0.00 seconds\n",
      "Monitoring Signal for x6 > 1.40000000000000 & x6 < 1: 1 items in 11.28 seconds\n",
      "Monitored signal in 11.285766844994214 sec\n",
      "ran \"whole domain eval\" 201 times in 0.7141661643981934\n",
      "ran \"post retrieve\" 100 times in 0.27837467193603516\n",
      "ran \"prepare in check\" 4 times in 3.409385681152344e-05\n",
      "ran \"root amalgamation\" 100 times in 0.00019788742065429688\n",
      "ran \"mask intersect check\" 2668 times in 0.005364894866943359\n",
      "ran \"composing flowpipe\" 201 times in 7.713193655014038\n",
      "ran \"capturing globals [on exit]\" 16 times in 0.0008108615875244141\n",
      "ran \"check boolean [unguarded]\" 4 times in 0.0005943775177001953\n",
      "ran \"observer.check\" 4 times in 0.0008974075317382812\n",
      "ran \"root detection\" 100 times in 0.006554841995239258\n",
      "ran \"restoring globals\" 16 times in 0.001344442367553711\n",
      "ran \"tentative eval\" 1393 times in 2.3570430278778076\n",
      "Run done in 138.20080614089966 sec\n",
      "options: {'use_masks': True, 'symbolic_composition': True}\n"
     ]
    },
    {
     "name": "stderr",
     "output_type": "stream",
     "text": [
      "/usr/lib64/python3.7/site-packages/sage/plot/contour_plot.py:205: UserWarning: No contour levels were found within the data range.\n",
      "  linewidths=linewidths, linestyles=linestyles)\n"
     ]
    },
    {
     "data": {
      "image/png": "[encoded data removed]",
      "text/plain": [
       "Graphics object consisting of 2 graphics primitives"
      ]
     },
     "execution_count": 27,
     "metadata": {},
     "output_type": "execute_result"
    }
   ],
   "source": [
    "sigPQ = test_monitoring(P & Q, 4, use_masks=True, symbolic_composition=True)[1]\n",
    "sigPQ.plot()"
   ]
  },
  {
   "cell_type": "code",
   "execution_count": 28,
   "metadata": {},
   "outputs": [
    {
     "name": "stdout",
     "output_type": "stream",
     "text": [
      "Precomposing Contexts: 1 items in 0.00 seconds\n",
      "calling reach with y0 = ['[0.97999999999999998 .. 1.0200000000000001]', '[1.2799999999999998 .. 1.3200000000000001]', '[0.079999999999999987 .. 0.12000000000000001]', '[0.079999999999999987 .. 0.12000000000000001]', '[0.079999999999999987 .. 0.12000000000000001]', '[1.2799999999999998 .. 1.3200000000000001]', '[2.4799999999999999 .. 2.5200000000000001]', '[0.57999999999999996 .. 0.62000000000000011]', '[1.2799999999999998 .. 1.3200000000000001]']\n",
      "ode in polynomial ring\n",
      "crude_roots = False\n",
      "_handle_initials called!\n",
      "vars = [x1, x2, x3, x4, x5, x6, x7, x8, x9]\n",
      "C = [0.98..1.02]\n",
      "C = [1.2799999999999998..1.32]\n",
      "C = [0.07999999999999999..0.12000000000000001]\n",
      "C = [0.07999999999999999..0.12000000000000001]\n",
      "C = [0.07999999999999999..0.12000000000000001]\n",
      "C = [1.2799999999999998..1.32]\n",
      "C = [2.48..2.52]\n",
      "C = [0.58..0.6200000000000001]\n",
      "C = [1.2799999999999998..1.32]\n",
      "assigning system with dimension 9\n",
      "resulting system has dimension 9\n",
      "run within tmv args\n",
      "integrationScheme = 7\n",
      "Running Flow*: 1 items in 94.29 seconds\n",
      "Computed 1334 flowpipes in 94.28831041800731 sec\n",
      "PolyObserver(x6 - 1.4000000000000000?, <flowstar.reachability.Reach object at 0x7fc6525b2410>, -0.10000000000000000?*x1*x6 - x2*x6 - 2*x6*x8 + 50*x3 + 100*x4 + 50*x5 - x6, symbolic_composition=True, tentative_unpreconditioning=True, mask=Mask([0.0000000000000000 .. 4.0009999999999995], [[0.0000000000000000 .. 4.0009999999999995]]))\n",
      "fprime = -0.10000000000000000?*x1*x6 - x2*x6 - 2*x6*x8 + 50*x3 + 100*x4 + 50*x5 - x6\n",
      "symbolic_composition=True, tentative_unpreconditioning=True,two_pass_masks=False\n",
      "roots(space_domain=None, epsilon=1e-05, verbosity=0)\n",
      "top-level root detection: 1 items in 9.99 seconds\n",
      "roots = [[0.0048138818803625908 .. 0.020020370779725589], [0.20774355246405734 .. 0.47416911189916711]]\n",
      "domain = [0.0000000000000000 .. 3.9999999999999996]\n",
      "roots = [[0.0048138818803625908 .. 0.020020370779725589], \n",
      " [0.20774355246405734 .. 0.47416911189916711]]\n",
      "seg_domain = [0.0000000000000000 .. 4.0009999999999995]\n",
      "roots = [[0.0048138818803625908 .. 0.020020370779725589], \n",
      " [0.20774355246405734 .. 0.47416911189916711]]\n",
      "running f_bool: 1 items in 0.00 seconds\n",
      "running f_bool: 1 items in 0.00 seconds\n",
      "running f_bool: 1 items in 0.00 seconds\n",
      "signal given bool roots: 1 items in 0.00 seconds\n",
      "PolyObserver(-x6 + 1, <flowstar.reachability.Reach object at 0x7fc6525b2410>, 0.10000000000000000?*x1*x6 + x2*x6 + 2*x6*x8 - 50*x3 - 100*x4 - 50*x5 + x6, symbolic_composition=True, tentative_unpreconditioning=True, mask=Mask([0.0000000000000000 .. 4.0009999999999995], [[0.0048138818803625908 .. 0.47416911189916711]]))\n",
      "fprime = 0.10000000000000000?*x1*x6 + x2*x6 + 2*x6*x8 - 50*x3 - 100*x4 - 50*x5 + x6\n",
      "symbolic_composition=True, tentative_unpreconditioning=True,two_pass_masks=False\n",
      "roots(space_domain=None, epsilon=1e-05, verbosity=0)\n",
      "top-level root detection: 1 items in 0.46 seconds\n",
      "roots = []\n",
      "domain = [0.0000000000000000 .. 3.9999999999999992]\n",
      "roots = []\n",
      "seg_domain = [0.0048138818803625908 .. 0.47416911189916711]\n",
      "roots = []\n",
      "running f_bool: 1 items in 0.00 seconds\n",
      "signal given bool roots: 1 items in 0.00 seconds\n",
      "Monitoring Signal for x6 > 1.40000000000000 & x6 < 1: 1 items in 10.62 seconds\n",
      "Monitored signal in 10.623438291986531 sec\n",
      "ran \"whole domain eval\" 201 times in 0.7067270278930664\n",
      "ran \"post retrieve\" 100 times in 0.24643611907958984\n",
      "ran \"prepare in check\" 4 times in 3.0279159545898438e-05\n",
      "ran \"root amalgamation\" 100 times in 0.00016927719116210938\n",
      "ran \"mask intersect check\" 2668 times in 0.005247592926025391\n",
      "ran \"composing flowpipe\" 201 times in 7.042578458786011\n",
      "ran \"capturing globals [on exit]\" 16 times in 0.0008606910705566406\n",
      "ran \"check boolean [unguarded]\" 4 times in 0.0005676746368408203\n",
      "ran \"observer.check\" 4 times in 0.0008547306060791016\n",
      "ran \"root detection\" 100 times in 0.005953073501586914\n",
      "ran \"restoring globals\" 16 times in 0.0014605522155761719\n",
      "ran \"tentative eval\" 1393 times in 2.384580135345459\n",
      "Run done in 105.15254640579224 sec\n",
      "options: {'use_masks': True, 'two_phase_masks': True, 'symbolic_composition': True}\n"
     ]
    },
    {
     "name": "stderr",
     "output_type": "stream",
     "text": [
      "/usr/lib64/python3.7/site-packages/sage/plot/contour_plot.py:205: UserWarning: No contour levels were found within the data range.\n",
      "  linewidths=linewidths, linestyles=linestyles)\n"
     ]
    },
    {
     "data": {
      "image/png": "[encoded data removed]",
      "text/plain": [
       "Graphics object consisting of 2 graphics primitives"
      ]
     },
     "execution_count": 28,
     "metadata": {},
     "output_type": "execute_result"
    }
   ],
   "source": [
    "sigPQ = test_monitoring(P & Q, 4, use_masks=True, two_phase_masks=True, symbolic_composition=True)[1]\n",
    "sigPQ.plot()"
   ]
  },
  {
   "cell_type": "code",
   "execution_count": 29,
   "metadata": {},
   "outputs": [
    {
     "name": "stdout",
     "output_type": "stream",
     "text": [
      "Precomposing Contexts: 1 items in 0.00 seconds\n",
      "calling reach with y0 = ['[0.97999999999999998 .. 1.0200000000000001]', '[1.2799999999999998 .. 1.3200000000000001]', '[0.079999999999999987 .. 0.12000000000000001]', '[0.079999999999999987 .. 0.12000000000000001]', '[0.079999999999999987 .. 0.12000000000000001]', '[1.2799999999999998 .. 1.3200000000000001]', '[2.4799999999999999 .. 2.5200000000000001]', '[0.57999999999999996 .. 0.62000000000000011]', '[1.2799999999999998 .. 1.3200000000000001]']\n",
      "ode in polynomial ring\n",
      "crude_roots = False\n",
      "_handle_initials called!\n",
      "vars = [x1, x2, x3, x4, x5, x6, x7, x8, x9]\n",
      "C = [0.98..1.02]\n",
      "C = [1.2799999999999998..1.32]\n",
      "C = [0.07999999999999999..0.12000000000000001]\n",
      "C = [0.07999999999999999..0.12000000000000001]\n",
      "C = [0.07999999999999999..0.12000000000000001]\n",
      "C = [1.2799999999999998..1.32]\n",
      "C = [2.48..2.52]\n",
      "C = [0.58..0.6200000000000001]\n",
      "C = [1.2799999999999998..1.32]\n",
      "assigning system with dimension 9\n",
      "resulting system has dimension 9\n",
      "run within tmv args\n",
      "integrationScheme = 7\n",
      "Running Flow*: 1 items in 91.71 seconds\n",
      "Computed 1334 flowpipes in 91.70796039600827 sec\n",
      "PolyObserver(x6 - 1.4000000000000000?, <flowstar.reachability.Reach object at 0x7fc6525b25f0>, -0.10000000000000000?*x1*x6 - x2*x6 - 2*x6*x8 + 50*x3 + 100*x4 + 50*x5 - x6, symbolic_composition=False, tentative_unpreconditioning=True, mask=Mask([0.0000000000000000 .. 4.0009999999999995], [[0.0000000000000000 .. 4.0009999999999995]]))\n",
      "fprime = -0.10000000000000000?*x1*x6 - x2*x6 - 2*x6*x8 + 50*x3 + 100*x4 + 50*x5 - x6\n",
      "symbolic_composition=False, tentative_unpreconditioning=True,two_pass_masks=False\n",
      "roots(space_domain=None, epsilon=1e-05, verbosity=0)\n",
      "top-level root detection: 1 items in 10.55 seconds\n",
      "roots = [[0.0048028783727901138 .. 0.020435765977123051], [0.20345478283219919 .. 0.48300000000000043]]\n",
      "domain = [0.0000000000000000 .. 3.9999999999999996]\n",
      "roots = [[0.0048028783727901138 .. 0.020435765977123051], \n",
      " [0.20345478283219919 .. 0.48300000000000043]]\n",
      "seg_domain = [0.0000000000000000 .. 4.0009999999999995]\n",
      "roots = [[0.0048028783727901138 .. 0.020435765977123051], \n",
      " [0.20345478283219919 .. 0.48300000000000043]]\n",
      "running f_bool: 1 items in 0.00 seconds\n",
      "running f_bool: 1 items in 0.00 seconds\n",
      "running f_bool: 1 items in 0.00 seconds\n",
      "signal given bool roots: 1 items in 0.00 seconds\n",
      "PolyObserver(-x6 + 1, <flowstar.reachability.Reach object at 0x7fc6525b25f0>, 0.10000000000000000?*x1*x6 + x2*x6 + 2*x6*x8 - 50*x3 - 100*x4 - 50*x5 + x6, symbolic_composition=False, tentative_unpreconditioning=True, mask=Mask([0.0000000000000000 .. 4.0009999999999995], [[0.0048028783727901138 .. 0.48300000000000043]]))\n",
      "fprime = 0.10000000000000000?*x1*x6 + x2*x6 + 2*x6*x8 - 50*x3 - 100*x4 - 50*x5 + x6\n",
      "symbolic_composition=False, tentative_unpreconditioning=True,two_pass_masks=False\n",
      "roots(space_domain=None, epsilon=1e-05, verbosity=0)\n",
      "top-level root detection: 1 items in 0.43 seconds\n",
      "roots = []\n",
      "domain = [0.0000000000000000 .. 3.9999999999999992]\n",
      "roots = []\n",
      "seg_domain = [0.0048028783727901138 .. 0.48300000000000043]\n",
      "roots = []\n",
      "running f_bool: 1 items in 0.00 seconds\n",
      "signal given bool roots: 1 items in 0.00 seconds\n",
      "Monitoring Signal for x6 > 1.40000000000000 & x6 < 1: 1 items in 11.17 seconds\n",
      "Monitored signal in 11.16529812799854 sec\n",
      "ran \"whole domain eval\" 204 times in 0.6789224147796631\n",
      "ran \"post retrieve\" 100 times in 0.0013515949249267578\n",
      "ran \"prepare in check\" 4 times in 3.123283386230469e-05\n",
      "ran \"root amalgamation\" 100 times in 0.00018405914306640625\n",
      "ran \"mask intersect check\" 2668 times in 0.005291461944580078\n",
      "ran \"composing flowpipe\" 204 times in 7.124194622039795\n",
      "ran \"capturing globals [on exit]\" 16 times in 0.0008230209350585938\n",
      "ran \"check boolean [unguarded]\" 4 times in 0.0005707740783691406\n",
      "ran \"observer.check\" 4 times in 0.0008478164672851562\n",
      "ran \"root detection\" 100 times in 0.7096621990203857\n",
      "ran \"restoring globals\" 16 times in 0.0013768672943115234\n",
      "ran \"tentative eval\" 1393 times in 2.4131081104278564\n",
      "Run done in 103.12625741958618 sec\n",
      "options: {'use_masks': True, 'two_phase_masks': False, 'symbolic_composition': False}\n"
     ]
    },
    {
     "name": "stderr",
     "output_type": "stream",
     "text": [
      "/usr/lib64/python3.7/site-packages/sage/plot/contour_plot.py:205: UserWarning: No contour levels were found within the data range.\n",
      "  linewidths=linewidths, linestyles=linestyles)\n"
     ]
    },
    {
     "data": {
      "image/png": "[encoded data removed]",
      "text/plain": [
       "Graphics object consisting of 2 graphics primitives"
      ]
     },
     "execution_count": 29,
     "metadata": {},
     "output_type": "execute_result"
    }
   ],
   "source": [
    "sigPQ = test_monitoring(P & Q, 4, use_masks=True, two_phase_masks=False, symbolic_composition=False)[1]\n",
    "sigPQ.plot()"
   ]
  },
  {
   "cell_type": "code",
   "execution_count": 31,
   "metadata": {},
   "outputs": [
    {
     "name": "stdout",
     "output_type": "stream",
     "text": [
      "Precomposing Contexts: 1 items in 0.00 seconds\n",
      "calling reach with y0 = ['[0.97999999999999998 .. 1.0200000000000001]', '[1.2799999999999998 .. 1.3200000000000001]', '[0.079999999999999987 .. 0.12000000000000001]', '[0.079999999999999987 .. 0.12000000000000001]', '[0.079999999999999987 .. 0.12000000000000001]', '[1.2799999999999998 .. 1.3200000000000001]', '[2.4799999999999999 .. 2.5200000000000001]', '[0.57999999999999996 .. 0.62000000000000011]', '[1.2799999999999998 .. 1.3200000000000001]']\n",
      "ode in polynomial ring\n",
      "crude_roots = False\n",
      "_handle_initials called!\n",
      "vars = [x1, x2, x3, x4, x5, x6, x7, x8, x9]\n",
      "C = [0.98..1.02]\n",
      "C = [1.2799999999999998..1.32]\n",
      "C = [0.07999999999999999..0.12000000000000001]\n",
      "C = [0.07999999999999999..0.12000000000000001]\n",
      "C = [0.07999999999999999..0.12000000000000001]\n",
      "C = [1.2799999999999998..1.32]\n",
      "C = [2.48..2.52]\n",
      "C = [0.58..0.6200000000000001]\n",
      "C = [1.2799999999999998..1.32]\n",
      "assigning system with dimension 9\n",
      "resulting system has dimension 9\n",
      "run within tmv args\n",
      "integrationScheme = 7\n",
      "Running Flow*: 1 items in 117.09 seconds\n",
      "Computed 1334 flowpipes in 117.09011490800913 sec\n",
      "PolyObserver(x6 - 1.4000000000000000?, <flowstar.reachability.Reach object at 0x7fc65204f410>, -0.10000000000000000?*x1*x6 - x2*x6 - 2*x6*x8 + 50*x3 + 100*x4 + 50*x5 - x6, symbolic_composition=False, tentative_unpreconditioning=True, mask=Mask([0.0000000000000000 .. 4.0009999999999995], [[0.0000000000000000 .. 4.0009999999999995]]))\n",
      "fprime = -0.10000000000000000?*x1*x6 - x2*x6 - 2*x6*x8 + 50*x3 + 100*x4 + 50*x5 - x6\n",
      "symbolic_composition=False, tentative_unpreconditioning=True,two_pass_masks=False\n",
      "roots(space_domain=None, epsilon=1e-05, verbosity=0)\n",
      "top-level root detection: 1 items in 8.84 seconds\n",
      "roots = [[0.0048028783727901138 .. 0.020435765977123051], [0.20345478283219919 .. 0.48300000000000043]]\n",
      "domain = [0.0000000000000000 .. 3.9999999999999996]\n",
      "roots = [[0.0048028783727901138 .. 0.020435765977123051], \n",
      " [0.20345478283219919 .. 0.48300000000000043]]\n",
      "seg_domain = [0.0000000000000000 .. 4.0009999999999995]\n",
      "roots = [[0.0048028783727901138 .. 0.020435765977123051], \n",
      " [0.20345478283219919 .. 0.48300000000000043]]\n",
      "running f_bool: 1 items in 0.00 seconds\n",
      "running f_bool: 1 items in 0.00 seconds\n",
      "running f_bool: 1 items in 0.00 seconds\n",
      "signal given bool roots: 1 items in 0.00 seconds\n",
      "PolyObserver(-x6 + 1, <flowstar.reachability.Reach object at 0x7fc65204f410>, 0.10000000000000000?*x1*x6 + x2*x6 + 2*x6*x8 - 50*x3 - 100*x4 - 50*x5 + x6, symbolic_composition=False, tentative_unpreconditioning=True, mask=Mask([0.0000000000000000 .. 4.0009999999999995], [[0.0048028783727901138 .. 0.48300000000000043]]))\n",
      "fprime = 0.10000000000000000?*x1*x6 + x2*x6 + 2*x6*x8 - 50*x3 - 100*x4 - 50*x5 + x6\n",
      "symbolic_composition=False, tentative_unpreconditioning=True,two_pass_masks=False\n",
      "roots(space_domain=None, epsilon=1e-05, verbosity=0)\n",
      "top-level root detection: 1 items in 0.56 seconds\n",
      "roots = []\n",
      "domain = [0.0000000000000000 .. 3.9999999999999992]\n",
      "roots = []\n",
      "seg_domain = [0.0048028783727901138 .. 0.48300000000000043]\n",
      "roots = []\n",
      "running f_bool: 1 items in 0.00 seconds\n",
      "signal given bool roots: 1 items in 0.00 seconds\n",
      "Monitoring Signal for x6 > 1.40000000000000 & x6 < 1: 1 items in 9.62 seconds\n",
      "Monitored signal in 9.63370356199448 sec\n",
      "ran \"whole domain eval\" 204 times in 0.7380750179290771\n",
      "ran \"post retrieve\" 100 times in 0.0013828277587890625\n",
      "ran \"prepare in check\" 4 times in 2.6941299438476562e-05\n",
      "ran \"root amalgamation\" 100 times in 0.000213623046875\n",
      "ran \"mask intersect check\" 2668 times in 0.005246400833129883\n",
      "ran \"composing flowpipe\" 204 times in 6.154439210891724\n",
      "ran \"capturing globals [on exit]\" 16 times in 0.0009598731994628906\n",
      "ran \"check boolean [unguarded]\" 4 times in 0.0004105567932128906\n",
      "ran \"observer.check\" 4 times in 0.0006945133209228516\n",
      "ran \"root detection\" 100 times in 0.707772970199585\n",
      "ran \"restoring globals\" 16 times in 0.002405405044555664\n",
      "ran \"tentative eval\" 1393 times in 1.7386724948883057\n",
      "Run done in 127.03562951087952 sec\n",
      "options: {'use_masks': True, 'two_phase_masks': True, 'symbolic_composition': False}\n"
     ]
    },
    {
     "name": "stderr",
     "output_type": "stream",
     "text": [
      "/usr/lib64/python3.7/site-packages/sage/plot/contour_plot.py:205: UserWarning: No contour levels were found within the data range.\n",
      "  linewidths=linewidths, linestyles=linestyles)\n"
     ]
    },
    {
     "data": {
      "image/png": "[encoded data removed]",
      "text/plain": [
       "Graphics object consisting of 2 graphics primitives"
      ]
     },
     "execution_count": 31,
     "metadata": {},
     "output_type": "execute_result"
    }
   ],
   "source": [
    "sigPQ = test_monitoring(P & Q, 4, use_masks=True, two_phase_masks=True, symbolic_composition=False)[1]\n",
    "sigPQ.plot()"
   ]
  },
  {
   "cell_type": "code",
   "execution_count": null,
   "metadata": {},
   "outputs": [],
   "source": [
    "R = Atomic((var(\"x5\") - 0.04)^2 + var(\"x3\")^2 < 0.001)"
   ]
  },
  {
   "cell_type": "code",
   "execution_count": null,
   "metadata": {},
   "outputs": [],
   "source": [
    "test_monitoring(R, 4)[1].plot()"
   ]
  },
  {
   "cell_type": "code",
   "execution_count": null,
   "metadata": {},
   "outputs": [],
   "source": [
    "sigPQ = test_monitoring(P & R & Q, 4, use_masks=True, two_phase_masks=True, symbolic_composition=True)[1]\n",
    "sigPQ.plot()"
   ]
  },
  {
   "cell_type": "markdown",
   "metadata": {},
   "source": [
    "##  Optimized"
   ]
  },
  {
   "cell_type": "code",
   "execution_count": 105,
   "metadata": {},
   "outputs": [
    {
     "name": "stdout",
     "output_type": "stream",
     "text": [
      "calling reach with y0 = ['[0.97999999999999998 .. 1.0200000000000001]', '[1.2799999999999998 .. 1.3200000000000001]', '[0.079999999999999987 .. 0.12000000000000001]', '[0.079999999999999987 .. 0.12000000000000001]', '[0.079999999999999987 .. 0.12000000000000001]', '[1.2799999999999998 .. 1.3200000000000001]', '[2.4799999999999999 .. 2.5200000000000001]', '[0.57999999999999996 .. 0.62000000000000011]', '[1.2799999999999998 .. 1.3200000000000001]']\n",
      "ode in polynomial ring\n",
      "crude_roots = False\n",
      "_handle_initials called!\n",
      "vars = [x1, x2, x3, x4, x5, x6, x7, x8, x9]\n",
      "C = [0.98..1.02]\n",
      "C = [1.2799999999999998..1.32]\n",
      "C = [0.07999999999999999..0.12000000000000001]\n",
      "C = [0.07999999999999999..0.12000000000000001]\n",
      "C = [0.07999999999999999..0.12000000000000001]\n",
      "C = [1.2799999999999998..1.32]\n",
      "C = [2.48..2.52]\n",
      "C = [0.58..0.6200000000000001]\n",
      "C = [1.2799999999999998..1.32]\n",
      "assigning system with dimension 9\n",
      "resulting system has dimension 9\n",
      "run within tmv args\n",
      "integrationScheme = 7\n",
      "CPU times: user 1min 59s, sys: 513 ms, total: 1min 59s\n",
      "Wall time: 2min\n"
     ]
    }
   ],
   "source": [
    "%%time\n",
    "r = sys.reach(\n",
    "    4, order=4, step=0.003,\n",
    "    precondition=1,\n",
    "    estimation=1e-1,\n",
    "    max_remainder_queue=100,\n",
    "    integration_method=IntegrationMethod.ONLY_PICARD_SYMB,\n",
    "    cutoff_threshold=1e-6,\n",
    "    symbolic_composition=True\n",
    ")"
   ]
  },
  {
   "cell_type": "code",
   "execution_count": 106,
   "metadata": {},
   "outputs": [
    {
     "data": {
      "text/html": [
       "<html><script type=\"math/tex; mode=display\">\\newcommand{\\Bold}[1]{\\mathbf{#1}}1334</script></html>"
      ],
      "text/plain": [
       "1334"
      ]
     },
     "execution_count": 106,
     "metadata": {},
     "output_type": "execute_result"
    }
   ],
   "source": [
    "r.num_flowpipes"
   ]
  },
  {
   "cell_type": "code",
   "execution_count": 107,
   "metadata": {},
   "outputs": [
    {
     "name": "stdout",
     "output_type": "stream",
     "text": [
      "PolyObserver(x6 - 1.4000000000000000?, <flowstar.reachability.Reach object at 0x7f20a4cd2320>, -0.10000000000000000?*x1*x6 - x2*x6 - 2*x6*x8 + 50*x3 + 100*x4 + 50*x5 - x6 symbolic_composition=False, tentative_unpreconditioning=True, mask=None)\n",
      "fprime = -0.10000000000000000?*x1*x6 - x2*x6 - 2*x6*x8 + 50*x3 + 100*x4 + 50*x5 - x6\n",
      "symbolic_composition=False, tentative_unpreconditioning=True\n",
      "roots(space_domain=None, epsilon=1e-05, verbosity=0)\n",
      "top-level root detection: 1 items in 7.36 seconds\n",
      "roots = [[0.0048028783727901138 .. 0.020435765977123051], [0.20345478283219919 .. 0.48300000000000043]]\n",
      "domain = [0.0000000000000000 .. 3.9990000000000002]\n",
      "roots = [[0.0048028783727901138 .. 0.020435765977123051], \n",
      " [0.20345478283219919 .. 0.48300000000000043]]\n",
      "seg_domain = [0.0000000000000000 .. 3.9990000000000002]\n",
      "roots = [[0.0048028783727901138 .. 0.020435765977123051], \n",
      " [0.20345478283219919 .. 0.48300000000000043]]\n",
      "running f_bool: 1 items in 0.00 seconds\n",
      "running f_bool: 1 items in 0.00 seconds\n",
      "running f_bool: 1 items in 0.00 seconds\n",
      "signal given bool roots: 1 items in 0.00 seconds\n",
      "CPU times: user 7.69 s, sys: 3.81 ms, total: 7.69 s\n",
      "Wall time: 7.72 s\n"
     ]
    }
   ],
   "source": [
    "%%time\n",
    "sigPc = P.signal(r, crude_roots=True, skip_unpreconditioning=True, symbolic_composition=False)\n",
    "sigPc.plot()"
   ]
  },
  {
   "cell_type": "code",
   "execution_count": 108,
   "metadata": {},
   "outputs": [
    {
     "name": "stderr",
     "output_type": "stream",
     "text": [
      "/usr/lib64/python3.7/site-packages/sage/plot/contour_plot.py:205: UserWarning: No contour levels were found within the data range.\n",
      "  linewidths=linewidths, linestyles=linestyles)\n"
     ]
    },
    {
     "data": {
      "image/png": "[encoded data removed]",
      "text/plain": [
       "Graphics object consisting of 2 graphics primitives"
      ]
     },
     "execution_count": 108,
     "metadata": {},
     "output_type": "execute_result"
    }
   ],
   "source": [
    "sigPc.to_mask_and().plot()"
   ]
  },
  {
   "cell_type": "code",
   "execution_count": 109,
   "metadata": {},
   "outputs": [
    {
     "name": "stdout",
     "output_type": "stream",
     "text": [
      "PolyObserver(-x6 + 1, <flowstar.reachability.Reach object at 0x7f20a4cd2320>, 0.10000000000000000?*x1*x6 + x2*x6 + 2*x6*x8 - 50*x3 - 100*x4 - 50*x5 + x6 symbolic_composition=True, tentative_unpreconditioning=True, mask=Mask([0.0000000000000000 .. 3.9990000000000002], [[0.0048028783727901138 .. 0.48300000000000043]]))\n",
      "fprime = 0.10000000000000000?*x1*x6 + x2*x6 + 2*x6*x8 - 50*x3 - 100*x4 - 50*x5 + x6\n",
      "symbolic_composition=True, tentative_unpreconditioning=True\n",
      "roots(space_domain=None, epsilon=1e-05, verbosity=0)\n",
      "top-level root detection: 1 items in 0.31 seconds\n",
      "roots = []\n",
      "domain = [0.0000000000000000 .. 3.9989999999999997]\n",
      "roots = []\n",
      "seg_domain = [0.0048028783727901138 .. 0.48300000000000043]\n",
      "roots = []\n",
      "running f_bool: 1 items in 0.00 seconds\n",
      "signal given bool roots: 1 items in 0.00 seconds\n",
      "CPU times: user 401 ms, sys: 17 µs, total: 401 ms\n",
      "Wall time: 400 ms\n"
     ]
    }
   ],
   "source": [
    "%%time\n",
    "sigQ = Q.signal(r, symbolic_composition=True, mask=sigPc.to_mask_and())\n",
    "sigQ.plot()"
   ]
  },
  {
   "cell_type": "code",
   "execution_count": 110,
   "metadata": {
    "scrolled": true
   },
   "outputs": [
    {
     "name": "stderr",
     "output_type": "stream",
     "text": [
      "/usr/lib64/python3.7/site-packages/sage/plot/contour_plot.py:205: UserWarning: No contour levels were found within the data range.\n",
      "  linewidths=linewidths, linestyles=linestyles)\n"
     ]
    },
    {
     "data": {
      "image/png": "[encoded data removed]",
      "text/plain": [
       "Graphics object consisting of 2 graphics primitives"
      ]
     },
     "execution_count": 110,
     "metadata": {},
     "output_type": "execute_result"
    }
   ],
   "source": [
    "sigQ.with_mask(true_mask(RIF(0, 4))).to_mask_and().plot()"
   ]
  },
  {
   "cell_type": "code",
   "execution_count": 111,
   "metadata": {},
   "outputs": [
    {
     "name": "stderr",
     "output_type": "stream",
     "text": [
      "/usr/lib64/python3.7/site-packages/sage/plot/contour_plot.py:205: UserWarning: No contour levels were found within the data range.\n",
      "  linewidths=linewidths, linestyles=linestyles)\n"
     ]
    },
    {
     "data": {
      "image/png": "[encoded data removed]",
      "text/plain": [
       "Graphics object consisting of 2 graphics primitives"
      ]
     },
     "execution_count": 111,
     "metadata": {},
     "output_type": "execute_result"
    }
   ],
   "source": [
    "maskPu = sigPc.to_mask_and() & sigPc.to_mask_or()\n",
    "maskPu.plot()"
   ]
  },
  {
   "cell_type": "code",
   "execution_count": 112,
   "metadata": {
    "scrolled": true
   },
   "outputs": [
    {
     "name": "stderr",
     "output_type": "stream",
     "text": [
      "/usr/lib64/python3.7/site-packages/sage/plot/contour_plot.py:205: UserWarning: No contour levels were found within the data range.\n",
      "  linewidths=linewidths, linestyles=linestyles)\n"
     ]
    },
    {
     "data": {
      "image/png": "[encoded data removed]",
      "text/plain": [
       "Graphics object consisting of 2 graphics primitives"
      ]
     },
     "execution_count": 112,
     "metadata": {},
     "output_type": "execute_result"
    }
   ],
   "source": [
    "maskPr = sigQ.with_mask(true_mask(RIF(0, 4))).to_mask_and() & maskPu\n",
    "maskPr.plot()"
   ]
  },
  {
   "cell_type": "code",
   "execution_count": 113,
   "metadata": {},
   "outputs": [
    {
     "name": "stdout",
     "output_type": "stream",
     "text": [
      "CPU times: user 5 µs, sys: -0 ns, total: 5 µs\n",
      "Wall time: 8.34 µs\n",
      "PolyObserver(x6 - 1.4000000000000000?, <flowstar.reachability.Reach object at 0x7f20a4cd2320>, -0.10000000000000000?*x1*x6 - x2*x6 - 2*x6*x8 + 50*x3 + 100*x4 + 50*x5 - x6 symbolic_composition=True, tentative_unpreconditioning=True, mask=Mask([0.0000000000000000 .. 3.9989999999999997], [[0.0048028783727901138 .. 0.0048028783727901139], [0.48300000000000042 .. 0.48300000000000043]]))\n",
      "fprime = -0.10000000000000000?*x1*x6 - x2*x6 - 2*x6*x8 + 50*x3 + 100*x4 + 50*x5 - x6\n",
      "symbolic_composition=True, tentative_unpreconditioning=True\n",
      "roots(space_domain=None, epsilon=1e-05, verbosity=0)\n",
      "top-level root detection: 1 items in 0.02 seconds\n",
      "roots = []\n",
      "domain = [0.0000000000000000 .. 3.9989999999999997]\n",
      "roots = []\n",
      "seg_domain = [0.0048028783727901138 .. 0.0048028783727901139]\n",
      "roots = []\n",
      "running f_bool: 1 items in 0.00 seconds\n",
      "seg_domain = [0.48300000000000042 .. 0.48300000000000043]\n",
      "roots = []\n",
      "running f_bool: 1 items in 0.00 seconds\n",
      "signal given bool roots: 1 items in 0.00 seconds\n"
     ]
    }
   ],
   "source": [
    "%time\n",
    "sigPr = P.signal(r, mask=maskPr, symbolic_composition=True)"
   ]
  },
  {
   "cell_type": "code",
   "execution_count": 114,
   "metadata": {},
   "outputs": [
    {
     "data": {
      "image/png": "[encoded data removed]",
      "text/plain": [
       "Graphics object consisting of 2 graphics primitives"
      ]
     },
     "execution_count": 114,
     "metadata": {},
     "output_type": "execute_result"
    }
   ],
   "source": [
    "sigPc.plot()"
   ]
  },
  {
   "cell_type": "code",
   "execution_count": 117,
   "metadata": {},
   "outputs": [
    {
     "data": {
      "image/png": "[encoded data removed]",
      "text/plain": [
       "Graphics object consisting of 2 graphics primitives"
      ]
     },
     "execution_count": 117,
     "metadata": {},
     "output_type": "execute_result"
    }
   ],
   "source": [
    "sigPc.union(sigPr).plot()"
   ]
  },
  {
   "cell_type": "code",
   "execution_count": 118,
   "metadata": {},
   "outputs": [
    {
     "name": "stderr",
     "output_type": "stream",
     "text": [
      "/usr/lib64/python3.7/site-packages/sage/plot/contour_plot.py:205: UserWarning: No contour levels were found within the data range.\n",
      "  linewidths=linewidths, linestyles=linestyles)\n"
     ]
    },
    {
     "data": {
      "image/png": "[encoded data removed]",
      "text/plain": [
       "Graphics object consisting of 2 graphics primitives"
      ]
     },
     "execution_count": 118,
     "metadata": {},
     "output_type": "execute_result"
    }
   ],
   "source": [
    "sig = sigPc.union(sigPr) & sigQ.with_mask(true_mask(RIF(0, 4)))\n",
    "sig.plot()"
   ]
  },
  {
   "cell_type": "code",
   "execution_count": null,
   "metadata": {},
   "outputs": [],
   "source": []
  }
 ],
 "metadata": {
  "kernelspec": {
   "display_name": "SageMath 9.0",
   "language": "sage",
   "name": "sagemath"
  },
  "language_info": {
   "codemirror_mode": {
    "name": "ipython",
    "version": 3
   },
   "file_extension": ".py",
   "mimetype": "text/x-python",
   "name": "python",
   "nbconvert_exporter": "python",
   "pygments_lexer": "ipython3",
   "version": "3.8.2"
  },
  "notify_time": "5"
 },
 "nbformat": 4,
 "nbformat_minor": 2
}
