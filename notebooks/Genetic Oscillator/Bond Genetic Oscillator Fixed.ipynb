{
 "cells": [
  {
   "cell_type": "markdown",
   "metadata": {},
   "source": [
    "# Bond-Calculus Genetic Oscillator"
   ]
  },
  {
   "cell_type": "code",
   "execution_count": 1,
   "metadata": {},
   "outputs": [],
   "source": [
    "import sys\n",
    "\n",
    "sys.path.insert(0, \"/home/twright/Documents/PhD/Notebooks\")"
   ]
  },
  {
   "cell_type": "code",
   "execution_count": 2,
   "metadata": {},
   "outputs": [],
   "source": [
    "from lbuc.bondcalculus import *\n",
    "from lbuc.logic import *"
   ]
  },
  {
   "cell_type": "markdown",
   "metadata": {},
   "source": [
    "## Load Enzyme Model"
   ]
  },
  {
   "cell_type": "code",
   "execution_count": 3,
   "metadata": {},
   "outputs": [
    {
     "name": "stdout",
     "output_type": "stream",
     "text": [
      "Running cmd: 'load \"genos.bond\"' ...\n"
     ]
    },
    {
     "data": {
      "text/plain": [
       "<lbuc.bondcalculus.BondModel object at 0x7f2a7f619a00>"
      ]
     },
     "execution_count": 3,
     "metadata": {},
     "output_type": "execute_result"
    }
   ],
   "source": [
    "model = BondModel(\"./genos.bond\"); model"
   ]
  },
  {
   "cell_type": "code",
   "execution_count": 4,
   "metadata": {},
   "outputs": [
    {
     "data": {
      "text/plain": [
       "BondProcess('MixF', <lbuc.bondcalculus.BondModel object at 0x7f2a7f619a00>)"
      ]
     },
     "execution_count": 4,
     "metadata": {},
     "output_type": "execute_result"
    }
   ],
   "source": [
    "p = model.process(\"MixF\"); p"
   ]
  },
  {
   "cell_type": "code",
   "execution_count": 5,
   "metadata": {},
   "outputs": [
    {
     "name": "stdout",
     "output_type": "stream",
     "text": [
      "Running cmd: 'savesage \"MixF\" \"/tmp/bond-sage-script-tl7o9gd6.py\"' ...\n"
     ]
    },
    {
     "data": {
      "text/plain": [
       "System(R, (x0, x1, x2, x3, x4, x5, x6, x7, x8), [0, 1, 0, 0, 0, 0, 0, 1, 0], (-0.1000000000000000?*x0*x1 - 2*x0*x5 - x0*x7 - x0 + 50*x2 + 100*x6 + 50*x8, -0.1000000000000000?*x0*x1 + 50*x8, 0.50000000000000000?*x1 - 10*x2 + 5*x8, 2*x0*x5 - x3, -0.50000000000000000?*x4 + 50*x6 + 0.01000000000000000?*x7, -2*x0*x5 + x3 + 0.50000000000000000?*x4 - 0.2000000000000000?*x5, x0*x7 - 100*x6, -x0*x7 + 100*x6, 0.1000000000000000?*x0*x1 - 50*x8), varmap=bidict({'P(bindA,unbindA,decayuA,decaybA;)': x0, 'Promoter(bindpA,unbindpA,transcA,transcbA,translA,decayA,bindA,unbindA,decayuA,decaybA;)': x1, 'MRNA(translA,decayA,bindA,unbindA,decayuA,decaybA;)': x2, 'new 0 in Pb(bindA,unbindA,decayuA,decaybA;0) | Pb(bindR,unbindR,decayuR,decaybR;0)': x3, 'MRNA(translR,decayR,bindR,unbindR,decayuR,decaybR;)': x4, 'P(bindR,unbindR,decayuR,decaybR;)': x5, 'new 0 in Pb(bindA,unbindA,decayuA,decaybA;0) | PromoterBound(bindpR,unbindpR,transcR,transcbR,translR,decayR,bindR,unbindR,decayuR,decaybR;0)': x6, 'Promoter(bindpR,unbindpR,transcR,transcbR,translR,decayR,bindR,unbindR,decayuR,decaybR;)': x7, 'new 0 in PromoterBound(bindpA,unbindpA,transcA,transcbA,translA,decayA,bindA,unbindA,decayuA,decaybA;0) | Pb(bindA,unbindA,decayuA,decaybA;0)': x8}))"
      ]
     },
     "execution_count": 5,
     "metadata": {},
     "output_type": "execute_result"
    }
   ],
   "source": [
    "s = p.as_system; s"
   ]
  },
  {
   "cell_type": "code",
   "execution_count": 6,
   "metadata": {},
   "outputs": [
    {
     "data": {
      "text/html": [
       "<div class=\"notruncate\">\n",
       "<table  class=\"table_form\">\n",
       "<tbody>\n",
       "<tr class =\"row-a\">\n",
       "<td>P(bindA,unbindA,decayuA,decaybA;)</td>\n",
       "<td><script type=\"math/tex\">x_{0}</script></td>\n",
       "</tr>\n",
       "<tr class =\"row-b\">\n",
       "<td>Promoter(bindpA,unbindpA,transcA,transcbA,translA,decayA,bindA,unbindA,decayuA,decaybA;)</td>\n",
       "<td><script type=\"math/tex\">x_{1}</script></td>\n",
       "</tr>\n",
       "<tr class =\"row-a\">\n",
       "<td>MRNA(translA,decayA,bindA,unbindA,decayuA,decaybA;)</td>\n",
       "<td><script type=\"math/tex\">x_{2}</script></td>\n",
       "</tr>\n",
       "<tr class =\"row-b\">\n",
       "<td>new 0 in Pb(bindA,unbindA,decayuA,decaybA;0) | Pb(bindR,unbindR,decayuR,decaybR;0)</td>\n",
       "<td><script type=\"math/tex\">x_{3}</script></td>\n",
       "</tr>\n",
       "<tr class =\"row-a\">\n",
       "<td>MRNA(translR,decayR,bindR,unbindR,decayuR,decaybR;)</td>\n",
       "<td><script type=\"math/tex\">x_{4}</script></td>\n",
       "</tr>\n",
       "<tr class =\"row-b\">\n",
       "<td>P(bindR,unbindR,decayuR,decaybR;)</td>\n",
       "<td><script type=\"math/tex\">x_{5}</script></td>\n",
       "</tr>\n",
       "<tr class =\"row-a\">\n",
       "<td>new 0 in Pb(bindA,unbindA,decayuA,decaybA;0) | PromoterBound(bindpR,unbindpR,transcR,transcbR,translR,decayR,bindR,unbindR,decayuR,decaybR;0)</td>\n",
       "<td><script type=\"math/tex\">x_{6}</script></td>\n",
       "</tr>\n",
       "<tr class =\"row-b\">\n",
       "<td>Promoter(bindpR,unbindpR,transcR,transcbR,translR,decayR,bindR,unbindR,decayuR,decaybR;)</td>\n",
       "<td><script type=\"math/tex\">x_{7}</script></td>\n",
       "</tr>\n",
       "<tr class =\"row-a\">\n",
       "<td>new 0 in PromoterBound(bindpA,unbindpA,transcA,transcbA,translA,decayA,bindA,unbindA,decayuA,decaybA;0) | Pb(bindA,unbindA,decayuA,decaybA;0)</td>\n",
       "<td><script type=\"math/tex\">x_{8}</script></td>\n",
       "</tr>\n",
       "</tbody>\n",
       "</table>\n",
       "</div>"
      ],
      "text/plain": [
       "  P(bindA,unbindA,decayuA,decaybA;)                                                                                                               x0\n",
       "  Promoter(bindpA,unbindpA,transcA,transcbA,translA,decayA,bindA,unbindA,decayuA,decaybA;)                                                        x1\n",
       "  MRNA(translA,decayA,bindA,unbindA,decayuA,decaybA;)                                                                                             x2\n",
       "  new 0 in Pb(bindA,unbindA,decayuA,decaybA;0) | Pb(bindR,unbindR,decayuR,decaybR;0)                                                              x3\n",
       "  MRNA(translR,decayR,bindR,unbindR,decayuR,decaybR;)                                                                                             x4\n",
       "  P(bindR,unbindR,decayuR,decaybR;)                                                                                                               x5\n",
       "  new 0 in Pb(bindA,unbindA,decayuA,decaybA;0) | PromoterBound(bindpR,unbindpR,transcR,transcbR,translR,decayR,bindR,unbindR,decayuR,decaybR;0)   x6\n",
       "  Promoter(bindpR,unbindpR,transcR,transcbR,translR,decayR,bindR,unbindR,decayuR,decaybR;)                                                        x7\n",
       "  new 0 in PromoterBound(bindpA,unbindpA,transcA,transcbA,translA,decayA,bindA,unbindA,decayuA,decaybA;0) | Pb(bindA,unbindA,decayuA,decaybA;0)   x8"
      ]
     },
     "execution_count": 6,
     "metadata": {},
     "output_type": "execute_result"
    }
   ],
   "source": [
    "table(list(s.varmap.items()))"
   ]
  },
  {
   "cell_type": "code",
   "execution_count": 7,
   "metadata": {},
   "outputs": [
    {
     "data": {
      "text/html": [
       "<div class=\"notruncate\">\n",
       "<table  class=\"table_form\">\n",
       "<tbody>\n",
       "<tr class =\"row-a\">\n",
       "<td><script type=\"math/tex\">0.000000000000000</script></td>\n",
       "<td><script type=\"math/tex\">0.000000000000000</script></td>\n",
       "</tr>\n",
       "<tr class =\"row-b\">\n",
       "<td><script type=\"math/tex\">1.00000000000000</script></td>\n",
       "<td><script type=\"math/tex\">1.00000000000000</script></td>\n",
       "</tr>\n",
       "<tr class =\"row-a\">\n",
       "<td><script type=\"math/tex\">0.000000000000000</script></td>\n",
       "<td><script type=\"math/tex\">0.000000000000000</script></td>\n",
       "</tr>\n",
       "<tr class =\"row-b\">\n",
       "<td><script type=\"math/tex\">0.000000000000000</script></td>\n",
       "<td><script type=\"math/tex\">0.000000000000000</script></td>\n",
       "</tr>\n",
       "<tr class =\"row-a\">\n",
       "<td><script type=\"math/tex\">0.000000000000000</script></td>\n",
       "<td><script type=\"math/tex\">0.000000000000000</script></td>\n",
       "</tr>\n",
       "<tr class =\"row-b\">\n",
       "<td><script type=\"math/tex\">0.000000000000000</script></td>\n",
       "<td><script type=\"math/tex\">0.000000000000000</script></td>\n",
       "</tr>\n",
       "<tr class =\"row-a\">\n",
       "<td><script type=\"math/tex\">0.000000000000000</script></td>\n",
       "<td><script type=\"math/tex\">0.000000000000000</script></td>\n",
       "</tr>\n",
       "<tr class =\"row-b\">\n",
       "<td><script type=\"math/tex\">1.00000000000000</script></td>\n",
       "<td><script type=\"math/tex\">1.00000000000000</script></td>\n",
       "</tr>\n",
       "<tr class =\"row-a\">\n",
       "<td><script type=\"math/tex\">0.000000000000000</script></td>\n",
       "<td><script type=\"math/tex\">0.000000000000000</script></td>\n",
       "</tr>\n",
       "</tbody>\n",
       "</table>\n",
       "</div>"
      ],
      "text/plain": [
       "  0.000000000000000   0.000000000000000\n",
       "  1.00000000000000    1.00000000000000\n",
       "  0.000000000000000   0.000000000000000\n",
       "  0.000000000000000   0.000000000000000\n",
       "  0.000000000000000   0.000000000000000\n",
       "  0.000000000000000   0.000000000000000\n",
       "  0.000000000000000   0.000000000000000\n",
       "  1.00000000000000    1.00000000000000\n",
       "  0.000000000000000   0.000000000000000"
      ]
     },
     "execution_count": 7,
     "metadata": {},
     "output_type": "execute_result"
    }
   ],
   "source": [
    "table([x.endpoints() for x in s.y0])"
   ]
  },
  {
   "cell_type": "code",
   "execution_count": 8,
   "metadata": {},
   "outputs": [],
   "source": [
    "from bidict import bidict"
   ]
  },
  {
   "cell_type": "code",
   "execution_count": 9,
   "metadata": {},
   "outputs": [],
   "source": [
    "R.<x1,x2,x3,x4,x5,x6,x7,x8,x9> = RIF[]"
   ]
  },
  {
   "cell_type": "code",
   "execution_count": 10,
   "metadata": {},
   "outputs": [],
   "source": [
    "vmap = bidict({\n",
    "    x1: s.v('Promoter(bindpA,unbindpA,transcA,transcbA,translA,decayA,bindA,unbindA,decayuA,decaybA;)'),\n",
    "    x2: s.v('Promoter(bindpR,unbindpR,transcR,transcbR,translR,decayR,bindR,unbindR,decayuR,decaybR;)'),\n",
    "    x3: s.v('new 0 in PromoterBound(bindpA,unbindpA,transcA,transcbA,translA,decayA,bindA,unbindA,decayuA,decaybA;0) | Pb(bindA,unbindA,decayuA,decaybA;0)'),\n",
    "    x4: s.v('new 0 in Pb(bindA,unbindA,decayuA,decaybA;0) | PromoterBound(bindpR,unbindpR,transcR,transcbR,translR,decayR,bindR,unbindR,decayuR,decaybR;0)'),\n",
    "    x5: s.v('MRNA(translA,decayA,bindA,unbindA,decayuA,decaybA;)'),\n",
    "    x6: s.v('P(bindA,unbindA,decayuA,decaybA;)'),\n",
    "    x7: s.v('MRNA(translR,decayR,bindR,unbindR,decayuR,decaybR;)'),\n",
    "    x8: s.v('P(bindR,unbindR,decayuR,decaybR;)'),\n",
    "    x9: s.v('new 0 in Pb(bindA,unbindA,decayuA,decaybA;0) | Pb(bindR,unbindR,decayuR,decaybR;0)'),\n",
    "}).inverse"
   ]
  },
  {
   "cell_type": "code",
   "execution_count": 11,
   "metadata": {},
   "outputs": [],
   "source": [
    "vmap2 = bidict({\n",
    "    x1: var('D_A'),\n",
    "    x2: var('D_R'),\n",
    "    x3: var('D_Ap'),\n",
    "    x4: var('D_Rp'),\n",
    "    x5: var('M_A'),\n",
    "    x6: var('A'),\n",
    "    x7: var('M_R'),\n",
    "    x8: var('R'),\n",
    "    x9: var('C'),\n",
    "}).inverse"
   ]
  },
  {
   "cell_type": "code",
   "execution_count": 12,
   "metadata": {},
   "outputs": [
    {
     "data": {
      "text/plain": [
       "{1: 1, 7: 2, 8: 3, 6: 4, 2: 5, 0: 6, 4: 7, 5: 8, 3: 9}"
      ]
     },
     "execution_count": 12,
     "metadata": {},
     "output_type": "execute_result"
    }
   ],
   "source": [
    "imap = {\n",
    "    int(str(l)[1:]): int(str(r)[1:])\n",
    "    for l, r in vmap.items()\n",
    "}; imap"
   ]
  },
  {
   "cell_type": "code",
   "execution_count": 13,
   "metadata": {},
   "outputs": [],
   "source": [
    "def reorg(vmap, ys):\n",
    "    ys = tuple(ys)\n",
    "    imap = {\n",
    "        int(str(l)[1:]) - 1: int(str(r)[1:])\n",
    "        for l, r in vmap.inverse.items()\n",
    "    }\n",
    "    print(f\"{imap=}\\n{ys=}\")\n",
    "    return tuple(ys[imap[i]] for i in range(len(ys)))"
   ]
  },
  {
   "cell_type": "code",
   "execution_count": 14,
   "metadata": {},
   "outputs": [],
   "source": [
    "y0 = [\n",
    "    RIF('[0.98, 1.02]'),\n",
    "    RIF('[1.28, 1.32]'),\n",
    "    RIF('[0.08, 0.12]'),\n",
    "    RIF('[0.08, 0.12]'), # x4\n",
    "    RIF('[0.08, 0.12]'),\n",
    "    RIF('[1.28, 1.32]'), # x6\n",
    "    RIF('[2.48, 2.52]'),\n",
    "    RIF('[0.58, 0.62]'),\n",
    "    RIF('[1.28, 1.32]'),\n",
    "]"
   ]
  },
  {
   "cell_type": "code",
   "execution_count": 41,
   "metadata": {},
   "outputs": [
    {
     "name": "stdout",
     "output_type": "stream",
     "text": [
      "imap={0: 1, 1: 7, 2: 8, 3: 6, 4: 2, 5: 0, 6: 4, 7: 5, 8: 3}\n",
      "ys=(-0.1000000000000000?*x0*x5 - x1*x5 - 2*x5*x7 + 50*x2 + 100*x3 + 50*x4 - x5, -0.1000000000000000?*x0*x5 + 50*x2, 0.50000000000000000?*x0 + 5*x2 - 10*x4, 2*x5*x7 - x8, 0.01000000000000000?*x1 + 50*x3 - 0.50000000000000000?*x6, -2*x5*x7 + 0.50000000000000000?*x6 - 0.2000000000000000?*x7 + x8, x1*x5 - 100*x3, -x1*x5 + 100*x3, 0.1000000000000000?*x0*x5 - 50*x2)\n"
     ]
    },
    {
     "data": {
      "text/plain": [
       "System(R, (x1, x2, x3, x4, x5, x6, x7, x8, x9), [[0.97999999999999998 .. 1.0200000000000001], [1.2799999999999998 .. 1.3200000000000001], [0.079999999999999987 .. 0.12000000000000001], [0.079999999999999987 .. 0.12000000000000001], [0.079999999999999987 .. 0.12000000000000001], [1.2799999999999998 .. 1.3200000000000001], [2.4799999999999999 .. 2.5200000000000001], [0.57999999999999996 .. 0.62000000000000011], [1.2799999999999998 .. 1.3200000000000001]], (-0.1000000000000000?*x1*x6 + 50*x3, -x2*x6 + 100*x4, 0.1000000000000000?*x1*x6 - 50*x3, x2*x6 - 100*x4, 0.50000000000000000?*x1 + 5*x3 - 10*x5, -0.1000000000000000?*x1*x6 - x2*x6 - 2*x6*x8 + 50*x3 + 100*x4 + 50*x5 - x6, 0.01000000000000000?*x2 + 50*x4 - 0.50000000000000000?*x7, -2*x6*x8 + 0.50000000000000000?*x7 - 0.2000000000000000?*x8 + x9, 2*x6*x8 - x9), varmap=bidict({'x1': x1, 'x2': x2, 'x3': x3, 'x4': x4, 'x5': x5, 'x6': x6, 'x7': x7, 'x8': x8, 'x9': x9}))"
      ]
     },
     "execution_count": 41,
     "metadata": {},
     "output_type": "execute_result"
    }
   ],
   "source": [
    "s1 = System(\n",
    "    R,\n",
    "    (x1, x2, x3, x4, x5, x6, x7, x8, x9),\n",
    "    y0,\n",
    "    #reorg(vmap, s.y0),\n",
    "    reorg(vmap, s.y.substitute(vmap)),\n",
    "#    vmap2,\n",
    "); s1"
   ]
  },
  {
   "cell_type": "code",
   "execution_count": 42,
   "metadata": {},
   "outputs": [
    {
     "data": {
      "text/html": [
       "<div class=\"notruncate\">\n",
       "<table  class=\"table_form\">\n",
       "<tbody>\n",
       "<tr class =\"row-a\">\n",
       "<td><script type=\"math/tex\">0.979999999999999</script></td>\n",
       "<td><script type=\"math/tex\">1.02000000000001</script></td>\n",
       "</tr>\n",
       "<tr class =\"row-b\">\n",
       "<td><script type=\"math/tex\">1.27999999999999</script></td>\n",
       "<td><script type=\"math/tex\">1.32000000000001</script></td>\n",
       "</tr>\n",
       "<tr class =\"row-a\">\n",
       "<td><script type=\"math/tex\">0.0799999999999999</script></td>\n",
       "<td><script type=\"math/tex\">0.120000000000001</script></td>\n",
       "</tr>\n",
       "<tr class =\"row-b\">\n",
       "<td><script type=\"math/tex\">0.0799999999999999</script></td>\n",
       "<td><script type=\"math/tex\">0.120000000000001</script></td>\n",
       "</tr>\n",
       "<tr class =\"row-a\">\n",
       "<td><script type=\"math/tex\">0.0799999999999999</script></td>\n",
       "<td><script type=\"math/tex\">0.120000000000001</script></td>\n",
       "</tr>\n",
       "<tr class =\"row-b\">\n",
       "<td><script type=\"math/tex\">1.27999999999999</script></td>\n",
       "<td><script type=\"math/tex\">1.32000000000001</script></td>\n",
       "</tr>\n",
       "<tr class =\"row-a\">\n",
       "<td><script type=\"math/tex\">2.47999999999999</script></td>\n",
       "<td><script type=\"math/tex\">2.52000000000001</script></td>\n",
       "</tr>\n",
       "<tr class =\"row-b\">\n",
       "<td><script type=\"math/tex\">0.579999999999999</script></td>\n",
       "<td><script type=\"math/tex\">0.620000000000001</script></td>\n",
       "</tr>\n",
       "<tr class =\"row-a\">\n",
       "<td><script type=\"math/tex\">1.27999999999999</script></td>\n",
       "<td><script type=\"math/tex\">1.32000000000001</script></td>\n",
       "</tr>\n",
       "</tbody>\n",
       "</table>\n",
       "</div>"
      ],
      "text/plain": [
       "  0.979999999999999    1.02000000000001\n",
       "  1.27999999999999     1.32000000000001\n",
       "  0.0799999999999999   0.120000000000001\n",
       "  0.0799999999999999   0.120000000000001\n",
       "  0.0799999999999999   0.120000000000001\n",
       "  1.27999999999999     1.32000000000001\n",
       "  2.47999999999999     2.52000000000001\n",
       "  0.579999999999999    0.620000000000001\n",
       "  1.27999999999999     1.32000000000001"
      ]
     },
     "execution_count": 42,
     "metadata": {},
     "output_type": "execute_result"
    }
   ],
   "source": [
    "table([x.endpoints() for x in s1.y0])"
   ]
  },
  {
   "cell_type": "code",
   "execution_count": 43,
   "metadata": {},
   "outputs": [
    {
     "data": {
      "text/html": [
       "<div class=\"notruncate\">\n",
       "<table  class=\"table_form\">\n",
       "<tbody>\n",
       "<tr class =\"row-a\">\n",
       "<td><script type=\"math/tex\">x_{1}</script></td>\n",
       "<td><script type=\"math/tex\">-0.1000000000000000? x_{1} x_{6} + 50 x_{3}</script></td>\n",
       "</tr>\n",
       "<tr class =\"row-b\">\n",
       "<td><script type=\"math/tex\">x_{2}</script></td>\n",
       "<td><script type=\"math/tex\">-x_{2} x_{6} + 100 x_{4}</script></td>\n",
       "</tr>\n",
       "<tr class =\"row-a\">\n",
       "<td><script type=\"math/tex\">x_{3}</script></td>\n",
       "<td><script type=\"math/tex\">0.1000000000000000? x_{1} x_{6} - 50 x_{3}</script></td>\n",
       "</tr>\n",
       "<tr class =\"row-b\">\n",
       "<td><script type=\"math/tex\">x_{4}</script></td>\n",
       "<td><script type=\"math/tex\">x_{2} x_{6} - 100 x_{4}</script></td>\n",
       "</tr>\n",
       "<tr class =\"row-a\">\n",
       "<td><script type=\"math/tex\">x_{5}</script></td>\n",
       "<td><script type=\"math/tex\">0.50000000000000000? x_{1} + 5 x_{3} - 10 x_{5}</script></td>\n",
       "</tr>\n",
       "<tr class =\"row-b\">\n",
       "<td><script type=\"math/tex\">x_{6}</script></td>\n",
       "<td><script type=\"math/tex\">-0.1000000000000000? x_{1} x_{6} - x_{2} x_{6} - 2 x_{6} x_{8} + 50 x_{3} + 100 x_{4} + 50 x_{5} - x_{6}</script></td>\n",
       "</tr>\n",
       "<tr class =\"row-a\">\n",
       "<td><script type=\"math/tex\">x_{7}</script></td>\n",
       "<td><script type=\"math/tex\">0.01000000000000000? x_{2} + 50 x_{4} - 0.50000000000000000? x_{7}</script></td>\n",
       "</tr>\n",
       "<tr class =\"row-b\">\n",
       "<td><script type=\"math/tex\">x_{8}</script></td>\n",
       "<td><script type=\"math/tex\">-2 x_{6} x_{8} + 0.50000000000000000? x_{7} - 0.2000000000000000? x_{8} + x_{9}</script></td>\n",
       "</tr>\n",
       "<tr class =\"row-a\">\n",
       "<td><script type=\"math/tex\">x_{9}</script></td>\n",
       "<td><script type=\"math/tex\">2 x_{6} x_{8} - x_{9}</script></td>\n",
       "</tr>\n",
       "</tbody>\n",
       "</table>\n",
       "</div>"
      ],
      "text/plain": [
       "  x1   -0.1000000000000000?*x1*x6 + 50*x3\n",
       "  x2   -x2*x6 + 100*x4\n",
       "  x3   0.1000000000000000?*x1*x6 - 50*x3\n",
       "  x4   x2*x6 - 100*x4\n",
       "  x5   0.50000000000000000?*x1 + 5*x3 - 10*x5\n",
       "  x6   -0.1000000000000000?*x1*x6 - x2*x6 - 2*x6*x8 + 50*x3 + 100*x4 + 50*x5 - x6\n",
       "  x7   0.01000000000000000?*x2 + 50*x4 - 0.50000000000000000?*x7\n",
       "  x8   -2*x6*x8 + 0.50000000000000000?*x7 - 0.2000000000000000?*x8 + x9\n",
       "  x9   2*x6*x8 - x9"
      ]
     },
     "execution_count": 43,
     "metadata": {},
     "output_type": "execute_result"
    }
   ],
   "source": [
    "table([[x, y] for (w, x), y in zip(s1.varmap.items(), s1.y)])"
   ]
  },
  {
   "cell_type": "code",
   "execution_count": 44,
   "metadata": {},
   "outputs": [
    {
     "data": {
      "text/html": [
       "<div class=\"notruncate\">\n",
       "<table  class=\"table_form\">\n",
       "<tbody>\n",
       "<tr class =\"row-a\">\n",
       "<td>x1</td>\n",
       "<td><script type=\"math/tex\">-0.1000000000000000? \\, A D_{A} + 50 \\, D_{\\mathit{Ap}}</script></td>\n",
       "</tr>\n",
       "<tr class =\"row-b\">\n",
       "<td>x2</td>\n",
       "<td><script type=\"math/tex\">-1 \\, A D_{R} + 100 \\, D_{\\mathit{Rp}}</script></td>\n",
       "</tr>\n",
       "<tr class =\"row-a\">\n",
       "<td>x3</td>\n",
       "<td><script type=\"math/tex\">0.1000000000000000? \\, A D_{A} - 50 \\, D_{\\mathit{Ap}}</script></td>\n",
       "</tr>\n",
       "<tr class =\"row-b\">\n",
       "<td>x4</td>\n",
       "<td><script type=\"math/tex\">1 \\, A D_{R} - 100 \\, D_{\\mathit{Rp}}</script></td>\n",
       "</tr>\n",
       "<tr class =\"row-a\">\n",
       "<td>x5</td>\n",
       "<td><script type=\"math/tex\">0.50000000000000000? \\, D_{A} + 5 \\, D_{\\mathit{Ap}} - 10 \\, M_{A}</script></td>\n",
       "</tr>\n",
       "<tr class =\"row-b\">\n",
       "<td>x6</td>\n",
       "<td><script type=\"math/tex\">-0.1000000000000000? \\, A D_{A} - 1 \\, A D_{R} - 2 \\, A R - 1 \\, A + 50 \\, D_{\\mathit{Ap}} + 100 \\, D_{\\mathit{Rp}} + 50 \\, M_{A}</script></td>\n",
       "</tr>\n",
       "<tr class =\"row-a\">\n",
       "<td>x7</td>\n",
       "<td><script type=\"math/tex\">0.01000000000000000? \\, D_{R} + 50 \\, D_{\\mathit{Rp}} - 0.50000000000000000? \\, M_{R}</script></td>\n",
       "</tr>\n",
       "<tr class =\"row-b\">\n",
       "<td>x8</td>\n",
       "<td><script type=\"math/tex\">-2 \\, A R + 1 \\, C + 0.50000000000000000? \\, M_{R} - 0.2000000000000000? \\, R</script></td>\n",
       "</tr>\n",
       "<tr class =\"row-a\">\n",
       "<td>x9</td>\n",
       "<td><script type=\"math/tex\">2 \\, A R - 1 \\, C</script></td>\n",
       "</tr>\n",
       "</tbody>\n",
       "</table>\n",
       "</div>"
      ],
      "text/plain": [
       "  x1   -0.1000000000000000?*A*D_A + 50*D_Ap\n",
       "  x2   -1*A*D_R + 100*D_Rp\n",
       "  x3   0.1000000000000000?*A*D_A - 50*D_Ap\n",
       "  x4   1*A*D_R - 100*D_Rp\n",
       "  x5   0.50000000000000000?*D_A + 5*D_Ap - 10*M_A\n",
       "  x6   -0.1000000000000000?*A*D_A - 1*A*D_R - 2*A*R - 1*A + 50*D_Ap + 100*D_Rp + 50*M_A\n",
       "  x7   0.01000000000000000?*D_R + 50*D_Rp - 0.50000000000000000?*M_R\n",
       "  x8   -2*A*R + 1*C + 0.50000000000000000?*M_R - 0.2000000000000000?*R\n",
       "  x9   2*A*R - 1*C"
      ]
     },
     "execution_count": 44,
     "metadata": {},
     "output_type": "execute_result"
    }
   ],
   "source": [
    "table([[w, y.substitute(vmap2.inverse)] for (w, x), y in zip(s1.varmap.items(), s1.y)])"
   ]
  },
  {
   "cell_type": "markdown",
   "metadata": {},
   "source": [
    "## Basic Property"
   ]
  },
  {
   "cell_type": "code",
   "execution_count": 45,
   "metadata": {},
   "outputs": [],
   "source": [
    "from lbuc import IntegrationMethod"
   ]
  },
  {
   "cell_type": "code",
   "execution_count": 46,
   "metadata": {},
   "outputs": [],
   "source": [
    "opts = dict(\n",
    "    order=4, step=0.003,\n",
    "    precondition=1,\n",
    "    estimation=1e-1,\n",
    "    max_remainder_queue=250,\n",
    "    integration_method=IntegrationMethod.ONLY_PICARD_SYMB,\n",
    "    cutoff_threshold=1e-6,\n",
    ")"
   ]
  },
  {
   "cell_type": "code",
   "execution_count": 94,
   "metadata": {},
   "outputs": [],
   "source": [
    "reach = s1.reach(6, **opts)"
   ]
  },
  {
   "cell_type": "code",
   "execution_count": 95,
   "metadata": {},
   "outputs": [
    {
     "data": {
      "text/plain": [
       "2000"
      ]
     },
     "execution_count": 95,
     "metadata": {},
     "output_type": "execute_result"
    }
   ],
   "source": [
    "reach.num_flowpipes"
   ]
  },
  {
   "cell_type": "code",
   "execution_count": 96,
   "metadata": {},
   "outputs": [
    {
     "name": "stdout",
     "output_type": "stream",
     "text": [
      "var_id_x = 3\n",
      "var_id_y = 5\n"
     ]
    },
    {
     "data": {
      "image/png": "[encoded data removed]",
      "text/plain": [
       "Graphics object consisting of 6000 graphics primitives"
      ]
     },
     "execution_count": 96,
     "metadata": {},
     "output_type": "execute_result"
    }
   ],
   "source": [
    "p = reach.sage_interval_plot(\"x4\", \"x6\", step=1e-3)\n",
    "p.set_aspect_ratio(1/20)\n",
    "p"
   ]
  },
  {
   "cell_type": "code",
   "execution_count": 97,
   "metadata": {},
   "outputs": [
    {
     "data": {
      "image/png": "[encoded data removed]",
      "text/plain": [
       "<wand.image.Image: db69fc6 'PS' (720x504)>"
      ]
     },
     "execution_count": 97,
     "metadata": {},
     "output_type": "execute_result"
    }
   ],
   "source": [
    "reach.wplot(\"x4\", \"x6\")"
   ]
  },
  {
   "cell_type": "code",
   "execution_count": 98,
   "metadata": {},
   "outputs": [],
   "source": [
    "from scipy.integrate import solve_ivp\n",
    "from lbuc.matricies import vec_to_numpy, mat_to_numpy, convert_vec, sympy_gens\n",
    "\n",
    "def solution_trajectory(initials):\n",
    "    RQ, xq = PolynomialRing(RR, 'x1,x2,x3,x4,x5,x6,x7,x8,x9').objgens()\n",
    "    Qodes = [RQ(yi) for yi in s1.y]\n",
    "    # Make callable function for odes (and jacobian matrix)\n",
    "    f = vec_to_numpy(RQ, Qodes)\n",
    "    jac = mat_to_numpy(RQ, jacobian(Qodes, RQ.gens()))\n",
    "    sln = solve_ivp(f,\n",
    "                (0, 10),\n",
    "                initials,\n",
    "                method='LSODA',\n",
    "                jac=jac,\n",
    "                vectorized=True,\n",
    "                dense_output=True)\n",
    "    return sln"
   ]
  },
  {
   "cell_type": "code",
   "execution_count": 99,
   "metadata": {},
   "outputs": [],
   "source": [
    "def plot_initials(*initials):\n",
    "    f = solution_trajectory(initials)\n",
    "    w = parametric_plot(\n",
    "        (lambda t: f.sol(t)[3], lambda t: f.sol(t)[5]),\n",
    "        (0, 5),\n",
    "        color='black',\n",
    "    )\n",
    "    w.set_aspect_ratio(1/20)\n",
    "    return w"
   ]
  },
  {
   "cell_type": "code",
   "execution_count": 100,
   "metadata": {},
   "outputs": [],
   "source": [
    "def plot_xy(x, y):\n",
    "    initials = [x.center() for x in s1.y0]\n",
    "    initials[3] = x\n",
    "    initials[5] = y\n",
    "    return plot_initials(*initials)"
   ]
  },
  {
   "cell_type": "code",
   "execution_count": 101,
   "metadata": {},
   "outputs": [
    {
     "data": {
      "text/plain": [
       "[1.00000000000000,\n",
       " 1.30000000000000,\n",
       " 0.100000000000000,\n",
       " 0.100000000000000,\n",
       " 0.100000000000000,\n",
       " 1.30000000000000,\n",
       " 2.50000000000000,\n",
       " 0.600000000000000,\n",
       " 1.30000000000000]"
      ]
     },
     "execution_count": 101,
     "metadata": {},
     "output_type": "execute_result"
    }
   ],
   "source": [
    "initials = [x.center() for x in s1.y0]\n",
    "initials"
   ]
  },
  {
   "cell_type": "code",
   "execution_count": 102,
   "metadata": {},
   "outputs": [],
   "source": [
    "f = solution_trajectory(initials)"
   ]
  },
  {
   "cell_type": "code",
   "execution_count": 103,
   "metadata": {},
   "outputs": [
    {
     "data": {
      "image/png": "[encoded data removed]",
      "text/plain": [
       "Graphics object consisting of 1 graphics primitive"
      ]
     },
     "execution_count": 103,
     "metadata": {},
     "output_type": "execute_result"
    }
   ],
   "source": [
    "w = parametric_plot((lambda t: f.sol(t)[3], lambda t: f.sol(t)[5]), (0, 5))\n",
    "w.set_aspect_ratio(1/20)\n",
    "w"
   ]
  },
  {
   "cell_type": "code",
   "execution_count": 104,
   "metadata": {},
   "outputs": [
    {
     "data": {
      "image/png": "[encoded data removed]",
      "text/plain": [
       "Graphics object consisting of 809 graphics primitives"
      ]
     },
     "execution_count": 104,
     "metadata": {},
     "output_type": "execute_result"
    }
   ],
   "source": [
    "sample=0.04\n",
    "r = sum(\n",
    "    (plot_initials(x1,x2,x3,x4,x5,x6,x7,x8,x9)\n",
    "     for x1 in srange(0.98, 1.02, sample, include_endpoint=True)\n",
    "     for x2 in srange(1.28, 1.32, sample, include_endpoint=True)\n",
    "     for x3 in srange(0.08, 0.12, 2*sample, include_endpoint=True)\n",
    "     for x4 in srange(0.08, 0.12, sample/4, include_endpoint=True)\n",
    "     for x5 in srange(0.08, 0.12, 2*sample, include_endpoint=True)\n",
    "     for x6 in srange(1.28, 1.32, sample/4, include_endpoint=True)\n",
    "     for x7 in srange(2.48, 2.52, sample, include_endpoint=True)\n",
    "     for x8 in srange(0.58, 0.62, sample, include_endpoint=True)\n",
    "     for x9 in srange(1.28, 1.32, sample, include_endpoint=True)),\n",
    "    Graphics(),\n",
    ")\n",
    "r"
   ]
  },
  {
   "cell_type": "code",
   "execution_count": 105,
   "metadata": {},
   "outputs": [
    {
     "data": {
      "image/png": "[encoded data removed]",
      "text/plain": [
       "Graphics object consisting of 810 graphics primitives"
      ]
     },
     "execution_count": 105,
     "metadata": {},
     "output_type": "execute_result"
    }
   ],
   "source": [
    "m = r + polygon([(0.08, 1.28), (0.12, 1.28), (0.12, 1.32), (0.08, 1.32)], color='red', zorder=100)\n",
    "m.set_aspect_ratio(1/20)\n",
    "m"
   ]
  },
  {
   "cell_type": "code",
   "execution_count": 106,
   "metadata": {},
   "outputs": [
    {
     "data": {
      "image/png": "[encoded data removed]",
      "text/plain": [
       "Graphics object consisting of 6 graphics primitives"
      ]
     },
     "execution_count": 106,
     "metadata": {},
     "output_type": "execute_result"
    }
   ],
   "source": [
    "qa= sum(\n",
    "    (plot_xy(x, y)\n",
    "     for x in srange(0.08, 0.12, 0.02, include_endpoint=True)\n",
    "     for y in srange(1.28, 1.32, 0.04, include_endpoint=True)),\n",
    "    Graphics(),\n",
    ")\n",
    "qa"
   ]
  },
  {
   "cell_type": "code",
   "execution_count": 107,
   "metadata": {},
   "outputs": [
    {
     "data": {
      "image/png": "[encoded data removed]",
      "text/plain": [
       "Graphics object consisting of 6006 graphics primitives"
      ]
     },
     "execution_count": 107,
     "metadata": {},
     "output_type": "execute_result"
    }
   ],
   "source": [
    "p.set_aspect_ratio(1/20)\n",
    "p + qa # m"
   ]
  },
  {
   "cell_type": "code",
   "execution_count": 108,
   "metadata": {},
   "outputs": [
    {
     "data": {
      "text/plain": [
       "Atomic(x6 > 1)"
      ]
     },
     "execution_count": 108,
     "metadata": {},
     "output_type": "execute_result"
    }
   ],
   "source": [
    "P = Atomic(var(\"x6\") > 1)\n",
    "P"
   ]
  },
  {
   "cell_type": "code",
   "execution_count": 109,
   "metadata": {},
   "outputs": [],
   "source": [
    "def prop(k):\n",
    "    return 125**2*(var(\"x4\") - 0.003)**2 + 3*(var(\"x6\") - 0.5)**2 < k\n",
    "\n",
    "def prop1(k):\n",
    "    return 125**2*(var(\"x4\") - 0.007)**2 + 3*(var(\"x6\") - 0.5)**2 < k"
   ]
  },
  {
   "cell_type": "code",
   "execution_count": 110,
   "metadata": {},
   "outputs": [
    {
     "data": {
      "text/plain": [
       "Atomic(15625*(x4 - 0.00700000000000000)^2 + 3*(x6 - 0.500000000000000)^2 < 0.0320000000000000)"
      ]
     },
     "execution_count": 110,
     "metadata": {},
     "output_type": "execute_result"
    }
   ],
   "source": [
    "Q = Atomic(prop1(0.032)); Q"
   ]
  },
  {
   "cell_type": "code",
   "execution_count": 143,
   "metadata": {},
   "outputs": [],
   "source": [
    "our_property = P | G(RIF(3, 3.5), Q)"
   ]
  },
  {
   "cell_type": "code",
   "execution_count": 173,
   "metadata": {},
   "outputs": [
    {
     "data": {
      "image/png": "[encoded data removed]",
      "text/plain": [
       "Graphics object consisting of 6814 graphics primitives"
      ]
     },
     "execution_count": 173,
     "metadata": {},
     "output_type": "execute_result"
    }
   ],
   "source": [
    "q = p + m\n",
    "q += region_plot(var(\"x6\") > 1,\n",
    "                 (x4, 0, 0.12),\n",
    "                 (x6, 0, 1.7),\n",
    "                 incol='coral',\n",
    "                 alpha=0.8,\n",
    "                 bordercol='coral',\n",
    "                 borderstyle='--')\n",
    "el = region_plot(prop1(0.032),\n",
    "                 (x4, 0, 0.12),\n",
    "                 (x6, 0, 1.7),\n",
    "                 incol='darkseagreen',\n",
    "                 alpha=0.8,\n",
    "                 zorder=100000,\n",
    "                 bordercol='darkseagreen',\n",
    "                 borderstyle='--')\n",
    "q += el\n",
    "q.set_aspect_ratio(1/20)\n",
    "q.save(\"plot-traj-plot.pdf\")\n",
    "q"
   ]
  },
  {
   "cell_type": "code",
   "execution_count": 112,
   "metadata": {},
   "outputs": [
    {
     "name": "stdout",
     "output_type": "stream",
     "text": [
      "PolyObserver(x6 - 1, <flowstar.reachability.Reach object at 0x7f2a78bef160>, -0.1000000000000000?*x1*x6 - x2*x6 - 2*x6*x8 + 50*x3 + 100*x4 + 50*x5 - x6, symbolic_composition=False, symbolic_composition_order=4, tentative_unpreconditioning=True, mask=None)\n",
      "fprime = -0.1000000000000000?*x1*x6 - x2*x6 - 2*x6*x8 + 50*x3 + 100*x4 + 50*x5 - x6\n",
      "roots(space_domain=None, epsilon=1e-05, verbosity=0)\n",
      "top-level root detection: 1 items in 3.34 seconds\n",
      "roots = [[0.88667270934066999 .. 1.3094835775584147]]\n",
      "domain = [0.0000000000000000 .. 6.0000000000000000]\n",
      "roots = [[0.88667270934066999 .. 1.3094835775584147]]\n",
      "seg_domain = [0.0000000000000000 .. 6.0000000000000000]\n",
      "roots = [[0.88667270934066999 .. 1.3094835775584147]]\n",
      "signal given bool roots: 1 items in 0.01 seconds\n"
     ]
    },
    {
     "data": {
      "image/png": "[encoded data removed]",
      "text/plain": [
       "Graphics object consisting of 2 graphics primitives"
      ]
     },
     "execution_count": 112,
     "metadata": {},
     "output_type": "execute_result"
    }
   ],
   "source": [
    "P.signal(reach).plot()"
   ]
  },
  {
   "cell_type": "code",
   "execution_count": 121,
   "metadata": {},
   "outputs": [
    {
     "name": "stdout",
     "output_type": "stream",
     "text": [
      "PolyObserver(-15625*x4^2 - 3*x6^2 + 218.7500000000001?*x4 + 3*x6 - 1.483625000000000?, <flowstar.reachability.Reach object at 0x7f2a78bef160>, -31250*x2*x4*x6 + 0.600000000000000?*x1*x6^2 + 6*x2*x6^2 + 12*x6^2*x8 + 3125000*x4^2 - 0.3000000000000000?*x1*x6 + 215.75000000000000?*x2*x6 - 300*x3*x6 - 600*x4*x6 - 300*x5*x6 + 6*x6^2 - 6*x6*x8 + 150*x3 - 21575*x4 + 150*x5 - 3*x6, symbolic_composition=True, symbolic_composition_order=4, tentative_unpreconditioning=True, mask=None)\n",
      "fprime = -31250*x2*x4*x6 + 0.600000000000000?*x1*x6^2 + 6*x2*x6^2 + 12*x6^2*x8 + 3125000*x4^2 - 0.3000000000000000?*x1*x6 + 215.75000000000000?*x2*x6 - 300*x3*x6 - 600*x4*x6 - 300*x5*x6 + 6*x6^2 - 6*x6*x8 + 150*x3 - 21575*x4 + 150*x5 - 3*x6\n",
      "roots(space_domain=None, epsilon=1e-05, verbosity=0)\n",
      "top-level root detection: 1 items in 188.28 seconds\n",
      "roots = [[2.4355020129542945 .. 2.4360000000000555], [2.4377778312480082 .. 3.6780000000001026], [3.6796816431148995 .. 3.6810000000001027]]\n",
      "domain = [0.0000000000000000 .. 6.0000000000000000]\n",
      "roots = [[2.4355020129542945 .. 2.4360000000000555], \n",
      " [2.4377778312480082 .. 3.6780000000001026], \n",
      " [3.6796816431148995 .. 3.6810000000001027]]\n",
      "seg_domain = [0.0000000000000000 .. 6.0000000000000000]\n",
      "roots = [[2.4355020129542945 .. 2.4360000000000555], \n",
      " [2.4377778312480082 .. 3.6780000000001026], \n",
      " [3.6796816431148995 .. 3.6810000000001027]]\n",
      "signal given bool roots: 1 items in 0.39 seconds\n"
     ]
    },
    {
     "data": {
      "image/png": "[encoded data removed]",
      "text/plain": [
       "Graphics object consisting of 2 graphics primitives"
      ]
     },
     "execution_count": 121,
     "metadata": {},
     "output_type": "execute_result"
    }
   ],
   "source": [
    "qsigs = Q.signal(reach, symbolic_composition=True)\n",
    "qsigs.plot()"
   ]
  },
  {
   "cell_type": "code",
   "execution_count": 123,
   "metadata": {},
   "outputs": [
    {
     "name": "stdout",
     "output_type": "stream",
     "text": [
      "PolyObserver(-15625*x4^2 - 3*x6^2 + 218.7500000000001?*x4 + 3*x6 - 1.483625000000000?, <flowstar.reachability.Reach object at 0x7f2a78bef160>, -31250*x2*x4*x6 + 0.600000000000000?*x1*x6^2 + 6*x2*x6^2 + 12*x6^2*x8 + 3125000*x4^2 - 0.3000000000000000?*x1*x6 + 215.75000000000000?*x2*x6 - 300*x3*x6 - 600*x4*x6 - 300*x5*x6 + 6*x6^2 - 6*x6*x8 + 150*x3 - 21575*x4 + 150*x5 - 3*x6, symbolic_composition=False, symbolic_composition_order=4, tentative_unpreconditioning=True, mask=None)\n",
      "fprime = -31250*x2*x4*x6 + 0.600000000000000?*x1*x6^2 + 6*x2*x6^2 + 12*x6^2*x8 + 3125000*x4^2 - 0.3000000000000000?*x1*x6 + 215.75000000000000?*x2*x6 - 300*x3*x6 - 600*x4*x6 - 300*x5*x6 + 6*x6^2 - 6*x6*x8 + 150*x3 - 21575*x4 + 150*x5 - 3*x6\n",
      "roots(space_domain=None, epsilon=1e-05, verbosity=0)\n",
      "top-level root detection: 1 items in 8.26 seconds\n",
      "roots = [[1.4639099741417751 .. 1.4640000000000184], [1.4655013774685909 .. 6.0000000000001910]]\n",
      "domain = [0.0000000000000000 .. 6.0000000000000000]\n",
      "roots = [[1.4639099741417751 .. 1.4640000000000184], \n",
      " [1.4655013774685909 .. 6.0000000000001910]]\n",
      "seg_domain = [0.0000000000000000 .. 6.0000000000000000]\n",
      "roots = [[1.4639099741417751 .. 1.4640000000000184], \n",
      " [1.4655013774685909 .. 6.0000000000001910]]\n",
      "0 at 6.00000000000000\n",
      "signal given bool roots: 1 items in 0.02 seconds\n"
     ]
    },
    {
     "name": "stderr",
     "output_type": "stream",
     "text": [
      "/usr/lib64/python3.8/site-packages/sage/plot/contour_plot.py:203: UserWarning: No contour levels were found within the data range.\n",
      "  CS = subplot.contour(self.xy_data_array, contours, cmap=cmap,\n"
     ]
    },
    {
     "data": {
      "image/png": "[encoded data removed]",
      "text/plain": [
       "Graphics object consisting of 2 graphics primitives"
      ]
     },
     "execution_count": 123,
     "metadata": {},
     "output_type": "execute_result"
    }
   ],
   "source": [
    "sigQnosym = Q.signal(reach, symbolic_composition=False)\n",
    "sigQnosym.plot()"
   ]
  },
  {
   "cell_type": "code",
   "execution_count": 160,
   "metadata": {},
   "outputs": [],
   "source": [
    "xpltrange = (1,6)\n",
    "ypltrange = (-2, 2)\n",
    "ypltrange2 = (-2, 0.1)"
   ]
  },
  {
   "cell_type": "code",
   "execution_count": 161,
   "metadata": {},
   "outputs": [
    {
     "name": "stdout",
     "output_type": "stream",
     "text": [
      "PolyObserver(-15625*x4^2 - 3*x6^2 + 218.7500000000001?*x4 + 3*x6 - 1.483625000000000?, <flowstar.reachability.Reach object at 0x7f2a78bef160>, -31250*x2*x4*x6 + 0.600000000000000?*x1*x6^2 + 6*x2*x6^2 + 12*x6^2*x8 + 3125000*x4^2 - 0.3000000000000000?*x1*x6 + 215.75000000000000?*x2*x6 - 300*x3*x6 - 600*x4*x6 - 300*x5*x6 + 6*x6^2 - 6*x6*x8 + 150*x3 - 21575*x4 + 150*x5 - 3*x6, symbolic_composition=True, symbolic_composition_order=4, tentative_unpreconditioning=True, mask=None)\n",
      "fprime = -31250*x2*x4*x6 + 0.600000000000000?*x1*x6^2 + 6*x2*x6^2 + 12*x6^2*x8 + 3125000*x4^2 - 0.3000000000000000?*x1*x6 + 215.75000000000000?*x2*x6 - 300*x3*x6 - 600*x4*x6 - 300*x5*x6 + 6*x6^2 - 6*x6*x8 + 150*x3 - 21575*x4 + 150*x5 - 3*x6\n"
     ]
    },
    {
     "data": {
      "image/png": "[encoded data removed]",
      "text/plain": [
       "Graphics object consisting of 3 graphics primitives"
      ]
     },
     "execution_count": 161,
     "metadata": {},
     "output_type": "execute_result"
    }
   ],
   "source": [
    "qplt = Q.sage_plot(reach,duration=xpltrange,\n",
    "                   symbolic_composition=True,\n",
    "                   ticks=[0.5, 1])\n",
    "qplt.ymin(ypltrange[0])\n",
    "qplt.ymax(ypltrange[1])\n",
    "qplt"
   ]
  },
  {
   "cell_type": "code",
   "execution_count": 162,
   "metadata": {},
   "outputs": [
    {
     "name": "stdout",
     "output_type": "stream",
     "text": [
      "PolyObserver(-15625*x4^2 - 3*x6^2 + 218.7500000000001?*x4 + 3*x6 - 1.483625000000000?, <flowstar.reachability.Reach object at 0x7f2a78bef160>, -31250*x2*x4*x6 + 0.600000000000000?*x1*x6^2 + 6*x2*x6^2 + 12*x6^2*x8 + 3125000*x4^2 - 0.3000000000000000?*x1*x6 + 215.75000000000000?*x2*x6 - 300*x3*x6 - 600*x4*x6 - 300*x5*x6 + 6*x6^2 - 6*x6*x8 + 150*x3 - 21575*x4 + 150*x5 - 3*x6, symbolic_composition=False, symbolic_composition_order=4, tentative_unpreconditioning=True, mask=None)\n",
      "fprime = -31250*x2*x4*x6 + 0.600000000000000?*x1*x6^2 + 6*x2*x6^2 + 12*x6^2*x8 + 3125000*x4^2 - 0.3000000000000000?*x1*x6 + 215.75000000000000?*x2*x6 - 300*x3*x6 - 600*x4*x6 - 300*x5*x6 + 6*x6^2 - 6*x6*x8 + 150*x3 - 21575*x4 + 150*x5 - 3*x6\n"
     ]
    },
    {
     "data": {
      "image/png": "[encoded data removed]",
      "text/plain": [
       "Graphics object consisting of 3 graphics primitives"
      ]
     },
     "execution_count": 162,
     "metadata": {},
     "output_type": "execute_result"
    }
   ],
   "source": [
    "qpltnosym = Q.sage_plot(reach,duration=xpltrange,\n",
    "                   symbolic_composition=False,\n",
    "                   ticks=[0.5, 1])\n",
    "qpltnosym.ymin(ypltrange[0])\n",
    "qpltnosym.ymax(ypltrange[1])\n",
    "qpltnosym"
   ]
  },
  {
   "cell_type": "code",
   "execution_count": 166,
   "metadata": {},
   "outputs": [
    {
     "data": {
      "image/png": "[encoded data removed]",
      "text/plain": [
       "Graphics object consisting of 7 graphics primitives"
      ]
     },
     "execution_count": 166,
     "metadata": {},
     "output_type": "execute_result"
    }
   ],
   "source": [
    "qplt2 = (\n",
    "    qplt + region_plot(lambda t, _: qsigs(t),\n",
    "                       xpltrange, ypltrange, incol='green',\n",
    "                       bordercol='green',\n",
    "                       alpha=0.6)\n",
    "         + region_plot(lambda t, _: qsigs(t) is False,\n",
    "                       xpltrange, ypltrange, incol='red',\n",
    "                       bordercol='red',\n",
    "                       alpha=0.6)\n",
    ")\n",
    "qplt2.ymin(ypltrange[0])\n",
    "qplt2.ymax(ypltrange[1])\n",
    "# qplt2.set_aspect_ratio(0.76)\n",
    "qplt2.set_aspect_ratio(0.6)\n",
    "qplt2.save(\"images/qplt2.pdf\")\n",
    "qplt2"
   ]
  },
  {
   "cell_type": "code",
   "execution_count": 174,
   "metadata": {},
   "outputs": [
    {
     "name": "stderr",
     "output_type": "stream",
     "text": [
      "/usr/lib64/python3.8/site-packages/sage/plot/contour_plot.py:203: UserWarning: No contour levels were found within the data range.\n",
      "  CS = subplot.contour(self.xy_data_array, contours, cmap=cmap,\n",
      "/usr/lib64/python3.8/site-packages/sage/plot/contour_plot.py:203: UserWarning: No contour levels were found within the data range.\n",
      "  CS = subplot.contour(self.xy_data_array, contours, cmap=cmap,\n"
     ]
    },
    {
     "data": {
      "image/png": "[encoded data removed]",
      "text/plain": [
       "Graphics object consisting of 7 graphics primitives"
      ]
     },
     "execution_count": 174,
     "metadata": {},
     "output_type": "execute_result"
    }
   ],
   "source": [
    "qpltnosym2 = (\n",
    "    qpltnosym\n",
    "    + region_plot(lambda t, _: sigQnosym(t),\n",
    "                  xpltrange, ypltrange,\n",
    "                  bordercol='green',\n",
    "                  incol='green', alpha=0.6)\n",
    "    + region_plot(lambda t, _: sigQnosym(t) is False,\n",
    "                  xpltrange, ypltrange,\n",
    "                  bordercol='red',\n",
    "                  incol='red', alpha=0.6)\n",
    ")\n",
    "qpltnosym2.set_aspect_ratio(0.6)\n",
    "qpltnosym2.ymin(-2)\n",
    "qpltnosym2.save(\"images/Q-no-sym.pdf\")\n",
    "qpltnosym2"
   ]
  },
  {
   "cell_type": "code",
   "execution_count": 146,
   "metadata": {},
   "outputs": [
    {
     "name": "stdout",
     "output_type": "stream",
     "text": [
      "PolyObserver(x6 - 1, <flowstar.reachability.Reach object at 0x7f2a78bef160>, -0.1000000000000000?*x1*x6 - x2*x6 - 2*x6*x8 + 50*x3 + 100*x4 + 50*x5 - x6, symbolic_composition=False, symbolic_composition_order=4, tentative_unpreconditioning=True, mask=None)\n",
      "fprime = -0.1000000000000000?*x1*x6 - x2*x6 - 2*x6*x8 + 50*x3 + 100*x4 + 50*x5 - x6\n",
      "roots(space_domain=None, epsilon=1e-05, verbosity=0)\n",
      "top-level root detection: 1 items in 3.44 seconds\n",
      "roots = [[0.88667270934066999 .. 1.3094835775584147]]\n",
      "domain = [0.0000000000000000 .. 6.0000000000000000]\n",
      "roots = [[0.88667270934066999 .. 1.3094835775584147]]\n",
      "seg_domain = [0.0000000000000000 .. 6.0000000000000000]\n",
      "roots = [[0.88667270934066999 .. 1.3094835775584147]]\n",
      "signal given bool roots: 1 items in 0.00 seconds\n",
      "In G.signal\n",
      "PolyObserver(-15625*x4^2 - 3*x6^2 + 218.7500000000001?*x4 + 3*x6 - 1.483625000000000?, <flowstar.reachability.Reach object at 0x7f2a78bef160>, -31250*x2*x4*x6 + 0.600000000000000?*x1*x6^2 + 6*x2*x6^2 + 12*x6^2*x8 + 3125000*x4^2 - 0.3000000000000000?*x1*x6 + 215.75000000000000?*x2*x6 - 300*x3*x6 - 600*x4*x6 - 300*x5*x6 + 6*x6^2 - 6*x6*x8 + 150*x3 - 21575*x4 + 150*x5 - 3*x6, symbolic_composition=False, symbolic_composition_order=4, tentative_unpreconditioning=True, mask=None)\n",
      "fprime = -31250*x2*x4*x6 + 0.600000000000000?*x1*x6^2 + 6*x2*x6^2 + 12*x6^2*x8 + 3125000*x4^2 - 0.3000000000000000?*x1*x6 + 215.75000000000000?*x2*x6 - 300*x3*x6 - 600*x4*x6 - 300*x5*x6 + 6*x6^2 - 6*x6*x8 + 150*x3 - 21575*x4 + 150*x5 - 3*x6\n",
      "roots(space_domain=None, epsilon=1e-05, verbosity=0)\n",
      "top-level root detection: 1 items in 8.48 seconds\n",
      "roots = [[1.4639099741417751 .. 1.4640000000000184], [1.4655013774685909 .. 6.0000000000001910]]\n",
      "domain = [0.0000000000000000 .. 6.0000000000000000]\n",
      "roots = [[1.4639099741417751 .. 1.4640000000000184], \n",
      " [1.4655013774685909 .. 6.0000000000001910]]\n",
      "seg_domain = [0.0000000000000000 .. 6.0000000000000000]\n",
      "roots = [[1.4639099741417751 .. 1.4640000000000184], \n",
      " [1.4655013774685909 .. 6.0000000000001910]]\n",
      "0 at 6.00000000000000\n",
      "signal given bool roots: 1 items in 0.01 seconds\n"
     ]
    },
    {
     "data": {
      "text/plain": [
       "Signal([0.0000000000000000 .. 3.0000000000000000], [([0.0000000000000000 .. 0.88667270934067000], True)], mask=None)"
      ]
     },
     "execution_count": 146,
     "metadata": {},
     "output_type": "execute_result"
    }
   ],
   "source": [
    "our_property.signal(reach, symbolic_composition=False)"
   ]
  },
  {
   "cell_type": "code",
   "execution_count": 145,
   "metadata": {},
   "outputs": [
    {
     "name": "stdout",
     "output_type": "stream",
     "text": [
      "PolyObserver(x6 - 1, <flowstar.reachability.Reach object at 0x7f2a78bef160>, -0.1000000000000000?*x1*x6 - x2*x6 - 2*x6*x8 + 50*x3 + 100*x4 + 50*x5 - x6, symbolic_composition=True, symbolic_composition_order=4, tentative_unpreconditioning=True, mask=None)\n",
      "fprime = -0.1000000000000000?*x1*x6 - x2*x6 - 2*x6*x8 + 50*x3 + 100*x4 + 50*x5 - x6\n",
      "roots(space_domain=None, epsilon=1e-05, verbosity=0)\n",
      "top-level root detection: 1 items in 5.58 seconds\n",
      "roots = [[0.90838024387329807 .. 1.2778497471154502]]\n",
      "domain = [0.0000000000000000 .. 6.0000000000000000]\n",
      "roots = [[0.90838024387329807 .. 1.2778497471154502]]\n",
      "seg_domain = [0.0000000000000000 .. 6.0000000000000000]\n",
      "roots = [[0.90838024387329807 .. 1.2778497471154502]]\n",
      "signal given bool roots: 1 items in 0.02 seconds\n",
      "In G.signal\n",
      "PolyObserver(-15625*x4^2 - 3*x6^2 + 218.7500000000001?*x4 + 3*x6 - 1.483625000000000?, <flowstar.reachability.Reach object at 0x7f2a78bef160>, -31250*x2*x4*x6 + 0.600000000000000?*x1*x6^2 + 6*x2*x6^2 + 12*x6^2*x8 + 3125000*x4^2 - 0.3000000000000000?*x1*x6 + 215.75000000000000?*x2*x6 - 300*x3*x6 - 600*x4*x6 - 300*x5*x6 + 6*x6^2 - 6*x6*x8 + 150*x3 - 21575*x4 + 150*x5 - 3*x6, symbolic_composition=True, symbolic_composition_order=4, tentative_unpreconditioning=True, mask=None)\n",
      "fprime = -31250*x2*x4*x6 + 0.600000000000000?*x1*x6^2 + 6*x2*x6^2 + 12*x6^2*x8 + 3125000*x4^2 - 0.3000000000000000?*x1*x6 + 215.75000000000000?*x2*x6 - 300*x3*x6 - 600*x4*x6 - 300*x5*x6 + 6*x6^2 - 6*x6*x8 + 150*x3 - 21575*x4 + 150*x5 - 3*x6\n",
      "roots(space_domain=None, epsilon=1e-05, verbosity=0)\n",
      "top-level root detection: 1 items in 2852.57 seconds\n",
      "roots = [[2.4355020129542945 .. 2.4360000000000555], [2.4377778312480082 .. 3.6780000000001026], [3.6796816431148995 .. 3.6810000000001027]]\n",
      "domain = [0.0000000000000000 .. 6.0000000000000000]\n",
      "roots = [[2.4355020129542945 .. 2.4360000000000555], \n",
      " [2.4377778312480082 .. 3.6780000000001026], \n",
      " [3.6796816431148995 .. 3.6810000000001027]]\n",
      "seg_domain = [0.0000000000000000 .. 6.0000000000000000]\n",
      "roots = [[2.4355020129542945 .. 2.4360000000000555], \n",
      " [2.4377778312480082 .. 3.6780000000001026], \n",
      " [3.6796816431148995 .. 3.6810000000001027]]\n",
      "signal given bool roots: 1 items in 0.58 seconds\n"
     ]
    },
    {
     "data": {
      "text/plain": [
       "Signal([0.0000000000000000 .. 3.0000000000000000], [([0.0000000000000000 .. 2.5000000000000000], True)], mask=None)"
      ]
     },
     "execution_count": 145,
     "metadata": {},
     "output_type": "execute_result"
    }
   ],
   "source": [
    "our_property.signal(reach, symbolic_composition=True)"
   ]
  },
  {
   "cell_type": "code",
   "execution_count": 147,
   "metadata": {},
   "outputs": [
    {
     "name": "stdout",
     "output_type": "stream",
     "text": [
      "In G.signal\n",
      "PolyObserver(x6 - 1, <flowstar.reachability.Reach object at 0x7f2a78bef160>, -0.1000000000000000?*x1*x6 - x2*x6 - 2*x6*x8 + 50*x3 + 100*x4 + 50*x5 - x6, symbolic_composition=False, symbolic_composition_order=4, tentative_unpreconditioning=True, mask=None)\n",
      "fprime = -0.1000000000000000?*x1*x6 - x2*x6 - 2*x6*x8 + 50*x3 + 100*x4 + 50*x5 - x6\n",
      "roots(space_domain=None, epsilon=1e-05, verbosity=0)\n",
      "top-level root detection: 1 items in 3.47 seconds\n",
      "roots = [[0.88667270934066999 .. 1.3094835775584147]]\n",
      "domain = [0.0000000000000000 .. 6.0000000000000000]\n",
      "roots = [[0.88667270934066999 .. 1.3094835775584147]]\n",
      "seg_domain = [0.0000000000000000 .. 6.0000000000000000]\n",
      "roots = [[0.88667270934066999 .. 1.3094835775584147]]\n",
      "signal given bool roots: 1 items in 0.00 seconds\n",
      "In G.signal\n",
      "PolyObserver(-15625*x4^2 - 3*x6^2 + 218.7500000000001?*x4 + 3*x6 - 1.483625000000000?, <flowstar.reachability.Reach object at 0x7f2a78bef160>, -31250*x2*x4*x6 + 0.600000000000000?*x1*x6^2 + 6*x2*x6^2 + 12*x6^2*x8 + 3125000*x4^2 - 0.3000000000000000?*x1*x6 + 215.75000000000000?*x2*x6 - 300*x3*x6 - 600*x4*x6 - 300*x5*x6 + 6*x6^2 - 6*x6*x8 + 150*x3 - 21575*x4 + 150*x5 - 3*x6, symbolic_composition=False, symbolic_composition_order=4, tentative_unpreconditioning=True, mask=None)\n",
      "fprime = -31250*x2*x4*x6 + 0.600000000000000?*x1*x6^2 + 6*x2*x6^2 + 12*x6^2*x8 + 3125000*x4^2 - 0.3000000000000000?*x1*x6 + 215.75000000000000?*x2*x6 - 300*x3*x6 - 600*x4*x6 - 300*x5*x6 + 6*x6^2 - 6*x6*x8 + 150*x3 - 21575*x4 + 150*x5 - 3*x6\n",
      "roots(space_domain=None, epsilon=1e-05, verbosity=0)\n",
      "top-level root detection: 1 items in 9.19 seconds\n",
      "roots = [[1.4639099741417751 .. 1.4640000000000184], [1.4655013774685909 .. 6.0000000000001910]]\n",
      "domain = [0.0000000000000000 .. 6.0000000000000000]\n",
      "roots = [[1.4639099741417751 .. 1.4640000000000184], \n",
      " [1.4655013774685909 .. 6.0000000000001910]]\n",
      "seg_domain = [0.0000000000000000 .. 6.0000000000000000]\n",
      "roots = [[1.4639099741417751 .. 1.4640000000000184], \n",
      " [1.4655013774685909 .. 6.0000000000001910]]\n",
      "0 at 6.00000000000000\n",
      "signal given bool roots: 1 items in 0.01 seconds\n"
     ]
    },
    {
     "data": {
      "text/plain": [
       "Signal([0.0000000000000000 .. 3.0000000000000000], [], mask=None)"
      ]
     },
     "execution_count": 147,
     "metadata": {},
     "output_type": "execute_result"
    }
   ],
   "source": [
    "G(RIF(0, 1), our_property).signal(reach, symbolic_composition=False)"
   ]
  },
  {
   "cell_type": "code",
   "execution_count": 148,
   "metadata": {},
   "outputs": [
    {
     "name": "stdout",
     "output_type": "stream",
     "text": [
      "In G.signal\n",
      "PolyObserver(x6 - 1, <flowstar.reachability.Reach object at 0x7f2a78bef160>, -0.1000000000000000?*x1*x6 - x2*x6 - 2*x6*x8 + 50*x3 + 100*x4 + 50*x5 - x6, symbolic_composition=True, symbolic_composition_order=4, tentative_unpreconditioning=True, mask=None)\n",
      "fprime = -0.1000000000000000?*x1*x6 - x2*x6 - 2*x6*x8 + 50*x3 + 100*x4 + 50*x5 - x6\n",
      "roots(space_domain=None, epsilon=1e-05, verbosity=0)\n",
      "top-level root detection: 1 items in 3.50 seconds\n",
      "roots = [[0.90838024387329807 .. 1.2778497471154502]]\n",
      "domain = [0.0000000000000000 .. 6.0000000000000000]\n",
      "roots = [[0.90838024387329807 .. 1.2778497471154502]]\n",
      "seg_domain = [0.0000000000000000 .. 6.0000000000000000]\n",
      "roots = [[0.90838024387329807 .. 1.2778497471154502]]\n",
      "signal given bool roots: 1 items in 0.01 seconds\n",
      "In G.signal\n",
      "PolyObserver(-15625*x4^2 - 3*x6^2 + 218.7500000000001?*x4 + 3*x6 - 1.483625000000000?, <flowstar.reachability.Reach object at 0x7f2a78bef160>, -31250*x2*x4*x6 + 0.600000000000000?*x1*x6^2 + 6*x2*x6^2 + 12*x6^2*x8 + 3125000*x4^2 - 0.3000000000000000?*x1*x6 + 215.75000000000000?*x2*x6 - 300*x3*x6 - 600*x4*x6 - 300*x5*x6 + 6*x6^2 - 6*x6*x8 + 150*x3 - 21575*x4 + 150*x5 - 3*x6, symbolic_composition=True, symbolic_composition_order=4, tentative_unpreconditioning=True, mask=None)\n",
      "fprime = -31250*x2*x4*x6 + 0.600000000000000?*x1*x6^2 + 6*x2*x6^2 + 12*x6^2*x8 + 3125000*x4^2 - 0.3000000000000000?*x1*x6 + 215.75000000000000?*x2*x6 - 300*x3*x6 - 600*x4*x6 - 300*x5*x6 + 6*x6^2 - 6*x6*x8 + 150*x3 - 21575*x4 + 150*x5 - 3*x6\n",
      "roots(space_domain=None, epsilon=1e-05, verbosity=0)\n",
      "top-level root detection: 1 items in 193.33 seconds\n",
      "roots = [[2.4355020129542945 .. 2.4360000000000555], [2.4377778312480082 .. 3.6780000000001026], [3.6796816431148995 .. 3.6810000000001027]]\n",
      "domain = [0.0000000000000000 .. 6.0000000000000000]\n",
      "roots = [[2.4355020129542945 .. 2.4360000000000555], \n",
      " [2.4377778312480082 .. 3.6780000000001026], \n",
      " [3.6796816431148995 .. 3.6810000000001027]]\n",
      "seg_domain = [0.0000000000000000 .. 6.0000000000000000]\n",
      "roots = [[2.4355020129542945 .. 2.4360000000000555], \n",
      " [2.4377778312480082 .. 3.6780000000001026], \n",
      " [3.6796816431148995 .. 3.6810000000001027]]\n",
      "signal given bool roots: 1 items in 0.53 seconds\n"
     ]
    },
    {
     "data": {
      "text/plain": [
       "Signal([0.0000000000000000 .. 3.0000000000000000], [([0.0000000000000000 .. 1.5000000000000000], True)], mask=None)"
      ]
     },
     "execution_count": 148,
     "metadata": {},
     "output_type": "execute_result"
    }
   ],
   "source": [
    "G(RIF(0, 1), our_property).signal(reach, symbolic_composition=True)"
   ]
  },
  {
   "cell_type": "code",
   "execution_count": null,
   "metadata": {},
   "outputs": [],
   "source": []
  }
 ],
 "metadata": {
  "kernelspec": {
   "display_name": "SageMath 9.0",
   "language": "sage",
   "name": "sagemath"
  },
  "language_info": {
   "codemirror_mode": {
    "name": "ipython",
    "version": 3
   },
   "file_extension": ".py",
   "mimetype": "text/x-python",
   "name": "python",
   "nbconvert_exporter": "python",
   "pygments_lexer": "ipython3",
   "version": "3.8.5"
  }
 },
 "nbformat": 4,
 "nbformat_minor": 4
}
