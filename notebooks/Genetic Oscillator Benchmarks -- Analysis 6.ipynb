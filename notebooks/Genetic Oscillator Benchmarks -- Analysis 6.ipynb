{
 "cells": [
  {
   "cell_type": "code",
   "execution_count": 6,
   "metadata": {},
   "outputs": [],
   "source": [
    "%matplotlib inline\n",
    "import pandas as pd"
   ]
  },
  {
   "cell_type": "markdown",
   "metadata": {},
   "source": [
    "## Load results"
   ]
  },
  {
   "cell_type": "code",
   "execution_count": 8,
   "metadata": {},
   "outputs": [],
   "source": [
    "series = [\n",
    "    'masked',\n",
    "    'unmasked',\n",
    "    'masked_reversed',\n",
    "    'unmasked_reversed',\n",
    "]\n",
    "series = [\n",
    "    'masked',\n",
    "    'masked_no_symbolic',\n",
    "    'masked_no_symbolic_no_selective',\n",
    "    'masked_no_selective',\n",
    "    'masked_symbolic_low_order',\n",
    "    'unmasked',\n",
    "    'unmasked_no_symbolic',\n",
    "     'masked_reversed',\n",
    "    'unmasked_reversed',\n",
    "]\n",
    "series_names = series\n",
    "# series_names = [\n",
    "#     'Masked',\n",
    "#     'Unmasked',\n",
    "#     'Masked R',\n",
    "#     'Unmasked R',\n",
    "# ]\n",
    "total_timess = {\n",
    "   s: pd.read_csv(f'data/analysis_new_property_2_raw_{s}.csv')\n",
    "   for s in series \n",
    "}"
   ]
  },
  {
   "cell_type": "markdown",
   "metadata": {},
   "source": [
    "## Raw results"
   ]
  },
  {
   "cell_type": "code",
   "execution_count": 9,
   "metadata": {},
   "outputs": [],
   "source": [
    "from ipywidgets import interact"
   ]
  },
  {
   "cell_type": "code",
   "execution_count": 10,
   "metadata": {
    "scrolled": true
   },
   "outputs": [
    {
     "data": {
      "application/vnd.jupyter.widget-view+json": {
       "model_id": "73c0d185c1c549558c8f2dd5f499c212",
       "version_major": 2,
       "version_minor": 0
      },
      "text/plain": [
       "interactive(children=(Dropdown(description='series', options=('masked', 'masked_no_symbolic', 'masked_no_symbo…"
      ]
     },
     "metadata": {},
     "output_type": "display_data"
    }
   ],
   "source": [
    "@interact\n",
    "def _(series=series):\n",
    "    return total_timess[series]"
   ]
  },
  {
   "cell_type": "markdown",
   "metadata": {},
   "source": [
    "## Comparison"
   ]
  },
  {
   "cell_type": "code",
   "execution_count": 11,
   "metadata": {},
   "outputs": [
    {
     "data": {
      "text/html": [
       "<div>\n",
       "<style scoped>\n",
       "    .dataframe tbody tr th:only-of-type {\n",
       "        vertical-align: middle;\n",
       "    }\n",
       "\n",
       "    .dataframe tbody tr th {\n",
       "        vertical-align: top;\n",
       "    }\n",
       "\n",
       "    .dataframe thead th {\n",
       "        text-align: right;\n",
       "    }\n",
       "</style>\n",
       "<table border=\"1\" class=\"dataframe\">\n",
       "  <thead>\n",
       "    <tr style=\"text-align: right;\">\n",
       "      <th></th>\n",
       "      <th>masked</th>\n",
       "      <th>masked_no_symbolic</th>\n",
       "      <th>masked_no_symbolic_no_selective</th>\n",
       "      <th>masked_no_selective</th>\n",
       "      <th>masked_symbolic_low_order</th>\n",
       "      <th>unmasked</th>\n",
       "      <th>unmasked_no_symbolic</th>\n",
       "      <th>masked_reversed</th>\n",
       "      <th>unmasked_reversed</th>\n",
       "    </tr>\n",
       "  </thead>\n",
       "  <tbody>\n",
       "    <tr>\n",
       "      <th>Flow*</th>\n",
       "      <td>103.972315</td>\n",
       "      <td>104.096252</td>\n",
       "      <td>104.239559</td>\n",
       "      <td>105.568010</td>\n",
       "      <td>102.218178</td>\n",
       "      <td>104.949374</td>\n",
       "      <td>104.192561</td>\n",
       "      <td>106.459356</td>\n",
       "      <td>106.482574</td>\n",
       "    </tr>\n",
       "    <tr>\n",
       "      <th>P</th>\n",
       "      <td>14.099834</td>\n",
       "      <td>17.979025</td>\n",
       "      <td>24.378989</td>\n",
       "      <td>18.902224</td>\n",
       "      <td>12.829657</td>\n",
       "      <td>18.823744</td>\n",
       "      <td>25.668027</td>\n",
       "      <td>14.273737</td>\n",
       "      <td>20.496848</td>\n",
       "    </tr>\n",
       "    <tr>\n",
       "      <th>Q</th>\n",
       "      <td>104.652017</td>\n",
       "      <td>33.949078</td>\n",
       "      <td>43.936009</td>\n",
       "      <td>115.834067</td>\n",
       "      <td>37.414636</td>\n",
       "      <td>281.299118</td>\n",
       "      <td>70.575092</td>\n",
       "      <td>121.637607</td>\n",
       "      <td>240.935255</td>\n",
       "    </tr>\n",
       "    <tr>\n",
       "      <th>P | F(Q)</th>\n",
       "      <td>237.737088</td>\n",
       "      <td>104.086495</td>\n",
       "      <td>136.854072</td>\n",
       "      <td>269.696218</td>\n",
       "      <td>100.715937</td>\n",
       "      <td>601.014715</td>\n",
       "      <td>192.707897</td>\n",
       "      <td>272.050850</td>\n",
       "      <td>523.086635</td>\n",
       "    </tr>\n",
       "    <tr>\n",
       "      <th>tentative eval</th>\n",
       "      <td>1.381684</td>\n",
       "      <td>1.316493</td>\n",
       "      <td>1.325381</td>\n",
       "      <td>1.420032</td>\n",
       "      <td>2.286227</td>\n",
       "      <td>3.842709</td>\n",
       "      <td>3.594124</td>\n",
       "      <td>1.366211</td>\n",
       "      <td>3.720935</td>\n",
       "    </tr>\n",
       "    <tr>\n",
       "      <th>root detection</th>\n",
       "      <td>0.040639</td>\n",
       "      <td>2.377377</td>\n",
       "      <td>3.069887</td>\n",
       "      <td>0.012975</td>\n",
       "      <td>0.803135</td>\n",
       "      <td>0.052401</td>\n",
       "      <td>5.510207</td>\n",
       "      <td>0.037023</td>\n",
       "      <td>0.046269</td>\n",
       "    </tr>\n",
       "    <tr>\n",
       "      <th>composing flowpipe</th>\n",
       "      <td>23.856251</td>\n",
       "      <td>46.865766</td>\n",
       "      <td>62.175760</td>\n",
       "      <td>55.199466</td>\n",
       "      <td>23.298517</td>\n",
       "      <td>42.391887</td>\n",
       "      <td>84.159275</td>\n",
       "      <td>24.217319</td>\n",
       "      <td>41.935212</td>\n",
       "    </tr>\n",
       "    <tr>\n",
       "      <th>composing atomic</th>\n",
       "      <td>91.855155</td>\n",
       "      <td>0.011354</td>\n",
       "      <td>0.012545</td>\n",
       "      <td>75.719219</td>\n",
       "      <td>22.995655</td>\n",
       "      <td>250.910396</td>\n",
       "      <td>0.022963</td>\n",
       "      <td>108.274993</td>\n",
       "      <td>212.845219</td>\n",
       "    </tr>\n",
       "    <tr>\n",
       "      <th>Total</th>\n",
       "      <td>223.011374</td>\n",
       "      <td>156.319699</td>\n",
       "      <td>172.829018</td>\n",
       "      <td>240.578915</td>\n",
       "      <td>152.737632</td>\n",
       "      <td>405.625821</td>\n",
       "      <td>200.724418</td>\n",
       "      <td>242.648532</td>\n",
       "      <td>368.187120</td>\n",
       "    </tr>\n",
       "  </tbody>\n",
       "</table>\n",
       "</div>"
      ],
      "text/plain": [
       "                        masked  masked_no_symbolic  \\\n",
       "Flow*               103.972315          104.096252   \n",
       "P                    14.099834           17.979025   \n",
       "Q                   104.652017           33.949078   \n",
       "P | F(Q)            237.737088          104.086495   \n",
       "tentative eval        1.381684            1.316493   \n",
       "root detection        0.040639            2.377377   \n",
       "composing flowpipe   23.856251           46.865766   \n",
       "composing atomic     91.855155            0.011354   \n",
       "Total               223.011374          156.319699   \n",
       "\n",
       "                    masked_no_symbolic_no_selective  masked_no_selective  \\\n",
       "Flow*                                    104.239559           105.568010   \n",
       "P                                         24.378989            18.902224   \n",
       "Q                                         43.936009           115.834067   \n",
       "P | F(Q)                                 136.854072           269.696218   \n",
       "tentative eval                             1.325381             1.420032   \n",
       "root detection                             3.069887             0.012975   \n",
       "composing flowpipe                        62.175760            55.199466   \n",
       "composing atomic                           0.012545            75.719219   \n",
       "Total                                    172.829018           240.578915   \n",
       "\n",
       "                    masked_symbolic_low_order    unmasked  \\\n",
       "Flow*                              102.218178  104.949374   \n",
       "P                                   12.829657   18.823744   \n",
       "Q                                   37.414636  281.299118   \n",
       "P | F(Q)                           100.715937  601.014715   \n",
       "tentative eval                       2.286227    3.842709   \n",
       "root detection                       0.803135    0.052401   \n",
       "composing flowpipe                  23.298517   42.391887   \n",
       "composing atomic                    22.995655  250.910396   \n",
       "Total                              152.737632  405.625821   \n",
       "\n",
       "                    unmasked_no_symbolic  masked_reversed  unmasked_reversed  \n",
       "Flow*                         104.192561       106.459356         106.482574  \n",
       "P                              25.668027        14.273737          20.496848  \n",
       "Q                              70.575092       121.637607         240.935255  \n",
       "P | F(Q)                      192.707897       272.050850         523.086635  \n",
       "tentative eval                  3.594124         1.366211           3.720935  \n",
       "root detection                  5.510207         0.037023           0.046269  \n",
       "composing flowpipe             84.159275        24.217319          41.935212  \n",
       "composing atomic                0.022963       108.274993         212.845219  \n",
       "Total                         200.724418       242.648532         368.187120  "
      ]
     },
     "execution_count": 11,
     "metadata": {},
     "output_type": "execute_result"
    }
   ],
   "source": [
    "comparison = pd.DataFrame({\n",
    "    s: total_times.mean()\n",
    "    for s, total_times in total_timess.items()\n",
    "})\n",
    "comparison.columns = series_names\n",
    "comparison"
   ]
  },
  {
   "cell_type": "code",
   "execution_count": 12,
   "metadata": {},
   "outputs": [],
   "source": [
    "comparison.to_csv(\"data/comparison1.csv\")"
   ]
  },
  {
   "cell_type": "code",
   "execution_count": 13,
   "metadata": {},
   "outputs": [
    {
     "data": {
      "text/html": [
       "<div>\n",
       "<style scoped>\n",
       "    .dataframe tbody tr th:only-of-type {\n",
       "        vertical-align: middle;\n",
       "    }\n",
       "\n",
       "    .dataframe tbody tr th {\n",
       "        vertical-align: top;\n",
       "    }\n",
       "\n",
       "    .dataframe thead th {\n",
       "        text-align: right;\n",
       "    }\n",
       "</style>\n",
       "<table border=\"1\" class=\"dataframe\">\n",
       "  <thead>\n",
       "    <tr style=\"text-align: right;\">\n",
       "      <th></th>\n",
       "      <th>masked</th>\n",
       "      <th>masked_no_symbolic</th>\n",
       "      <th>masked_no_symbolic_no_selective</th>\n",
       "      <th>masked_no_selective</th>\n",
       "      <th>masked_symbolic_low_order</th>\n",
       "      <th>unmasked</th>\n",
       "      <th>unmasked_no_symbolic</th>\n",
       "      <th>masked_reversed</th>\n",
       "      <th>unmasked_reversed</th>\n",
       "    </tr>\n",
       "  </thead>\n",
       "  <tbody>\n",
       "    <tr>\n",
       "      <th>Flow*</th>\n",
       "      <td>1.715421</td>\n",
       "      <td>1.891099</td>\n",
       "      <td>1.404207</td>\n",
       "      <td>1.997480</td>\n",
       "      <td>1.084653</td>\n",
       "      <td>4.049083</td>\n",
       "      <td>2.048119</td>\n",
       "      <td>1.851725</td>\n",
       "      <td>1.658455</td>\n",
       "    </tr>\n",
       "    <tr>\n",
       "      <th>P</th>\n",
       "      <td>0.608156</td>\n",
       "      <td>2.646297</td>\n",
       "      <td>4.456879</td>\n",
       "      <td>0.939043</td>\n",
       "      <td>0.627181</td>\n",
       "      <td>0.904238</td>\n",
       "      <td>3.283719</td>\n",
       "      <td>0.727994</td>\n",
       "      <td>0.757379</td>\n",
       "    </tr>\n",
       "    <tr>\n",
       "      <th>Q</th>\n",
       "      <td>7.069482</td>\n",
       "      <td>2.802543</td>\n",
       "      <td>3.565065</td>\n",
       "      <td>6.690971</td>\n",
       "      <td>1.128353</td>\n",
       "      <td>30.229316</td>\n",
       "      <td>4.841744</td>\n",
       "      <td>4.344146</td>\n",
       "      <td>11.604230</td>\n",
       "    </tr>\n",
       "    <tr>\n",
       "      <th>P | F(Q)</th>\n",
       "      <td>14.711301</td>\n",
       "      <td>7.898518</td>\n",
       "      <td>12.014143</td>\n",
       "      <td>13.107790</td>\n",
       "      <td>2.117443</td>\n",
       "      <td>60.834403</td>\n",
       "      <td>12.961729</td>\n",
       "      <td>8.905697</td>\n",
       "      <td>23.075390</td>\n",
       "    </tr>\n",
       "    <tr>\n",
       "      <th>tentative eval</th>\n",
       "      <td>0.071179</td>\n",
       "      <td>0.097760</td>\n",
       "      <td>0.071223</td>\n",
       "      <td>0.129357</td>\n",
       "      <td>0.219224</td>\n",
       "      <td>0.244524</td>\n",
       "      <td>0.147352</td>\n",
       "      <td>0.070033</td>\n",
       "      <td>0.122155</td>\n",
       "    </tr>\n",
       "    <tr>\n",
       "      <th>root detection</th>\n",
       "      <td>0.010160</td>\n",
       "      <td>0.177560</td>\n",
       "      <td>0.198585</td>\n",
       "      <td>0.003444</td>\n",
       "      <td>0.010279</td>\n",
       "      <td>0.008907</td>\n",
       "      <td>0.337479</td>\n",
       "      <td>0.010883</td>\n",
       "      <td>0.009125</td>\n",
       "    </tr>\n",
       "    <tr>\n",
       "      <th>composing flowpipe</th>\n",
       "      <td>0.589189</td>\n",
       "      <td>3.661671</td>\n",
       "      <td>5.711511</td>\n",
       "      <td>1.829237</td>\n",
       "      <td>0.542534</td>\n",
       "      <td>1.624033</td>\n",
       "      <td>5.923946</td>\n",
       "      <td>0.715280</td>\n",
       "      <td>0.802223</td>\n",
       "    </tr>\n",
       "    <tr>\n",
       "      <th>composing atomic</th>\n",
       "      <td>6.902942</td>\n",
       "      <td>0.000662</td>\n",
       "      <td>0.000955</td>\n",
       "      <td>4.980643</td>\n",
       "      <td>0.701656</td>\n",
       "      <td>29.336497</td>\n",
       "      <td>0.001065</td>\n",
       "      <td>3.802747</td>\n",
       "      <td>11.319982</td>\n",
       "    </tr>\n",
       "    <tr>\n",
       "      <th>Total</th>\n",
       "      <td>7.417086</td>\n",
       "      <td>3.947386</td>\n",
       "      <td>6.637435</td>\n",
       "      <td>6.188515</td>\n",
       "      <td>1.610825</td>\n",
       "      <td>33.814704</td>\n",
       "      <td>6.175381</td>\n",
       "      <td>4.720884</td>\n",
       "      <td>10.992244</td>\n",
       "    </tr>\n",
       "  </tbody>\n",
       "</table>\n",
       "</div>"
      ],
      "text/plain": [
       "                       masked  masked_no_symbolic  \\\n",
       "Flow*                1.715421            1.891099   \n",
       "P                    0.608156            2.646297   \n",
       "Q                    7.069482            2.802543   \n",
       "P | F(Q)            14.711301            7.898518   \n",
       "tentative eval       0.071179            0.097760   \n",
       "root detection       0.010160            0.177560   \n",
       "composing flowpipe   0.589189            3.661671   \n",
       "composing atomic     6.902942            0.000662   \n",
       "Total                7.417086            3.947386   \n",
       "\n",
       "                    masked_no_symbolic_no_selective  masked_no_selective  \\\n",
       "Flow*                                      1.404207             1.997480   \n",
       "P                                          4.456879             0.939043   \n",
       "Q                                          3.565065             6.690971   \n",
       "P | F(Q)                                  12.014143            13.107790   \n",
       "tentative eval                             0.071223             0.129357   \n",
       "root detection                             0.198585             0.003444   \n",
       "composing flowpipe                         5.711511             1.829237   \n",
       "composing atomic                           0.000955             4.980643   \n",
       "Total                                      6.637435             6.188515   \n",
       "\n",
       "                    masked_symbolic_low_order   unmasked  \\\n",
       "Flow*                                1.084653   4.049083   \n",
       "P                                    0.627181   0.904238   \n",
       "Q                                    1.128353  30.229316   \n",
       "P | F(Q)                             2.117443  60.834403   \n",
       "tentative eval                       0.219224   0.244524   \n",
       "root detection                       0.010279   0.008907   \n",
       "composing flowpipe                   0.542534   1.624033   \n",
       "composing atomic                     0.701656  29.336497   \n",
       "Total                                1.610825  33.814704   \n",
       "\n",
       "                    unmasked_no_symbolic  masked_reversed  unmasked_reversed  \n",
       "Flow*                           2.048119         1.851725           1.658455  \n",
       "P                               3.283719         0.727994           0.757379  \n",
       "Q                               4.841744         4.344146          11.604230  \n",
       "P | F(Q)                       12.961729         8.905697          23.075390  \n",
       "tentative eval                  0.147352         0.070033           0.122155  \n",
       "root detection                  0.337479         0.010883           0.009125  \n",
       "composing flowpipe              5.923946         0.715280           0.802223  \n",
       "composing atomic                0.001065         3.802747          11.319982  \n",
       "Total                           6.175381         4.720884          10.992244  "
      ]
     },
     "execution_count": 13,
     "metadata": {},
     "output_type": "execute_result"
    }
   ],
   "source": [
    "comparison_stds = pd.DataFrame({\n",
    "    s: total_times.std()\n",
    "    for s, total_times in total_timess.items()\n",
    "})\n",
    "comparison_stds.columns = series_names\n",
    "comparison_stds"
   ]
  },
  {
   "cell_type": "code",
   "execution_count": 14,
   "metadata": {},
   "outputs": [
    {
     "data": {
      "text/html": [
       "<div>\n",
       "<style scoped>\n",
       "    .dataframe tbody tr th:only-of-type {\n",
       "        vertical-align: middle;\n",
       "    }\n",
       "\n",
       "    .dataframe tbody tr th {\n",
       "        vertical-align: top;\n",
       "    }\n",
       "\n",
       "    .dataframe thead th {\n",
       "        text-align: right;\n",
       "    }\n",
       "</style>\n",
       "<table border=\"1\" class=\"dataframe\">\n",
       "  <thead>\n",
       "    <tr style=\"text-align: right;\">\n",
       "      <th></th>\n",
       "      <th>P</th>\n",
       "      <th>Q</th>\n",
       "    </tr>\n",
       "  </thead>\n",
       "  <tbody>\n",
       "    <tr>\n",
       "      <th>masked</th>\n",
       "      <td>14.099834</td>\n",
       "      <td>104.652017</td>\n",
       "    </tr>\n",
       "    <tr>\n",
       "      <th>masked_no_symbolic</th>\n",
       "      <td>17.979025</td>\n",
       "      <td>33.949078</td>\n",
       "    </tr>\n",
       "    <tr>\n",
       "      <th>masked_no_symbolic_no_selective</th>\n",
       "      <td>24.378989</td>\n",
       "      <td>43.936009</td>\n",
       "    </tr>\n",
       "    <tr>\n",
       "      <th>masked_no_selective</th>\n",
       "      <td>18.902224</td>\n",
       "      <td>115.834067</td>\n",
       "    </tr>\n",
       "    <tr>\n",
       "      <th>masked_symbolic_low_order</th>\n",
       "      <td>12.829657</td>\n",
       "      <td>37.414636</td>\n",
       "    </tr>\n",
       "    <tr>\n",
       "      <th>unmasked</th>\n",
       "      <td>18.823744</td>\n",
       "      <td>281.299118</td>\n",
       "    </tr>\n",
       "    <tr>\n",
       "      <th>unmasked_no_symbolic</th>\n",
       "      <td>25.668027</td>\n",
       "      <td>70.575092</td>\n",
       "    </tr>\n",
       "    <tr>\n",
       "      <th>masked_reversed</th>\n",
       "      <td>14.273737</td>\n",
       "      <td>121.637607</td>\n",
       "    </tr>\n",
       "    <tr>\n",
       "      <th>unmasked_reversed</th>\n",
       "      <td>20.496848</td>\n",
       "      <td>240.935255</td>\n",
       "    </tr>\n",
       "  </tbody>\n",
       "</table>\n",
       "</div>"
      ],
      "text/plain": [
       "                                         P           Q\n",
       "masked                           14.099834  104.652017\n",
       "masked_no_symbolic               17.979025   33.949078\n",
       "masked_no_symbolic_no_selective  24.378989   43.936009\n",
       "masked_no_selective              18.902224  115.834067\n",
       "masked_symbolic_low_order        12.829657   37.414636\n",
       "unmasked                         18.823744  281.299118\n",
       "unmasked_no_symbolic             25.668027   70.575092\n",
       "masked_reversed                  14.273737  121.637607\n",
       "unmasked_reversed                20.496848  240.935255"
      ]
     },
     "execution_count": 14,
     "metadata": {},
     "output_type": "execute_result"
    }
   ],
   "source": [
    "comparison2 = comparison.loc[['P', 'Q'],:].transpose()\n",
    "comparison2"
   ]
  },
  {
   "cell_type": "code",
   "execution_count": 15,
   "metadata": {},
   "outputs": [
    {
     "data": {
      "text/plain": [
       "<matplotlib.axes._subplots.AxesSubplot at 0x7f2be9716490>"
      ]
     },
     "execution_count": 15,
     "metadata": {},
     "output_type": "execute_result"
    },
    {
     "data": {
      "image/png": "[encoded data removed]",
      "text/plain": [
       "<Figure size 432x288 with 1 Axes>"
      ]
     },
     "metadata": {
      "needs_background": "light"
     },
     "output_type": "display_data"
    }
   ],
   "source": [
    "p = comparison2.plot(kind='barh', stacked=True, grid=False)\n",
    "p"
   ]
  },
  {
   "cell_type": "code",
   "execution_count": 24,
   "metadata": {},
   "outputs": [],
   "source": [
    "p.get_figure().savefig('images/comparison-analysis6-bar-chart-1.pdf')"
   ]
  },
  {
   "cell_type": "code",
   "execution_count": 17,
   "metadata": {},
   "outputs": [
    {
     "data": {
      "text/plain": [
       "<matplotlib.axes._subplots.AxesSubplot at 0x7f2be75ec250>"
      ]
     },
     "execution_count": 17,
     "metadata": {},
     "output_type": "execute_result"
    },
    {
     "data": {
      "image/png": "[encoded data removed]",
      "text/plain": [
       "<Figure size 432x288 with 1 Axes>"
      ]
     },
     "metadata": {
      "needs_background": "light"
     },
     "output_type": "display_data"
    }
   ],
   "source": [
    "comparison3 = comparison.loc[['P | F(Q)'],:].transpose()\n",
    "comparison3.plot(kind='barh')"
   ]
  },
  {
   "cell_type": "code",
   "execution_count": 18,
   "metadata": {},
   "outputs": [
    {
     "data": {
      "text/html": [
       "<div>\n",
       "<style scoped>\n",
       "    .dataframe tbody tr th:only-of-type {\n",
       "        vertical-align: middle;\n",
       "    }\n",
       "\n",
       "    .dataframe tbody tr th {\n",
       "        vertical-align: top;\n",
       "    }\n",
       "\n",
       "    .dataframe thead th {\n",
       "        text-align: right;\n",
       "    }\n",
       "</style>\n",
       "<table border=\"1\" class=\"dataframe\">\n",
       "  <thead>\n",
       "    <tr style=\"text-align: right;\">\n",
       "      <th></th>\n",
       "      <th>Flow*</th>\n",
       "      <th>P</th>\n",
       "      <th>Q</th>\n",
       "    </tr>\n",
       "  </thead>\n",
       "  <tbody>\n",
       "    <tr>\n",
       "      <th>masked</th>\n",
       "      <td>103.972315</td>\n",
       "      <td>14.099834</td>\n",
       "      <td>104.652017</td>\n",
       "    </tr>\n",
       "    <tr>\n",
       "      <th>masked_no_symbolic</th>\n",
       "      <td>104.096252</td>\n",
       "      <td>17.979025</td>\n",
       "      <td>33.949078</td>\n",
       "    </tr>\n",
       "    <tr>\n",
       "      <th>masked_no_symbolic_no_selective</th>\n",
       "      <td>104.239559</td>\n",
       "      <td>24.378989</td>\n",
       "      <td>43.936009</td>\n",
       "    </tr>\n",
       "    <tr>\n",
       "      <th>masked_no_selective</th>\n",
       "      <td>105.568010</td>\n",
       "      <td>18.902224</td>\n",
       "      <td>115.834067</td>\n",
       "    </tr>\n",
       "    <tr>\n",
       "      <th>masked_symbolic_low_order</th>\n",
       "      <td>102.218178</td>\n",
       "      <td>12.829657</td>\n",
       "      <td>37.414636</td>\n",
       "    </tr>\n",
       "    <tr>\n",
       "      <th>unmasked</th>\n",
       "      <td>104.949374</td>\n",
       "      <td>18.823744</td>\n",
       "      <td>281.299118</td>\n",
       "    </tr>\n",
       "    <tr>\n",
       "      <th>unmasked_no_symbolic</th>\n",
       "      <td>104.192561</td>\n",
       "      <td>25.668027</td>\n",
       "      <td>70.575092</td>\n",
       "    </tr>\n",
       "    <tr>\n",
       "      <th>masked_reversed</th>\n",
       "      <td>106.459356</td>\n",
       "      <td>14.273737</td>\n",
       "      <td>121.637607</td>\n",
       "    </tr>\n",
       "    <tr>\n",
       "      <th>unmasked_reversed</th>\n",
       "      <td>106.482574</td>\n",
       "      <td>20.496848</td>\n",
       "      <td>240.935255</td>\n",
       "    </tr>\n",
       "  </tbody>\n",
       "</table>\n",
       "</div>"
      ],
      "text/plain": [
       "                                      Flow*          P           Q\n",
       "masked                           103.972315  14.099834  104.652017\n",
       "masked_no_symbolic               104.096252  17.979025   33.949078\n",
       "masked_no_symbolic_no_selective  104.239559  24.378989   43.936009\n",
       "masked_no_selective              105.568010  18.902224  115.834067\n",
       "masked_symbolic_low_order        102.218178  12.829657   37.414636\n",
       "unmasked                         104.949374  18.823744  281.299118\n",
       "unmasked_no_symbolic             104.192561  25.668027   70.575092\n",
       "masked_reversed                  106.459356  14.273737  121.637607\n",
       "unmasked_reversed                106.482574  20.496848  240.935255"
      ]
     },
     "execution_count": 18,
     "metadata": {},
     "output_type": "execute_result"
    }
   ],
   "source": [
    "comparison4 = comparison.loc[['Flow*', 'P', 'Q'],:].transpose()\n",
    "comparison4"
   ]
  },
  {
   "cell_type": "code",
   "execution_count": 19,
   "metadata": {},
   "outputs": [
    {
     "data": {
      "text/plain": [
       "<matplotlib.axes._subplots.AxesSubplot at 0x7f2be7522760>"
      ]
     },
     "execution_count": 19,
     "metadata": {},
     "output_type": "execute_result"
    },
    {
     "data": {
      "image/png": "[encoded data removed]",
      "text/plain": [
       "<Figure size 432x288 with 1 Axes>"
      ]
     },
     "metadata": {
      "needs_background": "light"
     },
     "output_type": "display_data"
    }
   ],
   "source": [
    "p = comparison4.plot(kind='barh', stacked=True, grid=False)\n",
    "p"
   ]
  },
  {
   "cell_type": "code",
   "execution_count": 25,
   "metadata": {},
   "outputs": [],
   "source": [
    "p.get_figure().savefig('images/comparison-analysis6-bar-chart-2.pdf')"
   ]
  },
  {
   "cell_type": "code",
   "execution_count": 26,
   "metadata": {},
   "outputs": [],
   "source": [
    "comparison5 = comparison4.copy()"
   ]
  },
  {
   "cell_type": "code",
   "execution_count": 27,
   "metadata": {},
   "outputs": [
    {
     "data": {
      "text/plain": [
       "masked                             0.287208\n",
       "masked_no_symbolic                 0.295344\n",
       "masked_no_symbolic_no_selective    0.274460\n",
       "masked_no_selective                0.274614\n",
       "masked_symbolic_low_order          0.275162\n",
       "unmasked                           0.553586\n",
       "unmasked_no_symbolic               0.288738\n",
       "masked_reversed                    0.277831\n",
       "unmasked_reversed                  0.272443\n",
       "dtype: float64"
      ]
     },
     "execution_count": 27,
     "metadata": {},
     "output_type": "execute_result"
    }
   ],
   "source": [
    "rem = comparison.loc['Total', :] - comparison4.sum(axis=1)\n",
    "rem"
   ]
  },
  {
   "cell_type": "code",
   "execution_count": 28,
   "metadata": {},
   "outputs": [],
   "source": [
    "comparison5.loc[:,'Remainder'] = rem"
   ]
  },
  {
   "cell_type": "code",
   "execution_count": 29,
   "metadata": {},
   "outputs": [
    {
     "data": {
      "text/html": [
       "<div>\n",
       "<style scoped>\n",
       "    .dataframe tbody tr th:only-of-type {\n",
       "        vertical-align: middle;\n",
       "    }\n",
       "\n",
       "    .dataframe tbody tr th {\n",
       "        vertical-align: top;\n",
       "    }\n",
       "\n",
       "    .dataframe thead th {\n",
       "        text-align: right;\n",
       "    }\n",
       "</style>\n",
       "<table border=\"1\" class=\"dataframe\">\n",
       "  <thead>\n",
       "    <tr style=\"text-align: right;\">\n",
       "      <th></th>\n",
       "      <th>Flow*</th>\n",
       "      <th>P</th>\n",
       "      <th>Q</th>\n",
       "      <th>Remainder</th>\n",
       "    </tr>\n",
       "  </thead>\n",
       "  <tbody>\n",
       "    <tr>\n",
       "      <th>masked</th>\n",
       "      <td>103.972315</td>\n",
       "      <td>14.099834</td>\n",
       "      <td>104.652017</td>\n",
       "      <td>0.287208</td>\n",
       "    </tr>\n",
       "    <tr>\n",
       "      <th>masked_no_symbolic</th>\n",
       "      <td>104.096252</td>\n",
       "      <td>17.979025</td>\n",
       "      <td>33.949078</td>\n",
       "      <td>0.295344</td>\n",
       "    </tr>\n",
       "    <tr>\n",
       "      <th>masked_no_symbolic_no_selective</th>\n",
       "      <td>104.239559</td>\n",
       "      <td>24.378989</td>\n",
       "      <td>43.936009</td>\n",
       "      <td>0.274460</td>\n",
       "    </tr>\n",
       "    <tr>\n",
       "      <th>masked_no_selective</th>\n",
       "      <td>105.568010</td>\n",
       "      <td>18.902224</td>\n",
       "      <td>115.834067</td>\n",
       "      <td>0.274614</td>\n",
       "    </tr>\n",
       "    <tr>\n",
       "      <th>masked_symbolic_low_order</th>\n",
       "      <td>102.218178</td>\n",
       "      <td>12.829657</td>\n",
       "      <td>37.414636</td>\n",
       "      <td>0.275162</td>\n",
       "    </tr>\n",
       "    <tr>\n",
       "      <th>unmasked</th>\n",
       "      <td>104.949374</td>\n",
       "      <td>18.823744</td>\n",
       "      <td>281.299118</td>\n",
       "      <td>0.553586</td>\n",
       "    </tr>\n",
       "    <tr>\n",
       "      <th>unmasked_no_symbolic</th>\n",
       "      <td>104.192561</td>\n",
       "      <td>25.668027</td>\n",
       "      <td>70.575092</td>\n",
       "      <td>0.288738</td>\n",
       "    </tr>\n",
       "    <tr>\n",
       "      <th>masked_reversed</th>\n",
       "      <td>106.459356</td>\n",
       "      <td>14.273737</td>\n",
       "      <td>121.637607</td>\n",
       "      <td>0.277831</td>\n",
       "    </tr>\n",
       "    <tr>\n",
       "      <th>unmasked_reversed</th>\n",
       "      <td>106.482574</td>\n",
       "      <td>20.496848</td>\n",
       "      <td>240.935255</td>\n",
       "      <td>0.272443</td>\n",
       "    </tr>\n",
       "  </tbody>\n",
       "</table>\n",
       "</div>"
      ],
      "text/plain": [
       "                                      Flow*          P           Q  Remainder\n",
       "masked                           103.972315  14.099834  104.652017   0.287208\n",
       "masked_no_symbolic               104.096252  17.979025   33.949078   0.295344\n",
       "masked_no_symbolic_no_selective  104.239559  24.378989   43.936009   0.274460\n",
       "masked_no_selective              105.568010  18.902224  115.834067   0.274614\n",
       "masked_symbolic_low_order        102.218178  12.829657   37.414636   0.275162\n",
       "unmasked                         104.949374  18.823744  281.299118   0.553586\n",
       "unmasked_no_symbolic             104.192561  25.668027   70.575092   0.288738\n",
       "masked_reversed                  106.459356  14.273737  121.637607   0.277831\n",
       "unmasked_reversed                106.482574  20.496848  240.935255   0.272443"
      ]
     },
     "execution_count": 29,
     "metadata": {},
     "output_type": "execute_result"
    }
   ],
   "source": [
    "comparison5"
   ]
  },
  {
   "cell_type": "code",
   "execution_count": 30,
   "metadata": {},
   "outputs": [],
   "source": [
    "comparison5.to_csv(\"data/comparison-remainder6.csv\")"
   ]
  },
  {
   "cell_type": "code",
   "execution_count": 31,
   "metadata": {},
   "outputs": [
    {
     "data": {
      "text/plain": [
       "<matplotlib.axes._subplots.AxesSubplot at 0x7f2be7532040>"
      ]
     },
     "execution_count": 31,
     "metadata": {},
     "output_type": "execute_result"
    },
    {
     "data": {
      "image/png": "[encoded data removed]",
      "text/plain": [
       "<Figure size 432x288 with 1 Axes>"
      ]
     },
     "metadata": {
      "needs_background": "light"
     },
     "output_type": "display_data"
    }
   ],
   "source": [
    "comparison5.plot(kind='barh', stacked=True, grid=False)"
   ]
  },
  {
   "cell_type": "code",
   "execution_count": 32,
   "metadata": {},
   "outputs": [],
   "source": [
    "_.get_figure().savefig(\n",
    "    'images/key-comparison-bar-chart-6.pdf')"
   ]
  },
  {
   "cell_type": "code",
   "execution_count": 34,
   "metadata": {},
   "outputs": [],
   "source": [
    "comparison6 = comparison.loc[['Flow*', 'P', 'Q', 'Total'], :].transpose()"
   ]
  },
  {
   "cell_type": "code",
   "execution_count": 35,
   "metadata": {},
   "outputs": [
    {
     "data": {
      "text/html": [
       "<div>\n",
       "<style scoped>\n",
       "    .dataframe tbody tr th:only-of-type {\n",
       "        vertical-align: middle;\n",
       "    }\n",
       "\n",
       "    .dataframe tbody tr th {\n",
       "        vertical-align: top;\n",
       "    }\n",
       "\n",
       "    .dataframe thead th {\n",
       "        text-align: right;\n",
       "    }\n",
       "</style>\n",
       "<table border=\"1\" class=\"dataframe\">\n",
       "  <thead>\n",
       "    <tr style=\"text-align: right;\">\n",
       "      <th></th>\n",
       "      <th>Flow*</th>\n",
       "      <th>P</th>\n",
       "      <th>Q</th>\n",
       "      <th>Total</th>\n",
       "    </tr>\n",
       "  </thead>\n",
       "  <tbody>\n",
       "    <tr>\n",
       "      <th>masked</th>\n",
       "      <td>103.972315</td>\n",
       "      <td>14.099834</td>\n",
       "      <td>104.652017</td>\n",
       "      <td>223.011374</td>\n",
       "    </tr>\n",
       "    <tr>\n",
       "      <th>masked_no_symbolic</th>\n",
       "      <td>104.096252</td>\n",
       "      <td>17.979025</td>\n",
       "      <td>33.949078</td>\n",
       "      <td>156.319699</td>\n",
       "    </tr>\n",
       "    <tr>\n",
       "      <th>masked_no_symbolic_no_selective</th>\n",
       "      <td>104.239559</td>\n",
       "      <td>24.378989</td>\n",
       "      <td>43.936009</td>\n",
       "      <td>172.829018</td>\n",
       "    </tr>\n",
       "    <tr>\n",
       "      <th>masked_no_selective</th>\n",
       "      <td>105.568010</td>\n",
       "      <td>18.902224</td>\n",
       "      <td>115.834067</td>\n",
       "      <td>240.578915</td>\n",
       "    </tr>\n",
       "    <tr>\n",
       "      <th>masked_symbolic_low_order</th>\n",
       "      <td>102.218178</td>\n",
       "      <td>12.829657</td>\n",
       "      <td>37.414636</td>\n",
       "      <td>152.737632</td>\n",
       "    </tr>\n",
       "    <tr>\n",
       "      <th>unmasked</th>\n",
       "      <td>104.949374</td>\n",
       "      <td>18.823744</td>\n",
       "      <td>281.299118</td>\n",
       "      <td>405.625821</td>\n",
       "    </tr>\n",
       "    <tr>\n",
       "      <th>unmasked_no_symbolic</th>\n",
       "      <td>104.192561</td>\n",
       "      <td>25.668027</td>\n",
       "      <td>70.575092</td>\n",
       "      <td>200.724418</td>\n",
       "    </tr>\n",
       "    <tr>\n",
       "      <th>masked_reversed</th>\n",
       "      <td>106.459356</td>\n",
       "      <td>14.273737</td>\n",
       "      <td>121.637607</td>\n",
       "      <td>242.648532</td>\n",
       "    </tr>\n",
       "    <tr>\n",
       "      <th>unmasked_reversed</th>\n",
       "      <td>106.482574</td>\n",
       "      <td>20.496848</td>\n",
       "      <td>240.935255</td>\n",
       "      <td>368.187120</td>\n",
       "    </tr>\n",
       "  </tbody>\n",
       "</table>\n",
       "</div>"
      ],
      "text/plain": [
       "                                      Flow*          P           Q       Total\n",
       "masked                           103.972315  14.099834  104.652017  223.011374\n",
       "masked_no_symbolic               104.096252  17.979025   33.949078  156.319699\n",
       "masked_no_symbolic_no_selective  104.239559  24.378989   43.936009  172.829018\n",
       "masked_no_selective              105.568010  18.902224  115.834067  240.578915\n",
       "masked_symbolic_low_order        102.218178  12.829657   37.414636  152.737632\n",
       "unmasked                         104.949374  18.823744  281.299118  405.625821\n",
       "unmasked_no_symbolic             104.192561  25.668027   70.575092  200.724418\n",
       "masked_reversed                  106.459356  14.273737  121.637607  242.648532\n",
       "unmasked_reversed                106.482574  20.496848  240.935255  368.187120"
      ]
     },
     "execution_count": 35,
     "metadata": {},
     "output_type": "execute_result"
    }
   ],
   "source": [
    "comparison6"
   ]
  },
  {
   "cell_type": "code",
   "execution_count": 36,
   "metadata": {},
   "outputs": [],
   "source": [
    "comparison6.to_csv('data/key-comparison6.csv')"
   ]
  },
  {
   "cell_type": "code",
   "execution_count": 37,
   "metadata": {},
   "outputs": [
    {
     "data": {
      "text/html": [
       "<div>\n",
       "<style scoped>\n",
       "    .dataframe tbody tr th:only-of-type {\n",
       "        vertical-align: middle;\n",
       "    }\n",
       "\n",
       "    .dataframe tbody tr th {\n",
       "        vertical-align: top;\n",
       "    }\n",
       "\n",
       "    .dataframe thead th {\n",
       "        text-align: right;\n",
       "    }\n",
       "</style>\n",
       "<table border=\"1\" class=\"dataframe\">\n",
       "  <thead>\n",
       "    <tr style=\"text-align: right;\">\n",
       "      <th></th>\n",
       "      <th>P | F(Q)</th>\n",
       "    </tr>\n",
       "  </thead>\n",
       "  <tbody>\n",
       "    <tr>\n",
       "      <th>masked</th>\n",
       "      <td>237.737088</td>\n",
       "    </tr>\n",
       "    <tr>\n",
       "      <th>masked_no_symbolic</th>\n",
       "      <td>104.086495</td>\n",
       "    </tr>\n",
       "    <tr>\n",
       "      <th>masked_no_symbolic_no_selective</th>\n",
       "      <td>136.854072</td>\n",
       "    </tr>\n",
       "    <tr>\n",
       "      <th>masked_no_selective</th>\n",
       "      <td>269.696218</td>\n",
       "    </tr>\n",
       "    <tr>\n",
       "      <th>masked_symbolic_low_order</th>\n",
       "      <td>100.715937</td>\n",
       "    </tr>\n",
       "    <tr>\n",
       "      <th>unmasked</th>\n",
       "      <td>601.014715</td>\n",
       "    </tr>\n",
       "    <tr>\n",
       "      <th>unmasked_no_symbolic</th>\n",
       "      <td>192.707897</td>\n",
       "    </tr>\n",
       "    <tr>\n",
       "      <th>masked_reversed</th>\n",
       "      <td>272.050850</td>\n",
       "    </tr>\n",
       "    <tr>\n",
       "      <th>unmasked_reversed</th>\n",
       "      <td>523.086635</td>\n",
       "    </tr>\n",
       "  </tbody>\n",
       "</table>\n",
       "</div>"
      ],
      "text/plain": [
       "                                   P | F(Q)\n",
       "masked                           237.737088\n",
       "masked_no_symbolic               104.086495\n",
       "masked_no_symbolic_no_selective  136.854072\n",
       "masked_no_selective              269.696218\n",
       "masked_symbolic_low_order        100.715937\n",
       "unmasked                         601.014715\n",
       "unmasked_no_symbolic             192.707897\n",
       "masked_reversed                  272.050850\n",
       "unmasked_reversed                523.086635"
      ]
     },
     "execution_count": 37,
     "metadata": {},
     "output_type": "execute_result"
    }
   ],
   "source": [
    "comparison3"
   ]
  },
  {
   "cell_type": "code",
   "execution_count": 44,
   "metadata": {},
   "outputs": [
    {
     "data": {
      "text/plain": [
       "P | F(Q)    2.528065\n",
       "dtype: float64"
      ]
     },
     "execution_count": 44,
     "metadata": {},
     "output_type": "execute_result"
    }
   ],
   "source": [
    "comparison3.loc['unmasked',:] / comparison3.loc['masked',:]"
   ]
  },
  {
   "cell_type": "code",
   "execution_count": 45,
   "metadata": {},
   "outputs": [
    {
     "data": {
      "text/plain": [
       "P | F(Q)    1.851421\n",
       "dtype: float64"
      ]
     },
     "execution_count": 45,
     "metadata": {},
     "output_type": "execute_result"
    }
   ],
   "source": [
    "comparison3.loc['unmasked_no_symbolic',:] / comparison3.loc['masked_no_symbolic',:]"
   ]
  },
  {
   "cell_type": "code",
   "execution_count": 51,
   "metadata": {},
   "outputs": [
    {
     "data": {
      "text/plain": [
       "P | F(Q)    2.284034\n",
       "dtype: float64"
      ]
     },
     "execution_count": 51,
     "metadata": {},
     "output_type": "execute_result"
    }
   ],
   "source": [
    "comparison3.loc['masked',:] / comparison3.loc['masked_no_symbolic',:]"
   ]
  },
  {
   "cell_type": "code",
   "execution_count": 52,
   "metadata": {},
   "outputs": [
    {
     "data": {
      "text/plain": [
       "P | F(Q)    3.118786\n",
       "dtype: float64"
      ]
     },
     "execution_count": 52,
     "metadata": {},
     "output_type": "execute_result"
    }
   ],
   "source": [
    "comparison3.loc['unmasked',:] / comparison3.loc['unmasked_no_symbolic',:]"
   ]
  },
  {
   "cell_type": "code",
   "execution_count": 53,
   "metadata": {},
   "outputs": [
    {
     "data": {
      "text/plain": [
       "P | F(Q)    0.967618\n",
       "dtype: float64"
      ]
     },
     "execution_count": 53,
     "metadata": {},
     "output_type": "execute_result"
    }
   ],
   "source": [
    "comparison3.loc['masked_symbolic_low_order',:] / comparison3.loc['masked_no_symbolic',:]"
   ]
  },
  {
   "cell_type": "code",
   "execution_count": null,
   "metadata": {},
   "outputs": [],
   "source": []
  }
 ],
 "metadata": {
  "kernelspec": {
   "display_name": "Python 3",
   "language": "python",
   "name": "python3"
  },
  "language_info": {
   "codemirror_mode": {
    "name": "ipython",
    "version": 3
   },
   "file_extension": ".py",
   "mimetype": "text/x-python",
   "name": "python",
   "nbconvert_exporter": "python",
   "pygments_lexer": "ipython3",
   "version": "3.8.2"
  },
  "notify_time": "5"
 },
 "nbformat": 4,
 "nbformat_minor": 2
}
