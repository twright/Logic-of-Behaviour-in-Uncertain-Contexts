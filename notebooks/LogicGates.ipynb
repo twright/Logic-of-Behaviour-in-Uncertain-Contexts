{
 "cells": [
  {
   "cell_type": "markdown",
   "metadata": {},
   "source": [
    "## Version 1"
   ]
  },
  {
   "cell_type": "code",
   "execution_count": 1,
   "metadata": {},
   "outputs": [],
   "source": [
    "def get_pins(name, pinA = 'haveA', pinB = 'haveB'):\n",
    "    if pinA == 'needA':\n",
    "        pinA = input(\"Enter Pin A input for gate \"+name+\"-->\")\n",
    "    if pinB == 'needB':\n",
    "        pinB = input(\"Enter Pin B input for gate \"+name+\"-->\")\n",
    "    return [pinA, pinB]\n",
    "\n",
    "def and_gate(name, pinA = 'needA', pinB = 'needB'):\n",
    "    inputs = get_pins(name,pinA,pinB)\n",
    "    return inputs[0] and inputs[1]\n",
    "\n",
    "def or_gate(name, pinA = 'needA', pinB = 'needB'):\n",
    "    inputs = get_pins(name,pinA,pinB)\n",
    "    return inputs[0] or inputs[1]\n",
    "\n",
    "def not_gate(name, pinA = 'needA'):\n",
    "    inputs = get_pins(name,pinA)\n",
    "    return (1 - int(inputs[0]))"
   ]
  },
  {
   "cell_type": "code",
   "execution_count": 2,
   "metadata": {},
   "outputs": [],
   "source": [
    "def main():\n",
    "    return not_gate('g4', or_gate('g3',and_gate('g2'),and_gate('g1')))"
   ]
  },
  {
   "cell_type": "code",
   "execution_count": 3,
   "metadata": {},
   "outputs": [
    {
     "name": "stdout",
     "output_type": "stream",
     "text": [
      "Enter Pin A input for gate g2-->1\n",
      "Enter Pin B input for gate g2-->0\n",
      "Enter Pin A input for gate g1-->1\n",
      "Enter Pin B input for gate g1-->0\n"
     ]
    },
    {
     "data": {
      "text/plain": [
       "1"
      ]
     },
     "execution_count": 3,
     "metadata": {},
     "output_type": "execute_result"
    }
   ],
   "source": [
    "main()"
   ]
  },
  {
   "cell_type": "markdown",
   "metadata": {},
   "source": [
    "## Version 2"
   ]
  },
  {
   "cell_type": "code",
   "execution_count": 4,
   "metadata": {},
   "outputs": [],
   "source": [
    "class LogicGate:\n",
    "\n",
    "    def __init__(self,n):\n",
    "        self.name = n\n",
    "        self.output = None\n",
    "\n",
    "    def getLabel(self):\n",
    "        return self.name\n",
    "\n",
    "    def getOutput(self):\n",
    "        self.output = self.performGateLogic()\n",
    "        return self.output\n",
    "\n",
    "\n",
    "class BinaryGate(LogicGate):\n",
    "\n",
    "    def __init__(self,n):\n",
    "        super(BinaryGate, self).__init__(n)\n",
    "\n",
    "        self.pinA = None\n",
    "        self.pinB = None\n",
    "\n",
    "    def getPinA(self):\n",
    "        if self.pinA == None:\n",
    "            return int(input(\"Enter Pin A input for gate \"+self.getLabel()+\"-->\"))\n",
    "        else:\n",
    "            return self.pinA.getFrom().getOutput()\n",
    "\n",
    "    def getPinB(self):\n",
    "        if self.pinB == None:\n",
    "            return int(input(\"Enter Pin B input for gate \"+self.getLabel()+\"-->\"))\n",
    "        else:\n",
    "            return self.pinB.getFrom().getOutput()\n",
    "\n",
    "    def setNextPin(self,source):\n",
    "        if self.pinA == None:\n",
    "            self.pinA = source\n",
    "        else:\n",
    "            if self.pinB == None:\n",
    "                self.pinB = source\n",
    "            else:\n",
    "                print(\"Cannot Connect: NO EMPTY PINS on this gate\")\n",
    "\n",
    "\n",
    "class AndGate(BinaryGate):\n",
    "\n",
    "    def __init__(self,n):\n",
    "        BinaryGate.__init__(self,n)\n",
    "\n",
    "    def performGateLogic(self):\n",
    "\n",
    "        a = self.getPinA()\n",
    "        b = self.getPinB()\n",
    "        if a==1 and b==1:\n",
    "            return 1\n",
    "        else:\n",
    "            return 0\n",
    "\n",
    "class OrGate(BinaryGate):\n",
    "\n",
    "    def __init__(self,n):\n",
    "        BinaryGate.__init__(self,n)\n",
    "\n",
    "    def performGateLogic(self):\n",
    "\n",
    "        a = self.getPinA()\n",
    "        b = self.getPinB()\n",
    "        if a ==1 or b==1:\n",
    "            return 1\n",
    "        else:\n",
    "            return 0\n",
    "\n",
    "class UnaryGate(LogicGate):\n",
    "\n",
    "    def __init__(self,n):\n",
    "        LogicGate.__init__(self,n)\n",
    "\n",
    "        self.pin = None\n",
    "\n",
    "    def getPin(self):\n",
    "        if self.pin == None:\n",
    "            return int(input(\"Enter Pin input for gate \"+self.getLabel()+\"-->\"))\n",
    "        else:\n",
    "            return self.pin.getFrom().getOutput()\n",
    "\n",
    "    def setNextPin(self,source):\n",
    "        if self.pin == None:\n",
    "            self.pin = source\n",
    "        else:\n",
    "            print(\"Cannot Connect: NO EMPTY PINS on this gate\")\n",
    "\n",
    "\n",
    "class NotGate(UnaryGate):\n",
    "\n",
    "    def __init__(self,n):\n",
    "        UnaryGate.__init__(self,n)\n",
    "\n",
    "    def performGateLogic(self):\n",
    "        if self.getPin():\n",
    "            return 0\n",
    "        else:\n",
    "            return 1\n",
    "\n",
    "\n",
    "class Connector:\n",
    "\n",
    "    def __init__(self, fgate, tgate):\n",
    "        self.fromgate = fgate\n",
    "        self.togate = tgate\n",
    "\n",
    "        tgate.setNextPin(self)\n",
    "\n",
    "    def getFrom(self):\n",
    "        return self.fromgate\n",
    "\n",
    "    def getTo(self):\n",
    "        return self.togate"
   ]
  },
  {
   "cell_type": "code",
   "execution_count": 5,
   "metadata": {},
   "outputs": [],
   "source": [
    "def main():\n",
    "   g1 = AndGate(\"G1\")\n",
    "   g2 = AndGate(\"G2\")\n",
    "   g3 = OrGate(\"G3\")\n",
    "   g4 = NotGate(\"G4\")\n",
    "   c1 = Connector(g1,g3)\n",
    "   c2 = Connector(g2,g3)\n",
    "   c3 = Connector(g3,g4)\n",
    "   print(g4.getOutput())"
   ]
  },
  {
   "cell_type": "code",
   "execution_count": 69,
   "metadata": {},
   "outputs": [
    {
     "name": "stdout",
     "output_type": "stream",
     "text": [
      "Enter Pin A input for gate G1-->1\n",
      "Enter Pin B input for gate G1-->1\n",
      "Enter Pin A input for gate G2-->0\n",
      "Enter Pin B input for gate G2-->1\n",
      "0\n"
     ]
    }
   ],
   "source": [
    "main()"
   ]
  },
  {
   "cell_type": "code",
   "execution_count": 30,
   "metadata": {},
   "outputs": [],
   "source": [
    "class Logic:\n",
    "    def __and__(self, other):\n",
    "        return lambda name: AndGate(name, [self, other])\n",
    "        \n",
    "    def __or__(self, other):\n",
    "        return lambda name: OrGate(name, [self, other])\n",
    "    \n",
    "    def __invert__(self):\n",
    "        return lambda name: NotGate(name, [self])\n",
    "\n",
    "\n",
    "class Pin(Logic):\n",
    "    def val(self, i, for_gate):\n",
    "        return int(input(f\"Enter Pin {'ABCDE'[i-1]} for gate {for_gate}: \"))\n",
    "\n",
    "\n",
    "class Gate(Logic):\n",
    "    def __init__(self, name, inputs=None):\n",
    "        self.name = name\n",
    "        if inputs is None:\n",
    "            inputs = [Pin() for _ in range(self.arity)]\n",
    "        self.inputs = inputs\n",
    "     \n",
    "    def input_vals(self):\n",
    "        return [x.val(i, self.name) for i, x in enumerate(self.inputs, 1)]\n",
    "        \n",
    "    def val(self, *args):\n",
    "        return self(*self.input_vals())\n",
    "\n",
    "        \n",
    "class AndGate(Gate):\n",
    "    arity = 2\n",
    "                         \n",
    "    def __call__(self, x, y):\n",
    "        return int(x == 1 and y == 1)\n",
    "    \n",
    "    \n",
    "class OrGate(Gate):\n",
    "    arity = 2\n",
    "                         \n",
    "    def __call__(self, x, y):\n",
    "        return int(x == 1 or y == 1)\n",
    "    \n",
    "    \n",
    "class NotGate(Gate):\n",
    "    arity = 1\n",
    "                         \n",
    "    def __call__(self, x):\n",
    "        return 1 - x"
   ]
  },
  {
   "cell_type": "code",
   "execution_count": 15,
   "metadata": {},
   "outputs": [],
   "source": [
    "g1 = AndGate(\"G1\", [Pin(), Pin()])\n",
    "g2 = AndGate(\"G2\", [Pin(), Pin()])\n",
    "g3 = OrGate(\"G3\", [g1, g2])\n",
    "g4 = NotGate(\"G4\", [g3])"
   ]
  },
  {
   "cell_type": "code",
   "execution_count": 16,
   "metadata": {},
   "outputs": [],
   "source": [
    "g1 = (Pin() & Pin())(\"g1\")\n",
    "g2 = (Pin() & Pin())(\"g2\")\n",
    "g3 = (g1 | g2)(\"g3\")\n",
    "g4 = (~g3)(\"g3\")"
   ]
  },
  {
   "cell_type": "code",
   "execution_count": 17,
   "metadata": {},
   "outputs": [],
   "source": [
    "g4 = (~((Pin() & Pin())(\"g1\") | (Pin() & Pin())(\"g2\"))(\"g3\"))(\"g4\")"
   ]
  },
  {
   "cell_type": "code",
   "execution_count": 32,
   "metadata": {},
   "outputs": [],
   "source": [
    "g1 = AndGate(\"G1\")\n",
    "g2 = AndGate(\"G2\")\n",
    "g3 = OrGate(\"G3\", [g1, g2])\n",
    "g4 = NotGate(\"G4\", [g3])"
   ]
  },
  {
   "cell_type": "code",
   "execution_count": 33,
   "metadata": {},
   "outputs": [
    {
     "name": "stdout",
     "output_type": "stream",
     "text": [
      "Enter Pin A for gate G1: 0\n",
      "Enter Pin B for gate G1: 1\n",
      "Enter Pin A for gate G2: 0\n",
      "Enter Pin B for gate G2: 1\n"
     ]
    },
    {
     "data": {
      "text/plain": [
       "1"
      ]
     },
     "execution_count": 33,
     "metadata": {},
     "output_type": "execute_result"
    }
   ],
   "source": [
    "g4.val()"
   ]
  },
  {
   "cell_type": "code",
   "execution_count": 34,
   "metadata": {},
   "outputs": [],
   "source": [
    "g4 = (~(AndGate(\"g1\") | AndGate(\"g2\"))(\"g3\"))(\"g4\")"
   ]
  },
  {
   "cell_type": "code",
   "execution_count": 19,
   "metadata": {},
   "outputs": [
    {
     "data": {
      "text/plain": [
       "1"
      ]
     },
     "execution_count": 19,
     "metadata": {},
     "output_type": "execute_result"
    }
   ],
   "source": [
    "g3(0, 1)"
   ]
  },
  {
   "cell_type": "code",
   "execution_count": 20,
   "metadata": {},
   "outputs": [
    {
     "data": {
      "text/plain": [
       "0"
      ]
     },
     "execution_count": 20,
     "metadata": {},
     "output_type": "execute_result"
    }
   ],
   "source": [
    "g3(0, 0)"
   ]
  },
  {
   "cell_type": "code",
   "execution_count": null,
   "metadata": {},
   "outputs": [],
   "source": []
  }
 ],
 "metadata": {
  "kernelspec": {
   "display_name": "Python 3",
   "language": "python",
   "name": "python3"
  },
  "language_info": {
   "codemirror_mode": {
    "name": "ipython",
    "version": 3
   },
   "file_extension": ".py",
   "mimetype": "text/x-python",
   "name": "python",
   "nbconvert_exporter": "python",
   "pygments_lexer": "ipython3",
   "version": "3.7.6"
  }
 },
 "nbformat": 4,
 "nbformat_minor": 2
}
