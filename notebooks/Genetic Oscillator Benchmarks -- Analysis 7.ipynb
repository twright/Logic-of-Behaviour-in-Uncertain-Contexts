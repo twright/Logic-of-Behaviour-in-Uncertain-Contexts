{
 "cells": [
  {
   "cell_type": "code",
   "execution_count": 1,
   "metadata": {},
   "outputs": [],
   "source": [
    "%matplotlib inline\n",
    "import pandas as pd"
   ]
  },
  {
   "cell_type": "markdown",
   "metadata": {},
   "source": [
    "## Load results"
   ]
  },
  {
   "cell_type": "code",
   "execution_count": 2,
   "metadata": {},
   "outputs": [],
   "source": [
    "series = [\n",
    "    'masked',\n",
    "    'unmasked',\n",
    "    'masked_reversed',\n",
    "    'unmasked_reversed',\n",
    "]\n",
    "series = [\n",
    "    'masked',\n",
    "    'masked_no_symbolic',\n",
    "    'masked_no_symbolic_no_selective',\n",
    "    'masked_no_selective',\n",
    "    'masked_symbolic_low_order',\n",
    "    'unmasked',\n",
    "    'unmasked_no_symbolic',\n",
    "    # 'masked_reversed',\n",
    "    'unmasked_reversed',\n",
    "]\n",
    "series_names = series\n",
    "# series_names = [\n",
    "#     'Masked',\n",
    "#     'Unmasked',\n",
    "#     'Masked R',\n",
    "#     'Unmasked R',\n",
    "# ]\n",
    "total_timess = {\n",
    "   s: pd.read_csv(f'data/analysis_new_property_2_raw_{s}0.csv')\n",
    "   for s in series \n",
    "}"
   ]
  },
  {
   "cell_type": "markdown",
   "metadata": {},
   "source": [
    "## Raw results"
   ]
  },
  {
   "cell_type": "code",
   "execution_count": 3,
   "metadata": {},
   "outputs": [],
   "source": [
    "from ipywidgets import interact"
   ]
  },
  {
   "cell_type": "code",
   "execution_count": 4,
   "metadata": {
    "scrolled": true
   },
   "outputs": [
    {
     "data": {
      "application/vnd.jupyter.widget-view+json": {
       "model_id": "67005bdd1fe745db83e6b3821ba54a7b",
       "version_major": 2,
       "version_minor": 0
      },
      "text/plain": [
       "interactive(children=(Dropdown(description='series', options=('masked', 'masked_no_symbolic', 'masked_no_symbo…"
      ]
     },
     "metadata": {},
     "output_type": "display_data"
    }
   ],
   "source": [
    "@interact\n",
    "def _(series=series):\n",
    "    return total_timess[series]"
   ]
  },
  {
   "cell_type": "markdown",
   "metadata": {},
   "source": [
    "## Comparison"
   ]
  },
  {
   "cell_type": "code",
   "execution_count": 5,
   "metadata": {},
   "outputs": [
    {
     "data": {
      "text/html": [
       "<div>\n",
       "<style scoped>\n",
       "    .dataframe tbody tr th:only-of-type {\n",
       "        vertical-align: middle;\n",
       "    }\n",
       "\n",
       "    .dataframe tbody tr th {\n",
       "        vertical-align: top;\n",
       "    }\n",
       "\n",
       "    .dataframe thead th {\n",
       "        text-align: right;\n",
       "    }\n",
       "</style>\n",
       "<table border=\"1\" class=\"dataframe\">\n",
       "  <thead>\n",
       "    <tr style=\"text-align: right;\">\n",
       "      <th></th>\n",
       "      <th>masked</th>\n",
       "      <th>masked_no_symbolic</th>\n",
       "      <th>masked_no_symbolic_no_selective</th>\n",
       "      <th>masked_no_selective</th>\n",
       "      <th>masked_symbolic_low_order</th>\n",
       "      <th>unmasked</th>\n",
       "      <th>unmasked_no_symbolic</th>\n",
       "      <th>unmasked_reversed</th>\n",
       "    </tr>\n",
       "  </thead>\n",
       "  <tbody>\n",
       "    <tr>\n",
       "      <th>Flow*</th>\n",
       "      <td>81.213639</td>\n",
       "      <td>80.129386</td>\n",
       "      <td>80.541870</td>\n",
       "      <td>81.520876</td>\n",
       "      <td>81.078617</td>\n",
       "      <td>81.510925</td>\n",
       "      <td>80.460656</td>\n",
       "      <td>81.416929</td>\n",
       "    </tr>\n",
       "    <tr>\n",
       "      <th>P</th>\n",
       "      <td>4.205520</td>\n",
       "      <td>7.359039</td>\n",
       "      <td>11.364032</td>\n",
       "      <td>9.580814</td>\n",
       "      <td>4.129417</td>\n",
       "      <td>13.780688</td>\n",
       "      <td>17.674069</td>\n",
       "      <td>13.595848</td>\n",
       "    </tr>\n",
       "    <tr>\n",
       "      <th>Q</th>\n",
       "      <td>52.319785</td>\n",
       "      <td>16.465557</td>\n",
       "      <td>18.692839</td>\n",
       "      <td>41.018942</td>\n",
       "      <td>20.856542</td>\n",
       "      <td>188.273943</td>\n",
       "      <td>56.042079</td>\n",
       "      <td>199.301698</td>\n",
       "    </tr>\n",
       "    <tr>\n",
       "      <th>P | F(Q)</th>\n",
       "      <td>113.279619</td>\n",
       "      <td>47.877284</td>\n",
       "      <td>60.349096</td>\n",
       "      <td>101.432762</td>\n",
       "      <td>50.205299</td>\n",
       "      <td>404.349202</td>\n",
       "      <td>147.651801</td>\n",
       "      <td>426.027369</td>\n",
       "    </tr>\n",
       "    <tr>\n",
       "      <th>tentative eval</th>\n",
       "      <td>0.588947</td>\n",
       "      <td>0.579161</td>\n",
       "      <td>0.583094</td>\n",
       "      <td>0.614252</td>\n",
       "      <td>1.775768</td>\n",
       "      <td>3.106601</td>\n",
       "      <td>3.037551</td>\n",
       "      <td>3.104662</td>\n",
       "    </tr>\n",
       "    <tr>\n",
       "      <th>root detection</th>\n",
       "      <td>0.011845</td>\n",
       "      <td>1.034386</td>\n",
       "      <td>1.194548</td>\n",
       "      <td>0.007584</td>\n",
       "      <td>0.234784</td>\n",
       "      <td>0.039815</td>\n",
       "      <td>4.164756</td>\n",
       "      <td>0.038230</td>\n",
       "    </tr>\n",
       "    <tr>\n",
       "      <th>composing flowpipe</th>\n",
       "      <td>7.830490</td>\n",
       "      <td>21.591083</td>\n",
       "      <td>27.532917</td>\n",
       "      <td>23.041716</td>\n",
       "      <td>8.855361</td>\n",
       "      <td>31.448909</td>\n",
       "      <td>64.296751</td>\n",
       "      <td>31.466062</td>\n",
       "    </tr>\n",
       "    <tr>\n",
       "      <th>composing atomic</th>\n",
       "      <td>47.460966</td>\n",
       "      <td>0.004737</td>\n",
       "      <td>0.004715</td>\n",
       "      <td>26.100791</td>\n",
       "      <td>13.693420</td>\n",
       "      <td>164.158104</td>\n",
       "      <td>0.017033</td>\n",
       "      <td>173.364218</td>\n",
       "    </tr>\n",
       "    <tr>\n",
       "      <th>Total</th>\n",
       "      <td>137.992423</td>\n",
       "      <td>104.230733</td>\n",
       "      <td>110.861127</td>\n",
       "      <td>132.382802</td>\n",
       "      <td>106.321356</td>\n",
       "      <td>283.828217</td>\n",
       "      <td>154.448045</td>\n",
       "      <td>294.571474</td>\n",
       "    </tr>\n",
       "  </tbody>\n",
       "</table>\n",
       "</div>"
      ],
      "text/plain": [
       "                        masked  masked_no_symbolic  \\\n",
       "Flow*                81.213639           80.129386   \n",
       "P                     4.205520            7.359039   \n",
       "Q                    52.319785           16.465557   \n",
       "P | F(Q)            113.279619           47.877284   \n",
       "tentative eval        0.588947            0.579161   \n",
       "root detection        0.011845            1.034386   \n",
       "composing flowpipe    7.830490           21.591083   \n",
       "composing atomic     47.460966            0.004737   \n",
       "Total               137.992423          104.230733   \n",
       "\n",
       "                    masked_no_symbolic_no_selective  masked_no_selective  \\\n",
       "Flow*                                     80.541870            81.520876   \n",
       "P                                         11.364032             9.580814   \n",
       "Q                                         18.692839            41.018942   \n",
       "P | F(Q)                                  60.349096           101.432762   \n",
       "tentative eval                             0.583094             0.614252   \n",
       "root detection                             1.194548             0.007584   \n",
       "composing flowpipe                        27.532917            23.041716   \n",
       "composing atomic                           0.004715            26.100791   \n",
       "Total                                    110.861127           132.382802   \n",
       "\n",
       "                    masked_symbolic_low_order    unmasked  \\\n",
       "Flow*                               81.078617   81.510925   \n",
       "P                                    4.129417   13.780688   \n",
       "Q                                   20.856542  188.273943   \n",
       "P | F(Q)                            50.205299  404.349202   \n",
       "tentative eval                       1.775768    3.106601   \n",
       "root detection                       0.234784    0.039815   \n",
       "composing flowpipe                   8.855361   31.448909   \n",
       "composing atomic                    13.693420  164.158104   \n",
       "Total                              106.321356  283.828217   \n",
       "\n",
       "                    unmasked_no_symbolic  unmasked_reversed  \n",
       "Flow*                          80.460656          81.416929  \n",
       "P                              17.674069          13.595848  \n",
       "Q                              56.042079         199.301698  \n",
       "P | F(Q)                      147.651801         426.027369  \n",
       "tentative eval                  3.037551           3.104662  \n",
       "root detection                  4.164756           0.038230  \n",
       "composing flowpipe             64.296751          31.466062  \n",
       "composing atomic                0.017033         173.364218  \n",
       "Total                         154.448045         294.571474  "
      ]
     },
     "execution_count": 5,
     "metadata": {},
     "output_type": "execute_result"
    }
   ],
   "source": [
    "comparison = pd.DataFrame({\n",
    "    s: total_times.mean()\n",
    "    for s, total_times in total_timess.items()\n",
    "})\n",
    "comparison.columns = series_names\n",
    "comparison"
   ]
  },
  {
   "cell_type": "code",
   "execution_count": 6,
   "metadata": {},
   "outputs": [],
   "source": [
    "comparison.to_csv(\"data/comparison7.csv\")"
   ]
  },
  {
   "cell_type": "code",
   "execution_count": 7,
   "metadata": {},
   "outputs": [
    {
     "data": {
      "text/html": [
       "<div>\n",
       "<style scoped>\n",
       "    .dataframe tbody tr th:only-of-type {\n",
       "        vertical-align: middle;\n",
       "    }\n",
       "\n",
       "    .dataframe tbody tr th {\n",
       "        vertical-align: top;\n",
       "    }\n",
       "\n",
       "    .dataframe thead th {\n",
       "        text-align: right;\n",
       "    }\n",
       "</style>\n",
       "<table border=\"1\" class=\"dataframe\">\n",
       "  <thead>\n",
       "    <tr style=\"text-align: right;\">\n",
       "      <th></th>\n",
       "      <th>masked</th>\n",
       "      <th>masked_no_symbolic</th>\n",
       "      <th>masked_no_symbolic_no_selective</th>\n",
       "      <th>masked_no_selective</th>\n",
       "      <th>masked_symbolic_low_order</th>\n",
       "      <th>unmasked</th>\n",
       "      <th>unmasked_no_symbolic</th>\n",
       "      <th>unmasked_reversed</th>\n",
       "    </tr>\n",
       "  </thead>\n",
       "  <tbody>\n",
       "    <tr>\n",
       "      <th>Flow*</th>\n",
       "      <td>1.442609</td>\n",
       "      <td>1.074597</td>\n",
       "      <td>0.878498</td>\n",
       "      <td>1.094016</td>\n",
       "      <td>1.498634</td>\n",
       "      <td>1.135371</td>\n",
       "      <td>1.279949</td>\n",
       "      <td>1.580568</td>\n",
       "    </tr>\n",
       "    <tr>\n",
       "      <th>P</th>\n",
       "      <td>0.149949</td>\n",
       "      <td>0.485812</td>\n",
       "      <td>0.803159</td>\n",
       "      <td>0.334052</td>\n",
       "      <td>0.175493</td>\n",
       "      <td>0.598640</td>\n",
       "      <td>3.023664</td>\n",
       "      <td>0.712081</td>\n",
       "    </tr>\n",
       "    <tr>\n",
       "      <th>Q</th>\n",
       "      <td>3.853776</td>\n",
       "      <td>5.271374</td>\n",
       "      <td>1.866498</td>\n",
       "      <td>2.555068</td>\n",
       "      <td>0.711195</td>\n",
       "      <td>13.179838</td>\n",
       "      <td>2.846077</td>\n",
       "      <td>24.550582</td>\n",
       "    </tr>\n",
       "    <tr>\n",
       "      <th>P | F(Q)</th>\n",
       "      <td>7.700453</td>\n",
       "      <td>10.563644</td>\n",
       "      <td>4.387040</td>\n",
       "      <td>5.303063</td>\n",
       "      <td>1.420088</td>\n",
       "      <td>26.384438</td>\n",
       "      <td>9.211308</td>\n",
       "      <td>49.638005</td>\n",
       "    </tr>\n",
       "    <tr>\n",
       "      <th>tentative eval</th>\n",
       "      <td>0.047230</td>\n",
       "      <td>0.078604</td>\n",
       "      <td>0.091610</td>\n",
       "      <td>0.064315</td>\n",
       "      <td>0.089650</td>\n",
       "      <td>0.167506</td>\n",
       "      <td>0.157816</td>\n",
       "      <td>0.188989</td>\n",
       "    </tr>\n",
       "    <tr>\n",
       "      <th>root detection</th>\n",
       "      <td>0.004555</td>\n",
       "      <td>0.249910</td>\n",
       "      <td>0.060381</td>\n",
       "      <td>0.003798</td>\n",
       "      <td>0.013359</td>\n",
       "      <td>0.007385</td>\n",
       "      <td>0.211980</td>\n",
       "      <td>0.006893</td>\n",
       "    </tr>\n",
       "    <tr>\n",
       "      <th>composing flowpipe</th>\n",
       "      <td>0.186997</td>\n",
       "      <td>4.961515</td>\n",
       "      <td>2.118385</td>\n",
       "      <td>1.007282</td>\n",
       "      <td>0.193410</td>\n",
       "      <td>0.550715</td>\n",
       "      <td>4.246519</td>\n",
       "      <td>1.350649</td>\n",
       "    </tr>\n",
       "    <tr>\n",
       "      <th>composing atomic</th>\n",
       "      <td>3.778058</td>\n",
       "      <td>0.000452</td>\n",
       "      <td>0.000393</td>\n",
       "      <td>1.652737</td>\n",
       "      <td>0.535658</td>\n",
       "      <td>9.702473</td>\n",
       "      <td>0.000868</td>\n",
       "      <td>19.475412</td>\n",
       "    </tr>\n",
       "    <tr>\n",
       "      <th>Total</th>\n",
       "      <td>4.215470</td>\n",
       "      <td>5.532708</td>\n",
       "      <td>2.162584</td>\n",
       "      <td>2.868655</td>\n",
       "      <td>1.848289</td>\n",
       "      <td>12.956126</td>\n",
       "      <td>4.812720</td>\n",
       "      <td>25.487246</td>\n",
       "    </tr>\n",
       "  </tbody>\n",
       "</table>\n",
       "</div>"
      ],
      "text/plain": [
       "                      masked  masked_no_symbolic  \\\n",
       "Flow*               1.442609            1.074597   \n",
       "P                   0.149949            0.485812   \n",
       "Q                   3.853776            5.271374   \n",
       "P | F(Q)            7.700453           10.563644   \n",
       "tentative eval      0.047230            0.078604   \n",
       "root detection      0.004555            0.249910   \n",
       "composing flowpipe  0.186997            4.961515   \n",
       "composing atomic    3.778058            0.000452   \n",
       "Total               4.215470            5.532708   \n",
       "\n",
       "                    masked_no_symbolic_no_selective  masked_no_selective  \\\n",
       "Flow*                                      0.878498             1.094016   \n",
       "P                                          0.803159             0.334052   \n",
       "Q                                          1.866498             2.555068   \n",
       "P | F(Q)                                   4.387040             5.303063   \n",
       "tentative eval                             0.091610             0.064315   \n",
       "root detection                             0.060381             0.003798   \n",
       "composing flowpipe                         2.118385             1.007282   \n",
       "composing atomic                           0.000393             1.652737   \n",
       "Total                                      2.162584             2.868655   \n",
       "\n",
       "                    masked_symbolic_low_order   unmasked  \\\n",
       "Flow*                                1.498634   1.135371   \n",
       "P                                    0.175493   0.598640   \n",
       "Q                                    0.711195  13.179838   \n",
       "P | F(Q)                             1.420088  26.384438   \n",
       "tentative eval                       0.089650   0.167506   \n",
       "root detection                       0.013359   0.007385   \n",
       "composing flowpipe                   0.193410   0.550715   \n",
       "composing atomic                     0.535658   9.702473   \n",
       "Total                                1.848289  12.956126   \n",
       "\n",
       "                    unmasked_no_symbolic  unmasked_reversed  \n",
       "Flow*                           1.279949           1.580568  \n",
       "P                               3.023664           0.712081  \n",
       "Q                               2.846077          24.550582  \n",
       "P | F(Q)                        9.211308          49.638005  \n",
       "tentative eval                  0.157816           0.188989  \n",
       "root detection                  0.211980           0.006893  \n",
       "composing flowpipe              4.246519           1.350649  \n",
       "composing atomic                0.000868          19.475412  \n",
       "Total                           4.812720          25.487246  "
      ]
     },
     "execution_count": 7,
     "metadata": {},
     "output_type": "execute_result"
    }
   ],
   "source": [
    "comparison_stds = pd.DataFrame({\n",
    "    s: total_times.std()\n",
    "    for s, total_times in total_timess.items()\n",
    "})\n",
    "comparison_stds.columns = series_names\n",
    "comparison_stds"
   ]
  },
  {
   "cell_type": "code",
   "execution_count": 8,
   "metadata": {},
   "outputs": [
    {
     "data": {
      "text/html": [
       "<div>\n",
       "<style scoped>\n",
       "    .dataframe tbody tr th:only-of-type {\n",
       "        vertical-align: middle;\n",
       "    }\n",
       "\n",
       "    .dataframe tbody tr th {\n",
       "        vertical-align: top;\n",
       "    }\n",
       "\n",
       "    .dataframe thead th {\n",
       "        text-align: right;\n",
       "    }\n",
       "</style>\n",
       "<table border=\"1\" class=\"dataframe\">\n",
       "  <thead>\n",
       "    <tr style=\"text-align: right;\">\n",
       "      <th></th>\n",
       "      <th>P</th>\n",
       "      <th>Q</th>\n",
       "    </tr>\n",
       "  </thead>\n",
       "  <tbody>\n",
       "    <tr>\n",
       "      <th>masked</th>\n",
       "      <td>4.205520</td>\n",
       "      <td>52.319785</td>\n",
       "    </tr>\n",
       "    <tr>\n",
       "      <th>masked_no_symbolic</th>\n",
       "      <td>7.359039</td>\n",
       "      <td>16.465557</td>\n",
       "    </tr>\n",
       "    <tr>\n",
       "      <th>masked_no_symbolic_no_selective</th>\n",
       "      <td>11.364032</td>\n",
       "      <td>18.692839</td>\n",
       "    </tr>\n",
       "    <tr>\n",
       "      <th>masked_no_selective</th>\n",
       "      <td>9.580814</td>\n",
       "      <td>41.018942</td>\n",
       "    </tr>\n",
       "    <tr>\n",
       "      <th>masked_symbolic_low_order</th>\n",
       "      <td>4.129417</td>\n",
       "      <td>20.856542</td>\n",
       "    </tr>\n",
       "    <tr>\n",
       "      <th>unmasked</th>\n",
       "      <td>13.780688</td>\n",
       "      <td>188.273943</td>\n",
       "    </tr>\n",
       "    <tr>\n",
       "      <th>unmasked_no_symbolic</th>\n",
       "      <td>17.674069</td>\n",
       "      <td>56.042079</td>\n",
       "    </tr>\n",
       "    <tr>\n",
       "      <th>unmasked_reversed</th>\n",
       "      <td>13.595848</td>\n",
       "      <td>199.301698</td>\n",
       "    </tr>\n",
       "  </tbody>\n",
       "</table>\n",
       "</div>"
      ],
      "text/plain": [
       "                                         P           Q\n",
       "masked                            4.205520   52.319785\n",
       "masked_no_symbolic                7.359039   16.465557\n",
       "masked_no_symbolic_no_selective  11.364032   18.692839\n",
       "masked_no_selective               9.580814   41.018942\n",
       "masked_symbolic_low_order         4.129417   20.856542\n",
       "unmasked                         13.780688  188.273943\n",
       "unmasked_no_symbolic             17.674069   56.042079\n",
       "unmasked_reversed                13.595848  199.301698"
      ]
     },
     "execution_count": 8,
     "metadata": {},
     "output_type": "execute_result"
    }
   ],
   "source": [
    "comparison2 = comparison.loc[['P', 'Q'],:].transpose()\n",
    "comparison2"
   ]
  },
  {
   "cell_type": "code",
   "execution_count": 9,
   "metadata": {},
   "outputs": [
    {
     "data": {
      "text/plain": [
       "<matplotlib.axes._subplots.AxesSubplot at 0x7f77ce266f40>"
      ]
     },
     "execution_count": 9,
     "metadata": {},
     "output_type": "execute_result"
    },
    {
     "data": {
      "image/png": "[encoded data removed]",
      "text/plain": [
       "<Figure size 432x288 with 1 Axes>"
      ]
     },
     "metadata": {
      "needs_background": "light"
     },
     "output_type": "display_data"
    }
   ],
   "source": [
    "p = comparison2.plot(kind='barh', stacked=True, grid=False)\n",
    "p"
   ]
  },
  {
   "cell_type": "code",
   "execution_count": 10,
   "metadata": {},
   "outputs": [],
   "source": [
    "p.get_figure().savefig('images/comparison-analysis7-bar-chart-1.pdf')"
   ]
  },
  {
   "cell_type": "code",
   "execution_count": 11,
   "metadata": {},
   "outputs": [
    {
     "data": {
      "text/plain": [
       "<matplotlib.axes._subplots.AxesSubplot at 0x7f77cbfd23d0>"
      ]
     },
     "execution_count": 11,
     "metadata": {},
     "output_type": "execute_result"
    },
    {
     "data": {
      "image/png": "[encoded data removed]",
      "text/plain": [
       "<Figure size 432x288 with 1 Axes>"
      ]
     },
     "metadata": {
      "needs_background": "light"
     },
     "output_type": "display_data"
    }
   ],
   "source": [
    "comparison3 = comparison.loc[['P | F(Q)'],:].transpose()\n",
    "comparison3.plot(kind='barh')"
   ]
  },
  {
   "cell_type": "code",
   "execution_count": 12,
   "metadata": {},
   "outputs": [
    {
     "data": {
      "text/html": [
       "<div>\n",
       "<style scoped>\n",
       "    .dataframe tbody tr th:only-of-type {\n",
       "        vertical-align: middle;\n",
       "    }\n",
       "\n",
       "    .dataframe tbody tr th {\n",
       "        vertical-align: top;\n",
       "    }\n",
       "\n",
       "    .dataframe thead th {\n",
       "        text-align: right;\n",
       "    }\n",
       "</style>\n",
       "<table border=\"1\" class=\"dataframe\">\n",
       "  <thead>\n",
       "    <tr style=\"text-align: right;\">\n",
       "      <th></th>\n",
       "      <th>Flow*</th>\n",
       "      <th>P</th>\n",
       "      <th>Q</th>\n",
       "    </tr>\n",
       "  </thead>\n",
       "  <tbody>\n",
       "    <tr>\n",
       "      <th>masked</th>\n",
       "      <td>81.213639</td>\n",
       "      <td>4.205520</td>\n",
       "      <td>52.319785</td>\n",
       "    </tr>\n",
       "    <tr>\n",
       "      <th>masked_no_symbolic</th>\n",
       "      <td>80.129386</td>\n",
       "      <td>7.359039</td>\n",
       "      <td>16.465557</td>\n",
       "    </tr>\n",
       "    <tr>\n",
       "      <th>masked_no_symbolic_no_selective</th>\n",
       "      <td>80.541870</td>\n",
       "      <td>11.364032</td>\n",
       "      <td>18.692839</td>\n",
       "    </tr>\n",
       "    <tr>\n",
       "      <th>masked_no_selective</th>\n",
       "      <td>81.520876</td>\n",
       "      <td>9.580814</td>\n",
       "      <td>41.018942</td>\n",
       "    </tr>\n",
       "    <tr>\n",
       "      <th>masked_symbolic_low_order</th>\n",
       "      <td>81.078617</td>\n",
       "      <td>4.129417</td>\n",
       "      <td>20.856542</td>\n",
       "    </tr>\n",
       "    <tr>\n",
       "      <th>unmasked</th>\n",
       "      <td>81.510925</td>\n",
       "      <td>13.780688</td>\n",
       "      <td>188.273943</td>\n",
       "    </tr>\n",
       "    <tr>\n",
       "      <th>unmasked_no_symbolic</th>\n",
       "      <td>80.460656</td>\n",
       "      <td>17.674069</td>\n",
       "      <td>56.042079</td>\n",
       "    </tr>\n",
       "    <tr>\n",
       "      <th>unmasked_reversed</th>\n",
       "      <td>81.416929</td>\n",
       "      <td>13.595848</td>\n",
       "      <td>199.301698</td>\n",
       "    </tr>\n",
       "  </tbody>\n",
       "</table>\n",
       "</div>"
      ],
      "text/plain": [
       "                                     Flow*          P           Q\n",
       "masked                           81.213639   4.205520   52.319785\n",
       "masked_no_symbolic               80.129386   7.359039   16.465557\n",
       "masked_no_symbolic_no_selective  80.541870  11.364032   18.692839\n",
       "masked_no_selective              81.520876   9.580814   41.018942\n",
       "masked_symbolic_low_order        81.078617   4.129417   20.856542\n",
       "unmasked                         81.510925  13.780688  188.273943\n",
       "unmasked_no_symbolic             80.460656  17.674069   56.042079\n",
       "unmasked_reversed                81.416929  13.595848  199.301698"
      ]
     },
     "execution_count": 12,
     "metadata": {},
     "output_type": "execute_result"
    }
   ],
   "source": [
    "comparison4 = comparison.loc[['Flow*', 'P', 'Q'],:].transpose()\n",
    "comparison4"
   ]
  },
  {
   "cell_type": "code",
   "execution_count": 13,
   "metadata": {},
   "outputs": [
    {
     "data": {
      "text/plain": [
       "<matplotlib.axes._subplots.AxesSubplot at 0x7f77cbf3d4f0>"
      ]
     },
     "execution_count": 13,
     "metadata": {},
     "output_type": "execute_result"
    },
    {
     "data": {
      "image/png": "[encoded data removed]",
      "text/plain": [
       "<Figure size 432x288 with 1 Axes>"
      ]
     },
     "metadata": {
      "needs_background": "light"
     },
     "output_type": "display_data"
    }
   ],
   "source": [
    "p = comparison4.plot(kind='barh', stacked=True, grid=False)\n",
    "p"
   ]
  },
  {
   "cell_type": "code",
   "execution_count": 14,
   "metadata": {},
   "outputs": [],
   "source": [
    "p.get_figure().savefig('images/comparison-analysis7-bar-chart-2.pdf')"
   ]
  },
  {
   "cell_type": "code",
   "execution_count": 15,
   "metadata": {},
   "outputs": [],
   "source": [
    "comparison5 = comparison4.copy()"
   ]
  },
  {
   "cell_type": "code",
   "execution_count": 16,
   "metadata": {},
   "outputs": [
    {
     "data": {
      "text/plain": [
       "masked                             0.253480\n",
       "masked_no_symbolic                 0.276752\n",
       "masked_no_symbolic_no_selective    0.262386\n",
       "masked_no_selective                0.262168\n",
       "masked_symbolic_low_order          0.256781\n",
       "unmasked                           0.262661\n",
       "unmasked_no_symbolic               0.271241\n",
       "unmasked_reversed                  0.256998\n",
       "dtype: float64"
      ]
     },
     "execution_count": 16,
     "metadata": {},
     "output_type": "execute_result"
    }
   ],
   "source": [
    "rem = comparison.loc['Total', :] - comparison4.sum(axis=1)\n",
    "rem"
   ]
  },
  {
   "cell_type": "code",
   "execution_count": 17,
   "metadata": {},
   "outputs": [],
   "source": [
    "comparison5.loc[:,'Remainder'] = rem"
   ]
  },
  {
   "cell_type": "code",
   "execution_count": 19,
   "metadata": {},
   "outputs": [
    {
     "data": {
      "text/html": [
       "<div>\n",
       "<style scoped>\n",
       "    .dataframe tbody tr th:only-of-type {\n",
       "        vertical-align: middle;\n",
       "    }\n",
       "\n",
       "    .dataframe tbody tr th {\n",
       "        vertical-align: top;\n",
       "    }\n",
       "\n",
       "    .dataframe thead th {\n",
       "        text-align: right;\n",
       "    }\n",
       "</style>\n",
       "<table border=\"1\" class=\"dataframe\">\n",
       "  <thead>\n",
       "    <tr style=\"text-align: right;\">\n",
       "      <th></th>\n",
       "      <th>Flow*</th>\n",
       "      <th>P</th>\n",
       "      <th>Q</th>\n",
       "      <th>Remainder</th>\n",
       "    </tr>\n",
       "  </thead>\n",
       "  <tbody>\n",
       "    <tr>\n",
       "      <th>masked</th>\n",
       "      <td>81.213639</td>\n",
       "      <td>4.205520</td>\n",
       "      <td>52.319785</td>\n",
       "      <td>0.253480</td>\n",
       "    </tr>\n",
       "    <tr>\n",
       "      <th>masked_no_symbolic</th>\n",
       "      <td>80.129386</td>\n",
       "      <td>7.359039</td>\n",
       "      <td>16.465557</td>\n",
       "      <td>0.276752</td>\n",
       "    </tr>\n",
       "    <tr>\n",
       "      <th>masked_no_symbolic_no_selective</th>\n",
       "      <td>80.541870</td>\n",
       "      <td>11.364032</td>\n",
       "      <td>18.692839</td>\n",
       "      <td>0.262386</td>\n",
       "    </tr>\n",
       "    <tr>\n",
       "      <th>masked_no_selective</th>\n",
       "      <td>81.520876</td>\n",
       "      <td>9.580814</td>\n",
       "      <td>41.018942</td>\n",
       "      <td>0.262168</td>\n",
       "    </tr>\n",
       "    <tr>\n",
       "      <th>masked_symbolic_low_order</th>\n",
       "      <td>81.078617</td>\n",
       "      <td>4.129417</td>\n",
       "      <td>20.856542</td>\n",
       "      <td>0.256781</td>\n",
       "    </tr>\n",
       "    <tr>\n",
       "      <th>unmasked</th>\n",
       "      <td>81.510925</td>\n",
       "      <td>13.780688</td>\n",
       "      <td>188.273943</td>\n",
       "      <td>0.262661</td>\n",
       "    </tr>\n",
       "    <tr>\n",
       "      <th>unmasked_no_symbolic</th>\n",
       "      <td>80.460656</td>\n",
       "      <td>17.674069</td>\n",
       "      <td>56.042079</td>\n",
       "      <td>0.271241</td>\n",
       "    </tr>\n",
       "    <tr>\n",
       "      <th>unmasked_reversed</th>\n",
       "      <td>81.416929</td>\n",
       "      <td>13.595848</td>\n",
       "      <td>199.301698</td>\n",
       "      <td>0.256998</td>\n",
       "    </tr>\n",
       "  </tbody>\n",
       "</table>\n",
       "</div>"
      ],
      "text/plain": [
       "                                     Flow*          P           Q  Remainder\n",
       "masked                           81.213639   4.205520   52.319785   0.253480\n",
       "masked_no_symbolic               80.129386   7.359039   16.465557   0.276752\n",
       "masked_no_symbolic_no_selective  80.541870  11.364032   18.692839   0.262386\n",
       "masked_no_selective              81.520876   9.580814   41.018942   0.262168\n",
       "masked_symbolic_low_order        81.078617   4.129417   20.856542   0.256781\n",
       "unmasked                         81.510925  13.780688  188.273943   0.262661\n",
       "unmasked_no_symbolic             80.460656  17.674069   56.042079   0.271241\n",
       "unmasked_reversed                81.416929  13.595848  199.301698   0.256998"
      ]
     },
     "execution_count": 19,
     "metadata": {},
     "output_type": "execute_result"
    }
   ],
   "source": [
    "comparison5"
   ]
  },
  {
   "cell_type": "code",
   "execution_count": 18,
   "metadata": {},
   "outputs": [],
   "source": [
    "comparison5.to_csv(\"data/comparison-remainder-analysis7.csv\")"
   ]
  },
  {
   "cell_type": "code",
   "execution_count": 20,
   "metadata": {},
   "outputs": [
    {
     "data": {
      "text/plain": [
       "<matplotlib.axes._subplots.AxesSubplot at 0x7f77cbe8adc0>"
      ]
     },
     "execution_count": 20,
     "metadata": {},
     "output_type": "execute_result"
    },
    {
     "data": {
      "image/png": "[encoded data removed]",
      "text/plain": [
       "<Figure size 432x288 with 1 Axes>"
      ]
     },
     "metadata": {
      "needs_background": "light"
     },
     "output_type": "display_data"
    }
   ],
   "source": [
    "comparison5.plot(kind='barh', stacked=True, grid=False)"
   ]
  },
  {
   "cell_type": "code",
   "execution_count": 21,
   "metadata": {},
   "outputs": [],
   "source": [
    "_.get_figure().savefig(\n",
    "    'images/key-comparison-analysis7-bar-chart.pdf')"
   ]
  },
  {
   "cell_type": "code",
   "execution_count": 22,
   "metadata": {},
   "outputs": [],
   "source": [
    "comparison6 = comparison.loc[['Flow*', 'P', 'Q', 'Total'], :].transpose()"
   ]
  },
  {
   "cell_type": "code",
   "execution_count": 23,
   "metadata": {},
   "outputs": [
    {
     "data": {
      "text/html": [
       "<div>\n",
       "<style scoped>\n",
       "    .dataframe tbody tr th:only-of-type {\n",
       "        vertical-align: middle;\n",
       "    }\n",
       "\n",
       "    .dataframe tbody tr th {\n",
       "        vertical-align: top;\n",
       "    }\n",
       "\n",
       "    .dataframe thead th {\n",
       "        text-align: right;\n",
       "    }\n",
       "</style>\n",
       "<table border=\"1\" class=\"dataframe\">\n",
       "  <thead>\n",
       "    <tr style=\"text-align: right;\">\n",
       "      <th></th>\n",
       "      <th>Flow*</th>\n",
       "      <th>P</th>\n",
       "      <th>Q</th>\n",
       "      <th>Total</th>\n",
       "    </tr>\n",
       "  </thead>\n",
       "  <tbody>\n",
       "    <tr>\n",
       "      <th>masked</th>\n",
       "      <td>81.213639</td>\n",
       "      <td>4.205520</td>\n",
       "      <td>52.319785</td>\n",
       "      <td>137.992423</td>\n",
       "    </tr>\n",
       "    <tr>\n",
       "      <th>masked_no_symbolic</th>\n",
       "      <td>80.129386</td>\n",
       "      <td>7.359039</td>\n",
       "      <td>16.465557</td>\n",
       "      <td>104.230733</td>\n",
       "    </tr>\n",
       "    <tr>\n",
       "      <th>masked_no_symbolic_no_selective</th>\n",
       "      <td>80.541870</td>\n",
       "      <td>11.364032</td>\n",
       "      <td>18.692839</td>\n",
       "      <td>110.861127</td>\n",
       "    </tr>\n",
       "    <tr>\n",
       "      <th>masked_no_selective</th>\n",
       "      <td>81.520876</td>\n",
       "      <td>9.580814</td>\n",
       "      <td>41.018942</td>\n",
       "      <td>132.382802</td>\n",
       "    </tr>\n",
       "    <tr>\n",
       "      <th>masked_symbolic_low_order</th>\n",
       "      <td>81.078617</td>\n",
       "      <td>4.129417</td>\n",
       "      <td>20.856542</td>\n",
       "      <td>106.321356</td>\n",
       "    </tr>\n",
       "    <tr>\n",
       "      <th>unmasked</th>\n",
       "      <td>81.510925</td>\n",
       "      <td>13.780688</td>\n",
       "      <td>188.273943</td>\n",
       "      <td>283.828217</td>\n",
       "    </tr>\n",
       "    <tr>\n",
       "      <th>unmasked_no_symbolic</th>\n",
       "      <td>80.460656</td>\n",
       "      <td>17.674069</td>\n",
       "      <td>56.042079</td>\n",
       "      <td>154.448045</td>\n",
       "    </tr>\n",
       "    <tr>\n",
       "      <th>unmasked_reversed</th>\n",
       "      <td>81.416929</td>\n",
       "      <td>13.595848</td>\n",
       "      <td>199.301698</td>\n",
       "      <td>294.571474</td>\n",
       "    </tr>\n",
       "  </tbody>\n",
       "</table>\n",
       "</div>"
      ],
      "text/plain": [
       "                                     Flow*          P           Q       Total\n",
       "masked                           81.213639   4.205520   52.319785  137.992423\n",
       "masked_no_symbolic               80.129386   7.359039   16.465557  104.230733\n",
       "masked_no_symbolic_no_selective  80.541870  11.364032   18.692839  110.861127\n",
       "masked_no_selective              81.520876   9.580814   41.018942  132.382802\n",
       "masked_symbolic_low_order        81.078617   4.129417   20.856542  106.321356\n",
       "unmasked                         81.510925  13.780688  188.273943  283.828217\n",
       "unmasked_no_symbolic             80.460656  17.674069   56.042079  154.448045\n",
       "unmasked_reversed                81.416929  13.595848  199.301698  294.571474"
      ]
     },
     "execution_count": 23,
     "metadata": {},
     "output_type": "execute_result"
    }
   ],
   "source": [
    "comparison6"
   ]
  },
  {
   "cell_type": "code",
   "execution_count": 24,
   "metadata": {},
   "outputs": [],
   "source": [
    "comparison6.to_csv('data/key-comparison-analysis-7.csv')"
   ]
  },
  {
   "cell_type": "code",
   "execution_count": 25,
   "metadata": {},
   "outputs": [
    {
     "data": {
      "text/plain": [
       "P | F(Q)    3.569479\n",
       "dtype: float64"
      ]
     },
     "execution_count": 25,
     "metadata": {},
     "output_type": "execute_result"
    }
   ],
   "source": [
    "comparison3.loc['unmasked',:] / comparison3.loc['masked',:]"
   ]
  },
  {
   "cell_type": "code",
   "execution_count": 26,
   "metadata": {},
   "outputs": [
    {
     "data": {
      "text/plain": [
       "P | F(Q)    3.083964\n",
       "dtype: float64"
      ]
     },
     "execution_count": 26,
     "metadata": {},
     "output_type": "execute_result"
    }
   ],
   "source": [
    "comparison3.loc['unmasked_no_symbolic',:] / comparison3.loc['masked_no_symbolic',:]"
   ]
  },
  {
   "cell_type": "code",
   "execution_count": 27,
   "metadata": {},
   "outputs": [
    {
     "data": {
      "text/plain": [
       "P | F(Q)    2.366041\n",
       "dtype: float64"
      ]
     },
     "execution_count": 27,
     "metadata": {},
     "output_type": "execute_result"
    }
   ],
   "source": [
    "comparison3.loc['masked',:] / comparison3.loc['masked_no_symbolic',:]"
   ]
  },
  {
   "cell_type": "code",
   "execution_count": 28,
   "metadata": {},
   "outputs": [
    {
     "data": {
      "text/plain": [
       "P | F(Q)    2.738532\n",
       "dtype: float64"
      ]
     },
     "execution_count": 28,
     "metadata": {},
     "output_type": "execute_result"
    }
   ],
   "source": [
    "comparison3.loc['unmasked',:] / comparison3.loc['unmasked_no_symbolic',:]"
   ]
  },
  {
   "cell_type": "code",
   "execution_count": 29,
   "metadata": {},
   "outputs": [
    {
     "data": {
      "text/plain": [
       "P | F(Q)    1.048625\n",
       "dtype: float64"
      ]
     },
     "execution_count": 29,
     "metadata": {},
     "output_type": "execute_result"
    }
   ],
   "source": [
    "comparison3.loc['masked_symbolic_low_order',:] / comparison3.loc['masked_no_symbolic',:]"
   ]
  },
  {
   "cell_type": "code",
   "execution_count": null,
   "metadata": {},
   "outputs": [],
   "source": []
  }
 ],
 "metadata": {
  "kernelspec": {
   "display_name": "Python 3",
   "language": "python",
   "name": "python3"
  },
  "language_info": {
   "codemirror_mode": {
    "name": "ipython",
    "version": 3
   },
   "file_extension": ".py",
   "mimetype": "text/x-python",
   "name": "python",
   "nbconvert_exporter": "python",
   "pygments_lexer": "ipython3",
   "version": "3.8.2"
  },
  "notify_time": "5"
 },
 "nbformat": 4,
 "nbformat_minor": 2
}
