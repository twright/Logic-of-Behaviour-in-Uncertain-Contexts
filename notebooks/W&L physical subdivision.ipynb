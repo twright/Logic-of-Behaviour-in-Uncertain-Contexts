{
 "nbformat": 4,
 "nbformat_minor": 2,
 "metadata": {
  "language_info": {
   "name": "python",
   "codemirror_mode": {
    "name": "ipython",
    "version": 3
   },
   "version": "3.8.2-final"
  },
  "orig_nbformat": 2,
  "file_extension": ".py",
  "mimetype": "text/x-python",
  "name": "python",
  "npconvert_exporter": "python",
  "pygments_lexer": "ipython3",
  "version": 3,
  "kernelspec": {
   "name": "python3",
   "display_name": "Python 3"
  }
 },
 "cells": [
  {
   "cell_type": "code",
   "execution_count": 14,
   "metadata": {},
   "outputs": [],
   "source": [
    "%matplotlib inline"
   ]
  },
  {
   "cell_type": "code",
   "execution_count": 3,
   "metadata": {},
   "outputs": [],
   "source": [
    "import sys\n",
    "\n",
    "sys.path.insert(0, \"/home/twright/Documents/PhD/Notebooks\")\n",
    "\n",
    "from contextlib import contextmanager\n",
    "import sys, os\n",
    "\n",
    "@contextmanager\n",
    "def suppress_stdout():\n",
    "    with open(os.devnull, \"w\") as devnull:\n",
    "        old_stdout = sys.stdout\n",
    "        sys.stdout = devnull\n",
    "        try:  \n",
    "            yield\n",
    "        finally:\n",
    "            sys.stdout = old_stdout\n",
    "            \n",
    "            \n",
    "import warnings\n",
    "            \n",
    "@contextmanager\n",
    "def suppress_warnings():\n",
    "    with warnings.catch_warnings():\n",
    "        warnings.simplefilter(\"ignore\")\n",
    "        yield"
   ]
  },
  {
   "cell_type": "code",
   "execution_count": 4,
   "metadata": {},
   "outputs": [],
   "source": [
    "from sage.all import *"
   ]
  },
  {
   "cell_type": "code",
   "execution_count": 5,
   "metadata": {},
   "outputs": [],
   "source": [
    "from flowstar.reachability import Reach\n",
    "from flowstar.poly import Poly\n",
    "from ulbc import *"
   ]
  },
  {
   "cell_type": "code",
   "execution_count": 9,
   "metadata": {},
   "outputs": [],
   "source": [
    "R, (x,y) = PolynomialRing(RIF, \"x, y\").objgens()"
   ]
  },
  {
   "cell_type": "code",
   "execution_count": 10,
   "metadata": {},
   "outputs": [],
   "source": [
    "us = [x,y]\n",
    "k=RIF(0.8); b=RIF(0.6); c=RIF(0.3); e=RIF(0.05); f=RIF(2)\n",
    "vf = vector([b*x*(RIF(1)-x) - c*x*(k-x)*y,\n",
    "            -e*y*(RIF(1)+y)+f*x*(k-x)*y])\n",
    "v0 = [RIF(0.5), RIF(2.0)]\n",
    "v1 = [RIF(0.4), RIF(2.5)]\n",
    "v2 = vector([RIF(1,1.1), RIF(4,5)])"
   ]
  },
  {
   "cell_type": "code",
   "execution_count": 15,
   "metadata": {},
   "outputs": [
    {
     "output_type": "stream",
     "name": "stdout",
     "text": "Graphics object consisting of 6 graphics primitives\n"
    }
   ],
   "source": [
    "p = streamline_plot(tuple(vf),(x,0,1.5),(y,0,8), color='grey')\\\n",
    "    + point(v0, size=100, marker='X', color='red')\\\n",
    "    + point(v1, size=100, marker='X', color='green')\\\n",
    "    + polygon([(v2[0].lower(), v2[1].lower()),\n",
    "               (v2[0].lower(), v2[1].upper()),\n",
    "               (v2[0].upper(), v2[1].upper()),\n",
    "               (v2[0].upper(), v2[1].lower())],\n",
    "              color='orange')\\\n",
    "    + region_plot((lambda x, y: (x - 1)**2 + y**2 - 0.2 < 0),\n",
    "                  (x, 0, 1.5),\n",
    "                  (y, 0, 8),\n",
    "                  incol='pink', plot_points=500, bordercol='red')\n",
    "p.set_aspect_ratio(1/6)\n",
    "p.show()"
   ]
  },
  {
   "cell_type": "code",
   "execution_count": null,
   "metadata": {},
   "outputs": [],
   "source": []
  },
  {
   "cell_type": "code",
   "execution_count": null,
   "metadata": {},
   "outputs": [],
   "source": []
  },
  {
   "cell_type": "code",
   "execution_count": null,
   "metadata": {},
   "outputs": [],
   "source": []
  }
 ]
}