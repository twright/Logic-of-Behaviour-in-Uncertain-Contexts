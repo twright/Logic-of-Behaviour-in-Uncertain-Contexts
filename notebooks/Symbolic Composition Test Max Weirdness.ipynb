{
 "cells": [
  {
   "cell_type": "markdown",
   "metadata": {
    "pycharm": {}
   },
   "source": [
    "# Tests"
   ]
  },
  {
   "cell_type": "markdown",
   "metadata": {
    "pycharm": {}
   },
   "source": [
    "## Example 1: Simple"
   ]
  },
  {
   "cell_type": "code",
   "execution_count": 2,
   "metadata": {
    "pycharm": {}
   },
   "outputs": [],
   "source": [
    "import sys\n",
    "\n",
    "sys.path.insert(0, \"/home/twright/Documents/PhD/Notebooks\")\n",
    "\n",
    "from flowstar.reachability import Reach\n",
    "from flowstar.poly import Poly\n",
    "from ulbc import *"
   ]
  },
  {
   "cell_type": "code",
   "execution_count": 3,
   "metadata": {},
   "outputs": [],
   "source": [
    "kwargs = {\n",
    "    'symbolic_composition': True,\n",
    "}"
   ]
  },
  {
   "cell_type": "code",
   "execution_count": 4,
   "metadata": {
    "pycharm": {
     "metadata": false,
     "name": "#%%\n"
    }
   },
   "outputs": [],
   "source": [
    "R.<t,x,y> = RIF[]"
   ]
  },
  {
   "cell_type": "code",
   "execution_count": 5,
   "metadata": {
    "pycharm": {}
   },
   "outputs": [
    {
     "name": "stdout",
     "output_type": "stream",
     "text": [
      "calling reach with y0 = ['[0.0000000000000000 .. 0.0000000000000000]', '[4.0000000000000000 .. 5.0000000000000000]', '[1.0000000000000000 .. 2.0000000000000000]']\n",
      "ode in polynomial ring\n",
      "crude_roots = False\n",
      "_handle_initials called!\n",
      "vars = [t, x, y]\n",
      "C = [0.0..0.0]\n",
      "C = [4.0..5.0]\n",
      "C = [1.0..2.0]\n",
      "assigning system with dimension 3\n",
      "resulting system has dimension 3\n",
      "run within tmv args\n",
      "integrationScheme = 2\n",
      "calling reach with y0 = ['[0.0000000000000000 .. 0.0000000000000000]', '[4.0000000000000000 .. 5.0000000000000000]', '[1.0000000000000000 .. 2.0000000000000000]']\n",
      "ode in polynomial ring\n",
      "crude_roots = False\n",
      "_handle_initials called!\n",
      "vars = [t, x, y]\n",
      "C = [0.0..0.0]\n",
      "C = [4.0..5.0]\n",
      "C = [1.0..2.0]\n",
      "assigning system with dimension 3\n",
      "resulting system has dimension 3\n",
      "run within tmv args\n",
      "integrationScheme = 2\n"
     ]
    }
   ],
   "source": [
    "odes = [\n",
    "    R(1),\n",
    "    -y,\n",
    "    x,\n",
    "]\n",
    "initials = [(0,0), (4,5), (1,2)]\n",
    "system = System(\n",
    "    R,\n",
    "    [t, x, y],\n",
    "    initials,\n",
    "    odes,\n",
    ")\n",
    "reach = system.reach(2*pi, step=0.1, order=10,\n",
    "              precompose_taylor_models=False,\n",
    "              symbolic_composition=False)\n",
    "reach_sc = system.reach(2*pi, step=0.1, order=10,\n",
    "              precompose_taylor_models=False,\n",
    "              symbolic_composition=True)"
   ]
  },
  {
   "cell_type": "code",
   "execution_count": 6,
   "metadata": {
    "pycharm": {}
   },
   "outputs": [],
   "source": [
    "def plot_signal(sig):\n",
    "    return sig.to_domain(RIF(0,2*pi)).plot().show(\n",
    "        ticks=[pi/2, 1], tick_formatter=pi, aspect_ratio=2/3)"
   ]
  },
  {
   "cell_type": "code",
   "execution_count": 7,
   "metadata": {
    "pycharm": {},
    "scrolled": true
   },
   "outputs": [
    {
     "data": {
      "text/plain": [
       "2"
      ]
     },
     "execution_count": 7,
     "metadata": {},
     "output_type": "execute_result"
    }
   ],
   "source": [
    "reach.res"
   ]
  },
  {
   "cell_type": "code",
   "execution_count": 32,
   "metadata": {},
   "outputs": [
    {
     "data": {
      "text/plain": [
       "Atomic(x^3*y^6 + x^5 - y^2 + y + 3)"
      ]
     },
     "execution_count": 32,
     "metadata": {},
     "output_type": "execute_result"
    }
   ],
   "source": [
    "S = Atomic(3 - y**2 + y + x**5 + x**3*y**6); S"
   ]
  },
  {
   "cell_type": "code",
   "execution_count": null,
   "metadata": {},
   "outputs": [
    {
     "name": "stdout",
     "output_type": "stream",
     "text": [
      "PolyObserver(x^3*y^6 + x^5 - y^2 + y + 3, <flowstar.reachability.Reach object at 0x7f3436c69c80>, 6*x^4*y^5 - 3*x^2*y^7 - 5*x^4*y - 2*x*y + x, symbolic_composition=False, tentative_unpreconditioning=True, mask=None)\n",
      "fprime = 6*x^4*y^5 - 3*x^2*y^7 - 5*x^4*y - 2*x*y + x\n"
     ]
    }
   ],
   "source": [
    "p1 = S.sage_plot(reach); p1"
   ]
  },
  {
   "cell_type": "code",
   "execution_count": null,
   "metadata": {},
   "outputs": [],
   "source": [
    "p2 = S.sage_plot(reach, symbolic_composition=True,\n",
    "                color=('orange', 'orange'),\n",
    "                fillcolor=('orange',)); p2"
   ]
  },
  {
   "cell_type": "code",
   "execution_count": null,
   "metadata": {},
   "outputs": [],
   "source": [
    "p1+p2"
   ]
  },
  {
   "cell_type": "code",
   "execution_count": 31,
   "metadata": {},
   "outputs": [
    {
     "name": "stdout",
     "output_type": "stream",
     "text": [
      "Precomposing Contexts: 1 items in 0.00 seconds\n",
      "calling reach with y0 = ['[0.0000000000000000 .. 0.0000000000000000]', '[4.0000000000000000 .. 5.0000000000000000]', '[1.0000000000000000 .. 2.0000000000000000]']\n",
      "ode in polynomial ring\n",
      "crude_roots = False\n",
      "_handle_initials called!\n",
      "vars = [t, x, y]\n",
      "C = [0.0..0.0]\n",
      "C = [4.0..5.0]\n",
      "C = [1.0..2.0]\n",
      "assigning system with dimension 3\n",
      "resulting system has dimension 3\n",
      "run within tmv args\n",
      "integrationScheme = 2\n",
      "Running Flow*: 1 items in 0.04 seconds\n",
      "Computed 63 flowpipes in 0.044380833103787154 sec\n",
      "PolyObserver(x^5 - y^2 + y + 3, <flowstar.reachability.Reach object at 0x7f342eff8d60>, -5*x^4*y - 2*x*y + x, symbolic_composition=False, tentative_unpreconditioning=True, mask=None)\n",
      "fprime = -5*x^4*y - 2*x*y + x\n",
      "symbolic_composition=False, tentative_unpreconditioning=True,two_pass_masks=False\n",
      "roots(space_domain=None, epsilon=1e-05, verbosity=0)\n",
      "top-level root detection: 1 items in 0.04 seconds\n",
      "roots = [[0.69570139133575736 .. 1.1000000000000008], [4.5999999999999721 .. 4.9481377302846657]]\n",
      "domain = [0.0000000000000000 .. 6.2851853071795869]\n",
      "roots = [[0.69570139133575736 .. 1.1000000000000008], \n",
      " [4.5999999999999721 .. 4.9481377302846657]]\n",
      "seg_domain = [0.0000000000000000 .. 6.2851853071795869]\n",
      "roots = [[0.69570139133575736 .. 1.1000000000000008], \n",
      " [4.5999999999999721 .. 4.9481377302846657]]\n",
      "signal given bool roots: 1 items in 0.00 seconds\n",
      "Monitoring atomic x^5 - y^2 + y + 3 > 0: 1 items in 0.04 seconds\n",
      "Monitoring Signal for x^5 - y^2 + y + 3 > 0: 1 items in 0.06 seconds\n",
      "ran \"restoring globals\" 9 times in 0.0002791881561279297\n",
      "ran \"capturing globals [on exit]\" 9 times in 0.00014257431030273438\n",
      "ran \"mask intersect check\" 63 times in 0.00016260147094726562\n",
      "ran \"tentative eval\" 63 times in 0.014744281768798828\n",
      "ran \"composing flowpipe\" 9 times in 0.00746464729309082\n",
      "ran \"whole domain eval\" 9 times in 0.0055084228515625\n",
      "ran \"post retrieve\" 9 times in 0.00012063980102539062\n",
      "ran \"root detection\" 9 times in 0.010698080062866211\n",
      "ran \"root amalgamation\" 9 times in 4.363059997558594e-05\n",
      "ran \"prepare in check\" 3 times in 2.0742416381835938e-05\n",
      "ran \"check boolean [unguarded]\" 3 times in 5.221366882324219e-05\n",
      "ran \"observer.check\" 3 times in 0.00021505355834960938\n",
      "Precomposing Contexts: 1 items in 0.00 seconds\n",
      "calling reach with y0 = ['[0.0000000000000000 .. 0.0000000000000000]', '[4.0000000000000000 .. 5.0000000000000000]', '[1.0000000000000000 .. 2.0000000000000000]']\n",
      "ode in polynomial ring\n",
      "crude_roots = False\n",
      "_handle_initials called!\n",
      "vars = [t, x, y]\n",
      "C = [0.0..0.0]\n",
      "C = [4.0..5.0]\n",
      "C = [1.0..2.0]\n",
      "assigning system with dimension 3\n",
      "resulting system has dimension 3\n",
      "run within tmv args\n",
      "integrationScheme = 2\n",
      "Running Flow*: 1 items in 0.04 seconds\n",
      "Computed 63 flowpipes in 0.04245306906523183 sec\n",
      "Deallocing CReach\n",
      "PolyObserver(x^5 - y^2 + y + 3, <flowstar.reachability.Reach object at 0x7f342eff8900>, -5*x^4*y - 2*x*y + x, symbolic_composition=True, tentative_unpreconditioning=True, mask=None)\n",
      "fprime = -5*x^4*y - 2*x*y + x\n",
      "symbolic_composition=True, tentative_unpreconditioning=True,two_pass_masks=False\n",
      "roots(space_domain=None, epsilon=1e-05, verbosity=0)\n",
      "top-level root detection: 1 items in 0.61 seconds\n",
      "roots = [[0.59999999999999953 .. 1.1000000000000008], [4.6521922616944930 .. 5.0000000000000089]]\n",
      "domain = [0.0000000000000000 .. 6.2851853071795869]\n",
      "roots = [[0.59999999999999953 .. 1.1000000000000008], \n",
      " [4.6521922616944930 .. 5.0000000000000089]]\n",
      "seg_domain = [0.0000000000000000 .. 6.2851853071795869]\n",
      "roots = [[0.59999999999999953 .. 1.1000000000000008], \n",
      " [4.6521922616944930 .. 5.0000000000000089]]\n",
      "signal given bool roots: 1 items in 0.00 seconds\n",
      "Monitoring atomic x^5 - y^2 + y + 3 > 0: 1 items in 0.61 seconds\n",
      "Monitoring Signal for x^5 - y^2 + y + 3 > 0: 1 items in 0.63 seconds\n",
      "ran \"restoring globals\" 9 times in 0.0001659393310546875\n",
      "ran \"capturing globals [on exit]\" 9 times in 0.00011134147644042969\n",
      "ran \"mask intersect check\" 63 times in 0.00014591217041015625\n",
      "ran \"tentative eval\" 63 times in 0.014192342758178711\n",
      "ran \"composing flowpipe\" 9 times in 0.00550079345703125\n",
      "ran \"whole domain eval\" 9 times in 0.0027179718017578125\n",
      "ran \"post retrieve\" 9 times in 0.5842998027801514\n",
      "ran \"root detection\" 9 times in 0.0005636215209960938\n",
      "ran \"root amalgamation\" 9 times in 3.528594970703125e-05\n",
      "ran \"prepare in check\" 3 times in 2.1696090698242188e-05\n",
      "ran \"check boolean [unguarded]\" 3 times in 4.982948303222656e-05\n",
      "ran \"observer.check\" 3 times in 0.0002028942108154297\n",
      "Deallocing CReach\n"
     ]
    },
    {
     "data": {
      "image/png": "[encoded data removed]",
      "text/plain": [
       "Graphics Array of size 2 x 1"
      ]
     },
     "execution_count": 31,
     "metadata": {},
     "output_type": "execute_result"
    }
   ],
   "source": [
    "sig1 = S.signal_for_system(system, 2*pi, symbolic_composition=False)\n",
    "sig2 = S.signal_for_system(system, 2*pi, symbolic_composition=True)\n",
    "\n",
    "graphics_array([\n",
    "    sig1.plot(),\n",
    "    sig2.plot(),\n",
    "], ncols=1)"
   ]
  },
  {
   "cell_type": "code",
   "execution_count": 20,
   "metadata": {},
   "outputs": [
    {
     "data": {
      "text/plain": [
       "Signal([0.0000000000000000 .. 6.2831853071795872], [([0.0000000000000000 .. 0.059608151095034403], True), ([0.35312852931153010 .. 2.1186147208572508], False), ([2.5000000000000022 .. 2.9583801173991474], True), ([3.2184294365198051 .. 5.4999999999999610], False), ([5.8391025229313306 .. 6.2831853071795872], True)], mask=None)"
      ]
     },
     "execution_count": 20,
     "metadata": {},
     "output_type": "execute_result"
    }
   ],
   "source": [
    "sig1"
   ]
  },
  {
   "cell_type": "code",
   "execution_count": 21,
   "metadata": {},
   "outputs": [
    {
     "data": {
      "text/plain": [
       "Signal([0.0000000000000000 .. 6.2831853071795872], [([0.0000000000000000 .. 0.059456098390765725], True), ([0.40000000000000007 .. 2.0999999999999948], False), ([2.5000000000000022 .. 2.9642242313394669], True), ([3.2439956708126866 .. 5.4999999999999610], False), ([5.9000000000000136 .. 6.2831853071795872], True)], mask=None)"
      ]
     },
     "execution_count": 21,
     "metadata": {},
     "output_type": "execute_result"
    }
   ],
   "source": [
    "sig2"
   ]
  },
  {
   "cell_type": "code",
   "execution_count": null,
   "metadata": {},
   "outputs": [],
   "source": []
  }
 ],
 "metadata": {
  "kernelspec": {
   "display_name": "SageMath 9.0",
   "language": "sage",
   "name": "sagemath"
  },
  "language_info": {
   "codemirror_mode": {
    "name": "ipython",
    "version": 3
   },
   "file_extension": ".py",
   "mimetype": "text/x-python",
   "name": "python",
   "nbconvert_exporter": "python",
   "pygments_lexer": "ipython3",
   "version": "3.8.2"
  }
 },
 "nbformat": 4,
 "nbformat_minor": 2
}
