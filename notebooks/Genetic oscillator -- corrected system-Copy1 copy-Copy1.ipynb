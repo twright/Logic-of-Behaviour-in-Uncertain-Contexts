{
 "cells": [
  {
   "cell_type": "code",
   "execution_count": 1,
   "metadata": {},
   "outputs": [],
   "source": [
    "%display latex\n",
    "from ulbc import *\n",
    "from flowstar import *\n",
    "from ulbc.bondcalculus import *"
   ]
  },
  {
   "cell_type": "code",
   "execution_count": 2,
   "metadata": {},
   "outputs": [],
   "source": [
    "R.<x1,x2,x3,x4,x5,x6,x7,x8,x9> = RIF[]"
   ]
  },
  {
   "cell_type": "code",
   "execution_count": 3,
   "metadata": {},
   "outputs": [],
   "source": [
    "y = vector([\n",
    "    10*x3 - RIF('0.1')*x1*x6,\n",
    "    100*x4 - x1*x2,\n",
    "    RIF('0.1')*x1*x6 - 50*x3,\n",
    "    x2*x6 - 100*x4,\n",
    "    5*x3 + RIF('0.5')*x1 - 10*x5,\n",
    "    50*x5 + 50*x3 + 100*x4 - x6*(RIF('0.1')*x1 + x2 + 2*x8 + 1),\n",
    "    50*x4 + RIF('0.01')*x2 - RIF('0.5')*x7,\n",
    "    RIF('0.5')*x7 - 2*x6*x8 + x9 - RIF('0.2')*x8,\n",
    "    2*x6*x8 - x9,\n",
    "])"
   ]
  },
  {
   "cell_type": "code",
   "execution_count": 4,
   "metadata": {},
   "outputs": [
    {
     "data": {
      "text/html": [
       "<html><script type=\"math/tex; mode=display\">\\newcommand{\\Bold}[1]{\\mathbf{#1}}\\left(-0.10000000000000000? x_{1} x_{6} + 10 x_{3},\\,-x_{1} x_{2} + 100 x_{4},\\,0.10000000000000000? x_{1} x_{6} - 50 x_{3},\\,x_{2} x_{6} - 100 x_{4},\\,0.50000000000000000? x_{1} + 5 x_{3} - 10 x_{5},\\,-0.10000000000000000? x_{1} x_{6} - x_{2} x_{6} - 2 x_{6} x_{8} + 50 x_{3} + 100 x_{4} + 50 x_{5} - x_{6},\\,0.01000000000000000? x_{2} + 50 x_{4} - 0.50000000000000000? x_{7},\\,-2 x_{6} x_{8} + 0.50000000000000000? x_{7} - 0.2000000000000000? x_{8} + x_{9},\\,2 x_{6} x_{8} - x_{9}\\right)</script></html>"
      ],
      "text/plain": [
       "(-0.10000000000000000?*x1*x6 + 10*x3, -x1*x2 + 100*x4, 0.10000000000000000?*x1*x6 - 50*x3, x2*x6 - 100*x4, 0.50000000000000000?*x1 + 5*x3 - 10*x5, -0.10000000000000000?*x1*x6 - x2*x6 - 2*x6*x8 + 50*x3 + 100*x4 + 50*x5 - x6, 0.01000000000000000?*x2 + 50*x4 - 0.50000000000000000?*x7, -2*x6*x8 + 0.50000000000000000?*x7 - 0.2000000000000000?*x8 + x9, 2*x6*x8 - x9)"
      ]
     },
     "execution_count": 4,
     "metadata": {},
     "output_type": "execute_result"
    }
   ],
   "source": [
    "y"
   ]
  },
  {
   "cell_type": "code",
   "execution_count": 5,
   "metadata": {},
   "outputs": [
    {
     "data": {
      "text/html": [
       "<div class=\"notruncate\">\n",
       "<table  class=\"table_form\">\n",
       "<tbody>\n",
       "<tr class =\"row-a\">\n",
       "<td><script type=\"math/tex\">-0.10000000000000000? x_{1} x_{6} + 10 x_{3}</script></td>\n",
       "</tr>\n",
       "<tr class =\"row-b\">\n",
       "<td><script type=\"math/tex\">-x_{1} x_{2} + 100 x_{4}</script></td>\n",
       "</tr>\n",
       "<tr class =\"row-a\">\n",
       "<td><script type=\"math/tex\">0.10000000000000000? x_{1} x_{6} - 50 x_{3}</script></td>\n",
       "</tr>\n",
       "<tr class =\"row-b\">\n",
       "<td><script type=\"math/tex\">x_{2} x_{6} - 100 x_{4}</script></td>\n",
       "</tr>\n",
       "<tr class =\"row-a\">\n",
       "<td><script type=\"math/tex\">0.50000000000000000? x_{1} + 5 x_{3} - 10 x_{5}</script></td>\n",
       "</tr>\n",
       "<tr class =\"row-b\">\n",
       "<td><script type=\"math/tex\">-0.10000000000000000? x_{1} x_{6} - x_{2} x_{6} - 2 x_{6} x_{8} + 50 x_{3} + 100 x_{4} + 50 x_{5} - x_{6}</script></td>\n",
       "</tr>\n",
       "<tr class =\"row-a\">\n",
       "<td><script type=\"math/tex\">0.01000000000000000? x_{2} + 50 x_{4} - 0.50000000000000000? x_{7}</script></td>\n",
       "</tr>\n",
       "<tr class =\"row-b\">\n",
       "<td><script type=\"math/tex\">-2 x_{6} x_{8} + 0.50000000000000000? x_{7} - 0.2000000000000000? x_{8} + x_{9}</script></td>\n",
       "</tr>\n",
       "<tr class =\"row-a\">\n",
       "<td><script type=\"math/tex\">2 x_{6} x_{8} - x_{9}</script></td>\n",
       "</tr>\n",
       "</tbody>\n",
       "</table>\n",
       "</div>"
      ],
      "text/plain": [
       "  -0.10000000000000000?*x1*x6 + 10*x3\n",
       "  -x1*x2 + 100*x4\n",
       "  0.10000000000000000?*x1*x6 - 50*x3\n",
       "  x2*x6 - 100*x4\n",
       "  0.50000000000000000?*x1 + 5*x3 - 10*x5\n",
       "  -0.10000000000000000?*x1*x6 - x2*x6 - 2*x6*x8 + 50*x3 + 100*x4 + 50*x5 - x6\n",
       "  0.01000000000000000?*x2 + 50*x4 - 0.50000000000000000?*x7\n",
       "  -2*x6*x8 + 0.50000000000000000?*x7 - 0.2000000000000000?*x8 + x9\n",
       "  2*x6*x8 - x9"
      ]
     },
     "execution_count": 5,
     "metadata": {},
     "output_type": "execute_result"
    }
   ],
   "source": [
    "table([[yi] for yi in y])"
   ]
  },
  {
   "cell_type": "code",
   "execution_count": 6,
   "metadata": {},
   "outputs": [],
   "source": [
    "y0 = [\n",
    "    RIF('[0.98, 1.02]'),\n",
    "    RIF('[1.28, 1.32]'),\n",
    "    RIF('[0.08, 0.12]'),\n",
    "    RIF('[0.08, 0.12]'), # x4\n",
    "    RIF('[0.08, 0.12]'),\n",
    "    RIF('[1.28, 1.32]'), # x6\n",
    "    RIF('[2.48, 2.52]'),\n",
    "    RIF('[0.58, 0.62]'),\n",
    "    RIF('[1.28, 1.32]'),\n",
    "]"
   ]
  },
  {
   "cell_type": "code",
   "execution_count": 7,
   "metadata": {},
   "outputs": [
    {
     "data": {
      "text/html": [
       "<div class=\"notruncate\">\n",
       "<table  class=\"table_form\">\n",
       "<tbody>\n",
       "<tr class =\"row-a\">\n",
       "<td><script type=\"math/tex\">0.979999999999999</script></td>\n",
       "<td><script type=\"math/tex\">1.02000000000001</script></td>\n",
       "</tr>\n",
       "<tr class =\"row-b\">\n",
       "<td><script type=\"math/tex\">1.27999999999999</script></td>\n",
       "<td><script type=\"math/tex\">1.32000000000001</script></td>\n",
       "</tr>\n",
       "<tr class =\"row-a\">\n",
       "<td><script type=\"math/tex\">0.0799999999999999</script></td>\n",
       "<td><script type=\"math/tex\">0.120000000000001</script></td>\n",
       "</tr>\n",
       "<tr class =\"row-b\">\n",
       "<td><script type=\"math/tex\">0.0799999999999999</script></td>\n",
       "<td><script type=\"math/tex\">0.120000000000001</script></td>\n",
       "</tr>\n",
       "<tr class =\"row-a\">\n",
       "<td><script type=\"math/tex\">0.0799999999999999</script></td>\n",
       "<td><script type=\"math/tex\">0.120000000000001</script></td>\n",
       "</tr>\n",
       "<tr class =\"row-b\">\n",
       "<td><script type=\"math/tex\">1.27999999999999</script></td>\n",
       "<td><script type=\"math/tex\">1.32000000000001</script></td>\n",
       "</tr>\n",
       "<tr class =\"row-a\">\n",
       "<td><script type=\"math/tex\">2.47999999999999</script></td>\n",
       "<td><script type=\"math/tex\">2.52000000000001</script></td>\n",
       "</tr>\n",
       "<tr class =\"row-b\">\n",
       "<td><script type=\"math/tex\">0.579999999999999</script></td>\n",
       "<td><script type=\"math/tex\">0.620000000000001</script></td>\n",
       "</tr>\n",
       "<tr class =\"row-a\">\n",
       "<td><script type=\"math/tex\">1.27999999999999</script></td>\n",
       "<td><script type=\"math/tex\">1.32000000000001</script></td>\n",
       "</tr>\n",
       "</tbody>\n",
       "</table>\n",
       "</div>"
      ],
      "text/plain": [
       "  0.979999999999999    1.02000000000001\n",
       "  1.27999999999999     1.32000000000001\n",
       "  0.0799999999999999   0.120000000000001\n",
       "  0.0799999999999999   0.120000000000001\n",
       "  0.0799999999999999   0.120000000000001\n",
       "  1.27999999999999     1.32000000000001\n",
       "  2.47999999999999     2.52000000000001\n",
       "  0.579999999999999    0.620000000000001\n",
       "  1.27999999999999     1.32000000000001"
      ]
     },
     "execution_count": 7,
     "metadata": {},
     "output_type": "execute_result"
    }
   ],
   "source": [
    "table([y0i.endpoints() for y0i in y0])"
   ]
  },
  {
   "cell_type": "code",
   "execution_count": 8,
   "metadata": {},
   "outputs": [
    {
     "data": {
      "text/html": [
       "<html><script type=\"math/tex; mode=display\">\\newcommand{\\Bold}[1]{\\mathbf{#1}}\\Bold{I} \\Bold{R}[x_{1}, x_{2}, x_{3}, x_{4}, x_{5}, x_{6}, x_{7}, x_{8}, x_{9}]</script></html>"
      ],
      "text/plain": [
       "Multivariate Polynomial Ring in x1, x2, x3, x4, x5, x6, x7, x8, x9 over Real Interval Field with 53 bits of precision"
      ]
     },
     "execution_count": 8,
     "metadata": {},
     "output_type": "execute_result"
    }
   ],
   "source": [
    "R"
   ]
  },
  {
   "cell_type": "code",
   "execution_count": 9,
   "metadata": {},
   "outputs": [
    {
     "data": {
      "text/html": [
       "<html><script type=\"math/tex; mode=display\">\\newcommand{\\Bold}[1]{\\mathbf{#1}}\\verb|System(R,|\\phantom{\\verb!x!}\\verb|(x1,|\\phantom{\\verb!x!}\\verb|x2,|\\phantom{\\verb!x!}\\verb|x3,|\\phantom{\\verb!x!}\\verb|x4,|\\phantom{\\verb!x!}\\verb|x5,|\\phantom{\\verb!x!}\\verb|x6,|\\phantom{\\verb!x!}\\verb|x7,|\\phantom{\\verb!x!}\\verb|x8,|\\phantom{\\verb!x!}\\verb|x9),|\\phantom{\\verb!x!}\\verb|[[0.97999999999999998|\\phantom{\\verb!x!}\\verb|..|\\phantom{\\verb!x!}\\verb|1.0200000000000001],|\\phantom{\\verb!x!}\\verb|[1.2799999999999998|\\phantom{\\verb!x!}\\verb|..|\\phantom{\\verb!x!}\\verb|1.3200000000000001],|\\phantom{\\verb!x!}\\verb|[0.079999999999999987|\\phantom{\\verb!x!}\\verb|..|\\phantom{\\verb!x!}\\verb|0.12000000000000001],|\\phantom{\\verb!x!}\\verb|[0.079999999999999987|\\phantom{\\verb!x!}\\verb|..|\\phantom{\\verb!x!}\\verb|0.12000000000000001],|\\phantom{\\verb!x!}\\verb|[0.079999999999999987|\\phantom{\\verb!x!}\\verb|..|\\phantom{\\verb!x!}\\verb|0.12000000000000001],|\\phantom{\\verb!x!}\\verb|[1.2799999999999998|\\phantom{\\verb!x!}\\verb|..|\\phantom{\\verb!x!}\\verb|1.3200000000000001],|\\phantom{\\verb!x!}\\verb|[2.4799999999999999|\\phantom{\\verb!x!}\\verb|..|\\phantom{\\verb!x!}\\verb|2.5200000000000001],|\\phantom{\\verb!x!}\\verb|[0.57999999999999996|\\phantom{\\verb!x!}\\verb|..|\\phantom{\\verb!x!}\\verb|0.62000000000000011],|\\phantom{\\verb!x!}\\verb|[1.2799999999999998|\\phantom{\\verb!x!}\\verb|..|\\phantom{\\verb!x!}\\verb|1.3200000000000001]],|\\phantom{\\verb!x!}\\verb|(-0.10000000000000000?*x1*x6|\\phantom{\\verb!x!}\\verb|+|\\phantom{\\verb!x!}\\verb|10*x3,|\\phantom{\\verb!x!}\\verb|-x1*x2|\\phantom{\\verb!x!}\\verb|+|\\phantom{\\verb!x!}\\verb|100*x4,|\\phantom{\\verb!x!}\\verb|0.10000000000000000?*x1*x6|\\phantom{\\verb!x!}\\verb|-|\\phantom{\\verb!x!}\\verb|50*x3,|\\phantom{\\verb!x!}\\verb|x2*x6|\\phantom{\\verb!x!}\\verb|-|\\phantom{\\verb!x!}\\verb|100*x4,|\\phantom{\\verb!x!}\\verb|0.50000000000000000?*x1|\\phantom{\\verb!x!}\\verb|+|\\phantom{\\verb!x!}\\verb|5*x3|\\phantom{\\verb!x!}\\verb|-|\\phantom{\\verb!x!}\\verb|10*x5,|\\phantom{\\verb!x!}\\verb|-0.10000000000000000?*x1*x6|\\phantom{\\verb!x!}\\verb|-|\\phantom{\\verb!x!}\\verb|x2*x6|\\phantom{\\verb!x!}\\verb|-|\\phantom{\\verb!x!}\\verb|2*x6*x8|\\phantom{\\verb!x!}\\verb|+|\\phantom{\\verb!x!}\\verb|50*x3|\\phantom{\\verb!x!}\\verb|+|\\phantom{\\verb!x!}\\verb|100*x4|\\phantom{\\verb!x!}\\verb|+|\\phantom{\\verb!x!}\\verb|50*x5|\\phantom{\\verb!x!}\\verb|-|\\phantom{\\verb!x!}\\verb|x6,|\\phantom{\\verb!x!}\\verb|0.01000000000000000?*x2|\\phantom{\\verb!x!}\\verb|+|\\phantom{\\verb!x!}\\verb|50*x4|\\phantom{\\verb!x!}\\verb|-|\\phantom{\\verb!x!}\\verb|0.50000000000000000?*x7,|\\phantom{\\verb!x!}\\verb|-2*x6*x8|\\phantom{\\verb!x!}\\verb|+|\\phantom{\\verb!x!}\\verb|0.50000000000000000?*x7|\\phantom{\\verb!x!}\\verb|-|\\phantom{\\verb!x!}\\verb|0.2000000000000000?*x8|\\phantom{\\verb!x!}\\verb|+|\\phantom{\\verb!x!}\\verb|x9,|\\phantom{\\verb!x!}\\verb|2*x6*x8|\\phantom{\\verb!x!}\\verb|-|\\phantom{\\verb!x!}\\verb|x9),|\\phantom{\\verb!x!}\\verb|varmap=bidict({'x1':|\\phantom{\\verb!x!}\\verb|x1,|\\phantom{\\verb!x!}\\verb|'x2':|\\phantom{\\verb!x!}\\verb|x2,|\\phantom{\\verb!x!}\\verb|'x3':|\\phantom{\\verb!x!}\\verb|x3,|\\phantom{\\verb!x!}\\verb|'x4':|\\phantom{\\verb!x!}\\verb|x4,|\\phantom{\\verb!x!}\\verb|'x5':|\\phantom{\\verb!x!}\\verb|x5,|\\phantom{\\verb!x!}\\verb|'x6':|\\phantom{\\verb!x!}\\verb|x6,|\\phantom{\\verb!x!}\\verb|'x7':|\\phantom{\\verb!x!}\\verb|x7,|\\phantom{\\verb!x!}\\verb|'x8':|\\phantom{\\verb!x!}\\verb|x8,|\\phantom{\\verb!x!}\\verb|'x9':|\\phantom{\\verb!x!}\\verb|x9}))|</script></html>"
      ],
      "text/plain": [
       "System(R, (x1, x2, x3, x4, x5, x6, x7, x8, x9), [[0.97999999999999998 .. 1.0200000000000001], [1.2799999999999998 .. 1.3200000000000001], [0.079999999999999987 .. 0.12000000000000001], [0.079999999999999987 .. 0.12000000000000001], [0.079999999999999987 .. 0.12000000000000001], [1.2799999999999998 .. 1.3200000000000001], [2.4799999999999999 .. 2.5200000000000001], [0.57999999999999996 .. 0.62000000000000011], [1.2799999999999998 .. 1.3200000000000001]], (-0.10000000000000000?*x1*x6 + 10*x3, -x1*x2 + 100*x4, 0.10000000000000000?*x1*x6 - 50*x3, x2*x6 - 100*x4, 0.50000000000000000?*x1 + 5*x3 - 10*x5, -0.10000000000000000?*x1*x6 - x2*x6 - 2*x6*x8 + 50*x3 + 100*x4 + 50*x5 - x6, 0.01000000000000000?*x2 + 50*x4 - 0.50000000000000000?*x7, -2*x6*x8 + 0.50000000000000000?*x7 - 0.2000000000000000?*x8 + x9, 2*x6*x8 - x9), varmap=bidict({'x1': x1, 'x2': x2, 'x3': x3, 'x4': x4, 'x5': x5, 'x6': x6, 'x7': x7, 'x8': x8, 'x9': x9}))"
      ]
     },
     "execution_count": 9,
     "metadata": {},
     "output_type": "execute_result"
    }
   ],
   "source": [
    "sys = System(R, R.gens(), y0, y); sys"
   ]
  },
  {
   "cell_type": "code",
   "execution_count": 10,
   "metadata": {},
   "outputs": [],
   "source": [
    "RReal = RR['x1', 'x2', 'x3', 'x4', 'x5', 'x6', 'x7', 'x8', 'x9']"
   ]
  },
  {
   "cell_type": "code",
   "execution_count": 11,
   "metadata": {},
   "outputs": [
    {
     "data": {
      "text/html": [
       "<html><script type=\"math/tex; mode=display\">\\newcommand{\\Bold}[1]{\\mathbf{#1}}0.100000000000000 x_{1} x_{6} - 50.0000000000000 x_{3}</script></html>"
      ],
      "text/plain": [
       "0.100000000000000*x1*x6 - 50.0000000000000*x3"
      ]
     },
     "execution_count": 11,
     "metadata": {},
     "output_type": "execute_result"
    }
   ],
   "source": [
    "RReal(sys.y[2])"
   ]
  },
  {
   "cell_type": "code",
   "execution_count": 12,
   "metadata": {},
   "outputs": [
    {
     "data": {
      "text/html": [
       "<html><script type=\"math/tex; mode=display\">\\newcommand{\\Bold}[1]{\\mathbf{#1}}\\verb|System(R,|\\phantom{\\verb!x!}\\verb|(x1,|\\phantom{\\verb!x!}\\verb|x2,|\\phantom{\\verb!x!}\\verb|x3,|\\phantom{\\verb!x!}\\verb|x4,|\\phantom{\\verb!x!}\\verb|x5,|\\phantom{\\verb!x!}\\verb|x6,|\\phantom{\\verb!x!}\\verb|x7,|\\phantom{\\verb!x!}\\verb|x8,|\\phantom{\\verb!x!}\\verb|x9),|\\phantom{\\verb!x!}\\verb|[1,|\\phantom{\\verb!x!}\\verb|[1.2999999999999998|\\phantom{\\verb!x!}\\verb|..|\\phantom{\\verb!x!}\\verb|1.2999999999999999],|\\phantom{\\verb!x!}\\verb|[0.10000000000000000|\\phantom{\\verb!x!}\\verb|..|\\phantom{\\verb!x!}\\verb|0.10000000000000001],|\\phantom{\\verb!x!}\\verb|[0.10000000000000000|\\phantom{\\verb!x!}\\verb|..|\\phantom{\\verb!x!}\\verb|0.10000000000000001],|\\phantom{\\verb!x!}\\verb|[0.10000000000000000|\\phantom{\\verb!x!}\\verb|..|\\phantom{\\verb!x!}\\verb|0.10000000000000001],|\\phantom{\\verb!x!}\\verb|[1.2999999999999998|\\phantom{\\verb!x!}\\verb|..|\\phantom{\\verb!x!}\\verb|1.2999999999999999],|\\phantom{\\verb!x!}\\verb|[2.5000000000000000|\\phantom{\\verb!x!}\\verb|..|\\phantom{\\verb!x!}\\verb|2.5000000000000000],|\\phantom{\\verb!x!}\\verb|[0.60000000000000008|\\phantom{\\verb!x!}\\verb|..|\\phantom{\\verb!x!}\\verb|0.60000000000000009],|\\phantom{\\verb!x!}\\verb|[1.2999999999999998|\\phantom{\\verb!x!}\\verb|..|\\phantom{\\verb!x!}\\verb|1.2999999999999999]],|\\phantom{\\verb!x!}\\verb|(-0.100000000000000*x1*x6|\\phantom{\\verb!x!}\\verb|+|\\phantom{\\verb!x!}\\verb|10.0000000000000*x3,|\\phantom{\\verb!x!}\\verb|-x1*x2|\\phantom{\\verb!x!}\\verb|+|\\phantom{\\verb!x!}\\verb|100.000000000000*x4,|\\phantom{\\verb!x!}\\verb|0.100000000000000*x1*x6|\\phantom{\\verb!x!}\\verb|-|\\phantom{\\verb!x!}\\verb|50.0000000000000*x3,|\\phantom{\\verb!x!}\\verb|x2*x6|\\phantom{\\verb!x!}\\verb|-|\\phantom{\\verb!x!}\\verb|100.000000000000*x4,|\\phantom{\\verb!x!}\\verb|0.500000000000000*x1|\\phantom{\\verb!x!}\\verb|+|\\phantom{\\verb!x!}\\verb|5.00000000000000*x3|\\phantom{\\verb!x!}\\verb|-|\\phantom{\\verb!x!}\\verb|10.0000000000000*x5,|\\phantom{\\verb!x!}\\verb|-0.100000000000000*x1*x6|\\phantom{\\verb!x!}\\verb|-|\\phantom{\\verb!x!}\\verb|x2*x6|\\phantom{\\verb!x!}\\verb|-|\\phantom{\\verb!x!}\\verb|2.00000000000000*x6*x8|\\phantom{\\verb!x!}\\verb|+|\\phantom{\\verb!x!}\\verb|50.0000000000000*x3|\\phantom{\\verb!x!}\\verb|+|\\phantom{\\verb!x!}\\verb|100.000000000000*x4|\\phantom{\\verb!x!}\\verb|+|\\phantom{\\verb!x!}\\verb|50.0000000000000*x5|\\phantom{\\verb!x!}\\verb|-|\\phantom{\\verb!x!}\\verb|x6,|\\phantom{\\verb!x!}\\verb|0.0100000000000000*x2|\\phantom{\\verb!x!}\\verb|+|\\phantom{\\verb!x!}\\verb|50.0000000000000*x4|\\phantom{\\verb!x!}\\verb|-|\\phantom{\\verb!x!}\\verb|0.500000000000000*x7,|\\phantom{\\verb!x!}\\verb|-2.00000000000000*x6*x8|\\phantom{\\verb!x!}\\verb|+|\\phantom{\\verb!x!}\\verb|0.500000000000000*x7|\\phantom{\\verb!x!}\\verb|-|\\phantom{\\verb!x!}\\verb|0.200000000000000*x8|\\phantom{\\verb!x!}\\verb|+|\\phantom{\\verb!x!}\\verb|x9,|\\phantom{\\verb!x!}\\verb|2.00000000000000*x6*x8|\\phantom{\\verb!x!}\\verb|-|\\phantom{\\verb!x!}\\verb|x9),|\\phantom{\\verb!x!}\\verb|varmap=bidict({'x1':|\\phantom{\\verb!x!}\\verb|x1,|\\phantom{\\verb!x!}\\verb|'x2':|\\phantom{\\verb!x!}\\verb|x2,|\\phantom{\\verb!x!}\\verb|'x3':|\\phantom{\\verb!x!}\\verb|x3,|\\phantom{\\verb!x!}\\verb|'x4':|\\phantom{\\verb!x!}\\verb|x4,|\\phantom{\\verb!x!}\\verb|'x5':|\\phantom{\\verb!x!}\\verb|x5,|\\phantom{\\verb!x!}\\verb|'x6':|\\phantom{\\verb!x!}\\verb|x6,|\\phantom{\\verb!x!}\\verb|'x7':|\\phantom{\\verb!x!}\\verb|x7,|\\phantom{\\verb!x!}\\verb|'x8':|\\phantom{\\verb!x!}\\verb|x8,|\\phantom{\\verb!x!}\\verb|'x9':|\\phantom{\\verb!x!}\\verb|x9}))|</script></html>"
      ],
      "text/plain": [
       "System(R, (x1, x2, x3, x4, x5, x6, x7, x8, x9), [1, [1.2999999999999998 .. 1.2999999999999999], [0.10000000000000000 .. 0.10000000000000001], [0.10000000000000000 .. 0.10000000000000001], [0.10000000000000000 .. 0.10000000000000001], [1.2999999999999998 .. 1.2999999999999999], [2.5000000000000000 .. 2.5000000000000000], [0.60000000000000008 .. 0.60000000000000009], [1.2999999999999998 .. 1.2999999999999999]], (-0.100000000000000*x1*x6 + 10.0000000000000*x3, -x1*x2 + 100.000000000000*x4, 0.100000000000000*x1*x6 - 50.0000000000000*x3, x2*x6 - 100.000000000000*x4, 0.500000000000000*x1 + 5.00000000000000*x3 - 10.0000000000000*x5, -0.100000000000000*x1*x6 - x2*x6 - 2.00000000000000*x6*x8 + 50.0000000000000*x3 + 100.000000000000*x4 + 50.0000000000000*x5 - x6, 0.0100000000000000*x2 + 50.0000000000000*x4 - 0.500000000000000*x7, -2.00000000000000*x6*x8 + 0.500000000000000*x7 - 0.200000000000000*x8 + x9, 2.00000000000000*x6*x8 - x9), varmap=bidict({'x1': x1, 'x2': x2, 'x3': x3, 'x4': x4, 'x5': x5, 'x6': x6, 'x7': x7, 'x8': x8, 'x9': x9}))"
      ]
     },
     "execution_count": 12,
     "metadata": {},
     "output_type": "execute_result"
    }
   ],
   "source": [
    "sys_real = System(\n",
    "    RReal,\n",
    "    RReal.gens(),\n",
    "    [y0i.center() for y0i in sys.y0],\n",
    "    [RReal(yi) for yi in sys.y],\n",
    ")\n",
    "sys_real"
   ]
  },
  {
   "cell_type": "code",
   "execution_count": 13,
   "metadata": {},
   "outputs": [
    {
     "data": {
      "text/html": [
       "<div class=\"notruncate\">\n",
       "<table  class=\"table_form\">\n",
       "<tbody>\n",
       "<tr class =\"row-a\">\n",
       "<td><script type=\"math/tex\">1.00000000000000</script></td>\n",
       "</tr>\n",
       "<tr class =\"row-b\">\n",
       "<td><script type=\"math/tex\">1.30000000000000</script></td>\n",
       "</tr>\n",
       "<tr class =\"row-a\">\n",
       "<td><script type=\"math/tex\">0.100000000000000</script></td>\n",
       "</tr>\n",
       "<tr class =\"row-b\">\n",
       "<td><script type=\"math/tex\">0.100000000000000</script></td>\n",
       "</tr>\n",
       "<tr class =\"row-a\">\n",
       "<td><script type=\"math/tex\">0.100000000000000</script></td>\n",
       "</tr>\n",
       "<tr class =\"row-b\">\n",
       "<td><script type=\"math/tex\">1.30000000000000</script></td>\n",
       "</tr>\n",
       "<tr class =\"row-a\">\n",
       "<td><script type=\"math/tex\">2.50000000000000</script></td>\n",
       "</tr>\n",
       "<tr class =\"row-b\">\n",
       "<td><script type=\"math/tex\">0.600000000000000</script></td>\n",
       "</tr>\n",
       "<tr class =\"row-a\">\n",
       "<td><script type=\"math/tex\">1.30000000000000</script></td>\n",
       "</tr>\n",
       "</tbody>\n",
       "</table>\n",
       "</div>"
      ],
      "text/plain": [
       "  1.00000000000000\n",
       "  1.30000000000000\n",
       "  0.100000000000000\n",
       "  0.100000000000000\n",
       "  0.100000000000000\n",
       "  1.30000000000000\n",
       "  2.50000000000000\n",
       "  0.600000000000000\n",
       "  1.30000000000000"
      ]
     },
     "execution_count": 13,
     "metadata": {},
     "output_type": "execute_result"
    }
   ],
   "source": [
    "y0_real = [y0i.center() for y0i in sys.y0]\n",
    "table([[y0i] for y0i in y0_real])"
   ]
  },
  {
   "cell_type": "code",
   "execution_count": 14,
   "metadata": {},
   "outputs": [],
   "source": [
    "timepoints = srange(0,10,0.1)"
   ]
  },
  {
   "cell_type": "code",
   "execution_count": 15,
   "metadata": {},
   "outputs": [],
   "source": [
    "sln = desolve_odeint(sys_real.y, y0_real, timepoints, list(sys_real.x))"
   ]
  },
  {
   "cell_type": "code",
   "execution_count": 16,
   "metadata": {},
   "outputs": [
    {
     "data": {
      "image/png": "[encoded data removed]",
      "text/plain": [
       "Graphics object consisting of 1 graphics primitive"
      ]
     },
     "execution_count": 16,
     "metadata": {},
     "output_type": "execute_result"
    }
   ],
   "source": [
    "points(zip(timepoints, [yi[1] for yi in sln]))"
   ]
  },
  {
   "cell_type": "code",
   "execution_count": 17,
   "metadata": {},
   "outputs": [],
   "source": [
    "from scipy.integrate import solve_ivp\n",
    "from ulbc.matricies import vec_to_numpy, mat_to_numpy, convert_vec, sympy_gens"
   ]
  },
  {
   "cell_type": "code",
   "execution_count": 18,
   "metadata": {},
   "outputs": [],
   "source": [
    "f = vec_to_numpy(RReal, sys_real.y)\n",
    "jac = mat_to_numpy(RReal, sage.jacobian(sys_real.y, sys_real.x))"
   ]
  },
  {
   "cell_type": "code",
   "execution_count": 19,
   "metadata": {},
   "outputs": [],
   "source": [
    "sln = solve_ivp(f,\n",
    "                (0, 10),\n",
    "                y0_real,\n",
    "                method='LSODA',\n",
    "                jac=jac,\n",
    "                vectorized=True,\n",
    "                dense_output=True)"
   ]
  },
  {
   "cell_type": "code",
   "execution_count": 20,
   "metadata": {},
   "outputs": [
    {
     "data": {
      "image/png": "[encoded data removed]",
      "text/plain": [
       "Graphics object consisting of 1 graphics primitive"
      ]
     },
     "execution_count": 20,
     "metadata": {},
     "output_type": "execute_result"
    }
   ],
   "source": [
    "plot(lambda t: sln.sol(t)[1], (0, 10))"
   ]
  },
  {
   "cell_type": "code",
   "execution_count": 21,
   "metadata": {
    "scrolled": false
   },
   "outputs": [
    {
     "name": "stdout",
     "output_type": "stream",
     "text": [
      "calling reach with y0 = ['[0.97999999999999998 .. 1.0200000000000001]', '[1.2799999999999998 .. 1.3200000000000001]', '[0.079999999999999987 .. 0.12000000000000001]', '[0.079999999999999987 .. 0.12000000000000001]', '[0.079999999999999987 .. 0.12000000000000001]', '[1.2799999999999998 .. 1.3200000000000001]', '[2.4799999999999999 .. 2.5200000000000001]', '[0.57999999999999996 .. 0.62000000000000011]', '[1.2799999999999998 .. 1.3200000000000001]']\n",
      "ode in polynomial ring\n",
      "_handle_initials called!\n",
      "vars = [x1, x2, x3, x4, x5, x6, x7, x8, x9]\n",
      "C = [0.98..1.02]\n",
      "C = [1.2799999999999998..1.32]\n",
      "C = [0.07999999999999999..0.12000000000000001]\n",
      "C = [0.07999999999999999..0.12000000000000001]\n",
      "C = [0.07999999999999999..0.12000000000000001]\n",
      "C = [1.2799999999999998..1.32]\n",
      "C = [2.48..2.52]\n",
      "C = [0.58..0.6200000000000001]\n",
      "C = [1.2799999999999998..1.32]\n",
      "integrationScheme = 7\n",
      "Reachability done in 70.62128758430481\n"
     ]
    }
   ],
   "source": [
    "import time\n",
    "t0 = time.time()\n",
    "r = sys.reach(\n",
    "    3, order=4, step=0.003,\n",
    "    precondition=1,\n",
    "    estimation=1e-1,\n",
    "    max_remainder_queue=200,\n",
    "    integration_method=IntegrationMethod.ONLY_PICARD_SYMB,\n",
    "    cutoff_threshold=1e-6)\n",
    "t1 = time.time()\n",
    "print(f\"Reachability done in {t1 - t0}\")"
   ]
  },
  {
   "cell_type": "code",
   "execution_count": 22,
   "metadata": {},
   "outputs": [
    {
     "data": {
      "text/html": [
       "<html><script type=\"math/tex; mode=display\">\\newcommand{\\Bold}[1]{\\mathbf{#1}}1000</script></html>"
      ],
      "text/plain": [
       "1000"
      ]
     },
     "execution_count": 22,
     "metadata": {},
     "output_type": "execute_result"
    }
   ],
   "source": [
    "r.num_flowpipes"
   ]
  },
  {
   "cell_type": "code",
   "execution_count": 23,
   "metadata": {},
   "outputs": [
    {
     "name": "stdout",
     "output_type": "stream",
     "text": [
      "var_id_x = 2\n",
      "var_id_y = 4\n"
     ]
    },
    {
     "data": {
      "image/png": "[encoded data removed]",
      "text/plain": [
       "Graphics object consisting of 300 graphics primitives"
      ]
     },
     "execution_count": 23,
     "metadata": {},
     "output_type": "execute_result"
    }
   ],
   "source": [
    "r.sage_interval_plot('x3', 'x5', 0.01)"
   ]
  },
  {
   "cell_type": "code",
   "execution_count": 67,
   "metadata": {},
   "outputs": [
    {
     "name": "stdout",
     "output_type": "stream",
     "text": [
      "var_id_x = 3\n",
      "var_id_y = 5\n"
     ]
    },
    {
     "data": {
      "image/png": "[encoded data removed]",
      "text/plain": [
       "Graphics object consisting of 500 graphics primitives"
      ]
     },
     "execution_count": 67,
     "metadata": {},
     "output_type": "execute_result"
    }
   ],
   "source": [
    "out = r.sage_interval_plot('x4', 'x6', 0.01)\n",
    "out.set_aspect_ratio(1/18)\n",
    "out"
   ]
  },
  {
   "cell_type": "code",
   "execution_count": 25,
   "metadata": {},
   "outputs": [
    {
     "data": {
      "image/png": "[encoded data removed]",
      "text/plain": [
       "<wand.image.Image: e8f54bb 'PS' (720x504)>"
      ]
     },
     "execution_count": 25,
     "metadata": {},
     "output_type": "execute_result"
    }
   ],
   "source": [
    "r.wplot('x3', 'x5')"
   ]
  },
  {
   "cell_type": "code",
   "execution_count": 26,
   "metadata": {},
   "outputs": [
    {
     "data": {
      "image/png": "[encoded data removed]",
      "text/plain": [
       "<wand.image.Image: 81d3e3f 'PS' (720x504)>"
      ]
     },
     "execution_count": 26,
     "metadata": {},
     "output_type": "execute_result"
    }
   ],
   "source": [
    "r.wplot('x4', 'x6')"
   ]
  },
  {
   "cell_type": "code",
   "execution_count": 27,
   "metadata": {},
   "outputs": [
    {
     "data": {
      "text/html": [
       "<html><script type=\"math/tex; mode=display\">\\newcommand{\\Bold}[1]{\\mathbf{#1}}\\verb|bidict({'x1':|\\phantom{\\verb!x!}\\verb|x1,|\\phantom{\\verb!x!}\\verb|'x2':|\\phantom{\\verb!x!}\\verb|x2,|\\phantom{\\verb!x!}\\verb|'x3':|\\phantom{\\verb!x!}\\verb|x3,|\\phantom{\\verb!x!}\\verb|'x4':|\\phantom{\\verb!x!}\\verb|x4,|\\phantom{\\verb!x!}\\verb|'x5':|\\phantom{\\verb!x!}\\verb|x5,|\\phantom{\\verb!x!}\\verb|'x6':|\\phantom{\\verb!x!}\\verb|x6,|\\phantom{\\verb!x!}\\verb|'x7':|\\phantom{\\verb!x!}\\verb|x7,|\\phantom{\\verb!x!}\\verb|'x8':|\\phantom{\\verb!x!}\\verb|x8,|\\phantom{\\verb!x!}\\verb|'x9':|\\phantom{\\verb!x!}\\verb|x9})|</script></html>"
      ],
      "text/plain": [
       "bidict({'x1': x1, 'x2': x2, 'x3': x3, 'x4': x4, 'x5': x5, 'x6': x6, 'x7': x7, 'x8': x8, 'x9': x9})"
      ]
     },
     "execution_count": 27,
     "metadata": {},
     "output_type": "execute_result"
    }
   ],
   "source": [
    "sys_real.varmap"
   ]
  },
  {
   "cell_type": "code",
   "execution_count": 28,
   "metadata": {},
   "outputs": [],
   "source": [
    "fl = lambda t: r(RIF(t))[5].lower()\n",
    "fu = lambda t: r(RIF(t))[5].upper()\n",
    "gl = lambda t: r(RIF(t))[3].lower()\n",
    "gu = lambda t: r(RIF(t))[3].upper()"
   ]
  },
  {
   "cell_type": "code",
   "execution_count": 29,
   "metadata": {},
   "outputs": [
    {
     "data": {
      "text/html": [
       "<html><script type=\"math/tex; mode=display\">\\newcommand{\\Bold}[1]{\\mathbf{#1}}\\left(1.27994857010101, 1.32005885676383\\right)</script></html>"
      ],
      "text/plain": [
       "(1.27994857010101, 1.32005885676383)"
      ]
     },
     "execution_count": 29,
     "metadata": {},
     "output_type": "execute_result"
    }
   ],
   "source": [
    "fl(0), fu(0)"
   ]
  },
  {
   "cell_type": "code",
   "execution_count": 30,
   "metadata": {},
   "outputs": [
    {
     "data": {
      "text/html": [
       "<html><script type=\"math/tex; mode=display\">\\newcommand{\\Bold}[1]{\\mathbf{#1}}\\left(0.0799454261676199, 0.120047556972802\\right)</script></html>"
      ],
      "text/plain": [
       "(0.0799454261676199, 0.120047556972802)"
      ]
     },
     "execution_count": 30,
     "metadata": {},
     "output_type": "execute_result"
    }
   ],
   "source": [
    "gl(0), gu(0)"
   ]
  },
  {
   "cell_type": "code",
   "execution_count": 31,
   "metadata": {},
   "outputs": [
    {
     "data": {
      "image/png": "[encoded data removed]",
      "text/plain": [
       "Graphics object consisting of 2 graphics primitives"
      ]
     },
     "execution_count": 31,
     "metadata": {},
     "output_type": "execute_result"
    }
   ],
   "source": [
    "plot((fl, fu), (0, 3), plot_points=30, adaptive_recursion=0, randomize=False)"
   ]
  },
  {
   "cell_type": "code",
   "execution_count": 32,
   "metadata": {},
   "outputs": [
    {
     "data": {
      "image/png": "[encoded data removed]",
      "text/plain": [
       "Graphics object consisting of 2 graphics primitives"
      ]
     },
     "execution_count": 32,
     "metadata": {},
     "output_type": "execute_result"
    }
   ],
   "source": [
    "plot((gl, gu), (0, 3), plot_points=50, adaptive_recursion=0, randomize=False)"
   ]
  },
  {
   "cell_type": "code",
   "execution_count": 1,
   "metadata": {},
   "outputs": [
    {
     "ename": "NameError",
     "evalue": "name 'F' is not defined",
     "output_type": "error",
     "traceback": [
      "\u001b[0;31m---------------------------------------------------------------------------\u001b[0m",
      "\u001b[0;31mNameError\u001b[0m                                 Traceback (most recent call last)",
      "\u001b[0;32m<ipython-input-1-383133029c57>\u001b[0m in \u001b[0;36m<module>\u001b[0;34m()\u001b[0m\n\u001b[0;32m----> 1\u001b[0;31m \u001b[0msig\u001b[0m \u001b[0;34m=\u001b[0m \u001b[0mF\u001b[0m\u001b[0;34m(\u001b[0m\u001b[0;34m[\u001b[0m\u001b[0mInteger\u001b[0m\u001b[0;34m(\u001b[0m\u001b[0;36m0\u001b[0m\u001b[0;34m)\u001b[0m\u001b[0;34m,\u001b[0m \u001b[0mRealNumber\u001b[0m\u001b[0;34m(\u001b[0m\u001b[0;34m'0.5'\u001b[0m\u001b[0;34m)\u001b[0m\u001b[0;34m]\u001b[0m\u001b[0;34m,\u001b[0m \u001b[0mAtomic\u001b[0m\u001b[0;34m(\u001b[0m\u001b[0mvar\u001b[0m\u001b[0;34m(\u001b[0m\u001b[0;34m\"x6\"\u001b[0m\u001b[0;34m)\u001b[0m \u001b[0;34m>\u001b[0m \u001b[0mRealNumber\u001b[0m\u001b[0;34m(\u001b[0m\u001b[0;34m'1.4'\u001b[0m\u001b[0;34m)\u001b[0m\u001b[0;34m)\u001b[0m \u001b[0;34m&\u001b[0m \u001b[0mG\u001b[0m\u001b[0;34m(\u001b[0m\u001b[0;34m[\u001b[0m\u001b[0mInteger\u001b[0m\u001b[0;34m(\u001b[0m\u001b[0;36m0\u001b[0m\u001b[0;34m)\u001b[0m\u001b[0;34m,\u001b[0m \u001b[0mRealNumber\u001b[0m\u001b[0;34m(\u001b[0m\u001b[0;34m'0.1'\u001b[0m\u001b[0;34m)\u001b[0m\u001b[0;34m]\u001b[0m\u001b[0;34m,\u001b[0m \u001b[0mAtomic\u001b[0m\u001b[0;34m(\u001b[0m\u001b[0mvar\u001b[0m\u001b[0;34m(\u001b[0m\u001b[0;34m\"x6\"\u001b[0m\u001b[0;34m)\u001b[0m \u001b[0;34m<\u001b[0m \u001b[0mRealNumber\u001b[0m\u001b[0;34m(\u001b[0m\u001b[0;34m'1.8'\u001b[0m\u001b[0;34m)\u001b[0m\u001b[0;34m)\u001b[0m  \u001b[0;34m&\u001b[0m \u001b[0mF\u001b[0m\u001b[0;34m(\u001b[0m\u001b[0;34m[\u001b[0m\u001b[0mInteger\u001b[0m\u001b[0;34m(\u001b[0m\u001b[0;36m0\u001b[0m\u001b[0;34m)\u001b[0m\u001b[0;34m,\u001b[0m \u001b[0mInteger\u001b[0m\u001b[0;34m(\u001b[0m\u001b[0;36m1\u001b[0m\u001b[0;34m)\u001b[0m\u001b[0;34m]\u001b[0m\u001b[0;34m,\u001b[0m \u001b[0mAtomic\u001b[0m\u001b[0;34m(\u001b[0m\u001b[0mvar\u001b[0m\u001b[0;34m(\u001b[0m\u001b[0;34m\"x6\"\u001b[0m\u001b[0;34m)\u001b[0m \u001b[0;34m<\u001b[0m \u001b[0mInteger\u001b[0m\u001b[0;34m(\u001b[0m\u001b[0;36m1\u001b[0m\u001b[0;34m)\u001b[0m\u001b[0;34m)\u001b[0m \u001b[0;34m&\u001b[0m \u001b[0mAtomic\u001b[0m\u001b[0;34m(\u001b[0m\u001b[0mvar\u001b[0m\u001b[0;34m(\u001b[0m\u001b[0;34m\"x4\"\u001b[0m\u001b[0;34m)\u001b[0m \u001b[0;34m<\u001b[0m \u001b[0mRealNumber\u001b[0m\u001b[0;34m(\u001b[0m\u001b[0;34m'0.02'\u001b[0m\u001b[0;34m)\u001b[0m\u001b[0;34m)\u001b[0m\u001b[0;34m)\u001b[0m\u001b[0;34m)\u001b[0m\u001b[0;34m)\u001b[0m\u001b[0;34m.\u001b[0m\u001b[0msignal\u001b[0m\u001b[0;34m(\u001b[0m\u001b[0mr\u001b[0m\u001b[0;34m)\u001b[0m\u001b[0;34m\u001b[0m\u001b[0;34m\u001b[0m\u001b[0m\n\u001b[0m\u001b[1;32m      2\u001b[0m \u001b[0msig\u001b[0m\u001b[0;34m\u001b[0m\u001b[0;34m\u001b[0m\u001b[0m\n",
      "\u001b[0;31mNameError\u001b[0m: name 'F' is not defined"
     ]
    }
   ],
   "source": [
    "sig = F([0, 0.5], Atomic(var(\"x6\") > 1.4) & G([0, 0.1], Atomic(var(\"x6\") < 1.8)  & F([0, 1], Atomic(var(\"x6\") < 1) & Atomic(var(\"x4\") < 0.02)))).signal(r)\n",
    "sig"
   ]
  },
  {
   "cell_type": "code",
   "execution_count": 74,
   "metadata": {},
   "outputs": [
    {
     "data": {
      "image/png": "[encoded data removed]",
      "text/plain": [
       "Graphics object consisting of 2 graphics primitives"
      ]
     },
     "execution_count": 74,
     "metadata": {},
     "output_type": "execute_result"
    }
   ],
   "source": [
    "sig.plot()"
   ]
  },
  {
   "cell_type": "code",
   "execution_count": 75,
   "metadata": {},
   "outputs": [
    {
     "name": "stdout",
     "output_type": "stream",
     "text": [
      "PolyObserver(-x6 + 0.80000000000000005?, <flowstar.reachability.Reach object at 0x563e14e21830>, 0.10000000000000000?*x1*x6 + x2*x6 + 2*x6*x8 - 50*x3 - 100*x4 - 50*x5 + x6 symbolic_composition=True, tentative_unpreconditioning=True, mask=None)\n",
      "symbolic_composition=True, tentative_unpreconditioning=True\n",
      "roots(space_domain=None, epsilon=1e-05, verbosity=0)\n",
      "roots = [[1.0796391231884567 .. 1.2706258843523169]]\n",
      "domain = [0.0000000000000000 .. 2.9990000000000002]\n",
      "roots = [[1.0796391231884567 .. 1.2706258843523169]]\n",
      "seg_domain = [0.0000000000000000 .. 2.9990000000000002]\n",
      "roots = [[1.0796391231884567 .. 1.2706258843523169]]\n"
     ]
    },
    {
     "data": {
      "text/html": [
       "<html><script type=\"math/tex; mode=display\">\\newcommand{\\Bold}[1]{\\mathbf{#1}}\\verb|Signal([0.0000000000000000|\\phantom{\\verb!x!}\\verb|..|\\phantom{\\verb!x!}\\verb|2.9990000000000002],|\\phantom{\\verb!x!}\\verb|[([0.0000000000000000|\\phantom{\\verb!x!}\\verb|..|\\phantom{\\verb!x!}\\verb|1.0796391231884568],|\\phantom{\\verb!x!}\\verb|False),|\\phantom{\\verb!x!}\\verb|([1.2706258843523168|\\phantom{\\verb!x!}\\verb|..|\\phantom{\\verb!x!}\\verb|2.9990000000000002],|\\phantom{\\verb!x!}\\verb|True)],|\\phantom{\\verb!x!}\\verb|mask=None)|</script></html>"
      ],
      "text/plain": [
       "Signal([0.0000000000000000 .. 2.9990000000000002], [([0.0000000000000000 .. 1.0796391231884568], False), ([1.2706258843523168 .. 2.9990000000000002], True)], mask=None)"
      ]
     },
     "execution_count": 75,
     "metadata": {},
     "output_type": "execute_result"
    }
   ],
   "source": [
    "sig = Atomic(var(\"x6\") < 0.8).signal(r, tentative_unpreconditioning=True, symbolic_composition=True)\n",
    "sig"
   ]
  },
  {
   "cell_type": "code",
   "execution_count": 76,
   "metadata": {},
   "outputs": [
    {
     "data": {
      "image/png": "[encoded data removed]",
      "text/plain": [
       "Graphics object consisting of 2 graphics primitives"
      ]
     },
     "execution_count": 76,
     "metadata": {},
     "output_type": "execute_result"
    }
   ],
   "source": [
    "sig.plot()"
   ]
  },
  {
   "cell_type": "code",
   "execution_count": 34,
   "metadata": {},
   "outputs": [
    {
     "name": "stdout",
     "output_type": "stream",
     "text": [
      "calling reach with y0 = ['[0.97999999999999998 .. 1.0200000000000001]', '[1.2799999999999998 .. 1.3200000000000001]', '[0.079999999999999987 .. 0.12000000000000001]', '[0.079999999999999987 .. 0.12000000000000001]', '[0.079999999999999987 .. 0.12000000000000001]', '[1.2799999999999998 .. 1.3200000000000001]', '[2.4799999999999999 .. 2.5200000000000001]', '[0.57999999999999996 .. 0.62000000000000011]', '[1.2799999999999998 .. 1.3200000000000001]']\n",
      "ode in polynomial ring\n",
      "_handle_initials called!\n",
      "vars = [x1, x2, x3, x4, x5, x6, x7, x8, x9]\n",
      "C = [0.98..1.02]\n",
      "C = [1.2799999999999998..1.32]\n",
      "C = [0.07999999999999999..0.12000000000000001]\n",
      "C = [0.07999999999999999..0.12000000000000001]\n",
      "C = [0.07999999999999999..0.12000000000000001]\n",
      "C = [1.2799999999999998..1.32]\n",
      "C = [2.48..2.52]\n",
      "C = [0.58..0.6200000000000001]\n",
      "C = [1.2799999999999998..1.32]\n",
      "integrationScheme = 7\n",
      "Reachability done in 312.0267217159271\n"
     ]
    }
   ],
   "source": [
    "import time\n",
    "t0 = time.time()\n",
    "r = sys.reach(\n",
    "    5, order=4, step=0.001,\n",
    "    precondition=1,\n",
    "    estimation=1e-1,\n",
    "    max_remainder_queue=200,\n",
    "    integration_method=IntegrationMethod.ONLY_PICARD_SYMB,\n",
    "    cutoff_threshold=1e-6)\n",
    "t1 = time.time()\n",
    "print(f\"Reachability done in {t1 - t0}\")"
   ]
  },
  {
   "cell_type": "code",
   "execution_count": 35,
   "metadata": {},
   "outputs": [
    {
     "data": {
      "text/html": [
       "<html><script type=\"math/tex; mode=display\">\\newcommand{\\Bold}[1]{\\mathbf{#1}}2</script></html>"
      ],
      "text/plain": [
       "2"
      ]
     },
     "execution_count": 35,
     "metadata": {},
     "output_type": "execute_result"
    }
   ],
   "source": [
    "r.res"
   ]
  },
  {
   "cell_type": "code",
   "execution_count": 40,
   "metadata": {},
   "outputs": [
    {
     "name": "stdout",
     "output_type": "stream",
     "text": [
      "calling reach with y0 = ['[0.97999999999999998 .. 1.0200000000000001]', '[1.2799999999999998 .. 1.3200000000000001]', '[0.079999999999999987 .. 0.12000000000000001]', '[0.079999999999999987 .. 0.12000000000000001]', '[0.079999999999999987 .. 0.12000000000000001]', '[1.2799999999999998 .. 1.3200000000000001]', '[2.4799999999999999 .. 2.5200000000000001]', '[0.57999999999999996 .. 0.62000000000000011]', '[1.2799999999999998 .. 1.3200000000000001]']\n",
      "ode in polynomial ring\n",
      "_handle_initials called!\n",
      "vars = [x1, x2, x3, x4, x5, x6, x7, x8, x9]\n",
      "C = [0.98..1.02]\n",
      "C = [1.2799999999999998..1.32]\n",
      "C = [0.07999999999999999..0.12000000000000001]\n",
      "C = [0.07999999999999999..0.12000000000000001]\n",
      "C = [0.07999999999999999..0.12000000000000001]\n",
      "C = [1.2799999999999998..1.32]\n",
      "C = [2.48..2.52]\n",
      "C = [0.58..0.6200000000000001]\n",
      "C = [1.2799999999999998..1.32]\n",
      "integrationScheme = 7\n",
      "Reachability done in 196.01002478599548\n"
     ]
    }
   ],
   "source": [
    "import time\n",
    "t0 = time.time()\n",
    "r = sys.reach(\n",
    "    5, order=4, step=0.002,\n",
    "    precondition=1,\n",
    "    estimation=1e-1,\n",
    "    max_remainder_queue=200,\n",
    "    integration_method=IntegrationMethod.ONLY_PICARD_SYMB,\n",
    "    cutoff_threshold=1e-6)\n",
    "t1 = time.time()\n",
    "print(f\"Reachability done in {t1 - t0}\")"
   ]
  },
  {
   "cell_type": "code",
   "execution_count": 41,
   "metadata": {},
   "outputs": [
    {
     "data": {
      "text/html": [
       "<html><script type=\"math/tex; mode=display\">\\newcommand{\\Bold}[1]{\\mathbf{#1}}2</script></html>"
      ],
      "text/plain": [
       "2"
      ]
     },
     "execution_count": 41,
     "metadata": {},
     "output_type": "execute_result"
    }
   ],
   "source": [
    "r.res"
   ]
  },
  {
   "cell_type": "code",
   "execution_count": 42,
   "metadata": {},
   "outputs": [
    {
     "name": "stdout",
     "output_type": "stream",
     "text": [
      "calling reach with y0 = ['[0.97999999999999998 .. 1.0200000000000001]', '[1.2799999999999998 .. 1.3200000000000001]', '[0.079999999999999987 .. 0.12000000000000001]', '[0.079999999999999987 .. 0.12000000000000001]', '[0.079999999999999987 .. 0.12000000000000001]', '[1.2799999999999998 .. 1.3200000000000001]', '[2.4799999999999999 .. 2.5200000000000001]', '[0.57999999999999996 .. 0.62000000000000011]', '[1.2799999999999998 .. 1.3200000000000001]']\n",
      "ode in polynomial ring\n",
      "_handle_initials called!\n",
      "vars = [x1, x2, x3, x4, x5, x6, x7, x8, x9]\n",
      "C = [0.98..1.02]\n",
      "C = [1.2799999999999998..1.32]\n",
      "C = [0.07999999999999999..0.12000000000000001]\n",
      "C = [0.07999999999999999..0.12000000000000001]\n",
      "C = [0.07999999999999999..0.12000000000000001]\n",
      "C = [1.2799999999999998..1.32]\n",
      "C = [2.48..2.52]\n",
      "C = [0.58..0.6200000000000001]\n",
      "C = [1.2799999999999998..1.32]\n",
      "integrationScheme = 7\n",
      "Reachability done in 133.4927773475647\n"
     ]
    }
   ],
   "source": [
    "import time\n",
    "t0 = time.time()\n",
    "r = sys.reach(\n",
    "    5, order=4, step=0.003,\n",
    "    precondition=1,\n",
    "    estimation=1e-1,\n",
    "    max_remainder_queue=200,\n",
    "    integration_method=IntegrationMethod.ONLY_PICARD_SYMB,\n",
    "    cutoff_threshold=1e-6)\n",
    "t1 = time.time()\n",
    "print(f\"Reachability done in {t1 - t0}\")"
   ]
  },
  {
   "cell_type": "code",
   "execution_count": 43,
   "metadata": {},
   "outputs": [
    {
     "data": {
      "text/html": [
       "<html><script type=\"math/tex; mode=display\">\\newcommand{\\Bold}[1]{\\mathbf{#1}}2</script></html>"
      ],
      "text/plain": [
       "2"
      ]
     },
     "execution_count": 43,
     "metadata": {},
     "output_type": "execute_result"
    }
   ],
   "source": [
    "r.res"
   ]
  },
  {
   "cell_type": "code",
   "execution_count": 68,
   "metadata": {},
   "outputs": [
    {
     "name": "stdout",
     "output_type": "stream",
     "text": [
      "calling reach with y0 = ['[0.97999999999999998 .. 1.0200000000000001]', '[1.2799999999999998 .. 1.3200000000000001]', '[0.079999999999999987 .. 0.12000000000000001]', '[0.079999999999999987 .. 0.12000000000000001]', '[0.079999999999999987 .. 0.12000000000000001]', '[1.2799999999999998 .. 1.3200000000000001]', '[2.4799999999999999 .. 2.5200000000000001]', '[0.57999999999999996 .. 0.62000000000000011]', '[1.2799999999999998 .. 1.3200000000000001]']\n",
      "ode in polynomial ring\n",
      "_handle_initials called!\n",
      "vars = [x1, x2, x3, x4, x5, x6, x7, x8, x9]\n",
      "C = [0.98..1.02]\n",
      "C = [1.2799999999999998..1.32]\n",
      "C = [0.07999999999999999..0.12000000000000001]\n",
      "C = [0.07999999999999999..0.12000000000000001]\n",
      "C = [0.07999999999999999..0.12000000000000001]\n",
      "C = [1.2799999999999998..1.32]\n",
      "C = [2.48..2.52]\n",
      "C = [0.58..0.6200000000000001]\n",
      "C = [1.2799999999999998..1.32]\n",
      "integrationScheme = 7\n",
      "Reachability done in 108.49974918365479\n"
     ]
    }
   ],
   "source": [
    "import time\n",
    "t0 = time.time()\n",
    "r = sys.reach(\n",
    "    5, order=4, step=0.004,\n",
    "    precondition=1,\n",
    "    estimation=1e-1,\n",
    "    max_remainder_queue=200,\n",
    "    integration_method=IntegrationMethod.ONLY_PICARD_SYMB,\n",
    "    cutoff_threshold=1e-6)\n",
    "t1 = time.time()\n",
    "print(f\"Reachability done in {t1 - t0}\")"
   ]
  },
  {
   "cell_type": "code",
   "execution_count": 49,
   "metadata": {},
   "outputs": [
    {
     "data": {
      "text/html": [
       "<html><script type=\"math/tex; mode=display\">\\newcommand{\\Bold}[1]{\\mathbf{#1}}2</script></html>"
      ],
      "text/plain": [
       "2"
      ]
     },
     "execution_count": 49,
     "metadata": {},
     "output_type": "execute_result"
    }
   ],
   "source": [
    "r.res"
   ]
  },
  {
   "cell_type": "code",
   "execution_count": 82,
   "metadata": {},
   "outputs": [
    {
     "name": "stdout",
     "output_type": "stream",
     "text": [
      "calling reach with y0 = ['[0.97999999999999998 .. 1.0200000000000001]', '[1.2799999999999998 .. 1.3200000000000001]', '[0.079999999999999987 .. 0.12000000000000001]', '[0.079999999999999987 .. 0.12000000000000001]', '[0.079999999999999987 .. 0.12000000000000001]', '[1.2799999999999998 .. 1.3200000000000001]', '[2.4799999999999999 .. 2.5200000000000001]', '[0.57999999999999996 .. 0.62000000000000011]', '[1.2799999999999998 .. 1.3200000000000001]']\n",
      "ode in polynomial ring\n",
      "_handle_initials called!\n",
      "vars = [x1, x2, x3, x4, x5, x6, x7, x8, x9]\n",
      "C = [0.98..1.02]\n",
      "C = [1.2799999999999998..1.32]\n",
      "C = [0.07999999999999999..0.12000000000000001]\n",
      "C = [0.07999999999999999..0.12000000000000001]\n",
      "C = [0.07999999999999999..0.12000000000000001]\n",
      "C = [1.2799999999999998..1.32]\n",
      "C = [2.48..2.52]\n",
      "C = [0.58..0.6200000000000001]\n",
      "C = [1.2799999999999998..1.32]\n",
      "integrationScheme = 7\n",
      "Reachability done in 113.879567861557\n"
     ]
    }
   ],
   "source": [
    "import time\n",
    "t0 = time.time()\n",
    "r = sys.reach(\n",
    "    5, order=4, step=0.003,\n",
    "    precondition=1,\n",
    "    estimation=1e-1,\n",
    "    max_remainder_queue=100,\n",
    "    integration_method=IntegrationMethod.ONLY_PICARD_SYMB,\n",
    "    cutoff_threshold=1e-6)\n",
    "t1 = time.time()\n",
    "print(f\"Reachability done in {t1 - t0}\")"
   ]
  },
  {
   "cell_type": "code",
   "execution_count": 80,
   "metadata": {},
   "outputs": [
    {
     "data": {
      "text/html": [
       "<html><script type=\"math/tex; mode=display\">\\newcommand{\\Bold}[1]{\\mathbf{#1}}2</script></html>"
      ],
      "text/plain": [
       "2"
      ]
     },
     "execution_count": 80,
     "metadata": {},
     "output_type": "execute_result"
    }
   ],
   "source": [
    "r.res"
   ]
  },
  {
   "cell_type": "code",
   "execution_count": 45,
   "metadata": {},
   "outputs": [
    {
     "data": {
      "text/html": [
       "<html><script type=\"math/tex; mode=display\">\\newcommand{\\Bold}[1]{\\mathbf{#1}}1667</script></html>"
      ],
      "text/plain": [
       "1667"
      ]
     },
     "execution_count": 45,
     "metadata": {},
     "output_type": "execute_result"
    }
   ],
   "source": [
    "r.num_flowpipes"
   ]
  },
  {
   "cell_type": "code",
   "execution_count": 83,
   "metadata": {},
   "outputs": [
    {
     "data": {
      "image/png": "[encoded data removed]",
      "text/plain": [
       "<wand.image.Image: 926b7cb 'PS' (720x504)>"
      ]
     },
     "execution_count": 83,
     "metadata": {},
     "output_type": "execute_result"
    }
   ],
   "source": [
    "r.wplot('x3', 'x5')"
   ]
  },
  {
   "cell_type": "code",
   "execution_count": 84,
   "metadata": {},
   "outputs": [
    {
     "data": {
      "image/png": "[encoded data removed]",
      "text/plain": [
       "<wand.image.Image: 928c89a 'PS' (720x504)>"
      ]
     },
     "execution_count": 84,
     "metadata": {},
     "output_type": "execute_result"
    }
   ],
   "source": [
    "r.wplot('x4', 'x6')"
   ]
  },
  {
   "cell_type": "code",
   "execution_count": 82,
   "metadata": {},
   "outputs": [
    {
     "data": {
      "text/html": [
       "<div class=\"notruncate\">\n",
       "<table  class=\"table_form\">\n",
       "<tbody>\n",
       "<tr class =\"row-a\">\n",
       "<td><script type=\"math/tex\">1.27999564916138</script></td>\n",
       "<td><script type=\"math/tex\">1.68547523093048</script></td>\n",
       "</tr>\n",
       "<tr class =\"row-b\">\n",
       "<td><script type=\"math/tex\">1.40413523901987</script></td>\n",
       "<td><script type=\"math/tex\">1.68979156398612</script></td>\n",
       "</tr>\n",
       "<tr class =\"row-a\">\n",
       "<td><script type=\"math/tex\">1.32676781370005</script></td>\n",
       "<td><script type=\"math/tex\">1.66028792108570</script></td>\n",
       "</tr>\n",
       "<tr class =\"row-b\">\n",
       "<td><script type=\"math/tex\">1.24448774954410</script></td>\n",
       "<td><script type=\"math/tex\">1.57681305607316</script></td>\n",
       "</tr>\n",
       "<tr class =\"row-a\">\n",
       "<td><script type=\"math/tex\">1.16315796302429</script></td>\n",
       "<td><script type=\"math/tex\">1.47762887696639</script></td>\n",
       "</tr>\n",
       "<tr class =\"row-b\">\n",
       "<td><script type=\"math/tex\">1.08621308468897</script></td>\n",
       "<td><script type=\"math/tex\">1.37907961156679</script></td>\n",
       "</tr>\n",
       "<tr class =\"row-a\">\n",
       "<td><script type=\"math/tex\">1.01496649942183</script></td>\n",
       "<td><script type=\"math/tex\">1.28500182125060</script></td>\n",
       "</tr>\n",
       "<tr class =\"row-b\">\n",
       "<td><script type=\"math/tex\">0.948552238505778</script></td>\n",
       "<td><script type=\"math/tex\">1.19627423804964</script></td>\n",
       "</tr>\n",
       "<tr class =\"row-a\">\n",
       "<td><script type=\"math/tex\">0.887473083058972</script></td>\n",
       "<td><script type=\"math/tex\">1.11424985073808</script></td>\n",
       "</tr>\n",
       "<tr class =\"row-b\">\n",
       "<td><script type=\"math/tex\">0.832013396307527</script></td>\n",
       "<td><script type=\"math/tex\">1.03835727817512</script></td>\n",
       "</tr>\n",
       "<tr class =\"row-a\">\n",
       "<td><script type=\"math/tex\">0.780571701325788</script></td>\n",
       "<td><script type=\"math/tex\">0.968051980208223</script></td>\n",
       "</tr>\n",
       "<tr class =\"row-b\">\n",
       "<td><script type=\"math/tex\">0.732856800474489</script></td>\n",
       "<td><script type=\"math/tex\">0.904520598327799</script></td>\n",
       "</tr>\n",
       "<tr class =\"row-a\">\n",
       "<td><script type=\"math/tex\">0.689674007064879</script></td>\n",
       "<td><script type=\"math/tex\">0.847590139538752</script></td>\n",
       "</tr>\n",
       "<tr class =\"row-b\">\n",
       "<td><script type=\"math/tex\">0.650944006803724</script></td>\n",
       "<td><script type=\"math/tex\">0.795940767214239</script></td>\n",
       "</tr>\n",
       "<tr class =\"row-a\">\n",
       "<td><script type=\"math/tex\">0.615765336835522</script></td>\n",
       "<td><script type=\"math/tex\">0.749058145009328</script></td>\n",
       "</tr>\n",
       "<tr class =\"row-b\">\n",
       "<td><script type=\"math/tex\">0.582213777335691</script></td>\n",
       "<td><script type=\"math/tex\">0.707203027144073</script></td>\n",
       "</tr>\n",
       "<tr class =\"row-a\">\n",
       "<td><script type=\"math/tex\">0.550885497759854</script></td>\n",
       "<td><script type=\"math/tex\">0.671630230754946</script></td>\n",
       "</tr>\n",
       "<tr class =\"row-b\">\n",
       "<td><script type=\"math/tex\">0.523203986113156</script></td>\n",
       "<td><script type=\"math/tex\">0.641064768077379</script></td>\n",
       "</tr>\n",
       "<tr class =\"row-a\">\n",
       "<td><script type=\"math/tex\">0.498249571458754</script></td>\n",
       "<td><script type=\"math/tex\">0.613411493631069</script></td>\n",
       "</tr>\n",
       "<tr class =\"row-b\">\n",
       "<td><script type=\"math/tex\">0.476405013253767</script></td>\n",
       "<td><script type=\"math/tex\">0.588946420138379</script></td>\n",
       "</tr>\n",
       "</tbody>\n",
       "</table>\n",
       "</div>"
      ],
      "text/plain": [
       "  1.27999564916138    1.68547523093048\n",
       "  1.40413523901987    1.68979156398612\n",
       "  1.32676781370005    1.66028792108570\n",
       "  1.24448774954410    1.57681305607316\n",
       "  1.16315796302429    1.47762887696639\n",
       "  1.08621308468897    1.37907961156679\n",
       "  1.01496649942183    1.28500182125060\n",
       "  0.948552238505778   1.19627423804964\n",
       "  0.887473083058972   1.11424985073808\n",
       "  0.832013396307527   1.03835727817512\n",
       "  0.780571701325788   0.968051980208223\n",
       "  0.732856800474489   0.904520598327799\n",
       "  0.689674007064879   0.847590139538752\n",
       "  0.650944006803724   0.795940767214239\n",
       "  0.615765336835522   0.749058145009328\n",
       "  0.582213777335691   0.707203027144073\n",
       "  0.550885497759854   0.671630230754946\n",
       "  0.523203986113156   0.641064768077379\n",
       "  0.498249571458754   0.613411493631069\n",
       "  0.476405013253767   0.588946420138379"
      ]
     },
     "execution_count": 82,
     "metadata": {},
     "output_type": "execute_result"
    }
   ],
   "source": [
    "table([r(RIF(t, t+0.1))[5].endpoints() for t in srange(0, 2, 0.1)])"
   ]
  },
  {
   "cell_type": "code",
   "execution_count": 86,
   "metadata": {},
   "outputs": [],
   "source": [
    "fl = lambda t: r(RIF(t))[5].lower()\n",
    "fu = lambda t: r(RIF(t))[5].upper()\n",
    "gl = lambda t: r(RIF(t))[3].lower()\n",
    "gu = lambda t: r(RIF(t))[3].upper()"
   ]
  },
  {
   "cell_type": "code",
   "execution_count": 87,
   "metadata": {},
   "outputs": [
    {
     "data": {
      "image/png": "[encoded data removed]",
      "text/plain": [
       "Graphics object consisting of 2 graphics primitives"
      ]
     },
     "execution_count": 87,
     "metadata": {},
     "output_type": "execute_result"
    }
   ],
   "source": [
    "plot((fl, fu), (0, 5), plot_points=20, adaptive_recursion=0, randomize=False)"
   ]
  },
  {
   "cell_type": "code",
   "execution_count": 88,
   "metadata": {},
   "outputs": [
    {
     "data": {
      "image/png": "[encoded data removed]",
      "text/plain": [
       "Graphics object consisting of 2 graphics primitives"
      ]
     },
     "execution_count": 88,
     "metadata": {},
     "output_type": "execute_result"
    }
   ],
   "source": [
    "plot((gl, gu), (0, 5), plot_points=50, adaptive_recursion=0, randomize=False)"
   ]
  },
  {
   "cell_type": "code",
   "execution_count": 87,
   "metadata": {},
   "outputs": [
    {
     "name": "stdout",
     "output_type": "stream",
     "text": [
      "PolyObserver(x4 - 0.005000000000000000?, <flowstar.reachability.Reach object at 0x563e29d78290>, x2*x6 - 100*x4 symbolic_composition=False, tentative_unpreconditioning=True, mask=None)\n",
      "symbolic_composition=False, tentative_unpreconditioning=True\n",
      "roots(space_domain=None, epsilon=1e-05, verbosity=0)\n",
      "roots = [[2.2406423211866233 .. 2.2410000000000481], [2.2425044607049184 .. 3.0510000000000788], [3.0528052100882212 .. 3.0528053276883225], [3.0530417999370058 .. 3.0530418027122961], [3.0530475805666061 .. 3.0530476466286461], [3.0531591902591088 .. 3.0531592012327833], [3.0532132923317822 .. 3.0532132954896616], [3.0532414608090672 .. 3.0532414668517474], [3.0532523572517011 .. 3.0540000000000789]]\n",
      "domain = [0.0000000000000000 .. 4.9989999999999997]\n",
      "roots = [[2.2406423211866233 .. 2.2410000000000481], \n",
      " [2.2425044607049184 .. 3.0510000000000788], \n",
      " [3.0528052100882212 .. 3.0528053276883225], \n",
      " [3.0530417999370058 .. 3.0530418027122961], \n",
      " [3.0530475805666061 .. 3.0530476466286461], \n",
      " [3.0531591902591088 .. 3.0531592012327833], \n",
      " [3.0532132923317822 .. 3.0532132954896616], \n",
      " [3.0532414608090672 .. 3.0532414668517474], \n",
      " [3.0532523572517011 .. 3.0540000000000789]]\n",
      "seg_domain = [0.0000000000000000 .. 4.9989999999999997]\n",
      "roots = [[2.2406423211866233 .. 2.2410000000000481], \n",
      " [2.2425044607049184 .. 3.0510000000000788], \n",
      " [3.0528052100882212 .. 3.0528053276883225], \n",
      " [3.0530417999370058 .. 3.0530418027122961], \n",
      " [3.0530475805666061 .. 3.0530476466286461], \n",
      " [3.0531591902591088 .. 3.0531592012327833], \n",
      " [3.0532132923317822 .. 3.0532132954896616], \n",
      " [3.0532414608090672 .. 3.0532414668517474], \n",
      " [3.0532523572517011 .. 3.0540000000000789]]\n"
     ]
    }
   ],
   "source": [
    "sig = Atomic(var(\"x4\") > RIF('0.005')).signal(r)"
   ]
  },
  {
   "cell_type": "code",
   "execution_count": 88,
   "metadata": {},
   "outputs": [
    {
     "data": {
      "image/png": "[encoded data removed]",
      "text/plain": [
       "Graphics object consisting of 2 graphics primitives"
      ]
     },
     "execution_count": 88,
     "metadata": {},
     "output_type": "execute_result"
    }
   ],
   "source": [
    "sig.plot()"
   ]
  },
  {
   "cell_type": "code",
   "execution_count": 89,
   "metadata": {},
   "outputs": [
    {
     "name": "stdout",
     "output_type": "stream",
     "text": [
      "PolyObserver(-x6 + 0.8000000000000000?, <flowstar.reachability.Reach object at 0x563e29d78290>, 0.10000000000000000?*x1*x6 + x2*x6 + 2*x6*x8 - 50*x3 - 100*x4 - 50*x5 + x6 symbolic_composition=False, tentative_unpreconditioning=True, mask=None)\n",
      "symbolic_composition=False, tentative_unpreconditioning=True\n",
      "roots(space_domain=None, epsilon=1e-05, verbosity=0)\n",
      "roots = [[1.0614338445651976 .. 1.2930000000000120]]\n",
      "domain = [0.0000000000000000 .. 4.9989999999999997]\n",
      "roots = [[1.0614338445651976 .. 1.2930000000000120]]\n",
      "seg_domain = [0.0000000000000000 .. 4.9989999999999997]\n",
      "roots = [[1.0614338445651976 .. 1.2930000000000120]]\n",
      "PolyObserver(x4 - 0.005000000000000000?, <flowstar.reachability.Reach object at 0x563e29d78290>, x2*x6 - 100*x4 symbolic_composition=False, tentative_unpreconditioning=True, mask=None)\n",
      "symbolic_composition=False, tentative_unpreconditioning=True\n",
      "roots(space_domain=None, epsilon=1e-05, verbosity=0)\n",
      "roots = [[2.2406423211866233 .. 2.2410000000000481], [2.2425044607049184 .. 3.0510000000000788], [3.0528052100882212 .. 3.0528053276883225], [3.0530417999370058 .. 3.0530418027122961], [3.0530475805666061 .. 3.0530476466286461], [3.0531591902591088 .. 3.0531592012327833], [3.0532132923317822 .. 3.0532132954896616], [3.0532414608090672 .. 3.0532414668517474], [3.0532523572517011 .. 3.0540000000000789]]\n",
      "domain = [0.0000000000000000 .. 4.9989999999999997]\n",
      "roots = [[2.2406423211866233 .. 2.2410000000000481], \n",
      " [2.2425044607049184 .. 3.0510000000000788], \n",
      " [3.0528052100882212 .. 3.0528053276883225], \n",
      " [3.0530417999370058 .. 3.0530418027122961], \n",
      " [3.0530475805666061 .. 3.0530476466286461], \n",
      " [3.0531591902591088 .. 3.0531592012327833], \n",
      " [3.0532132923317822 .. 3.0532132954896616], \n",
      " [3.0532414608090672 .. 3.0532414668517474], \n",
      " [3.0532523572517011 .. 3.0540000000000789]]\n",
      "seg_domain = [0.0000000000000000 .. 4.9989999999999997]\n",
      "roots = [[2.2406423211866233 .. 2.2410000000000481], \n",
      " [2.2425044607049184 .. 3.0510000000000788], \n",
      " [3.0528052100882212 .. 3.0528053276883225], \n",
      " [3.0530417999370058 .. 3.0530418027122961], \n",
      " [3.0530475805666061 .. 3.0530476466286461], \n",
      " [3.0531591902591088 .. 3.0531592012327833], \n",
      " [3.0532132923317822 .. 3.0532132954896616], \n",
      " [3.0532414608090672 .. 3.0532414668517474], \n",
      " [3.0532523572517011 .. 3.0540000000000789]]\n"
     ]
    }
   ],
   "source": [
    "sig = F(RIF(0, 3), Atomic(var(\"x6\") < RIF('0.8')) & Atomic(var(\"x4\") > RIF('0.005'))).signal(r)"
   ]
  },
  {
   "cell_type": "code",
   "execution_count": 90,
   "metadata": {},
   "outputs": [
    {
     "data": {
      "text/html": [
       "<html><script type=\"math/tex; mode=display\">\\newcommand{\\Bold}[1]{\\mathbf{#1}}\\mathrm{True}</script></html>"
      ],
      "text/plain": [
       "True"
      ]
     },
     "execution_count": 90,
     "metadata": {},
     "output_type": "execute_result"
    }
   ],
   "source": [
    "sig(0)"
   ]
  },
  {
   "cell_type": "code",
   "execution_count": 91,
   "metadata": {},
   "outputs": [
    {
     "name": "stderr",
     "output_type": "stream",
     "text": [
      "/usr/lib64/python3.7/site-packages/sage/plot/contour_plot.py:205: UserWarning: No contour levels were found within the data range.\n",
      "  linewidths=linewidths, linestyles=linestyles)\n"
     ]
    },
    {
     "data": {
      "image/png": "[encoded data removed]",
      "text/plain": [
       "Graphics object consisting of 2 graphics primitives"
      ]
     },
     "execution_count": 91,
     "metadata": {},
     "output_type": "execute_result"
    }
   ],
   "source": [
    "sig.plot()"
   ]
  },
  {
   "cell_type": "code",
   "execution_count": 92,
   "metadata": {},
   "outputs": [
    {
     "name": "stdout",
     "output_type": "stream",
     "text": [
      "PolyObserver(x6 - 1.4000000000000000?, <flowstar.reachability.Reach object at 0x563e29d78290>, -0.10000000000000000?*x1*x6 - x2*x6 - 2*x6*x8 + 50*x3 + 100*x4 + 50*x5 - x6 symbolic_composition=False, tentative_unpreconditioning=True, mask=None)\n",
      "symbolic_composition=False, tentative_unpreconditioning=True\n",
      "roots(space_domain=None, epsilon=1e-05, verbosity=0)\n",
      "roots = [[0.0048105735749824603 .. 0.020234134245513097], [0.20569603978972222 .. 0.47844966933866984]]\n",
      "domain = [0.0000000000000000 .. 4.9989999999999997]\n",
      "roots = [[0.0048105735749824603 .. 0.020234134245513097], \n",
      " [0.20569603978972222 .. 0.47844966933866984]]\n",
      "seg_domain = [0.0000000000000000 .. 4.9989999999999997]\n",
      "roots = [[0.0048105735749824603 .. 0.020234134245513097], \n",
      " [0.20569603978972222 .. 0.47844966933866984]]\n",
      "In G.signal\n",
      "PolyObserver(-x6 + 1.8000000000000001?, <flowstar.reachability.Reach object at 0x563e29d78290>, 0.10000000000000000?*x1*x6 + x2*x6 + 2*x6*x8 - 50*x3 - 100*x4 - 50*x5 + x6 symbolic_composition=False, tentative_unpreconditioning=True, mask=None)\n",
      "symbolic_composition=False, tentative_unpreconditioning=True\n",
      "roots(space_domain=None, epsilon=1e-05, verbosity=0)\n",
      "roots = []\n",
      "domain = [0.0000000000000000 .. 4.9989999999999997]\n",
      "roots = []\n",
      "seg_domain = [0.0000000000000000 .. 4.9989999999999997]\n",
      "roots = []\n",
      "PolyObserver(-x6 + 1, <flowstar.reachability.Reach object at 0x563e29d78290>, 0.10000000000000000?*x1*x6 + x2*x6 + 2*x6*x8 - 50*x3 - 100*x4 - 50*x5 + x6 symbolic_composition=False, tentative_unpreconditioning=True, mask=None)\n",
      "symbolic_composition=False, tentative_unpreconditioning=True\n",
      "roots(space_domain=None, epsilon=1e-05, verbosity=0)\n",
      "roots = [[0.72158581082358008 .. 0.95400000000000085]]\n",
      "domain = [0.0000000000000000 .. 4.9989999999999997]\n",
      "roots = [[0.72158581082358008 .. 0.95400000000000085]]\n",
      "seg_domain = [0.0000000000000000 .. 4.9989999999999997]\n",
      "roots = [[0.72158581082358008 .. 0.95400000000000085]]\n",
      "PolyObserver(-x4 + 0.020000000000000001?, <flowstar.reachability.Reach object at 0x563e29d78290>, -x2*x6 + 100*x4 symbolic_composition=False, tentative_unpreconditioning=True, mask=None)\n",
      "symbolic_composition=False, tentative_unpreconditioning=True\n",
      "roots(space_domain=None, epsilon=1e-05, verbosity=0)\n",
      "roots = [[0.040687498088321984 .. 0.087000000000000078], [0.29982613976413352 .. 0.30000000000000027], [0.30151015739761316 .. 1.0320000000000021]]\n",
      "domain = [0.0000000000000000 .. 4.9989999999999997]\n",
      "roots = [[0.040687498088321984 .. 0.087000000000000078], \n",
      " [0.29982613976413352 .. 0.30000000000000027], \n",
      " [0.30151015739761316 .. 1.0320000000000021]]\n",
      "seg_domain = [0.0000000000000000 .. 4.9989999999999997]\n",
      "roots = [[0.040687498088321984 .. 0.087000000000000078], \n",
      " [0.29982613976413352 .. 0.30000000000000027], \n",
      " [0.30151015739761316 .. 1.0320000000000021]]\n"
     ]
    },
    {
     "data": {
      "text/html": [
       "<html><script type=\"math/tex; mode=display\">\\newcommand{\\Bold}[1]{\\mathbf{#1}}\\verb|Signal([0.0000000000000000|\\phantom{\\verb!x!}\\verb|..|\\phantom{\\verb!x!}\\verb|4.9989999999999997],|\\phantom{\\verb!x!}\\verb|[([0.0000000000000000|\\phantom{\\verb!x!}\\verb|..|\\phantom{\\verb!x!}\\verb|0.20569603978972223],|\\phantom{\\verb!x!}\\verb|True),|\\phantom{\\verb!x!}\\verb|([0.47844966933866983|\\phantom{\\verb!x!}\\verb|..|\\phantom{\\verb!x!}\\verb|4.4989999999999997],|\\phantom{\\verb!x!}\\verb|False)],|\\phantom{\\verb!x!}\\verb|mask=None)|</script></html>"
      ],
      "text/plain": [
       "Signal([0.0000000000000000 .. 4.9989999999999997], [([0.0000000000000000 .. 0.20569603978972223], True), ([0.47844966933866983 .. 4.4989999999999997], False)], mask=None)"
      ]
     },
     "execution_count": 92,
     "metadata": {},
     "output_type": "execute_result"
    }
   ],
   "source": [
    "sig = F([0, 0.5], Atomic(var(\"x6\") > 1.4) & G([0, 0.1], Atomic(var(\"x6\") < 1.8)  & F([0, 1], Atomic(var(\"x6\") < 1) & Atomic(var(\"x4\") < 0.02)))).signal(r)\n",
    "sig"
   ]
  },
  {
   "cell_type": "code",
   "execution_count": 93,
   "metadata": {},
   "outputs": [
    {
     "data": {
      "image/png": "[encoded data removed]",
      "text/plain": [
       "Graphics object consisting of 2 graphics primitives"
      ]
     },
     "execution_count": 93,
     "metadata": {},
     "output_type": "execute_result"
    }
   ],
   "source": [
    "sig.plot()"
   ]
  },
  {
   "cell_type": "code",
   "execution_count": 90,
   "metadata": {
    "scrolled": true
   },
   "outputs": [
    {
     "name": "stdout",
     "output_type": "stream",
     "text": [
      "var_id_x = 3\n",
      "var_id_y = 5\n"
     ]
    },
    {
     "data": {
      "image/png": "[encoded data removed]",
      "text/plain": [
       "Graphics object consisting of 500 graphics primitives"
      ]
     },
     "execution_count": 90,
     "metadata": {},
     "output_type": "execute_result"
    }
   ],
   "source": [
    "out = r.sage_interval_plot('x4', 'x6', 0.01)\n",
    "out.set_aspect_ratio(1/18)\n",
    "out"
   ]
  },
  {
   "cell_type": "code",
   "execution_count": 91,
   "metadata": {},
   "outputs": [
    {
     "data": {
      "image/png": "[encoded data removed]",
      "text/plain": [
       "Graphics object consisting of 504 graphics primitives"
      ]
     },
     "execution_count": 91,
     "metadata": {},
     "output_type": "execute_result"
    }
   ],
   "source": [
    "def f(x4, x6):\n",
    "    return (  (1/(0.002))*(x4 - 0.005)**2\n",
    "            + (1/(0.1))*(x6 - 0.4)**2\n",
    "            <= 1  )\n",
    "def g(x4, x6):\n",
    "    return (  (1/(0.0005))*(x4 - 0.02)**2\n",
    "            + (1/(0.3))*(x6 - 1)**2\n",
    "            <= 1  )\n",
    "\n",
    "out1 = (out\n",
    "        + region_plot(f, (x4, 0, 0.12), (x6, 0.2, 1.2), incol='pink', plot_points=500, bordercol='red')\n",
    "        + region_plot(g, (x4, 0, 0.12), (x6, 0.2, 1.2), incol='lightgreen', plot_points=500, bordercol='green'))\n",
    "out1.set_aspect_ratio(1/18)\n",
    "out1"
   ]
  },
  {
   "cell_type": "code",
   "execution_count": 92,
   "metadata": {},
   "outputs": [
    {
     "name": "stdout",
     "output_type": "stream",
     "text": [
      "PolyObserver(-500*x4^2 - 10*x6^2 + 5.000000000000001?*x4 + 8.000000000000001?*x6 - 0.612500000000000?, <flowstar.reachability.Reach object at 0x55e2176bf530>, -1000*x2*x4*x6 + 2.000000000000000?*x1*x6^2 + 20*x2*x6^2 + 40*x6^2*x8 + 100000*x4^2 - 0.8000000000000000?*x1*x6 - 3*x2*x6 - 1000*x3*x6 - 2000*x4*x6 - 1000*x5*x6 + 20*x6^2 - 16*x6*x8 + 400*x3 + 300*x4 + 400*x5 - 8*x6 symbolic_composition=False, tentative_unpreconditioning=True, mask=None)\n",
      "symbolic_composition=False, tentative_unpreconditioning=True\n",
      "roots(space_domain=None, epsilon=1e-05, verbosity=0)\n",
      "roots = [[1.1835465373955582 .. 1.6020000000000237], [4.3109999999991526 .. 5.0010000000001532]]\n",
      "domain = [0.0000000000000000 .. 4.9990000000000006]\n",
      "roots = [[1.1835465373955582 .. 1.6020000000000237], \n",
      " [4.3109999999991526 .. 5.0010000000001532]]\n",
      "seg_domain = [0.0000000000000000 .. 4.9990000000000006]\n",
      "roots = [[1.1835465373955582 .. 1.6020000000000237], \n",
      " [4.3109999999991526 .. 5.0010000000001532]]\n",
      "0 at 4.99900000000001\n"
     ]
    }
   ],
   "source": [
    "sig = Atomic(f(var(\"x4\"), var(\"x6\"))).signal(r)"
   ]
  },
  {
   "cell_type": "code",
   "execution_count": 93,
   "metadata": {},
   "outputs": [
    {
     "data": {
      "image/png": "[encoded data removed]",
      "text/plain": [
       "Graphics object consisting of 2 graphics primitives"
      ]
     },
     "execution_count": 93,
     "metadata": {},
     "output_type": "execute_result"
    }
   ],
   "source": [
    "sig.plot()"
   ]
  },
  {
   "cell_type": "code",
   "execution_count": 94,
   "metadata": {},
   "outputs": [
    {
     "name": "stdout",
     "output_type": "stream",
     "text": [
      "PolyObserver(-2000*x4^2 - 3.3333333333333335?*x6^2 + 80.00000000000001?*x4 + 6.6666666666666670?*x6 - 3.133333333333333?, <flowstar.reachability.Reach object at 0x55e2176bf530>, -4000*x2*x4*x6 + 0.6666666666666667?*x1*x6^2 + 6.6666666666666670?*x2*x6^2 + 13.333333333333334?*x6^2*x8 + 400000*x4^2 - 0.6666666666666667?*x1*x6 + 73.3333333333334?*x2*x6 - 333.3333333333334?*x3*x6 - 666.6666666666667?*x4*x6 - 333.3333333333334?*x5*x6 + 6.6666666666666670?*x6^2 - 13.333333333333334?*x6*x8 + 333.3333333333334?*x3 - 7333.333333333334?*x4 + 333.3333333333334?*x5 - 6.6666666666666670?*x6 symbolic_composition=False, tentative_unpreconditioning=True, mask=None)\n",
      "symbolic_composition=False, tentative_unpreconditioning=True\n",
      "roots(space_domain=None, epsilon=1e-05, verbosity=0)\n",
      "roots = [[0.0076987675904362212 .. 0.66900000000000060], [0.67050371695615840 .. 0.67200000000000060], [1.2772666750678645 .. 1.2780000000000114], [1.2794325702633493 .. 1.2794327690526084], [1.2794883806992534 .. 1.2794885079914622], [1.2795008860901804 .. 3.0480000000000787], [3.9059999999993491 .. 5.0010000000001532]]\n",
      "domain = [0.0000000000000000 .. 4.9990000000000006]\n",
      "roots = [[0.0076987675904362212 .. 0.66900000000000060], \n",
      " [0.67050371695615840 .. 0.67200000000000060], \n",
      " [1.2772666750678645 .. 1.2780000000000114], \n",
      " [1.2794325702633493 .. 1.2794327690526084], \n",
      " [1.2794883806992534 .. 1.2794885079914622], \n",
      " [1.2795008860901804 .. 3.0480000000000787], \n",
      " [3.9059999999993491 .. 5.0010000000001532]]\n",
      "seg_domain = [0.0000000000000000 .. 4.9990000000000006]\n",
      "roots = [[0.0076987675904362212 .. 0.66900000000000060], \n",
      " [0.67050371695615840 .. 0.67200000000000060], \n",
      " [1.2772666750678645 .. 1.2780000000000114], \n",
      " [1.2794325702633493 .. 1.2794327690526084], \n",
      " [1.2794883806992534 .. 1.2794885079914622], \n",
      " [1.2795008860901804 .. 3.0480000000000787], \n",
      " [3.9059999999993491 .. 5.0010000000001532]]\n",
      "0 at 4.99900000000001\n"
     ]
    },
    {
     "data": {
      "text/html": [
       "<html><script type=\"math/tex; mode=display\">\\newcommand{\\Bold}[1]{\\mathbf{#1}}\\verb|Signal([0.0000000000000000|\\phantom{\\verb!x!}\\verb|..|\\phantom{\\verb!x!}\\verb|4.9990000000000006],|\\phantom{\\verb!x!}\\verb|[([0.0000000000000000|\\phantom{\\verb!x!}\\verb|..|\\phantom{\\verb!x!}\\verb|0.0076987675904362213],|\\phantom{\\verb!x!}\\verb|False),|\\phantom{\\verb!x!}\\verb|([0.66900000000000059|\\phantom{\\verb!x!}\\verb|..|\\phantom{\\verb!x!}\\verb|0.67050371695615841],|\\phantom{\\verb!x!}\\verb|True),|\\phantom{\\verb!x!}\\verb|([0.67200000000000059|\\phantom{\\verb!x!}\\verb|..|\\phantom{\\verb!x!}\\verb|1.2772666750678646],|\\phantom{\\verb!x!}\\verb|True),|\\phantom{\\verb!x!}\\verb|([1.2780000000000113|\\phantom{\\verb!x!}\\verb|..|\\phantom{\\verb!x!}\\verb|1.2794325702633494],|\\phantom{\\verb!x!}\\verb|True),|\\phantom{\\verb!x!}\\verb|([1.2794327690526083|\\phantom{\\verb!x!}\\verb|..|\\phantom{\\verb!x!}\\verb|1.2794883806992535],|\\phantom{\\verb!x!}\\verb|True),|\\phantom{\\verb!x!}\\verb|([1.2794885079914621|\\phantom{\\verb!x!}\\verb|..|\\phantom{\\verb!x!}\\verb|1.2795008860901805],|\\phantom{\\verb!x!}\\verb|True),|\\phantom{\\verb!x!}\\verb|([3.0480000000000786|\\phantom{\\verb!x!}\\verb|..|\\phantom{\\verb!x!}\\verb|3.9059999999993492],|\\phantom{\\verb!x!}\\verb|False)],|\\phantom{\\verb!x!}\\verb|mask=None)|</script></html>"
      ],
      "text/plain": [
       "Signal([0.0000000000000000 .. 4.9990000000000006], [([0.0000000000000000 .. 0.0076987675904362213], False), ([0.66900000000000059 .. 0.67050371695615841], True), ([0.67200000000000059 .. 1.2772666750678646], True), ([1.2780000000000113 .. 1.2794325702633494], True), ([1.2794327690526083 .. 1.2794883806992535], True), ([1.2794885079914621 .. 1.2795008860901805], True), ([3.0480000000000786 .. 3.9059999999993492], False)], mask=None)"
      ]
     },
     "execution_count": 94,
     "metadata": {},
     "output_type": "execute_result"
    }
   ],
   "source": [
    "sig = Atomic(g(var(\"x4\"),var(\"x6\"))).signal(r)\n",
    "sig"
   ]
  },
  {
   "cell_type": "code",
   "execution_count": 95,
   "metadata": {},
   "outputs": [
    {
     "data": {
      "image/png": "[encoded data removed]",
      "text/plain": [
       "Graphics object consisting of 2 graphics primitives"
      ]
     },
     "execution_count": 95,
     "metadata": {},
     "output_type": "execute_result"
    }
   ],
   "source": [
    "sig.plot()"
   ]
  },
  {
   "cell_type": "code",
   "execution_count": 96,
   "metadata": {},
   "outputs": [
    {
     "name": "stdout",
     "output_type": "stream",
     "text": [
      "PolyObserver(-2000*x4^2 - 3.3333333333333335?*x6^2 + 80.00000000000001?*x4 + 6.6666666666666670?*x6 - 3.133333333333333?, <flowstar.reachability.Reach object at 0x55e2176bf530>, -4000*x2*x4*x6 + 0.6666666666666667?*x1*x6^2 + 6.6666666666666670?*x2*x6^2 + 13.333333333333334?*x6^2*x8 + 400000*x4^2 - 0.6666666666666667?*x1*x6 + 73.3333333333334?*x2*x6 - 333.3333333333334?*x3*x6 - 666.6666666666667?*x4*x6 - 333.3333333333334?*x5*x6 + 6.6666666666666670?*x6^2 - 13.333333333333334?*x6*x8 + 333.3333333333334?*x3 - 7333.333333333334?*x4 + 333.3333333333334?*x5 - 6.6666666666666670?*x6 symbolic_composition=False, tentative_unpreconditioning=True, mask=None)\n",
      "symbolic_composition=False, tentative_unpreconditioning=True\n",
      "roots(space_domain=None, epsilon=1e-05, verbosity=0)\n",
      "roots = [[0.0076987675904362212 .. 0.66900000000000060], [0.67050371695615840 .. 0.67200000000000060], [1.2772666750678645 .. 1.2780000000000114], [1.2794325702633493 .. 1.2794327690526084], [1.2794883806992534 .. 1.2794885079914622], [1.2795008860901804 .. 3.0480000000000787], [3.9059999999993491 .. 5.0010000000001532]]\n",
      "domain = [0.0000000000000000 .. 4.9990000000000006]\n",
      "roots = [[0.0076987675904362212 .. 0.66900000000000060], \n",
      " [0.67050371695615840 .. 0.67200000000000060], \n",
      " [1.2772666750678645 .. 1.2780000000000114], \n",
      " [1.2794325702633493 .. 1.2794327690526084], \n",
      " [1.2794883806992534 .. 1.2794885079914622], \n",
      " [1.2795008860901804 .. 3.0480000000000787], \n",
      " [3.9059999999993491 .. 5.0010000000001532]]\n",
      "seg_domain = [0.0000000000000000 .. 4.9990000000000006]\n",
      "roots = [[0.0076987675904362212 .. 0.66900000000000060], \n",
      " [0.67050371695615840 .. 0.67200000000000060], \n",
      " [1.2772666750678645 .. 1.2780000000000114], \n",
      " [1.2794325702633493 .. 1.2794327690526084], \n",
      " [1.2794883806992534 .. 1.2794885079914622], \n",
      " [1.2795008860901804 .. 3.0480000000000787], \n",
      " [3.9059999999993491 .. 5.0010000000001532]]\n",
      "0 at 4.99900000000001\n"
     ]
    },
    {
     "data": {
      "text/html": [
       "<html><script type=\"math/tex; mode=display\">\\newcommand{\\Bold}[1]{\\mathbf{#1}}\\verb|Signal([0.0000000000000000|\\phantom{\\verb!x!}\\verb|..|\\phantom{\\verb!x!}\\verb|4.9990000000000006],|\\phantom{\\verb!x!}\\verb|[([0.0000000000000000|\\phantom{\\verb!x!}\\verb|..|\\phantom{\\verb!x!}\\verb|1.2772666750678646],|\\phantom{\\verb!x!}\\verb|True)],|\\phantom{\\verb!x!}\\verb|mask=None)|</script></html>"
      ],
      "text/plain": [
       "Signal([0.0000000000000000 .. 4.9990000000000006], [([0.0000000000000000 .. 1.2772666750678646], True)], mask=None)"
      ]
     },
     "execution_count": 96,
     "metadata": {},
     "output_type": "execute_result"
    }
   ],
   "source": [
    "sig = F(RIF(0,1), Atomic(g(var(\"x4\"),var(\"x6\")))).signal(r)\n",
    "sig"
   ]
  },
  {
   "cell_type": "code",
   "execution_count": 97,
   "metadata": {},
   "outputs": [
    {
     "name": "stderr",
     "output_type": "stream",
     "text": [
      "/usr/lib64/python3.7/site-packages/sage/plot/contour_plot.py:205: UserWarning: No contour levels were found within the data range.\n",
      "  linewidths=linewidths, linestyles=linestyles)\n"
     ]
    },
    {
     "data": {
      "image/png": "[encoded data removed]",
      "text/plain": [
       "Graphics object consisting of 2 graphics primitives"
      ]
     },
     "execution_count": 97,
     "metadata": {},
     "output_type": "execute_result"
    }
   ],
   "source": [
    "sig.plot()"
   ]
  },
  {
   "cell_type": "code",
   "execution_count": 98,
   "metadata": {},
   "outputs": [
    {
     "name": "stdout",
     "output_type": "stream",
     "text": [
      "PolyObserver(-2000*x4^2 - 3.3333333333333335?*x6^2 + 80.00000000000001?*x4 + 6.6666666666666670?*x6 - 3.133333333333333?, <flowstar.reachability.Reach object at 0x55e2176bf530>, -4000*x2*x4*x6 + 0.6666666666666667?*x1*x6^2 + 6.6666666666666670?*x2*x6^2 + 13.333333333333334?*x6^2*x8 + 400000*x4^2 - 0.6666666666666667?*x1*x6 + 73.3333333333334?*x2*x6 - 333.3333333333334?*x3*x6 - 666.6666666666667?*x4*x6 - 333.3333333333334?*x5*x6 + 6.6666666666666670?*x6^2 - 13.333333333333334?*x6*x8 + 333.3333333333334?*x3 - 7333.333333333334?*x4 + 333.3333333333334?*x5 - 6.6666666666666670?*x6 symbolic_composition=False, tentative_unpreconditioning=True, mask=None)\n",
      "symbolic_composition=False, tentative_unpreconditioning=True\n",
      "roots(space_domain=None, epsilon=1e-05, verbosity=0)\n",
      "roots = [[0.0076987675904362212 .. 0.66900000000000060], [0.67050371695615840 .. 0.67200000000000060], [1.2772666750678645 .. 1.2780000000000114], [1.2794325702633493 .. 1.2794327690526084], [1.2794883806992534 .. 1.2794885079914622], [1.2795008860901804 .. 3.0480000000000787], [3.9059999999993491 .. 5.0010000000001532]]\n",
      "domain = [0.0000000000000000 .. 4.9990000000000006]\n",
      "roots = [[0.0076987675904362212 .. 0.66900000000000060], \n",
      " [0.67050371695615840 .. 0.67200000000000060], \n",
      " [1.2772666750678645 .. 1.2780000000000114], \n",
      " [1.2794325702633493 .. 1.2794327690526084], \n",
      " [1.2794883806992534 .. 1.2794885079914622], \n",
      " [1.2795008860901804 .. 3.0480000000000787], \n",
      " [3.9059999999993491 .. 5.0010000000001532]]\n",
      "seg_domain = [0.0000000000000000 .. 4.9990000000000006]\n",
      "roots = [[0.0076987675904362212 .. 0.66900000000000060], \n",
      " [0.67050371695615840 .. 0.67200000000000060], \n",
      " [1.2772666750678645 .. 1.2780000000000114], \n",
      " [1.2794325702633493 .. 1.2794327690526084], \n",
      " [1.2794883806992534 .. 1.2794885079914622], \n",
      " [1.2795008860901804 .. 3.0480000000000787], \n",
      " [3.9059999999993491 .. 5.0010000000001532]]\n",
      "0 at 4.99900000000001\n",
      "In G.signal\n",
      "PolyObserver(-500*x4^2 - 10*x6^2 + 5.000000000000001?*x4 + 8.000000000000001?*x6 - 0.612500000000000?, <flowstar.reachability.Reach object at 0x55e2176bf530>, -1000*x2*x4*x6 + 2.000000000000000?*x1*x6^2 + 20*x2*x6^2 + 40*x6^2*x8 + 100000*x4^2 - 0.8000000000000000?*x1*x6 - 3*x2*x6 - 1000*x3*x6 - 2000*x4*x6 - 1000*x5*x6 + 20*x6^2 - 16*x6*x8 + 400*x3 + 300*x4 + 400*x5 - 8*x6 symbolic_composition=False, tentative_unpreconditioning=True, mask=None)\n",
      "symbolic_composition=False, tentative_unpreconditioning=True\n",
      "roots(space_domain=None, epsilon=1e-05, verbosity=0)\n",
      "roots = [[1.1835465373955582 .. 1.6020000000000237], [4.3109999999991526 .. 5.0010000000001532]]\n",
      "domain = [0.0000000000000000 .. 4.9990000000000006]\n",
      "roots = [[1.1835465373955582 .. 1.6020000000000237], \n",
      " [4.3109999999991526 .. 5.0010000000001532]]\n",
      "seg_domain = [0.0000000000000000 .. 4.9990000000000006]\n",
      "roots = [[1.1835465373955582 .. 1.6020000000000237], \n",
      " [4.3109999999991526 .. 5.0010000000001532]]\n",
      "0 at 4.99900000000001\n"
     ]
    },
    {
     "data": {
      "text/html": [
       "<html><script type=\"math/tex; mode=display\">\\newcommand{\\Bold}[1]{\\mathbf{#1}}\\verb|Signal([0.0000000000000000|\\phantom{\\verb!x!}\\verb|..|\\phantom{\\verb!x!}\\verb|4.9990000000000006],|\\phantom{\\verb!x!}\\verb|[([0.0000000000000000|\\phantom{\\verb!x!}\\verb|..|\\phantom{\\verb!x!}\\verb|1.2772666750678646],|\\phantom{\\verb!x!}\\verb|True)],|\\phantom{\\verb!x!}\\verb|mask=None)|</script></html>"
      ],
      "text/plain": [
       "Signal([0.0000000000000000 .. 4.9990000000000006], [([0.0000000000000000 .. 1.2772666750678646], True)], mask=None)"
      ]
     },
     "execution_count": 98,
     "metadata": {},
     "output_type": "execute_result"
    }
   ],
   "source": [
    "sig = F(RIF(0,1),\n",
    "        Atomic(g(var(\"x4\"),var(\"x6\")))\n",
    "        & F(RIF(0, 1),\n",
    "            G(RIF(0, 1),\n",
    "              Atomic(f(var(\"x4\"), var(\"x6\")))))).signal(r)\n",
    "sig"
   ]
  },
  {
   "cell_type": "code",
   "execution_count": 99,
   "metadata": {},
   "outputs": [
    {
     "name": "stderr",
     "output_type": "stream",
     "text": [
      "/usr/lib64/python3.7/site-packages/sage/plot/contour_plot.py:205: UserWarning: No contour levels were found within the data range.\n",
      "  linewidths=linewidths, linestyles=linestyles)\n"
     ]
    },
    {
     "data": {
      "image/png": "[encoded data removed]",
      "text/plain": [
       "Graphics object consisting of 2 graphics primitives"
      ]
     },
     "execution_count": 99,
     "metadata": {},
     "output_type": "execute_result"
    }
   ],
   "source": [
    "sig.plot()"
   ]
  },
  {
   "cell_type": "code",
   "execution_count": 100,
   "metadata": {},
   "outputs": [],
   "source": [
    "def test_monitoring(prop, duration, **kwargs):\n",
    "    t0 = time.time()\n",
    "    sig = prop.signal_for_system(sys,\n",
    "    duration, order=4, step=0.003,\n",
    "    precondition=1,\n",
    "    estimation=1e-1,\n",
    "    max_remainder_queue=100,\n",
    "    integration_method=IntegrationMethod.ONLY_PICARD_SYMB,\n",
    "    cutoff_threshold=1e-6,\n",
    "    **kwargs)\n",
    "    t1 = time.time()\n",
    "    print(f\"Run done in {t1 - t0} sec\\noptions: {repr(kwargs)}\")\n",
    "    return t1 - t0, sig"
   ]
  },
  {
   "cell_type": "code",
   "execution_count": 101,
   "metadata": {},
   "outputs": [],
   "source": [
    "prop = F(RIF(0,1),\n",
    "         Atomic(g(var(\"x4\"),var(\"x6\")))\n",
    "       & F(RIF(0, 1),\n",
    "           G(RIF(0, 1),\n",
    "             Atomic(f(var(\"x4\"), var(\"x6\"))))))"
   ]
  },
  {
   "cell_type": "code",
   "execution_count": 102,
   "metadata": {},
   "outputs": [
    {
     "name": "stdout",
     "output_type": "stream",
     "text": [
      "Precomposed systems in 5.793571472167969e-05 sec\n",
      "calling reach with y0 = ['[0.97999999999999998 .. 1.0200000000000001]', '[1.2799999999999998 .. 1.3200000000000001]', '[0.079999999999999987 .. 0.12000000000000001]', '[0.079999999999999987 .. 0.12000000000000001]', '[0.079999999999999987 .. 0.12000000000000001]', '[1.2799999999999998 .. 1.3200000000000001]', '[2.4799999999999999 .. 2.5200000000000001]', '[0.57999999999999996 .. 0.62000000000000011]', '[1.2799999999999998 .. 1.3200000000000001]']\n",
      "ode in polynomial ring\n",
      "_handle_initials called!\n",
      "vars = [x1, x2, x3, x4, x5, x6, x7, x8, x9]\n",
      "C = [0.98..1.02]\n",
      "C = [1.2799999999999998..1.32]\n",
      "C = [0.07999999999999999..0.12000000000000001]\n",
      "C = [0.07999999999999999..0.12000000000000001]\n",
      "C = [0.07999999999999999..0.12000000000000001]\n",
      "C = [1.2799999999999998..1.32]\n",
      "C = [2.48..2.52]\n",
      "C = [0.58..0.6200000000000001]\n",
      "C = [1.2799999999999998..1.32]\n",
      "integrationScheme = 7\n",
      "Computed 1667 flowpipes in 117.376131772995 sec\n",
      "PolyObserver(-2000*x4^2 - 3.3333333333333335?*x6^2 + 80.00000000000001?*x4 + 6.6666666666666670?*x6 - 3.133333333333333?, <flowstar.reachability.Reach object at 0x55e21d103590>, -4000*x2*x4*x6 + 0.6666666666666667?*x1*x6^2 + 6.6666666666666670?*x2*x6^2 + 13.333333333333334?*x6^2*x8 + 400000*x4^2 - 0.6666666666666667?*x1*x6 + 73.3333333333334?*x2*x6 - 333.3333333333334?*x3*x6 - 666.6666666666667?*x4*x6 - 333.3333333333334?*x5*x6 + 6.6666666666666670?*x6^2 - 13.333333333333334?*x6*x8 + 333.3333333333334?*x3 - 7333.333333333334?*x4 + 333.3333333333334?*x5 - 6.6666666666666670?*x6 symbolic_composition=False, tentative_unpreconditioning=True, mask=None)\n",
      "symbolic_composition=False, tentative_unpreconditioning=True\n",
      "roots(space_domain=None, epsilon=1e-05, verbosity=0)\n",
      "roots = [[0.0076987675904362212 .. 0.66900000000000060], [0.67050371695615840 .. 0.67200000000000060], [1.2772666750678645 .. 1.2780000000000114], [1.2794325702633493 .. 1.2794327690526084], [1.2794883806992534 .. 1.2794885079914622], [1.2795008860901804 .. 3.0480000000000787], [3.9059999999993491 .. 5.0010000000001532]]\n",
      "domain = [0.0000000000000000 .. 5.0000000000000009]\n",
      "roots = [[0.0076987675904362212 .. 0.66900000000000060], \n",
      " [0.67050371695615840 .. 0.67200000000000060], \n",
      " [1.2772666750678645 .. 1.2780000000000114], \n",
      " [1.2794325702633493 .. 1.2794327690526084], \n",
      " [1.2794883806992534 .. 1.2794885079914622], \n",
      " [1.2795008860901804 .. 3.0480000000000787], \n",
      " [3.9059999999993491 .. 5.0010000000001532]]\n",
      "seg_domain = [0.0000000000000000 .. 5.0000000000000009]\n",
      "roots = [[0.0076987675904362212 .. 0.66900000000000060], \n",
      " [0.67050371695615840 .. 0.67200000000000060], \n",
      " [1.2772666750678645 .. 1.2780000000000114], \n",
      " [1.2794325702633493 .. 1.2794327690526084], \n",
      " [1.2794883806992534 .. 1.2794885079914622], \n",
      " [1.2795008860901804 .. 3.0480000000000787], \n",
      " [3.9059999999993491 .. 5.0010000000001532]]\n",
      "0 at 5.00000000000001\n",
      "In G.signal\n",
      "PolyObserver(-500*x4^2 - 10*x6^2 + 5.000000000000001?*x4 + 8.000000000000001?*x6 - 0.612500000000000?, <flowstar.reachability.Reach object at 0x55e21d103590>, -1000*x2*x4*x6 + 2.000000000000000?*x1*x6^2 + 20*x2*x6^2 + 40*x6^2*x8 + 100000*x4^2 - 0.8000000000000000?*x1*x6 - 3*x2*x6 - 1000*x3*x6 - 2000*x4*x6 - 1000*x5*x6 + 20*x6^2 - 16*x6*x8 + 400*x3 + 300*x4 + 400*x5 - 8*x6 symbolic_composition=False, tentative_unpreconditioning=True, mask=None)\n",
      "symbolic_composition=False, tentative_unpreconditioning=True\n",
      "roots(space_domain=None, epsilon=1e-05, verbosity=0)\n",
      "roots = [[1.1835465373955582 .. 1.6020000000000237], [4.3109999999991526 .. 5.0010000000001532]]\n",
      "domain = [0.0000000000000000 .. 5.0000000000000009]\n",
      "roots = [[1.1835465373955582 .. 1.6020000000000237], \n",
      " [4.3109999999991526 .. 5.0010000000001532]]\n",
      "seg_domain = [0.0000000000000000 .. 5.0000000000000009]\n",
      "roots = [[1.1835465373955582 .. 1.6020000000000237], \n",
      " [4.3109999999991526 .. 5.0010000000001532]]\n",
      "0 at 5.00000000000001\n",
      "Monitored signal in 180.29253602027893 sec\n",
      "Run done in 298.44782757759094 sec\n",
      "options: {}\n"
     ]
    },
    {
     "name": "stderr",
     "output_type": "stream",
     "text": [
      "/usr/lib64/python3.7/site-packages/sage/plot/contour_plot.py:205: UserWarning: No contour levels were found within the data range.\n",
      "  linewidths=linewidths, linestyles=linestyles)\n"
     ]
    },
    {
     "data": {
      "image/png": "[encoded data removed]",
      "text/plain": [
       "Graphics object consisting of 2 graphics primitives"
      ]
     },
     "execution_count": 102,
     "metadata": {},
     "output_type": "execute_result"
    }
   ],
   "source": [
    "test_monitoring(prop, 2)[1].plot()"
   ]
  },
  {
   "cell_type": "code",
   "execution_count": 103,
   "metadata": {},
   "outputs": [
    {
     "name": "stdout",
     "output_type": "stream",
     "text": [
      "Precomposed systems in 5.340576171875e-05 sec\n",
      "calling reach with y0 = ['[0.97999999999999998 .. 1.0200000000000001]', '[1.2799999999999998 .. 1.3200000000000001]', '[0.079999999999999987 .. 0.12000000000000001]', '[0.079999999999999987 .. 0.12000000000000001]', '[0.079999999999999987 .. 0.12000000000000001]', '[1.2799999999999998 .. 1.3200000000000001]', '[2.4799999999999999 .. 2.5200000000000001]', '[0.57999999999999996 .. 0.62000000000000011]', '[1.2799999999999998 .. 1.3200000000000001]']\n",
      "ode in polynomial ring\n",
      "_handle_initials called!\n",
      "vars = [x1, x2, x3, x4, x5, x6, x7, x8, x9]\n",
      "C = [0.98..1.02]\n",
      "C = [1.2799999999999998..1.32]\n",
      "C = [0.07999999999999999..0.12000000000000001]\n",
      "C = [0.07999999999999999..0.12000000000000001]\n",
      "C = [0.07999999999999999..0.12000000000000001]\n",
      "C = [1.2799999999999998..1.32]\n",
      "C = [2.48..2.52]\n",
      "C = [0.58..0.6200000000000001]\n",
      "C = [1.2799999999999998..1.32]\n",
      "integrationScheme = 7\n",
      "Pre-composing Taylor models: 170.45186686515808 sec\n",
      "Computed 1667 flowpipes in 283.6208872795105 sec\n",
      "PolyObserver(-2000*x4^2 - 3.3333333333333335?*x6^2 + 80.00000000000001?*x4 + 6.6666666666666670?*x6 - 3.133333333333333?, <flowstar.reachability.Reach object at 0x55e1f9f4cc40>, -4000*x2*x4*x6 + 0.6666666666666667?*x1*x6^2 + 6.6666666666666670?*x2*x6^2 + 13.333333333333334?*x6^2*x8 + 400000*x4^2 - 0.6666666666666667?*x1*x6 + 73.3333333333334?*x2*x6 - 333.3333333333334?*x3*x6 - 666.6666666666667?*x4*x6 - 333.3333333333334?*x5*x6 + 6.6666666666666670?*x6^2 - 13.333333333333334?*x6*x8 + 333.3333333333334?*x3 - 7333.333333333334?*x4 + 333.3333333333334?*x5 - 6.6666666666666670?*x6 symbolic_composition=False, tentative_unpreconditioning=True, mask=None)\n",
      "symbolic_composition=False, tentative_unpreconditioning=True\n",
      "roots(space_domain=None, epsilon=1e-05, verbosity=0)\n",
      "roots = [[0.0076987675904362212 .. 0.66900000000000060], [0.67050371695615840 .. 0.67200000000000060], [1.2772666750678645 .. 1.2780000000000114], [1.2794325702633493 .. 1.2794327690526084], [1.2794883806992534 .. 1.2794885079914622], [1.2795008860901804 .. 3.0480000000000787], [3.9059999999993491 .. 5.0010000000001532]]\n",
      "domain = [0.0000000000000000 .. 5.0000000000000009]\n",
      "roots = [[0.0076987675904362212 .. 0.66900000000000060], \n",
      " [0.67050371695615840 .. 0.67200000000000060], \n",
      " [1.2772666750678645 .. 1.2780000000000114], \n",
      " [1.2794325702633493 .. 1.2794327690526084], \n",
      " [1.2794883806992534 .. 1.2794885079914622], \n",
      " [1.2795008860901804 .. 3.0480000000000787], \n",
      " [3.9059999999993491 .. 5.0010000000001532]]\n",
      "seg_domain = [0.0000000000000000 .. 5.0000000000000009]\n",
      "roots = [[0.0076987675904362212 .. 0.66900000000000060], \n",
      " [0.67050371695615840 .. 0.67200000000000060], \n",
      " [1.2772666750678645 .. 1.2780000000000114], \n",
      " [1.2794325702633493 .. 1.2794327690526084], \n",
      " [1.2794883806992534 .. 1.2794885079914622], \n",
      " [1.2795008860901804 .. 3.0480000000000787], \n",
      " [3.9059999999993491 .. 5.0010000000001532]]\n",
      "0 at 5.00000000000001\n",
      "In G.signal\n",
      "PolyObserver(-500*x4^2 - 10*x6^2 + 5.000000000000001?*x4 + 8.000000000000001?*x6 - 0.612500000000000?, <flowstar.reachability.Reach object at 0x55e1f9f4cc40>, -1000*x2*x4*x6 + 2.000000000000000?*x1*x6^2 + 20*x2*x6^2 + 40*x6^2*x8 + 100000*x4^2 - 0.8000000000000000?*x1*x6 - 3*x2*x6 - 1000*x3*x6 - 2000*x4*x6 - 1000*x5*x6 + 20*x6^2 - 16*x6*x8 + 400*x3 + 300*x4 + 400*x5 - 8*x6 symbolic_composition=False, tentative_unpreconditioning=True, mask=None)\n",
      "symbolic_composition=False, tentative_unpreconditioning=True\n",
      "roots(space_domain=None, epsilon=1e-05, verbosity=0)\n",
      "roots = [[1.1835465373955582 .. 1.6020000000000237], [4.3109999999991526 .. 5.0010000000001532]]\n",
      "domain = [0.0000000000000000 .. 5.0000000000000009]\n",
      "roots = [[1.1835465373955582 .. 1.6020000000000237], \n",
      " [4.3109999999991526 .. 5.0010000000001532]]\n",
      "seg_domain = [0.0000000000000000 .. 5.0000000000000009]\n",
      "roots = [[1.1835465373955582 .. 1.6020000000000237], \n",
      " [4.3109999999991526 .. 5.0010000000001532]]\n",
      "0 at 5.00000000000001\n",
      "Monitored signal in 31.04481077194214 sec\n",
      "Run done in 314.874883890152 sec\n",
      "options: {'precompose_taylor_models': True}\n"
     ]
    },
    {
     "name": "stderr",
     "output_type": "stream",
     "text": [
      "/usr/lib64/python3.7/site-packages/sage/plot/contour_plot.py:205: UserWarning: No contour levels were found within the data range.\n",
      "  linewidths=linewidths, linestyles=linestyles)\n"
     ]
    },
    {
     "data": {
      "image/png": "[encoded data removed]",
      "text/plain": [
       "Graphics object consisting of 2 graphics primitives"
      ]
     },
     "execution_count": 103,
     "metadata": {},
     "output_type": "execute_result"
    }
   ],
   "source": [
    "test_monitoring(prop, 2, precompose_taylor_models=True)[1].plot()"
   ]
  },
  {
   "cell_type": "code",
   "execution_count": 104,
   "metadata": {},
   "outputs": [
    {
     "name": "stdout",
     "output_type": "stream",
     "text": [
      "Precomposed systems in 5.364418029785156e-05 sec\n",
      "calling reach with y0 = ['[0.97999999999999998 .. 1.0200000000000001]', '[1.2799999999999998 .. 1.3200000000000001]', '[0.079999999999999987 .. 0.12000000000000001]', '[0.079999999999999987 .. 0.12000000000000001]', '[0.079999999999999987 .. 0.12000000000000001]', '[1.2799999999999998 .. 1.3200000000000001]', '[2.4799999999999999 .. 2.5200000000000001]', '[0.57999999999999996 .. 0.62000000000000011]', '[1.2799999999999998 .. 1.3200000000000001]']\n",
      "ode in polynomial ring\n",
      "_handle_initials called!\n",
      "vars = [x1, x2, x3, x4, x5, x6, x7, x8, x9]\n",
      "C = [0.98..1.02]\n",
      "C = [1.2799999999999998..1.32]\n",
      "C = [0.07999999999999999..0.12000000000000001]\n",
      "C = [0.07999999999999999..0.12000000000000001]\n",
      "C = [0.07999999999999999..0.12000000000000001]\n",
      "C = [1.2799999999999998..1.32]\n",
      "C = [2.48..2.52]\n",
      "C = [0.58..0.6200000000000001]\n",
      "C = [1.2799999999999998..1.32]\n",
      "integrationScheme = 7\n",
      "Computed 1667 flowpipes in 121.82417559623718 sec\n",
      "PolyObserver(-2000*x4^2 - 3.3333333333333335?*x6^2 + 80.00000000000001?*x4 + 6.6666666666666670?*x6 - 3.133333333333333?, <flowstar.reachability.Reach object at 0x55e22de9b010>, -4000*x2*x4*x6 + 0.6666666666666667?*x1*x6^2 + 6.6666666666666670?*x2*x6^2 + 13.333333333333334?*x6^2*x8 + 400000*x4^2 - 0.6666666666666667?*x1*x6 + 73.3333333333334?*x2*x6 - 333.3333333333334?*x3*x6 - 666.6666666666667?*x4*x6 - 333.3333333333334?*x5*x6 + 6.6666666666666670?*x6^2 - 13.333333333333334?*x6*x8 + 333.3333333333334?*x3 - 7333.333333333334?*x4 + 333.3333333333334?*x5 - 6.6666666666666670?*x6 symbolic_composition=True, tentative_unpreconditioning=True, mask=None)\n",
      "symbolic_composition=True, tentative_unpreconditioning=True\n",
      "roots(space_domain=None, epsilon=1e-05, verbosity=0)\n",
      "roots = [[0.0029999999999999996 .. 0.34800000000000031], [1.8383980183863810 .. 2.0550000000000411]]\n",
      "domain = [0.0000000000000000 .. 5.0000000000000009]\n",
      "roots = [[0.0029999999999999996 .. 0.34800000000000031], \n",
      " [1.8383980183863810 .. 2.0550000000000411]]\n",
      "seg_domain = [0.0000000000000000 .. 5.0000000000000009]\n",
      "roots = [[0.0029999999999999996 .. 0.34800000000000031], \n",
      " [1.8383980183863810 .. 2.0550000000000411]]\n",
      "In G.signal\n",
      "PolyObserver(-500*x4^2 - 10*x6^2 + 5.000000000000001?*x4 + 8.000000000000001?*x6 - 0.612500000000000?, <flowstar.reachability.Reach object at 0x55e22de9b010>, -1000*x2*x4*x6 + 2.000000000000000?*x1*x6^2 + 20*x2*x6^2 + 40*x6^2*x8 + 100000*x4^2 - 0.8000000000000000?*x1*x6 - 3*x2*x6 - 1000*x3*x6 - 2000*x4*x6 - 1000*x5*x6 + 20*x6^2 - 16*x6*x8 + 400*x3 + 300*x4 + 400*x5 - 8*x6 symbolic_composition=True, tentative_unpreconditioning=True, mask=None)\n",
      "symbolic_composition=True, tentative_unpreconditioning=True\n",
      "roots(space_domain=None, epsilon=1e-05, verbosity=0)\n",
      "roots = [[1.2586356194639614 .. 1.4615366456389598]]\n",
      "domain = [0.0000000000000000 .. 5.0000000000000009]\n",
      "roots = [[1.2586356194639614 .. 1.4615366456389598]]\n",
      "seg_domain = [0.0000000000000000 .. 5.0000000000000009]\n",
      "roots = [[1.2586356194639614 .. 1.4615366456389598]]\n",
      "Monitored signal in 755.0877974033356 sec\n",
      "Run done in 877.9003653526306 sec\n",
      "options: {'symbolic_composition': True}\n"
     ]
    },
    {
     "name": "stderr",
     "output_type": "stream",
     "text": [
      "/usr/lib64/python3.7/site-packages/sage/plot/contour_plot.py:205: UserWarning: No contour levels were found within the data range.\n",
      "  linewidths=linewidths, linestyles=linestyles)\n"
     ]
    },
    {
     "data": {
      "image/png": "[encoded data removed]",
      "text/plain": [
       "Graphics object consisting of 2 graphics primitives"
      ]
     },
     "execution_count": 104,
     "metadata": {},
     "output_type": "execute_result"
    }
   ],
   "source": [
    "test_monitoring(prop, 2, symbolic_composition=True)[1].plot()"
   ]
  },
  {
   "cell_type": "code",
   "execution_count": 105,
   "metadata": {},
   "outputs": [
    {
     "name": "stdout",
     "output_type": "stream",
     "text": [
      "Precomposed systems in 6.008148193359375e-05 sec\n",
      "calling reach with y0 = ['[0.97999999999999998 .. 1.0200000000000001]', '[1.2799999999999998 .. 1.3200000000000001]', '[0.079999999999999987 .. 0.12000000000000001]', '[0.079999999999999987 .. 0.12000000000000001]', '[0.079999999999999987 .. 0.12000000000000001]', '[1.2799999999999998 .. 1.3200000000000001]', '[2.4799999999999999 .. 2.5200000000000001]', '[0.57999999999999996 .. 0.62000000000000011]', '[1.2799999999999998 .. 1.3200000000000001]']\n",
      "ode in polynomial ring\n",
      "_handle_initials called!\n",
      "vars = [x1, x2, x3, x4, x5, x6, x7, x8, x9]\n",
      "C = [0.98..1.02]\n",
      "C = [1.2799999999999998..1.32]\n",
      "C = [0.07999999999999999..0.12000000000000001]\n",
      "C = [0.07999999999999999..0.12000000000000001]\n",
      "C = [0.07999999999999999..0.12000000000000001]\n",
      "C = [1.2799999999999998..1.32]\n",
      "C = [2.48..2.52]\n",
      "C = [0.58..0.6200000000000001]\n",
      "C = [1.2799999999999998..1.32]\n",
      "integrationScheme = 7\n",
      "Pre-composing Taylor models: 185.5115818977356 sec\n",
      "Computed 1667 flowpipes in 306.80768871307373 sec\n",
      "PolyObserver(-2000*x4^2 - 3.3333333333333335?*x6^2 + 80.00000000000001?*x4 + 6.6666666666666670?*x6 - 3.133333333333333?, <flowstar.reachability.Reach object at 0x55e230f7be00>, -4000*x2*x4*x6 + 0.6666666666666667?*x1*x6^2 + 6.6666666666666670?*x2*x6^2 + 13.333333333333334?*x6^2*x8 + 400000*x4^2 - 0.6666666666666667?*x1*x6 + 73.3333333333334?*x2*x6 - 333.3333333333334?*x3*x6 - 666.6666666666667?*x4*x6 - 333.3333333333334?*x5*x6 + 6.6666666666666670?*x6^2 - 13.333333333333334?*x6*x8 + 333.3333333333334?*x3 - 7333.333333333334?*x4 + 333.3333333333334?*x5 - 6.6666666666666670?*x6 symbolic_composition=True, tentative_unpreconditioning=True, mask=None)\n",
      "symbolic_composition=True, tentative_unpreconditioning=True\n",
      "roots(space_domain=None, epsilon=1e-05, verbosity=0)\n",
      "roots = [[0.0029999999999999996 .. 0.34800000000000031], [1.8383980183863810 .. 2.0550000000000411]]\n",
      "domain = [0.0000000000000000 .. 5.0000000000000009]\n",
      "roots = [[0.0029999999999999996 .. 0.34800000000000031], \n",
      " [1.8383980183863810 .. 2.0550000000000411]]\n",
      "seg_domain = [0.0000000000000000 .. 5.0000000000000009]\n",
      "roots = [[0.0029999999999999996 .. 0.34800000000000031], \n",
      " [1.8383980183863810 .. 2.0550000000000411]]\n",
      "In G.signal\n",
      "PolyObserver(-500*x4^2 - 10*x6^2 + 5.000000000000001?*x4 + 8.000000000000001?*x6 - 0.612500000000000?, <flowstar.reachability.Reach object at 0x55e230f7be00>, -1000*x2*x4*x6 + 2.000000000000000?*x1*x6^2 + 20*x2*x6^2 + 40*x6^2*x8 + 100000*x4^2 - 0.8000000000000000?*x1*x6 - 3*x2*x6 - 1000*x3*x6 - 2000*x4*x6 - 1000*x5*x6 + 20*x6^2 - 16*x6*x8 + 400*x3 + 300*x4 + 400*x5 - 8*x6 symbolic_composition=True, tentative_unpreconditioning=True, mask=None)\n",
      "symbolic_composition=True, tentative_unpreconditioning=True\n",
      "roots(space_domain=None, epsilon=1e-05, verbosity=0)\n",
      "roots = [[1.2586356194639614 .. 1.4615366456389598]]\n",
      "domain = [0.0000000000000000 .. 5.0000000000000009]\n",
      "roots = [[1.2586356194639614 .. 1.4615366456389598]]\n",
      "seg_domain = [0.0000000000000000 .. 5.0000000000000009]\n",
      "roots = [[1.2586356194639614 .. 1.4615366456389598]]\n",
      "Monitored signal in 477.0283968448639 sec\n",
      "Run done in 784.0470833778381 sec\n",
      "options: {'symbolic_composition': True, 'precompose_taylor_models': True}\n"
     ]
    },
    {
     "name": "stderr",
     "output_type": "stream",
     "text": [
      "/usr/lib64/python3.7/site-packages/sage/plot/contour_plot.py:205: UserWarning: No contour levels were found within the data range.\n",
      "  linewidths=linewidths, linestyles=linestyles)\n"
     ]
    },
    {
     "data": {
      "image/png": "[encoded data removed]",
      "text/plain": [
       "Graphics object consisting of 2 graphics primitives"
      ]
     },
     "execution_count": 105,
     "metadata": {},
     "output_type": "execute_result"
    }
   ],
   "source": [
    "test_monitoring(prop, 2, symbolic_composition=True, precompose_taylor_models=True)[1].plot()"
   ]
  },
  {
   "cell_type": "code",
   "execution_count": 106,
   "metadata": {},
   "outputs": [
    {
     "name": "stdout",
     "output_type": "stream",
     "text": [
      "Precomposed systems in 5.745887756347656e-05 sec\n",
      "calling reach with y0 = ['[0.97999999999999998 .. 1.0200000000000001]', '[1.2799999999999998 .. 1.3200000000000001]', '[0.079999999999999987 .. 0.12000000000000001]', '[0.079999999999999987 .. 0.12000000000000001]', '[0.079999999999999987 .. 0.12000000000000001]', '[1.2799999999999998 .. 1.3200000000000001]', '[2.4799999999999999 .. 2.5200000000000001]', '[0.57999999999999996 .. 0.62000000000000011]', '[1.2799999999999998 .. 1.3200000000000001]']\n",
      "ode in polynomial ring\n",
      "_handle_initials called!\n",
      "vars = [x1, x2, x3, x4, x5, x6, x7, x8, x9]\n",
      "C = [0.98..1.02]\n",
      "C = [1.2799999999999998..1.32]\n",
      "C = [0.07999999999999999..0.12000000000000001]\n",
      "C = [0.07999999999999999..0.12000000000000001]\n",
      "C = [0.07999999999999999..0.12000000000000001]\n",
      "C = [1.2799999999999998..1.32]\n",
      "C = [2.48..2.52]\n",
      "C = [0.58..0.6200000000000001]\n",
      "C = [1.2799999999999998..1.32]\n",
      "integrationScheme = 7\n",
      "Computed 1667 flowpipes in 121.67455673217773 sec\n",
      "PolyObserver(-2000*x4^2 - 3.3333333333333335?*x6^2 + 80.00000000000001?*x4 + 6.6666666666666670?*x6 - 3.133333333333333?, <flowstar.reachability.Reach object at 0x55e21d5b6000>, -4000*x2*x4*x6 + 0.6666666666666667?*x1*x6^2 + 6.6666666666666670?*x2*x6^2 + 13.333333333333334?*x6^2*x8 + 400000*x4^2 - 0.6666666666666667?*x1*x6 + 73.3333333333334?*x2*x6 - 333.3333333333334?*x3*x6 - 666.6666666666667?*x4*x6 - 333.3333333333334?*x5*x6 + 6.6666666666666670?*x6^2 - 13.333333333333334?*x6*x8 + 333.3333333333334?*x3 - 7333.333333333334?*x4 + 333.3333333333334?*x5 - 6.6666666666666670?*x6 symbolic_composition=True, tentative_unpreconditioning=True, mask=Mask([0.0000000000000000 .. 5.0010000000000004], [[0.0000000000000000 .. 3.0010000000000004]]))\n",
      "symbolic_composition=True, tentative_unpreconditioning=True\n",
      "roots(space_domain=None, epsilon=1e-05, verbosity=0)\n",
      "roots = [[0.0029999999999999996 .. 0.34800000000000031], [0.44399999999999006 .. 0.44700000000000040], [1.8383980183863812 .. 2.0550000000000411]]\n",
      "domain = [0.0000000000000000 .. 5.0000000000000009]\n",
      "roots = [[0.0029999999999999996 .. 0.34800000000000031], \n",
      " [0.44399999999999006 .. 0.44700000000000040], \n",
      " [1.8383980183863812 .. 2.0550000000000411]]\n",
      "seg_domain = [0.0000000000000000 .. 3.0010000000000004]\n",
      "roots = [[0.0029999999999999996 .. 0.34800000000000031], \n",
      " [0.44399999999999006 .. 0.44700000000000040], \n",
      " [1.8383980183863812 .. 2.0550000000000411]]\n",
      "In G.signal\n",
      "PolyObserver(-500*x4^2 - 10*x6^2 + 5.000000000000001?*x4 + 8.000000000000001?*x6 - 0.612500000000000?, <flowstar.reachability.Reach object at 0x55e21d5b6000>, -1000*x2*x4*x6 + 2.000000000000000?*x1*x6^2 + 20*x2*x6^2 + 40*x6^2*x8 + 100000*x4^2 - 0.8000000000000000?*x1*x6 - 3*x2*x6 - 1000*x3*x6 - 2000*x4*x6 - 1000*x5*x6 + 20*x6^2 - 16*x6*x8 + 400*x3 + 300*x4 + 400*x5 - 8*x6 symbolic_composition=True, tentative_unpreconditioning=True, mask=Mask([0.0000000000000000 .. 7.0000000000000009], [[0.0029999999999999996 .. 5.0010000000000004]]))\n",
      "symbolic_composition=True, tentative_unpreconditioning=True\n",
      "roots(space_domain=None, epsilon=1e-05, verbosity=0)\n",
      "roots = [[1.2586356194639616 .. 1.4615366456389598]]\n",
      "domain = [0.0000000000000000 .. 5.0000000000000000]\n",
      "roots = [[1.2586356194639616 .. 1.4615366456389598]]\n",
      "seg_domain = [0.0029999999999999996 .. 5.0010000000000004]\n",
      "roots = [[1.2586356194639616 .. 1.4615366456389598]]\n",
      "Monitored signal in 520.7538342475891 sec\n",
      "Run done in 643.2612113952637 sec\n",
      "options: {'symbolic_composition': True, 'use_masks': True}\n"
     ]
    },
    {
     "name": "stderr",
     "output_type": "stream",
     "text": [
      "/usr/lib64/python3.7/site-packages/sage/plot/contour_plot.py:205: UserWarning: No contour levels were found within the data range.\n",
      "  linewidths=linewidths, linestyles=linestyles)\n"
     ]
    },
    {
     "data": {
      "image/png": "[encoded data removed]",
      "text/plain": [
       "Graphics object consisting of 2 graphics primitives"
      ]
     },
     "execution_count": 106,
     "metadata": {},
     "output_type": "execute_result"
    }
   ],
   "source": [
    "test_monitoring(prop, 2, symbolic_composition=True, use_masks=True)[1].plot()"
   ]
  },
  {
   "cell_type": "code",
   "execution_count": 107,
   "metadata": {},
   "outputs": [
    {
     "name": "stdout",
     "output_type": "stream",
     "text": [
      "Precomposed systems in 5.7697296142578125e-05 sec\n",
      "calling reach with y0 = ['[0.97999999999999998 .. 1.0200000000000001]', '[1.2799999999999998 .. 1.3200000000000001]', '[0.079999999999999987 .. 0.12000000000000001]', '[0.079999999999999987 .. 0.12000000000000001]', '[0.079999999999999987 .. 0.12000000000000001]', '[1.2799999999999998 .. 1.3200000000000001]', '[2.4799999999999999 .. 2.5200000000000001]', '[0.57999999999999996 .. 0.62000000000000011]', '[1.2799999999999998 .. 1.3200000000000001]']\n",
      "ode in polynomial ring\n",
      "_handle_initials called!\n",
      "vars = [x1, x2, x3, x4, x5, x6, x7, x8, x9]\n",
      "C = [0.98..1.02]\n",
      "C = [1.2799999999999998..1.32]\n",
      "C = [0.07999999999999999..0.12000000000000001]\n",
      "C = [0.07999999999999999..0.12000000000000001]\n",
      "C = [0.07999999999999999..0.12000000000000001]\n",
      "C = [1.2799999999999998..1.32]\n",
      "C = [2.48..2.52]\n",
      "C = [0.58..0.6200000000000001]\n",
      "C = [1.2799999999999998..1.32]\n",
      "integrationScheme = 7\n",
      "Computed 1667 flowpipes in 120.10864996910095 sec\n",
      "PolyObserver(-2000*x4^2 - 3.3333333333333335?*x6^2 + 80.00000000000001?*x4 + 6.6666666666666670?*x6 - 3.133333333333333?, <flowstar.reachability.Reach object at 0x55e236a4d260>, -4000*x2*x4*x6 + 0.6666666666666667?*x1*x6^2 + 6.6666666666666670?*x2*x6^2 + 13.333333333333334?*x6^2*x8 + 400000*x4^2 - 0.6666666666666667?*x1*x6 + 73.3333333333334?*x2*x6 - 333.3333333333334?*x3*x6 - 666.6666666666667?*x4*x6 - 333.3333333333334?*x5*x6 + 6.6666666666666670?*x6^2 - 13.333333333333334?*x6*x8 + 333.3333333333334?*x3 - 7333.333333333334?*x4 + 333.3333333333334?*x5 - 6.6666666666666670?*x6 symbolic_composition=False, tentative_unpreconditioning=True, mask=Mask([0.0000000000000000 .. 5.0010000000000004], [[0.0000000000000000 .. 3.0010000000000004]]))\n",
      "symbolic_composition=False, tentative_unpreconditioning=True\n",
      "roots(space_domain=None, epsilon=1e-05, verbosity=0)\n",
      "roots = [[0.0076987675904362212 .. 0.66900000000000060], [0.67050371695615851 .. 0.67200000000000060], [1.2772666750678647 .. 1.2780000000000114], [1.2794325702633495 .. 1.2794327690526084], [1.2794883806992534 .. 1.2794885079914622], [1.2795008860901804 .. 3.0000000000000769]]\n",
      "domain = [0.0000000000000000 .. 5.0000000000000009]\n",
      "roots = [[0.0076987675904362212 .. 0.66900000000000060], \n",
      " [0.67050371695615851 .. 0.67200000000000060], \n",
      " [1.2772666750678647 .. 1.2780000000000114], \n",
      " [1.2794325702633495 .. 1.2794327690526084], \n",
      " [1.2794883806992534 .. 1.2794885079914622], \n",
      " [1.2795008860901804 .. 3.0000000000000769]]\n",
      "seg_domain = [0.0000000000000000 .. 3.0010000000000004]\n",
      "roots = [[0.0076987675904362212 .. 0.66900000000000060], \n",
      " [0.67050371695615851 .. 0.67200000000000060], \n",
      " [1.2772666750678647 .. 1.2780000000000114], \n",
      " [1.2794325702633495 .. 1.2794327690526084], \n",
      " [1.2794883806992534 .. 1.2794885079914622], \n",
      " [1.2795008860901804 .. 3.0000000000000769]]\n",
      "In G.signal\n",
      "PolyObserver(-500*x4^2 - 10*x6^2 + 5.000000000000001?*x4 + 8.000000000000001?*x6 - 0.612500000000000?, <flowstar.reachability.Reach object at 0x55e236a4d260>, -1000*x2*x4*x6 + 2.000000000000000?*x1*x6^2 + 20*x2*x6^2 + 40*x6^2*x8 + 100000*x4^2 - 0.8000000000000000?*x1*x6 - 3*x2*x6 - 1000*x3*x6 - 2000*x4*x6 - 1000*x5*x6 + 20*x6^2 - 16*x6*x8 + 400*x3 + 300*x4 + 400*x5 - 8*x6 symbolic_composition=False, tentative_unpreconditioning=True, mask=Mask([0.0000000000000000 .. 7.0000000000000009], [[0.0076987675904362212 .. 5.0010000000000004]]))\n",
      "symbolic_composition=False, tentative_unpreconditioning=True\n",
      "roots(space_domain=None, epsilon=1e-05, verbosity=0)\n",
      "roots = [[1.1835465373955584 .. 1.6020000000000237], [4.3109999999991526 .. 5.0010000000001532]]\n",
      "domain = [0.0000000000000000 .. 5.0000000000000009]\n",
      "roots = [[1.1835465373955584 .. 1.6020000000000237], \n",
      " [4.3109999999991526 .. 5.0010000000001532]]\n",
      "seg_domain = [0.0076987675904362212 .. 5.0010000000000004]\n",
      "roots = [[1.1835465373955584 .. 1.6020000000000237], \n",
      " [4.3109999999991526 .. 5.0010000000001532]]\n",
      "0 at 5.00100000000001\n",
      "Monitored signal in 161.3397717475891 sec\n",
      "Run done in 281.9668447971344 sec\n",
      "options: {'symbolic_composition': False, 'use_masks': True}\n"
     ]
    },
    {
     "name": "stderr",
     "output_type": "stream",
     "text": [
      "/usr/lib64/python3.7/site-packages/sage/plot/contour_plot.py:205: UserWarning: No contour levels were found within the data range.\n",
      "  linewidths=linewidths, linestyles=linestyles)\n"
     ]
    },
    {
     "data": {
      "image/png": "[encoded data removed]",
      "text/plain": [
       "Graphics object consisting of 2 graphics primitives"
      ]
     },
     "execution_count": 107,
     "metadata": {},
     "output_type": "execute_result"
    }
   ],
   "source": [
    "test_monitoring(prop, 2, symbolic_composition=False, use_masks=True)[1].plot()"
   ]
  },
  {
   "cell_type": "code",
   "execution_count": 108,
   "metadata": {},
   "outputs": [
    {
     "name": "stdout",
     "output_type": "stream",
     "text": [
      "Precomposed systems in 5.7220458984375e-05 sec\n",
      "calling reach with y0 = ['[0.97999999999999998 .. 1.0200000000000001]', '[1.2799999999999998 .. 1.3200000000000001]', '[0.079999999999999987 .. 0.12000000000000001]', '[0.079999999999999987 .. 0.12000000000000001]', '[0.079999999999999987 .. 0.12000000000000001]', '[1.2799999999999998 .. 1.3200000000000001]', '[2.4799999999999999 .. 2.5200000000000001]', '[0.57999999999999996 .. 0.62000000000000011]', '[1.2799999999999998 .. 1.3200000000000001]']\n",
      "ode in polynomial ring\n",
      "_handle_initials called!\n",
      "vars = [x1, x2, x3, x4, x5, x6, x7, x8, x9]\n",
      "C = [0.98..1.02]\n",
      "C = [1.2799999999999998..1.32]\n",
      "C = [0.07999999999999999..0.12000000000000001]\n",
      "C = [0.07999999999999999..0.12000000000000001]\n",
      "C = [0.07999999999999999..0.12000000000000001]\n",
      "C = [1.2799999999999998..1.32]\n",
      "C = [2.48..2.52]\n",
      "C = [0.58..0.6200000000000001]\n",
      "C = [1.2799999999999998..1.32]\n",
      "integrationScheme = 7\n",
      "Pre-composing Taylor models: 179.15682983398438 sec\n",
      "Computed 1667 flowpipes in 302.9506719112396 sec\n",
      "PolyObserver(-2000*x4^2 - 3.3333333333333335?*x6^2 + 80.00000000000001?*x4 + 6.6666666666666670?*x6 - 3.133333333333333?, <flowstar.reachability.Reach object at 0x55e23c000a70>, -4000*x2*x4*x6 + 0.6666666666666667?*x1*x6^2 + 6.6666666666666670?*x2*x6^2 + 13.333333333333334?*x6^2*x8 + 400000*x4^2 - 0.6666666666666667?*x1*x6 + 73.3333333333334?*x2*x6 - 333.3333333333334?*x3*x6 - 666.6666666666667?*x4*x6 - 333.3333333333334?*x5*x6 + 6.6666666666666670?*x6^2 - 13.333333333333334?*x6*x8 + 333.3333333333334?*x3 - 7333.333333333334?*x4 + 333.3333333333334?*x5 - 6.6666666666666670?*x6 symbolic_composition=False, tentative_unpreconditioning=True, mask=Mask([0.0000000000000000 .. 5.0010000000000004], [[0.0000000000000000 .. 3.0009999999999999]]))\n",
      "symbolic_composition=False, tentative_unpreconditioning=True\n",
      "roots(space_domain=None, epsilon=1e-05, verbosity=0)\n",
      "roots = [[0.0076987675904362212 .. 0.66900000000000060], [0.67050371695615851 .. 0.67200000000000060], [1.2772666750678647 .. 1.2780000000000114], [1.2794325702633495 .. 1.2794327690526084], [1.2794883806992534 .. 1.2794885079914622], [1.2795008860901804 .. 3.0010000000004938]]\n",
      "domain = [0.0000000000000000 .. 5.0000000000000009]\n",
      "roots = [[0.0076987675904362212 .. 0.66900000000000060], \n",
      " [0.67050371695615851 .. 0.67200000000000060], \n",
      " [1.2772666750678647 .. 1.2780000000000114], \n",
      " [1.2794325702633495 .. 1.2794327690526084], \n",
      " [1.2794883806992534 .. 1.2794885079914622], \n",
      " [1.2795008860901804 .. 3.0010000000004938]]\n",
      "seg_domain = [0.0000000000000000 .. 3.0009999999999999]\n",
      "roots = [[0.0076987675904362212 .. 0.66900000000000060], \n",
      " [0.67050371695615851 .. 0.67200000000000060], \n",
      " [1.2772666750678647 .. 1.2780000000000114], \n",
      " [1.2794325702633495 .. 1.2794327690526084], \n",
      " [1.2794883806992534 .. 1.2794885079914622], \n",
      " [1.2795008860901804 .. 3.0010000000004938]]\n",
      "0 at 3.00100000000000\n",
      "In G.signal\n",
      "PolyObserver(-500*x4^2 - 10*x6^2 + 5.000000000000001?*x4 + 8.000000000000001?*x6 - 0.612500000000000?, <flowstar.reachability.Reach object at 0x55e23c000a70>, -1000*x2*x4*x6 + 2.000000000000000?*x1*x6^2 + 20*x2*x6^2 + 40*x6^2*x8 + 100000*x4^2 - 0.8000000000000000?*x1*x6 - 3*x2*x6 - 1000*x3*x6 - 2000*x4*x6 - 1000*x5*x6 + 20*x6^2 - 16*x6*x8 + 400*x3 + 300*x4 + 400*x5 - 8*x6 symbolic_composition=False, tentative_unpreconditioning=True, mask=Mask([0.0000000000000000 .. 7.0000000000000009], [[0.0076987675904362212 .. 5.0010000000000004]]))\n",
      "symbolic_composition=False, tentative_unpreconditioning=True\n",
      "roots(space_domain=None, epsilon=1e-05, verbosity=0)\n",
      "roots = [[1.1835465373955584 .. 1.6020000000000237], [4.3109999999991526 .. 5.0010000000001532]]\n",
      "domain = [0.0000000000000000 .. 5.0000000000000009]\n",
      "roots = [[1.1835465373955584 .. 1.6020000000000237], \n",
      " [4.3109999999991526 .. 5.0010000000001532]]\n",
      "seg_domain = [0.0076987675904362212 .. 5.0010000000000004]\n",
      "roots = [[1.1835465373955584 .. 1.6020000000000237], \n",
      " [4.3109999999991526 .. 5.0010000000001532]]\n",
      "0 at 5.00100000000001\n",
      "Monitored signal in 24.584229707717896 sec\n",
      "Run done in 327.7619078159332 sec\n",
      "options: {'symbolic_composition': False, 'use_masks': True, 'precompose_taylor_models': True}\n"
     ]
    },
    {
     "name": "stderr",
     "output_type": "stream",
     "text": [
      "/usr/lib64/python3.7/site-packages/sage/plot/contour_plot.py:205: UserWarning: No contour levels were found within the data range.\n",
      "  linewidths=linewidths, linestyles=linestyles)\n"
     ]
    },
    {
     "data": {
      "image/png": "[encoded data removed]",
      "text/plain": [
       "Graphics object consisting of 2 graphics primitives"
      ]
     },
     "execution_count": 108,
     "metadata": {},
     "output_type": "execute_result"
    }
   ],
   "source": [
    "test_monitoring(prop, 2, symbolic_composition=False, use_masks=True, precompose_taylor_models=True)[1].plot()"
   ]
  },
  {
   "cell_type": "code",
   "execution_count": 109,
   "metadata": {},
   "outputs": [
    {
     "name": "stdout",
     "output_type": "stream",
     "text": [
      "Precomposed systems in 5.7220458984375e-06 sec\n",
      "calling reach with y0 = ['[0.97999999999999998 .. 1.0200000000000001]', '[1.2799999999999998 .. 1.3200000000000001]', '[0.079999999999999987 .. 0.12000000000000001]', '[0.079999999999999987 .. 0.12000000000000001]', '[0.079999999999999987 .. 0.12000000000000001]', '[1.2799999999999998 .. 1.3200000000000001]', '[2.4799999999999999 .. 2.5200000000000001]', '[0.57999999999999996 .. 0.62000000000000011]', '[1.2799999999999998 .. 1.3200000000000001]']\n",
      "ode in polynomial ring\n",
      "_handle_initials called!\n",
      "vars = [x1, x2, x3, x4, x5, x6, x7, x8, x9]\n",
      "C = [0.98..1.02]\n",
      "C = [1.2799999999999998..1.32]\n",
      "C = [0.07999999999999999..0.12000000000000001]\n",
      "C = [0.07999999999999999..0.12000000000000001]\n",
      "C = [0.07999999999999999..0.12000000000000001]\n",
      "C = [1.2799999999999998..1.32]\n",
      "C = [2.48..2.52]\n",
      "C = [0.58..0.6200000000000001]\n",
      "C = [1.2799999999999998..1.32]\n",
      "integrationScheme = 7\n"
     ]
    },
    {
     "ename": "FlowstarFailedException",
     "evalue": "Did not run successfully!\nstatus = 4\nnum_flowpipes = 1887",
     "output_type": "error",
     "traceback": [
      "\u001b[0;31m---------------------------------------------------------------------------\u001b[0m",
      "\u001b[0;31mFlowstarFailedException\u001b[0m                   Traceback (most recent call last)",
      "\u001b[0;32m<ipython-input-109-c4555c7d8f4c>\u001b[0m in \u001b[0;36m<module>\u001b[0;34m()\u001b[0m\n\u001b[0;32m----> 1\u001b[0;31m \u001b[0mtest_monitoring\u001b[0m\u001b[0;34m(\u001b[0m\u001b[0mAtomic\u001b[0m\u001b[0;34m(\u001b[0m\u001b[0mvar\u001b[0m\u001b[0;34m(\u001b[0m\u001b[0;34m\"x8\"\u001b[0m\u001b[0;34m)\u001b[0m \u001b[0;34m<=\u001b[0m \u001b[0mRealNumber\u001b[0m\u001b[0;34m(\u001b[0m\u001b[0;34m'0.8'\u001b[0m\u001b[0;34m)\u001b[0m\u001b[0;34m)\u001b[0m\u001b[0;34m,\u001b[0m \u001b[0mInteger\u001b[0m\u001b[0;34m(\u001b[0m\u001b[0;36m7\u001b[0m\u001b[0;34m)\u001b[0m\u001b[0;34m)\u001b[0m\u001b[0;34m[\u001b[0m\u001b[0mInteger\u001b[0m\u001b[0;34m(\u001b[0m\u001b[0;36m1\u001b[0m\u001b[0;34m)\u001b[0m\u001b[0;34m]\u001b[0m\u001b[0;34m.\u001b[0m\u001b[0mplot\u001b[0m\u001b[0;34m(\u001b[0m\u001b[0;34m)\u001b[0m\u001b[0;34m\u001b[0m\u001b[0;34m\u001b[0m\u001b[0m\n\u001b[0m",
      "\u001b[0;32m<ipython-input-100-75fd57e1cf04>\u001b[0m in \u001b[0;36mtest_monitoring\u001b[0;34m(prop, duration, **kwargs)\u001b[0m\n\u001b[1;32m      8\u001b[0m     \u001b[0mintegration_method\u001b[0m\u001b[0;34m=\u001b[0m\u001b[0mIntegrationMethod\u001b[0m\u001b[0;34m.\u001b[0m\u001b[0mONLY_PICARD_SYMB\u001b[0m\u001b[0;34m,\u001b[0m\u001b[0;34m\u001b[0m\u001b[0;34m\u001b[0m\u001b[0m\n\u001b[1;32m      9\u001b[0m     \u001b[0mcutoff_threshold\u001b[0m\u001b[0;34m=\u001b[0m\u001b[0mRealNumber\u001b[0m\u001b[0;34m(\u001b[0m\u001b[0;34m'1e-6'\u001b[0m\u001b[0;34m)\u001b[0m\u001b[0;34m,\u001b[0m\u001b[0;34m\u001b[0m\u001b[0;34m\u001b[0m\u001b[0m\n\u001b[0;32m---> 10\u001b[0;31m     **kwargs)\n\u001b[0m\u001b[1;32m     11\u001b[0m     \u001b[0mt1\u001b[0m \u001b[0;34m=\u001b[0m \u001b[0mtime\u001b[0m\u001b[0;34m.\u001b[0m\u001b[0mtime\u001b[0m\u001b[0;34m(\u001b[0m\u001b[0;34m)\u001b[0m\u001b[0;34m\u001b[0m\u001b[0;34m\u001b[0m\u001b[0m\n\u001b[1;32m     12\u001b[0m     \u001b[0mprint\u001b[0m\u001b[0;34m(\u001b[0m\u001b[0;34mf\"Run done in {t1 - t0} sec\\noptions: {repr(kwargs)}\"\u001b[0m\u001b[0;34m)\u001b[0m\u001b[0;34m\u001b[0m\u001b[0;34m\u001b[0m\u001b[0m\n",
      "\u001b[0;32m/home/twright/Drive/Documents/PhD/Notebooks/ulbc/logic.py\u001b[0m in \u001b[0;36msignal_for_system\u001b[0;34m(self, use_masks, mask, *args, **kwargs)\u001b[0m\n\u001b[1;32m    406\u001b[0m                 \u001b[0muse_masks\u001b[0m\u001b[0;34m=\u001b[0m\u001b[0muse_masks\u001b[0m\u001b[0;34m,\u001b[0m\u001b[0;34m\u001b[0m\u001b[0;34m\u001b[0m\u001b[0m\n\u001b[1;32m    407\u001b[0m                 \u001b[0mmask\u001b[0m\u001b[0;34m=\u001b[0m\u001b[0mmask\u001b[0m\u001b[0;34m,\u001b[0m\u001b[0;34m\u001b[0m\u001b[0;34m\u001b[0m\u001b[0m\n\u001b[0;32m--> 408\u001b[0;31m                 \u001b[0;34m**\u001b[0m\u001b[0mkwargs\u001b[0m\u001b[0;34m,\u001b[0m\u001b[0;34m\u001b[0m\u001b[0;34m\u001b[0m\u001b[0m\n\u001b[0m\u001b[1;32m    409\u001b[0m             )\n\u001b[1;32m    410\u001b[0m \u001b[0;34m\u001b[0m\u001b[0m\n",
      "\u001b[0;32m/home/twright/Drive/Documents/PhD/Notebooks/ulbc/logic.py\u001b[0m in \u001b[0;36msignal_for_system\u001b[0;34m(self, precompose_systems, *args, **kwargs)\u001b[0m\n\u001b[1;32m     78\u001b[0m             \u001b[0mt1\u001b[0m \u001b[0;34m=\u001b[0m \u001b[0mtime\u001b[0m\u001b[0;34m.\u001b[0m\u001b[0mtime\u001b[0m\u001b[0;34m(\u001b[0m\u001b[0;34m)\u001b[0m\u001b[0;34m\u001b[0m\u001b[0;34m\u001b[0m\u001b[0m\n\u001b[1;32m     79\u001b[0m             \u001b[0mprint\u001b[0m\u001b[0;34m(\u001b[0m\u001b[0;34mf\"Precomposed systems in {t1 - t0} sec\"\u001b[0m\u001b[0;34m)\u001b[0m\u001b[0;34m\u001b[0m\u001b[0;34m\u001b[0m\u001b[0m\n\u001b[0;32m---> 80\u001b[0;31m             \u001b[0;32mreturn\u001b[0m \u001b[0mcomposed\u001b[0m\u001b[0;34m.\u001b[0m\u001b[0msignal\u001b[0m\u001b[0;34m(\u001b[0m\u001b[0mduration\u001b[0m\u001b[0;34m,\u001b[0m \u001b[0;34m**\u001b[0m\u001b[0mkwargs\u001b[0m\u001b[0;34m)\u001b[0m\u001b[0;34m\u001b[0m\u001b[0;34m\u001b[0m\u001b[0m\n\u001b[0m\u001b[1;32m     81\u001b[0m         \u001b[0;32melse\u001b[0m\u001b[0;34m:\u001b[0m\u001b[0;34m\u001b[0m\u001b[0;34m\u001b[0m\u001b[0m\n\u001b[1;32m     82\u001b[0m             return self._signal_for_system(system, duration,\n",
      "\u001b[0;32m/home/twright/Drive/Documents/PhD/Notebooks/ulbc/logic.py\u001b[0m in \u001b[0;36msignal\u001b[0;34m(self, *args, **kwargs)\u001b[0m\n\u001b[1;32m    285\u001b[0m \u001b[0;34m\u001b[0m\u001b[0m\n\u001b[1;32m    286\u001b[0m         \u001b[0mkwargs\u001b[0m\u001b[0;34m[\u001b[0m\u001b[0;34m'precompose_systems'\u001b[0m\u001b[0;34m]\u001b[0m \u001b[0;34m=\u001b[0m \u001b[0;32mFalse\u001b[0m\u001b[0;34m\u001b[0m\u001b[0;34m\u001b[0m\u001b[0m\n\u001b[0;32m--> 287\u001b[0;31m         \u001b[0;32mreturn\u001b[0m \u001b[0mself\u001b[0m\u001b[0;34m.\u001b[0m\u001b[0mphi\u001b[0m\u001b[0;34m.\u001b[0m\u001b[0msignal_for_system\u001b[0m\u001b[0;34m(\u001b[0m\u001b[0mself\u001b[0m\u001b[0;34m.\u001b[0m\u001b[0msystem\u001b[0m\u001b[0;34m,\u001b[0m \u001b[0mduration\u001b[0m\u001b[0;34m,\u001b[0m \u001b[0;34m**\u001b[0m\u001b[0mkwargs\u001b[0m\u001b[0;34m)\u001b[0m\u001b[0;34m\u001b[0m\u001b[0;34m\u001b[0m\u001b[0m\n\u001b[0m\u001b[1;32m    288\u001b[0m \u001b[0;34m\u001b[0m\u001b[0m\n\u001b[1;32m    289\u001b[0m     \u001b[0;32mdef\u001b[0m \u001b[0msignal_for_system\u001b[0m\u001b[0;34m(\u001b[0m\u001b[0mself\u001b[0m\u001b[0;34m,\u001b[0m \u001b[0msystem\u001b[0m\u001b[0;34m:\u001b[0m \u001b[0mSystem\u001b[0m\u001b[0;34m,\u001b[0m \u001b[0mduration\u001b[0m\u001b[0;34m:\u001b[0m \u001b[0mfloat\u001b[0m\u001b[0;34m,\u001b[0m \u001b[0;34m**\u001b[0m\u001b[0mkwargs\u001b[0m\u001b[0;34m)\u001b[0m\u001b[0;34m:\u001b[0m\u001b[0;34m\u001b[0m\u001b[0;34m\u001b[0m\u001b[0m\n",
      "\u001b[0;32m/home/twright/Drive/Documents/PhD/Notebooks/ulbc/logic.py\u001b[0m in \u001b[0;36msignal_for_system\u001b[0;34m(self, use_masks, mask, *args, **kwargs)\u001b[0m\n\u001b[1;32m    406\u001b[0m                 \u001b[0muse_masks\u001b[0m\u001b[0;34m=\u001b[0m\u001b[0muse_masks\u001b[0m\u001b[0;34m,\u001b[0m\u001b[0;34m\u001b[0m\u001b[0;34m\u001b[0m\u001b[0m\n\u001b[1;32m    407\u001b[0m                 \u001b[0mmask\u001b[0m\u001b[0;34m=\u001b[0m\u001b[0mmask\u001b[0m\u001b[0;34m,\u001b[0m\u001b[0;34m\u001b[0m\u001b[0;34m\u001b[0m\u001b[0m\n\u001b[0;32m--> 408\u001b[0;31m                 \u001b[0;34m**\u001b[0m\u001b[0mkwargs\u001b[0m\u001b[0;34m,\u001b[0m\u001b[0;34m\u001b[0m\u001b[0;34m\u001b[0m\u001b[0m\n\u001b[0m\u001b[1;32m    409\u001b[0m             )\n\u001b[1;32m    410\u001b[0m \u001b[0;34m\u001b[0m\u001b[0m\n",
      "\u001b[0;32m/home/twright/Drive/Documents/PhD/Notebooks/ulbc/logic.py\u001b[0m in \u001b[0;36msignal_for_system\u001b[0;34m(self, precompose_systems, *args, **kwargs)\u001b[0m\n\u001b[1;32m     81\u001b[0m         \u001b[0;32melse\u001b[0m\u001b[0;34m:\u001b[0m\u001b[0;34m\u001b[0m\u001b[0;34m\u001b[0m\u001b[0m\n\u001b[1;32m     82\u001b[0m             return self._signal_for_system(system, duration,\n\u001b[0;32m---> 83\u001b[0;31m                 precompose_systems=False, **kwargs)\n\u001b[0m\u001b[1;32m     84\u001b[0m \u001b[0;34m\u001b[0m\u001b[0m\n\u001b[1;32m     85\u001b[0m     \u001b[0;32mdef\u001b[0m \u001b[0m_signal_for_system\u001b[0m\u001b[0;34m(\u001b[0m\u001b[0mself\u001b[0m\u001b[0;34m,\u001b[0m \u001b[0msystem\u001b[0m\u001b[0;34m,\u001b[0m \u001b[0mduration\u001b[0m\u001b[0;34m,\u001b[0m \u001b[0muse_masks\u001b[0m\u001b[0;34m=\u001b[0m\u001b[0;32mFalse\u001b[0m\u001b[0;34m,\u001b[0m \u001b[0mmask\u001b[0m\u001b[0;34m=\u001b[0m\u001b[0;32mNone\u001b[0m\u001b[0;34m,\u001b[0m \u001b[0;34m**\u001b[0m\u001b[0mkwargs\u001b[0m\u001b[0;34m)\u001b[0m\u001b[0;34m:\u001b[0m\u001b[0;34m\u001b[0m\u001b[0;34m\u001b[0m\u001b[0m\n",
      "\u001b[0;32m/home/twright/Drive/Documents/PhD/Notebooks/ulbc/logic.py\u001b[0m in \u001b[0;36m_signal_for_system\u001b[0;34m(self, system, duration, use_masks, mask, **kwargs)\u001b[0m\n\u001b[1;32m    105\u001b[0m                 \u001b[0;34m\"Did not run successfully!\\n\"\u001b[0m\u001b[0;34m\u001b[0m\u001b[0;34m\u001b[0m\u001b[0m\n\u001b[1;32m    106\u001b[0m                 \"status = {}\\nnum_flowpipes = {}\".format(reach.result,\n\u001b[0;32m--> 107\u001b[0;31m                                                          reach.num_flowpipes))\n\u001b[0m\u001b[1;32m    108\u001b[0m         \u001b[0;31m# Report time of each stage of computation\u001b[0m\u001b[0;34m\u001b[0m\u001b[0;34m\u001b[0m\u001b[0;34m\u001b[0m\u001b[0m\n\u001b[1;32m    109\u001b[0m         \u001b[0mt1\u001b[0m \u001b[0;34m=\u001b[0m \u001b[0mtime\u001b[0m\u001b[0;34m.\u001b[0m\u001b[0mtime\u001b[0m\u001b[0;34m(\u001b[0m\u001b[0;34m)\u001b[0m\u001b[0;34m\u001b[0m\u001b[0;34m\u001b[0m\u001b[0m\n",
      "\u001b[0;31mFlowstarFailedException\u001b[0m: Did not run successfully!\nstatus = 4\nnum_flowpipes = 1887"
     ]
    }
   ],
   "source": [
    "test_monitoring(Atomic(var(\"x8\") <= 0.8), 7)[1].plot()"
   ]
  },
  {
   "cell_type": "code",
   "execution_count": null,
   "metadata": {},
   "outputs": [],
   "source": [
    "test_monitoring(Atomic(var(\"x8\") <= 0.8), 7, symbolic_composition=True)[1].plot()"
   ]
  },
  {
   "cell_type": "code",
   "execution_count": null,
   "metadata": {
    "scrolled": false
   },
   "outputs": [],
   "source": [
    "test_monitoring(Atomic(var(\"x8\") <= 0.8), 7, symbolic_composition=True, masks=True)[1].plot()"
   ]
  },
  {
   "cell_type": "code",
   "execution_count": null,
   "metadata": {},
   "outputs": [],
   "source": [
    "test_monitoring(Atomic(var(\"x8\") <= 0.8), 7, symbolic_composition=True, masks=True, tentative_unpreconditioning=False)[1].plot()"
   ]
  },
  {
   "cell_type": "code",
   "execution_count": 182,
   "metadata": {},
   "outputs": [
    {
     "name": "stdout",
     "output_type": "stream",
     "text": [
      "Precomposed systems in 7.62939453125e-06 sec\n",
      "calling reach with y0 = ['[0.97999999999999998 .. 1.0200000000000001]', '[1.2799999999999998 .. 1.3200000000000001]', '[0.079999999999999987 .. 0.12000000000000001]', '[0.079999999999999987 .. 0.12000000000000001]', '[0.079999999999999987 .. 0.12000000000000001]', '[1.2799999999999998 .. 1.3200000000000001]', '[2.4799999999999999 .. 2.5200000000000001]', '[0.57999999999999996 .. 0.62000000000000011]', '[1.2799999999999998 .. 1.3200000000000001]']\n",
      "ode in polynomial ring\n",
      "_handle_initials called!\n",
      "vars = [x1, x2, x3, x4, x5, x6, x7, x8, x9]\n",
      "C = [0.98..1.02]\n",
      "C = [1.2799999999999998..1.32]\n",
      "C = [0.07999999999999999..0.12000000000000001]\n",
      "C = [0.07999999999999999..0.12000000000000001]\n",
      "C = [0.07999999999999999..0.12000000000000001]\n",
      "C = [1.2799999999999998..1.32]\n",
      "C = [2.48..2.52]\n",
      "C = [0.58..0.6200000000000001]\n",
      "C = [1.2799999999999998..1.32]\n",
      "integrationScheme = 7\n",
      "Computed 2334 flowpipes in 1045.4937002658844 sec\n",
      "PolyObserver(-x8 + 0.80000000000000005?, <flowstar.reachability.Reach object at 0x563ec648b480>, 2*x6*x8 - 0.50000000000000000?*x7 + 0.2000000000000000?*x8 - x9 symbolic_composition=False, tentative_unpreconditioning=True, mask=None)\n",
      "symbolic_composition=False, tentative_unpreconditioning=True\n",
      "var_names = [b'local_t', b'x1', b'x2', b'x3', b'x4', b'x5', b'x6', b'x7', b'x8', b'x9']\n",
      "res = b'(([-1.0000000000 , -1.0000000000] * x9) + ([0.1999999999 , 0.2000000001] * x8) + ([-0.5000000000 , -0.5000000000] * x7) + ([2.0000000000 , 2.0000000000] * x6 * x8))'\n",
      "PolyObserver((([-1.0000000000 , -1.0000000000] * x9) + ([0.1999999999 , 0.2000000001] * x8) + ([-0.5000000000 , -0.5000000000] * x7) + ([2.0000000000 , 2.0000000000] * x6 * x8)), <flowstar.reachability.Reach object at 0x563ec648b480>, None symbolic_composition=False, tentative_unpreconditioning=True, mask=None)\n",
      "domain = [0.0000000000000000 .. 6.9999999999999992]\n",
      "roots = [[0.0000000000000000 .. 0.81082671175464050]]\n",
      "seg_domain = [0.0000000000000000 .. 6.9999999999999992]\n",
      "roots = [[0.0000000000000000 .. 0.81082671175464050]]\n",
      "Monitored signal in 614.9074985980988 sec\n",
      "Run done in 1662.2610459327698 sec\n",
      "options: {'global_root_detection': True}\n"
     ]
    },
    {
     "name": "stderr",
     "output_type": "stream",
     "text": [
      "/usr/lib64/python3.7/site-packages/sage/plot/contour_plot.py:205: UserWarning: No contour levels were found within the data range.\n",
      "  linewidths=linewidths, linestyles=linestyles)\n"
     ]
    },
    {
     "data": {
      "image/png": "[encoded data removed]",
      "text/plain": [
       "Graphics object consisting of 2 graphics primitives"
      ]
     },
     "execution_count": 182,
     "metadata": {},
     "output_type": "execute_result"
    }
   ],
   "source": [
    "test_monitoring(Atomic(var(\"x8\") <= 0.8), 7, global_root_detection=True)[1].plot()"
   ]
  },
  {
   "cell_type": "code",
   "execution_count": 195,
   "metadata": {},
   "outputs": [
    {
     "data": {
      "text/html": [
       "<html><script type=\"math/tex; mode=display\">\\newcommand{\\Bold}[1]{\\mathbf{#1}}\\verb|F([2.5000000000000000|\\phantom{\\verb!x!}\\verb|..|\\phantom{\\verb!x!}\\verb|3.0000000000000000],|\\phantom{\\verb!x!}\\verb|x6|\\phantom{\\verb!x!}\\verb|<|\\phantom{\\verb!x!}\\verb|0.8000000000000000?|\\phantom{\\verb!x!}\\verb|&|\\phantom{\\verb!x!}\\verb|x4|\\phantom{\\verb!x!}\\verb|>|\\phantom{\\verb!x!}\\verb|0.005000000000000000?)|</script></html>"
      ],
      "text/plain": [
       "F([2.5000000000000000 .. 3.0000000000000000], And([Atomic(x6 < 0.8000000000000000?), Atomic(x4 > 0.005000000000000000?)]))"
      ]
     },
     "execution_count": 195,
     "metadata": {},
     "output_type": "execute_result"
    }
   ],
   "source": [
    "prop = F(RIF(2.5, 3), Atomic(var(\"x6\") < RIF('0.8')) & Atomic(var(\"x4\") > RIF('0.005')))\n",
    "prop"
   ]
  },
  {
   "cell_type": "code",
   "execution_count": 184,
   "metadata": {},
   "outputs": [
    {
     "name": "stdout",
     "output_type": "stream",
     "text": [
      "Precomposed systems in 6.842613220214844e-05 sec\n",
      "calling reach with y0 = ['[0.97999999999999998 .. 1.0200000000000001]', '[1.2799999999999998 .. 1.3200000000000001]', '[0.079999999999999987 .. 0.12000000000000001]', '[0.079999999999999987 .. 0.12000000000000001]', '[0.079999999999999987 .. 0.12000000000000001]', '[1.2799999999999998 .. 1.3200000000000001]', '[2.4799999999999999 .. 2.5200000000000001]', '[0.57999999999999996 .. 0.62000000000000011]', '[1.2799999999999998 .. 1.3200000000000001]']\n",
      "ode in polynomial ring\n",
      "_handle_initials called!\n",
      "vars = [x1, x2, x3, x4, x5, x6, x7, x8, x9]\n",
      "C = [0.98..1.02]\n",
      "C = [1.2799999999999998..1.32]\n",
      "C = [0.07999999999999999..0.12000000000000001]\n",
      "C = [0.07999999999999999..0.12000000000000001]\n",
      "C = [0.07999999999999999..0.12000000000000001]\n",
      "C = [1.2799999999999998..1.32]\n",
      "C = [2.48..2.52]\n",
      "C = [0.58..0.6200000000000001]\n",
      "C = [1.2799999999999998..1.32]\n",
      "integrationScheme = 7\n",
      "Computed 2334 flowpipes in 1031.9419646263123 sec\n",
      "PolyObserver(-x6 + 0.8000000000000000?, <flowstar.reachability.Reach object at 0x563ecc6a3290>, 0.10000000000000000?*x1*x6 + x2*x6 + 2*x6*x8 - 50*x3 - 100*x4 - 50*x5 + x6 symbolic_composition=False, tentative_unpreconditioning=True, mask=None)\n",
      "symbolic_composition=False, tentative_unpreconditioning=True\n",
      "roots(space_domain=None, epsilon=1e-05, verbosity=0)\n",
      "roots = [[1.0614338445651976 .. 1.2930000000000120]]\n",
      "domain = [0.0000000000000000 .. 7.0000000000000009]\n",
      "roots = [[1.0614338445651976 .. 1.2930000000000120]]\n",
      "seg_domain = [0.0000000000000000 .. 7.0000000000000009]\n",
      "roots = [[1.0614338445651976 .. 1.2930000000000120]]\n",
      "PolyObserver(x4 - 0.005000000000000000?, <flowstar.reachability.Reach object at 0x563ecc6a3290>, x2*x6 - 100*x4 symbolic_composition=False, tentative_unpreconditioning=True, mask=None)\n",
      "symbolic_composition=False, tentative_unpreconditioning=True\n",
      "roots(space_domain=None, epsilon=1e-05, verbosity=0)\n",
      "roots = [[2.2406423211866233 .. 2.2410000000000481], [2.2425044607049184 .. 3.0510000000000788], [3.0528052100882212 .. 3.0528053276883225], [3.0530417999370058 .. 3.0530418027122961], [3.0530475805666061 .. 3.0530476466286461], [3.0531591902591088 .. 3.0531592012327833], [3.0532132923317822 .. 3.0532132954896616], [3.0532414608090672 .. 3.0532414668517474], [3.0532523572517011 .. 3.0540000000000789]]\n",
      "domain = [0.0000000000000000 .. 7.0000000000000009]\n",
      "roots = [[2.2406423211866233 .. 2.2410000000000481], \n",
      " [2.2425044607049184 .. 3.0510000000000788], \n",
      " [3.0528052100882212 .. 3.0528053276883225], \n",
      " [3.0530417999370058 .. 3.0530418027122961], \n",
      " [3.0530475805666061 .. 3.0530476466286461], \n",
      " [3.0531591902591088 .. 3.0531592012327833], \n",
      " [3.0532132923317822 .. 3.0532132954896616], \n",
      " [3.0532414608090672 .. 3.0532414668517474], \n",
      " [3.0532523572517011 .. 3.0540000000000789]]\n",
      "seg_domain = [0.0000000000000000 .. 7.0000000000000009]\n",
      "roots = [[2.2406423211866233 .. 2.2410000000000481], \n",
      " [2.2425044607049184 .. 3.0510000000000788], \n",
      " [3.0528052100882212 .. 3.0528053276883225], \n",
      " [3.0530417999370058 .. 3.0530418027122961], \n",
      " [3.0530475805666061 .. 3.0530476466286461], \n",
      " [3.0531591902591088 .. 3.0531592012327833], \n",
      " [3.0532132923317822 .. 3.0532132954896616], \n",
      " [3.0532414608090672 .. 3.0532414668517474], \n",
      " [3.0532523572517011 .. 3.0540000000000789]]\n"
     ]
    },
    {
     "name": "stderr",
     "output_type": "stream",
     "text": [
      "/home/twright/Drive/Documents/PhD/Notebooks/ulbc/interval_signals.py:224: UserWarning: Inconsistent intervals [-1.9385661554348024 .. -0.0000000000000000] (False) and [-0.25749553929508152 .. -0.0000000000000000] (True) in signal!\n",
      "  u.str(style='brackets'), bu))\n",
      "/home/twright/Drive/Documents/PhD/Notebooks/ulbc/interval_signals.py:224: UserWarning: Inconsistent intervals [-1.9385661554348024 .. -0.0000000000000000] (False) and [-0.25935767881337668 .. -0.0000000000000000] (True) in signal!\n",
      "  u.str(style='brackets'), bu))\n"
     ]
    },
    {
     "name": "stdout",
     "output_type": "stream",
     "text": [
      "Monitored signal in 175.58178901672363 sec\n",
      "Run done in 1208.807234287262 sec\n",
      "options: {}\n"
     ]
    },
    {
     "data": {
      "image/png": "[encoded data removed]",
      "text/plain": [
       "Graphics object consisting of 2 graphics primitives"
      ]
     },
     "execution_count": 184,
     "metadata": {},
     "output_type": "execute_result"
    }
   ],
   "source": [
    "test_monitoring(prop, 4)[1].plot()"
   ]
  },
  {
   "cell_type": "code",
   "execution_count": 185,
   "metadata": {},
   "outputs": [
    {
     "name": "stdout",
     "output_type": "stream",
     "text": [
      "Precomposed systems in 6.818771362304688e-05 sec\n",
      "calling reach with y0 = ['[0.97999999999999998 .. 1.0200000000000001]', '[1.2799999999999998 .. 1.3200000000000001]', '[0.079999999999999987 .. 0.12000000000000001]', '[0.079999999999999987 .. 0.12000000000000001]', '[0.079999999999999987 .. 0.12000000000000001]', '[1.2799999999999998 .. 1.3200000000000001]', '[2.4799999999999999 .. 2.5200000000000001]', '[0.57999999999999996 .. 0.62000000000000011]', '[1.2799999999999998 .. 1.3200000000000001]']\n",
      "ode in polynomial ring\n",
      "_handle_initials called!\n",
      "vars = [x1, x2, x3, x4, x5, x6, x7, x8, x9]\n",
      "C = [0.98..1.02]\n",
      "C = [1.2799999999999998..1.32]\n",
      "C = [0.07999999999999999..0.12000000000000001]\n",
      "C = [0.07999999999999999..0.12000000000000001]\n",
      "C = [0.07999999999999999..0.12000000000000001]\n",
      "C = [1.2799999999999998..1.32]\n",
      "C = [2.48..2.52]\n",
      "C = [0.58..0.6200000000000001]\n",
      "C = [1.2799999999999998..1.32]\n",
      "integrationScheme = 7\n",
      "Computed 2334 flowpipes in 1045.743299484253 sec\n",
      "PolyObserver(-x6 + 0.8000000000000000?, <flowstar.reachability.Reach object at 0x563ec17d73f0>, 0.10000000000000000?*x1*x6 + x2*x6 + 2*x6*x8 - 50*x3 - 100*x4 - 50*x5 + x6 symbolic_composition=True, tentative_unpreconditioning=True, mask=None)\n",
      "symbolic_composition=True, tentative_unpreconditioning=True\n",
      "roots(space_domain=None, epsilon=1e-05, verbosity=0)\n",
      "roots = [[1.0796398507437507 .. 1.2706293439583265]]\n",
      "domain = [0.0000000000000000 .. 7.0000000000000009]\n",
      "roots = [[1.0796398507437507 .. 1.2706293439583265]]\n",
      "seg_domain = [0.0000000000000000 .. 7.0000000000000009]\n",
      "roots = [[1.0796398507437507 .. 1.2706293439583265]]\n",
      "PolyObserver(x4 - 0.005000000000000000?, <flowstar.reachability.Reach object at 0x563ec17d73f0>, x2*x6 - 100*x4 symbolic_composition=True, tentative_unpreconditioning=True, mask=None)\n",
      "symbolic_composition=True, tentative_unpreconditioning=True\n",
      "roots(space_domain=None, epsilon=1e-05, verbosity=0)\n",
      "roots = [[2.4658898130217528 .. 2.4660000000000566], [2.4678709289955711 .. 2.8080000000000696]]\n",
      "domain = [0.0000000000000000 .. 7.0000000000000000]\n",
      "roots = [[2.4658898130217528 .. 2.4660000000000566], \n",
      " [2.4678709289955711 .. 2.8080000000000696]]\n",
      "seg_domain = [0.0000000000000000 .. 7.0000000000000000]\n",
      "roots = [[2.4658898130217528 .. 2.4660000000000566], \n",
      " [2.4678709289955711 .. 2.8080000000000696]]\n"
     ]
    },
    {
     "name": "stderr",
     "output_type": "stream",
     "text": [
      "/home/twright/Drive/Documents/PhD/Notebooks/ulbc/interval_signals.py:224: UserWarning: Inconsistent intervals [-1.9203601492562493 .. -0.0000000000000000] (False) and [-0.032129071004428856 .. -0.0000000000000000] (True) in signal!\n",
      "  u.str(style='brackets'), bu))\n",
      "/home/twright/Drive/Documents/PhD/Notebooks/ulbc/interval_signals.py:224: UserWarning: Inconsistent intervals [-1.9203601492562493 .. -0.0000000000000000] (False) and [-0.034110186978247193 .. -0.0000000000000000] (True) in signal!\n",
      "  u.str(style='brackets'), bu))\n"
     ]
    },
    {
     "name": "stdout",
     "output_type": "stream",
     "text": [
      "Monitored signal in 154.1560070514679 sec\n",
      "Run done in 1201.1887822151184 sec\n",
      "options: {'symbolic_composition': True}\n"
     ]
    },
    {
     "data": {
      "image/png": "[encoded data removed]",
      "text/plain": [
       "Graphics object consisting of 2 graphics primitives"
      ]
     },
     "execution_count": 185,
     "metadata": {},
     "output_type": "execute_result"
    }
   ],
   "source": [
    "test_monitoring(prop, 4, symbolic_composition=True)[1].plot()"
   ]
  },
  {
   "cell_type": "code",
   "execution_count": 196,
   "metadata": {},
   "outputs": [
    {
     "name": "stdout",
     "output_type": "stream",
     "text": [
      "Precomposed systems in 7.081031799316406e-05 sec\n",
      "calling reach with y0 = ['[0.97999999999999998 .. 1.0200000000000001]', '[1.2799999999999998 .. 1.3200000000000001]', '[0.079999999999999987 .. 0.12000000000000001]', '[0.079999999999999987 .. 0.12000000000000001]', '[0.079999999999999987 .. 0.12000000000000001]', '[1.2799999999999998 .. 1.3200000000000001]', '[2.4799999999999999 .. 2.5200000000000001]', '[0.57999999999999996 .. 0.62000000000000011]', '[1.2799999999999998 .. 1.3200000000000001]']\n",
      "ode in polynomial ring\n",
      "_handle_initials called!\n",
      "vars = [x1, x2, x3, x4, x5, x6, x7, x8, x9]\n",
      "C = [0.98..1.02]\n",
      "C = [1.2799999999999998..1.32]\n",
      "C = [0.07999999999999999..0.12000000000000001]\n",
      "C = [0.07999999999999999..0.12000000000000001]\n",
      "C = [0.07999999999999999..0.12000000000000001]\n",
      "C = [1.2799999999999998..1.32]\n",
      "C = [2.48..2.52]\n",
      "C = [0.58..0.6200000000000001]\n",
      "C = [1.2799999999999998..1.32]\n",
      "integrationScheme = 7\n",
      "Computed 2334 flowpipes in 961.7340021133423 sec\n",
      "PolyObserver(-x6 + 0.8000000000000000?, <flowstar.reachability.Reach object at 0x563ee483e5f0>, 0.10000000000000000?*x1*x6 + x2*x6 + 2*x6*x8 - 50*x3 - 100*x4 - 50*x5 + x6 symbolic_composition=True, tentative_unpreconditioning=True, mask=Mask([0.0000000000000000 .. 7.0010000000000004], [[2.5000000000000000 .. 7.0010000000000004]]))\n",
      "symbolic_composition=True, tentative_unpreconditioning=True\n",
      "roots(space_domain=None, epsilon=1e-05, verbosity=0)\n",
      "roots = []\n",
      "domain = [0.0000000000000000 .. 7.0000000000000000]\n",
      "roots = []\n",
      "seg_domain = [2.5000000000000000 .. 7.0010000000000004]\n",
      "roots = []\n",
      "PolyObserver(x4 - 0.005000000000000000?, <flowstar.reachability.Reach object at 0x563ee483e5f0>, x2*x6 - 100*x4 symbolic_composition=True, tentative_unpreconditioning=True, mask=Mask([0.0000000000000000 .. 7.0010000000000004], [[2.5000000000000000 .. 7.0010000000000004]]))\n",
      "symbolic_composition=True, tentative_unpreconditioning=True\n",
      "roots(space_domain=None, epsilon=1e-05, verbosity=0)\n",
      "roots = [[2.4999999999996544 .. 2.8080000000000696]]\n",
      "domain = [0.0000000000000000 .. 7.0000000000000000]\n",
      "roots = [[2.4999999999996544 .. 2.8080000000000696]]\n",
      "seg_domain = [2.5000000000000000 .. 7.0010000000000004]\n",
      "roots = [[2.4999999999996544 .. 2.8080000000000696]]\n",
      "Monitored signal in 79.75344562530518 sec\n",
      "Run done in 1042.5424783229828 sec\n",
      "options: {'symbolic_composition': True, 'use_masks': True}\n"
     ]
    },
    {
     "name": "stderr",
     "output_type": "stream",
     "text": [
      "/usr/lib64/python3.7/site-packages/sage/plot/contour_plot.py:205: UserWarning: No contour levels were found within the data range.\n",
      "  linewidths=linewidths, linestyles=linestyles)\n"
     ]
    },
    {
     "data": {
      "image/png": "[encoded data removed]",
      "text/plain": [
       "Graphics object consisting of 2 graphics primitives"
      ]
     },
     "execution_count": 196,
     "metadata": {},
     "output_type": "execute_result"
    }
   ],
   "source": [
    "test_monitoring(prop, 4, symbolic_composition=True, use_masks=True)[1].plot()"
   ]
  },
  {
   "cell_type": "code",
   "execution_count": 197,
   "metadata": {},
   "outputs": [
    {
     "name": "stdout",
     "output_type": "stream",
     "text": [
      "Precomposed systems in 4.38690185546875e-05 sec\n",
      "calling reach with y0 = ['[0.97999999999999998 .. 1.0200000000000001]', '[1.2799999999999998 .. 1.3200000000000001]', '[0.079999999999999987 .. 0.12000000000000001]', '[0.079999999999999987 .. 0.12000000000000001]', '[0.079999999999999987 .. 0.12000000000000001]', '[1.2799999999999998 .. 1.3200000000000001]', '[2.4799999999999999 .. 2.5200000000000001]', '[0.57999999999999996 .. 0.62000000000000011]', '[1.2799999999999998 .. 1.3200000000000001]']\n",
      "ode in polynomial ring\n",
      "_handle_initials called!\n",
      "vars = [x1, x2, x3, x4, x5, x6, x7, x8, x9]\n",
      "C = [0.98..1.02]\n",
      "C = [1.2799999999999998..1.32]\n",
      "C = [0.07999999999999999..0.12000000000000001]\n",
      "C = [0.07999999999999999..0.12000000000000001]\n",
      "C = [0.07999999999999999..0.12000000000000001]\n",
      "C = [1.2799999999999998..1.32]\n",
      "C = [2.48..2.52]\n",
      "C = [0.58..0.6200000000000001]\n",
      "C = [1.2799999999999998..1.32]\n",
      "integrationScheme = 7\n",
      "Computed 2334 flowpipes in 1044.1539001464844 sec\n",
      "PolyObserver(-x6 + 0.8000000000000000?, <flowstar.reachability.Reach object at 0x563eb7c629e0>, 0.10000000000000000?*x1*x6 + x2*x6 + 2*x6*x8 - 50*x3 - 100*x4 - 50*x5 + x6 symbolic_composition=True, tentative_unpreconditioning=False, mask=Mask([0.0000000000000000 .. 7.0010000000000004], [[2.5000000000000000 .. 7.0010000000000004]]))\n",
      "symbolic_composition=True, tentative_unpreconditioning=False\n",
      "roots(space_domain=None, epsilon=1e-05, verbosity=0)\n",
      "roots = []\n",
      "domain = [0.0000000000000000 .. 7.0000000000000000]\n",
      "roots = []\n",
      "seg_domain = [2.5000000000000000 .. 7.0010000000000004]\n",
      "roots = []\n",
      "PolyObserver(x4 - 0.005000000000000000?, <flowstar.reachability.Reach object at 0x563eb7c629e0>, x2*x6 - 100*x4 symbolic_composition=True, tentative_unpreconditioning=False, mask=Mask([0.0000000000000000 .. 7.0010000000000004], [[2.5000000000000000 .. 7.0010000000000004]]))\n",
      "symbolic_composition=True, tentative_unpreconditioning=False\n",
      "roots(space_domain=None, epsilon=1e-05, verbosity=0)\n",
      "roots = [[2.4999999999996544 .. 2.8080000000000696]]\n",
      "domain = [0.0000000000000000 .. 7.0000000000000000]\n",
      "roots = [[2.4999999999996544 .. 2.8080000000000696]]\n",
      "seg_domain = [2.5000000000000000 .. 7.0010000000000004]\n",
      "roots = [[2.4999999999996544 .. 2.8080000000000696]]\n",
      "Monitored signal in 433.3074972629547 sec\n",
      "Run done in 1479.0205402374268 sec\n",
      "options: {'symbolic_composition': True, 'use_masks': True, 'tentative_unpreconditioning': False}\n"
     ]
    },
    {
     "name": "stderr",
     "output_type": "stream",
     "text": [
      "/usr/lib64/python3.7/site-packages/sage/plot/contour_plot.py:205: UserWarning: No contour levels were found within the data range.\n",
      "  linewidths=linewidths, linestyles=linestyles)\n"
     ]
    },
    {
     "data": {
      "image/png": "[encoded data removed]",
      "text/plain": [
       "Graphics object consisting of 2 graphics primitives"
      ]
     },
     "execution_count": 197,
     "metadata": {},
     "output_type": "execute_result"
    }
   ],
   "source": [
    "test_monitoring(prop, 4, symbolic_composition=True, use_masks=True, tentative_unpreconditioning=False)[1].plot()"
   ]
  },
  {
   "cell_type": "code",
   "execution_count": 188,
   "metadata": {},
   "outputs": [
    {
     "name": "stdout",
     "output_type": "stream",
     "text": [
      "Precomposed systems in 4.792213439941406e-05 sec\n",
      "calling reach with y0 = ['[0.97999999999999998 .. 1.0200000000000001]', '[1.2799999999999998 .. 1.3200000000000001]', '[0.079999999999999987 .. 0.12000000000000001]', '[0.079999999999999987 .. 0.12000000000000001]', '[0.079999999999999987 .. 0.12000000000000001]', '[1.2799999999999998 .. 1.3200000000000001]', '[2.4799999999999999 .. 2.5200000000000001]', '[0.57999999999999996 .. 0.62000000000000011]', '[1.2799999999999998 .. 1.3200000000000001]']\n",
      "ode in polynomial ring\n",
      "_handle_initials called!\n",
      "vars = [x1, x2, x3, x4, x5, x6, x7, x8, x9]\n",
      "C = [0.98..1.02]\n",
      "C = [1.2799999999999998..1.32]\n",
      "C = [0.07999999999999999..0.12000000000000001]\n",
      "C = [0.07999999999999999..0.12000000000000001]\n",
      "C = [0.07999999999999999..0.12000000000000001]\n",
      "C = [1.2799999999999998..1.32]\n",
      "C = [2.48..2.52]\n",
      "C = [0.58..0.6200000000000001]\n",
      "C = [1.2799999999999998..1.32]\n",
      "integrationScheme = 7\n",
      "Computed 2334 flowpipes in 1051.1819305419922 sec\n",
      "PolyObserver(-x6 + 0.8000000000000000?, <flowstar.reachability.Reach object at 0x563ebeb9bb70>, 0.10000000000000000?*x1*x6 + x2*x6 + 2*x6*x8 - 50*x3 - 100*x4 - 50*x5 + x6 symbolic_composition=False, tentative_unpreconditioning=True, mask=None)\n",
      "symbolic_composition=False, tentative_unpreconditioning=True\n",
      "var_names = [b'local_t', b'x1', b'x2', b'x3', b'x4', b'x5', b'x6', b'x7', b'x8', b'x9']\n",
      "res = b'(([1.0000000000 , 1.0000000000] * x6) + ([-50.0000000000 , -50.0000000000] * x5) + ([-100.0000000000 , -100.0000000000] * x4) + ([-50.0000000000 , -50.0000000000] * x3) + ([2.0000000000 , 2.0000000000] * x6 * x8) + ([1.0000000000 , 1.0000000000] * x2 * x6) + ([0.0999999999 , 0.1000000001] * x1 * x6))'\n",
      "PolyObserver((([1.0000000000 , 1.0000000000] * x6) + ([-50.0000000000 , -50.0000000000] * x5) + ([-100.0000000000 , -100.0000000000] * x4) + ([-50.0000000000 , -50.0000000000] * x3) + ([2.0000000000 , 2.0000000000] * x6 * x8) + ([1.0000000000 , 1.0000000000] * x2 * x6) + ([0.0999999999 , 0.1000000001] * x1 * x6)), <flowstar.reachability.Reach object at 0x563ebeb9bb70>, None symbolic_composition=False, tentative_unpreconditioning=True, mask=None)\n",
      "domain = [0.0000000000000000 .. 7.0000000000000000]\n",
      "roots = [[0.86578570933732312 .. 1.5961679838064274]]\n",
      "seg_domain = [0.0000000000000000 .. 7.0000000000000000]\n",
      "roots = [[0.86578570933732312 .. 1.5961679838064274]]\n",
      "PolyObserver(x4 - 0.005000000000000000?, <flowstar.reachability.Reach object at 0x563ebeb9bb70>, x2*x6 - 100*x4 symbolic_composition=False, tentative_unpreconditioning=True, mask=None)\n",
      "symbolic_composition=False, tentative_unpreconditioning=True\n",
      "var_names = [b'local_t', b'x1', b'x2', b'x3', b'x4', b'x5', b'x6', b'x7', b'x8', b'x9']\n",
      "res = b'(([-100.0000000000 , -100.0000000000] * x4) + ([1.0000000000 , 1.0000000000] * x2 * x6))'\n",
      "PolyObserver((([-100.0000000000 , -100.0000000000] * x4) + ([1.0000000000 , 1.0000000000] * x2 * x6)), <flowstar.reachability.Reach object at 0x563ebeb9bb70>, None symbolic_composition=False, tentative_unpreconditioning=True, mask=None)\n",
      "domain = [0.0000000000000000 .. 7.0000000000000009]\n",
      "roots = [[1.7501778534342244 .. 3.4998966827473193]]\n",
      "seg_domain = [0.0000000000000000 .. 7.0000000000000009]\n",
      "roots = [[1.7501778534342244 .. 3.4998966827473193]]\n"
     ]
    },
    {
     "name": "stderr",
     "output_type": "stream",
     "text": [
      "/home/twright/Drive/Documents/PhD/Notebooks/ulbc/interval_signals.py:224: UserWarning: Inconsistent intervals [-2.1342142906626771 .. -0.0000000000000000] (False) and [-0.74982214656577551 .. -0.0000000000000000] (True) in signal!\n",
      "  u.str(style='brackets'), bu))\n"
     ]
    },
    {
     "name": "stdout",
     "output_type": "stream",
     "text": [
      "Monitored signal in 774.2337176799774 sec\n",
      "Run done in 1827.3057084083557 sec\n",
      "options: {'global_root_detection': True}\n"
     ]
    },
    {
     "data": {
      "image/png": "[encoded data removed]",
      "text/plain": [
       "Graphics object consisting of 2 graphics primitives"
      ]
     },
     "execution_count": 188,
     "metadata": {},
     "output_type": "execute_result"
    }
   ],
   "source": [
    "test_monitoring(prop, 4, global_root_detection=True)[1].plot()"
   ]
  },
  {
   "cell_type": "code",
   "execution_count": 189,
   "metadata": {},
   "outputs": [
    {
     "name": "stdout",
     "output_type": "stream",
     "text": [
      "Precomposed systems in 4.458427429199219e-05 sec\n",
      "calling reach with y0 = ['[0.97999999999999998 .. 1.0200000000000001]', '[1.2799999999999998 .. 1.3200000000000001]', '[0.079999999999999987 .. 0.12000000000000001]', '[0.079999999999999987 .. 0.12000000000000001]', '[0.079999999999999987 .. 0.12000000000000001]', '[1.2799999999999998 .. 1.3200000000000001]', '[2.4799999999999999 .. 2.5200000000000001]', '[0.57999999999999996 .. 0.62000000000000011]', '[1.2799999999999998 .. 1.3200000000000001]']\n",
      "ode in polynomial ring\n",
      "_handle_initials called!\n",
      "vars = [x1, x2, x3, x4, x5, x6, x7, x8, x9]\n",
      "C = [0.98..1.02]\n",
      "C = [1.2799999999999998..1.32]\n",
      "C = [0.07999999999999999..0.12000000000000001]\n",
      "C = [0.07999999999999999..0.12000000000000001]\n",
      "C = [0.07999999999999999..0.12000000000000001]\n",
      "C = [1.2799999999999998..1.32]\n",
      "C = [2.48..2.52]\n",
      "C = [0.58..0.6200000000000001]\n",
      "C = [1.2799999999999998..1.32]\n",
      "integrationScheme = 7\n",
      "Computed 2667 flowpipes in 1213.999365568161 sec\n",
      "PolyObserver(-x6 + 0.8000000000000000?, <flowstar.reachability.Reach object at 0x563eeaf1ae40>, 0.10000000000000000?*x1*x6 + x2*x6 + 2*x6*x8 - 50*x3 - 100*x4 - 50*x5 + x6 symbolic_composition=False, tentative_unpreconditioning=True, mask=None)\n",
      "symbolic_composition=False, tentative_unpreconditioning=True\n",
      "roots(space_domain=None, epsilon=1e-05, verbosity=0)\n",
      "roots = [[1.0614338445651976 .. 1.2930000000000120]]\n",
      "domain = [0.0000000000000000 .. 8.0000000000000018]\n",
      "roots = [[1.0614338445651976 .. 1.2930000000000120]]\n",
      "seg_domain = [0.0000000000000000 .. 8.0000000000000018]\n",
      "roots = [[1.0614338445651976 .. 1.2930000000000120]]\n",
      "PolyObserver(x4 - 0.005000000000000000?, <flowstar.reachability.Reach object at 0x563eeaf1ae40>, x2*x6 - 100*x4 symbolic_composition=False, tentative_unpreconditioning=True, mask=None)\n",
      "symbolic_composition=False, tentative_unpreconditioning=True\n",
      "roots(space_domain=None, epsilon=1e-05, verbosity=0)\n",
      "roots = [[2.2406423211866233 .. 2.2410000000000481], [2.2425044607049184 .. 3.0510000000000788], [3.0528052100882212 .. 3.0528053276883225], [3.0530417999370058 .. 3.0530418027122961], [3.0530475805666061 .. 3.0530476466286461], [3.0531591902591088 .. 3.0531592012327833], [3.0532132923317822 .. 3.0532132954896616], [3.0532414608090672 .. 3.0532414668517474], [3.0532523572517011 .. 3.0540000000000789]]\n",
      "domain = [0.0000000000000000 .. 8.0000000000000018]\n",
      "roots = [[2.2406423211866233 .. 2.2410000000000481], \n",
      " [2.2425044607049184 .. 3.0510000000000788], \n",
      " [3.0528052100882212 .. 3.0528053276883225], \n",
      " [3.0530417999370058 .. 3.0530418027122961], \n",
      " [3.0530475805666061 .. 3.0530476466286461], \n",
      " [3.0531591902591088 .. 3.0531592012327833], \n",
      " [3.0532132923317822 .. 3.0532132954896616], \n",
      " [3.0532414608090672 .. 3.0532414668517474], \n",
      " [3.0532523572517011 .. 3.0540000000000789]]\n",
      "seg_domain = [0.0000000000000000 .. 8.0000000000000018]\n",
      "roots = [[2.2406423211866233 .. 2.2410000000000481], \n",
      " [2.2425044607049184 .. 3.0510000000000788], \n",
      " [3.0528052100882212 .. 3.0528053276883225], \n",
      " [3.0530417999370058 .. 3.0530418027122961], \n",
      " [3.0530475805666061 .. 3.0530476466286461], \n",
      " [3.0531591902591088 .. 3.0531592012327833], \n",
      " [3.0532132923317822 .. 3.0532132954896616], \n",
      " [3.0532414608090672 .. 3.0532414668517474], \n",
      " [3.0532523572517011 .. 3.0540000000000789]]\n"
     ]
    },
    {
     "name": "stderr",
     "output_type": "stream",
     "text": [
      "/home/twright/Drive/Documents/PhD/Notebooks/ulbc/interval_signals.py:224: UserWarning: Inconsistent intervals [-1.9385661554348024 .. -0.0000000000000000] (False) and [-0.25749553929508152 .. -0.0000000000000000] (True) in signal!\n",
      "  u.str(style='brackets'), bu))\n",
      "/home/twright/Drive/Documents/PhD/Notebooks/ulbc/interval_signals.py:224: UserWarning: Inconsistent intervals [-1.9385661554348024 .. -0.0000000000000000] (False) and [-0.25935767881337668 .. -0.0000000000000000] (True) in signal!\n",
      "  u.str(style='brackets'), bu))\n"
     ]
    },
    {
     "name": "stdout",
     "output_type": "stream",
     "text": [
      "Monitored signal in 208.91686272621155 sec\n",
      "Run done in 1424.384161233902 sec\n",
      "options: {}\n"
     ]
    },
    {
     "data": {
      "image/png": "[encoded data removed]",
      "text/plain": [
       "Graphics object consisting of 2 graphics primitives"
      ]
     },
     "execution_count": 189,
     "metadata": {},
     "output_type": "execute_result"
    }
   ],
   "source": [
    "test_monitoring(prop, 5)[1].plot()"
   ]
  },
  {
   "cell_type": "code",
   "execution_count": 198,
   "metadata": {},
   "outputs": [
    {
     "name": "stdout",
     "output_type": "stream",
     "text": [
      "Precomposed systems in 4.3392181396484375e-05 sec\n",
      "calling reach with y0 = ['[0.97999999999999998 .. 1.0200000000000001]', '[1.2799999999999998 .. 1.3200000000000001]', '[0.079999999999999987 .. 0.12000000000000001]', '[0.079999999999999987 .. 0.12000000000000001]', '[0.079999999999999987 .. 0.12000000000000001]', '[1.2799999999999998 .. 1.3200000000000001]', '[2.4799999999999999 .. 2.5200000000000001]', '[0.57999999999999996 .. 0.62000000000000011]', '[1.2799999999999998 .. 1.3200000000000001]']\n",
      "ode in polynomial ring\n",
      "_handle_initials called!\n",
      "vars = [x1, x2, x3, x4, x5, x6, x7, x8, x9]\n",
      "C = [0.98..1.02]\n",
      "C = [1.2799999999999998..1.32]\n",
      "C = [0.07999999999999999..0.12000000000000001]\n",
      "C = [0.07999999999999999..0.12000000000000001]\n",
      "C = [0.07999999999999999..0.12000000000000001]\n",
      "C = [1.2799999999999998..1.32]\n",
      "C = [2.48..2.52]\n",
      "C = [0.58..0.6200000000000001]\n",
      "C = [1.2799999999999998..1.32]\n",
      "integrationScheme = 7\n",
      "Computed 2667 flowpipes in 1202.4074296951294 sec\n",
      "PolyObserver(-x6 + 0.8000000000000000?, <flowstar.reachability.Reach object at 0x563eec18e940>, 0.10000000000000000?*x1*x6 + x2*x6 + 2*x6*x8 - 50*x3 - 100*x4 - 50*x5 + x6 symbolic_composition=True, tentative_unpreconditioning=True, mask=None)\n",
      "symbolic_composition=True, tentative_unpreconditioning=True\n",
      "roots(space_domain=None, epsilon=1e-05, verbosity=0)\n",
      "roots = [[1.0796398507437507 .. 1.2706293439583265]]\n",
      "domain = [0.0000000000000000 .. 8.0000000000000000]\n",
      "roots = [[1.0796398507437507 .. 1.2706293439583265]]\n",
      "seg_domain = [0.0000000000000000 .. 8.0000000000000000]\n",
      "roots = [[1.0796398507437507 .. 1.2706293439583265]]\n",
      "PolyObserver(x4 - 0.005000000000000000?, <flowstar.reachability.Reach object at 0x563eec18e940>, x2*x6 - 100*x4 symbolic_composition=True, tentative_unpreconditioning=True, mask=None)\n",
      "symbolic_composition=True, tentative_unpreconditioning=True\n",
      "roots(space_domain=None, epsilon=1e-05, verbosity=0)\n",
      "roots = [[2.4658898130217528 .. 2.4660000000000566], [2.4678709289955711 .. 2.8080000000000696]]\n",
      "domain = [0.0000000000000000 .. 8.0000000000000000]\n",
      "roots = [[2.4658898130217528 .. 2.4660000000000566], \n",
      " [2.4678709289955711 .. 2.8080000000000696]]\n",
      "seg_domain = [0.0000000000000000 .. 8.0000000000000000]\n",
      "roots = [[2.4658898130217528 .. 2.4660000000000566], \n",
      " [2.4678709289955711 .. 2.8080000000000696]]\n"
     ]
    },
    {
     "name": "stderr",
     "output_type": "stream",
     "text": [
      "/home/twright/Drive/Documents/PhD/Notebooks/ulbc/interval_signals.py:224: UserWarning: Inconsistent intervals [-1.9203601492562493 .. -0.0000000000000000] (False) and [-0.032129071004428856 .. -0.0000000000000000] (True) in signal!\n",
      "  u.str(style='brackets'), bu))\n",
      "/home/twright/Drive/Documents/PhD/Notebooks/ulbc/interval_signals.py:224: UserWarning: Inconsistent intervals [-1.9203601492562493 .. -0.0000000000000000] (False) and [-0.034110186978247193 .. -0.0000000000000000] (True) in signal!\n",
      "  u.str(style='brackets'), bu))\n"
     ]
    },
    {
     "name": "stdout",
     "output_type": "stream",
     "text": [
      "Monitored signal in 157.9740743637085 sec\n",
      "Run done in 1361.7650475502014 sec\n",
      "options: {'symbolic_composition': True}\n"
     ]
    },
    {
     "data": {
      "image/png": "[encoded data removed]",
      "text/plain": [
       "Graphics object consisting of 2 graphics primitives"
      ]
     },
     "execution_count": 198,
     "metadata": {},
     "output_type": "execute_result"
    }
   ],
   "source": [
    "test_monitoring(prop, 5, symbolic_composition=True)[1].plot()"
   ]
  },
  {
   "cell_type": "code",
   "execution_count": 199,
   "metadata": {},
   "outputs": [
    {
     "name": "stdout",
     "output_type": "stream",
     "text": [
      "Precomposed systems in 6.937980651855469e-05 sec\n",
      "calling reach with y0 = ['[0.97999999999999998 .. 1.0200000000000001]', '[1.2799999999999998 .. 1.3200000000000001]', '[0.079999999999999987 .. 0.12000000000000001]', '[0.079999999999999987 .. 0.12000000000000001]', '[0.079999999999999987 .. 0.12000000000000001]', '[1.2799999999999998 .. 1.3200000000000001]', '[2.4799999999999999 .. 2.5200000000000001]', '[0.57999999999999996 .. 0.62000000000000011]', '[1.2799999999999998 .. 1.3200000000000001]']\n",
      "ode in polynomial ring\n",
      "_handle_initials called!\n",
      "vars = [x1, x2, x3, x4, x5, x6, x7, x8, x9]\n",
      "C = [0.98..1.02]\n",
      "C = [1.2799999999999998..1.32]\n",
      "C = [0.07999999999999999..0.12000000000000001]\n",
      "C = [0.07999999999999999..0.12000000000000001]\n",
      "C = [0.07999999999999999..0.12000000000000001]\n",
      "C = [1.2799999999999998..1.32]\n",
      "C = [2.48..2.52]\n",
      "C = [0.58..0.6200000000000001]\n",
      "C = [1.2799999999999998..1.32]\n",
      "integrationScheme = 7\n",
      "Computed 2667 flowpipes in 1231.8119995594025 sec\n",
      "PolyObserver(-x6 + 0.8000000000000000?, <flowstar.reachability.Reach object at 0x563ef7481a40>, 0.10000000000000000?*x1*x6 + x2*x6 + 2*x6*x8 - 50*x3 - 100*x4 - 50*x5 + x6 symbolic_composition=True, tentative_unpreconditioning=True, mask=Mask([0.0000000000000000 .. 8.0010000000000013], [[2.5000000000000000 .. 8.0010000000000013]]))\n",
      "symbolic_composition=True, tentative_unpreconditioning=True\n",
      "roots(space_domain=None, epsilon=1e-05, verbosity=0)\n",
      "roots = []\n",
      "domain = [0.0000000000000000 .. 8.0000000000000000]\n",
      "roots = []\n",
      "seg_domain = [2.5000000000000000 .. 8.0010000000000013]\n",
      "roots = []\n",
      "PolyObserver(x4 - 0.005000000000000000?, <flowstar.reachability.Reach object at 0x563ef7481a40>, x2*x6 - 100*x4 symbolic_composition=True, tentative_unpreconditioning=True, mask=Mask([0.0000000000000000 .. 8.0010000000000013], [[2.5000000000000000 .. 8.0010000000000013]]))\n",
      "symbolic_composition=True, tentative_unpreconditioning=True\n",
      "roots(space_domain=None, epsilon=1e-05, verbosity=0)\n",
      "roots = [[2.4999999999996544 .. 2.8080000000000696]]\n",
      "domain = [0.0000000000000000 .. 8.0000000000000000]\n",
      "roots = [[2.4999999999996544 .. 2.8080000000000696]]\n",
      "seg_domain = [2.5000000000000000 .. 8.0010000000000013]\n",
      "roots = [[2.4999999999996544 .. 2.8080000000000696]]\n",
      "Monitored signal in 90.73292255401611 sec\n",
      "Run done in 1324.0009338855743 sec\n",
      "options: {'symbolic_composition': True, 'use_masks': True}\n"
     ]
    },
    {
     "name": "stderr",
     "output_type": "stream",
     "text": [
      "/usr/lib64/python3.7/site-packages/sage/plot/contour_plot.py:205: UserWarning: No contour levels were found within the data range.\n",
      "  linewidths=linewidths, linestyles=linestyles)\n"
     ]
    },
    {
     "data": {
      "image/png": "[encoded data removed]",
      "text/plain": [
       "Graphics object consisting of 2 graphics primitives"
      ]
     },
     "execution_count": 199,
     "metadata": {},
     "output_type": "execute_result"
    }
   ],
   "source": [
    "test_monitoring(prop, 5, symbolic_composition=True, use_masks=True)[1].plot()"
   ]
  },
  {
   "cell_type": "code",
   "execution_count": 110,
   "metadata": {},
   "outputs": [],
   "source": [
    "prop = F([0, 0.5], Atomic(var(\"x6\") > 1.4) & G([0, 0.1], Atomic(var(\"x6\") < 1.8)  & F([0, 1], Atomic(var(\"x6\") < 1) & Atomic(var(\"x4\") < 0.02))))"
   ]
  },
  {
   "cell_type": "code",
   "execution_count": 111,
   "metadata": {},
   "outputs": [
    {
     "name": "stdout",
     "output_type": "stream",
     "text": [
      "Precomposed systems in 0.00010657310485839844 sec\n",
      "calling reach with y0 = ['[0.97999999999999998 .. 1.0200000000000001]', '[1.2799999999999998 .. 1.3200000000000001]', '[0.079999999999999987 .. 0.12000000000000001]', '[0.079999999999999987 .. 0.12000000000000001]', '[0.079999999999999987 .. 0.12000000000000001]', '[1.2799999999999998 .. 1.3200000000000001]', '[2.4799999999999999 .. 2.5200000000000001]', '[0.57999999999999996 .. 0.62000000000000011]', '[1.2799999999999998 .. 1.3200000000000001]']\n",
      "ode in polynomial ring\n",
      "_handle_initials called!\n",
      "vars = [x1, x2, x3, x4, x5, x6, x7, x8, x9]\n",
      "C = [0.98..1.02]\n",
      "C = [1.2799999999999998..1.32]\n",
      "C = [0.07999999999999999..0.12000000000000001]\n",
      "C = [0.07999999999999999..0.12000000000000001]\n",
      "C = [0.07999999999999999..0.12000000000000001]\n",
      "C = [1.2799999999999998..1.32]\n",
      "C = [2.48..2.52]\n",
      "C = [0.58..0.6200000000000001]\n",
      "C = [1.2799999999999998..1.32]\n",
      "integrationScheme = 7\n",
      "Computed 1201 flowpipes in 90.8874135017395 sec\n",
      "PolyObserver(x6 - 1.4000000000000000?, <flowstar.reachability.Reach object at 0x55e1cfe5f300>, -0.10000000000000000?*x1*x6 - x2*x6 - 2*x6*x8 + 50*x3 + 100*x4 + 50*x5 - x6 symbolic_composition=False, tentative_unpreconditioning=True, mask=None)\n",
      "symbolic_composition=False, tentative_unpreconditioning=True\n",
      "roots(space_domain=None, epsilon=1e-05, verbosity=0)\n",
      "roots = [[0.0048028783727901138 .. 0.020435765977123051], [0.20345478283219919 .. 0.48300000000000043]]\n",
      "domain = [0.0000000000000000 .. 3.6000000000000006]\n",
      "roots = [[0.0048028783727901138 .. 0.020435765977123051], \n",
      " [0.20345478283219919 .. 0.48300000000000043]]\n",
      "seg_domain = [0.0000000000000000 .. 3.6000000000000006]\n",
      "roots = [[0.0048028783727901138 .. 0.020435765977123051], \n",
      " [0.20345478283219919 .. 0.48300000000000043]]\n",
      "In G.signal\n",
      "PolyObserver(-x6 + 1.8000000000000001?, <flowstar.reachability.Reach object at 0x55e1cfe5f300>, 0.10000000000000000?*x1*x6 + x2*x6 + 2*x6*x8 - 50*x3 - 100*x4 - 50*x5 + x6 symbolic_composition=False, tentative_unpreconditioning=True, mask=None)\n",
      "symbolic_composition=False, tentative_unpreconditioning=True\n",
      "roots(space_domain=None, epsilon=1e-05, verbosity=0)\n",
      "roots = []\n",
      "domain = [0.0000000000000000 .. 3.6000000000000006]\n",
      "roots = []\n",
      "seg_domain = [0.0000000000000000 .. 3.6000000000000006]\n",
      "roots = []\n",
      "PolyObserver(-x6 + 1, <flowstar.reachability.Reach object at 0x55e1cfe5f300>, 0.10000000000000000?*x1*x6 + x2*x6 + 2*x6*x8 - 50*x3 - 100*x4 - 50*x5 + x6 symbolic_composition=False, tentative_unpreconditioning=True, mask=None)\n",
      "symbolic_composition=False, tentative_unpreconditioning=True\n",
      "roots(space_domain=None, epsilon=1e-05, verbosity=0)\n",
      "roots = [[0.71099999999997254 .. 0.96745983959350124]]\n",
      "domain = [0.0000000000000000 .. 3.6000000000000006]\n",
      "roots = [[0.71099999999997254 .. 0.96745983959350124]]\n",
      "seg_domain = [0.0000000000000000 .. 3.6000000000000006]\n",
      "roots = [[0.71099999999997254 .. 0.96745983959350124]]\n",
      "PolyObserver(-x4 + 0.020000000000000001?, <flowstar.reachability.Reach object at 0x55e1cfe5f300>, -x2*x6 + 100*x4 symbolic_composition=False, tentative_unpreconditioning=True, mask=None)\n",
      "symbolic_composition=False, tentative_unpreconditioning=True\n",
      "roots(space_domain=None, epsilon=1e-05, verbosity=0)\n",
      "roots = [[0.038530722578615367 .. 0.039000000000000028], [0.040516218919408222 .. 0.10200000000000010], [0.25351103272975694 .. 1.1010000000000047]]\n",
      "domain = [0.0000000000000000 .. 3.6000000000000006]\n",
      "roots = [[0.038530722578615367 .. 0.039000000000000028], \n",
      " [0.040516218919408222 .. 0.10200000000000010], \n",
      " [0.25351103272975694 .. 1.1010000000000047]]\n",
      "seg_domain = [0.0000000000000000 .. 3.6000000000000006]\n",
      "roots = [[0.038530722578615367 .. 0.039000000000000028], \n",
      " [0.040516218919408222 .. 0.10200000000000010], \n",
      " [0.25351103272975694 .. 1.1010000000000047]]\n",
      "Monitored signal in 57.2412109375 sec\n",
      "Run done in 148.54443430900574 sec\n",
      "options: {}\n"
     ]
    },
    {
     "data": {
      "image/png": "[encoded data removed]",
      "text/plain": [
       "Graphics object consisting of 2 graphics primitives"
      ]
     },
     "execution_count": 111,
     "metadata": {},
     "output_type": "execute_result"
    }
   ],
   "source": [
    "test_monitoring(prop, 2)[1].plot()"
   ]
  },
  {
   "cell_type": "code",
   "execution_count": 112,
   "metadata": {},
   "outputs": [
    {
     "name": "stdout",
     "output_type": "stream",
     "text": [
      "Precomposed systems in 8.511543273925781e-05 sec\n",
      "calling reach with y0 = ['[0.97999999999999998 .. 1.0200000000000001]', '[1.2799999999999998 .. 1.3200000000000001]', '[0.079999999999999987 .. 0.12000000000000001]', '[0.079999999999999987 .. 0.12000000000000001]', '[0.079999999999999987 .. 0.12000000000000001]', '[1.2799999999999998 .. 1.3200000000000001]', '[2.4799999999999999 .. 2.5200000000000001]', '[0.57999999999999996 .. 0.62000000000000011]', '[1.2799999999999998 .. 1.3200000000000001]']\n",
      "ode in polynomial ring\n",
      "_handle_initials called!\n",
      "vars = [x1, x2, x3, x4, x5, x6, x7, x8, x9]\n",
      "C = [0.98..1.02]\n",
      "C = [1.2799999999999998..1.32]\n",
      "C = [0.07999999999999999..0.12000000000000001]\n",
      "C = [0.07999999999999999..0.12000000000000001]\n",
      "C = [0.07999999999999999..0.12000000000000001]\n",
      "C = [1.2799999999999998..1.32]\n",
      "C = [2.48..2.52]\n",
      "C = [0.58..0.6200000000000001]\n",
      "C = [1.2799999999999998..1.32]\n",
      "integrationScheme = 7\n",
      "Computed 1201 flowpipes in 91.15164279937744 sec\n",
      "PolyObserver(x6 - 1.4000000000000000?, <flowstar.reachability.Reach object at 0x55e245dd6470>, -0.10000000000000000?*x1*x6 - x2*x6 - 2*x6*x8 + 50*x3 + 100*x4 + 50*x5 - x6 symbolic_composition=True, tentative_unpreconditioning=True, mask=None)\n",
      "symbolic_composition=True, tentative_unpreconditioning=True\n",
      "roots(space_domain=None, epsilon=1e-05, verbosity=0)\n",
      "roots = [[0.0048138818803625908 .. 0.020020370779725589], [0.20774355246405734 .. 0.47416911189916711]]\n",
      "domain = [0.0000000000000000 .. 3.6000000000000006]\n",
      "roots = [[0.0048138818803625908 .. 0.020020370779725589], \n",
      " [0.20774355246405734 .. 0.47416911189916711]]\n",
      "seg_domain = [0.0000000000000000 .. 3.6000000000000006]\n",
      "roots = [[0.0048138818803625908 .. 0.020020370779725589], \n",
      " [0.20774355246405734 .. 0.47416911189916711]]\n",
      "In G.signal\n",
      "PolyObserver(-x6 + 1.8000000000000001?, <flowstar.reachability.Reach object at 0x55e245dd6470>, 0.10000000000000000?*x1*x6 + x2*x6 + 2*x6*x8 - 50*x3 - 100*x4 - 50*x5 + x6 symbolic_composition=True, tentative_unpreconditioning=True, mask=None)\n",
      "symbolic_composition=True, tentative_unpreconditioning=True\n",
      "roots(space_domain=None, epsilon=1e-05, verbosity=0)\n",
      "roots = []\n",
      "domain = [0.0000000000000000 .. 3.6000000000000001]\n",
      "roots = []\n",
      "seg_domain = [0.0000000000000000 .. 3.6000000000000001]\n",
      "roots = []\n",
      "PolyObserver(-x6 + 1, <flowstar.reachability.Reach object at 0x55e245dd6470>, 0.10000000000000000?*x1*x6 + x2*x6 + 2*x6*x8 - 50*x3 - 100*x4 - 50*x5 + x6 symbolic_composition=True, tentative_unpreconditioning=True, mask=None)\n",
      "symbolic_composition=True, tentative_unpreconditioning=True\n",
      "roots(space_domain=None, epsilon=1e-05, verbosity=0)\n",
      "roots = [[0.73107498712745855 .. 0.94185954038689923]]\n",
      "domain = [0.0000000000000000 .. 3.6000000000000001]\n",
      "roots = [[0.73107498712745855 .. 0.94185954038689923]]\n",
      "seg_domain = [0.0000000000000000 .. 3.6000000000000001]\n",
      "roots = [[0.73107498712745855 .. 0.94185954038689923]]\n",
      "PolyObserver(-x4 + 0.020000000000000001?, <flowstar.reachability.Reach object at 0x55e245dd6470>, -x2*x6 + 100*x4 symbolic_composition=True, tentative_unpreconditioning=True, mask=None)\n",
      "symbolic_composition=True, tentative_unpreconditioning=True\n",
      "roots(space_domain=None, epsilon=1e-05, verbosity=0)\n",
      "roots = [[0.041338521398897966 .. 0.081000000000000072], [0.33198885984886317 .. 0.98400000000000088]]\n",
      "domain = [0.0000000000000000 .. 3.6000000000000001]\n",
      "roots = [[0.041338521398897966 .. 0.081000000000000072], \n",
      " [0.33198885984886317 .. 0.98400000000000088]]\n",
      "seg_domain = [0.0000000000000000 .. 3.6000000000000001]\n",
      "roots = [[0.041338521398897966 .. 0.081000000000000072], \n",
      " [0.33198885984886317 .. 0.98400000000000088]]\n",
      "Monitored signal in 49.20870757102966 sec\n",
      "Run done in 140.76139116287231 sec\n",
      "options: {'symbolic_composition': True}\n"
     ]
    },
    {
     "data": {
      "image/png": "[encoded data removed]",
      "text/plain": [
       "Graphics object consisting of 2 graphics primitives"
      ]
     },
     "execution_count": 112,
     "metadata": {},
     "output_type": "execute_result"
    }
   ],
   "source": [
    "test_monitoring(prop, 2, symbolic_composition=True)[1].plot()"
   ]
  },
  {
   "cell_type": "code",
   "execution_count": 114,
   "metadata": {},
   "outputs": [
    {
     "name": "stdout",
     "output_type": "stream",
     "text": [
      "Precomposed systems in 7.271766662597656e-05 sec\n",
      "calling reach with y0 = ['[0.97999999999999998 .. 1.0200000000000001]', '[1.2799999999999998 .. 1.3200000000000001]', '[0.079999999999999987 .. 0.12000000000000001]', '[0.079999999999999987 .. 0.12000000000000001]', '[0.079999999999999987 .. 0.12000000000000001]', '[1.2799999999999998 .. 1.3200000000000001]', '[2.4799999999999999 .. 2.5200000000000001]', '[0.57999999999999996 .. 0.62000000000000011]', '[1.2799999999999998 .. 1.3200000000000001]']\n",
      "ode in polynomial ring\n",
      "_handle_initials called!\n",
      "vars = [x1, x2, x3, x4, x5, x6, x7, x8, x9]\n",
      "C = [0.98..1.02]\n",
      "C = [1.2799999999999998..1.32]\n",
      "C = [0.07999999999999999..0.12000000000000001]\n",
      "C = [0.07999999999999999..0.12000000000000001]\n",
      "C = [0.07999999999999999..0.12000000000000001]\n",
      "C = [1.2799999999999998..1.32]\n",
      "C = [2.48..2.52]\n",
      "C = [0.58..0.6200000000000001]\n",
      "C = [1.2799999999999998..1.32]\n",
      "integrationScheme = 7\n",
      "Pre-composing Taylor models: 128.67912459373474 sec\n",
      "Computed 1201 flowpipes in 218.33358693122864 sec\n",
      "PolyObserver(x6 - 1.4000000000000000?, <flowstar.reachability.Reach object at 0x55e21c966bc0>, -0.10000000000000000?*x1*x6 - x2*x6 - 2*x6*x8 + 50*x3 + 100*x4 + 50*x5 - x6 symbolic_composition=True, tentative_unpreconditioning=True, mask=None)\n",
      "symbolic_composition=True, tentative_unpreconditioning=True\n",
      "roots(space_domain=None, epsilon=1e-05, verbosity=0)\n",
      "roots = [[0.0048138818803625908 .. 0.020020370779725589], [0.20774355246405734 .. 0.47416911189916711]]\n",
      "domain = [0.0000000000000000 .. 3.6000000000000001]\n",
      "roots = [[0.0048138818803625908 .. 0.020020370779725589], \n",
      " [0.20774355246405734 .. 0.47416911189916711]]\n",
      "seg_domain = [0.0000000000000000 .. 3.6000000000000001]\n",
      "roots = [[0.0048138818803625908 .. 0.020020370779725589], \n",
      " [0.20774355246405734 .. 0.47416911189916711]]\n",
      "In G.signal\n",
      "PolyObserver(-x6 + 1.8000000000000001?, <flowstar.reachability.Reach object at 0x55e21c966bc0>, 0.10000000000000000?*x1*x6 + x2*x6 + 2*x6*x8 - 50*x3 - 100*x4 - 50*x5 + x6 symbolic_composition=True, tentative_unpreconditioning=True, mask=None)\n",
      "symbolic_composition=True, tentative_unpreconditioning=True\n",
      "roots(space_domain=None, epsilon=1e-05, verbosity=0)\n",
      "roots = []\n",
      "domain = [0.0000000000000000 .. 3.6000000000000001]\n",
      "roots = []\n",
      "seg_domain = [0.0000000000000000 .. 3.6000000000000001]\n",
      "roots = []\n",
      "PolyObserver(-x6 + 1, <flowstar.reachability.Reach object at 0x55e21c966bc0>, 0.10000000000000000?*x1*x6 + x2*x6 + 2*x6*x8 - 50*x3 - 100*x4 - 50*x5 + x6 symbolic_composition=True, tentative_unpreconditioning=True, mask=None)\n",
      "symbolic_composition=True, tentative_unpreconditioning=True\n",
      "roots(space_domain=None, epsilon=1e-05, verbosity=0)\n",
      "roots = [[0.73107498712745855 .. 0.94185954038689923]]\n",
      "domain = [0.0000000000000000 .. 3.6000000000000001]\n",
      "roots = [[0.73107498712745855 .. 0.94185954038689923]]\n",
      "seg_domain = [0.0000000000000000 .. 3.6000000000000001]\n",
      "roots = [[0.73107498712745855 .. 0.94185954038689923]]\n",
      "PolyObserver(-x4 + 0.020000000000000001?, <flowstar.reachability.Reach object at 0x55e21c966bc0>, -x2*x6 + 100*x4 symbolic_composition=True, tentative_unpreconditioning=True, mask=None)\n",
      "symbolic_composition=True, tentative_unpreconditioning=True\n",
      "roots(space_domain=None, epsilon=1e-05, verbosity=0)\n",
      "roots = [[0.041338521398897966 .. 0.081000000000000072], [0.33198885984886317 .. 0.98400000000000088]]\n",
      "domain = [0.0000000000000000 .. 3.6000000000000001]\n",
      "roots = [[0.041338521398897966 .. 0.081000000000000072], \n",
      " [0.33198885984886317 .. 0.98400000000000088]]\n",
      "seg_domain = [0.0000000000000000 .. 3.6000000000000001]\n",
      "roots = [[0.041338521398897966 .. 0.081000000000000072], \n",
      " [0.33198885984886317 .. 0.98400000000000088]]\n",
      "Monitored signal in 21.96059775352478 sec\n",
      "Run done in 240.45278358459473 sec\n",
      "options: {'symbolic_composition': True, 'precompose_taylor_models': True}\n"
     ]
    },
    {
     "data": {
      "image/png": "[encoded data removed]",
      "text/plain": [
       "Graphics object consisting of 2 graphics primitives"
      ]
     },
     "execution_count": 114,
     "metadata": {},
     "output_type": "execute_result"
    }
   ],
   "source": [
    "test_monitoring(prop, 2, symbolic_composition=True, precompose_taylor_models=True)[1].plot()"
   ]
  },
  {
   "cell_type": "code",
   "execution_count": 113,
   "metadata": {
    "scrolled": false
   },
   "outputs": [
    {
     "name": "stdout",
     "output_type": "stream",
     "text": [
      "Precomposed systems in 0.00013756752014160156 sec\n",
      "calling reach with y0 = ['[0.97999999999999998 .. 1.0200000000000001]', '[1.2799999999999998 .. 1.3200000000000001]', '[0.079999999999999987 .. 0.12000000000000001]', '[0.079999999999999987 .. 0.12000000000000001]', '[0.079999999999999987 .. 0.12000000000000001]', '[1.2799999999999998 .. 1.3200000000000001]', '[2.4799999999999999 .. 2.5200000000000001]', '[0.57999999999999996 .. 0.62000000000000011]', '[1.2799999999999998 .. 1.3200000000000001]']\n",
      "ode in polynomial ring\n",
      "_handle_initials called!\n",
      "vars = [x1, x2, x3, x4, x5, x6, x7, x8, x9]\n",
      "C = [0.98..1.02]\n",
      "C = [1.2799999999999998..1.32]\n",
      "C = [0.07999999999999999..0.12000000000000001]\n",
      "C = [0.07999999999999999..0.12000000000000001]\n",
      "C = [0.07999999999999999..0.12000000000000001]\n",
      "C = [1.2799999999999998..1.32]\n",
      "C = [2.48..2.52]\n",
      "C = [0.58..0.6200000000000001]\n",
      "C = [1.2799999999999998..1.32]\n",
      "integrationScheme = 7\n",
      "Computed 1201 flowpipes in 86.69425630569458 sec\n",
      "PolyObserver(x6 - 1.4000000000000000?, <flowstar.reachability.Reach object at 0x55e2491113c0>, -0.10000000000000000?*x1*x6 - x2*x6 - 2*x6*x8 + 50*x3 + 100*x4 + 50*x5 - x6 symbolic_composition=True, tentative_unpreconditioning=True, mask=Mask([0.0000000000000000 .. 3.6010000000000005], [[0.0000000000000000 .. 2.5010000000000004]]))\n",
      "symbolic_composition=True, tentative_unpreconditioning=True\n",
      "roots(space_domain=None, epsilon=1e-05, verbosity=0)\n",
      "roots = [[0.0048138818803625917 .. 0.020020370779725589], [0.20774355246405737 .. 0.47416911189916711]]\n",
      "domain = [0.0000000000000000 .. 3.6000000000000001]\n",
      "roots = [[0.0048138818803625917 .. 0.020020370779725589], \n",
      " [0.20774355246405737 .. 0.47416911189916711]]\n",
      "seg_domain = [0.0000000000000000 .. 2.5010000000000004]\n",
      "roots = [[0.0048138818803625917 .. 0.020020370779725589], \n",
      " [0.20774355246405737 .. 0.47416911189916711]]\n",
      "In G.signal\n",
      "PolyObserver(-x6 + 1.8000000000000001?, <flowstar.reachability.Reach object at 0x55e2491113c0>, 0.10000000000000000?*x1*x6 + x2*x6 + 2*x6*x8 - 50*x3 - 100*x4 - 50*x5 + x6 symbolic_composition=True, tentative_unpreconditioning=True, mask=Mask([0.0000000000000000 .. 3.6010000000000005], [[0.0048138818803625917 .. 0.57416911189916720], [2.5010000000000003 .. 2.6010000000000005]]))\n",
      "symbolic_composition=True, tentative_unpreconditioning=True\n",
      "roots(space_domain=None, epsilon=1e-05, verbosity=0)\n",
      "roots = []\n",
      "domain = [0.0000000000000000 .. 3.6000000000000001]\n",
      "roots = []\n",
      "seg_domain = [0.0048138818803625917 .. 0.57416911189916720]\n",
      "roots = []\n",
      "seg_domain = [2.5010000000000003 .. 2.6010000000000005]\n",
      "roots = []\n",
      "PolyObserver(-x6 + 1, <flowstar.reachability.Reach object at 0x55e2491113c0>, 0.10000000000000000?*x1*x6 + x2*x6 + 2*x6*x8 - 50*x3 - 100*x4 - 50*x5 + x6 symbolic_composition=True, tentative_unpreconditioning=True, mask=Mask([0.0000000000000000 .. 3.6010000000000005], [[0.0048138818803625917 .. 1.5741691118991672], [2.5010000000000003 .. 3.6010000000000005]]))\n",
      "symbolic_composition=True, tentative_unpreconditioning=True\n",
      "roots(space_domain=None, epsilon=1e-05, verbosity=0)\n",
      "roots = [[0.73107498712745866 .. 0.94185954038689923]]\n",
      "domain = [0.0000000000000000 .. 3.6000000000000001]\n",
      "roots = [[0.73107498712745866 .. 0.94185954038689923]]\n",
      "seg_domain = [0.0048138818803625917 .. 1.5741691118991672]\n",
      "roots = [[0.73107498712745866 .. 0.94185954038689923]]\n",
      "seg_domain = [2.5010000000000003 .. 3.6010000000000005]\n",
      "roots = [[0.73107498712745866 .. 0.94185954038689923]]\n",
      "PolyObserver(-x4 + 0.020000000000000001?, <flowstar.reachability.Reach object at 0x55e2491113c0>, -x2*x6 + 100*x4 symbolic_composition=True, tentative_unpreconditioning=True, mask=Mask([0.0000000000000000 .. 3.6010000000000005], [[0.0048138818803625917 .. 0.0048138818803625918], [0.73107498712745866 .. 1.5741691118991672], [2.5010000000000003 .. 3.6010000000000005]]))\n",
      "symbolic_composition=True, tentative_unpreconditioning=True\n",
      "roots(space_domain=None, epsilon=1e-05, verbosity=0)\n",
      "roots = [[0.73107498712742924 .. 0.98400000000000088]]\n",
      "domain = [0.0000000000000000 .. 3.6000000000000001]\n",
      "roots = [[0.73107498712742924 .. 0.98400000000000088]]\n",
      "seg_domain = [0.0048138818803625917 .. 0.0048138818803625918]\n",
      "roots = [[0.73107498712742924 .. 0.98400000000000088]]\n",
      "seg_domain = [0.73107498712745866 .. 1.5741691118991672]\n",
      "roots = [[0.73107498712742924 .. 0.98400000000000088]]\n",
      "seg_domain = [2.5010000000000003 .. 3.6010000000000005]\n",
      "roots = [[0.73107498712742924 .. 0.98400000000000088]]\n",
      "Monitored signal in 37.957228899002075 sec\n",
      "Run done in 125.0032103061676 sec\n",
      "options: {'symbolic_composition': True, 'use_masks': True}\n"
     ]
    },
    {
     "data": {
      "image/png": "[encoded data removed]",
      "text/plain": [
       "Graphics object consisting of 2 graphics primitives"
      ]
     },
     "execution_count": 113,
     "metadata": {},
     "output_type": "execute_result"
    }
   ],
   "source": [
    "test_monitoring(prop, 2, symbolic_composition=True, use_masks=True)[1].plot()"
   ]
  },
  {
   "cell_type": "code",
   "execution_count": 115,
   "metadata": {},
   "outputs": [
    {
     "name": "stdout",
     "output_type": "stream",
     "text": [
      "Precomposed systems in 8.249282836914062e-05 sec\n",
      "calling reach with y0 = ['[0.97999999999999998 .. 1.0200000000000001]', '[1.2799999999999998 .. 1.3200000000000001]', '[0.079999999999999987 .. 0.12000000000000001]', '[0.079999999999999987 .. 0.12000000000000001]', '[0.079999999999999987 .. 0.12000000000000001]', '[1.2799999999999998 .. 1.3200000000000001]', '[2.4799999999999999 .. 2.5200000000000001]', '[0.57999999999999996 .. 0.62000000000000011]', '[1.2799999999999998 .. 1.3200000000000001]']\n",
      "ode in polynomial ring\n",
      "_handle_initials called!\n",
      "vars = [x1, x2, x3, x4, x5, x6, x7, x8, x9]\n",
      "C = [0.98..1.02]\n",
      "C = [1.2799999999999998..1.32]\n",
      "C = [0.07999999999999999..0.12000000000000001]\n",
      "C = [0.07999999999999999..0.12000000000000001]\n",
      "C = [0.07999999999999999..0.12000000000000001]\n",
      "C = [1.2799999999999998..1.32]\n",
      "C = [2.48..2.52]\n",
      "C = [0.58..0.6200000000000001]\n",
      "C = [1.2799999999999998..1.32]\n",
      "integrationScheme = 7\n",
      "Pre-composing Taylor models: 126.59757852554321 sec\n",
      "Computed 1201 flowpipes in 215.39847207069397 sec\n",
      "PolyObserver(x6 - 1.4000000000000000?, <flowstar.reachability.Reach object at 0x55e254a1b720>, -0.10000000000000000?*x1*x6 - x2*x6 - 2*x6*x8 + 50*x3 + 100*x4 + 50*x5 - x6 symbolic_composition=True, tentative_unpreconditioning=True, mask=Mask([0.0000000000000000 .. 3.6010000000000005], [[0.0000000000000000 .. 2.5009999999999999]]))\n",
      "symbolic_composition=True, tentative_unpreconditioning=True\n",
      "roots(space_domain=None, epsilon=1e-05, verbosity=0)\n",
      "roots = [[0.0048138818803625917 .. 0.020020370779725589], [0.20774355246405737 .. 0.47416911189916711]]\n",
      "domain = [0.0000000000000000 .. 3.6000000000000001]\n",
      "roots = [[0.0048138818803625917 .. 0.020020370779725589], \n",
      " [0.20774355246405737 .. 0.47416911189916711]]\n",
      "seg_domain = [0.0000000000000000 .. 2.5009999999999999]\n",
      "roots = [[0.0048138818803625917 .. 0.020020370779725589], \n",
      " [0.20774355246405737 .. 0.47416911189916711]]\n",
      "In G.signal\n",
      "PolyObserver(-x6 + 1.8000000000000001?, <flowstar.reachability.Reach object at 0x55e254a1b720>, 0.10000000000000000?*x1*x6 + x2*x6 + 2*x6*x8 - 50*x3 - 100*x4 - 50*x5 + x6 symbolic_composition=True, tentative_unpreconditioning=True, mask=Mask([0.0000000000000000 .. 3.6010000000000005], [[0.0048138818803625917 .. 0.57416911189916720], [2.5009999999999998 .. 2.6010000000000000]]))\n",
      "symbolic_composition=True, tentative_unpreconditioning=True\n",
      "roots(space_domain=None, epsilon=1e-05, verbosity=0)\n",
      "roots = []\n",
      "domain = [0.0000000000000000 .. 3.6000000000000001]\n",
      "roots = []\n",
      "seg_domain = [0.0048138818803625917 .. 0.57416911189916720]\n",
      "roots = []\n",
      "seg_domain = [2.5009999999999998 .. 2.6010000000000000]\n",
      "roots = []\n",
      "PolyObserver(-x6 + 1, <flowstar.reachability.Reach object at 0x55e254a1b720>, 0.10000000000000000?*x1*x6 + x2*x6 + 2*x6*x8 - 50*x3 - 100*x4 - 50*x5 + x6 symbolic_composition=True, tentative_unpreconditioning=True, mask=Mask([0.0000000000000000 .. 3.6010000000000005], [[0.0048138818803625917 .. 1.5741691118991672], [2.5009999999999998 .. 3.6010000000000000]]))\n",
      "symbolic_composition=True, tentative_unpreconditioning=True\n",
      "roots(space_domain=None, epsilon=1e-05, verbosity=0)\n",
      "roots = [[0.73107498712745866 .. 0.94185954038689923]]\n",
      "domain = [0.0000000000000000 .. 3.6000000000000001]\n",
      "roots = [[0.73107498712745866 .. 0.94185954038689923]]\n",
      "seg_domain = [0.0048138818803625917 .. 1.5741691118991672]\n",
      "roots = [[0.73107498712745866 .. 0.94185954038689923]]\n",
      "seg_domain = [2.5009999999999998 .. 3.6010000000000000]\n",
      "roots = [[0.73107498712745866 .. 0.94185954038689923]]\n",
      "PolyObserver(-x4 + 0.020000000000000001?, <flowstar.reachability.Reach object at 0x55e254a1b720>, -x2*x6 + 100*x4 symbolic_composition=True, tentative_unpreconditioning=True, mask=Mask([0.0000000000000000 .. 3.6010000000000000], [[0.0048138818803625917 .. 0.0048138818803625918], [0.73107498712745866 .. 1.5741691118991672], [2.5009999999999998 .. 3.6010000000000000]]))\n",
      "symbolic_composition=True, tentative_unpreconditioning=True\n",
      "roots(space_domain=None, epsilon=1e-05, verbosity=0)\n",
      "roots = [[0.73107498712742924 .. 0.98400000000000088]]\n",
      "domain = [0.0000000000000000 .. 3.6000000000000001]\n",
      "roots = [[0.73107498712742924 .. 0.98400000000000088]]\n",
      "seg_domain = [0.0048138818803625917 .. 0.0048138818803625918]\n",
      "roots = [[0.73107498712742924 .. 0.98400000000000088]]\n",
      "seg_domain = [0.73107498712745866 .. 1.5741691118991672]\n",
      "roots = [[0.73107498712742924 .. 0.98400000000000088]]\n",
      "seg_domain = [2.5009999999999998 .. 3.6010000000000000]\n",
      "roots = [[0.73107498712742924 .. 0.98400000000000088]]\n",
      "Monitored signal in 13.361401319503784 sec\n",
      "Run done in 228.9149215221405 sec\n",
      "options: {'symbolic_composition': True, 'use_masks': True, 'precompose_taylor_models': True}\n"
     ]
    },
    {
     "data": {
      "image/png": "[encoded data removed]",
      "text/plain": [
       "Graphics object consisting of 2 graphics primitives"
      ]
     },
     "execution_count": 115,
     "metadata": {},
     "output_type": "execute_result"
    }
   ],
   "source": [
    "test_monitoring(prop, 2, symbolic_composition=True, use_masks=True, precompose_taylor_models=True)[1].plot()"
   ]
  },
  {
   "cell_type": "code",
   "execution_count": null,
   "metadata": {},
   "outputs": [],
   "source": []
  }
 ],
 "metadata": {
  "kernelspec": {
   "display_name": "SageMath 8.8",
   "language": "sage",
   "name": "sagemath"
  },
  "language_info": {
   "codemirror_mode": {
    "name": "ipython",
    "version": 3
   },
   "file_extension": ".py",
   "mimetype": "text/x-python",
   "name": "python",
   "nbconvert_exporter": "python",
   "pygments_lexer": "ipython3",
   "version": "3.7.6"
  },
  "notify_time": "5"
 },
 "nbformat": 4,
 "nbformat_minor": 2
}
