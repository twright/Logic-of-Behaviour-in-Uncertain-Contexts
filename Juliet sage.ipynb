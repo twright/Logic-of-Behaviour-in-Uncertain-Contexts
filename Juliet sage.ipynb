{
 "cells": [
  {
   "cell_type": "code",
   "execution_count": 24,
   "metadata": {
    "collapsed": true
   },
   "outputs": [],
   "source": [
    "%display latex"
   ]
  },
  {
   "cell_type": "code",
   "execution_count": 25,
   "metadata": {
    "collapsed": false
   },
   "outputs": [
    {
     "data": {
      "text/html": [
       "<html><script type=\"math/tex; mode=display\">\\newcommand{\\Bold}[1]{\\mathbf{#1}}A</script></html>"
      ],
      "text/plain": [
       "A"
      ]
     },
     "execution_count": 25,
     "metadata": {},
     "output_type": "execute_result"
    }
   ],
   "source": [
    "var(\"A\")"
   ]
  },
  {
   "cell_type": "code",
   "execution_count": 43,
   "metadata": {
    "collapsed": false
   },
   "outputs": [
    {
     "data": {
      "text/html": [
       "<html><script type=\"math/tex; mode=display\">\\newcommand{\\Bold}[1]{\\mathbf{#1}}qi</script></html>"
      ],
      "text/plain": [
       "qi"
      ]
     },
     "execution_count": 43,
     "metadata": {},
     "output_type": "execute_result"
    }
   ],
   "source": [
    "function(\"qi\")"
   ]
  },
  {
   "cell_type": "code",
   "execution_count": 45,
   "metadata": {
    "collapsed": false
   },
   "outputs": [],
   "source": [
    "def qint(n):\n",
    "    if n == 0:\n",
    "        return 0\n",
    "    elif n < 0:\n",
    "        return qi(-n)\n",
    "    else:\n",
    "        return qi(n)\n",
    "#    return (A^(2*n) - A^(-2*n))/(A^2 - A^(-2))"
   ]
  },
  {
   "cell_type": "code",
   "execution_count": 46,
   "metadata": {
    "collapsed": false
   },
   "outputs": [
    {
     "data": {
      "text/html": [
       "<html><script type=\"math/tex; mode=display\">\\newcommand{\\Bold}[1]{\\mathbf{#1}}{\\rm qi}\\left(2\\right)</script></html>"
      ],
      "text/plain": [
       "qi(2)"
      ]
     },
     "execution_count": 46,
     "metadata": {},
     "output_type": "execute_result"
    }
   ],
   "source": [
    "qint(2)"
   ]
  },
  {
   "cell_type": "code",
   "execution_count": 197,
   "metadata": {
    "collapsed": false
   },
   "outputs": [
    {
     "data": {
      "text/html": [
       "<html><script type=\"math/tex; mode=display\">\\newcommand{\\Bold}[1]{\\mathbf{#1}}n</script></html>"
      ],
      "text/plain": [
       "n"
      ]
     },
     "execution_count": 197,
     "metadata": {},
     "output_type": "execute_result"
    }
   ],
   "source": [
    "function(\"n\")"
   ]
  },
  {
   "cell_type": "code",
   "execution_count": 92,
   "metadata": {
    "collapsed": true
   },
   "outputs": [],
   "source": [
    "def f(i,j,k):\n",
    "    return (n(i+1,j+1,k)\n",
    "        - (qint((j+k-i)/2)/(qint(j)*qint(j+1)))*n(i+1,j-1,k)\n",
    "        - (qint((i+k-j)/2)^2/(qint(i)*qint(i+1)))*n(i-1,j+1,k)\n",
    "        + ( (qint((i+j+k+2)/2))^2*qint((i+j-k)/2)^2\n",
    "          / (qint(i)*qint(i+1)*qint(j)*qint(j+1)) )*n(i-1,j-1,k))"
   ]
  },
  {
   "cell_type": "code",
   "execution_count": 93,
   "metadata": {
    "collapsed": false
   },
   "outputs": [
    {
     "data": {
      "text/html": [
       "<html><script type=\"math/tex; mode=display\">\\newcommand{\\Bold}[1]{\\mathbf{#1}}\\left(i, j, k\\right)</script></html>"
      ],
      "text/plain": [
       "(i, j, k)"
      ]
     },
     "execution_count": 93,
     "metadata": {},
     "output_type": "execute_result"
    }
   ],
   "source": [
    "var(\"i j k\")"
   ]
  },
  {
   "cell_type": "code",
   "execution_count": 94,
   "metadata": {
    "collapsed": false
   },
   "outputs": [
    {
     "data": {
      "text/html": [
       "<html><script type=\"math/tex; mode=display\">\\newcommand{\\Bold}[1]{\\mathbf{#1}}-\\frac{n\\left(i - 1, j + 1, k\\right) {\\rm qi}\\left(\\frac{1}{2} \\, i - \\frac{1}{2} \\, j + \\frac{1}{2} \\, k\\right)^{2}}{{\\rm qi}\\left(i + 1\\right) {\\rm qi}\\left(i\\right)} + \\frac{n\\left(i - 1, j - 1, k\\right) {\\rm qi}\\left(\\frac{1}{2} \\, i + \\frac{1}{2} \\, j + \\frac{1}{2} \\, k + 1\\right)^{2} {\\rm qi}\\left(\\frac{1}{2} \\, i + \\frac{1}{2} \\, j - \\frac{1}{2} \\, k\\right)^{2}}{{\\rm qi}\\left(i + 1\\right) {\\rm qi}\\left(i\\right) {\\rm qi}\\left(j + 1\\right) {\\rm qi}\\left(j\\right)} - \\frac{n\\left(i + 1, j - 1, k\\right) {\\rm qi}\\left(-\\frac{1}{2} \\, i + \\frac{1}{2} \\, j + \\frac{1}{2} \\, k\\right)}{{\\rm qi}\\left(j + 1\\right) {\\rm qi}\\left(j\\right)} + n\\left(i + 1, j + 1, k\\right)</script></html>"
      ],
      "text/plain": [
       "-n(i - 1, j + 1, k)*qi(1/2*i - 1/2*j + 1/2*k)^2/(qi(i + 1)*qi(i)) + n(i - 1, j - 1, k)*qi(1/2*i + 1/2*j + 1/2*k + 1)^2*qi(1/2*i + 1/2*j - 1/2*k)^2/(qi(i + 1)*qi(i)*qi(j + 1)*qi(j)) - n(i + 1, j - 1, k)*qi(-1/2*i + 1/2*j + 1/2*k)/(qi(j + 1)*qi(j)) + n(i + 1, j + 1, k)"
      ]
     },
     "execution_count": 94,
     "metadata": {},
     "output_type": "execute_result"
    }
   ],
   "source": [
    "f(i,j,k)"
   ]
  },
  {
   "cell_type": "code",
   "execution_count": 65,
   "metadata": {
    "collapsed": true
   },
   "outputs": [],
   "source": [
    "#R.<A,q0,q1,q2> = QQ[]"
   ]
  },
  {
   "cell_type": "code",
   "execution_count": 66,
   "metadata": {
    "collapsed": false
   },
   "outputs": [],
   "source": [
    "#S = R.quotient(R.ideal([q0 - R(qint(0)),\n",
    "#                        q1 - R(qint(1)),\n",
    "#                        q2 - R(qint(2))]))"
   ]
  },
  {
   "cell_type": "code",
   "execution_count": 67,
   "metadata": {
    "collapsed": false
   },
   "outputs": [
    {
     "data": {
      "text/html": [
       "<html><script type=\"math/tex; mode=display\">\\newcommand{\\Bold}[1]{\\mathbf{#1}}\\psi</script></html>"
      ],
      "text/plain": [
       "\\psi"
      ]
     },
     "execution_count": 67,
     "metadata": {},
     "output_type": "execute_result"
    }
   ],
   "source": [
    "psi = function(\"\\psi\"); psi"
   ]
  },
  {
   "cell_type": "code",
   "execution_count": 68,
   "metadata": {
    "collapsed": false
   },
   "outputs": [
    {
     "data": {
      "text/html": [
       "<html><script type=\"math/tex; mode=display\">\\newcommand{\\Bold}[1]{\\mathbf{#1}}{\\rm \\psi}\\left(1, 2, 3\\right)</script></html>"
      ],
      "text/plain": [
       "\\psi(1, 2, 3)"
      ]
     },
     "execution_count": 68,
     "metadata": {},
     "output_type": "execute_result"
    }
   ],
   "source": [
    "psi(1,2,3)"
   ]
  },
  {
   "cell_type": "code",
   "execution_count": 69,
   "metadata": {
    "collapsed": true
   },
   "outputs": [],
   "source": [
    "def ascoeff(a,b,i,j,k):\n",
    "    return (a*b*qint((1/2)*(a*i + b*j + k + a + b + 2))\n",
    "           *qint((a*i + b*j - k + a + b)/2)\n",
    "           *qint(i + 1)\n",
    "           *qint(j + 1))/(\n",
    "            qint(i + (a + 3)/2)\n",
    "           *qint(i + (a + 1)/2)\n",
    "           *qint(j + (a + 3)/2)\n",
    "           *qint(j + (a + 1)/2))"
   ]
  },
  {
   "cell_type": "code",
   "execution_count": 70,
   "metadata": {
    "collapsed": false
   },
   "outputs": [
    {
     "data": {
      "text/html": [
       "<html><script type=\"math/tex; mode=display\">\\newcommand{\\Bold}[1]{\\mathbf{#1}}\\left(a, b\\right)</script></html>"
      ],
      "text/plain": [
       "(a, b)"
      ]
     },
     "execution_count": 70,
     "metadata": {},
     "output_type": "execute_result"
    }
   ],
   "source": [
    "var(\"a b\")"
   ]
  },
  {
   "cell_type": "code",
   "execution_count": 71,
   "metadata": {
    "collapsed": false
   },
   "outputs": [
    {
     "data": {
      "text/html": [
       "<html><script type=\"math/tex; mode=display\">\\newcommand{\\Bold}[1]{\\mathbf{#1}}\\frac{a b {\\rm qi}\\left(\\frac{1}{2} \\, a i + \\frac{1}{2} \\, b j + \\frac{1}{2} \\, a + \\frac{1}{2} \\, b + \\frac{1}{2} \\, k + 1\\right) {\\rm qi}\\left(\\frac{1}{2} \\, a i + \\frac{1}{2} \\, b j + \\frac{1}{2} \\, a + \\frac{1}{2} \\, b - \\frac{1}{2} \\, k\\right) {\\rm qi}\\left(i + 1\\right) {\\rm qi}\\left(j + 1\\right)}{{\\rm qi}\\left(\\frac{1}{2} \\, a + i + \\frac{3}{2}\\right) {\\rm qi}\\left(\\frac{1}{2} \\, a + i + \\frac{1}{2}\\right) {\\rm qi}\\left(\\frac{1}{2} \\, a + j + \\frac{3}{2}\\right) {\\rm qi}\\left(\\frac{1}{2} \\, a + j + \\frac{1}{2}\\right)}</script></html>"
      ],
      "text/plain": [
       "a*b*qi(1/2*a*i + 1/2*b*j + 1/2*a + 1/2*b + 1/2*k + 1)*qi(1/2*a*i + 1/2*b*j + 1/2*a + 1/2*b - 1/2*k)*qi(i + 1)*qi(j + 1)/(qi(1/2*a + i + 3/2)*qi(1/2*a + i + 1/2)*qi(1/2*a + j + 3/2)*qi(1/2*a + j + 1/2))"
      ]
     },
     "execution_count": 71,
     "metadata": {},
     "output_type": "execute_result"
    }
   ],
   "source": [
    "ascoeff(a,b,i,j,k)"
   ]
  },
  {
   "cell_type": "code",
   "execution_count": 72,
   "metadata": {
    "collapsed": true
   },
   "outputs": [],
   "source": [
    "def g(i,j,k):\n",
    "    return sum(ascoeff(a,b,i,j,k)*psi(i+a,j+b,k)\n",
    "               for a in [-1,1] for b in [-1,1])"
   ]
  },
  {
   "cell_type": "code",
   "execution_count": 73,
   "metadata": {
    "collapsed": false
   },
   "outputs": [
    {
     "data": {
      "text/html": [
       "<html><script type=\"math/tex; mode=display\">\\newcommand{\\Bold}[1]{\\mathbf{#1}}\\frac{{\\rm \\psi}\\left(i + 1, j + 1, k\\right) {\\rm qi}\\left(\\frac{1}{2} \\, i + \\frac{1}{2} \\, j + \\frac{1}{2} \\, k + 2\\right) {\\rm qi}\\left(\\frac{1}{2} \\, i + \\frac{1}{2} \\, j - \\frac{1}{2} \\, k + 1\\right)}{{\\rm qi}\\left(i + 2\\right) {\\rm qi}\\left(j + 2\\right)} - \\frac{{\\rm \\psi}\\left(i + 1, j - 1, k\\right) {\\rm qi}\\left(\\frac{1}{2} \\, i - \\frac{1}{2} \\, j + \\frac{1}{2} \\, k + 1\\right) {\\rm qi}\\left(\\frac{1}{2} \\, i - \\frac{1}{2} \\, j - \\frac{1}{2} \\, k\\right)}{{\\rm qi}\\left(i + 2\\right) {\\rm qi}\\left(j + 2\\right)} - \\frac{{\\rm \\psi}\\left(i - 1, j + 1, k\\right) {\\rm qi}\\left(-\\frac{1}{2} \\, i + \\frac{1}{2} \\, j + \\frac{1}{2} \\, k + 1\\right) {\\rm qi}\\left(-\\frac{1}{2} \\, i + \\frac{1}{2} \\, j - \\frac{1}{2} \\, k\\right)}{{\\rm qi}\\left(i\\right) {\\rm qi}\\left(j\\right)} + \\frac{{\\rm \\psi}\\left(i - 1, j - 1, k\\right) {\\rm qi}\\left(-\\frac{1}{2} \\, i - \\frac{1}{2} \\, j + \\frac{1}{2} \\, k\\right) {\\rm qi}\\left(-\\frac{1}{2} \\, i - \\frac{1}{2} \\, j - \\frac{1}{2} \\, k - 1\\right)}{{\\rm qi}\\left(i\\right) {\\rm qi}\\left(j\\right)}</script></html>"
      ],
      "text/plain": [
       "\\psi(i + 1, j + 1, k)*qi(1/2*i + 1/2*j + 1/2*k + 2)*qi(1/2*i + 1/2*j - 1/2*k + 1)/(qi(i + 2)*qi(j + 2)) - \\psi(i + 1, j - 1, k)*qi(1/2*i - 1/2*j + 1/2*k + 1)*qi(1/2*i - 1/2*j - 1/2*k)/(qi(i + 2)*qi(j + 2)) - \\psi(i - 1, j + 1, k)*qi(-1/2*i + 1/2*j + 1/2*k + 1)*qi(-1/2*i + 1/2*j - 1/2*k)/(qi(i)*qi(j)) + \\psi(i - 1, j - 1, k)*qi(-1/2*i - 1/2*j + 1/2*k)*qi(-1/2*i - 1/2*j - 1/2*k - 1)/(qi(i)*qi(j))"
      ]
     },
     "execution_count": 73,
     "metadata": {},
     "output_type": "execute_result"
    }
   ],
   "source": [
    "g(i,j,k)"
   ]
  },
  {
   "cell_type": "code",
   "execution_count": 88,
   "metadata": {
    "collapsed": false
   },
   "outputs": [
    {
     "data": {
      "text/html": [
       "<html><script type=\"math/tex; mode=display\">\\newcommand{\\Bold}[1]{\\mathbf{#1}}\\left(x, y, z\\right)</script></html>"
      ],
      "text/plain": [
       "(x, y, z)"
      ]
     },
     "execution_count": 88,
     "metadata": {},
     "output_type": "execute_result"
    }
   ],
   "source": [
    "var(\"x y z\", domain=\"positive\")"
   ]
  },
  {
   "cell_type": "code",
   "execution_count": 111,
   "metadata": {
    "collapsed": true
   },
   "outputs": [],
   "source": [
    "psi2(x,y,z) = qint(x+1)*n(x,y,z)"
   ]
  },
  {
   "cell_type": "code",
   "execution_count": 167,
   "metadata": {
    "collapsed": true
   },
   "outputs": [],
   "source": [
    "def cob(xx,yy,zz,psi2):\n",
    "    return eval(str(g(xx,yy,zz))\n",
    "                .replace(\"^\",\"**\")\n",
    "                .replace(\"\\\\psi\", \"psi2\"))/(psi2(xx,yy,zz)/n(xx,yy,zz))"
   ]
  },
  {
   "cell_type": "code",
   "execution_count": 168,
   "metadata": {
    "collapsed": false
   },
   "outputs": [],
   "source": [
    "ans = eval(str(g(2*x, 2*x, 0)).replace(\"^\",\"**\").replace(\"\\\\psi\", \"psi2\"))/qint(2*x + 1)"
   ]
  },
  {
   "cell_type": "code",
   "execution_count": 169,
   "metadata": {
    "collapsed": false
   },
   "outputs": [
    {
     "data": {
      "text/html": [
       "<html><script type=\"math/tex; mode=display\">\\newcommand{\\Bold}[1]{\\mathbf{#1}}n\\left(2 \\, x + 1, 2 \\, x + 1, 0\\right) + n\\left(2 \\, x - 1, 2 \\, x - 1, 0\\right)</script></html>"
      ],
      "text/plain": [
       "n(2*x + 1, 2*x + 1, 0) + n(2*x - 1, 2*x - 1, 0)"
      ]
     },
     "execution_count": 169,
     "metadata": {},
     "output_type": "execute_result"
    }
   ],
   "source": [
    "expand(ans)"
   ]
  },
  {
   "cell_type": "code",
   "execution_count": 170,
   "metadata": {
    "collapsed": false
   },
   "outputs": [
    {
     "data": {
      "text/html": [
       "<html><script type=\"math/tex; mode=display\">\\newcommand{\\Bold}[1]{\\mathbf{#1}}n\\left(2 \\, x, 2 \\, x, 0\\right) {\\rm qi}\\left(2 \\, x + 1\\right)</script></html>"
      ],
      "text/plain": [
       "n(2*x, 2*x, 0)*qi(2*x + 1)"
      ]
     },
     "execution_count": 170,
     "metadata": {},
     "output_type": "execute_result"
    }
   ],
   "source": [
    "psi2(2*x,2*x,0)"
   ]
  },
  {
   "cell_type": "code",
   "execution_count": 171,
   "metadata": {
    "collapsed": false
   },
   "outputs": [
    {
     "data": {
      "text/html": [
       "<html><script type=\"math/tex; mode=display\">\\newcommand{\\Bold}[1]{\\mathbf{#1}}n\\left(2 \\, x + 1, 2 \\, x + 1, 0\\right) + n\\left(2 \\, x - 1, 2 \\, x - 1, 0\\right)</script></html>"
      ],
      "text/plain": [
       "n(2*x + 1, 2*x + 1, 0) + n(2*x - 1, 2*x - 1, 0)"
      ]
     },
     "execution_count": 171,
     "metadata": {},
     "output_type": "execute_result"
    }
   ],
   "source": [
    "simplify(expand(cob(2*x,2*x,0,psi2)))"
   ]
  },
  {
   "cell_type": "code",
   "execution_count": 198,
   "metadata": {
    "collapsed": false
   },
   "outputs": [
    {
     "data": {
      "text/html": [
       "<html><script type=\"math/tex; mode=display\">\\newcommand{\\Bold}[1]{\\mathbf{#1}}\\left(u, v, w, l, m, o, p, q\\right)</script></html>"
      ],
      "text/plain": [
       "(u, v, w, l, m, o, p, q)"
      ]
     },
     "execution_count": 198,
     "metadata": {},
     "output_type": "execute_result"
    }
   ],
   "source": [
    "var(\"u v w l m o p q\", domain=\"positive\")"
   ]
  },
  {
   "cell_type": "code",
   "execution_count": 199,
   "metadata": {
    "collapsed": false
   },
   "outputs": [
    {
     "data": {
      "text/html": [
       "<html><script type=\"math/tex; mode=display\">\\newcommand{\\Bold}[1]{\\mathbf{#1}}\\frac{n\\left(2 \\, x + 1, 2 \\, x + 1, 2 \\, x\\right) {\\rm qi}\\left(2 \\, m x + m + q\\right) {\\rm qi}\\left(2 \\, o x + p\\right) {\\rm qi}\\left(2 \\, u x + u + v\\right) {\\rm qi}\\left(2 \\, w x + l\\right) {\\rm qi}\\left(3 \\, x + 2\\right) {\\rm qi}\\left(x + 1\\right)}{{\\rm qi}\\left(2 \\, m x + q\\right) {\\rm qi}\\left(2 \\, o x + o + p\\right) {\\rm qi}\\left(2 \\, u x + v\\right) {\\rm qi}\\left(2 \\, w x + l + w\\right) {\\rm qi}\\left(2 \\, x + 2\\right)^{2}} + \\frac{n\\left(2 \\, x - 1, 2 \\, x - 1, 2 \\, x\\right) {\\rm qi}\\left(2 \\, m x - m + q\\right) {\\rm qi}\\left(2 \\, o x + p\\right) {\\rm qi}\\left(2 \\, u x - u + v\\right) {\\rm qi}\\left(2 \\, w x + l\\right) {\\rm qi}\\left(3 \\, x + 1\\right) {\\rm qi}\\left(x\\right)}{{\\rm qi}\\left(2 \\, m x + q\\right) {\\rm qi}\\left(2 \\, o x - o + p\\right) {\\rm qi}\\left(2 \\, u x + v\\right) {\\rm qi}\\left(2 \\, w x + l - w\\right) {\\rm qi}\\left(2 \\, x\\right)^{2}} - \\frac{n\\left(2 \\, x - 1, 2 \\, x + 1, 2 \\, x\\right) {\\rm qi}\\left(2 \\, m x - m + q\\right) {\\rm qi}\\left(2 \\, o x + p\\right) {\\rm qi}\\left(2 \\, u x - u + v\\right) {\\rm qi}\\left(2 \\, w x + l\\right) {\\rm qi}\\left(x + 1\\right) {\\rm qi}\\left(x\\right)}{{\\rm qi}\\left(2 \\, m x + q\\right) {\\rm qi}\\left(2 \\, o x - o + p\\right) {\\rm qi}\\left(2 \\, u x + v\\right) {\\rm qi}\\left(2 \\, w x + l - w\\right) {\\rm qi}\\left(2 \\, x\\right)^{2}} - \\frac{n\\left(2 \\, x + 1, 2 \\, x - 1, 2 \\, x\\right) {\\rm qi}\\left(2 \\, m x + m + q\\right) {\\rm qi}\\left(2 \\, o x + p\\right) {\\rm qi}\\left(2 \\, u x + u + v\\right) {\\rm qi}\\left(2 \\, w x + l\\right) {\\rm qi}\\left(x + 1\\right) {\\rm qi}\\left(x\\right)}{{\\rm qi}\\left(2 \\, m x + q\\right) {\\rm qi}\\left(2 \\, o x + o + p\\right) {\\rm qi}\\left(2 \\, u x + v\\right) {\\rm qi}\\left(2 \\, w x + l + w\\right) {\\rm qi}\\left(2 \\, x + 2\\right)^{2}}</script></html>"
      ],
      "text/plain": [
       "n(2*x + 1, 2*x + 1, 2*x)*qi(2*m*x + m + q)*qi(2*o*x + p)*qi(2*u*x + u + v)*qi(2*w*x + l)*qi(3*x + 2)*qi(x + 1)/(qi(2*m*x + q)*qi(2*o*x + o + p)*qi(2*u*x + v)*qi(2*w*x + l + w)*qi(2*x + 2)^2) + n(2*x - 1, 2*x - 1, 2*x)*qi(2*m*x - m + q)*qi(2*o*x + p)*qi(2*u*x - u + v)*qi(2*w*x + l)*qi(3*x + 1)*qi(x)/(qi(2*m*x + q)*qi(2*o*x - o + p)*qi(2*u*x + v)*qi(2*w*x + l - w)*qi(2*x)^2) - n(2*x - 1, 2*x + 1, 2*x)*qi(2*m*x - m + q)*qi(2*o*x + p)*qi(2*u*x - u + v)*qi(2*w*x + l)*qi(x + 1)*qi(x)/(qi(2*m*x + q)*qi(2*o*x - o + p)*qi(2*u*x + v)*qi(2*w*x + l - w)*qi(2*x)^2) - n(2*x + 1, 2*x - 1, 2*x)*qi(2*m*x + m + q)*qi(2*o*x + p)*qi(2*u*x + u + v)*qi(2*w*x + l)*qi(x + 1)*qi(x)/(qi(2*m*x + q)*qi(2*o*x + o + p)*qi(2*u*x + v)*qi(2*w*x + l + w)*qi(2*x + 2)^2)"
      ]
     },
     "execution_count": 199,
     "metadata": {},
     "output_type": "execute_result"
    }
   ],
   "source": [
    "expand(cob(2*x,2*x,2*x,lambda x,y,z: qint(u*x + v)*qint(m*x + q)/(qint(w*x+l)*qint(o*x + p))*n(x,y,z)))"
   ]
  },
  {
   "cell_type": "code",
   "execution_count": 178,
   "metadata": {
    "collapsed": false
   },
   "outputs": [
    {
     "data": {
      "text/html": [
       "<html><script type=\"math/tex; mode=display\">\\newcommand{\\Bold}[1]{\\mathbf{#1}}\\frac{n\\left(2 \\, x - 1, 2 \\, x - 1, 2 \\, x\\right) {\\rm qi}\\left(3 \\, x + 1\\right)^{2} {\\rm qi}\\left(x\\right)^{2}}{{\\rm qi}\\left(2 \\, x\\right)^{2} {\\rm qi}\\left(2 \\, x + 1\\right)^{2}} - \\frac{n\\left(2 \\, x - 1, 2 \\, x + 1, 2 \\, x\\right) {\\rm qi}\\left(x\\right)^{2}}{{\\rm qi}\\left(2 \\, x\\right) {\\rm qi}\\left(2 \\, x + 1\\right)} - \\frac{n\\left(2 \\, x + 1, 2 \\, x - 1, 2 \\, x\\right) {\\rm qi}\\left(x\\right)}{{\\rm qi}\\left(2 \\, x\\right) {\\rm qi}\\left(2 \\, x + 1\\right)} + n\\left(2 \\, x + 1, 2 \\, x + 1, 2 \\, x\\right)</script></html>"
      ],
      "text/plain": [
       "n(2*x - 1, 2*x - 1, 2*x)*qi(3*x + 1)^2*qi(x)^2/(qi(2*x)^2*qi(2*x + 1)^2) - n(2*x - 1, 2*x + 1, 2*x)*qi(x)^2/(qi(2*x)*qi(2*x + 1)) - n(2*x + 1, 2*x - 1, 2*x)*qi(x)/(qi(2*x)*qi(2*x + 1)) + n(2*x + 1, 2*x + 1, 2*x)"
      ]
     },
     "execution_count": 178,
     "metadata": {},
     "output_type": "execute_result"
    }
   ],
   "source": [
    "f(2*x,2*x,2*x)"
   ]
  },
  {
   "cell_type": "code",
   "execution_count": 189,
   "metadata": {
    "collapsed": false
   },
   "outputs": [
    {
     "data": {
      "text/html": [
       "<html><script type=\"math/tex; mode=display\">\\newcommand{\\Bold}[1]{\\mathbf{#1}}\\frac{{\\rm qi}\\left(2 \\, u x + u + v\\right) {\\rm qi}\\left(3 \\, x + 2\\right) {\\rm qi}\\left(x + 1\\right)}{{\\rm qi}\\left(2 \\, u x + v\\right) {\\rm qi}\\left(2 \\, x + 2\\right)^{2}}</script></html>"
      ],
      "text/plain": [
       "qi(2*u*x + u + v)*qi(3*x + 2)*qi(x + 1)/(qi(2*u*x + v)*qi(2*x + 2)^2)"
      ]
     },
     "execution_count": 189,
     "metadata": {},
     "output_type": "execute_result"
    }
   ],
   "source": [
    "Out[182].coefficient(n(2*x+1,2*x+1,2*x))"
   ]
  },
  {
   "cell_type": "code",
   "execution_count": 190,
   "metadata": {
    "collapsed": false
   },
   "outputs": [
    {
     "data": {
      "text/html": [
       "<html><script type=\"math/tex; mode=display\">\\newcommand{\\Bold}[1]{\\mathbf{#1}}\\frac{{\\rm qi}\\left(2 \\, u x + u + v\\right) {\\rm qi}\\left(2 \\, w x + l + w\\right) {\\rm qi}\\left(3 \\, x + 2\\right) {\\rm qi}\\left(x + 1\\right)}{{\\rm qi}\\left(2 \\, u x + v\\right) {\\rm qi}\\left(2 \\, w x + l\\right) {\\rm qi}\\left(2 \\, x + 2\\right)^{2}}</script></html>"
      ],
      "text/plain": [
       "qi(2*u*x + u + v)*qi(2*w*x + l + w)*qi(3*x + 2)*qi(x + 1)/(qi(2*u*x + v)*qi(2*w*x + l)*qi(2*x + 2)^2)"
      ]
     },
     "execution_count": 190,
     "metadata": {},
     "output_type": "execute_result"
    }
   ],
   "source": [
    "Out[188].coefficient(n(2*x+1,2*x+1,2*x))"
   ]
  },
  {
   "cell_type": "code",
   "execution_count": null,
   "metadata": {
    "collapsed": true
   },
   "outputs": [],
   "source": [
    "solve([2*u == 2, u + v == 2, 2*w == 2, l + 2 == 2,2])"
   ]
  },
  {
   "cell_type": "code",
   "execution_count": 192,
   "metadata": {
    "collapsed": false
   },
   "outputs": [
    {
     "data": {
      "text/html": [
       "<html><script type=\"math/tex; mode=display\">\\newcommand{\\Bold}[1]{\\mathbf{#1}}\\frac{{\\rm qi}\\left(2 \\, u x + u + v\\right) {\\rm qi}\\left(2 \\, w x + l\\right) {\\rm qi}\\left(3 \\, x + 2\\right) {\\rm qi}\\left(x + 1\\right)}{{\\rm qi}\\left(2 \\, u x + v\\right) {\\rm qi}\\left(2 \\, w x + l + w\\right) {\\rm qi}\\left(2 \\, x + 2\\right)^{2}}</script></html>"
      ],
      "text/plain": [
       "qi(2*u*x + u + v)*qi(2*w*x + l)*qi(3*x + 2)*qi(x + 1)/(qi(2*u*x + v)*qi(2*w*x + l + w)*qi(2*x + 2)^2)"
      ]
     },
     "execution_count": 192,
     "metadata": {},
     "output_type": "execute_result"
    }
   ],
   "source": [
    "Out[191].coefficient(n(2*x+1,2*x+1,2*x))"
   ]
  },
  {
   "cell_type": "code",
   "execution_count": null,
   "metadata": {
    "collapsed": true
   },
   "outputs": [],
   "source": [
    "solve([2*u == 2, u + v == 2, 2*w == 2, l == 2, 2*u == ])"
   ]
  },
  {
   "cell_type": "code",
   "execution_count": 200,
   "metadata": {
    "collapsed": false
   },
   "outputs": [
    {
     "data": {
      "text/html": [
       "<html><script type=\"math/tex; mode=display\">\\newcommand{\\Bold}[1]{\\mathbf{#1}}\\frac{{\\rm qi}\\left(2 \\, m x + m + q\\right) {\\rm qi}\\left(2 \\, o x + p\\right) {\\rm qi}\\left(2 \\, u x + u + v\\right) {\\rm qi}\\left(2 \\, w x + l\\right) {\\rm qi}\\left(3 \\, x + 2\\right) {\\rm qi}\\left(x + 1\\right)}{{\\rm qi}\\left(2 \\, m x + q\\right) {\\rm qi}\\left(2 \\, o x + o + p\\right) {\\rm qi}\\left(2 \\, u x + v\\right) {\\rm qi}\\left(2 \\, w x + l + w\\right) {\\rm qi}\\left(2 \\, x + 2\\right)^{2}}</script></html>"
      ],
      "text/plain": [
       "qi(2*m*x + m + q)*qi(2*o*x + p)*qi(2*u*x + u + v)*qi(2*w*x + l)*qi(3*x + 2)*qi(x + 1)/(qi(2*m*x + q)*qi(2*o*x + o + p)*qi(2*u*x + v)*qi(2*w*x + l + w)*qi(2*x + 2)^2)"
      ]
     },
     "execution_count": 200,
     "metadata": {},
     "output_type": "execute_result"
    }
   ],
   "source": [
    "Out[199].coefficient(n(2*x+1,2*x+1,2*x))"
   ]
  },
  {
   "cell_type": "code",
   "execution_count": 206,
   "metadata": {
    "collapsed": false
   },
   "outputs": [
    {
     "data": {
      "text/html": [
       "<html><script type=\"math/tex; mode=display\">\\newcommand{\\Bold}[1]{\\mathbf{#1}}\\left[\\left[m = 1, o = 1, u = \\left(\\frac{3}{2}\\right), w = \\left(\\frac{1}{2}\\right), q = 1, p = 2, l = \\left(\\frac{1}{2}\\right), v = 2\\right]\\right]</script></html>"
      ],
      "text/plain": [
       "[[m == 1, o == 1, u == (3/2), w == (1/2), q == 1, p == 2, l == (1/2), v == 2]]"
      ]
     },
     "execution_count": 206,
     "metadata": {},
     "output_type": "execute_result"
    }
   ],
   "source": [
    "solve([2*m == 2, 2*o == 2, 2*u == 3, 2*w == 1, m + q == 2, p == 2, v==2,\n",
    "       l+w == 1],\n",
    "      [m,o,u,w,q,p,l,v])"
   ]
  },
  {
   "cell_type": "code",
   "execution_count": null,
   "metadata": {
    "collapsed": true
   },
   "outputs": [],
   "source": []
  }
 ],
 "metadata": {
  "kernelspec": {
   "display_name": "SageMath 8.1",
   "language": "",
   "name": "sagemath"
  },
  "language_info": {
   "codemirror_mode": {
    "name": "ipython",
    "version": 2
   },
   "file_extension": ".py",
   "mimetype": "text/x-python",
   "name": "python",
   "nbconvert_exporter": "python",
   "pygments_lexer": "ipython2",
   "version": "2.7.14"
  }
 },
 "nbformat": 4,
 "nbformat_minor": 2
}
