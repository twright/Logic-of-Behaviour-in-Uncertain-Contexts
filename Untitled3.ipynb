{
 "cells": [
  {
   "cell_type": "code",
   "execution_count": 1,
   "metadata": {},
   "outputs": [],
   "source": [
    "import sys\n",
    "sys.path.append(\"/Users/twright/Real-Algebra-Playground/highschool_qe\") "
   ]
  },
  {
   "cell_type": "code",
   "execution_count": 2,
   "metadata": {},
   "outputs": [],
   "source": [
    "from sympywrapper import *"
   ]
  },
  {
   "cell_type": "code",
   "execution_count": 3,
   "metadata": {},
   "outputs": [
    {
     "data": {
      "text/plain": [
       "['',\n",
       " '/Library/Frameworks/Python.framework/Versions/3.6/lib/python36.zip',\n",
       " '/Library/Frameworks/Python.framework/Versions/3.6/lib/python3.6',\n",
       " '/Library/Frameworks/Python.framework/Versions/3.6/lib/python3.6/lib-dynload',\n",
       " '/Users/twright/env/lib/python3.6/site-packages',\n",
       " '/Users/twright/env/lib/python3.6/site-packages/IPython/extensions',\n",
       " '/Users/twright/.ipython',\n",
       " '/Users/twright/Real-Algebra-Playground/highschool_qe']"
      ]
     },
     "execution_count": 3,
     "metadata": {},
     "output_type": "execute_result"
    }
   ],
   "source": [
    "sys.path"
   ]
  },
  {
   "cell_type": "code",
   "execution_count": 4,
   "metadata": {},
   "outputs": [],
   "source": [
    "x,y = sympy.var('x'), sympy.var('y')"
   ]
  },
  {
   "cell_type": "code",
   "execution_count": 5,
   "metadata": {},
   "outputs": [
    {
     "data": {
      "text/plain": [
       "x"
      ]
     },
     "execution_count": 5,
     "metadata": {},
     "output_type": "execute_result"
    }
   ],
   "source": [
    "x"
   ]
  },
  {
   "cell_type": "code",
   "execution_count": 6,
   "metadata": {},
   "outputs": [],
   "source": [
    "algebra = SympyWrapper(x)"
   ]
  },
  {
   "cell_type": "code",
   "execution_count": 7,
   "metadata": {},
   "outputs": [],
   "source": [
    "from muchnik import Muchniker"
   ]
  },
  {
   "cell_type": "code",
   "execution_count": 8,
   "metadata": {},
   "outputs": [],
   "source": [
    "muchniker = Muchniker(algebra)"
   ]
  },
  {
   "cell_type": "code",
   "execution_count": 9,
   "metadata": {},
   "outputs": [
    {
     "name": "stdout",
     "output_type": "stream",
     "text": [
      "(polies done, polies to inspect): (8, 0)\n",
      "1\n",
      "3\n",
      "9\n",
      "------ 100.000000\n",
      "    -1    -1 -1 -1 -1 -1 -1 -1 \n",
      "    -y    -1 -1 -1 -1 -1 -1 -1 \n",
      "-y + 1    -1 -1 -1 -1 -1 -1 -1 \n",
      "     0     0  0  0  0  0  0  0 \n",
      "     1     1  1  1  1  1  1  1 \n",
      " y - 1     1  1  1  1  1  1  1 \n",
      " x - y    -1 -1 -1 -1  0  1  1 \n",
      " x - 1    -1 -1  0  1  1  1  1 \n",
      "\n",
      "    -1    -1 -1 -1 -1 -1 -1 -1 \n",
      "    -y    -1 -1 -1 -1 -1 -1 -1 \n",
      "-y + 1     0  0  0  0  0  0  0 \n",
      "     0     0  0  0  0  0  0  0 \n",
      "     1     1  1  1  1  1  1  1 \n",
      " y - 1     1  1  1  1  1  1  1 \n",
      " x - y    -1 -1 -1 -1  0  1  1 \n",
      " x - 1    -1 -1  0  1  1  1  1 \n",
      "\n",
      "    -1    -1 -1 -1 -1 -1 -1 -1 \n",
      "    -y    -1 -1 -1 -1 -1 -1 -1 \n",
      "-y + 1     1  1  1  1  1  1  1 \n",
      "     0     0  0  0  0  0  0  0 \n",
      "     1     1  1  1  1  1  1  1 \n",
      " y - 1     1  1  1  1  1  1  1 \n",
      " x - y    -1 -1 -1 -1  0  1  1 \n",
      " x - 1    -1 -1  0  1  1  1  1 \n",
      "\n",
      "    -1    -1 -1 -1 -1 -1 -1 -1 \n",
      "    -y     0  0  0  0  0  0  0 \n",
      "-y + 1    -1 -1 -1 -1 -1 -1 -1 \n",
      "     0     0  0  0  0  0  0  0 \n",
      "     1     1  1  1  1  1  1  1 \n",
      " y - 1     1  1  1  1  1  1  1 \n",
      " x - y    -1 -1 -1 -1  0  1  1 \n",
      " x - 1    -1 -1  0  1  1  1  1 \n",
      "\n",
      "    -1    -1 -1 -1 -1 -1 -1 -1 \n",
      "    -y     0  0  0  0  0  0  0 \n",
      "-y + 1     0  0  0  0  0  0  0 \n",
      "     0     0  0  0  0  0  0  0 \n",
      "     1     1  1  1  1  1  1  1 \n",
      " y - 1     1  1  1  1  1  1  1 \n",
      " x - y    -1 -1 -1 -1  0  1  1 \n",
      " x - 1    -1 -1  0  1  1  1  1 \n",
      "\n",
      "    -1    -1 -1 -1 -1 -1 -1 -1 \n",
      "    -y     0  0  0  0  0  0  0 \n",
      "-y + 1     1  1  1  1  1  1  1 \n",
      "     0     0  0  0  0  0  0  0 \n",
      "     1     1  1  1  1  1  1  1 \n",
      " y - 1     1  1  1  1  1  1  1 \n",
      " x - y    -1 -1 -1 -1  0  1  1 \n",
      " x - 1    -1 -1  0  1  1  1  1 \n",
      "\n",
      "    -1    -1 -1 -1 -1 -1 -1 -1 \n",
      "    -y     1  1  1  1  1  1  1 \n",
      "-y + 1    -1 -1 -1 -1 -1 -1 -1 \n",
      "     0     0  0  0  0  0  0  0 \n",
      "     1     1  1  1  1  1  1  1 \n",
      " y - 1     1  1  1  1  1  1  1 \n",
      " x - y    -1 -1 -1 -1  0  1  1 \n",
      " x - 1    -1 -1  0  1  1  1  1 \n",
      "\n",
      "    -1    -1 -1 -1 -1 -1 -1 -1 \n",
      "    -y     1  1  1  1  1  1  1 \n",
      "-y + 1     0  0  0  0  0  0  0 \n",
      "     0     0  0  0  0  0  0  0 \n",
      "     1     1  1  1  1  1  1  1 \n",
      " y - 1     1  1  1  1  1  1  1 \n",
      " x - y    -1 -1 -1 -1  0  1  1 \n",
      " x - 1    -1 -1  0  1  1  1  1 \n",
      "\n",
      "    -1    -1 -1 -1 -1 -1 -1 -1 \n",
      "    -y     1  1  1  1  1  1  1 \n",
      "-y + 1     1  1  1  1  1  1  1 \n",
      "     0     0  0  0  0  0  0  0 \n",
      "     1     1  1  1  1  1  1  1 \n",
      " y - 1     1  1  1  1  1  1  1 \n",
      " x - y    -1 -1 -1 -1  0  1  1 \n",
      " x - 1    -1 -1  0  1  1  1  1 \n",
      "\n",
      "ans:\n",
      "(\n",
      "  -y < 0 & \n",
      "  -y + 1 < 0 & \n",
      "  y - 1 > 0\n",
      ") | \n",
      "(\n",
      "  -y < 0 & \n",
      "  -y + 1 == 0 & \n",
      "  y - 1 > 0\n",
      ") | \n",
      "(\n",
      "  -y < 0 & \n",
      "  -y + 1 > 0 & \n",
      "  y - 1 > 0\n",
      ") | \n",
      "(\n",
      "  -y + 1 < 0 & \n",
      "  -y == 0 & \n",
      "  y - 1 > 0\n",
      ") | \n",
      "(\n",
      "  -y == 0 & \n",
      "  -y + 1 == 0 & \n",
      "  y - 1 > 0\n",
      ") | \n",
      "(\n",
      "  -y == 0 & \n",
      "  -y + 1 > 0 & \n",
      "  y - 1 > 0\n",
      ") | \n",
      "(\n",
      "  -y + 1 < 0 & \n",
      "  -y > 0 & \n",
      "  y - 1 > 0\n",
      ") | \n",
      "(\n",
      "  -y + 1 == 0 & \n",
      "  -y > 0 & \n",
      "  y - 1 > 0\n",
      ") | \n",
      "(\n",
      "  -y > 0 & \n",
      "  -y + 1 > 0 & \n",
      "  y - 1 > 0\n",
      ")\n",
      "extended diagrams: 27\n",
      "good diagrams: 9\n",
      "Satisfiable\n"
     ]
    },
    {
     "data": {
      "text/plain": [
       "[([-y, -y + 1], [], [y - 1]),\n",
       " ([-y], [-y + 1], [y - 1]),\n",
       " ([-y], [], [-y + 1, y - 1]),\n",
       " ([-y + 1], [-y], [y - 1]),\n",
       " ([], [-y, -y + 1], [y - 1]),\n",
       " ([], [-y], [-y + 1, y - 1]),\n",
       " ([-y + 1], [], [-y, y - 1]),\n",
       " ([], [-y + 1], [-y, y - 1]),\n",
       " ([], [], [-y, -y + 1, y - 1])]"
      ]
     },
     "execution_count": 9,
     "metadata": {},
     "output_type": "execute_result"
    }
   ],
   "source": [
    "muchniker.real_full([x-y],[x-1],[])"
   ]
  },
  {
   "cell_type": "code",
   "execution_count": 10,
   "metadata": {},
   "outputs": [],
   "source": [
    "from random import *"
   ]
  },
  {
   "cell_type": "code",
   "execution_count": null,
   "metadata": {},
   "outputs": [],
   "source": [
    "x-y < 0 \\/ x-1 == 0"
   ]
  },
  {
   "cell_type": "code",
   "execution_count": 20,
   "metadata": {},
   "outputs": [
    {
     "data": {
      "text/plain": [
       "[4, 1, 3]"
      ]
     },
     "execution_count": 20,
     "metadata": {},
     "output_type": "execute_result"
    }
   ],
   "source": [
    "[randint(1,10) for _ in range(3)]"
   ]
  },
  {
   "cell_type": "code",
   "execution_count": 21,
   "metadata": {},
   "outputs": [
    {
     "ename": "NameError",
     "evalue": "name 'randshuffle' is not defined",
     "output_type": "error",
     "traceback": [
      "\u001b[0;31m---------------------------------------------------------------------------\u001b[0m",
      "\u001b[0;31mNameError\u001b[0m                                 Traceback (most recent call last)",
      "\u001b[0;32m<ipython-input-21-06a627f7dd23>\u001b[0m in \u001b[0;36m<module>\u001b[0;34m()\u001b[0m\n\u001b[0;32m----> 1\u001b[0;31m \u001b[0mrandshuffle\u001b[0m\u001b[0;34m(\u001b[0m\u001b[0;34m\"abc\"\u001b[0m\u001b[0;34m)\u001b[0m\u001b[0;34m\u001b[0m\u001b[0m\n\u001b[0m",
      "\u001b[0;31mNameError\u001b[0m: name 'randshuffle' is not defined"
     ]
    }
   ],
   "source": [
    "randshuffle(\"abc\")"
   ]
  },
  {
   "cell_type": "raw",
   "metadata": {},
   "source": []
  }
 ],
 "metadata": {
  "kernelspec": {
   "display_name": "Python 3",
   "language": "python",
   "name": "python3"
  },
  "language_info": {
   "codemirror_mode": {
    "name": "ipython",
    "version": 3
   },
   "file_extension": ".py",
   "mimetype": "text/x-python",
   "name": "python",
   "nbconvert_exporter": "python",
   "pygments_lexer": "ipython3",
   "version": "3.6.3"
  }
 },
 "nbformat": 4,
 "nbformat_minor": 2
}
