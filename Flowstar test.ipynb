{
 "cells": [
  {
   "cell_type": "code",
   "execution_count": 1,
   "metadata": {},
   "outputs": [],
   "source": [
    "from flowstar.reachability import *"
   ]
  },
  {
   "cell_type": "code",
   "execution_count": 2,
   "metadata": {},
   "outputs": [],
   "source": [
    "# from wand.image import Image"
   ]
  },
  {
   "cell_type": "markdown",
   "metadata": {},
   "source": [
    "## Example 1"
   ]
  },
  {
   "cell_type": "code",
   "execution_count": 3,
   "metadata": {},
   "outputs": [
    {
     "name": "stdout",
     "output_type": "stream",
     "text": [
      "t' = (([1.0000000000e+00 , 1.0000000000e+00]))\n",
      "x' = (([-1.0000000000e+00 , -1.0000000000e+00] * x))\n"
     ]
    }
   ],
   "source": [
    "vars = {b't': 0, b'x': 1}\n",
    "pt = Poly(1, 't', 0, vars)\n",
    "px = Poly(-1, 'x', 1, vars)\n",
    "print \"t' = {}\\nx' = {}\".format(pt, px)"
   ]
  },
  {
   "cell_type": "code",
   "execution_count": 4,
   "metadata": {},
   "outputs": [
    {
     "name": "stdout",
     "output_type": "stream",
     "text": [
      "s = [0.0000000000e+00 , 0.0000000000e+00]\n",
      "s = [5.0000000000e+00 , 5.0000000000e+00]\n",
      "created continuous system\n"
     ]
    }
   ],
   "source": [
    "C = Reach(\n",
    "    [b\"t\", b\"x\"],\n",
    "    [pt, px],\n",
    "    [(0,0), (5,5)],\n",
    "    5,\n",
    "    0.5,\n",
    "    orders=[1, 2],\n",
    ")"
   ]
  },
  {
   "cell_type": "code",
   "execution_count": 5,
   "metadata": {},
   "outputs": [
    {
     "data": {
      "text/plain": [
       "2"
      ]
     },
     "execution_count": 5,
     "metadata": {},
     "output_type": "execute_result"
    }
   ],
   "source": [
    "C.run()"
   ]
  },
  {
   "cell_type": "code",
   "execution_count": 6,
   "metadata": {},
   "outputs": [
    {
     "data": {
      "text/plain": [
       "10"
      ]
     },
     "execution_count": 6,
     "metadata": {},
     "output_type": "execute_result"
    }
   ],
   "source": [
    "C.num_flowpipes"
   ]
  },
  {
   "cell_type": "code",
   "execution_count": 7,
   "metadata": {},
   "outputs": [],
   "source": [
    "C.wplot(dict, 't', 'x', 'resc')"
   ]
  },
  {
   "cell_type": "markdown",
   "metadata": {},
   "source": [
    "## Example 2"
   ]
  },
  {
   "cell_type": "code",
   "execution_count": 8,
   "metadata": {},
   "outputs": [
    {
     "name": "stdout",
     "output_type": "stream",
     "text": [
      "t' = (([1.0000000000e+00 , 1.0000000000e+00]))\n",
      "x' = (([-1.0000000000e+00 , -1.0000000000e+00] * y))\n",
      "y' = (([1.0000000000e+00 , 1.0000000000e+00] * x))\n"
     ]
    }
   ],
   "source": [
    "varsd = {b't': 0, b'x': 1, b'y': 2}\n",
    "qt = Poly(1, 't', 0, varsd)\n",
    "qx = Poly(-1, 'y', 1, varsd)\n",
    "qy = Poly(1, 'x', 1, varsd)\n",
    "print \"t' = {}\\nx' = {}\\ny' = {}\".format(qt, qx, qy)"
   ]
  },
  {
   "cell_type": "code",
   "execution_count": 9,
   "metadata": {},
   "outputs": [
    {
     "name": "stdout",
     "output_type": "stream",
     "text": [
      "s = [0.0000000000e+00 , 0.0000000000e+00]\n",
      "s = [4.0000000000e+00 , 5.0000000000e+00]\n",
      "s = [1.0000000000e+00 , 2.0000000000e+00]\n",
      "created continuous system\n"
     ]
    }
   ],
   "source": [
    "D = Reach(\n",
    "    [b't', b'x', b'y'],\n",
    "    [qt, qx, qy],\n",
    "    [(0,0), (4,5), (1,2)],\n",
    "    5,\n",
    "    0.1,\n",
    "    orders=[2, 7, 7],\n",
    ")"
   ]
  },
  {
   "cell_type": "code",
   "execution_count": 11,
   "metadata": {},
   "outputs": [
    {
     "data": {
      "text/plain": [
       "4"
      ]
     },
     "execution_count": 11,
     "metadata": {},
     "output_type": "execute_result"
    }
   ],
   "source": [
    "D.run()"
   ]
  },
  {
   "cell_type": "code",
   "execution_count": 12,
   "metadata": {},
   "outputs": [
    {
     "data": {
      "text/plain": [
       "0"
      ]
     },
     "execution_count": 12,
     "metadata": {},
     "output_type": "execute_result"
    }
   ],
   "source": [
    "D.num_flowpipes"
   ]
  },
  {
   "cell_type": "code",
   "execution_count": 13,
   "metadata": {},
   "outputs": [
    {
     "ename": "Exception",
     "evalue": "Not ran!",
     "output_type": "error",
     "traceback": [
      "\u001b[0;31m---------------------------------------------------------------------------\u001b[0m",
      "\u001b[0;31mException\u001b[0m                                 Traceback (most recent call last)",
      "\u001b[0;32m<ipython-input-13-2f8a28b2f44a>\u001b[0m in \u001b[0;36m<module>\u001b[0;34m()\u001b[0m\n\u001b[0;32m----> 1\u001b[0;31m \u001b[0mD\u001b[0m\u001b[0;34m.\u001b[0m\u001b[0mwplot\u001b[0m\u001b[0;34m(\u001b[0m\u001b[0mdict\u001b[0m\u001b[0;34m,\u001b[0m \u001b[0;34mb'x'\u001b[0m\u001b[0;34m,\u001b[0m \u001b[0;34mb'y'\u001b[0m\u001b[0;34m,\u001b[0m \u001b[0;34mb'resd'\u001b[0m\u001b[0;34m)\u001b[0m\u001b[0;34m\u001b[0m\u001b[0m\n\u001b[0m",
      "\u001b[0;32m/home/twright/Documents/PhD/Notebooks/reachability.pyx\u001b[0m in \u001b[0;36mreachability.Reach.wplot\u001b[0;34m()\u001b[0m\n",
      "\u001b[0;32m/home/twright/Documents/PhD/Notebooks/reachability.pyx\u001b[0m in \u001b[0;36mreachability.Reach.plot\u001b[0;34m()\u001b[0m\n",
      "\u001b[0;31mException\u001b[0m: Not ran!"
     ]
    }
   ],
   "source": [
    "D.wplot(dict, b'x', b'y', b'resd')"
   ]
  },
  {
   "cell_type": "code",
   "execution_count": null,
   "metadata": {},
   "outputs": [],
   "source": []
  },
  {
   "cell_type": "code",
   "execution_count": null,
   "metadata": {},
   "outputs": [],
   "source": []
  }
 ],
 "metadata": {
  "kernelspec": {
   "display_name": "Python 2",
   "language": "python",
   "name": "python2"
  },
  "language_info": {
   "codemirror_mode": {
    "name": "ipython",
    "version": 2
   },
   "file_extension": ".py",
   "mimetype": "text/x-python",
   "name": "python",
   "nbconvert_exporter": "python",
   "pygments_lexer": "ipython2",
   "version": "2.7.15"
  }
 },
 "nbformat": 4,
 "nbformat_minor": 2
}
