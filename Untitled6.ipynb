{
 "cells": [
  {
   "cell_type": "code",
   "execution_count": 1,
   "metadata": {},
   "outputs": [
    {
     "name": "stdout",
     "output_type": "stream",
     "text": [
      "precision = 53\n",
      "precision = 53\n"
     ]
    }
   ],
   "source": [
    "# coding: utf-8\n",
    "\n",
    "# In[1]:\n",
    "\n",
    "\n",
    "from flowstar.reachability import Reach, Poly, get_power_4, get_factorial_rec, get_double_factorial, get_precision, set_precision\n",
    "\n",
    "run_C = True\n",
    "run_D = True\n",
    "\n",
    "print \"precision =\", get_precision()\n",
    "# set_precision(80)\n",
    "print \"precision =\", get_precision()"
   ]
  },
  {
   "cell_type": "code",
   "execution_count": 2,
   "metadata": {},
   "outputs": [
    {
     "name": "stdout",
     "output_type": "stream",
     "text": [
      "t' = (([1.0000000000e+00 , 1.0000000000e+00]))\n",
      "x' = (([-1.0000000000e+00 , -1.0000000000e+00] * x))\n"
     ]
    }
   ],
   "source": []
  },
  {
   "cell_type": "code",
   "execution_count": 4,
   "metadata": {},
   "outputs": [
    {
     "name": "stdout",
     "output_type": "stream",
     "text": [
      "t' = (([1.0000000000e+00 , 1.0000000000e+00]))\n",
      "x' = (([-1.0000000000e+00 , -1.0000000000e+00] * x))\n",
      "constructing Reach\n",
      "tm polys\n",
      "initials\n",
      "system\n",
      "assigning system\n",
      "created continuous system\n",
      "orders\n"
     ]
    }
   ],
   "source": [
    "from flowstar.reachability import Reach, Poly, get_power_4, get_factorial_rec, get_double_factorial, get_precision, set_precision\n",
    "varsc = [b'local_t', b't', b'x']\n",
    "pt = Poly(1, 't', 0, varsc)\n",
    "px = Poly(-1, 'x', 1, varsc)\n",
    "print \"t' = {}\\nx' = {}\".format(pt, px)\n",
    "C = Reach(\n",
    "    [b'local_t', b\"t\", b\"x\"],\n",
    "    [Poly(varsc), pt, px],\n",
    "    [(0,0), (5,5)],\n",
    "    5,\n",
    "    0.1,\n",
    "    order=3,\n",
    ")"
   ]
  },
  {
   "cell_type": "code",
   "execution_count": 5,
   "metadata": {},
   "outputs": [
    {
     "data": {
      "text/plain": [
       "2"
      ]
     },
     "execution_count": 5,
     "metadata": {},
     "output_type": "execute_result"
    }
   ],
   "source": [
    "C.res"
   ]
  },
  {
   "cell_type": "code",
   "execution_count": 3,
   "metadata": {},
   "outputs": [
    {
     "data": {
      "text/plain": [
       "0"
      ]
     },
     "execution_count": 3,
     "metadata": {},
     "output_type": "execute_result"
    }
   ],
   "source": [
    "C.num_flowpipes"
   ]
  },
  {
   "cell_type": "code",
   "execution_count": null,
   "metadata": {},
   "outputs": [],
   "source": [
    "# In[2]:\n",
    "\n",
    "if run_C:\n",
    "\n",
    "    varsc = [b'local_t', b't', b'x']\n",
    "    pt = Poly(1, 't', 0, varsc)\n",
    "    px = Poly(-1, 'x', 1, varsc)\n",
    "    print \"t' = {}\\nx' = {}\".format(pt, px)\n",
    "\n",
    "\n",
    "    # In[3]:\n",
    "\n",
    "    C = Reach(\n",
    "        [b'local_t', b\"t\", b\"x\"],\n",
    "        [Poly(varsc), pt, px],\n",
    "        [(0,0), (5,5)],\n",
    "        5,\n",
    "        0.5,\n",
    "        order=2,\n",
    "    )\n",
    "\n",
    "\n",
    "    # In[4]:\n",
    "\n",
    "\n",
    "    print \"res =\", C.res\n",
    "\n",
    "\n",
    "    # In[5]:\n",
    "\n",
    "\n",
    "    print \"num flowpipes =\", C.num_flowpipes\n",
    "\n",
    "\n",
    "    # In[6]:\n",
    "\n",
    "\n",
    "    # C.wplot('t', 'x', b'res1')\n",
    "    # C.plot('t', 'x', b'res1')\n",
    "\n",
    "\n",
    "    # In[7]:\n",
    "\n",
    "\n",
    "    del C\n",
    "\n",
    "# from time import sleep\n",
    "# sleep(2)\n",
    "\n",
    "print(get_factorial_rec())\n",
    "\n",
    "# In[8]:\n",
    "if run_D:\n",
    "\n",
    "    varsd = [b'local_t', b't', b'x', b'y']\n",
    "    qt = Poly(1, 't', 0, varsd)\n",
    "    qx = Poly(-1, 'y', 1, varsd)\n",
    "    qy = Poly(1, 'x', 1, varsd)\n",
    "    # print \"t' = {}\\nx' = {}\\ny' = {}\".format(qt, qx, qy)\n",
    "\n",
    "\n",
    "    # In[9]:\n",
    "\n",
    "\n",
    "    print \"t' = {}\\nx' = {}\\ny' = {}\".format(qt, qx, qy)\n",
    "\n",
    "\n",
    "    # In[ ]:\n",
    "\n",
    "\n",
    "    D = Reach(\n",
    "        varsd,\n",
    "        [Poly(varsd), qt, qx, qy],\n",
    "        [(0,0), (4,5), (1,2)],\n",
    "        5,\n",
    "        0.1,\n",
    "        order=3,\n",
    "    )\n",
    "\n",
    "    print(get_factorial_rec())\n",
    "\n",
    "    # In[21]:\n",
    "\n",
    "\n",
    "    print \"res =\", D.res\n",
    "    print \"num flowpipes =\", D.num_flowpipes\n",
    "\n",
    "\n",
    "    # In[18]:\n",
    "\n",
    "\n",
    "    # D.wplot(b'x', b'y', b'resd')\n",
    "    D.plot(b'x', b'y', b'resd')\n",
    "\n",
    "\n",
    "    # In[ ]:\n",
    "\n",
    "\n",
    "    # del D"
   ]
  },
  {
   "cell_type": "code",
   "execution_count": null,
   "metadata": {},
   "outputs": [],
   "source": []
  },
  {
   "cell_type": "code",
   "execution_count": null,
   "metadata": {},
   "outputs": [],
   "source": []
  }
 ],
 "metadata": {
  "kernelspec": {
   "display_name": "Python 2",
   "language": "python",
   "name": "python2"
  },
  "language_info": {
   "codemirror_mode": {
    "name": "ipython",
    "version": 2
   },
   "file_extension": ".py",
   "mimetype": "text/x-python",
   "name": "python",
   "nbconvert_exporter": "python",
   "pygments_lexer": "ipython2",
   "version": "2.7.15"
  }
 },
 "nbformat": 4,
 "nbformat_minor": 2
}
