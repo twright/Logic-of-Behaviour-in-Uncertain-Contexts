{
 "cells": [
  {
   "cell_type": "code",
   "execution_count": 209,
   "metadata": {},
   "outputs": [],
   "source": [
    "def compose(x,y): return x + y + x*y"
   ]
  },
  {
   "cell_type": "code",
   "execution_count": 229,
   "metadata": {},
   "outputs": [],
   "source": [
    "def expn(x):\n",
    "    n = 1\n",
    "    res = 0\n",
    "    cur = None\n",
    "    while cur != 0:\n",
    "        cur = QQ(1/factorial(n))*x**n\n",
    "        res += cur\n",
    "        n += 1\n",
    "    return res"
   ]
  },
  {
   "cell_type": "markdown",
   "metadata": {},
   "source": [
    "## Two way expansion"
   ]
  },
  {
   "cell_type": "code",
   "execution_count": 230,
   "metadata": {},
   "outputs": [],
   "source": [
    "S.<b,c> = QQ[]\n",
    "R.<b,c> = QuotientRing(S, S.ideal([b^2, c^2]))\n",
    "T.<alpha,beta> = S[]"
   ]
  },
  {
   "cell_type": "code",
   "execution_count": 231,
   "metadata": {},
   "outputs": [],
   "source": [
    "x = b + c"
   ]
  },
  {
   "cell_type": "code",
   "execution_count": 232,
   "metadata": {},
   "outputs": [
    {
     "data": {
      "text/plain": [
       "b*c*alpha^2 + (b + c)*alpha"
      ]
     },
     "execution_count": 232,
     "metadata": {},
     "output_type": "execute_result"
    }
   ],
   "source": [
    "alpha*x + (alpha**2/2)*x**2 + (alpha**3/6)*x**3"
   ]
  },
  {
   "cell_type": "code",
   "execution_count": 233,
   "metadata": {},
   "outputs": [
    {
     "data": {
      "text/plain": [
       "b*c*alpha^2 + (b + c)*alpha"
      ]
     },
     "execution_count": 233,
     "metadata": {},
     "output_type": "execute_result"
    }
   ],
   "source": [
    "expn(alpha*x)"
   ]
  },
  {
   "cell_type": "markdown",
   "metadata": {},
   "source": [
    "### Compositionality"
   ]
  },
  {
   "cell_type": "code",
   "execution_count": 242,
   "metadata": {},
   "outputs": [
    {
     "data": {
      "text/plain": [
       "b*c*alpha^2 + 2*b*c*alpha*beta + b*c*beta^2 + (b + c)*alpha + (b + c)*beta"
      ]
     },
     "execution_count": 242,
     "metadata": {},
     "output_type": "execute_result"
    }
   ],
   "source": [
    "compose(expn(alpha*x), expn(beta*x))"
   ]
  },
  {
   "cell_type": "code",
   "execution_count": 243,
   "metadata": {},
   "outputs": [
    {
     "data": {
      "text/plain": [
       "b*c*alpha^2 + 2*b*c*alpha*beta + b*c*beta^2 + (b + c)*alpha + (b + c)*beta"
      ]
     },
     "execution_count": 243,
     "metadata": {},
     "output_type": "execute_result"
    }
   ],
   "source": [
    "expn((alpha + beta)*x)"
   ]
  },
  {
   "cell_type": "markdown",
   "metadata": {},
   "source": [
    "## Three way expansion"
   ]
  },
  {
   "cell_type": "code",
   "execution_count": 250,
   "metadata": {},
   "outputs": [],
   "source": [
    "S.<b,c,d> = QQ[]\n",
    "R.<b,c,d> = QuotientRing(S, S.ideal([b^2, c^2, d^2]))\n",
    "T.<alpha,beta> = S[]"
   ]
  },
  {
   "cell_type": "code",
   "execution_count": 251,
   "metadata": {},
   "outputs": [],
   "source": [
    "x = b + c + d"
   ]
  },
  {
   "cell_type": "code",
   "execution_count": 252,
   "metadata": {},
   "outputs": [
    {
     "data": {
      "text/plain": [
       "b*c*d*alpha^3 + (b*c + b*d + c*d)*alpha^2 + (b + c + d)*alpha"
      ]
     },
     "execution_count": 252,
     "metadata": {},
     "output_type": "execute_result"
    }
   ],
   "source": [
    "expn(alpha*x)"
   ]
  },
  {
   "cell_type": "markdown",
   "metadata": {},
   "source": [
    "### Compositionality"
   ]
  },
  {
   "cell_type": "code",
   "execution_count": 253,
   "metadata": {},
   "outputs": [
    {
     "data": {
      "text/plain": [
       "b*c*d*alpha^3 + 3*b*c*d*alpha^2*beta + 3*b*c*d*alpha*beta^2 + b*c*d*beta^3 + (b*c + b*d + c*d)*alpha^2 + (2*b*c + 2*b*d + 2*c*d)*alpha*beta + (b*c + b*d + c*d)*beta^2 + (b + c + d)*alpha + (b + c + d)*beta"
      ]
     },
     "execution_count": 253,
     "metadata": {},
     "output_type": "execute_result"
    }
   ],
   "source": [
    "compose(expn(alpha*x), expn(beta*x))"
   ]
  },
  {
   "cell_type": "code",
   "execution_count": 254,
   "metadata": {},
   "outputs": [
    {
     "data": {
      "text/plain": [
       "b*c*d*alpha^3 + 3*b*c*d*alpha^2*beta + 3*b*c*d*alpha*beta^2 + b*c*d*beta^3 + (b*c + b*d + c*d)*alpha^2 + (2*b*c + 2*b*d + 2*c*d)*alpha*beta + (b*c + b*d + c*d)*beta^2 + (b + c + d)*alpha + (b + c + d)*beta"
      ]
     },
     "execution_count": 254,
     "metadata": {},
     "output_type": "execute_result"
    }
   ],
   "source": [
    "expn((alpha + beta)*x)"
   ]
  },
  {
   "cell_type": "code",
   "execution_count": 255,
   "metadata": {},
   "outputs": [
    {
     "data": {
      "text/plain": [
       "True"
      ]
     },
     "execution_count": 255,
     "metadata": {},
     "output_type": "execute_result"
    }
   ],
   "source": [
    "compose(expn(alpha*x), expn(beta*x)) == expn((alpha + beta)*x)"
   ]
  },
  {
   "cell_type": "markdown",
   "metadata": {},
   "source": [
    "## Four way expansion"
   ]
  },
  {
   "cell_type": "code",
   "execution_count": 277,
   "metadata": {},
   "outputs": [],
   "source": [
    "S.<b,c,d,e> = QQ[]\n",
    "R.<b,c,d,e> = QuotientRing(S, S.ideal([b^2, c^2, d^2, e^2]))\n",
    "T.<alpha,beta> = R[]"
   ]
  },
  {
   "cell_type": "code",
   "execution_count": 307,
   "metadata": {},
   "outputs": [],
   "source": [
    "cast = lambda x: QQ['alpha','beta']['b','c','d','e'](SR(S['alpha','beta'](x)))"
   ]
  },
  {
   "cell_type": "code",
   "execution_count": 278,
   "metadata": {},
   "outputs": [],
   "source": [
    "x = 2*b + c + d + 3*e"
   ]
  },
  {
   "cell_type": "code",
   "execution_count": 279,
   "metadata": {},
   "outputs": [
    {
     "data": {
      "text/plain": [
       "6*b*c*d*e + 2*b*c*d + 6*b*c*e + 6*b*d*e + 3*c*d*e + 2*b*c + 2*b*d + c*d + 6*b*e + 3*c*e + 3*d*e + 2*b + c + d + 3*e"
      ]
     },
     "execution_count": 279,
     "metadata": {},
     "output_type": "execute_result"
    }
   ],
   "source": [
    "expn(x)"
   ]
  },
  {
   "cell_type": "code",
   "execution_count": 280,
   "metadata": {},
   "outputs": [
    {
     "data": {
      "text/plain": [
       "True"
      ]
     },
     "execution_count": 280,
     "metadata": {},
     "output_type": "execute_result"
    }
   ],
   "source": [
    "compose(expn(alpha*x), expn(beta*x)) == expn((alpha + beta)*x)"
   ]
  },
  {
   "cell_type": "code",
   "execution_count": 281,
   "metadata": {},
   "outputs": [],
   "source": [
    "y = b + c + d + e"
   ]
  },
  {
   "cell_type": "code",
   "execution_count": 308,
   "metadata": {},
   "outputs": [
    {
     "data": {
      "text/plain": [
       "(alpha^4 + 4*alpha^3*beta + 6*alpha^2*beta^2 + 4*alpha*beta^3 + beta^4)*b*c*d*e + (alpha^3 + 3*alpha^2*beta + 3*alpha*beta^2 + beta^3)*b*c*d + (alpha^3 + 3*alpha^2*beta + 3*alpha*beta^2 + beta^3)*b*c*e + (alpha^3 + 3*alpha^2*beta + 3*alpha*beta^2 + beta^3)*b*d*e + (alpha^3 + 3*alpha^2*beta + 3*alpha*beta^2 + beta^3)*c*d*e + (alpha^2 + 2*alpha*beta + beta^2)*b*c + (alpha^2 + 2*alpha*beta + beta^2)*b*d + (alpha^2 + 2*alpha*beta + beta^2)*c*d + (alpha^2 + 2*alpha*beta + beta^2)*b*e + (alpha^2 + 2*alpha*beta + beta^2)*c*e + (alpha^2 + 2*alpha*beta + beta^2)*d*e + (alpha + beta)*b + (alpha + beta)*c + (alpha + beta)*d + (alpha + beta)*e"
      ]
     },
     "execution_count": 308,
     "metadata": {},
     "output_type": "execute_result"
    }
   ],
   "source": [
    "cast(compose(expn(alpha*y), expn(beta*y)))"
   ]
  },
  {
   "cell_type": "code",
   "execution_count": 309,
   "metadata": {},
   "outputs": [
    {
     "data": {
      "text/plain": [
       "(alpha^4 + 4*alpha^3*beta + 6*alpha^2*beta^2 + 4*alpha*beta^3 + beta^4)*b*c*d*e + (alpha^3 + 3*alpha^2*beta + 3*alpha*beta^2 + beta^3)*b*c*d + (alpha^3 + 3*alpha^2*beta + 3*alpha*beta^2 + beta^3)*b*c*e + (alpha^3 + 3*alpha^2*beta + 3*alpha*beta^2 + beta^3)*b*d*e + (alpha^3 + 3*alpha^2*beta + 3*alpha*beta^2 + beta^3)*c*d*e + (alpha^2 + 2*alpha*beta + beta^2)*b*c + (alpha^2 + 2*alpha*beta + beta^2)*b*d + (alpha^2 + 2*alpha*beta + beta^2)*c*d + (alpha^2 + 2*alpha*beta + beta^2)*b*e + (alpha^2 + 2*alpha*beta + beta^2)*c*e + (alpha^2 + 2*alpha*beta + beta^2)*d*e + (alpha + beta)*b + (alpha + beta)*c + (alpha + beta)*d + (alpha + beta)*e"
      ]
     },
     "execution_count": 309,
     "metadata": {},
     "output_type": "execute_result"
    }
   ],
   "source": [
    "cast(expn((alpha + beta)*y))"
   ]
  },
  {
   "cell_type": "code",
   "execution_count": 270,
   "metadata": {},
   "outputs": [
    {
     "data": {
      "text/plain": [
       "True"
      ]
     },
     "execution_count": 270,
     "metadata": {},
     "output_type": "execute_result"
    }
   ],
   "source": [
    "compose(expn(alpha*y), expn(beta*y)) == expn((alpha + beta)*y)"
   ]
  },
  {
   "cell_type": "code",
   "execution_count": 269,
   "metadata": {},
   "outputs": [
    {
     "data": {
      "text/plain": [
       "[1,\n",
       " b + c + d + e,\n",
       " 2*b*c + 2*b*d + 2*c*d + 2*b*e + 2*c*e + 2*d*e,\n",
       " 6*b*c*d + 6*b*c*e + 6*b*d*e + 6*c*d*e,\n",
       " 24*b*c*d*e,\n",
       " 0]"
      ]
     },
     "execution_count": 269,
     "metadata": {},
     "output_type": "execute_result"
    }
   ],
   "source": [
    "[y**n for n in range(6)]"
   ]
  },
  {
   "cell_type": "code",
   "execution_count": 310,
   "metadata": {},
   "outputs": [
    {
     "data": {
      "text/plain": [
       "(4*alpha^3*beta + 6*alpha^2*beta^2 + 4*alpha*beta^3)*b*c*d*e + (3*alpha^2*beta + 3*alpha*beta^2)*b*c*d + (3*alpha^2*beta + 3*alpha*beta^2)*b*c*e + (3*alpha^2*beta + 3*alpha*beta^2)*b*d*e + (3*alpha^2*beta + 3*alpha*beta^2)*c*d*e + 2*alpha*beta*b*c + 2*alpha*beta*b*d + 2*alpha*beta*c*d + 2*alpha*beta*b*e + 2*alpha*beta*c*e + 2*alpha*beta*d*e"
      ]
     },
     "execution_count": 310,
     "metadata": {},
     "output_type": "execute_result"
    }
   ],
   "source": [
    "cast(expn(alpha*y)*expn(beta*y))"
   ]
  },
  {
   "cell_type": "code",
   "execution_count": 312,
   "metadata": {},
   "outputs": [
    {
     "data": {
      "text/plain": [
       "alpha^4*b*c*d*e + alpha^3*b*c*d + alpha^3*b*c*e + alpha^3*b*d*e + alpha^3*c*d*e + alpha^2*b*c + alpha^2*b*d + alpha^2*c*d + alpha^2*b*e + alpha^2*c*e + alpha^2*d*e + alpha*b + alpha*c + alpha*d + alpha*e"
      ]
     },
     "execution_count": 312,
     "metadata": {},
     "output_type": "execute_result"
    }
   ],
   "source": [
    "cast(expn(alpha*y))"
   ]
  },
  {
   "cell_type": "markdown",
   "metadata": {},
   "source": [
    "## How things break when $x^2 \\neq 0$"
   ]
  },
  {
   "cell_type": "code",
   "execution_count": null,
   "metadata": {},
   "outputs": [],
   "source": []
  }
 ],
 "metadata": {
  "kernelspec": {
   "display_name": "SageMath 7.6",
   "language": "",
   "name": "sagemath"
  },
  "language_info": {
   "codemirror_mode": {
    "name": "ipython",
    "version": 2
   },
   "file_extension": ".py",
   "mimetype": "text/x-python",
   "name": "python",
   "nbconvert_exporter": "python",
   "pygments_lexer": "ipython2",
   "version": "2.7.14"
  }
 },
 "nbformat": 4,
 "nbformat_minor": 2
}
