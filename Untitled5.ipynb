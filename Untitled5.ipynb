{
 "cells": [
  {
   "cell_type": "code",
   "execution_count": 2,
   "metadata": {},
   "outputs": [],
   "source": [
    "from flowstar.reachability import Reach, Poly"
   ]
  },
  {
   "cell_type": "code",
   "execution_count": 10,
   "metadata": {},
   "outputs": [
    {
     "name": "stdout",
     "output_type": "stream",
     "text": [
      "t' = (([1.0000000000e+00 , 1.0000000000e+00]))\n",
      "x' = (([-1.0000000000e+00 , -1.0000000000e+00] * x))\n"
     ]
    }
   ],
   "source": [
    "varsc = [b'local_t', b't', b'x']\n",
    "pt = Poly(1, 't', 0, varsc)\n",
    "px = Poly(-1, 'x', 1, varsc)\n",
    "print \"t' = {}\\nx' = {}\".format(pt, px)"
   ]
  },
  {
   "cell_type": "code",
   "execution_count": 11,
   "metadata": {},
   "outputs": [
    {
     "name": "stdout",
     "output_type": "stream",
     "text": [
      "constructing Reach\n",
      "tm polys\n",
      "initials\n",
      "system\n",
      "assigning system\n",
      "created continuous system\n",
      "orders\n"
     ]
    }
   ],
   "source": [
    "C = Reach(\n",
    "    varsc,\n",
    "    [Poly(varsc), pt, px],\n",
    "    [(0,0), (5,5)],\n",
    "    5,\n",
    "    0.5,\n",
    "    order=2,\n",
    ")"
   ]
  },
  {
   "cell_type": "code",
   "execution_count": 12,
   "metadata": {},
   "outputs": [
    {
     "data": {
      "text/plain": [
       "4"
      ]
     },
     "execution_count": 12,
     "metadata": {},
     "output_type": "execute_result"
    }
   ],
   "source": [
    "C.res"
   ]
  },
  {
   "cell_type": "code",
   "execution_count": 6,
   "metadata": {},
   "outputs": [
    {
     "data": {
      "text/plain": [
       "0"
      ]
     },
     "execution_count": 6,
     "metadata": {},
     "output_type": "execute_result"
    }
   ],
   "source": [
    "C.num_flowpipes"
   ]
  },
  {
   "cell_type": "code",
   "execution_count": 7,
   "metadata": {
    "scrolled": false
   },
   "outputs": [
    {
     "ename": "Exception",
     "evalue": "Not ran!",
     "output_type": "error",
     "traceback": [
      "\u001b[0;31m---------------------------------------------------------------------------\u001b[0m",
      "\u001b[0;31mException\u001b[0m                                 Traceback (most recent call last)",
      "\u001b[0;32m<ipython-input-7-c11f84326c62>\u001b[0m in \u001b[0;36m<module>\u001b[0;34m()\u001b[0m\n\u001b[0;32m----> 1\u001b[0;31m \u001b[0mC\u001b[0m\u001b[0;34m.\u001b[0m\u001b[0mwplot\u001b[0m\u001b[0;34m(\u001b[0m\u001b[0;34m't'\u001b[0m\u001b[0;34m,\u001b[0m \u001b[0;34m'x'\u001b[0m\u001b[0;34m,\u001b[0m \u001b[0;34mb'res1'\u001b[0m\u001b[0;34m)\u001b[0m\u001b[0;34m\u001b[0m\u001b[0m\n\u001b[0m",
      "\u001b[0;32mreachability.pyx\u001b[0m in \u001b[0;36mreachability.Reach.wplot\u001b[0;34m()\u001b[0m\n",
      "\u001b[0;32mreachability.pyx\u001b[0m in \u001b[0;36mreachability.Reach.plot\u001b[0;34m()\u001b[0m\n",
      "\u001b[0;31mException\u001b[0m: Not ran!"
     ]
    }
   ],
   "source": [
    "C.wplot('t', 'x', b'res1')"
   ]
  },
  {
   "cell_type": "code",
   "execution_count": 7,
   "metadata": {},
   "outputs": [
    {
     "name": "stdout",
     "output_type": "stream",
     "text": [
      "t' = (([1.0000000000e+00 , 1.0000000000e+00]))\n",
      "x' = (([-1.0000000000e+00 , -1.0000000000e+00] * y))\n",
      "y' = (([1.0000000000e+00 , 1.0000000000e+00] * x))\n"
     ]
    }
   ],
   "source": [
    "varsd = [b't', b'x', b'y']\n",
    "qt = Poly(1, 't', 0, varsd)\n",
    "qx = Poly(-1, 'y', 1, varsd)\n",
    "qy = Poly(1, 'x', 1, varsd)\n",
    "print \"t' = {}\\nx' = {}\\ny' = {}\".format(qt, qx, qy)"
   ]
  },
  {
   "cell_type": "code",
   "execution_count": 8,
   "metadata": {},
   "outputs": [
    {
     "name": "stdout",
     "output_type": "stream",
     "text": [
      "t' = (([1.0000000000e+00 , 1.0000000000e+00]))\n",
      "x' = (([-1.0000000000e+00 , -1.0000000000e+00] * y))\n",
      "y' = (([1.0000000000e+00 , 1.0000000000e+00] * x))\n"
     ]
    }
   ],
   "source": [
    "print \"t' = {}\\nx' = {}\\ny' = {}\".format(qt, qx, qy)"
   ]
  },
  {
   "cell_type": "code",
   "execution_count": 9,
   "metadata": {},
   "outputs": [
    {
     "name": "stdout",
     "output_type": "stream",
     "text": [
      "tm polys\n",
      "initials\n",
      "system\n",
      "assigning system\n",
      "created continuous system\n",
      "orders\n"
     ]
    }
   ],
   "source": [
    "D = Reach(\n",
    "    [b't', b'x', b'y'],\n",
    "    [qt, qx, qy],\n",
    "    [(0,0), (4,5), (1,2)],\n",
    "    5,\n",
    "    0.1,\n",
    "    order=3,\n",
    "    estimation=1e-1,\n",
    ")"
   ]
  },
  {
   "cell_type": "code",
   "execution_count": 10,
   "metadata": {},
   "outputs": [
    {
     "data": {
      "text/plain": [
       "4"
      ]
     },
     "execution_count": 10,
     "metadata": {},
     "output_type": "execute_result"
    }
   ],
   "source": [
    "D.res"
   ]
  },
  {
   "cell_type": "code",
   "execution_count": 11,
   "metadata": {},
   "outputs": [
    {
     "ename": "Exception",
     "evalue": "Not ran!",
     "output_type": "error",
     "traceback": [
      "\u001b[0;31m---------------------------------------------------------------------------\u001b[0m",
      "\u001b[0;31mException\u001b[0m                                 Traceback (most recent call last)",
      "\u001b[0;32m<ipython-input-11-babcabe499a2>\u001b[0m in \u001b[0;36m<module>\u001b[0;34m()\u001b[0m\n\u001b[0;32m----> 1\u001b[0;31m \u001b[0mD\u001b[0m\u001b[0;34m.\u001b[0m\u001b[0mwplot\u001b[0m\u001b[0;34m(\u001b[0m\u001b[0;34mb'x'\u001b[0m\u001b[0;34m,\u001b[0m \u001b[0;34mb'y'\u001b[0m\u001b[0;34m,\u001b[0m \u001b[0;34mb'resd'\u001b[0m\u001b[0;34m)\u001b[0m\u001b[0;34m\u001b[0m\u001b[0m\n\u001b[0m",
      "\u001b[0;32m/home/twright/Documents/PhD/Notebooks/reachability.pyx\u001b[0m in \u001b[0;36mreachability.Reach.wplot\u001b[0;34m()\u001b[0m\n",
      "\u001b[0;32m/home/twright/Documents/PhD/Notebooks/reachability.pyx\u001b[0m in \u001b[0;36mreachability.Reach.plot\u001b[0;34m()\u001b[0m\n",
      "\u001b[0;31mException\u001b[0m: Not ran!"
     ]
    }
   ],
   "source": [
    "D.wplot(b'x', b'y', b'resd')"
   ]
  },
  {
   "cell_type": "code",
   "execution_count": null,
   "metadata": {},
   "outputs": [],
   "source": []
  }
 ],
 "metadata": {
  "kernelspec": {
   "display_name": "Python 2",
   "language": "python",
   "name": "python2"
  },
  "language_info": {
   "codemirror_mode": {
    "name": "ipython",
    "version": 2
   },
   "file_extension": ".py",
   "mimetype": "text/x-python",
   "name": "python",
   "nbconvert_exporter": "python",
   "pygments_lexer": "ipython2",
   "version": "2.7.15"
  }
 },
 "nbformat": 4,
 "nbformat_minor": 2
}
