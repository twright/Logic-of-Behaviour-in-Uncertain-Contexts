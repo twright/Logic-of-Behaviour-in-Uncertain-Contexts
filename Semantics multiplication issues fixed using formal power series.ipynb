{
 "cells": [
  {
   "cell_type": "code",
   "execution_count": 1,
   "metadata": {},
   "outputs": [],
   "source": [
    "def compose(x,y): return x + y + x*y"
   ]
  },
  {
   "cell_type": "code",
   "execution_count": 2,
   "metadata": {},
   "outputs": [],
   "source": [
    "def expn(x):\n",
    "    n = QQ(0)\n",
    "    res = 0\n",
    "    cur = None\n",
    "    while cur != 0:\n",
    "        cur = x**n*QQ(1/QQ(factorial(n)))\n",
    "        res += cur\n",
    "        n += 1\n",
    "    return res"
   ]
  },
  {
   "cell_type": "code",
   "execution_count": 3,
   "metadata": {},
   "outputs": [],
   "source": [
    "def logn(x):\n",
    "    n = 1\n",
    "    res = 0\n",
    "    cur = None\n",
    "    while cur != 0:\n",
    "        cur = QQ(-1)**(n+1)*(x - 1)**n*QQ(1/QQ(n))\n",
    "        res += cur\n",
    "        n += 1\n",
    "    return res"
   ]
  },
  {
   "cell_type": "markdown",
   "metadata": {},
   "source": [
    "## Two way expansion"
   ]
  },
  {
   "cell_type": "code",
   "execution_count": 4,
   "metadata": {},
   "outputs": [],
   "source": [
    "S.<b,c> = QQ[]\n",
    "R.<b,c> = QuotientRing(S, S.ideal([b^2, c^2]))\n",
    "T.<alpha,beta> = S[]"
   ]
  },
  {
   "cell_type": "code",
   "execution_count": 5,
   "metadata": {},
   "outputs": [],
   "source": [
    "x = b + c"
   ]
  },
  {
   "cell_type": "code",
   "execution_count": 6,
   "metadata": {},
   "outputs": [
    {
     "data": {
      "text/plain": [
       "b*c*alpha^2 + (b + c)*alpha"
      ]
     },
     "execution_count": 6,
     "metadata": {},
     "output_type": "execute_result"
    }
   ],
   "source": [
    "alpha*x + (alpha**2/2)*x**2 + (alpha**3/6)*x**3"
   ]
  },
  {
   "cell_type": "code",
   "execution_count": 7,
   "metadata": {},
   "outputs": [
    {
     "data": {
      "text/plain": [
       "b*c*alpha^2 + (b + c)*alpha + 1"
      ]
     },
     "execution_count": 7,
     "metadata": {},
     "output_type": "execute_result"
    }
   ],
   "source": [
    "expn(alpha*x)"
   ]
  },
  {
   "cell_type": "markdown",
   "metadata": {},
   "source": [
    "### Compositionality"
   ]
  },
  {
   "cell_type": "code",
   "execution_count": 8,
   "metadata": {},
   "outputs": [
    {
     "data": {
      "text/plain": [
       "2*b*c*alpha^2 + 2*b*c*alpha*beta + 2*b*c*beta^2 + (2*b + 2*c)*alpha + (2*b + 2*c)*beta + 3"
      ]
     },
     "execution_count": 8,
     "metadata": {},
     "output_type": "execute_result"
    }
   ],
   "source": [
    "compose(expn(alpha*x), expn(beta*x))"
   ]
  },
  {
   "cell_type": "code",
   "execution_count": 9,
   "metadata": {},
   "outputs": [
    {
     "data": {
      "text/plain": [
       "b*c*alpha^2 + 2*b*c*alpha*beta + b*c*beta^2 + (b + c)*alpha + (b + c)*beta + 1"
      ]
     },
     "execution_count": 9,
     "metadata": {},
     "output_type": "execute_result"
    }
   ],
   "source": [
    "expn((alpha + beta)*x)"
   ]
  },
  {
   "cell_type": "markdown",
   "metadata": {},
   "source": [
    "## Three way expansion"
   ]
  },
  {
   "cell_type": "code",
   "execution_count": 10,
   "metadata": {},
   "outputs": [],
   "source": [
    "S.<b,c,d> = QQ[]\n",
    "R.<b,c,d> = QuotientRing(S, S.ideal([b^2, c^2, d^2]))\n",
    "T.<alpha,beta> = S[]"
   ]
  },
  {
   "cell_type": "code",
   "execution_count": 11,
   "metadata": {},
   "outputs": [],
   "source": [
    "x = b + c + d"
   ]
  },
  {
   "cell_type": "code",
   "execution_count": 12,
   "metadata": {},
   "outputs": [
    {
     "data": {
      "text/plain": [
       "b*c*d*alpha^3 + (b*c + b*d + c*d)*alpha^2 + (b + c + d)*alpha + 1"
      ]
     },
     "execution_count": 12,
     "metadata": {},
     "output_type": "execute_result"
    }
   ],
   "source": [
    "expn(alpha*x)"
   ]
  },
  {
   "cell_type": "markdown",
   "metadata": {},
   "source": [
    "### Compositionality"
   ]
  },
  {
   "cell_type": "code",
   "execution_count": 13,
   "metadata": {},
   "outputs": [
    {
     "data": {
      "text/plain": [
       "2*b*c*d*alpha^3 + 3*b*c*d*alpha^2*beta + 3*b*c*d*alpha*beta^2 + 2*b*c*d*beta^3 + (2*b*c + 2*b*d + 2*c*d)*alpha^2 + (2*b*c + 2*b*d + 2*c*d)*alpha*beta + (2*b*c + 2*b*d + 2*c*d)*beta^2 + (2*b + 2*c + 2*d)*alpha + (2*b + 2*c + 2*d)*beta + 3"
      ]
     },
     "execution_count": 13,
     "metadata": {},
     "output_type": "execute_result"
    }
   ],
   "source": [
    "compose(expn(alpha*x), expn(beta*x))"
   ]
  },
  {
   "cell_type": "code",
   "execution_count": 14,
   "metadata": {},
   "outputs": [
    {
     "data": {
      "text/plain": [
       "b*c*d*alpha^3 + 3*b*c*d*alpha^2*beta + 3*b*c*d*alpha*beta^2 + b*c*d*beta^3 + (b*c + b*d + c*d)*alpha^2 + (2*b*c + 2*b*d + 2*c*d)*alpha*beta + (b*c + b*d + c*d)*beta^2 + (b + c + d)*alpha + (b + c + d)*beta + 1"
      ]
     },
     "execution_count": 14,
     "metadata": {},
     "output_type": "execute_result"
    }
   ],
   "source": [
    "expn((alpha + beta)*x)"
   ]
  },
  {
   "cell_type": "code",
   "execution_count": 15,
   "metadata": {},
   "outputs": [
    {
     "data": {
      "text/plain": [
       "False"
      ]
     },
     "execution_count": 15,
     "metadata": {},
     "output_type": "execute_result"
    }
   ],
   "source": [
    "compose(expn(alpha*x), expn(beta*x)) == expn((alpha + beta)*x)"
   ]
  },
  {
   "cell_type": "markdown",
   "metadata": {},
   "source": [
    "## Four way expansion"
   ]
  },
  {
   "cell_type": "code",
   "execution_count": 16,
   "metadata": {},
   "outputs": [],
   "source": [
    "S.<b,c,d,e> = QQ[]\n",
    "R.<b,c,d,e> = QuotientRing(S, S.ideal([b^2, c^2, d^2, e^2]))\n",
    "T.<alpha,beta> = R[]"
   ]
  },
  {
   "cell_type": "code",
   "execution_count": 17,
   "metadata": {},
   "outputs": [],
   "source": [
    "cast = lambda x: QQ['alpha','beta']['b','c','d','e'](SR(S['alpha','beta'](x)))"
   ]
  },
  {
   "cell_type": "code",
   "execution_count": 18,
   "metadata": {},
   "outputs": [],
   "source": [
    "x = 2*b + c + d + 3*e"
   ]
  },
  {
   "cell_type": "code",
   "execution_count": 19,
   "metadata": {},
   "outputs": [
    {
     "data": {
      "text/plain": [
       "6*b*c*d*e + 2*b*c*d + 6*b*c*e + 6*b*d*e + 3*c*d*e + 2*b*c + 2*b*d + c*d + 6*b*e + 3*c*e + 3*d*e + 2*b + c + d + 3*e + 1"
      ]
     },
     "execution_count": 19,
     "metadata": {},
     "output_type": "execute_result"
    }
   ],
   "source": [
    "expn(x)"
   ]
  },
  {
   "cell_type": "code",
   "execution_count": 20,
   "metadata": {},
   "outputs": [
    {
     "data": {
      "text/plain": [
       "False"
      ]
     },
     "execution_count": 20,
     "metadata": {},
     "output_type": "execute_result"
    }
   ],
   "source": [
    "compose(expn(alpha*x), expn(beta*x)) == expn((alpha + beta)*x)"
   ]
  },
  {
   "cell_type": "code",
   "execution_count": 21,
   "metadata": {},
   "outputs": [],
   "source": [
    "y = b + c + d + e"
   ]
  },
  {
   "cell_type": "code",
   "execution_count": 22,
   "metadata": {},
   "outputs": [
    {
     "data": {
      "text/plain": [
       "(2*alpha^4 + 4*alpha^3*beta + 6*alpha^2*beta^2 + 4*alpha*beta^3 + 2*beta^4)*b*c*d*e + (2*alpha^3 + 3*alpha^2*beta + 3*alpha*beta^2 + 2*beta^3)*b*c*d + (2*alpha^3 + 3*alpha^2*beta + 3*alpha*beta^2 + 2*beta^3)*b*c*e + (2*alpha^3 + 3*alpha^2*beta + 3*alpha*beta^2 + 2*beta^3)*b*d*e + (2*alpha^3 + 3*alpha^2*beta + 3*alpha*beta^2 + 2*beta^3)*c*d*e + (2*alpha^2 + 2*alpha*beta + 2*beta^2)*b*c + (2*alpha^2 + 2*alpha*beta + 2*beta^2)*b*d + (2*alpha^2 + 2*alpha*beta + 2*beta^2)*c*d + (2*alpha^2 + 2*alpha*beta + 2*beta^2)*b*e + (2*alpha^2 + 2*alpha*beta + 2*beta^2)*c*e + (2*alpha^2 + 2*alpha*beta + 2*beta^2)*d*e + (2*alpha + 2*beta)*b + (2*alpha + 2*beta)*c + (2*alpha + 2*beta)*d + (2*alpha + 2*beta)*e + 3"
      ]
     },
     "execution_count": 22,
     "metadata": {},
     "output_type": "execute_result"
    }
   ],
   "source": [
    "cast(compose(expn(alpha*y), expn(beta*y)))"
   ]
  },
  {
   "cell_type": "code",
   "execution_count": 23,
   "metadata": {},
   "outputs": [
    {
     "data": {
      "text/plain": [
       "(alpha^4 + 4*alpha^3*beta + 6*alpha^2*beta^2 + 4*alpha*beta^3 + beta^4)*b*c*d*e + (alpha^3 + 3*alpha^2*beta + 3*alpha*beta^2 + beta^3)*b*c*d + (alpha^3 + 3*alpha^2*beta + 3*alpha*beta^2 + beta^3)*b*c*e + (alpha^3 + 3*alpha^2*beta + 3*alpha*beta^2 + beta^3)*b*d*e + (alpha^3 + 3*alpha^2*beta + 3*alpha*beta^2 + beta^3)*c*d*e + (alpha^2 + 2*alpha*beta + beta^2)*b*c + (alpha^2 + 2*alpha*beta + beta^2)*b*d + (alpha^2 + 2*alpha*beta + beta^2)*c*d + (alpha^2 + 2*alpha*beta + beta^2)*b*e + (alpha^2 + 2*alpha*beta + beta^2)*c*e + (alpha^2 + 2*alpha*beta + beta^2)*d*e + (alpha + beta)*b + (alpha + beta)*c + (alpha + beta)*d + (alpha + beta)*e + 1"
      ]
     },
     "execution_count": 23,
     "metadata": {},
     "output_type": "execute_result"
    }
   ],
   "source": [
    "cast(expn((alpha + beta)*y))"
   ]
  },
  {
   "cell_type": "code",
   "execution_count": 24,
   "metadata": {},
   "outputs": [
    {
     "data": {
      "text/plain": [
       "False"
      ]
     },
     "execution_count": 24,
     "metadata": {},
     "output_type": "execute_result"
    }
   ],
   "source": [
    "compose(expn(alpha*y), expn(beta*y)) == expn((alpha + beta)*y)"
   ]
  },
  {
   "cell_type": "code",
   "execution_count": 25,
   "metadata": {},
   "outputs": [
    {
     "data": {
      "text/plain": [
       "[1,\n",
       " b + c + d + e,\n",
       " 2*b*c + 2*b*d + 2*c*d + 2*b*e + 2*c*e + 2*d*e,\n",
       " 6*b*c*d + 6*b*c*e + 6*b*d*e + 6*c*d*e,\n",
       " 24*b*c*d*e,\n",
       " 0]"
      ]
     },
     "execution_count": 25,
     "metadata": {},
     "output_type": "execute_result"
    }
   ],
   "source": [
    "[y**n for n in range(6)]"
   ]
  },
  {
   "cell_type": "code",
   "execution_count": 26,
   "metadata": {},
   "outputs": [
    {
     "data": {
      "text/plain": [
       "(alpha^4 + 4*alpha^3*beta + 6*alpha^2*beta^2 + 4*alpha*beta^3 + beta^4)*b*c*d*e + (alpha^3 + 3*alpha^2*beta + 3*alpha*beta^2 + beta^3)*b*c*d + (alpha^3 + 3*alpha^2*beta + 3*alpha*beta^2 + beta^3)*b*c*e + (alpha^3 + 3*alpha^2*beta + 3*alpha*beta^2 + beta^3)*b*d*e + (alpha^3 + 3*alpha^2*beta + 3*alpha*beta^2 + beta^3)*c*d*e + (alpha^2 + 2*alpha*beta + beta^2)*b*c + (alpha^2 + 2*alpha*beta + beta^2)*b*d + (alpha^2 + 2*alpha*beta + beta^2)*c*d + (alpha^2 + 2*alpha*beta + beta^2)*b*e + (alpha^2 + 2*alpha*beta + beta^2)*c*e + (alpha^2 + 2*alpha*beta + beta^2)*d*e + (alpha + beta)*b + (alpha + beta)*c + (alpha + beta)*d + (alpha + beta)*e + 1"
      ]
     },
     "execution_count": 26,
     "metadata": {},
     "output_type": "execute_result"
    }
   ],
   "source": [
    "cast(expn(alpha*y)*expn(beta*y))"
   ]
  },
  {
   "cell_type": "code",
   "execution_count": 27,
   "metadata": {},
   "outputs": [
    {
     "data": {
      "text/plain": [
       "alpha^4*b*c*d*e + alpha^3*b*c*d + alpha^3*b*c*e + alpha^3*b*d*e + alpha^3*c*d*e + alpha^2*b*c + alpha^2*b*d + alpha^2*c*d + alpha^2*b*e + alpha^2*c*e + alpha^2*d*e + alpha*b + alpha*c + alpha*d + alpha*e + 1"
      ]
     },
     "execution_count": 27,
     "metadata": {},
     "output_type": "execute_result"
    }
   ],
   "source": [
    "cast(expn(alpha*y))"
   ]
  },
  {
   "cell_type": "markdown",
   "metadata": {},
   "source": [
    "## Infinite formal powerseries"
   ]
  },
  {
   "cell_type": "code",
   "execution_count": 28,
   "metadata": {},
   "outputs": [],
   "source": [
    "S.<alpha,beta> = QQ[]\n",
    "R.<a,b,c,d> = PowerSeriesRing(S,4)"
   ]
  },
  {
   "cell_type": "code",
   "execution_count": 29,
   "metadata": {},
   "outputs": [],
   "source": [
    "x = a + b + c + d"
   ]
  },
  {
   "cell_type": "code",
   "execution_count": 30,
   "metadata": {},
   "outputs": [
    {
     "data": {
      "text/plain": [
       "1 + alpha*a + alpha*b + alpha*c + alpha*d + 1/2*alpha^2*a^2 + alpha^2*a*b + alpha^2*a*c + alpha^2*a*d + 1/2*alpha^2*b^2 + alpha^2*b*c + alpha^2*b*d + 1/2*alpha^2*c^2 + alpha^2*c*d + 1/2*alpha^2*d^2 + 1/6*alpha^3*a^3 + 1/2*alpha^3*a^2*b + 1/2*alpha^3*a^2*c + 1/2*alpha^3*a^2*d + 1/2*alpha^3*a*b^2 + alpha^3*a*b*c + alpha^3*a*b*d + 1/2*alpha^3*a*c^2 + alpha^3*a*c*d + 1/2*alpha^3*a*d^2 + 1/6*alpha^3*b^3 + 1/2*alpha^3*b^2*c + 1/2*alpha^3*b^2*d + 1/2*alpha^3*b*c^2 + alpha^3*b*c*d + 1/2*alpha^3*b*d^2 + 1/6*alpha^3*c^3 + 1/2*alpha^3*c^2*d + 1/2*alpha^3*c*d^2 + 1/6*alpha^3*d^3 + 1/24*alpha^4*a^4 + 1/6*alpha^4*a^3*b + 1/6*alpha^4*a^3*c + 1/6*alpha^4*a^3*d + 1/4*alpha^4*a^2*b^2 + 1/2*alpha^4*a^2*b*c + 1/2*alpha^4*a^2*b*d + 1/4*alpha^4*a^2*c^2 + 1/2*alpha^4*a^2*c*d + 1/4*alpha^4*a^2*d^2 + 1/6*alpha^4*a*b^3 + 1/2*alpha^4*a*b^2*c + 1/2*alpha^4*a*b^2*d + 1/2*alpha^4*a*b*c^2 + alpha^4*a*b*c*d + 1/2*alpha^4*a*b*d^2 + 1/6*alpha^4*a*c^3 + 1/2*alpha^4*a*c^2*d + 1/2*alpha^4*a*c*d^2 + 1/6*alpha^4*a*d^3 + 1/24*alpha^4*b^4 + 1/6*alpha^4*b^3*c + 1/6*alpha^4*b^3*d + 1/4*alpha^4*b^2*c^2 + 1/2*alpha^4*b^2*c*d + 1/4*alpha^4*b^2*d^2 + 1/6*alpha^4*b*c^3 + 1/2*alpha^4*b*c^2*d + 1/2*alpha^4*b*c*d^2 + 1/6*alpha^4*b*d^3 + 1/24*alpha^4*c^4 + 1/6*alpha^4*c^3*d + 1/4*alpha^4*c^2*d^2 + 1/6*alpha^4*c*d^3 + 1/24*alpha^4*d^4 + 1/120*alpha^5*a^5 + 1/24*alpha^5*a^4*b + 1/24*alpha^5*a^4*c + 1/24*alpha^5*a^4*d + 1/12*alpha^5*a^3*b^2 + 1/6*alpha^5*a^3*b*c + 1/6*alpha^5*a^3*b*d + 1/12*alpha^5*a^3*c^2 + 1/6*alpha^5*a^3*c*d + 1/12*alpha^5*a^3*d^2 + 1/12*alpha^5*a^2*b^3 + 1/4*alpha^5*a^2*b^2*c + 1/4*alpha^5*a^2*b^2*d + 1/4*alpha^5*a^2*b*c^2 + 1/2*alpha^5*a^2*b*c*d + 1/4*alpha^5*a^2*b*d^2 + 1/12*alpha^5*a^2*c^3 + 1/4*alpha^5*a^2*c^2*d + 1/4*alpha^5*a^2*c*d^2 + 1/12*alpha^5*a^2*d^3 + 1/24*alpha^5*a*b^4 + 1/6*alpha^5*a*b^3*c + 1/6*alpha^5*a*b^3*d + 1/4*alpha^5*a*b^2*c^2 + 1/2*alpha^5*a*b^2*c*d + 1/4*alpha^5*a*b^2*d^2 + 1/6*alpha^5*a*b*c^3 + 1/2*alpha^5*a*b*c^2*d + 1/2*alpha^5*a*b*c*d^2 + 1/6*alpha^5*a*b*d^3 + 1/24*alpha^5*a*c^4 + 1/6*alpha^5*a*c^3*d + 1/4*alpha^5*a*c^2*d^2 + 1/6*alpha^5*a*c*d^3 + 1/24*alpha^5*a*d^4 + 1/120*alpha^5*b^5 + 1/24*alpha^5*b^4*c + 1/24*alpha^5*b^4*d + 1/12*alpha^5*b^3*c^2 + 1/6*alpha^5*b^3*c*d + 1/12*alpha^5*b^3*d^2 + 1/12*alpha^5*b^2*c^3 + 1/4*alpha^5*b^2*c^2*d + 1/4*alpha^5*b^2*c*d^2 + 1/12*alpha^5*b^2*d^3 + 1/24*alpha^5*b*c^4 + 1/6*alpha^5*b*c^3*d + 1/4*alpha^5*b*c^2*d^2 + 1/6*alpha^5*b*c*d^3 + 1/24*alpha^5*b*d^4 + 1/120*alpha^5*c^5 + 1/24*alpha^5*c^4*d + 1/12*alpha^5*c^3*d^2 + 1/12*alpha^5*c^2*d^3 + 1/24*alpha^5*c*d^4 + 1/120*alpha^5*d^5 + 1/720*alpha^6*a^6 + 1/120*alpha^6*a^5*b + 1/120*alpha^6*a^5*c + 1/120*alpha^6*a^5*d + 1/48*alpha^6*a^4*b^2 + 1/24*alpha^6*a^4*b*c + 1/24*alpha^6*a^4*b*d + 1/48*alpha^6*a^4*c^2 + 1/24*alpha^6*a^4*c*d + 1/48*alpha^6*a^4*d^2 + 1/36*alpha^6*a^3*b^3 + 1/12*alpha^6*a^3*b^2*c + 1/12*alpha^6*a^3*b^2*d + 1/12*alpha^6*a^3*b*c^2 + 1/6*alpha^6*a^3*b*c*d + 1/12*alpha^6*a^3*b*d^2 + 1/36*alpha^6*a^3*c^3 + 1/12*alpha^6*a^3*c^2*d + 1/12*alpha^6*a^3*c*d^2 + 1/36*alpha^6*a^3*d^3 + 1/48*alpha^6*a^2*b^4 + 1/12*alpha^6*a^2*b^3*c + 1/12*alpha^6*a^2*b^3*d + 1/8*alpha^6*a^2*b^2*c^2 + 1/4*alpha^6*a^2*b^2*c*d + 1/8*alpha^6*a^2*b^2*d^2 + 1/12*alpha^6*a^2*b*c^3 + 1/4*alpha^6*a^2*b*c^2*d + 1/4*alpha^6*a^2*b*c*d^2 + 1/12*alpha^6*a^2*b*d^3 + 1/48*alpha^6*a^2*c^4 + 1/12*alpha^6*a^2*c^3*d + 1/8*alpha^6*a^2*c^2*d^2 + 1/12*alpha^6*a^2*c*d^3 + 1/48*alpha^6*a^2*d^4 + 1/120*alpha^6*a*b^5 + 1/24*alpha^6*a*b^4*c + 1/24*alpha^6*a*b^4*d + 1/12*alpha^6*a*b^3*c^2 + 1/6*alpha^6*a*b^3*c*d + 1/12*alpha^6*a*b^3*d^2 + 1/12*alpha^6*a*b^2*c^3 + 1/4*alpha^6*a*b^2*c^2*d + 1/4*alpha^6*a*b^2*c*d^2 + 1/12*alpha^6*a*b^2*d^3 + 1/24*alpha^6*a*b*c^4 + 1/6*alpha^6*a*b*c^3*d + 1/4*alpha^6*a*b*c^2*d^2 + 1/6*alpha^6*a*b*c*d^3 + 1/24*alpha^6*a*b*d^4 + 1/120*alpha^6*a*c^5 + 1/24*alpha^6*a*c^4*d + 1/12*alpha^6*a*c^3*d^2 + 1/12*alpha^6*a*c^2*d^3 + 1/24*alpha^6*a*c*d^4 + 1/120*alpha^6*a*d^5 + 1/720*alpha^6*b^6 + 1/120*alpha^6*b^5*c + 1/120*alpha^6*b^5*d + 1/48*alpha^6*b^4*c^2 + 1/24*alpha^6*b^4*c*d + 1/48*alpha^6*b^4*d^2 + 1/36*alpha^6*b^3*c^3 + 1/12*alpha^6*b^3*c^2*d + 1/12*alpha^6*b^3*c*d^2 + 1/36*alpha^6*b^3*d^3 + 1/48*alpha^6*b^2*c^4 + 1/12*alpha^6*b^2*c^3*d + 1/8*alpha^6*b^2*c^2*d^2 + 1/12*alpha^6*b^2*c*d^3 + 1/48*alpha^6*b^2*d^4 + 1/120*alpha^6*b*c^5 + 1/24*alpha^6*b*c^4*d + 1/12*alpha^6*b*c^3*d^2 + 1/12*alpha^6*b*c^2*d^3 + 1/24*alpha^6*b*c*d^4 + 1/120*alpha^6*b*d^5 + 1/720*alpha^6*c^6 + 1/120*alpha^6*c^5*d + 1/48*alpha^6*c^4*d^2 + 1/36*alpha^6*c^3*d^3 + 1/48*alpha^6*c^2*d^4 + 1/120*alpha^6*c*d^5 + 1/720*alpha^6*d^6 + 1/5040*alpha^7*a^7 + 1/720*alpha^7*a^6*b + 1/720*alpha^7*a^6*c + 1/720*alpha^7*a^6*d + 1/240*alpha^7*a^5*b^2 + 1/120*alpha^7*a^5*b*c + 1/120*alpha^7*a^5*b*d + 1/240*alpha^7*a^5*c^2 + 1/120*alpha^7*a^5*c*d + 1/240*alpha^7*a^5*d^2 + 1/144*alpha^7*a^4*b^3 + 1/48*alpha^7*a^4*b^2*c + 1/48*alpha^7*a^4*b^2*d + 1/48*alpha^7*a^4*b*c^2 + 1/24*alpha^7*a^4*b*c*d + 1/48*alpha^7*a^4*b*d^2 + 1/144*alpha^7*a^4*c^3 + 1/48*alpha^7*a^4*c^2*d + 1/48*alpha^7*a^4*c*d^2 + 1/144*alpha^7*a^4*d^3 + 1/144*alpha^7*a^3*b^4 + 1/36*alpha^7*a^3*b^3*c + 1/36*alpha^7*a^3*b^3*d + 1/24*alpha^7*a^3*b^2*c^2 + 1/12*alpha^7*a^3*b^2*c*d + 1/24*alpha^7*a^3*b^2*d^2 + 1/36*alpha^7*a^3*b*c^3 + 1/12*alpha^7*a^3*b*c^2*d + 1/12*alpha^7*a^3*b*c*d^2 + 1/36*alpha^7*a^3*b*d^3 + 1/144*alpha^7*a^3*c^4 + 1/36*alpha^7*a^3*c^3*d + 1/24*alpha^7*a^3*c^2*d^2 + 1/36*alpha^7*a^3*c*d^3 + 1/144*alpha^7*a^3*d^4 + 1/240*alpha^7*a^2*b^5 + 1/48*alpha^7*a^2*b^4*c + 1/48*alpha^7*a^2*b^4*d + 1/24*alpha^7*a^2*b^3*c^2 + 1/12*alpha^7*a^2*b^3*c*d + 1/24*alpha^7*a^2*b^3*d^2 + 1/24*alpha^7*a^2*b^2*c^3 + 1/8*alpha^7*a^2*b^2*c^2*d + 1/8*alpha^7*a^2*b^2*c*d^2 + 1/24*alpha^7*a^2*b^2*d^3 + 1/48*alpha^7*a^2*b*c^4 + 1/12*alpha^7*a^2*b*c^3*d + 1/8*alpha^7*a^2*b*c^2*d^2 + 1/12*alpha^7*a^2*b*c*d^3 + 1/48*alpha^7*a^2*b*d^4 + 1/240*alpha^7*a^2*c^5 + 1/48*alpha^7*a^2*c^4*d + 1/24*alpha^7*a^2*c^3*d^2 + 1/24*alpha^7*a^2*c^2*d^3 + 1/48*alpha^7*a^2*c*d^4 + 1/240*alpha^7*a^2*d^5 + 1/720*alpha^7*a*b^6 + 1/120*alpha^7*a*b^5*c + 1/120*alpha^7*a*b^5*d + 1/48*alpha^7*a*b^4*c^2 + 1/24*alpha^7*a*b^4*c*d + 1/48*alpha^7*a*b^4*d^2 + 1/36*alpha^7*a*b^3*c^3 + 1/12*alpha^7*a*b^3*c^2*d + 1/12*alpha^7*a*b^3*c*d^2 + 1/36*alpha^7*a*b^3*d^3 + 1/48*alpha^7*a*b^2*c^4 + 1/12*alpha^7*a*b^2*c^3*d + 1/8*alpha^7*a*b^2*c^2*d^2 + 1/12*alpha^7*a*b^2*c*d^3 + 1/48*alpha^7*a*b^2*d^4 + 1/120*alpha^7*a*b*c^5 + 1/24*alpha^7*a*b*c^4*d + 1/12*alpha^7*a*b*c^3*d^2 + 1/12*alpha^7*a*b*c^2*d^3 + 1/24*alpha^7*a*b*c*d^4 + 1/120*alpha^7*a*b*d^5 + 1/720*alpha^7*a*c^6 + 1/120*alpha^7*a*c^5*d + 1/48*alpha^7*a*c^4*d^2 + 1/36*alpha^7*a*c^3*d^3 + 1/48*alpha^7*a*c^2*d^4 + 1/120*alpha^7*a*c*d^5 + 1/720*alpha^7*a*d^6 + 1/5040*alpha^7*b^7 + 1/720*alpha^7*b^6*c + 1/720*alpha^7*b^6*d + 1/240*alpha^7*b^5*c^2 + 1/120*alpha^7*b^5*c*d + 1/240*alpha^7*b^5*d^2 + 1/144*alpha^7*b^4*c^3 + 1/48*alpha^7*b^4*c^2*d + 1/48*alpha^7*b^4*c*d^2 + 1/144*alpha^7*b^4*d^3 + 1/144*alpha^7*b^3*c^4 + 1/36*alpha^7*b^3*c^3*d + 1/24*alpha^7*b^3*c^2*d^2 + 1/36*alpha^7*b^3*c*d^3 + 1/144*alpha^7*b^3*d^4 + 1/240*alpha^7*b^2*c^5 + 1/48*alpha^7*b^2*c^4*d + 1/24*alpha^7*b^2*c^3*d^2 + 1/24*alpha^7*b^2*c^2*d^3 + 1/48*alpha^7*b^2*c*d^4 + 1/240*alpha^7*b^2*d^5 + 1/720*alpha^7*b*c^6 + 1/120*alpha^7*b*c^5*d + 1/48*alpha^7*b*c^4*d^2 + 1/36*alpha^7*b*c^3*d^3 + 1/48*alpha^7*b*c^2*d^4 + 1/120*alpha^7*b*c*d^5 + 1/720*alpha^7*b*d^6 + 1/5040*alpha^7*c^7 + 1/720*alpha^7*c^6*d + 1/240*alpha^7*c^5*d^2 + 1/144*alpha^7*c^4*d^3 + 1/144*alpha^7*c^3*d^4 + 1/240*alpha^7*c^2*d^5 + 1/720*alpha^7*c*d^6 + 1/5040*alpha^7*d^7 + 1/40320*alpha^8*a^8 + 1/5040*alpha^8*a^7*b + 1/5040*alpha^8*a^7*c + 1/5040*alpha^8*a^7*d + 1/1440*alpha^8*a^6*b^2 + 1/720*alpha^8*a^6*b*c + 1/720*alpha^8*a^6*b*d + 1/1440*alpha^8*a^6*c^2 + 1/720*alpha^8*a^6*c*d + 1/1440*alpha^8*a^6*d^2 + 1/720*alpha^8*a^5*b^3 + 1/240*alpha^8*a^5*b^2*c + 1/240*alpha^8*a^5*b^2*d + 1/240*alpha^8*a^5*b*c^2 + 1/120*alpha^8*a^5*b*c*d + 1/240*alpha^8*a^5*b*d^2 + 1/720*alpha^8*a^5*c^3 + 1/240*alpha^8*a^5*c^2*d + 1/240*alpha^8*a^5*c*d^2 + 1/720*alpha^8*a^5*d^3 + 1/576*alpha^8*a^4*b^4 + 1/144*alpha^8*a^4*b^3*c + 1/144*alpha^8*a^4*b^3*d + 1/96*alpha^8*a^4*b^2*c^2 + 1/48*alpha^8*a^4*b^2*c*d + 1/96*alpha^8*a^4*b^2*d^2 + 1/144*alpha^8*a^4*b*c^3 + 1/48*alpha^8*a^4*b*c^2*d + 1/48*alpha^8*a^4*b*c*d^2 + 1/144*alpha^8*a^4*b*d^3 + 1/576*alpha^8*a^4*c^4 + 1/144*alpha^8*a^4*c^3*d + 1/96*alpha^8*a^4*c^2*d^2 + 1/144*alpha^8*a^4*c*d^3 + 1/576*alpha^8*a^4*d^4 + 1/720*alpha^8*a^3*b^5 + 1/144*alpha^8*a^3*b^4*c + 1/144*alpha^8*a^3*b^4*d + 1/72*alpha^8*a^3*b^3*c^2 + 1/36*alpha^8*a^3*b^3*c*d + 1/72*alpha^8*a^3*b^3*d^2 + 1/72*alpha^8*a^3*b^2*c^3 + 1/24*alpha^8*a^3*b^2*c^2*d + 1/24*alpha^8*a^3*b^2*c*d^2 + 1/72*alpha^8*a^3*b^2*d^3 + 1/144*alpha^8*a^3*b*c^4 + 1/36*alpha^8*a^3*b*c^3*d + 1/24*alpha^8*a^3*b*c^2*d^2 + 1/36*alpha^8*a^3*b*c*d^3 + 1/144*alpha^8*a^3*b*d^4 + 1/720*alpha^8*a^3*c^5 + 1/144*alpha^8*a^3*c^4*d + 1/72*alpha^8*a^3*c^3*d^2 + 1/72*alpha^8*a^3*c^2*d^3 + 1/144*alpha^8*a^3*c*d^4 + 1/720*alpha^8*a^3*d^5 + 1/1440*alpha^8*a^2*b^6 + 1/240*alpha^8*a^2*b^5*c + 1/240*alpha^8*a^2*b^5*d + 1/96*alpha^8*a^2*b^4*c^2 + 1/48*alpha^8*a^2*b^4*c*d + 1/96*alpha^8*a^2*b^4*d^2 + 1/72*alpha^8*a^2*b^3*c^3 + 1/24*alpha^8*a^2*b^3*c^2*d + 1/24*alpha^8*a^2*b^3*c*d^2 + 1/72*alpha^8*a^2*b^3*d^3 + 1/96*alpha^8*a^2*b^2*c^4 + 1/24*alpha^8*a^2*b^2*c^3*d + 1/16*alpha^8*a^2*b^2*c^2*d^2 + 1/24*alpha^8*a^2*b^2*c*d^3 + 1/96*alpha^8*a^2*b^2*d^4 + 1/240*alpha^8*a^2*b*c^5 + 1/48*alpha^8*a^2*b*c^4*d + 1/24*alpha^8*a^2*b*c^3*d^2 + 1/24*alpha^8*a^2*b*c^2*d^3 + 1/48*alpha^8*a^2*b*c*d^4 + 1/240*alpha^8*a^2*b*d^5 + 1/1440*alpha^8*a^2*c^6 + 1/240*alpha^8*a^2*c^5*d + 1/96*alpha^8*a^2*c^4*d^2 + 1/72*alpha^8*a^2*c^3*d^3 + 1/96*alpha^8*a^2*c^2*d^4 + 1/240*alpha^8*a^2*c*d^5 + 1/1440*alpha^8*a^2*d^6 + 1/5040*alpha^8*a*b^7 + 1/720*alpha^8*a*b^6*c + 1/720*alpha^8*a*b^6*d + 1/240*alpha^8*a*b^5*c^2 + 1/120*alpha^8*a*b^5*c*d + 1/240*alpha^8*a*b^5*d^2 + 1/144*alpha^8*a*b^4*c^3 + 1/48*alpha^8*a*b^4*c^2*d + 1/48*alpha^8*a*b^4*c*d^2 + 1/144*alpha^8*a*b^4*d^3 + 1/144*alpha^8*a*b^3*c^4 + 1/36*alpha^8*a*b^3*c^3*d + 1/24*alpha^8*a*b^3*c^2*d^2 + 1/36*alpha^8*a*b^3*c*d^3 + 1/144*alpha^8*a*b^3*d^4 + 1/240*alpha^8*a*b^2*c^5 + 1/48*alpha^8*a*b^2*c^4*d + 1/24*alpha^8*a*b^2*c^3*d^2 + 1/24*alpha^8*a*b^2*c^2*d^3 + 1/48*alpha^8*a*b^2*c*d^4 + 1/240*alpha^8*a*b^2*d^5 + 1/720*alpha^8*a*b*c^6 + 1/120*alpha^8*a*b*c^5*d + 1/48*alpha^8*a*b*c^4*d^2 + 1/36*alpha^8*a*b*c^3*d^3 + 1/48*alpha^8*a*b*c^2*d^4 + 1/120*alpha^8*a*b*c*d^5 + 1/720*alpha^8*a*b*d^6 + 1/5040*alpha^8*a*c^7 + 1/720*alpha^8*a*c^6*d + 1/240*alpha^8*a*c^5*d^2 + 1/144*alpha^8*a*c^4*d^3 + 1/144*alpha^8*a*c^3*d^4 + 1/240*alpha^8*a*c^2*d^5 + 1/720*alpha^8*a*c*d^6 + 1/5040*alpha^8*a*d^7 + 1/40320*alpha^8*b^8 + 1/5040*alpha^8*b^7*c + 1/5040*alpha^8*b^7*d + 1/1440*alpha^8*b^6*c^2 + 1/720*alpha^8*b^6*c*d + 1/1440*alpha^8*b^6*d^2 + 1/720*alpha^8*b^5*c^3 + 1/240*alpha^8*b^5*c^2*d + 1/240*alpha^8*b^5*c*d^2 + 1/720*alpha^8*b^5*d^3 + 1/576*alpha^8*b^4*c^4 + 1/144*alpha^8*b^4*c^3*d + 1/96*alpha^8*b^4*c^2*d^2 + 1/144*alpha^8*b^4*c*d^3 + 1/576*alpha^8*b^4*d^4 + 1/720*alpha^8*b^3*c^5 + 1/144*alpha^8*b^3*c^4*d + 1/72*alpha^8*b^3*c^3*d^2 + 1/72*alpha^8*b^3*c^2*d^3 + 1/144*alpha^8*b^3*c*d^4 + 1/720*alpha^8*b^3*d^5 + 1/1440*alpha^8*b^2*c^6 + 1/240*alpha^8*b^2*c^5*d + 1/96*alpha^8*b^2*c^4*d^2 + 1/72*alpha^8*b^2*c^3*d^3 + 1/96*alpha^8*b^2*c^2*d^4 + 1/240*alpha^8*b^2*c*d^5 + 1/1440*alpha^8*b^2*d^6 + 1/5040*alpha^8*b*c^7 + 1/720*alpha^8*b*c^6*d + 1/240*alpha^8*b*c^5*d^2 + 1/144*alpha^8*b*c^4*d^3 + 1/144*alpha^8*b*c^3*d^4 + 1/240*alpha^8*b*c^2*d^5 + 1/720*alpha^8*b*c*d^6 + 1/5040*alpha^8*b*d^7 + 1/40320*alpha^8*c^8 + 1/5040*alpha^8*c^7*d + 1/1440*alpha^8*c^6*d^2 + 1/720*alpha^8*c^5*d^3 + 1/576*alpha^8*c^4*d^4 + 1/720*alpha^8*c^3*d^5 + 1/1440*alpha^8*c^2*d^6 + 1/5040*alpha^8*c*d^7 + 1/40320*alpha^8*d^8 + 1/362880*alpha^9*a^9 + 1/40320*alpha^9*a^8*b + 1/40320*alpha^9*a^8*c + 1/40320*alpha^9*a^8*d + 1/10080*alpha^9*a^7*b^2 + 1/5040*alpha^9*a^7*b*c + 1/5040*alpha^9*a^7*b*d + 1/10080*alpha^9*a^7*c^2 + 1/5040*alpha^9*a^7*c*d + 1/10080*alpha^9*a^7*d^2 + 1/4320*alpha^9*a^6*b^3 + 1/1440*alpha^9*a^6*b^2*c + 1/1440*alpha^9*a^6*b^2*d + 1/1440*alpha^9*a^6*b*c^2 + 1/720*alpha^9*a^6*b*c*d + 1/1440*alpha^9*a^6*b*d^2 + 1/4320*alpha^9*a^6*c^3 + 1/1440*alpha^9*a^6*c^2*d + 1/1440*alpha^9*a^6*c*d^2 + 1/4320*alpha^9*a^6*d^3 + 1/2880*alpha^9*a^5*b^4 + 1/720*alpha^9*a^5*b^3*c + 1/720*alpha^9*a^5*b^3*d + 1/480*alpha^9*a^5*b^2*c^2 + 1/240*alpha^9*a^5*b^2*c*d + 1/480*alpha^9*a^5*b^2*d^2 + 1/720*alpha^9*a^5*b*c^3 + 1/240*alpha^9*a^5*b*c^2*d + 1/240*alpha^9*a^5*b*c*d^2 + 1/720*alpha^9*a^5*b*d^3 + 1/2880*alpha^9*a^5*c^4 + 1/720*alpha^9*a^5*c^3*d + 1/480*alpha^9*a^5*c^2*d^2 + 1/720*alpha^9*a^5*c*d^3 + 1/2880*alpha^9*a^5*d^4 + 1/2880*alpha^9*a^4*b^5 + 1/576*alpha^9*a^4*b^4*c + 1/576*alpha^9*a^4*b^4*d + 1/288*alpha^9*a^4*b^3*c^2 + 1/144*alpha^9*a^4*b^3*c*d + 1/288*alpha^9*a^4*b^3*d^2 + 1/288*alpha^9*a^4*b^2*c^3 + 1/96*alpha^9*a^4*b^2*c^2*d + 1/96*alpha^9*a^4*b^2*c*d^2 + 1/288*alpha^9*a^4*b^2*d^3 + 1/576*alpha^9*a^4*b*c^4 + 1/144*alpha^9*a^4*b*c^3*d + 1/96*alpha^9*a^4*b*c^2*d^2 + 1/144*alpha^9*a^4*b*c*d^3 + 1/576*alpha^9*a^4*b*d^4 + 1/2880*alpha^9*a^4*c^5 + 1/576*alpha^9*a^4*c^4*d + 1/288*alpha^9*a^4*c^3*d^2 + 1/288*alpha^9*a^4*c^2*d^3 + 1/576*alpha^9*a^4*c*d^4 + 1/2880*alpha^9*a^4*d^5 + 1/4320*alpha^9*a^3*b^6 + 1/720*alpha^9*a^3*b^5*c + 1/720*alpha^9*a^3*b^5*d + 1/288*alpha^9*a^3*b^4*c^2 + 1/144*alpha^9*a^3*b^4*c*d + 1/288*alpha^9*a^3*b^4*d^2 + 1/216*alpha^9*a^3*b^3*c^3 + 1/72*alpha^9*a^3*b^3*c^2*d + 1/72*alpha^9*a^3*b^3*c*d^2 + 1/216*alpha^9*a^3*b^3*d^3 + 1/288*alpha^9*a^3*b^2*c^4 + 1/72*alpha^9*a^3*b^2*c^3*d + 1/48*alpha^9*a^3*b^2*c^2*d^2 + 1/72*alpha^9*a^3*b^2*c*d^3 + 1/288*alpha^9*a^3*b^2*d^4 + 1/720*alpha^9*a^3*b*c^5 + 1/144*alpha^9*a^3*b*c^4*d + 1/72*alpha^9*a^3*b*c^3*d^2 + 1/72*alpha^9*a^3*b*c^2*d^3 + 1/144*alpha^9*a^3*b*c*d^4 + 1/720*alpha^9*a^3*b*d^5 + 1/4320*alpha^9*a^3*c^6 + 1/720*alpha^9*a^3*c^5*d + 1/288*alpha^9*a^3*c^4*d^2 + 1/216*alpha^9*a^3*c^3*d^3 + 1/288*alpha^9*a^3*c^2*d^4 + 1/720*alpha^9*a^3*c*d^5 + 1/4320*alpha^9*a^3*d^6 + 1/10080*alpha^9*a^2*b^7 + 1/1440*alpha^9*a^2*b^6*c + 1/1440*alpha^9*a^2*b^6*d + 1/480*alpha^9*a^2*b^5*c^2 + 1/240*alpha^9*a^2*b^5*c*d + 1/480*alpha^9*a^2*b^5*d^2 + 1/288*alpha^9*a^2*b^4*c^3 + 1/96*alpha^9*a^2*b^4*c^2*d + 1/96*alpha^9*a^2*b^4*c*d^2 + 1/288*alpha^9*a^2*b^4*d^3 + 1/288*alpha^9*a^2*b^3*c^4 + 1/72*alpha^9*a^2*b^3*c^3*d + 1/48*alpha^9*a^2*b^3*c^2*d^2 + 1/72*alpha^9*a^2*b^3*c*d^3 + 1/288*alpha^9*a^2*b^3*d^4 + 1/480*alpha^9*a^2*b^2*c^5 + 1/96*alpha^9*a^2*b^2*c^4*d + 1/48*alpha^9*a^2*b^2*c^3*d^2 + 1/48*alpha^9*a^2*b^2*c^2*d^3 + 1/96*alpha^9*a^2*b^2*c*d^4 + 1/480*alpha^9*a^2*b^2*d^5 + 1/1440*alpha^9*a^2*b*c^6 + 1/240*alpha^9*a^2*b*c^5*d + 1/96*alpha^9*a^2*b*c^4*d^2 + 1/72*alpha^9*a^2*b*c^3*d^3 + 1/96*alpha^9*a^2*b*c^2*d^4 + 1/240*alpha^9*a^2*b*c*d^5 + 1/1440*alpha^9*a^2*b*d^6 + 1/10080*alpha^9*a^2*c^7 + 1/1440*alpha^9*a^2*c^6*d + 1/480*alpha^9*a^2*c^5*d^2 + 1/288*alpha^9*a^2*c^4*d^3 + 1/288*alpha^9*a^2*c^3*d^4 + 1/480*alpha^9*a^2*c^2*d^5 + 1/1440*alpha^9*a^2*c*d^6 + 1/10080*alpha^9*a^2*d^7 + 1/40320*alpha^9*a*b^8 + 1/5040*alpha^9*a*b^7*c + 1/5040*alpha^9*a*b^7*d + 1/1440*alpha^9*a*b^6*c^2 + 1/720*alpha^9*a*b^6*c*d + 1/1440*alpha^9*a*b^6*d^2 + 1/720*alpha^9*a*b^5*c^3 + 1/240*alpha^9*a*b^5*c^2*d + 1/240*alpha^9*a*b^5*c*d^2 + 1/720*alpha^9*a*b^5*d^3 + 1/576*alpha^9*a*b^4*c^4 + 1/144*alpha^9*a*b^4*c^3*d + 1/96*alpha^9*a*b^4*c^2*d^2 + 1/144*alpha^9*a*b^4*c*d^3 + 1/576*alpha^9*a*b^4*d^4 + 1/720*alpha^9*a*b^3*c^5 + 1/144*alpha^9*a*b^3*c^4*d + 1/72*alpha^9*a*b^3*c^3*d^2 + 1/72*alpha^9*a*b^3*c^2*d^3 + 1/144*alpha^9*a*b^3*c*d^4 + 1/720*alpha^9*a*b^3*d^5 + 1/1440*alpha^9*a*b^2*c^6 + 1/240*alpha^9*a*b^2*c^5*d + 1/96*alpha^9*a*b^2*c^4*d^2 + 1/72*alpha^9*a*b^2*c^3*d^3 + 1/96*alpha^9*a*b^2*c^2*d^4 + 1/240*alpha^9*a*b^2*c*d^5 + 1/1440*alpha^9*a*b^2*d^6 + 1/5040*alpha^9*a*b*c^7 + 1/720*alpha^9*a*b*c^6*d + 1/240*alpha^9*a*b*c^5*d^2 + 1/144*alpha^9*a*b*c^4*d^3 + 1/144*alpha^9*a*b*c^3*d^4 + 1/240*alpha^9*a*b*c^2*d^5 + 1/720*alpha^9*a*b*c*d^6 + 1/5040*alpha^9*a*b*d^7 + 1/40320*alpha^9*a*c^8 + 1/5040*alpha^9*a*c^7*d + 1/1440*alpha^9*a*c^6*d^2 + 1/720*alpha^9*a*c^5*d^3 + 1/576*alpha^9*a*c^4*d^4 + 1/720*alpha^9*a*c^3*d^5 + 1/1440*alpha^9*a*c^2*d^6 + 1/5040*alpha^9*a*c*d^7 + 1/40320*alpha^9*a*d^8 + 1/362880*alpha^9*b^9 + 1/40320*alpha^9*b^8*c + 1/40320*alpha^9*b^8*d + 1/10080*alpha^9*b^7*c^2 + 1/5040*alpha^9*b^7*c*d + 1/10080*alpha^9*b^7*d^2 + 1/4320*alpha^9*b^6*c^3 + 1/1440*alpha^9*b^6*c^2*d + 1/1440*alpha^9*b^6*c*d^2 + 1/4320*alpha^9*b^6*d^3 + 1/2880*alpha^9*b^5*c^4 + 1/720*alpha^9*b^5*c^3*d + 1/480*alpha^9*b^5*c^2*d^2 + 1/720*alpha^9*b^5*c*d^3 + 1/2880*alpha^9*b^5*d^4 + 1/2880*alpha^9*b^4*c^5 + 1/576*alpha^9*b^4*c^4*d + 1/288*alpha^9*b^4*c^3*d^2 + 1/288*alpha^9*b^4*c^2*d^3 + 1/576*alpha^9*b^4*c*d^4 + 1/2880*alpha^9*b^4*d^5 + 1/4320*alpha^9*b^3*c^6 + 1/720*alpha^9*b^3*c^5*d + 1/288*alpha^9*b^3*c^4*d^2 + 1/216*alpha^9*b^3*c^3*d^3 + 1/288*alpha^9*b^3*c^2*d^4 + 1/720*alpha^9*b^3*c*d^5 + 1/4320*alpha^9*b^3*d^6 + 1/10080*alpha^9*b^2*c^7 + 1/1440*alpha^9*b^2*c^6*d + 1/480*alpha^9*b^2*c^5*d^2 + 1/288*alpha^9*b^2*c^4*d^3 + 1/288*alpha^9*b^2*c^3*d^4 + 1/480*alpha^9*b^2*c^2*d^5 + 1/1440*alpha^9*b^2*c*d^6 + 1/10080*alpha^9*b^2*d^7 + 1/40320*alpha^9*b*c^8 + 1/5040*alpha^9*b*c^7*d + 1/1440*alpha^9*b*c^6*d^2 + 1/720*alpha^9*b*c^5*d^3 + 1/576*alpha^9*b*c^4*d^4 + 1/720*alpha^9*b*c^3*d^5 + 1/1440*alpha^9*b*c^2*d^6 + 1/5040*alpha^9*b*c*d^7 + 1/40320*alpha^9*b*d^8 + 1/362880*alpha^9*c^9 + 1/40320*alpha^9*c^8*d + 1/10080*alpha^9*c^7*d^2 + 1/4320*alpha^9*c^6*d^3 + 1/2880*alpha^9*c^5*d^4 + 1/2880*alpha^9*c^4*d^5 + 1/4320*alpha^9*c^3*d^6 + 1/10080*alpha^9*c^2*d^7 + 1/40320*alpha^9*c*d^8 + 1/362880*alpha^9*d^9 + 1/3628800*alpha^10*a^10 + 1/362880*alpha^10*a^9*b + 1/362880*alpha^10*a^9*c + 1/362880*alpha^10*a^9*d + 1/80640*alpha^10*a^8*b^2 + 1/40320*alpha^10*a^8*b*c + 1/40320*alpha^10*a^8*b*d + 1/80640*alpha^10*a^8*c^2 + 1/40320*alpha^10*a^8*c*d + 1/80640*alpha^10*a^8*d^2 + 1/30240*alpha^10*a^7*b^3 + 1/10080*alpha^10*a^7*b^2*c + 1/10080*alpha^10*a^7*b^2*d + 1/10080*alpha^10*a^7*b*c^2 + 1/5040*alpha^10*a^7*b*c*d + 1/10080*alpha^10*a^7*b*d^2 + 1/30240*alpha^10*a^7*c^3 + 1/10080*alpha^10*a^7*c^2*d + 1/10080*alpha^10*a^7*c*d^2 + 1/30240*alpha^10*a^7*d^3 + 1/17280*alpha^10*a^6*b^4 + 1/4320*alpha^10*a^6*b^3*c + 1/4320*alpha^10*a^6*b^3*d + 1/2880*alpha^10*a^6*b^2*c^2 + 1/1440*alpha^10*a^6*b^2*c*d + 1/2880*alpha^10*a^6*b^2*d^2 + 1/4320*alpha^10*a^6*b*c^3 + 1/1440*alpha^10*a^6*b*c^2*d + 1/1440*alpha^10*a^6*b*c*d^2 + 1/4320*alpha^10*a^6*b*d^3 + 1/17280*alpha^10*a^6*c^4 + 1/4320*alpha^10*a^6*c^3*d + 1/2880*alpha^10*a^6*c^2*d^2 + 1/4320*alpha^10*a^6*c*d^3 + 1/17280*alpha^10*a^6*d^4 + 1/14400*alpha^10*a^5*b^5 + 1/2880*alpha^10*a^5*b^4*c + 1/2880*alpha^10*a^5*b^4*d + 1/1440*alpha^10*a^5*b^3*c^2 + 1/720*alpha^10*a^5*b^3*c*d + 1/1440*alpha^10*a^5*b^3*d^2 + 1/1440*alpha^10*a^5*b^2*c^3 + 1/480*alpha^10*a^5*b^2*c^2*d + 1/480*alpha^10*a^5*b^2*c*d^2 + 1/1440*alpha^10*a^5*b^2*d^3 + 1/2880*alpha^10*a^5*b*c^4 + 1/720*alpha^10*a^5*b*c^3*d + 1/480*alpha^10*a^5*b*c^2*d^2 + 1/720*alpha^10*a^5*b*c*d^3 + 1/2880*alpha^10*a^5*b*d^4 + 1/14400*alpha^10*a^5*c^5 + 1/2880*alpha^10*a^5*c^4*d + 1/1440*alpha^10*a^5*c^3*d^2 + 1/1440*alpha^10*a^5*c^2*d^3 + 1/2880*alpha^10*a^5*c*d^4 + 1/14400*alpha^10*a^5*d^5 + 1/17280*alpha^10*a^4*b^6 + 1/2880*alpha^10*a^4*b^5*c + 1/2880*alpha^10*a^4*b^5*d + 1/1152*alpha^10*a^4*b^4*c^2 + 1/576*alpha^10*a^4*b^4*c*d + 1/1152*alpha^10*a^4*b^4*d^2 + 1/864*alpha^10*a^4*b^3*c^3 + 1/288*alpha^10*a^4*b^3*c^2*d + 1/288*alpha^10*a^4*b^3*c*d^2 + 1/864*alpha^10*a^4*b^3*d^3 + 1/1152*alpha^10*a^4*b^2*c^4 + 1/288*alpha^10*a^4*b^2*c^3*d + 1/192*alpha^10*a^4*b^2*c^2*d^2 + 1/288*alpha^10*a^4*b^2*c*d^3 + 1/1152*alpha^10*a^4*b^2*d^4 + 1/2880*alpha^10*a^4*b*c^5 + 1/576*alpha^10*a^4*b*c^4*d + 1/288*alpha^10*a^4*b*c^3*d^2 + 1/288*alpha^10*a^4*b*c^2*d^3 + 1/576*alpha^10*a^4*b*c*d^4 + 1/2880*alpha^10*a^4*b*d^5 + 1/17280*alpha^10*a^4*c^6 + 1/2880*alpha^10*a^4*c^5*d + 1/1152*alpha^10*a^4*c^4*d^2 + 1/864*alpha^10*a^4*c^3*d^3 + 1/1152*alpha^10*a^4*c^2*d^4 + 1/2880*alpha^10*a^4*c*d^5 + 1/17280*alpha^10*a^4*d^6 + 1/30240*alpha^10*a^3*b^7 + 1/4320*alpha^10*a^3*b^6*c + 1/4320*alpha^10*a^3*b^6*d + 1/1440*alpha^10*a^3*b^5*c^2 + 1/720*alpha^10*a^3*b^5*c*d + 1/1440*alpha^10*a^3*b^5*d^2 + 1/864*alpha^10*a^3*b^4*c^3 + 1/288*alpha^10*a^3*b^4*c^2*d + 1/288*alpha^10*a^3*b^4*c*d^2 + 1/864*alpha^10*a^3*b^4*d^3 + 1/864*alpha^10*a^3*b^3*c^4 + 1/216*alpha^10*a^3*b^3*c^3*d + 1/144*alpha^10*a^3*b^3*c^2*d^2 + 1/216*alpha^10*a^3*b^3*c*d^3 + 1/864*alpha^10*a^3*b^3*d^4 + 1/1440*alpha^10*a^3*b^2*c^5 + 1/288*alpha^10*a^3*b^2*c^4*d + 1/144*alpha^10*a^3*b^2*c^3*d^2 + 1/144*alpha^10*a^3*b^2*c^2*d^3 + 1/288*alpha^10*a^3*b^2*c*d^4 + 1/1440*alpha^10*a^3*b^2*d^5 + 1/4320*alpha^10*a^3*b*c^6 + 1/720*alpha^10*a^3*b*c^5*d + 1/288*alpha^10*a^3*b*c^4*d^2 + 1/216*alpha^10*a^3*b*c^3*d^3 + 1/288*alpha^10*a^3*b*c^2*d^4 + 1/720*alpha^10*a^3*b*c*d^5 + 1/4320*alpha^10*a^3*b*d^6 + 1/30240*alpha^10*a^3*c^7 + 1/4320*alpha^10*a^3*c^6*d + 1/1440*alpha^10*a^3*c^5*d^2 + 1/864*alpha^10*a^3*c^4*d^3 + 1/864*alpha^10*a^3*c^3*d^4 + 1/1440*alpha^10*a^3*c^2*d^5 + 1/4320*alpha^10*a^3*c*d^6 + 1/30240*alpha^10*a^3*d^7 + 1/80640*alpha^10*a^2*b^8 + 1/10080*alpha^10*a^2*b^7*c + 1/10080*alpha^10*a^2*b^7*d + 1/2880*alpha^10*a^2*b^6*c^2 + 1/1440*alpha^10*a^2*b^6*c*d + 1/2880*alpha^10*a^2*b^6*d^2 + 1/1440*alpha^10*a^2*b^5*c^3 + 1/480*alpha^10*a^2*b^5*c^2*d + 1/480*alpha^10*a^2*b^5*c*d^2 + 1/1440*alpha^10*a^2*b^5*d^3 + 1/1152*alpha^10*a^2*b^4*c^4 + 1/288*alpha^10*a^2*b^4*c^3*d + 1/192*alpha^10*a^2*b^4*c^2*d^2 + 1/288*alpha^10*a^2*b^4*c*d^3 + 1/1152*alpha^10*a^2*b^4*d^4 + 1/1440*alpha^10*a^2*b^3*c^5 + 1/288*alpha^10*a^2*b^3*c^4*d + 1/144*alpha^10*a^2*b^3*c^3*d^2 + 1/144*alpha^10*a^2*b^3*c^2*d^3 + 1/288*alpha^10*a^2*b^3*c*d^4 + 1/1440*alpha^10*a^2*b^3*d^5 + 1/2880*alpha^10*a^2*b^2*c^6 + 1/480*alpha^10*a^2*b^2*c^5*d + 1/192*alpha^10*a^2*b^2*c^4*d^2 + 1/144*alpha^10*a^2*b^2*c^3*d^3 + 1/192*alpha^10*a^2*b^2*c^2*d^4 + 1/480*alpha^10*a^2*b^2*c*d^5 + 1/2880*alpha^10*a^2*b^2*d^6 + 1/10080*alpha^10*a^2*b*c^7 + 1/1440*alpha^10*a^2*b*c^6*d + 1/480*alpha^10*a^2*b*c^5*d^2 + 1/288*alpha^10*a^2*b*c^4*d^3 + 1/288*alpha^10*a^2*b*c^3*d^4 + 1/480*alpha^10*a^2*b*c^2*d^5 + 1/1440*alpha^10*a^2*b*c*d^6 + 1/10080*alpha^10*a^2*b*d^7 + 1/80640*alpha^10*a^2*c^8 + 1/10080*alpha^10*a^2*c^7*d + 1/2880*alpha^10*a^2*c^6*d^2 + 1/1440*alpha^10*a^2*c^5*d^3 + 1/1152*alpha^10*a^2*c^4*d^4 + 1/1440*alpha^10*a^2*c^3*d^5 + 1/2880*alpha^10*a^2*c^2*d^6 + 1/10080*alpha^10*a^2*c*d^7 + 1/80640*alpha^10*a^2*d^8 + 1/362880*alpha^10*a*b^9 + 1/40320*alpha^10*a*b^8*c + 1/40320*alpha^10*a*b^8*d + 1/10080*alpha^10*a*b^7*c^2 + 1/5040*alpha^10*a*b^7*c*d + 1/10080*alpha^10*a*b^7*d^2 + 1/4320*alpha^10*a*b^6*c^3 + 1/1440*alpha^10*a*b^6*c^2*d + 1/1440*alpha^10*a*b^6*c*d^2 + 1/4320*alpha^10*a*b^6*d^3 + 1/2880*alpha^10*a*b^5*c^4 + 1/720*alpha^10*a*b^5*c^3*d + 1/480*alpha^10*a*b^5*c^2*d^2 + 1/720*alpha^10*a*b^5*c*d^3 + 1/2880*alpha^10*a*b^5*d^4 + 1/2880*alpha^10*a*b^4*c^5 + 1/576*alpha^10*a*b^4*c^4*d + 1/288*alpha^10*a*b^4*c^3*d^2 + 1/288*alpha^10*a*b^4*c^2*d^3 + 1/576*alpha^10*a*b^4*c*d^4 + 1/2880*alpha^10*a*b^4*d^5 + 1/4320*alpha^10*a*b^3*c^6 + 1/720*alpha^10*a*b^3*c^5*d + 1/288*alpha^10*a*b^3*c^4*d^2 + 1/216*alpha^10*a*b^3*c^3*d^3 + 1/288*alpha^10*a*b^3*c^2*d^4 + 1/720*alpha^10*a*b^3*c*d^5 + 1/4320*alpha^10*a*b^3*d^6 + 1/10080*alpha^10*a*b^2*c^7 + 1/1440*alpha^10*a*b^2*c^6*d + 1/480*alpha^10*a*b^2*c^5*d^2 + 1/288*alpha^10*a*b^2*c^4*d^3 + 1/288*alpha^10*a*b^2*c^3*d^4 + 1/480*alpha^10*a*b^2*c^2*d^5 + 1/1440*alpha^10*a*b^2*c*d^6 + 1/10080*alpha^10*a*b^2*d^7 + 1/40320*alpha^10*a*b*c^8 + 1/5040*alpha^10*a*b*c^7*d + 1/1440*alpha^10*a*b*c^6*d^2 + 1/720*alpha^10*a*b*c^5*d^3 + 1/576*alpha^10*a*b*c^4*d^4 + 1/720*alpha^10*a*b*c^3*d^5 + 1/1440*alpha^10*a*b*c^2*d^6 + 1/5040*alpha^10*a*b*c*d^7 + 1/40320*alpha^10*a*b*d^8 + 1/362880*alpha^10*a*c^9 + 1/40320*alpha^10*a*c^8*d + 1/10080*alpha^10*a*c^7*d^2 + 1/4320*alpha^10*a*c^6*d^3 + 1/2880*alpha^10*a*c^5*d^4 + 1/2880*alpha^10*a*c^4*d^5 + 1/4320*alpha^10*a*c^3*d^6 + 1/10080*alpha^10*a*c^2*d^7 + 1/40320*alpha^10*a*c*d^8 + 1/362880*alpha^10*a*d^9 + 1/3628800*alpha^10*b^10 + 1/362880*alpha^10*b^9*c + 1/362880*alpha^10*b^9*d + 1/80640*alpha^10*b^8*c^2 + 1/40320*alpha^10*b^8*c*d + 1/80640*alpha^10*b^8*d^2 + 1/30240*alpha^10*b^7*c^3 + 1/10080*alpha^10*b^7*c^2*d + 1/10080*alpha^10*b^7*c*d^2 + 1/30240*alpha^10*b^7*d^3 + 1/17280*alpha^10*b^6*c^4 + 1/4320*alpha^10*b^6*c^3*d + 1/2880*alpha^10*b^6*c^2*d^2 + 1/4320*alpha^10*b^6*c*d^3 + 1/17280*alpha^10*b^6*d^4 + 1/14400*alpha^10*b^5*c^5 + 1/2880*alpha^10*b^5*c^4*d + 1/1440*alpha^10*b^5*c^3*d^2 + 1/1440*alpha^10*b^5*c^2*d^3 + 1/2880*alpha^10*b^5*c*d^4 + 1/14400*alpha^10*b^5*d^5 + 1/17280*alpha^10*b^4*c^6 + 1/2880*alpha^10*b^4*c^5*d + 1/1152*alpha^10*b^4*c^4*d^2 + 1/864*alpha^10*b^4*c^3*d^3 + 1/1152*alpha^10*b^4*c^2*d^4 + 1/2880*alpha^10*b^4*c*d^5 + 1/17280*alpha^10*b^4*d^6 + 1/30240*alpha^10*b^3*c^7 + 1/4320*alpha^10*b^3*c^6*d + 1/1440*alpha^10*b^3*c^5*d^2 + 1/864*alpha^10*b^3*c^4*d^3 + 1/864*alpha^10*b^3*c^3*d^4 + 1/1440*alpha^10*b^3*c^2*d^5 + 1/4320*alpha^10*b^3*c*d^6 + 1/30240*alpha^10*b^3*d^7 + 1/80640*alpha^10*b^2*c^8 + 1/10080*alpha^10*b^2*c^7*d + 1/2880*alpha^10*b^2*c^6*d^2 + 1/1440*alpha^10*b^2*c^5*d^3 + 1/1152*alpha^10*b^2*c^4*d^4 + 1/1440*alpha^10*b^2*c^3*d^5 + 1/2880*alpha^10*b^2*c^2*d^6 + 1/10080*alpha^10*b^2*c*d^7 + 1/80640*alpha^10*b^2*d^8 + 1/362880*alpha^10*b*c^9 + 1/40320*alpha^10*b*c^8*d + 1/10080*alpha^10*b*c^7*d^2 + 1/4320*alpha^10*b*c^6*d^3 + 1/2880*alpha^10*b*c^5*d^4 + 1/2880*alpha^10*b*c^4*d^5 + 1/4320*alpha^10*b*c^3*d^6 + 1/10080*alpha^10*b*c^2*d^7 + 1/40320*alpha^10*b*c*d^8 + 1/362880*alpha^10*b*d^9 + 1/3628800*alpha^10*c^10 + 1/362880*alpha^10*c^9*d + 1/80640*alpha^10*c^8*d^2 + 1/30240*alpha^10*c^7*d^3 + 1/17280*alpha^10*c^6*d^4 + 1/14400*alpha^10*c^5*d^5 + 1/17280*alpha^10*c^4*d^6 + 1/30240*alpha^10*c^3*d^7 + 1/80640*alpha^10*c^2*d^8 + 1/362880*alpha^10*c*d^9 + 1/3628800*alpha^10*d^10 + 1/39916800*alpha^11*a^11 + 1/3628800*alpha^11*a^10*b + 1/3628800*alpha^11*a^10*c + 1/3628800*alpha^11*a^10*d + 1/725760*alpha^11*a^9*b^2 + 1/362880*alpha^11*a^9*b*c + 1/362880*alpha^11*a^9*b*d + 1/725760*alpha^11*a^9*c^2 + 1/362880*alpha^11*a^9*c*d + 1/725760*alpha^11*a^9*d^2 + 1/241920*alpha^11*a^8*b^3 + 1/80640*alpha^11*a^8*b^2*c + 1/80640*alpha^11*a^8*b^2*d + 1/80640*alpha^11*a^8*b*c^2 + 1/40320*alpha^11*a^8*b*c*d + 1/80640*alpha^11*a^8*b*d^2 + 1/241920*alpha^11*a^8*c^3 + 1/80640*alpha^11*a^8*c^2*d + 1/80640*alpha^11*a^8*c*d^2 + 1/241920*alpha^11*a^8*d^3 + 1/120960*alpha^11*a^7*b^4 + 1/30240*alpha^11*a^7*b^3*c + 1/30240*alpha^11*a^7*b^3*d + 1/20160*alpha^11*a^7*b^2*c^2 + 1/10080*alpha^11*a^7*b^2*c*d + 1/20160*alpha^11*a^7*b^2*d^2 + 1/30240*alpha^11*a^7*b*c^3 + 1/10080*alpha^11*a^7*b*c^2*d + 1/10080*alpha^11*a^7*b*c*d^2 + 1/30240*alpha^11*a^7*b*d^3 + 1/120960*alpha^11*a^7*c^4 + 1/30240*alpha^11*a^7*c^3*d + 1/20160*alpha^11*a^7*c^2*d^2 + 1/30240*alpha^11*a^7*c*d^3 + 1/120960*alpha^11*a^7*d^4 + 1/86400*alpha^11*a^6*b^5 + 1/17280*alpha^11*a^6*b^4*c + 1/17280*alpha^11*a^6*b^4*d + 1/8640*alpha^11*a^6*b^3*c^2 + 1/4320*alpha^11*a^6*b^3*c*d + 1/8640*alpha^11*a^6*b^3*d^2 + 1/8640*alpha^11*a^6*b^2*c^3 + 1/2880*alpha^11*a^6*b^2*c^2*d + 1/2880*alpha^11*a^6*b^2*c*d^2 + 1/8640*alpha^11*a^6*b^2*d^3 + 1/17280*alpha^11*a^6*b*c^4 + 1/4320*alpha^11*a^6*b*c^3*d + 1/2880*alpha^11*a^6*b*c^2*d^2 + 1/4320*alpha^11*a^6*b*c*d^3 + 1/17280*alpha^11*a^6*b*d^4 + 1/86400*alpha^11*a^6*c^5 + 1/17280*alpha^11*a^6*c^4*d + 1/8640*alpha^11*a^6*c^3*d^2 + 1/8640*alpha^11*a^6*c^2*d^3 + 1/17280*alpha^11*a^6*c*d^4 + 1/86400*alpha^11*a^6*d^5 + 1/86400*alpha^11*a^5*b^6 + 1/14400*alpha^11*a^5*b^5*c + 1/14400*alpha^11*a^5*b^5*d + 1/5760*alpha^11*a^5*b^4*c^2 + 1/2880*alpha^11*a^5*b^4*c*d + 1/5760*alpha^11*a^5*b^4*d^2 + 1/4320*alpha^11*a^5*b^3*c^3 + 1/1440*alpha^11*a^5*b^3*c^2*d + 1/1440*alpha^11*a^5*b^3*c*d^2 + 1/4320*alpha^11*a^5*b^3*d^3 + 1/5760*alpha^11*a^5*b^2*c^4 + 1/1440*alpha^11*a^5*b^2*c^3*d + 1/960*alpha^11*a^5*b^2*c^2*d^2 + 1/1440*alpha^11*a^5*b^2*c*d^3 + 1/5760*alpha^11*a^5*b^2*d^4 + 1/14400*alpha^11*a^5*b*c^5 + 1/2880*alpha^11*a^5*b*c^4*d + 1/1440*alpha^11*a^5*b*c^3*d^2 + 1/1440*alpha^11*a^5*b*c^2*d^3 + 1/2880*alpha^11*a^5*b*c*d^4 + 1/14400*alpha^11*a^5*b*d^5 + 1/86400*alpha^11*a^5*c^6 + 1/14400*alpha^11*a^5*c^5*d + 1/5760*alpha^11*a^5*c^4*d^2 + 1/4320*alpha^11*a^5*c^3*d^3 + 1/5760*alpha^11*a^5*c^2*d^4 + 1/14400*alpha^11*a^5*c*d^5 + 1/86400*alpha^11*a^5*d^6 + 1/120960*alpha^11*a^4*b^7 + 1/17280*alpha^11*a^4*b^6*c + 1/17280*alpha^11*a^4*b^6*d + 1/5760*alpha^11*a^4*b^5*c^2 + 1/2880*alpha^11*a^4*b^5*c*d + 1/5760*alpha^11*a^4*b^5*d^2 + 1/3456*alpha^11*a^4*b^4*c^3 + 1/1152*alpha^11*a^4*b^4*c^2*d + 1/1152*alpha^11*a^4*b^4*c*d^2 + 1/3456*alpha^11*a^4*b^4*d^3 + 1/3456*alpha^11*a^4*b^3*c^4 + 1/864*alpha^11*a^4*b^3*c^3*d + 1/576*alpha^11*a^4*b^3*c^2*d^2 + 1/864*alpha^11*a^4*b^3*c*d^3 + 1/3456*alpha^11*a^4*b^3*d^4 + 1/5760*alpha^11*a^4*b^2*c^5 + 1/1152*alpha^11*a^4*b^2*c^4*d + 1/576*alpha^11*a^4*b^2*c^3*d^2 + 1/576*alpha^11*a^4*b^2*c^2*d^3 + 1/1152*alpha^11*a^4*b^2*c*d^4 + 1/5760*alpha^11*a^4*b^2*d^5 + 1/17280*alpha^11*a^4*b*c^6 + 1/2880*alpha^11*a^4*b*c^5*d + 1/1152*alpha^11*a^4*b*c^4*d^2 + 1/864*alpha^11*a^4*b*c^3*d^3 + 1/1152*alpha^11*a^4*b*c^2*d^4 + 1/2880*alpha^11*a^4*b*c*d^5 + 1/17280*alpha^11*a^4*b*d^6 + 1/120960*alpha^11*a^4*c^7 + 1/17280*alpha^11*a^4*c^6*d + 1/5760*alpha^11*a^4*c^5*d^2 + 1/3456*alpha^11*a^4*c^4*d^3 + 1/3456*alpha^11*a^4*c^3*d^4 + 1/5760*alpha^11*a^4*c^2*d^5 + 1/17280*alpha^11*a^4*c*d^6 + 1/120960*alpha^11*a^4*d^7 + 1/241920*alpha^11*a^3*b^8 + 1/30240*alpha^11*a^3*b^7*c + 1/30240*alpha^11*a^3*b^7*d + 1/8640*alpha^11*a^3*b^6*c^2 + 1/4320*alpha^11*a^3*b^6*c*d + 1/8640*alpha^11*a^3*b^6*d^2 + 1/4320*alpha^11*a^3*b^5*c^3 + 1/1440*alpha^11*a^3*b^5*c^2*d + 1/1440*alpha^11*a^3*b^5*c*d^2 + 1/4320*alpha^11*a^3*b^5*d^3 + 1/3456*alpha^11*a^3*b^4*c^4 + 1/864*alpha^11*a^3*b^4*c^3*d + 1/576*alpha^11*a^3*b^4*c^2*d^2 + 1/864*alpha^11*a^3*b^4*c*d^3 + 1/3456*alpha^11*a^3*b^4*d^4 + 1/4320*alpha^11*a^3*b^3*c^5 + 1/864*alpha^11*a^3*b^3*c^4*d + 1/432*alpha^11*a^3*b^3*c^3*d^2 + 1/432*alpha^11*a^3*b^3*c^2*d^3 + 1/864*alpha^11*a^3*b^3*c*d^4 + 1/4320*alpha^11*a^3*b^3*d^5 + 1/8640*alpha^11*a^3*b^2*c^6 + 1/1440*alpha^11*a^3*b^2*c^5*d + 1/576*alpha^11*a^3*b^2*c^4*d^2 + 1/432*alpha^11*a^3*b^2*c^3*d^3 + 1/576*alpha^11*a^3*b^2*c^2*d^4 + 1/1440*alpha^11*a^3*b^2*c*d^5 + 1/8640*alpha^11*a^3*b^2*d^6 + 1/30240*alpha^11*a^3*b*c^7 + 1/4320*alpha^11*a^3*b*c^6*d + 1/1440*alpha^11*a^3*b*c^5*d^2 + 1/864*alpha^11*a^3*b*c^4*d^3 + 1/864*alpha^11*a^3*b*c^3*d^4 + 1/1440*alpha^11*a^3*b*c^2*d^5 + 1/4320*alpha^11*a^3*b*c*d^6 + 1/30240*alpha^11*a^3*b*d^7 + 1/241920*alpha^11*a^3*c^8 + 1/30240*alpha^11*a^3*c^7*d + 1/8640*alpha^11*a^3*c^6*d^2 + 1/4320*alpha^11*a^3*c^5*d^3 + 1/3456*alpha^11*a^3*c^4*d^4 + 1/4320*alpha^11*a^3*c^3*d^5 + 1/8640*alpha^11*a^3*c^2*d^6 + 1/30240*alpha^11*a^3*c*d^7 + 1/241920*alpha^11*a^3*d^8 + 1/725760*alpha^11*a^2*b^9 + 1/80640*alpha^11*a^2*b^8*c + 1/80640*alpha^11*a^2*b^8*d + 1/20160*alpha^11*a^2*b^7*c^2 + 1/10080*alpha^11*a^2*b^7*c*d + 1/20160*alpha^11*a^2*b^7*d^2 + 1/8640*alpha^11*a^2*b^6*c^3 + 1/2880*alpha^11*a^2*b^6*c^2*d + 1/2880*alpha^11*a^2*b^6*c*d^2 + 1/8640*alpha^11*a^2*b^6*d^3 + 1/5760*alpha^11*a^2*b^5*c^4 + 1/1440*alpha^11*a^2*b^5*c^3*d + 1/960*alpha^11*a^2*b^5*c^2*d^2 + 1/1440*alpha^11*a^2*b^5*c*d^3 + 1/5760*alpha^11*a^2*b^5*d^4 + 1/5760*alpha^11*a^2*b^4*c^5 + 1/1152*alpha^11*a^2*b^4*c^4*d + 1/576*alpha^11*a^2*b^4*c^3*d^2 + 1/576*alpha^11*a^2*b^4*c^2*d^3 + 1/1152*alpha^11*a^2*b^4*c*d^4 + 1/5760*alpha^11*a^2*b^4*d^5 + 1/8640*alpha^11*a^2*b^3*c^6 + 1/1440*alpha^11*a^2*b^3*c^5*d + 1/576*alpha^11*a^2*b^3*c^4*d^2 + 1/432*alpha^11*a^2*b^3*c^3*d^3 + 1/576*alpha^11*a^2*b^3*c^2*d^4 + 1/1440*alpha^11*a^2*b^3*c*d^5 + 1/8640*alpha^11*a^2*b^3*d^6 + 1/20160*alpha^11*a^2*b^2*c^7 + 1/2880*alpha^11*a^2*b^2*c^6*d + 1/960*alpha^11*a^2*b^2*c^5*d^2 + 1/576*alpha^11*a^2*b^2*c^4*d^3 + 1/576*alpha^11*a^2*b^2*c^3*d^4 + 1/960*alpha^11*a^2*b^2*c^2*d^5 + 1/2880*alpha^11*a^2*b^2*c*d^6 + 1/20160*alpha^11*a^2*b^2*d^7 + 1/80640*alpha^11*a^2*b*c^8 + 1/10080*alpha^11*a^2*b*c^7*d + 1/2880*alpha^11*a^2*b*c^6*d^2 + 1/1440*alpha^11*a^2*b*c^5*d^3 + 1/1152*alpha^11*a^2*b*c^4*d^4 + 1/1440*alpha^11*a^2*b*c^3*d^5 + 1/2880*alpha^11*a^2*b*c^2*d^6 + 1/10080*alpha^11*a^2*b*c*d^7 + 1/80640*alpha^11*a^2*b*d^8 + 1/725760*alpha^11*a^2*c^9 + 1/80640*alpha^11*a^2*c^8*d + 1/20160*alpha^11*a^2*c^7*d^2 + 1/8640*alpha^11*a^2*c^6*d^3 + 1/5760*alpha^11*a^2*c^5*d^4 + 1/5760*alpha^11*a^2*c^4*d^5 + 1/8640*alpha^11*a^2*c^3*d^6 + 1/20160*alpha^11*a^2*c^2*d^7 + 1/80640*alpha^11*a^2*c*d^8 + 1/725760*alpha^11*a^2*d^9 + 1/3628800*alpha^11*a*b^10 + 1/362880*alpha^11*a*b^9*c + 1/362880*alpha^11*a*b^9*d + 1/80640*alpha^11*a*b^8*c^2 + 1/40320*alpha^11*a*b^8*c*d + 1/80640*alpha^11*a*b^8*d^2 + 1/30240*alpha^11*a*b^7*c^3 + 1/10080*alpha^11*a*b^7*c^2*d + 1/10080*alpha^11*a*b^7*c*d^2 + 1/30240*alpha^11*a*b^7*d^3 + 1/17280*alpha^11*a*b^6*c^4 + 1/4320*alpha^11*a*b^6*c^3*d + 1/2880*alpha^11*a*b^6*c^2*d^2 + 1/4320*alpha^11*a*b^6*c*d^3 + 1/17280*alpha^11*a*b^6*d^4 + 1/14400*alpha^11*a*b^5*c^5 + 1/2880*alpha^11*a*b^5*c^4*d + 1/1440*alpha^11*a*b^5*c^3*d^2 + 1/1440*alpha^11*a*b^5*c^2*d^3 + 1/2880*alpha^11*a*b^5*c*d^4 + 1/14400*alpha^11*a*b^5*d^5 + 1/17280*alpha^11*a*b^4*c^6 + 1/2880*alpha^11*a*b^4*c^5*d + 1/1152*alpha^11*a*b^4*c^4*d^2 + 1/864*alpha^11*a*b^4*c^3*d^3 + 1/1152*alpha^11*a*b^4*c^2*d^4 + 1/2880*alpha^11*a*b^4*c*d^5 + 1/17280*alpha^11*a*b^4*d^6 + 1/30240*alpha^11*a*b^3*c^7 + 1/4320*alpha^11*a*b^3*c^6*d + 1/1440*alpha^11*a*b^3*c^5*d^2 + 1/864*alpha^11*a*b^3*c^4*d^3 + 1/864*alpha^11*a*b^3*c^3*d^4 + 1/1440*alpha^11*a*b^3*c^2*d^5 + 1/4320*alpha^11*a*b^3*c*d^6 + 1/30240*alpha^11*a*b^3*d^7 + 1/80640*alpha^11*a*b^2*c^8 + 1/10080*alpha^11*a*b^2*c^7*d + 1/2880*alpha^11*a*b^2*c^6*d^2 + 1/1440*alpha^11*a*b^2*c^5*d^3 + 1/1152*alpha^11*a*b^2*c^4*d^4 + 1/1440*alpha^11*a*b^2*c^3*d^5 + 1/2880*alpha^11*a*b^2*c^2*d^6 + 1/10080*alpha^11*a*b^2*c*d^7 + 1/80640*alpha^11*a*b^2*d^8 + 1/362880*alpha^11*a*b*c^9 + 1/40320*alpha^11*a*b*c^8*d + 1/10080*alpha^11*a*b*c^7*d^2 + 1/4320*alpha^11*a*b*c^6*d^3 + 1/2880*alpha^11*a*b*c^5*d^4 + 1/2880*alpha^11*a*b*c^4*d^5 + 1/4320*alpha^11*a*b*c^3*d^6 + 1/10080*alpha^11*a*b*c^2*d^7 + 1/40320*alpha^11*a*b*c*d^8 + 1/362880*alpha^11*a*b*d^9 + 1/3628800*alpha^11*a*c^10 + 1/362880*alpha^11*a*c^9*d + 1/80640*alpha^11*a*c^8*d^2 + 1/30240*alpha^11*a*c^7*d^3 + 1/17280*alpha^11*a*c^6*d^4 + 1/14400*alpha^11*a*c^5*d^5 + 1/17280*alpha^11*a*c^4*d^6 + 1/30240*alpha^11*a*c^3*d^7 + 1/80640*alpha^11*a*c^2*d^8 + 1/362880*alpha^11*a*c*d^9 + 1/3628800*alpha^11*a*d^10 + 1/39916800*alpha^11*b^11 + 1/3628800*alpha^11*b^10*c + 1/3628800*alpha^11*b^10*d + 1/725760*alpha^11*b^9*c^2 + 1/362880*alpha^11*b^9*c*d + 1/725760*alpha^11*b^9*d^2 + 1/241920*alpha^11*b^8*c^3 + 1/80640*alpha^11*b^8*c^2*d + 1/80640*alpha^11*b^8*c*d^2 + 1/241920*alpha^11*b^8*d^3 + 1/120960*alpha^11*b^7*c^4 + 1/30240*alpha^11*b^7*c^3*d + 1/20160*alpha^11*b^7*c^2*d^2 + 1/30240*alpha^11*b^7*c*d^3 + 1/120960*alpha^11*b^7*d^4 + 1/86400*alpha^11*b^6*c^5 + 1/17280*alpha^11*b^6*c^4*d + 1/8640*alpha^11*b^6*c^3*d^2 + 1/8640*alpha^11*b^6*c^2*d^3 + 1/17280*alpha^11*b^6*c*d^4 + 1/86400*alpha^11*b^6*d^5 + 1/86400*alpha^11*b^5*c^6 + 1/14400*alpha^11*b^5*c^5*d + 1/5760*alpha^11*b^5*c^4*d^2 + 1/4320*alpha^11*b^5*c^3*d^3 + 1/5760*alpha^11*b^5*c^2*d^4 + 1/14400*alpha^11*b^5*c*d^5 + 1/86400*alpha^11*b^5*d^6 + 1/120960*alpha^11*b^4*c^7 + 1/17280*alpha^11*b^4*c^6*d + 1/5760*alpha^11*b^4*c^5*d^2 + 1/3456*alpha^11*b^4*c^4*d^3 + 1/3456*alpha^11*b^4*c^3*d^4 + 1/5760*alpha^11*b^4*c^2*d^5 + 1/17280*alpha^11*b^4*c*d^6 + 1/120960*alpha^11*b^4*d^7 + 1/241920*alpha^11*b^3*c^8 + 1/30240*alpha^11*b^3*c^7*d + 1/8640*alpha^11*b^3*c^6*d^2 + 1/4320*alpha^11*b^3*c^5*d^3 + 1/3456*alpha^11*b^3*c^4*d^4 + 1/4320*alpha^11*b^3*c^3*d^5 + 1/8640*alpha^11*b^3*c^2*d^6 + 1/30240*alpha^11*b^3*c*d^7 + 1/241920*alpha^11*b^3*d^8 + 1/725760*alpha^11*b^2*c^9 + 1/80640*alpha^11*b^2*c^8*d + 1/20160*alpha^11*b^2*c^7*d^2 + 1/8640*alpha^11*b^2*c^6*d^3 + 1/5760*alpha^11*b^2*c^5*d^4 + 1/5760*alpha^11*b^2*c^4*d^5 + 1/8640*alpha^11*b^2*c^3*d^6 + 1/20160*alpha^11*b^2*c^2*d^7 + 1/80640*alpha^11*b^2*c*d^8 + 1/725760*alpha^11*b^2*d^9 + 1/3628800*alpha^11*b*c^10 + 1/362880*alpha^11*b*c^9*d + 1/80640*alpha^11*b*c^8*d^2 + 1/30240*alpha^11*b*c^7*d^3 + 1/17280*alpha^11*b*c^6*d^4 + 1/14400*alpha^11*b*c^5*d^5 + 1/17280*alpha^11*b*c^4*d^6 + 1/30240*alpha^11*b*c^3*d^7 + 1/80640*alpha^11*b*c^2*d^8 + 1/362880*alpha^11*b*c*d^9 + 1/3628800*alpha^11*b*d^10 + 1/39916800*alpha^11*c^11 + 1/3628800*alpha^11*c^10*d + 1/725760*alpha^11*c^9*d^2 + 1/241920*alpha^11*c^8*d^3 + 1/120960*alpha^11*c^7*d^4 + 1/86400*alpha^11*c^6*d^5 + 1/86400*alpha^11*c^5*d^6 + 1/120960*alpha^11*c^4*d^7 + 1/241920*alpha^11*c^3*d^8 + 1/725760*alpha^11*c^2*d^9 + 1/3628800*alpha^11*c*d^10 + 1/39916800*alpha^11*d^11 + O(a, b, c, d)^12"
      ]
     },
     "execution_count": 30,
     "metadata": {},
     "output_type": "execute_result"
    }
   ],
   "source": [
    "exp(alpha*x)"
   ]
  },
  {
   "cell_type": "markdown",
   "metadata": {},
   "source": [
    "## Paper example"
   ]
  },
  {
   "cell_type": "markdown",
   "metadata": {},
   "source": [
    "### Infinite computation"
   ]
  },
  {
   "cell_type": "code",
   "execution_count": 31,
   "metadata": {},
   "outputs": [],
   "source": [
    "S.<alpha,beta> = QQ[]\n",
    "R.<A_a_A,A_b_B> = PowerSeriesRing(S,2)"
   ]
  },
  {
   "cell_type": "code",
   "execution_count": 32,
   "metadata": {},
   "outputs": [],
   "source": [
    "x = A_a_A + A_b_B"
   ]
  },
  {
   "cell_type": "code",
   "execution_count": 33,
   "metadata": {
    "scrolled": true
   },
   "outputs": [
    {
     "data": {
      "text/plain": [
       "1 + A_a_A + A_b_B + 1/2*A_a_A^2 + A_a_A*A_b_B + 1/2*A_b_B^2 + 1/6*A_a_A^3 + 1/2*A_a_A^2*A_b_B + 1/2*A_a_A*A_b_B^2 + 1/6*A_b_B^3 + 1/24*A_a_A^4 + 1/6*A_a_A^3*A_b_B + 1/4*A_a_A^2*A_b_B^2 + 1/6*A_a_A*A_b_B^3 + 1/24*A_b_B^4 + 1/120*A_a_A^5 + 1/24*A_a_A^4*A_b_B + 1/12*A_a_A^3*A_b_B^2 + 1/12*A_a_A^2*A_b_B^3 + 1/24*A_a_A*A_b_B^4 + 1/120*A_b_B^5 + 1/720*A_a_A^6 + 1/120*A_a_A^5*A_b_B + 1/48*A_a_A^4*A_b_B^2 + 1/36*A_a_A^3*A_b_B^3 + 1/48*A_a_A^2*A_b_B^4 + 1/120*A_a_A*A_b_B^5 + 1/720*A_b_B^6 + 1/5040*A_a_A^7 + 1/720*A_a_A^6*A_b_B + 1/240*A_a_A^5*A_b_B^2 + 1/144*A_a_A^4*A_b_B^3 + 1/144*A_a_A^3*A_b_B^4 + 1/240*A_a_A^2*A_b_B^5 + 1/720*A_a_A*A_b_B^6 + 1/5040*A_b_B^7 + 1/40320*A_a_A^8 + 1/5040*A_a_A^7*A_b_B + 1/1440*A_a_A^6*A_b_B^2 + 1/720*A_a_A^5*A_b_B^3 + 1/576*A_a_A^4*A_b_B^4 + 1/720*A_a_A^3*A_b_B^5 + 1/1440*A_a_A^2*A_b_B^6 + 1/5040*A_a_A*A_b_B^7 + 1/40320*A_b_B^8 + 1/362880*A_a_A^9 + 1/40320*A_a_A^8*A_b_B + 1/10080*A_a_A^7*A_b_B^2 + 1/4320*A_a_A^6*A_b_B^3 + 1/2880*A_a_A^5*A_b_B^4 + 1/2880*A_a_A^4*A_b_B^5 + 1/4320*A_a_A^3*A_b_B^6 + 1/10080*A_a_A^2*A_b_B^7 + 1/40320*A_a_A*A_b_B^8 + 1/362880*A_b_B^9 + 1/3628800*A_a_A^10 + 1/362880*A_a_A^9*A_b_B + 1/80640*A_a_A^8*A_b_B^2 + 1/30240*A_a_A^7*A_b_B^3 + 1/17280*A_a_A^6*A_b_B^4 + 1/14400*A_a_A^5*A_b_B^5 + 1/17280*A_a_A^4*A_b_B^6 + 1/30240*A_a_A^3*A_b_B^7 + 1/80640*A_a_A^2*A_b_B^8 + 1/362880*A_a_A*A_b_B^9 + 1/3628800*A_b_B^10 + 1/39916800*A_a_A^11 + 1/3628800*A_a_A^10*A_b_B + 1/725760*A_a_A^9*A_b_B^2 + 1/241920*A_a_A^8*A_b_B^3 + 1/120960*A_a_A^7*A_b_B^4 + 1/86400*A_a_A^6*A_b_B^5 + 1/86400*A_a_A^5*A_b_B^6 + 1/120960*A_a_A^4*A_b_B^7 + 1/241920*A_a_A^3*A_b_B^8 + 1/725760*A_a_A^2*A_b_B^9 + 1/3628800*A_a_A*A_b_B^10 + 1/39916800*A_b_B^11 + O(A_a_A, A_b_B)^12"
      ]
     },
     "execution_count": 33,
     "metadata": {},
     "output_type": "execute_result"
    }
   ],
   "source": [
    "exp(x)"
   ]
  },
  {
   "cell_type": "code",
   "execution_count": 34,
   "metadata": {},
   "outputs": [
    {
     "data": {
      "text/plain": [
       "1 + (alpha + beta)*A_a_A + (alpha + beta)*A_b_B + (1/2*alpha^2 + alpha*beta + 1/2*beta^2)*A_a_A^2 + (alpha^2 + 2*alpha*beta + beta^2)*A_a_A*A_b_B + (1/2*alpha^2 + alpha*beta + 1/2*beta^2)*A_b_B^2 + (1/6*alpha^3 + 1/2*alpha^2*beta + 1/2*alpha*beta^2 + 1/6*beta^3)*A_a_A^3 + (1/2*alpha^3 + 3/2*alpha^2*beta + 3/2*alpha*beta^2 + 1/2*beta^3)*A_a_A^2*A_b_B + (1/2*alpha^3 + 3/2*alpha^2*beta + 3/2*alpha*beta^2 + 1/2*beta^3)*A_a_A*A_b_B^2 + (1/6*alpha^3 + 1/2*alpha^2*beta + 1/2*alpha*beta^2 + 1/6*beta^3)*A_b_B^3 + (1/24*alpha^4 + 1/6*alpha^3*beta + 1/4*alpha^2*beta^2 + 1/6*alpha*beta^3 + 1/24*beta^4)*A_a_A^4 + (1/6*alpha^4 + 2/3*alpha^3*beta + alpha^2*beta^2 + 2/3*alpha*beta^3 + 1/6*beta^4)*A_a_A^3*A_b_B + (1/4*alpha^4 + alpha^3*beta + 3/2*alpha^2*beta^2 + alpha*beta^3 + 1/4*beta^4)*A_a_A^2*A_b_B^2 + (1/6*alpha^4 + 2/3*alpha^3*beta + alpha^2*beta^2 + 2/3*alpha*beta^3 + 1/6*beta^4)*A_a_A*A_b_B^3 + (1/24*alpha^4 + 1/6*alpha^3*beta + 1/4*alpha^2*beta^2 + 1/6*alpha*beta^3 + 1/24*beta^4)*A_b_B^4 + (1/120*alpha^5 + 1/24*alpha^4*beta + 1/12*alpha^3*beta^2 + 1/12*alpha^2*beta^3 + 1/24*alpha*beta^4 + 1/120*beta^5)*A_a_A^5 + (1/24*alpha^5 + 5/24*alpha^4*beta + 5/12*alpha^3*beta^2 + 5/12*alpha^2*beta^3 + 5/24*alpha*beta^4 + 1/24*beta^5)*A_a_A^4*A_b_B + (1/12*alpha^5 + 5/12*alpha^4*beta + 5/6*alpha^3*beta^2 + 5/6*alpha^2*beta^3 + 5/12*alpha*beta^4 + 1/12*beta^5)*A_a_A^3*A_b_B^2 + (1/12*alpha^5 + 5/12*alpha^4*beta + 5/6*alpha^3*beta^2 + 5/6*alpha^2*beta^3 + 5/12*alpha*beta^4 + 1/12*beta^5)*A_a_A^2*A_b_B^3 + (1/24*alpha^5 + 5/24*alpha^4*beta + 5/12*alpha^3*beta^2 + 5/12*alpha^2*beta^3 + 5/24*alpha*beta^4 + 1/24*beta^5)*A_a_A*A_b_B^4 + (1/120*alpha^5 + 1/24*alpha^4*beta + 1/12*alpha^3*beta^2 + 1/12*alpha^2*beta^3 + 1/24*alpha*beta^4 + 1/120*beta^5)*A_b_B^5 + (1/720*alpha^6 + 1/120*alpha^5*beta + 1/48*alpha^4*beta^2 + 1/36*alpha^3*beta^3 + 1/48*alpha^2*beta^4 + 1/120*alpha*beta^5 + 1/720*beta^6)*A_a_A^6 + (1/120*alpha^6 + 1/20*alpha^5*beta + 1/8*alpha^4*beta^2 + 1/6*alpha^3*beta^3 + 1/8*alpha^2*beta^4 + 1/20*alpha*beta^5 + 1/120*beta^6)*A_a_A^5*A_b_B + (1/48*alpha^6 + 1/8*alpha^5*beta + 5/16*alpha^4*beta^2 + 5/12*alpha^3*beta^3 + 5/16*alpha^2*beta^4 + 1/8*alpha*beta^5 + 1/48*beta^6)*A_a_A^4*A_b_B^2 + (1/36*alpha^6 + 1/6*alpha^5*beta + 5/12*alpha^4*beta^2 + 5/9*alpha^3*beta^3 + 5/12*alpha^2*beta^4 + 1/6*alpha*beta^5 + 1/36*beta^6)*A_a_A^3*A_b_B^3 + (1/48*alpha^6 + 1/8*alpha^5*beta + 5/16*alpha^4*beta^2 + 5/12*alpha^3*beta^3 + 5/16*alpha^2*beta^4 + 1/8*alpha*beta^5 + 1/48*beta^6)*A_a_A^2*A_b_B^4 + (1/120*alpha^6 + 1/20*alpha^5*beta + 1/8*alpha^4*beta^2 + 1/6*alpha^3*beta^3 + 1/8*alpha^2*beta^4 + 1/20*alpha*beta^5 + 1/120*beta^6)*A_a_A*A_b_B^5 + (1/720*alpha^6 + 1/120*alpha^5*beta + 1/48*alpha^4*beta^2 + 1/36*alpha^3*beta^3 + 1/48*alpha^2*beta^4 + 1/120*alpha*beta^5 + 1/720*beta^6)*A_b_B^6 + (1/5040*alpha^7 + 1/720*alpha^6*beta + 1/240*alpha^5*beta^2 + 1/144*alpha^4*beta^3 + 1/144*alpha^3*beta^4 + 1/240*alpha^2*beta^5 + 1/720*alpha*beta^6 + 1/5040*beta^7)*A_a_A^7 + (1/720*alpha^7 + 7/720*alpha^6*beta + 7/240*alpha^5*beta^2 + 7/144*alpha^4*beta^3 + 7/144*alpha^3*beta^4 + 7/240*alpha^2*beta^5 + 7/720*alpha*beta^6 + 1/720*beta^7)*A_a_A^6*A_b_B + (1/240*alpha^7 + 7/240*alpha^6*beta + 7/80*alpha^5*beta^2 + 7/48*alpha^4*beta^3 + 7/48*alpha^3*beta^4 + 7/80*alpha^2*beta^5 + 7/240*alpha*beta^6 + 1/240*beta^7)*A_a_A^5*A_b_B^2 + (1/144*alpha^7 + 7/144*alpha^6*beta + 7/48*alpha^5*beta^2 + 35/144*alpha^4*beta^3 + 35/144*alpha^3*beta^4 + 7/48*alpha^2*beta^5 + 7/144*alpha*beta^6 + 1/144*beta^7)*A_a_A^4*A_b_B^3 + (1/144*alpha^7 + 7/144*alpha^6*beta + 7/48*alpha^5*beta^2 + 35/144*alpha^4*beta^3 + 35/144*alpha^3*beta^4 + 7/48*alpha^2*beta^5 + 7/144*alpha*beta^6 + 1/144*beta^7)*A_a_A^3*A_b_B^4 + (1/240*alpha^7 + 7/240*alpha^6*beta + 7/80*alpha^5*beta^2 + 7/48*alpha^4*beta^3 + 7/48*alpha^3*beta^4 + 7/80*alpha^2*beta^5 + 7/240*alpha*beta^6 + 1/240*beta^7)*A_a_A^2*A_b_B^5 + (1/720*alpha^7 + 7/720*alpha^6*beta + 7/240*alpha^5*beta^2 + 7/144*alpha^4*beta^3 + 7/144*alpha^3*beta^4 + 7/240*alpha^2*beta^5 + 7/720*alpha*beta^6 + 1/720*beta^7)*A_a_A*A_b_B^6 + (1/5040*alpha^7 + 1/720*alpha^6*beta + 1/240*alpha^5*beta^2 + 1/144*alpha^4*beta^3 + 1/144*alpha^3*beta^4 + 1/240*alpha^2*beta^5 + 1/720*alpha*beta^6 + 1/5040*beta^7)*A_b_B^7 + (1/40320*alpha^8 + 1/5040*alpha^7*beta + 1/1440*alpha^6*beta^2 + 1/720*alpha^5*beta^3 + 1/576*alpha^4*beta^4 + 1/720*alpha^3*beta^5 + 1/1440*alpha^2*beta^6 + 1/5040*alpha*beta^7 + 1/40320*beta^8)*A_a_A^8 + (1/5040*alpha^8 + 1/630*alpha^7*beta + 1/180*alpha^6*beta^2 + 1/90*alpha^5*beta^3 + 1/72*alpha^4*beta^4 + 1/90*alpha^3*beta^5 + 1/180*alpha^2*beta^6 + 1/630*alpha*beta^7 + 1/5040*beta^8)*A_a_A^7*A_b_B + (1/1440*alpha^8 + 1/180*alpha^7*beta + 7/360*alpha^6*beta^2 + 7/180*alpha^5*beta^3 + 7/144*alpha^4*beta^4 + 7/180*alpha^3*beta^5 + 7/360*alpha^2*beta^6 + 1/180*alpha*beta^7 + 1/1440*beta^8)*A_a_A^6*A_b_B^2 + (1/720*alpha^8 + 1/90*alpha^7*beta + 7/180*alpha^6*beta^2 + 7/90*alpha^5*beta^3 + 7/72*alpha^4*beta^4 + 7/90*alpha^3*beta^5 + 7/180*alpha^2*beta^6 + 1/90*alpha*beta^7 + 1/720*beta^8)*A_a_A^5*A_b_B^3 + (1/576*alpha^8 + 1/72*alpha^7*beta + 7/144*alpha^6*beta^2 + 7/72*alpha^5*beta^3 + 35/288*alpha^4*beta^4 + 7/72*alpha^3*beta^5 + 7/144*alpha^2*beta^6 + 1/72*alpha*beta^7 + 1/576*beta^8)*A_a_A^4*A_b_B^4 + (1/720*alpha^8 + 1/90*alpha^7*beta + 7/180*alpha^6*beta^2 + 7/90*alpha^5*beta^3 + 7/72*alpha^4*beta^4 + 7/90*alpha^3*beta^5 + 7/180*alpha^2*beta^6 + 1/90*alpha*beta^7 + 1/720*beta^8)*A_a_A^3*A_b_B^5 + (1/1440*alpha^8 + 1/180*alpha^7*beta + 7/360*alpha^6*beta^2 + 7/180*alpha^5*beta^3 + 7/144*alpha^4*beta^4 + 7/180*alpha^3*beta^5 + 7/360*alpha^2*beta^6 + 1/180*alpha*beta^7 + 1/1440*beta^8)*A_a_A^2*A_b_B^6 + (1/5040*alpha^8 + 1/630*alpha^7*beta + 1/180*alpha^6*beta^2 + 1/90*alpha^5*beta^3 + 1/72*alpha^4*beta^4 + 1/90*alpha^3*beta^5 + 1/180*alpha^2*beta^6 + 1/630*alpha*beta^7 + 1/5040*beta^8)*A_a_A*A_b_B^7 + (1/40320*alpha^8 + 1/5040*alpha^7*beta + 1/1440*alpha^6*beta^2 + 1/720*alpha^5*beta^3 + 1/576*alpha^4*beta^4 + 1/720*alpha^3*beta^5 + 1/1440*alpha^2*beta^6 + 1/5040*alpha*beta^7 + 1/40320*beta^8)*A_b_B^8 + (1/362880*alpha^9 + 1/40320*alpha^8*beta + 1/10080*alpha^7*beta^2 + 1/4320*alpha^6*beta^3 + 1/2880*alpha^5*beta^4 + 1/2880*alpha^4*beta^5 + 1/4320*alpha^3*beta^6 + 1/10080*alpha^2*beta^7 + 1/40320*alpha*beta^8 + 1/362880*beta^9)*A_a_A^9 + (1/40320*alpha^9 + 1/4480*alpha^8*beta + 1/1120*alpha^7*beta^2 + 1/480*alpha^6*beta^3 + 1/320*alpha^5*beta^4 + 1/320*alpha^4*beta^5 + 1/480*alpha^3*beta^6 + 1/1120*alpha^2*beta^7 + 1/4480*alpha*beta^8 + 1/40320*beta^9)*A_a_A^8*A_b_B + (1/10080*alpha^9 + 1/1120*alpha^8*beta + 1/280*alpha^7*beta^2 + 1/120*alpha^6*beta^3 + 1/80*alpha^5*beta^4 + 1/80*alpha^4*beta^5 + 1/120*alpha^3*beta^6 + 1/280*alpha^2*beta^7 + 1/1120*alpha*beta^8 + 1/10080*beta^9)*A_a_A^7*A_b_B^2 + (1/4320*alpha^9 + 1/480*alpha^8*beta + 1/120*alpha^7*beta^2 + 7/360*alpha^6*beta^3 + 7/240*alpha^5*beta^4 + 7/240*alpha^4*beta^5 + 7/360*alpha^3*beta^6 + 1/120*alpha^2*beta^7 + 1/480*alpha*beta^8 + 1/4320*beta^9)*A_a_A^6*A_b_B^3 + (1/2880*alpha^9 + 1/320*alpha^8*beta + 1/80*alpha^7*beta^2 + 7/240*alpha^6*beta^3 + 7/160*alpha^5*beta^4 + 7/160*alpha^4*beta^5 + 7/240*alpha^3*beta^6 + 1/80*alpha^2*beta^7 + 1/320*alpha*beta^8 + 1/2880*beta^9)*A_a_A^5*A_b_B^4 + (1/2880*alpha^9 + 1/320*alpha^8*beta + 1/80*alpha^7*beta^2 + 7/240*alpha^6*beta^3 + 7/160*alpha^5*beta^4 + 7/160*alpha^4*beta^5 + 7/240*alpha^3*beta^6 + 1/80*alpha^2*beta^7 + 1/320*alpha*beta^8 + 1/2880*beta^9)*A_a_A^4*A_b_B^5 + (1/4320*alpha^9 + 1/480*alpha^8*beta + 1/120*alpha^7*beta^2 + 7/360*alpha^6*beta^3 + 7/240*alpha^5*beta^4 + 7/240*alpha^4*beta^5 + 7/360*alpha^3*beta^6 + 1/120*alpha^2*beta^7 + 1/480*alpha*beta^8 + 1/4320*beta^9)*A_a_A^3*A_b_B^6 + (1/10080*alpha^9 + 1/1120*alpha^8*beta + 1/280*alpha^7*beta^2 + 1/120*alpha^6*beta^3 + 1/80*alpha^5*beta^4 + 1/80*alpha^4*beta^5 + 1/120*alpha^3*beta^6 + 1/280*alpha^2*beta^7 + 1/1120*alpha*beta^8 + 1/10080*beta^9)*A_a_A^2*A_b_B^7 + (1/40320*alpha^9 + 1/4480*alpha^8*beta + 1/1120*alpha^7*beta^2 + 1/480*alpha^6*beta^3 + 1/320*alpha^5*beta^4 + 1/320*alpha^4*beta^5 + 1/480*alpha^3*beta^6 + 1/1120*alpha^2*beta^7 + 1/4480*alpha*beta^8 + 1/40320*beta^9)*A_a_A*A_b_B^8 + (1/362880*alpha^9 + 1/40320*alpha^8*beta + 1/10080*alpha^7*beta^2 + 1/4320*alpha^6*beta^3 + 1/2880*alpha^5*beta^4 + 1/2880*alpha^4*beta^5 + 1/4320*alpha^3*beta^6 + 1/10080*alpha^2*beta^7 + 1/40320*alpha*beta^8 + 1/362880*beta^9)*A_b_B^9 + (1/3628800*alpha^10 + 1/362880*alpha^9*beta + 1/80640*alpha^8*beta^2 + 1/30240*alpha^7*beta^3 + 1/17280*alpha^6*beta^4 + 1/14400*alpha^5*beta^5 + 1/17280*alpha^4*beta^6 + 1/30240*alpha^3*beta^7 + 1/80640*alpha^2*beta^8 + 1/362880*alpha*beta^9 + 1/3628800*beta^10)*A_a_A^10 + (1/362880*alpha^10 + 1/36288*alpha^9*beta + 1/8064*alpha^8*beta^2 + 1/3024*alpha^7*beta^3 + 1/1728*alpha^6*beta^4 + 1/1440*alpha^5*beta^5 + 1/1728*alpha^4*beta^6 + 1/3024*alpha^3*beta^7 + 1/8064*alpha^2*beta^8 + 1/36288*alpha*beta^9 + 1/362880*beta^10)*A_a_A^9*A_b_B + (1/80640*alpha^10 + 1/8064*alpha^9*beta + 1/1792*alpha^8*beta^2 + 1/672*alpha^7*beta^3 + 1/384*alpha^6*beta^4 + 1/320*alpha^5*beta^5 + 1/384*alpha^4*beta^6 + 1/672*alpha^3*beta^7 + 1/1792*alpha^2*beta^8 + 1/8064*alpha*beta^9 + 1/80640*beta^10)*A_a_A^8*A_b_B^2 + (1/30240*alpha^10 + 1/3024*alpha^9*beta + 1/672*alpha^8*beta^2 + 1/252*alpha^7*beta^3 + 1/144*alpha^6*beta^4 + 1/120*alpha^5*beta^5 + 1/144*alpha^4*beta^6 + 1/252*alpha^3*beta^7 + 1/672*alpha^2*beta^8 + 1/3024*alpha*beta^9 + 1/30240*beta^10)*A_a_A^7*A_b_B^3 + (1/17280*alpha^10 + 1/1728*alpha^9*beta + 1/384*alpha^8*beta^2 + 1/144*alpha^7*beta^3 + 7/576*alpha^6*beta^4 + 7/480*alpha^5*beta^5 + 7/576*alpha^4*beta^6 + 1/144*alpha^3*beta^7 + 1/384*alpha^2*beta^8 + 1/1728*alpha*beta^9 + 1/17280*beta^10)*A_a_A^6*A_b_B^4 + (1/14400*alpha^10 + 1/1440*alpha^9*beta + 1/320*alpha^8*beta^2 + 1/120*alpha^7*beta^3 + 7/480*alpha^6*beta^4 + 7/400*alpha^5*beta^5 + 7/480*alpha^4*beta^6 + 1/120*alpha^3*beta^7 + 1/320*alpha^2*beta^8 + 1/1440*alpha*beta^9 + 1/14400*beta^10)*A_a_A^5*A_b_B^5 + (1/17280*alpha^10 + 1/1728*alpha^9*beta + 1/384*alpha^8*beta^2 + 1/144*alpha^7*beta^3 + 7/576*alpha^6*beta^4 + 7/480*alpha^5*beta^5 + 7/576*alpha^4*beta^6 + 1/144*alpha^3*beta^7 + 1/384*alpha^2*beta^8 + 1/1728*alpha*beta^9 + 1/17280*beta^10)*A_a_A^4*A_b_B^6 + (1/30240*alpha^10 + 1/3024*alpha^9*beta + 1/672*alpha^8*beta^2 + 1/252*alpha^7*beta^3 + 1/144*alpha^6*beta^4 + 1/120*alpha^5*beta^5 + 1/144*alpha^4*beta^6 + 1/252*alpha^3*beta^7 + 1/672*alpha^2*beta^8 + 1/3024*alpha*beta^9 + 1/30240*beta^10)*A_a_A^3*A_b_B^7 + (1/80640*alpha^10 + 1/8064*alpha^9*beta + 1/1792*alpha^8*beta^2 + 1/672*alpha^7*beta^3 + 1/384*alpha^6*beta^4 + 1/320*alpha^5*beta^5 + 1/384*alpha^4*beta^6 + 1/672*alpha^3*beta^7 + 1/1792*alpha^2*beta^8 + 1/8064*alpha*beta^9 + 1/80640*beta^10)*A_a_A^2*A_b_B^8 + (1/362880*alpha^10 + 1/36288*alpha^9*beta + 1/8064*alpha^8*beta^2 + 1/3024*alpha^7*beta^3 + 1/1728*alpha^6*beta^4 + 1/1440*alpha^5*beta^5 + 1/1728*alpha^4*beta^6 + 1/3024*alpha^3*beta^7 + 1/8064*alpha^2*beta^8 + 1/36288*alpha*beta^9 + 1/362880*beta^10)*A_a_A*A_b_B^9 + (1/3628800*alpha^10 + 1/362880*alpha^9*beta + 1/80640*alpha^8*beta^2 + 1/30240*alpha^7*beta^3 + 1/17280*alpha^6*beta^4 + 1/14400*alpha^5*beta^5 + 1/17280*alpha^4*beta^6 + 1/30240*alpha^3*beta^7 + 1/80640*alpha^2*beta^8 + 1/362880*alpha*beta^9 + 1/3628800*beta^10)*A_b_B^10 + (1/39916800*alpha^11 + 1/3628800*alpha^10*beta + 1/725760*alpha^9*beta^2 + 1/241920*alpha^8*beta^3 + 1/120960*alpha^7*beta^4 + 1/86400*alpha^6*beta^5 + 1/86400*alpha^5*beta^6 + 1/120960*alpha^4*beta^7 + 1/241920*alpha^3*beta^8 + 1/725760*alpha^2*beta^9 + 1/3628800*alpha*beta^10 + 1/39916800*beta^11)*A_a_A^11 + (1/3628800*alpha^11 + 11/3628800*alpha^10*beta + 11/725760*alpha^9*beta^2 + 11/241920*alpha^8*beta^3 + 11/120960*alpha^7*beta^4 + 11/86400*alpha^6*beta^5 + 11/86400*alpha^5*beta^6 + 11/120960*alpha^4*beta^7 + 11/241920*alpha^3*beta^8 + 11/725760*alpha^2*beta^9 + 11/3628800*alpha*beta^10 + 1/3628800*beta^11)*A_a_A^10*A_b_B + (1/725760*alpha^11 + 11/725760*alpha^10*beta + 11/145152*alpha^9*beta^2 + 11/48384*alpha^8*beta^3 + 11/24192*alpha^7*beta^4 + 11/17280*alpha^6*beta^5 + 11/17280*alpha^5*beta^6 + 11/24192*alpha^4*beta^7 + 11/48384*alpha^3*beta^8 + 11/145152*alpha^2*beta^9 + 11/725760*alpha*beta^10 + 1/725760*beta^11)*A_a_A^9*A_b_B^2 + (1/241920*alpha^11 + 11/241920*alpha^10*beta + 11/48384*alpha^9*beta^2 + 11/16128*alpha^8*beta^3 + 11/8064*alpha^7*beta^4 + 11/5760*alpha^6*beta^5 + 11/5760*alpha^5*beta^6 + 11/8064*alpha^4*beta^7 + 11/16128*alpha^3*beta^8 + 11/48384*alpha^2*beta^9 + 11/241920*alpha*beta^10 + 1/241920*beta^11)*A_a_A^8*A_b_B^3 + (1/120960*alpha^11 + 11/120960*alpha^10*beta + 11/24192*alpha^9*beta^2 + 11/8064*alpha^8*beta^3 + 11/4032*alpha^7*beta^4 + 11/2880*alpha^6*beta^5 + 11/2880*alpha^5*beta^6 + 11/4032*alpha^4*beta^7 + 11/8064*alpha^3*beta^8 + 11/24192*alpha^2*beta^9 + 11/120960*alpha*beta^10 + 1/120960*beta^11)*A_a_A^7*A_b_B^4 + (1/86400*alpha^11 + 11/86400*alpha^10*beta + 11/17280*alpha^9*beta^2 + 11/5760*alpha^8*beta^3 + 11/2880*alpha^7*beta^4 + 77/14400*alpha^6*beta^5 + 77/14400*alpha^5*beta^6 + 11/2880*alpha^4*beta^7 + 11/5760*alpha^3*beta^8 + 11/17280*alpha^2*beta^9 + 11/86400*alpha*beta^10 + 1/86400*beta^11)*A_a_A^6*A_b_B^5 + (1/86400*alpha^11 + 11/86400*alpha^10*beta + 11/17280*alpha^9*beta^2 + 11/5760*alpha^8*beta^3 + 11/2880*alpha^7*beta^4 + 77/14400*alpha^6*beta^5 + 77/14400*alpha^5*beta^6 + 11/2880*alpha^4*beta^7 + 11/5760*alpha^3*beta^8 + 11/17280*alpha^2*beta^9 + 11/86400*alpha*beta^10 + 1/86400*beta^11)*A_a_A^5*A_b_B^6 + (1/120960*alpha^11 + 11/120960*alpha^10*beta + 11/24192*alpha^9*beta^2 + 11/8064*alpha^8*beta^3 + 11/4032*alpha^7*beta^4 + 11/2880*alpha^6*beta^5 + 11/2880*alpha^5*beta^6 + 11/4032*alpha^4*beta^7 + 11/8064*alpha^3*beta^8 + 11/24192*alpha^2*beta^9 + 11/120960*alpha*beta^10 + 1/120960*beta^11)*A_a_A^4*A_b_B^7 + (1/241920*alpha^11 + 11/241920*alpha^10*beta + 11/48384*alpha^9*beta^2 + 11/16128*alpha^8*beta^3 + 11/8064*alpha^7*beta^4 + 11/5760*alpha^6*beta^5 + 11/5760*alpha^5*beta^6 + 11/8064*alpha^4*beta^7 + 11/16128*alpha^3*beta^8 + 11/48384*alpha^2*beta^9 + 11/241920*alpha*beta^10 + 1/241920*beta^11)*A_a_A^3*A_b_B^8 + (1/725760*alpha^11 + 11/725760*alpha^10*beta + 11/145152*alpha^9*beta^2 + 11/48384*alpha^8*beta^3 + 11/24192*alpha^7*beta^4 + 11/17280*alpha^6*beta^5 + 11/17280*alpha^5*beta^6 + 11/24192*alpha^4*beta^7 + 11/48384*alpha^3*beta^8 + 11/145152*alpha^2*beta^9 + 11/725760*alpha*beta^10 + 1/725760*beta^11)*A_a_A^2*A_b_B^9 + (1/3628800*alpha^11 + 11/3628800*alpha^10*beta + 11/725760*alpha^9*beta^2 + 11/241920*alpha^8*beta^3 + 11/120960*alpha^7*beta^4 + 11/86400*alpha^6*beta^5 + 11/86400*alpha^5*beta^6 + 11/120960*alpha^4*beta^7 + 11/241920*alpha^3*beta^8 + 11/725760*alpha^2*beta^9 + 11/3628800*alpha*beta^10 + 1/3628800*beta^11)*A_a_A*A_b_B^10 + (1/39916800*alpha^11 + 1/3628800*alpha^10*beta + 1/725760*alpha^9*beta^2 + 1/241920*alpha^8*beta^3 + 1/120960*alpha^7*beta^4 + 1/86400*alpha^6*beta^5 + 1/86400*alpha^5*beta^6 + 1/120960*alpha^4*beta^7 + 1/241920*alpha^3*beta^8 + 1/725760*alpha^2*beta^9 + 1/3628800*alpha*beta^10 + 1/39916800*beta^11)*A_b_B^11 + O(A_a_A, A_b_B)^12"
      ]
     },
     "execution_count": 34,
     "metadata": {},
     "output_type": "execute_result"
    }
   ],
   "source": [
    "exp(alpha*x)*exp(beta*x)"
   ]
  },
  {
   "cell_type": "code",
   "execution_count": 35,
   "metadata": {},
   "outputs": [
    {
     "data": {
      "text/plain": [
       "1 + (alpha + beta)*A_a_A + (alpha + beta)*A_b_B + (1/2*alpha^2 + alpha*beta + 1/2*beta^2)*A_a_A^2 + (alpha^2 + 2*alpha*beta + beta^2)*A_a_A*A_b_B + (1/2*alpha^2 + alpha*beta + 1/2*beta^2)*A_b_B^2 + (1/6*alpha^3 + 1/2*alpha^2*beta + 1/2*alpha*beta^2 + 1/6*beta^3)*A_a_A^3 + (1/2*alpha^3 + 3/2*alpha^2*beta + 3/2*alpha*beta^2 + 1/2*beta^3)*A_a_A^2*A_b_B + (1/2*alpha^3 + 3/2*alpha^2*beta + 3/2*alpha*beta^2 + 1/2*beta^3)*A_a_A*A_b_B^2 + (1/6*alpha^3 + 1/2*alpha^2*beta + 1/2*alpha*beta^2 + 1/6*beta^3)*A_b_B^3 + (1/24*alpha^4 + 1/6*alpha^3*beta + 1/4*alpha^2*beta^2 + 1/6*alpha*beta^3 + 1/24*beta^4)*A_a_A^4 + (1/6*alpha^4 + 2/3*alpha^3*beta + alpha^2*beta^2 + 2/3*alpha*beta^3 + 1/6*beta^4)*A_a_A^3*A_b_B + (1/4*alpha^4 + alpha^3*beta + 3/2*alpha^2*beta^2 + alpha*beta^3 + 1/4*beta^4)*A_a_A^2*A_b_B^2 + (1/6*alpha^4 + 2/3*alpha^3*beta + alpha^2*beta^2 + 2/3*alpha*beta^3 + 1/6*beta^4)*A_a_A*A_b_B^3 + (1/24*alpha^4 + 1/6*alpha^3*beta + 1/4*alpha^2*beta^2 + 1/6*alpha*beta^3 + 1/24*beta^4)*A_b_B^4 + (1/120*alpha^5 + 1/24*alpha^4*beta + 1/12*alpha^3*beta^2 + 1/12*alpha^2*beta^3 + 1/24*alpha*beta^4 + 1/120*beta^5)*A_a_A^5 + (1/24*alpha^5 + 5/24*alpha^4*beta + 5/12*alpha^3*beta^2 + 5/12*alpha^2*beta^3 + 5/24*alpha*beta^4 + 1/24*beta^5)*A_a_A^4*A_b_B + (1/12*alpha^5 + 5/12*alpha^4*beta + 5/6*alpha^3*beta^2 + 5/6*alpha^2*beta^3 + 5/12*alpha*beta^4 + 1/12*beta^5)*A_a_A^3*A_b_B^2 + (1/12*alpha^5 + 5/12*alpha^4*beta + 5/6*alpha^3*beta^2 + 5/6*alpha^2*beta^3 + 5/12*alpha*beta^4 + 1/12*beta^5)*A_a_A^2*A_b_B^3 + (1/24*alpha^5 + 5/24*alpha^4*beta + 5/12*alpha^3*beta^2 + 5/12*alpha^2*beta^3 + 5/24*alpha*beta^4 + 1/24*beta^5)*A_a_A*A_b_B^4 + (1/120*alpha^5 + 1/24*alpha^4*beta + 1/12*alpha^3*beta^2 + 1/12*alpha^2*beta^3 + 1/24*alpha*beta^4 + 1/120*beta^5)*A_b_B^5 + (1/720*alpha^6 + 1/120*alpha^5*beta + 1/48*alpha^4*beta^2 + 1/36*alpha^3*beta^3 + 1/48*alpha^2*beta^4 + 1/120*alpha*beta^5 + 1/720*beta^6)*A_a_A^6 + (1/120*alpha^6 + 1/20*alpha^5*beta + 1/8*alpha^4*beta^2 + 1/6*alpha^3*beta^3 + 1/8*alpha^2*beta^4 + 1/20*alpha*beta^5 + 1/120*beta^6)*A_a_A^5*A_b_B + (1/48*alpha^6 + 1/8*alpha^5*beta + 5/16*alpha^4*beta^2 + 5/12*alpha^3*beta^3 + 5/16*alpha^2*beta^4 + 1/8*alpha*beta^5 + 1/48*beta^6)*A_a_A^4*A_b_B^2 + (1/36*alpha^6 + 1/6*alpha^5*beta + 5/12*alpha^4*beta^2 + 5/9*alpha^3*beta^3 + 5/12*alpha^2*beta^4 + 1/6*alpha*beta^5 + 1/36*beta^6)*A_a_A^3*A_b_B^3 + (1/48*alpha^6 + 1/8*alpha^5*beta + 5/16*alpha^4*beta^2 + 5/12*alpha^3*beta^3 + 5/16*alpha^2*beta^4 + 1/8*alpha*beta^5 + 1/48*beta^6)*A_a_A^2*A_b_B^4 + (1/120*alpha^6 + 1/20*alpha^5*beta + 1/8*alpha^4*beta^2 + 1/6*alpha^3*beta^3 + 1/8*alpha^2*beta^4 + 1/20*alpha*beta^5 + 1/120*beta^6)*A_a_A*A_b_B^5 + (1/720*alpha^6 + 1/120*alpha^5*beta + 1/48*alpha^4*beta^2 + 1/36*alpha^3*beta^3 + 1/48*alpha^2*beta^4 + 1/120*alpha*beta^5 + 1/720*beta^6)*A_b_B^6 + (1/5040*alpha^7 + 1/720*alpha^6*beta + 1/240*alpha^5*beta^2 + 1/144*alpha^4*beta^3 + 1/144*alpha^3*beta^4 + 1/240*alpha^2*beta^5 + 1/720*alpha*beta^6 + 1/5040*beta^7)*A_a_A^7 + (1/720*alpha^7 + 7/720*alpha^6*beta + 7/240*alpha^5*beta^2 + 7/144*alpha^4*beta^3 + 7/144*alpha^3*beta^4 + 7/240*alpha^2*beta^5 + 7/720*alpha*beta^6 + 1/720*beta^7)*A_a_A^6*A_b_B + (1/240*alpha^7 + 7/240*alpha^6*beta + 7/80*alpha^5*beta^2 + 7/48*alpha^4*beta^3 + 7/48*alpha^3*beta^4 + 7/80*alpha^2*beta^5 + 7/240*alpha*beta^6 + 1/240*beta^7)*A_a_A^5*A_b_B^2 + (1/144*alpha^7 + 7/144*alpha^6*beta + 7/48*alpha^5*beta^2 + 35/144*alpha^4*beta^3 + 35/144*alpha^3*beta^4 + 7/48*alpha^2*beta^5 + 7/144*alpha*beta^6 + 1/144*beta^7)*A_a_A^4*A_b_B^3 + (1/144*alpha^7 + 7/144*alpha^6*beta + 7/48*alpha^5*beta^2 + 35/144*alpha^4*beta^3 + 35/144*alpha^3*beta^4 + 7/48*alpha^2*beta^5 + 7/144*alpha*beta^6 + 1/144*beta^7)*A_a_A^3*A_b_B^4 + (1/240*alpha^7 + 7/240*alpha^6*beta + 7/80*alpha^5*beta^2 + 7/48*alpha^4*beta^3 + 7/48*alpha^3*beta^4 + 7/80*alpha^2*beta^5 + 7/240*alpha*beta^6 + 1/240*beta^7)*A_a_A^2*A_b_B^5 + (1/720*alpha^7 + 7/720*alpha^6*beta + 7/240*alpha^5*beta^2 + 7/144*alpha^4*beta^3 + 7/144*alpha^3*beta^4 + 7/240*alpha^2*beta^5 + 7/720*alpha*beta^6 + 1/720*beta^7)*A_a_A*A_b_B^6 + (1/5040*alpha^7 + 1/720*alpha^6*beta + 1/240*alpha^5*beta^2 + 1/144*alpha^4*beta^3 + 1/144*alpha^3*beta^4 + 1/240*alpha^2*beta^5 + 1/720*alpha*beta^6 + 1/5040*beta^7)*A_b_B^7 + (1/40320*alpha^8 + 1/5040*alpha^7*beta + 1/1440*alpha^6*beta^2 + 1/720*alpha^5*beta^3 + 1/576*alpha^4*beta^4 + 1/720*alpha^3*beta^5 + 1/1440*alpha^2*beta^6 + 1/5040*alpha*beta^7 + 1/40320*beta^8)*A_a_A^8 + (1/5040*alpha^8 + 1/630*alpha^7*beta + 1/180*alpha^6*beta^2 + 1/90*alpha^5*beta^3 + 1/72*alpha^4*beta^4 + 1/90*alpha^3*beta^5 + 1/180*alpha^2*beta^6 + 1/630*alpha*beta^7 + 1/5040*beta^8)*A_a_A^7*A_b_B + (1/1440*alpha^8 + 1/180*alpha^7*beta + 7/360*alpha^6*beta^2 + 7/180*alpha^5*beta^3 + 7/144*alpha^4*beta^4 + 7/180*alpha^3*beta^5 + 7/360*alpha^2*beta^6 + 1/180*alpha*beta^7 + 1/1440*beta^8)*A_a_A^6*A_b_B^2 + (1/720*alpha^8 + 1/90*alpha^7*beta + 7/180*alpha^6*beta^2 + 7/90*alpha^5*beta^3 + 7/72*alpha^4*beta^4 + 7/90*alpha^3*beta^5 + 7/180*alpha^2*beta^6 + 1/90*alpha*beta^7 + 1/720*beta^8)*A_a_A^5*A_b_B^3 + (1/576*alpha^8 + 1/72*alpha^7*beta + 7/144*alpha^6*beta^2 + 7/72*alpha^5*beta^3 + 35/288*alpha^4*beta^4 + 7/72*alpha^3*beta^5 + 7/144*alpha^2*beta^6 + 1/72*alpha*beta^7 + 1/576*beta^8)*A_a_A^4*A_b_B^4 + (1/720*alpha^8 + 1/90*alpha^7*beta + 7/180*alpha^6*beta^2 + 7/90*alpha^5*beta^3 + 7/72*alpha^4*beta^4 + 7/90*alpha^3*beta^5 + 7/180*alpha^2*beta^6 + 1/90*alpha*beta^7 + 1/720*beta^8)*A_a_A^3*A_b_B^5 + (1/1440*alpha^8 + 1/180*alpha^7*beta + 7/360*alpha^6*beta^2 + 7/180*alpha^5*beta^3 + 7/144*alpha^4*beta^4 + 7/180*alpha^3*beta^5 + 7/360*alpha^2*beta^6 + 1/180*alpha*beta^7 + 1/1440*beta^8)*A_a_A^2*A_b_B^6 + (1/5040*alpha^8 + 1/630*alpha^7*beta + 1/180*alpha^6*beta^2 + 1/90*alpha^5*beta^3 + 1/72*alpha^4*beta^4 + 1/90*alpha^3*beta^5 + 1/180*alpha^2*beta^6 + 1/630*alpha*beta^7 + 1/5040*beta^8)*A_a_A*A_b_B^7 + (1/40320*alpha^8 + 1/5040*alpha^7*beta + 1/1440*alpha^6*beta^2 + 1/720*alpha^5*beta^3 + 1/576*alpha^4*beta^4 + 1/720*alpha^3*beta^5 + 1/1440*alpha^2*beta^6 + 1/5040*alpha*beta^7 + 1/40320*beta^8)*A_b_B^8 + (1/362880*alpha^9 + 1/40320*alpha^8*beta + 1/10080*alpha^7*beta^2 + 1/4320*alpha^6*beta^3 + 1/2880*alpha^5*beta^4 + 1/2880*alpha^4*beta^5 + 1/4320*alpha^3*beta^6 + 1/10080*alpha^2*beta^7 + 1/40320*alpha*beta^8 + 1/362880*beta^9)*A_a_A^9 + (1/40320*alpha^9 + 1/4480*alpha^8*beta + 1/1120*alpha^7*beta^2 + 1/480*alpha^6*beta^3 + 1/320*alpha^5*beta^4 + 1/320*alpha^4*beta^5 + 1/480*alpha^3*beta^6 + 1/1120*alpha^2*beta^7 + 1/4480*alpha*beta^8 + 1/40320*beta^9)*A_a_A^8*A_b_B + (1/10080*alpha^9 + 1/1120*alpha^8*beta + 1/280*alpha^7*beta^2 + 1/120*alpha^6*beta^3 + 1/80*alpha^5*beta^4 + 1/80*alpha^4*beta^5 + 1/120*alpha^3*beta^6 + 1/280*alpha^2*beta^7 + 1/1120*alpha*beta^8 + 1/10080*beta^9)*A_a_A^7*A_b_B^2 + (1/4320*alpha^9 + 1/480*alpha^8*beta + 1/120*alpha^7*beta^2 + 7/360*alpha^6*beta^3 + 7/240*alpha^5*beta^4 + 7/240*alpha^4*beta^5 + 7/360*alpha^3*beta^6 + 1/120*alpha^2*beta^7 + 1/480*alpha*beta^8 + 1/4320*beta^9)*A_a_A^6*A_b_B^3 + (1/2880*alpha^9 + 1/320*alpha^8*beta + 1/80*alpha^7*beta^2 + 7/240*alpha^6*beta^3 + 7/160*alpha^5*beta^4 + 7/160*alpha^4*beta^5 + 7/240*alpha^3*beta^6 + 1/80*alpha^2*beta^7 + 1/320*alpha*beta^8 + 1/2880*beta^9)*A_a_A^5*A_b_B^4 + (1/2880*alpha^9 + 1/320*alpha^8*beta + 1/80*alpha^7*beta^2 + 7/240*alpha^6*beta^3 + 7/160*alpha^5*beta^4 + 7/160*alpha^4*beta^5 + 7/240*alpha^3*beta^6 + 1/80*alpha^2*beta^7 + 1/320*alpha*beta^8 + 1/2880*beta^9)*A_a_A^4*A_b_B^5 + (1/4320*alpha^9 + 1/480*alpha^8*beta + 1/120*alpha^7*beta^2 + 7/360*alpha^6*beta^3 + 7/240*alpha^5*beta^4 + 7/240*alpha^4*beta^5 + 7/360*alpha^3*beta^6 + 1/120*alpha^2*beta^7 + 1/480*alpha*beta^8 + 1/4320*beta^9)*A_a_A^3*A_b_B^6 + (1/10080*alpha^9 + 1/1120*alpha^8*beta + 1/280*alpha^7*beta^2 + 1/120*alpha^6*beta^3 + 1/80*alpha^5*beta^4 + 1/80*alpha^4*beta^5 + 1/120*alpha^3*beta^6 + 1/280*alpha^2*beta^7 + 1/1120*alpha*beta^8 + 1/10080*beta^9)*A_a_A^2*A_b_B^7 + (1/40320*alpha^9 + 1/4480*alpha^8*beta + 1/1120*alpha^7*beta^2 + 1/480*alpha^6*beta^3 + 1/320*alpha^5*beta^4 + 1/320*alpha^4*beta^5 + 1/480*alpha^3*beta^6 + 1/1120*alpha^2*beta^7 + 1/4480*alpha*beta^8 + 1/40320*beta^9)*A_a_A*A_b_B^8 + (1/362880*alpha^9 + 1/40320*alpha^8*beta + 1/10080*alpha^7*beta^2 + 1/4320*alpha^6*beta^3 + 1/2880*alpha^5*beta^4 + 1/2880*alpha^4*beta^5 + 1/4320*alpha^3*beta^6 + 1/10080*alpha^2*beta^7 + 1/40320*alpha*beta^8 + 1/362880*beta^9)*A_b_B^9 + (1/3628800*alpha^10 + 1/362880*alpha^9*beta + 1/80640*alpha^8*beta^2 + 1/30240*alpha^7*beta^3 + 1/17280*alpha^6*beta^4 + 1/14400*alpha^5*beta^5 + 1/17280*alpha^4*beta^6 + 1/30240*alpha^3*beta^7 + 1/80640*alpha^2*beta^8 + 1/362880*alpha*beta^9 + 1/3628800*beta^10)*A_a_A^10 + (1/362880*alpha^10 + 1/36288*alpha^9*beta + 1/8064*alpha^8*beta^2 + 1/3024*alpha^7*beta^3 + 1/1728*alpha^6*beta^4 + 1/1440*alpha^5*beta^5 + 1/1728*alpha^4*beta^6 + 1/3024*alpha^3*beta^7 + 1/8064*alpha^2*beta^8 + 1/36288*alpha*beta^9 + 1/362880*beta^10)*A_a_A^9*A_b_B + (1/80640*alpha^10 + 1/8064*alpha^9*beta + 1/1792*alpha^8*beta^2 + 1/672*alpha^7*beta^3 + 1/384*alpha^6*beta^4 + 1/320*alpha^5*beta^5 + 1/384*alpha^4*beta^6 + 1/672*alpha^3*beta^7 + 1/1792*alpha^2*beta^8 + 1/8064*alpha*beta^9 + 1/80640*beta^10)*A_a_A^8*A_b_B^2 + (1/30240*alpha^10 + 1/3024*alpha^9*beta + 1/672*alpha^8*beta^2 + 1/252*alpha^7*beta^3 + 1/144*alpha^6*beta^4 + 1/120*alpha^5*beta^5 + 1/144*alpha^4*beta^6 + 1/252*alpha^3*beta^7 + 1/672*alpha^2*beta^8 + 1/3024*alpha*beta^9 + 1/30240*beta^10)*A_a_A^7*A_b_B^3 + (1/17280*alpha^10 + 1/1728*alpha^9*beta + 1/384*alpha^8*beta^2 + 1/144*alpha^7*beta^3 + 7/576*alpha^6*beta^4 + 7/480*alpha^5*beta^5 + 7/576*alpha^4*beta^6 + 1/144*alpha^3*beta^7 + 1/384*alpha^2*beta^8 + 1/1728*alpha*beta^9 + 1/17280*beta^10)*A_a_A^6*A_b_B^4 + (1/14400*alpha^10 + 1/1440*alpha^9*beta + 1/320*alpha^8*beta^2 + 1/120*alpha^7*beta^3 + 7/480*alpha^6*beta^4 + 7/400*alpha^5*beta^5 + 7/480*alpha^4*beta^6 + 1/120*alpha^3*beta^7 + 1/320*alpha^2*beta^8 + 1/1440*alpha*beta^9 + 1/14400*beta^10)*A_a_A^5*A_b_B^5 + (1/17280*alpha^10 + 1/1728*alpha^9*beta + 1/384*alpha^8*beta^2 + 1/144*alpha^7*beta^3 + 7/576*alpha^6*beta^4 + 7/480*alpha^5*beta^5 + 7/576*alpha^4*beta^6 + 1/144*alpha^3*beta^7 + 1/384*alpha^2*beta^8 + 1/1728*alpha*beta^9 + 1/17280*beta^10)*A_a_A^4*A_b_B^6 + (1/30240*alpha^10 + 1/3024*alpha^9*beta + 1/672*alpha^8*beta^2 + 1/252*alpha^7*beta^3 + 1/144*alpha^6*beta^4 + 1/120*alpha^5*beta^5 + 1/144*alpha^4*beta^6 + 1/252*alpha^3*beta^7 + 1/672*alpha^2*beta^8 + 1/3024*alpha*beta^9 + 1/30240*beta^10)*A_a_A^3*A_b_B^7 + (1/80640*alpha^10 + 1/8064*alpha^9*beta + 1/1792*alpha^8*beta^2 + 1/672*alpha^7*beta^3 + 1/384*alpha^6*beta^4 + 1/320*alpha^5*beta^5 + 1/384*alpha^4*beta^6 + 1/672*alpha^3*beta^7 + 1/1792*alpha^2*beta^8 + 1/8064*alpha*beta^9 + 1/80640*beta^10)*A_a_A^2*A_b_B^8 + (1/362880*alpha^10 + 1/36288*alpha^9*beta + 1/8064*alpha^8*beta^2 + 1/3024*alpha^7*beta^3 + 1/1728*alpha^6*beta^4 + 1/1440*alpha^5*beta^5 + 1/1728*alpha^4*beta^6 + 1/3024*alpha^3*beta^7 + 1/8064*alpha^2*beta^8 + 1/36288*alpha*beta^9 + 1/362880*beta^10)*A_a_A*A_b_B^9 + (1/3628800*alpha^10 + 1/362880*alpha^9*beta + 1/80640*alpha^8*beta^2 + 1/30240*alpha^7*beta^3 + 1/17280*alpha^6*beta^4 + 1/14400*alpha^5*beta^5 + 1/17280*alpha^4*beta^6 + 1/30240*alpha^3*beta^7 + 1/80640*alpha^2*beta^8 + 1/362880*alpha*beta^9 + 1/3628800*beta^10)*A_b_B^10 + (1/39916800*alpha^11 + 1/3628800*alpha^10*beta + 1/725760*alpha^9*beta^2 + 1/241920*alpha^8*beta^3 + 1/120960*alpha^7*beta^4 + 1/86400*alpha^6*beta^5 + 1/86400*alpha^5*beta^6 + 1/120960*alpha^4*beta^7 + 1/241920*alpha^3*beta^8 + 1/725760*alpha^2*beta^9 + 1/3628800*alpha*beta^10 + 1/39916800*beta^11)*A_a_A^11 + (1/3628800*alpha^11 + 11/3628800*alpha^10*beta + 11/725760*alpha^9*beta^2 + 11/241920*alpha^8*beta^3 + 11/120960*alpha^7*beta^4 + 11/86400*alpha^6*beta^5 + 11/86400*alpha^5*beta^6 + 11/120960*alpha^4*beta^7 + 11/241920*alpha^3*beta^8 + 11/725760*alpha^2*beta^9 + 11/3628800*alpha*beta^10 + 1/3628800*beta^11)*A_a_A^10*A_b_B + (1/725760*alpha^11 + 11/725760*alpha^10*beta + 11/145152*alpha^9*beta^2 + 11/48384*alpha^8*beta^3 + 11/24192*alpha^7*beta^4 + 11/17280*alpha^6*beta^5 + 11/17280*alpha^5*beta^6 + 11/24192*alpha^4*beta^7 + 11/48384*alpha^3*beta^8 + 11/145152*alpha^2*beta^9 + 11/725760*alpha*beta^10 + 1/725760*beta^11)*A_a_A^9*A_b_B^2 + (1/241920*alpha^11 + 11/241920*alpha^10*beta + 11/48384*alpha^9*beta^2 + 11/16128*alpha^8*beta^3 + 11/8064*alpha^7*beta^4 + 11/5760*alpha^6*beta^5 + 11/5760*alpha^5*beta^6 + 11/8064*alpha^4*beta^7 + 11/16128*alpha^3*beta^8 + 11/48384*alpha^2*beta^9 + 11/241920*alpha*beta^10 + 1/241920*beta^11)*A_a_A^8*A_b_B^3 + (1/120960*alpha^11 + 11/120960*alpha^10*beta + 11/24192*alpha^9*beta^2 + 11/8064*alpha^8*beta^3 + 11/4032*alpha^7*beta^4 + 11/2880*alpha^6*beta^5 + 11/2880*alpha^5*beta^6 + 11/4032*alpha^4*beta^7 + 11/8064*alpha^3*beta^8 + 11/24192*alpha^2*beta^9 + 11/120960*alpha*beta^10 + 1/120960*beta^11)*A_a_A^7*A_b_B^4 + (1/86400*alpha^11 + 11/86400*alpha^10*beta + 11/17280*alpha^9*beta^2 + 11/5760*alpha^8*beta^3 + 11/2880*alpha^7*beta^4 + 77/14400*alpha^6*beta^5 + 77/14400*alpha^5*beta^6 + 11/2880*alpha^4*beta^7 + 11/5760*alpha^3*beta^8 + 11/17280*alpha^2*beta^9 + 11/86400*alpha*beta^10 + 1/86400*beta^11)*A_a_A^6*A_b_B^5 + (1/86400*alpha^11 + 11/86400*alpha^10*beta + 11/17280*alpha^9*beta^2 + 11/5760*alpha^8*beta^3 + 11/2880*alpha^7*beta^4 + 77/14400*alpha^6*beta^5 + 77/14400*alpha^5*beta^6 + 11/2880*alpha^4*beta^7 + 11/5760*alpha^3*beta^8 + 11/17280*alpha^2*beta^9 + 11/86400*alpha*beta^10 + 1/86400*beta^11)*A_a_A^5*A_b_B^6 + (1/120960*alpha^11 + 11/120960*alpha^10*beta + 11/24192*alpha^9*beta^2 + 11/8064*alpha^8*beta^3 + 11/4032*alpha^7*beta^4 + 11/2880*alpha^6*beta^5 + 11/2880*alpha^5*beta^6 + 11/4032*alpha^4*beta^7 + 11/8064*alpha^3*beta^8 + 11/24192*alpha^2*beta^9 + 11/120960*alpha*beta^10 + 1/120960*beta^11)*A_a_A^4*A_b_B^7 + (1/241920*alpha^11 + 11/241920*alpha^10*beta + 11/48384*alpha^9*beta^2 + 11/16128*alpha^8*beta^3 + 11/8064*alpha^7*beta^4 + 11/5760*alpha^6*beta^5 + 11/5760*alpha^5*beta^6 + 11/8064*alpha^4*beta^7 + 11/16128*alpha^3*beta^8 + 11/48384*alpha^2*beta^9 + 11/241920*alpha*beta^10 + 1/241920*beta^11)*A_a_A^3*A_b_B^8 + (1/725760*alpha^11 + 11/725760*alpha^10*beta + 11/145152*alpha^9*beta^2 + 11/48384*alpha^8*beta^3 + 11/24192*alpha^7*beta^4 + 11/17280*alpha^6*beta^5 + 11/17280*alpha^5*beta^6 + 11/24192*alpha^4*beta^7 + 11/48384*alpha^3*beta^8 + 11/145152*alpha^2*beta^9 + 11/725760*alpha*beta^10 + 1/725760*beta^11)*A_a_A^2*A_b_B^9 + (1/3628800*alpha^11 + 11/3628800*alpha^10*beta + 11/725760*alpha^9*beta^2 + 11/241920*alpha^8*beta^3 + 11/120960*alpha^7*beta^4 + 11/86400*alpha^6*beta^5 + 11/86400*alpha^5*beta^6 + 11/120960*alpha^4*beta^7 + 11/241920*alpha^3*beta^8 + 11/725760*alpha^2*beta^9 + 11/3628800*alpha*beta^10 + 1/3628800*beta^11)*A_a_A*A_b_B^10 + (1/39916800*alpha^11 + 1/3628800*alpha^10*beta + 1/725760*alpha^9*beta^2 + 1/241920*alpha^8*beta^3 + 1/120960*alpha^7*beta^4 + 1/86400*alpha^6*beta^5 + 1/86400*alpha^5*beta^6 + 1/120960*alpha^4*beta^7 + 1/241920*alpha^3*beta^8 + 1/725760*alpha^2*beta^9 + 1/3628800*alpha*beta^10 + 1/39916800*beta^11)*A_b_B^11 + O(A_a_A, A_b_B)^12"
      ]
     },
     "execution_count": 35,
     "metadata": {},
     "output_type": "execute_result"
    }
   ],
   "source": [
    "exp(alpha*x + beta*x)"
   ]
  },
  {
   "cell_type": "code",
   "execution_count": 36,
   "metadata": {},
   "outputs": [
    {
     "data": {
      "text/plain": [
       "1 + alpha*beta*A_a_A + alpha*beta*A_b_B + 1/2*alpha^2*beta^2*A_a_A^2 + alpha^2*beta^2*A_a_A*A_b_B + 1/2*alpha^2*beta^2*A_b_B^2 + 1/6*alpha^3*beta^3*A_a_A^3 + 1/2*alpha^3*beta^3*A_a_A^2*A_b_B + 1/2*alpha^3*beta^3*A_a_A*A_b_B^2 + 1/6*alpha^3*beta^3*A_b_B^3 + 1/24*alpha^4*beta^4*A_a_A^4 + 1/6*alpha^4*beta^4*A_a_A^3*A_b_B + 1/4*alpha^4*beta^4*A_a_A^2*A_b_B^2 + 1/6*alpha^4*beta^4*A_a_A*A_b_B^3 + 1/24*alpha^4*beta^4*A_b_B^4 + 1/120*alpha^5*beta^5*A_a_A^5 + 1/24*alpha^5*beta^5*A_a_A^4*A_b_B + 1/12*alpha^5*beta^5*A_a_A^3*A_b_B^2 + 1/12*alpha^5*beta^5*A_a_A^2*A_b_B^3 + 1/24*alpha^5*beta^5*A_a_A*A_b_B^4 + 1/120*alpha^5*beta^5*A_b_B^5 + 1/720*alpha^6*beta^6*A_a_A^6 + 1/120*alpha^6*beta^6*A_a_A^5*A_b_B + 1/48*alpha^6*beta^6*A_a_A^4*A_b_B^2 + 1/36*alpha^6*beta^6*A_a_A^3*A_b_B^3 + 1/48*alpha^6*beta^6*A_a_A^2*A_b_B^4 + 1/120*alpha^6*beta^6*A_a_A*A_b_B^5 + 1/720*alpha^6*beta^6*A_b_B^6 + 1/5040*alpha^7*beta^7*A_a_A^7 + 1/720*alpha^7*beta^7*A_a_A^6*A_b_B + 1/240*alpha^7*beta^7*A_a_A^5*A_b_B^2 + 1/144*alpha^7*beta^7*A_a_A^4*A_b_B^3 + 1/144*alpha^7*beta^7*A_a_A^3*A_b_B^4 + 1/240*alpha^7*beta^7*A_a_A^2*A_b_B^5 + 1/720*alpha^7*beta^7*A_a_A*A_b_B^6 + 1/5040*alpha^7*beta^7*A_b_B^7 + 1/40320*alpha^8*beta^8*A_a_A^8 + 1/5040*alpha^8*beta^8*A_a_A^7*A_b_B + 1/1440*alpha^8*beta^8*A_a_A^6*A_b_B^2 + 1/720*alpha^8*beta^8*A_a_A^5*A_b_B^3 + 1/576*alpha^8*beta^8*A_a_A^4*A_b_B^4 + 1/720*alpha^8*beta^8*A_a_A^3*A_b_B^5 + 1/1440*alpha^8*beta^8*A_a_A^2*A_b_B^6 + 1/5040*alpha^8*beta^8*A_a_A*A_b_B^7 + 1/40320*alpha^8*beta^8*A_b_B^8 + 1/362880*alpha^9*beta^9*A_a_A^9 + 1/40320*alpha^9*beta^9*A_a_A^8*A_b_B + 1/10080*alpha^9*beta^9*A_a_A^7*A_b_B^2 + 1/4320*alpha^9*beta^9*A_a_A^6*A_b_B^3 + 1/2880*alpha^9*beta^9*A_a_A^5*A_b_B^4 + 1/2880*alpha^9*beta^9*A_a_A^4*A_b_B^5 + 1/4320*alpha^9*beta^9*A_a_A^3*A_b_B^6 + 1/10080*alpha^9*beta^9*A_a_A^2*A_b_B^7 + 1/40320*alpha^9*beta^9*A_a_A*A_b_B^8 + 1/362880*alpha^9*beta^9*A_b_B^9 + 1/3628800*alpha^10*beta^10*A_a_A^10 + 1/362880*alpha^10*beta^10*A_a_A^9*A_b_B + 1/80640*alpha^10*beta^10*A_a_A^8*A_b_B^2 + 1/30240*alpha^10*beta^10*A_a_A^7*A_b_B^3 + 1/17280*alpha^10*beta^10*A_a_A^6*A_b_B^4 + 1/14400*alpha^10*beta^10*A_a_A^5*A_b_B^5 + 1/17280*alpha^10*beta^10*A_a_A^4*A_b_B^6 + 1/30240*alpha^10*beta^10*A_a_A^3*A_b_B^7 + 1/80640*alpha^10*beta^10*A_a_A^2*A_b_B^8 + 1/362880*alpha^10*beta^10*A_a_A*A_b_B^9 + 1/3628800*alpha^10*beta^10*A_b_B^10 + 1/39916800*alpha^11*beta^11*A_a_A^11 + 1/3628800*alpha^11*beta^11*A_a_A^10*A_b_B + 1/725760*alpha^11*beta^11*A_a_A^9*A_b_B^2 + 1/241920*alpha^11*beta^11*A_a_A^8*A_b_B^3 + 1/120960*alpha^11*beta^11*A_a_A^7*A_b_B^4 + 1/86400*alpha^11*beta^11*A_a_A^6*A_b_B^5 + 1/86400*alpha^11*beta^11*A_a_A^5*A_b_B^6 + 1/120960*alpha^11*beta^11*A_a_A^4*A_b_B^7 + 1/241920*alpha^11*beta^11*A_a_A^3*A_b_B^8 + 1/725760*alpha^11*beta^11*A_a_A^2*A_b_B^9 + 1/3628800*alpha^11*beta^11*A_a_A*A_b_B^10 + 1/39916800*alpha^11*beta^11*A_b_B^11 + O(A_a_A, A_b_B)^12"
      ]
     },
     "execution_count": 36,
     "metadata": {},
     "output_type": "execute_result"
    }
   ],
   "source": [
    "exp(alpha*log(exp (beta*x)))"
   ]
  },
  {
   "cell_type": "markdown",
   "metadata": {},
   "source": [
    "### Particular affinity network"
   ]
  },
  {
   "cell_type": "code",
   "execution_count": 37,
   "metadata": {},
   "outputs": [],
   "source": [
    "R.<x,y,z> = QQ[]"
   ]
  },
  {
   "cell_type": "code",
   "execution_count": 38,
   "metadata": {},
   "outputs": [],
   "source": [
    "S.<alpha,beta> = QQ[]\n",
    "R.<A_a_A,A_b_B> = PowerSeriesRing(S)"
   ]
  },
  {
   "cell_type": "code",
   "execution_count": 39,
   "metadata": {},
   "outputs": [],
   "source": [
    "x = A_a_A + A_b_B"
   ]
  },
  {
   "cell_type": "code",
   "execution_count": 40,
   "metadata": {},
   "outputs": [
    {
     "data": {
      "text/plain": [
       "1 + A_a_A + 1/2*A_a_A^2 + 1/6*A_a_A^3 + 1/24*A_a_A^4 + 1/120*A_a_A^5 + 1/720*A_a_A^6 + 1/5040*A_a_A^7 + 1/40320*A_a_A^8 + 1/362880*A_a_A^9 + 1/3628800*A_a_A^10 + 1/39916800*A_a_A^11 + O(A_a_A, A_b_B)^12"
      ]
     },
     "execution_count": 40,
     "metadata": {},
     "output_type": "execute_result"
    }
   ],
   "source": [
    "exp(A_a_A)"
   ]
  },
  {
   "cell_type": "code",
   "execution_count": 41,
   "metadata": {},
   "outputs": [
    {
     "data": {
      "text/plain": [
       "A_a_A + A_b_B"
      ]
     },
     "execution_count": 41,
     "metadata": {},
     "output_type": "execute_result"
    }
   ],
   "source": [
    "R.ideal([exp(A_a_A)]).reduce(x)"
   ]
  },
  {
   "cell_type": "code",
   "execution_count": 42,
   "metadata": {},
   "outputs": [],
   "source": [
    "coeffs = exp(alpha*x).coefficients()"
   ]
  },
  {
   "cell_type": "code",
   "execution_count": 43,
   "metadata": {},
   "outputs": [
    {
     "data": {
      "text/plain": [
       "(1, alpha, alpha, alpha^2, 1/2*alpha^2)"
      ]
     },
     "execution_count": 43,
     "metadata": {},
     "output_type": "execute_result"
    }
   ],
   "source": [
    "coeffs[R(1)], coeffs[A_a_A], coeffs[A_b_B], coeffs[A_a_A*A_b_B], coeffs[A_b_B*A_b_B]"
   ]
  },
  {
   "cell_type": "markdown",
   "metadata": {},
   "source": [
    "### Particular affinity network using polynomial algebra"
   ]
  },
  {
   "cell_type": "code",
   "execution_count": 44,
   "metadata": {},
   "outputs": [],
   "source": [
    "#S.<alpha,beta> = QQ[]\n",
    "R.<alpha,beta,A_a_A,A_b_B> = QQ[]\n",
    "T.<alpha,beta,A_a_A,A_b_B> = QuotientRing(R, R.ideal([A_a_A^2,A_b_B^3,A_a_A*A_b_B^2]))"
   ]
  },
  {
   "cell_type": "code",
   "execution_count": 45,
   "metadata": {},
   "outputs": [],
   "source": [
    "x = A_a_A + A_b_B"
   ]
  },
  {
   "cell_type": "code",
   "execution_count": 46,
   "metadata": {},
   "outputs": [
    {
     "data": {
      "text/plain": [
       "alpha^2*A_a_A*A_b_B + 1/2*alpha^2*A_b_B^2 + alpha*A_a_A + alpha*A_b_B + 1"
      ]
     },
     "execution_count": 46,
     "metadata": {},
     "output_type": "execute_result"
    }
   ],
   "source": [
    "expn(alpha*x)"
   ]
  },
  {
   "cell_type": "code",
   "execution_count": 47,
   "metadata": {},
   "outputs": [
    {
     "data": {
      "text/plain": [
       "alpha^2*beta^2*A_a_A*A_b_B + 1/2*alpha^2*beta^2*A_b_B^2 + alpha*beta*A_a_A + alpha*beta*A_b_B + 1"
      ]
     },
     "execution_count": 47,
     "metadata": {},
     "output_type": "execute_result"
    }
   ],
   "source": [
    "expn(beta*logn(expn(alpha*x)))"
   ]
  },
  {
   "cell_type": "markdown",
   "metadata": {},
   "source": [
    "### Particular affinity network better"
   ]
  },
  {
   "cell_type": "code",
   "execution_count": 48,
   "metadata": {},
   "outputs": [],
   "source": [
    "#S.<alpha,beta> = QQ[]\n",
    "S.<alpha,beta,a,b> = QQ[]\n",
    "R = QuotientRing(S,S.ideal([a^2, a^2*b, b^2]))\n",
    "T.<A_A,A_B> = R[]"
   ]
  },
  {
   "cell_type": "code",
   "execution_count": 49,
   "metadata": {},
   "outputs": [],
   "source": [
    "x = a*A_A + b*A_B"
   ]
  },
  {
   "cell_type": "code",
   "execution_count": 50,
   "metadata": {},
   "outputs": [
    {
     "data": {
      "text/plain": [
       "alphabar^2*abar*bbar*A_A*A_B + alphabar*abar*A_A + alphabar*bbar*A_B + 1"
      ]
     },
     "execution_count": 50,
     "metadata": {},
     "output_type": "execute_result"
    }
   ],
   "source": [
    "expn(alpha*x)"
   ]
  },
  {
   "cell_type": "code",
   "execution_count": 51,
   "metadata": {},
   "outputs": [
    {
     "data": {
      "text/plain": [
       "alphabar^2*betabar^2*abar*bbar*A_A*A_B + alphabar*betabar*abar*A_A + alphabar*betabar*bbar*A_B + 1"
      ]
     },
     "execution_count": 51,
     "metadata": {},
     "output_type": "execute_result"
    }
   ],
   "source": [
    "expn(beta*logn(expn(alpha*x)))"
   ]
  },
  {
   "cell_type": "markdown",
   "metadata": {},
   "source": [
    "### Particular affinity network mass action"
   ]
  },
  {
   "cell_type": "code",
   "execution_count": 52,
   "metadata": {},
   "outputs": [],
   "source": [
    "#S.<alpha,beta> = QQ[]\n",
    "S.<alpha,beta,a,b,k1,k2> = QQ[]\n",
    "R = QuotientRing(S,S.ideal([a^2, a^2*b, a*b^2, b^3, a*b - k1, b^2-k2]))\n",
    "T.<A_A,A_B> = R[]"
   ]
  },
  {
   "cell_type": "code",
   "execution_count": 53,
   "metadata": {},
   "outputs": [
    {
     "data": {
      "text/plain": [
       "k1bar"
      ]
     },
     "execution_count": 53,
     "metadata": {},
     "output_type": "execute_result"
    }
   ],
   "source": [
    "R(a*b)"
   ]
  },
  {
   "cell_type": "code",
   "execution_count": 54,
   "metadata": {},
   "outputs": [],
   "source": [
    "x = a*A_A + b*A_B"
   ]
  },
  {
   "cell_type": "code",
   "execution_count": 55,
   "metadata": {},
   "outputs": [
    {
     "data": {
      "text/plain": [
       "alphabar^2*k1bar*A_A*A_B + 1/2*alphabar^2*k2bar*A_B^2 + alphabar*abar*A_A + alphabar*bbar*A_B + 1"
      ]
     },
     "execution_count": 55,
     "metadata": {},
     "output_type": "execute_result"
    }
   ],
   "source": [
    "expn(alpha*x)"
   ]
  },
  {
   "cell_type": "code",
   "execution_count": 56,
   "metadata": {},
   "outputs": [
    {
     "data": {
      "text/plain": [
       "alphabar^2*betabar^2*k1bar*A_A*A_B + 1/2*alphabar^2*betabar^2*k2bar*A_B^2 + alphabar*betabar*abar*A_A + alphabar*betabar*bbar*A_B + 1"
      ]
     },
     "execution_count": 56,
     "metadata": {},
     "output_type": "execute_result"
    }
   ],
   "source": [
    "expn(beta*logn(expn(alpha*x)))"
   ]
  },
  {
   "cell_type": "markdown",
   "metadata": {},
   "source": [
    "### Dynamic bonding enzymes"
   ]
  },
  {
   "cell_type": "code",
   "execution_count": 57,
   "metadata": {},
   "outputs": [],
   "source": [
    "S.<alphaS,alphaE,alphaP,alphaC,s,e,se,pe,p,k1,km1,k2,k3> = QQ[]\n",
    "vs = [s,e,se,pe,p,k1,km1,k2,k3]\n",
    "aff = {s*e: k1, se: km1, pe: k2, p: k3}\n",
    "gnot = [a*b for a in vs for b in vs if a*b not in aff]\n",
    "rels = [r - k for (r,k) in aff.iteritems()]\n",
    "R = QuotientRing(S,S.ideal(gnot + rels))\n",
    "T.<S_S0,S_P0,E_E0,P_0,C_E,C_S,C_P> = R[]"
   ]
  },
  {
   "cell_type": "code",
   "execution_count": 58,
   "metadata": {},
   "outputs": [],
   "source": [
    "S = s*S_S0\n",
    "E = e*E_E0\n",
    "P = p*P_0\n",
    "C = se*(C_E + C_S) + pe*(C_E + C_P)"
   ]
  },
  {
   "cell_type": "code",
   "execution_count": 59,
   "metadata": {},
   "outputs": [
    {
     "data": {
      "text/plain": [
       "k1bar*S_S0*E_E0"
      ]
     },
     "execution_count": 59,
     "metadata": {},
     "output_type": "execute_result"
    }
   ],
   "source": [
    "S*E"
   ]
  },
  {
   "cell_type": "code",
   "execution_count": 60,
   "metadata": {},
   "outputs": [
    {
     "data": {
      "text/plain": [
       "(0, 0, 0, 0, 0, 0, 0, 0)"
      ]
     },
     "execution_count": 60,
     "metadata": {},
     "output_type": "execute_result"
    }
   ],
   "source": [
    "S**2, E**2, P**2, C**2,S*P,E*P,S*C,E*C"
   ]
  },
  {
   "cell_type": "code",
   "execution_count": 61,
   "metadata": {},
   "outputs": [
    {
     "data": {
      "text/plain": [
       "alphaSbar*sbar*S_S0 + alphaEbar*ebar*E_E0 + alphaPbar*k3bar*P_0 + (alphaCbar*km1bar + alphaCbar*k2bar)*C_E + alphaCbar*km1bar*C_S + alphaCbar*k2bar*C_P"
      ]
     },
     "execution_count": 61,
     "metadata": {},
     "output_type": "execute_result"
    }
   ],
   "source": [
    "Pi = alphaS*S + alphaE*E + alphaP*P + alphaC*C; Pi"
   ]
  },
  {
   "cell_type": "code",
   "execution_count": 62,
   "metadata": {},
   "outputs": [
    {
     "data": {
      "text/plain": [
       "alphaSbar*alphaEbar*k1bar*S_S0*E_E0 + alphaSbar*sbar*S_S0 + alphaEbar*ebar*E_E0 + alphaPbar*k3bar*P_0 + (alphaCbar*km1bar + alphaCbar*k2bar)*C_E + alphaCbar*km1bar*C_S + alphaCbar*k2bar*C_P + 1"
      ]
     },
     "execution_count": 62,
     "metadata": {},
     "output_type": "execute_result"
    }
   ],
   "source": [
    "expn(Pi)"
   ]
  },
  {
   "cell_type": "markdown",
   "metadata": {},
   "source": [
    "### Process rate semantics examples"
   ]
  },
  {
   "cell_type": "markdown",
   "metadata": {},
   "source": [
    "#### 1. I"
   ]
  },
  {
   "cell_type": "code",
   "execution_count": 69,
   "metadata": {},
   "outputs": [],
   "source": [
    "S.<alpha> = QQ[]\n",
    "R.<A_a_A1> = PowerSeriesRing(S)"
   ]
  },
  {
   "cell_type": "code",
   "execution_count": 70,
   "metadata": {},
   "outputs": [
    {
     "data": {
      "text/plain": [
       "alpha*A_a_A1"
      ]
     },
     "execution_count": 70,
     "metadata": {},
     "output_type": "execute_result"
    }
   ],
   "source": [
    "Pi = alpha*A_a_A1; Pi"
   ]
  },
  {
   "cell_type": "code",
   "execution_count": 71,
   "metadata": {},
   "outputs": [
    {
     "data": {
      "text/plain": [
       "alpha"
      ]
     },
     "execution_count": 71,
     "metadata": {},
     "output_type": "execute_result"
    }
   ],
   "source": [
    "exp(Pi).coefficients()[1]"
   ]
  },
  {
   "cell_type": "markdown",
   "metadata": {},
   "source": [
    "#### 1. II"
   ]
  },
  {
   "cell_type": "code",
   "execution_count": 72,
   "metadata": {},
   "outputs": [],
   "source": [
    "S.<alpha,beta> = QQ[]\n",
    "R.<A_a1_A1, B_a2_B1> = PowerSeriesRing(S)"
   ]
  },
  {
   "cell_type": "code",
   "execution_count": 73,
   "metadata": {},
   "outputs": [
    {
     "data": {
      "text/plain": [
       "alpha*A_a1_A1 + beta*B_a2_B1"
      ]
     },
     "execution_count": 73,
     "metadata": {},
     "output_type": "execute_result"
    }
   ],
   "source": [
    "Pi = alpha*A_a1_A1 + beta*B_a2_B1; Pi"
   ]
  },
  {
   "cell_type": "code",
   "execution_count": 74,
   "metadata": {},
   "outputs": [
    {
     "data": {
      "text/plain": [
       "alpha*beta"
      ]
     },
     "execution_count": 74,
     "metadata": {},
     "output_type": "execute_result"
    }
   ],
   "source": [
    "exp(Pi).coefficients()[A_a1_A1*B_a2_B1]"
   ]
  },
  {
   "cell_type": "markdown",
   "metadata": {},
   "source": [
    "#### 1. III"
   ]
  },
  {
   "cell_type": "code",
   "execution_count": 75,
   "metadata": {},
   "outputs": [],
   "source": [
    "S.<alpha,beta> = QQ[]\n",
    "R.<A_a1_A1, A_a2_A2> = PowerSeriesRing(S)"
   ]
  },
  {
   "cell_type": "code",
   "execution_count": 76,
   "metadata": {},
   "outputs": [
    {
     "data": {
      "text/plain": [
       "alpha*A_a1_A1 + alpha*A_a2_A2"
      ]
     },
     "execution_count": 76,
     "metadata": {},
     "output_type": "execute_result"
    }
   ],
   "source": [
    "Pi = alpha*(A_a1_A1 + A_a2_A2); Pi"
   ]
  },
  {
   "cell_type": "code",
   "execution_count": 77,
   "metadata": {},
   "outputs": [
    {
     "data": {
      "text/plain": [
       "alpha^2"
      ]
     },
     "execution_count": 77,
     "metadata": {},
     "output_type": "execute_result"
    }
   ],
   "source": [
    "exp(Pi).coefficients()[A_a1_A1*A_a2_A2]"
   ]
  },
  {
   "cell_type": "markdown",
   "metadata": {},
   "source": [
    "So $\\frac{\\mathrm d [A]}{\\mathrm d t} = - 2r [A]^2$"
   ]
  },
  {
   "cell_type": "markdown",
   "metadata": {},
   "source": [
    "#### 2."
   ]
  },
  {
   "cell_type": "code",
   "execution_count": 81,
   "metadata": {},
   "outputs": [],
   "source": [
    "S.<alpha,beta,gamma> = QQ[]\n",
    "R.<A_a1_A, B_a2_B1, C_a2_C1> = PowerSeriesRing(S)"
   ]
  },
  {
   "cell_type": "code",
   "execution_count": 82,
   "metadata": {},
   "outputs": [
    {
     "data": {
      "text/plain": [
       "alpha*A_a1_A + beta*B_a2_B1 + gamma*C_a2_C1"
      ]
     },
     "execution_count": 82,
     "metadata": {},
     "output_type": "execute_result"
    }
   ],
   "source": [
    "Pi = alpha*A_a1_A + beta*B_a2_B1 + gamma*C_a2_C1; Pi"
   ]
  },
  {
   "cell_type": "code",
   "execution_count": 83,
   "metadata": {},
   "outputs": [],
   "source": [
    "coeffs = exp(Pi).coefficients()"
   ]
  },
  {
   "cell_type": "code",
   "execution_count": 86,
   "metadata": {},
   "outputs": [
    {
     "data": {
      "text/plain": [
       "(alpha*beta, alpha*gamma)"
      ]
     },
     "execution_count": 86,
     "metadata": {},
     "output_type": "execute_result"
    }
   ],
   "source": [
    "coeffs[A_a1_A*B_a2_B1],coeffs[A_a1_A*C_a2_C1]"
   ]
  },
  {
   "cell_type": "code",
   "execution_count": null,
   "metadata": {},
   "outputs": [],
   "source": []
  },
  {
   "cell_type": "markdown",
   "metadata": {},
   "source": [
    "### Particular affinity network using polynomial algebra"
   ]
  },
  {
   "cell_type": "code",
   "execution_count": 89,
   "metadata": {},
   "outputs": [],
   "source": [
    "#S.<alpha,beta> = QQ[]\n",
    "R.<alpha,beta,A_a_A,A_b_B> = QQ[]\n",
    "T = QuotientRing(R, R.ideal([A_a_A^2,A_b_B^2,A_a_A*A_b_B^2]))\n",
    "S = QuotientRing(R, R.ideal([A_a_A,A_b_B^3,A_a_A*A_b_B]))\n",
    "U = QuotientRing(R, R.ideal([A_a_A,A_b_B^2,A_a_A*A_b_B]))\n",
    "TS = QuotientRing(R, R.ideal([A_a_A^2,A_b_B^3,A_a_A*A_b_B^2]))"
   ]
  },
  {
   "cell_type": "code",
   "execution_count": 90,
   "metadata": {},
   "outputs": [],
   "source": [
    "x = A_a_A + A_b_B"
   ]
  },
  {
   "cell_type": "code",
   "execution_count": 91,
   "metadata": {},
   "outputs": [
    {
     "data": {
      "text/plain": [
       "A_a_Abar*A_b_Bbar + A_a_Abar + A_b_Bbar + 1"
      ]
     },
     "execution_count": 91,
     "metadata": {},
     "output_type": "execute_result"
    }
   ],
   "source": [
    "expn(T(x))"
   ]
  },
  {
   "cell_type": "code",
   "execution_count": 92,
   "metadata": {},
   "outputs": [
    {
     "data": {
      "text/plain": [
       "1/2*A_b_Bbar^2 + A_b_Bbar + 1"
      ]
     },
     "execution_count": 92,
     "metadata": {},
     "output_type": "execute_result"
    }
   ],
   "source": [
    "expn(S(x))"
   ]
  },
  {
   "cell_type": "code",
   "execution_count": 93,
   "metadata": {},
   "outputs": [
    {
     "data": {
      "text/plain": [
       "A_b_Bbar + 1"
      ]
     },
     "execution_count": 93,
     "metadata": {},
     "output_type": "execute_result"
    }
   ],
   "source": [
    "expn(U(x))"
   ]
  },
  {
   "cell_type": "code",
   "execution_count": 85,
   "metadata": {},
   "outputs": [
    {
     "data": {
      "text/plain": [
       "A_a_Abar*A_b_Bbar + 1/2*A_b_Bbar^2 + A_a_Abar + A_b_Bbar + 1"
      ]
     },
     "execution_count": 85,
     "metadata": {},
     "output_type": "execute_result"
    }
   ],
   "source": [
    "expn(TS(x))"
   ]
  },
  {
   "cell_type": "code",
   "execution_count": 94,
   "metadata": {},
   "outputs": [
    {
     "data": {
      "text/plain": [
       "A_a_Abar*A_b_Bbar + 1/2*A_b_Bbar^2 + A_a_Abar + A_b_Bbar + 1"
      ]
     },
     "execution_count": 94,
     "metadata": {},
     "output_type": "execute_result"
    }
   ],
   "source": [
    "TS(expn(T(x))) + TS(expn(S(x))) - TS(expn(U(x)))"
   ]
  },
  {
   "cell_type": "code",
   "execution_count": null,
   "metadata": {},
   "outputs": [],
   "source": []
  }
 ],
 "metadata": {
  "kernelspec": {
   "display_name": "SageMath 7.6",
   "language": "",
   "name": "sagemath"
  },
  "language_info": {
   "codemirror_mode": {
    "name": "ipython",
    "version": 2
   },
   "file_extension": ".py",
   "mimetype": "text/x-python",
   "name": "python",
   "nbconvert_exporter": "python",
   "pygments_lexer": "ipython2",
   "version": "2.7.14"
  }
 },
 "nbformat": 4,
 "nbformat_minor": 2
}
