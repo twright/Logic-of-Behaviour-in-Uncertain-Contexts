{
 "cells": [
  {
   "cell_type": "code",
   "execution_count": 1,
   "metadata": {},
   "outputs": [],
   "source": [
    "from flowstar.reachability import Reach, Poly"
   ]
  },
  {
   "cell_type": "code",
   "execution_count": 2,
   "metadata": {},
   "outputs": [
    {
     "name": "stdout",
     "output_type": "stream",
     "text": [
      "t' = (([1.0000000000e+00 , 1.0000000000e+00]))\n",
      "x' = (([-1.0000000000e+00 , -1.0000000000e+00] * x))\n"
     ]
    }
   ],
   "source": [
    "varsc = [b'local_t', b't', b'x']\n",
    "pt = Poly(1, 't', 0, varsc)\n",
    "px = Poly(-1, 'x', 1, varsc)\n",
    "print \"t' = {}\\nx' = {}\".format(pt, px)"
   ]
  },
  {
   "cell_type": "code",
   "execution_count": 24,
   "metadata": {},
   "outputs": [
    {
     "name": "stdout",
     "output_type": "stream",
     "text": [
      "constructing Reach\n",
      "tm polys\n",
      "initials\n",
      "system\n",
      "assigning system\n",
      "created continuous system\n",
      "orders\n"
     ]
    }
   ],
   "source": [
    "C = Reach(\n",
    "    varsc,\n",
    "    [Poly(varsc), pt, px],\n",
    "    [(0,0), (5,5)],\n",
    "    5,\n",
    "    0.1,\n",
    "    order=3,\n",
    "    precondition=1\n",
    ")"
   ]
  },
  {
   "cell_type": "code",
   "execution_count": 25,
   "metadata": {},
   "outputs": [
    {
     "data": {
      "text/plain": [
       "2"
      ]
     },
     "execution_count": 25,
     "metadata": {},
     "output_type": "execute_result"
    }
   ],
   "source": [
    "C.res"
   ]
  },
  {
   "cell_type": "code",
   "execution_count": 26,
   "metadata": {},
   "outputs": [
    {
     "data": {
      "text/plain": [
       "50"
      ]
     },
     "execution_count": 26,
     "metadata": {},
     "output_type": "execute_result"
    }
   ],
   "source": [
    "C.num_flowpipes"
   ]
  },
  {
   "cell_type": "code",
   "execution_count": 27,
   "metadata": {
    "scrolled": false
   },
   "outputs": [
    {
     "data": {
      "image/png": "[encoded data removed]",
      "text/plain": [
       "<wand.image.Image: 03571aa 'EPS' (720x504)>"
      ]
     },
     "execution_count": 27,
     "metadata": {},
     "output_type": "execute_result"
    }
   ],
   "source": [
    "C.wplot('t', 'x', b'res1')"
   ]
  },
  {
   "cell_type": "code",
   "execution_count": 31,
   "metadata": {},
   "outputs": [
    {
     "name": "stdout",
     "output_type": "stream",
     "text": [
      "t' = (([1.0000000000e+00 , 1.0000000000e+00]))\n",
      "x' = (([-1.0000000000e+00 , -1.0000000000e+00] * y))\n",
      "y' = (([1.0000000000e+00 , 1.0000000000e+00] * x))\n"
     ]
    }
   ],
   "source": [
    "varsd = [b'local_t', b't', b'x', b'y']\n",
    "qt = Poly(1, 't', 0, varsd)\n",
    "qx = Poly(-1, 'y', 1, varsd)\n",
    "qy = Poly(1, 'x', 1, varsd)\n",
    "print \"t' = {}\\nx' = {}\\ny' = {}\".format(qt, qx, qy)"
   ]
  },
  {
   "cell_type": "code",
   "execution_count": 29,
   "metadata": {},
   "outputs": [
    {
     "name": "stdout",
     "output_type": "stream",
     "text": [
      "t' = (([1.0000000000e+00 , 1.0000000000e+00]))\n",
      "x' = (([-1.0000000000e+00 , -1.0000000000e+00] * y))\n",
      "y' = (([1.0000000000e+00 , 1.0000000000e+00] * x))\n"
     ]
    }
   ],
   "source": [
    "print \"t' = {}\\nx' = {}\\ny' = {}\".format(qt, qx, qy)"
   ]
  },
  {
   "cell_type": "code",
   "execution_count": 34,
   "metadata": {},
   "outputs": [
    {
     "name": "stdout",
     "output_type": "stream",
     "text": [
      "constructing Reach\n",
      "tm polys\n",
      "initials\n",
      "system\n",
      "assigning system\n",
      "created continuous system\n",
      "orders\n"
     ]
    }
   ],
   "source": [
    "D = Reach(\n",
    "    varsd,\n",
    "    [Poly(varsd), qt, qx, qy],\n",
    "    [(0,0), (4,5), (1,2)],\n",
    "    5,\n",
    "    0.1,\n",
    "    order=3,\n",
    ")"
   ]
  },
  {
   "cell_type": "code",
   "execution_count": 35,
   "metadata": {},
   "outputs": [
    {
     "data": {
      "text/plain": [
       "2"
      ]
     },
     "execution_count": 35,
     "metadata": {},
     "output_type": "execute_result"
    }
   ],
   "source": [
    "D.res"
   ]
  },
  {
   "cell_type": "code",
   "execution_count": null,
   "metadata": {},
   "outputs": [],
   "source": [
    "D.wplot(b'x', b'y', b'resd')"
   ]
  },
  {
   "cell_type": "code",
   "execution_count": null,
   "metadata": {},
   "outputs": [],
   "source": []
  }
 ],
 "metadata": {
  "kernelspec": {
   "display_name": "Python 2",
   "language": "python",
   "name": "python2"
  },
  "language_info": {
   "codemirror_mode": {
    "name": "ipython",
    "version": 2
   },
   "file_extension": ".py",
   "mimetype": "text/x-python",
   "name": "python",
   "nbconvert_exporter": "python",
   "pygments_lexer": "ipython2",
   "version": "2.7.15"
  }
 },
 "nbformat": 4,
 "nbformat_minor": 2
}
