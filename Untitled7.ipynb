{
 "cells": [
  {
   "cell_type": "code",
   "execution_count": 1,
   "metadata": {},
   "outputs": [],
   "source": [
    "from flowstar.reachability import Reach, Poly"
   ]
  },
  {
   "cell_type": "code",
   "execution_count": 2,
   "metadata": {},
   "outputs": [
    {
     "name": "stdout",
     "output_type": "stream",
     "text": [
      "t' = (([1.0000000000e+00 , 1.0000000000e+00]))\n",
      "x' = (([-1.0000000000e+00 , -1.0000000000e+00] * y))\n",
      "y' = (([1.0000000000e+00 , 1.0000000000e+00] * x))\n"
     ]
    }
   ],
   "source": [
    "varsd = [b't', b'x', b'y']\n",
    "qt = Poly(1, 't', 0, varsd)\n",
    "qx = Poly(-1, 'y', 1, varsd)\n",
    "qy = Poly(1, 'x', 1, varsd)\n",
    "print \"t' = {}\\nx' = {}\\ny' = {}\".format(qt, qx, qy)\n",
    "\n",
    "D = Reach(\n",
    "    varsd,\n",
    "    [qt, qx, qy],\n",
    "    [(0,0), (4,5), (1,2)],\n",
    "    2,\n",
    "    0.75,\n",
    "    order=10,\n",
    "    precondition=1,\n",
    "    estimation=1e-1,\n",
    "    cutoff_threshold=1e-20,\n",
    ")"
   ]
  },
  {
   "cell_type": "code",
   "execution_count": 3,
   "metadata": {},
   "outputs": [
    {
     "data": {
      "image/png": "[encoded data removed]",
      "text/plain": [
       "<wand.image.Image: 00907d4 'PS' (720x504)>"
      ]
     },
     "execution_count": 3,
     "metadata": {},
     "output_type": "execute_result"
    }
   ],
   "source": [
    "D.wplot('t', 'x')"
   ]
  },
  {
   "cell_type": "code",
   "execution_count": 4,
   "metadata": {},
   "outputs": [],
   "source": [
    "def f(v, x):\n",
    "    x = RIF(x)\n",
    "    res = D(x)\n",
    "    return RIF(res[varsd.index(v)])"
   ]
  },
  {
   "cell_type": "code",
   "execution_count": 5,
   "metadata": {},
   "outputs": [
    {
     "name": "stdout",
     "output_type": "stream",
     "text": [
      "no overlap! [1.0000000000e+00 , 2.0000000000e+00] [0.0000000000e+00 , 7.5000000000e-01]\n",
      "[2.5000000000e-01 , 7.5000000000e-01] [-2.8452346021e+00 , 2.1055507510e+00] [1.0000000000e+00 , 2.0000000000e+00] [7.5000000000e-01 , 1.5000000000e+00]\n",
      "[-0.0000000000e+00 , 5.0000000000e-01] [-4.2765187145e+00 , -6.4380601790e-01] [1.0000000000e+00 , 2.0000000000e+00] [1.5000000000e+00 , 2.2500000000e+00]\n"
     ]
    },
    {
     "data": {
      "text/plain": [
       "'[-4.2765187144268513 .. 2.1055507509665379]'"
      ]
     },
     "execution_count": 5,
     "metadata": {},
     "output_type": "execute_result"
    }
   ],
   "source": [
    "f('x', RIF(1,2)).str(style='brackets')"
   ]
  },
  {
   "cell_type": "code",
   "execution_count": 8,
   "metadata": {},
   "outputs": [
    {
     "name": "stdout",
     "output_type": "stream",
     "text": [
      "[-0.0000000000e+00 , 7.5000000000e-01] [1.0937496004e+00 , 5.0000004359e+00] [0.0000000000e+00 , 1.1000000001e+00] [0.0000000000e+00 , 7.5000000000e-01]\n",
      "[-0.0000000000e+00 , 3.5000000001e-01] [-3.2390284822e-01 , 2.9768070824e+00] [0.0000000000e+00 , 1.1000000001e+00] [7.5000000000e-01 , 1.5000000000e+00]\n",
      "no overlap! [0.0000000000e+00 , 1.1000000001e+00] [1.5000000000e+00 , 2.2500000000e+00]\n"
     ]
    },
    {
     "data": {
      "text/plain": [
       "'[-0.32390284821131849 .. 5.0000004358456458]'"
      ]
     },
     "execution_count": 8,
     "metadata": {},
     "output_type": "execute_result"
    }
   ],
   "source": [
    "f('x', RIF(0,1.1)).str(style='brackets')"
   ]
  },
  {
   "cell_type": "code",
   "execution_count": null,
   "metadata": {},
   "outputs": [],
   "source": []
  }
 ],
 "metadata": {
  "kernelspec": {
   "display_name": "SageMath 8.0",
   "language": "",
   "name": "sagemath"
  },
  "language_info": {
   "codemirror_mode": {
    "name": "ipython",
    "version": 2
   },
   "file_extension": ".py",
   "mimetype": "text/x-python",
   "name": "python",
   "nbconvert_exporter": "python",
   "pygments_lexer": "ipython2",
   "version": "2.7.15"
  }
 },
 "nbformat": 4,
 "nbformat_minor": 2
}
